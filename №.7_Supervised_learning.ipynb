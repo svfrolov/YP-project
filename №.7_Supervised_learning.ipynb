{
  "cells": [
    {
      "cell_type": "markdown",
      "metadata": {
        "id": "view-in-github",
        "colab_type": "text"
      },
      "source": [
        "<a href=\"https://colab.research.google.com/github/svfrolov/YP-project/blob/main/%E2%84%967_%D0%9E%D1%82%D1%82%D0%BE%D0%BA_%D0%BA%D0%BB%D0%B8%D0%B5%D0%BD%D1%82%D0%BE%D0%B2.ipynb\" target=\"_parent\"><img src=\"https://colab.research.google.com/assets/colab-badge.svg\" alt=\"Open In Colab\"/></a>"
      ]
    },
    {
      "cell_type": "markdown",
      "metadata": {
        "toc": true,
        "id": "pMzV7aj8kl4K"
      },
      "source": [
        "<h1>Содержание<span class=\"tocSkip\"></span></h1>\n",
        "<div class=\"toc\"><ul class=\"toc-item\"><li><span><a href=\"#Подготовка-данных\" data-toc-modified-id=\"Подготовка-данных-1\"><span class=\"toc-item-num\">1&nbsp;&nbsp;</span>Подготовка данных</a></span></li><li><span><a href=\"#Исследование-задачи\" data-toc-modified-id=\"Исследование-задачи-2\"><span class=\"toc-item-num\">2&nbsp;&nbsp;</span>Исследование задачи</a></span></li><li><span><a href=\"#Борьба-с-дисбалансом\" data-toc-modified-id=\"Борьба-с-дисбалансом-3\"><span class=\"toc-item-num\">3&nbsp;&nbsp;</span>Борьба с дисбалансом</a></span></li><li><span><a href=\"#Тестирование-модели\" data-toc-modified-id=\"Тестирование-модели-4\"><span class=\"toc-item-num\">4&nbsp;&nbsp;</span>Тестирование модели</a></span></li><li><span><a href=\"#Чек-лист-готовности-проекта\" data-toc-modified-id=\"Чек-лист-готовности-проекта-5\"><span class=\"toc-item-num\">5&nbsp;&nbsp;</span>Чек-лист готовности проекта</a></span></li></ul></div>"
      ]
    },
    {
      "cell_type": "markdown",
      "metadata": {
        "id": "90o_7YwQkl4P"
      },
      "source": [
        "# Отток клиентов"
      ]
    },
    {
      "cell_type": "markdown",
      "metadata": {
        "id": "a7O_iI4Nkl4Q"
      },
      "source": [
        "# Описание проекта"
      ]
    },
    {
      "cell_type": "markdown",
      "metadata": {
        "id": "ETdM7Upjkl4Q"
      },
      "source": [
        "Из «Бета-Банка» стали уходить клиенты. Каждый месяц. Немного, но заметно. Банковские маркетологи посчитали: сохранять текущих клиентов дешевле, чем привлекать новых.\n",
        "\n",
        "\n",
        "Нужно спрогнозировать, уйдёт клиент из банка в ближайшее время или нет. Вам предоставлены исторические данные о поведении клиентов и расторжении договоров с банком. \n",
        "\n",
        "\n",
        "Постройте модель с предельно большим значением `F1-меры`. Чтобы сдать проект успешно, нужно довести метрику до `0.59`. Проверьте `F1-меру` на тестовой выборке самостоятельно.\n",
        "\n",
        "\n",
        "**Дополнительно измеряйте `AUC-ROC`, сравнивайте её значение с `F1-мерой`.**"
      ]
    },
    {
      "cell_type": "markdown",
      "metadata": {
        "id": "5_LuKJmikl4R"
      },
      "source": [
        "# Инструкция по выполнению проекта"
      ]
    },
    {
      "cell_type": "markdown",
      "metadata": {
        "id": "ebdtMgF-kl4R"
      },
      "source": [
        "1. Загрузите и подготовьте данные. Поясните порядок действий.\n",
        "\n",
        "\n",
        "2. Исследуйте баланс классов, обучите модель без учёта дисбаланса. Кратко опишите выводы.\n",
        "\n",
        "\n",
        "3. Улучшите качество модели, учитывая дисбаланс классов. Обучите разные модели и найдите лучшую. Кратко опишите выводы.\n",
        "\n",
        "\n",
        "4. Проведите финальное тестирование."
      ]
    },
    {
      "cell_type": "markdown",
      "metadata": {
        "id": "3_0V91lukl4S"
      },
      "source": [
        "# Описание данных"
      ]
    },
    {
      "cell_type": "markdown",
      "metadata": {
        "id": "XKyb4mbOkl4S"
      },
      "source": [
        "Данные находятся в файле `/datasets/Churn.csv` (англ. «отток клиентов»).\n",
        "\n",
        "**Признаки**\n",
        "\n",
        "* RowNumber — индекс строки в данных\n",
        "\n",
        "\n",
        "* CustomerId — уникальный идентификатор клиента\n",
        "\n",
        "\n",
        "* Surname — фамилия\n",
        "\n",
        "\n",
        "* CreditScore — кредитный рейтинг\n",
        "\n",
        "\n",
        "* Geography — страна проживания\n",
        "\n",
        "\n",
        "* Gender — пол\n",
        "\n",
        "\n",
        "* Age — возраст\n",
        "\n",
        "\n",
        "* Tenure — сколько лет человек является клиентом банка\n",
        "\n",
        "\n",
        "* Balance — баланс на счёте\n",
        "\n",
        "\n",
        "* NumOfProducts — количество продуктов банка, используемых клиентом\n",
        "\n",
        "\n",
        "* HasCrCard — наличие кредитной карты\n",
        "\n",
        "\n",
        "* IsActiveMember — активность клиента\n",
        "\n",
        "* EstimatedSalary — предполагаемая зарплата"
      ]
    },
    {
      "cell_type": "markdown",
      "metadata": {
        "id": "YcUurqzgkl4S"
      },
      "source": [
        "# Целевой признак"
      ]
    },
    {
      "cell_type": "markdown",
      "metadata": {
        "id": "NWnH8MAbkl4T"
      },
      "source": [
        "`Exited` — факт ухода клиента"
      ]
    },
    {
      "cell_type": "markdown",
      "metadata": {
        "id": "VdYi0J-rkl4U"
      },
      "source": [
        "## Подготовка данных"
      ]
    },
    {
      "cell_type": "markdown",
      "metadata": {
        "id": "co5fQiTZkl4U"
      },
      "source": [
        "Инструкция по выполнению проекта\n",
        "Загрузите и подготовьте данные. Поясните порядок действий.\n",
        "Исследуйте баланс классов, обучите модель без учёта дисбаланса. Кратко опишите выводы.\n",
        "Улучшите качество модели, учитывая дисбаланс классов. Обучите разные модели и найдите лучшую. Кратко опишите выводы.\n",
        "Проведите финальное тестирование.\n",
        "Описание данных\n",
        "Данные находятся в файле /datasets/Churn.csv (англ. «отток клиентов»). Скачать датасет\n"
      ]
    },
    {
      "cell_type": "markdown",
      "metadata": {
        "id": "3Z3JGjJgkl4U"
      },
      "source": [
        "**Смотрим признаки**\n",
        "\n",
        "**можно удалить**\n",
        "RowNumber — индекс строки в данных\n",
        "\n",
        "**можно удалить**\n",
        "CustomerId — уникальный идентификатор клиента\n",
        "\n",
        "**можно удалить**\n",
        "Surname — фамилия\n",
        "\n",
        "CreditScore — кредитный рейтинг\n",
        "\n",
        "Geography — страна проживания\n",
        "\n",
        "Gender — пол\n",
        "\n",
        "Age — возраст\n",
        "\n",
        "Tenure — сколько лет человек является клиентом банка\n",
        "\n",
        "Balance — баланс на счёте\n",
        "\n",
        "NumOfProducts — количество продуктов банка, используемых клиентом\n",
        "\n",
        "HasCrCard — наличие кредитной карты\n",
        "\n",
        "IsActiveMember — активность клиента\n",
        "\n",
        "**можно удалить**\n",
        "EstimatedSalary — предполагаемая зарплата\n",
        "\n",
        "Целевой признак\n",
        "Exited — факт ухода клиента"
      ]
    },
    {
      "cell_type": "markdown",
      "metadata": {
        "id": "ZB_CnUMBkl4V"
      },
      "source": [
        "**можно удалить данные, которые явно не влияют на целевой признак Exited клиентов**"
      ]
    },
    {
      "cell_type": "code",
      "execution_count": null,
      "metadata": {
        "id": "Tomoq8Znkl4V"
      },
      "outputs": [],
      "source": [
        "import pandas as pd\n",
        "import seaborn as sns\n",
        "import matplotlib.pyplot as plt\n",
        "import numpy as np\n",
        "from sklearn.preprocessing import OrdinalEncoder\n",
        "from sklearn.tree import DecisionTreeClassifier\n",
        "from sklearn.ensemble import RandomForestClassifier\n",
        "from sklearn.linear_model import LogisticRegression\n",
        "from sklearn.model_selection import train_test_split\n",
        "from sklearn.preprocessing import StandardScaler\n",
        "from sklearn.metrics import f1_score\n",
        "from sklearn.dummy import DummyClassifier\n",
        "from sklearn.metrics import roc_auc_score\n",
        "from sklearn.metrics import roc_curve\n",
        "from sklearn.utils import shuffle\n",
        "from sklearn.metrics import confusion_matrix\n",
        "from sklearn.metrics import recall_score\n",
        "from sklearn.metrics import accuracy_score\n",
        "from sklearn.metrics import precision_score\n",
        "RANDOM_SEED = 54"
      ]
    },
    {
      "cell_type": "code",
      "execution_count": null,
      "metadata": {
        "id": "lLmI3-5Ckl4X"
      },
      "outputs": [],
      "source": [
        "df = pd.read_csv('/datasets/Churn.csv')"
      ]
    },
    {
      "cell_type": "code",
      "execution_count": null,
      "metadata": {
        "id": "mXwDZ46Nkl4X"
      },
      "outputs": [],
      "source": [
        "rew = ['RowNumber', 'CustomerId', 'Surname', 'EstimatedSalary']\n",
        "df = df.drop(rew, axis=1)"
      ]
    },
    {
      "cell_type": "markdown",
      "metadata": {
        "id": "mKHZUgEykl4Y"
      },
      "source": [
        "**удалили данные, которые не влияют на целевой признак**"
      ]
    },
    {
      "cell_type": "code",
      "execution_count": null,
      "metadata": {
        "id": "ygedRiTtkl4Y",
        "outputId": "7e8c57e0-9317-4f95-8132-1f6a0543a59e"
      },
      "outputs": [
        {
          "name": "stdout",
          "output_type": "stream",
          "text": [
            "<class 'pandas.core.frame.DataFrame'>\n",
            "RangeIndex: 10000 entries, 0 to 9999\n",
            "Data columns (total 10 columns):\n",
            " #   Column          Non-Null Count  Dtype  \n",
            "---  ------          --------------  -----  \n",
            " 0   CreditScore     10000 non-null  int64  \n",
            " 1   Geography       10000 non-null  object \n",
            " 2   Gender          10000 non-null  object \n",
            " 3   Age             10000 non-null  int64  \n",
            " 4   Tenure          9091 non-null   float64\n",
            " 5   Balance         10000 non-null  float64\n",
            " 6   NumOfProducts   10000 non-null  int64  \n",
            " 7   HasCrCard       10000 non-null  int64  \n",
            " 8   IsActiveMember  10000 non-null  int64  \n",
            " 9   Exited          10000 non-null  int64  \n",
            "dtypes: float64(2), int64(6), object(2)\n",
            "memory usage: 781.4+ KB\n"
          ]
        },
        {
          "data": {
            "text/html": [
              "<div>\n",
              "<style scoped>\n",
              "    .dataframe tbody tr th:only-of-type {\n",
              "        vertical-align: middle;\n",
              "    }\n",
              "\n",
              "    .dataframe tbody tr th {\n",
              "        vertical-align: top;\n",
              "    }\n",
              "\n",
              "    .dataframe thead th {\n",
              "        text-align: right;\n",
              "    }\n",
              "</style>\n",
              "<table border=\"1\" class=\"dataframe\">\n",
              "  <thead>\n",
              "    <tr style=\"text-align: right;\">\n",
              "      <th></th>\n",
              "      <th>CreditScore</th>\n",
              "      <th>Geography</th>\n",
              "      <th>Gender</th>\n",
              "      <th>Age</th>\n",
              "      <th>Tenure</th>\n",
              "      <th>Balance</th>\n",
              "      <th>NumOfProducts</th>\n",
              "      <th>HasCrCard</th>\n",
              "      <th>IsActiveMember</th>\n",
              "      <th>Exited</th>\n",
              "    </tr>\n",
              "  </thead>\n",
              "  <tbody>\n",
              "    <tr>\n",
              "      <th>0</th>\n",
              "      <td>619</td>\n",
              "      <td>France</td>\n",
              "      <td>Female</td>\n",
              "      <td>42</td>\n",
              "      <td>2.0</td>\n",
              "      <td>0.00</td>\n",
              "      <td>1</td>\n",
              "      <td>1</td>\n",
              "      <td>1</td>\n",
              "      <td>1</td>\n",
              "    </tr>\n",
              "    <tr>\n",
              "      <th>1</th>\n",
              "      <td>608</td>\n",
              "      <td>Spain</td>\n",
              "      <td>Female</td>\n",
              "      <td>41</td>\n",
              "      <td>1.0</td>\n",
              "      <td>83807.86</td>\n",
              "      <td>1</td>\n",
              "      <td>0</td>\n",
              "      <td>1</td>\n",
              "      <td>0</td>\n",
              "    </tr>\n",
              "    <tr>\n",
              "      <th>2</th>\n",
              "      <td>502</td>\n",
              "      <td>France</td>\n",
              "      <td>Female</td>\n",
              "      <td>42</td>\n",
              "      <td>8.0</td>\n",
              "      <td>159660.80</td>\n",
              "      <td>3</td>\n",
              "      <td>1</td>\n",
              "      <td>0</td>\n",
              "      <td>1</td>\n",
              "    </tr>\n",
              "    <tr>\n",
              "      <th>3</th>\n",
              "      <td>699</td>\n",
              "      <td>France</td>\n",
              "      <td>Female</td>\n",
              "      <td>39</td>\n",
              "      <td>1.0</td>\n",
              "      <td>0.00</td>\n",
              "      <td>2</td>\n",
              "      <td>0</td>\n",
              "      <td>0</td>\n",
              "      <td>0</td>\n",
              "    </tr>\n",
              "    <tr>\n",
              "      <th>4</th>\n",
              "      <td>850</td>\n",
              "      <td>Spain</td>\n",
              "      <td>Female</td>\n",
              "      <td>43</td>\n",
              "      <td>2.0</td>\n",
              "      <td>125510.82</td>\n",
              "      <td>1</td>\n",
              "      <td>1</td>\n",
              "      <td>1</td>\n",
              "      <td>0</td>\n",
              "    </tr>\n",
              "    <tr>\n",
              "      <th>5</th>\n",
              "      <td>645</td>\n",
              "      <td>Spain</td>\n",
              "      <td>Male</td>\n",
              "      <td>44</td>\n",
              "      <td>8.0</td>\n",
              "      <td>113755.78</td>\n",
              "      <td>2</td>\n",
              "      <td>1</td>\n",
              "      <td>0</td>\n",
              "      <td>1</td>\n",
              "    </tr>\n",
              "    <tr>\n",
              "      <th>6</th>\n",
              "      <td>822</td>\n",
              "      <td>France</td>\n",
              "      <td>Male</td>\n",
              "      <td>50</td>\n",
              "      <td>7.0</td>\n",
              "      <td>0.00</td>\n",
              "      <td>2</td>\n",
              "      <td>1</td>\n",
              "      <td>1</td>\n",
              "      <td>0</td>\n",
              "    </tr>\n",
              "    <tr>\n",
              "      <th>7</th>\n",
              "      <td>376</td>\n",
              "      <td>Germany</td>\n",
              "      <td>Female</td>\n",
              "      <td>29</td>\n",
              "      <td>4.0</td>\n",
              "      <td>115046.74</td>\n",
              "      <td>4</td>\n",
              "      <td>1</td>\n",
              "      <td>0</td>\n",
              "      <td>1</td>\n",
              "    </tr>\n",
              "    <tr>\n",
              "      <th>8</th>\n",
              "      <td>501</td>\n",
              "      <td>France</td>\n",
              "      <td>Male</td>\n",
              "      <td>44</td>\n",
              "      <td>4.0</td>\n",
              "      <td>142051.07</td>\n",
              "      <td>2</td>\n",
              "      <td>0</td>\n",
              "      <td>1</td>\n",
              "      <td>0</td>\n",
              "    </tr>\n",
              "    <tr>\n",
              "      <th>9</th>\n",
              "      <td>684</td>\n",
              "      <td>France</td>\n",
              "      <td>Male</td>\n",
              "      <td>27</td>\n",
              "      <td>2.0</td>\n",
              "      <td>134603.88</td>\n",
              "      <td>1</td>\n",
              "      <td>1</td>\n",
              "      <td>1</td>\n",
              "      <td>0</td>\n",
              "    </tr>\n",
              "  </tbody>\n",
              "</table>\n",
              "</div>"
            ],
            "text/plain": [
              "   CreditScore Geography  Gender  Age  Tenure    Balance  NumOfProducts  \\\n",
              "0          619    France  Female   42     2.0       0.00              1   \n",
              "1          608     Spain  Female   41     1.0   83807.86              1   \n",
              "2          502    France  Female   42     8.0  159660.80              3   \n",
              "3          699    France  Female   39     1.0       0.00              2   \n",
              "4          850     Spain  Female   43     2.0  125510.82              1   \n",
              "5          645     Spain    Male   44     8.0  113755.78              2   \n",
              "6          822    France    Male   50     7.0       0.00              2   \n",
              "7          376   Germany  Female   29     4.0  115046.74              4   \n",
              "8          501    France    Male   44     4.0  142051.07              2   \n",
              "9          684    France    Male   27     2.0  134603.88              1   \n",
              "\n",
              "   HasCrCard  IsActiveMember  Exited  \n",
              "0          1               1       1  \n",
              "1          0               1       0  \n",
              "2          1               0       1  \n",
              "3          0               0       0  \n",
              "4          1               1       0  \n",
              "5          1               0       1  \n",
              "6          1               1       0  \n",
              "7          1               0       1  \n",
              "8          0               1       0  \n",
              "9          1               1       0  "
            ]
          },
          "execution_count": 5,
          "metadata": {},
          "output_type": "execute_result"
        }
      ],
      "source": [
        "df.info()\n",
        "df.head(10)"
      ]
    },
    {
      "cell_type": "code",
      "execution_count": null,
      "metadata": {
        "id": "NNuHA4T4kl4Z",
        "outputId": "5841e877-8fcc-4d0b-b429-0f56eedf867e"
      },
      "outputs": [
        {
          "data": {
            "text/html": [
              "<div>\n",
              "<style scoped>\n",
              "    .dataframe tbody tr th:only-of-type {\n",
              "        vertical-align: middle;\n",
              "    }\n",
              "\n",
              "    .dataframe tbody tr th {\n",
              "        vertical-align: top;\n",
              "    }\n",
              "\n",
              "    .dataframe thead th {\n",
              "        text-align: right;\n",
              "    }\n",
              "</style>\n",
              "<table border=\"1\" class=\"dataframe\">\n",
              "  <thead>\n",
              "    <tr style=\"text-align: right;\">\n",
              "      <th></th>\n",
              "      <th>CreditScore</th>\n",
              "      <th>Age</th>\n",
              "      <th>Tenure</th>\n",
              "      <th>Balance</th>\n",
              "      <th>NumOfProducts</th>\n",
              "      <th>HasCrCard</th>\n",
              "      <th>IsActiveMember</th>\n",
              "      <th>Exited</th>\n",
              "    </tr>\n",
              "  </thead>\n",
              "  <tbody>\n",
              "    <tr>\n",
              "      <th>count</th>\n",
              "      <td>10000.000000</td>\n",
              "      <td>10000.000000</td>\n",
              "      <td>9091.000000</td>\n",
              "      <td>10000.000000</td>\n",
              "      <td>10000.000000</td>\n",
              "      <td>10000.00000</td>\n",
              "      <td>10000.000000</td>\n",
              "      <td>10000.000000</td>\n",
              "    </tr>\n",
              "    <tr>\n",
              "      <th>mean</th>\n",
              "      <td>650.528800</td>\n",
              "      <td>38.921800</td>\n",
              "      <td>4.997690</td>\n",
              "      <td>76485.889288</td>\n",
              "      <td>1.530200</td>\n",
              "      <td>0.70550</td>\n",
              "      <td>0.515100</td>\n",
              "      <td>0.203700</td>\n",
              "    </tr>\n",
              "    <tr>\n",
              "      <th>std</th>\n",
              "      <td>96.653299</td>\n",
              "      <td>10.487806</td>\n",
              "      <td>2.894723</td>\n",
              "      <td>62397.405202</td>\n",
              "      <td>0.581654</td>\n",
              "      <td>0.45584</td>\n",
              "      <td>0.499797</td>\n",
              "      <td>0.402769</td>\n",
              "    </tr>\n",
              "    <tr>\n",
              "      <th>min</th>\n",
              "      <td>350.000000</td>\n",
              "      <td>18.000000</td>\n",
              "      <td>0.000000</td>\n",
              "      <td>0.000000</td>\n",
              "      <td>1.000000</td>\n",
              "      <td>0.00000</td>\n",
              "      <td>0.000000</td>\n",
              "      <td>0.000000</td>\n",
              "    </tr>\n",
              "    <tr>\n",
              "      <th>25%</th>\n",
              "      <td>584.000000</td>\n",
              "      <td>32.000000</td>\n",
              "      <td>2.000000</td>\n",
              "      <td>0.000000</td>\n",
              "      <td>1.000000</td>\n",
              "      <td>0.00000</td>\n",
              "      <td>0.000000</td>\n",
              "      <td>0.000000</td>\n",
              "    </tr>\n",
              "    <tr>\n",
              "      <th>50%</th>\n",
              "      <td>652.000000</td>\n",
              "      <td>37.000000</td>\n",
              "      <td>5.000000</td>\n",
              "      <td>97198.540000</td>\n",
              "      <td>1.000000</td>\n",
              "      <td>1.00000</td>\n",
              "      <td>1.000000</td>\n",
              "      <td>0.000000</td>\n",
              "    </tr>\n",
              "    <tr>\n",
              "      <th>75%</th>\n",
              "      <td>718.000000</td>\n",
              "      <td>44.000000</td>\n",
              "      <td>7.000000</td>\n",
              "      <td>127644.240000</td>\n",
              "      <td>2.000000</td>\n",
              "      <td>1.00000</td>\n",
              "      <td>1.000000</td>\n",
              "      <td>0.000000</td>\n",
              "    </tr>\n",
              "    <tr>\n",
              "      <th>max</th>\n",
              "      <td>850.000000</td>\n",
              "      <td>92.000000</td>\n",
              "      <td>10.000000</td>\n",
              "      <td>250898.090000</td>\n",
              "      <td>4.000000</td>\n",
              "      <td>1.00000</td>\n",
              "      <td>1.000000</td>\n",
              "      <td>1.000000</td>\n",
              "    </tr>\n",
              "  </tbody>\n",
              "</table>\n",
              "</div>"
            ],
            "text/plain": [
              "        CreditScore           Age       Tenure        Balance  NumOfProducts  \\\n",
              "count  10000.000000  10000.000000  9091.000000   10000.000000   10000.000000   \n",
              "mean     650.528800     38.921800     4.997690   76485.889288       1.530200   \n",
              "std       96.653299     10.487806     2.894723   62397.405202       0.581654   \n",
              "min      350.000000     18.000000     0.000000       0.000000       1.000000   \n",
              "25%      584.000000     32.000000     2.000000       0.000000       1.000000   \n",
              "50%      652.000000     37.000000     5.000000   97198.540000       1.000000   \n",
              "75%      718.000000     44.000000     7.000000  127644.240000       2.000000   \n",
              "max      850.000000     92.000000    10.000000  250898.090000       4.000000   \n",
              "\n",
              "         HasCrCard  IsActiveMember        Exited  \n",
              "count  10000.00000    10000.000000  10000.000000  \n",
              "mean       0.70550        0.515100      0.203700  \n",
              "std        0.45584        0.499797      0.402769  \n",
              "min        0.00000        0.000000      0.000000  \n",
              "25%        0.00000        0.000000      0.000000  \n",
              "50%        1.00000        1.000000      0.000000  \n",
              "75%        1.00000        1.000000      0.000000  \n",
              "max        1.00000        1.000000      1.000000  "
            ]
          },
          "execution_count": 6,
          "metadata": {},
          "output_type": "execute_result"
        }
      ],
      "source": [
        "df.describe()"
      ]
    },
    {
      "cell_type": "markdown",
      "metadata": {
        "id": "KmS1YJb3kl4a"
      },
      "source": [
        "**пропусков нет** данные полные, исключение \"**Tenure** — сколько лет человек является клиентом банка\" (пропуски связаны вероятно с тем, что клиент новый)"
      ]
    },
    {
      "cell_type": "code",
      "execution_count": null,
      "metadata": {
        "id": "YsOGZnJzkl4b"
      },
      "outputs": [],
      "source": [
        "df['Tenure'] = df['Tenure'].fillna(0).astype('int64')"
      ]
    },
    {
      "cell_type": "markdown",
      "metadata": {
        "id": "vgd_C1APkl4b"
      },
      "source": [
        "заполнили нолем"
      ]
    },
    {
      "cell_type": "markdown",
      "metadata": {
        "id": "tUF3Z8Lwkl4b"
      },
      "source": [
        "## Исследование задачи"
      ]
    },
    {
      "cell_type": "code",
      "execution_count": null,
      "metadata": {
        "id": "KM1hZgl1kl4b",
        "outputId": "0fc9fa56-4521-4b24-ad3e-2fbd0d2a8b14"
      },
      "outputs": [
        {
          "data": {
            "image/png": "[encoded data removed]",
            "text/plain": [
              "<Figure size 1080x1440 with 9 Axes>"
            ]
          },
          "metadata": {
            "needs_background": "light"
          },
          "output_type": "display_data"
        }
      ],
      "source": [
        "df.hist(figsize=(15, 20));"
      ]
    },
    {
      "cell_type": "markdown",
      "metadata": {
        "id": "hGDgSypMkl4c"
      },
      "source": [
        "часть не держит денег на балансе, в банке 4 продукта, кридитки у большинства, активных поровну, в **Exited** видно, что ушло порядка 20%"
      ]
    },
    {
      "cell_type": "code",
      "execution_count": null,
      "metadata": {
        "scrolled": true,
        "id": "QWnbK-jLkl4d",
        "outputId": "1da9a185-681c-43fb-ddc9-ac6ea18b23fa"
      },
      "outputs": [
        {
          "data": {
            "text/html": [
              "<div>\n",
              "<style scoped>\n",
              "    .dataframe tbody tr th:only-of-type {\n",
              "        vertical-align: middle;\n",
              "    }\n",
              "\n",
              "    .dataframe tbody tr th {\n",
              "        vertical-align: top;\n",
              "    }\n",
              "\n",
              "    .dataframe thead th {\n",
              "        text-align: right;\n",
              "    }\n",
              "</style>\n",
              "<table border=\"1\" class=\"dataframe\">\n",
              "  <thead>\n",
              "    <tr style=\"text-align: right;\">\n",
              "      <th></th>\n",
              "      <th>CreditScore</th>\n",
              "      <th>Age</th>\n",
              "      <th>Tenure</th>\n",
              "      <th>Balance</th>\n",
              "      <th>NumOfProducts</th>\n",
              "      <th>HasCrCard</th>\n",
              "      <th>IsActiveMember</th>\n",
              "      <th>Exited</th>\n",
              "    </tr>\n",
              "  </thead>\n",
              "  <tbody>\n",
              "    <tr>\n",
              "      <th>CreditScore</th>\n",
              "      <td>1.000000</td>\n",
              "      <td>-0.003965</td>\n",
              "      <td>0.003087</td>\n",
              "      <td>0.006268</td>\n",
              "      <td>0.012238</td>\n",
              "      <td>-0.005458</td>\n",
              "      <td>0.025651</td>\n",
              "      <td>-0.027094</td>\n",
              "    </tr>\n",
              "    <tr>\n",
              "      <th>Age</th>\n",
              "      <td>-0.003965</td>\n",
              "      <td>1.000000</td>\n",
              "      <td>-0.007368</td>\n",
              "      <td>0.028308</td>\n",
              "      <td>-0.030680</td>\n",
              "      <td>-0.011721</td>\n",
              "      <td>0.085472</td>\n",
              "      <td>0.285323</td>\n",
              "    </tr>\n",
              "    <tr>\n",
              "      <th>Tenure</th>\n",
              "      <td>0.003087</td>\n",
              "      <td>-0.007368</td>\n",
              "      <td>1.000000</td>\n",
              "      <td>-0.005821</td>\n",
              "      <td>0.010106</td>\n",
              "      <td>0.021387</td>\n",
              "      <td>-0.025856</td>\n",
              "      <td>-0.013319</td>\n",
              "    </tr>\n",
              "    <tr>\n",
              "      <th>Balance</th>\n",
              "      <td>0.006268</td>\n",
              "      <td>0.028308</td>\n",
              "      <td>-0.005821</td>\n",
              "      <td>1.000000</td>\n",
              "      <td>-0.304180</td>\n",
              "      <td>-0.014858</td>\n",
              "      <td>-0.010084</td>\n",
              "      <td>0.118533</td>\n",
              "    </tr>\n",
              "    <tr>\n",
              "      <th>NumOfProducts</th>\n",
              "      <td>0.012238</td>\n",
              "      <td>-0.030680</td>\n",
              "      <td>0.010106</td>\n",
              "      <td>-0.304180</td>\n",
              "      <td>1.000000</td>\n",
              "      <td>0.003183</td>\n",
              "      <td>0.009612</td>\n",
              "      <td>-0.047820</td>\n",
              "    </tr>\n",
              "    <tr>\n",
              "      <th>HasCrCard</th>\n",
              "      <td>-0.005458</td>\n",
              "      <td>-0.011721</td>\n",
              "      <td>0.021387</td>\n",
              "      <td>-0.014858</td>\n",
              "      <td>0.003183</td>\n",
              "      <td>1.000000</td>\n",
              "      <td>-0.011866</td>\n",
              "      <td>-0.007138</td>\n",
              "    </tr>\n",
              "    <tr>\n",
              "      <th>IsActiveMember</th>\n",
              "      <td>0.025651</td>\n",
              "      <td>0.085472</td>\n",
              "      <td>-0.025856</td>\n",
              "      <td>-0.010084</td>\n",
              "      <td>0.009612</td>\n",
              "      <td>-0.011866</td>\n",
              "      <td>1.000000</td>\n",
              "      <td>-0.156128</td>\n",
              "    </tr>\n",
              "    <tr>\n",
              "      <th>Exited</th>\n",
              "      <td>-0.027094</td>\n",
              "      <td>0.285323</td>\n",
              "      <td>-0.013319</td>\n",
              "      <td>0.118533</td>\n",
              "      <td>-0.047820</td>\n",
              "      <td>-0.007138</td>\n",
              "      <td>-0.156128</td>\n",
              "      <td>1.000000</td>\n",
              "    </tr>\n",
              "  </tbody>\n",
              "</table>\n",
              "</div>"
            ],
            "text/plain": [
              "                CreditScore       Age    Tenure   Balance  NumOfProducts  \\\n",
              "CreditScore        1.000000 -0.003965  0.003087  0.006268       0.012238   \n",
              "Age               -0.003965  1.000000 -0.007368  0.028308      -0.030680   \n",
              "Tenure             0.003087 -0.007368  1.000000 -0.005821       0.010106   \n",
              "Balance            0.006268  0.028308 -0.005821  1.000000      -0.304180   \n",
              "NumOfProducts      0.012238 -0.030680  0.010106 -0.304180       1.000000   \n",
              "HasCrCard         -0.005458 -0.011721  0.021387 -0.014858       0.003183   \n",
              "IsActiveMember     0.025651  0.085472 -0.025856 -0.010084       0.009612   \n",
              "Exited            -0.027094  0.285323 -0.013319  0.118533      -0.047820   \n",
              "\n",
              "                HasCrCard  IsActiveMember    Exited  \n",
              "CreditScore     -0.005458        0.025651 -0.027094  \n",
              "Age             -0.011721        0.085472  0.285323  \n",
              "Tenure           0.021387       -0.025856 -0.013319  \n",
              "Balance         -0.014858       -0.010084  0.118533  \n",
              "NumOfProducts    0.003183        0.009612 -0.047820  \n",
              "HasCrCard        1.000000       -0.011866 -0.007138  \n",
              "IsActiveMember  -0.011866        1.000000 -0.156128  \n",
              "Exited          -0.007138       -0.156128  1.000000  "
            ]
          },
          "execution_count": 9,
          "metadata": {},
          "output_type": "execute_result"
        }
      ],
      "source": [
        "df.corr()"
      ]
    },
    {
      "cell_type": "code",
      "execution_count": null,
      "metadata": {
        "id": "kaFAfyGdkl4d",
        "outputId": "e30b8e4b-eace-460c-cb00-910b5585ea34"
      },
      "outputs": [
        {
          "data": {
            "image/png": "[encoded data removed]",
            "text/plain": [
              "<Figure size 1008x576 with 2 Axes>"
            ]
          },
          "metadata": {
            "needs_background": "light"
          },
          "output_type": "display_data"
        }
      ],
      "source": [
        "matr = df.corr()\n",
        "plt.figure(figsize=(14,8))\n",
        "sns.heatmap(matr, annot = True, cmap=\"YlGnBu\", square=False)\n",
        "plt.title('Матрица корреляций признаков', fontsize = 20)\n",
        "plt.xlabel('Признаки', fontsize = 14) # x-axis label with fontsize 15\n",
        "plt.ylabel('Признаки', fontsize = 14) # y-axis label with fontsize 15\n",
        "plt.show()"
      ]
    },
    {
      "cell_type": "markdown",
      "metadata": {
        "id": "RpaaM2xPkl4e"
      },
      "source": [
        "Явной корреляции с **Exited** не наблюдается"
      ]
    },
    {
      "cell_type": "code",
      "execution_count": null,
      "metadata": {
        "id": "egKUYpXLkl4e",
        "outputId": "370ad7bb-083e-420b-f599-678a642304b3"
      },
      "outputs": [
        {
          "data": {
            "text/plain": [
              "<AxesSubplot:title={'center':'сколько лет является клиентом'}, xlabel='Tenure'>"
            ]
          },
          "execution_count": 11,
          "metadata": {},
          "output_type": "execute_result"
        },
        {
          "data": {
            "image/png": "[encoded data removed]",
            "text/plain": [
              "<Figure size 1440x720 with 1 Axes>"
            ]
          },
          "metadata": {
            "needs_background": "light"
          },
          "output_type": "display_data"
        }
      ],
      "source": [
        "df.groupby('Tenure')['Exited'].count().plot(figsize=(20,10), title=\"сколько лет является клиентом\")"
      ]
    },
    {
      "cell_type": "markdown",
      "metadata": {
        "id": "StZK5OAGkl4f"
      },
      "source": [
        "около 10 лет клиенты остаются в банке"
      ]
    },
    {
      "cell_type": "code",
      "execution_count": null,
      "metadata": {
        "id": "Jf178u5Pkl4f",
        "outputId": "3ece1404-ac8f-4f3e-81be-02e20d2c4caf"
      },
      "outputs": [
        {
          "data": {
            "text/plain": [
              "<AxesSubplot:title={'center':'Возраст'}, xlabel='Age'>"
            ]
          },
          "execution_count": 12,
          "metadata": {},
          "output_type": "execute_result"
        },
        {
          "data": {
            "image/png": "[encoded data removed]",
            "text/plain": [
              "<Figure size 1440x720 with 1 Axes>"
            ]
          },
          "metadata": {
            "needs_background": "light"
          },
          "output_type": "display_data"
        }
      ],
      "source": [
        "df.groupby('Age')['Exited'].count().plot(figsize=(20,10), title=\"Возраст\")"
      ]
    },
    {
      "cell_type": "markdown",
      "metadata": {
        "id": "86_c56htkl4f"
      },
      "source": [
        "судя по грайику основной отток от 25-55, скорее всего как и везде, самый активный возраст, хотя в тот же момент клиенты являются постоянными около 10 лет"
      ]
    },
    {
      "cell_type": "code",
      "execution_count": null,
      "metadata": {
        "id": "6uK80QX1kl4g",
        "outputId": "c550a31d-2d07-40c1-cf40-e266f2fe0c02"
      },
      "outputs": [
        {
          "data": {
            "text/plain": [
              "<AxesSubplot:title={'center':'Баланс на счете'}, xlabel='Exited'>"
            ]
          },
          "execution_count": 13,
          "metadata": {},
          "output_type": "execute_result"
        },
        {
          "data": {
            "image/png": "[encoded data removed]",
            "text/plain": [
              "<Figure size 1440x720 with 1 Axes>"
            ]
          },
          "metadata": {
            "needs_background": "light"
          },
          "output_type": "display_data"
        }
      ],
      "source": [
        "df.groupby('Exited')['Balance'].mean().plot(figsize=(20,10), title=\"Баланс на счете\", kind='bar')"
      ]
    },
    {
      "cell_type": "markdown",
      "metadata": {
        "id": "MVg6bLyOkl4g"
      },
      "source": [
        "различие есть, но сильной разницы нет, влияет не существенно, но видно, что уходят клиенты с балансом побольше"
      ]
    },
    {
      "cell_type": "code",
      "execution_count": null,
      "metadata": {
        "id": "1fYBWNUykl4h",
        "outputId": "040de457-8341-4b2f-f68e-ca57af1fcace"
      },
      "outputs": [
        {
          "data": {
            "text/plain": [
              "<AxesSubplot:title={'center':'Наличие кредитки'}, xlabel='HasCrCard'>"
            ]
          },
          "execution_count": 14,
          "metadata": {},
          "output_type": "execute_result"
        },
        {
          "data": {
            "image/png": "[encoded data removed]",
            "text/plain": [
              "<Figure size 1440x720 with 1 Axes>"
            ]
          },
          "metadata": {
            "needs_background": "light"
          },
          "output_type": "display_data"
        }
      ],
      "source": [
        "df.groupby('HasCrCard')['Exited'].mean().plot(figsize=(20,10), title=\"Наличие кредитки\", kind='bar')"
      ]
    },
    {
      "cell_type": "markdown",
      "metadata": {
        "id": "4m-2WR-lkl4h"
      },
      "source": [
        "наличие кредитки не влияет"
      ]
    },
    {
      "cell_type": "code",
      "execution_count": null,
      "metadata": {
        "id": "Qnk_Ggjykl4i",
        "outputId": "304695e8-77ef-476c-890e-96d1a83e145a"
      },
      "outputs": [
        {
          "data": {
            "text/plain": [
              "<AxesSubplot:title={'center':'Количество продуктов банка'}, xlabel='NumOfProducts'>"
            ]
          },
          "execution_count": 15,
          "metadata": {},
          "output_type": "execute_result"
        },
        {
          "data": {
            "image/png": "[encoded data removed]",
            "text/plain": [
              "<Figure size 1440x720 with 1 Axes>"
            ]
          },
          "metadata": {
            "needs_background": "light"
          },
          "output_type": "display_data"
        }
      ],
      "source": [
        "df.groupby('NumOfProducts')['Exited'].count().plot(figsize=(20,10), title=\"Количество продуктов банка\", kind='bar')"
      ]
    },
    {
      "cell_type": "markdown",
      "metadata": {
        "id": "_p0_h1hBkl4i"
      },
      "source": [
        "видно что 1-2 продукта большинство"
      ]
    },
    {
      "cell_type": "code",
      "execution_count": null,
      "metadata": {
        "id": "DvAvKMVpkl4j",
        "outputId": "58387306-42ed-4a1a-c6c3-0ea50e96cd33"
      },
      "outputs": [
        {
          "data": {
            "text/html": [
              "<div>\n",
              "<style scoped>\n",
              "    .dataframe tbody tr th:only-of-type {\n",
              "        vertical-align: middle;\n",
              "    }\n",
              "\n",
              "    .dataframe tbody tr th {\n",
              "        vertical-align: top;\n",
              "    }\n",
              "\n",
              "    .dataframe thead th {\n",
              "        text-align: right;\n",
              "    }\n",
              "</style>\n",
              "<table border=\"1\" class=\"dataframe\">\n",
              "  <thead>\n",
              "    <tr style=\"text-align: right;\">\n",
              "      <th></th>\n",
              "      <th>CreditScore</th>\n",
              "      <th>Age</th>\n",
              "      <th>Tenure</th>\n",
              "      <th>Balance</th>\n",
              "      <th>NumOfProducts</th>\n",
              "      <th>HasCrCard</th>\n",
              "      <th>IsActiveMember</th>\n",
              "      <th>Exited</th>\n",
              "    </tr>\n",
              "  </thead>\n",
              "  <tbody>\n",
              "    <tr>\n",
              "      <th>count</th>\n",
              "      <td>10000.000000</td>\n",
              "      <td>10000.000000</td>\n",
              "      <td>10000.000000</td>\n",
              "      <td>10000.000000</td>\n",
              "      <td>10000.000000</td>\n",
              "      <td>10000.00000</td>\n",
              "      <td>10000.000000</td>\n",
              "      <td>10000.000000</td>\n",
              "    </tr>\n",
              "    <tr>\n",
              "      <th>mean</th>\n",
              "      <td>650.528800</td>\n",
              "      <td>38.921800</td>\n",
              "      <td>4.543400</td>\n",
              "      <td>76485.889288</td>\n",
              "      <td>1.530200</td>\n",
              "      <td>0.70550</td>\n",
              "      <td>0.515100</td>\n",
              "      <td>0.203700</td>\n",
              "    </tr>\n",
              "    <tr>\n",
              "      <th>std</th>\n",
              "      <td>96.653299</td>\n",
              "      <td>10.487806</td>\n",
              "      <td>3.111573</td>\n",
              "      <td>62397.405202</td>\n",
              "      <td>0.581654</td>\n",
              "      <td>0.45584</td>\n",
              "      <td>0.499797</td>\n",
              "      <td>0.402769</td>\n",
              "    </tr>\n",
              "    <tr>\n",
              "      <th>min</th>\n",
              "      <td>350.000000</td>\n",
              "      <td>18.000000</td>\n",
              "      <td>0.000000</td>\n",
              "      <td>0.000000</td>\n",
              "      <td>1.000000</td>\n",
              "      <td>0.00000</td>\n",
              "      <td>0.000000</td>\n",
              "      <td>0.000000</td>\n",
              "    </tr>\n",
              "    <tr>\n",
              "      <th>25%</th>\n",
              "      <td>584.000000</td>\n",
              "      <td>32.000000</td>\n",
              "      <td>2.000000</td>\n",
              "      <td>0.000000</td>\n",
              "      <td>1.000000</td>\n",
              "      <td>0.00000</td>\n",
              "      <td>0.000000</td>\n",
              "      <td>0.000000</td>\n",
              "    </tr>\n",
              "    <tr>\n",
              "      <th>50%</th>\n",
              "      <td>652.000000</td>\n",
              "      <td>37.000000</td>\n",
              "      <td>4.000000</td>\n",
              "      <td>97198.540000</td>\n",
              "      <td>1.000000</td>\n",
              "      <td>1.00000</td>\n",
              "      <td>1.000000</td>\n",
              "      <td>0.000000</td>\n",
              "    </tr>\n",
              "    <tr>\n",
              "      <th>75%</th>\n",
              "      <td>718.000000</td>\n",
              "      <td>44.000000</td>\n",
              "      <td>7.000000</td>\n",
              "      <td>127644.240000</td>\n",
              "      <td>2.000000</td>\n",
              "      <td>1.00000</td>\n",
              "      <td>1.000000</td>\n",
              "      <td>0.000000</td>\n",
              "    </tr>\n",
              "    <tr>\n",
              "      <th>max</th>\n",
              "      <td>850.000000</td>\n",
              "      <td>92.000000</td>\n",
              "      <td>10.000000</td>\n",
              "      <td>250898.090000</td>\n",
              "      <td>4.000000</td>\n",
              "      <td>1.00000</td>\n",
              "      <td>1.000000</td>\n",
              "      <td>1.000000</td>\n",
              "    </tr>\n",
              "  </tbody>\n",
              "</table>\n",
              "</div>"
            ],
            "text/plain": [
              "        CreditScore           Age        Tenure        Balance  NumOfProducts  \\\n",
              "count  10000.000000  10000.000000  10000.000000   10000.000000   10000.000000   \n",
              "mean     650.528800     38.921800      4.543400   76485.889288       1.530200   \n",
              "std       96.653299     10.487806      3.111573   62397.405202       0.581654   \n",
              "min      350.000000     18.000000      0.000000       0.000000       1.000000   \n",
              "25%      584.000000     32.000000      2.000000       0.000000       1.000000   \n",
              "50%      652.000000     37.000000      4.000000   97198.540000       1.000000   \n",
              "75%      718.000000     44.000000      7.000000  127644.240000       2.000000   \n",
              "max      850.000000     92.000000     10.000000  250898.090000       4.000000   \n",
              "\n",
              "         HasCrCard  IsActiveMember        Exited  \n",
              "count  10000.00000    10000.000000  10000.000000  \n",
              "mean       0.70550        0.515100      0.203700  \n",
              "std        0.45584        0.499797      0.402769  \n",
              "min        0.00000        0.000000      0.000000  \n",
              "25%        0.00000        0.000000      0.000000  \n",
              "50%        1.00000        1.000000      0.000000  \n",
              "75%        1.00000        1.000000      0.000000  \n",
              "max        1.00000        1.000000      1.000000  "
            ]
          },
          "execution_count": 16,
          "metadata": {},
          "output_type": "execute_result"
        }
      ],
      "source": [
        "df.describe()"
      ]
    },
    {
      "cell_type": "code",
      "execution_count": null,
      "metadata": {
        "id": "XRyMTfL9kl4k"
      },
      "outputs": [],
      "source": [
        "data = pd.get_dummies(df, drop_first=True)"
      ]
    },
    {
      "cell_type": "markdown",
      "metadata": {
        "id": "LQLUcsaGkl4k"
      },
      "source": [
        "**избавили от категориальных признаков**"
      ]
    },
    {
      "cell_type": "code",
      "execution_count": null,
      "metadata": {
        "id": "2wzW_UUOkl4l"
      },
      "outputs": [],
      "source": [
        "# объявим две переменные\n",
        "\n",
        "features = data.drop(['Exited'], axis=1)\n",
        "target = data['Exited']"
      ]
    },
    {
      "cell_type": "code",
      "execution_count": null,
      "metadata": {
        "id": "SDpvkOd7kl4l"
      },
      "outputs": [],
      "source": [
        "#разбиваем данные\n",
        "\n",
        "(features_train, features_valid, \n",
        " target_train, target_valid) = train_test_split(features, \n",
        "                                                target, random_state=RANDOM_SEED, test_size=0.4)"
      ]
    },
    {
      "cell_type": "code",
      "execution_count": null,
      "metadata": {
        "id": "-dI2xTVfkl4m"
      },
      "outputs": [],
      "source": [
        "(features_valid, features_test, \n",
        " target_valid, target_test) = train_test_split(features_valid, \n",
        "                                               target_valid, random_state=RANDOM_SEED, test_size=0.5)"
      ]
    },
    {
      "cell_type": "code",
      "execution_count": null,
      "metadata": {
        "id": "PCq0VhQHkl4m",
        "outputId": "c3a1daa8-04b7-471a-baea-05613092462c"
      },
      "outputs": [
        {
          "name": "stdout",
          "output_type": "stream",
          "text": [
            "(6000, 10) (2000, 10) (2000, 10)\n",
            "(6000,) (2000,) (2000,)\n"
          ]
        }
      ],
      "source": [
        "print(features_train.shape, features_valid.shape, features_test.shape)\n",
        "print(target_train.shape, target_valid.shape, target_test.shape)"
      ]
    },
    {
      "cell_type": "markdown",
      "metadata": {
        "id": "rZur0y-mkl4n"
      },
      "source": [
        "Cтандартизация данных с помощью StandardScaler\n",
        "\n",
        "https://data-scientists.ru/content/masshtabirovanie"
      ]
    },
    {
      "cell_type": "code",
      "execution_count": null,
      "metadata": {
        "scrolled": true,
        "id": "pV3C7dcVkl4o",
        "outputId": "1a07c21b-3445-4272-840d-b7d069c01b80"
      },
      "outputs": [
        {
          "name": "stderr",
          "output_type": "stream",
          "text": [
            "/tmp/ipykernel_298/844510366.py:7: SettingWithCopyWarning: \n",
            "A value is trying to be set on a copy of a slice from a DataFrame.\n",
            "Try using .loc[row_indexer,col_indexer] = value instead\n",
            "\n",
            "See the caveats in the documentation: https://pandas.pydata.org/pandas-docs/stable/user_guide/indexing.html#returning-a-view-versus-a-copy\n",
            "  features_train[numeric] = scaler.transform(features_train[numeric]);\n",
            "/opt/conda/lib/python3.9/site-packages/pandas/core/indexing.py:1738: SettingWithCopyWarning: \n",
            "A value is trying to be set on a copy of a slice from a DataFrame.\n",
            "Try using .loc[row_indexer,col_indexer] = value instead\n",
            "\n",
            "See the caveats in the documentation: https://pandas.pydata.org/pandas-docs/stable/user_guide/indexing.html#returning-a-view-versus-a-copy\n",
            "  self._setitem_single_column(loc, value[:, i].tolist(), pi)\n"
          ]
        }
      ],
      "source": [
        "numeric = ['CreditScore', 'Age', 'Tenure', 'Balance', 'NumOfProducts', 'HasCrCard', 'IsActiveMember']\n",
        "\n",
        "scaler = StandardScaler()\n",
        "\n",
        "scaler.fit(features_train[numeric]) \n",
        "\n",
        "features_train[numeric] = scaler.transform(features_train[numeric]);\n",
        "features_valid[numeric] = scaler.transform(features_valid[numeric]);\n",
        "features_test[numeric] = scaler.transform(features_test[numeric]);"
      ]
    },
    {
      "cell_type": "markdown",
      "metadata": {
        "id": "lp03ciF0kl4o"
      },
      "source": [
        "Размер выборки"
      ]
    },
    {
      "cell_type": "code",
      "execution_count": null,
      "metadata": {
        "id": "cj0CDx5tkl4p",
        "outputId": "b76b831d-034e-4032-a2b7-ba15db07b445"
      },
      "outputs": [
        {
          "name": "stdout",
          "output_type": "stream",
          "text": [
            "(2000, 10)\n",
            "(2000,)\n"
          ]
        }
      ],
      "source": [
        "print(features_valid.shape)\n",
        "print(target_valid.shape)"
      ]
    },
    {
      "cell_type": "code",
      "execution_count": null,
      "metadata": {
        "id": "GsGr44p-kl4p",
        "outputId": "006a0a25-f128-409a-f3f5-8bc951cd55aa"
      },
      "outputs": [
        {
          "data": {
            "text/plain": [
              "0    7963\n",
              "1    2037\n",
              "Name: Exited, dtype: int64"
            ]
          },
          "execution_count": 25,
          "metadata": {},
          "output_type": "execute_result"
        }
      ],
      "source": [
        "target.value_counts()"
      ]
    },
    {
      "cell_type": "markdown",
      "metadata": {
        "id": "LMAHDV-qkl4q"
      },
      "source": [
        "соотношение 1:4"
      ]
    },
    {
      "cell_type": "markdown",
      "metadata": {
        "id": "e-P2k3brkl4r"
      },
      "source": [
        "DecisionTreeClassifier"
      ]
    },
    {
      "cell_type": "code",
      "execution_count": null,
      "metadata": {
        "scrolled": false,
        "id": "_G21H1SAkl4r",
        "outputId": "6f778ac2-1666-4f91-94ad-61026f3ea609"
      },
      "outputs": [
        {
          "name": "stdout",
          "output_type": "stream",
          "text": [
            "Значение - maxdepth: 1 F1: 0.0\n",
            "Значение - maxdepth: 2 F1: 0.4939024390243902\n",
            "Значение - maxdepth: 3 F1: 0.3968871595330739\n",
            "Значение - maxdepth: 4 F1: 0.5117845117845118\n",
            "Значение - maxdepth: 5 F1: 0.47299813780260713\n",
            "Значение - maxdepth: 6 F1: 0.5596026490066226\n",
            "Значение - maxdepth: 7 F1: 0.5551948051948051\n",
            "Значение - maxdepth: 8 F1: 0.5941176470588235\n",
            "Значение - maxdepth: 9 F1: 0.547945205479452\n",
            "Значение - maxdepth: 10 F1: 0.5633001422475107\n",
            "Значение - maxdepth: 11 F1: 0.5620542082738944\n",
            "Значение - maxdepth: 12 F1: 0.5457025920873124\n",
            "Значение - maxdepth: 13 F1: 0.5459533607681756\n",
            "Значение - maxdepth: 14 F1: 0.5378590078328982\n",
            "Значение - maxdepth: 15 F1: 0.5405405405405406\n",
            "Значение - maxdepth: 16 F1: 0.5508684863523573\n",
            "Значение - maxdepth: 17 F1: 0.5346534653465347\n",
            "Значение - maxdepth: 18 F1: 0.5294117647058824\n",
            "Значение - maxdepth: 19 F1: 0.5304136253041363\n",
            "Значение - maxdepth: 20 F1: 0.5328467153284672\n",
            "Значение - maxdepth: 21 F1: 0.5284848484848486\n",
            "Значение - maxdepth: 22 F1: 0.5317365269461078\n",
            "Значение - maxdepth: 23 F1: 0.5244338498212157\n",
            "Значение - maxdepth: 24 F1: 0.5235223160434258\n",
            "Значение - maxdepth: 25 F1: 0.5235223160434258\n",
            "Значение - maxdepth: 26 F1: 0.5235223160434258\n",
            "Значение - maxdepth: 27 F1: 0.5235223160434258\n",
            "Значение - maxdepth: 28 F1: 0.5235223160434258\n",
            "Значение - maxdepth: 29 F1: 0.5235223160434258\n",
            "Значение - maxdepth: 30 F1: 0.5235223160434258\n",
            "Значение - maxdepth: 31 F1: 0.5235223160434258\n"
          ]
        }
      ],
      "source": [
        "for depth in range(1, 32):\n",
        "\tmodel_dec = DecisionTreeClassifier(random_state=RANDOM_SEED, max_depth=depth)\n",
        "\tmodel_dec.fit(features_train, target_train) \n",
        "\tpredictions = model_dec.predict(features_valid)\n",
        "\tprint('Значение - maxdepth:', depth, 'F1:', f1_score(predictions, target_valid))"
      ]
    },
    {
      "cell_type": "markdown",
      "metadata": {
        "id": "4P3_f7-ykl4s"
      },
      "source": [
        "**Лучшее значение maxdepth: 8 F1: 0.5941176470588235**"
      ]
    },
    {
      "cell_type": "markdown",
      "metadata": {
        "id": "1GuVYJHFkl4s"
      },
      "source": [
        "RandomForestClassifier"
      ]
    },
    {
      "cell_type": "code",
      "execution_count": null,
      "metadata": {
        "scrolled": false,
        "id": "Ujnq9h7Ykl4t",
        "outputId": "e4eed235-db78-43ac-df5b-998335fee047"
      },
      "outputs": [
        {
          "name": "stdout",
          "output_type": "stream",
          "text": [
            "Значение - maxdepth: 1 F1: 0.0\n",
            "Значение - est: 1 F1: 0.0\n",
            "Значение - maxdepth: 2 F1: 0.49605055292259087\n",
            "Значение - est: 1 F1: 0.49605055292259087\n",
            "Значение - maxdepth: 3 F1: 0.44074074074074077\n",
            "Значение - est: 1 F1: 0.44074074074074077\n",
            "Значение - maxdepth: 4 F1: 0.46785714285714286\n",
            "Значение - est: 1 F1: 0.46785714285714286\n",
            "Значение - maxdepth: 5 F1: 0.48857644991212656\n",
            "Значение - est: 1 F1: 0.48857644991212656\n",
            "Значение - maxdepth: 6 F1: 0.45\n",
            "Значение - est: 1 F1: 0.45\n",
            "Значение - maxdepth: 7 F1: 0.5644916540212443\n",
            "Значение - est: 1 F1: 0.5644916540212443\n",
            "Значение - maxdepth: 8 F1: 0.5540334855403348\n",
            "Значение - est: 1 F1: 0.5540334855403348\n",
            "Значение - maxdepth: 9 F1: 0.5571847507331378\n",
            "Значение - est: 1 F1: 0.5571847507331378\n",
            "Значение - maxdepth: 1 F1: 0.0\n",
            "Значение - est: 3 F1: 0.0\n",
            "Значение - maxdepth: 2 F1: 0.5209302325581395\n",
            "Значение - est: 3 F1: 0.5209302325581395\n",
            "Значение - maxdepth: 3 F1: 0.4567219152854512\n",
            "Значение - est: 3 F1: 0.4567219152854512\n",
            "Значение - maxdepth: 4 F1: 0.5398373983739837\n",
            "Значение - est: 3 F1: 0.5398373983739837\n",
            "Значение - maxdepth: 5 F1: 0.4928057553956835\n",
            "Значение - est: 3 F1: 0.4928057553956835\n",
            "Значение - maxdepth: 6 F1: 0.5911949685534591\n",
            "Значение - est: 3 F1: 0.5911949685534591\n",
            "Значение - maxdepth: 7 F1: 0.5996908809891809\n",
            "Значение - est: 3 F1: 0.5996908809891809\n",
            "Значение - maxdepth: 8 F1: 0.5758039816232772\n",
            "Значение - est: 3 F1: 0.5758039816232772\n",
            "Значение - maxdepth: 9 F1: 0.5709969788519638\n",
            "Значение - est: 3 F1: 0.5709969788519638\n",
            "Значение - maxdepth: 1 F1: 0.0\n",
            "Значение - est: 5 F1: 0.0\n",
            "Значение - maxdepth: 2 F1: 0.49605055292259087\n",
            "Значение - est: 5 F1: 0.49605055292259087\n",
            "Значение - maxdepth: 3 F1: 0.4567219152854512\n",
            "Значение - est: 5 F1: 0.4567219152854512\n",
            "Значение - maxdepth: 4 F1: 0.5383360522022838\n",
            "Значение - est: 5 F1: 0.5383360522022838\n",
            "Значение - maxdepth: 5 F1: 0.5008944543828264\n",
            "Значение - est: 5 F1: 0.5008944543828264\n",
            "Значение - maxdepth: 6 F1: 0.5326460481099656\n",
            "Значение - est: 5 F1: 0.5326460481099656\n",
            "Значение - maxdepth: 7 F1: 0.5874799357945426\n",
            "Значение - est: 5 F1: 0.5874799357945426\n",
            "Значение - maxdepth: 8 F1: 0.5826771653543307\n",
            "Значение - est: 5 F1: 0.5826771653543307\n",
            "Значение - maxdepth: 9 F1: 0.5851393188854489\n",
            "Значение - est: 5 F1: 0.5851393188854489\n",
            "Значение - maxdepth: 1 F1: 0.0\n",
            "Значение - est: 7 F1: 0.0\n",
            "Значение - maxdepth: 2 F1: 0.4936708860759494\n",
            "Значение - est: 7 F1: 0.4936708860759494\n",
            "Значение - maxdepth: 3 F1: 0.4587155963302752\n",
            "Значение - est: 7 F1: 0.4587155963302752\n",
            "Значение - maxdepth: 4 F1: 0.5035714285714286\n",
            "Значение - est: 7 F1: 0.5035714285714286\n",
            "Значение - maxdepth: 5 F1: 0.5026737967914439\n",
            "Значение - est: 7 F1: 0.5026737967914439\n",
            "Значение - maxdepth: 6 F1: 0.5190311418685121\n",
            "Значение - est: 7 F1: 0.5190311418685121\n",
            "Значение - maxdepth: 7 F1: 0.5952\n",
            "Значение - est: 7 F1: 0.5952\n",
            "Значение - maxdepth: 8 F1: 0.5919003115264797\n",
            "Значение - est: 7 F1: 0.5919003115264797\n",
            "Значение - maxdepth: 9 F1: 0.5907692307692308\n",
            "Значение - est: 7 F1: 0.5907692307692308\n",
            "Значение - maxdepth: 1 F1: 0.0\n",
            "Значение - est: 9 F1: 0.0\n",
            "Значение - maxdepth: 2 F1: 0.4939024390243902\n",
            "Значение - est: 9 F1: 0.4939024390243902\n",
            "Значение - maxdepth: 3 F1: 0.4587155963302752\n",
            "Значение - est: 9 F1: 0.4587155963302752\n",
            "Значение - maxdepth: 4 F1: 0.5\n",
            "Значение - est: 9 F1: 0.5\n",
            "Значение - maxdepth: 5 F1: 0.5071428571428571\n",
            "Значение - est: 9 F1: 0.5071428571428571\n",
            "Значение - maxdepth: 6 F1: 0.5335628227194492\n",
            "Значение - est: 9 F1: 0.5335628227194492\n",
            "Значение - maxdepth: 7 F1: 0.5977742448330684\n",
            "Значение - est: 9 F1: 0.5977742448330684\n",
            "Значение - maxdepth: 8 F1: 0.5956112852664577\n",
            "Значение - est: 9 F1: 0.5956112852664577\n",
            "Значение - maxdepth: 9 F1: 0.5965996908809892\n",
            "Значение - est: 9 F1: 0.5965996908809892\n",
            "Значение - maxdepth: 1 F1: 0.0\n",
            "Значение - est: 11 F1: 0.0\n",
            "Значение - maxdepth: 2 F1: 0.4936708860759494\n",
            "Значение - est: 11 F1: 0.4936708860759494\n",
            "Значение - maxdepth: 3 F1: 0.4606946983546618\n",
            "Значение - est: 11 F1: 0.4606946983546618\n",
            "Значение - maxdepth: 4 F1: 0.5026737967914439\n",
            "Значение - est: 11 F1: 0.5026737967914439\n",
            "Значение - maxdepth: 5 F1: 0.5017921146953405\n",
            "Значение - est: 11 F1: 0.5017921146953405\n",
            "Значение - maxdepth: 6 F1: 0.5266781411359726\n",
            "Значение - est: 11 F1: 0.5266781411359726\n",
            "Значение - maxdepth: 7 F1: 0.5901116427432217\n",
            "Значение - est: 11 F1: 0.5901116427432217\n",
            "Значение - maxdepth: 8 F1: 0.5889763779527559\n",
            "Значение - est: 11 F1: 0.5889763779527559\n",
            "Значение - maxdepth: 9 F1: 0.5978428351309708\n",
            "Значение - est: 11 F1: 0.5978428351309708\n",
            "Значение - maxdepth: 1 F1: 0.0\n",
            "Значение - est: 13 F1: 0.0\n",
            "Значение - maxdepth: 2 F1: 0.4936708860759494\n",
            "Значение - est: 13 F1: 0.4936708860759494\n",
            "Значение - maxdepth: 3 F1: 0.4606946983546618\n",
            "Значение - est: 13 F1: 0.4606946983546618\n",
            "Значение - maxdepth: 4 F1: 0.5026737967914439\n",
            "Значение - est: 13 F1: 0.5026737967914439\n",
            "Значение - maxdepth: 5 F1: 0.5017921146953405\n",
            "Значение - est: 13 F1: 0.5017921146953405\n",
            "Значение - maxdepth: 6 F1: 0.5131810193321618\n",
            "Значение - est: 13 F1: 0.5131810193321618\n",
            "Значение - maxdepth: 7 F1: 0.5741935483870968\n",
            "Значение - est: 13 F1: 0.5741935483870968\n",
            "Значение - maxdepth: 8 F1: 0.5917721518987341\n",
            "Значение - est: 13 F1: 0.5917721518987341\n",
            "Значение - maxdepth: 9 F1: 0.595679012345679\n",
            "Значение - est: 13 F1: 0.595679012345679\n",
            "Значение - maxdepth: 1 F1: 0.0\n",
            "Значение - est: 15 F1: 0.0\n",
            "Значение - maxdepth: 2 F1: 0.4936708860759494\n",
            "Значение - est: 15 F1: 0.4936708860759494\n",
            "Значение - maxdepth: 3 F1: 0.49110320284697506\n",
            "Значение - est: 15 F1: 0.49110320284697506\n",
            "Значение - maxdepth: 4 F1: 0.5149911816578484\n",
            "Значение - est: 15 F1: 0.5149911816578484\n",
            "Значение - maxdepth: 5 F1: 0.5088967971530248\n",
            "Значение - est: 15 F1: 0.5088967971530248\n",
            "Значение - maxdepth: 6 F1: 0.5328719723183392\n",
            "Значение - est: 15 F1: 0.5328719723183392\n",
            "Значение - maxdepth: 7 F1: 0.5797101449275361\n",
            "Значение - est: 15 F1: 0.5797101449275361\n",
            "Значение - maxdepth: 8 F1: 0.5934065934065934\n",
            "Значение - est: 15 F1: 0.5934065934065934\n",
            "Значение - maxdepth: 9 F1: 0.5943396226415095\n",
            "Значение - est: 15 F1: 0.5943396226415095\n",
            "Значение - maxdepth: 1 F1: 0.0\n",
            "Значение - est: 17 F1: 0.0\n",
            "Значение - maxdepth: 2 F1: 0.4936708860759494\n",
            "Значение - est: 17 F1: 0.4936708860759494\n",
            "Значение - maxdepth: 3 F1: 0.49110320284697506\n",
            "Значение - est: 17 F1: 0.49110320284697506\n",
            "Значение - maxdepth: 4 F1: 0.5132743362831858\n",
            "Значение - est: 17 F1: 0.5132743362831858\n",
            "Значение - maxdepth: 5 F1: 0.5106382978723404\n",
            "Значение - est: 17 F1: 0.5106382978723404\n",
            "Значение - maxdepth: 6 F1: 0.5445205479452055\n",
            "Значение - est: 17 F1: 0.5445205479452055\n",
            "Значение - maxdepth: 7 F1: 0.5797101449275361\n",
            "Значение - est: 17 F1: 0.5797101449275361\n",
            "Значение - maxdepth: 8 F1: 0.6069182389937107\n",
            "Значение - est: 17 F1: 0.6069182389937107\n",
            "Значение - maxdepth: 9 F1: 0.6053042121684867\n",
            "Значение - est: 17 F1: 0.6053042121684867\n",
            "Значение - maxdepth: 1 F1: 0.0\n",
            "Значение - est: 19 F1: 0.0\n",
            "Значение - maxdepth: 2 F1: 0.4936708860759494\n",
            "Значение - est: 19 F1: 0.4936708860759494\n",
            "Значение - maxdepth: 3 F1: 0.49110320284697506\n",
            "Значение - est: 19 F1: 0.49110320284697506\n",
            "Значение - maxdepth: 4 F1: 0.5132743362831858\n",
            "Значение - est: 19 F1: 0.5132743362831858\n",
            "Значение - maxdepth: 5 F1: 0.5097345132743363\n",
            "Значение - est: 19 F1: 0.5097345132743363\n",
            "Значение - maxdepth: 6 F1: 0.5540540540540541\n",
            "Значение - est: 19 F1: 0.5540540540540541\n",
            "Значение - maxdepth: 7 F1: 0.5718901453957997\n",
            "Значение - est: 19 F1: 0.5718901453957997\n",
            "Значение - maxdepth: 8 F1: 0.5889763779527559\n",
            "Значение - est: 19 F1: 0.5889763779527559\n",
            "Значение - maxdepth: 9 F1: 0.59375\n",
            "Значение - est: 19 F1: 0.59375\n",
            "Значение - maxdepth: 1 F1: 0.0\n",
            "Значение - est: 21 F1: 0.0\n",
            "Значение - maxdepth: 2 F1: 0.4936708860759494\n",
            "Значение - est: 21 F1: 0.4936708860759494\n",
            "Значение - maxdepth: 3 F1: 0.4606946983546618\n",
            "Значение - est: 21 F1: 0.4606946983546618\n",
            "Значение - maxdepth: 4 F1: 0.5159010600706714\n",
            "Значение - est: 21 F1: 0.5159010600706714\n",
            "Значение - maxdepth: 5 F1: 0.5097345132743363\n",
            "Значение - est: 21 F1: 0.5097345132743363\n",
            "Значение - maxdepth: 6 F1: 0.5531197301854974\n",
            "Значение - est: 21 F1: 0.5531197301854974\n",
            "Значение - maxdepth: 7 F1: 0.5878594249201278\n",
            "Значение - est: 21 F1: 0.5878594249201278\n",
            "Значение - maxdepth: 8 F1: 0.5950155763239875\n",
            "Значение - est: 21 F1: 0.5950155763239875\n",
            "Значение - maxdepth: 9 F1: 0.6108527131782946\n",
            "Значение - est: 21 F1: 0.6108527131782946\n"
          ]
        }
      ],
      "source": [
        "for est in range(1, 22, 2):\n",
        "\tfor depth in range (1, 10):\n",
        "\t\tmodel_ran = RandomForestClassifier(random_state=RANDOM_SEED, max_features=None, n_estimators=est, max_depth=depth)\n",
        "\t\tmodel_ran.fit(features_train, target_train) \n",
        "\t\tpredictions = model_ran.predict(features_valid)\n",
        "\t\tprint('Значение - maxdepth:', depth, 'F1:', f1_score(predictions, target_valid))\n",
        "\t\tprint('Значение - est:', est, 'F1:', f1_score(predictions, target_valid))"
      ]
    },
    {
      "cell_type": "markdown",
      "metadata": {
        "id": "XsfOQH5Qkl4t"
      },
      "source": [
        "**Лучшее значение - maxdepth: 9 F1: 0.6108527131782946**\n",
        "\n",
        "**Лучшее значение - est: 21 F1: 0.6108527131782946**"
      ]
    },
    {
      "cell_type": "markdown",
      "metadata": {
        "id": "YTnLDs6ukl4u"
      },
      "source": [
        "LogisticRegression"
      ]
    },
    {
      "cell_type": "code",
      "execution_count": null,
      "metadata": {
        "id": "USCYXLx4kl4u",
        "outputId": "90aea5b7-78b6-41df-ef07-738d859d5b61"
      },
      "outputs": [
        {
          "name": "stdout",
          "output_type": "stream",
          "text": [
            "Значение: F1: 0.32122370936902483\n"
          ]
        }
      ],
      "source": [
        "model_log = LogisticRegression(random_state=RANDOM_SEED, max_iter=200, solver = 'liblinear')\n",
        "model_log.fit(features_train, target_train)\n",
        "predictions = model_log.predict(features_valid)\n",
        "print('Значение:', 'F1:', f1_score(predictions, target_valid))"
      ]
    },
    {
      "cell_type": "markdown",
      "metadata": {
        "id": "KWr4-ZbFkl4v"
      },
      "source": [
        "**Лучшее значение: F1: 0.321**"
      ]
    },
    {
      "cell_type": "markdown",
      "metadata": {
        "id": "QNxyZyAZkl4w"
      },
      "source": [
        "**Вывод:** Можно сделать вывод, что лучшая модель RandomForestClassifier со значением  0.6044"
      ]
    },
    {
      "cell_type": "markdown",
      "metadata": {
        "id": "UGiS9zjtkl4w"
      },
      "source": [
        "https://practicum.yandex.ru/trainer/data-scientist/lesson/62fbf7ea-ef66-49a9-915c-37cfec100822/task/9d214b89-c9ec-47c1-848c-242d150f7ef5/"
      ]
    },
    {
      "cell_type": "code",
      "execution_count": null,
      "metadata": {
        "id": "-LC1b5Bfkl4x",
        "outputId": "7b29914b-99a1-4986-9c7f-515e9e218f79"
      },
      "outputs": [
        {
          "name": "stdout",
          "output_type": "stream",
          "text": [
            "Значение: 0.7110756913278246\n"
          ]
        }
      ],
      "source": [
        "probabilities_valid = model_dec.predict_proba(features_valid)\n",
        "probabilities_one_valid_dec = probabilities_valid[:, 1]\n",
        "\n",
        "fpr_dec, tpr_dec, thresholds_dec = roc_curve(target_valid, probabilities_one_valid_dec)\n",
        "\n",
        "aucroc_dec=roc_auc_score(target_valid, probabilities_one_valid_dec)\n",
        "print('Значение:', aucroc_dec)"
      ]
    },
    {
      "cell_type": "code",
      "execution_count": null,
      "metadata": {
        "id": "hLFiloVUkl4x",
        "outputId": "a29ad1e2-2820-414b-9009-369a9916a392"
      },
      "outputs": [
        {
          "name": "stdout",
          "output_type": "stream",
          "text": [
            "Значение: 0.8599639809696246\n"
          ]
        }
      ],
      "source": [
        "predicted_valid_r = model_ran.predict_proba(features_valid)\n",
        "probabilities_one_valid_ran = predicted_valid_r[:, 1]\n",
        "\n",
        "fpr_ran, tpr_ran, thresholds_ran = roc_curve(target_valid, probabilities_one_valid_ran)\n",
        "\n",
        "aucroc_ran=roc_auc_score(target_valid, probabilities_one_valid_ran)\n",
        "print('Значение:', aucroc_ran)"
      ]
    },
    {
      "cell_type": "code",
      "execution_count": null,
      "metadata": {
        "id": "k4ST_EYckl4y",
        "outputId": "06a5c0af-079f-492f-9101-f91841500dff"
      },
      "outputs": [
        {
          "name": "stdout",
          "output_type": "stream",
          "text": [
            "Значение: 0.7655103338020302\n"
          ]
        }
      ],
      "source": [
        "probabilities_valid_log = model_log.predict_proba(features_valid)\n",
        "probabilities_one_valid_log = probabilities_valid_log[:, 1]\n",
        "\n",
        "fpr_log, tpr_log, thresholds_log = roc_curve(target_valid, probabilities_one_valid_log)\n",
        "\n",
        "aucroc_log=roc_auc_score(target_valid, probabilities_one_valid_log)\n",
        "print('Значение:', aucroc_log)"
      ]
    },
    {
      "cell_type": "code",
      "execution_count": null,
      "metadata": {
        "scrolled": false,
        "id": "GszwQjSVkl4z",
        "outputId": "54a99be5-76cf-40ed-a511-9a906c1e1fbd"
      },
      "outputs": [
        {
          "data": {
            "text/plain": [
              "<Figure size 432x288 with 0 Axes>"
            ]
          },
          "metadata": {},
          "output_type": "display_data"
        },
        {
          "data": {
            "image/png": "[encoded data removed]",
            "text/plain": [
              "<Figure size 720x720 with 1 Axes>"
            ]
          },
          "metadata": {
            "needs_background": "light"
          },
          "output_type": "display_data"
        }
      ],
      "source": [
        "plt.figure()\n",
        "\n",
        "plt.figure(figsize=(10,10))\n",
        "plt.xlim([0.0, 1.0])\n",
        "plt.ylim([0.0, 1.0])\n",
        "plt.plot([0, 1], [0, 1], linestyle='--')\n",
        "plt.plot(fpr_dec, tpr_dec, thresholds_dec)\n",
        "plt.plot(fpr_ran, tpr_ran, thresholds_ran)\n",
        "plt.plot(fpr_log, tpr_log, thresholds_log)\n",
        "plt.xlabel('False Positive Rate')\n",
        "plt.ylabel('True Positive Rate')\n",
        "plt.title('ROC-кривая')\n",
        "plt.legend(('Случайная модель', 'Дерево решения', 'Случайный лес', 'Логистическая регрессия'), loc= 'upper left') \n",
        "plt.show()\n"
      ]
    },
    {
      "cell_type": "markdown",
      "metadata": {
        "id": "V9Q0E_oNkl40"
      },
      "source": [
        "## Борьба с дисбалансом"
      ]
    },
    {
      "cell_type": "markdown",
      "metadata": {
        "id": "yLMI3KGZkl41"
      },
      "source": [
        "Матрица ошибок\n",
        "\n",
        "https://practicum.yandex.ru/trainer/data-scientist/lesson/6178662d-4ab1-4510-ae0f-9eddff59e106/task/f84b0d8e-5cb2-4b7c-83d1-1443a65908b2/"
      ]
    },
    {
      "cell_type": "code",
      "execution_count": null,
      "metadata": {
        "id": "O-uAm6mJkl41",
        "outputId": "f0bff38e-cf1d-4cda-f965-285c13c8e488"
      },
      "outputs": [
        {
          "name": "stdout",
          "output_type": "stream",
          "text": [
            "[[1561   53]\n",
            " [ 302   84]]\n"
          ]
        }
      ],
      "source": [
        "#Матрица ошибок\n",
        "\n",
        "print(confusion_matrix(target_valid, predictions))"
      ]
    },
    {
      "cell_type": "code",
      "execution_count": null,
      "metadata": {
        "id": "NwYjtqH6kl42",
        "outputId": "5a1513e1-1104-4e60-9821-b0a2c6c7031c"
      },
      "outputs": [
        {
          "name": "stdout",
          "output_type": "stream",
          "text": [
            "0.21761658031088082\n"
          ]
        }
      ],
      "source": [
        "#Полнота\n",
        "\n",
        "rew = recall_score(target_valid, predictions)\n",
        "print(rew)"
      ]
    },
    {
      "cell_type": "code",
      "execution_count": null,
      "metadata": {
        "id": "o0BRof1Okl43",
        "outputId": "183aa357-6725-48d9-b2ed-db209093c8a6"
      },
      "outputs": [
        {
          "name": "stdout",
          "output_type": "stream",
          "text": [
            "0.6131386861313869\n"
          ]
        }
      ],
      "source": [
        "#Точность\n",
        "\n",
        "rew = precision_score(target_valid, predictions)\n",
        "print(rew)"
      ]
    },
    {
      "cell_type": "markdown",
      "metadata": {
        "id": "ONKwnEikkl43"
      },
      "source": [
        "upsample\n",
        "\n",
        "https://practicum.yandex.ru/trainer/data-scientist/lesson/b990f044-59b7-42b7-9c82-79b7e9ac3be6/task/851cc0be-4bd3-4669-ab9c-0fe548696a95/"
      ]
    },
    {
      "cell_type": "code",
      "execution_count": null,
      "metadata": {
        "id": "djk699drkl44",
        "outputId": "0dff3aa5-c0ea-4c62-d0a7-dbb794379f3d"
      },
      "outputs": [
        {
          "name": "stdout",
          "output_type": "stream",
          "text": [
            "1    5044\n",
            "0    4739\n",
            "Name: Exited, dtype: int64\n"
          ]
        }
      ],
      "source": [
        "def upsample(features, target, repeat):\n",
        "    features_zeros = features[target == 0]\n",
        "    features_ones = features[target == 1]\n",
        "    target_zeros = target[target == 0]\n",
        "    target_ones = target[target == 1]\n",
        "    features_upsampled = pd.concat([features_zeros] + [features_ones] * repeat)\n",
        "    target_upsampled = pd.concat([target_zeros] + [target_ones] * repeat)\n",
        "    \n",
        "    #перемешиваем\n",
        "    features_upsampled, target_upsampled = shuffle(features_upsampled, target_upsampled, random_state=12345)\n",
        "    \n",
        "    return features_upsampled, target_upsampled\n",
        "\n",
        "features_upsampled, target_upsampled = upsample(features_train, target_train, 4)\n",
        "\n",
        "print(target_upsampled.value_counts())"
      ]
    },
    {
      "cell_type": "markdown",
      "metadata": {
        "id": "dS8qibckkl45"
      },
      "source": [
        "downsample\n",
        "\n",
        "https://practicum.yandex.ru/trainer/data-scientist/lesson/6c3729c5-d296-4777-8c85-ffcdf84e23ff/task/d1c49d29-7ede-4b72-bb47-6d144e01e33f/"
      ]
    },
    {
      "cell_type": "code",
      "execution_count": null,
      "metadata": {
        "id": "bEwhPecrkl45",
        "outputId": "a9a6d2cd-4332-4db4-9c15-0282fbb0e11c"
      },
      "outputs": [
        {
          "name": "stdout",
          "output_type": "stream",
          "text": [
            "1    1261\n",
            "0    1185\n",
            "Name: Exited, dtype: int64\n"
          ]
        }
      ],
      "source": [
        "def downsample(features, target, fraction):\n",
        "    features_zeros = features[target == 0]\n",
        "    features_ones = features[target == 1]\n",
        "    target_zeros = target[target == 0]\n",
        "    target_ones = target[target == 1]\n",
        "\n",
        "    features_downsampled = pd.concat(\n",
        "        [features_zeros.sample(frac=fraction, random_state=12345)] + [features_ones])\n",
        "    target_downsampled = pd.concat(\n",
        "        [target_zeros.sample(frac=fraction, random_state=12345)] + [target_ones])\n",
        "    \n",
        "    features_downsampled, target_downsampled = shuffle(\n",
        "        features_downsampled, target_downsampled, random_state=12345)\n",
        "    \n",
        "    return features_downsampled, target_downsampled\n",
        "\n",
        "features_downsampled, target_downsampled = downsample(features_train, target_train, 0.25)\n",
        "\n",
        "print(target_downsampled.value_counts())"
      ]
    },
    {
      "cell_type": "markdown",
      "metadata": {
        "id": "k5wBoK50kl46"
      },
      "source": [
        "**Данных не много не будем пользоваться методом уменьшения downsample**"
      ]
    },
    {
      "cell_type": "code",
      "execution_count": null,
      "metadata": {
        "id": "G9-Ns_hpkl47",
        "outputId": "32648cc7-10f4-409d-b1c8-89c621049435"
      },
      "outputs": [
        {
          "name": "stdout",
          "output_type": "stream",
          "text": [
            "Значение - maxdepth: 1 F1: 0.4863221884498479\n",
            "Значение - maxdepth: 2 F1: 0.5151811949069539\n",
            "Значение - maxdepth: 3 F1: 0.5273833671399595\n",
            "Значение - maxdepth: 4 F1: 0.5210526315789474\n",
            "Значение - maxdepth: 5 F1: 0.5771428571428572\n",
            "Значение - maxdepth: 6 F1: 0.5530035335689046\n",
            "Значение - maxdepth: 7 F1: 0.5764023210831721\n",
            "Значение - maxdepth: 8 F1: 0.5762004175365345\n",
            "Значение - maxdepth: 9 F1: 0.5354330708661417\n",
            "Значение - maxdepth: 10 F1: 0.5261044176706827\n",
            "Значение - maxdepth: 11 F1: 0.5446527012127894\n",
            "Значение - maxdepth: 12 F1: 0.5148514851485149\n",
            "Значение - maxdepth: 13 F1: 0.5231481481481483\n",
            "Значение - maxdepth: 14 F1: 0.5323910482921084\n",
            "Значение - maxdepth: 15 F1: 0.5226730310262528\n",
            "Значение - maxdepth: 16 F1: 0.5237515225334958\n",
            "Значение - maxdepth: 17 F1: 0.5068322981366459\n",
            "Значение - maxdepth: 18 F1: 0.5143570536828964\n",
            "Значение - maxdepth: 19 F1: 0.5267175572519084\n",
            "Значение - maxdepth: 20 F1: 0.5224071702944942\n",
            "Значение - maxdepth: 21 F1: 0.5162127107652399\n",
            "Значение - maxdepth: 22 F1: 0.5186136071887034\n",
            "Значение - maxdepth: 23 F1: 0.5186136071887034\n",
            "Значение - maxdepth: 24 F1: 0.5186136071887034\n",
            "Значение - maxdepth: 25 F1: 0.5186136071887034\n",
            "Значение - maxdepth: 26 F1: 0.5186136071887034\n",
            "Значение - maxdepth: 27 F1: 0.5186136071887034\n",
            "Значение - maxdepth: 28 F1: 0.5186136071887034\n",
            "Значение - maxdepth: 29 F1: 0.5186136071887034\n",
            "Значение - maxdepth: 30 F1: 0.5186136071887034\n",
            "Значение - maxdepth: 31 F1: 0.5186136071887034\n",
            "Значение - maxdepth: 32 F1: 0.5186136071887034\n",
            "Значение - maxdepth: 33 F1: 0.5186136071887034\n",
            "Значение - maxdepth: 34 F1: 0.5186136071887034\n",
            "Значение - maxdepth: 35 F1: 0.5186136071887034\n",
            "Значение - maxdepth: 36 F1: 0.5186136071887034\n",
            "Значение - maxdepth: 37 F1: 0.5186136071887034\n",
            "Значение - maxdepth: 38 F1: 0.5186136071887034\n",
            "Значение - maxdepth: 39 F1: 0.5186136071887034\n",
            "Значение - maxdepth: 40 F1: 0.5186136071887034\n",
            "Значение - maxdepth: 41 F1: 0.5186136071887034\n",
            "Значение - maxdepth: 42 F1: 0.5186136071887034\n",
            "Значение - maxdepth: 43 F1: 0.5186136071887034\n",
            "Значение - maxdepth: 44 F1: 0.5186136071887034\n",
            "Значение - maxdepth: 45 F1: 0.5186136071887034\n",
            "Значение - maxdepth: 46 F1: 0.5186136071887034\n",
            "Значение - maxdepth: 47 F1: 0.5186136071887034\n",
            "Значение - maxdepth: 48 F1: 0.5186136071887034\n",
            "Значение - maxdepth: 49 F1: 0.5186136071887034\n"
          ]
        }
      ],
      "source": [
        "for depth in range(1, 50, 1):\n",
        "    model_d = DecisionTreeClassifier(random_state=RANDOM_SEED, max_depth=depth)\n",
        "    model_d.fit(features_upsampled, target_upsampled)\n",
        "    predicted_valid_d = model_d.predict(features_valid)\n",
        "    print('Значение - maxdepth:', depth, 'F1:', f1_score(predicted_valid_d, target_valid))"
      ]
    },
    {
      "cell_type": "markdown",
      "metadata": {
        "id": "sNR_V27dkl48"
      },
      "source": [
        "**Лучшее значение - maxdepth: 7 F1: 0.5764**"
      ]
    },
    {
      "cell_type": "code",
      "execution_count": null,
      "metadata": {
        "id": "BW6WOwuskl49",
        "outputId": "7ed587e8-c8de-4f3f-a043-3d725c1de59b"
      },
      "outputs": [
        {
          "name": "stdout",
          "output_type": "stream",
          "text": [
            "Значение - maxdepth: 1 F1: 0.48394004282655245\n",
            "Значение - est: 1 F1: 0.48394004282655245\n",
            "Значение - maxdepth: 2 F1: 0.5175257731958763\n",
            "Значение - est: 1 F1: 0.5175257731958763\n",
            "Значение - maxdepth: 3 F1: 0.5175257731958763\n",
            "Значение - est: 1 F1: 0.5175257731958763\n",
            "Значение - maxdepth: 4 F1: 0.509704641350211\n",
            "Значение - est: 1 F1: 0.509704641350211\n",
            "Значение - maxdepth: 5 F1: 0.5736434108527132\n",
            "Значение - est: 1 F1: 0.5736434108527132\n",
            "Значение - maxdepth: 6 F1: 0.5583657587548637\n",
            "Значение - est: 1 F1: 0.5583657587548637\n",
            "Значение - maxdepth: 7 F1: 0.5688622754491018\n",
            "Значение - est: 1 F1: 0.5688622754491018\n",
            "Значение - maxdepth: 8 F1: 0.5756302521008403\n",
            "Значение - est: 1 F1: 0.5756302521008403\n",
            "Значение - maxdepth: 9 F1: 0.5487437185929648\n",
            "Значение - est: 1 F1: 0.5487437185929648\n",
            "Значение - maxdepth: 1 F1: 0.48394004282655245\n",
            "Значение - est: 3 F1: 0.48394004282655245\n",
            "Значение - maxdepth: 2 F1: 0.5175257731958763\n",
            "Значение - est: 3 F1: 0.5175257731958763\n",
            "Значение - maxdepth: 3 F1: 0.5249237029501527\n",
            "Значение - est: 3 F1: 0.5249237029501527\n",
            "Значение - maxdepth: 4 F1: 0.5842696629213483\n",
            "Значение - est: 3 F1: 0.5842696629213483\n",
            "Значение - maxdepth: 5 F1: 0.560077519379845\n",
            "Значение - est: 3 F1: 0.560077519379845\n",
            "Значение - maxdepth: 6 F1: 0.5788381742738589\n",
            "Значение - est: 3 F1: 0.5788381742738589\n",
            "Значение - maxdepth: 7 F1: 0.5689981096408319\n",
            "Значение - est: 3 F1: 0.5689981096408319\n",
            "Значение - maxdepth: 8 F1: 0.5863125638406538\n",
            "Значение - est: 3 F1: 0.5863125638406538\n",
            "Значение - maxdepth: 9 F1: 0.5693877551020409\n",
            "Значение - est: 3 F1: 0.5693877551020409\n",
            "Значение - maxdepth: 1 F1: 0.4863221884498479\n",
            "Значение - est: 5 F1: 0.4863221884498479\n",
            "Значение - maxdepth: 2 F1: 0.5205205205205206\n",
            "Значение - est: 5 F1: 0.5205205205205206\n",
            "Значение - maxdepth: 3 F1: 0.5333333333333333\n",
            "Значение - est: 5 F1: 0.5333333333333333\n",
            "Значение - maxdepth: 4 F1: 0.5807860262008734\n",
            "Значение - est: 5 F1: 0.5807860262008734\n",
            "Значение - maxdepth: 5 F1: 0.5860271115745569\n",
            "Значение - est: 5 F1: 0.5860271115745569\n",
            "Значение - maxdepth: 6 F1: 0.5697091273821464\n",
            "Значение - est: 5 F1: 0.5697091273821464\n",
            "Значение - maxdepth: 7 F1: 0.5757864632983793\n",
            "Значение - est: 5 F1: 0.5757864632983793\n",
            "Значение - maxdepth: 8 F1: 0.579650565262076\n",
            "Значение - est: 5 F1: 0.579650565262076\n",
            "Значение - maxdepth: 9 F1: 0.5768025078369906\n",
            "Значение - est: 5 F1: 0.5768025078369906\n",
            "Значение - maxdepth: 1 F1: 0.4863221884498479\n",
            "Значение - est: 7 F1: 0.4863221884498479\n",
            "Значение - maxdepth: 2 F1: 0.5205205205205206\n",
            "Значение - est: 7 F1: 0.5205205205205206\n",
            "Значение - maxdepth: 3 F1: 0.5380604796663191\n",
            "Значение - est: 7 F1: 0.5380604796663191\n",
            "Значение - maxdepth: 4 F1: 0.5807860262008734\n",
            "Значение - est: 7 F1: 0.5807860262008734\n",
            "Значение - maxdepth: 5 F1: 0.5865284974093264\n",
            "Значение - est: 7 F1: 0.5865284974093264\n",
            "Значение - maxdepth: 6 F1: 0.571715145436309\n",
            "Значение - est: 7 F1: 0.571715145436309\n",
            "Значение - maxdepth: 7 F1: 0.5831702544031311\n",
            "Значение - est: 7 F1: 0.5831702544031311\n",
            "Значение - maxdepth: 8 F1: 0.5743380855397149\n",
            "Значение - est: 7 F1: 0.5743380855397149\n",
            "Значение - maxdepth: 9 F1: 0.5687693898655635\n",
            "Значение - est: 7 F1: 0.5687693898655635\n",
            "Значение - maxdepth: 1 F1: 0.4863221884498479\n",
            "Значение - est: 9 F1: 0.4863221884498479\n",
            "Значение - maxdepth: 2 F1: 0.5205205205205206\n",
            "Значение - est: 9 F1: 0.5205205205205206\n",
            "Значение - maxdepth: 3 F1: 0.5333333333333333\n",
            "Значение - est: 9 F1: 0.5333333333333333\n",
            "Значение - maxdepth: 4 F1: 0.5814207650273223\n",
            "Значение - est: 9 F1: 0.5814207650273223\n",
            "Значение - maxdepth: 5 F1: 0.5915789473684212\n",
            "Значение - est: 9 F1: 0.5915789473684212\n",
            "Значение - maxdepth: 6 F1: 0.579256360078278\n",
            "Значение - est: 9 F1: 0.579256360078278\n",
            "Значение - maxdepth: 7 F1: 0.5875486381322956\n",
            "Значение - est: 9 F1: 0.5875486381322956\n",
            "Значение - maxdepth: 8 F1: 0.5820745216515609\n",
            "Значение - est: 9 F1: 0.5820745216515609\n",
            "Значение - maxdepth: 9 F1: 0.578563995837669\n",
            "Значение - est: 9 F1: 0.578563995837669\n",
            "Значение - maxdepth: 1 F1: 0.4863221884498479\n",
            "Значение - est: 11 F1: 0.4863221884498479\n",
            "Значение - maxdepth: 2 F1: 0.5151811949069539\n",
            "Значение - est: 11 F1: 0.5151811949069539\n",
            "Значение - maxdepth: 3 F1: 0.5333333333333333\n",
            "Значение - est: 11 F1: 0.5333333333333333\n",
            "Значение - maxdepth: 4 F1: 0.5849462365591398\n",
            "Значение - est: 11 F1: 0.5849462365591398\n",
            "Значение - maxdepth: 5 F1: 0.5900948366701791\n",
            "Значение - est: 11 F1: 0.5900948366701791\n",
            "Значение - maxdepth: 6 F1: 0.5822050290135397\n",
            "Значение - est: 11 F1: 0.5822050290135397\n",
            "Значение - maxdepth: 7 F1: 0.5847953216374269\n",
            "Значение - est: 11 F1: 0.5847953216374269\n",
            "Значение - maxdepth: 8 F1: 0.5775510204081632\n",
            "Значение - est: 11 F1: 0.5775510204081632\n",
            "Значение - maxdepth: 9 F1: 0.5729275970619098\n",
            "Значение - est: 11 F1: 0.5729275970619098\n",
            "Значение - maxdepth: 1 F1: 0.4863221884498479\n",
            "Значение - est: 13 F1: 0.4863221884498479\n",
            "Значение - maxdepth: 2 F1: 0.5151811949069539\n",
            "Значение - est: 13 F1: 0.5151811949069539\n",
            "Значение - maxdepth: 3 F1: 0.5333333333333333\n",
            "Значение - est: 13 F1: 0.5333333333333333\n",
            "Значение - maxdepth: 4 F1: 0.568\n",
            "Значение - est: 13 F1: 0.568\n",
            "Значение - maxdepth: 5 F1: 0.5922023182297155\n",
            "Значение - est: 13 F1: 0.5922023182297155\n",
            "Значение - maxdepth: 6 F1: 0.579654510556622\n",
            "Значение - est: 13 F1: 0.579654510556622\n",
            "Значение - maxdepth: 7 F1: 0.5862745098039216\n",
            "Значение - est: 13 F1: 0.5862745098039216\n",
            "Значение - maxdepth: 8 F1: 0.5901981230448383\n",
            "Значение - est: 13 F1: 0.5901981230448383\n",
            "Значение - maxdepth: 9 F1: 0.5816649104320337\n",
            "Значение - est: 13 F1: 0.5816649104320337\n",
            "Значение - maxdepth: 1 F1: 0.4863221884498479\n",
            "Значение - est: 15 F1: 0.4863221884498479\n",
            "Значение - maxdepth: 2 F1: 0.5151811949069539\n",
            "Значение - est: 15 F1: 0.5151811949069539\n",
            "Значение - maxdepth: 3 F1: 0.5338809034907597\n",
            "Значение - est: 15 F1: 0.5338809034907597\n",
            "Значение - maxdepth: 4 F1: 0.5685685685685686\n",
            "Значение - est: 15 F1: 0.5685685685685686\n",
            "Значение - maxdepth: 5 F1: 0.5922023182297155\n",
            "Значение - est: 15 F1: 0.5922023182297155\n",
            "Значение - maxdepth: 6 F1: 0.5722326454033771\n",
            "Значение - est: 15 F1: 0.5722326454033771\n",
            "Значение - maxdepth: 7 F1: 0.5919370698131761\n",
            "Значение - est: 15 F1: 0.5919370698131761\n",
            "Значение - maxdepth: 8 F1: 0.5811088295687885\n",
            "Значение - est: 15 F1: 0.5811088295687885\n",
            "Значение - maxdepth: 9 F1: 0.5858798735511065\n",
            "Значение - est: 15 F1: 0.5858798735511065\n",
            "Значение - maxdepth: 1 F1: 0.4863221884498479\n",
            "Значение - est: 17 F1: 0.4863221884498479\n",
            "Значение - maxdepth: 2 F1: 0.5151811949069539\n",
            "Значение - est: 17 F1: 0.5151811949069539\n",
            "Значение - maxdepth: 3 F1: 0.5338809034907597\n",
            "Значение - est: 17 F1: 0.5338809034907597\n",
            "Значение - maxdepth: 4 F1: 0.5685685685685686\n",
            "Значение - est: 17 F1: 0.5685685685685686\n",
            "Значение - maxdepth: 5 F1: 0.5915789473684212\n",
            "Значение - est: 17 F1: 0.5915789473684212\n",
            "Значение - maxdepth: 6 F1: 0.5714285714285714\n",
            "Значение - est: 17 F1: 0.5714285714285714\n",
            "Значение - maxdepth: 7 F1: 0.5830903790087464\n",
            "Значение - est: 17 F1: 0.5830903790087464\n",
            "Значение - maxdepth: 8 F1: 0.5869120654396728\n",
            "Значение - est: 17 F1: 0.5869120654396728\n",
            "Значение - maxdepth: 9 F1: 0.5879873551106428\n",
            "Значение - est: 17 F1: 0.5879873551106428\n",
            "Значение - maxdepth: 1 F1: 0.4863221884498479\n",
            "Значение - est: 19 F1: 0.4863221884498479\n",
            "Значение - maxdepth: 2 F1: 0.5151811949069539\n",
            "Значение - est: 19 F1: 0.5151811949069539\n",
            "Значение - maxdepth: 3 F1: 0.5338809034907597\n",
            "Значение - est: 19 F1: 0.5338809034907597\n",
            "Значение - maxdepth: 4 F1: 0.5685884691848906\n",
            "Значение - est: 19 F1: 0.5685884691848906\n",
            "Значение - maxdepth: 5 F1: 0.5930599369085173\n",
            "Значение - est: 19 F1: 0.5930599369085173\n",
            "Значение - maxdepth: 6 F1: 0.575984990619137\n",
            "Значение - est: 19 F1: 0.575984990619137\n",
            "Значение - maxdepth: 7 F1: 0.5896180215475024\n",
            "Значение - est: 19 F1: 0.5896180215475024\n",
            "Значение - maxdepth: 8 F1: 0.5852156057494866\n",
            "Значение - est: 19 F1: 0.5852156057494866\n",
            "Значение - maxdepth: 9 F1: 0.5863874345549739\n",
            "Значение - est: 19 F1: 0.5863874345549739\n",
            "Значение - maxdepth: 1 F1: 0.4863221884498479\n",
            "Значение - est: 21 F1: 0.4863221884498479\n",
            "Значение - maxdepth: 2 F1: 0.5151811949069539\n",
            "Значение - est: 21 F1: 0.5151811949069539\n",
            "Значение - maxdepth: 3 F1: 0.5338809034907597\n",
            "Значение - est: 21 F1: 0.5338809034907597\n",
            "Значение - maxdepth: 4 F1: 0.568\n",
            "Значение - est: 21 F1: 0.568\n",
            "Значение - maxdepth: 5 F1: 0.5939139559286464\n",
            "Значение - est: 21 F1: 0.5939139559286464\n",
            "Значение - maxdepth: 6 F1: 0.5770676691729324\n",
            "Значение - est: 21 F1: 0.5770676691729324\n",
            "Значение - maxdepth: 7 F1: 0.589041095890411\n",
            "Значение - est: 21 F1: 0.589041095890411\n",
            "Значение - maxdepth: 8 F1: 0.581039755351682\n",
            "Значение - est: 21 F1: 0.581039755351682\n",
            "Значение - maxdepth: 9 F1: 0.5815899581589957\n",
            "Значение - est: 21 F1: 0.5815899581589957\n"
          ]
        }
      ],
      "source": [
        "for est in range(1, 22, 2):\n",
        "\tfor depth in range (1, 10):\n",
        "\t\tmodel_r = RandomForestClassifier(random_state=RANDOM_SEED, max_features=None, n_estimators=est, max_depth=depth)\n",
        "\t\tmodel_r.fit(features_upsampled, target_upsampled)\n",
        "\t\tpredicted_valid_r = model_r.predict(features_valid)\n",
        "\t\tprint('Значение - maxdepth:', depth, 'F1:', f1_score(predicted_valid_r, target_valid))\n",
        "\t\tprint('Значение - est:', est, 'F1:', f1_score(predicted_valid_r, target_valid))"
      ]
    },
    {
      "cell_type": "markdown",
      "metadata": {
        "id": "9V42dbzLkl4-"
      },
      "source": [
        "**Лучшее pначение - maxdepth: 5 F1: 0.5922023182297155**\n",
        "\n",
        "**Лучшее pначение - est: 13 F1: 0.5922023182297155**"
      ]
    },
    {
      "cell_type": "code",
      "execution_count": null,
      "metadata": {
        "id": "SMJPWOTRkl4-",
        "outputId": "dd7669c3-a72a-4e17-87ae-2fff011d10b9"
      },
      "outputs": [
        {
          "name": "stdout",
          "output_type": "stream",
          "text": [
            "F1: 0.48239436619718307\n"
          ]
        }
      ],
      "source": [
        "model_l = LogisticRegression(random_state=RANDOM_SEED, solver='liblinear')\n",
        "model_l.fit(features_upsampled, target_upsampled)\n",
        "predicted_valid_l = model_l.predict(features_valid)\n",
        "\n",
        "print(\"F1:\", f1_score(target_valid, predicted_valid_l))"
      ]
    },
    {
      "cell_type": "code",
      "execution_count": null,
      "metadata": {
        "id": "h3M_itpykl4_",
        "outputId": "59b6c145-ecf4-4ca8-bd42-e20b68edf303"
      },
      "outputs": [
        {
          "name": "stdout",
          "output_type": "stream",
          "text": [
            "Значение: 0.7024882665279838\n"
          ]
        }
      ],
      "source": [
        "probabilities_valid = model_d.predict_proba(features_valid)\n",
        "probabilities_one_valid_d = probabilities_valid[:, 1]\n",
        "\n",
        "fpr_dec, tpr_dec, thresholds_dec = roc_curve(target_valid, probabilities_one_valid_d)\n",
        "\n",
        "aucroc_dec=roc_auc_score(target_valid, probabilities_one_valid_d)\n",
        "print('Значение:', aucroc_dec)"
      ]
    },
    {
      "cell_type": "code",
      "execution_count": null,
      "metadata": {
        "id": "Pb7WMywHkl5B",
        "outputId": "cb77f68d-9b7c-467d-c415-93663340468c"
      },
      "outputs": [
        {
          "name": "stdout",
          "output_type": "stream",
          "text": [
            "Значение: 0.8487008109097213\n"
          ]
        }
      ],
      "source": [
        "predicted_valid_r = model_r.predict_proba(features_valid)\n",
        "probabilities_one_valid_r = predicted_valid_r[:, 1]\n",
        "\n",
        "fpr_ran, tpr_ran, thresholds_ran = roc_curve(target_valid, probabilities_one_valid_r)\n",
        "\n",
        "aucroc_ran=roc_auc_score(target_valid, probabilities_one_valid_r)\n",
        "print('Значение:', aucroc_ran)"
      ]
    },
    {
      "cell_type": "code",
      "execution_count": null,
      "metadata": {
        "id": "ZicHWDsakl5C",
        "outputId": "81d3dc98-63c7-4105-93e7-75561e3f6038"
      },
      "outputs": [
        {
          "name": "stdout",
          "output_type": "stream",
          "text": [
            "Значение: 0.7719950433705081\n"
          ]
        }
      ],
      "source": [
        "probabilities_valid_log = model_l.predict_proba(features_valid)\n",
        "probabilities_one_valid_l = probabilities_valid_log[:, 1]\n",
        "\n",
        "fpr_log, tpr_log, thresholds_log = roc_curve(target_valid, probabilities_one_valid_l)\n",
        "\n",
        "aucroc_log=roc_auc_score(target_valid, probabilities_one_valid_l)\n",
        "print('Значение:', aucroc_log)"
      ]
    },
    {
      "cell_type": "code",
      "execution_count": null,
      "metadata": {
        "id": "sSJakGtPkl5D",
        "outputId": "28fc8f35-a6f4-48cc-86f9-051bfa65c7c1"
      },
      "outputs": [
        {
          "data": {
            "text/plain": [
              "<Figure size 432x288 with 0 Axes>"
            ]
          },
          "metadata": {},
          "output_type": "display_data"
        },
        {
          "data": {
            "image/png": "[encoded data removed]",
            "text/plain": [
              "<Figure size 720x720 with 1 Axes>"
            ]
          },
          "metadata": {
            "needs_background": "light"
          },
          "output_type": "display_data"
        }
      ],
      "source": [
        "plt.figure()\n",
        "\n",
        "plt.figure(figsize=(10,10))\n",
        "plt.xlim([0.0, 1.0])\n",
        "plt.ylim([0.0, 1.0])\n",
        "plt.plot([0, 1], [0, 1], linestyle='--')\n",
        "plt.plot(fpr_dec, tpr_dec, thresholds_dec)\n",
        "plt.plot(fpr_ran, tpr_ran, thresholds_ran)\n",
        "plt.plot(fpr_log, tpr_log, thresholds_log)\n",
        "plt.xlabel('False Positive Rate')\n",
        "plt.ylabel('True Positive Rate')\n",
        "plt.title('ROC-кривая')\n",
        "plt.legend(('Случайная модель', 'Дерево решения', 'Случайный лес', 'Логистическая регрессия'), loc= 'upper left') \n",
        "plt.show()"
      ]
    },
    {
      "cell_type": "markdown",
      "metadata": {
        "id": "C89eRCsNkl5D"
      },
      "source": [
        "## Тестирование модели"
      ]
    },
    {
      "cell_type": "markdown",
      "metadata": {
        "id": "Mdu56C2kkl5E"
      },
      "source": [
        "К тесту применим модель случайного леса"
      ]
    },
    {
      "cell_type": "code",
      "execution_count": null,
      "metadata": {
        "scrolled": false,
        "id": "vVlbcJf7kl5E",
        "outputId": "5e5b9a12-0723-41db-d008-735d2c703618"
      },
      "outputs": [
        {
          "name": "stdout",
          "output_type": "stream",
          "text": [
            "Случайный лес\n",
            "Точность попадания по классам 0.867\n",
            "Precision 0.7279411764705882\n",
            "Recall 0.5076923076923077\n",
            "F1 0.5981873111782476\n"
          ]
        }
      ],
      "source": [
        "model = RandomForestClassifier(random_state=RANDOM_SEED, max_features=None, n_estimators=est, max_depth=depth)\n",
        "model.fit(features_train, target_train)\n",
        "predicted_test = model.predict(features_test)\n",
        "print('Случайный лес')\n",
        "print('Точность попадания по классам', accuracy_score(target_test, predicted_test))\n",
        "print('Precision', precision_score(target_test, predicted_test))\n",
        "print('Recall', recall_score(target_test, predicted_test))\n",
        "print('F1', f1_score(target_test, predicted_test))"
      ]
    },
    {
      "cell_type": "markdown",
      "metadata": {
        "id": "wwbBtg-okl5F"
      },
      "source": [
        "**F1 0.5981873111782476**"
      ]
    },
    {
      "cell_type": "code",
      "execution_count": null,
      "metadata": {
        "id": "6G12UuD3kl5G",
        "outputId": "684e74d7-d30d-49e2-d600-1d1c8bcd5752"
      },
      "outputs": [
        {
          "name": "stdout",
          "output_type": "stream",
          "text": [
            "Случайный лес - уменьшенное количество классов 0\n",
            "Точность попадания по классам 0.771\n",
            "Precision 0.44785276073619634\n",
            "Recall 0.7487179487179487\n",
            "F1 0.5604606525911708\n"
          ]
        }
      ],
      "source": [
        "model = RandomForestClassifier(random_state=RANDOM_SEED, max_features=None, n_estimators=est, max_depth=depth)\n",
        "model.fit(features_downsampled, target_downsampled)\n",
        "predicted_test = model.predict(features_test)\n",
        "print('Случайный лес - уменьшенное количество классов 0')\n",
        "print('Точность попадания по классам', accuracy_score(target_test, predicted_test))\n",
        "print('Precision', precision_score(target_test, predicted_test))\n",
        "print('Recall', recall_score(target_test, predicted_test))\n",
        "print('F1', f1_score(target_test, predicted_test))"
      ]
    },
    {
      "cell_type": "markdown",
      "metadata": {
        "id": "6069PqR8kl5H"
      },
      "source": [
        "**F1 0.5604606525911708**"
      ]
    },
    {
      "cell_type": "code",
      "execution_count": null,
      "metadata": {
        "id": "UWzTiZTZkl5I",
        "outputId": "9b7dc182-edcc-413e-ea8f-554c4a6116ec"
      },
      "outputs": [
        {
          "name": "stdout",
          "output_type": "stream",
          "text": [
            "Случайный лес - увеличенное количество классов 1\n",
            "Точность попадания по классам 0.806\n",
            "Precision 0.5018115942028986\n",
            "Recall 0.7102564102564103\n",
            "F1 0.5881104033970276\n"
          ]
        }
      ],
      "source": [
        "model = RandomForestClassifier(random_state=RANDOM_SEED, max_features=None, n_estimators=est, max_depth=depth)\n",
        "model.fit(features_upsampled, target_upsampled)\n",
        "predicted_test = model.predict(features_test)\n",
        "print('Случайный лес - увеличенное количество классов 1')\n",
        "print('Точность попадания по классам', accuracy_score(target_test, predicted_test))\n",
        "print('Precision', precision_score(target_test, predicted_test))\n",
        "print('Recall', recall_score(target_test, predicted_test))\n",
        "print('F1', f1_score(target_test, predicted_test))"
      ]
    },
    {
      "cell_type": "markdown",
      "metadata": {
        "id": "JZ4AFLTFkl5J"
      },
      "source": [
        "**F1 0.5881104033970276**"
      ]
    },
    {
      "cell_type": "code",
      "execution_count": null,
      "metadata": {
        "id": "tgyueVGDkl5J",
        "outputId": "6abbabce-d2c2-4f32-b99c-c80408d4cb14"
      },
      "outputs": [
        {
          "name": "stdout",
          "output_type": "stream",
          "text": [
            "AUC-ROC RandomForestClassifier - дисбаланс 0.856414237935977\n",
            "AUC-ROC RandomForestClassifier - уменьшение 0.8460670488931359\n",
            "AUC-ROC RandomForestClassifier - рост 0.842778308647874\n"
          ]
        },
        {
          "data": {
            "text/plain": [
              "<Figure size 432x288 with 0 Axes>"
            ]
          },
          "metadata": {},
          "output_type": "display_data"
        },
        {
          "data": {
            "image/png": "[encoded data removed]",
            "text/plain": [
              "<Figure size 720x720 with 1 Axes>"
            ]
          },
          "metadata": {
            "needs_background": "light"
          },
          "output_type": "display_data"
        }
      ],
      "source": [
        "plt.figure()\n",
        "\n",
        "plt.figure(figsize=(10,10))\n",
        "plt.xlim([0.0, 1.0])\n",
        "plt.ylim([0.0, 1.0])\n",
        "plt.plot([0, 1], [0, 1], linestyle='--')\n",
        "\n",
        "\n",
        "model = RandomForestClassifier(random_state=RANDOM_SEED, max_features=None, n_estimators=est, max_depth=depth)\n",
        "model.fit(features_train, target_train)\n",
        "predicted_test = model.predict(features_test)\n",
        "probabilities_test = model.predict_proba(features_test)\n",
        "probabilities_one_test = probabilities_test[:, 1]\n",
        "fpr, tpr, thresholds = roc_curve(target_test, probabilities_one_test)\n",
        "auc_roc = roc_auc_score(target_test, probabilities_one_test)\n",
        "print('AUC-ROC RandomForestClassifier - дисбаланс', auc_roc)\n",
        "plt.plot(fpr, tpr, label='RandomForestClassifier - дисбаланс')\n",
        "\n",
        "\n",
        "model = RandomForestClassifier(random_state=RANDOM_SEED, max_features=None, n_estimators=est, max_depth=depth)\n",
        "model.fit(features_downsampled, target_downsampled)\n",
        "predicted_test = model.predict(features_test)\n",
        "probabilities_test = model.predict_proba(features_test)\n",
        "probabilities_one_test = probabilities_test[:, 1]\n",
        "fpr, tpr, thresholds = roc_curve(target_test, probabilities_one_test)\n",
        "auc_roc = roc_auc_score(target_test, probabilities_one_test)\n",
        "print('AUC-ROC RandomForestClassifier - уменьшение', auc_roc)\n",
        "plt.plot(fpr, tpr, label='RandomForestClassifier - уменьшение')\n",
        "\n",
        "\n",
        "model = RandomForestClassifier(random_state=RANDOM_SEED, max_features=None, n_estimators=est, max_depth=depth)\n",
        "model.fit(features_upsampled, target_upsampled)\n",
        "predicted_test = model.predict(features_test)\n",
        "probabilities_test = model.predict_proba(features_test)\n",
        "probabilities_one_test = probabilities_test[:, 1]\n",
        "fpr, tpr, thresholds = roc_curve(target_test, probabilities_one_test)\n",
        "auc_roc = roc_auc_score(target_test, probabilities_one_test)\n",
        "print('AUC-ROC RandomForestClassifier - рост', auc_roc)\n",
        "plt.plot(fpr, tpr, label='RandomForestClassifier - рост')\n",
        "\n",
        "plt.xlabel('False Positive Rate')\n",
        "plt.ylabel('True Positive Rate')\n",
        "plt.title('ROC-кривая')\n",
        "plt.legend(('Случайная модель', 'Дисбаланс', 'Уменьшение', 'Рост'), loc= 'upper left') \n",
        "plt.show()"
      ]
    },
    {
      "cell_type": "markdown",
      "metadata": {
        "id": "aqWaeN7Xkl5K"
      },
      "source": [
        "**Общий Вывод:** \n",
        "\n",
        "Мы подготовили данные, удалили неактуальные столбцы, заменили отсутствующие значения. Провели исследование и получили результаты:\n",
        "\n",
        "**DecisionTreeClassifier**\n",
        "\n",
        "Лучшее значение - maxdepth: 5 F1: 0.594\n",
        "\n",
        "**RandomForestClassifier**\n",
        "\n",
        "Лучшее значение - maxdepth: 9 F1: 0.6108527131782946\n",
        "\n",
        "Лучшее значение - est: 21 F1: 0.6108527131782946\n",
        "\n",
        "**LogisticRegression**\n",
        "\n",
        "F1: 0.4918872758326216\n",
        "\n",
        "**Провели работу над дисбалансом и получили:**\n",
        "\n",
        "Лучшее значение: 0.8514500753089482\n",
        "\n",
        "**На тестовой выборке**\n",
        "\n",
        "Лучше значение \n",
        "\n",
        "\n",
        "Вывод: RandomForestClassifier является лучшей моделью среди рассмотренных \n"
      ]
    }
  ],
  "metadata": {
    "ExecuteTimeLog": [
      {
        "duration": 50,
        "start_time": "2023-03-18T13:30:09.394Z"
      },
      {
        "duration": 8,
        "start_time": "2023-03-18T13:30:51.352Z"
      },
      {
        "duration": 447,
        "start_time": "2023-03-18T13:32:22.695Z"
      },
      {
        "duration": 157,
        "start_time": "2023-03-18T13:32:23.202Z"
      },
      {
        "duration": 14,
        "start_time": "2023-03-18T13:32:24.790Z"
      },
      {
        "duration": 27,
        "start_time": "2023-03-18T13:32:36.593Z"
      },
      {
        "duration": 1305,
        "start_time": "2023-03-18T13:33:59.474Z"
      },
      {
        "duration": 45,
        "start_time": "2023-03-18T13:34:00.782Z"
      },
      {
        "duration": 22,
        "start_time": "2023-03-18T13:34:00.829Z"
      },
      {
        "duration": 14,
        "start_time": "2023-03-18T13:34:02.351Z"
      },
      {
        "duration": 8,
        "start_time": "2023-03-18T13:35:39.651Z"
      },
      {
        "duration": 40,
        "start_time": "2023-03-18T13:35:40.633Z"
      },
      {
        "duration": 78,
        "start_time": "2023-03-18T13:35:41.412Z"
      },
      {
        "duration": 9,
        "start_time": "2023-03-18T13:36:16.891Z"
      },
      {
        "duration": 4,
        "start_time": "2023-03-18T13:36:20.095Z"
      },
      {
        "duration": 49,
        "start_time": "2023-03-18T13:36:20.383Z"
      },
      {
        "duration": 12,
        "start_time": "2023-03-18T13:36:20.952Z"
      },
      {
        "duration": 14,
        "start_time": "2023-03-18T13:36:31.539Z"
      },
      {
        "duration": 12,
        "start_time": "2023-03-18T13:36:48.180Z"
      },
      {
        "duration": 4,
        "start_time": "2023-03-18T13:36:58.710Z"
      },
      {
        "duration": 40,
        "start_time": "2023-03-18T13:36:59.210Z"
      },
      {
        "duration": 17,
        "start_time": "2023-03-18T13:36:59.731Z"
      },
      {
        "duration": 1135,
        "start_time": "2023-03-18T13:37:00.751Z"
      },
      {
        "duration": 12,
        "start_time": "2023-03-18T13:37:02.092Z"
      },
      {
        "duration": 1056,
        "start_time": "2023-03-18T13:37:33.932Z"
      },
      {
        "duration": 1133,
        "start_time": "2023-03-18T13:39:33.033Z"
      },
      {
        "duration": 1015,
        "start_time": "2023-03-18T13:39:41.883Z"
      },
      {
        "duration": 15,
        "start_time": "2023-03-18T13:39:45.118Z"
      },
      {
        "duration": 12,
        "start_time": "2023-03-18T13:40:03.892Z"
      },
      {
        "duration": 15,
        "start_time": "2023-03-18T13:41:03.451Z"
      },
      {
        "duration": 1047,
        "start_time": "2023-03-18T13:41:05.690Z"
      },
      {
        "duration": 13,
        "start_time": "2023-03-18T13:41:14.951Z"
      },
      {
        "duration": 20,
        "start_time": "2023-03-18T13:41:31.267Z"
      },
      {
        "duration": 6,
        "start_time": "2023-03-18T13:47:19.253Z"
      },
      {
        "duration": 19,
        "start_time": "2023-03-18T13:58:32.288Z"
      },
      {
        "duration": 10,
        "start_time": "2023-03-18T13:58:53.212Z"
      },
      {
        "duration": 4,
        "start_time": "2023-03-18T13:59:26.480Z"
      },
      {
        "duration": 38,
        "start_time": "2023-03-18T13:59:27.011Z"
      },
      {
        "duration": 10,
        "start_time": "2023-03-18T13:59:27.750Z"
      },
      {
        "duration": 13,
        "start_time": "2023-03-18T13:59:29.450Z"
      },
      {
        "duration": 14,
        "start_time": "2023-03-18T13:59:45.651Z"
      },
      {
        "duration": 4,
        "start_time": "2023-03-18T14:01:04.910Z"
      },
      {
        "duration": 41,
        "start_time": "2023-03-18T14:01:05.606Z"
      },
      {
        "duration": 11,
        "start_time": "2023-03-18T14:01:06.650Z"
      },
      {
        "duration": 12,
        "start_time": "2023-03-18T14:01:19.722Z"
      },
      {
        "duration": 10,
        "start_time": "2023-03-18T14:01:35.116Z"
      },
      {
        "duration": 9,
        "start_time": "2023-03-18T14:02:10.431Z"
      },
      {
        "duration": 6,
        "start_time": "2023-03-18T14:02:19.409Z"
      },
      {
        "duration": 16,
        "start_time": "2023-03-18T14:02:44.805Z"
      },
      {
        "duration": 5,
        "start_time": "2023-03-18T14:02:48.911Z"
      },
      {
        "duration": 41,
        "start_time": "2023-03-18T14:02:49.452Z"
      },
      {
        "duration": 4,
        "start_time": "2023-03-18T14:02:50.133Z"
      },
      {
        "duration": 15,
        "start_time": "2023-03-18T14:02:51.774Z"
      },
      {
        "duration": 1465,
        "start_time": "2023-03-18T14:03:06.109Z"
      },
      {
        "duration": 49,
        "start_time": "2023-03-18T14:03:07.576Z"
      },
      {
        "duration": 6,
        "start_time": "2023-03-18T14:03:07.627Z"
      },
      {
        "duration": 117,
        "start_time": "2023-03-18T14:03:07.634Z"
      },
      {
        "duration": 0,
        "start_time": "2023-03-18T14:03:07.752Z"
      },
      {
        "duration": 0,
        "start_time": "2023-03-18T14:03:07.753Z"
      },
      {
        "duration": 10,
        "start_time": "2023-03-18T14:03:20.107Z"
      },
      {
        "duration": 17,
        "start_time": "2023-03-18T14:03:29.209Z"
      },
      {
        "duration": 23,
        "start_time": "2023-03-18T14:03:34.731Z"
      },
      {
        "duration": 17,
        "start_time": "2023-03-18T14:03:36.330Z"
      },
      {
        "duration": 740,
        "start_time": "2023-03-18T14:03:52.510Z"
      },
      {
        "duration": 156,
        "start_time": "2023-03-18T14:08:13.918Z"
      },
      {
        "duration": 817,
        "start_time": "2023-03-18T14:08:36.050Z"
      },
      {
        "duration": 792,
        "start_time": "2023-03-18T14:09:01.811Z"
      },
      {
        "duration": 128,
        "start_time": "2023-03-18T14:09:17.230Z"
      },
      {
        "duration": 1449,
        "start_time": "2023-03-18T14:09:24.832Z"
      },
      {
        "duration": 42,
        "start_time": "2023-03-18T14:09:26.283Z"
      },
      {
        "duration": 5,
        "start_time": "2023-03-18T14:09:26.327Z"
      },
      {
        "duration": 15,
        "start_time": "2023-03-18T14:09:26.334Z"
      },
      {
        "duration": 18,
        "start_time": "2023-03-18T14:09:26.351Z"
      },
      {
        "duration": 301,
        "start_time": "2023-03-18T14:09:26.371Z"
      },
      {
        "duration": 757,
        "start_time": "2023-03-18T14:09:45.416Z"
      },
      {
        "duration": 740,
        "start_time": "2023-03-18T14:10:06.431Z"
      },
      {
        "duration": 429,
        "start_time": "2023-03-18T14:10:25.905Z"
      },
      {
        "duration": 5,
        "start_time": "2023-03-18T14:13:53.552Z"
      },
      {
        "duration": 39,
        "start_time": "2023-03-18T14:13:54.100Z"
      },
      {
        "duration": 5,
        "start_time": "2023-03-18T14:13:54.596Z"
      },
      {
        "duration": 12,
        "start_time": "2023-03-18T14:13:55.072Z"
      },
      {
        "duration": 12,
        "start_time": "2023-03-18T14:13:56.411Z"
      },
      {
        "duration": 721,
        "start_time": "2023-03-18T14:13:57.251Z"
      },
      {
        "duration": 1123,
        "start_time": "2023-03-18T14:15:29.798Z"
      },
      {
        "duration": 23,
        "start_time": "2023-03-18T14:16:12.905Z"
      },
      {
        "duration": 1241,
        "start_time": "2023-03-18T14:16:19.232Z"
      },
      {
        "duration": 743,
        "start_time": "2023-03-18T14:16:39.298Z"
      },
      {
        "duration": 657,
        "start_time": "2023-03-18T14:16:50.312Z"
      },
      {
        "duration": 14,
        "start_time": "2023-03-18T14:16:58.094Z"
      },
      {
        "duration": 12,
        "start_time": "2023-03-18T14:20:34.999Z"
      },
      {
        "duration": 12,
        "start_time": "2023-03-18T14:21:56.078Z"
      },
      {
        "duration": 23,
        "start_time": "2023-03-18T14:22:01.505Z"
      },
      {
        "duration": 729,
        "start_time": "2023-03-18T14:22:57.174Z"
      },
      {
        "duration": 17,
        "start_time": "2023-03-18T14:23:02.233Z"
      },
      {
        "duration": 5,
        "start_time": "2023-03-18T14:33:09.053Z"
      },
      {
        "duration": 8,
        "start_time": "2023-03-18T14:33:52.312Z"
      },
      {
        "duration": 12,
        "start_time": "2023-03-18T14:35:47.465Z"
      },
      {
        "duration": 13,
        "start_time": "2023-03-18T14:36:05.452Z"
      },
      {
        "duration": 7,
        "start_time": "2023-03-18T14:36:17.717Z"
      },
      {
        "duration": 6,
        "start_time": "2023-03-18T14:36:35.321Z"
      },
      {
        "duration": 51,
        "start_time": "2023-03-19T05:11:47.307Z"
      },
      {
        "duration": 1648,
        "start_time": "2023-03-19T05:20:25.764Z"
      },
      {
        "duration": 93,
        "start_time": "2023-03-19T05:20:27.414Z"
      },
      {
        "duration": 7,
        "start_time": "2023-03-19T05:20:27.509Z"
      },
      {
        "duration": 48,
        "start_time": "2023-03-19T05:20:27.519Z"
      },
      {
        "duration": 6,
        "start_time": "2023-03-19T05:20:27.570Z"
      },
      {
        "duration": 14,
        "start_time": "2023-03-19T05:20:27.578Z"
      },
      {
        "duration": 1217,
        "start_time": "2023-03-19T05:20:27.594Z"
      },
      {
        "duration": 921,
        "start_time": "2023-03-19T05:20:28.813Z"
      },
      {
        "duration": 17,
        "start_time": "2023-03-19T05:20:29.736Z"
      },
      {
        "duration": 853,
        "start_time": "2023-03-19T05:24:52.571Z"
      },
      {
        "duration": 765,
        "start_time": "2023-03-19T05:27:14.940Z"
      },
      {
        "duration": 1050,
        "start_time": "2023-03-19T05:28:35.828Z"
      },
      {
        "duration": 1322,
        "start_time": "2023-03-19T05:28:49.908Z"
      },
      {
        "duration": 708,
        "start_time": "2023-03-19T05:31:27.101Z"
      },
      {
        "duration": 763,
        "start_time": "2023-03-19T05:31:50.394Z"
      },
      {
        "duration": 785,
        "start_time": "2023-03-19T05:32:22.528Z"
      },
      {
        "duration": 867,
        "start_time": "2023-03-19T05:37:15.764Z"
      },
      {
        "duration": 789,
        "start_time": "2023-03-19T05:37:53.948Z"
      },
      {
        "duration": 810,
        "start_time": "2023-03-19T05:38:43.649Z"
      },
      {
        "duration": 819,
        "start_time": "2023-03-19T05:39:00.248Z"
      },
      {
        "duration": 181,
        "start_time": "2023-03-19T05:39:37.229Z"
      },
      {
        "duration": 760,
        "start_time": "2023-03-19T05:39:43.909Z"
      },
      {
        "duration": 1489,
        "start_time": "2023-03-19T05:39:52.546Z"
      },
      {
        "duration": 44,
        "start_time": "2023-03-19T05:39:54.037Z"
      },
      {
        "duration": 6,
        "start_time": "2023-03-19T05:39:54.083Z"
      },
      {
        "duration": 31,
        "start_time": "2023-03-19T05:39:54.091Z"
      },
      {
        "duration": 5,
        "start_time": "2023-03-19T05:39:54.125Z"
      },
      {
        "duration": 7,
        "start_time": "2023-03-19T05:39:54.132Z"
      },
      {
        "duration": 1211,
        "start_time": "2023-03-19T05:39:54.141Z"
      },
      {
        "duration": 861,
        "start_time": "2023-03-19T05:39:55.354Z"
      },
      {
        "duration": 17,
        "start_time": "2023-03-19T05:39:56.217Z"
      },
      {
        "duration": 20,
        "start_time": "2023-03-19T05:43:44.929Z"
      },
      {
        "duration": 4,
        "start_time": "2023-03-19T05:43:47.090Z"
      },
      {
        "duration": 1177,
        "start_time": "2023-03-19T05:44:09.789Z"
      },
      {
        "duration": 737,
        "start_time": "2023-03-19T05:44:31.990Z"
      },
      {
        "duration": 16,
        "start_time": "2023-03-19T05:45:17.850Z"
      },
      {
        "duration": 740,
        "start_time": "2023-03-19T05:45:19.509Z"
      },
      {
        "duration": 16,
        "start_time": "2023-03-19T05:45:41.029Z"
      },
      {
        "duration": 847,
        "start_time": "2023-03-19T05:45:42.689Z"
      },
      {
        "duration": 1557,
        "start_time": "2023-03-19T05:51:06.013Z"
      },
      {
        "duration": 44,
        "start_time": "2023-03-19T05:51:07.572Z"
      },
      {
        "duration": 5,
        "start_time": "2023-03-19T05:51:07.619Z"
      },
      {
        "duration": 46,
        "start_time": "2023-03-19T05:51:07.626Z"
      },
      {
        "duration": 5,
        "start_time": "2023-03-19T05:51:07.674Z"
      },
      {
        "duration": 1256,
        "start_time": "2023-03-19T05:51:07.681Z"
      },
      {
        "duration": 20,
        "start_time": "2023-03-19T05:51:08.939Z"
      },
      {
        "duration": 902,
        "start_time": "2023-03-19T05:51:08.973Z"
      },
      {
        "duration": 8,
        "start_time": "2023-03-19T05:51:50.669Z"
      },
      {
        "duration": 7,
        "start_time": "2023-03-19T05:52:20.249Z"
      },
      {
        "duration": 214,
        "start_time": "2023-03-19T05:54:23.609Z"
      },
      {
        "duration": 283,
        "start_time": "2023-03-19T05:55:00.349Z"
      },
      {
        "duration": 211,
        "start_time": "2023-03-19T05:55:14.129Z"
      },
      {
        "duration": 247,
        "start_time": "2023-03-19T05:57:02.249Z"
      },
      {
        "duration": 230,
        "start_time": "2023-03-19T05:57:25.529Z"
      },
      {
        "duration": 153,
        "start_time": "2023-03-19T05:57:34.850Z"
      },
      {
        "duration": 260,
        "start_time": "2023-03-19T05:57:41.270Z"
      },
      {
        "duration": 13,
        "start_time": "2023-03-19T05:58:17.196Z"
      },
      {
        "duration": 234,
        "start_time": "2023-03-19T05:58:31.270Z"
      },
      {
        "duration": 16,
        "start_time": "2023-03-19T05:59:34.397Z"
      },
      {
        "duration": 20,
        "start_time": "2023-03-19T05:59:34.996Z"
      },
      {
        "duration": 16,
        "start_time": "2023-03-19T06:00:28.152Z"
      },
      {
        "duration": 4,
        "start_time": "2023-03-19T06:00:35.997Z"
      },
      {
        "duration": 39,
        "start_time": "2023-03-19T06:00:36.211Z"
      },
      {
        "duration": 6,
        "start_time": "2023-03-19T06:00:36.320Z"
      },
      {
        "duration": 23,
        "start_time": "2023-03-19T06:00:36.712Z"
      },
      {
        "duration": 4,
        "start_time": "2023-03-19T06:00:37.051Z"
      },
      {
        "duration": 1376,
        "start_time": "2023-03-19T06:00:37.893Z"
      },
      {
        "duration": 20,
        "start_time": "2023-03-19T06:00:39.273Z"
      },
      {
        "duration": 804,
        "start_time": "2023-03-19T06:00:39.294Z"
      },
      {
        "duration": 215,
        "start_time": "2023-03-19T06:00:40.101Z"
      },
      {
        "duration": 253,
        "start_time": "2023-03-19T06:00:40.317Z"
      },
      {
        "duration": 6830,
        "start_time": "2023-03-19T06:01:21.431Z"
      },
      {
        "duration": 190,
        "start_time": "2023-03-19T06:02:02.532Z"
      },
      {
        "duration": 224,
        "start_time": "2023-03-19T06:03:07.972Z"
      },
      {
        "duration": 233,
        "start_time": "2023-03-19T06:03:52.702Z"
      },
      {
        "duration": 321,
        "start_time": "2023-03-19T06:04:04.773Z"
      },
      {
        "duration": 193,
        "start_time": "2023-03-19T06:04:24.333Z"
      },
      {
        "duration": 225,
        "start_time": "2023-03-19T06:04:48.214Z"
      },
      {
        "duration": 219,
        "start_time": "2023-03-19T06:05:06.886Z"
      },
      {
        "duration": 219,
        "start_time": "2023-03-19T06:05:38.714Z"
      },
      {
        "duration": 229,
        "start_time": "2023-03-19T06:05:56.833Z"
      },
      {
        "duration": 238,
        "start_time": "2023-03-19T06:06:08.854Z"
      },
      {
        "duration": 242,
        "start_time": "2023-03-19T06:08:11.388Z"
      },
      {
        "duration": 222,
        "start_time": "2023-03-19T06:08:19.597Z"
      },
      {
        "duration": 225,
        "start_time": "2023-03-19T06:10:44.824Z"
      },
      {
        "duration": 228,
        "start_time": "2023-03-19T06:11:12.414Z"
      },
      {
        "duration": 221,
        "start_time": "2023-03-19T06:12:09.620Z"
      },
      {
        "duration": 619,
        "start_time": "2023-03-19T06:12:27.037Z"
      },
      {
        "duration": 607,
        "start_time": "2023-03-19T06:12:34.736Z"
      },
      {
        "duration": 236,
        "start_time": "2023-03-19T06:12:51.495Z"
      },
      {
        "duration": 186,
        "start_time": "2023-03-19T06:13:05.717Z"
      },
      {
        "duration": 197,
        "start_time": "2023-03-19T06:15:26.512Z"
      },
      {
        "duration": 209,
        "start_time": "2023-03-19T06:15:48.937Z"
      },
      {
        "duration": 226,
        "start_time": "2023-03-19T06:16:03.299Z"
      },
      {
        "duration": 202,
        "start_time": "2023-03-19T06:16:42.553Z"
      },
      {
        "duration": 1525,
        "start_time": "2023-03-19T06:17:47.125Z"
      },
      {
        "duration": 53,
        "start_time": "2023-03-19T06:17:48.652Z"
      },
      {
        "duration": 5,
        "start_time": "2023-03-19T06:17:48.706Z"
      },
      {
        "duration": 35,
        "start_time": "2023-03-19T06:17:48.713Z"
      },
      {
        "duration": 4,
        "start_time": "2023-03-19T06:17:48.750Z"
      },
      {
        "duration": 1226,
        "start_time": "2023-03-19T06:17:48.756Z"
      },
      {
        "duration": 16,
        "start_time": "2023-03-19T06:17:49.986Z"
      },
      {
        "duration": 931,
        "start_time": "2023-03-19T06:17:50.003Z"
      },
      {
        "duration": 216,
        "start_time": "2023-03-19T06:17:50.936Z"
      },
      {
        "duration": 232,
        "start_time": "2023-03-19T06:17:51.154Z"
      },
      {
        "duration": 1599,
        "start_time": "2023-03-19T06:19:06.387Z"
      },
      {
        "duration": 44,
        "start_time": "2023-03-19T06:19:07.989Z"
      },
      {
        "duration": 4,
        "start_time": "2023-03-19T06:19:08.035Z"
      },
      {
        "duration": 28,
        "start_time": "2023-03-19T06:19:08.041Z"
      },
      {
        "duration": 14,
        "start_time": "2023-03-19T06:19:08.072Z"
      },
      {
        "duration": 1227,
        "start_time": "2023-03-19T06:19:08.088Z"
      },
      {
        "duration": 17,
        "start_time": "2023-03-19T06:19:09.317Z"
      },
      {
        "duration": 905,
        "start_time": "2023-03-19T06:19:09.335Z"
      },
      {
        "duration": 256,
        "start_time": "2023-03-19T06:19:10.242Z"
      },
      {
        "duration": 269,
        "start_time": "2023-03-19T06:19:10.500Z"
      },
      {
        "duration": 248,
        "start_time": "2023-03-19T06:19:10.770Z"
      },
      {
        "duration": 197,
        "start_time": "2023-03-19T06:19:11.020Z"
      },
      {
        "duration": 211,
        "start_time": "2023-03-19T06:19:20.337Z"
      },
      {
        "duration": 169,
        "start_time": "2023-03-19T06:20:58.112Z"
      },
      {
        "duration": 204,
        "start_time": "2023-03-19T06:21:27.518Z"
      },
      {
        "duration": 216,
        "start_time": "2023-03-19T06:21:46.074Z"
      },
      {
        "duration": 190,
        "start_time": "2023-03-19T06:22:27.558Z"
      },
      {
        "duration": 177,
        "start_time": "2023-03-19T06:22:47.180Z"
      },
      {
        "duration": 170,
        "start_time": "2023-03-19T06:23:27.778Z"
      },
      {
        "duration": 130,
        "start_time": "2023-03-19T06:42:52.455Z"
      },
      {
        "duration": 11,
        "start_time": "2023-03-19T06:43:12.413Z"
      },
      {
        "duration": 5,
        "start_time": "2023-03-19T06:43:46.920Z"
      },
      {
        "duration": 5,
        "start_time": "2023-03-19T06:45:42.280Z"
      },
      {
        "duration": 6,
        "start_time": "2023-03-19T06:45:42.991Z"
      },
      {
        "duration": 8,
        "start_time": "2023-03-19T06:46:21.320Z"
      },
      {
        "duration": 3,
        "start_time": "2023-03-19T06:46:21.905Z"
      },
      {
        "duration": 13,
        "start_time": "2023-03-19T06:48:28.523Z"
      },
      {
        "duration": 13,
        "start_time": "2023-03-19T06:48:52.034Z"
      },
      {
        "duration": 18,
        "start_time": "2023-03-19T06:49:02.885Z"
      },
      {
        "duration": 15,
        "start_time": "2023-03-19T06:50:40.890Z"
      },
      {
        "duration": 18,
        "start_time": "2023-03-19T06:52:14.098Z"
      },
      {
        "duration": 102,
        "start_time": "2023-03-19T06:54:37.519Z"
      },
      {
        "duration": 5,
        "start_time": "2023-03-19T06:54:38.057Z"
      },
      {
        "duration": 7,
        "start_time": "2023-03-19T06:54:39.403Z"
      },
      {
        "duration": 4,
        "start_time": "2023-03-19T06:54:41.299Z"
      },
      {
        "duration": 1838,
        "start_time": "2023-03-19T06:54:51.506Z"
      },
      {
        "duration": 58,
        "start_time": "2023-03-19T06:54:53.346Z"
      },
      {
        "duration": 6,
        "start_time": "2023-03-19T06:54:53.406Z"
      },
      {
        "duration": 37,
        "start_time": "2023-03-19T06:54:53.413Z"
      },
      {
        "duration": 4,
        "start_time": "2023-03-19T06:54:53.453Z"
      },
      {
        "duration": 1335,
        "start_time": "2023-03-19T06:54:53.459Z"
      },
      {
        "duration": 19,
        "start_time": "2023-03-19T06:54:54.799Z"
      },
      {
        "duration": 909,
        "start_time": "2023-03-19T06:54:54.819Z"
      },
      {
        "duration": 222,
        "start_time": "2023-03-19T06:54:55.730Z"
      },
      {
        "duration": 253,
        "start_time": "2023-03-19T06:54:55.955Z"
      },
      {
        "duration": 200,
        "start_time": "2023-03-19T06:54:56.210Z"
      },
      {
        "duration": 226,
        "start_time": "2023-03-19T06:54:56.412Z"
      },
      {
        "duration": 206,
        "start_time": "2023-03-19T06:54:56.640Z"
      },
      {
        "duration": 15,
        "start_time": "2023-03-19T06:54:56.848Z"
      },
      {
        "duration": 19,
        "start_time": "2023-03-19T06:54:56.879Z"
      },
      {
        "duration": 6,
        "start_time": "2023-03-19T06:54:56.900Z"
      },
      {
        "duration": 7,
        "start_time": "2023-03-19T06:54:56.908Z"
      },
      {
        "duration": 6,
        "start_time": "2023-03-19T06:54:56.917Z"
      },
      {
        "duration": 4,
        "start_time": "2023-03-19T06:54:56.925Z"
      },
      {
        "duration": 127,
        "start_time": "2023-03-19T06:58:54.041Z"
      },
      {
        "duration": 16,
        "start_time": "2023-03-19T06:59:27.590Z"
      },
      {
        "duration": 21,
        "start_time": "2023-03-19T07:00:10.973Z"
      },
      {
        "duration": 11,
        "start_time": "2023-03-19T07:00:38.042Z"
      },
      {
        "duration": 1699,
        "start_time": "2023-03-19T07:02:15.685Z"
      },
      {
        "duration": 46,
        "start_time": "2023-03-19T07:02:17.389Z"
      },
      {
        "duration": 6,
        "start_time": "2023-03-19T07:02:17.436Z"
      },
      {
        "duration": 48,
        "start_time": "2023-03-19T07:02:17.444Z"
      },
      {
        "duration": 6,
        "start_time": "2023-03-19T07:02:17.494Z"
      },
      {
        "duration": 1365,
        "start_time": "2023-03-19T07:02:17.502Z"
      },
      {
        "duration": 40,
        "start_time": "2023-03-19T07:02:18.870Z"
      },
      {
        "duration": 981,
        "start_time": "2023-03-19T07:02:18.912Z"
      },
      {
        "duration": 256,
        "start_time": "2023-03-19T07:02:19.898Z"
      },
      {
        "duration": 251,
        "start_time": "2023-03-19T07:02:20.156Z"
      },
      {
        "duration": 225,
        "start_time": "2023-03-19T07:02:20.409Z"
      },
      {
        "duration": 254,
        "start_time": "2023-03-19T07:02:20.636Z"
      },
      {
        "duration": 285,
        "start_time": "2023-03-19T07:02:20.895Z"
      },
      {
        "duration": 18,
        "start_time": "2023-03-19T07:02:21.188Z"
      },
      {
        "duration": 40,
        "start_time": "2023-03-19T07:02:21.207Z"
      },
      {
        "duration": 23,
        "start_time": "2023-03-19T07:02:21.249Z"
      },
      {
        "duration": 22,
        "start_time": "2023-03-19T07:02:21.276Z"
      },
      {
        "duration": 26,
        "start_time": "2023-03-19T07:02:21.300Z"
      },
      {
        "duration": 190,
        "start_time": "2023-03-19T07:02:21.329Z"
      },
      {
        "duration": 65,
        "start_time": "2023-03-19T07:03:22.868Z"
      },
      {
        "duration": 49,
        "start_time": "2023-03-19T07:04:03.933Z"
      },
      {
        "duration": 42,
        "start_time": "2023-03-19T07:04:37.170Z"
      },
      {
        "duration": 39,
        "start_time": "2023-03-19T07:05:25.711Z"
      },
      {
        "duration": 51,
        "start_time": "2023-03-19T07:06:31.554Z"
      },
      {
        "duration": 1534,
        "start_time": "2023-03-19T07:07:11.554Z"
      },
      {
        "duration": 50,
        "start_time": "2023-03-19T07:07:13.090Z"
      },
      {
        "duration": 5,
        "start_time": "2023-03-19T07:07:13.141Z"
      },
      {
        "duration": 46,
        "start_time": "2023-03-19T07:07:13.148Z"
      },
      {
        "duration": 35,
        "start_time": "2023-03-19T07:07:13.196Z"
      },
      {
        "duration": 4,
        "start_time": "2023-03-19T07:07:13.233Z"
      },
      {
        "duration": 1297,
        "start_time": "2023-03-19T07:07:13.239Z"
      },
      {
        "duration": 15,
        "start_time": "2023-03-19T07:07:14.538Z"
      },
      {
        "duration": 949,
        "start_time": "2023-03-19T07:07:14.556Z"
      },
      {
        "duration": 220,
        "start_time": "2023-03-19T07:07:15.507Z"
      },
      {
        "duration": 257,
        "start_time": "2023-03-19T07:07:15.729Z"
      },
      {
        "duration": 180,
        "start_time": "2023-03-19T07:07:15.988Z"
      },
      {
        "duration": 242,
        "start_time": "2023-03-19T07:07:16.169Z"
      },
      {
        "duration": 204,
        "start_time": "2023-03-19T07:07:16.414Z"
      },
      {
        "duration": 15,
        "start_time": "2023-03-19T07:07:16.619Z"
      },
      {
        "duration": 10,
        "start_time": "2023-03-19T07:07:16.636Z"
      },
      {
        "duration": 88,
        "start_time": "2023-03-19T07:07:16.648Z"
      },
      {
        "duration": 6,
        "start_time": "2023-03-19T07:07:16.738Z"
      },
      {
        "duration": 11,
        "start_time": "2023-03-19T07:07:16.746Z"
      },
      {
        "duration": 161,
        "start_time": "2023-03-19T07:07:16.759Z"
      },
      {
        "duration": 5,
        "start_time": "2023-03-19T07:08:20.518Z"
      },
      {
        "duration": 43,
        "start_time": "2023-03-19T07:08:21.820Z"
      },
      {
        "duration": 21,
        "start_time": "2023-03-19T07:09:52.688Z"
      },
      {
        "duration": 52,
        "start_time": "2023-03-19T07:10:08.038Z"
      },
      {
        "duration": 55,
        "start_time": "2023-03-19T07:10:52.646Z"
      },
      {
        "duration": 1698,
        "start_time": "2023-03-19T07:11:33.323Z"
      },
      {
        "duration": 48,
        "start_time": "2023-03-19T07:11:35.023Z"
      },
      {
        "duration": 8,
        "start_time": "2023-03-19T07:11:35.078Z"
      },
      {
        "duration": 49,
        "start_time": "2023-03-19T07:11:35.095Z"
      },
      {
        "duration": 48,
        "start_time": "2023-03-19T07:11:35.147Z"
      },
      {
        "duration": 11,
        "start_time": "2023-03-19T07:11:35.197Z"
      },
      {
        "duration": 1319,
        "start_time": "2023-03-19T07:11:35.212Z"
      },
      {
        "duration": 15,
        "start_time": "2023-03-19T07:11:36.533Z"
      },
      {
        "duration": 952,
        "start_time": "2023-03-19T07:11:36.551Z"
      },
      {
        "duration": 228,
        "start_time": "2023-03-19T07:11:37.505Z"
      },
      {
        "duration": 250,
        "start_time": "2023-03-19T07:11:37.735Z"
      },
      {
        "duration": 178,
        "start_time": "2023-03-19T07:11:37.987Z"
      },
      {
        "duration": 233,
        "start_time": "2023-03-19T07:11:38.167Z"
      },
      {
        "duration": 226,
        "start_time": "2023-03-19T07:11:38.406Z"
      },
      {
        "duration": 13,
        "start_time": "2023-03-19T07:11:38.634Z"
      },
      {
        "duration": 64,
        "start_time": "2023-03-19T07:11:38.649Z"
      },
      {
        "duration": 5,
        "start_time": "2023-03-19T07:11:38.716Z"
      },
      {
        "duration": 12,
        "start_time": "2023-03-19T07:11:38.724Z"
      },
      {
        "duration": 4,
        "start_time": "2023-03-19T07:11:38.738Z"
      },
      {
        "duration": 210,
        "start_time": "2023-03-19T07:11:38.744Z"
      },
      {
        "duration": 1712,
        "start_time": "2023-03-19T07:12:38.290Z"
      },
      {
        "duration": 44,
        "start_time": "2023-03-19T07:12:40.004Z"
      },
      {
        "duration": 4,
        "start_time": "2023-03-19T07:12:40.050Z"
      },
      {
        "duration": 67,
        "start_time": "2023-03-19T07:12:40.056Z"
      },
      {
        "duration": 33,
        "start_time": "2023-03-19T07:12:40.125Z"
      },
      {
        "duration": 4,
        "start_time": "2023-03-19T07:12:40.160Z"
      },
      {
        "duration": 1359,
        "start_time": "2023-03-19T07:12:40.166Z"
      },
      {
        "duration": 15,
        "start_time": "2023-03-19T07:12:41.527Z"
      },
      {
        "duration": 960,
        "start_time": "2023-03-19T07:12:41.544Z"
      },
      {
        "duration": 217,
        "start_time": "2023-03-19T07:12:42.505Z"
      },
      {
        "duration": 226,
        "start_time": "2023-03-19T07:12:42.724Z"
      },
      {
        "duration": 199,
        "start_time": "2023-03-19T07:12:42.952Z"
      },
      {
        "duration": 205,
        "start_time": "2023-03-19T07:12:43.152Z"
      },
      {
        "duration": 198,
        "start_time": "2023-03-19T07:12:43.359Z"
      },
      {
        "duration": 31,
        "start_time": "2023-03-19T07:12:43.559Z"
      },
      {
        "duration": 56,
        "start_time": "2023-03-19T07:12:43.592Z"
      },
      {
        "duration": 4,
        "start_time": "2023-03-19T07:12:43.650Z"
      },
      {
        "duration": 9,
        "start_time": "2023-03-19T07:12:43.656Z"
      },
      {
        "duration": 5,
        "start_time": "2023-03-19T07:12:43.667Z"
      },
      {
        "duration": 1576,
        "start_time": "2023-03-19T07:17:00.977Z"
      },
      {
        "duration": 56,
        "start_time": "2023-03-19T07:17:02.556Z"
      },
      {
        "duration": 6,
        "start_time": "2023-03-19T07:17:02.613Z"
      },
      {
        "duration": 39,
        "start_time": "2023-03-19T07:17:02.621Z"
      },
      {
        "duration": 43,
        "start_time": "2023-03-19T07:17:02.662Z"
      },
      {
        "duration": 7,
        "start_time": "2023-03-19T07:17:02.706Z"
      },
      {
        "duration": 1274,
        "start_time": "2023-03-19T07:17:02.715Z"
      },
      {
        "duration": 18,
        "start_time": "2023-03-19T07:17:03.995Z"
      },
      {
        "duration": 901,
        "start_time": "2023-03-19T07:17:04.015Z"
      },
      {
        "duration": 241,
        "start_time": "2023-03-19T07:17:04.919Z"
      },
      {
        "duration": 256,
        "start_time": "2023-03-19T07:17:05.162Z"
      },
      {
        "duration": 192,
        "start_time": "2023-03-19T07:17:05.420Z"
      },
      {
        "duration": 219,
        "start_time": "2023-03-19T07:17:05.615Z"
      },
      {
        "duration": 217,
        "start_time": "2023-03-19T07:17:05.835Z"
      },
      {
        "duration": 21,
        "start_time": "2023-03-19T07:17:06.054Z"
      },
      {
        "duration": 64,
        "start_time": "2023-03-19T07:17:06.076Z"
      },
      {
        "duration": 4,
        "start_time": "2023-03-19T07:17:06.142Z"
      },
      {
        "duration": 20,
        "start_time": "2023-03-19T07:17:06.148Z"
      },
      {
        "duration": 41,
        "start_time": "2023-03-19T07:17:06.170Z"
      },
      {
        "duration": 3,
        "start_time": "2023-03-19T07:33:27.087Z"
      },
      {
        "duration": 3,
        "start_time": "2023-03-19T07:37:01.670Z"
      },
      {
        "duration": 168,
        "start_time": "2023-03-19T07:37:07.182Z"
      },
      {
        "duration": 1631,
        "start_time": "2023-03-19T07:40:17.636Z"
      },
      {
        "duration": 0,
        "start_time": "2023-03-19T07:40:19.269Z"
      },
      {
        "duration": 0,
        "start_time": "2023-03-19T07:40:19.273Z"
      },
      {
        "duration": 0,
        "start_time": "2023-03-19T07:40:19.274Z"
      },
      {
        "duration": 0,
        "start_time": "2023-03-19T07:40:19.275Z"
      },
      {
        "duration": 0,
        "start_time": "2023-03-19T07:40:19.277Z"
      },
      {
        "duration": 0,
        "start_time": "2023-03-19T07:40:19.278Z"
      },
      {
        "duration": 0,
        "start_time": "2023-03-19T07:40:19.279Z"
      },
      {
        "duration": 0,
        "start_time": "2023-03-19T07:40:19.280Z"
      },
      {
        "duration": 0,
        "start_time": "2023-03-19T07:40:19.281Z"
      },
      {
        "duration": 0,
        "start_time": "2023-03-19T07:40:19.282Z"
      },
      {
        "duration": 0,
        "start_time": "2023-03-19T07:40:19.283Z"
      },
      {
        "duration": 0,
        "start_time": "2023-03-19T07:40:19.284Z"
      },
      {
        "duration": 0,
        "start_time": "2023-03-19T07:40:19.285Z"
      },
      {
        "duration": 0,
        "start_time": "2023-03-19T07:40:19.287Z"
      },
      {
        "duration": 0,
        "start_time": "2023-03-19T07:40:19.288Z"
      },
      {
        "duration": 0,
        "start_time": "2023-03-19T07:40:19.289Z"
      },
      {
        "duration": 1,
        "start_time": "2023-03-19T07:40:19.289Z"
      },
      {
        "duration": 1,
        "start_time": "2023-03-19T07:40:19.290Z"
      },
      {
        "duration": 0,
        "start_time": "2023-03-19T07:40:19.291Z"
      },
      {
        "duration": 1599,
        "start_time": "2023-03-19T07:40:54.009Z"
      },
      {
        "duration": 0,
        "start_time": "2023-03-19T07:40:55.610Z"
      },
      {
        "duration": 0,
        "start_time": "2023-03-19T07:40:55.611Z"
      },
      {
        "duration": 0,
        "start_time": "2023-03-19T07:40:55.612Z"
      },
      {
        "duration": 0,
        "start_time": "2023-03-19T07:40:55.613Z"
      },
      {
        "duration": 0,
        "start_time": "2023-03-19T07:40:55.614Z"
      },
      {
        "duration": 0,
        "start_time": "2023-03-19T07:40:55.615Z"
      },
      {
        "duration": 0,
        "start_time": "2023-03-19T07:40:55.616Z"
      },
      {
        "duration": 0,
        "start_time": "2023-03-19T07:40:55.618Z"
      },
      {
        "duration": 0,
        "start_time": "2023-03-19T07:40:55.618Z"
      },
      {
        "duration": 0,
        "start_time": "2023-03-19T07:40:55.619Z"
      },
      {
        "duration": 0,
        "start_time": "2023-03-19T07:40:55.620Z"
      },
      {
        "duration": 0,
        "start_time": "2023-03-19T07:40:55.621Z"
      },
      {
        "duration": 0,
        "start_time": "2023-03-19T07:40:55.623Z"
      },
      {
        "duration": 0,
        "start_time": "2023-03-19T07:40:55.623Z"
      },
      {
        "duration": 0,
        "start_time": "2023-03-19T07:40:55.624Z"
      },
      {
        "duration": 0,
        "start_time": "2023-03-19T07:40:55.626Z"
      },
      {
        "duration": 0,
        "start_time": "2023-03-19T07:40:55.627Z"
      },
      {
        "duration": 0,
        "start_time": "2023-03-19T07:40:55.628Z"
      },
      {
        "duration": 0,
        "start_time": "2023-03-19T07:40:55.629Z"
      },
      {
        "duration": 11,
        "start_time": "2023-03-19T07:41:10.209Z"
      },
      {
        "duration": 12,
        "start_time": "2023-03-19T07:41:18.449Z"
      },
      {
        "duration": 45,
        "start_time": "2023-03-19T07:41:18.628Z"
      },
      {
        "duration": 5,
        "start_time": "2023-03-19T07:41:18.828Z"
      },
      {
        "duration": 30,
        "start_time": "2023-03-19T07:41:19.190Z"
      },
      {
        "duration": 33,
        "start_time": "2023-03-19T07:41:19.391Z"
      },
      {
        "duration": 4,
        "start_time": "2023-03-19T07:41:19.808Z"
      },
      {
        "duration": 1279,
        "start_time": "2023-03-19T07:41:20.370Z"
      },
      {
        "duration": 23,
        "start_time": "2023-03-19T07:41:21.651Z"
      },
      {
        "duration": 864,
        "start_time": "2023-03-19T07:41:22.510Z"
      },
      {
        "duration": 212,
        "start_time": "2023-03-19T07:41:23.376Z"
      },
      {
        "duration": 229,
        "start_time": "2023-03-19T07:41:23.589Z"
      },
      {
        "duration": 183,
        "start_time": "2023-03-19T07:41:23.820Z"
      },
      {
        "duration": 194,
        "start_time": "2023-03-19T07:41:24.669Z"
      },
      {
        "duration": 194,
        "start_time": "2023-03-19T07:41:25.391Z"
      },
      {
        "duration": 10,
        "start_time": "2023-03-19T07:41:26.004Z"
      },
      {
        "duration": 42,
        "start_time": "2023-03-19T07:41:26.453Z"
      },
      {
        "duration": 5,
        "start_time": "2023-03-19T07:41:26.648Z"
      },
      {
        "duration": 7,
        "start_time": "2023-03-19T07:41:26.891Z"
      },
      {
        "duration": 5,
        "start_time": "2023-03-19T07:41:27.708Z"
      },
      {
        "duration": 13,
        "start_time": "2023-03-19T07:41:28.436Z"
      },
      {
        "duration": 79,
        "start_time": "2023-03-19T07:42:30.429Z"
      },
      {
        "duration": 1597,
        "start_time": "2023-03-19T07:42:54.349Z"
      },
      {
        "duration": 0,
        "start_time": "2023-03-19T07:42:55.949Z"
      },
      {
        "duration": 0,
        "start_time": "2023-03-19T07:42:55.950Z"
      },
      {
        "duration": 0,
        "start_time": "2023-03-19T07:42:55.951Z"
      },
      {
        "duration": 0,
        "start_time": "2023-03-19T07:42:55.953Z"
      },
      {
        "duration": 0,
        "start_time": "2023-03-19T07:42:55.954Z"
      },
      {
        "duration": 0,
        "start_time": "2023-03-19T07:42:55.955Z"
      },
      {
        "duration": 0,
        "start_time": "2023-03-19T07:42:55.956Z"
      },
      {
        "duration": 0,
        "start_time": "2023-03-19T07:42:55.957Z"
      },
      {
        "duration": 1,
        "start_time": "2023-03-19T07:42:55.973Z"
      },
      {
        "duration": 0,
        "start_time": "2023-03-19T07:42:55.975Z"
      },
      {
        "duration": 0,
        "start_time": "2023-03-19T07:42:55.976Z"
      },
      {
        "duration": 0,
        "start_time": "2023-03-19T07:42:55.977Z"
      },
      {
        "duration": 0,
        "start_time": "2023-03-19T07:42:55.978Z"
      },
      {
        "duration": 0,
        "start_time": "2023-03-19T07:42:55.979Z"
      },
      {
        "duration": 0,
        "start_time": "2023-03-19T07:42:55.980Z"
      },
      {
        "duration": 0,
        "start_time": "2023-03-19T07:42:55.981Z"
      },
      {
        "duration": 0,
        "start_time": "2023-03-19T07:42:55.982Z"
      },
      {
        "duration": 0,
        "start_time": "2023-03-19T07:42:55.984Z"
      },
      {
        "duration": 0,
        "start_time": "2023-03-19T07:42:55.985Z"
      },
      {
        "duration": 1578,
        "start_time": "2023-03-19T07:43:20.049Z"
      },
      {
        "duration": 43,
        "start_time": "2023-03-19T07:43:21.629Z"
      },
      {
        "duration": 5,
        "start_time": "2023-03-19T07:43:21.674Z"
      },
      {
        "duration": 32,
        "start_time": "2023-03-19T07:43:21.681Z"
      },
      {
        "duration": 36,
        "start_time": "2023-03-19T07:43:21.715Z"
      },
      {
        "duration": 22,
        "start_time": "2023-03-19T07:43:21.753Z"
      },
      {
        "duration": 1197,
        "start_time": "2023-03-19T07:43:21.777Z"
      },
      {
        "duration": 19,
        "start_time": "2023-03-19T07:43:22.976Z"
      },
      {
        "duration": 896,
        "start_time": "2023-03-19T07:43:22.997Z"
      },
      {
        "duration": 209,
        "start_time": "2023-03-19T07:43:23.894Z"
      },
      {
        "duration": 242,
        "start_time": "2023-03-19T07:43:24.106Z"
      },
      {
        "duration": 187,
        "start_time": "2023-03-19T07:43:24.350Z"
      },
      {
        "duration": 196,
        "start_time": "2023-03-19T07:43:24.539Z"
      },
      {
        "duration": 192,
        "start_time": "2023-03-19T07:43:24.738Z"
      },
      {
        "duration": 10,
        "start_time": "2023-03-19T07:43:24.932Z"
      },
      {
        "duration": 55,
        "start_time": "2023-03-19T07:43:24.944Z"
      },
      {
        "duration": 4,
        "start_time": "2023-03-19T07:43:25.001Z"
      },
      {
        "duration": 8,
        "start_time": "2023-03-19T07:43:25.007Z"
      },
      {
        "duration": 3,
        "start_time": "2023-03-19T07:43:25.017Z"
      },
      {
        "duration": 152,
        "start_time": "2023-03-19T07:43:25.022Z"
      },
      {
        "duration": 181,
        "start_time": "2023-03-19T07:45:34.375Z"
      },
      {
        "duration": 179,
        "start_time": "2023-03-19T07:46:24.328Z"
      },
      {
        "duration": 193,
        "start_time": "2023-03-19T07:46:46.428Z"
      },
      {
        "duration": 59,
        "start_time": "2023-03-19T07:47:01.157Z"
      },
      {
        "duration": 344,
        "start_time": "2023-03-19T07:47:15.828Z"
      },
      {
        "duration": 339,
        "start_time": "2023-03-19T07:47:21.609Z"
      },
      {
        "duration": 103,
        "start_time": "2023-03-19T07:47:38.449Z"
      },
      {
        "duration": 101,
        "start_time": "2023-03-19T07:48:55.056Z"
      },
      {
        "duration": 39,
        "start_time": "2023-03-19T07:49:02.428Z"
      },
      {
        "duration": 1576,
        "start_time": "2023-03-19T07:50:00.314Z"
      },
      {
        "duration": 45,
        "start_time": "2023-03-19T07:50:01.892Z"
      },
      {
        "duration": 5,
        "start_time": "2023-03-19T07:50:01.939Z"
      },
      {
        "duration": 78,
        "start_time": "2023-03-19T07:50:01.946Z"
      },
      {
        "duration": 55,
        "start_time": "2023-03-19T07:50:02.026Z"
      },
      {
        "duration": 7,
        "start_time": "2023-03-19T07:50:02.083Z"
      },
      {
        "duration": 1198,
        "start_time": "2023-03-19T07:50:02.092Z"
      },
      {
        "duration": 17,
        "start_time": "2023-03-19T07:50:03.292Z"
      },
      {
        "duration": 882,
        "start_time": "2023-03-19T07:50:03.311Z"
      },
      {
        "duration": 222,
        "start_time": "2023-03-19T07:50:04.196Z"
      },
      {
        "duration": 226,
        "start_time": "2023-03-19T07:50:04.420Z"
      },
      {
        "duration": 176,
        "start_time": "2023-03-19T07:50:04.648Z"
      },
      {
        "duration": 203,
        "start_time": "2023-03-19T07:50:04.826Z"
      },
      {
        "duration": 192,
        "start_time": "2023-03-19T07:50:05.030Z"
      },
      {
        "duration": 11,
        "start_time": "2023-03-19T07:50:05.223Z"
      },
      {
        "duration": 70,
        "start_time": "2023-03-19T07:50:05.235Z"
      },
      {
        "duration": 4,
        "start_time": "2023-03-19T07:50:05.306Z"
      },
      {
        "duration": 19,
        "start_time": "2023-03-19T07:50:05.312Z"
      },
      {
        "duration": 8,
        "start_time": "2023-03-19T07:50:05.333Z"
      },
      {
        "duration": 50,
        "start_time": "2023-03-19T07:50:05.343Z"
      },
      {
        "duration": 10469,
        "start_time": "2023-03-19T07:51:35.545Z"
      },
      {
        "duration": 38,
        "start_time": "2023-03-19T07:52:19.608Z"
      },
      {
        "duration": 1301,
        "start_time": "2023-03-19T07:53:05.024Z"
      },
      {
        "duration": 1233,
        "start_time": "2023-03-19T07:53:51.508Z"
      },
      {
        "duration": 144,
        "start_time": "2023-03-19T07:55:40.269Z"
      },
      {
        "duration": 287,
        "start_time": "2023-03-19T07:55:55.427Z"
      },
      {
        "duration": 46,
        "start_time": "2023-03-19T07:56:12.127Z"
      },
      {
        "duration": 35854,
        "start_time": "2023-03-19T07:56:43.188Z"
      },
      {
        "duration": 5417,
        "start_time": "2023-03-19T07:58:17.827Z"
      },
      {
        "duration": 21752,
        "start_time": "2023-03-19T07:58:35.968Z"
      },
      {
        "duration": 21887,
        "start_time": "2023-03-19T08:01:30.327Z"
      },
      {
        "duration": 21905,
        "start_time": "2023-03-19T08:02:23.127Z"
      },
      {
        "duration": 7572,
        "start_time": "2023-03-19T08:02:59.300Z"
      },
      {
        "duration": 1217,
        "start_time": "2023-03-19T08:04:08.002Z"
      },
      {
        "duration": 1051,
        "start_time": "2023-03-19T08:04:16.435Z"
      },
      {
        "duration": 1266,
        "start_time": "2023-03-19T08:04:47.666Z"
      },
      {
        "duration": 1110,
        "start_time": "2023-03-19T08:04:49.557Z"
      },
      {
        "duration": 7526,
        "start_time": "2023-03-19T08:05:01.526Z"
      },
      {
        "duration": 525,
        "start_time": "2023-03-19T08:06:04.948Z"
      },
      {
        "duration": 477,
        "start_time": "2023-03-19T08:06:57.706Z"
      },
      {
        "duration": 1471,
        "start_time": "2023-03-19T08:07:14.839Z"
      },
      {
        "duration": 44,
        "start_time": "2023-03-19T08:07:16.312Z"
      },
      {
        "duration": 4,
        "start_time": "2023-03-19T08:07:16.358Z"
      },
      {
        "duration": 29,
        "start_time": "2023-03-19T08:07:16.364Z"
      },
      {
        "duration": 34,
        "start_time": "2023-03-19T08:07:16.395Z"
      },
      {
        "duration": 4,
        "start_time": "2023-03-19T08:07:16.430Z"
      },
      {
        "duration": 1204,
        "start_time": "2023-03-19T08:07:16.435Z"
      },
      {
        "duration": 16,
        "start_time": "2023-03-19T08:07:17.641Z"
      },
      {
        "duration": 900,
        "start_time": "2023-03-19T08:07:17.659Z"
      },
      {
        "duration": 202,
        "start_time": "2023-03-19T08:07:18.562Z"
      },
      {
        "duration": 227,
        "start_time": "2023-03-19T08:07:18.765Z"
      },
      {
        "duration": 190,
        "start_time": "2023-03-19T08:07:18.994Z"
      },
      {
        "duration": 203,
        "start_time": "2023-03-19T08:07:19.186Z"
      },
      {
        "duration": 184,
        "start_time": "2023-03-19T08:07:19.391Z"
      },
      {
        "duration": 10,
        "start_time": "2023-03-19T08:07:19.576Z"
      },
      {
        "duration": 41,
        "start_time": "2023-03-19T08:07:19.588Z"
      },
      {
        "duration": 4,
        "start_time": "2023-03-19T08:07:19.631Z"
      },
      {
        "duration": 8,
        "start_time": "2023-03-19T08:07:19.637Z"
      },
      {
        "duration": 4,
        "start_time": "2023-03-19T08:07:19.672Z"
      },
      {
        "duration": 307,
        "start_time": "2023-03-19T08:07:19.678Z"
      },
      {
        "duration": 7533,
        "start_time": "2023-03-19T08:07:19.987Z"
      },
      {
        "duration": 452,
        "start_time": "2023-03-19T08:07:27.521Z"
      },
      {
        "duration": 562,
        "start_time": "2023-03-19T08:08:24.027Z"
      },
      {
        "duration": 429,
        "start_time": "2023-03-19T08:08:35.649Z"
      },
      {
        "duration": 969,
        "start_time": "2023-03-19T08:08:44.914Z"
      },
      {
        "duration": 767,
        "start_time": "2023-03-19T08:09:37.006Z"
      },
      {
        "duration": 179,
        "start_time": "2023-03-19T08:15:37.490Z"
      },
      {
        "duration": 4,
        "start_time": "2023-03-19T08:15:38.990Z"
      },
      {
        "duration": 2,
        "start_time": "2023-03-19T08:15:39.528Z"
      },
      {
        "duration": 6,
        "start_time": "2023-03-19T08:15:40.445Z"
      },
      {
        "duration": 7,
        "start_time": "2023-03-19T08:15:41.345Z"
      },
      {
        "duration": 3,
        "start_time": "2023-03-19T08:15:43.328Z"
      },
      {
        "duration": 141,
        "start_time": "2023-03-19T08:15:44.815Z"
      },
      {
        "duration": 4,
        "start_time": "2023-03-19T08:16:07.896Z"
      },
      {
        "duration": 3,
        "start_time": "2023-03-19T08:16:34.705Z"
      },
      {
        "duration": 2,
        "start_time": "2023-03-19T08:16:35.007Z"
      },
      {
        "duration": 5,
        "start_time": "2023-03-19T08:16:35.246Z"
      },
      {
        "duration": 7,
        "start_time": "2023-03-19T08:16:35.506Z"
      },
      {
        "duration": 4,
        "start_time": "2023-03-19T08:16:36.575Z"
      },
      {
        "duration": 3,
        "start_time": "2023-03-19T08:16:38.060Z"
      },
      {
        "duration": 20,
        "start_time": "2023-03-19T08:16:48.692Z"
      },
      {
        "duration": 5,
        "start_time": "2023-03-19T08:18:16.567Z"
      },
      {
        "duration": 6,
        "start_time": "2023-03-19T08:18:17.107Z"
      },
      {
        "duration": 4,
        "start_time": "2023-03-19T08:18:18.514Z"
      },
      {
        "duration": 20,
        "start_time": "2023-03-19T08:18:19.389Z"
      },
      {
        "duration": 9,
        "start_time": "2023-03-19T08:18:34.877Z"
      },
      {
        "duration": 43,
        "start_time": "2023-03-19T08:18:35.526Z"
      },
      {
        "duration": 5,
        "start_time": "2023-03-19T08:18:43.506Z"
      },
      {
        "duration": 6,
        "start_time": "2023-03-19T08:18:44.127Z"
      },
      {
        "duration": 5,
        "start_time": "2023-03-19T08:18:46.994Z"
      },
      {
        "duration": 9,
        "start_time": "2023-03-19T08:18:59.499Z"
      },
      {
        "duration": 2,
        "start_time": "2023-03-19T08:19:29.447Z"
      },
      {
        "duration": 284,
        "start_time": "2023-03-19T08:19:31.187Z"
      },
      {
        "duration": 7567,
        "start_time": "2023-03-19T08:19:34.389Z"
      },
      {
        "duration": 631,
        "start_time": "2023-03-19T08:19:46.147Z"
      },
      {
        "duration": 10,
        "start_time": "2023-03-19T08:20:58.567Z"
      },
      {
        "duration": 44,
        "start_time": "2023-03-19T08:20:58.989Z"
      },
      {
        "duration": 4,
        "start_time": "2023-03-19T08:20:59.567Z"
      },
      {
        "duration": 7,
        "start_time": "2023-03-19T08:21:00.165Z"
      },
      {
        "duration": 3,
        "start_time": "2023-03-19T08:21:01.415Z"
      },
      {
        "duration": 9,
        "start_time": "2023-03-19T08:21:02.267Z"
      },
      {
        "duration": 11,
        "start_time": "2023-03-19T08:21:16.347Z"
      },
      {
        "duration": 303,
        "start_time": "2023-03-19T08:21:18.875Z"
      },
      {
        "duration": 1528,
        "start_time": "2023-03-19T08:21:25.628Z"
      },
      {
        "duration": 47,
        "start_time": "2023-03-19T08:21:27.159Z"
      },
      {
        "duration": 5,
        "start_time": "2023-03-19T08:21:27.208Z"
      },
      {
        "duration": 29,
        "start_time": "2023-03-19T08:21:27.214Z"
      },
      {
        "duration": 36,
        "start_time": "2023-03-19T08:21:27.245Z"
      },
      {
        "duration": 4,
        "start_time": "2023-03-19T08:21:27.283Z"
      },
      {
        "duration": 1186,
        "start_time": "2023-03-19T08:21:27.289Z"
      },
      {
        "duration": 16,
        "start_time": "2023-03-19T08:21:28.476Z"
      },
      {
        "duration": 881,
        "start_time": "2023-03-19T08:21:28.494Z"
      },
      {
        "duration": 201,
        "start_time": "2023-03-19T08:21:29.377Z"
      },
      {
        "duration": 220,
        "start_time": "2023-03-19T08:21:29.581Z"
      },
      {
        "duration": 187,
        "start_time": "2023-03-19T08:21:29.803Z"
      },
      {
        "duration": 199,
        "start_time": "2023-03-19T08:21:29.991Z"
      },
      {
        "duration": 197,
        "start_time": "2023-03-19T08:21:30.193Z"
      },
      {
        "duration": 10,
        "start_time": "2023-03-19T08:21:30.392Z"
      },
      {
        "duration": 61,
        "start_time": "2023-03-19T08:21:30.404Z"
      },
      {
        "duration": 7,
        "start_time": "2023-03-19T08:21:30.467Z"
      },
      {
        "duration": 34,
        "start_time": "2023-03-19T08:21:30.476Z"
      },
      {
        "duration": 34,
        "start_time": "2023-03-19T08:21:30.513Z"
      },
      {
        "duration": 28,
        "start_time": "2023-03-19T08:21:30.550Z"
      },
      {
        "duration": 37,
        "start_time": "2023-03-19T08:21:30.580Z"
      },
      {
        "duration": 316,
        "start_time": "2023-03-19T08:21:30.619Z"
      },
      {
        "duration": 7823,
        "start_time": "2023-03-19T08:21:30.938Z"
      },
      {
        "duration": 719,
        "start_time": "2023-03-19T08:21:38.762Z"
      },
      {
        "duration": 10,
        "start_time": "2023-03-19T08:22:37.507Z"
      },
      {
        "duration": 10,
        "start_time": "2023-03-19T08:22:38.301Z"
      },
      {
        "duration": 5,
        "start_time": "2023-03-19T08:22:40.328Z"
      },
      {
        "duration": 7,
        "start_time": "2023-03-19T08:22:41.096Z"
      },
      {
        "duration": 4,
        "start_time": "2023-03-19T08:22:43.276Z"
      },
      {
        "duration": 4,
        "start_time": "2023-03-19T08:23:30.499Z"
      },
      {
        "duration": 277,
        "start_time": "2023-03-19T08:23:33.527Z"
      },
      {
        "duration": 7469,
        "start_time": "2023-03-19T08:23:35.797Z"
      },
      {
        "duration": 705,
        "start_time": "2023-03-19T08:23:43.273Z"
      },
      {
        "duration": 42,
        "start_time": "2023-03-19T08:24:22.880Z"
      },
      {
        "duration": 1471,
        "start_time": "2023-03-19T08:24:32.149Z"
      },
      {
        "duration": 43,
        "start_time": "2023-03-19T08:24:33.622Z"
      },
      {
        "duration": 4,
        "start_time": "2023-03-19T08:24:33.666Z"
      },
      {
        "duration": 29,
        "start_time": "2023-03-19T08:24:33.672Z"
      },
      {
        "duration": 34,
        "start_time": "2023-03-19T08:24:33.703Z"
      },
      {
        "duration": 4,
        "start_time": "2023-03-19T08:24:33.739Z"
      },
      {
        "duration": 1172,
        "start_time": "2023-03-19T08:24:33.745Z"
      },
      {
        "duration": 18,
        "start_time": "2023-03-19T08:24:34.919Z"
      },
      {
        "duration": 872,
        "start_time": "2023-03-19T08:24:34.939Z"
      },
      {
        "duration": 202,
        "start_time": "2023-03-19T08:24:35.813Z"
      },
      {
        "duration": 219,
        "start_time": "2023-03-19T08:24:36.017Z"
      },
      {
        "duration": 177,
        "start_time": "2023-03-19T08:24:36.238Z"
      },
      {
        "duration": 199,
        "start_time": "2023-03-19T08:24:36.416Z"
      },
      {
        "duration": 188,
        "start_time": "2023-03-19T08:24:36.618Z"
      },
      {
        "duration": 124,
        "start_time": "2023-03-19T08:24:36.808Z"
      },
      {
        "duration": 0,
        "start_time": "2023-03-19T08:24:36.933Z"
      },
      {
        "duration": 0,
        "start_time": "2023-03-19T08:24:36.935Z"
      },
      {
        "duration": 0,
        "start_time": "2023-03-19T08:24:36.936Z"
      },
      {
        "duration": 0,
        "start_time": "2023-03-19T08:24:36.937Z"
      },
      {
        "duration": 0,
        "start_time": "2023-03-19T08:24:36.938Z"
      },
      {
        "duration": 0,
        "start_time": "2023-03-19T08:24:36.942Z"
      },
      {
        "duration": 0,
        "start_time": "2023-03-19T08:24:36.944Z"
      },
      {
        "duration": 0,
        "start_time": "2023-03-19T08:24:36.947Z"
      },
      {
        "duration": 0,
        "start_time": "2023-03-19T08:24:36.949Z"
      },
      {
        "duration": 186,
        "start_time": "2023-03-19T08:24:54.627Z"
      },
      {
        "duration": 10,
        "start_time": "2023-03-19T08:24:57.649Z"
      },
      {
        "duration": 11,
        "start_time": "2023-03-19T08:25:05.497Z"
      },
      {
        "duration": 5,
        "start_time": "2023-03-19T08:25:12.517Z"
      },
      {
        "duration": 41,
        "start_time": "2023-03-19T08:25:13.610Z"
      },
      {
        "duration": 5,
        "start_time": "2023-03-19T08:25:14.205Z"
      },
      {
        "duration": 23,
        "start_time": "2023-03-19T08:25:16.312Z"
      },
      {
        "duration": 39,
        "start_time": "2023-03-19T08:25:17.312Z"
      },
      {
        "duration": 4,
        "start_time": "2023-03-19T08:25:19.113Z"
      },
      {
        "duration": 1214,
        "start_time": "2023-03-19T08:25:21.409Z"
      },
      {
        "duration": 16,
        "start_time": "2023-03-19T08:25:25.809Z"
      },
      {
        "duration": 821,
        "start_time": "2023-03-19T08:25:28.637Z"
      },
      {
        "duration": 181,
        "start_time": "2023-03-19T08:25:32.008Z"
      },
      {
        "duration": 209,
        "start_time": "2023-03-19T08:25:34.727Z"
      },
      {
        "duration": 164,
        "start_time": "2023-03-19T08:25:37.147Z"
      },
      {
        "duration": 189,
        "start_time": "2023-03-19T08:25:40.204Z"
      },
      {
        "duration": 174,
        "start_time": "2023-03-19T08:25:42.305Z"
      },
      {
        "duration": 47,
        "start_time": "2023-03-19T08:25:43.504Z"
      },
      {
        "duration": 35,
        "start_time": "2023-03-19T08:26:41.511Z"
      },
      {
        "duration": 10,
        "start_time": "2023-03-19T08:28:28.751Z"
      },
      {
        "duration": 12,
        "start_time": "2023-03-19T08:28:40.613Z"
      },
      {
        "duration": 6,
        "start_time": "2023-03-19T08:28:41.708Z"
      },
      {
        "duration": 7,
        "start_time": "2023-03-19T08:28:42.373Z"
      },
      {
        "duration": 4,
        "start_time": "2023-03-19T08:28:43.556Z"
      },
      {
        "duration": 10,
        "start_time": "2023-03-19T08:31:59.227Z"
      },
      {
        "duration": 5,
        "start_time": "2023-03-19T08:31:59.849Z"
      },
      {
        "duration": 9,
        "start_time": "2023-03-19T08:32:00.367Z"
      },
      {
        "duration": 31,
        "start_time": "2023-03-19T08:32:01.037Z"
      },
      {
        "duration": 4,
        "start_time": "2023-03-19T08:32:06.748Z"
      },
      {
        "duration": 3,
        "start_time": "2023-03-19T08:32:07.720Z"
      },
      {
        "duration": 11,
        "start_time": "2023-03-19T08:32:08.368Z"
      },
      {
        "duration": 289,
        "start_time": "2023-03-19T08:32:17.536Z"
      },
      {
        "duration": 7710,
        "start_time": "2023-03-19T08:32:19.582Z"
      },
      {
        "duration": 132,
        "start_time": "2023-03-19T08:32:32.347Z"
      },
      {
        "duration": 1487,
        "start_time": "2023-03-19T08:33:02.747Z"
      },
      {
        "duration": 44,
        "start_time": "2023-03-19T08:33:04.237Z"
      },
      {
        "duration": 4,
        "start_time": "2023-03-19T08:33:04.283Z"
      },
      {
        "duration": 44,
        "start_time": "2023-03-19T08:33:04.290Z"
      },
      {
        "duration": 37,
        "start_time": "2023-03-19T08:33:04.336Z"
      },
      {
        "duration": 4,
        "start_time": "2023-03-19T08:33:04.376Z"
      },
      {
        "duration": 1201,
        "start_time": "2023-03-19T08:33:04.382Z"
      },
      {
        "duration": 17,
        "start_time": "2023-03-19T08:33:05.585Z"
      },
      {
        "duration": 892,
        "start_time": "2023-03-19T08:33:05.604Z"
      },
      {
        "duration": 225,
        "start_time": "2023-03-19T08:33:06.500Z"
      },
      {
        "duration": 224,
        "start_time": "2023-03-19T08:33:06.727Z"
      },
      {
        "duration": 169,
        "start_time": "2023-03-19T08:33:06.952Z"
      },
      {
        "duration": 199,
        "start_time": "2023-03-19T08:33:07.123Z"
      },
      {
        "duration": 202,
        "start_time": "2023-03-19T08:33:07.324Z"
      },
      {
        "duration": 45,
        "start_time": "2023-03-19T08:33:07.528Z"
      },
      {
        "duration": 11,
        "start_time": "2023-03-19T08:33:07.575Z"
      },
      {
        "duration": 7,
        "start_time": "2023-03-19T08:33:07.587Z"
      },
      {
        "duration": 12,
        "start_time": "2023-03-19T08:33:07.596Z"
      },
      {
        "duration": 33,
        "start_time": "2023-03-19T08:33:07.610Z"
      },
      {
        "duration": 4,
        "start_time": "2023-03-19T08:33:07.645Z"
      },
      {
        "duration": 24,
        "start_time": "2023-03-19T08:33:07.650Z"
      },
      {
        "duration": 327,
        "start_time": "2023-03-19T08:33:07.677Z"
      },
      {
        "duration": 7711,
        "start_time": "2023-03-19T08:33:08.007Z"
      },
      {
        "duration": 355,
        "start_time": "2023-03-19T08:33:15.719Z"
      },
      {
        "duration": 31,
        "start_time": "2023-03-19T08:34:24.106Z"
      },
      {
        "duration": 26,
        "start_time": "2023-03-19T08:34:37.309Z"
      },
      {
        "duration": 3,
        "start_time": "2023-03-19T08:34:42.609Z"
      },
      {
        "duration": 3,
        "start_time": "2023-03-19T08:34:42.831Z"
      },
      {
        "duration": 285,
        "start_time": "2023-03-19T08:34:45.309Z"
      },
      {
        "duration": 25461,
        "start_time": "2023-03-19T08:34:56.168Z"
      },
      {
        "duration": 169,
        "start_time": "2023-03-19T08:35:25.609Z"
      },
      {
        "duration": 9,
        "start_time": "2023-03-19T08:47:38.187Z"
      },
      {
        "duration": 747,
        "start_time": "2023-03-19T08:49:53.189Z"
      },
      {
        "duration": 859,
        "start_time": "2023-03-19T08:50:21.148Z"
      },
      {
        "duration": 1428,
        "start_time": "2023-03-19T08:51:31.889Z"
      },
      {
        "duration": 43,
        "start_time": "2023-03-19T08:51:33.319Z"
      },
      {
        "duration": 4,
        "start_time": "2023-03-19T08:51:33.364Z"
      },
      {
        "duration": 30,
        "start_time": "2023-03-19T08:51:33.370Z"
      },
      {
        "duration": 35,
        "start_time": "2023-03-19T08:51:33.403Z"
      },
      {
        "duration": 5,
        "start_time": "2023-03-19T08:51:33.440Z"
      },
      {
        "duration": 1199,
        "start_time": "2023-03-19T08:51:33.446Z"
      },
      {
        "duration": 15,
        "start_time": "2023-03-19T08:51:34.647Z"
      },
      {
        "duration": 904,
        "start_time": "2023-03-19T08:51:34.672Z"
      },
      {
        "duration": 203,
        "start_time": "2023-03-19T08:51:35.578Z"
      },
      {
        "duration": 220,
        "start_time": "2023-03-19T08:51:35.784Z"
      },
      {
        "duration": 176,
        "start_time": "2023-03-19T08:51:36.006Z"
      },
      {
        "duration": 195,
        "start_time": "2023-03-19T08:51:36.185Z"
      },
      {
        "duration": 191,
        "start_time": "2023-03-19T08:51:36.384Z"
      },
      {
        "duration": 36,
        "start_time": "2023-03-19T08:51:36.577Z"
      },
      {
        "duration": 9,
        "start_time": "2023-03-19T08:51:36.615Z"
      },
      {
        "duration": 9,
        "start_time": "2023-03-19T08:51:36.626Z"
      },
      {
        "duration": 17,
        "start_time": "2023-03-19T08:51:36.636Z"
      },
      {
        "duration": 45,
        "start_time": "2023-03-19T08:51:36.655Z"
      },
      {
        "duration": 4,
        "start_time": "2023-03-19T08:51:36.702Z"
      },
      {
        "duration": 6,
        "start_time": "2023-03-19T08:51:36.707Z"
      },
      {
        "duration": 303,
        "start_time": "2023-03-19T08:51:36.714Z"
      },
      {
        "duration": 25369,
        "start_time": "2023-03-19T08:51:37.019Z"
      },
      {
        "duration": 286,
        "start_time": "2023-03-19T08:52:02.390Z"
      },
      {
        "duration": 26,
        "start_time": "2023-03-19T08:53:58.942Z"
      },
      {
        "duration": 50,
        "start_time": "2023-03-19T08:55:19.790Z"
      },
      {
        "duration": 318,
        "start_time": "2023-03-19T08:55:30.326Z"
      },
      {
        "duration": 311,
        "start_time": "2023-03-19T08:55:38.758Z"
      },
      {
        "duration": 291,
        "start_time": "2023-03-19T08:55:56.973Z"
      },
      {
        "duration": 593,
        "start_time": "2023-03-19T08:56:06.508Z"
      },
      {
        "duration": 60,
        "start_time": "2023-03-19T08:56:09.328Z"
      },
      {
        "duration": 292,
        "start_time": "2023-03-19T08:56:45.022Z"
      },
      {
        "duration": 603,
        "start_time": "2023-03-19T08:56:47.787Z"
      },
      {
        "duration": 259,
        "start_time": "2023-03-19T08:56:51.619Z"
      },
      {
        "duration": 30058,
        "start_time": "2023-03-19T08:57:55.630Z"
      },
      {
        "duration": 135226,
        "start_time": "2023-03-19T08:58:54.807Z"
      },
      {
        "duration": 247,
        "start_time": "2023-03-19T09:01:10.035Z"
      },
      {
        "duration": 13291,
        "start_time": "2023-03-19T09:01:51.047Z"
      },
      {
        "duration": 91847,
        "start_time": "2023-03-19T09:02:51.261Z"
      },
      {
        "duration": 10702,
        "start_time": "2023-03-19T09:06:10.444Z"
      },
      {
        "duration": 92,
        "start_time": "2023-03-19T09:06:30.648Z"
      },
      {
        "duration": 27211,
        "start_time": "2023-03-19T09:06:45.729Z"
      },
      {
        "duration": 2994,
        "start_time": "2023-03-19T09:07:30.271Z"
      },
      {
        "duration": 7489,
        "start_time": "2023-03-19T09:08:49.188Z"
      },
      {
        "duration": 134507,
        "start_time": "2023-03-19T09:09:07.826Z"
      },
      {
        "duration": 1440,
        "start_time": "2023-03-19T09:24:54.403Z"
      },
      {
        "duration": 43,
        "start_time": "2023-03-19T09:24:55.845Z"
      },
      {
        "duration": 5,
        "start_time": "2023-03-19T09:24:55.890Z"
      },
      {
        "duration": 31,
        "start_time": "2023-03-19T09:24:55.896Z"
      },
      {
        "duration": 44,
        "start_time": "2023-03-19T09:24:55.929Z"
      },
      {
        "duration": 5,
        "start_time": "2023-03-19T09:24:55.975Z"
      },
      {
        "duration": 1180,
        "start_time": "2023-03-19T09:24:55.982Z"
      },
      {
        "duration": 17,
        "start_time": "2023-03-19T09:24:57.172Z"
      },
      {
        "duration": 861,
        "start_time": "2023-03-19T09:24:57.190Z"
      },
      {
        "duration": 202,
        "start_time": "2023-03-19T09:24:58.053Z"
      },
      {
        "duration": 205,
        "start_time": "2023-03-19T09:24:58.257Z"
      },
      {
        "duration": 179,
        "start_time": "2023-03-19T09:24:58.464Z"
      },
      {
        "duration": 191,
        "start_time": "2023-03-19T09:24:58.645Z"
      },
      {
        "duration": 200,
        "start_time": "2023-03-19T09:24:58.839Z"
      },
      {
        "duration": 42,
        "start_time": "2023-03-19T09:24:59.041Z"
      },
      {
        "duration": 9,
        "start_time": "2023-03-19T09:24:59.085Z"
      },
      {
        "duration": 4,
        "start_time": "2023-03-19T09:24:59.096Z"
      },
      {
        "duration": 9,
        "start_time": "2023-03-19T09:24:59.101Z"
      },
      {
        "duration": 6,
        "start_time": "2023-03-19T09:24:59.111Z"
      },
      {
        "duration": 6,
        "start_time": "2023-03-19T09:24:59.119Z"
      },
      {
        "duration": 6,
        "start_time": "2023-03-19T09:24:59.127Z"
      },
      {
        "duration": 301,
        "start_time": "2023-03-19T09:24:59.135Z"
      },
      {
        "duration": 134924,
        "start_time": "2023-03-19T09:24:59.438Z"
      },
      {
        "duration": 610,
        "start_time": "2023-03-19T09:27:14.364Z"
      },
      {
        "duration": 5,
        "start_time": "2023-03-19T09:32:16.907Z"
      },
      {
        "duration": 8,
        "start_time": "2023-03-19T09:32:17.307Z"
      },
      {
        "duration": 30,
        "start_time": "2023-03-19T09:32:18.407Z"
      },
      {
        "duration": 3,
        "start_time": "2023-03-19T09:32:22.216Z"
      },
      {
        "duration": 3,
        "start_time": "2023-03-19T09:32:22.968Z"
      },
      {
        "duration": 282,
        "start_time": "2023-03-19T09:32:27.404Z"
      },
      {
        "duration": 119,
        "start_time": "2023-03-19T09:37:05.595Z"
      },
      {
        "duration": 4,
        "start_time": "2023-03-19T09:37:30.048Z"
      },
      {
        "duration": 45,
        "start_time": "2023-03-19T09:37:30.488Z"
      },
      {
        "duration": 6,
        "start_time": "2023-03-19T09:37:30.947Z"
      },
      {
        "duration": 23,
        "start_time": "2023-03-19T09:37:32.568Z"
      },
      {
        "duration": 33,
        "start_time": "2023-03-19T09:37:33.127Z"
      },
      {
        "duration": 4,
        "start_time": "2023-03-19T09:37:33.463Z"
      },
      {
        "duration": 1253,
        "start_time": "2023-03-19T09:37:33.967Z"
      },
      {
        "duration": 16,
        "start_time": "2023-03-19T09:37:35.223Z"
      },
      {
        "duration": 788,
        "start_time": "2023-03-19T09:37:35.241Z"
      },
      {
        "duration": 194,
        "start_time": "2023-03-19T09:37:36.032Z"
      },
      {
        "duration": 216,
        "start_time": "2023-03-19T09:37:36.228Z"
      },
      {
        "duration": 179,
        "start_time": "2023-03-19T09:37:36.445Z"
      },
      {
        "duration": 185,
        "start_time": "2023-03-19T09:37:36.626Z"
      },
      {
        "duration": 187,
        "start_time": "2023-03-19T09:37:36.813Z"
      },
      {
        "duration": 32,
        "start_time": "2023-03-19T09:37:37.002Z"
      },
      {
        "duration": 10,
        "start_time": "2023-03-19T09:37:37.036Z"
      },
      {
        "duration": 6,
        "start_time": "2023-03-19T09:37:37.347Z"
      },
      {
        "duration": 6,
        "start_time": "2023-03-19T09:37:37.568Z"
      },
      {
        "duration": 34,
        "start_time": "2023-03-19T09:37:40.887Z"
      },
      {
        "duration": 3,
        "start_time": "2023-03-19T09:37:42.349Z"
      },
      {
        "duration": 2,
        "start_time": "2023-03-19T09:37:43.309Z"
      },
      {
        "duration": 280,
        "start_time": "2023-03-19T09:37:45.988Z"
      },
      {
        "duration": 7,
        "start_time": "2023-03-19T09:37:54.627Z"
      },
      {
        "duration": 4,
        "start_time": "2023-03-19T09:39:19.469Z"
      },
      {
        "duration": 5,
        "start_time": "2023-03-19T09:39:34.628Z"
      },
      {
        "duration": 6,
        "start_time": "2023-03-19T09:41:20.927Z"
      },
      {
        "duration": 10,
        "start_time": "2023-03-19T09:41:25.728Z"
      },
      {
        "duration": 5,
        "start_time": "2023-03-19T09:41:34.449Z"
      },
      {
        "duration": 4,
        "start_time": "2023-03-19T09:49:42.918Z"
      },
      {
        "duration": 52,
        "start_time": "2023-03-19T09:49:43.660Z"
      },
      {
        "duration": 56,
        "start_time": "2023-03-19T09:50:00.948Z"
      },
      {
        "duration": 5,
        "start_time": "2023-03-19T09:50:40.329Z"
      },
      {
        "duration": 10,
        "start_time": "2023-03-19T09:50:41.888Z"
      },
      {
        "duration": 8,
        "start_time": "2023-03-19T09:58:48.707Z"
      },
      {
        "duration": 6,
        "start_time": "2023-03-19T09:58:49.148Z"
      },
      {
        "duration": 8,
        "start_time": "2023-03-19T09:58:49.668Z"
      },
      {
        "duration": 5,
        "start_time": "2023-03-19T09:58:51.767Z"
      },
      {
        "duration": 11,
        "start_time": "2023-03-19T09:58:53.009Z"
      },
      {
        "duration": 38,
        "start_time": "2023-03-19T09:59:35.908Z"
      },
      {
        "duration": 5,
        "start_time": "2023-03-19T10:00:21.448Z"
      },
      {
        "duration": 9,
        "start_time": "2023-03-19T10:00:44.089Z"
      },
      {
        "duration": 1584,
        "start_time": "2023-03-19T10:00:59.894Z"
      },
      {
        "duration": 44,
        "start_time": "2023-03-19T10:01:01.480Z"
      },
      {
        "duration": 6,
        "start_time": "2023-03-19T10:01:01.526Z"
      },
      {
        "duration": 58,
        "start_time": "2023-03-19T10:01:01.534Z"
      },
      {
        "duration": 67,
        "start_time": "2023-03-19T10:01:01.595Z"
      },
      {
        "duration": 4,
        "start_time": "2023-03-19T10:01:01.667Z"
      },
      {
        "duration": 1222,
        "start_time": "2023-03-19T10:01:01.674Z"
      },
      {
        "duration": 16,
        "start_time": "2023-03-19T10:01:02.898Z"
      },
      {
        "duration": 907,
        "start_time": "2023-03-19T10:01:02.916Z"
      },
      {
        "duration": 207,
        "start_time": "2023-03-19T10:01:03.826Z"
      },
      {
        "duration": 225,
        "start_time": "2023-03-19T10:01:04.035Z"
      },
      {
        "duration": 177,
        "start_time": "2023-03-19T10:01:04.262Z"
      },
      {
        "duration": 191,
        "start_time": "2023-03-19T10:01:04.441Z"
      },
      {
        "duration": 199,
        "start_time": "2023-03-19T10:01:04.635Z"
      },
      {
        "duration": 44,
        "start_time": "2023-03-19T10:01:04.836Z"
      },
      {
        "duration": 11,
        "start_time": "2023-03-19T10:01:04.882Z"
      },
      {
        "duration": 5,
        "start_time": "2023-03-19T10:01:04.895Z"
      },
      {
        "duration": 7,
        "start_time": "2023-03-19T10:01:04.902Z"
      },
      {
        "duration": 42,
        "start_time": "2023-03-19T10:01:04.911Z"
      },
      {
        "duration": 19,
        "start_time": "2023-03-19T10:01:04.955Z"
      },
      {
        "duration": 29,
        "start_time": "2023-03-19T10:01:04.976Z"
      },
      {
        "duration": 313,
        "start_time": "2023-03-19T10:01:05.007Z"
      },
      {
        "duration": 137782,
        "start_time": "2023-03-19T10:01:05.323Z"
      },
      {
        "duration": 467,
        "start_time": "2023-03-19T10:03:23.107Z"
      },
      {
        "duration": 97,
        "start_time": "2023-03-19T10:03:23.576Z"
      },
      {
        "duration": 6,
        "start_time": "2023-03-19T10:03:23.675Z"
      },
      {
        "duration": 6,
        "start_time": "2023-03-19T10:03:23.683Z"
      },
      {
        "duration": 4,
        "start_time": "2023-03-19T10:03:23.693Z"
      },
      {
        "duration": 14,
        "start_time": "2023-03-19T10:03:23.699Z"
      },
      {
        "duration": 5,
        "start_time": "2023-03-19T10:03:23.714Z"
      },
      {
        "duration": 15,
        "start_time": "2023-03-19T10:03:23.722Z"
      },
      {
        "duration": 5,
        "start_time": "2023-03-19T10:03:31.891Z"
      },
      {
        "duration": 13,
        "start_time": "2023-03-19T10:03:32.428Z"
      },
      {
        "duration": 4,
        "start_time": "2023-03-19T10:03:33.795Z"
      },
      {
        "duration": 4,
        "start_time": "2023-03-19T10:04:40.952Z"
      },
      {
        "duration": 13,
        "start_time": "2023-03-19T10:04:41.256Z"
      },
      {
        "duration": 5,
        "start_time": "2023-03-19T10:08:15.401Z"
      },
      {
        "duration": 11,
        "start_time": "2023-03-19T10:08:15.963Z"
      },
      {
        "duration": 12,
        "start_time": "2023-03-19T10:08:17.971Z"
      },
      {
        "duration": 15,
        "start_time": "2023-03-19T10:08:33.399Z"
      },
      {
        "duration": 46,
        "start_time": "2023-03-19T10:09:48.003Z"
      },
      {
        "duration": 4,
        "start_time": "2023-03-19T10:09:51.592Z"
      },
      {
        "duration": 11,
        "start_time": "2023-03-19T10:09:52.215Z"
      },
      {
        "duration": 48,
        "start_time": "2023-03-19T10:09:52.839Z"
      },
      {
        "duration": 5,
        "start_time": "2023-03-19T10:09:54.072Z"
      },
      {
        "duration": 10,
        "start_time": "2023-03-19T10:09:54.612Z"
      },
      {
        "duration": 19,
        "start_time": "2023-03-19T10:09:55.489Z"
      },
      {
        "duration": 34,
        "start_time": "2023-03-19T10:10:36.919Z"
      },
      {
        "duration": 4,
        "start_time": "2023-03-19T10:10:39.707Z"
      },
      {
        "duration": 10,
        "start_time": "2023-03-19T10:10:40.155Z"
      },
      {
        "duration": 16,
        "start_time": "2023-03-19T10:10:41.451Z"
      },
      {
        "duration": 1537,
        "start_time": "2023-03-19T10:10:50.085Z"
      },
      {
        "duration": 42,
        "start_time": "2023-03-19T10:10:51.624Z"
      },
      {
        "duration": 5,
        "start_time": "2023-03-19T10:10:51.668Z"
      },
      {
        "duration": 36,
        "start_time": "2023-03-19T10:10:51.675Z"
      },
      {
        "duration": 58,
        "start_time": "2023-03-19T10:10:51.714Z"
      },
      {
        "duration": 5,
        "start_time": "2023-03-19T10:10:51.775Z"
      },
      {
        "duration": 1246,
        "start_time": "2023-03-19T10:10:51.782Z"
      },
      {
        "duration": 18,
        "start_time": "2023-03-19T10:10:53.029Z"
      },
      {
        "duration": 879,
        "start_time": "2023-03-19T10:10:53.049Z"
      },
      {
        "duration": 201,
        "start_time": "2023-03-19T10:10:53.929Z"
      },
      {
        "duration": 230,
        "start_time": "2023-03-19T10:10:54.132Z"
      },
      {
        "duration": 173,
        "start_time": "2023-03-19T10:10:54.364Z"
      },
      {
        "duration": 203,
        "start_time": "2023-03-19T10:10:54.539Z"
      },
      {
        "duration": 192,
        "start_time": "2023-03-19T10:10:54.745Z"
      },
      {
        "duration": 43,
        "start_time": "2023-03-19T10:10:54.938Z"
      },
      {
        "duration": 9,
        "start_time": "2023-03-19T10:10:54.983Z"
      },
      {
        "duration": 14,
        "start_time": "2023-03-19T10:10:54.994Z"
      },
      {
        "duration": 10,
        "start_time": "2023-03-19T10:10:55.010Z"
      },
      {
        "duration": 38,
        "start_time": "2023-03-19T10:10:55.022Z"
      },
      {
        "duration": 13,
        "start_time": "2023-03-19T10:10:55.062Z"
      },
      {
        "duration": 8,
        "start_time": "2023-03-19T10:10:55.076Z"
      },
      {
        "duration": 290,
        "start_time": "2023-03-19T10:10:55.085Z"
      },
      {
        "duration": 136569,
        "start_time": "2023-03-19T10:10:55.377Z"
      },
      {
        "duration": 326,
        "start_time": "2023-03-19T10:13:11.948Z"
      },
      {
        "duration": 99,
        "start_time": "2023-03-19T10:13:12.276Z"
      },
      {
        "duration": 7,
        "start_time": "2023-03-19T10:13:12.377Z"
      },
      {
        "duration": 6,
        "start_time": "2023-03-19T10:13:12.386Z"
      },
      {
        "duration": 5,
        "start_time": "2023-03-19T10:13:12.393Z"
      },
      {
        "duration": 14,
        "start_time": "2023-03-19T10:13:12.400Z"
      },
      {
        "duration": 168,
        "start_time": "2023-03-19T10:13:12.415Z"
      },
      {
        "duration": 5,
        "start_time": "2023-03-19T10:13:12.675Z"
      },
      {
        "duration": 29,
        "start_time": "2023-03-19T10:13:12.682Z"
      },
      {
        "duration": 19,
        "start_time": "2023-03-19T10:13:12.713Z"
      },
      {
        "duration": 568,
        "start_time": "2023-03-19T10:18:10.272Z"
      },
      {
        "duration": 2225,
        "start_time": "2023-03-19T10:18:27.231Z"
      },
      {
        "duration": 226,
        "start_time": "2023-03-19T10:18:42.033Z"
      },
      {
        "duration": 2264,
        "start_time": "2023-03-19T10:18:53.889Z"
      },
      {
        "duration": 15229,
        "start_time": "2023-03-19T10:21:01.000Z"
      },
      {
        "duration": 1586,
        "start_time": "2023-03-19T10:21:44.170Z"
      },
      {
        "duration": 44,
        "start_time": "2023-03-19T10:21:45.757Z"
      },
      {
        "duration": 18,
        "start_time": "2023-03-19T10:21:45.804Z"
      },
      {
        "duration": 50,
        "start_time": "2023-03-19T10:21:45.825Z"
      },
      {
        "duration": 38,
        "start_time": "2023-03-19T10:21:45.878Z"
      },
      {
        "duration": 5,
        "start_time": "2023-03-19T10:21:45.918Z"
      },
      {
        "duration": 1223,
        "start_time": "2023-03-19T10:21:45.925Z"
      },
      {
        "duration": 26,
        "start_time": "2023-03-19T10:21:47.150Z"
      },
      {
        "duration": 914,
        "start_time": "2023-03-19T10:21:47.178Z"
      },
      {
        "duration": 204,
        "start_time": "2023-03-19T10:21:48.095Z"
      },
      {
        "duration": 225,
        "start_time": "2023-03-19T10:21:48.301Z"
      },
      {
        "duration": 196,
        "start_time": "2023-03-19T10:21:48.528Z"
      },
      {
        "duration": 209,
        "start_time": "2023-03-19T10:21:48.726Z"
      },
      {
        "duration": 215,
        "start_time": "2023-03-19T10:21:48.939Z"
      },
      {
        "duration": 44,
        "start_time": "2023-03-19T10:21:49.155Z"
      },
      {
        "duration": 10,
        "start_time": "2023-03-19T10:21:49.200Z"
      },
      {
        "duration": 9,
        "start_time": "2023-03-19T10:21:49.212Z"
      },
      {
        "duration": 6,
        "start_time": "2023-03-19T10:21:49.223Z"
      },
      {
        "duration": 48,
        "start_time": "2023-03-19T10:21:49.230Z"
      },
      {
        "duration": 4,
        "start_time": "2023-03-19T10:21:49.280Z"
      },
      {
        "duration": 6,
        "start_time": "2023-03-19T10:21:49.285Z"
      },
      {
        "duration": 314,
        "start_time": "2023-03-19T10:21:49.293Z"
      },
      {
        "duration": 7458,
        "start_time": "2023-03-19T10:21:49.609Z"
      },
      {
        "duration": 310,
        "start_time": "2023-03-19T10:21:57.069Z"
      },
      {
        "duration": 95,
        "start_time": "2023-03-19T10:21:57.383Z"
      },
      {
        "duration": 8,
        "start_time": "2023-03-19T10:21:57.480Z"
      },
      {
        "duration": 7,
        "start_time": "2023-03-19T10:21:57.491Z"
      },
      {
        "duration": 8,
        "start_time": "2023-03-19T10:21:57.499Z"
      },
      {
        "duration": 24,
        "start_time": "2023-03-19T10:21:57.509Z"
      },
      {
        "duration": 61,
        "start_time": "2023-03-19T10:21:57.535Z"
      },
      {
        "duration": 2420,
        "start_time": "2023-03-19T10:21:57.598Z"
      },
      {
        "duration": 15359,
        "start_time": "2023-03-19T10:22:00.019Z"
      },
      {
        "duration": 4,
        "start_time": "2023-03-19T10:22:15.380Z"
      },
      {
        "duration": 13,
        "start_time": "2023-03-19T10:22:15.386Z"
      },
      {
        "duration": 74,
        "start_time": "2023-03-19T10:22:15.401Z"
      },
      {
        "duration": 18,
        "start_time": "2023-03-19T10:24:25.049Z"
      },
      {
        "duration": 447,
        "start_time": "2023-03-19T10:24:25.430Z"
      },
      {
        "duration": 3286,
        "start_time": "2023-03-19T10:24:26.088Z"
      },
      {
        "duration": 1508,
        "start_time": "2023-03-19T10:28:10.432Z"
      },
      {
        "duration": 44,
        "start_time": "2023-03-19T10:28:11.942Z"
      },
      {
        "duration": 4,
        "start_time": "2023-03-19T10:28:11.988Z"
      },
      {
        "duration": 31,
        "start_time": "2023-03-19T10:28:11.994Z"
      },
      {
        "duration": 56,
        "start_time": "2023-03-19T10:28:12.027Z"
      },
      {
        "duration": 4,
        "start_time": "2023-03-19T10:28:12.085Z"
      },
      {
        "duration": 1194,
        "start_time": "2023-03-19T10:28:12.091Z"
      },
      {
        "duration": 18,
        "start_time": "2023-03-19T10:28:13.286Z"
      },
      {
        "duration": 863,
        "start_time": "2023-03-19T10:28:13.306Z"
      },
      {
        "duration": 244,
        "start_time": "2023-03-19T10:28:14.172Z"
      },
      {
        "duration": 232,
        "start_time": "2023-03-19T10:28:14.418Z"
      },
      {
        "duration": 185,
        "start_time": "2023-03-19T10:28:14.652Z"
      },
      {
        "duration": 196,
        "start_time": "2023-03-19T10:28:14.839Z"
      },
      {
        "duration": 189,
        "start_time": "2023-03-19T10:28:15.040Z"
      },
      {
        "duration": 48,
        "start_time": "2023-03-19T10:28:15.231Z"
      },
      {
        "duration": 10,
        "start_time": "2023-03-19T10:28:15.281Z"
      },
      {
        "duration": 6,
        "start_time": "2023-03-19T10:28:15.293Z"
      },
      {
        "duration": 10,
        "start_time": "2023-03-19T10:28:15.301Z"
      },
      {
        "duration": 30,
        "start_time": "2023-03-19T10:28:15.313Z"
      },
      {
        "duration": 30,
        "start_time": "2023-03-19T10:28:15.345Z"
      },
      {
        "duration": 5,
        "start_time": "2023-03-19T10:28:15.378Z"
      },
      {
        "duration": 308,
        "start_time": "2023-03-19T10:28:15.385Z"
      },
      {
        "duration": 7515,
        "start_time": "2023-03-19T10:28:15.695Z"
      },
      {
        "duration": 262,
        "start_time": "2023-03-19T10:28:23.212Z"
      },
      {
        "duration": 102,
        "start_time": "2023-03-19T10:28:23.477Z"
      },
      {
        "duration": 5,
        "start_time": "2023-03-19T10:28:23.581Z"
      },
      {
        "duration": 5,
        "start_time": "2023-03-19T10:28:23.588Z"
      },
      {
        "duration": 6,
        "start_time": "2023-03-19T10:28:23.595Z"
      },
      {
        "duration": 35,
        "start_time": "2023-03-19T10:28:23.602Z"
      },
      {
        "duration": 54,
        "start_time": "2023-03-19T10:28:23.638Z"
      },
      {
        "duration": 2398,
        "start_time": "2023-03-19T10:28:23.775Z"
      },
      {
        "duration": 15240,
        "start_time": "2023-03-19T10:28:26.174Z"
      },
      {
        "duration": 4,
        "start_time": "2023-03-19T10:28:41.417Z"
      },
      {
        "duration": 17,
        "start_time": "2023-03-19T10:28:41.423Z"
      },
      {
        "duration": 40,
        "start_time": "2023-03-19T10:28:41.442Z"
      },
      {
        "duration": 499,
        "start_time": "2023-03-19T10:28:41.575Z"
      },
      {
        "duration": 3503,
        "start_time": "2023-03-19T10:28:42.076Z"
      },
      {
        "duration": 1506,
        "start_time": "2023-03-19T10:34:17.850Z"
      },
      {
        "duration": 46,
        "start_time": "2023-03-19T10:34:19.358Z"
      },
      {
        "duration": 4,
        "start_time": "2023-03-19T10:34:19.406Z"
      },
      {
        "duration": 33,
        "start_time": "2023-03-19T10:34:19.412Z"
      },
      {
        "duration": 37,
        "start_time": "2023-03-19T10:34:19.447Z"
      },
      {
        "duration": 4,
        "start_time": "2023-03-19T10:34:19.486Z"
      },
      {
        "duration": 1195,
        "start_time": "2023-03-19T10:34:19.492Z"
      },
      {
        "duration": 20,
        "start_time": "2023-03-19T10:34:20.688Z"
      },
      {
        "duration": 944,
        "start_time": "2023-03-19T10:34:20.710Z"
      },
      {
        "duration": 201,
        "start_time": "2023-03-19T10:34:21.656Z"
      },
      {
        "duration": 216,
        "start_time": "2023-03-19T10:34:21.859Z"
      },
      {
        "duration": 167,
        "start_time": "2023-03-19T10:34:22.076Z"
      },
      {
        "duration": 190,
        "start_time": "2023-03-19T10:34:22.245Z"
      },
      {
        "duration": 188,
        "start_time": "2023-03-19T10:34:22.438Z"
      },
      {
        "duration": 32,
        "start_time": "2023-03-19T10:34:22.628Z"
      },
      {
        "duration": 20,
        "start_time": "2023-03-19T10:34:22.662Z"
      },
      {
        "duration": 9,
        "start_time": "2023-03-19T10:34:22.683Z"
      },
      {
        "duration": 9,
        "start_time": "2023-03-19T10:34:22.694Z"
      },
      {
        "duration": 28,
        "start_time": "2023-03-19T10:34:22.705Z"
      },
      {
        "duration": 3,
        "start_time": "2023-03-19T10:34:22.735Z"
      },
      {
        "duration": 12,
        "start_time": "2023-03-19T10:34:22.740Z"
      },
      {
        "duration": 159,
        "start_time": "2023-03-19T10:34:22.753Z"
      },
      {
        "duration": 580,
        "start_time": "2023-03-19T10:34:22.914Z"
      },
      {
        "duration": 179,
        "start_time": "2023-03-19T10:34:23.496Z"
      },
      {
        "duration": 99,
        "start_time": "2023-03-19T10:34:23.677Z"
      },
      {
        "duration": 5,
        "start_time": "2023-03-19T10:34:23.778Z"
      },
      {
        "duration": 9,
        "start_time": "2023-03-19T10:34:23.785Z"
      },
      {
        "duration": 7,
        "start_time": "2023-03-19T10:34:23.795Z"
      },
      {
        "duration": 18,
        "start_time": "2023-03-19T10:34:23.804Z"
      },
      {
        "duration": 4,
        "start_time": "2023-03-19T10:34:23.824Z"
      },
      {
        "duration": 27,
        "start_time": "2023-03-19T10:34:23.829Z"
      },
      {
        "duration": 2,
        "start_time": "2023-03-19T10:34:23.858Z"
      },
      {
        "duration": 12,
        "start_time": "2023-03-19T10:34:23.862Z"
      },
      {
        "duration": 10,
        "start_time": "2023-03-19T10:34:23.876Z"
      },
      {
        "duration": 541,
        "start_time": "2023-03-19T10:34:23.888Z"
      },
      {
        "duration": 320489,
        "start_time": "2023-03-19T10:34:24.430Z"
      },
      {
        "duration": 55,
        "start_time": "2023-03-19T10:39:44.920Z"
      },
      {
        "duration": 2392,
        "start_time": "2023-03-19T10:42:26.849Z"
      },
      {
        "duration": 348,
        "start_time": "2023-03-19T10:42:38.691Z"
      },
      {
        "duration": 137985,
        "start_time": "2023-03-19T10:43:37.729Z"
      },
      {
        "duration": 273,
        "start_time": "2023-03-19T10:46:56.110Z"
      },
      {
        "duration": 276,
        "start_time": "2023-03-19T10:48:16.209Z"
      },
      {
        "duration": 336,
        "start_time": "2023-03-19T10:48:25.942Z"
      },
      {
        "duration": 305,
        "start_time": "2023-03-19T10:48:46.294Z"
      },
      {
        "duration": 345,
        "start_time": "2023-03-19T10:49:17.764Z"
      },
      {
        "duration": 529,
        "start_time": "2023-03-19T10:49:35.649Z"
      },
      {
        "duration": 327,
        "start_time": "2023-03-19T10:49:57.692Z"
      },
      {
        "duration": 286,
        "start_time": "2023-03-19T10:52:43.029Z"
      },
      {
        "duration": 57,
        "start_time": "2023-03-19T10:56:19.910Z"
      },
      {
        "duration": 620,
        "start_time": "2023-03-19T10:56:46.809Z"
      },
      {
        "duration": 41,
        "start_time": "2023-03-19T11:00:08.374Z"
      },
      {
        "duration": 6,
        "start_time": "2023-03-19T11:11:02.468Z"
      },
      {
        "duration": 116,
        "start_time": "2023-03-19T11:11:03.009Z"
      },
      {
        "duration": 11,
        "start_time": "2023-03-19T11:11:03.537Z"
      },
      {
        "duration": 9,
        "start_time": "2023-03-19T11:11:03.712Z"
      },
      {
        "duration": 11,
        "start_time": "2023-03-19T11:11:22.069Z"
      },
      {
        "duration": 12,
        "start_time": "2023-03-19T11:11:23.071Z"
      },
      {
        "duration": 13,
        "start_time": "2023-03-19T11:11:23.668Z"
      },
      {
        "duration": 6,
        "start_time": "2023-03-19T11:11:24.111Z"
      },
      {
        "duration": 4,
        "start_time": "2023-03-19T11:11:25.564Z"
      },
      {
        "duration": 171,
        "start_time": "2023-03-19T11:11:27.769Z"
      },
      {
        "duration": 6,
        "start_time": "2023-03-19T11:13:38.829Z"
      },
      {
        "duration": 19,
        "start_time": "2023-03-19T11:13:39.349Z"
      },
      {
        "duration": 1613,
        "start_time": "2023-03-19T11:13:49.304Z"
      },
      {
        "duration": 44,
        "start_time": "2023-03-19T11:13:50.919Z"
      },
      {
        "duration": 5,
        "start_time": "2023-03-19T11:13:50.965Z"
      },
      {
        "duration": 31,
        "start_time": "2023-03-19T11:13:50.971Z"
      },
      {
        "duration": 34,
        "start_time": "2023-03-19T11:13:51.004Z"
      },
      {
        "duration": 4,
        "start_time": "2023-03-19T11:13:51.040Z"
      },
      {
        "duration": 1173,
        "start_time": "2023-03-19T11:13:51.046Z"
      },
      {
        "duration": 15,
        "start_time": "2023-03-19T11:13:52.221Z"
      },
      {
        "duration": 908,
        "start_time": "2023-03-19T11:13:52.238Z"
      },
      {
        "duration": 214,
        "start_time": "2023-03-19T11:13:53.148Z"
      },
      {
        "duration": 211,
        "start_time": "2023-03-19T11:13:53.364Z"
      },
      {
        "duration": 175,
        "start_time": "2023-03-19T11:13:53.577Z"
      },
      {
        "duration": 199,
        "start_time": "2023-03-19T11:13:53.754Z"
      },
      {
        "duration": 178,
        "start_time": "2023-03-19T11:13:53.956Z"
      },
      {
        "duration": 41,
        "start_time": "2023-03-19T11:13:54.135Z"
      },
      {
        "duration": 9,
        "start_time": "2023-03-19T11:13:54.178Z"
      },
      {
        "duration": 6,
        "start_time": "2023-03-19T11:13:54.189Z"
      },
      {
        "duration": 7,
        "start_time": "2023-03-19T11:13:54.197Z"
      },
      {
        "duration": 31,
        "start_time": "2023-03-19T11:13:54.206Z"
      },
      {
        "duration": 3,
        "start_time": "2023-03-19T11:13:54.239Z"
      },
      {
        "duration": 37,
        "start_time": "2023-03-19T11:13:54.243Z"
      },
      {
        "duration": 65,
        "start_time": "2023-03-19T11:13:54.282Z"
      },
      {
        "duration": 571,
        "start_time": "2023-03-19T11:13:54.349Z"
      },
      {
        "duration": 353,
        "start_time": "2023-03-19T11:13:54.921Z"
      },
      {
        "duration": 101,
        "start_time": "2023-03-19T11:13:55.277Z"
      },
      {
        "duration": 8,
        "start_time": "2023-03-19T11:13:55.380Z"
      },
      {
        "duration": 6,
        "start_time": "2023-03-19T11:13:55.389Z"
      },
      {
        "duration": 5,
        "start_time": "2023-03-19T11:13:55.396Z"
      },
      {
        "duration": 14,
        "start_time": "2023-03-19T11:13:55.402Z"
      },
      {
        "duration": 4,
        "start_time": "2023-03-19T11:13:55.418Z"
      },
      {
        "duration": 12,
        "start_time": "2023-03-19T11:13:55.424Z"
      },
      {
        "duration": 2,
        "start_time": "2023-03-19T11:13:55.438Z"
      },
      {
        "duration": 7,
        "start_time": "2023-03-19T11:13:55.441Z"
      },
      {
        "duration": 3,
        "start_time": "2023-03-19T11:13:55.473Z"
      },
      {
        "duration": 356,
        "start_time": "2023-03-19T11:13:55.478Z"
      },
      {
        "duration": 13485,
        "start_time": "2023-03-19T11:13:55.835Z"
      },
      {
        "duration": 0,
        "start_time": "2023-03-19T11:14:09.322Z"
      },
      {
        "duration": 0,
        "start_time": "2023-03-19T11:14:09.323Z"
      },
      {
        "duration": 0,
        "start_time": "2023-03-19T11:14:09.324Z"
      },
      {
        "duration": 0,
        "start_time": "2023-03-19T11:14:09.326Z"
      },
      {
        "duration": 0,
        "start_time": "2023-03-19T11:14:09.327Z"
      },
      {
        "duration": 0,
        "start_time": "2023-03-19T11:14:09.328Z"
      },
      {
        "duration": 0,
        "start_time": "2023-03-19T11:14:09.329Z"
      },
      {
        "duration": 0,
        "start_time": "2023-03-19T11:14:09.329Z"
      },
      {
        "duration": 0,
        "start_time": "2023-03-19T11:14:09.330Z"
      },
      {
        "duration": 0,
        "start_time": "2023-03-19T11:14:09.331Z"
      },
      {
        "duration": 0,
        "start_time": "2023-03-19T11:14:09.332Z"
      },
      {
        "duration": 13364,
        "start_time": "2023-03-19T11:14:50.709Z"
      },
      {
        "duration": 1625,
        "start_time": "2023-03-19T11:15:30.000Z"
      },
      {
        "duration": 43,
        "start_time": "2023-03-19T11:15:31.628Z"
      },
      {
        "duration": 5,
        "start_time": "2023-03-19T11:15:31.673Z"
      },
      {
        "duration": 60,
        "start_time": "2023-03-19T11:15:31.681Z"
      },
      {
        "duration": 44,
        "start_time": "2023-03-19T11:15:31.742Z"
      },
      {
        "duration": 4,
        "start_time": "2023-03-19T11:15:31.788Z"
      },
      {
        "duration": 1166,
        "start_time": "2023-03-19T11:15:31.794Z"
      },
      {
        "duration": 22,
        "start_time": "2023-03-19T11:15:32.961Z"
      },
      {
        "duration": 873,
        "start_time": "2023-03-19T11:15:32.985Z"
      },
      {
        "duration": 196,
        "start_time": "2023-03-19T11:15:33.862Z"
      },
      {
        "duration": 223,
        "start_time": "2023-03-19T11:15:34.060Z"
      },
      {
        "duration": 172,
        "start_time": "2023-03-19T11:15:34.285Z"
      },
      {
        "duration": 198,
        "start_time": "2023-03-19T11:15:34.459Z"
      },
      {
        "duration": 191,
        "start_time": "2023-03-19T11:15:34.659Z"
      },
      {
        "duration": 47,
        "start_time": "2023-03-19T11:15:34.853Z"
      },
      {
        "duration": 11,
        "start_time": "2023-03-19T11:15:34.902Z"
      },
      {
        "duration": 6,
        "start_time": "2023-03-19T11:15:34.915Z"
      },
      {
        "duration": 9,
        "start_time": "2023-03-19T11:15:34.923Z"
      },
      {
        "duration": 47,
        "start_time": "2023-03-19T11:15:34.934Z"
      },
      {
        "duration": 3,
        "start_time": "2023-03-19T11:15:34.983Z"
      },
      {
        "duration": 5,
        "start_time": "2023-03-19T11:15:34.988Z"
      },
      {
        "duration": 79,
        "start_time": "2023-03-19T11:15:34.995Z"
      },
      {
        "duration": 596,
        "start_time": "2023-03-19T11:15:35.077Z"
      },
      {
        "duration": 403,
        "start_time": "2023-03-19T11:15:35.675Z"
      },
      {
        "duration": 99,
        "start_time": "2023-03-19T11:15:36.080Z"
      },
      {
        "duration": 8,
        "start_time": "2023-03-19T11:15:36.181Z"
      },
      {
        "duration": 6,
        "start_time": "2023-03-19T11:15:36.191Z"
      },
      {
        "duration": 4,
        "start_time": "2023-03-19T11:15:36.277Z"
      },
      {
        "duration": 28,
        "start_time": "2023-03-19T11:15:36.283Z"
      },
      {
        "duration": 6,
        "start_time": "2023-03-19T11:15:36.313Z"
      },
      {
        "duration": 14,
        "start_time": "2023-03-19T11:15:36.321Z"
      },
      {
        "duration": 2,
        "start_time": "2023-03-19T11:15:36.337Z"
      },
      {
        "duration": 4,
        "start_time": "2023-03-19T11:15:36.341Z"
      },
      {
        "duration": 10,
        "start_time": "2023-03-19T11:15:36.347Z"
      },
      {
        "duration": 346,
        "start_time": "2023-03-19T11:15:36.359Z"
      },
      {
        "duration": 13022,
        "start_time": "2023-03-19T11:15:36.706Z"
      },
      {
        "duration": 61,
        "start_time": "2023-03-19T11:15:49.731Z"
      },
      {
        "duration": 83,
        "start_time": "2023-03-19T11:15:49.795Z"
      },
      {
        "duration": 216,
        "start_time": "2023-03-19T11:15:49.880Z"
      },
      {
        "duration": 0,
        "start_time": "2023-03-19T11:15:50.097Z"
      },
      {
        "duration": 0,
        "start_time": "2023-03-19T11:15:50.098Z"
      },
      {
        "duration": 0,
        "start_time": "2023-03-19T11:15:50.100Z"
      },
      {
        "duration": 0,
        "start_time": "2023-03-19T11:15:50.101Z"
      },
      {
        "duration": 0,
        "start_time": "2023-03-19T11:15:50.102Z"
      },
      {
        "duration": 0,
        "start_time": "2023-03-19T11:15:50.103Z"
      },
      {
        "duration": 0,
        "start_time": "2023-03-19T11:15:50.104Z"
      },
      {
        "duration": 0,
        "start_time": "2023-03-19T11:15:50.105Z"
      },
      {
        "duration": 7,
        "start_time": "2023-03-19T11:16:29.568Z"
      },
      {
        "duration": 14,
        "start_time": "2023-03-19T11:16:30.669Z"
      },
      {
        "duration": 13,
        "start_time": "2023-03-19T11:17:09.236Z"
      },
      {
        "duration": 6,
        "start_time": "2023-03-19T11:17:12.429Z"
      },
      {
        "duration": 12,
        "start_time": "2023-03-19T11:17:12.828Z"
      },
      {
        "duration": 87,
        "start_time": "2023-03-19T11:17:33.789Z"
      },
      {
        "duration": 7,
        "start_time": "2023-03-19T11:17:34.831Z"
      },
      {
        "duration": 14,
        "start_time": "2023-03-19T11:17:35.568Z"
      },
      {
        "duration": 7,
        "start_time": "2023-03-19T11:19:17.608Z"
      },
      {
        "duration": 13,
        "start_time": "2023-03-19T11:19:18.948Z"
      },
      {
        "duration": 1486,
        "start_time": "2023-03-19T11:19:41.121Z"
      },
      {
        "duration": 46,
        "start_time": "2023-03-19T11:19:42.609Z"
      },
      {
        "duration": 6,
        "start_time": "2023-03-19T11:19:42.656Z"
      },
      {
        "duration": 29,
        "start_time": "2023-03-19T11:19:42.663Z"
      },
      {
        "duration": 36,
        "start_time": "2023-03-19T11:19:42.695Z"
      },
      {
        "duration": 4,
        "start_time": "2023-03-19T11:19:42.732Z"
      },
      {
        "duration": 1217,
        "start_time": "2023-03-19T11:19:42.738Z"
      },
      {
        "duration": 21,
        "start_time": "2023-03-19T11:19:43.957Z"
      },
      {
        "duration": 870,
        "start_time": "2023-03-19T11:19:43.980Z"
      },
      {
        "duration": 206,
        "start_time": "2023-03-19T11:19:44.852Z"
      },
      {
        "duration": 227,
        "start_time": "2023-03-19T11:19:45.060Z"
      },
      {
        "duration": 182,
        "start_time": "2023-03-19T11:19:45.289Z"
      },
      {
        "duration": 187,
        "start_time": "2023-03-19T11:19:45.474Z"
      },
      {
        "duration": 193,
        "start_time": "2023-03-19T11:19:45.672Z"
      },
      {
        "duration": 37,
        "start_time": "2023-03-19T11:19:45.867Z"
      },
      {
        "duration": 11,
        "start_time": "2023-03-19T11:19:45.906Z"
      },
      {
        "duration": 12,
        "start_time": "2023-03-19T11:19:45.919Z"
      },
      {
        "duration": 10,
        "start_time": "2023-03-19T11:19:45.932Z"
      },
      {
        "duration": 54,
        "start_time": "2023-03-19T11:19:45.944Z"
      },
      {
        "duration": 4,
        "start_time": "2023-03-19T11:19:46.000Z"
      },
      {
        "duration": 15,
        "start_time": "2023-03-19T11:19:46.006Z"
      },
      {
        "duration": 71,
        "start_time": "2023-03-19T11:19:46.023Z"
      },
      {
        "duration": 580,
        "start_time": "2023-03-19T11:19:46.096Z"
      },
      {
        "duration": 396,
        "start_time": "2023-03-19T11:19:46.679Z"
      },
      {
        "duration": 6,
        "start_time": "2023-03-19T11:19:47.172Z"
      },
      {
        "duration": 16,
        "start_time": "2023-03-19T11:19:47.180Z"
      },
      {
        "duration": 24,
        "start_time": "2023-03-19T11:19:47.197Z"
      },
      {
        "duration": 9,
        "start_time": "2023-03-19T11:19:47.223Z"
      },
      {
        "duration": 24,
        "start_time": "2023-03-19T11:19:47.234Z"
      },
      {
        "duration": 7,
        "start_time": "2023-03-19T11:19:47.260Z"
      },
      {
        "duration": 30,
        "start_time": "2023-03-19T11:19:47.269Z"
      },
      {
        "duration": 5,
        "start_time": "2023-03-19T11:19:47.301Z"
      },
      {
        "duration": 9,
        "start_time": "2023-03-19T11:19:47.307Z"
      },
      {
        "duration": 4,
        "start_time": "2023-03-19T11:19:47.319Z"
      },
      {
        "duration": 343,
        "start_time": "2023-03-19T11:19:47.325Z"
      },
      {
        "duration": 886,
        "start_time": "2023-03-19T11:19:47.670Z"
      },
      {
        "duration": 117,
        "start_time": "2023-03-19T11:19:48.558Z"
      },
      {
        "duration": 93,
        "start_time": "2023-03-19T11:19:48.681Z"
      },
      {
        "duration": 148,
        "start_time": "2023-03-19T11:19:48.776Z"
      },
      {
        "duration": 0,
        "start_time": "2023-03-19T11:19:48.926Z"
      },
      {
        "duration": 0,
        "start_time": "2023-03-19T11:19:48.928Z"
      },
      {
        "duration": 0,
        "start_time": "2023-03-19T11:19:48.929Z"
      },
      {
        "duration": 0,
        "start_time": "2023-03-19T11:19:48.931Z"
      },
      {
        "duration": 0,
        "start_time": "2023-03-19T11:19:48.935Z"
      },
      {
        "duration": 0,
        "start_time": "2023-03-19T11:19:48.936Z"
      },
      {
        "duration": 0,
        "start_time": "2023-03-19T11:19:48.937Z"
      },
      {
        "duration": 0,
        "start_time": "2023-03-19T11:19:48.939Z"
      },
      {
        "duration": 40,
        "start_time": "2023-03-19T11:20:59.483Z"
      },
      {
        "duration": 7,
        "start_time": "2023-03-19T11:21:00.829Z"
      },
      {
        "duration": 15,
        "start_time": "2023-03-19T11:21:01.708Z"
      },
      {
        "duration": 6,
        "start_time": "2023-03-19T11:23:53.951Z"
      },
      {
        "duration": 12,
        "start_time": "2023-03-19T11:23:54.749Z"
      },
      {
        "duration": 10,
        "start_time": "2023-03-19T11:24:07.845Z"
      },
      {
        "duration": 10,
        "start_time": "2023-03-19T11:24:11.788Z"
      },
      {
        "duration": 13,
        "start_time": "2023-03-19T11:24:12.649Z"
      },
      {
        "duration": 10,
        "start_time": "2023-03-19T11:25:28.809Z"
      },
      {
        "duration": 14,
        "start_time": "2023-03-19T11:25:29.648Z"
      },
      {
        "duration": 4,
        "start_time": "2023-03-19T11:25:50.488Z"
      },
      {
        "duration": 11,
        "start_time": "2023-03-19T11:32:56.008Z"
      },
      {
        "duration": 12,
        "start_time": "2023-03-19T11:32:56.889Z"
      },
      {
        "duration": 6,
        "start_time": "2023-03-19T11:33:15.869Z"
      },
      {
        "duration": 14,
        "start_time": "2023-03-19T11:33:17.127Z"
      },
      {
        "duration": 11,
        "start_time": "2023-03-19T11:33:18.108Z"
      },
      {
        "duration": 9,
        "start_time": "2023-03-19T11:33:26.329Z"
      },
      {
        "duration": 8,
        "start_time": "2023-03-19T11:33:36.369Z"
      },
      {
        "duration": 19,
        "start_time": "2023-03-19T11:33:37.068Z"
      },
      {
        "duration": 3,
        "start_time": "2023-03-19T11:34:56.948Z"
      },
      {
        "duration": 3,
        "start_time": "2023-03-19T11:34:59.969Z"
      },
      {
        "duration": 9,
        "start_time": "2023-03-19T11:35:23.668Z"
      },
      {
        "duration": 4,
        "start_time": "2023-03-19T11:35:24.208Z"
      },
      {
        "duration": 2,
        "start_time": "2023-03-19T11:35:24.688Z"
      },
      {
        "duration": 9,
        "start_time": "2023-03-19T11:35:27.668Z"
      },
      {
        "duration": 3,
        "start_time": "2023-03-19T11:35:28.308Z"
      },
      {
        "duration": 3,
        "start_time": "2023-03-19T11:35:28.768Z"
      },
      {
        "duration": 16,
        "start_time": "2023-03-19T11:35:29.288Z"
      },
      {
        "duration": 3,
        "start_time": "2023-03-19T11:35:29.908Z"
      },
      {
        "duration": 3,
        "start_time": "2023-03-19T11:35:30.409Z"
      },
      {
        "duration": 175,
        "start_time": "2023-03-19T11:35:30.989Z"
      },
      {
        "duration": 7,
        "start_time": "2023-03-19T11:37:15.568Z"
      },
      {
        "duration": 10,
        "start_time": "2023-03-19T11:37:15.949Z"
      },
      {
        "duration": 16,
        "start_time": "2023-03-19T11:37:16.468Z"
      },
      {
        "duration": 170,
        "start_time": "2023-03-19T11:37:17.389Z"
      },
      {
        "duration": 207,
        "start_time": "2023-03-19T11:38:28.260Z"
      },
      {
        "duration": 209,
        "start_time": "2023-03-19T11:40:24.689Z"
      },
      {
        "duration": 297,
        "start_time": "2023-03-19T11:41:17.996Z"
      },
      {
        "duration": 5,
        "start_time": "2023-03-19T11:44:08.171Z"
      },
      {
        "duration": 4,
        "start_time": "2023-03-19T11:44:17.108Z"
      },
      {
        "duration": 1522,
        "start_time": "2023-03-19T11:44:33.229Z"
      },
      {
        "duration": 43,
        "start_time": "2023-03-19T11:44:34.753Z"
      },
      {
        "duration": 5,
        "start_time": "2023-03-19T11:44:34.798Z"
      },
      {
        "duration": 31,
        "start_time": "2023-03-19T11:44:34.804Z"
      },
      {
        "duration": 50,
        "start_time": "2023-03-19T11:44:34.838Z"
      },
      {
        "duration": 5,
        "start_time": "2023-03-19T11:44:34.889Z"
      },
      {
        "duration": 1292,
        "start_time": "2023-03-19T11:44:34.895Z"
      },
      {
        "duration": 18,
        "start_time": "2023-03-19T11:44:36.190Z"
      },
      {
        "duration": 923,
        "start_time": "2023-03-19T11:44:36.210Z"
      },
      {
        "duration": 205,
        "start_time": "2023-03-19T11:44:37.135Z"
      },
      {
        "duration": 224,
        "start_time": "2023-03-19T11:44:37.343Z"
      },
      {
        "duration": 168,
        "start_time": "2023-03-19T11:44:37.569Z"
      },
      {
        "duration": 193,
        "start_time": "2023-03-19T11:44:37.738Z"
      },
      {
        "duration": 187,
        "start_time": "2023-03-19T11:44:37.934Z"
      },
      {
        "duration": 35,
        "start_time": "2023-03-19T11:44:38.123Z"
      },
      {
        "duration": 20,
        "start_time": "2023-03-19T11:44:38.160Z"
      },
      {
        "duration": 12,
        "start_time": "2023-03-19T11:44:38.182Z"
      },
      {
        "duration": 16,
        "start_time": "2023-03-19T11:44:38.195Z"
      },
      {
        "duration": 33,
        "start_time": "2023-03-19T11:44:38.213Z"
      },
      {
        "duration": 3,
        "start_time": "2023-03-19T11:44:38.248Z"
      },
      {
        "duration": 20,
        "start_time": "2023-03-19T11:44:38.253Z"
      },
      {
        "duration": 72,
        "start_time": "2023-03-19T11:44:38.275Z"
      },
      {
        "duration": 580,
        "start_time": "2023-03-19T11:44:38.349Z"
      },
      {
        "duration": 148,
        "start_time": "2023-03-19T11:44:38.931Z"
      },
      {
        "duration": 106,
        "start_time": "2023-03-19T11:44:39.081Z"
      },
      {
        "duration": 17,
        "start_time": "2023-03-19T11:44:39.273Z"
      },
      {
        "duration": 6,
        "start_time": "2023-03-19T11:44:39.291Z"
      },
      {
        "duration": 7,
        "start_time": "2023-03-19T11:44:39.299Z"
      },
      {
        "duration": 15,
        "start_time": "2023-03-19T11:44:39.308Z"
      },
      {
        "duration": 5,
        "start_time": "2023-03-19T11:44:39.325Z"
      },
      {
        "duration": 16,
        "start_time": "2023-03-19T11:44:39.332Z"
      },
      {
        "duration": 3,
        "start_time": "2023-03-19T11:44:39.374Z"
      },
      {
        "duration": 17,
        "start_time": "2023-03-19T11:44:39.379Z"
      },
      {
        "duration": 6,
        "start_time": "2023-03-19T11:44:39.398Z"
      },
      {
        "duration": 353,
        "start_time": "2023-03-19T11:44:39.406Z"
      },
      {
        "duration": 1082,
        "start_time": "2023-03-19T11:44:39.761Z"
      },
      {
        "duration": 0,
        "start_time": "2023-03-19T11:44:40.845Z"
      },
      {
        "duration": 0,
        "start_time": "2023-03-19T11:44:40.846Z"
      },
      {
        "duration": 0,
        "start_time": "2023-03-19T11:44:40.847Z"
      },
      {
        "duration": 0,
        "start_time": "2023-03-19T11:44:40.848Z"
      },
      {
        "duration": 0,
        "start_time": "2023-03-19T11:44:40.849Z"
      },
      {
        "duration": 0,
        "start_time": "2023-03-19T11:44:40.851Z"
      },
      {
        "duration": 0,
        "start_time": "2023-03-19T11:44:40.852Z"
      },
      {
        "duration": 1512,
        "start_time": "2023-03-19T11:45:17.106Z"
      },
      {
        "duration": 43,
        "start_time": "2023-03-19T11:45:18.620Z"
      },
      {
        "duration": 4,
        "start_time": "2023-03-19T11:45:18.665Z"
      },
      {
        "duration": 33,
        "start_time": "2023-03-19T11:45:18.671Z"
      },
      {
        "duration": 35,
        "start_time": "2023-03-19T11:45:18.707Z"
      },
      {
        "duration": 5,
        "start_time": "2023-03-19T11:45:18.744Z"
      },
      {
        "duration": 1219,
        "start_time": "2023-03-19T11:45:18.751Z"
      },
      {
        "duration": 17,
        "start_time": "2023-03-19T11:45:19.971Z"
      },
      {
        "duration": 926,
        "start_time": "2023-03-19T11:45:19.989Z"
      },
      {
        "duration": 211,
        "start_time": "2023-03-19T11:45:20.917Z"
      },
      {
        "duration": 224,
        "start_time": "2023-03-19T11:45:21.131Z"
      },
      {
        "duration": 172,
        "start_time": "2023-03-19T11:45:21.357Z"
      },
      {
        "duration": 197,
        "start_time": "2023-03-19T11:45:21.530Z"
      },
      {
        "duration": 213,
        "start_time": "2023-03-19T11:45:21.731Z"
      },
      {
        "duration": 39,
        "start_time": "2023-03-19T11:45:21.947Z"
      },
      {
        "duration": 10,
        "start_time": "2023-03-19T11:45:21.987Z"
      },
      {
        "duration": 4,
        "start_time": "2023-03-19T11:45:21.999Z"
      },
      {
        "duration": 6,
        "start_time": "2023-03-19T11:45:22.005Z"
      },
      {
        "duration": 31,
        "start_time": "2023-03-19T11:45:22.012Z"
      },
      {
        "duration": 4,
        "start_time": "2023-03-19T11:45:22.044Z"
      },
      {
        "duration": 2,
        "start_time": "2023-03-19T11:45:22.074Z"
      },
      {
        "duration": 63,
        "start_time": "2023-03-19T11:45:22.078Z"
      },
      {
        "duration": 588,
        "start_time": "2023-03-19T11:45:22.142Z"
      },
      {
        "duration": 253,
        "start_time": "2023-03-19T11:45:22.732Z"
      },
      {
        "duration": 102,
        "start_time": "2023-03-19T11:45:23.075Z"
      },
      {
        "duration": 7,
        "start_time": "2023-03-19T11:45:23.179Z"
      },
      {
        "duration": 6,
        "start_time": "2023-03-19T11:45:23.188Z"
      },
      {
        "duration": 5,
        "start_time": "2023-03-19T11:45:23.195Z"
      },
      {
        "duration": 15,
        "start_time": "2023-03-19T11:45:23.202Z"
      },
      {
        "duration": 5,
        "start_time": "2023-03-19T11:45:23.218Z"
      },
      {
        "duration": 14,
        "start_time": "2023-03-19T11:45:23.225Z"
      },
      {
        "duration": 3,
        "start_time": "2023-03-19T11:45:23.240Z"
      },
      {
        "duration": 3,
        "start_time": "2023-03-19T11:45:23.274Z"
      },
      {
        "duration": 9,
        "start_time": "2023-03-19T11:45:23.278Z"
      },
      {
        "duration": 342,
        "start_time": "2023-03-19T11:45:23.289Z"
      },
      {
        "duration": 878,
        "start_time": "2023-03-19T11:45:23.633Z"
      },
      {
        "duration": 66,
        "start_time": "2023-03-19T11:45:24.513Z"
      },
      {
        "duration": 92,
        "start_time": "2023-03-19T11:45:24.581Z"
      },
      {
        "duration": 15,
        "start_time": "2023-03-19T11:45:24.675Z"
      },
      {
        "duration": 83,
        "start_time": "2023-03-19T11:45:24.692Z"
      },
      {
        "duration": 10,
        "start_time": "2023-03-19T11:45:24.780Z"
      },
      {
        "duration": 83,
        "start_time": "2023-03-19T11:45:24.793Z"
      },
      {
        "duration": 301,
        "start_time": "2023-03-19T11:45:24.878Z"
      },
      {
        "duration": 9,
        "start_time": "2023-03-19T11:45:37.729Z"
      },
      {
        "duration": 10,
        "start_time": "2023-03-19T11:45:59.912Z"
      },
      {
        "duration": 11,
        "start_time": "2023-03-19T11:46:38.596Z"
      },
      {
        "duration": 12,
        "start_time": "2023-03-19T11:47:45.995Z"
      },
      {
        "duration": 16,
        "start_time": "2023-03-19T11:48:19.179Z"
      },
      {
        "duration": 295,
        "start_time": "2023-03-19T11:52:39.478Z"
      },
      {
        "duration": 211,
        "start_time": "2023-03-19T11:52:52.337Z"
      },
      {
        "duration": 212,
        "start_time": "2023-03-19T11:53:32.949Z"
      },
      {
        "duration": 146,
        "start_time": "2023-03-19T11:54:16.030Z"
      },
      {
        "duration": 319,
        "start_time": "2023-03-19T11:54:20.957Z"
      },
      {
        "duration": 1463,
        "start_time": "2023-03-19T12:12:26.645Z"
      },
      {
        "duration": 42,
        "start_time": "2023-03-19T12:12:28.110Z"
      },
      {
        "duration": 4,
        "start_time": "2023-03-19T12:12:28.154Z"
      },
      {
        "duration": 31,
        "start_time": "2023-03-19T12:12:28.160Z"
      },
      {
        "duration": 45,
        "start_time": "2023-03-19T12:12:28.194Z"
      },
      {
        "duration": 5,
        "start_time": "2023-03-19T12:12:28.241Z"
      },
      {
        "duration": 1223,
        "start_time": "2023-03-19T12:12:28.248Z"
      },
      {
        "duration": 20,
        "start_time": "2023-03-19T12:12:29.473Z"
      },
      {
        "duration": 899,
        "start_time": "2023-03-19T12:12:29.495Z"
      },
      {
        "duration": 301,
        "start_time": "2023-03-19T12:12:30.396Z"
      },
      {
        "duration": 222,
        "start_time": "2023-03-19T12:12:30.699Z"
      },
      {
        "duration": 195,
        "start_time": "2023-03-19T12:12:30.923Z"
      },
      {
        "duration": 225,
        "start_time": "2023-03-19T12:12:31.120Z"
      },
      {
        "duration": 190,
        "start_time": "2023-03-19T12:12:31.349Z"
      },
      {
        "duration": 43,
        "start_time": "2023-03-19T12:12:31.542Z"
      },
      {
        "duration": 10,
        "start_time": "2023-03-19T12:12:31.586Z"
      },
      {
        "duration": 15,
        "start_time": "2023-03-19T12:12:31.598Z"
      },
      {
        "duration": 10,
        "start_time": "2023-03-19T12:12:31.615Z"
      },
      {
        "duration": 40,
        "start_time": "2023-03-19T12:12:31.627Z"
      },
      {
        "duration": 4,
        "start_time": "2023-03-19T12:12:31.672Z"
      },
      {
        "duration": 7,
        "start_time": "2023-03-19T12:12:31.677Z"
      },
      {
        "duration": 64,
        "start_time": "2023-03-19T12:12:31.686Z"
      },
      {
        "duration": 589,
        "start_time": "2023-03-19T12:12:31.752Z"
      },
      {
        "duration": 336,
        "start_time": "2023-03-19T12:12:32.343Z"
      },
      {
        "duration": 93,
        "start_time": "2023-03-19T12:12:32.682Z"
      },
      {
        "duration": 7,
        "start_time": "2023-03-19T12:12:32.778Z"
      },
      {
        "duration": 5,
        "start_time": "2023-03-19T12:12:32.787Z"
      },
      {
        "duration": 4,
        "start_time": "2023-03-19T12:12:32.794Z"
      },
      {
        "duration": 14,
        "start_time": "2023-03-19T12:12:32.800Z"
      },
      {
        "duration": 5,
        "start_time": "2023-03-19T12:12:32.872Z"
      },
      {
        "duration": 12,
        "start_time": "2023-03-19T12:12:32.879Z"
      },
      {
        "duration": 3,
        "start_time": "2023-03-19T12:12:32.892Z"
      },
      {
        "duration": 4,
        "start_time": "2023-03-19T12:12:32.897Z"
      },
      {
        "duration": 5,
        "start_time": "2023-03-19T12:12:32.903Z"
      },
      {
        "duration": 349,
        "start_time": "2023-03-19T12:12:32.910Z"
      },
      {
        "duration": 927,
        "start_time": "2023-03-19T12:12:33.262Z"
      },
      {
        "duration": 87,
        "start_time": "2023-03-19T12:12:34.190Z"
      },
      {
        "duration": 97,
        "start_time": "2023-03-19T12:12:34.281Z"
      },
      {
        "duration": 62,
        "start_time": "2023-03-19T12:12:34.383Z"
      },
      {
        "duration": 26,
        "start_time": "2023-03-19T12:12:34.448Z"
      },
      {
        "duration": 444,
        "start_time": "2023-03-19T12:12:34.482Z"
      },
      {
        "duration": 1482,
        "start_time": "2023-03-19T12:17:55.210Z"
      },
      {
        "duration": 44,
        "start_time": "2023-03-19T12:17:56.694Z"
      },
      {
        "duration": 5,
        "start_time": "2023-03-19T12:17:56.740Z"
      },
      {
        "duration": 31,
        "start_time": "2023-03-19T12:17:56.746Z"
      },
      {
        "duration": 35,
        "start_time": "2023-03-19T12:17:56.779Z"
      },
      {
        "duration": 4,
        "start_time": "2023-03-19T12:17:56.816Z"
      },
      {
        "duration": 1288,
        "start_time": "2023-03-19T12:17:56.822Z"
      },
      {
        "duration": 18,
        "start_time": "2023-03-19T12:17:58.111Z"
      },
      {
        "duration": 925,
        "start_time": "2023-03-19T12:17:58.131Z"
      },
      {
        "duration": 206,
        "start_time": "2023-03-19T12:17:59.058Z"
      },
      {
        "duration": 222,
        "start_time": "2023-03-19T12:17:59.266Z"
      },
      {
        "duration": 175,
        "start_time": "2023-03-19T12:17:59.490Z"
      },
      {
        "duration": 189,
        "start_time": "2023-03-19T12:17:59.667Z"
      },
      {
        "duration": 188,
        "start_time": "2023-03-19T12:17:59.861Z"
      },
      {
        "duration": 40,
        "start_time": "2023-03-19T12:18:00.051Z"
      },
      {
        "duration": 10,
        "start_time": "2023-03-19T12:18:00.093Z"
      },
      {
        "duration": 8,
        "start_time": "2023-03-19T12:18:00.105Z"
      },
      {
        "duration": 9,
        "start_time": "2023-03-19T12:18:00.115Z"
      },
      {
        "duration": 52,
        "start_time": "2023-03-19T12:18:00.126Z"
      },
      {
        "duration": 4,
        "start_time": "2023-03-19T12:18:00.180Z"
      },
      {
        "duration": 9,
        "start_time": "2023-03-19T12:18:00.186Z"
      },
      {
        "duration": 76,
        "start_time": "2023-03-19T12:18:00.197Z"
      },
      {
        "duration": 654,
        "start_time": "2023-03-19T12:18:00.275Z"
      },
      {
        "duration": 452,
        "start_time": "2023-03-19T12:18:00.931Z"
      },
      {
        "duration": 10,
        "start_time": "2023-03-19T12:18:01.474Z"
      },
      {
        "duration": 30,
        "start_time": "2023-03-19T12:18:01.573Z"
      },
      {
        "duration": 87,
        "start_time": "2023-03-19T12:18:01.605Z"
      },
      {
        "duration": 38,
        "start_time": "2023-03-19T12:18:01.694Z"
      },
      {
        "duration": 53,
        "start_time": "2023-03-19T12:18:01.734Z"
      },
      {
        "duration": 27,
        "start_time": "2023-03-19T12:18:01.789Z"
      },
      {
        "duration": 48,
        "start_time": "2023-03-19T12:18:01.818Z"
      },
      {
        "duration": 26,
        "start_time": "2023-03-19T12:18:01.868Z"
      },
      {
        "duration": 13,
        "start_time": "2023-03-19T12:18:01.896Z"
      },
      {
        "duration": 21,
        "start_time": "2023-03-19T12:18:01.911Z"
      },
      {
        "duration": 366,
        "start_time": "2023-03-19T12:18:01.934Z"
      },
      {
        "duration": 917,
        "start_time": "2023-03-19T12:18:02.302Z"
      },
      {
        "duration": 68,
        "start_time": "2023-03-19T12:18:03.222Z"
      },
      {
        "duration": 93,
        "start_time": "2023-03-19T12:18:03.386Z"
      },
      {
        "duration": 27,
        "start_time": "2023-03-19T12:18:03.482Z"
      },
      {
        "duration": 69,
        "start_time": "2023-03-19T12:18:03.511Z"
      },
      {
        "duration": 315,
        "start_time": "2023-03-19T12:18:03.590Z"
      },
      {
        "duration": 48,
        "start_time": "2023-03-20T08:00:32.596Z"
      },
      {
        "duration": 6,
        "start_time": "2023-03-20T08:00:33.299Z"
      },
      {
        "duration": 7,
        "start_time": "2023-03-20T08:00:38.824Z"
      },
      {
        "duration": 7,
        "start_time": "2023-03-20T08:00:41.452Z"
      },
      {
        "duration": 9,
        "start_time": "2023-03-20T08:00:42.428Z"
      },
      {
        "duration": 6,
        "start_time": "2023-03-20T08:00:49.388Z"
      },
      {
        "duration": 1579,
        "start_time": "2023-03-20T08:00:57.472Z"
      },
      {
        "duration": 166,
        "start_time": "2023-03-20T08:00:59.053Z"
      },
      {
        "duration": 4,
        "start_time": "2023-03-20T08:00:59.221Z"
      },
      {
        "duration": 33,
        "start_time": "2023-03-20T08:01:00.401Z"
      },
      {
        "duration": 31,
        "start_time": "2023-03-20T08:01:00.801Z"
      },
      {
        "duration": 4,
        "start_time": "2023-03-20T08:01:01.420Z"
      },
      {
        "duration": 1034,
        "start_time": "2023-03-20T08:01:02.501Z"
      },
      {
        "duration": 15,
        "start_time": "2023-03-20T08:01:03.577Z"
      },
      {
        "duration": 851,
        "start_time": "2023-03-20T08:01:03.877Z"
      },
      {
        "duration": 178,
        "start_time": "2023-03-20T08:01:04.730Z"
      },
      {
        "duration": 181,
        "start_time": "2023-03-20T08:01:05.332Z"
      },
      {
        "duration": 140,
        "start_time": "2023-03-20T08:01:06.290Z"
      },
      {
        "duration": 161,
        "start_time": "2023-03-20T08:01:06.931Z"
      },
      {
        "duration": 160,
        "start_time": "2023-03-20T08:01:07.823Z"
      },
      {
        "duration": 31,
        "start_time": "2023-03-20T08:01:09.521Z"
      },
      {
        "duration": 10,
        "start_time": "2023-03-20T08:01:10.508Z"
      },
      {
        "duration": 5,
        "start_time": "2023-03-20T08:01:12.552Z"
      },
      {
        "duration": 10,
        "start_time": "2023-03-20T08:01:13.349Z"
      },
      {
        "duration": 8,
        "start_time": "2023-03-20T08:01:14.189Z"
      },
      {
        "duration": 80,
        "start_time": "2023-03-20T08:04:11.774Z"
      },
      {
        "duration": 24,
        "start_time": "2023-03-20T08:05:51.249Z"
      },
      {
        "duration": 4,
        "start_time": "2023-03-20T08:05:59.770Z"
      },
      {
        "duration": 2,
        "start_time": "2023-03-20T08:06:00.884Z"
      },
      {
        "duration": 114,
        "start_time": "2023-03-20T08:06:03.949Z"
      },
      {
        "duration": 1446,
        "start_time": "2023-03-20T08:19:28.378Z"
      },
      {
        "duration": 42,
        "start_time": "2023-03-20T08:19:29.826Z"
      },
      {
        "duration": 4,
        "start_time": "2023-03-20T08:19:29.870Z"
      },
      {
        "duration": 41,
        "start_time": "2023-03-20T08:19:29.876Z"
      },
      {
        "duration": 34,
        "start_time": "2023-03-20T08:19:29.919Z"
      },
      {
        "duration": 24,
        "start_time": "2023-03-20T08:19:29.954Z"
      },
      {
        "duration": 1229,
        "start_time": "2023-03-20T08:19:29.979Z"
      },
      {
        "duration": 15,
        "start_time": "2023-03-20T08:19:31.210Z"
      },
      {
        "duration": 876,
        "start_time": "2023-03-20T08:19:31.227Z"
      },
      {
        "duration": 193,
        "start_time": "2023-03-20T08:19:32.104Z"
      },
      {
        "duration": 234,
        "start_time": "2023-03-20T08:19:32.299Z"
      },
      {
        "duration": 192,
        "start_time": "2023-03-20T08:19:32.535Z"
      },
      {
        "duration": 196,
        "start_time": "2023-03-20T08:19:32.729Z"
      },
      {
        "duration": 192,
        "start_time": "2023-03-20T08:19:32.930Z"
      },
      {
        "duration": 32,
        "start_time": "2023-03-20T08:19:33.124Z"
      },
      {
        "duration": 22,
        "start_time": "2023-03-20T08:19:33.158Z"
      },
      {
        "duration": 9,
        "start_time": "2023-03-20T08:19:33.182Z"
      },
      {
        "duration": 9,
        "start_time": "2023-03-20T08:19:33.193Z"
      },
      {
        "duration": 7,
        "start_time": "2023-03-20T08:19:33.204Z"
      },
      {
        "duration": 62,
        "start_time": "2023-03-20T08:19:33.213Z"
      },
      {
        "duration": 5,
        "start_time": "2023-03-20T08:19:33.277Z"
      },
      {
        "duration": 4,
        "start_time": "2023-03-20T08:19:33.284Z"
      },
      {
        "duration": 133,
        "start_time": "2023-03-20T08:19:33.290Z"
      },
      {
        "duration": 592,
        "start_time": "2023-03-20T08:19:33.425Z"
      },
      {
        "duration": 164,
        "start_time": "2023-03-20T08:19:34.019Z"
      },
      {
        "duration": 90,
        "start_time": "2023-03-20T08:19:34.185Z"
      },
      {
        "duration": 6,
        "start_time": "2023-03-20T08:19:34.277Z"
      },
      {
        "duration": 94,
        "start_time": "2023-03-20T08:19:34.285Z"
      },
      {
        "duration": 249,
        "start_time": "2023-03-20T08:19:34.381Z"
      },
      {
        "duration": 28,
        "start_time": "2023-03-20T08:19:34.632Z"
      },
      {
        "duration": 4,
        "start_time": "2023-03-20T08:19:34.662Z"
      },
      {
        "duration": 14,
        "start_time": "2023-03-20T08:19:34.668Z"
      },
      {
        "duration": 3,
        "start_time": "2023-03-20T08:19:34.684Z"
      },
      {
        "duration": 4,
        "start_time": "2023-03-20T08:19:34.689Z"
      },
      {
        "duration": 10,
        "start_time": "2023-03-20T08:19:34.695Z"
      },
      {
        "duration": 348,
        "start_time": "2023-03-20T08:19:34.707Z"
      },
      {
        "duration": 864,
        "start_time": "2023-03-20T08:19:35.057Z"
      },
      {
        "duration": 61,
        "start_time": "2023-03-20T08:19:35.923Z"
      },
      {
        "duration": 190,
        "start_time": "2023-03-20T08:19:35.986Z"
      },
      {
        "duration": 22,
        "start_time": "2023-03-20T08:19:36.178Z"
      },
      {
        "duration": 72,
        "start_time": "2023-03-20T08:19:36.203Z"
      },
      {
        "duration": 321,
        "start_time": "2023-03-20T08:19:36.278Z"
      },
      {
        "duration": 6,
        "start_time": "2023-03-20T08:52:41.245Z"
      },
      {
        "duration": 121,
        "start_time": "2023-03-20T08:56:06.125Z"
      },
      {
        "duration": 50,
        "start_time": "2023-03-20T08:56:26.189Z"
      },
      {
        "duration": 50,
        "start_time": "2023-03-20T08:58:42.505Z"
      },
      {
        "duration": 1106,
        "start_time": "2023-03-20T08:59:27.489Z"
      },
      {
        "duration": 700,
        "start_time": "2023-03-20T08:59:59.615Z"
      },
      {
        "duration": 1116,
        "start_time": "2023-03-20T09:02:01.905Z"
      },
      {
        "duration": 1127,
        "start_time": "2023-03-20T09:02:13.537Z"
      },
      {
        "duration": 622,
        "start_time": "2023-03-20T09:03:08.613Z"
      },
      {
        "duration": 4,
        "start_time": "2023-03-20T09:03:20.913Z"
      },
      {
        "duration": 1148,
        "start_time": "2023-03-20T09:03:30.729Z"
      },
      {
        "duration": 71,
        "start_time": "2023-03-20T09:04:24.259Z"
      },
      {
        "duration": 473,
        "start_time": "2023-03-20T09:04:37.671Z"
      },
      {
        "duration": 1285,
        "start_time": "2023-03-20T09:04:53.300Z"
      },
      {
        "duration": 171,
        "start_time": "2023-03-20T09:05:12.745Z"
      },
      {
        "duration": 2139,
        "start_time": "2023-03-20T09:06:10.138Z"
      },
      {
        "duration": 2007,
        "start_time": "2023-03-20T09:10:54.713Z"
      },
      {
        "duration": 600,
        "start_time": "2023-03-20T09:11:09.604Z"
      },
      {
        "duration": 2210,
        "start_time": "2023-03-20T09:11:18.519Z"
      },
      {
        "duration": 2238,
        "start_time": "2023-03-20T09:15:22.612Z"
      },
      {
        "duration": 451,
        "start_time": "2023-03-20T09:16:42.753Z"
      },
      {
        "duration": 133,
        "start_time": "2023-03-20T09:22:51.457Z"
      },
      {
        "duration": 12,
        "start_time": "2023-03-20T09:41:28.525Z"
      },
      {
        "duration": 13,
        "start_time": "2023-03-20T09:45:00.778Z"
      },
      {
        "duration": 12,
        "start_time": "2023-03-20T09:45:10.150Z"
      },
      {
        "duration": 16,
        "start_time": "2023-03-20T09:45:19.775Z"
      },
      {
        "duration": 11,
        "start_time": "2023-03-20T09:45:26.063Z"
      },
      {
        "duration": 12,
        "start_time": "2023-03-20T09:45:57.618Z"
      },
      {
        "duration": 13,
        "start_time": "2023-03-20T09:46:03.804Z"
      },
      {
        "duration": 14,
        "start_time": "2023-03-20T09:46:10.570Z"
      },
      {
        "duration": 11,
        "start_time": "2023-03-20T09:46:16.277Z"
      },
      {
        "duration": 11,
        "start_time": "2023-03-20T09:46:27.308Z"
      },
      {
        "duration": 15,
        "start_time": "2023-03-20T09:46:34.124Z"
      },
      {
        "duration": 13,
        "start_time": "2023-03-20T09:48:47.177Z"
      },
      {
        "duration": 16,
        "start_time": "2023-03-20T09:48:54.296Z"
      },
      {
        "duration": 16,
        "start_time": "2023-03-20T09:49:00.418Z"
      },
      {
        "duration": 111,
        "start_time": "2023-03-20T09:49:22.860Z"
      },
      {
        "duration": 691,
        "start_time": "2023-03-20T09:51:03.592Z"
      },
      {
        "duration": 146,
        "start_time": "2023-03-20T09:51:21.502Z"
      },
      {
        "duration": 1392,
        "start_time": "2023-03-20T10:40:35.247Z"
      },
      {
        "duration": 53,
        "start_time": "2023-03-20T10:40:36.641Z"
      },
      {
        "duration": 5,
        "start_time": "2023-03-20T10:40:36.696Z"
      },
      {
        "duration": 27,
        "start_time": "2023-03-20T10:40:36.702Z"
      },
      {
        "duration": 29,
        "start_time": "2023-03-20T10:40:36.731Z"
      },
      {
        "duration": 15,
        "start_time": "2023-03-20T10:40:36.762Z"
      },
      {
        "duration": 1057,
        "start_time": "2023-03-20T10:40:36.779Z"
      },
      {
        "duration": 14,
        "start_time": "2023-03-20T10:40:37.837Z"
      },
      {
        "duration": 791,
        "start_time": "2023-03-20T10:40:37.852Z"
      },
      {
        "duration": 169,
        "start_time": "2023-03-20T10:40:38.645Z"
      },
      {
        "duration": 189,
        "start_time": "2023-03-20T10:40:38.815Z"
      },
      {
        "duration": 169,
        "start_time": "2023-03-20T10:40:39.006Z"
      },
      {
        "duration": 173,
        "start_time": "2023-03-20T10:40:39.176Z"
      },
      {
        "duration": 176,
        "start_time": "2023-03-20T10:40:39.352Z"
      },
      {
        "duration": 30,
        "start_time": "2023-03-20T10:40:39.530Z"
      },
      {
        "duration": 10,
        "start_time": "2023-03-20T10:40:39.574Z"
      },
      {
        "duration": 16,
        "start_time": "2023-03-20T10:40:39.585Z"
      },
      {
        "duration": 26,
        "start_time": "2023-03-20T10:40:39.603Z"
      },
      {
        "duration": 10,
        "start_time": "2023-03-20T10:40:39.631Z"
      },
      {
        "duration": 27,
        "start_time": "2023-03-20T10:40:39.643Z"
      },
      {
        "duration": 4,
        "start_time": "2023-03-20T10:40:39.672Z"
      },
      {
        "duration": 14,
        "start_time": "2023-03-20T10:40:39.678Z"
      },
      {
        "duration": 110,
        "start_time": "2023-03-20T10:40:39.693Z"
      },
      {
        "duration": 0,
        "start_time": "2023-03-20T10:40:39.805Z"
      },
      {
        "duration": 0,
        "start_time": "2023-03-20T10:40:39.807Z"
      },
      {
        "duration": 0,
        "start_time": "2023-03-20T10:40:39.809Z"
      },
      {
        "duration": 0,
        "start_time": "2023-03-20T10:40:39.810Z"
      },
      {
        "duration": 0,
        "start_time": "2023-03-20T10:40:39.812Z"
      },
      {
        "duration": 0,
        "start_time": "2023-03-20T10:40:39.813Z"
      },
      {
        "duration": 0,
        "start_time": "2023-03-20T10:40:39.815Z"
      },
      {
        "duration": 0,
        "start_time": "2023-03-20T10:40:39.817Z"
      },
      {
        "duration": 0,
        "start_time": "2023-03-20T10:40:39.818Z"
      },
      {
        "duration": 0,
        "start_time": "2023-03-20T10:40:39.819Z"
      },
      {
        "duration": 0,
        "start_time": "2023-03-20T10:40:39.821Z"
      },
      {
        "duration": 0,
        "start_time": "2023-03-20T10:40:39.823Z"
      },
      {
        "duration": 0,
        "start_time": "2023-03-20T10:40:39.824Z"
      },
      {
        "duration": 0,
        "start_time": "2023-03-20T10:40:39.826Z"
      },
      {
        "duration": 0,
        "start_time": "2023-03-20T10:40:39.827Z"
      },
      {
        "duration": 0,
        "start_time": "2023-03-20T10:40:39.828Z"
      },
      {
        "duration": 1,
        "start_time": "2023-03-20T10:40:39.829Z"
      },
      {
        "duration": 0,
        "start_time": "2023-03-20T10:40:39.831Z"
      },
      {
        "duration": 14,
        "start_time": "2023-03-20T13:48:16.478Z"
      },
      {
        "duration": 10,
        "start_time": "2023-03-20T13:48:35.956Z"
      },
      {
        "duration": 4,
        "start_time": "2023-03-20T13:48:43.476Z"
      },
      {
        "duration": 3,
        "start_time": "2023-03-20T13:48:44.176Z"
      },
      {
        "duration": 10,
        "start_time": "2023-03-20T13:48:44.898Z"
      },
      {
        "duration": 1461,
        "start_time": "2023-03-20T13:48:55.645Z"
      },
      {
        "duration": 43,
        "start_time": "2023-03-20T13:48:57.108Z"
      },
      {
        "duration": 5,
        "start_time": "2023-03-20T13:48:57.153Z"
      },
      {
        "duration": 25,
        "start_time": "2023-03-20T13:48:57.160Z"
      },
      {
        "duration": 33,
        "start_time": "2023-03-20T13:48:57.187Z"
      },
      {
        "duration": 5,
        "start_time": "2023-03-20T13:48:57.221Z"
      },
      {
        "duration": 1225,
        "start_time": "2023-03-20T13:48:57.227Z"
      },
      {
        "duration": 25,
        "start_time": "2023-03-20T13:48:58.455Z"
      },
      {
        "duration": 822,
        "start_time": "2023-03-20T13:48:58.481Z"
      },
      {
        "duration": 212,
        "start_time": "2023-03-20T13:48:59.307Z"
      },
      {
        "duration": 223,
        "start_time": "2023-03-20T13:48:59.521Z"
      },
      {
        "duration": 189,
        "start_time": "2023-03-20T13:48:59.745Z"
      },
      {
        "duration": 199,
        "start_time": "2023-03-20T13:48:59.936Z"
      },
      {
        "duration": 191,
        "start_time": "2023-03-20T13:49:00.137Z"
      },
      {
        "duration": 48,
        "start_time": "2023-03-20T13:49:00.330Z"
      },
      {
        "duration": 14,
        "start_time": "2023-03-20T13:49:00.379Z"
      },
      {
        "duration": 74,
        "start_time": "2023-03-20T13:49:00.395Z"
      },
      {
        "duration": 32,
        "start_time": "2023-03-20T13:49:00.471Z"
      },
      {
        "duration": 53,
        "start_time": "2023-03-20T13:49:00.505Z"
      },
      {
        "duration": 82,
        "start_time": "2023-03-20T13:49:00.560Z"
      },
      {
        "duration": 21,
        "start_time": "2023-03-20T13:49:00.644Z"
      },
      {
        "duration": 86,
        "start_time": "2023-03-20T13:49:00.667Z"
      },
      {
        "duration": 173,
        "start_time": "2023-03-20T13:49:00.755Z"
      },
      {
        "duration": 0,
        "start_time": "2023-03-20T13:49:00.931Z"
      },
      {
        "duration": 0,
        "start_time": "2023-03-20T13:49:00.932Z"
      },
      {
        "duration": 0,
        "start_time": "2023-03-20T13:49:00.933Z"
      },
      {
        "duration": 0,
        "start_time": "2023-03-20T13:49:00.936Z"
      },
      {
        "duration": 0,
        "start_time": "2023-03-20T13:49:00.937Z"
      },
      {
        "duration": 0,
        "start_time": "2023-03-20T13:49:00.938Z"
      },
      {
        "duration": 0,
        "start_time": "2023-03-20T13:49:00.940Z"
      },
      {
        "duration": 0,
        "start_time": "2023-03-20T13:49:00.941Z"
      },
      {
        "duration": 0,
        "start_time": "2023-03-20T13:49:00.943Z"
      },
      {
        "duration": 0,
        "start_time": "2023-03-20T13:49:00.944Z"
      },
      {
        "duration": 0,
        "start_time": "2023-03-20T13:49:00.975Z"
      },
      {
        "duration": 0,
        "start_time": "2023-03-20T13:49:00.977Z"
      },
      {
        "duration": 0,
        "start_time": "2023-03-20T13:49:00.978Z"
      },
      {
        "duration": 0,
        "start_time": "2023-03-20T13:49:00.979Z"
      },
      {
        "duration": 0,
        "start_time": "2023-03-20T13:49:00.981Z"
      },
      {
        "duration": 0,
        "start_time": "2023-03-20T13:49:00.982Z"
      },
      {
        "duration": 0,
        "start_time": "2023-03-20T13:49:00.983Z"
      },
      {
        "duration": 0,
        "start_time": "2023-03-20T13:49:00.984Z"
      },
      {
        "duration": 1444,
        "start_time": "2023-03-20T13:49:17.893Z"
      },
      {
        "duration": 41,
        "start_time": "2023-03-20T13:49:19.338Z"
      },
      {
        "duration": 4,
        "start_time": "2023-03-20T13:49:19.380Z"
      },
      {
        "duration": 39,
        "start_time": "2023-03-20T13:49:19.386Z"
      },
      {
        "duration": 61,
        "start_time": "2023-03-20T13:49:19.428Z"
      },
      {
        "duration": 4,
        "start_time": "2023-03-20T13:49:19.491Z"
      },
      {
        "duration": 1157,
        "start_time": "2023-03-20T13:49:19.497Z"
      },
      {
        "duration": 23,
        "start_time": "2023-03-20T13:49:20.656Z"
      },
      {
        "duration": 800,
        "start_time": "2023-03-20T13:49:20.682Z"
      },
      {
        "duration": 184,
        "start_time": "2023-03-20T13:49:21.484Z"
      },
      {
        "duration": 204,
        "start_time": "2023-03-20T13:49:21.670Z"
      },
      {
        "duration": 166,
        "start_time": "2023-03-20T13:49:21.876Z"
      },
      {
        "duration": 178,
        "start_time": "2023-03-20T13:49:22.044Z"
      },
      {
        "duration": 208,
        "start_time": "2023-03-20T13:49:22.225Z"
      },
      {
        "duration": 44,
        "start_time": "2023-03-20T13:49:22.435Z"
      },
      {
        "duration": 8,
        "start_time": "2023-03-20T13:49:22.481Z"
      },
      {
        "duration": 4,
        "start_time": "2023-03-20T13:49:22.491Z"
      },
      {
        "duration": 10,
        "start_time": "2023-03-20T13:49:22.497Z"
      },
      {
        "duration": 7,
        "start_time": "2023-03-20T13:49:22.508Z"
      },
      {
        "duration": 27,
        "start_time": "2023-03-20T13:49:22.517Z"
      },
      {
        "duration": 4,
        "start_time": "2023-03-20T13:49:22.575Z"
      },
      {
        "duration": 6,
        "start_time": "2023-03-20T13:49:22.580Z"
      },
      {
        "duration": 510,
        "start_time": "2023-03-20T13:49:22.588Z"
      },
      {
        "duration": 2324,
        "start_time": "2023-03-20T13:49:23.099Z"
      },
      {
        "duration": 51,
        "start_time": "2023-03-20T13:49:25.425Z"
      },
      {
        "duration": 9,
        "start_time": "2023-03-20T13:49:25.478Z"
      },
      {
        "duration": 15,
        "start_time": "2023-03-20T13:49:25.575Z"
      },
      {
        "duration": 6,
        "start_time": "2023-03-20T13:49:25.592Z"
      },
      {
        "duration": 17,
        "start_time": "2023-03-20T13:49:25.599Z"
      },
      {
        "duration": 14,
        "start_time": "2023-03-20T13:49:25.617Z"
      },
      {
        "duration": 162,
        "start_time": "2023-03-20T13:49:25.632Z"
      },
      {
        "duration": 4352,
        "start_time": "2023-03-20T13:49:25.796Z"
      },
      {
        "duration": 27,
        "start_time": "2023-03-20T13:49:30.150Z"
      },
      {
        "duration": 398,
        "start_time": "2023-03-20T13:49:30.178Z"
      },
      {
        "duration": 1165,
        "start_time": "2023-03-20T13:49:30.579Z"
      },
      {
        "duration": 130,
        "start_time": "2023-03-20T13:49:31.745Z"
      },
      {
        "duration": 99,
        "start_time": "2023-03-20T13:49:31.876Z"
      },
      {
        "duration": 46,
        "start_time": "2023-03-20T13:49:31.977Z"
      },
      {
        "duration": 55,
        "start_time": "2023-03-20T13:49:32.025Z"
      },
      {
        "duration": 320,
        "start_time": "2023-03-20T13:49:32.082Z"
      },
      {
        "duration": 33969,
        "start_time": "2023-03-20T13:51:59.436Z"
      },
      {
        "duration": 251,
        "start_time": "2023-03-20T13:56:04.307Z"
      },
      {
        "duration": 5000,
        "start_time": "2023-03-20T13:56:11.817Z"
      },
      {
        "duration": 4804,
        "start_time": "2023-03-20T13:56:36.447Z"
      },
      {
        "duration": 28,
        "start_time": "2023-03-20T13:57:11.437Z"
      },
      {
        "duration": 9,
        "start_time": "2023-03-20T13:57:36.837Z"
      },
      {
        "duration": 22,
        "start_time": "2023-03-20T13:57:39.937Z"
      },
      {
        "duration": 16,
        "start_time": "2023-03-20T13:57:42.517Z"
      },
      {
        "duration": 192,
        "start_time": "2023-03-20T13:57:48.377Z"
      },
      {
        "duration": 7,
        "start_time": "2023-03-20T14:02:49.863Z"
      },
      {
        "duration": 780,
        "start_time": "2023-03-20T14:03:35.956Z"
      },
      {
        "duration": 447,
        "start_time": "2023-03-20T14:04:27.197Z"
      },
      {
        "duration": 112627,
        "start_time": "2023-03-20T14:11:01.856Z"
      },
      {
        "duration": 1773,
        "start_time": "2023-03-21T09:46:54.297Z"
      },
      {
        "duration": 89,
        "start_time": "2023-03-21T09:46:56.072Z"
      },
      {
        "duration": 5,
        "start_time": "2023-03-21T09:46:56.163Z"
      },
      {
        "duration": 43,
        "start_time": "2023-03-21T09:46:56.170Z"
      },
      {
        "duration": 45,
        "start_time": "2023-03-21T09:46:56.215Z"
      },
      {
        "duration": 5,
        "start_time": "2023-03-21T09:46:56.261Z"
      },
      {
        "duration": 1104,
        "start_time": "2023-03-21T09:46:56.268Z"
      },
      {
        "duration": 15,
        "start_time": "2023-03-21T09:46:57.374Z"
      },
      {
        "duration": 931,
        "start_time": "2023-03-21T09:46:57.391Z"
      },
      {
        "duration": 218,
        "start_time": "2023-03-21T09:46:58.325Z"
      },
      {
        "duration": 205,
        "start_time": "2023-03-21T09:46:58.544Z"
      },
      {
        "duration": 153,
        "start_time": "2023-03-21T09:46:58.750Z"
      },
      {
        "duration": 227,
        "start_time": "2023-03-21T09:46:58.909Z"
      },
      {
        "duration": 174,
        "start_time": "2023-03-21T09:46:59.138Z"
      },
      {
        "duration": 33,
        "start_time": "2023-03-21T09:46:59.314Z"
      },
      {
        "duration": 9,
        "start_time": "2023-03-21T09:46:59.348Z"
      },
      {
        "duration": 28,
        "start_time": "2023-03-21T09:46:59.359Z"
      },
      {
        "duration": 7,
        "start_time": "2023-03-21T09:46:59.388Z"
      },
      {
        "duration": 7,
        "start_time": "2023-03-21T09:46:59.397Z"
      },
      {
        "duration": 33,
        "start_time": "2023-03-21T09:46:59.405Z"
      },
      {
        "duration": 3,
        "start_time": "2023-03-21T09:46:59.440Z"
      },
      {
        "duration": 9,
        "start_time": "2023-03-21T09:46:59.444Z"
      },
      {
        "duration": 19,
        "start_time": "2023-03-21T09:46:59.454Z"
      },
      {
        "duration": 422,
        "start_time": "2023-03-21T09:46:59.475Z"
      },
      {
        "duration": 1651,
        "start_time": "2023-03-21T09:48:24.149Z"
      },
      {
        "duration": 43,
        "start_time": "2023-03-21T09:48:25.802Z"
      },
      {
        "duration": 5,
        "start_time": "2023-03-21T09:48:25.846Z"
      },
      {
        "duration": 29,
        "start_time": "2023-03-21T09:48:25.853Z"
      },
      {
        "duration": 31,
        "start_time": "2023-03-21T09:48:25.884Z"
      },
      {
        "duration": 4,
        "start_time": "2023-03-21T09:48:25.916Z"
      },
      {
        "duration": 1093,
        "start_time": "2023-03-21T09:48:25.921Z"
      },
      {
        "duration": 14,
        "start_time": "2023-03-21T09:48:27.016Z"
      },
      {
        "duration": 791,
        "start_time": "2023-03-21T09:48:27.032Z"
      },
      {
        "duration": 181,
        "start_time": "2023-03-21T09:48:27.826Z"
      },
      {
        "duration": 192,
        "start_time": "2023-03-21T09:48:28.009Z"
      },
      {
        "duration": 160,
        "start_time": "2023-03-21T09:48:28.202Z"
      },
      {
        "duration": 188,
        "start_time": "2023-03-21T09:48:28.363Z"
      },
      {
        "duration": 162,
        "start_time": "2023-03-21T09:48:28.553Z"
      },
      {
        "duration": 31,
        "start_time": "2023-03-21T09:48:28.716Z"
      },
      {
        "duration": 9,
        "start_time": "2023-03-21T09:48:28.748Z"
      },
      {
        "duration": 18,
        "start_time": "2023-03-21T09:48:28.758Z"
      },
      {
        "duration": 7,
        "start_time": "2023-03-21T09:48:28.777Z"
      },
      {
        "duration": 6,
        "start_time": "2023-03-21T09:48:28.785Z"
      },
      {
        "duration": 36,
        "start_time": "2023-03-21T09:48:28.792Z"
      },
      {
        "duration": 3,
        "start_time": "2023-03-21T09:48:28.829Z"
      },
      {
        "duration": 5,
        "start_time": "2023-03-21T09:48:28.833Z"
      },
      {
        "duration": 7,
        "start_time": "2023-03-21T09:48:28.839Z"
      },
      {
        "duration": 412,
        "start_time": "2023-03-21T09:48:28.848Z"
      },
      {
        "duration": 10739,
        "start_time": "2023-03-21T09:48:29.262Z"
      },
      {
        "duration": 30,
        "start_time": "2023-03-21T09:48:40.002Z"
      },
      {
        "duration": 106,
        "start_time": "2023-03-21T09:48:40.110Z"
      },
      {
        "duration": 32,
        "start_time": "2023-03-21T09:48:40.220Z"
      },
      {
        "duration": 60,
        "start_time": "2023-03-21T09:48:40.254Z"
      },
      {
        "duration": 293,
        "start_time": "2023-03-21T09:48:40.316Z"
      },
      {
        "duration": 7,
        "start_time": "2023-03-21T09:48:40.611Z"
      },
      {
        "duration": 7,
        "start_time": "2023-03-21T09:48:40.620Z"
      },
      {
        "duration": 7,
        "start_time": "2023-03-21T09:48:40.628Z"
      },
      {
        "duration": 21,
        "start_time": "2023-03-21T09:48:40.637Z"
      },
      {
        "duration": 12,
        "start_time": "2023-03-21T09:48:40.660Z"
      },
      {
        "duration": 150,
        "start_time": "2023-03-21T09:48:40.673Z"
      },
      {
        "duration": 3929,
        "start_time": "2023-03-21T09:48:40.825Z"
      },
      {
        "duration": 64,
        "start_time": "2023-03-21T09:48:44.755Z"
      },
      {
        "duration": 217,
        "start_time": "2023-03-21T09:48:44.910Z"
      },
      {
        "duration": 1017,
        "start_time": "2023-03-21T09:48:45.129Z"
      },
      {
        "duration": 63,
        "start_time": "2023-03-21T09:48:46.148Z"
      },
      {
        "duration": 245,
        "start_time": "2023-03-21T09:50:43.158Z"
      },
      {
        "duration": 195,
        "start_time": "2023-03-21T09:50:49.125Z"
      },
      {
        "duration": 297,
        "start_time": "2023-03-21T09:50:53.678Z"
      },
      {
        "duration": 41348,
        "start_time": "2023-03-21T09:52:19.053Z"
      },
      {
        "duration": 608,
        "start_time": "2023-03-21T09:53:00.403Z"
      },
      {
        "duration": 15,
        "start_time": "2023-03-21T09:53:36.349Z"
      },
      {
        "duration": 588,
        "start_time": "2023-03-21T09:53:40.145Z"
      },
      {
        "duration": 12,
        "start_time": "2023-03-21T09:53:52.782Z"
      },
      {
        "duration": 749,
        "start_time": "2023-03-21T09:53:55.361Z"
      },
      {
        "duration": 735,
        "start_time": "2023-03-21T09:54:19.380Z"
      },
      {
        "duration": 12,
        "start_time": "2023-03-21T09:54:49.323Z"
      },
      {
        "duration": 562,
        "start_time": "2023-03-21T09:54:51.615Z"
      },
      {
        "duration": 12,
        "start_time": "2023-03-21T09:55:23.318Z"
      },
      {
        "duration": 555,
        "start_time": "2023-03-21T09:55:29.813Z"
      },
      {
        "duration": 11,
        "start_time": "2023-03-21T09:56:17.617Z"
      },
      {
        "duration": 1330,
        "start_time": "2023-03-21T09:56:46.005Z"
      },
      {
        "duration": 6339,
        "start_time": "2023-03-21T09:58:47.937Z"
      },
      {
        "duration": 11914,
        "start_time": "2023-03-21T09:59:17.644Z"
      },
      {
        "duration": 2540,
        "start_time": "2023-03-21T09:59:38.234Z"
      },
      {
        "duration": 5962,
        "start_time": "2023-03-21T10:00:23.125Z"
      },
      {
        "duration": 2224,
        "start_time": "2023-03-21T10:01:43.050Z"
      },
      {
        "duration": 19,
        "start_time": "2023-03-21T10:03:03.904Z"
      },
      {
        "duration": 15,
        "start_time": "2023-03-21T10:03:19.791Z"
      },
      {
        "duration": 3234,
        "start_time": "2023-03-21T10:05:31.829Z"
      },
      {
        "duration": 20,
        "start_time": "2023-03-21T10:10:36.215Z"
      },
      {
        "duration": 108,
        "start_time": "2023-03-21T10:11:14.171Z"
      },
      {
        "duration": 1394,
        "start_time": "2023-03-21T10:11:25.922Z"
      },
      {
        "duration": 2166,
        "start_time": "2023-03-21T10:11:27.822Z"
      },
      {
        "duration": 22,
        "start_time": "2023-03-21T10:11:30.980Z"
      },
      {
        "duration": 8,
        "start_time": "2023-03-21T10:11:32.321Z"
      },
      {
        "duration": 16,
        "start_time": "2023-03-21T10:11:33.298Z"
      },
      {
        "duration": 13,
        "start_time": "2023-03-21T10:11:34.139Z"
      },
      {
        "duration": 215,
        "start_time": "2023-03-21T10:11:35.069Z"
      },
      {
        "duration": 1333,
        "start_time": "2023-03-21T10:15:22.266Z"
      },
      {
        "duration": 42,
        "start_time": "2023-03-21T10:15:23.600Z"
      },
      {
        "duration": 4,
        "start_time": "2023-03-21T10:15:23.644Z"
      },
      {
        "duration": 35,
        "start_time": "2023-03-21T10:15:23.650Z"
      },
      {
        "duration": 30,
        "start_time": "2023-03-21T10:15:23.687Z"
      },
      {
        "duration": 3,
        "start_time": "2023-03-21T10:15:23.719Z"
      },
      {
        "duration": 1089,
        "start_time": "2023-03-21T10:15:23.724Z"
      },
      {
        "duration": 15,
        "start_time": "2023-03-21T10:15:24.815Z"
      },
      {
        "duration": 773,
        "start_time": "2023-03-21T10:15:24.831Z"
      },
      {
        "duration": 200,
        "start_time": "2023-03-21T10:15:25.609Z"
      },
      {
        "duration": 205,
        "start_time": "2023-03-21T10:15:25.811Z"
      },
      {
        "duration": 159,
        "start_time": "2023-03-21T10:15:26.018Z"
      },
      {
        "duration": 211,
        "start_time": "2023-03-21T10:15:26.179Z"
      },
      {
        "duration": 174,
        "start_time": "2023-03-21T10:15:26.392Z"
      },
      {
        "duration": 29,
        "start_time": "2023-03-21T10:15:26.568Z"
      },
      {
        "duration": 9,
        "start_time": "2023-03-21T10:15:26.610Z"
      },
      {
        "duration": 4,
        "start_time": "2023-03-21T10:15:26.621Z"
      },
      {
        "duration": 7,
        "start_time": "2023-03-21T10:15:26.626Z"
      },
      {
        "duration": 6,
        "start_time": "2023-03-21T10:15:26.635Z"
      },
      {
        "duration": 25,
        "start_time": "2023-03-21T10:15:26.642Z"
      },
      {
        "duration": 3,
        "start_time": "2023-03-21T10:15:26.668Z"
      },
      {
        "duration": 5,
        "start_time": "2023-03-21T10:15:26.672Z"
      },
      {
        "duration": 31,
        "start_time": "2023-03-21T10:15:26.679Z"
      },
      {
        "duration": 400,
        "start_time": "2023-03-21T10:15:26.711Z"
      },
      {
        "duration": 3358,
        "start_time": "2023-03-21T10:15:27.113Z"
      },
      {
        "duration": 42,
        "start_time": "2023-03-21T10:15:30.472Z"
      },
      {
        "duration": 105,
        "start_time": "2023-03-21T10:15:30.516Z"
      },
      {
        "duration": 37,
        "start_time": "2023-03-21T10:15:30.624Z"
      },
      {
        "duration": 14,
        "start_time": "2023-03-21T10:15:30.710Z"
      },
      {
        "duration": 339,
        "start_time": "2023-03-21T10:15:30.812Z"
      },
      {
        "duration": 6,
        "start_time": "2023-03-21T10:15:31.153Z"
      },
      {
        "duration": 45,
        "start_time": "2023-03-21T10:15:31.161Z"
      },
      {
        "duration": 98,
        "start_time": "2023-03-21T10:15:31.208Z"
      },
      {
        "duration": 31,
        "start_time": "2023-03-21T10:15:31.308Z"
      },
      {
        "duration": 37,
        "start_time": "2023-03-21T10:15:31.341Z"
      },
      {
        "duration": 184,
        "start_time": "2023-03-21T10:15:31.380Z"
      },
      {
        "duration": 0,
        "start_time": "2023-03-21T10:15:31.566Z"
      },
      {
        "duration": 0,
        "start_time": "2023-03-21T10:15:31.567Z"
      },
      {
        "duration": 0,
        "start_time": "2023-03-21T10:15:31.567Z"
      },
      {
        "duration": 0,
        "start_time": "2023-03-21T10:15:31.569Z"
      },
      {
        "duration": 0,
        "start_time": "2023-03-21T10:15:31.570Z"
      },
      {
        "duration": 0,
        "start_time": "2023-03-21T10:15:31.571Z"
      },
      {
        "duration": 0,
        "start_time": "2023-03-21T10:15:31.572Z"
      },
      {
        "duration": 0,
        "start_time": "2023-03-21T10:15:31.573Z"
      },
      {
        "duration": 0,
        "start_time": "2023-03-21T10:15:31.574Z"
      },
      {
        "duration": 1746,
        "start_time": "2023-03-21T10:16:10.253Z"
      },
      {
        "duration": 41,
        "start_time": "2023-03-21T10:16:12.001Z"
      },
      {
        "duration": 4,
        "start_time": "2023-03-21T10:16:12.044Z"
      },
      {
        "duration": 35,
        "start_time": "2023-03-21T10:16:12.050Z"
      },
      {
        "duration": 31,
        "start_time": "2023-03-21T10:16:12.086Z"
      },
      {
        "duration": 4,
        "start_time": "2023-03-21T10:16:12.119Z"
      },
      {
        "duration": 1091,
        "start_time": "2023-03-21T10:16:12.125Z"
      },
      {
        "duration": 17,
        "start_time": "2023-03-21T10:16:13.218Z"
      },
      {
        "duration": 831,
        "start_time": "2023-03-21T10:16:13.236Z"
      },
      {
        "duration": 198,
        "start_time": "2023-03-21T10:16:14.070Z"
      },
      {
        "duration": 203,
        "start_time": "2023-03-21T10:16:14.270Z"
      },
      {
        "duration": 191,
        "start_time": "2023-03-21T10:16:14.475Z"
      },
      {
        "duration": 209,
        "start_time": "2023-03-21T10:16:14.668Z"
      },
      {
        "duration": 201,
        "start_time": "2023-03-21T10:16:14.880Z"
      },
      {
        "duration": 60,
        "start_time": "2023-03-21T10:16:15.083Z"
      },
      {
        "duration": 12,
        "start_time": "2023-03-21T10:16:15.145Z"
      },
      {
        "duration": 11,
        "start_time": "2023-03-21T10:16:15.158Z"
      },
      {
        "duration": 12,
        "start_time": "2023-03-21T10:16:15.171Z"
      },
      {
        "duration": 12,
        "start_time": "2023-03-21T10:16:15.185Z"
      },
      {
        "duration": 47,
        "start_time": "2023-03-21T10:16:15.199Z"
      },
      {
        "duration": 5,
        "start_time": "2023-03-21T10:16:15.248Z"
      },
      {
        "duration": 13,
        "start_time": "2023-03-21T10:16:15.254Z"
      },
      {
        "duration": 18,
        "start_time": "2023-03-21T10:16:15.268Z"
      },
      {
        "duration": 425,
        "start_time": "2023-03-21T10:16:15.288Z"
      },
      {
        "duration": 3585,
        "start_time": "2023-03-21T10:16:15.715Z"
      },
      {
        "duration": 109,
        "start_time": "2023-03-21T10:16:19.302Z"
      },
      {
        "duration": 106,
        "start_time": "2023-03-21T10:16:19.414Z"
      },
      {
        "duration": 19,
        "start_time": "2023-03-21T10:16:19.524Z"
      },
      {
        "duration": 68,
        "start_time": "2023-03-21T10:16:19.545Z"
      },
      {
        "duration": 297,
        "start_time": "2023-03-21T10:16:19.615Z"
      },
      {
        "duration": 6,
        "start_time": "2023-03-21T10:16:19.914Z"
      },
      {
        "duration": 12,
        "start_time": "2023-03-21T10:16:19.921Z"
      },
      {
        "duration": 6,
        "start_time": "2023-03-21T10:16:19.934Z"
      },
      {
        "duration": 11,
        "start_time": "2023-03-21T10:16:19.941Z"
      },
      {
        "duration": 12,
        "start_time": "2023-03-21T10:16:19.954Z"
      },
      {
        "duration": 1450,
        "start_time": "2023-03-21T10:16:19.968Z"
      },
      {
        "duration": 4586,
        "start_time": "2023-03-21T10:16:21.419Z"
      },
      {
        "duration": 30,
        "start_time": "2023-03-21T10:16:26.009Z"
      },
      {
        "duration": 76,
        "start_time": "2023-03-21T10:16:26.042Z"
      },
      {
        "duration": 107,
        "start_time": "2023-03-21T10:16:26.121Z"
      },
      {
        "duration": 81,
        "start_time": "2023-03-21T10:16:26.230Z"
      },
      {
        "duration": 321,
        "start_time": "2023-03-21T10:16:26.314Z"
      },
      {
        "duration": 210,
        "start_time": "2023-03-21T10:16:26.636Z"
      },
      {
        "duration": 1828,
        "start_time": "2023-03-21T10:16:26.848Z"
      },
      {
        "duration": 35,
        "start_time": "2023-03-21T10:16:28.678Z"
      },
      {
        "duration": 174,
        "start_time": "2023-03-21T10:18:36.631Z"
      },
      {
        "duration": 48,
        "start_time": "2023-03-21T10:22:51.044Z"
      },
      {
        "duration": 354,
        "start_time": "2023-03-21T10:23:06.381Z"
      },
      {
        "duration": 106,
        "start_time": "2023-03-21T10:23:26.328Z"
      },
      {
        "duration": 1380,
        "start_time": "2023-03-21T10:23:37.550Z"
      },
      {
        "duration": 40,
        "start_time": "2023-03-21T10:23:38.932Z"
      },
      {
        "duration": 4,
        "start_time": "2023-03-21T10:23:38.974Z"
      },
      {
        "duration": 33,
        "start_time": "2023-03-21T10:23:38.979Z"
      },
      {
        "duration": 31,
        "start_time": "2023-03-21T10:23:39.013Z"
      },
      {
        "duration": 4,
        "start_time": "2023-03-21T10:23:39.046Z"
      },
      {
        "duration": 1109,
        "start_time": "2023-03-21T10:23:39.051Z"
      },
      {
        "duration": 15,
        "start_time": "2023-03-21T10:23:40.161Z"
      },
      {
        "duration": 804,
        "start_time": "2023-03-21T10:23:40.177Z"
      },
      {
        "duration": 176,
        "start_time": "2023-03-21T10:23:40.982Z"
      },
      {
        "duration": 196,
        "start_time": "2023-03-21T10:23:41.160Z"
      },
      {
        "duration": 157,
        "start_time": "2023-03-21T10:23:41.358Z"
      },
      {
        "duration": 176,
        "start_time": "2023-03-21T10:23:41.516Z"
      },
      {
        "duration": 179,
        "start_time": "2023-03-21T10:23:41.695Z"
      },
      {
        "duration": 35,
        "start_time": "2023-03-21T10:23:41.875Z"
      },
      {
        "duration": 8,
        "start_time": "2023-03-21T10:23:41.912Z"
      },
      {
        "duration": 7,
        "start_time": "2023-03-21T10:23:41.921Z"
      },
      {
        "duration": 9,
        "start_time": "2023-03-21T10:23:41.929Z"
      },
      {
        "duration": 7,
        "start_time": "2023-03-21T10:23:41.940Z"
      },
      {
        "duration": 27,
        "start_time": "2023-03-21T10:23:41.949Z"
      },
      {
        "duration": 3,
        "start_time": "2023-03-21T10:23:41.978Z"
      },
      {
        "duration": 7,
        "start_time": "2023-03-21T10:23:41.982Z"
      },
      {
        "duration": 5,
        "start_time": "2023-03-21T10:23:42.009Z"
      },
      {
        "duration": 394,
        "start_time": "2023-03-21T10:23:42.016Z"
      },
      {
        "duration": 3390,
        "start_time": "2023-03-21T10:23:42.411Z"
      },
      {
        "duration": 30,
        "start_time": "2023-03-21T10:23:45.802Z"
      },
      {
        "duration": 97,
        "start_time": "2023-03-21T10:23:45.914Z"
      },
      {
        "duration": 27,
        "start_time": "2023-03-21T10:23:46.013Z"
      },
      {
        "duration": 70,
        "start_time": "2023-03-21T10:23:46.042Z"
      },
      {
        "duration": 355,
        "start_time": "2023-03-21T10:23:46.114Z"
      },
      {
        "duration": 8,
        "start_time": "2023-03-21T10:23:46.471Z"
      },
      {
        "duration": 6,
        "start_time": "2023-03-21T10:23:46.481Z"
      },
      {
        "duration": 26,
        "start_time": "2023-03-21T10:23:46.488Z"
      },
      {
        "duration": 12,
        "start_time": "2023-03-21T10:23:46.515Z"
      },
      {
        "duration": 11,
        "start_time": "2023-03-21T10:23:46.528Z"
      },
      {
        "duration": 128,
        "start_time": "2023-03-21T10:23:46.541Z"
      },
      {
        "duration": 0,
        "start_time": "2023-03-21T10:23:46.670Z"
      },
      {
        "duration": 0,
        "start_time": "2023-03-21T10:23:46.672Z"
      },
      {
        "duration": 0,
        "start_time": "2023-03-21T10:23:46.673Z"
      },
      {
        "duration": 0,
        "start_time": "2023-03-21T10:23:46.674Z"
      },
      {
        "duration": 0,
        "start_time": "2023-03-21T10:23:46.675Z"
      },
      {
        "duration": 0,
        "start_time": "2023-03-21T10:23:46.676Z"
      },
      {
        "duration": 0,
        "start_time": "2023-03-21T10:23:46.677Z"
      },
      {
        "duration": 0,
        "start_time": "2023-03-21T10:23:46.678Z"
      },
      {
        "duration": 0,
        "start_time": "2023-03-21T10:23:46.679Z"
      },
      {
        "duration": 54,
        "start_time": "2023-03-21T10:24:12.959Z"
      },
      {
        "duration": 50,
        "start_time": "2023-03-21T10:24:24.047Z"
      },
      {
        "duration": 182,
        "start_time": "2023-03-21T10:24:37.683Z"
      },
      {
        "duration": 11,
        "start_time": "2023-03-21T10:24:42.360Z"
      },
      {
        "duration": 196,
        "start_time": "2023-03-21T10:24:45.077Z"
      },
      {
        "duration": 82,
        "start_time": "2023-03-21T10:25:13.776Z"
      },
      {
        "duration": 1440,
        "start_time": "2023-03-21T10:25:34.925Z"
      },
      {
        "duration": 43,
        "start_time": "2023-03-21T10:25:36.367Z"
      },
      {
        "duration": 6,
        "start_time": "2023-03-21T10:25:36.412Z"
      },
      {
        "duration": 35,
        "start_time": "2023-03-21T10:25:36.420Z"
      },
      {
        "duration": 35,
        "start_time": "2023-03-21T10:25:36.456Z"
      },
      {
        "duration": 18,
        "start_time": "2023-03-21T10:25:36.493Z"
      },
      {
        "duration": 1096,
        "start_time": "2023-03-21T10:25:36.513Z"
      },
      {
        "duration": 14,
        "start_time": "2023-03-21T10:25:37.611Z"
      },
      {
        "duration": 813,
        "start_time": "2023-03-21T10:25:37.627Z"
      },
      {
        "duration": 185,
        "start_time": "2023-03-21T10:25:38.442Z"
      },
      {
        "duration": 199,
        "start_time": "2023-03-21T10:25:38.628Z"
      },
      {
        "duration": 151,
        "start_time": "2023-03-21T10:25:38.828Z"
      },
      {
        "duration": 174,
        "start_time": "2023-03-21T10:25:38.980Z"
      },
      {
        "duration": 170,
        "start_time": "2023-03-21T10:25:39.156Z"
      },
      {
        "duration": 31,
        "start_time": "2023-03-21T10:25:39.328Z"
      },
      {
        "duration": 8,
        "start_time": "2023-03-21T10:25:39.360Z"
      },
      {
        "duration": 11,
        "start_time": "2023-03-21T10:25:39.370Z"
      },
      {
        "duration": 8,
        "start_time": "2023-03-21T10:25:39.382Z"
      },
      {
        "duration": 17,
        "start_time": "2023-03-21T10:25:39.392Z"
      },
      {
        "duration": 30,
        "start_time": "2023-03-21T10:25:39.411Z"
      },
      {
        "duration": 4,
        "start_time": "2023-03-21T10:25:39.442Z"
      },
      {
        "duration": 8,
        "start_time": "2023-03-21T10:25:39.448Z"
      },
      {
        "duration": 21,
        "start_time": "2023-03-21T10:25:39.458Z"
      },
      {
        "duration": 419,
        "start_time": "2023-03-21T10:25:39.480Z"
      },
      {
        "duration": 3313,
        "start_time": "2023-03-21T10:25:39.909Z"
      },
      {
        "duration": 89,
        "start_time": "2023-03-21T10:25:43.223Z"
      },
      {
        "duration": 98,
        "start_time": "2023-03-21T10:25:43.314Z"
      },
      {
        "duration": 18,
        "start_time": "2023-03-21T10:25:43.415Z"
      },
      {
        "duration": 74,
        "start_time": "2023-03-21T10:25:43.435Z"
      },
      {
        "duration": 309,
        "start_time": "2023-03-21T10:25:43.512Z"
      },
      {
        "duration": 6,
        "start_time": "2023-03-21T10:25:43.822Z"
      },
      {
        "duration": 7,
        "start_time": "2023-03-21T10:25:43.829Z"
      },
      {
        "duration": 5,
        "start_time": "2023-03-21T10:25:43.838Z"
      },
      {
        "duration": 12,
        "start_time": "2023-03-21T10:25:43.844Z"
      },
      {
        "duration": 12,
        "start_time": "2023-03-21T10:25:43.858Z"
      },
      {
        "duration": 59,
        "start_time": "2023-03-21T10:25:43.871Z"
      },
      {
        "duration": 0,
        "start_time": "2023-03-21T10:25:43.933Z"
      },
      {
        "duration": 0,
        "start_time": "2023-03-21T10:25:43.934Z"
      },
      {
        "duration": 0,
        "start_time": "2023-03-21T10:25:43.935Z"
      },
      {
        "duration": 0,
        "start_time": "2023-03-21T10:25:43.936Z"
      },
      {
        "duration": 0,
        "start_time": "2023-03-21T10:25:43.936Z"
      },
      {
        "duration": 0,
        "start_time": "2023-03-21T10:25:43.938Z"
      },
      {
        "duration": 0,
        "start_time": "2023-03-21T10:25:43.939Z"
      },
      {
        "duration": 0,
        "start_time": "2023-03-21T10:25:43.940Z"
      },
      {
        "duration": 0,
        "start_time": "2023-03-21T10:25:43.941Z"
      },
      {
        "duration": 4550,
        "start_time": "2023-03-21T10:25:57.875Z"
      },
      {
        "duration": 1286,
        "start_time": "2023-03-21T10:27:02.036Z"
      },
      {
        "duration": 1348,
        "start_time": "2023-03-21T10:27:11.438Z"
      },
      {
        "duration": 44,
        "start_time": "2023-03-21T10:27:12.788Z"
      },
      {
        "duration": 4,
        "start_time": "2023-03-21T10:27:12.834Z"
      },
      {
        "duration": 29,
        "start_time": "2023-03-21T10:27:12.839Z"
      },
      {
        "duration": 40,
        "start_time": "2023-03-21T10:27:12.870Z"
      },
      {
        "duration": 4,
        "start_time": "2023-03-21T10:27:12.912Z"
      },
      {
        "duration": 1102,
        "start_time": "2023-03-21T10:27:12.917Z"
      },
      {
        "duration": 16,
        "start_time": "2023-03-21T10:27:14.021Z"
      },
      {
        "duration": 804,
        "start_time": "2023-03-21T10:27:14.039Z"
      },
      {
        "duration": 186,
        "start_time": "2023-03-21T10:27:14.846Z"
      },
      {
        "duration": 208,
        "start_time": "2023-03-21T10:27:15.034Z"
      },
      {
        "duration": 169,
        "start_time": "2023-03-21T10:27:15.243Z"
      },
      {
        "duration": 181,
        "start_time": "2023-03-21T10:27:15.414Z"
      },
      {
        "duration": 195,
        "start_time": "2023-03-21T10:27:15.597Z"
      },
      {
        "duration": 42,
        "start_time": "2023-03-21T10:27:15.794Z"
      },
      {
        "duration": 10,
        "start_time": "2023-03-21T10:27:15.839Z"
      },
      {
        "duration": 8,
        "start_time": "2023-03-21T10:27:15.851Z"
      },
      {
        "duration": 16,
        "start_time": "2023-03-21T10:27:15.860Z"
      },
      {
        "duration": 16,
        "start_time": "2023-03-21T10:27:15.877Z"
      },
      {
        "duration": 27,
        "start_time": "2023-03-21T10:27:15.895Z"
      },
      {
        "duration": 4,
        "start_time": "2023-03-21T10:27:15.924Z"
      },
      {
        "duration": 9,
        "start_time": "2023-03-21T10:27:15.930Z"
      },
      {
        "duration": 12,
        "start_time": "2023-03-21T10:27:15.940Z"
      },
      {
        "duration": 433,
        "start_time": "2023-03-21T10:27:15.953Z"
      },
      {
        "duration": 3401,
        "start_time": "2023-03-21T10:27:16.388Z"
      },
      {
        "duration": 39,
        "start_time": "2023-03-21T10:27:19.790Z"
      },
      {
        "duration": 81,
        "start_time": "2023-03-21T10:27:19.831Z"
      },
      {
        "duration": 109,
        "start_time": "2023-03-21T10:27:19.918Z"
      },
      {
        "duration": 11,
        "start_time": "2023-03-21T10:27:20.029Z"
      },
      {
        "duration": 358,
        "start_time": "2023-03-21T10:27:20.042Z"
      },
      {
        "duration": 11,
        "start_time": "2023-03-21T10:27:20.401Z"
      },
      {
        "duration": 5,
        "start_time": "2023-03-21T10:27:20.413Z"
      },
      {
        "duration": 9,
        "start_time": "2023-03-21T10:27:20.419Z"
      },
      {
        "duration": 18,
        "start_time": "2023-03-21T10:27:20.429Z"
      },
      {
        "duration": 12,
        "start_time": "2023-03-21T10:27:20.449Z"
      },
      {
        "duration": 1365,
        "start_time": "2023-03-21T10:27:20.462Z"
      },
      {
        "duration": 4522,
        "start_time": "2023-03-21T10:27:21.829Z"
      },
      {
        "duration": 64,
        "start_time": "2023-03-21T10:27:26.353Z"
      },
      {
        "duration": 100,
        "start_time": "2023-03-21T10:27:26.419Z"
      },
      {
        "duration": 20,
        "start_time": "2023-03-21T10:27:26.521Z"
      },
      {
        "duration": 67,
        "start_time": "2023-03-21T10:27:26.543Z"
      },
      {
        "duration": 274,
        "start_time": "2023-03-21T10:27:26.612Z"
      },
      {
        "duration": 76,
        "start_time": "2023-03-21T10:27:26.887Z"
      },
      {
        "duration": 0,
        "start_time": "2023-03-21T10:27:26.965Z"
      },
      {
        "duration": 0,
        "start_time": "2023-03-21T10:27:26.966Z"
      },
      {
        "duration": 4,
        "start_time": "2023-03-21T10:29:39.747Z"
      },
      {
        "duration": 877,
        "start_time": "2023-03-21T10:29:57.316Z"
      },
      {
        "duration": 1818,
        "start_time": "2023-03-21T10:30:05.071Z"
      },
      {
        "duration": 52,
        "start_time": "2023-03-21T10:30:06.891Z"
      },
      {
        "duration": 122,
        "start_time": "2023-03-21T10:30:06.945Z"
      },
      {
        "duration": 30,
        "start_time": "2023-03-21T10:30:07.069Z"
      },
      {
        "duration": 34,
        "start_time": "2023-03-21T10:30:07.101Z"
      },
      {
        "duration": 5,
        "start_time": "2023-03-21T10:30:07.137Z"
      },
      {
        "duration": 1247,
        "start_time": "2023-03-21T10:30:07.144Z"
      },
      {
        "duration": 25,
        "start_time": "2023-03-21T10:30:08.393Z"
      },
      {
        "duration": 832,
        "start_time": "2023-03-21T10:30:08.419Z"
      },
      {
        "duration": 224,
        "start_time": "2023-03-21T10:30:09.254Z"
      },
      {
        "duration": 242,
        "start_time": "2023-03-21T10:30:09.480Z"
      },
      {
        "duration": 179,
        "start_time": "2023-03-21T10:30:09.724Z"
      },
      {
        "duration": 191,
        "start_time": "2023-03-21T10:30:09.905Z"
      },
      {
        "duration": 181,
        "start_time": "2023-03-21T10:30:10.097Z"
      },
      {
        "duration": 58,
        "start_time": "2023-03-21T10:30:10.280Z"
      },
      {
        "duration": 11,
        "start_time": "2023-03-21T10:30:10.342Z"
      },
      {
        "duration": 21,
        "start_time": "2023-03-21T10:30:10.354Z"
      },
      {
        "duration": 11,
        "start_time": "2023-03-21T10:30:10.377Z"
      },
      {
        "duration": 15,
        "start_time": "2023-03-21T10:30:10.390Z"
      },
      {
        "duration": 38,
        "start_time": "2023-03-21T10:30:10.406Z"
      },
      {
        "duration": 3,
        "start_time": "2023-03-21T10:30:10.446Z"
      },
      {
        "duration": 17,
        "start_time": "2023-03-21T10:30:10.450Z"
      },
      {
        "duration": 18,
        "start_time": "2023-03-21T10:30:10.468Z"
      },
      {
        "duration": 469,
        "start_time": "2023-03-21T10:30:10.488Z"
      },
      {
        "duration": 3566,
        "start_time": "2023-03-21T10:30:10.959Z"
      },
      {
        "duration": 97,
        "start_time": "2023-03-21T10:30:14.528Z"
      },
      {
        "duration": 13,
        "start_time": "2023-03-21T10:30:14.711Z"
      },
      {
        "duration": 15,
        "start_time": "2023-03-21T10:30:14.728Z"
      },
      {
        "duration": 67,
        "start_time": "2023-03-21T10:30:14.745Z"
      },
      {
        "duration": 304,
        "start_time": "2023-03-21T10:30:14.816Z"
      },
      {
        "duration": 9,
        "start_time": "2023-03-21T10:30:15.122Z"
      },
      {
        "duration": 8,
        "start_time": "2023-03-21T10:30:15.136Z"
      },
      {
        "duration": 12,
        "start_time": "2023-03-21T10:30:15.146Z"
      },
      {
        "duration": 27,
        "start_time": "2023-03-21T10:30:15.160Z"
      },
      {
        "duration": 11,
        "start_time": "2023-03-21T10:30:15.189Z"
      },
      {
        "duration": 1572,
        "start_time": "2023-03-21T10:30:15.214Z"
      },
      {
        "duration": 5210,
        "start_time": "2023-03-21T10:30:16.789Z"
      },
      {
        "duration": 113,
        "start_time": "2023-03-21T10:30:22.001Z"
      },
      {
        "duration": 103,
        "start_time": "2023-03-21T10:30:22.116Z"
      },
      {
        "duration": 26,
        "start_time": "2023-03-21T10:30:22.222Z"
      },
      {
        "duration": 75,
        "start_time": "2023-03-21T10:30:22.249Z"
      },
      {
        "duration": 204,
        "start_time": "2023-03-21T10:30:22.410Z"
      },
      {
        "duration": 900,
        "start_time": "2023-03-21T10:30:22.617Z"
      },
      {
        "duration": 1946,
        "start_time": "2023-03-21T10:30:23.520Z"
      },
      {
        "duration": 143,
        "start_time": "2023-03-21T10:30:25.467Z"
      },
      {
        "duration": 236,
        "start_time": "2023-03-21T10:46:28.036Z"
      },
      {
        "duration": 4,
        "start_time": "2023-03-21T10:47:49.557Z"
      },
      {
        "duration": 492,
        "start_time": "2023-03-21T10:48:00.786Z"
      },
      {
        "duration": 556,
        "start_time": "2023-03-21T10:49:52.212Z"
      },
      {
        "duration": 136,
        "start_time": "2023-03-21T10:54:01.047Z"
      },
      {
        "duration": 139,
        "start_time": "2023-03-21T10:55:47.379Z"
      },
      {
        "duration": 105,
        "start_time": "2023-03-21T10:55:59.765Z"
      },
      {
        "duration": 195,
        "start_time": "2023-03-21T10:56:00.810Z"
      },
      {
        "duration": 163,
        "start_time": "2023-03-21T11:08:53.650Z"
      },
      {
        "duration": 138,
        "start_time": "2023-03-21T11:10:11.491Z"
      },
      {
        "duration": 1551,
        "start_time": "2023-03-21T14:19:06.035Z"
      },
      {
        "duration": 157,
        "start_time": "2023-03-21T14:19:07.589Z"
      },
      {
        "duration": 4,
        "start_time": "2023-03-21T14:19:07.748Z"
      },
      {
        "duration": 27,
        "start_time": "2023-03-21T14:19:07.753Z"
      },
      {
        "duration": 27,
        "start_time": "2023-03-21T14:19:07.782Z"
      },
      {
        "duration": 3,
        "start_time": "2023-03-21T14:19:07.811Z"
      },
      {
        "duration": 926,
        "start_time": "2023-03-21T14:19:07.816Z"
      },
      {
        "duration": 13,
        "start_time": "2023-03-21T14:19:08.744Z"
      },
      {
        "duration": 718,
        "start_time": "2023-03-21T14:19:08.758Z"
      },
      {
        "duration": 163,
        "start_time": "2023-03-21T14:19:09.478Z"
      },
      {
        "duration": 169,
        "start_time": "2023-03-21T14:19:09.643Z"
      },
      {
        "duration": 141,
        "start_time": "2023-03-21T14:19:09.814Z"
      },
      {
        "duration": 155,
        "start_time": "2023-03-21T14:19:09.956Z"
      },
      {
        "duration": 154,
        "start_time": "2023-03-21T14:19:10.115Z"
      },
      {
        "duration": 28,
        "start_time": "2023-03-21T14:19:10.271Z"
      },
      {
        "duration": 8,
        "start_time": "2023-03-21T14:19:10.300Z"
      },
      {
        "duration": 4,
        "start_time": "2023-03-21T14:19:10.323Z"
      },
      {
        "duration": 7,
        "start_time": "2023-03-21T14:19:10.328Z"
      },
      {
        "duration": 8,
        "start_time": "2023-03-21T14:19:10.336Z"
      },
      {
        "duration": 20,
        "start_time": "2023-03-21T14:19:10.345Z"
      },
      {
        "duration": 3,
        "start_time": "2023-03-21T14:19:10.366Z"
      },
      {
        "duration": 5,
        "start_time": "2023-03-21T14:19:10.370Z"
      },
      {
        "duration": 9,
        "start_time": "2023-03-21T14:19:10.376Z"
      },
      {
        "duration": 346,
        "start_time": "2023-03-21T14:19:10.386Z"
      },
      {
        "duration": 3109,
        "start_time": "2023-03-21T14:19:10.734Z"
      },
      {
        "duration": 80,
        "start_time": "2023-03-21T14:19:13.844Z"
      },
      {
        "duration": 100,
        "start_time": "2023-03-21T14:19:13.925Z"
      },
      {
        "duration": 15,
        "start_time": "2023-03-21T14:19:14.026Z"
      },
      {
        "duration": 8,
        "start_time": "2023-03-21T14:19:14.042Z"
      },
      {
        "duration": 352,
        "start_time": "2023-03-21T14:19:14.053Z"
      },
      {
        "duration": 5,
        "start_time": "2023-03-21T14:19:14.407Z"
      },
      {
        "duration": 5,
        "start_time": "2023-03-21T14:19:14.424Z"
      },
      {
        "duration": 5,
        "start_time": "2023-03-21T14:19:14.430Z"
      },
      {
        "duration": 13,
        "start_time": "2023-03-21T14:19:14.436Z"
      },
      {
        "duration": 9,
        "start_time": "2023-03-21T14:19:14.450Z"
      },
      {
        "duration": 1209,
        "start_time": "2023-03-21T14:19:14.461Z"
      },
      {
        "duration": 3763,
        "start_time": "2023-03-21T14:19:15.671Z"
      },
      {
        "duration": 23,
        "start_time": "2023-03-21T14:19:19.435Z"
      },
      {
        "duration": 66,
        "start_time": "2023-03-21T14:19:19.459Z"
      },
      {
        "duration": 109,
        "start_time": "2023-03-21T14:19:19.527Z"
      },
      {
        "duration": 8,
        "start_time": "2023-03-21T14:19:19.640Z"
      },
      {
        "duration": 321,
        "start_time": "2023-03-21T14:19:19.649Z"
      },
      {
        "duration": 141,
        "start_time": "2023-03-21T14:19:19.971Z"
      },
      {
        "duration": 71,
        "start_time": "2023-03-21T14:19:20.113Z"
      },
      {
        "duration": 177,
        "start_time": "2023-03-21T14:19:20.185Z"
      },
      {
        "duration": 208,
        "start_time": "2023-03-21T14:19:20.364Z"
      },
      {
        "duration": 129,
        "start_time": "2023-03-21T14:20:15.334Z"
      },
      {
        "duration": 598,
        "start_time": "2023-03-21T14:20:59.044Z"
      },
      {
        "duration": 565,
        "start_time": "2023-03-21T14:23:10.333Z"
      },
      {
        "duration": 546,
        "start_time": "2023-03-21T14:28:26.980Z"
      },
      {
        "duration": 2882,
        "start_time": "2023-03-21T14:32:25.898Z"
      },
      {
        "duration": 2774,
        "start_time": "2023-03-21T14:32:44.390Z"
      },
      {
        "duration": 18,
        "start_time": "2023-03-21T14:33:12.678Z"
      },
      {
        "duration": 556,
        "start_time": "2023-03-21T14:35:39.137Z"
      },
      {
        "duration": 111,
        "start_time": "2023-03-21T14:35:51.236Z"
      },
      {
        "duration": 1251,
        "start_time": "2023-03-21T14:39:42.981Z"
      },
      {
        "duration": 36,
        "start_time": "2023-03-21T14:39:44.234Z"
      },
      {
        "duration": 3,
        "start_time": "2023-03-21T14:39:44.272Z"
      },
      {
        "duration": 28,
        "start_time": "2023-03-21T14:39:44.277Z"
      },
      {
        "duration": 26,
        "start_time": "2023-03-21T14:39:44.308Z"
      },
      {
        "duration": 3,
        "start_time": "2023-03-21T14:39:44.335Z"
      },
      {
        "duration": 895,
        "start_time": "2023-03-21T14:39:44.339Z"
      },
      {
        "duration": 13,
        "start_time": "2023-03-21T14:39:45.236Z"
      },
      {
        "duration": 696,
        "start_time": "2023-03-21T14:39:45.250Z"
      },
      {
        "duration": 163,
        "start_time": "2023-03-21T14:39:45.948Z"
      },
      {
        "duration": 177,
        "start_time": "2023-03-21T14:39:46.113Z"
      },
      {
        "duration": 134,
        "start_time": "2023-03-21T14:39:46.292Z"
      },
      {
        "duration": 149,
        "start_time": "2023-03-21T14:39:46.427Z"
      },
      {
        "duration": 145,
        "start_time": "2023-03-21T14:39:46.579Z"
      },
      {
        "duration": 26,
        "start_time": "2023-03-21T14:39:46.726Z"
      },
      {
        "duration": 8,
        "start_time": "2023-03-21T14:39:46.753Z"
      },
      {
        "duration": 4,
        "start_time": "2023-03-21T14:39:46.762Z"
      },
      {
        "duration": 6,
        "start_time": "2023-03-21T14:39:46.767Z"
      },
      {
        "duration": 4,
        "start_time": "2023-03-21T14:39:46.774Z"
      },
      {
        "duration": 55,
        "start_time": "2023-03-21T14:39:46.779Z"
      },
      {
        "duration": 3,
        "start_time": "2023-03-21T14:39:46.835Z"
      },
      {
        "duration": 4,
        "start_time": "2023-03-21T14:39:46.840Z"
      },
      {
        "duration": 8,
        "start_time": "2023-03-21T14:39:46.845Z"
      },
      {
        "duration": 344,
        "start_time": "2023-03-21T14:39:46.854Z"
      },
      {
        "duration": 2853,
        "start_time": "2023-03-21T14:39:47.199Z"
      },
      {
        "duration": 74,
        "start_time": "2023-03-21T14:39:50.054Z"
      },
      {
        "duration": 97,
        "start_time": "2023-03-21T14:39:50.129Z"
      },
      {
        "duration": 20,
        "start_time": "2023-03-21T14:39:50.228Z"
      },
      {
        "duration": 75,
        "start_time": "2023-03-21T14:39:50.250Z"
      },
      {
        "duration": 257,
        "start_time": "2023-03-21T14:39:50.327Z"
      },
      {
        "duration": 5,
        "start_time": "2023-03-21T14:39:50.585Z"
      },
      {
        "duration": 21,
        "start_time": "2023-03-21T14:39:50.592Z"
      },
      {
        "duration": 15,
        "start_time": "2023-03-21T14:39:50.614Z"
      },
      {
        "duration": 21,
        "start_time": "2023-03-21T14:39:50.630Z"
      },
      {
        "duration": 13,
        "start_time": "2023-03-21T14:39:50.652Z"
      },
      {
        "duration": 1115,
        "start_time": "2023-03-21T14:39:50.667Z"
      },
      {
        "duration": 3991,
        "start_time": "2023-03-21T14:39:51.784Z"
      },
      {
        "duration": 56,
        "start_time": "2023-03-21T14:39:55.776Z"
      },
      {
        "duration": 91,
        "start_time": "2023-03-21T14:39:55.834Z"
      },
      {
        "duration": 24,
        "start_time": "2023-03-21T14:39:55.927Z"
      },
      {
        "duration": 13,
        "start_time": "2023-03-21T14:39:55.954Z"
      },
      {
        "duration": 253,
        "start_time": "2023-03-21T14:39:56.025Z"
      },
      {
        "duration": 116,
        "start_time": "2023-03-21T14:39:56.280Z"
      },
      {
        "duration": 72,
        "start_time": "2023-03-21T14:39:56.397Z"
      },
      {
        "duration": 158,
        "start_time": "2023-03-21T14:39:56.471Z"
      },
      {
        "duration": 500,
        "start_time": "2023-03-21T14:39:56.631Z"
      },
      {
        "duration": 97,
        "start_time": "2023-03-21T14:43:10.695Z"
      },
      {
        "duration": 98,
        "start_time": "2023-03-21T14:43:28.640Z"
      },
      {
        "duration": 1254,
        "start_time": "2023-03-21T14:44:38.155Z"
      },
      {
        "duration": 38,
        "start_time": "2023-03-21T14:44:39.410Z"
      },
      {
        "duration": 4,
        "start_time": "2023-03-21T14:44:39.450Z"
      },
      {
        "duration": 30,
        "start_time": "2023-03-21T14:44:39.456Z"
      },
      {
        "duration": 38,
        "start_time": "2023-03-21T14:44:39.487Z"
      },
      {
        "duration": 4,
        "start_time": "2023-03-21T14:44:39.526Z"
      },
      {
        "duration": 938,
        "start_time": "2023-03-21T14:44:39.531Z"
      },
      {
        "duration": 14,
        "start_time": "2023-03-21T14:44:40.471Z"
      },
      {
        "duration": 682,
        "start_time": "2023-03-21T14:44:40.486Z"
      },
      {
        "duration": 163,
        "start_time": "2023-03-21T14:44:41.171Z"
      },
      {
        "duration": 199,
        "start_time": "2023-03-21T14:44:41.336Z"
      },
      {
        "duration": 143,
        "start_time": "2023-03-21T14:44:41.536Z"
      },
      {
        "duration": 148,
        "start_time": "2023-03-21T14:44:41.680Z"
      },
      {
        "duration": 147,
        "start_time": "2023-03-21T14:44:41.830Z"
      },
      {
        "duration": 28,
        "start_time": "2023-03-21T14:44:41.978Z"
      },
      {
        "duration": 18,
        "start_time": "2023-03-21T14:44:42.007Z"
      },
      {
        "duration": 6,
        "start_time": "2023-03-21T14:44:42.026Z"
      },
      {
        "duration": 7,
        "start_time": "2023-03-21T14:44:42.033Z"
      },
      {
        "duration": 4,
        "start_time": "2023-03-21T14:44:42.041Z"
      },
      {
        "duration": 25,
        "start_time": "2023-03-21T14:44:42.046Z"
      },
      {
        "duration": 3,
        "start_time": "2023-03-21T14:44:42.072Z"
      },
      {
        "duration": 14,
        "start_time": "2023-03-21T14:44:42.076Z"
      },
      {
        "duration": 11,
        "start_time": "2023-03-21T14:44:42.091Z"
      },
      {
        "duration": 366,
        "start_time": "2023-03-21T14:44:42.104Z"
      },
      {
        "duration": 2978,
        "start_time": "2023-03-21T14:44:42.473Z"
      },
      {
        "duration": 77,
        "start_time": "2023-03-21T14:44:45.452Z"
      },
      {
        "duration": 97,
        "start_time": "2023-03-21T14:44:45.530Z"
      },
      {
        "duration": 15,
        "start_time": "2023-03-21T14:44:45.632Z"
      },
      {
        "duration": 84,
        "start_time": "2023-03-21T14:44:45.648Z"
      },
      {
        "duration": 323,
        "start_time": "2023-03-21T14:44:45.734Z"
      },
      {
        "duration": 6,
        "start_time": "2023-03-21T14:44:46.059Z"
      },
      {
        "duration": 8,
        "start_time": "2023-03-21T14:44:46.067Z"
      },
      {
        "duration": 5,
        "start_time": "2023-03-21T14:44:46.076Z"
      },
      {
        "duration": 15,
        "start_time": "2023-03-21T14:44:46.082Z"
      },
      {
        "duration": 32,
        "start_time": "2023-03-21T14:44:46.098Z"
      },
      {
        "duration": 1243,
        "start_time": "2023-03-21T14:44:46.131Z"
      },
      {
        "duration": 4080,
        "start_time": "2023-03-21T14:44:47.375Z"
      },
      {
        "duration": 72,
        "start_time": "2023-03-21T14:44:51.457Z"
      },
      {
        "duration": 94,
        "start_time": "2023-03-21T14:44:51.531Z"
      },
      {
        "duration": 28,
        "start_time": "2023-03-21T14:44:51.628Z"
      },
      {
        "duration": 14,
        "start_time": "2023-03-21T14:44:51.657Z"
      },
      {
        "duration": 325,
        "start_time": "2023-03-21T14:44:51.725Z"
      },
      {
        "duration": 104,
        "start_time": "2023-03-21T14:44:52.052Z"
      },
      {
        "duration": 79,
        "start_time": "2023-03-21T14:44:52.158Z"
      },
      {
        "duration": 171,
        "start_time": "2023-03-21T14:44:52.238Z"
      },
      {
        "duration": 551,
        "start_time": "2023-03-21T14:44:52.411Z"
      },
      {
        "duration": 4,
        "start_time": "2023-03-21T14:47:00.891Z"
      },
      {
        "duration": 1388,
        "start_time": "2023-03-21T14:47:11.938Z"
      },
      {
        "duration": 38,
        "start_time": "2023-03-21T14:47:13.328Z"
      },
      {
        "duration": 4,
        "start_time": "2023-03-21T14:47:13.367Z"
      },
      {
        "duration": 24,
        "start_time": "2023-03-21T14:47:13.373Z"
      },
      {
        "duration": 31,
        "start_time": "2023-03-21T14:47:13.399Z"
      },
      {
        "duration": 3,
        "start_time": "2023-03-21T14:47:13.432Z"
      },
      {
        "duration": 1048,
        "start_time": "2023-03-21T14:47:13.437Z"
      },
      {
        "duration": 16,
        "start_time": "2023-03-21T14:47:14.487Z"
      },
      {
        "duration": 778,
        "start_time": "2023-03-21T14:47:14.504Z"
      },
      {
        "duration": 169,
        "start_time": "2023-03-21T14:47:15.284Z"
      },
      {
        "duration": 177,
        "start_time": "2023-03-21T14:47:15.455Z"
      },
      {
        "duration": 141,
        "start_time": "2023-03-21T14:47:15.634Z"
      },
      {
        "duration": 162,
        "start_time": "2023-03-21T14:47:15.777Z"
      },
      {
        "duration": 152,
        "start_time": "2023-03-21T14:47:15.941Z"
      },
      {
        "duration": 33,
        "start_time": "2023-03-21T14:47:16.095Z"
      },
      {
        "duration": 8,
        "start_time": "2023-03-21T14:47:16.130Z"
      },
      {
        "duration": 11,
        "start_time": "2023-03-21T14:47:16.140Z"
      },
      {
        "duration": 71,
        "start_time": "2023-03-21T14:47:16.152Z"
      },
      {
        "duration": 0,
        "start_time": "2023-03-21T14:47:16.225Z"
      },
      {
        "duration": 0,
        "start_time": "2023-03-21T14:47:16.226Z"
      },
      {
        "duration": 0,
        "start_time": "2023-03-21T14:47:16.228Z"
      },
      {
        "duration": 0,
        "start_time": "2023-03-21T14:47:16.229Z"
      },
      {
        "duration": 0,
        "start_time": "2023-03-21T14:47:16.231Z"
      },
      {
        "duration": 0,
        "start_time": "2023-03-21T14:47:16.232Z"
      },
      {
        "duration": 0,
        "start_time": "2023-03-21T14:47:16.233Z"
      },
      {
        "duration": 0,
        "start_time": "2023-03-21T14:47:16.234Z"
      },
      {
        "duration": 0,
        "start_time": "2023-03-21T14:47:16.236Z"
      },
      {
        "duration": 0,
        "start_time": "2023-03-21T14:47:16.237Z"
      },
      {
        "duration": 0,
        "start_time": "2023-03-21T14:47:16.238Z"
      },
      {
        "duration": 0,
        "start_time": "2023-03-21T14:47:16.239Z"
      },
      {
        "duration": 1,
        "start_time": "2023-03-21T14:47:16.240Z"
      },
      {
        "duration": 0,
        "start_time": "2023-03-21T14:47:16.242Z"
      },
      {
        "duration": 0,
        "start_time": "2023-03-21T14:47:16.243Z"
      },
      {
        "duration": 0,
        "start_time": "2023-03-21T14:47:16.244Z"
      },
      {
        "duration": 0,
        "start_time": "2023-03-21T14:47:16.245Z"
      },
      {
        "duration": 0,
        "start_time": "2023-03-21T14:47:16.246Z"
      },
      {
        "duration": 0,
        "start_time": "2023-03-21T14:47:16.247Z"
      },
      {
        "duration": 0,
        "start_time": "2023-03-21T14:47:16.248Z"
      },
      {
        "duration": 0,
        "start_time": "2023-03-21T14:47:16.249Z"
      },
      {
        "duration": 0,
        "start_time": "2023-03-21T14:47:16.251Z"
      },
      {
        "duration": 0,
        "start_time": "2023-03-21T14:47:16.252Z"
      },
      {
        "duration": 0,
        "start_time": "2023-03-21T14:47:16.253Z"
      },
      {
        "duration": 0,
        "start_time": "2023-03-21T14:47:16.254Z"
      },
      {
        "duration": 0,
        "start_time": "2023-03-21T14:47:16.255Z"
      },
      {
        "duration": 0,
        "start_time": "2023-03-21T14:47:16.256Z"
      },
      {
        "duration": 0,
        "start_time": "2023-03-21T14:47:16.257Z"
      },
      {
        "duration": 0,
        "start_time": "2023-03-21T14:47:16.258Z"
      },
      {
        "duration": 95,
        "start_time": "2023-03-21T14:47:45.778Z"
      },
      {
        "duration": 1268,
        "start_time": "2023-03-21T14:48:05.345Z"
      },
      {
        "duration": 37,
        "start_time": "2023-03-21T14:48:06.615Z"
      },
      {
        "duration": 4,
        "start_time": "2023-03-21T14:48:06.653Z"
      },
      {
        "duration": 25,
        "start_time": "2023-03-21T14:48:06.659Z"
      },
      {
        "duration": 38,
        "start_time": "2023-03-21T14:48:06.686Z"
      },
      {
        "duration": 4,
        "start_time": "2023-03-21T14:48:06.725Z"
      },
      {
        "duration": 987,
        "start_time": "2023-03-21T14:48:06.730Z"
      },
      {
        "duration": 15,
        "start_time": "2023-03-21T14:48:07.719Z"
      },
      {
        "duration": 729,
        "start_time": "2023-03-21T14:48:07.736Z"
      },
      {
        "duration": 162,
        "start_time": "2023-03-21T14:48:08.468Z"
      },
      {
        "duration": 171,
        "start_time": "2023-03-21T14:48:08.632Z"
      },
      {
        "duration": 144,
        "start_time": "2023-03-21T14:48:08.805Z"
      },
      {
        "duration": 149,
        "start_time": "2023-03-21T14:48:08.951Z"
      },
      {
        "duration": 156,
        "start_time": "2023-03-21T14:48:09.102Z"
      },
      {
        "duration": 27,
        "start_time": "2023-03-21T14:48:09.260Z"
      },
      {
        "duration": 8,
        "start_time": "2023-03-21T14:48:09.288Z"
      },
      {
        "duration": 8,
        "start_time": "2023-03-21T14:48:09.297Z"
      },
      {
        "duration": 20,
        "start_time": "2023-03-21T14:48:09.306Z"
      },
      {
        "duration": 5,
        "start_time": "2023-03-21T14:48:09.327Z"
      },
      {
        "duration": 7,
        "start_time": "2023-03-21T14:48:09.333Z"
      },
      {
        "duration": 22,
        "start_time": "2023-03-21T14:48:09.341Z"
      },
      {
        "duration": 3,
        "start_time": "2023-03-21T14:48:09.364Z"
      },
      {
        "duration": 4,
        "start_time": "2023-03-21T14:48:09.368Z"
      },
      {
        "duration": 7,
        "start_time": "2023-03-21T14:48:09.373Z"
      },
      {
        "duration": 365,
        "start_time": "2023-03-21T14:48:09.381Z"
      },
      {
        "duration": 3050,
        "start_time": "2023-03-21T14:48:09.748Z"
      },
      {
        "duration": 32,
        "start_time": "2023-03-21T14:48:12.800Z"
      },
      {
        "duration": 94,
        "start_time": "2023-03-21T14:48:12.836Z"
      },
      {
        "duration": 118,
        "start_time": "2023-03-21T14:48:12.932Z"
      },
      {
        "duration": 12,
        "start_time": "2023-03-21T14:48:13.051Z"
      },
      {
        "duration": 333,
        "start_time": "2023-03-21T14:48:13.066Z"
      },
      {
        "duration": 5,
        "start_time": "2023-03-21T14:48:13.400Z"
      },
      {
        "duration": 8,
        "start_time": "2023-03-21T14:48:13.406Z"
      },
      {
        "duration": 4,
        "start_time": "2023-03-21T14:48:13.424Z"
      },
      {
        "duration": 16,
        "start_time": "2023-03-21T14:48:13.429Z"
      },
      {
        "duration": 9,
        "start_time": "2023-03-21T14:48:13.447Z"
      },
      {
        "duration": 1171,
        "start_time": "2023-03-21T14:48:13.457Z"
      },
      {
        "duration": 4019,
        "start_time": "2023-03-21T14:48:14.630Z"
      },
      {
        "duration": 91,
        "start_time": "2023-03-21T14:48:18.651Z"
      },
      {
        "duration": 83,
        "start_time": "2023-03-21T14:48:18.743Z"
      },
      {
        "duration": 469,
        "start_time": "2023-03-21T14:48:18.827Z"
      },
      {
        "duration": 28,
        "start_time": "2023-03-21T14:48:19.297Z"
      },
      {
        "duration": 383,
        "start_time": "2023-03-21T14:48:19.326Z"
      },
      {
        "duration": 153,
        "start_time": "2023-03-21T14:48:19.711Z"
      },
      {
        "duration": 97,
        "start_time": "2023-03-21T14:48:19.866Z"
      },
      {
        "duration": 166,
        "start_time": "2023-03-21T14:48:19.966Z"
      },
      {
        "duration": 553,
        "start_time": "2023-03-21T14:48:20.134Z"
      },
      {
        "duration": 66,
        "start_time": "2023-03-21T14:48:43.252Z"
      },
      {
        "duration": 58,
        "start_time": "2023-03-21T14:48:51.383Z"
      },
      {
        "duration": 55,
        "start_time": "2023-03-21T14:49:01.618Z"
      },
      {
        "duration": 125,
        "start_time": "2023-03-21T14:49:58.564Z"
      },
      {
        "duration": 84,
        "start_time": "2023-03-21T14:49:59.783Z"
      },
      {
        "duration": 192,
        "start_time": "2023-03-21T14:50:00.775Z"
      },
      {
        "duration": 535,
        "start_time": "2023-03-21T14:50:02.277Z"
      },
      {
        "duration": 566,
        "start_time": "2023-03-21T14:50:47.525Z"
      },
      {
        "duration": 527,
        "start_time": "2023-03-21T14:51:57.213Z"
      },
      {
        "duration": 587,
        "start_time": "2023-03-21T14:52:35.115Z"
      },
      {
        "duration": 575,
        "start_time": "2023-03-21T14:56:27.146Z"
      },
      {
        "duration": 548,
        "start_time": "2023-03-21T14:57:51.322Z"
      },
      {
        "duration": 2336,
        "start_time": "2023-03-21T15:00:26.434Z"
      },
      {
        "duration": 3096,
        "start_time": "2023-03-21T15:01:02.228Z"
      },
      {
        "duration": 1021,
        "start_time": "2023-03-21T15:01:31.754Z"
      },
      {
        "duration": 545,
        "start_time": "2023-03-21T15:01:51.846Z"
      },
      {
        "duration": 3002,
        "start_time": "2023-03-21T15:02:41.467Z"
      },
      {
        "duration": 146,
        "start_time": "2023-03-21T15:03:13.438Z"
      },
      {
        "duration": 162,
        "start_time": "2023-03-21T15:05:29.183Z"
      },
      {
        "duration": 1657,
        "start_time": "2023-03-22T03:05:17.626Z"
      },
      {
        "duration": 112,
        "start_time": "2023-03-22T03:05:19.285Z"
      },
      {
        "duration": 4,
        "start_time": "2023-03-22T03:05:19.399Z"
      },
      {
        "duration": 59,
        "start_time": "2023-03-22T03:05:19.405Z"
      },
      {
        "duration": 33,
        "start_time": "2023-03-22T03:05:19.466Z"
      },
      {
        "duration": 4,
        "start_time": "2023-03-22T03:05:19.501Z"
      },
      {
        "duration": 1187,
        "start_time": "2023-03-22T03:05:19.506Z"
      },
      {
        "duration": 14,
        "start_time": "2023-03-22T03:05:20.694Z"
      },
      {
        "duration": 892,
        "start_time": "2023-03-22T03:05:20.710Z"
      },
      {
        "duration": 202,
        "start_time": "2023-03-22T03:05:21.605Z"
      },
      {
        "duration": 219,
        "start_time": "2023-03-22T03:05:21.810Z"
      },
      {
        "duration": 165,
        "start_time": "2023-03-22T03:05:22.031Z"
      },
      {
        "duration": 187,
        "start_time": "2023-03-22T03:05:22.197Z"
      },
      {
        "duration": 188,
        "start_time": "2023-03-22T03:05:22.386Z"
      },
      {
        "duration": 31,
        "start_time": "2023-03-22T03:05:22.575Z"
      },
      {
        "duration": 8,
        "start_time": "2023-03-22T03:05:22.608Z"
      },
      {
        "duration": 13,
        "start_time": "2023-03-22T03:05:22.618Z"
      },
      {
        "duration": 31,
        "start_time": "2023-03-22T03:05:22.641Z"
      },
      {
        "duration": 9,
        "start_time": "2023-03-22T03:05:22.673Z"
      },
      {
        "duration": 11,
        "start_time": "2023-03-22T03:05:22.684Z"
      },
      {
        "duration": 31,
        "start_time": "2023-03-22T03:05:22.697Z"
      },
      {
        "duration": 3,
        "start_time": "2023-03-22T03:05:22.730Z"
      },
      {
        "duration": 18,
        "start_time": "2023-03-22T03:05:22.734Z"
      },
      {
        "duration": 32,
        "start_time": "2023-03-22T03:05:22.757Z"
      },
      {
        "duration": 433,
        "start_time": "2023-03-22T03:05:22.791Z"
      },
      {
        "duration": 3470,
        "start_time": "2023-03-22T03:05:23.226Z"
      },
      {
        "duration": 58,
        "start_time": "2023-03-22T03:05:26.698Z"
      },
      {
        "duration": 85,
        "start_time": "2023-03-22T03:05:26.764Z"
      },
      {
        "duration": 36,
        "start_time": "2023-03-22T03:05:26.851Z"
      },
      {
        "duration": 17,
        "start_time": "2023-03-22T03:05:26.889Z"
      },
      {
        "duration": 287,
        "start_time": "2023-03-22T03:05:26.945Z"
      },
      {
        "duration": 19,
        "start_time": "2023-03-22T03:05:27.234Z"
      },
      {
        "duration": 17,
        "start_time": "2023-03-22T03:05:27.260Z"
      },
      {
        "duration": 11,
        "start_time": "2023-03-22T03:05:27.278Z"
      },
      {
        "duration": 13,
        "start_time": "2023-03-22T03:05:27.290Z"
      },
      {
        "duration": 10,
        "start_time": "2023-03-22T03:05:27.305Z"
      },
      {
        "duration": 1672,
        "start_time": "2023-03-22T03:05:27.316Z"
      },
      {
        "duration": 4891,
        "start_time": "2023-03-22T03:05:28.989Z"
      },
      {
        "duration": 68,
        "start_time": "2023-03-22T03:05:33.882Z"
      },
      {
        "duration": 100,
        "start_time": "2023-03-22T03:05:33.952Z"
      },
      {
        "duration": 38,
        "start_time": "2023-03-22T03:05:34.054Z"
      },
      {
        "duration": 16,
        "start_time": "2023-03-22T03:05:34.094Z"
      },
      {
        "duration": 304,
        "start_time": "2023-03-22T03:05:34.145Z"
      },
      {
        "duration": 166,
        "start_time": "2023-03-22T03:05:34.451Z"
      },
      {
        "duration": 102,
        "start_time": "2023-03-22T03:05:34.619Z"
      },
      {
        "duration": 214,
        "start_time": "2023-03-22T03:05:34.722Z"
      },
      {
        "duration": 690,
        "start_time": "2023-03-22T03:05:34.945Z"
      },
      {
        "duration": 58,
        "start_time": "2023-03-22T09:12:22.793Z"
      },
      {
        "duration": 9,
        "start_time": "2023-03-22T09:12:31.347Z"
      },
      {
        "duration": 1931,
        "start_time": "2023-03-22T09:12:39.760Z"
      },
      {
        "duration": 252,
        "start_time": "2023-03-22T09:12:41.694Z"
      },
      {
        "duration": 6,
        "start_time": "2023-03-22T09:12:41.948Z"
      },
      {
        "duration": 35,
        "start_time": "2023-03-22T09:12:41.957Z"
      },
      {
        "duration": 48,
        "start_time": "2023-03-22T09:12:41.994Z"
      },
      {
        "duration": 6,
        "start_time": "2023-03-22T09:12:42.045Z"
      },
      {
        "duration": 1493,
        "start_time": "2023-03-22T09:12:42.054Z"
      },
      {
        "duration": 21,
        "start_time": "2023-03-22T09:12:43.549Z"
      },
      {
        "duration": 1108,
        "start_time": "2023-03-22T09:12:43.572Z"
      },
      {
        "duration": 242,
        "start_time": "2023-03-22T09:12:44.683Z"
      },
      {
        "duration": 273,
        "start_time": "2023-03-22T09:12:44.928Z"
      },
      {
        "duration": 179,
        "start_time": "2023-03-22T09:12:45.209Z"
      },
      {
        "duration": 275,
        "start_time": "2023-03-22T09:12:45.390Z"
      },
      {
        "duration": 217,
        "start_time": "2023-03-22T09:12:45.667Z"
      },
      {
        "duration": 62,
        "start_time": "2023-03-22T09:12:45.887Z"
      },
      {
        "duration": 14,
        "start_time": "2023-03-22T09:12:45.951Z"
      },
      {
        "duration": 7,
        "start_time": "2023-03-22T09:12:45.967Z"
      },
      {
        "duration": 12,
        "start_time": "2023-03-22T09:12:45.976Z"
      },
      {
        "duration": 9,
        "start_time": "2023-03-22T09:12:46.005Z"
      },
      {
        "duration": 10,
        "start_time": "2023-03-22T09:12:46.026Z"
      },
      {
        "duration": 47,
        "start_time": "2023-03-22T09:12:46.051Z"
      },
      {
        "duration": 7,
        "start_time": "2023-03-22T09:12:46.100Z"
      },
      {
        "duration": 6,
        "start_time": "2023-03-22T09:12:46.109Z"
      },
      {
        "duration": 15,
        "start_time": "2023-03-22T09:12:46.117Z"
      },
      {
        "duration": 596,
        "start_time": "2023-03-22T09:12:46.134Z"
      },
      {
        "duration": 4235,
        "start_time": "2023-03-22T09:12:46.739Z"
      },
      {
        "duration": 41,
        "start_time": "2023-03-22T09:12:50.976Z"
      },
      {
        "duration": 183,
        "start_time": "2023-03-22T09:12:51.023Z"
      },
      {
        "duration": 26,
        "start_time": "2023-03-22T09:12:51.208Z"
      },
      {
        "duration": 71,
        "start_time": "2023-03-22T09:12:51.237Z"
      },
      {
        "duration": 346,
        "start_time": "2023-03-22T09:12:51.316Z"
      },
      {
        "duration": 7,
        "start_time": "2023-03-22T09:12:51.665Z"
      },
      {
        "duration": 6,
        "start_time": "2023-03-22T09:12:51.675Z"
      },
      {
        "duration": 23,
        "start_time": "2023-03-22T09:12:51.703Z"
      },
      {
        "duration": 19,
        "start_time": "2023-03-22T09:12:51.729Z"
      },
      {
        "duration": 21,
        "start_time": "2023-03-22T09:12:51.749Z"
      },
      {
        "duration": 1838,
        "start_time": "2023-03-22T09:12:51.772Z"
      },
      {
        "duration": 5339,
        "start_time": "2023-03-22T09:12:53.621Z"
      },
      {
        "duration": 53,
        "start_time": "2023-03-22T09:12:58.962Z"
      },
      {
        "duration": 86,
        "start_time": "2023-03-22T09:12:59.019Z"
      },
      {
        "duration": 24,
        "start_time": "2023-03-22T09:12:59.108Z"
      },
      {
        "duration": 86,
        "start_time": "2023-03-22T09:12:59.134Z"
      },
      {
        "duration": 347,
        "start_time": "2023-03-22T09:12:59.222Z"
      },
      {
        "duration": 183,
        "start_time": "2023-03-22T09:12:59.572Z"
      },
      {
        "duration": 106,
        "start_time": "2023-03-22T09:12:59.758Z"
      },
      {
        "duration": 262,
        "start_time": "2023-03-22T09:12:59.866Z"
      },
      {
        "duration": 731,
        "start_time": "2023-03-22T09:13:00.130Z"
      },
      {
        "duration": 196,
        "start_time": "2023-03-22T09:13:20.630Z"
      },
      {
        "duration": 326,
        "start_time": "2023-03-22T09:13:34.698Z"
      },
      {
        "duration": 246,
        "start_time": "2023-03-22T09:13:45.843Z"
      },
      {
        "duration": 2025,
        "start_time": "2023-03-22T09:14:33.842Z"
      },
      {
        "duration": 68,
        "start_time": "2023-03-22T09:14:35.869Z"
      },
      {
        "duration": 9,
        "start_time": "2023-03-22T09:14:35.942Z"
      },
      {
        "duration": 60,
        "start_time": "2023-03-22T09:14:35.953Z"
      },
      {
        "duration": 53,
        "start_time": "2023-03-22T09:14:36.019Z"
      },
      {
        "duration": 14,
        "start_time": "2023-03-22T09:14:36.076Z"
      },
      {
        "duration": 1779,
        "start_time": "2023-03-22T09:14:36.093Z"
      },
      {
        "duration": 24,
        "start_time": "2023-03-22T09:14:37.877Z"
      },
      {
        "duration": 1181,
        "start_time": "2023-03-22T09:14:37.911Z"
      },
      {
        "duration": 290,
        "start_time": "2023-03-22T09:14:39.095Z"
      },
      {
        "duration": 312,
        "start_time": "2023-03-22T09:14:39.388Z"
      },
      {
        "duration": 287,
        "start_time": "2023-03-22T09:14:39.703Z"
      },
      {
        "duration": 318,
        "start_time": "2023-03-22T09:14:39.993Z"
      },
      {
        "duration": 284,
        "start_time": "2023-03-22T09:14:40.315Z"
      },
      {
        "duration": 66,
        "start_time": "2023-03-22T09:14:40.601Z"
      },
      {
        "duration": 14,
        "start_time": "2023-03-22T09:14:40.670Z"
      },
      {
        "duration": 12,
        "start_time": "2023-03-22T09:14:40.689Z"
      },
      {
        "duration": 16,
        "start_time": "2023-03-22T09:14:40.718Z"
      },
      {
        "duration": 17,
        "start_time": "2023-03-22T09:14:40.736Z"
      },
      {
        "duration": 12,
        "start_time": "2023-03-22T09:14:40.756Z"
      },
      {
        "duration": 39,
        "start_time": "2023-03-22T09:14:40.770Z"
      },
      {
        "duration": 7,
        "start_time": "2023-03-22T09:14:40.814Z"
      },
      {
        "duration": 8,
        "start_time": "2023-03-22T09:14:40.823Z"
      },
      {
        "duration": 14,
        "start_time": "2023-03-22T09:14:40.833Z"
      },
      {
        "duration": 625,
        "start_time": "2023-03-22T09:14:40.849Z"
      },
      {
        "duration": 4969,
        "start_time": "2023-03-22T09:14:41.477Z"
      },
      {
        "duration": 165,
        "start_time": "2023-03-22T09:14:46.448Z"
      },
      {
        "duration": 32,
        "start_time": "2023-03-22T09:14:46.627Z"
      },
      {
        "duration": 21,
        "start_time": "2023-03-22T09:14:46.663Z"
      },
      {
        "duration": 97,
        "start_time": "2023-03-22T09:14:46.712Z"
      },
      {
        "duration": 352,
        "start_time": "2023-03-22T09:14:46.814Z"
      },
      {
        "duration": 10,
        "start_time": "2023-03-22T09:14:47.168Z"
      },
      {
        "duration": 9,
        "start_time": "2023-03-22T09:14:47.180Z"
      },
      {
        "duration": 21,
        "start_time": "2023-03-22T09:14:47.191Z"
      },
      {
        "duration": 19,
        "start_time": "2023-03-22T09:14:47.215Z"
      },
      {
        "duration": 21,
        "start_time": "2023-03-22T09:14:47.237Z"
      },
      {
        "duration": 1887,
        "start_time": "2023-03-22T09:14:47.260Z"
      },
      {
        "duration": 6775,
        "start_time": "2023-03-22T09:14:49.150Z"
      },
      {
        "duration": 179,
        "start_time": "2023-03-22T09:14:55.929Z"
      },
      {
        "duration": 28,
        "start_time": "2023-03-22T09:14:56.120Z"
      },
      {
        "duration": 46,
        "start_time": "2023-03-22T09:14:56.157Z"
      },
      {
        "duration": 119,
        "start_time": "2023-03-22T09:14:56.206Z"
      },
      {
        "duration": 379,
        "start_time": "2023-03-22T09:14:56.340Z"
      },
      {
        "duration": 219,
        "start_time": "2023-03-22T09:14:56.721Z"
      },
      {
        "duration": 133,
        "start_time": "2023-03-22T09:14:56.945Z"
      },
      {
        "duration": 329,
        "start_time": "2023-03-22T09:14:57.080Z"
      },
      {
        "duration": 1217,
        "start_time": "2023-03-22T09:14:57.412Z"
      },
      {
        "duration": 1491,
        "start_time": "2023-03-22T09:17:12.034Z"
      },
      {
        "duration": 42,
        "start_time": "2023-03-22T09:17:13.527Z"
      },
      {
        "duration": 6,
        "start_time": "2023-03-22T09:17:13.571Z"
      },
      {
        "duration": 32,
        "start_time": "2023-03-22T09:17:13.579Z"
      },
      {
        "duration": 35,
        "start_time": "2023-03-22T09:17:13.613Z"
      },
      {
        "duration": 4,
        "start_time": "2023-03-22T09:17:13.650Z"
      },
      {
        "duration": 1229,
        "start_time": "2023-03-22T09:17:13.656Z"
      },
      {
        "duration": 21,
        "start_time": "2023-03-22T09:17:14.887Z"
      },
      {
        "duration": 868,
        "start_time": "2023-03-22T09:17:14.910Z"
      },
      {
        "duration": 227,
        "start_time": "2023-03-22T09:17:15.780Z"
      },
      {
        "duration": 225,
        "start_time": "2023-03-22T09:17:16.009Z"
      },
      {
        "duration": 187,
        "start_time": "2023-03-22T09:17:16.236Z"
      },
      {
        "duration": 203,
        "start_time": "2023-03-22T09:17:16.425Z"
      },
      {
        "duration": 197,
        "start_time": "2023-03-22T09:17:16.632Z"
      },
      {
        "duration": 35,
        "start_time": "2023-03-22T09:17:16.831Z"
      },
      {
        "duration": 11,
        "start_time": "2023-03-22T09:17:16.868Z"
      },
      {
        "duration": 6,
        "start_time": "2023-03-22T09:17:16.902Z"
      },
      {
        "duration": 7,
        "start_time": "2023-03-22T09:17:16.910Z"
      },
      {
        "duration": 7,
        "start_time": "2023-03-22T09:17:16.919Z"
      },
      {
        "duration": 11,
        "start_time": "2023-03-22T09:17:16.927Z"
      },
      {
        "duration": 37,
        "start_time": "2023-03-22T09:17:16.940Z"
      },
      {
        "duration": 26,
        "start_time": "2023-03-22T09:17:16.979Z"
      },
      {
        "duration": 19,
        "start_time": "2023-03-22T09:17:17.007Z"
      },
      {
        "duration": 12,
        "start_time": "2023-03-22T09:17:17.029Z"
      },
      {
        "duration": 503,
        "start_time": "2023-03-22T09:17:17.043Z"
      },
      {
        "duration": 3661,
        "start_time": "2023-03-22T09:17:17.548Z"
      },
      {
        "duration": 28,
        "start_time": "2023-03-22T09:17:21.211Z"
      },
      {
        "duration": 70,
        "start_time": "2023-03-22T09:17:21.241Z"
      },
      {
        "duration": 105,
        "start_time": "2023-03-22T09:17:21.313Z"
      },
      {
        "duration": 82,
        "start_time": "2023-03-22T09:17:21.420Z"
      },
      {
        "duration": 324,
        "start_time": "2023-03-22T09:17:21.505Z"
      },
      {
        "duration": 7,
        "start_time": "2023-03-22T09:17:21.832Z"
      },
      {
        "duration": 15,
        "start_time": "2023-03-22T09:17:21.841Z"
      },
      {
        "duration": 7,
        "start_time": "2023-03-22T09:17:21.858Z"
      },
      {
        "duration": 43,
        "start_time": "2023-03-22T09:17:21.868Z"
      },
      {
        "duration": 18,
        "start_time": "2023-03-22T09:17:21.913Z"
      },
      {
        "duration": 1519,
        "start_time": "2023-03-22T09:17:21.933Z"
      },
      {
        "duration": 5200,
        "start_time": "2023-03-22T09:17:23.454Z"
      },
      {
        "duration": 52,
        "start_time": "2023-03-22T09:17:28.656Z"
      },
      {
        "duration": 12,
        "start_time": "2023-03-22T09:17:28.709Z"
      },
      {
        "duration": 105,
        "start_time": "2023-03-22T09:17:28.802Z"
      },
      {
        "duration": 14,
        "start_time": "2023-03-22T09:17:28.909Z"
      },
      {
        "duration": 385,
        "start_time": "2023-03-22T09:17:28.925Z"
      },
      {
        "duration": 173,
        "start_time": "2023-03-22T09:17:29.312Z"
      },
      {
        "duration": 102,
        "start_time": "2023-03-22T09:17:29.486Z"
      },
      {
        "duration": 241,
        "start_time": "2023-03-22T09:17:29.589Z"
      },
      {
        "duration": 706,
        "start_time": "2023-03-22T09:17:29.832Z"
      },
      {
        "duration": 45,
        "start_time": "2023-03-22T10:19:50.700Z"
      },
      {
        "duration": 1786,
        "start_time": "2023-03-22T10:20:10.720Z"
      },
      {
        "duration": 50,
        "start_time": "2023-03-22T10:20:12.509Z"
      },
      {
        "duration": 5,
        "start_time": "2023-03-22T10:20:12.563Z"
      },
      {
        "duration": 39,
        "start_time": "2023-03-22T10:20:12.570Z"
      },
      {
        "duration": 38,
        "start_time": "2023-03-22T10:20:12.612Z"
      },
      {
        "duration": 6,
        "start_time": "2023-03-22T10:20:12.652Z"
      },
      {
        "duration": 1866,
        "start_time": "2023-03-22T10:20:12.660Z"
      },
      {
        "duration": 23,
        "start_time": "2023-03-22T10:20:14.528Z"
      },
      {
        "duration": 983,
        "start_time": "2023-03-22T10:20:14.553Z"
      },
      {
        "duration": 267,
        "start_time": "2023-03-22T10:20:15.538Z"
      },
      {
        "duration": 260,
        "start_time": "2023-03-22T10:20:15.808Z"
      },
      {
        "duration": 237,
        "start_time": "2023-03-22T10:20:16.070Z"
      },
      {
        "duration": 218,
        "start_time": "2023-03-22T10:20:16.310Z"
      },
      {
        "duration": 193,
        "start_time": "2023-03-22T10:20:16.531Z"
      },
      {
        "duration": 43,
        "start_time": "2023-03-22T10:20:16.728Z"
      },
      {
        "duration": 34,
        "start_time": "2023-03-22T10:20:16.773Z"
      },
      {
        "duration": 5,
        "start_time": "2023-03-22T10:20:16.809Z"
      },
      {
        "duration": 11,
        "start_time": "2023-03-22T10:20:16.816Z"
      },
      {
        "duration": 7,
        "start_time": "2023-03-22T10:20:16.828Z"
      },
      {
        "duration": 5,
        "start_time": "2023-03-22T10:20:16.836Z"
      },
      {
        "duration": 63,
        "start_time": "2023-03-22T10:20:16.843Z"
      },
      {
        "duration": 4,
        "start_time": "2023-03-22T10:20:16.909Z"
      },
      {
        "duration": 7,
        "start_time": "2023-03-22T10:20:16.915Z"
      },
      {
        "duration": 9,
        "start_time": "2023-03-22T10:20:16.924Z"
      },
      {
        "duration": 576,
        "start_time": "2023-03-22T10:20:16.935Z"
      },
      {
        "duration": 4003,
        "start_time": "2023-03-22T10:20:17.514Z"
      },
      {
        "duration": 185,
        "start_time": "2023-03-22T10:20:21.521Z"
      },
      {
        "duration": 14,
        "start_time": "2023-03-22T10:20:21.708Z"
      },
      {
        "duration": 20,
        "start_time": "2023-03-22T10:20:21.724Z"
      },
      {
        "duration": 170,
        "start_time": "2023-03-22T10:20:21.746Z"
      },
      {
        "duration": 335,
        "start_time": "2023-03-22T10:20:21.925Z"
      },
      {
        "duration": 6,
        "start_time": "2023-03-22T10:20:22.262Z"
      },
      {
        "duration": 13,
        "start_time": "2023-03-22T10:20:22.270Z"
      },
      {
        "duration": 8,
        "start_time": "2023-03-22T10:20:22.302Z"
      },
      {
        "duration": 13,
        "start_time": "2023-03-22T10:20:22.312Z"
      },
      {
        "duration": 16,
        "start_time": "2023-03-22T10:20:22.328Z"
      },
      {
        "duration": 1522,
        "start_time": "2023-03-22T10:20:22.347Z"
      },
      {
        "duration": 5361,
        "start_time": "2023-03-22T10:20:23.871Z"
      },
      {
        "duration": 82,
        "start_time": "2023-03-22T10:20:29.234Z"
      },
      {
        "duration": 94,
        "start_time": "2023-03-22T10:20:29.317Z"
      },
      {
        "duration": 17,
        "start_time": "2023-03-22T10:20:29.416Z"
      },
      {
        "duration": 112,
        "start_time": "2023-03-22T10:20:29.503Z"
      },
      {
        "duration": 336,
        "start_time": "2023-03-22T10:20:29.618Z"
      },
      {
        "duration": 198,
        "start_time": "2023-03-22T10:20:29.956Z"
      },
      {
        "duration": 111,
        "start_time": "2023-03-22T10:20:30.156Z"
      },
      {
        "duration": 261,
        "start_time": "2023-03-22T10:20:30.269Z"
      },
      {
        "duration": 845,
        "start_time": "2023-03-22T10:20:30.532Z"
      },
      {
        "duration": 76,
        "start_time": "2023-03-22T10:21:19.957Z"
      },
      {
        "duration": 9774,
        "start_time": "2023-03-22T10:27:15.438Z"
      },
      {
        "duration": 935,
        "start_time": "2023-03-22T10:30:00.731Z"
      },
      {
        "duration": 475,
        "start_time": "2023-03-22T10:31:18.380Z"
      },
      {
        "duration": 306,
        "start_time": "2023-03-22T10:31:41.534Z"
      },
      {
        "duration": 12137,
        "start_time": "2023-03-22T10:33:36.800Z"
      },
      {
        "duration": 1666,
        "start_time": "2023-03-22T10:37:51.622Z"
      },
      {
        "duration": 57,
        "start_time": "2023-03-22T10:37:53.290Z"
      },
      {
        "duration": 5,
        "start_time": "2023-03-22T10:37:53.349Z"
      },
      {
        "duration": 49,
        "start_time": "2023-03-22T10:37:53.357Z"
      },
      {
        "duration": 45,
        "start_time": "2023-03-22T10:37:53.407Z"
      },
      {
        "duration": 5,
        "start_time": "2023-03-22T10:37:53.453Z"
      },
      {
        "duration": 1307,
        "start_time": "2023-03-22T10:37:53.460Z"
      },
      {
        "duration": 17,
        "start_time": "2023-03-22T10:37:54.769Z"
      },
      {
        "duration": 919,
        "start_time": "2023-03-22T10:37:54.788Z"
      },
      {
        "duration": 256,
        "start_time": "2023-03-22T10:37:55.711Z"
      },
      {
        "duration": 305,
        "start_time": "2023-03-22T10:37:55.970Z"
      },
      {
        "duration": 189,
        "start_time": "2023-03-22T10:37:56.277Z"
      },
      {
        "duration": 232,
        "start_time": "2023-03-22T10:37:56.468Z"
      },
      {
        "duration": 207,
        "start_time": "2023-03-22T10:37:56.702Z"
      },
      {
        "duration": 37,
        "start_time": "2023-03-22T10:37:56.911Z"
      },
      {
        "duration": 12,
        "start_time": "2023-03-22T10:37:56.950Z"
      },
      {
        "duration": 6,
        "start_time": "2023-03-22T10:37:56.964Z"
      },
      {
        "duration": 33,
        "start_time": "2023-03-22T10:37:56.973Z"
      },
      {
        "duration": 9,
        "start_time": "2023-03-22T10:37:57.021Z"
      },
      {
        "duration": 5,
        "start_time": "2023-03-22T10:37:57.032Z"
      },
      {
        "duration": 44,
        "start_time": "2023-03-22T10:37:57.039Z"
      },
      {
        "duration": 17,
        "start_time": "2023-03-22T10:37:57.086Z"
      },
      {
        "duration": 9,
        "start_time": "2023-03-22T10:37:57.105Z"
      },
      {
        "duration": 10,
        "start_time": "2023-03-22T10:37:57.122Z"
      },
      {
        "duration": 784,
        "start_time": "2023-03-22T10:37:57.135Z"
      },
      {
        "duration": 9337,
        "start_time": "2023-03-22T10:37:57.921Z"
      },
      {
        "duration": 60,
        "start_time": "2023-03-22T10:38:07.260Z"
      },
      {
        "duration": 16,
        "start_time": "2023-03-22T10:38:07.406Z"
      },
      {
        "duration": 20,
        "start_time": "2023-03-22T10:38:07.424Z"
      },
      {
        "duration": 73,
        "start_time": "2023-03-22T10:38:07.446Z"
      },
      {
        "duration": 312,
        "start_time": "2023-03-22T10:38:07.523Z"
      },
      {
        "duration": 6,
        "start_time": "2023-03-22T10:38:07.837Z"
      },
      {
        "duration": 25,
        "start_time": "2023-03-22T10:38:07.844Z"
      },
      {
        "duration": 7,
        "start_time": "2023-03-22T10:38:07.871Z"
      },
      {
        "duration": 16,
        "start_time": "2023-03-22T10:38:07.880Z"
      },
      {
        "duration": 15,
        "start_time": "2023-03-22T10:38:07.898Z"
      },
      {
        "duration": 1597,
        "start_time": "2023-03-22T10:38:07.915Z"
      },
      {
        "duration": 12944,
        "start_time": "2023-03-22T10:38:09.515Z"
      },
      {
        "duration": 29,
        "start_time": "2023-03-22T10:38:22.461Z"
      },
      {
        "duration": 17,
        "start_time": "2023-03-22T10:38:22.604Z"
      },
      {
        "duration": 22,
        "start_time": "2023-03-22T10:38:22.623Z"
      },
      {
        "duration": 80,
        "start_time": "2023-03-22T10:38:22.647Z"
      },
      {
        "duration": 238,
        "start_time": "2023-03-22T10:38:22.802Z"
      },
      {
        "duration": 251,
        "start_time": "2023-03-22T10:38:23.042Z"
      },
      {
        "duration": 144,
        "start_time": "2023-03-22T10:38:23.295Z"
      },
      {
        "duration": 366,
        "start_time": "2023-03-22T10:38:23.441Z"
      },
      {
        "duration": 981,
        "start_time": "2023-03-22T10:38:23.809Z"
      },
      {
        "duration": 266,
        "start_time": "2023-03-22T10:41:42.575Z"
      },
      {
        "duration": 1568,
        "start_time": "2023-03-22T10:42:16.154Z"
      },
      {
        "duration": 43,
        "start_time": "2023-03-22T10:42:17.724Z"
      },
      {
        "duration": 4,
        "start_time": "2023-03-22T10:42:17.769Z"
      },
      {
        "duration": 27,
        "start_time": "2023-03-22T10:42:17.776Z"
      },
      {
        "duration": 41,
        "start_time": "2023-03-22T10:42:17.805Z"
      },
      {
        "duration": 4,
        "start_time": "2023-03-22T10:42:17.849Z"
      },
      {
        "duration": 1309,
        "start_time": "2023-03-22T10:42:17.856Z"
      },
      {
        "duration": 21,
        "start_time": "2023-03-22T10:42:19.167Z"
      },
      {
        "duration": 983,
        "start_time": "2023-03-22T10:42:19.204Z"
      },
      {
        "duration": 259,
        "start_time": "2023-03-22T10:42:20.189Z"
      },
      {
        "duration": 238,
        "start_time": "2023-03-22T10:42:20.450Z"
      },
      {
        "duration": 198,
        "start_time": "2023-03-22T10:42:20.690Z"
      },
      {
        "duration": 220,
        "start_time": "2023-03-22T10:42:20.890Z"
      },
      {
        "duration": 226,
        "start_time": "2023-03-22T10:42:21.114Z"
      },
      {
        "duration": 36,
        "start_time": "2023-03-22T10:42:21.342Z"
      },
      {
        "duration": 24,
        "start_time": "2023-03-22T10:42:21.379Z"
      },
      {
        "duration": 6,
        "start_time": "2023-03-22T10:42:21.404Z"
      },
      {
        "duration": 15,
        "start_time": "2023-03-22T10:42:21.412Z"
      },
      {
        "duration": 13,
        "start_time": "2023-03-22T10:42:21.429Z"
      },
      {
        "duration": 5,
        "start_time": "2023-03-22T10:42:21.445Z"
      },
      {
        "duration": 58,
        "start_time": "2023-03-22T10:42:21.452Z"
      },
      {
        "duration": 4,
        "start_time": "2023-03-22T10:42:21.512Z"
      },
      {
        "duration": 6,
        "start_time": "2023-03-22T10:42:21.517Z"
      },
      {
        "duration": 10,
        "start_time": "2023-03-22T10:42:21.525Z"
      },
      {
        "duration": 817,
        "start_time": "2023-03-22T10:42:21.536Z"
      },
      {
        "duration": 9607,
        "start_time": "2023-03-22T10:42:22.355Z"
      },
      {
        "duration": 61,
        "start_time": "2023-03-22T10:42:31.965Z"
      },
      {
        "duration": 17,
        "start_time": "2023-03-22T10:42:32.107Z"
      },
      {
        "duration": 79,
        "start_time": "2023-03-22T10:42:32.126Z"
      },
      {
        "duration": 97,
        "start_time": "2023-03-22T10:42:32.207Z"
      },
      {
        "duration": 353,
        "start_time": "2023-03-22T10:42:32.306Z"
      },
      {
        "duration": 6,
        "start_time": "2023-03-22T10:42:32.661Z"
      },
      {
        "duration": 13,
        "start_time": "2023-03-22T10:42:32.669Z"
      },
      {
        "duration": 21,
        "start_time": "2023-03-22T10:42:32.683Z"
      },
      {
        "duration": 15,
        "start_time": "2023-03-22T10:42:32.707Z"
      },
      {
        "duration": 14,
        "start_time": "2023-03-22T10:42:32.724Z"
      },
      {
        "duration": 1615,
        "start_time": "2023-03-22T10:42:32.740Z"
      },
      {
        "duration": 12729,
        "start_time": "2023-03-22T10:42:34.357Z"
      },
      {
        "duration": 43,
        "start_time": "2023-03-22T10:42:47.088Z"
      },
      {
        "duration": 14,
        "start_time": "2023-03-22T10:42:47.202Z"
      },
      {
        "duration": 101,
        "start_time": "2023-03-22T10:42:47.218Z"
      },
      {
        "duration": 12,
        "start_time": "2023-03-22T10:42:47.322Z"
      },
      {
        "duration": 402,
        "start_time": "2023-03-22T10:42:47.336Z"
      },
      {
        "duration": 278,
        "start_time": "2023-03-22T10:42:47.740Z"
      },
      {
        "duration": 148,
        "start_time": "2023-03-22T10:42:48.021Z"
      },
      {
        "duration": 368,
        "start_time": "2023-03-22T10:42:48.172Z"
      },
      {
        "duration": 1016,
        "start_time": "2023-03-22T10:42:48.543Z"
      },
      {
        "duration": 51,
        "start_time": "2023-03-23T11:26:53.025Z"
      },
      {
        "duration": 1292,
        "start_time": "2023-03-23T11:26:53.187Z"
      },
      {
        "duration": 160,
        "start_time": "2023-03-23T11:26:54.480Z"
      },
      {
        "duration": 4,
        "start_time": "2023-03-23T11:26:54.641Z"
      },
      {
        "duration": 23,
        "start_time": "2023-03-23T11:26:54.646Z"
      },
      {
        "duration": 27,
        "start_time": "2023-03-23T11:26:54.671Z"
      },
      {
        "duration": 3,
        "start_time": "2023-03-23T11:26:54.700Z"
      },
      {
        "duration": 966,
        "start_time": "2023-03-23T11:26:54.704Z"
      },
      {
        "duration": 12,
        "start_time": "2023-03-23T11:26:55.671Z"
      },
      {
        "duration": 720,
        "start_time": "2023-03-23T11:26:55.685Z"
      },
      {
        "duration": 194,
        "start_time": "2023-03-23T11:26:56.406Z"
      },
      {
        "duration": 226,
        "start_time": "2023-03-23T11:26:56.601Z"
      },
      {
        "duration": 152,
        "start_time": "2023-03-23T11:26:56.829Z"
      },
      {
        "duration": 173,
        "start_time": "2023-03-23T11:26:56.982Z"
      },
      {
        "duration": 168,
        "start_time": "2023-03-23T11:26:57.158Z"
      },
      {
        "duration": 29,
        "start_time": "2023-03-23T11:26:57.328Z"
      },
      {
        "duration": 8,
        "start_time": "2023-03-23T11:26:57.358Z"
      },
      {
        "duration": 3,
        "start_time": "2023-03-23T11:26:57.368Z"
      },
      {
        "duration": 4,
        "start_time": "2023-03-23T11:26:57.373Z"
      },
      {
        "duration": 4,
        "start_time": "2023-03-23T11:26:57.378Z"
      },
      {
        "duration": 3,
        "start_time": "2023-03-23T11:26:57.384Z"
      },
      {
        "duration": 55,
        "start_time": "2023-03-23T11:26:57.389Z"
      },
      {
        "duration": 3,
        "start_time": "2023-03-23T11:26:57.446Z"
      },
      {
        "duration": 6,
        "start_time": "2023-03-23T11:26:57.450Z"
      },
      {
        "duration": 7,
        "start_time": "2023-03-23T11:26:57.457Z"
      },
      {
        "duration": 713,
        "start_time": "2023-03-23T11:26:57.465Z"
      },
      {
        "duration": 8272,
        "start_time": "2023-03-23T11:26:58.179Z"
      },
      {
        "duration": 18,
        "start_time": "2023-03-23T11:27:06.452Z"
      },
      {
        "duration": 13,
        "start_time": "2023-03-23T11:27:06.539Z"
      },
      {
        "duration": 97,
        "start_time": "2023-03-23T11:27:06.553Z"
      },
      {
        "duration": 8,
        "start_time": "2023-03-23T11:27:06.652Z"
      },
      {
        "duration": 371,
        "start_time": "2023-03-23T11:27:06.662Z"
      },
      {
        "duration": 9,
        "start_time": "2023-03-23T11:27:07.035Z"
      },
      {
        "duration": 6,
        "start_time": "2023-03-23T11:27:07.045Z"
      },
      {
        "duration": 10,
        "start_time": "2023-03-23T11:27:07.052Z"
      },
      {
        "duration": 10,
        "start_time": "2023-03-23T11:27:07.063Z"
      },
      {
        "duration": 9,
        "start_time": "2023-03-23T11:27:07.075Z"
      },
      {
        "duration": 1466,
        "start_time": "2023-03-23T11:27:07.085Z"
      },
      {
        "duration": 11550,
        "start_time": "2023-03-23T11:27:08.553Z"
      },
      {
        "duration": 38,
        "start_time": "2023-03-23T11:27:20.104Z"
      },
      {
        "duration": 95,
        "start_time": "2023-03-23T11:27:20.150Z"
      },
      {
        "duration": 18,
        "start_time": "2023-03-23T11:27:20.250Z"
      },
      {
        "duration": 15,
        "start_time": "2023-03-23T11:27:20.341Z"
      },
      {
        "duration": 334,
        "start_time": "2023-03-23T11:27:20.357Z"
      },
      {
        "duration": 251,
        "start_time": "2023-03-23T11:27:20.693Z"
      },
      {
        "duration": 128,
        "start_time": "2023-03-23T11:27:20.946Z"
      },
      {
        "duration": 342,
        "start_time": "2023-03-23T11:27:21.076Z"
      },
      {
        "duration": 879,
        "start_time": "2023-03-23T11:27:21.420Z"
      }
    ],
    "kernelspec": {
      "display_name": "Python 3 (ipykernel)",
      "language": "python",
      "name": "python3"
    },
    "language_info": {
      "codemirror_mode": {
        "name": "ipython",
        "version": 3
      },
      "file_extension": ".py",
      "mimetype": "text/x-python",
      "name": "python",
      "nbconvert_exporter": "python",
      "pygments_lexer": "ipython3",
      "version": "3.9.5"
    },
    "toc": {
      "base_numbering": 1,
      "nav_menu": {},
      "number_sections": true,
      "sideBar": true,
      "skip_h1_title": true,
      "title_cell": "Содержание",
      "title_sidebar": "Contents",
      "toc_cell": true,
      "toc_position": {},
      "toc_section_display": true,
      "toc_window_display": true
    },
    "colab": {
      "provenance": [],
      "include_colab_link": true
    }
  },
  "nbformat": 4,
  "nbformat_minor": 0
}
