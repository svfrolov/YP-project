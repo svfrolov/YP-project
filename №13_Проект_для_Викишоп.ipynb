{
  "cells": [
    {
      "cell_type": "markdown",
      "metadata": {
        "id": "view-in-github",
        "colab_type": "text"
      },
      "source": [
        "<a href=\"https://colab.research.google.com/github/svfrolov/YP-project/blob/main/%E2%84%9613_%D0%9F%D1%80%D0%BE%D0%B5%D0%BA%D1%82_%D0%B4%D0%BB%D1%8F_%D0%92%D0%B8%D0%BA%D0%B8%D1%88%D0%BE%D0%BF.ipynb\" target=\"_parent\"><img src=\"https://colab.research.google.com/assets/colab-badge.svg\" alt=\"Open In Colab\"/></a>"
      ]
    },
    {
      "cell_type": "markdown",
      "metadata": {
        "toc": true,
        "id": "rzFmNQSn9bjm"
      },
      "source": [
        "<h1>Содержание<span class=\"tocSkip\"></span></h1>\n",
        "<div class=\"toc\"><ul class=\"toc-item\"><li><span><a href=\"#Подготовка\" data-toc-modified-id=\"Подготовка-1\"><span class=\"toc-item-num\">1&nbsp;&nbsp;</span>Подготовка</a></span><ul class=\"toc-item\"><li><span><a href=\"#Скопирую-в-другой-столбец\" data-toc-modified-id=\"Скопирую-в-другой-столбец-1.1\"><span class=\"toc-item-num\">1.1&nbsp;&nbsp;</span>Скопирую в другой столбец</a></span></li><li><span><a href=\"#Удаляю-символы,-числа,-привожу-к-нижнему-регистру\" data-toc-modified-id=\"Удаляю-символы,-числа,-привожу-к-нижнему-регистру-1.2\"><span class=\"toc-item-num\">1.2&nbsp;&nbsp;</span>Удаляю символы, числа, привожу к нижнему регистру</a></span></li><li><span><a href=\"#Разобъю-на-токены\" data-toc-modified-id=\"Разобъю-на-токены-1.3\"><span class=\"toc-item-num\">1.3&nbsp;&nbsp;</span>Разобъю на токены</a></span></li><li><span><a href=\"#Удаляю-пустые-строки\" data-toc-modified-id=\"Удаляю-пустые-строки-1.4\"><span class=\"toc-item-num\">1.4&nbsp;&nbsp;</span>Удаляю пустые строки</a></span></li><li><span><a href=\"#Удаляю-стоп-слова-(слова-,-несуществующие-значения)\" data-toc-modified-id=\"Удаляю-стоп-слова-(слова-,-несуществующие-значения)-1.5\"><span class=\"toc-item-num\">1.5&nbsp;&nbsp;</span>Удаляю стоп-слова (слова , несуществующие значения)</a></span></li><li><span><a href=\"#Лемматизация-текста\" data-toc-modified-id=\"Лемматизация-текста-1.6\"><span class=\"toc-item-num\">1.6&nbsp;&nbsp;</span>Лемматизация текста</a></span></li></ul></li><li><span><a href=\"#Обучение\" data-toc-modified-id=\"Обучение-2\"><span class=\"toc-item-num\">2&nbsp;&nbsp;</span>Обучение</a></span><ul class=\"toc-item\"><li><span><a href=\"#Разделяю-на-обучающую-и-тестовую\" data-toc-modified-id=\"Разделяю-на-обучающую-и-тестовую-2.1\"><span class=\"toc-item-num\">2.1&nbsp;&nbsp;</span>Разделяю на обучающую и тестовую</a></span></li><li><span><a href=\"#Разделяю-признаки-в-выборках\" data-toc-modified-id=\"Разделяю-признаки-в-выборках-2.2\"><span class=\"toc-item-num\">2.2&nbsp;&nbsp;</span>Разделяю признаки в выборках</a></span></li><li><span><a href=\"#Функцици\" data-toc-modified-id=\"Функцици-2.3\"><span class=\"toc-item-num\">2.3&nbsp;&nbsp;</span>Функцици</a></span><ul class=\"toc-item\"><li><span><a href=\"#функция-обучения-модели\" data-toc-modified-id=\"функция-обучения-модели-2.3.1\"><span class=\"toc-item-num\">2.3.1&nbsp;&nbsp;</span>функция обучения модели</a></span></li></ul></li><li><span><a href=\"#Модели\" data-toc-modified-id=\"Модели-2.4\"><span class=\"toc-item-num\">2.4&nbsp;&nbsp;</span>Модели</a></span><ul class=\"toc-item\"><li><span><a href=\"#Decision-Tree-Classifier-10-деревьев\" data-toc-modified-id=\"Decision-Tree-Classifier-10-деревьев-2.4.1\"><span class=\"toc-item-num\">2.4.1&nbsp;&nbsp;</span>Decision Tree Classifier 10 деревьев</a></span></li><li><span><a href=\"#CatBoost\" data-toc-modified-id=\"CatBoost-2.4.2\"><span class=\"toc-item-num\">2.4.2&nbsp;&nbsp;</span>CatBoost</a></span></li><li><span><a href=\"#Decision-Tree-Classifier-10-деревьев\" data-toc-modified-id=\"Decision-Tree-Classifier-10-деревьев-2.4.3\"><span class=\"toc-item-num\">2.4.3&nbsp;&nbsp;</span>Decision Tree Classifier 10 деревьев</a></span></li><li><span><a href=\"#Decision-Tree-Classifier-100-деревьев\" data-toc-modified-id=\"Decision-Tree-Classifier-100-деревьев-2.4.4\"><span class=\"toc-item-num\">2.4.4&nbsp;&nbsp;</span>Decision Tree Classifier 100 деревьев</a></span></li><li><span><a href=\"#Decision-Tree-Classifier-300-деревьев\" data-toc-modified-id=\"Decision-Tree-Classifier-300-деревьев-2.4.5\"><span class=\"toc-item-num\">2.4.5&nbsp;&nbsp;</span>Decision Tree Classifier 300 деревьев</a></span></li><li><span><a href=\"#CatBoost\" data-toc-modified-id=\"CatBoost-2.4.6\"><span class=\"toc-item-num\">2.4.6&nbsp;&nbsp;</span>CatBoost</a></span></li></ul></li></ul></li><li><span><a href=\"#Тест\" data-toc-modified-id=\"Тест-3\"><span class=\"toc-item-num\">3&nbsp;&nbsp;</span>Тест</a></span><ul class=\"toc-item\"><li><span><a href=\"#Оценка-производительности-лучшей-модели-на-тестовой-выборке\" data-toc-modified-id=\"Оценка-производительности-лучшей-модели-на-тестовой-выборке-3.1\"><span class=\"toc-item-num\">3.1&nbsp;&nbsp;</span>Оценка производительности лучшей модели на тестовой выборке</a></span></li></ul></li><li><span><a href=\"#Выводы\" data-toc-modified-id=\"Выводы-4\"><span class=\"toc-item-num\">4&nbsp;&nbsp;</span>Выводы</a></span><ul class=\"toc-item\"><li><span><a href=\"#.-Подготовка\" data-toc-modified-id=\".-Подготовка-4.1\"><span class=\"toc-item-num\">4.1&nbsp;&nbsp;</span>. Подготовка</a></span></li><li><span><a href=\"#.-Обучение\" data-toc-modified-id=\".-Обучение-4.2\"><span class=\"toc-item-num\">4.2&nbsp;&nbsp;</span>. Обучение</a></span></li><li><span><a href=\"#.-После-обучения-получены-следующие-результаты:\" data-toc-modified-id=\".-После-обучения-получены-следующие-результаты:-4.3\"><span class=\"toc-item-num\">4.3&nbsp;&nbsp;</span>. После обучения получены следующие результаты:</a></span></li><li><span><a href=\"#.-Вывод:\" data-toc-modified-id=\".-Вывод:-4.4\"><span class=\"toc-item-num\">4.4&nbsp;&nbsp;</span>. Вывод:</a></span></li></ul></li><li><span><a href=\"#Чек-лист-проверки\" data-toc-modified-id=\"Чек-лист-проверки-5\"><span class=\"toc-item-num\">5&nbsp;&nbsp;</span>Чек-лист проверки</a></span></li></ul></div>"
      ]
    },
    {
      "cell_type": "markdown",
      "metadata": {
        "id": "Zvk25h7D9bjv"
      },
      "source": [
        "# Проект для «Викишоп»"
      ]
    },
    {
      "cell_type": "markdown",
      "metadata": {
        "id": "Ll9fhwRV9bjw"
      },
      "source": [
        "# Описание проекта\n",
        "\n",
        "**Интернет-магазин «Викишоп» запускает новый сервис. Теперь пользователи могут редактировать и дополнять описания товаров, как в вики-сообществах. То есть клиенты предлагают свои правки и комментируют изменения других. Магазину нужен инструмент, который будет искать токсичные комментарии и отправлять их на модерацию.**\n",
        "\n",
        "Обучите модель классифицировать комментарии на позитивные и негативные. В вашем распоряжении набор данных с разметкой о токсичности правок.\n",
        "Постройте модель со значением метрики качества F1 не меньше 0.75.\n",
        "\n",
        "# Инструкция для проекта\n",
        "Решить задачу можно как с помощью BERT, так и без этой нейронки. Если хотите попробовать BERT —\n",
        "Выполните проект локально. В тренажере тетрадь Jupyter ограничена 4 ГБ оперативной памяти — для проекта с BERT этого может не хватить.\n",
        "Упомяните BERT в заголовке проекта в первой ячейке:\n",
        "image\n",
        "Выполнить проект без BERT можно локально или в нашем тренажёре.\n",
        "В любом случае алгоритм решения выглядит так:\n",
        "\n",
        "# Загрузите и подготовьте данные.\n",
        "\n",
        "1. Загрузите и подготовьте данные.\n",
        "2. Обучите разные модели. \n",
        "3. Сделайте выводы.\n",
        "\n",
        "**Данные находятся в файле `/datasets/toxic_comments.csv.` Скачать датасет.**\n",
        "\n",
        "**Столбец text в нём содержит текст комментария, а** `toxic` — `целевой признак.`"
      ]
    },
    {
      "cell_type": "markdown",
      "metadata": {
        "id": "VKrS0ds_9bjx"
      },
      "source": [
        "## Подготовка"
      ]
    },
    {
      "cell_type": "code",
      "execution_count": null,
      "metadata": {
        "id": "Ee6rCAst9bjy",
        "outputId": "aa8bdf83-ab4b-4b43-f811-648f7f8ebef1"
      },
      "outputs": [
        {
          "name": "stderr",
          "output_type": "stream",
          "text": [
            "[nltk_data] Downloading package averaged_perceptron_tagger to\n",
            "[nltk_data]     /home/jovyan/nltk_data...\n",
            "[nltk_data]   Package averaged_perceptron_tagger is already up-to-\n",
            "[nltk_data]       date!\n",
            "[nltk_data] Downloading package punkt to /home/jovyan/nltk_data...\n",
            "[nltk_data]   Package punkt is already up-to-date!\n",
            "[nltk_data] Downloading package wordnet to /home/jovyan/nltk_data...\n",
            "[nltk_data]   Package wordnet is already up-to-date!\n"
          ]
        },
        {
          "data": {
            "text/plain": [
              "True"
            ]
          },
          "execution_count": 1,
          "metadata": {},
          "output_type": "execute_result"
        }
      ],
      "source": [
        "import pandas as pd\n",
        "import numpy as np\n",
        "import matplotlib.pyplot as plt\n",
        "import seaborn as sns\n",
        "import re\n",
        "\n",
        "from sklearn.model_selection import train_test_split\n",
        "from sklearn.feature_extraction.text import TfidfVectorizer \n",
        "import time\n",
        "from sklearn.model_selection import GridSearchCV\n",
        "\n",
        "import warnings\n",
        "warnings.filterwarnings('ignore')\n",
        "\n",
        "from sklearn.model_selection import cross_val_score\n",
        "from sklearn.linear_model import LogisticRegression\n",
        "from sklearn.tree import DecisionTreeClassifier\n",
        "from catboost import CatBoostClassifier\n",
        "from sklearn.metrics import f1_score\n",
        "\n",
        "import nltk\n",
        "from nltk import pos_tag\n",
        "from nltk.tokenize import word_tokenize\n",
        "from nltk.stem import WordNetLemmatizer\n",
        "from nltk.corpus import stopwords, wordnet\n",
        "from nltk.stem.wordnet import WordNetLemmatizer\n",
        "nltk.download('averaged_perceptron_tagger')\n",
        "nltk.download('punkt')\n",
        "nltk.download('wordnet')"
      ]
    },
    {
      "cell_type": "code",
      "execution_count": null,
      "metadata": {
        "id": "J8K4h3NB9bj0"
      },
      "outputs": [],
      "source": [
        "data = pd.read_csv('/datasets/toxic_comments.csv')"
      ]
    },
    {
      "cell_type": "code",
      "execution_count": null,
      "metadata": {
        "id": "h5VNyxlc9bj1"
      },
      "outputs": [],
      "source": [
        "def general_info(data):\n",
        "            \n",
        "    print(\"Количество дублирующихся строк в датафрейме: {}\".format(data.duplicated().sum()))\n",
        "    print()\n",
        "\n",
        "    print(\"Общее количество пропущенных значений:\")\n",
        "    display(data.isnull().sum())\n",
        "    print()\n",
        "   \n",
        "    print(\"Общая информация о датафрейме:\")\n",
        "    print()\n",
        "    display(data.info())\n",
        "    print()\n",
        "    \n",
        "    print(\"Первые 5 строк датафрейма:\")\n",
        "    display(data.head())"
      ]
    },
    {
      "cell_type": "code",
      "execution_count": null,
      "metadata": {
        "id": "0CSGXkqK9bj2",
        "outputId": "6214ab75-2fae-4bdd-8ca0-cd4712e6eff1"
      },
      "outputs": [
        {
          "name": "stdout",
          "output_type": "stream",
          "text": [
            "Количество дублирующихся строк в датафрейме: 0\n",
            "\n",
            "Общее количество пропущенных значений:\n"
          ]
        },
        {
          "data": {
            "text/plain": [
              "Unnamed: 0    0\n",
              "text          0\n",
              "toxic         0\n",
              "dtype: int64"
            ]
          },
          "metadata": {},
          "output_type": "display_data"
        },
        {
          "name": "stdout",
          "output_type": "stream",
          "text": [
            "\n",
            "Общая информация о датафрейме:\n",
            "\n",
            "<class 'pandas.core.frame.DataFrame'>\n",
            "RangeIndex: 159292 entries, 0 to 159291\n",
            "Data columns (total 3 columns):\n",
            " #   Column      Non-Null Count   Dtype \n",
            "---  ------      --------------   ----- \n",
            " 0   Unnamed: 0  159292 non-null  int64 \n",
            " 1   text        159292 non-null  object\n",
            " 2   toxic       159292 non-null  int64 \n",
            "dtypes: int64(2), object(1)\n",
            "memory usage: 3.6+ MB\n"
          ]
        },
        {
          "data": {
            "text/plain": [
              "None"
            ]
          },
          "metadata": {},
          "output_type": "display_data"
        },
        {
          "name": "stdout",
          "output_type": "stream",
          "text": [
            "\n",
            "Первые 5 строк датафрейма:\n"
          ]
        },
        {
          "data": {
            "text/html": [
              "<div>\n",
              "<style scoped>\n",
              "    .dataframe tbody tr th:only-of-type {\n",
              "        vertical-align: middle;\n",
              "    }\n",
              "\n",
              "    .dataframe tbody tr th {\n",
              "        vertical-align: top;\n",
              "    }\n",
              "\n",
              "    .dataframe thead th {\n",
              "        text-align: right;\n",
              "    }\n",
              "</style>\n",
              "<table border=\"1\" class=\"dataframe\">\n",
              "  <thead>\n",
              "    <tr style=\"text-align: right;\">\n",
              "      <th></th>\n",
              "      <th>Unnamed: 0</th>\n",
              "      <th>text</th>\n",
              "      <th>toxic</th>\n",
              "    </tr>\n",
              "  </thead>\n",
              "  <tbody>\n",
              "    <tr>\n",
              "      <th>0</th>\n",
              "      <td>0</td>\n",
              "      <td>Explanation\\nWhy the edits made under my usern...</td>\n",
              "      <td>0</td>\n",
              "    </tr>\n",
              "    <tr>\n",
              "      <th>1</th>\n",
              "      <td>1</td>\n",
              "      <td>D'aww! He matches this background colour I'm s...</td>\n",
              "      <td>0</td>\n",
              "    </tr>\n",
              "    <tr>\n",
              "      <th>2</th>\n",
              "      <td>2</td>\n",
              "      <td>Hey man, I'm really not trying to edit war. It...</td>\n",
              "      <td>0</td>\n",
              "    </tr>\n",
              "    <tr>\n",
              "      <th>3</th>\n",
              "      <td>3</td>\n",
              "      <td>\"\\nMore\\nI can't make any real suggestions on ...</td>\n",
              "      <td>0</td>\n",
              "    </tr>\n",
              "    <tr>\n",
              "      <th>4</th>\n",
              "      <td>4</td>\n",
              "      <td>You, sir, are my hero. Any chance you remember...</td>\n",
              "      <td>0</td>\n",
              "    </tr>\n",
              "  </tbody>\n",
              "</table>\n",
              "</div>"
            ],
            "text/plain": [
              "   Unnamed: 0                                               text  toxic\n",
              "0           0  Explanation\\nWhy the edits made under my usern...      0\n",
              "1           1  D'aww! He matches this background colour I'm s...      0\n",
              "2           2  Hey man, I'm really not trying to edit war. It...      0\n",
              "3           3  \"\\nMore\\nI can't make any real suggestions on ...      0\n",
              "4           4  You, sir, are my hero. Any chance you remember...      0"
            ]
          },
          "metadata": {},
          "output_type": "display_data"
        }
      ],
      "source": [
        "general_info(data)"
      ]
    },
    {
      "cell_type": "markdown",
      "metadata": {
        "id": "n_5UMQUC9bj2"
      },
      "source": [
        "Смотрю токсичные коментарии"
      ]
    },
    {
      "cell_type": "code",
      "execution_count": null,
      "metadata": {
        "id": "GO3wQ7q_9bj3",
        "outputId": "e5a0dc79-b9f6-4b50-ca3d-e5b306e4ddaf"
      },
      "outputs": [
        {
          "data": {
            "text/html": [
              "<div>\n",
              "<style scoped>\n",
              "    .dataframe tbody tr th:only-of-type {\n",
              "        vertical-align: middle;\n",
              "    }\n",
              "\n",
              "    .dataframe tbody tr th {\n",
              "        vertical-align: top;\n",
              "    }\n",
              "\n",
              "    .dataframe thead th {\n",
              "        text-align: right;\n",
              "    }\n",
              "</style>\n",
              "<table border=\"1\" class=\"dataframe\">\n",
              "  <thead>\n",
              "    <tr style=\"text-align: right;\">\n",
              "      <th></th>\n",
              "      <th>Unnamed: 0</th>\n",
              "      <th>text</th>\n",
              "      <th>toxic</th>\n",
              "    </tr>\n",
              "  </thead>\n",
              "  <tbody>\n",
              "    <tr>\n",
              "      <th>6</th>\n",
              "      <td>6</td>\n",
              "      <td>COCKSUCKER BEFORE YOU PISS AROUND ON MY WORK</td>\n",
              "      <td>1</td>\n",
              "    </tr>\n",
              "    <tr>\n",
              "      <th>12</th>\n",
              "      <td>12</td>\n",
              "      <td>Hey... what is it..\\n@ | talk .\\nWhat is it......</td>\n",
              "      <td>1</td>\n",
              "    </tr>\n",
              "    <tr>\n",
              "      <th>16</th>\n",
              "      <td>16</td>\n",
              "      <td>Bye! \\n\\nDon't look, come or think of comming ...</td>\n",
              "      <td>1</td>\n",
              "    </tr>\n",
              "    <tr>\n",
              "      <th>42</th>\n",
              "      <td>42</td>\n",
              "      <td>You are gay or antisemmitian? \\n\\nArchangel WH...</td>\n",
              "      <td>1</td>\n",
              "    </tr>\n",
              "    <tr>\n",
              "      <th>43</th>\n",
              "      <td>43</td>\n",
              "      <td>FUCK YOUR FILTHY MOTHER IN THE ASS, DRY!</td>\n",
              "      <td>1</td>\n",
              "    </tr>\n",
              "  </tbody>\n",
              "</table>\n",
              "</div>"
            ],
            "text/plain": [
              "    Unnamed: 0                                               text  toxic\n",
              "6            6       COCKSUCKER BEFORE YOU PISS AROUND ON MY WORK      1\n",
              "12          12  Hey... what is it..\\n@ | talk .\\nWhat is it......      1\n",
              "16          16  Bye! \\n\\nDon't look, come or think of comming ...      1\n",
              "42          42  You are gay or antisemmitian? \\n\\nArchangel WH...      1\n",
              "43          43           FUCK YOUR FILTHY MOTHER IN THE ASS, DRY!      1"
            ]
          },
          "execution_count": 5,
          "metadata": {},
          "output_type": "execute_result"
        }
      ],
      "source": [
        "data.query('toxic == 1').head()"
      ]
    },
    {
      "cell_type": "markdown",
      "metadata": {
        "id": "WUIPtFsW9bj4"
      },
      "source": [
        "### Скопирую в другой столбец"
      ]
    },
    {
      "cell_type": "code",
      "execution_count": null,
      "metadata": {
        "id": "e2CzPrEP9bj4"
      },
      "outputs": [],
      "source": [
        "data['original'] = data['text'].copy()\n",
        "data = data.reindex(columns=['toxic', 'original', 'text'])"
      ]
    },
    {
      "cell_type": "code",
      "execution_count": null,
      "metadata": {
        "id": "5hz4S7t19bj5"
      },
      "outputs": [],
      "source": [
        "stopwords_list = stopwords.words('english')\n",
        "lemmatizer = nltk.stem.WordNetLemmatizer()"
      ]
    },
    {
      "cell_type": "code",
      "execution_count": null,
      "metadata": {
        "id": "edcZKIP_9bj5"
      },
      "outputs": [],
      "source": [
        "def get_wordnet_pos(word):\n",
        "    morphy_tag = {'NN':'n', 'JJ':'a',\n",
        "                  'VB':'v', 'RB':'r'}\n",
        "\n",
        "    try:\n",
        "        return morphy_tag[word[:2]]\n",
        "    except:\n",
        "        return 'n' \n",
        "    \n",
        "#    return tag_dict.get(tag, wordnet.NOUN)"
      ]
    },
    {
      "cell_type": "markdown",
      "metadata": {
        "id": "oz3T-pmx9bj6"
      },
      "source": [
        "### Удаляю символы, числа, привожу к нижнему регистру"
      ]
    },
    {
      "cell_type": "code",
      "execution_count": null,
      "metadata": {
        "id": "pD41Dtvr9bj6"
      },
      "outputs": [],
      "source": [
        "def remove_symbols(text):\n",
        "    return re.sub(r'[\\W\\d]\\s*', ' ', text).lower()"
      ]
    },
    {
      "cell_type": "code",
      "execution_count": null,
      "metadata": {
        "id": "lz2rDdvD9bj9"
      },
      "outputs": [],
      "source": [
        "data.text = data.text.apply(remove_symbols)"
      ]
    },
    {
      "cell_type": "markdown",
      "metadata": {
        "id": "dUUX0xu69bkA"
      },
      "source": [
        "### Разобъю на токены"
      ]
    },
    {
      "cell_type": "code",
      "execution_count": null,
      "metadata": {
        "id": "B1PjqI3Y9bkA"
      },
      "outputs": [],
      "source": [
        "def tokenize(text):\n",
        "    return re.split(' ', text)"
      ]
    },
    {
      "cell_type": "code",
      "execution_count": null,
      "metadata": {
        "id": "BPL_2C289bkB"
      },
      "outputs": [],
      "source": [
        "data.text = data.text.apply(tokenize)"
      ]
    },
    {
      "cell_type": "markdown",
      "metadata": {
        "id": "vRm3oCwX9bkC"
      },
      "source": [
        "### Удаляю пустые строки"
      ]
    },
    {
      "cell_type": "code",
      "execution_count": null,
      "metadata": {
        "id": "ll-p23Ch9bkC"
      },
      "outputs": [],
      "source": [
        "def remove_empty(text):\n",
        "    return [word for word in text if word!='']"
      ]
    },
    {
      "cell_type": "code",
      "execution_count": null,
      "metadata": {
        "id": "ytjIrkAT9bkD"
      },
      "outputs": [],
      "source": [
        "data.text = data.text.apply(remove_empty)"
      ]
    },
    {
      "cell_type": "markdown",
      "metadata": {
        "id": "lofFX6MC9bkE"
      },
      "source": [
        "### Удаляю стоп-слова (слова , несуществующие значения)"
      ]
    },
    {
      "cell_type": "code",
      "execution_count": null,
      "metadata": {
        "id": "_2lFQify9bkE"
      },
      "outputs": [],
      "source": [
        "def remove_stopwords(text):\n",
        "    return [word for word in text if word not in stopwords_list]"
      ]
    },
    {
      "cell_type": "code",
      "execution_count": null,
      "metadata": {
        "id": "lnOoF0_O9bkF"
      },
      "outputs": [],
      "source": [
        "data.text = data.text.apply(remove_stopwords)"
      ]
    },
    {
      "cell_type": "markdown",
      "metadata": {
        "id": "x12H-APO9bkG"
      },
      "source": [
        "### Лемматизация текста"
      ]
    },
    {
      "cell_type": "code",
      "execution_count": null,
      "metadata": {
        "id": "XI-uq8ee9bkG"
      },
      "outputs": [],
      "source": [
        "def lemmatize(tokens):\n",
        "    return [lemmatizer.lemmatize(word.lower(), pos=get_wordnet_pos(tag)) for word, tag in pos_tag(tokens)]"
      ]
    },
    {
      "cell_type": "code",
      "execution_count": null,
      "metadata": {
        "id": "oV73E5e49bkH",
        "outputId": "18fa7cd4-5ece-4b2c-fb9e-98fc869e6312"
      },
      "outputs": [
        {
          "data": {
            "text/plain": [
              "0"
            ]
          },
          "execution_count": 19,
          "metadata": {},
          "output_type": "execute_result"
        }
      ],
      "source": [
        "data.text.isna().sum()"
      ]
    },
    {
      "cell_type": "code",
      "execution_count": null,
      "metadata": {
        "id": "iwIvEOEO9bkI",
        "outputId": "5f874a73-22c5-4b01-9291-c146ffc30170"
      },
      "outputs": [
        {
          "name": "stdout",
          "output_type": "stream",
          "text": [
            "<class 'list'>\n"
          ]
        }
      ],
      "source": [
        "print(type(data.text[0]))"
      ]
    },
    {
      "cell_type": "code",
      "execution_count": null,
      "metadata": {
        "id": "efAnWI5I9bkI"
      },
      "outputs": [],
      "source": [
        "data['lemmatized'] = data['text'].apply(lemmatize)"
      ]
    },
    {
      "cell_type": "code",
      "execution_count": null,
      "metadata": {
        "id": "IcHItHa09bkJ",
        "outputId": "5d6a83c0-6aac-42fd-a1b7-6623cb573f50"
      },
      "outputs": [
        {
          "data": {
            "text/html": [
              "<div>\n",
              "<style scoped>\n",
              "    .dataframe tbody tr th:only-of-type {\n",
              "        vertical-align: middle;\n",
              "    }\n",
              "\n",
              "    .dataframe tbody tr th {\n",
              "        vertical-align: top;\n",
              "    }\n",
              "\n",
              "    .dataframe thead th {\n",
              "        text-align: right;\n",
              "    }\n",
              "</style>\n",
              "<table border=\"1\" class=\"dataframe\">\n",
              "  <thead>\n",
              "    <tr style=\"text-align: right;\">\n",
              "      <th></th>\n",
              "      <th>toxic</th>\n",
              "      <th>original</th>\n",
              "      <th>text</th>\n",
              "      <th>lemmatized</th>\n",
              "    </tr>\n",
              "  </thead>\n",
              "  <tbody>\n",
              "    <tr>\n",
              "      <th>0</th>\n",
              "      <td>0</td>\n",
              "      <td>Explanation\\nWhy the edits made under my usern...</td>\n",
              "      <td>[explanation, edits, made, username, hardcore,...</td>\n",
              "      <td>[explanation, edits, make, username, hardcore,...</td>\n",
              "    </tr>\n",
              "    <tr>\n",
              "      <th>1</th>\n",
              "      <td>0</td>\n",
              "      <td>D'aww! He matches this background colour I'm s...</td>\n",
              "      <td>[aww, matches, background, colour, seemingly, ...</td>\n",
              "      <td>[aww, match, background, colour, seemingly, st...</td>\n",
              "    </tr>\n",
              "    <tr>\n",
              "      <th>2</th>\n",
              "      <td>0</td>\n",
              "      <td>Hey man, I'm really not trying to edit war. It...</td>\n",
              "      <td>[hey, man, really, trying, edit, war, guy, con...</td>\n",
              "      <td>[hey, man, really, try, edit, war, guy, consta...</td>\n",
              "    </tr>\n",
              "    <tr>\n",
              "      <th>3</th>\n",
              "      <td>0</td>\n",
              "      <td>\"\\nMore\\nI can't make any real suggestions on ...</td>\n",
              "      <td>[make, real, suggestions, improvement, wondere...</td>\n",
              "      <td>[make, real, suggestion, improvement, wonder, ...</td>\n",
              "    </tr>\n",
              "    <tr>\n",
              "      <th>4</th>\n",
              "      <td>0</td>\n",
              "      <td>You, sir, are my hero. Any chance you remember...</td>\n",
              "      <td>[sir, hero, chance, remember, page]</td>\n",
              "      <td>[sir, hero, chance, remember, page]</td>\n",
              "    </tr>\n",
              "  </tbody>\n",
              "</table>\n",
              "</div>"
            ],
            "text/plain": [
              "   toxic                                           original  \\\n",
              "0      0  Explanation\\nWhy the edits made under my usern...   \n",
              "1      0  D'aww! He matches this background colour I'm s...   \n",
              "2      0  Hey man, I'm really not trying to edit war. It...   \n",
              "3      0  \"\\nMore\\nI can't make any real suggestions on ...   \n",
              "4      0  You, sir, are my hero. Any chance you remember...   \n",
              "\n",
              "                                                text  \\\n",
              "0  [explanation, edits, made, username, hardcore,...   \n",
              "1  [aww, matches, background, colour, seemingly, ...   \n",
              "2  [hey, man, really, trying, edit, war, guy, con...   \n",
              "3  [make, real, suggestions, improvement, wondere...   \n",
              "4                [sir, hero, chance, remember, page]   \n",
              "\n",
              "                                          lemmatized  \n",
              "0  [explanation, edits, make, username, hardcore,...  \n",
              "1  [aww, match, background, colour, seemingly, st...  \n",
              "2  [hey, man, really, try, edit, war, guy, consta...  \n",
              "3  [make, real, suggestion, improvement, wonder, ...  \n",
              "4                [sir, hero, chance, remember, page]  "
            ]
          },
          "execution_count": 24,
          "metadata": {},
          "output_type": "execute_result"
        }
      ],
      "source": [
        "data.head()"
      ]
    },
    {
      "cell_type": "markdown",
      "metadata": {
        "id": "AFNZT9Ss9bkK"
      },
      "source": [
        "## Обучение"
      ]
    },
    {
      "cell_type": "markdown",
      "metadata": {
        "id": "23GkGq5t9bkL"
      },
      "source": [
        "### Разделяю на обучающую и тестовую"
      ]
    },
    {
      "cell_type": "code",
      "execution_count": null,
      "metadata": {
        "id": "kbolcLrO9bkS"
      },
      "outputs": [],
      "source": [
        "train, test = train_test_split(data, test_size=0.3, random_state=12345)"
      ]
    },
    {
      "cell_type": "markdown",
      "metadata": {
        "id": "ySHhcAS79bkT"
      },
      "source": [
        "TF-IDF"
      ]
    },
    {
      "cell_type": "code",
      "execution_count": null,
      "metadata": {
        "id": "kboPt7lw9bkT"
      },
      "outputs": [],
      "source": [
        "count_tf_idf = TfidfVectorizer()"
      ]
    },
    {
      "cell_type": "markdown",
      "metadata": {
        "id": "ZLlVjVfG9bkU"
      },
      "source": [
        "### Разделяю признаки в выборках"
      ]
    },
    {
      "cell_type": "code",
      "execution_count": null,
      "metadata": {
        "id": "HDF7eYKt9bkV"
      },
      "outputs": [],
      "source": [
        "features_train = train['text'].astype('U')\n",
        "target_train = train['toxic']\n",
        "    \n",
        "features_test = test['text'].astype('U')\n",
        "target_test = test['toxic']"
      ]
    },
    {
      "cell_type": "code",
      "execution_count": null,
      "metadata": {
        "id": "UFNgjN379bkj"
      },
      "outputs": [],
      "source": [
        "features_train = count_tf_idf.fit_transform(features_train)\n",
        "features_test = count_tf_idf.transform(features_test)"
      ]
    },
    {
      "cell_type": "markdown",
      "metadata": {
        "id": "Kvbd5ky39bkk"
      },
      "source": [
        "### Функцици"
      ]
    },
    {
      "cell_type": "markdown",
      "metadata": {
        "id": "zfDVkyXa9bkk"
      },
      "source": [
        "#### функция обучения модели"
      ]
    },
    {
      "cell_type": "code",
      "execution_count": null,
      "metadata": {
        "id": "Ma--Tt-89bkl"
      },
      "outputs": [],
      "source": [
        "models = []"
      ]
    },
    {
      "cell_type": "markdown",
      "metadata": {
        "id": "I3U7Edd79bkl"
      },
      "source": [
        "### Модели"
      ]
    },
    {
      "cell_type": "code",
      "execution_count": null,
      "metadata": {
        "id": "bu2paWEG9bkm"
      },
      "outputs": [],
      "source": [
        "model = LogisticRegression(class_weight='balanced', C=3)\n",
        "\n",
        "start = time.time()\n",
        "score_list = cross_val_score(model, features_train, target_train, cv=5, scoring='f1')\n",
        "end = time.time()\n",
        "fit_time_lr = end-start\n",
        "f1_score_lr = score_list.mean()\n",
        "\n",
        "models.append({'model': model, 'f1_score': f1_score_lr, 'fit_time': fit_time_lr})"
      ]
    },
    {
      "cell_type": "code",
      "execution_count": null,
      "metadata": {
        "id": "WrWsRFOn9bkn",
        "outputId": "167f5f7b-5d75-4b7b-8df2-dc00592d9aeb"
      },
      "outputs": [
        {
          "name": "stdout",
          "output_type": "stream",
          "text": [
            "LogisticRegression\n",
            "Время обучения модели: 234.3902223110199\n",
            "F1-score на валидационной выборке: 0.7607935781783048\n",
            "\n"
          ]
        }
      ],
      "source": [
        "print('LogisticRegression')\n",
        "print('Время обучения модели:', fit_time_lr)\n",
        "print('F1-score на валидационной выборке:', f1_score_lr)\n",
        "print()"
      ]
    },
    {
      "cell_type": "markdown",
      "metadata": {
        "id": "tMDMBXtX9bko"
      },
      "source": [
        "#### Decision Tree Classifier 10 деревьев"
      ]
    },
    {
      "cell_type": "code",
      "execution_count": null,
      "metadata": {
        "id": "8_oj2kLl9bkp"
      },
      "outputs": [],
      "source": [
        "model = DecisionTreeClassifier(random_state=12345, max_depth=10)\n",
        "\n",
        "start = time.time()\n",
        "score_list = cross_val_score(model, features_train, target_train, cv=5, scoring='f1')\n",
        "end = time.time()\n",
        "fit_time_dt = end-start\n",
        "f1_score_dt = score_list.mean()\n",
        "\n",
        "models.append({'model': model, 'f1_score': f1_score_dt, 'fit_time': fit_time_dt})"
      ]
    },
    {
      "cell_type": "code",
      "execution_count": null,
      "metadata": {
        "id": "WENXDh_T9bkp",
        "outputId": "ec4e982e-32a4-40f8-cba2-0c848ef798ed"
      },
      "outputs": [
        {
          "name": "stdout",
          "output_type": "stream",
          "text": [
            "DecisionTreeClassifier\n",
            "Время обучения модели: 53.574182748794556\n",
            "F1-score на валидационной выборке: 0.5802727245348842\n",
            "\n"
          ]
        }
      ],
      "source": [
        "print('DecisionTreeClassifier')\n",
        "print('Время обучения модели:', fit_time_dt)\n",
        "print('F1-score на валидационной выборке:', f1_score_dt)\n",
        "print()"
      ]
    },
    {
      "cell_type": "markdown",
      "metadata": {
        "id": "OTYNy0tK9bkq"
      },
      "source": [
        "#### CatBoost"
      ]
    },
    {
      "cell_type": "code",
      "execution_count": null,
      "metadata": {
        "id": "TE32dp1O9bkr"
      },
      "outputs": [],
      "source": [
        "model = CatBoostClassifier(random_seed=12345, logging_level='Silent', n_estimators=80)\n",
        "\n",
        "start = time.time()\n",
        "score_list = cross_val_score(model, features_train, target_train, cv=5, scoring='f1')\n",
        "end = time.time()\n",
        "fit_time_cb = end-start\n",
        "f1_score_cb = score_list.mean()\n",
        "\n",
        "models.append({'model': model, 'f1_score': f1_score_cb, 'fit_time': fit_time_cb})"
      ]
    },
    {
      "cell_type": "code",
      "execution_count": null,
      "metadata": {
        "id": "qgiYezEm9bkr",
        "outputId": "3f938567-4170-42a8-b1cf-bc58701708c9"
      },
      "outputs": [
        {
          "name": "stdout",
          "output_type": "stream",
          "text": [
            "CatBoostClassifier\n",
            "Время обучения модели: 875.2209339141846\n",
            "F1-score на валидационной выборке: 0.7259859766186729\n",
            "\n"
          ]
        }
      ],
      "source": [
        "print('CatBoostClassifier')\n",
        "print('Время обучения модели:', fit_time_cb)\n",
        "print('F1-score на валидационной выборке:', f1_score_cb)\n",
        "print()"
      ]
    },
    {
      "cell_type": "code",
      "execution_count": null,
      "metadata": {
        "id": "FI5NDX0O9bkx",
        "outputId": "328cf382-dec5-46ff-ad08-a6b97846982a"
      },
      "outputs": [
        {
          "name": "stdout",
          "output_type": "stream",
          "text": [
            "  Model  Время обучения модели:  F1-score:\n",
            "0    LR              234.390222   0.760794\n",
            "1    DT               53.574183   0.580273\n",
            "2    CB              875.220934   0.725986\n"
          ]
        }
      ],
      "source": [
        "results = pd.DataFrame({'Model': ['LR', 'DT', 'CB'],\n",
        "                        'Время обучения модели:': [fit_time_lr, fit_time_dt, fit_time_cb],\n",
        "                        'F1-score:': [f1_score_lr, f1_score_dt, f1_score_cb]})\n",
        "print(results)"
      ]
    },
    {
      "cell_type": "markdown",
      "metadata": {
        "id": "JI0KLKs69bky"
      },
      "source": [
        "#### Decision Tree Classifier 100 деревьев"
      ]
    },
    {
      "cell_type": "code",
      "execution_count": null,
      "metadata": {
        "id": "htrYHhH19bkz"
      },
      "outputs": [],
      "source": [
        "# model = DecisionTreeClassifier(random_state=12345, max_depth=100)\n",
        "# models.append(fit_model(model, features_train, target_train))\n",
        "# model = models[-1]['model']\n",
        "# predictions = predict_values(model, features_test)['predictions']\n",
        "# f_score_d100 = f1_score(target_test, predictions)\n",
        "# fit_time_dt100 = models[-1]['fit_time']\n",
        "# predict_time_dt100 = predict_values(model, features_test)['prediction_time']"
      ]
    },
    {
      "cell_type": "code",
      "execution_count": null,
      "metadata": {
        "id": "jobvVYHo9bkz"
      },
      "outputs": [],
      "source": [
        "# print('Время обучения модели:', fit_time_dt100)\n",
        "# print('Время предсказания:', predict_time_dt100)\n",
        "# print('F1-score:', f_score_d100)"
      ]
    },
    {
      "cell_type": "markdown",
      "metadata": {
        "id": "GiQtJ20K9bk3"
      },
      "source": [
        "* Время обучения модели: 54.596882820129395\n",
        "* Время предсказания: 0.023524999618530273\n",
        "* F1-score: 0.7299855249972164"
      ]
    },
    {
      "cell_type": "markdown",
      "metadata": {
        "id": "HMxSv21K9bk4"
      },
      "source": [
        "#### Decision Tree Classifier 300 деревьев"
      ]
    },
    {
      "cell_type": "code",
      "execution_count": null,
      "metadata": {
        "id": "sqd3917e9bk5"
      },
      "outputs": [],
      "source": [
        "# model = DecisionTreeClassifier(random_state=12345, max_depth=300)\n",
        "# models.append(fit_model(model, features_train, target_train))\n",
        "# model = models[-1]['model']\n",
        "# predictions = predict_values(model, features_test)['predictions']\n",
        "# f_score_dt300 = f1_score(target_test, predictions)\n",
        "# fit_time_dt300 = models[-1]['fit_time']\n",
        "# predict_time_dt300 = predict_values(model, features_test)['prediction_time']"
      ]
    },
    {
      "cell_type": "code",
      "execution_count": null,
      "metadata": {
        "id": "RGOHq5GE9bk6"
      },
      "outputs": [],
      "source": [
        "# print('Время обучения модели:', fit_time_dt300)\n",
        "# print('Время предсказания:', predict_time_dt300)\n",
        "# print('F1-score:', f_score_dt300)"
      ]
    },
    {
      "cell_type": "markdown",
      "metadata": {
        "id": "MXyETFyl9bk7"
      },
      "source": [
        "* Время обучения модели: 144.5338273048401\n",
        "* Время предсказания: 0.04953408241271973\n",
        "* F1-score: 0.7315514854648066"
      ]
    },
    {
      "cell_type": "markdown",
      "metadata": {
        "id": "u14ESNeK9bk8"
      },
      "source": [
        "## Тест"
      ]
    },
    {
      "cell_type": "markdown",
      "metadata": {
        "id": "Rt-Af-d29bk9"
      },
      "source": [
        "### Оценка производительности лучшей модели на тестовой выборке"
      ]
    },
    {
      "cell_type": "code",
      "execution_count": null,
      "metadata": {
        "id": "nuRh_IDz9blC"
      },
      "outputs": [],
      "source": [
        "#C=3\n",
        "model = LogisticRegression(class_weight='balanced', C=3)\n",
        "start = time.time()\n",
        "model.fit(features_train, target_train)\n",
        "end = time.time()\n",
        "\n",
        "predictions = model.predict(features_test)\n",
        "f1_score_ = f1_score(target_test, predictions)"
      ]
    },
    {
      "cell_type": "code",
      "execution_count": null,
      "metadata": {
        "id": "KH3rYXVc9blD",
        "outputId": "ee3fa4c9-4a6d-4b4f-88d8-ee631974e078"
      },
      "outputs": [
        {
          "name": "stdout",
          "output_type": "stream",
          "text": [
            "Лучшая модель: LogisticRegression\n",
            "Время обучения модели: 54.76954889297485 сек.\n",
            "F1-score на тестовой выборке с помощью LogisticRegression: 0.7644212876814291\n"
          ]
        }
      ],
      "source": [
        "print('Лучшая модель:', 'LogisticRegression')\n",
        "print('Время обучения модели:', end - start, 'сек.')\n",
        "print('F1-score на тестовой выборке с помощью LogisticRegression:', f1_score_)"
      ]
    },
    {
      "cell_type": "markdown",
      "metadata": {
        "id": "NHE7uIm29blE"
      },
      "source": [
        "## Выводы"
      ]
    },
    {
      "cell_type": "markdown",
      "metadata": {
        "id": "dbh2r8q-9blF"
      },
      "source": [
        "### . Подготовка\n",
        "\n",
        "* Произведена загрузка данных и их подготовка для обучения моделей.\n",
        "\n",
        "* Представленный датафрейм содержит текстовые комментарии и оценку, является ли комментарий токсичным\n",
        "\n",
        "* Проведена предобработка текста:\n",
        "\n",
        "* Удалены символы и числа\n",
        "* Тексты приведены к нижнему регистру\n",
        "* Применена токенизация\n",
        "* Удалены стоп-слова\n",
        "* Применена лемматизация\n",
        "* Датафрейм разделил на обучающую и тестовую выборки в соотношении , применил векторизацию TF-IDF\n",
        "\n",
        "### . Обучение\n",
        "\n",
        "**Выбраны следующие модели машинного обучения:**\n",
        "\n",
        "* LogisticRegression\n",
        "* DecisionTreeClassifier\n",
        "* CatBoostClassifier\n",
        "\n",
        "### . После обучения получены следующие результаты:\n",
        "\n",
        "\n",
        "1. самая высокая метрика F1:  `LogisticRegression` - при быстром обучении, `F-1 = 0.76079`\n",
        "\n",
        "**за ней следует**\n",
        "\n",
        "\n",
        "2. `CatBoostClassifier` но медленно обучается, `F-1 = 0.725986`\n",
        "\n",
        "\n",
        "3.  `DecisionTreeClassifier` F1 на 10 деревьях, очень медленно обучается. `F-1 = 0.58027`\n",
        "\n",
        "### . Вывод:\n",
        "\n",
        "1. Самая лучшая модель  `LogisticRegression` на тестовой выборке показала - `F1-score: 0.7644`"
      ]
    }
  ],
  "metadata": {
    "ExecuteTimeLog": [
      {
        "duration": 2160,
        "start_time": "2023-05-22T04:40:06.118Z"
      },
      {
        "duration": 124,
        "start_time": "2023-05-22T04:49:30.312Z"
      },
      {
        "duration": 178,
        "start_time": "2023-05-22T04:49:40.780Z"
      },
      {
        "duration": 2578,
        "start_time": "2023-05-22T04:50:11.085Z"
      },
      {
        "duration": 7,
        "start_time": "2023-05-22T04:51:09.510Z"
      },
      {
        "duration": 866,
        "start_time": "2023-05-22T04:51:24.691Z"
      },
      {
        "duration": 4,
        "start_time": "2023-05-22T04:51:26.947Z"
      },
      {
        "duration": 5,
        "start_time": "2023-05-22T04:51:32.717Z"
      },
      {
        "duration": 379,
        "start_time": "2023-05-22T04:51:50.235Z"
      },
      {
        "duration": 4,
        "start_time": "2023-05-22T04:52:32.790Z"
      },
      {
        "duration": 274,
        "start_time": "2023-05-22T04:52:35.513Z"
      },
      {
        "duration": 4,
        "start_time": "2023-05-22T04:52:47.881Z"
      },
      {
        "duration": 263,
        "start_time": "2023-05-22T04:52:49.721Z"
      },
      {
        "duration": 4,
        "start_time": "2023-05-22T04:55:23.674Z"
      },
      {
        "duration": 298,
        "start_time": "2023-05-22T04:55:23.971Z"
      },
      {
        "duration": 6,
        "start_time": "2023-05-22T05:02:50.124Z"
      },
      {
        "duration": 301,
        "start_time": "2023-05-22T05:02:50.675Z"
      },
      {
        "duration": 110,
        "start_time": "2023-05-22T05:03:00.713Z"
      },
      {
        "duration": 307,
        "start_time": "2023-05-22T05:03:00.911Z"
      },
      {
        "duration": 5,
        "start_time": "2023-05-22T05:03:15.244Z"
      },
      {
        "duration": 299,
        "start_time": "2023-05-22T05:03:17.477Z"
      },
      {
        "duration": 4,
        "start_time": "2023-05-22T05:03:24.553Z"
      },
      {
        "duration": 285,
        "start_time": "2023-05-22T05:03:24.750Z"
      },
      {
        "duration": 4,
        "start_time": "2023-05-22T05:03:45.522Z"
      },
      {
        "duration": 296,
        "start_time": "2023-05-22T05:03:45.763Z"
      },
      {
        "duration": 5,
        "start_time": "2023-05-22T05:04:04.382Z"
      },
      {
        "duration": 287,
        "start_time": "2023-05-22T05:04:04.582Z"
      },
      {
        "duration": 6,
        "start_time": "2023-05-22T05:04:25.811Z"
      },
      {
        "duration": 291,
        "start_time": "2023-05-22T05:04:25.987Z"
      },
      {
        "duration": 5,
        "start_time": "2023-05-22T05:05:03.685Z"
      },
      {
        "duration": 268,
        "start_time": "2023-05-22T05:05:04.219Z"
      },
      {
        "duration": 15,
        "start_time": "2023-05-22T05:08:41.423Z"
      },
      {
        "duration": 16,
        "start_time": "2023-05-22T05:09:20.973Z"
      },
      {
        "duration": 26,
        "start_time": "2023-05-22T05:12:48.089Z"
      },
      {
        "duration": 2,
        "start_time": "2023-05-22T05:14:57.696Z"
      },
      {
        "duration": 3315,
        "start_time": "2023-05-22T05:16:13.263Z"
      },
      {
        "duration": 3,
        "start_time": "2023-05-22T05:16:32.735Z"
      },
      {
        "duration": 1933,
        "start_time": "2023-05-22T05:17:03.768Z"
      },
      {
        "duration": 131,
        "start_time": "2023-05-22T05:19:36.584Z"
      },
      {
        "duration": 4,
        "start_time": "2023-05-22T05:20:49.409Z"
      },
      {
        "duration": 1915,
        "start_time": "2023-05-22T05:20:50.082Z"
      },
      {
        "duration": 11,
        "start_time": "2023-05-22T05:24:00.508Z"
      },
      {
        "duration": 11,
        "start_time": "2023-05-22T05:24:01.039Z"
      },
      {
        "duration": 15,
        "start_time": "2023-05-22T05:24:17.514Z"
      },
      {
        "duration": 72,
        "start_time": "2023-05-22T05:26:58.236Z"
      },
      {
        "duration": 1231,
        "start_time": "2023-05-22T05:26:59.011Z"
      },
      {
        "duration": 4,
        "start_time": "2023-05-22T05:27:00.245Z"
      },
      {
        "duration": 323,
        "start_time": "2023-05-22T05:27:00.251Z"
      },
      {
        "duration": 25,
        "start_time": "2023-05-22T05:27:00.576Z"
      },
      {
        "duration": 47,
        "start_time": "2023-05-22T05:27:00.602Z"
      },
      {
        "duration": 3,
        "start_time": "2023-05-22T05:27:00.650Z"
      },
      {
        "duration": 3799,
        "start_time": "2023-05-22T05:27:00.655Z"
      },
      {
        "duration": 3,
        "start_time": "2023-05-22T05:27:04.456Z"
      },
      {
        "duration": 1885,
        "start_time": "2023-05-22T05:27:04.460Z"
      },
      {
        "duration": 15,
        "start_time": "2023-05-22T05:27:06.347Z"
      },
      {
        "duration": 1835,
        "start_time": "2023-05-22T05:27:06.363Z"
      },
      {
        "duration": 4,
        "start_time": "2023-05-22T05:27:08.200Z"
      },
      {
        "duration": 17265,
        "start_time": "2023-05-22T05:27:08.206Z"
      },
      {
        "duration": 4,
        "start_time": "2023-05-22T05:27:55.980Z"
      },
      {
        "duration": 21853,
        "start_time": "2023-05-22T05:28:40.092Z"
      },
      {
        "duration": 931,
        "start_time": "2023-05-22T05:29:14.217Z"
      },
      {
        "duration": 13,
        "start_time": "2023-05-22T05:29:37.426Z"
      },
      {
        "duration": 10,
        "start_time": "2023-05-22T05:29:48.344Z"
      },
      {
        "duration": 17,
        "start_time": "2023-05-22T05:30:03.557Z"
      },
      {
        "duration": 25,
        "start_time": "2023-05-22T05:34:11.326Z"
      },
      {
        "duration": 44,
        "start_time": "2023-05-22T05:36:30.630Z"
      },
      {
        "duration": 3,
        "start_time": "2023-05-22T05:36:32.295Z"
      },
      {
        "duration": 866,
        "start_time": "2023-05-22T05:36:33.394Z"
      },
      {
        "duration": 5728,
        "start_time": "2023-05-22T05:36:55.395Z"
      },
      {
        "duration": 3,
        "start_time": "2023-05-22T05:50:33.505Z"
      },
      {
        "duration": 10,
        "start_time": "2023-05-22T05:50:34.463Z"
      },
      {
        "duration": 1717,
        "start_time": "2023-05-22T05:51:41.904Z"
      },
      {
        "duration": 821,
        "start_time": "2023-05-22T05:51:43.623Z"
      },
      {
        "duration": 4,
        "start_time": "2023-05-22T05:51:44.445Z"
      },
      {
        "duration": 319,
        "start_time": "2023-05-22T05:51:44.451Z"
      },
      {
        "duration": 30,
        "start_time": "2023-05-22T05:51:44.771Z"
      },
      {
        "duration": 35,
        "start_time": "2023-05-22T05:51:44.802Z"
      },
      {
        "duration": 3,
        "start_time": "2023-05-22T05:51:44.838Z"
      },
      {
        "duration": 3780,
        "start_time": "2023-05-22T05:51:44.843Z"
      },
      {
        "duration": 3,
        "start_time": "2023-05-22T05:51:48.625Z"
      },
      {
        "duration": 1989,
        "start_time": "2023-05-22T05:51:48.630Z"
      },
      {
        "duration": 3,
        "start_time": "2023-05-22T05:51:50.621Z"
      },
      {
        "duration": 1980,
        "start_time": "2023-05-22T05:51:50.625Z"
      },
      {
        "duration": 5,
        "start_time": "2023-05-22T05:51:52.607Z"
      },
      {
        "duration": 16988,
        "start_time": "2023-05-22T05:51:52.614Z"
      },
      {
        "duration": 3,
        "start_time": "2023-05-22T05:52:09.604Z"
      },
      {
        "duration": 20107,
        "start_time": "2023-05-22T05:52:09.608Z"
      },
      {
        "duration": 8,
        "start_time": "2023-05-22T05:52:29.717Z"
      },
      {
        "duration": 37,
        "start_time": "2023-05-22T05:52:29.727Z"
      },
      {
        "duration": 3,
        "start_time": "2023-05-22T05:52:29.766Z"
      },
      {
        "duration": 811,
        "start_time": "2023-05-22T05:52:29.770Z"
      },
      {
        "duration": 6159,
        "start_time": "2023-05-22T05:52:30.583Z"
      },
      {
        "duration": 5,
        "start_time": "2023-05-22T05:52:36.745Z"
      },
      {
        "duration": 13,
        "start_time": "2023-05-22T05:52:36.752Z"
      },
      {
        "duration": 14,
        "start_time": "2023-05-22T05:52:36.767Z"
      },
      {
        "duration": 18,
        "start_time": "2023-05-22T05:52:36.783Z"
      },
      {
        "duration": 150,
        "start_time": "2023-05-22T05:52:36.804Z"
      },
      {
        "duration": 0,
        "start_time": "2023-05-22T05:52:36.956Z"
      },
      {
        "duration": 0,
        "start_time": "2023-05-22T05:52:36.958Z"
      },
      {
        "duration": 0,
        "start_time": "2023-05-22T05:52:36.959Z"
      },
      {
        "duration": 0,
        "start_time": "2023-05-22T05:52:36.960Z"
      },
      {
        "duration": 9,
        "start_time": "2023-05-22T06:05:37.003Z"
      },
      {
        "duration": 3,
        "start_time": "2023-05-22T06:05:41.534Z"
      },
      {
        "duration": 14,
        "start_time": "2023-05-22T06:05:42.414Z"
      },
      {
        "duration": 13,
        "start_time": "2023-05-22T06:07:28.633Z"
      },
      {
        "duration": 14,
        "start_time": "2023-05-22T06:07:29.667Z"
      },
      {
        "duration": 1748,
        "start_time": "2023-05-22T06:08:01.838Z"
      },
      {
        "duration": 862,
        "start_time": "2023-05-22T06:08:03.588Z"
      },
      {
        "duration": 4,
        "start_time": "2023-05-22T06:08:04.451Z"
      },
      {
        "duration": 365,
        "start_time": "2023-05-22T06:08:04.456Z"
      },
      {
        "duration": 12,
        "start_time": "2023-05-22T06:08:04.823Z"
      },
      {
        "duration": 35,
        "start_time": "2023-05-22T06:08:04.837Z"
      },
      {
        "duration": 2,
        "start_time": "2023-05-22T06:08:04.874Z"
      },
      {
        "duration": 3896,
        "start_time": "2023-05-22T06:08:04.896Z"
      },
      {
        "duration": 3,
        "start_time": "2023-05-22T06:08:08.794Z"
      },
      {
        "duration": 2124,
        "start_time": "2023-05-22T06:08:08.800Z"
      },
      {
        "duration": 3,
        "start_time": "2023-05-22T06:08:10.926Z"
      },
      {
        "duration": 2017,
        "start_time": "2023-05-22T06:08:10.931Z"
      },
      {
        "duration": 4,
        "start_time": "2023-05-22T06:08:12.950Z"
      },
      {
        "duration": 18347,
        "start_time": "2023-05-22T06:08:12.957Z"
      },
      {
        "duration": 6,
        "start_time": "2023-05-22T06:08:31.307Z"
      },
      {
        "duration": 22844,
        "start_time": "2023-05-22T06:08:31.315Z"
      },
      {
        "duration": 10,
        "start_time": "2023-05-22T06:08:54.161Z"
      },
      {
        "duration": 56,
        "start_time": "2023-05-22T06:08:54.173Z"
      },
      {
        "duration": 3,
        "start_time": "2023-05-22T06:08:54.231Z"
      },
      {
        "duration": 897,
        "start_time": "2023-05-22T06:08:54.236Z"
      },
      {
        "duration": 6307,
        "start_time": "2023-05-22T06:08:55.134Z"
      },
      {
        "duration": 9,
        "start_time": "2023-05-22T06:09:01.443Z"
      },
      {
        "duration": 39,
        "start_time": "2023-05-22T06:09:01.453Z"
      },
      {
        "duration": 50,
        "start_time": "2023-05-22T06:09:01.494Z"
      },
      {
        "duration": 32,
        "start_time": "2023-05-22T06:09:01.546Z"
      },
      {
        "duration": 47,
        "start_time": "2023-05-22T06:09:01.579Z"
      },
      {
        "duration": 226,
        "start_time": "2023-05-22T06:09:01.628Z"
      },
      {
        "duration": 0,
        "start_time": "2023-05-22T06:09:01.855Z"
      },
      {
        "duration": 0,
        "start_time": "2023-05-22T06:09:01.857Z"
      },
      {
        "duration": 0,
        "start_time": "2023-05-22T06:09:01.859Z"
      },
      {
        "duration": 1,
        "start_time": "2023-05-22T06:09:01.860Z"
      },
      {
        "duration": 6,
        "start_time": "2023-05-22T06:17:07.058Z"
      },
      {
        "duration": 4,
        "start_time": "2023-05-22T06:17:13.071Z"
      },
      {
        "duration": 2,
        "start_time": "2023-05-22T06:17:35.040Z"
      },
      {
        "duration": 36868,
        "start_time": "2023-05-22T06:17:35.843Z"
      },
      {
        "duration": 4621,
        "start_time": "2023-05-22T06:18:30.096Z"
      },
      {
        "duration": 0,
        "start_time": "2023-05-22T06:24:34.658Z"
      },
      {
        "duration": 0,
        "start_time": "2023-05-22T06:24:34.659Z"
      },
      {
        "duration": 1622,
        "start_time": "2023-05-22T06:25:21.068Z"
      },
      {
        "duration": 820,
        "start_time": "2023-05-22T06:25:22.692Z"
      },
      {
        "duration": 4,
        "start_time": "2023-05-22T06:25:23.513Z"
      },
      {
        "duration": 297,
        "start_time": "2023-05-22T06:25:23.519Z"
      },
      {
        "duration": 13,
        "start_time": "2023-05-22T06:25:23.818Z"
      },
      {
        "duration": 33,
        "start_time": "2023-05-22T06:25:23.832Z"
      },
      {
        "duration": 3,
        "start_time": "2023-05-22T06:25:23.867Z"
      },
      {
        "duration": 3616,
        "start_time": "2023-05-22T06:25:23.872Z"
      },
      {
        "duration": 4,
        "start_time": "2023-05-22T06:25:27.490Z"
      },
      {
        "duration": 2103,
        "start_time": "2023-05-22T06:25:27.499Z"
      },
      {
        "duration": 3,
        "start_time": "2023-05-22T06:25:29.604Z"
      },
      {
        "duration": 2042,
        "start_time": "2023-05-22T06:25:29.609Z"
      },
      {
        "duration": 5,
        "start_time": "2023-05-22T06:25:31.653Z"
      },
      {
        "duration": 16818,
        "start_time": "2023-05-22T06:25:31.660Z"
      },
      {
        "duration": 3,
        "start_time": "2023-05-22T06:25:48.480Z"
      },
      {
        "duration": 19060,
        "start_time": "2023-05-22T06:25:48.485Z"
      },
      {
        "duration": 8,
        "start_time": "2023-05-22T06:26:07.547Z"
      },
      {
        "duration": 40,
        "start_time": "2023-05-22T06:26:07.557Z"
      },
      {
        "duration": 2,
        "start_time": "2023-05-22T06:26:07.599Z"
      },
      {
        "duration": 800,
        "start_time": "2023-05-22T06:26:07.603Z"
      },
      {
        "duration": 5412,
        "start_time": "2023-05-22T06:26:08.405Z"
      },
      {
        "duration": 3,
        "start_time": "2023-05-22T06:26:13.819Z"
      },
      {
        "duration": 20,
        "start_time": "2023-05-22T06:26:13.823Z"
      },
      {
        "duration": 10,
        "start_time": "2023-05-22T06:26:13.845Z"
      },
      {
        "duration": 10,
        "start_time": "2023-05-22T06:26:13.857Z"
      },
      {
        "duration": 9,
        "start_time": "2023-05-22T06:26:13.869Z"
      },
      {
        "duration": 37631,
        "start_time": "2023-05-22T06:26:13.880Z"
      },
      {
        "duration": 312596,
        "start_time": "2023-05-22T06:26:51.514Z"
      },
      {
        "duration": 0,
        "start_time": "2023-05-22T06:32:04.112Z"
      },
      {
        "duration": 0,
        "start_time": "2023-05-22T06:32:04.113Z"
      },
      {
        "duration": 0,
        "start_time": "2023-05-22T06:32:04.115Z"
      },
      {
        "duration": 27,
        "start_time": "2023-05-22T06:32:40.560Z"
      },
      {
        "duration": 731,
        "start_time": "2023-05-22T06:32:40.941Z"
      },
      {
        "duration": 4,
        "start_time": "2023-05-22T06:32:41.674Z"
      },
      {
        "duration": 271,
        "start_time": "2023-05-22T06:32:42.327Z"
      },
      {
        "duration": 12,
        "start_time": "2023-05-22T06:32:43.295Z"
      },
      {
        "duration": 52,
        "start_time": "2023-05-22T06:32:44.736Z"
      },
      {
        "duration": 4,
        "start_time": "2023-05-22T06:32:45.611Z"
      },
      {
        "duration": 4205,
        "start_time": "2023-05-22T06:32:46.077Z"
      },
      {
        "duration": 4,
        "start_time": "2023-05-22T06:32:50.284Z"
      },
      {
        "duration": 3022,
        "start_time": "2023-05-22T06:32:50.290Z"
      },
      {
        "duration": 5,
        "start_time": "2023-05-22T06:32:53.315Z"
      },
      {
        "duration": 1417,
        "start_time": "2023-05-22T06:32:53.321Z"
      },
      {
        "duration": 4,
        "start_time": "2023-05-22T06:32:54.740Z"
      },
      {
        "duration": 18386,
        "start_time": "2023-05-22T06:32:54.746Z"
      },
      {
        "duration": 3,
        "start_time": "2023-05-22T06:33:13.135Z"
      },
      {
        "duration": 21425,
        "start_time": "2023-05-22T06:33:13.140Z"
      },
      {
        "duration": 12,
        "start_time": "2023-05-22T06:33:34.568Z"
      },
      {
        "duration": 64,
        "start_time": "2023-05-22T06:33:34.582Z"
      },
      {
        "duration": 17,
        "start_time": "2023-05-22T06:33:34.648Z"
      },
      {
        "duration": 1013,
        "start_time": "2023-05-22T06:33:34.667Z"
      },
      {
        "duration": 6599,
        "start_time": "2023-05-22T06:33:35.682Z"
      },
      {
        "duration": 2,
        "start_time": "2023-05-22T06:33:42.283Z"
      },
      {
        "duration": 16,
        "start_time": "2023-05-22T06:33:42.287Z"
      },
      {
        "duration": 13,
        "start_time": "2023-05-22T06:33:42.305Z"
      },
      {
        "duration": 7,
        "start_time": "2023-05-22T06:33:42.320Z"
      },
      {
        "duration": 3,
        "start_time": "2023-05-22T06:34:46.830Z"
      },
      {
        "duration": 0,
        "start_time": "2023-05-22T06:39:35.320Z"
      },
      {
        "duration": 417023,
        "start_time": "2023-05-22T06:39:47.422Z"
      },
      {
        "duration": 632,
        "start_time": "2023-05-22T06:46:48.349Z"
      },
      {
        "duration": 1055,
        "start_time": "2023-05-22T06:46:57.853Z"
      },
      {
        "duration": 2404,
        "start_time": "2023-05-22T06:47:04.246Z"
      },
      {
        "duration": 5886,
        "start_time": "2023-05-22T06:47:13.424Z"
      },
      {
        "duration": 12039,
        "start_time": "2023-05-22T06:47:26.039Z"
      },
      {
        "duration": 20581,
        "start_time": "2023-05-22T06:47:43.644Z"
      },
      {
        "duration": 43614,
        "start_time": "2023-05-22T06:48:12.470Z"
      },
      {
        "duration": 93489,
        "start_time": "2023-05-22T06:49:16.376Z"
      },
      {
        "duration": 46658,
        "start_time": "2023-05-22T06:50:49.867Z"
      },
      {
        "duration": 5834,
        "start_time": "2023-05-22T06:54:27.137Z"
      },
      {
        "duration": 0,
        "start_time": "2023-05-22T06:54:32.973Z"
      },
      {
        "duration": 4336,
        "start_time": "2023-05-22T06:54:44.256Z"
      },
      {
        "duration": 3715,
        "start_time": "2023-05-22T06:55:59.045Z"
      },
      {
        "duration": 1002,
        "start_time": "2023-05-22T06:56:02.762Z"
      },
      {
        "duration": 4,
        "start_time": "2023-05-22T06:56:03.765Z"
      },
      {
        "duration": 328,
        "start_time": "2023-05-22T06:56:03.770Z"
      },
      {
        "duration": 21,
        "start_time": "2023-05-22T06:56:04.101Z"
      },
      {
        "duration": 40,
        "start_time": "2023-05-22T06:56:04.124Z"
      },
      {
        "duration": 3,
        "start_time": "2023-05-22T06:56:04.166Z"
      },
      {
        "duration": 3760,
        "start_time": "2023-05-22T06:56:04.171Z"
      },
      {
        "duration": 2,
        "start_time": "2023-05-22T06:56:07.933Z"
      },
      {
        "duration": 2184,
        "start_time": "2023-05-22T06:56:07.937Z"
      },
      {
        "duration": 4,
        "start_time": "2023-05-22T06:56:10.123Z"
      },
      {
        "duration": 2253,
        "start_time": "2023-05-22T06:56:10.128Z"
      },
      {
        "duration": 11,
        "start_time": "2023-05-22T06:56:12.383Z"
      },
      {
        "duration": 16928,
        "start_time": "2023-05-22T06:56:12.396Z"
      },
      {
        "duration": 3,
        "start_time": "2023-05-22T06:56:29.326Z"
      },
      {
        "duration": 21653,
        "start_time": "2023-05-22T06:56:29.330Z"
      },
      {
        "duration": 12,
        "start_time": "2023-05-22T06:56:50.985Z"
      },
      {
        "duration": 56,
        "start_time": "2023-05-22T06:56:51.000Z"
      },
      {
        "duration": 4,
        "start_time": "2023-05-22T06:56:51.057Z"
      },
      {
        "duration": 1033,
        "start_time": "2023-05-22T06:56:51.062Z"
      },
      {
        "duration": 6255,
        "start_time": "2023-05-22T06:56:52.097Z"
      },
      {
        "duration": 3,
        "start_time": "2023-05-22T06:56:58.353Z"
      },
      {
        "duration": 11,
        "start_time": "2023-05-22T06:56:58.357Z"
      },
      {
        "duration": 32,
        "start_time": "2023-05-22T06:56:58.370Z"
      },
      {
        "duration": 22,
        "start_time": "2023-05-22T06:56:58.404Z"
      },
      {
        "duration": 32,
        "start_time": "2023-05-22T06:56:58.427Z"
      },
      {
        "duration": 46969,
        "start_time": "2023-05-22T06:56:58.461Z"
      },
      {
        "duration": 4886,
        "start_time": "2023-05-22T06:57:45.432Z"
      },
      {
        "duration": 0,
        "start_time": "2023-05-22T06:57:50.320Z"
      },
      {
        "duration": 0,
        "start_time": "2023-05-22T06:57:50.322Z"
      },
      {
        "duration": 0,
        "start_time": "2023-05-22T06:57:50.322Z"
      },
      {
        "duration": 0,
        "start_time": "2023-05-22T06:57:50.324Z"
      },
      {
        "duration": 0,
        "start_time": "2023-05-22T06:57:50.325Z"
      },
      {
        "duration": 4725,
        "start_time": "2023-05-22T06:57:58.099Z"
      },
      {
        "duration": 44359,
        "start_time": "2023-05-22T07:00:54.547Z"
      },
      {
        "duration": 0,
        "start_time": "2023-05-22T07:01:38.909Z"
      },
      {
        "duration": 4,
        "start_time": "2023-05-22T07:01:48.683Z"
      },
      {
        "duration": 2,
        "start_time": "2023-05-22T07:01:49.542Z"
      },
      {
        "duration": 42924,
        "start_time": "2023-05-22T07:01:50.595Z"
      },
      {
        "duration": 48488,
        "start_time": "2023-05-22T07:03:05.752Z"
      },
      {
        "duration": 1823,
        "start_time": "2023-05-22T07:04:03.164Z"
      },
      {
        "duration": 961,
        "start_time": "2023-05-22T07:04:04.989Z"
      },
      {
        "duration": 4,
        "start_time": "2023-05-22T07:04:05.952Z"
      },
      {
        "duration": 359,
        "start_time": "2023-05-22T07:04:05.958Z"
      },
      {
        "duration": 13,
        "start_time": "2023-05-22T07:04:06.318Z"
      },
      {
        "duration": 34,
        "start_time": "2023-05-22T07:04:06.333Z"
      },
      {
        "duration": 34,
        "start_time": "2023-05-22T07:04:06.369Z"
      },
      {
        "duration": 4039,
        "start_time": "2023-05-22T07:04:06.408Z"
      },
      {
        "duration": 3,
        "start_time": "2023-05-22T07:04:10.450Z"
      },
      {
        "duration": 2259,
        "start_time": "2023-05-22T07:04:10.456Z"
      },
      {
        "duration": 2,
        "start_time": "2023-05-22T07:04:12.717Z"
      },
      {
        "duration": 2232,
        "start_time": "2023-05-22T07:04:12.721Z"
      },
      {
        "duration": 6,
        "start_time": "2023-05-22T07:04:14.954Z"
      },
      {
        "duration": 18382,
        "start_time": "2023-05-22T07:04:14.961Z"
      },
      {
        "duration": 4,
        "start_time": "2023-05-22T07:04:33.345Z"
      },
      {
        "duration": 22787,
        "start_time": "2023-05-22T07:04:33.350Z"
      },
      {
        "duration": 9,
        "start_time": "2023-05-22T07:04:56.139Z"
      },
      {
        "duration": 53,
        "start_time": "2023-05-22T07:04:56.149Z"
      },
      {
        "duration": 4,
        "start_time": "2023-05-22T07:04:56.205Z"
      },
      {
        "duration": 939,
        "start_time": "2023-05-22T07:04:56.212Z"
      },
      {
        "duration": 6074,
        "start_time": "2023-05-22T07:04:57.153Z"
      },
      {
        "duration": 5,
        "start_time": "2023-05-22T07:05:03.229Z"
      },
      {
        "duration": 38,
        "start_time": "2023-05-22T07:05:03.236Z"
      },
      {
        "duration": 44454,
        "start_time": "2023-05-22T07:05:03.276Z"
      },
      {
        "duration": 5364,
        "start_time": "2023-05-22T07:05:47.732Z"
      },
      {
        "duration": 0,
        "start_time": "2023-05-22T07:05:53.099Z"
      },
      {
        "duration": 0,
        "start_time": "2023-05-22T07:05:53.101Z"
      },
      {
        "duration": 0,
        "start_time": "2023-05-22T07:05:53.102Z"
      },
      {
        "duration": 0,
        "start_time": "2023-05-22T07:05:53.104Z"
      },
      {
        "duration": 0,
        "start_time": "2023-05-22T07:05:53.105Z"
      },
      {
        "duration": 539,
        "start_time": "2023-05-22T07:06:45.065Z"
      },
      {
        "duration": 542,
        "start_time": "2023-05-22T07:07:14.858Z"
      },
      {
        "duration": 507,
        "start_time": "2023-05-22T07:08:32.408Z"
      },
      {
        "duration": 533,
        "start_time": "2023-05-22T07:09:30.749Z"
      },
      {
        "duration": 484,
        "start_time": "2023-05-22T07:09:35.694Z"
      },
      {
        "duration": 1547,
        "start_time": "2023-05-22T07:12:33.133Z"
      },
      {
        "duration": 794,
        "start_time": "2023-05-22T07:12:34.682Z"
      },
      {
        "duration": 4,
        "start_time": "2023-05-22T07:12:35.477Z"
      },
      {
        "duration": 290,
        "start_time": "2023-05-22T07:12:35.482Z"
      },
      {
        "duration": 24,
        "start_time": "2023-05-22T07:12:35.774Z"
      },
      {
        "duration": 31,
        "start_time": "2023-05-22T07:12:35.799Z"
      },
      {
        "duration": 2,
        "start_time": "2023-05-22T07:12:35.832Z"
      },
      {
        "duration": 3396,
        "start_time": "2023-05-22T07:12:35.836Z"
      },
      {
        "duration": 3,
        "start_time": "2023-05-22T07:12:39.234Z"
      },
      {
        "duration": 1941,
        "start_time": "2023-05-22T07:12:39.240Z"
      },
      {
        "duration": 3,
        "start_time": "2023-05-22T07:12:41.182Z"
      },
      {
        "duration": 1939,
        "start_time": "2023-05-22T07:12:41.186Z"
      },
      {
        "duration": 4,
        "start_time": "2023-05-22T07:12:43.127Z"
      },
      {
        "duration": 16855,
        "start_time": "2023-05-22T07:12:43.134Z"
      },
      {
        "duration": 3,
        "start_time": "2023-05-22T07:12:59.991Z"
      },
      {
        "duration": 19942,
        "start_time": "2023-05-22T07:12:59.995Z"
      },
      {
        "duration": 10,
        "start_time": "2023-05-22T07:13:19.938Z"
      },
      {
        "duration": 50,
        "start_time": "2023-05-22T07:13:19.949Z"
      },
      {
        "duration": 3,
        "start_time": "2023-05-22T07:13:20.001Z"
      },
      {
        "duration": 786,
        "start_time": "2023-05-22T07:13:20.005Z"
      },
      {
        "duration": 5323,
        "start_time": "2023-05-22T07:13:20.792Z"
      },
      {
        "duration": 3,
        "start_time": "2023-05-22T07:13:26.117Z"
      },
      {
        "duration": 15,
        "start_time": "2023-05-22T07:13:26.121Z"
      },
      {
        "duration": 5,
        "start_time": "2023-05-22T07:13:26.137Z"
      },
      {
        "duration": 48212,
        "start_time": "2023-05-22T07:13:26.144Z"
      },
      {
        "duration": 0,
        "start_time": "2023-05-22T07:14:14.358Z"
      },
      {
        "duration": 0,
        "start_time": "2023-05-22T07:14:14.359Z"
      },
      {
        "duration": 0,
        "start_time": "2023-05-22T07:14:14.360Z"
      },
      {
        "duration": 0,
        "start_time": "2023-05-22T07:14:14.362Z"
      },
      {
        "duration": 0,
        "start_time": "2023-05-22T07:14:14.363Z"
      },
      {
        "duration": 0,
        "start_time": "2023-05-22T07:14:14.364Z"
      },
      {
        "duration": 48730,
        "start_time": "2023-05-22T07:15:52.595Z"
      },
      {
        "duration": 0,
        "start_time": "2023-05-22T07:16:41.328Z"
      },
      {
        "duration": 46516,
        "start_time": "2023-05-22T07:16:49.084Z"
      },
      {
        "duration": 0,
        "start_time": "2023-05-22T07:17:35.601Z"
      },
      {
        "duration": 582,
        "start_time": "2023-05-22T07:18:47.271Z"
      },
      {
        "duration": 0,
        "start_time": "2023-05-22T07:18:47.854Z"
      },
      {
        "duration": 12970,
        "start_time": "2023-05-22T07:19:26.514Z"
      },
      {
        "duration": 0,
        "start_time": "2023-05-22T07:19:39.486Z"
      },
      {
        "duration": 52920,
        "start_time": "2023-05-22T07:20:06.284Z"
      },
      {
        "duration": 0,
        "start_time": "2023-05-22T07:20:59.206Z"
      },
      {
        "duration": 39375,
        "start_time": "2023-05-22T07:21:38.144Z"
      },
      {
        "duration": 0,
        "start_time": "2023-05-22T07:22:17.521Z"
      },
      {
        "duration": 5,
        "start_time": "2023-05-22T07:22:26.487Z"
      },
      {
        "duration": 4,
        "start_time": "2023-05-22T07:22:27.726Z"
      },
      {
        "duration": 3,
        "start_time": "2023-05-22T07:22:28.907Z"
      },
      {
        "duration": 36716,
        "start_time": "2023-05-22T07:22:29.991Z"
      },
      {
        "duration": 0,
        "start_time": "2023-05-22T07:23:06.709Z"
      },
      {
        "duration": 1715,
        "start_time": "2023-05-22T07:25:54.261Z"
      },
      {
        "duration": 859,
        "start_time": "2023-05-22T07:25:55.978Z"
      },
      {
        "duration": 4,
        "start_time": "2023-05-22T07:25:56.839Z"
      },
      {
        "duration": 315,
        "start_time": "2023-05-22T07:25:56.844Z"
      },
      {
        "duration": 16,
        "start_time": "2023-05-22T07:25:57.161Z"
      },
      {
        "duration": 51,
        "start_time": "2023-05-22T07:25:57.179Z"
      },
      {
        "duration": 3,
        "start_time": "2023-05-22T07:25:57.232Z"
      },
      {
        "duration": 3563,
        "start_time": "2023-05-22T07:25:57.237Z"
      },
      {
        "duration": 3,
        "start_time": "2023-05-22T07:26:00.802Z"
      },
      {
        "duration": 2228,
        "start_time": "2023-05-22T07:26:00.810Z"
      },
      {
        "duration": 3,
        "start_time": "2023-05-22T07:26:03.039Z"
      },
      {
        "duration": 2116,
        "start_time": "2023-05-22T07:26:03.043Z"
      },
      {
        "duration": 5,
        "start_time": "2023-05-22T07:26:05.161Z"
      },
      {
        "duration": 16543,
        "start_time": "2023-05-22T07:26:05.169Z"
      },
      {
        "duration": 4,
        "start_time": "2023-05-22T07:26:21.714Z"
      },
      {
        "duration": 19312,
        "start_time": "2023-05-22T07:26:21.719Z"
      },
      {
        "duration": 9,
        "start_time": "2023-05-22T07:26:41.033Z"
      },
      {
        "duration": 38,
        "start_time": "2023-05-22T07:26:41.044Z"
      },
      {
        "duration": 14,
        "start_time": "2023-05-22T07:26:41.083Z"
      },
      {
        "duration": 801,
        "start_time": "2023-05-22T07:26:41.098Z"
      },
      {
        "duration": 5411,
        "start_time": "2023-05-22T07:26:41.901Z"
      },
      {
        "duration": 3,
        "start_time": "2023-05-22T07:26:47.313Z"
      },
      {
        "duration": 7,
        "start_time": "2023-05-22T07:26:47.318Z"
      },
      {
        "duration": 13,
        "start_time": "2023-05-22T07:26:47.326Z"
      },
      {
        "duration": 36770,
        "start_time": "2023-05-22T07:26:47.341Z"
      },
      {
        "duration": 4,
        "start_time": "2023-05-22T07:27:24.114Z"
      },
      {
        "duration": 550,
        "start_time": "2023-05-22T07:27:24.120Z"
      },
      {
        "duration": 4,
        "start_time": "2023-05-22T07:27:24.673Z"
      },
      {
        "duration": 47254,
        "start_time": "2023-05-22T07:27:24.679Z"
      },
      {
        "duration": 0,
        "start_time": "2023-05-22T07:28:11.934Z"
      },
      {
        "duration": 0,
        "start_time": "2023-05-22T07:28:11.935Z"
      },
      {
        "duration": 0,
        "start_time": "2023-05-22T07:28:11.937Z"
      },
      {
        "duration": 0,
        "start_time": "2023-05-22T07:28:11.938Z"
      },
      {
        "duration": 52444,
        "start_time": "2023-05-22T07:32:27.616Z"
      },
      {
        "duration": 5,
        "start_time": "2023-05-22T07:33:26.862Z"
      },
      {
        "duration": 54661,
        "start_time": "2023-05-22T07:33:28.457Z"
      },
      {
        "duration": 4,
        "start_time": "2023-05-22T07:34:23.120Z"
      },
      {
        "duration": 144651,
        "start_time": "2023-05-22T07:35:29.974Z"
      },
      {
        "duration": 3,
        "start_time": "2023-05-22T07:37:54.627Z"
      },
      {
        "duration": 39905,
        "start_time": "2023-05-22T07:37:54.632Z"
      },
      {
        "duration": 4,
        "start_time": "2023-05-22T07:38:34.539Z"
      },
      {
        "duration": 60484,
        "start_time": "2023-05-22T07:38:44.665Z"
      },
      {
        "duration": 6,
        "start_time": "2023-05-22T07:39:45.155Z"
      },
      {
        "duration": 209240,
        "start_time": "2023-05-22T07:39:57.599Z"
      },
      {
        "duration": 5,
        "start_time": "2023-05-22T07:43:26.842Z"
      },
      {
        "duration": 3,
        "start_time": "2023-05-22T07:48:24.541Z"
      },
      {
        "duration": 3,
        "start_time": "2023-05-22T07:48:24.854Z"
      },
      {
        "duration": 3,
        "start_time": "2023-05-22T07:48:26.580Z"
      },
      {
        "duration": 2,
        "start_time": "2023-05-22T07:48:26.957Z"
      },
      {
        "duration": 52854,
        "start_time": "2023-05-22T07:48:49.367Z"
      },
      {
        "duration": 4,
        "start_time": "2023-05-22T07:49:42.223Z"
      },
      {
        "duration": 3021,
        "start_time": "2023-05-22T07:50:34.634Z"
      },
      {
        "duration": 1368,
        "start_time": "2023-05-22T07:50:37.657Z"
      },
      {
        "duration": 4,
        "start_time": "2023-05-22T07:50:39.027Z"
      },
      {
        "duration": 365,
        "start_time": "2023-05-22T07:50:39.034Z"
      },
      {
        "duration": 18,
        "start_time": "2023-05-22T07:50:39.401Z"
      },
      {
        "duration": 85,
        "start_time": "2023-05-22T07:50:39.421Z"
      },
      {
        "duration": 3,
        "start_time": "2023-05-22T07:50:39.508Z"
      },
      {
        "duration": 3941,
        "start_time": "2023-05-22T07:50:39.513Z"
      },
      {
        "duration": 3,
        "start_time": "2023-05-22T07:50:43.456Z"
      },
      {
        "duration": 2301,
        "start_time": "2023-05-22T07:50:43.462Z"
      },
      {
        "duration": 2,
        "start_time": "2023-05-22T07:50:45.765Z"
      },
      {
        "duration": 2556,
        "start_time": "2023-05-22T07:50:45.769Z"
      },
      {
        "duration": 5,
        "start_time": "2023-05-22T07:50:48.328Z"
      },
      {
        "duration": 18222,
        "start_time": "2023-05-22T07:50:48.336Z"
      },
      {
        "duration": 5,
        "start_time": "2023-05-22T07:51:06.560Z"
      },
      {
        "duration": 22601,
        "start_time": "2023-05-22T07:51:06.567Z"
      },
      {
        "duration": 9,
        "start_time": "2023-05-22T07:51:29.170Z"
      },
      {
        "duration": 49,
        "start_time": "2023-05-22T07:51:29.181Z"
      },
      {
        "duration": 3,
        "start_time": "2023-05-22T07:51:29.232Z"
      },
      {
        "duration": 925,
        "start_time": "2023-05-22T07:51:29.237Z"
      },
      {
        "duration": 6353,
        "start_time": "2023-05-22T07:51:30.165Z"
      },
      {
        "duration": 4,
        "start_time": "2023-05-22T07:51:36.519Z"
      },
      {
        "duration": 7,
        "start_time": "2023-05-22T07:51:36.525Z"
      },
      {
        "duration": 9,
        "start_time": "2023-05-22T07:51:36.533Z"
      },
      {
        "duration": 50668,
        "start_time": "2023-05-22T07:51:36.544Z"
      },
      {
        "duration": 4,
        "start_time": "2023-05-22T07:52:27.214Z"
      },
      {
        "duration": 5627,
        "start_time": "2023-05-22T07:52:27.220Z"
      },
      {
        "duration": 4,
        "start_time": "2023-05-22T07:52:32.850Z"
      },
      {
        "duration": 9,
        "start_time": "2023-05-22T07:52:32.856Z"
      },
      {
        "duration": 5,
        "start_time": "2023-05-22T07:52:32.867Z"
      },
      {
        "duration": 6,
        "start_time": "2023-05-22T07:52:32.873Z"
      },
      {
        "duration": 16,
        "start_time": "2023-05-22T07:52:32.881Z"
      },
      {
        "duration": 291462,
        "start_time": "2023-05-22T07:52:32.899Z"
      },
      {
        "duration": 5,
        "start_time": "2023-05-22T07:57:24.362Z"
      },
      {
        "duration": 11,
        "start_time": "2023-05-22T07:57:24.368Z"
      },
      {
        "duration": 74,
        "start_time": "2023-05-22T07:57:24.381Z"
      },
      {
        "duration": 2,
        "start_time": "2023-05-22T07:58:36.939Z"
      },
      {
        "duration": 17,
        "start_time": "2023-05-22T07:58:37.230Z"
      },
      {
        "duration": 144,
        "start_time": "2023-05-22T08:06:11.696Z"
      },
      {
        "duration": 8,
        "start_time": "2023-05-22T08:06:29.162Z"
      },
      {
        "duration": 8,
        "start_time": "2023-05-22T08:06:56.154Z"
      },
      {
        "duration": 9,
        "start_time": "2023-05-22T08:07:32.162Z"
      },
      {
        "duration": 7,
        "start_time": "2023-05-22T08:08:12.647Z"
      },
      {
        "duration": 7,
        "start_time": "2023-05-22T08:12:18.512Z"
      },
      {
        "duration": 327,
        "start_time": "2023-05-22T08:17:11.967Z"
      },
      {
        "duration": 1814,
        "start_time": "2023-05-22T08:22:13.963Z"
      },
      {
        "duration": 955,
        "start_time": "2023-05-22T08:22:15.779Z"
      },
      {
        "duration": 6,
        "start_time": "2023-05-22T08:22:16.737Z"
      },
      {
        "duration": 384,
        "start_time": "2023-05-22T08:22:16.747Z"
      },
      {
        "duration": 13,
        "start_time": "2023-05-22T08:22:17.133Z"
      },
      {
        "duration": 66,
        "start_time": "2023-05-22T08:22:17.148Z"
      },
      {
        "duration": 3,
        "start_time": "2023-05-22T08:22:17.216Z"
      },
      {
        "duration": 3978,
        "start_time": "2023-05-22T08:22:17.220Z"
      },
      {
        "duration": 3,
        "start_time": "2023-05-22T08:22:21.200Z"
      },
      {
        "duration": 2358,
        "start_time": "2023-05-22T08:22:21.206Z"
      },
      {
        "duration": 3,
        "start_time": "2023-05-22T08:22:23.566Z"
      },
      {
        "duration": 2257,
        "start_time": "2023-05-22T08:22:23.570Z"
      },
      {
        "duration": 5,
        "start_time": "2023-05-22T08:22:25.829Z"
      },
      {
        "duration": 17149,
        "start_time": "2023-05-22T08:22:25.836Z"
      },
      {
        "duration": 3,
        "start_time": "2023-05-22T08:22:42.987Z"
      },
      {
        "duration": 22599,
        "start_time": "2023-05-22T08:22:42.992Z"
      },
      {
        "duration": 11,
        "start_time": "2023-05-22T08:23:05.593Z"
      },
      {
        "duration": 42,
        "start_time": "2023-05-22T08:23:05.605Z"
      },
      {
        "duration": 3,
        "start_time": "2023-05-22T08:23:05.649Z"
      },
      {
        "duration": 881,
        "start_time": "2023-05-22T08:23:05.653Z"
      },
      {
        "duration": 5897,
        "start_time": "2023-05-22T08:23:06.536Z"
      },
      {
        "duration": 3,
        "start_time": "2023-05-22T08:23:12.435Z"
      },
      {
        "duration": 15,
        "start_time": "2023-05-22T08:23:12.440Z"
      },
      {
        "duration": 9,
        "start_time": "2023-05-22T08:23:12.457Z"
      },
      {
        "duration": 49651,
        "start_time": "2023-05-22T08:23:12.468Z"
      },
      {
        "duration": 4,
        "start_time": "2023-05-22T08:24:02.121Z"
      },
      {
        "duration": 5171,
        "start_time": "2023-05-22T08:24:02.126Z"
      },
      {
        "duration": 4,
        "start_time": "2023-05-22T08:24:07.300Z"
      },
      {
        "duration": 16,
        "start_time": "2023-05-22T08:24:07.306Z"
      },
      {
        "duration": 7,
        "start_time": "2023-05-22T08:24:07.324Z"
      },
      {
        "duration": 8,
        "start_time": "2023-05-22T08:24:07.333Z"
      },
      {
        "duration": 11,
        "start_time": "2023-05-22T08:24:07.343Z"
      },
      {
        "duration": 291434,
        "start_time": "2023-05-22T08:24:07.356Z"
      },
      {
        "duration": 5,
        "start_time": "2023-05-22T08:28:58.792Z"
      },
      {
        "duration": 7,
        "start_time": "2023-05-22T08:28:58.799Z"
      },
      {
        "duration": 10,
        "start_time": "2023-05-22T08:28:58.808Z"
      },
      {
        "duration": 14,
        "start_time": "2023-05-22T08:28:58.821Z"
      },
      {
        "duration": 51,
        "start_time": "2023-05-22T10:38:24.691Z"
      },
      {
        "duration": 2612,
        "start_time": "2023-05-22T10:39:47.344Z"
      },
      {
        "duration": 2372,
        "start_time": "2023-05-22T10:39:49.958Z"
      },
      {
        "duration": 7,
        "start_time": "2023-05-22T10:39:52.332Z"
      },
      {
        "duration": 332,
        "start_time": "2023-05-22T10:39:52.901Z"
      },
      {
        "duration": 18,
        "start_time": "2023-05-22T10:39:54.820Z"
      },
      {
        "duration": 46,
        "start_time": "2023-05-22T10:39:56.626Z"
      },
      {
        "duration": 3,
        "start_time": "2023-05-22T10:39:58.043Z"
      },
      {
        "duration": 3885,
        "start_time": "2023-05-22T10:39:58.799Z"
      },
      {
        "duration": 3,
        "start_time": "2023-05-22T10:40:02.686Z"
      },
      {
        "duration": 2063,
        "start_time": "2023-05-22T10:40:02.691Z"
      },
      {
        "duration": 15,
        "start_time": "2023-05-22T10:40:04.756Z"
      },
      {
        "duration": 1953,
        "start_time": "2023-05-22T10:40:04.773Z"
      },
      {
        "duration": 15,
        "start_time": "2023-05-22T10:40:06.728Z"
      },
      {
        "duration": 17727,
        "start_time": "2023-05-22T10:40:06.745Z"
      },
      {
        "duration": 2,
        "start_time": "2023-05-22T10:40:24.474Z"
      },
      {
        "duration": 8,
        "start_time": "2023-05-22T10:40:24.478Z"
      },
      {
        "duration": 7,
        "start_time": "2023-05-22T10:40:24.488Z"
      },
      {
        "duration": 12,
        "start_time": "2023-05-22T10:40:24.497Z"
      },
      {
        "duration": 450,
        "start_time": "2023-05-22T10:40:24.510Z"
      },
      {
        "duration": 6,
        "start_time": "2023-05-22T10:42:11.011Z"
      },
      {
        "duration": 857,
        "start_time": "2023-05-22T10:42:11.700Z"
      },
      {
        "duration": 5,
        "start_time": "2023-05-22T10:42:12.560Z"
      },
      {
        "duration": 341,
        "start_time": "2023-05-22T10:42:12.567Z"
      },
      {
        "duration": 13,
        "start_time": "2023-05-22T10:42:12.911Z"
      },
      {
        "duration": 42,
        "start_time": "2023-05-22T10:42:12.966Z"
      },
      {
        "duration": 3,
        "start_time": "2023-05-22T10:42:13.251Z"
      },
      {
        "duration": 3985,
        "start_time": "2023-05-22T10:42:13.395Z"
      },
      {
        "duration": 2,
        "start_time": "2023-05-22T10:42:17.382Z"
      },
      {
        "duration": 2824,
        "start_time": "2023-05-22T10:42:17.386Z"
      },
      {
        "duration": 3,
        "start_time": "2023-05-22T10:42:20.212Z"
      },
      {
        "duration": 2021,
        "start_time": "2023-05-22T10:42:20.217Z"
      },
      {
        "duration": 6,
        "start_time": "2023-05-22T10:42:22.240Z"
      },
      {
        "duration": 17734,
        "start_time": "2023-05-22T10:42:22.247Z"
      },
      {
        "duration": 2,
        "start_time": "2023-05-22T10:42:39.983Z"
      },
      {
        "duration": 9,
        "start_time": "2023-05-22T10:42:39.987Z"
      },
      {
        "duration": 5,
        "start_time": "2023-05-22T10:42:39.999Z"
      },
      {
        "duration": 8,
        "start_time": "2023-05-22T10:42:40.006Z"
      },
      {
        "duration": 486,
        "start_time": "2023-05-22T10:42:40.016Z"
      },
      {
        "duration": 283,
        "start_time": "2023-05-22T10:44:05.865Z"
      },
      {
        "duration": 796,
        "start_time": "2023-05-22T10:44:09.324Z"
      },
      {
        "duration": 4,
        "start_time": "2023-05-22T10:44:10.122Z"
      },
      {
        "duration": 294,
        "start_time": "2023-05-22T10:44:10.872Z"
      },
      {
        "duration": 12,
        "start_time": "2023-05-22T10:44:13.742Z"
      },
      {
        "duration": 38,
        "start_time": "2023-05-22T10:44:14.853Z"
      },
      {
        "duration": 2,
        "start_time": "2023-05-22T10:44:15.905Z"
      },
      {
        "duration": 3961,
        "start_time": "2023-05-22T10:44:16.473Z"
      },
      {
        "duration": 3,
        "start_time": "2023-05-22T10:44:20.436Z"
      },
      {
        "duration": 2632,
        "start_time": "2023-05-22T10:44:20.445Z"
      },
      {
        "duration": 3,
        "start_time": "2023-05-22T10:44:23.080Z"
      },
      {
        "duration": 3075,
        "start_time": "2023-05-22T10:44:23.085Z"
      },
      {
        "duration": 4,
        "start_time": "2023-05-22T10:44:26.163Z"
      },
      {
        "duration": 17906,
        "start_time": "2023-05-22T10:44:26.169Z"
      },
      {
        "duration": 3,
        "start_time": "2023-05-22T10:44:44.077Z"
      },
      {
        "duration": 23,
        "start_time": "2023-05-22T10:44:44.081Z"
      },
      {
        "duration": 14,
        "start_time": "2023-05-22T10:44:44.106Z"
      },
      {
        "duration": 4,
        "start_time": "2023-05-22T10:44:49.208Z"
      },
      {
        "duration": 548,
        "start_time": "2023-05-22T10:44:51.742Z"
      },
      {
        "duration": 748,
        "start_time": "2023-05-22T10:46:25.679Z"
      },
      {
        "duration": 799,
        "start_time": "2023-05-22T10:46:26.429Z"
      },
      {
        "duration": 5,
        "start_time": "2023-05-22T10:46:27.230Z"
      },
      {
        "duration": 310,
        "start_time": "2023-05-22T10:46:27.237Z"
      },
      {
        "duration": 12,
        "start_time": "2023-05-22T10:46:27.549Z"
      },
      {
        "duration": 77,
        "start_time": "2023-05-22T10:46:27.563Z"
      },
      {
        "duration": 3,
        "start_time": "2023-05-22T10:46:27.745Z"
      },
      {
        "duration": 4057,
        "start_time": "2023-05-22T10:46:27.974Z"
      },
      {
        "duration": 4,
        "start_time": "2023-05-22T10:46:32.034Z"
      },
      {
        "duration": 2008,
        "start_time": "2023-05-22T10:46:32.051Z"
      },
      {
        "duration": 3,
        "start_time": "2023-05-22T10:46:34.061Z"
      },
      {
        "duration": 2662,
        "start_time": "2023-05-22T10:46:34.066Z"
      },
      {
        "duration": 4,
        "start_time": "2023-05-22T10:46:36.730Z"
      },
      {
        "duration": 18860,
        "start_time": "2023-05-22T10:46:36.736Z"
      },
      {
        "duration": 2,
        "start_time": "2023-05-22T10:46:55.599Z"
      },
      {
        "duration": 19,
        "start_time": "2023-05-22T10:46:55.604Z"
      },
      {
        "duration": 12,
        "start_time": "2023-05-22T10:46:55.625Z"
      },
      {
        "duration": 14,
        "start_time": "2023-05-22T10:46:55.639Z"
      },
      {
        "duration": 448,
        "start_time": "2023-05-22T10:46:55.655Z"
      },
      {
        "duration": 6,
        "start_time": "2023-05-22T10:48:31.769Z"
      },
      {
        "duration": 5,
        "start_time": "2023-05-22T10:48:33.055Z"
      },
      {
        "duration": 106591,
        "start_time": "2023-05-22T10:48:34.120Z"
      },
      {
        "duration": 360,
        "start_time": "2023-05-22T10:51:05.545Z"
      },
      {
        "duration": 5,
        "start_time": "2023-05-22T10:53:50.164Z"
      },
      {
        "duration": 866,
        "start_time": "2023-05-22T10:53:51.683Z"
      },
      {
        "duration": 6,
        "start_time": "2023-05-22T10:53:52.563Z"
      },
      {
        "duration": 308,
        "start_time": "2023-05-22T10:53:55.626Z"
      },
      {
        "duration": 12,
        "start_time": "2023-05-22T10:53:57.487Z"
      },
      {
        "duration": 44,
        "start_time": "2023-05-22T10:54:01.919Z"
      },
      {
        "duration": 3,
        "start_time": "2023-05-22T10:54:03.787Z"
      },
      {
        "duration": 4005,
        "start_time": "2023-05-22T10:54:06.311Z"
      },
      {
        "duration": 3,
        "start_time": "2023-05-22T10:54:10.319Z"
      },
      {
        "duration": 1684,
        "start_time": "2023-05-22T10:54:10.323Z"
      },
      {
        "duration": 3,
        "start_time": "2023-05-22T10:54:12.010Z"
      },
      {
        "duration": 2125,
        "start_time": "2023-05-22T10:54:14.215Z"
      },
      {
        "duration": 4,
        "start_time": "2023-05-22T10:54:16.345Z"
      },
      {
        "duration": 17535,
        "start_time": "2023-05-22T10:54:16.351Z"
      },
      {
        "duration": 4,
        "start_time": "2023-05-22T10:56:51.936Z"
      },
      {
        "duration": 4,
        "start_time": "2023-05-22T10:56:53.516Z"
      },
      {
        "duration": 19828,
        "start_time": "2023-05-22T10:56:57.585Z"
      },
      {
        "duration": 9,
        "start_time": "2023-05-22T10:57:17.415Z"
      },
      {
        "duration": 3,
        "start_time": "2023-05-22T10:59:31.901Z"
      },
      {
        "duration": 399362,
        "start_time": "2023-05-22T10:59:33.107Z"
      },
      {
        "duration": 0,
        "start_time": "2023-05-22T11:06:12.471Z"
      },
      {
        "duration": 1725,
        "start_time": "2023-05-22T11:06:27.897Z"
      },
      {
        "duration": 817,
        "start_time": "2023-05-22T11:06:29.624Z"
      },
      {
        "duration": 4,
        "start_time": "2023-05-22T11:06:30.442Z"
      },
      {
        "duration": 364,
        "start_time": "2023-05-22T11:06:30.448Z"
      },
      {
        "duration": 34,
        "start_time": "2023-05-22T11:06:30.813Z"
      },
      {
        "duration": 48,
        "start_time": "2023-05-22T11:06:30.849Z"
      },
      {
        "duration": 42,
        "start_time": "2023-05-22T11:06:30.899Z"
      },
      {
        "duration": 3785,
        "start_time": "2023-05-22T11:06:30.942Z"
      },
      {
        "duration": 4,
        "start_time": "2023-05-22T11:06:34.729Z"
      },
      {
        "duration": 2085,
        "start_time": "2023-05-22T11:06:34.745Z"
      },
      {
        "duration": 4,
        "start_time": "2023-05-22T11:06:36.832Z"
      },
      {
        "duration": 1982,
        "start_time": "2023-05-22T11:06:36.837Z"
      },
      {
        "duration": 6,
        "start_time": "2023-05-22T11:06:38.826Z"
      },
      {
        "duration": 17012,
        "start_time": "2023-05-22T11:06:38.834Z"
      },
      {
        "duration": 3,
        "start_time": "2023-05-22T11:06:55.848Z"
      },
      {
        "duration": 18,
        "start_time": "2023-05-22T11:06:55.853Z"
      },
      {
        "duration": 527,
        "start_time": "2023-05-22T11:06:55.873Z"
      },
      {
        "duration": 0,
        "start_time": "2023-05-22T11:06:56.402Z"
      },
      {
        "duration": 0,
        "start_time": "2023-05-22T11:06:56.403Z"
      },
      {
        "duration": 0,
        "start_time": "2023-05-22T11:06:56.405Z"
      },
      {
        "duration": 0,
        "start_time": "2023-05-22T11:06:56.406Z"
      },
      {
        "duration": 0,
        "start_time": "2023-05-22T11:06:56.407Z"
      },
      {
        "duration": 0,
        "start_time": "2023-05-22T11:06:56.408Z"
      },
      {
        "duration": 0,
        "start_time": "2023-05-22T11:06:56.409Z"
      },
      {
        "duration": 0,
        "start_time": "2023-05-22T11:06:56.410Z"
      },
      {
        "duration": 0,
        "start_time": "2023-05-22T11:06:56.412Z"
      },
      {
        "duration": 0,
        "start_time": "2023-05-22T11:06:56.413Z"
      },
      {
        "duration": 0,
        "start_time": "2023-05-22T11:06:56.414Z"
      },
      {
        "duration": 0,
        "start_time": "2023-05-22T11:06:56.415Z"
      },
      {
        "duration": 0,
        "start_time": "2023-05-22T11:06:56.416Z"
      },
      {
        "duration": 0,
        "start_time": "2023-05-22T11:06:56.417Z"
      },
      {
        "duration": 0,
        "start_time": "2023-05-22T11:06:56.418Z"
      },
      {
        "duration": 0,
        "start_time": "2023-05-22T11:06:56.419Z"
      },
      {
        "duration": 0,
        "start_time": "2023-05-22T11:06:56.420Z"
      },
      {
        "duration": 0,
        "start_time": "2023-05-22T11:06:56.421Z"
      },
      {
        "duration": 0,
        "start_time": "2023-05-22T11:06:56.422Z"
      },
      {
        "duration": 2049,
        "start_time": "2023-05-22T11:08:01.420Z"
      },
      {
        "duration": 757,
        "start_time": "2023-05-22T11:08:03.471Z"
      },
      {
        "duration": 3,
        "start_time": "2023-05-22T11:08:04.230Z"
      },
      {
        "duration": 287,
        "start_time": "2023-05-22T11:08:04.245Z"
      },
      {
        "duration": 24,
        "start_time": "2023-05-22T11:08:04.533Z"
      },
      {
        "duration": 33,
        "start_time": "2023-05-22T11:08:04.559Z"
      },
      {
        "duration": 3,
        "start_time": "2023-05-22T11:08:04.593Z"
      },
      {
        "duration": 3774,
        "start_time": "2023-05-22T11:08:04.598Z"
      },
      {
        "duration": 3,
        "start_time": "2023-05-22T11:08:08.374Z"
      },
      {
        "duration": 2059,
        "start_time": "2023-05-22T11:08:08.380Z"
      },
      {
        "duration": 2,
        "start_time": "2023-05-22T11:08:10.441Z"
      },
      {
        "duration": 1950,
        "start_time": "2023-05-22T11:08:10.446Z"
      },
      {
        "duration": 8,
        "start_time": "2023-05-22T11:08:12.398Z"
      },
      {
        "duration": 17102,
        "start_time": "2023-05-22T11:08:12.408Z"
      },
      {
        "duration": 3,
        "start_time": "2023-05-22T11:08:29.512Z"
      },
      {
        "duration": 14,
        "start_time": "2023-05-22T11:08:29.517Z"
      },
      {
        "duration": 1188,
        "start_time": "2023-05-22T11:08:29.532Z"
      },
      {
        "duration": 0,
        "start_time": "2023-05-22T11:08:30.722Z"
      },
      {
        "duration": 0,
        "start_time": "2023-05-22T11:08:30.724Z"
      },
      {
        "duration": 0,
        "start_time": "2023-05-22T11:08:30.725Z"
      },
      {
        "duration": 0,
        "start_time": "2023-05-22T11:08:30.726Z"
      },
      {
        "duration": 0,
        "start_time": "2023-05-22T11:08:30.727Z"
      },
      {
        "duration": 0,
        "start_time": "2023-05-22T11:08:30.728Z"
      },
      {
        "duration": 0,
        "start_time": "2023-05-22T11:08:30.730Z"
      },
      {
        "duration": 0,
        "start_time": "2023-05-22T11:08:30.731Z"
      },
      {
        "duration": 0,
        "start_time": "2023-05-22T11:08:30.732Z"
      },
      {
        "duration": 0,
        "start_time": "2023-05-22T11:08:30.733Z"
      },
      {
        "duration": 0,
        "start_time": "2023-05-22T11:08:30.735Z"
      },
      {
        "duration": 0,
        "start_time": "2023-05-22T11:08:30.736Z"
      },
      {
        "duration": 0,
        "start_time": "2023-05-22T11:08:30.738Z"
      },
      {
        "duration": 0,
        "start_time": "2023-05-22T11:08:30.739Z"
      },
      {
        "duration": 0,
        "start_time": "2023-05-22T11:08:30.740Z"
      },
      {
        "duration": 0,
        "start_time": "2023-05-22T11:08:30.741Z"
      },
      {
        "duration": 0,
        "start_time": "2023-05-22T11:08:30.742Z"
      },
      {
        "duration": 0,
        "start_time": "2023-05-22T11:08:30.743Z"
      },
      {
        "duration": 0,
        "start_time": "2023-05-22T11:08:30.744Z"
      },
      {
        "duration": 2074,
        "start_time": "2023-05-22T11:12:27.322Z"
      },
      {
        "duration": 833,
        "start_time": "2023-05-22T11:12:29.398Z"
      },
      {
        "duration": 4,
        "start_time": "2023-05-22T11:12:30.233Z"
      },
      {
        "duration": 412,
        "start_time": "2023-05-22T11:12:30.246Z"
      },
      {
        "duration": 13,
        "start_time": "2023-05-22T11:12:30.660Z"
      },
      {
        "duration": 72,
        "start_time": "2023-05-22T11:12:30.675Z"
      },
      {
        "duration": 25,
        "start_time": "2023-05-22T11:12:30.749Z"
      },
      {
        "duration": 3867,
        "start_time": "2023-05-22T11:12:30.776Z"
      },
      {
        "duration": 3,
        "start_time": "2023-05-22T11:12:34.646Z"
      },
      {
        "duration": 2042,
        "start_time": "2023-05-22T11:12:34.651Z"
      },
      {
        "duration": 3,
        "start_time": "2023-05-22T11:12:36.696Z"
      },
      {
        "duration": 1946,
        "start_time": "2023-05-22T11:12:36.700Z"
      },
      {
        "duration": 4,
        "start_time": "2023-05-22T11:12:38.648Z"
      },
      {
        "duration": 17153,
        "start_time": "2023-05-22T11:12:38.654Z"
      },
      {
        "duration": 4,
        "start_time": "2023-05-22T11:12:55.809Z"
      },
      {
        "duration": 34,
        "start_time": "2023-05-22T11:12:55.815Z"
      },
      {
        "duration": 380428,
        "start_time": "2023-05-22T11:12:55.851Z"
      },
      {
        "duration": 0,
        "start_time": "2023-05-22T11:19:16.281Z"
      },
      {
        "duration": 0,
        "start_time": "2023-05-22T11:19:16.282Z"
      },
      {
        "duration": 0,
        "start_time": "2023-05-22T11:19:16.283Z"
      },
      {
        "duration": 0,
        "start_time": "2023-05-22T11:19:16.284Z"
      },
      {
        "duration": 0,
        "start_time": "2023-05-22T11:19:16.285Z"
      },
      {
        "duration": 0,
        "start_time": "2023-05-22T11:19:16.285Z"
      },
      {
        "duration": 0,
        "start_time": "2023-05-22T11:19:16.286Z"
      },
      {
        "duration": 0,
        "start_time": "2023-05-22T11:19:16.287Z"
      },
      {
        "duration": 0,
        "start_time": "2023-05-22T11:19:16.288Z"
      },
      {
        "duration": 0,
        "start_time": "2023-05-22T11:19:16.289Z"
      },
      {
        "duration": 0,
        "start_time": "2023-05-22T11:19:16.291Z"
      },
      {
        "duration": 0,
        "start_time": "2023-05-22T11:19:16.292Z"
      },
      {
        "duration": 0,
        "start_time": "2023-05-22T11:19:16.293Z"
      },
      {
        "duration": 0,
        "start_time": "2023-05-22T11:19:16.294Z"
      },
      {
        "duration": 0,
        "start_time": "2023-05-22T11:19:16.295Z"
      },
      {
        "duration": 0,
        "start_time": "2023-05-22T11:19:16.296Z"
      },
      {
        "duration": 0,
        "start_time": "2023-05-22T11:19:16.297Z"
      },
      {
        "duration": 0,
        "start_time": "2023-05-22T11:19:16.298Z"
      },
      {
        "duration": 0,
        "start_time": "2023-05-22T11:19:16.299Z"
      },
      {
        "duration": 1891,
        "start_time": "2023-05-22T11:19:22.768Z"
      },
      {
        "duration": 839,
        "start_time": "2023-05-22T11:19:24.661Z"
      },
      {
        "duration": 4,
        "start_time": "2023-05-22T11:19:25.502Z"
      },
      {
        "duration": 312,
        "start_time": "2023-05-22T11:19:25.508Z"
      },
      {
        "duration": 29,
        "start_time": "2023-05-22T11:19:25.821Z"
      },
      {
        "duration": 40,
        "start_time": "2023-05-22T11:19:25.852Z"
      },
      {
        "duration": 5,
        "start_time": "2023-05-22T11:19:25.893Z"
      },
      {
        "duration": 15,
        "start_time": "2023-05-22T11:19:25.900Z"
      },
      {
        "duration": 11,
        "start_time": "2023-05-22T11:19:25.916Z"
      },
      {
        "duration": 3757,
        "start_time": "2023-05-22T11:19:25.930Z"
      },
      {
        "duration": 3,
        "start_time": "2023-05-22T11:19:29.689Z"
      },
      {
        "duration": 2078,
        "start_time": "2023-05-22T11:19:29.693Z"
      },
      {
        "duration": 3,
        "start_time": "2023-05-22T11:19:31.773Z"
      },
      {
        "duration": 2060,
        "start_time": "2023-05-22T11:19:31.778Z"
      },
      {
        "duration": 3,
        "start_time": "2023-05-22T11:19:33.840Z"
      },
      {
        "duration": 16897,
        "start_time": "2023-05-22T11:19:33.851Z"
      },
      {
        "duration": 3,
        "start_time": "2023-05-22T11:19:50.750Z"
      },
      {
        "duration": 458268,
        "start_time": "2023-05-22T11:19:50.754Z"
      },
      {
        "duration": 0,
        "start_time": "2023-05-22T11:27:29.024Z"
      },
      {
        "duration": 0,
        "start_time": "2023-05-22T11:27:29.026Z"
      },
      {
        "duration": 0,
        "start_time": "2023-05-22T11:27:29.027Z"
      },
      {
        "duration": 0,
        "start_time": "2023-05-22T11:27:29.028Z"
      },
      {
        "duration": 0,
        "start_time": "2023-05-22T11:27:29.030Z"
      },
      {
        "duration": 0,
        "start_time": "2023-05-22T11:27:29.031Z"
      },
      {
        "duration": 0,
        "start_time": "2023-05-22T11:27:29.032Z"
      },
      {
        "duration": 0,
        "start_time": "2023-05-22T11:27:29.033Z"
      },
      {
        "duration": 0,
        "start_time": "2023-05-22T11:27:29.034Z"
      },
      {
        "duration": 0,
        "start_time": "2023-05-22T11:27:29.035Z"
      },
      {
        "duration": 0,
        "start_time": "2023-05-22T11:27:29.037Z"
      },
      {
        "duration": 0,
        "start_time": "2023-05-22T11:27:29.038Z"
      },
      {
        "duration": 0,
        "start_time": "2023-05-22T11:27:29.039Z"
      },
      {
        "duration": 0,
        "start_time": "2023-05-22T11:27:29.040Z"
      },
      {
        "duration": 0,
        "start_time": "2023-05-22T11:27:29.041Z"
      },
      {
        "duration": 0,
        "start_time": "2023-05-22T11:27:29.042Z"
      },
      {
        "duration": 0,
        "start_time": "2023-05-22T11:27:29.043Z"
      },
      {
        "duration": 0,
        "start_time": "2023-05-22T11:27:29.044Z"
      },
      {
        "duration": 0,
        "start_time": "2023-05-22T11:27:29.046Z"
      },
      {
        "duration": 1790,
        "start_time": "2023-05-22T11:27:36.484Z"
      },
      {
        "duration": 852,
        "start_time": "2023-05-22T11:27:38.276Z"
      },
      {
        "duration": 4,
        "start_time": "2023-05-22T11:27:39.130Z"
      },
      {
        "duration": 614,
        "start_time": "2023-05-22T11:27:39.145Z"
      },
      {
        "duration": 14,
        "start_time": "2023-05-22T11:27:39.761Z"
      },
      {
        "duration": 113,
        "start_time": "2023-05-22T11:27:39.777Z"
      },
      {
        "duration": 55,
        "start_time": "2023-05-22T11:27:39.892Z"
      },
      {
        "duration": 9,
        "start_time": "2023-05-22T11:27:39.949Z"
      },
      {
        "duration": 38,
        "start_time": "2023-05-22T11:27:39.960Z"
      },
      {
        "duration": 4441,
        "start_time": "2023-05-22T11:27:40.002Z"
      },
      {
        "duration": 3,
        "start_time": "2023-05-22T11:27:44.446Z"
      },
      {
        "duration": 2078,
        "start_time": "2023-05-22T11:27:44.450Z"
      },
      {
        "duration": 3,
        "start_time": "2023-05-22T11:27:46.530Z"
      },
      {
        "duration": 1984,
        "start_time": "2023-05-22T11:27:46.535Z"
      },
      {
        "duration": 3,
        "start_time": "2023-05-22T11:27:48.521Z"
      },
      {
        "duration": 16514,
        "start_time": "2023-05-22T11:27:48.526Z"
      },
      {
        "duration": 4,
        "start_time": "2023-05-22T11:28:05.042Z"
      },
      {
        "duration": 556571,
        "start_time": "2023-05-22T11:28:05.048Z"
      },
      {
        "duration": 0,
        "start_time": "2023-05-22T11:37:21.622Z"
      },
      {
        "duration": 0,
        "start_time": "2023-05-22T11:37:21.623Z"
      },
      {
        "duration": 0,
        "start_time": "2023-05-22T11:37:21.624Z"
      },
      {
        "duration": 0,
        "start_time": "2023-05-22T11:37:21.626Z"
      },
      {
        "duration": 0,
        "start_time": "2023-05-22T11:37:21.627Z"
      },
      {
        "duration": 0,
        "start_time": "2023-05-22T11:37:21.628Z"
      },
      {
        "duration": 0,
        "start_time": "2023-05-22T11:37:21.629Z"
      },
      {
        "duration": 0,
        "start_time": "2023-05-22T11:37:21.630Z"
      },
      {
        "duration": 0,
        "start_time": "2023-05-22T11:37:21.632Z"
      },
      {
        "duration": 0,
        "start_time": "2023-05-22T11:37:21.633Z"
      },
      {
        "duration": 0,
        "start_time": "2023-05-22T11:37:21.634Z"
      },
      {
        "duration": 0,
        "start_time": "2023-05-22T11:37:21.635Z"
      },
      {
        "duration": 0,
        "start_time": "2023-05-22T11:37:21.636Z"
      },
      {
        "duration": 0,
        "start_time": "2023-05-22T11:37:21.638Z"
      },
      {
        "duration": 0,
        "start_time": "2023-05-22T11:37:21.639Z"
      },
      {
        "duration": 0,
        "start_time": "2023-05-22T11:37:21.641Z"
      },
      {
        "duration": 0,
        "start_time": "2023-05-22T11:37:21.643Z"
      },
      {
        "duration": 0,
        "start_time": "2023-05-22T11:37:21.644Z"
      },
      {
        "duration": 0,
        "start_time": "2023-05-22T11:37:21.645Z"
      },
      {
        "duration": 1810,
        "start_time": "2023-05-22T11:37:39.774Z"
      },
      {
        "duration": 886,
        "start_time": "2023-05-22T11:37:41.586Z"
      },
      {
        "duration": 6,
        "start_time": "2023-05-22T11:37:42.474Z"
      },
      {
        "duration": 403,
        "start_time": "2023-05-22T11:37:42.482Z"
      },
      {
        "duration": 19,
        "start_time": "2023-05-22T11:37:42.887Z"
      },
      {
        "duration": 80,
        "start_time": "2023-05-22T11:37:42.908Z"
      },
      {
        "duration": 6,
        "start_time": "2023-05-22T11:37:42.990Z"
      },
      {
        "duration": 22,
        "start_time": "2023-05-22T11:37:42.997Z"
      },
      {
        "duration": 8,
        "start_time": "2023-05-22T11:37:43.021Z"
      },
      {
        "duration": 3925,
        "start_time": "2023-05-22T11:37:43.031Z"
      },
      {
        "duration": 4,
        "start_time": "2023-05-22T11:37:46.958Z"
      },
      {
        "duration": 2211,
        "start_time": "2023-05-22T11:37:46.964Z"
      },
      {
        "duration": 3,
        "start_time": "2023-05-22T11:37:49.177Z"
      },
      {
        "duration": 2054,
        "start_time": "2023-05-22T11:37:49.181Z"
      },
      {
        "duration": 3,
        "start_time": "2023-05-22T11:37:51.237Z"
      },
      {
        "duration": 18348,
        "start_time": "2023-05-22T11:37:51.247Z"
      },
      {
        "duration": 3,
        "start_time": "2023-05-22T11:38:09.597Z"
      },
      {
        "duration": 747468,
        "start_time": "2023-05-22T11:38:09.602Z"
      },
      {
        "duration": 10,
        "start_time": "2023-05-22T11:50:37.073Z"
      },
      {
        "duration": 40,
        "start_time": "2023-05-22T11:50:37.085Z"
      },
      {
        "duration": 3,
        "start_time": "2023-05-22T11:50:37.127Z"
      },
      {
        "duration": 928,
        "start_time": "2023-05-22T11:50:37.151Z"
      },
      {
        "duration": 6311,
        "start_time": "2023-05-22T11:50:38.081Z"
      },
      {
        "duration": 3,
        "start_time": "2023-05-22T11:50:44.394Z"
      },
      {
        "duration": 17,
        "start_time": "2023-05-22T11:50:44.399Z"
      },
      {
        "duration": 11,
        "start_time": "2023-05-22T11:50:44.418Z"
      },
      {
        "duration": 47028,
        "start_time": "2023-05-22T11:50:44.431Z"
      },
      {
        "duration": 3,
        "start_time": "2023-05-22T11:51:31.463Z"
      },
      {
        "duration": 5532,
        "start_time": "2023-05-22T11:51:31.468Z"
      },
      {
        "duration": 4,
        "start_time": "2023-05-22T11:51:37.002Z"
      },
      {
        "duration": 72,
        "start_time": "2023-05-22T11:51:37.008Z"
      },
      {
        "duration": 22,
        "start_time": "2023-05-22T11:51:37.082Z"
      },
      {
        "duration": 13,
        "start_time": "2023-05-22T11:51:37.106Z"
      },
      {
        "duration": 11,
        "start_time": "2023-05-22T11:51:37.121Z"
      },
      {
        "duration": 276006,
        "start_time": "2023-05-22T11:51:37.134Z"
      },
      {
        "duration": 18,
        "start_time": "2023-05-22T11:56:13.142Z"
      },
      {
        "duration": 17,
        "start_time": "2023-05-22T11:56:13.162Z"
      },
      {
        "duration": 152,
        "start_time": "2023-05-22T11:59:17.833Z"
      },
      {
        "duration": 3,
        "start_time": "2023-05-22T11:59:40.711Z"
      },
      {
        "duration": 225879,
        "start_time": "2023-05-22T11:59:41.291Z"
      },
      {
        "duration": 5,
        "start_time": "2023-05-22T12:03:27.173Z"
      },
      {
        "duration": 55670,
        "start_time": "2023-05-22T12:06:42.089Z"
      },
      {
        "duration": 5,
        "start_time": "2023-05-22T12:07:37.761Z"
      },
      {
        "duration": 1069515,
        "start_time": "2023-05-22T12:07:37.768Z"
      },
      {
        "duration": 1,
        "start_time": "2023-05-22T12:25:27.286Z"
      },
      {
        "duration": 0,
        "start_time": "2023-05-22T12:25:27.290Z"
      },
      {
        "duration": 0,
        "start_time": "2023-05-22T12:25:27.291Z"
      },
      {
        "duration": 0,
        "start_time": "2023-05-22T12:25:27.293Z"
      },
      {
        "duration": 0,
        "start_time": "2023-05-22T12:25:27.295Z"
      },
      {
        "duration": 0,
        "start_time": "2023-05-22T12:25:27.296Z"
      },
      {
        "duration": 0,
        "start_time": "2023-05-22T12:25:27.298Z"
      },
      {
        "duration": 0,
        "start_time": "2023-05-22T12:25:27.299Z"
      },
      {
        "duration": 0,
        "start_time": "2023-05-22T12:25:27.301Z"
      },
      {
        "duration": 0,
        "start_time": "2023-05-22T12:25:27.302Z"
      },
      {
        "duration": 0,
        "start_time": "2023-05-22T12:25:27.304Z"
      },
      {
        "duration": 0,
        "start_time": "2023-05-22T12:25:27.306Z"
      },
      {
        "duration": 0,
        "start_time": "2023-05-22T12:25:27.307Z"
      },
      {
        "duration": 0,
        "start_time": "2023-05-22T12:25:27.309Z"
      },
      {
        "duration": 0,
        "start_time": "2023-05-22T12:25:27.311Z"
      },
      {
        "duration": 0,
        "start_time": "2023-05-22T12:25:27.312Z"
      },
      {
        "duration": 0,
        "start_time": "2023-05-22T12:25:27.315Z"
      },
      {
        "duration": 56783,
        "start_time": "2023-05-22T12:25:55.695Z"
      },
      {
        "duration": 6,
        "start_time": "2023-05-22T12:26:52.480Z"
      },
      {
        "duration": 220801,
        "start_time": "2023-05-22T12:26:52.488Z"
      },
      {
        "duration": 5,
        "start_time": "2023-05-22T12:30:33.291Z"
      },
      {
        "duration": 14,
        "start_time": "2023-05-22T12:30:33.298Z"
      },
      {
        "duration": 20,
        "start_time": "2023-05-22T12:30:33.314Z"
      },
      {
        "duration": 0,
        "start_time": "2023-05-22T12:30:33.335Z"
      },
      {
        "duration": 14,
        "start_time": "2023-05-22T12:30:58.387Z"
      },
      {
        "duration": 11,
        "start_time": "2023-05-22T12:31:25.389Z"
      },
      {
        "duration": 120116,
        "start_time": "2023-05-22T12:32:47.316Z"
      },
      {
        "duration": 5,
        "start_time": "2023-05-22T12:34:47.434Z"
      },
      {
        "duration": 476758,
        "start_time": "2023-05-22T12:34:47.447Z"
      },
      {
        "duration": 5,
        "start_time": "2023-05-22T12:42:44.207Z"
      },
      {
        "duration": 49178,
        "start_time": "2023-05-22T12:45:34.888Z"
      },
      {
        "duration": 4,
        "start_time": "2023-05-22T12:46:24.068Z"
      },
      {
        "duration": 56343,
        "start_time": "2023-05-22T12:49:44.065Z"
      },
      {
        "duration": 4,
        "start_time": "2023-05-22T12:50:40.410Z"
      },
      {
        "duration": 1895,
        "start_time": "2023-05-22T15:43:53.060Z"
      },
      {
        "duration": 2533,
        "start_time": "2023-05-22T15:43:54.958Z"
      },
      {
        "duration": 6,
        "start_time": "2023-05-22T15:43:57.493Z"
      },
      {
        "duration": 342,
        "start_time": "2023-05-22T15:43:57.501Z"
      },
      {
        "duration": 11,
        "start_time": "2023-05-22T15:43:57.844Z"
      },
      {
        "duration": 18,
        "start_time": "2023-05-22T15:43:57.857Z"
      },
      {
        "duration": 4,
        "start_time": "2023-05-22T15:43:57.877Z"
      },
      {
        "duration": 23,
        "start_time": "2023-05-22T15:43:57.882Z"
      },
      {
        "duration": 22,
        "start_time": "2023-05-22T15:43:57.907Z"
      },
      {
        "duration": 5488,
        "start_time": "2023-05-22T15:43:57.932Z"
      },
      {
        "duration": 3,
        "start_time": "2023-05-22T15:44:03.423Z"
      },
      {
        "duration": 1938,
        "start_time": "2023-05-22T15:44:03.428Z"
      },
      {
        "duration": 3,
        "start_time": "2023-05-22T15:44:05.368Z"
      },
      {
        "duration": 1857,
        "start_time": "2023-05-22T15:44:05.373Z"
      },
      {
        "duration": 3,
        "start_time": "2023-05-22T15:44:07.232Z"
      },
      {
        "duration": 15156,
        "start_time": "2023-05-22T15:44:07.237Z"
      },
      {
        "duration": 2,
        "start_time": "2023-05-22T15:44:22.395Z"
      },
      {
        "duration": 556,
        "start_time": "2023-05-22T15:44:22.399Z"
      },
      {
        "duration": 0,
        "start_time": "2023-05-22T15:44:22.957Z"
      },
      {
        "duration": 0,
        "start_time": "2023-05-22T15:44:22.958Z"
      },
      {
        "duration": 0,
        "start_time": "2023-05-22T15:44:22.960Z"
      },
      {
        "duration": 0,
        "start_time": "2023-05-22T15:44:22.960Z"
      },
      {
        "duration": 0,
        "start_time": "2023-05-22T15:44:22.962Z"
      },
      {
        "duration": 0,
        "start_time": "2023-05-22T15:44:22.962Z"
      },
      {
        "duration": 0,
        "start_time": "2023-05-22T15:44:22.963Z"
      },
      {
        "duration": 0,
        "start_time": "2023-05-22T15:44:22.964Z"
      },
      {
        "duration": 0,
        "start_time": "2023-05-22T15:44:22.965Z"
      },
      {
        "duration": 0,
        "start_time": "2023-05-22T15:44:22.966Z"
      },
      {
        "duration": 0,
        "start_time": "2023-05-22T15:44:22.967Z"
      },
      {
        "duration": 0,
        "start_time": "2023-05-22T15:44:22.968Z"
      },
      {
        "duration": 0,
        "start_time": "2023-05-22T15:44:22.969Z"
      },
      {
        "duration": 0,
        "start_time": "2023-05-22T15:44:22.970Z"
      },
      {
        "duration": 0,
        "start_time": "2023-05-22T15:44:22.971Z"
      },
      {
        "duration": 0,
        "start_time": "2023-05-22T15:44:22.972Z"
      },
      {
        "duration": 0,
        "start_time": "2023-05-22T15:44:22.973Z"
      },
      {
        "duration": 0,
        "start_time": "2023-05-22T15:44:22.974Z"
      },
      {
        "duration": 0,
        "start_time": "2023-05-22T15:44:22.975Z"
      },
      {
        "duration": 0,
        "start_time": "2023-05-22T15:44:22.976Z"
      },
      {
        "duration": 0,
        "start_time": "2023-05-22T15:44:22.977Z"
      },
      {
        "duration": 0,
        "start_time": "2023-05-22T15:44:22.977Z"
      },
      {
        "duration": 0,
        "start_time": "2023-05-22T15:44:22.978Z"
      },
      {
        "duration": 0,
        "start_time": "2023-05-22T15:44:22.980Z"
      },
      {
        "duration": 0,
        "start_time": "2023-05-22T15:44:22.980Z"
      },
      {
        "duration": 0,
        "start_time": "2023-05-22T15:44:22.981Z"
      },
      {
        "duration": 0,
        "start_time": "2023-05-22T15:44:22.982Z"
      },
      {
        "duration": 4679,
        "start_time": "2023-05-22T15:46:26.341Z"
      },
      {
        "duration": 1369,
        "start_time": "2023-05-22T15:46:31.023Z"
      },
      {
        "duration": 4,
        "start_time": "2023-05-22T15:46:32.394Z"
      },
      {
        "duration": 322,
        "start_time": "2023-05-22T15:46:32.399Z"
      },
      {
        "duration": 27,
        "start_time": "2023-05-22T15:46:32.722Z"
      },
      {
        "duration": 24,
        "start_time": "2023-05-22T15:46:32.751Z"
      },
      {
        "duration": 5,
        "start_time": "2023-05-22T15:46:32.777Z"
      },
      {
        "duration": 13,
        "start_time": "2023-05-22T15:46:32.784Z"
      },
      {
        "duration": 4,
        "start_time": "2023-05-22T15:46:32.799Z"
      },
      {
        "duration": 3984,
        "start_time": "2023-05-22T15:46:32.827Z"
      },
      {
        "duration": 2,
        "start_time": "2023-05-22T15:46:36.813Z"
      },
      {
        "duration": 1742,
        "start_time": "2023-05-22T15:46:36.816Z"
      },
      {
        "duration": 3,
        "start_time": "2023-05-22T15:46:38.559Z"
      },
      {
        "duration": 1717,
        "start_time": "2023-05-22T15:46:38.563Z"
      },
      {
        "duration": 3,
        "start_time": "2023-05-22T15:46:40.281Z"
      },
      {
        "duration": 15530,
        "start_time": "2023-05-22T15:46:40.285Z"
      },
      {
        "duration": 9,
        "start_time": "2023-05-22T15:46:55.816Z"
      },
      {
        "duration": 825661,
        "start_time": "2023-05-22T15:46:55.826Z"
      },
      {
        "duration": 10,
        "start_time": "2023-05-22T16:00:41.489Z"
      },
      {
        "duration": 95,
        "start_time": "2023-05-22T16:00:41.501Z"
      },
      {
        "duration": 3,
        "start_time": "2023-05-22T16:00:41.597Z"
      },
      {
        "duration": 979,
        "start_time": "2023-05-22T16:00:41.602Z"
      },
      {
        "duration": 7322,
        "start_time": "2023-05-22T16:00:42.583Z"
      },
      {
        "duration": 3,
        "start_time": "2023-05-22T16:00:49.907Z"
      },
      {
        "duration": 10,
        "start_time": "2023-05-22T16:00:49.917Z"
      },
      {
        "duration": 49,
        "start_time": "2023-05-22T16:00:49.929Z"
      },
      {
        "duration": 217279,
        "start_time": "2023-05-22T16:00:49.980Z"
      },
      {
        "duration": 246,
        "start_time": "2023-05-22T16:04:27.264Z"
      },
      {
        "duration": 0,
        "start_time": "2023-05-22T16:04:27.512Z"
      },
      {
        "duration": 0,
        "start_time": "2023-05-22T16:04:27.514Z"
      },
      {
        "duration": 0,
        "start_time": "2023-05-22T16:04:27.516Z"
      },
      {
        "duration": 0,
        "start_time": "2023-05-22T16:04:27.519Z"
      },
      {
        "duration": 0,
        "start_time": "2023-05-22T16:04:27.520Z"
      },
      {
        "duration": 0,
        "start_time": "2023-05-22T16:04:27.521Z"
      },
      {
        "duration": 0,
        "start_time": "2023-05-22T16:04:27.522Z"
      },
      {
        "duration": 0,
        "start_time": "2023-05-22T16:04:27.523Z"
      },
      {
        "duration": 0,
        "start_time": "2023-05-22T16:04:27.525Z"
      },
      {
        "duration": 0,
        "start_time": "2023-05-22T16:04:27.525Z"
      },
      {
        "duration": 0,
        "start_time": "2023-05-22T16:04:27.526Z"
      },
      {
        "duration": 0,
        "start_time": "2023-05-22T16:04:27.526Z"
      },
      {
        "duration": 0,
        "start_time": "2023-05-22T16:04:27.527Z"
      },
      {
        "duration": 0,
        "start_time": "2023-05-22T16:04:27.528Z"
      },
      {
        "duration": 0,
        "start_time": "2023-05-22T16:04:27.528Z"
      },
      {
        "duration": 0,
        "start_time": "2023-05-22T16:04:27.529Z"
      },
      {
        "duration": 0,
        "start_time": "2023-05-22T16:04:27.529Z"
      },
      {
        "duration": 14,
        "start_time": "2023-05-22T16:05:12.543Z"
      },
      {
        "duration": 28,
        "start_time": "2023-05-22T16:08:49.767Z"
      },
      {
        "duration": 3,
        "start_time": "2023-05-22T16:19:08.482Z"
      },
      {
        "duration": 704328,
        "start_time": "2023-05-22T16:19:09.486Z"
      },
      {
        "duration": 0,
        "start_time": "2023-05-22T16:30:53.817Z"
      },
      {
        "duration": 0,
        "start_time": "2023-05-22T16:30:53.818Z"
      },
      {
        "duration": 0,
        "start_time": "2023-05-22T16:30:53.819Z"
      },
      {
        "duration": 0,
        "start_time": "2023-05-22T16:30:53.820Z"
      },
      {
        "duration": 6085,
        "start_time": "2023-05-22T16:32:12.940Z"
      },
      {
        "duration": 195304,
        "start_time": "2023-05-22T16:32:23.930Z"
      },
      {
        "duration": 14,
        "start_time": "2023-05-22T16:42:50.886Z"
      },
      {
        "duration": 187521,
        "start_time": "2023-05-22T16:49:51.714Z"
      },
      {
        "duration": 0,
        "start_time": "2023-05-22T16:52:59.237Z"
      },
      {
        "duration": 65584,
        "start_time": "2023-05-22T16:53:13.481Z"
      },
      {
        "duration": 0,
        "start_time": "2023-05-22T16:54:19.067Z"
      },
      {
        "duration": 36956,
        "start_time": "2023-05-22T16:54:51.087Z"
      },
      {
        "duration": 0,
        "start_time": "2023-05-22T16:55:28.130Z"
      },
      {
        "duration": 31,
        "start_time": "2023-05-22T16:55:34.142Z"
      },
      {
        "duration": 11,
        "start_time": "2023-05-22T16:55:35.384Z"
      },
      {
        "duration": 795,
        "start_time": "2023-05-22T16:55:36.539Z"
      },
      {
        "duration": 5319,
        "start_time": "2023-05-22T16:55:37.336Z"
      },
      {
        "duration": 3,
        "start_time": "2023-05-22T16:55:42.657Z"
      },
      {
        "duration": 14,
        "start_time": "2023-05-22T16:55:42.662Z"
      },
      {
        "duration": 21,
        "start_time": "2023-05-22T16:55:42.677Z"
      },
      {
        "duration": 193567,
        "start_time": "2023-05-22T16:55:45.563Z"
      },
      {
        "duration": 7,
        "start_time": "2023-05-22T16:58:59.132Z"
      },
      {
        "duration": 57054,
        "start_time": "2023-05-22T16:59:11.017Z"
      },
      {
        "duration": 4,
        "start_time": "2023-05-22T17:00:08.073Z"
      },
      {
        "duration": 247221,
        "start_time": "2023-05-22T17:02:07.183Z"
      },
      {
        "duration": 3,
        "start_time": "2023-05-22T17:06:14.406Z"
      },
      {
        "duration": 3,
        "start_time": "2023-05-22T17:07:18.410Z"
      },
      {
        "duration": 12,
        "start_time": "2023-05-22T17:07:19.346Z"
      },
      {
        "duration": 1976,
        "start_time": "2023-05-22T17:07:41.880Z"
      },
      {
        "duration": 4,
        "start_time": "2023-05-22T17:07:43.988Z"
      },
      {
        "duration": 46333,
        "start_time": "2023-05-22T17:11:06.794Z"
      },
      {
        "duration": 4,
        "start_time": "2023-05-22T17:13:04.749Z"
      },
      {
        "duration": 43885,
        "start_time": "2023-05-22T17:15:01.642Z"
      },
      {
        "duration": 10,
        "start_time": "2023-05-22T17:19:26.389Z"
      },
      {
        "duration": 10,
        "start_time": "2023-05-22T17:20:12.480Z"
      },
      {
        "duration": 3029,
        "start_time": "2023-05-22T17:20:23.346Z"
      },
      {
        "duration": 3332,
        "start_time": "2023-05-22T17:20:26.378Z"
      },
      {
        "duration": 3,
        "start_time": "2023-05-22T17:20:29.712Z"
      },
      {
        "duration": 415,
        "start_time": "2023-05-22T17:20:29.717Z"
      },
      {
        "duration": 15,
        "start_time": "2023-05-22T17:20:30.134Z"
      },
      {
        "duration": 65,
        "start_time": "2023-05-22T17:20:30.150Z"
      },
      {
        "duration": 52,
        "start_time": "2023-05-22T17:20:30.217Z"
      },
      {
        "duration": 22,
        "start_time": "2023-05-22T17:20:30.271Z"
      },
      {
        "duration": 67,
        "start_time": "2023-05-22T17:20:30.294Z"
      },
      {
        "duration": 4879,
        "start_time": "2023-05-22T17:20:30.363Z"
      },
      {
        "duration": 3,
        "start_time": "2023-05-22T17:20:35.244Z"
      },
      {
        "duration": 1940,
        "start_time": "2023-05-22T17:20:35.249Z"
      },
      {
        "duration": 3,
        "start_time": "2023-05-22T17:20:37.190Z"
      },
      {
        "duration": 1947,
        "start_time": "2023-05-22T17:20:37.196Z"
      },
      {
        "duration": 3,
        "start_time": "2023-05-22T17:20:39.162Z"
      },
      {
        "duration": 17082,
        "start_time": "2023-05-22T17:20:39.166Z"
      },
      {
        "duration": 4,
        "start_time": "2023-05-22T17:20:56.250Z"
      },
      {
        "duration": 801964,
        "start_time": "2023-05-22T17:20:56.255Z"
      },
      {
        "duration": 15,
        "start_time": "2023-05-22T17:34:18.220Z"
      },
      {
        "duration": 53,
        "start_time": "2023-05-22T17:34:18.237Z"
      },
      {
        "duration": 2,
        "start_time": "2023-05-22T17:34:18.292Z"
      },
      {
        "duration": 911,
        "start_time": "2023-05-22T17:34:18.296Z"
      },
      {
        "duration": 6831,
        "start_time": "2023-05-22T17:34:19.209Z"
      },
      {
        "duration": 2,
        "start_time": "2023-05-22T17:34:26.043Z"
      },
      {
        "duration": 30,
        "start_time": "2023-05-22T17:34:26.046Z"
      },
      {
        "duration": 11,
        "start_time": "2023-05-22T17:34:26.078Z"
      },
      {
        "duration": 8,
        "start_time": "2023-05-22T17:34:26.091Z"
      },
      {
        "duration": 18,
        "start_time": "2023-05-22T17:34:26.101Z"
      },
      {
        "duration": 181930,
        "start_time": "2023-05-22T17:34:26.121Z"
      },
      {
        "duration": 10,
        "start_time": "2023-05-22T17:37:28.053Z"
      },
      {
        "duration": 58014,
        "start_time": "2023-05-22T17:37:28.065Z"
      },
      {
        "duration": 4,
        "start_time": "2023-05-22T17:38:26.080Z"
      },
      {
        "duration": 262990,
        "start_time": "2023-05-22T17:38:26.086Z"
      },
      {
        "duration": 4,
        "start_time": "2023-05-22T17:42:49.078Z"
      },
      {
        "duration": 276,
        "start_time": "2023-05-22T17:42:49.083Z"
      },
      {
        "duration": 0,
        "start_time": "2023-05-22T17:42:49.361Z"
      },
      {
        "duration": 0,
        "start_time": "2023-05-22T17:42:49.362Z"
      },
      {
        "duration": 0,
        "start_time": "2023-05-22T17:42:49.364Z"
      },
      {
        "duration": 0,
        "start_time": "2023-05-22T17:42:49.365Z"
      },
      {
        "duration": 0,
        "start_time": "2023-05-22T17:42:49.369Z"
      },
      {
        "duration": 0,
        "start_time": "2023-05-22T17:42:49.370Z"
      },
      {
        "duration": 0,
        "start_time": "2023-05-22T17:42:49.372Z"
      },
      {
        "duration": 0,
        "start_time": "2023-05-22T17:42:49.374Z"
      },
      {
        "duration": 0,
        "start_time": "2023-05-22T17:42:49.376Z"
      },
      {
        "duration": 9,
        "start_time": "2023-05-22T17:43:36.592Z"
      },
      {
        "duration": 213893,
        "start_time": "2023-05-22T17:43:45.038Z"
      },
      {
        "duration": 9,
        "start_time": "2023-05-22T17:47:18.935Z"
      },
      {
        "duration": 875636,
        "start_time": "2023-05-22T17:47:18.945Z"
      },
      {
        "duration": 4,
        "start_time": "2023-05-22T18:01:54.584Z"
      },
      {
        "duration": 15,
        "start_time": "2023-05-22T18:01:54.590Z"
      },
      {
        "duration": 48940,
        "start_time": "2023-05-22T18:01:54.607Z"
      },
      {
        "duration": 12,
        "start_time": "2023-05-22T18:09:08.633Z"
      },
      {
        "duration": 2966,
        "start_time": "2023-05-22T18:10:17.846Z"
      },
      {
        "duration": 4646,
        "start_time": "2023-05-22T18:10:20.814Z"
      },
      {
        "duration": 5,
        "start_time": "2023-05-22T18:10:25.462Z"
      },
      {
        "duration": 418,
        "start_time": "2023-05-22T18:10:25.469Z"
      },
      {
        "duration": 15,
        "start_time": "2023-05-22T18:10:25.889Z"
      },
      {
        "duration": 57,
        "start_time": "2023-05-22T18:10:25.906Z"
      },
      {
        "duration": 32,
        "start_time": "2023-05-22T18:10:25.965Z"
      },
      {
        "duration": 24,
        "start_time": "2023-05-22T18:10:25.999Z"
      },
      {
        "duration": 84,
        "start_time": "2023-05-22T18:10:26.025Z"
      },
      {
        "duration": 5374,
        "start_time": "2023-05-22T18:10:26.111Z"
      },
      {
        "duration": 6,
        "start_time": "2023-05-22T18:10:31.487Z"
      },
      {
        "duration": 2410,
        "start_time": "2023-05-22T18:10:31.495Z"
      },
      {
        "duration": 3,
        "start_time": "2023-05-22T18:10:33.907Z"
      },
      {
        "duration": 2151,
        "start_time": "2023-05-22T18:10:33.917Z"
      },
      {
        "duration": 3,
        "start_time": "2023-05-22T18:10:36.070Z"
      },
      {
        "duration": 18305,
        "start_time": "2023-05-22T18:10:36.075Z"
      },
      {
        "duration": 3,
        "start_time": "2023-05-22T18:10:54.382Z"
      },
      {
        "duration": 871425,
        "start_time": "2023-05-22T18:10:54.386Z"
      },
      {
        "duration": 42,
        "start_time": "2023-05-22T18:25:25.813Z"
      },
      {
        "duration": 41,
        "start_time": "2023-05-22T18:25:25.867Z"
      },
      {
        "duration": 3,
        "start_time": "2023-05-22T18:25:25.909Z"
      },
      {
        "duration": 1040,
        "start_time": "2023-05-22T18:25:25.914Z"
      },
      {
        "duration": 7042,
        "start_time": "2023-05-22T18:25:26.956Z"
      },
      {
        "duration": 2,
        "start_time": "2023-05-22T18:25:34.000Z"
      },
      {
        "duration": 22,
        "start_time": "2023-05-22T18:25:34.004Z"
      },
      {
        "duration": 49,
        "start_time": "2023-05-22T18:25:34.028Z"
      },
      {
        "duration": 17,
        "start_time": "2023-05-22T18:25:34.079Z"
      },
      {
        "duration": 4,
        "start_time": "2023-05-22T18:25:34.098Z"
      },
      {
        "duration": 223225,
        "start_time": "2023-05-22T18:25:34.104Z"
      },
      {
        "duration": 19,
        "start_time": "2023-05-22T18:29:17.331Z"
      },
      {
        "duration": 65345,
        "start_time": "2023-05-22T18:29:17.357Z"
      },
      {
        "duration": 4,
        "start_time": "2023-05-22T18:30:22.703Z"
      },
      {
        "duration": 888763,
        "start_time": "2023-05-22T18:30:22.717Z"
      },
      {
        "duration": 3,
        "start_time": "2023-05-22T18:45:11.481Z"
      },
      {
        "duration": 11,
        "start_time": "2023-05-22T18:45:11.486Z"
      },
      {
        "duration": 13,
        "start_time": "2023-05-22T18:45:11.499Z"
      },
      {
        "duration": 41,
        "start_time": "2023-05-22T18:45:11.514Z"
      },
      {
        "duration": 8,
        "start_time": "2023-05-22T18:45:11.557Z"
      },
      {
        "duration": 7,
        "start_time": "2023-05-22T18:45:11.567Z"
      },
      {
        "duration": 7,
        "start_time": "2023-05-22T18:45:11.576Z"
      },
      {
        "duration": 5,
        "start_time": "2023-05-22T18:45:11.588Z"
      },
      {
        "duration": 9,
        "start_time": "2023-05-22T18:45:11.595Z"
      },
      {
        "duration": 11,
        "start_time": "2023-05-22T18:45:11.605Z"
      },
      {
        "duration": 46700,
        "start_time": "2023-05-22T18:45:11.631Z"
      },
      {
        "duration": 6,
        "start_time": "2023-05-22T18:45:58.333Z"
      },
      {
        "duration": 52,
        "start_time": "2023-05-23T14:17:58.369Z"
      },
      {
        "duration": 2729,
        "start_time": "2023-05-23T14:18:10.798Z"
      },
      {
        "duration": 2324,
        "start_time": "2023-05-23T14:18:13.529Z"
      },
      {
        "duration": 3,
        "start_time": "2023-05-23T14:18:15.855Z"
      },
      {
        "duration": 317,
        "start_time": "2023-05-23T14:18:15.861Z"
      },
      {
        "duration": 24,
        "start_time": "2023-05-23T14:18:16.179Z"
      },
      {
        "duration": 35,
        "start_time": "2023-05-23T14:18:16.205Z"
      },
      {
        "duration": 5,
        "start_time": "2023-05-23T14:18:16.242Z"
      },
      {
        "duration": 9,
        "start_time": "2023-05-23T14:18:16.248Z"
      },
      {
        "duration": 8,
        "start_time": "2023-05-23T14:18:16.259Z"
      },
      {
        "duration": 3994,
        "start_time": "2023-05-23T14:18:16.270Z"
      },
      {
        "duration": 2,
        "start_time": "2023-05-23T14:18:20.266Z"
      },
      {
        "duration": 2354,
        "start_time": "2023-05-23T14:18:20.270Z"
      },
      {
        "duration": 3,
        "start_time": "2023-05-23T14:18:22.626Z"
      },
      {
        "duration": 2910,
        "start_time": "2023-05-23T14:18:22.630Z"
      },
      {
        "duration": 3,
        "start_time": "2023-05-23T14:18:25.542Z"
      },
      {
        "duration": 16804,
        "start_time": "2023-05-23T14:18:25.547Z"
      },
      {
        "duration": 3,
        "start_time": "2023-05-23T14:18:42.353Z"
      },
      {
        "duration": 13,
        "start_time": "2023-05-23T14:18:42.358Z"
      },
      {
        "duration": 752410,
        "start_time": "2023-05-23T14:18:42.372Z"
      },
      {
        "duration": 10,
        "start_time": "2023-05-23T14:31:14.783Z"
      },
      {
        "duration": 38,
        "start_time": "2023-05-23T14:31:14.798Z"
      },
      {
        "duration": 3,
        "start_time": "2023-05-23T14:31:14.838Z"
      },
      {
        "duration": 936,
        "start_time": "2023-05-23T14:31:14.842Z"
      },
      {
        "duration": 6246,
        "start_time": "2023-05-23T14:31:15.780Z"
      },
      {
        "duration": 2,
        "start_time": "2023-05-23T14:31:22.028Z"
      },
      {
        "duration": 6,
        "start_time": "2023-05-23T14:31:22.032Z"
      },
      {
        "duration": 8,
        "start_time": "2023-05-23T14:31:22.040Z"
      },
      {
        "duration": 22,
        "start_time": "2023-05-23T14:31:22.051Z"
      },
      {
        "duration": 12,
        "start_time": "2023-05-23T14:31:22.075Z"
      },
      {
        "duration": 233228,
        "start_time": "2023-05-23T14:31:22.089Z"
      },
      {
        "duration": 4,
        "start_time": "2023-05-23T14:35:15.320Z"
      },
      {
        "duration": 55900,
        "start_time": "2023-05-23T14:35:15.325Z"
      },
      {
        "duration": 4,
        "start_time": "2023-05-23T14:36:11.226Z"
      },
      {
        "duration": 787220,
        "start_time": "2023-05-23T14:36:11.232Z"
      },
      {
        "duration": 4,
        "start_time": "2023-05-23T14:49:18.454Z"
      },
      {
        "duration": 10,
        "start_time": "2023-05-23T14:49:18.460Z"
      },
      {
        "duration": 6,
        "start_time": "2023-05-23T14:49:18.472Z"
      },
      {
        "duration": 17,
        "start_time": "2023-05-23T14:49:18.480Z"
      },
      {
        "duration": 8,
        "start_time": "2023-05-23T14:49:18.499Z"
      },
      {
        "duration": 15,
        "start_time": "2023-05-23T14:49:18.508Z"
      },
      {
        "duration": 12,
        "start_time": "2023-05-23T14:49:18.526Z"
      },
      {
        "duration": 10,
        "start_time": "2023-05-23T14:49:18.539Z"
      },
      {
        "duration": 7,
        "start_time": "2023-05-23T14:49:18.550Z"
      },
      {
        "duration": 10,
        "start_time": "2023-05-23T14:49:18.559Z"
      },
      {
        "duration": 48851,
        "start_time": "2023-05-23T14:49:18.571Z"
      },
      {
        "duration": 4,
        "start_time": "2023-05-23T14:50:07.424Z"
      },
      {
        "duration": 25,
        "start_time": "2023-05-23T14:50:07.430Z"
      },
      {
        "duration": 12,
        "start_time": "2023-05-23T14:57:55.134Z"
      },
      {
        "duration": 814,
        "start_time": "2023-05-23T14:57:55.349Z"
      },
      {
        "duration": 4,
        "start_time": "2023-05-23T14:57:56.165Z"
      },
      {
        "duration": 302,
        "start_time": "2023-05-23T14:57:56.170Z"
      },
      {
        "duration": 29,
        "start_time": "2023-05-23T14:57:56.474Z"
      },
      {
        "duration": 38,
        "start_time": "2023-05-23T14:57:56.505Z"
      },
      {
        "duration": 3,
        "start_time": "2023-05-23T14:57:56.546Z"
      },
      {
        "duration": 4,
        "start_time": "2023-05-23T14:57:56.636Z"
      },
      {
        "duration": 3,
        "start_time": "2023-05-23T14:57:59.860Z"
      },
      {
        "duration": 3684,
        "start_time": "2023-05-23T14:58:00.063Z"
      },
      {
        "duration": 2,
        "start_time": "2023-05-23T14:58:03.749Z"
      },
      {
        "duration": 2493,
        "start_time": "2023-05-23T14:58:03.753Z"
      },
      {
        "duration": 3,
        "start_time": "2023-05-23T14:58:06.248Z"
      },
      {
        "duration": 2242,
        "start_time": "2023-05-23T14:58:06.252Z"
      },
      {
        "duration": 3,
        "start_time": "2023-05-23T14:58:08.495Z"
      },
      {
        "duration": 15652,
        "start_time": "2023-05-23T14:58:08.499Z"
      },
      {
        "duration": 4,
        "start_time": "2023-05-23T14:58:24.153Z"
      },
      {
        "duration": 16,
        "start_time": "2023-05-23T14:58:24.159Z"
      },
      {
        "duration": 494,
        "start_time": "2023-05-23T15:00:57.056Z"
      },
      {
        "duration": 3,
        "start_time": "2023-05-23T15:01:28.630Z"
      },
      {
        "duration": 423,
        "start_time": "2023-05-23T15:01:29.414Z"
      },
      {
        "duration": 3,
        "start_time": "2023-05-23T15:03:14.707Z"
      },
      {
        "duration": 3,
        "start_time": "2023-05-23T15:03:15.444Z"
      },
      {
        "duration": 326,
        "start_time": "2023-05-23T15:03:16.532Z"
      },
      {
        "duration": 2,
        "start_time": "2023-05-23T15:03:36.155Z"
      },
      {
        "duration": 4,
        "start_time": "2023-05-23T15:03:36.961Z"
      },
      {
        "duration": 3,
        "start_time": "2023-05-23T15:03:37.740Z"
      },
      {
        "duration": 394,
        "start_time": "2023-05-23T15:03:38.413Z"
      },
      {
        "duration": 34,
        "start_time": "2023-05-23T15:07:12.716Z"
      },
      {
        "duration": 4,
        "start_time": "2023-05-23T15:07:13.089Z"
      },
      {
        "duration": 4,
        "start_time": "2023-05-23T15:07:15.878Z"
      },
      {
        "duration": 1109,
        "start_time": "2023-05-23T15:07:16.643Z"
      },
      {
        "duration": 7,
        "start_time": "2023-05-23T15:07:49.093Z"
      },
      {
        "duration": 3,
        "start_time": "2023-05-23T15:07:49.616Z"
      },
      {
        "duration": 3,
        "start_time": "2023-05-23T15:07:50.194Z"
      },
      {
        "duration": 348,
        "start_time": "2023-05-23T15:07:50.832Z"
      },
      {
        "duration": 5,
        "start_time": "2023-05-23T15:08:21.434Z"
      },
      {
        "duration": 3,
        "start_time": "2023-05-23T15:08:21.733Z"
      },
      {
        "duration": 4,
        "start_time": "2023-05-23T15:08:22.306Z"
      },
      {
        "duration": 732,
        "start_time": "2023-05-23T15:08:22.989Z"
      },
      {
        "duration": 7,
        "start_time": "2023-05-23T15:09:33.417Z"
      },
      {
        "duration": 3,
        "start_time": "2023-05-23T15:09:34.867Z"
      },
      {
        "duration": 3,
        "start_time": "2023-05-23T15:09:35.513Z"
      },
      {
        "duration": 468,
        "start_time": "2023-05-23T15:09:36.261Z"
      },
      {
        "duration": 6,
        "start_time": "2023-05-23T15:10:17.184Z"
      },
      {
        "duration": 4,
        "start_time": "2023-05-23T15:10:17.553Z"
      },
      {
        "duration": 4,
        "start_time": "2023-05-23T15:10:18.145Z"
      },
      {
        "duration": 420,
        "start_time": "2023-05-23T15:10:18.710Z"
      },
      {
        "duration": 8,
        "start_time": "2023-05-23T15:12:04.647Z"
      },
      {
        "duration": 845,
        "start_time": "2023-05-23T15:12:05.148Z"
      },
      {
        "duration": 4,
        "start_time": "2023-05-23T15:12:06.153Z"
      },
      {
        "duration": 324,
        "start_time": "2023-05-23T15:12:06.452Z"
      },
      {
        "duration": 14,
        "start_time": "2023-05-23T15:12:07.060Z"
      },
      {
        "duration": 52,
        "start_time": "2023-05-23T15:12:07.481Z"
      },
      {
        "duration": 4,
        "start_time": "2023-05-23T15:12:07.653Z"
      },
      {
        "duration": 3,
        "start_time": "2023-05-23T15:12:07.808Z"
      },
      {
        "duration": 3,
        "start_time": "2023-05-23T15:12:08.288Z"
      },
      {
        "duration": 29,
        "start_time": "2023-05-23T15:13:55.271Z"
      },
      {
        "duration": 852,
        "start_time": "2023-05-23T15:13:55.581Z"
      },
      {
        "duration": 5,
        "start_time": "2023-05-23T15:13:57.150Z"
      },
      {
        "duration": 274,
        "start_time": "2023-05-23T15:13:57.457Z"
      },
      {
        "duration": 12,
        "start_time": "2023-05-23T15:13:57.845Z"
      },
      {
        "duration": 32,
        "start_time": "2023-05-23T15:13:58.246Z"
      },
      {
        "duration": 4,
        "start_time": "2023-05-23T15:13:58.447Z"
      },
      {
        "duration": 3,
        "start_time": "2023-05-23T15:13:58.693Z"
      },
      {
        "duration": 5,
        "start_time": "2023-05-23T15:13:59.357Z"
      },
      {
        "duration": 3685,
        "start_time": "2023-05-23T15:13:59.647Z"
      },
      {
        "duration": 2,
        "start_time": "2023-05-23T15:14:03.334Z"
      },
      {
        "duration": 2644,
        "start_time": "2023-05-23T15:14:03.338Z"
      },
      {
        "duration": 3,
        "start_time": "2023-05-23T15:14:05.985Z"
      },
      {
        "duration": 2557,
        "start_time": "2023-05-23T15:14:05.989Z"
      },
      {
        "duration": 2,
        "start_time": "2023-05-23T15:14:08.548Z"
      },
      {
        "duration": 16582,
        "start_time": "2023-05-23T15:14:08.552Z"
      },
      {
        "duration": 4,
        "start_time": "2023-05-23T15:14:25.136Z"
      },
      {
        "duration": 15,
        "start_time": "2023-05-23T15:14:25.142Z"
      },
      {
        "duration": 2,
        "start_time": "2023-05-23T15:14:38.616Z"
      },
      {
        "duration": 335,
        "start_time": "2023-05-23T15:14:45.859Z"
      },
      {
        "duration": 2332,
        "start_time": "2023-05-23T15:18:34.484Z"
      },
      {
        "duration": 1078,
        "start_time": "2023-05-23T15:18:36.818Z"
      },
      {
        "duration": 4,
        "start_time": "2023-05-23T15:18:37.898Z"
      },
      {
        "duration": 337,
        "start_time": "2023-05-23T15:18:37.905Z"
      },
      {
        "duration": 15,
        "start_time": "2023-05-23T15:18:38.243Z"
      },
      {
        "duration": 72,
        "start_time": "2023-05-23T15:18:38.260Z"
      },
      {
        "duration": 5,
        "start_time": "2023-05-23T15:18:38.334Z"
      },
      {
        "duration": 16,
        "start_time": "2023-05-23T15:18:38.341Z"
      },
      {
        "duration": 17,
        "start_time": "2023-05-23T15:18:38.359Z"
      },
      {
        "duration": 3893,
        "start_time": "2023-05-23T15:18:38.379Z"
      },
      {
        "duration": 3,
        "start_time": "2023-05-23T15:18:42.273Z"
      },
      {
        "duration": 2293,
        "start_time": "2023-05-23T15:18:42.278Z"
      },
      {
        "duration": 3,
        "start_time": "2023-05-23T15:18:44.573Z"
      },
      {
        "duration": 2080,
        "start_time": "2023-05-23T15:18:44.578Z"
      },
      {
        "duration": 3,
        "start_time": "2023-05-23T15:18:46.660Z"
      },
      {
        "duration": 16202,
        "start_time": "2023-05-23T15:18:46.664Z"
      },
      {
        "duration": 4,
        "start_time": "2023-05-23T15:19:02.868Z"
      },
      {
        "duration": 18,
        "start_time": "2023-05-23T15:19:02.873Z"
      },
      {
        "duration": 667949,
        "start_time": "2023-05-23T15:19:02.893Z"
      },
      {
        "duration": 9,
        "start_time": "2023-05-23T15:30:10.844Z"
      },
      {
        "duration": 53,
        "start_time": "2023-05-23T15:30:10.854Z"
      },
      {
        "duration": 2,
        "start_time": "2023-05-23T15:30:10.909Z"
      },
      {
        "duration": 884,
        "start_time": "2023-05-23T15:30:10.913Z"
      },
      {
        "duration": 5560,
        "start_time": "2023-05-23T15:30:11.799Z"
      },
      {
        "duration": 2,
        "start_time": "2023-05-23T15:30:17.361Z"
      },
      {
        "duration": 49,
        "start_time": "2023-05-23T15:30:17.365Z"
      },
      {
        "duration": 36,
        "start_time": "2023-05-23T15:30:17.416Z"
      },
      {
        "duration": 34,
        "start_time": "2023-05-23T15:30:17.455Z"
      },
      {
        "duration": 42,
        "start_time": "2023-05-23T15:30:17.491Z"
      },
      {
        "duration": 117866,
        "start_time": "2023-05-23T15:30:17.535Z"
      },
      {
        "duration": 0,
        "start_time": "2023-05-23T15:32:15.404Z"
      },
      {
        "duration": 0,
        "start_time": "2023-05-23T15:32:15.408Z"
      },
      {
        "duration": 0,
        "start_time": "2023-05-23T15:32:15.409Z"
      },
      {
        "duration": 0,
        "start_time": "2023-05-23T15:32:15.410Z"
      },
      {
        "duration": 0,
        "start_time": "2023-05-23T15:32:15.411Z"
      },
      {
        "duration": 0,
        "start_time": "2023-05-23T15:32:15.412Z"
      },
      {
        "duration": 0,
        "start_time": "2023-05-23T15:32:15.414Z"
      },
      {
        "duration": 0,
        "start_time": "2023-05-23T15:32:15.415Z"
      },
      {
        "duration": 0,
        "start_time": "2023-05-23T15:32:15.416Z"
      },
      {
        "duration": 0,
        "start_time": "2023-05-23T15:32:15.418Z"
      },
      {
        "duration": 0,
        "start_time": "2023-05-23T15:32:15.419Z"
      },
      {
        "duration": 0,
        "start_time": "2023-05-23T15:32:15.420Z"
      },
      {
        "duration": 0,
        "start_time": "2023-05-23T15:32:15.422Z"
      },
      {
        "duration": 0,
        "start_time": "2023-05-23T15:32:15.423Z"
      },
      {
        "duration": 0,
        "start_time": "2023-05-23T15:32:15.424Z"
      },
      {
        "duration": 0,
        "start_time": "2023-05-23T15:32:15.426Z"
      },
      {
        "duration": 1879,
        "start_time": "2023-05-23T15:32:29.149Z"
      },
      {
        "duration": 814,
        "start_time": "2023-05-23T15:32:31.030Z"
      },
      {
        "duration": 5,
        "start_time": "2023-05-23T15:32:31.847Z"
      },
      {
        "duration": 304,
        "start_time": "2023-05-23T15:32:31.854Z"
      },
      {
        "duration": 10,
        "start_time": "2023-05-23T15:32:32.160Z"
      },
      {
        "duration": 47,
        "start_time": "2023-05-23T15:32:32.172Z"
      },
      {
        "duration": 4,
        "start_time": "2023-05-23T15:32:32.221Z"
      },
      {
        "duration": 25,
        "start_time": "2023-05-23T15:32:32.227Z"
      },
      {
        "duration": 0,
        "start_time": "2023-05-23T15:32:32.254Z"
      },
      {
        "duration": 0,
        "start_time": "2023-05-23T15:32:32.255Z"
      },
      {
        "duration": 0,
        "start_time": "2023-05-23T15:32:32.256Z"
      },
      {
        "duration": 0,
        "start_time": "2023-05-23T15:32:32.257Z"
      },
      {
        "duration": 0,
        "start_time": "2023-05-23T15:32:32.258Z"
      },
      {
        "duration": 0,
        "start_time": "2023-05-23T15:32:32.260Z"
      },
      {
        "duration": 0,
        "start_time": "2023-05-23T15:32:32.261Z"
      },
      {
        "duration": 0,
        "start_time": "2023-05-23T15:32:32.263Z"
      },
      {
        "duration": 0,
        "start_time": "2023-05-23T15:32:32.264Z"
      },
      {
        "duration": 0,
        "start_time": "2023-05-23T15:32:32.266Z"
      },
      {
        "duration": 0,
        "start_time": "2023-05-23T15:32:32.267Z"
      },
      {
        "duration": 0,
        "start_time": "2023-05-23T15:32:32.268Z"
      },
      {
        "duration": 0,
        "start_time": "2023-05-23T15:32:32.269Z"
      },
      {
        "duration": 0,
        "start_time": "2023-05-23T15:32:32.270Z"
      },
      {
        "duration": 0,
        "start_time": "2023-05-23T15:32:32.271Z"
      },
      {
        "duration": 0,
        "start_time": "2023-05-23T15:32:32.272Z"
      },
      {
        "duration": 0,
        "start_time": "2023-05-23T15:32:32.273Z"
      },
      {
        "duration": 0,
        "start_time": "2023-05-23T15:32:32.274Z"
      },
      {
        "duration": 0,
        "start_time": "2023-05-23T15:32:32.275Z"
      },
      {
        "duration": 0,
        "start_time": "2023-05-23T15:32:32.297Z"
      },
      {
        "duration": 0,
        "start_time": "2023-05-23T15:32:32.298Z"
      },
      {
        "duration": 0,
        "start_time": "2023-05-23T15:32:32.299Z"
      },
      {
        "duration": 0,
        "start_time": "2023-05-23T15:32:32.300Z"
      },
      {
        "duration": 0,
        "start_time": "2023-05-23T15:32:32.301Z"
      },
      {
        "duration": 0,
        "start_time": "2023-05-23T15:32:32.302Z"
      },
      {
        "duration": 0,
        "start_time": "2023-05-23T15:32:32.303Z"
      },
      {
        "duration": 0,
        "start_time": "2023-05-23T15:32:32.304Z"
      },
      {
        "duration": 0,
        "start_time": "2023-05-23T15:32:32.306Z"
      },
      {
        "duration": 0,
        "start_time": "2023-05-23T15:32:32.307Z"
      },
      {
        "duration": 0,
        "start_time": "2023-05-23T15:32:32.308Z"
      },
      {
        "duration": 0,
        "start_time": "2023-05-23T15:32:32.309Z"
      },
      {
        "duration": 0,
        "start_time": "2023-05-23T15:32:32.310Z"
      },
      {
        "duration": 0,
        "start_time": "2023-05-23T15:32:32.311Z"
      },
      {
        "duration": 0,
        "start_time": "2023-05-23T15:32:32.312Z"
      },
      {
        "duration": 0,
        "start_time": "2023-05-23T15:32:32.313Z"
      },
      {
        "duration": 0,
        "start_time": "2023-05-23T15:32:32.314Z"
      },
      {
        "duration": 0,
        "start_time": "2023-05-23T15:32:32.314Z"
      },
      {
        "duration": 1,
        "start_time": "2023-05-23T15:32:32.315Z"
      },
      {
        "duration": 3,
        "start_time": "2023-05-23T15:32:58.345Z"
      },
      {
        "duration": 3,
        "start_time": "2023-05-23T15:33:01.072Z"
      },
      {
        "duration": 3461,
        "start_time": "2023-05-23T15:33:01.736Z"
      },
      {
        "duration": 3,
        "start_time": "2023-05-23T15:33:05.199Z"
      },
      {
        "duration": 2094,
        "start_time": "2023-05-23T15:33:05.204Z"
      },
      {
        "duration": 3,
        "start_time": "2023-05-23T15:33:07.301Z"
      },
      {
        "duration": 2015,
        "start_time": "2023-05-23T15:33:07.306Z"
      },
      {
        "duration": 3,
        "start_time": "2023-05-23T15:33:09.323Z"
      },
      {
        "duration": 14987,
        "start_time": "2023-05-23T15:33:09.328Z"
      },
      {
        "duration": 3,
        "start_time": "2023-05-23T15:33:24.317Z"
      },
      {
        "duration": 489,
        "start_time": "2023-05-23T15:39:10.889Z"
      },
      {
        "duration": 2,
        "start_time": "2023-05-23T15:39:27.777Z"
      },
      {
        "duration": 320,
        "start_time": "2023-05-23T15:39:32.207Z"
      },
      {
        "duration": 1822,
        "start_time": "2023-05-23T15:40:57.462Z"
      },
      {
        "duration": 828,
        "start_time": "2023-05-23T15:40:59.287Z"
      },
      {
        "duration": 4,
        "start_time": "2023-05-23T15:41:00.117Z"
      },
      {
        "duration": 337,
        "start_time": "2023-05-23T15:41:00.123Z"
      },
      {
        "duration": 14,
        "start_time": "2023-05-23T15:41:00.462Z"
      },
      {
        "duration": 58,
        "start_time": "2023-05-23T15:41:00.478Z"
      },
      {
        "duration": 4,
        "start_time": "2023-05-23T15:41:00.538Z"
      },
      {
        "duration": 17,
        "start_time": "2023-05-23T15:41:00.543Z"
      },
      {
        "duration": 25,
        "start_time": "2023-05-23T15:41:00.561Z"
      },
      {
        "duration": 3591,
        "start_time": "2023-05-23T15:41:00.589Z"
      },
      {
        "duration": 3,
        "start_time": "2023-05-23T15:41:04.182Z"
      },
      {
        "duration": 2020,
        "start_time": "2023-05-23T15:41:04.187Z"
      },
      {
        "duration": 3,
        "start_time": "2023-05-23T15:41:06.209Z"
      },
      {
        "duration": 2027,
        "start_time": "2023-05-23T15:41:06.213Z"
      },
      {
        "duration": 3,
        "start_time": "2023-05-23T15:41:08.241Z"
      },
      {
        "duration": 16056,
        "start_time": "2023-05-23T15:41:08.245Z"
      },
      {
        "duration": 4,
        "start_time": "2023-05-23T15:41:24.303Z"
      },
      {
        "duration": 538,
        "start_time": "2023-05-23T15:41:24.309Z"
      },
      {
        "duration": 0,
        "start_time": "2023-05-23T15:41:24.850Z"
      },
      {
        "duration": 0,
        "start_time": "2023-05-23T15:41:24.851Z"
      },
      {
        "duration": 0,
        "start_time": "2023-05-23T15:41:24.852Z"
      },
      {
        "duration": 0,
        "start_time": "2023-05-23T15:41:24.853Z"
      },
      {
        "duration": 0,
        "start_time": "2023-05-23T15:41:24.854Z"
      },
      {
        "duration": 0,
        "start_time": "2023-05-23T15:41:24.856Z"
      },
      {
        "duration": 1,
        "start_time": "2023-05-23T15:41:24.856Z"
      },
      {
        "duration": 0,
        "start_time": "2023-05-23T15:41:24.857Z"
      },
      {
        "duration": 0,
        "start_time": "2023-05-23T15:41:24.858Z"
      },
      {
        "duration": 0,
        "start_time": "2023-05-23T15:41:24.859Z"
      },
      {
        "duration": 0,
        "start_time": "2023-05-23T15:41:24.860Z"
      },
      {
        "duration": 0,
        "start_time": "2023-05-23T15:41:24.861Z"
      },
      {
        "duration": 0,
        "start_time": "2023-05-23T15:41:24.862Z"
      },
      {
        "duration": 0,
        "start_time": "2023-05-23T15:41:24.863Z"
      },
      {
        "duration": 0,
        "start_time": "2023-05-23T15:41:24.864Z"
      },
      {
        "duration": 0,
        "start_time": "2023-05-23T15:41:24.864Z"
      },
      {
        "duration": 0,
        "start_time": "2023-05-23T15:41:24.865Z"
      },
      {
        "duration": 0,
        "start_time": "2023-05-23T15:41:24.866Z"
      },
      {
        "duration": 0,
        "start_time": "2023-05-23T15:41:24.867Z"
      },
      {
        "duration": 0,
        "start_time": "2023-05-23T15:41:24.868Z"
      },
      {
        "duration": 0,
        "start_time": "2023-05-23T15:41:24.876Z"
      },
      {
        "duration": 0,
        "start_time": "2023-05-23T15:41:24.877Z"
      },
      {
        "duration": 0,
        "start_time": "2023-05-23T15:41:24.878Z"
      },
      {
        "duration": 0,
        "start_time": "2023-05-23T15:41:24.879Z"
      },
      {
        "duration": 0,
        "start_time": "2023-05-23T15:41:24.880Z"
      },
      {
        "duration": 0,
        "start_time": "2023-05-23T15:41:24.881Z"
      },
      {
        "duration": 0,
        "start_time": "2023-05-23T15:41:24.882Z"
      },
      {
        "duration": 0,
        "start_time": "2023-05-23T15:41:24.883Z"
      },
      {
        "duration": 34,
        "start_time": "2023-05-23T16:01:01.861Z"
      },
      {
        "duration": 3,
        "start_time": "2023-05-23T16:01:17.980Z"
      },
      {
        "duration": 2,
        "start_time": "2023-05-23T16:02:18.053Z"
      },
      {
        "duration": 1942,
        "start_time": "2023-05-23T16:02:32.247Z"
      },
      {
        "duration": 911,
        "start_time": "2023-05-23T16:02:34.190Z"
      },
      {
        "duration": 3,
        "start_time": "2023-05-23T16:02:35.103Z"
      },
      {
        "duration": 601,
        "start_time": "2023-05-23T16:02:35.107Z"
      },
      {
        "duration": 12,
        "start_time": "2023-05-23T16:02:35.710Z"
      },
      {
        "duration": 93,
        "start_time": "2023-05-23T16:02:35.723Z"
      },
      {
        "duration": 4,
        "start_time": "2023-05-23T16:02:35.817Z"
      },
      {
        "duration": 7,
        "start_time": "2023-05-23T16:02:35.823Z"
      },
      {
        "duration": 9,
        "start_time": "2023-05-23T16:02:35.831Z"
      },
      {
        "duration": 3905,
        "start_time": "2023-05-23T16:02:35.841Z"
      },
      {
        "duration": 2,
        "start_time": "2023-05-23T16:02:39.748Z"
      },
      {
        "duration": 1986,
        "start_time": "2023-05-23T16:02:39.752Z"
      },
      {
        "duration": 2,
        "start_time": "2023-05-23T16:02:41.740Z"
      },
      {
        "duration": 1960,
        "start_time": "2023-05-23T16:02:41.745Z"
      },
      {
        "duration": 2,
        "start_time": "2023-05-23T16:02:43.707Z"
      },
      {
        "duration": 15348,
        "start_time": "2023-05-23T16:02:43.711Z"
      },
      {
        "duration": 3,
        "start_time": "2023-05-23T16:02:59.061Z"
      },
      {
        "duration": 73,
        "start_time": "2023-05-23T16:02:59.065Z"
      },
      {
        "duration": 32,
        "start_time": "2023-05-23T16:02:59.140Z"
      },
      {
        "duration": 30,
        "start_time": "2023-05-23T16:02:59.173Z"
      },
      {
        "duration": 549,
        "start_time": "2023-05-23T16:02:59.205Z"
      },
      {
        "duration": 0,
        "start_time": "2023-05-23T16:02:59.758Z"
      },
      {
        "duration": 0,
        "start_time": "2023-05-23T16:02:59.760Z"
      },
      {
        "duration": 0,
        "start_time": "2023-05-23T16:02:59.761Z"
      },
      {
        "duration": 0,
        "start_time": "2023-05-23T16:02:59.762Z"
      },
      {
        "duration": 0,
        "start_time": "2023-05-23T16:02:59.763Z"
      },
      {
        "duration": 0,
        "start_time": "2023-05-23T16:02:59.764Z"
      },
      {
        "duration": 0,
        "start_time": "2023-05-23T16:02:59.765Z"
      },
      {
        "duration": 0,
        "start_time": "2023-05-23T16:02:59.766Z"
      },
      {
        "duration": 0,
        "start_time": "2023-05-23T16:02:59.767Z"
      },
      {
        "duration": 0,
        "start_time": "2023-05-23T16:02:59.768Z"
      },
      {
        "duration": 0,
        "start_time": "2023-05-23T16:02:59.770Z"
      },
      {
        "duration": 0,
        "start_time": "2023-05-23T16:02:59.771Z"
      },
      {
        "duration": 0,
        "start_time": "2023-05-23T16:02:59.773Z"
      },
      {
        "duration": 0,
        "start_time": "2023-05-23T16:02:59.775Z"
      },
      {
        "duration": 0,
        "start_time": "2023-05-23T16:02:59.775Z"
      },
      {
        "duration": 0,
        "start_time": "2023-05-23T16:02:59.776Z"
      },
      {
        "duration": 0,
        "start_time": "2023-05-23T16:02:59.777Z"
      },
      {
        "duration": 0,
        "start_time": "2023-05-23T16:02:59.778Z"
      },
      {
        "duration": 0,
        "start_time": "2023-05-23T16:02:59.779Z"
      },
      {
        "duration": 0,
        "start_time": "2023-05-23T16:02:59.780Z"
      },
      {
        "duration": 0,
        "start_time": "2023-05-23T16:02:59.782Z"
      },
      {
        "duration": 0,
        "start_time": "2023-05-23T16:02:59.782Z"
      },
      {
        "duration": 0,
        "start_time": "2023-05-23T16:02:59.783Z"
      },
      {
        "duration": 0,
        "start_time": "2023-05-23T16:02:59.784Z"
      },
      {
        "duration": 0,
        "start_time": "2023-05-23T16:02:59.786Z"
      },
      {
        "duration": 0,
        "start_time": "2023-05-23T16:02:59.787Z"
      },
      {
        "duration": 0,
        "start_time": "2023-05-23T16:02:59.795Z"
      },
      {
        "duration": 3,
        "start_time": "2023-05-23T16:04:02.877Z"
      },
      {
        "duration": 12215,
        "start_time": "2023-05-23T16:04:23.061Z"
      },
      {
        "duration": 3,
        "start_time": "2023-05-23T16:04:35.278Z"
      },
      {
        "duration": 8,
        "start_time": "2023-05-23T16:04:35.283Z"
      },
      {
        "duration": 18,
        "start_time": "2023-05-23T16:04:35.293Z"
      },
      {
        "duration": 7,
        "start_time": "2023-05-23T16:04:35.312Z"
      },
      {
        "duration": 316142,
        "start_time": "2023-05-23T16:05:04.272Z"
      },
      {
        "duration": 13,
        "start_time": "2023-05-23T16:10:20.416Z"
      },
      {
        "duration": 1863,
        "start_time": "2023-05-23T16:18:36.988Z"
      },
      {
        "duration": 791,
        "start_time": "2023-05-23T16:18:38.853Z"
      },
      {
        "duration": 4,
        "start_time": "2023-05-23T16:18:39.646Z"
      },
      {
        "duration": 540,
        "start_time": "2023-05-23T16:18:39.698Z"
      },
      {
        "duration": 62,
        "start_time": "2023-05-23T16:18:40.239Z"
      },
      {
        "duration": 33,
        "start_time": "2023-05-23T16:18:40.303Z"
      },
      {
        "duration": 60,
        "start_time": "2023-05-23T16:18:40.338Z"
      },
      {
        "duration": 10,
        "start_time": "2023-05-23T16:18:40.401Z"
      },
      {
        "duration": 9,
        "start_time": "2023-05-23T16:18:40.412Z"
      },
      {
        "duration": 4180,
        "start_time": "2023-05-23T16:18:40.424Z"
      },
      {
        "duration": 3,
        "start_time": "2023-05-23T16:18:44.606Z"
      },
      {
        "duration": 2021,
        "start_time": "2023-05-23T16:18:44.610Z"
      },
      {
        "duration": 3,
        "start_time": "2023-05-23T16:18:46.633Z"
      },
      {
        "duration": 2041,
        "start_time": "2023-05-23T16:18:46.638Z"
      },
      {
        "duration": 3,
        "start_time": "2023-05-23T16:18:48.680Z"
      },
      {
        "duration": 16046,
        "start_time": "2023-05-23T16:18:48.684Z"
      },
      {
        "duration": 2,
        "start_time": "2023-05-23T16:19:04.732Z"
      },
      {
        "duration": 14,
        "start_time": "2023-05-23T16:19:04.736Z"
      },
      {
        "duration": 43,
        "start_time": "2023-05-23T16:19:04.751Z"
      },
      {
        "duration": 26,
        "start_time": "2023-05-23T16:19:04.796Z"
      },
      {
        "duration": 7,
        "start_time": "2023-05-23T16:19:04.824Z"
      },
      {
        "duration": 14,
        "start_time": "2023-05-23T16:19:04.833Z"
      },
      {
        "duration": 343358,
        "start_time": "2023-05-23T16:19:04.849Z"
      },
      {
        "duration": 10,
        "start_time": "2023-05-23T16:24:48.209Z"
      },
      {
        "duration": 115,
        "start_time": "2023-05-23T16:24:48.221Z"
      },
      {
        "duration": 3,
        "start_time": "2023-05-23T16:24:48.338Z"
      },
      {
        "duration": 823,
        "start_time": "2023-05-23T16:24:48.342Z"
      },
      {
        "duration": 5239,
        "start_time": "2023-05-23T16:24:49.169Z"
      },
      {
        "duration": 2,
        "start_time": "2023-05-23T16:24:54.410Z"
      },
      {
        "duration": 8,
        "start_time": "2023-05-23T16:24:54.414Z"
      },
      {
        "duration": 5,
        "start_time": "2023-05-23T16:24:54.424Z"
      },
      {
        "duration": 17,
        "start_time": "2023-05-23T16:24:54.430Z"
      },
      {
        "duration": 15,
        "start_time": "2023-05-23T16:24:54.449Z"
      },
      {
        "duration": 171241,
        "start_time": "2023-05-23T16:24:54.465Z"
      },
      {
        "duration": 3,
        "start_time": "2023-05-23T16:27:45.708Z"
      },
      {
        "duration": 35979,
        "start_time": "2023-05-23T16:27:45.713Z"
      },
      {
        "duration": 5,
        "start_time": "2023-05-23T16:28:21.694Z"
      },
      {
        "duration": 138161,
        "start_time": "2023-05-23T16:28:21.701Z"
      },
      {
        "duration": 4,
        "start_time": "2023-05-23T16:30:39.863Z"
      },
      {
        "duration": 11,
        "start_time": "2023-05-23T16:30:39.868Z"
      },
      {
        "duration": 9,
        "start_time": "2023-05-23T16:30:39.881Z"
      },
      {
        "duration": 7,
        "start_time": "2023-05-23T16:30:39.892Z"
      },
      {
        "duration": 5,
        "start_time": "2023-05-23T16:30:39.901Z"
      },
      {
        "duration": 6,
        "start_time": "2023-05-23T16:30:39.908Z"
      },
      {
        "duration": 6,
        "start_time": "2023-05-23T16:30:39.916Z"
      },
      {
        "duration": 6,
        "start_time": "2023-05-23T16:30:39.924Z"
      },
      {
        "duration": 6,
        "start_time": "2023-05-23T16:30:39.931Z"
      },
      {
        "duration": 6,
        "start_time": "2023-05-23T16:30:39.938Z"
      },
      {
        "duration": 52664,
        "start_time": "2023-05-23T16:30:39.946Z"
      },
      {
        "duration": 4,
        "start_time": "2023-05-23T16:31:32.612Z"
      },
      {
        "duration": 1712,
        "start_time": "2023-05-23T16:32:19.956Z"
      },
      {
        "duration": 806,
        "start_time": "2023-05-23T16:32:21.670Z"
      },
      {
        "duration": 5,
        "start_time": "2023-05-23T16:32:22.477Z"
      },
      {
        "duration": 303,
        "start_time": "2023-05-23T16:32:22.483Z"
      },
      {
        "duration": 20,
        "start_time": "2023-05-23T16:32:22.787Z"
      },
      {
        "duration": 36,
        "start_time": "2023-05-23T16:32:22.809Z"
      },
      {
        "duration": 4,
        "start_time": "2023-05-23T16:32:22.847Z"
      },
      {
        "duration": 10,
        "start_time": "2023-05-23T16:32:22.852Z"
      },
      {
        "duration": 16,
        "start_time": "2023-05-23T16:32:22.863Z"
      },
      {
        "duration": 3407,
        "start_time": "2023-05-23T16:32:22.881Z"
      },
      {
        "duration": 2,
        "start_time": "2023-05-23T16:32:26.290Z"
      },
      {
        "duration": 2207,
        "start_time": "2023-05-23T16:32:26.296Z"
      },
      {
        "duration": 3,
        "start_time": "2023-05-23T16:32:28.505Z"
      },
      {
        "duration": 2232,
        "start_time": "2023-05-23T16:32:28.510Z"
      },
      {
        "duration": 3,
        "start_time": "2023-05-23T16:32:30.744Z"
      },
      {
        "duration": 17078,
        "start_time": "2023-05-23T16:32:30.750Z"
      },
      {
        "duration": 2,
        "start_time": "2023-05-23T16:32:47.830Z"
      },
      {
        "duration": 8,
        "start_time": "2023-05-23T16:32:47.833Z"
      },
      {
        "duration": 34,
        "start_time": "2023-05-23T16:32:47.843Z"
      },
      {
        "duration": 5,
        "start_time": "2023-05-23T16:32:47.879Z"
      },
      {
        "duration": 15,
        "start_time": "2023-05-23T16:32:47.885Z"
      },
      {
        "duration": 6,
        "start_time": "2023-05-23T16:32:47.901Z"
      },
      {
        "duration": 338880,
        "start_time": "2023-05-23T16:32:47.908Z"
      },
      {
        "duration": 13,
        "start_time": "2023-05-23T16:38:26.790Z"
      },
      {
        "duration": 123,
        "start_time": "2023-05-23T16:38:26.805Z"
      },
      {
        "duration": 3,
        "start_time": "2023-05-23T16:38:26.930Z"
      },
      {
        "duration": 889,
        "start_time": "2023-05-23T16:38:26.935Z"
      },
      {
        "duration": 5908,
        "start_time": "2023-05-23T16:38:27.826Z"
      },
      {
        "duration": 2,
        "start_time": "2023-05-23T16:38:33.736Z"
      },
      {
        "duration": 8,
        "start_time": "2023-05-23T16:38:33.740Z"
      },
      {
        "duration": 11,
        "start_time": "2023-05-23T16:38:33.750Z"
      },
      {
        "duration": 26,
        "start_time": "2023-05-23T16:38:33.763Z"
      },
      {
        "duration": 13,
        "start_time": "2023-05-23T16:38:33.791Z"
      },
      {
        "duration": 234400,
        "start_time": "2023-05-23T16:38:33.805Z"
      },
      {
        "duration": 4,
        "start_time": "2023-05-23T16:42:28.207Z"
      },
      {
        "duration": 53580,
        "start_time": "2023-05-23T16:42:28.212Z"
      },
      {
        "duration": 4,
        "start_time": "2023-05-23T16:43:21.795Z"
      },
      {
        "duration": 875248,
        "start_time": "2023-05-23T16:43:21.800Z"
      },
      {
        "duration": 5,
        "start_time": "2023-05-23T16:57:57.051Z"
      },
      {
        "duration": 16,
        "start_time": "2023-05-23T16:57:57.058Z"
      },
      {
        "duration": 12,
        "start_time": "2023-05-23T16:57:57.079Z"
      },
      {
        "duration": 3,
        "start_time": "2023-05-23T16:57:57.099Z"
      },
      {
        "duration": 17,
        "start_time": "2023-05-23T16:57:57.104Z"
      },
      {
        "duration": 18,
        "start_time": "2023-05-23T16:57:57.124Z"
      },
      {
        "duration": 28,
        "start_time": "2023-05-23T16:57:57.145Z"
      },
      {
        "duration": 12,
        "start_time": "2023-05-23T16:57:57.175Z"
      },
      {
        "duration": 35,
        "start_time": "2023-05-23T16:57:57.189Z"
      },
      {
        "duration": 5,
        "start_time": "2023-05-23T16:57:57.226Z"
      },
      {
        "duration": 54976,
        "start_time": "2023-05-23T16:57:57.233Z"
      },
      {
        "duration": 5,
        "start_time": "2023-05-23T16:58:52.211Z"
      }
    ],
    "kernelspec": {
      "display_name": "Python 3 (ipykernel)",
      "language": "python",
      "name": "python3"
    },
    "language_info": {
      "codemirror_mode": {
        "name": "ipython",
        "version": 3
      },
      "file_extension": ".py",
      "mimetype": "text/x-python",
      "name": "python",
      "nbconvert_exporter": "python",
      "pygments_lexer": "ipython3",
      "version": "3.9.5"
    },
    "toc": {
      "base_numbering": 1,
      "nav_menu": {},
      "number_sections": true,
      "sideBar": true,
      "skip_h1_title": true,
      "title_cell": "Содержание",
      "title_sidebar": "Contents",
      "toc_cell": true,
      "toc_position": {
        "height": "calc(100% - 180px)",
        "left": "10px",
        "top": "150px",
        "width": "165px"
      },
      "toc_section_display": true,
      "toc_window_display": true
    },
    "colab": {
      "provenance": [],
      "include_colab_link": true
    }
  },
  "nbformat": 4,
  "nbformat_minor": 0
}