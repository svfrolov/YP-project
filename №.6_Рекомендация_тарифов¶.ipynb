{
  "cells": [
    {
      "cell_type": "markdown",
      "metadata": {
        "id": "view-in-github",
        "colab_type": "text"
      },
      "source": [
        "<a href=\"https://colab.research.google.com/github/svfrolov/YP-project/blob/main/%E2%84%966_%D0%A0%D0%B5%D0%BA%D0%BE%D0%BC%D0%B5%D0%BD%D0%B4%D0%B0%D1%86%D0%B8%D1%8F_%D1%82%D0%B0%D1%80%D0%B8%D1%84%D0%BE%D0%B2%C2%B6.ipynb\" target=\"_parent\"><img src=\"https://colab.research.google.com/assets/colab-badge.svg\" alt=\"Open In Colab\"/></a>"
      ]
    },
    {
      "cell_type": "markdown",
      "metadata": {
        "id": "Z9R-BgtUf5CD"
      },
      "source": [
        "# Рекомендация тарифов"
      ]
    },
    {
      "cell_type": "markdown",
      "metadata": {
        "id": "9JAZ-59Xf5CI"
      },
      "source": [
        "# Описание проекта"
      ]
    },
    {
      "cell_type": "markdown",
      "metadata": {
        "id": "aP1TosaRf5CJ"
      },
      "source": [
        "Оператор мобильной связи «Мегалайн» выяснил: многие клиенты пользуются архивными тарифами. Они хотят построить систему, способную проанализировать поведение клиентов и предложить пользователям новый тариф: `«Смарт»` или `«Ультра»`.\n",
        "\n",
        "В распоряжении данные о поведении клиентов, которые уже перешли на эти тарифы (из проекта курса «Статистический анализ данных»). \n",
        "\n",
        "\n",
        "Нужно построить модель для задачи классификации, которая выберет подходящий тариф. Предобработка данных не понадобится — вы её уже сделали.\n",
        "\n",
        "\n",
        "**Постройте модель с максимально большим значением accuracy. Чтобы сдать проект успешно, нужно довести долю правильных ответов по крайней мере до `0.75`. Проверьте `accuracy` на тестовой выборке самостоятельно.**"
      ]
    },
    {
      "cell_type": "markdown",
      "metadata": {
        "id": "7FqBQmaEf5CK"
      },
      "source": [
        "# Инструкция по выполнению проекта"
      ]
    },
    {
      "cell_type": "markdown",
      "metadata": {
        "id": "OCWNPfcBf5CL"
      },
      "source": [
        "1. Откройте файл с данными и изучите его. Путь к файлу: /datasets/users_behavior.csv. Скачать датасет\n",
        "\n",
        "\n",
        "2. Разделите исходные данные на обучающую, валидационную и тестовую выборки.\n",
        "\n",
        "\n",
        "3. Исследуйте качество разных моделей, меняя гиперпараметры. Кратко напишите выводы исследования.\n",
        "\n",
        "\n",
        "4. Проверьте качество модели на тестовой выборке.\n",
        "\n",
        "\n",
        "5. Дополнительное задание: проверьте модели на вменяемость. Ничего страшного, если не получится: эти данные сложнее тех, с которыми вы работали раньше. В следующем курсе подробнее об этом расскажем."
      ]
    },
    {
      "cell_type": "markdown",
      "metadata": {
        "id": "sGTWnJTpf5CL"
      },
      "source": [
        "# Описание данных"
      ]
    },
    {
      "cell_type": "markdown",
      "metadata": {
        "id": "xByAHROcf5CM"
      },
      "source": [
        "**Каждый объект в наборе данных — это информация о поведении одного пользователя за месяц. Известно:**\n",
        "\n",
        "\n",
        "* сalls — количество звонков,\n",
        "* minutes — суммарная длительность звонков в минутах,\n",
        "* messages — количество sms-сообщений,\n",
        "* mb_used — израсходованный интернет-трафик в Мб,\n",
        "* is_ultra — каким тарифом пользовался в течение месяца («Ультра» — 1, «Смарт» — 0)."
      ]
    },
    {
      "cell_type": "markdown",
      "metadata": {
        "id": "DZLjwEFff5CM"
      },
      "source": [
        "## Откройте и изучите файл"
      ]
    },
    {
      "cell_type": "code",
      "execution_count": null,
      "metadata": {
        "id": "nWqwNYaHf5CN"
      },
      "outputs": [],
      "source": [
        "import pandas as pd\n",
        "import seaborn as sns\n",
        "import matplotlib.pyplot as plt\n",
        "from sklearn.tree import DecisionTreeClassifier\n",
        "from sklearn.ensemble import RandomForestClassifier\n",
        "from sklearn.linear_model import LogisticRegression\n",
        "from sklearn.model_selection import train_test_split\n",
        "from sklearn.metrics import accuracy_score\n",
        "from sklearn.dummy import DummyClassifier\n",
        "RANDOM_SEED = 54"
      ]
    },
    {
      "cell_type": "code",
      "execution_count": null,
      "metadata": {
        "id": "SgeszEZHf5CP"
      },
      "outputs": [],
      "source": [
        "df = pd.read_csv(\"/datasets/users_behavior.csv\")"
      ]
    },
    {
      "cell_type": "code",
      "execution_count": null,
      "metadata": {
        "id": "Ju7Vs5dCf5CQ",
        "outputId": "82854da4-9649-492a-a41e-1563df03ebc8"
      },
      "outputs": [
        {
          "data": {
            "text/html": [
              "<div>\n",
              "<style scoped>\n",
              "    .dataframe tbody tr th:only-of-type {\n",
              "        vertical-align: middle;\n",
              "    }\n",
              "\n",
              "    .dataframe tbody tr th {\n",
              "        vertical-align: top;\n",
              "    }\n",
              "\n",
              "    .dataframe thead th {\n",
              "        text-align: right;\n",
              "    }\n",
              "</style>\n",
              "<table border=\"1\" class=\"dataframe\">\n",
              "  <thead>\n",
              "    <tr style=\"text-align: right;\">\n",
              "      <th></th>\n",
              "      <th>calls</th>\n",
              "      <th>minutes</th>\n",
              "      <th>messages</th>\n",
              "      <th>mb_used</th>\n",
              "      <th>is_ultra</th>\n",
              "    </tr>\n",
              "  </thead>\n",
              "  <tbody>\n",
              "    <tr>\n",
              "      <th>0</th>\n",
              "      <td>40.0</td>\n",
              "      <td>311.90</td>\n",
              "      <td>83.0</td>\n",
              "      <td>19915.42</td>\n",
              "      <td>0</td>\n",
              "    </tr>\n",
              "    <tr>\n",
              "      <th>1</th>\n",
              "      <td>85.0</td>\n",
              "      <td>516.75</td>\n",
              "      <td>56.0</td>\n",
              "      <td>22696.96</td>\n",
              "      <td>0</td>\n",
              "    </tr>\n",
              "    <tr>\n",
              "      <th>2</th>\n",
              "      <td>77.0</td>\n",
              "      <td>467.66</td>\n",
              "      <td>86.0</td>\n",
              "      <td>21060.45</td>\n",
              "      <td>0</td>\n",
              "    </tr>\n",
              "    <tr>\n",
              "      <th>4</th>\n",
              "      <td>66.0</td>\n",
              "      <td>418.74</td>\n",
              "      <td>1.0</td>\n",
              "      <td>14502.75</td>\n",
              "      <td>0</td>\n",
              "    </tr>\n",
              "    <tr>\n",
              "      <th>5</th>\n",
              "      <td>58.0</td>\n",
              "      <td>344.56</td>\n",
              "      <td>21.0</td>\n",
              "      <td>15823.37</td>\n",
              "      <td>0</td>\n",
              "    </tr>\n",
              "    <tr>\n",
              "      <th>7</th>\n",
              "      <td>15.0</td>\n",
              "      <td>132.40</td>\n",
              "      <td>6.0</td>\n",
              "      <td>21911.60</td>\n",
              "      <td>0</td>\n",
              "    </tr>\n",
              "    <tr>\n",
              "      <th>9</th>\n",
              "      <td>90.0</td>\n",
              "      <td>665.41</td>\n",
              "      <td>38.0</td>\n",
              "      <td>17358.61</td>\n",
              "      <td>0</td>\n",
              "    </tr>\n",
              "    <tr>\n",
              "      <th>3</th>\n",
              "      <td>106.0</td>\n",
              "      <td>745.53</td>\n",
              "      <td>81.0</td>\n",
              "      <td>8437.39</td>\n",
              "      <td>1</td>\n",
              "    </tr>\n",
              "    <tr>\n",
              "      <th>6</th>\n",
              "      <td>57.0</td>\n",
              "      <td>431.64</td>\n",
              "      <td>20.0</td>\n",
              "      <td>3738.90</td>\n",
              "      <td>1</td>\n",
              "    </tr>\n",
              "    <tr>\n",
              "      <th>8</th>\n",
              "      <td>7.0</td>\n",
              "      <td>43.39</td>\n",
              "      <td>3.0</td>\n",
              "      <td>2538.67</td>\n",
              "      <td>1</td>\n",
              "    </tr>\n",
              "  </tbody>\n",
              "</table>\n",
              "</div>"
            ],
            "text/plain": [
              "   calls  minutes  messages   mb_used  is_ultra\n",
              "0   40.0   311.90      83.0  19915.42         0\n",
              "1   85.0   516.75      56.0  22696.96         0\n",
              "2   77.0   467.66      86.0  21060.45         0\n",
              "4   66.0   418.74       1.0  14502.75         0\n",
              "5   58.0   344.56      21.0  15823.37         0\n",
              "7   15.0   132.40       6.0  21911.60         0\n",
              "9   90.0   665.41      38.0  17358.61         0\n",
              "3  106.0   745.53      81.0   8437.39         1\n",
              "6   57.0   431.64      20.0   3738.90         1\n",
              "8    7.0    43.39       3.0   2538.67         1"
            ]
          },
          "execution_count": 7,
          "metadata": {},
          "output_type": "execute_result"
        }
      ],
      "source": [
        "df.head(10).sort_values('is_ultra')"
      ]
    },
    {
      "cell_type": "code",
      "execution_count": null,
      "metadata": {
        "id": "gSdqD8Upf5CS",
        "outputId": "8ec17514-81a7-4608-f45f-d5edf4b3751b"
      },
      "outputs": [
        {
          "name": "stdout",
          "output_type": "stream",
          "text": [
            "<class 'pandas.core.frame.DataFrame'>\n",
            "RangeIndex: 3214 entries, 0 to 3213\n",
            "Data columns (total 5 columns):\n",
            " #   Column    Non-Null Count  Dtype  \n",
            "---  ------    --------------  -----  \n",
            " 0   calls     3214 non-null   float64\n",
            " 1   minutes   3214 non-null   float64\n",
            " 2   messages  3214 non-null   float64\n",
            " 3   mb_used   3214 non-null   float64\n",
            " 4   is_ultra  3214 non-null   int64  \n",
            "dtypes: float64(4), int64(1)\n",
            "memory usage: 125.7 KB\n"
          ]
        },
        {
          "data": {
            "text/html": [
              "<div>\n",
              "<style scoped>\n",
              "    .dataframe tbody tr th:only-of-type {\n",
              "        vertical-align: middle;\n",
              "    }\n",
              "\n",
              "    .dataframe tbody tr th {\n",
              "        vertical-align: top;\n",
              "    }\n",
              "\n",
              "    .dataframe thead th {\n",
              "        text-align: right;\n",
              "    }\n",
              "</style>\n",
              "<table border=\"1\" class=\"dataframe\">\n",
              "  <thead>\n",
              "    <tr style=\"text-align: right;\">\n",
              "      <th></th>\n",
              "      <th>calls</th>\n",
              "      <th>minutes</th>\n",
              "      <th>messages</th>\n",
              "      <th>mb_used</th>\n",
              "      <th>is_ultra</th>\n",
              "    </tr>\n",
              "  </thead>\n",
              "  <tbody>\n",
              "    <tr>\n",
              "      <th>count</th>\n",
              "      <td>3214.000000</td>\n",
              "      <td>3214.000000</td>\n",
              "      <td>3214.000000</td>\n",
              "      <td>3214.000000</td>\n",
              "      <td>3214.000000</td>\n",
              "    </tr>\n",
              "    <tr>\n",
              "      <th>mean</th>\n",
              "      <td>63.038892</td>\n",
              "      <td>438.208787</td>\n",
              "      <td>38.281269</td>\n",
              "      <td>17207.673836</td>\n",
              "      <td>0.306472</td>\n",
              "    </tr>\n",
              "    <tr>\n",
              "      <th>std</th>\n",
              "      <td>33.236368</td>\n",
              "      <td>234.569872</td>\n",
              "      <td>36.148326</td>\n",
              "      <td>7570.968246</td>\n",
              "      <td>0.461100</td>\n",
              "    </tr>\n",
              "    <tr>\n",
              "      <th>min</th>\n",
              "      <td>0.000000</td>\n",
              "      <td>0.000000</td>\n",
              "      <td>0.000000</td>\n",
              "      <td>0.000000</td>\n",
              "      <td>0.000000</td>\n",
              "    </tr>\n",
              "    <tr>\n",
              "      <th>25%</th>\n",
              "      <td>40.000000</td>\n",
              "      <td>274.575000</td>\n",
              "      <td>9.000000</td>\n",
              "      <td>12491.902500</td>\n",
              "      <td>0.000000</td>\n",
              "    </tr>\n",
              "    <tr>\n",
              "      <th>50%</th>\n",
              "      <td>62.000000</td>\n",
              "      <td>430.600000</td>\n",
              "      <td>30.000000</td>\n",
              "      <td>16943.235000</td>\n",
              "      <td>0.000000</td>\n",
              "    </tr>\n",
              "    <tr>\n",
              "      <th>75%</th>\n",
              "      <td>82.000000</td>\n",
              "      <td>571.927500</td>\n",
              "      <td>57.000000</td>\n",
              "      <td>21424.700000</td>\n",
              "      <td>1.000000</td>\n",
              "    </tr>\n",
              "    <tr>\n",
              "      <th>max</th>\n",
              "      <td>244.000000</td>\n",
              "      <td>1632.060000</td>\n",
              "      <td>224.000000</td>\n",
              "      <td>49745.730000</td>\n",
              "      <td>1.000000</td>\n",
              "    </tr>\n",
              "  </tbody>\n",
              "</table>\n",
              "</div>"
            ],
            "text/plain": [
              "             calls      minutes     messages       mb_used     is_ultra\n",
              "count  3214.000000  3214.000000  3214.000000   3214.000000  3214.000000\n",
              "mean     63.038892   438.208787    38.281269  17207.673836     0.306472\n",
              "std      33.236368   234.569872    36.148326   7570.968246     0.461100\n",
              "min       0.000000     0.000000     0.000000      0.000000     0.000000\n",
              "25%      40.000000   274.575000     9.000000  12491.902500     0.000000\n",
              "50%      62.000000   430.600000    30.000000  16943.235000     0.000000\n",
              "75%      82.000000   571.927500    57.000000  21424.700000     1.000000\n",
              "max     244.000000  1632.060000   224.000000  49745.730000     1.000000"
            ]
          },
          "execution_count": 8,
          "metadata": {},
          "output_type": "execute_result"
        }
      ],
      "source": [
        "df.info()\n",
        "df.describe()"
      ]
    },
    {
      "cell_type": "code",
      "execution_count": null,
      "metadata": {
        "id": "-bu6waS1f5CT",
        "outputId": "40cb2fd3-16ca-4683-b10d-cc35dcc8aaf2"
      },
      "outputs": [
        {
          "name": "stdout",
          "output_type": "stream",
          "text": [
            "Всего дубликатов = 0\n"
          ]
        }
      ],
      "source": [
        "print('Всего дубликатов =', df.duplicated().sum())"
      ]
    },
    {
      "cell_type": "markdown",
      "metadata": {
        "id": "JBhbkSF3f5CT"
      },
      "source": [
        "**Пропусков и дубликатов нет**"
      ]
    },
    {
      "cell_type": "code",
      "execution_count": null,
      "metadata": {
        "id": "mcB9s9Qff5CU",
        "outputId": "a59081d4-a0a3-4c54-fea4-b13fd042938c"
      },
      "outputs": [
        {
          "data": {
            "text/plain": [
              "array([0, 1])"
            ]
          },
          "execution_count": 10,
          "metadata": {},
          "output_type": "execute_result"
        }
      ],
      "source": [
        "df['is_ultra'].unique()"
      ]
    },
    {
      "cell_type": "code",
      "execution_count": null,
      "metadata": {
        "id": "bXLbYS4sf5CU",
        "outputId": "f07ac655-a6c1-4223-fc73-1ad4eda4a2e7"
      },
      "outputs": [
        {
          "data": {
            "text/plain": [
              "0    2229\n",
              "1     985\n",
              "Name: is_ultra, dtype: int64"
            ]
          },
          "execution_count": 11,
          "metadata": {},
          "output_type": "execute_result"
        }
      ],
      "source": [
        "df.is_ultra.value_counts()"
      ]
    },
    {
      "cell_type": "code",
      "execution_count": null,
      "metadata": {
        "id": "7UWCkfxZf5CV",
        "outputId": "a8b34f04-22ff-40ea-df7d-40d24319bb5e"
      },
      "outputs": [
        {
          "name": "stdout",
          "output_type": "stream",
          "text": [
            "             calls   minutes  messages   mb_used  is_ultra\n",
            "calls     1.000000  0.982083  0.177385  0.286442  0.207122\n",
            "minutes   0.982083  1.000000  0.173110  0.280967  0.206955\n",
            "messages  0.177385  0.173110  1.000000  0.195721  0.203830\n",
            "mb_used   0.286442  0.280967  0.195721  1.000000  0.198568\n",
            "is_ultra  0.207122  0.206955  0.203830  0.198568  1.000000\n"
          ]
        },
        {
          "data": {
            "image/png": "[encoded data removed]",
            "text/plain": [
              "<Figure size 432x288 with 2 Axes>"
            ]
          },
          "metadata": {
            "needs_background": "light"
          },
          "output_type": "display_data"
        }
      ],
      "source": [
        "print(df.corr())\n",
        "df_plot = sns.heatmap(df.corr(), cmap=\"YlGnBu\", annot=True)  \n",
        "plt.show()"
      ]
    },
    {
      "cell_type": "markdown",
      "metadata": {
        "id": "ZxgqbMDof5CW"
      },
      "source": [
        "<b>Удалим звонки, так как в тарифах пакеты минут! </b>\n",
        "\n",
        "<b>Звонки не имеют значения, между звонками и минутами кор=0,98</b>"
      ]
    },
    {
      "cell_type": "markdown",
      "metadata": {
        "id": "EyKrG3eQf5CW"
      },
      "source": [
        "<b>Вывод:</b>\n",
        "\n",
        "1. Данные готовы\n",
        "\n",
        "2. Дубликатов нет\n",
        "    \n",
        "3. Пропусков нет\n"
      ]
    },
    {
      "cell_type": "markdown",
      "metadata": {
        "id": "SXNejWLqf5CW"
      },
      "source": [
        "## Разбейте данные на выборки"
      ]
    },
    {
      "cell_type": "code",
      "execution_count": null,
      "metadata": {
        "id": "cJvSdpeBf5CX"
      },
      "outputs": [],
      "source": [
        "# объявим две переменные\n",
        "\n",
        "features = df.drop(['is_ultra'], axis=1)\n",
        "target = df['is_ultra']"
      ]
    },
    {
      "cell_type": "code",
      "execution_count": null,
      "metadata": {
        "id": "a3fQyGAif5CX"
      },
      "outputs": [],
      "source": [
        "(features_train, features_valid, \n",
        " target_train, target_valid) = train_test_split(features, \n",
        "                                                target, random_state=12345, stratify=target)"
      ]
    },
    {
      "cell_type": "code",
      "execution_count": null,
      "metadata": {
        "id": "UzymFj7Cf5CX"
      },
      "outputs": [],
      "source": [
        "(features_valid, features_test, \n",
        " target_valid, target_test) = train_test_split(features_valid, \n",
        "                                               target_valid, test_size=0.5, random_state=12345, stratify=target_valid)"
      ]
    },
    {
      "cell_type": "markdown",
      "metadata": {
        "id": "5NhHBVGQf5CY"
      },
      "source": [
        "<b>Размер валидационной выборки:</b>"
      ]
    },
    {
      "cell_type": "code",
      "execution_count": null,
      "metadata": {
        "id": "rF5R5wcqf5CY",
        "outputId": "228f1dc7-b5d6-48ed-c15e-5ac0c04e8bb8"
      },
      "outputs": [
        {
          "name": "stdout",
          "output_type": "stream",
          "text": [
            "(402, 4)\n",
            "(402,)\n"
          ]
        }
      ],
      "source": [
        "print(features_valid.shape)\n",
        "print(target_valid.shape)"
      ]
    },
    {
      "cell_type": "markdown",
      "metadata": {
        "id": "ZQgNB0BIf5CZ"
      },
      "source": [
        "<b>Размер тестовой выборки:</b>"
      ]
    },
    {
      "cell_type": "code",
      "execution_count": null,
      "metadata": {
        "id": "J4UxnwAZf5CZ",
        "outputId": "5d9c9650-42d5-4278-99cf-d98d76a4046d"
      },
      "outputs": [
        {
          "name": "stdout",
          "output_type": "stream",
          "text": [
            "(402, 4)\n",
            "(402,)\n"
          ]
        }
      ],
      "source": [
        "print(features_test.shape)\n",
        "print(target_test.shape)"
      ]
    },
    {
      "cell_type": "markdown",
      "metadata": {
        "id": "vjCxc3v4f5Ca"
      },
      "source": [
        "<b>Вывод:</b> \\\n",
        "Обучающий набор данных сохранён в переменных"
      ]
    },
    {
      "cell_type": "markdown",
      "metadata": {
        "id": "nWDWbd15f5Ca"
      },
      "source": [
        "## Исследуйте модели"
      ]
    },
    {
      "cell_type": "markdown",
      "metadata": {
        "id": "YeezOMbdf5Ca"
      },
      "source": [
        "### Дерево решений"
      ]
    },
    {
      "cell_type": "code",
      "execution_count": null,
      "metadata": {
        "id": "zp3ykXGnf5Ca",
        "outputId": "60cfa03d-c427-4222-d20d-712724f19f61"
      },
      "outputs": [
        {
          "name": "stdout",
          "output_type": "stream",
          "text": [
            "Accuracy лучшей модели: 0.7238805970149254\n",
            "Гиперпараметры: DecisionTreeClassifier(max_depth=1, random_state=54)\n"
          ]
        }
      ],
      "source": [
        "best_model = None\n",
        "best_result = 10000\n",
        "best_depth = 0\n",
        "for depth in range(1, 6):\n",
        "\tmodel = DecisionTreeClassifier(random_state=RANDOM_SEED, max_depth=depth) # обучим модель с заданной глубиной дерева\n",
        "\tmodel.fit(features_train, target_train) # обучим модель\n",
        "\tpredictions = model.predict(features_valid) # получим предсказания модели\n",
        "\tresult = accuracy_score(target_valid, predictions) # считаем качество модели\n",
        "\tif result < best_result:\n",
        "\t\tbest_model = model\n",
        "\t\tbest_result = result\n",
        "\t\tbest_depth = depth\n",
        "\n",
        "print(\"Accuracy лучшей модели:\", best_result)\n",
        "print('Гиперпараметры:', best_model)"
      ]
    },
    {
      "cell_type": "markdown",
      "metadata": {
        "id": "2-P0Myvyf5Cb"
      },
      "source": [
        "### Случайный лес"
      ]
    },
    {
      "cell_type": "code",
      "execution_count": null,
      "metadata": {
        "id": "O7km_71zf5Cc",
        "outputId": "7dee0787-67ad-463c-c53d-31933a3065da"
      },
      "outputs": [
        {
          "name": "stdout",
          "output_type": "stream",
          "text": [
            "Accuracy лучшей модели: 0.7810945273631841\n",
            "Гиперпараметры RandomForestClassifier(max_depth=7, max_features=None, n_estimators=50,\n",
            "                       random_state=12345)\n"
          ]
        }
      ],
      "source": [
        "best_model = None\n",
        "best_result_rf = 10000\n",
        "best_est = 0\n",
        "best_depth = 0\n",
        "for est in range(10, 51, 10):\n",
        "\tfor depth in range (5, 11):\n",
        "\t\tmodel = RandomForestClassifier(random_state=12345, max_features=None, n_estimators=est, max_depth=depth) \n",
        "\t\tmodel.fit(features_train, target_train) \n",
        "\t\tpredictions = model.predict(features_valid) \n",
        "\t\tresult = accuracy_score(target_valid, predictions)\n",
        "\t\tif result < best_result_rf:\n",
        "\t\t\tbest_model = model\n",
        "\t\t\tbest_result_rf = result\n",
        "\t\t\tbest_est = est\n",
        "\t\t\tbest_depth = depth\n",
        "\n",
        "print(\"Accuracy лучшей модели:\", best_result_rf)\n",
        "print('Гиперпараметры', best_model)"
      ]
    },
    {
      "cell_type": "markdown",
      "metadata": {
        "id": "oCVnqdGtf5Cc"
      },
      "source": [
        "### Линейная регрессия"
      ]
    },
    {
      "cell_type": "code",
      "execution_count": null,
      "metadata": {
        "id": "KwyaTyM5f5Cc",
        "outputId": "2f86ea05-6843-4876-bbb8-3b8fc178baa8"
      },
      "outputs": [
        {
          "name": "stdout",
          "output_type": "stream",
          "text": [
            "Accuracy лучшей модели: 0.7437810945273632\n"
          ]
        }
      ],
      "source": [
        "model = LogisticRegression(random_state=RANDOM_SEED, max_iter=100, solver = 'lbfgs')\n",
        "model.fit(features_train, target_train)\n",
        "predictions_valid_l = model.predict(features_valid)\n",
        "\n",
        "result_l = accuracy_score(predictions_valid_l, target_valid)\n",
        "print(\"Accuracy лучшей модели:\", result_l)"
      ]
    },
    {
      "cell_type": "markdown",
      "metadata": {
        "id": "PvxR_IsHf5Cd"
      },
      "source": [
        "### Результаты:"
      ]
    },
    {
      "cell_type": "code",
      "execution_count": null,
      "metadata": {
        "id": "jftvBG93f5Cd",
        "outputId": "c77cfd62-e2ce-408e-bab1-2b9e7aeb38a7"
      },
      "outputs": [
        {
          "name": "stdout",
          "output_type": "stream",
          "text": [
            "Accuracy лучшей модели DecisionTreeClassifier: 0.7238805970149254\n",
            "Accuracy лучшей модели RandomForestClassifier: 0.7810945273631841\n",
            "Accuracy лучшей модели LogisticRegression: 0.7437810945273632\n"
          ]
        }
      ],
      "source": [
        "print(\"Accuracy лучшей модели DecisionTreeClassifier:\", best_result)\n",
        "print(\"Accuracy лучшей модели RandomForestClassifier:\", best_result_rf)\n",
        "print(\"Accuracy лучшей модели LogisticRegression:\", result_l)"
      ]
    },
    {
      "cell_type": "markdown",
      "metadata": {
        "id": "rdpZvyO4f5Ce"
      },
      "source": [
        "### Вывод:"
      ]
    },
    {
      "cell_type": "markdown",
      "metadata": {
        "id": "QnV9-vvJf5Ce"
      },
      "source": [
        "\n",
        "\n",
        "1. Accuracy лучшей модели DecisionTreeClassifier: 0.7238805970149254 \\\n",
        "   Гиперпараметры: DecisionTreeClassifier(max_depth=1, random_state=54) \\\n",
        "\n",
        "\n",
        "2. Accuracy лучшей модели RandomForestClassifier: 0.7810945273631841 \\\n",
        "   Гиперпараметры RandomForestClassifier(max_depth=7, max_features=None, n_estimators=50, random_state=12345) \\\n",
        "\n",
        "\n",
        "3. Accuracy лучшей модели LogisticRegression: 0.7437810945273632\n",
        "\n",
        "**Наиболее лучшие результаты у RandomForestClassifier**"
      ]
    },
    {
      "cell_type": "markdown",
      "metadata": {
        "id": "QNggvq5-f5Cw"
      },
      "source": [
        "## Проверьте модель на тестовой выборке"
      ]
    },
    {
      "cell_type": "markdown",
      "metadata": {
        "id": "EOGwd3Syf5Cx"
      },
      "source": [
        "<b>Проверим модель случайного леса</b> "
      ]
    },
    {
      "cell_type": "code",
      "execution_count": null,
      "metadata": {
        "id": "kQLQTECCf5Cx",
        "outputId": "bc3f4e74-c9e8-4d3a-d621-015b27442a60"
      },
      "outputs": [
        {
          "name": "stdout",
          "output_type": "stream",
          "text": [
            "max_depth = 1 : 0.7661691542288557\n",
            "max_depth = 2 : 0.8034825870646766\n",
            "max_depth = 3 : 0.8084577114427861\n",
            "max_depth = 4 : 0.8034825870646766\n",
            "max_depth = 5 : 0.8034825870646766\n",
            "max_depth = 6 : 0.8134328358208955\n",
            "max_depth = 7 : 0.8233830845771144\n",
            "max_depth = 8 : 0.8208955223880597\n",
            "max_depth = 9 : 0.8258706467661692\n",
            "max_depth = 10 : 0.8233830845771144\n"
          ]
        }
      ],
      "source": [
        "for depth in range(1, 11):\n",
        "\tmodel = RandomForestClassifier(random_state=12345, max_depth=depth).fit(features_train, target_train) \n",
        "\tpredictions_t = model.predict(features_test)\n",
        "\n",
        "\tprint(\"max_depth =\", depth, \": \", end='')\n",
        "\tprint(accuracy_score(target_test, predictions_t))"
      ]
    },
    {
      "cell_type": "code",
      "execution_count": null,
      "metadata": {
        "id": "JFJPu1YCf5Cy",
        "outputId": "5f07478a-1d5e-4a40-9b05-61c5d83c4783"
      },
      "outputs": [
        {
          "name": "stdout",
          "output_type": "stream",
          "text": [
            "Accuracy RandomForestClassifier 0.8233830845771144\n"
          ]
        }
      ],
      "source": [
        "best_result_rf_i = RandomForestClassifier(random_state=12345, \n",
        "                                          n_estimators=est, max_depth=depth).fit(features_train, target_train)\n",
        "predictions_test = model.predict(features_test)\n",
        "result_test = accuracy_score(target_test, predictions_test)\n",
        "print('Accuracy RandomForestClassifier', result_test)"
      ]
    },
    {
      "cell_type": "markdown",
      "metadata": {
        "id": "anHTsk6nf5Cz"
      },
      "source": [
        "<b>Вывод:</b> \n",
        "\n",
        "Accuracy модели RandomForestClassifier на тестовой выборке: 0.8233830845771144"
      ]
    },
    {
      "cell_type": "markdown",
      "metadata": {
        "id": "G_N9YONnf5C0"
      },
      "source": [
        "## (бонус) Проверьте модели на адекватность"
      ]
    },
    {
      "cell_type": "markdown",
      "metadata": {
        "id": "E_s4DZl6f5C0"
      },
      "source": [
        "<b>Модель DummyClassifier</b>"
      ]
    },
    {
      "cell_type": "code",
      "execution_count": null,
      "metadata": {
        "id": "q9hQLxAjf5C1",
        "outputId": "2439d637-80f9-4a16-de58-3c795519539a"
      },
      "outputs": [
        {
          "name": "stdout",
          "output_type": "stream",
          "text": [
            "Accuracy лучшей модели: 0.6940298507462687\n"
          ]
        }
      ],
      "source": [
        "model_dc = DummyClassifier(random_state=12345)\n",
        "model_dc.fit(features_train, target_train)\n",
        "result_dc = model_dc.score(features_valid, target_valid)\n",
        "print(\"Accuracy лучшей модели:\", result_dc)"
      ]
    },
    {
      "cell_type": "markdown",
      "metadata": {
        "id": "gdAc2NMuf5C2"
      },
      "source": [
        "<b>Вывод:</b> \n",
        "\n",
        "Модель адекватна"
      ]
    },
    {
      "cell_type": "markdown",
      "metadata": {
        "id": "zMamOlYif5C3"
      },
      "source": [
        "<b>Итоговый вывод:</b> \n",
        "\n",
        "1. Данные полные, без пропусков, но пришлось удалить звонки, оставить только минуты из-за корреляции\n",
        "\n",
        "2. Исследовали три модели DecisionTreeClassifier, RandomForestClassifier, LogisticRegression\n",
        "\n",
        "3. Лучшей оказалась модель RandomForestClassifier Accuracy\n",
        "\n",
        "4. На тестовой сборке использовали модель RandomForestClassifier - Accuracy: 0.8233830845771144\n",
        "\n",
        "5. При проверке на адекватность использовали модель DummyClassifier"
      ]
    },
    {
      "cell_type": "markdown",
      "metadata": {
        "id": "65oMsjDdf5C3"
      },
      "source": [
        "## Чек-лист готовности проекта"
      ]
    },
    {
      "cell_type": "markdown",
      "metadata": {
        "id": "cUKBraTuf5C4"
      },
      "source": [
        "Поставьте 'x' в выполненных пунктах. Далее нажмите Shift+Enter."
      ]
    },
    {
      "cell_type": "markdown",
      "metadata": {
        "id": "EUC7WaT6f5C4"
      },
      "source": [
        "- [x] Jupyter Notebook открыт\n",
        "- [x] Весь код исполняется без ошибок\n",
        "- [x] Ячейки с кодом расположены в порядке исполнения\n",
        "- [x] Выполнено задание 1: данные загружены и изучены\n",
        "- [x] Выполнено задание 2: данные разбиты на три выборки\n",
        "- [x] Выполнено задание 3: проведено исследование моделей\n",
        "    - [x] Рассмотрено больше одной модели\n",
        "    - [x] Рассмотрено хотя бы 3 значения гипепараметров для какой-нибудь модели\n",
        "    - [x] Написаны выводы по результатам исследования\n",
        "- [x] Выполнено задание 3: Проведено тестирование\n",
        "- [x] Удалось достичь accuracy не меньше 0.75\n"
      ]
    }
  ],
  "metadata": {
    "ExecuteTimeLog": [
      {
        "duration": 1854,
        "start_time": "2023-02-17T13:13:06.196Z"
      },
      {
        "duration": 145,
        "start_time": "2023-02-17T13:13:48.848Z"
      },
      {
        "duration": 10,
        "start_time": "2023-02-17T13:14:05.204Z"
      },
      {
        "duration": 9,
        "start_time": "2023-02-17T13:14:10.590Z"
      },
      {
        "duration": 19,
        "start_time": "2023-02-17T13:14:30.310Z"
      },
      {
        "duration": 8,
        "start_time": "2023-02-17T13:14:46.111Z"
      },
      {
        "duration": 14,
        "start_time": "2023-02-17T13:14:51.886Z"
      },
      {
        "duration": 13,
        "start_time": "2023-02-17T13:14:59.333Z"
      },
      {
        "duration": 37,
        "start_time": "2023-02-17T13:15:13.689Z"
      },
      {
        "duration": 14,
        "start_time": "2023-02-17T13:15:14.669Z"
      },
      {
        "duration": 17,
        "start_time": "2023-02-17T13:15:37.688Z"
      },
      {
        "duration": 800,
        "start_time": "2023-02-17T13:16:30.309Z"
      },
      {
        "duration": 9,
        "start_time": "2023-02-17T13:18:32.240Z"
      },
      {
        "duration": 17,
        "start_time": "2023-02-17T13:18:37.529Z"
      },
      {
        "duration": 21,
        "start_time": "2023-02-17T13:30:33.633Z"
      },
      {
        "duration": 22,
        "start_time": "2023-02-17T13:31:33.070Z"
      },
      {
        "duration": 10,
        "start_time": "2023-02-17T13:31:33.910Z"
      },
      {
        "duration": 20,
        "start_time": "2023-02-17T13:31:44.290Z"
      },
      {
        "duration": 10,
        "start_time": "2023-02-17T13:32:07.373Z"
      },
      {
        "duration": 28,
        "start_time": "2023-02-17T13:39:56.204Z"
      },
      {
        "duration": 11,
        "start_time": "2023-02-17T13:39:56.826Z"
      },
      {
        "duration": 11,
        "start_time": "2023-02-17T13:39:57.688Z"
      },
      {
        "duration": 232,
        "start_time": "2023-02-17T13:41:30.271Z"
      },
      {
        "duration": 30,
        "start_time": "2023-02-17T13:41:30.871Z"
      },
      {
        "duration": 11,
        "start_time": "2023-02-17T13:41:31.670Z"
      },
      {
        "duration": 12,
        "start_time": "2023-02-17T13:41:32.713Z"
      },
      {
        "duration": 103,
        "start_time": "2023-02-17T13:44:15.594Z"
      },
      {
        "duration": 39,
        "start_time": "2023-02-17T13:44:16.111Z"
      },
      {
        "duration": 11,
        "start_time": "2023-02-17T13:44:16.599Z"
      },
      {
        "duration": 10,
        "start_time": "2023-02-17T13:44:17.187Z"
      },
      {
        "duration": 33,
        "start_time": "2023-02-17T14:11:52.460Z"
      },
      {
        "duration": 14,
        "start_time": "2023-02-17T14:12:06.310Z"
      },
      {
        "duration": 7,
        "start_time": "2023-02-17T14:13:15.610Z"
      },
      {
        "duration": 4,
        "start_time": "2023-02-17T14:15:50.432Z"
      },
      {
        "duration": 12,
        "start_time": "2023-02-17T14:16:06.050Z"
      },
      {
        "duration": 4,
        "start_time": "2023-02-17T14:27:28.949Z"
      },
      {
        "duration": 8,
        "start_time": "2023-02-17T14:34:38.094Z"
      },
      {
        "duration": 8,
        "start_time": "2023-02-17T14:58:57.531Z"
      },
      {
        "duration": 48,
        "start_time": "2023-02-18T07:45:08.494Z"
      },
      {
        "duration": 1110,
        "start_time": "2023-02-18T07:45:12.595Z"
      },
      {
        "duration": 88,
        "start_time": "2023-02-18T07:45:13.707Z"
      },
      {
        "duration": 21,
        "start_time": "2023-02-18T07:45:13.797Z"
      },
      {
        "duration": 31,
        "start_time": "2023-02-18T07:45:14.614Z"
      },
      {
        "duration": 9,
        "start_time": "2023-02-18T07:45:15.546Z"
      },
      {
        "duration": 6,
        "start_time": "2023-02-18T07:45:23.485Z"
      },
      {
        "duration": 16,
        "start_time": "2023-02-18T07:46:06.680Z"
      },
      {
        "duration": 8,
        "start_time": "2023-02-18T07:46:17.497Z"
      },
      {
        "duration": 8,
        "start_time": "2023-02-18T07:46:27.338Z"
      },
      {
        "duration": 7,
        "start_time": "2023-02-18T07:46:34.430Z"
      },
      {
        "duration": 6,
        "start_time": "2023-02-18T07:46:52.094Z"
      },
      {
        "duration": 6,
        "start_time": "2023-02-18T07:47:22.715Z"
      },
      {
        "duration": 5,
        "start_time": "2023-02-18T08:07:43.682Z"
      },
      {
        "duration": 5,
        "start_time": "2023-02-18T08:08:33.664Z"
      },
      {
        "duration": 6,
        "start_time": "2023-02-18T08:08:35.414Z"
      },
      {
        "duration": 7,
        "start_time": "2023-02-18T08:08:38.364Z"
      },
      {
        "duration": 6,
        "start_time": "2023-02-18T08:08:39.214Z"
      },
      {
        "duration": 70,
        "start_time": "2023-02-18T08:09:08.434Z"
      },
      {
        "duration": 4,
        "start_time": "2023-02-18T08:09:15.187Z"
      },
      {
        "duration": 4,
        "start_time": "2023-02-18T08:10:02.234Z"
      },
      {
        "duration": 4,
        "start_time": "2023-02-18T08:10:21.536Z"
      },
      {
        "duration": 83,
        "start_time": "2023-02-18T08:10:40.594Z"
      },
      {
        "duration": 77,
        "start_time": "2023-02-18T08:10:45.774Z"
      },
      {
        "duration": 71,
        "start_time": "2023-02-18T08:10:51.696Z"
      },
      {
        "duration": 73,
        "start_time": "2023-02-18T08:10:56.892Z"
      },
      {
        "duration": 3,
        "start_time": "2023-02-18T08:11:02.614Z"
      },
      {
        "duration": 4,
        "start_time": "2023-02-18T08:11:10.275Z"
      },
      {
        "duration": 8,
        "start_time": "2023-02-18T09:27:31.499Z"
      },
      {
        "duration": 8,
        "start_time": "2023-02-18T09:27:52.634Z"
      },
      {
        "duration": 5,
        "start_time": "2023-02-18T09:28:44.871Z"
      },
      {
        "duration": 6,
        "start_time": "2023-02-18T09:28:52.001Z"
      },
      {
        "duration": 5,
        "start_time": "2023-02-18T09:28:52.979Z"
      },
      {
        "duration": 6,
        "start_time": "2023-02-18T09:28:55.946Z"
      },
      {
        "duration": 6,
        "start_time": "2023-02-18T09:28:57.200Z"
      },
      {
        "duration": 1173,
        "start_time": "2023-02-18T09:29:45.974Z"
      },
      {
        "duration": 28,
        "start_time": "2023-02-18T09:29:47.152Z"
      },
      {
        "duration": 24,
        "start_time": "2023-02-18T09:29:47.182Z"
      },
      {
        "duration": 34,
        "start_time": "2023-02-18T09:29:47.209Z"
      },
      {
        "duration": 14,
        "start_time": "2023-02-18T09:29:47.244Z"
      },
      {
        "duration": 16,
        "start_time": "2023-02-18T09:29:47.263Z"
      },
      {
        "duration": 6,
        "start_time": "2023-02-18T09:29:47.281Z"
      },
      {
        "duration": 7,
        "start_time": "2023-02-18T09:29:47.288Z"
      },
      {
        "duration": 6,
        "start_time": "2023-02-18T09:29:47.296Z"
      },
      {
        "duration": 30,
        "start_time": "2023-02-18T09:29:47.305Z"
      },
      {
        "duration": 9,
        "start_time": "2023-02-18T09:30:01.460Z"
      },
      {
        "duration": 5,
        "start_time": "2023-02-18T09:31:33.089Z"
      },
      {
        "duration": 7,
        "start_time": "2023-02-18T09:31:37.090Z"
      },
      {
        "duration": 8,
        "start_time": "2023-02-18T09:33:11.186Z"
      },
      {
        "duration": 7,
        "start_time": "2023-02-18T09:34:42.859Z"
      },
      {
        "duration": 6,
        "start_time": "2023-02-18T09:35:26.499Z"
      },
      {
        "duration": 7,
        "start_time": "2023-02-18T09:35:57.304Z"
      },
      {
        "duration": 5,
        "start_time": "2023-02-18T09:36:08.302Z"
      },
      {
        "duration": 7,
        "start_time": "2023-02-18T09:36:09.849Z"
      },
      {
        "duration": 6,
        "start_time": "2023-02-18T09:39:12.939Z"
      },
      {
        "duration": 109,
        "start_time": "2023-02-18T09:53:00.007Z"
      },
      {
        "duration": 1219,
        "start_time": "2023-02-18T09:53:18.369Z"
      },
      {
        "duration": 28,
        "start_time": "2023-02-18T09:53:19.591Z"
      },
      {
        "duration": 21,
        "start_time": "2023-02-18T09:53:19.622Z"
      },
      {
        "duration": 31,
        "start_time": "2023-02-18T09:53:19.645Z"
      },
      {
        "duration": 5,
        "start_time": "2023-02-18T09:53:19.678Z"
      },
      {
        "duration": 24,
        "start_time": "2023-02-18T09:53:19.684Z"
      },
      {
        "duration": 12,
        "start_time": "2023-02-18T09:53:19.710Z"
      },
      {
        "duration": 13,
        "start_time": "2023-02-18T09:53:19.723Z"
      },
      {
        "duration": 5,
        "start_time": "2023-02-18T09:53:19.738Z"
      },
      {
        "duration": 12,
        "start_time": "2023-02-18T09:53:19.746Z"
      },
      {
        "duration": 116,
        "start_time": "2023-02-18T09:53:19.760Z"
      },
      {
        "duration": 0,
        "start_time": "2023-02-18T09:53:19.878Z"
      },
      {
        "duration": 21,
        "start_time": "2023-02-18T09:54:51.637Z"
      },
      {
        "duration": 8,
        "start_time": "2023-02-18T09:54:55.678Z"
      },
      {
        "duration": 14,
        "start_time": "2023-02-18T09:54:59.197Z"
      },
      {
        "duration": 8,
        "start_time": "2023-02-18T09:54:59.863Z"
      },
      {
        "duration": 13,
        "start_time": "2023-02-18T09:55:11.319Z"
      },
      {
        "duration": 12,
        "start_time": "2023-02-18T09:55:21.518Z"
      },
      {
        "duration": 6,
        "start_time": "2023-02-18T09:55:25.759Z"
      },
      {
        "duration": 9,
        "start_time": "2023-02-18T09:55:27.999Z"
      },
      {
        "duration": 11,
        "start_time": "2023-02-18T09:57:44.658Z"
      },
      {
        "duration": 4,
        "start_time": "2023-02-18T09:58:22.717Z"
      },
      {
        "duration": 1152,
        "start_time": "2023-02-18T09:58:36.812Z"
      },
      {
        "duration": 28,
        "start_time": "2023-02-18T09:58:37.965Z"
      },
      {
        "duration": 19,
        "start_time": "2023-02-18T09:58:37.995Z"
      },
      {
        "duration": 33,
        "start_time": "2023-02-18T09:58:38.016Z"
      },
      {
        "duration": 6,
        "start_time": "2023-02-18T09:58:38.054Z"
      },
      {
        "duration": 7,
        "start_time": "2023-02-18T09:58:38.062Z"
      },
      {
        "duration": 7,
        "start_time": "2023-02-18T09:58:38.070Z"
      },
      {
        "duration": 11,
        "start_time": "2023-02-18T09:58:38.078Z"
      },
      {
        "duration": 7,
        "start_time": "2023-02-18T09:58:38.091Z"
      },
      {
        "duration": 26,
        "start_time": "2023-02-18T09:58:38.099Z"
      },
      {
        "duration": 6,
        "start_time": "2023-02-18T09:58:38.153Z"
      },
      {
        "duration": 119,
        "start_time": "2023-02-18T10:00:14.797Z"
      },
      {
        "duration": 26,
        "start_time": "2023-02-18T10:00:37.505Z"
      },
      {
        "duration": 22,
        "start_time": "2023-02-18T10:06:38.297Z"
      },
      {
        "duration": 8,
        "start_time": "2023-02-18T10:06:39.403Z"
      },
      {
        "duration": 123,
        "start_time": "2023-02-18T10:10:15.117Z"
      },
      {
        "duration": 22,
        "start_time": "2023-02-18T10:13:28.875Z"
      },
      {
        "duration": 56,
        "start_time": "2023-02-18T10:13:29.915Z"
      },
      {
        "duration": 58,
        "start_time": "2023-02-18T10:14:03.260Z"
      },
      {
        "duration": 26,
        "start_time": "2023-02-18T10:14:11.474Z"
      },
      {
        "duration": 55,
        "start_time": "2023-02-18T10:14:12.235Z"
      },
      {
        "duration": 1095,
        "start_time": "2023-02-18T10:15:01.055Z"
      },
      {
        "duration": 27,
        "start_time": "2023-02-18T10:15:02.153Z"
      },
      {
        "duration": 17,
        "start_time": "2023-02-18T10:15:02.183Z"
      },
      {
        "duration": 34,
        "start_time": "2023-02-18T10:15:02.203Z"
      },
      {
        "duration": 5,
        "start_time": "2023-02-18T10:15:02.238Z"
      },
      {
        "duration": 10,
        "start_time": "2023-02-18T10:15:02.244Z"
      },
      {
        "duration": 12,
        "start_time": "2023-02-18T10:15:02.256Z"
      },
      {
        "duration": 14,
        "start_time": "2023-02-18T10:15:02.270Z"
      },
      {
        "duration": 10,
        "start_time": "2023-02-18T10:15:02.286Z"
      },
      {
        "duration": 27,
        "start_time": "2023-02-18T10:15:02.298Z"
      },
      {
        "duration": 146,
        "start_time": "2023-02-18T10:15:02.327Z"
      },
      {
        "duration": 0,
        "start_time": "2023-02-18T10:15:02.475Z"
      },
      {
        "duration": 5,
        "start_time": "2023-02-18T10:17:55.317Z"
      },
      {
        "duration": 7,
        "start_time": "2023-02-18T10:17:57.203Z"
      },
      {
        "duration": 24,
        "start_time": "2023-02-18T10:18:02.955Z"
      },
      {
        "duration": 56,
        "start_time": "2023-02-18T10:20:03.654Z"
      },
      {
        "duration": 1100,
        "start_time": "2023-02-18T10:20:22.595Z"
      },
      {
        "duration": 27,
        "start_time": "2023-02-18T10:20:23.697Z"
      },
      {
        "duration": 19,
        "start_time": "2023-02-18T10:20:23.725Z"
      },
      {
        "duration": 30,
        "start_time": "2023-02-18T10:20:23.746Z"
      },
      {
        "duration": 6,
        "start_time": "2023-02-18T10:20:23.778Z"
      },
      {
        "duration": 23,
        "start_time": "2023-02-18T10:20:23.786Z"
      },
      {
        "duration": 8,
        "start_time": "2023-02-18T10:20:23.811Z"
      },
      {
        "duration": 20,
        "start_time": "2023-02-18T10:20:23.820Z"
      },
      {
        "duration": 17,
        "start_time": "2023-02-18T10:20:23.842Z"
      },
      {
        "duration": 27,
        "start_time": "2023-02-18T10:20:23.861Z"
      },
      {
        "duration": 143,
        "start_time": "2023-02-18T10:20:23.890Z"
      },
      {
        "duration": 0,
        "start_time": "2023-02-18T10:20:24.035Z"
      },
      {
        "duration": 15,
        "start_time": "2023-02-18T10:21:30.382Z"
      },
      {
        "duration": 58,
        "start_time": "2023-02-18T10:21:31.669Z"
      },
      {
        "duration": 11,
        "start_time": "2023-02-18T10:21:48.733Z"
      },
      {
        "duration": 6,
        "start_time": "2023-02-18T10:22:19.433Z"
      },
      {
        "duration": 11,
        "start_time": "2023-02-18T10:22:20.173Z"
      },
      {
        "duration": 1167,
        "start_time": "2023-02-18T10:22:50.139Z"
      },
      {
        "duration": 27,
        "start_time": "2023-02-18T10:22:51.307Z"
      },
      {
        "duration": 20,
        "start_time": "2023-02-18T10:22:51.335Z"
      },
      {
        "duration": 36,
        "start_time": "2023-02-18T10:22:51.357Z"
      },
      {
        "duration": 6,
        "start_time": "2023-02-18T10:22:51.395Z"
      },
      {
        "duration": 9,
        "start_time": "2023-02-18T10:22:51.403Z"
      },
      {
        "duration": 8,
        "start_time": "2023-02-18T10:22:51.414Z"
      },
      {
        "duration": 33,
        "start_time": "2023-02-18T10:22:51.423Z"
      },
      {
        "duration": 6,
        "start_time": "2023-02-18T10:22:51.458Z"
      },
      {
        "duration": 170,
        "start_time": "2023-02-18T10:22:51.466Z"
      },
      {
        "duration": 0,
        "start_time": "2023-02-18T10:22:51.638Z"
      },
      {
        "duration": 0,
        "start_time": "2023-02-18T10:22:51.639Z"
      },
      {
        "duration": 0,
        "start_time": "2023-02-18T10:22:51.640Z"
      },
      {
        "duration": 0,
        "start_time": "2023-02-18T10:22:51.641Z"
      },
      {
        "duration": 23,
        "start_time": "2023-02-18T10:23:40.193Z"
      },
      {
        "duration": 6,
        "start_time": "2023-02-18T10:23:41.266Z"
      },
      {
        "duration": 11,
        "start_time": "2023-02-18T10:23:42.273Z"
      },
      {
        "duration": 59,
        "start_time": "2023-02-18T10:23:43.475Z"
      },
      {
        "duration": 1120,
        "start_time": "2023-02-18T10:24:03.655Z"
      },
      {
        "duration": 27,
        "start_time": "2023-02-18T10:24:04.777Z"
      },
      {
        "duration": 23,
        "start_time": "2023-02-18T10:24:04.806Z"
      },
      {
        "duration": 36,
        "start_time": "2023-02-18T10:24:04.831Z"
      },
      {
        "duration": 5,
        "start_time": "2023-02-18T10:24:04.869Z"
      },
      {
        "duration": 4,
        "start_time": "2023-02-18T10:24:04.876Z"
      },
      {
        "duration": 7,
        "start_time": "2023-02-18T10:24:04.881Z"
      },
      {
        "duration": 7,
        "start_time": "2023-02-18T10:24:04.889Z"
      },
      {
        "duration": 6,
        "start_time": "2023-02-18T10:24:04.897Z"
      },
      {
        "duration": 48,
        "start_time": "2023-02-18T10:24:04.905Z"
      },
      {
        "duration": 6,
        "start_time": "2023-02-18T10:24:04.955Z"
      },
      {
        "duration": 12,
        "start_time": "2023-02-18T10:24:04.962Z"
      },
      {
        "duration": 152,
        "start_time": "2023-02-18T10:24:04.975Z"
      },
      {
        "duration": 0,
        "start_time": "2023-02-18T10:24:05.128Z"
      },
      {
        "duration": 60,
        "start_time": "2023-02-18T10:25:05.875Z"
      },
      {
        "duration": 5,
        "start_time": "2023-02-18T10:25:33.894Z"
      },
      {
        "duration": 11,
        "start_time": "2023-02-18T10:25:35.221Z"
      },
      {
        "duration": 8,
        "start_time": "2023-02-18T10:25:49.522Z"
      },
      {
        "duration": 11,
        "start_time": "2023-02-18T10:25:52.754Z"
      },
      {
        "duration": 54,
        "start_time": "2023-02-18T10:25:55.114Z"
      },
      {
        "duration": 2,
        "start_time": "2023-02-18T10:26:26.174Z"
      },
      {
        "duration": 30,
        "start_time": "2023-02-18T10:26:27.734Z"
      },
      {
        "duration": 7,
        "start_time": "2023-02-18T10:26:29.241Z"
      },
      {
        "duration": 11,
        "start_time": "2023-02-18T10:26:31.734Z"
      },
      {
        "duration": 1278,
        "start_time": "2023-02-18T10:26:48.833Z"
      },
      {
        "duration": 29,
        "start_time": "2023-02-18T10:26:50.114Z"
      },
      {
        "duration": 22,
        "start_time": "2023-02-18T10:26:50.145Z"
      },
      {
        "duration": 42,
        "start_time": "2023-02-18T10:26:50.169Z"
      },
      {
        "duration": 8,
        "start_time": "2023-02-18T10:26:50.216Z"
      },
      {
        "duration": 29,
        "start_time": "2023-02-18T10:26:50.225Z"
      },
      {
        "duration": 17,
        "start_time": "2023-02-18T10:26:50.256Z"
      },
      {
        "duration": 7,
        "start_time": "2023-02-18T10:26:50.275Z"
      },
      {
        "duration": 6,
        "start_time": "2023-02-18T10:26:50.284Z"
      },
      {
        "duration": 35,
        "start_time": "2023-02-18T10:26:50.291Z"
      },
      {
        "duration": 8,
        "start_time": "2023-02-18T10:26:50.328Z"
      },
      {
        "duration": 15,
        "start_time": "2023-02-18T10:26:50.354Z"
      },
      {
        "duration": 161,
        "start_time": "2023-02-18T10:26:50.372Z"
      },
      {
        "duration": 0,
        "start_time": "2023-02-18T10:26:50.534Z"
      },
      {
        "duration": 57,
        "start_time": "2023-02-18T10:29:06.180Z"
      },
      {
        "duration": 41,
        "start_time": "2023-02-18T10:30:40.973Z"
      },
      {
        "duration": 44,
        "start_time": "2023-02-18T10:32:24.792Z"
      },
      {
        "duration": 38,
        "start_time": "2023-02-18T10:37:51.575Z"
      },
      {
        "duration": 11,
        "start_time": "2023-02-18T10:42:01.892Z"
      },
      {
        "duration": 1157,
        "start_time": "2023-02-18T10:42:13.431Z"
      },
      {
        "duration": 27,
        "start_time": "2023-02-18T10:42:14.590Z"
      },
      {
        "duration": 18,
        "start_time": "2023-02-18T10:42:14.619Z"
      },
      {
        "duration": 34,
        "start_time": "2023-02-18T10:42:14.639Z"
      },
      {
        "duration": 6,
        "start_time": "2023-02-18T10:42:14.675Z"
      },
      {
        "duration": 5,
        "start_time": "2023-02-18T10:42:14.683Z"
      },
      {
        "duration": 8,
        "start_time": "2023-02-18T10:42:14.689Z"
      },
      {
        "duration": 7,
        "start_time": "2023-02-18T10:42:14.699Z"
      },
      {
        "duration": 3,
        "start_time": "2023-02-18T10:42:14.707Z"
      },
      {
        "duration": 49,
        "start_time": "2023-02-18T10:42:14.711Z"
      },
      {
        "duration": 19,
        "start_time": "2023-02-18T10:42:14.762Z"
      },
      {
        "duration": 6,
        "start_time": "2023-02-18T10:42:14.783Z"
      },
      {
        "duration": 4,
        "start_time": "2023-02-18T10:43:06.373Z"
      },
      {
        "duration": 1179,
        "start_time": "2023-02-18T10:45:25.039Z"
      },
      {
        "duration": 28,
        "start_time": "2023-02-18T10:45:26.220Z"
      },
      {
        "duration": 30,
        "start_time": "2023-02-18T10:45:26.249Z"
      },
      {
        "duration": 38,
        "start_time": "2023-02-18T10:45:26.283Z"
      },
      {
        "duration": 31,
        "start_time": "2023-02-18T10:45:26.323Z"
      },
      {
        "duration": 5,
        "start_time": "2023-02-18T10:45:26.356Z"
      },
      {
        "duration": 21,
        "start_time": "2023-02-18T10:45:26.363Z"
      },
      {
        "duration": 27,
        "start_time": "2023-02-18T10:45:26.386Z"
      },
      {
        "duration": 20,
        "start_time": "2023-02-18T10:45:26.415Z"
      },
      {
        "duration": 11,
        "start_time": "2023-02-18T10:45:26.454Z"
      },
      {
        "duration": 40,
        "start_time": "2023-02-18T10:59:55.509Z"
      },
      {
        "duration": 114,
        "start_time": "2023-02-18T11:15:28.143Z"
      },
      {
        "duration": 10,
        "start_time": "2023-02-18T11:15:41.556Z"
      },
      {
        "duration": 10,
        "start_time": "2023-02-18T11:16:51.009Z"
      },
      {
        "duration": 22,
        "start_time": "2023-02-18T11:16:52.121Z"
      },
      {
        "duration": 35,
        "start_time": "2023-02-18T11:16:54.376Z"
      },
      {
        "duration": 42,
        "start_time": "2023-02-18T11:16:55.592Z"
      },
      {
        "duration": 8,
        "start_time": "2023-02-18T11:19:27.134Z"
      },
      {
        "duration": 1179,
        "start_time": "2023-02-18T11:19:32.630Z"
      },
      {
        "duration": 33,
        "start_time": "2023-02-18T11:19:33.811Z"
      },
      {
        "duration": 17,
        "start_time": "2023-02-18T11:19:33.846Z"
      },
      {
        "duration": 30,
        "start_time": "2023-02-18T11:19:33.865Z"
      },
      {
        "duration": 6,
        "start_time": "2023-02-18T11:19:33.897Z"
      },
      {
        "duration": 4,
        "start_time": "2023-02-18T11:19:33.904Z"
      },
      {
        "duration": 9,
        "start_time": "2023-02-18T11:19:33.910Z"
      },
      {
        "duration": 46,
        "start_time": "2023-02-18T11:19:33.921Z"
      },
      {
        "duration": 19,
        "start_time": "2023-02-18T11:19:33.969Z"
      },
      {
        "duration": 38,
        "start_time": "2023-02-18T11:19:33.990Z"
      },
      {
        "duration": 8,
        "start_time": "2023-02-18T11:19:34.054Z"
      },
      {
        "duration": 12,
        "start_time": "2023-02-18T11:19:34.064Z"
      },
      {
        "duration": 37,
        "start_time": "2023-02-18T11:22:16.855Z"
      },
      {
        "duration": 42,
        "start_time": "2023-02-18T11:22:27.056Z"
      },
      {
        "duration": 9,
        "start_time": "2023-02-18T11:25:16.972Z"
      },
      {
        "duration": 86,
        "start_time": "2023-02-18T11:29:47.657Z"
      },
      {
        "duration": 107,
        "start_time": "2023-02-18T11:31:35.913Z"
      },
      {
        "duration": 230,
        "start_time": "2023-02-18T11:31:49.261Z"
      },
      {
        "duration": 75,
        "start_time": "2023-02-18T11:34:34.630Z"
      },
      {
        "duration": 128,
        "start_time": "2023-02-18T11:34:37.355Z"
      },
      {
        "duration": 42,
        "start_time": "2023-02-18T11:35:11.753Z"
      },
      {
        "duration": 4,
        "start_time": "2023-02-18T11:35:15.713Z"
      },
      {
        "duration": 340,
        "start_time": "2023-02-18T11:35:20.629Z"
      },
      {
        "duration": 3,
        "start_time": "2023-02-18T11:38:09.594Z"
      },
      {
        "duration": 1113,
        "start_time": "2023-02-18T11:39:08.682Z"
      },
      {
        "duration": 29,
        "start_time": "2023-02-18T11:39:09.797Z"
      },
      {
        "duration": 23,
        "start_time": "2023-02-18T11:39:09.828Z"
      },
      {
        "duration": 31,
        "start_time": "2023-02-18T11:39:09.853Z"
      },
      {
        "duration": 5,
        "start_time": "2023-02-18T11:39:09.887Z"
      },
      {
        "duration": 6,
        "start_time": "2023-02-18T11:39:09.893Z"
      },
      {
        "duration": 10,
        "start_time": "2023-02-18T11:39:09.901Z"
      },
      {
        "duration": 43,
        "start_time": "2023-02-18T11:39:09.913Z"
      },
      {
        "duration": 20,
        "start_time": "2023-02-18T11:39:09.957Z"
      },
      {
        "duration": 41,
        "start_time": "2023-02-18T11:39:09.979Z"
      },
      {
        "duration": 33,
        "start_time": "2023-02-18T11:39:10.022Z"
      },
      {
        "duration": 59,
        "start_time": "2023-02-18T11:39:10.057Z"
      },
      {
        "duration": 346,
        "start_time": "2023-02-18T11:39:10.118Z"
      },
      {
        "duration": 8,
        "start_time": "2023-02-18T11:39:10.466Z"
      },
      {
        "duration": 344,
        "start_time": "2023-02-18T11:41:42.614Z"
      },
      {
        "duration": 132,
        "start_time": "2023-02-18T11:45:59.573Z"
      },
      {
        "duration": 4,
        "start_time": "2023-02-18T11:47:32.165Z"
      },
      {
        "duration": 27,
        "start_time": "2023-02-18T11:47:33.442Z"
      },
      {
        "duration": 1106,
        "start_time": "2023-02-18T11:47:38.220Z"
      },
      {
        "duration": 40,
        "start_time": "2023-02-18T11:47:39.328Z"
      },
      {
        "duration": 20,
        "start_time": "2023-02-18T11:47:39.370Z"
      },
      {
        "duration": 30,
        "start_time": "2023-02-18T11:47:39.392Z"
      },
      {
        "duration": 6,
        "start_time": "2023-02-18T11:47:39.423Z"
      },
      {
        "duration": 23,
        "start_time": "2023-02-18T11:47:39.431Z"
      },
      {
        "duration": 6,
        "start_time": "2023-02-18T11:47:39.455Z"
      },
      {
        "duration": 23,
        "start_time": "2023-02-18T11:47:39.463Z"
      },
      {
        "duration": 23,
        "start_time": "2023-02-18T11:47:39.488Z"
      },
      {
        "duration": 73,
        "start_time": "2023-02-18T11:47:39.513Z"
      },
      {
        "duration": 10,
        "start_time": "2023-02-18T11:47:39.588Z"
      },
      {
        "duration": 84,
        "start_time": "2023-02-18T11:47:39.600Z"
      },
      {
        "duration": 340,
        "start_time": "2023-02-18T11:47:39.685Z"
      },
      {
        "duration": 650,
        "start_time": "2023-02-18T11:47:40.027Z"
      },
      {
        "duration": 6,
        "start_time": "2023-02-18T11:47:40.679Z"
      },
      {
        "duration": 35,
        "start_time": "2023-02-18T11:55:15.077Z"
      },
      {
        "duration": 60,
        "start_time": "2023-02-18T11:55:15.975Z"
      },
      {
        "duration": 352,
        "start_time": "2023-02-18T11:55:19.534Z"
      },
      {
        "duration": 720,
        "start_time": "2023-02-18T11:55:20.755Z"
      },
      {
        "duration": 1223,
        "start_time": "2023-02-18T12:19:50.060Z"
      },
      {
        "duration": 29,
        "start_time": "2023-02-18T12:19:51.285Z"
      },
      {
        "duration": 21,
        "start_time": "2023-02-18T12:19:51.316Z"
      },
      {
        "duration": 34,
        "start_time": "2023-02-18T12:19:51.339Z"
      },
      {
        "duration": 7,
        "start_time": "2023-02-18T12:19:51.375Z"
      },
      {
        "duration": 95,
        "start_time": "2023-02-18T12:19:51.385Z"
      },
      {
        "duration": 22,
        "start_time": "2023-02-18T12:19:51.482Z"
      },
      {
        "duration": 49,
        "start_time": "2023-02-18T12:19:51.506Z"
      },
      {
        "duration": 21,
        "start_time": "2023-02-18T12:19:51.557Z"
      },
      {
        "duration": 47,
        "start_time": "2023-02-18T12:19:51.581Z"
      },
      {
        "duration": 15,
        "start_time": "2023-02-18T12:19:51.652Z"
      },
      {
        "duration": 99,
        "start_time": "2023-02-18T12:19:51.669Z"
      },
      {
        "duration": 361,
        "start_time": "2023-02-18T12:19:51.770Z"
      },
      {
        "duration": 722,
        "start_time": "2023-02-18T12:19:52.133Z"
      },
      {
        "duration": 6,
        "start_time": "2023-02-18T12:19:52.857Z"
      },
      {
        "duration": 11,
        "start_time": "2023-02-18T12:35:02.470Z"
      },
      {
        "duration": 10,
        "start_time": "2023-02-18T12:35:25.135Z"
      },
      {
        "duration": 39,
        "start_time": "2023-02-18T12:48:35.694Z"
      },
      {
        "duration": 45,
        "start_time": "2023-02-18T12:48:37.476Z"
      },
      {
        "duration": 8,
        "start_time": "2023-02-18T12:48:38.860Z"
      },
      {
        "duration": 72,
        "start_time": "2023-02-18T12:48:40.572Z"
      },
      {
        "duration": 368,
        "start_time": "2023-02-18T12:48:43.496Z"
      },
      {
        "duration": 1359,
        "start_time": "2023-02-18T12:48:45.120Z"
      },
      {
        "duration": 4,
        "start_time": "2023-02-18T12:56:39.852Z"
      },
      {
        "duration": 26,
        "start_time": "2023-02-18T12:56:40.176Z"
      },
      {
        "duration": 12,
        "start_time": "2023-02-18T12:56:40.552Z"
      },
      {
        "duration": 32,
        "start_time": "2023-02-18T12:56:41.002Z"
      },
      {
        "duration": 7,
        "start_time": "2023-02-18T12:56:41.691Z"
      },
      {
        "duration": 4,
        "start_time": "2023-02-18T12:56:44.012Z"
      },
      {
        "duration": 6,
        "start_time": "2023-02-18T12:56:45.953Z"
      },
      {
        "duration": 24,
        "start_time": "2023-02-18T12:56:48.392Z"
      },
      {
        "duration": 5,
        "start_time": "2023-02-18T12:56:49.093Z"
      },
      {
        "duration": 6,
        "start_time": "2023-02-18T12:57:07.932Z"
      },
      {
        "duration": 6,
        "start_time": "2023-02-18T12:59:24.027Z"
      },
      {
        "duration": 6,
        "start_time": "2023-02-18T13:01:04.499Z"
      },
      {
        "duration": 11,
        "start_time": "2023-02-18T13:01:08.153Z"
      },
      {
        "duration": 11,
        "start_time": "2023-02-18T13:09:09.051Z"
      },
      {
        "duration": 4,
        "start_time": "2023-02-18T13:10:40.154Z"
      },
      {
        "duration": 23,
        "start_time": "2023-02-18T13:10:41.863Z"
      },
      {
        "duration": 1162,
        "start_time": "2023-02-18T13:10:49.174Z"
      },
      {
        "duration": 27,
        "start_time": "2023-02-18T13:10:50.338Z"
      },
      {
        "duration": 18,
        "start_time": "2023-02-18T13:10:50.367Z"
      },
      {
        "duration": 28,
        "start_time": "2023-02-18T13:10:50.387Z"
      },
      {
        "duration": 4,
        "start_time": "2023-02-18T13:10:50.417Z"
      },
      {
        "duration": 4,
        "start_time": "2023-02-18T13:10:50.423Z"
      },
      {
        "duration": 26,
        "start_time": "2023-02-18T13:10:50.429Z"
      },
      {
        "duration": 114,
        "start_time": "2023-02-18T13:10:50.456Z"
      },
      {
        "duration": 0,
        "start_time": "2023-02-18T13:10:50.571Z"
      },
      {
        "duration": 0,
        "start_time": "2023-02-18T13:10:50.572Z"
      },
      {
        "duration": 0,
        "start_time": "2023-02-18T13:10:50.574Z"
      },
      {
        "duration": 0,
        "start_time": "2023-02-18T13:10:50.575Z"
      },
      {
        "duration": 0,
        "start_time": "2023-02-18T13:10:50.576Z"
      },
      {
        "duration": 0,
        "start_time": "2023-02-18T13:10:50.577Z"
      },
      {
        "duration": 0,
        "start_time": "2023-02-18T13:10:50.577Z"
      },
      {
        "duration": 0,
        "start_time": "2023-02-18T13:10:50.578Z"
      },
      {
        "duration": 0,
        "start_time": "2023-02-18T13:10:50.580Z"
      },
      {
        "duration": 0,
        "start_time": "2023-02-18T13:10:50.580Z"
      },
      {
        "duration": 2,
        "start_time": "2023-02-18T13:11:45.980Z"
      },
      {
        "duration": 6,
        "start_time": "2023-02-18T13:11:47.494Z"
      },
      {
        "duration": 5,
        "start_time": "2023-02-18T13:11:48.093Z"
      },
      {
        "duration": 4,
        "start_time": "2023-02-18T13:16:15.156Z"
      },
      {
        "duration": 2,
        "start_time": "2023-02-18T13:16:16.496Z"
      },
      {
        "duration": 7,
        "start_time": "2023-02-18T13:16:17.694Z"
      },
      {
        "duration": 5,
        "start_time": "2023-02-18T13:16:18.274Z"
      },
      {
        "duration": 8,
        "start_time": "2023-02-18T13:19:46.333Z"
      },
      {
        "duration": 23,
        "start_time": "2023-02-18T13:19:47.421Z"
      },
      {
        "duration": 82,
        "start_time": "2023-02-18T13:19:49.552Z"
      },
      {
        "duration": 70,
        "start_time": "2023-02-18T13:19:50.102Z"
      },
      {
        "duration": 3,
        "start_time": "2023-02-18T13:19:58.518Z"
      },
      {
        "duration": 3,
        "start_time": "2023-02-18T13:20:02.736Z"
      },
      {
        "duration": 39,
        "start_time": "2023-02-18T13:22:15.494Z"
      },
      {
        "duration": 71,
        "start_time": "2023-02-18T13:22:26.437Z"
      },
      {
        "duration": 34,
        "start_time": "2023-02-18T13:23:41.394Z"
      },
      {
        "duration": 31,
        "start_time": "2023-02-18T13:24:34.954Z"
      },
      {
        "duration": 31,
        "start_time": "2023-02-18T13:24:42.501Z"
      },
      {
        "duration": 32,
        "start_time": "2023-02-18T13:24:48.423Z"
      },
      {
        "duration": 4,
        "start_time": "2023-02-18T13:26:14.194Z"
      },
      {
        "duration": 2,
        "start_time": "2023-02-18T13:26:14.746Z"
      },
      {
        "duration": 24,
        "start_time": "2023-02-18T13:26:16.556Z"
      },
      {
        "duration": 128,
        "start_time": "2023-02-18T13:26:18.372Z"
      },
      {
        "duration": 75,
        "start_time": "2023-02-18T13:26:18.883Z"
      },
      {
        "duration": 6,
        "start_time": "2023-02-18T13:26:29.254Z"
      },
      {
        "duration": 4,
        "start_time": "2023-02-18T13:26:30.417Z"
      },
      {
        "duration": 29,
        "start_time": "2023-02-18T13:26:31.236Z"
      },
      {
        "duration": 1137,
        "start_time": "2023-02-18T13:26:43.768Z"
      },
      {
        "duration": 27,
        "start_time": "2023-02-18T13:26:44.907Z"
      },
      {
        "duration": 18,
        "start_time": "2023-02-18T13:26:44.935Z"
      },
      {
        "duration": 29,
        "start_time": "2023-02-18T13:26:44.955Z"
      },
      {
        "duration": 5,
        "start_time": "2023-02-18T13:26:44.986Z"
      },
      {
        "duration": 8,
        "start_time": "2023-02-18T13:26:44.992Z"
      },
      {
        "duration": 19,
        "start_time": "2023-02-18T13:26:45.001Z"
      },
      {
        "duration": 10,
        "start_time": "2023-02-18T13:26:45.022Z"
      },
      {
        "duration": 116,
        "start_time": "2023-02-18T13:26:45.034Z"
      },
      {
        "duration": 0,
        "start_time": "2023-02-18T13:26:45.153Z"
      },
      {
        "duration": 0,
        "start_time": "2023-02-18T13:26:45.154Z"
      },
      {
        "duration": 0,
        "start_time": "2023-02-18T13:26:45.155Z"
      },
      {
        "duration": 0,
        "start_time": "2023-02-18T13:26:45.157Z"
      },
      {
        "duration": 0,
        "start_time": "2023-02-18T13:26:45.158Z"
      },
      {
        "duration": 0,
        "start_time": "2023-02-18T13:26:45.159Z"
      },
      {
        "duration": 0,
        "start_time": "2023-02-18T13:26:45.161Z"
      },
      {
        "duration": 1,
        "start_time": "2023-02-18T13:26:45.161Z"
      },
      {
        "duration": 0,
        "start_time": "2023-02-18T13:26:45.162Z"
      },
      {
        "duration": 0,
        "start_time": "2023-02-18T13:26:45.164Z"
      },
      {
        "duration": 0,
        "start_time": "2023-02-18T13:26:45.165Z"
      },
      {
        "duration": 1142,
        "start_time": "2023-02-18T13:27:14.110Z"
      },
      {
        "duration": 28,
        "start_time": "2023-02-18T13:27:15.254Z"
      },
      {
        "duration": 19,
        "start_time": "2023-02-18T13:27:15.284Z"
      },
      {
        "duration": 35,
        "start_time": "2023-02-18T13:27:15.305Z"
      },
      {
        "duration": 15,
        "start_time": "2023-02-18T13:27:15.344Z"
      },
      {
        "duration": 5,
        "start_time": "2023-02-18T13:27:15.362Z"
      },
      {
        "duration": 5,
        "start_time": "2023-02-18T13:27:15.369Z"
      },
      {
        "duration": 5,
        "start_time": "2023-02-18T13:27:15.375Z"
      },
      {
        "duration": 6,
        "start_time": "2023-02-18T13:27:15.381Z"
      },
      {
        "duration": 11,
        "start_time": "2023-02-18T13:27:15.388Z"
      },
      {
        "duration": 7,
        "start_time": "2023-02-18T13:27:15.401Z"
      },
      {
        "duration": 65,
        "start_time": "2023-02-18T13:27:15.410Z"
      },
      {
        "duration": 18,
        "start_time": "2023-02-18T13:27:15.477Z"
      },
      {
        "duration": 144,
        "start_time": "2023-02-18T13:27:15.498Z"
      },
      {
        "duration": 0,
        "start_time": "2023-02-18T13:27:15.644Z"
      },
      {
        "duration": 0,
        "start_time": "2023-02-18T13:27:15.646Z"
      },
      {
        "duration": 0,
        "start_time": "2023-02-18T13:27:15.653Z"
      },
      {
        "duration": 0,
        "start_time": "2023-02-18T13:27:15.654Z"
      },
      {
        "duration": 0,
        "start_time": "2023-02-18T13:27:15.655Z"
      },
      {
        "duration": 0,
        "start_time": "2023-02-18T13:27:15.656Z"
      },
      {
        "duration": 1212,
        "start_time": "2023-02-18T13:30:31.729Z"
      },
      {
        "duration": 28,
        "start_time": "2023-02-18T13:30:32.944Z"
      },
      {
        "duration": 20,
        "start_time": "2023-02-18T13:30:32.974Z"
      },
      {
        "duration": 33,
        "start_time": "2023-02-18T13:30:32.996Z"
      },
      {
        "duration": 6,
        "start_time": "2023-02-18T13:30:33.031Z"
      },
      {
        "duration": 16,
        "start_time": "2023-02-18T13:30:33.038Z"
      },
      {
        "duration": 7,
        "start_time": "2023-02-18T13:30:33.056Z"
      },
      {
        "duration": 25,
        "start_time": "2023-02-18T13:30:33.064Z"
      },
      {
        "duration": 133,
        "start_time": "2023-02-18T13:30:33.091Z"
      },
      {
        "duration": 0,
        "start_time": "2023-02-18T13:30:33.225Z"
      },
      {
        "duration": 0,
        "start_time": "2023-02-18T13:30:33.227Z"
      },
      {
        "duration": 0,
        "start_time": "2023-02-18T13:30:33.228Z"
      },
      {
        "duration": 0,
        "start_time": "2023-02-18T13:30:33.229Z"
      },
      {
        "duration": 0,
        "start_time": "2023-02-18T13:30:33.230Z"
      },
      {
        "duration": 0,
        "start_time": "2023-02-18T13:30:33.231Z"
      },
      {
        "duration": 0,
        "start_time": "2023-02-18T13:30:33.232Z"
      },
      {
        "duration": 0,
        "start_time": "2023-02-18T13:30:33.233Z"
      },
      {
        "duration": 33,
        "start_time": "2023-02-18T13:30:50.673Z"
      },
      {
        "duration": 1123,
        "start_time": "2023-02-18T13:30:55.615Z"
      },
      {
        "duration": 27,
        "start_time": "2023-02-18T13:30:56.740Z"
      },
      {
        "duration": 19,
        "start_time": "2023-02-18T13:30:56.769Z"
      },
      {
        "duration": 29,
        "start_time": "2023-02-18T13:30:56.790Z"
      },
      {
        "duration": 5,
        "start_time": "2023-02-18T13:30:56.821Z"
      },
      {
        "duration": 6,
        "start_time": "2023-02-18T13:30:56.827Z"
      },
      {
        "duration": 22,
        "start_time": "2023-02-18T13:30:56.834Z"
      },
      {
        "duration": 22,
        "start_time": "2023-02-18T13:30:56.858Z"
      },
      {
        "duration": 33,
        "start_time": "2023-02-18T13:30:56.881Z"
      },
      {
        "duration": 11,
        "start_time": "2023-02-18T13:30:56.915Z"
      },
      {
        "duration": 146,
        "start_time": "2023-02-18T13:30:56.928Z"
      },
      {
        "duration": 0,
        "start_time": "2023-02-18T13:30:57.075Z"
      },
      {
        "duration": 0,
        "start_time": "2023-02-18T13:30:57.077Z"
      },
      {
        "duration": 0,
        "start_time": "2023-02-18T13:30:57.078Z"
      },
      {
        "duration": 0,
        "start_time": "2023-02-18T13:30:57.079Z"
      },
      {
        "duration": 0,
        "start_time": "2023-02-18T13:30:57.080Z"
      },
      {
        "duration": 0,
        "start_time": "2023-02-18T13:30:57.082Z"
      },
      {
        "duration": 41,
        "start_time": "2023-02-18T13:31:30.604Z"
      },
      {
        "duration": 12,
        "start_time": "2023-02-18T13:32:14.077Z"
      },
      {
        "duration": 40,
        "start_time": "2023-02-18T13:32:43.294Z"
      },
      {
        "duration": 12,
        "start_time": "2023-02-18T13:32:44.673Z"
      },
      {
        "duration": 5,
        "start_time": "2023-02-18T13:33:34.725Z"
      },
      {
        "duration": 23,
        "start_time": "2023-02-18T13:33:35.723Z"
      },
      {
        "duration": 33,
        "start_time": "2023-02-18T13:33:38.034Z"
      },
      {
        "duration": 5070,
        "start_time": "2023-02-18T13:33:39.095Z"
      },
      {
        "duration": 11,
        "start_time": "2023-02-18T13:33:44.167Z"
      },
      {
        "duration": 35,
        "start_time": "2023-02-18T13:34:35.896Z"
      },
      {
        "duration": 5256,
        "start_time": "2023-02-18T13:34:36.854Z"
      },
      {
        "duration": 11,
        "start_time": "2023-02-18T13:34:42.112Z"
      },
      {
        "duration": 6,
        "start_time": "2023-02-18T13:37:33.174Z"
      },
      {
        "duration": 32,
        "start_time": "2023-02-18T13:37:34.322Z"
      },
      {
        "duration": 5283,
        "start_time": "2023-02-18T13:37:36.519Z"
      },
      {
        "duration": 12,
        "start_time": "2023-02-18T13:37:41.804Z"
      },
      {
        "duration": 31,
        "start_time": "2023-02-18T13:40:34.275Z"
      },
      {
        "duration": 7,
        "start_time": "2023-02-18T13:40:35.020Z"
      },
      {
        "duration": 6,
        "start_time": "2023-02-18T13:40:36.054Z"
      },
      {
        "duration": 5,
        "start_time": "2023-02-18T13:40:38.380Z"
      },
      {
        "duration": 7,
        "start_time": "2023-02-18T13:40:39.577Z"
      },
      {
        "duration": 7,
        "start_time": "2023-02-18T13:40:42.134Z"
      },
      {
        "duration": 32,
        "start_time": "2023-02-18T13:40:43.101Z"
      },
      {
        "duration": 5537,
        "start_time": "2023-02-18T13:40:45.033Z"
      },
      {
        "duration": 10,
        "start_time": "2023-02-18T13:40:52.282Z"
      },
      {
        "duration": 6,
        "start_time": "2023-02-18T13:49:29.575Z"
      },
      {
        "duration": 2,
        "start_time": "2023-02-18T13:49:30.195Z"
      },
      {
        "duration": 5,
        "start_time": "2023-02-18T13:49:31.583Z"
      },
      {
        "duration": 1224,
        "start_time": "2023-02-18T13:57:25.134Z"
      },
      {
        "duration": 38,
        "start_time": "2023-02-18T13:57:26.360Z"
      },
      {
        "duration": 20,
        "start_time": "2023-02-18T13:57:26.400Z"
      },
      {
        "duration": 33,
        "start_time": "2023-02-18T13:57:26.422Z"
      },
      {
        "duration": 8,
        "start_time": "2023-02-18T13:57:26.459Z"
      },
      {
        "duration": 14,
        "start_time": "2023-02-18T13:57:26.470Z"
      },
      {
        "duration": 19,
        "start_time": "2023-02-18T13:57:26.485Z"
      },
      {
        "duration": 14,
        "start_time": "2023-02-18T13:57:26.506Z"
      },
      {
        "duration": 13,
        "start_time": "2023-02-18T13:57:26.522Z"
      },
      {
        "duration": 24,
        "start_time": "2023-02-18T13:57:26.537Z"
      },
      {
        "duration": 159,
        "start_time": "2023-02-18T13:57:26.563Z"
      },
      {
        "duration": 0,
        "start_time": "2023-02-18T13:57:26.724Z"
      },
      {
        "duration": 0,
        "start_time": "2023-02-18T13:57:26.725Z"
      },
      {
        "duration": 0,
        "start_time": "2023-02-18T13:57:26.726Z"
      },
      {
        "duration": 0,
        "start_time": "2023-02-18T13:57:26.727Z"
      },
      {
        "duration": 0,
        "start_time": "2023-02-18T13:57:26.728Z"
      },
      {
        "duration": 0,
        "start_time": "2023-02-18T13:57:26.730Z"
      },
      {
        "duration": 0,
        "start_time": "2023-02-18T13:57:26.731Z"
      },
      {
        "duration": 0,
        "start_time": "2023-02-18T13:57:26.732Z"
      },
      {
        "duration": 0,
        "start_time": "2023-02-18T13:57:26.733Z"
      },
      {
        "duration": 0,
        "start_time": "2023-02-18T13:57:26.754Z"
      },
      {
        "duration": 1193,
        "start_time": "2023-02-18T13:58:10.793Z"
      },
      {
        "duration": 27,
        "start_time": "2023-02-18T13:58:11.989Z"
      },
      {
        "duration": 19,
        "start_time": "2023-02-18T13:58:12.018Z"
      },
      {
        "duration": 41,
        "start_time": "2023-02-18T13:58:12.038Z"
      },
      {
        "duration": 6,
        "start_time": "2023-02-18T13:58:12.081Z"
      },
      {
        "duration": 5,
        "start_time": "2023-02-18T13:58:12.089Z"
      },
      {
        "duration": 5,
        "start_time": "2023-02-18T13:58:12.095Z"
      },
      {
        "duration": 5,
        "start_time": "2023-02-18T13:58:12.102Z"
      },
      {
        "duration": 5,
        "start_time": "2023-02-18T13:58:12.108Z"
      },
      {
        "duration": 10,
        "start_time": "2023-02-18T13:58:12.115Z"
      },
      {
        "duration": 54,
        "start_time": "2023-02-18T13:58:12.126Z"
      },
      {
        "duration": 5354,
        "start_time": "2023-02-18T13:58:12.181Z"
      },
      {
        "duration": 20,
        "start_time": "2023-02-18T13:58:17.537Z"
      },
      {
        "duration": 16,
        "start_time": "2023-02-18T13:58:17.561Z"
      },
      {
        "duration": 311,
        "start_time": "2023-02-18T13:58:17.579Z"
      },
      {
        "duration": 0,
        "start_time": "2023-02-18T13:58:17.892Z"
      },
      {
        "duration": 0,
        "start_time": "2023-02-18T13:58:17.894Z"
      },
      {
        "duration": 0,
        "start_time": "2023-02-18T13:58:17.896Z"
      },
      {
        "duration": 0,
        "start_time": "2023-02-18T13:58:17.897Z"
      },
      {
        "duration": 0,
        "start_time": "2023-02-18T13:58:17.899Z"
      },
      {
        "duration": 0,
        "start_time": "2023-02-18T13:58:17.900Z"
      },
      {
        "duration": 1130,
        "start_time": "2023-02-18T14:01:35.103Z"
      },
      {
        "duration": 28,
        "start_time": "2023-02-18T14:01:36.236Z"
      },
      {
        "duration": 20,
        "start_time": "2023-02-18T14:01:36.265Z"
      },
      {
        "duration": 34,
        "start_time": "2023-02-18T14:01:36.287Z"
      },
      {
        "duration": 8,
        "start_time": "2023-02-18T14:01:36.323Z"
      },
      {
        "duration": 5,
        "start_time": "2023-02-18T14:01:36.353Z"
      },
      {
        "duration": 6,
        "start_time": "2023-02-18T14:01:36.360Z"
      },
      {
        "duration": 18,
        "start_time": "2023-02-18T14:01:36.368Z"
      },
      {
        "duration": 5,
        "start_time": "2023-02-18T14:01:36.389Z"
      },
      {
        "duration": 116,
        "start_time": "2023-02-18T14:01:36.396Z"
      },
      {
        "duration": 0,
        "start_time": "2023-02-18T14:01:36.514Z"
      },
      {
        "duration": 0,
        "start_time": "2023-02-18T14:01:36.515Z"
      },
      {
        "duration": 0,
        "start_time": "2023-02-18T14:01:36.517Z"
      },
      {
        "duration": 0,
        "start_time": "2023-02-18T14:01:36.519Z"
      },
      {
        "duration": 0,
        "start_time": "2023-02-18T14:01:36.521Z"
      },
      {
        "duration": 0,
        "start_time": "2023-02-18T14:01:36.523Z"
      },
      {
        "duration": 0,
        "start_time": "2023-02-18T14:01:36.524Z"
      },
      {
        "duration": 0,
        "start_time": "2023-02-18T14:01:36.525Z"
      },
      {
        "duration": 0,
        "start_time": "2023-02-18T14:01:36.527Z"
      },
      {
        "duration": 0,
        "start_time": "2023-02-18T14:01:36.554Z"
      },
      {
        "duration": 0,
        "start_time": "2023-02-18T14:01:36.556Z"
      },
      {
        "duration": 1249,
        "start_time": "2023-02-18T14:02:07.264Z"
      },
      {
        "duration": 28,
        "start_time": "2023-02-18T14:02:08.515Z"
      },
      {
        "duration": 20,
        "start_time": "2023-02-18T14:02:08.544Z"
      },
      {
        "duration": 38,
        "start_time": "2023-02-18T14:02:08.567Z"
      },
      {
        "duration": 6,
        "start_time": "2023-02-18T14:02:08.606Z"
      },
      {
        "duration": 6,
        "start_time": "2023-02-18T14:02:08.613Z"
      },
      {
        "duration": 4,
        "start_time": "2023-02-18T14:02:08.621Z"
      },
      {
        "duration": 32,
        "start_time": "2023-02-18T14:02:08.626Z"
      },
      {
        "duration": 28,
        "start_time": "2023-02-18T14:02:08.660Z"
      },
      {
        "duration": 6,
        "start_time": "2023-02-18T14:02:08.691Z"
      },
      {
        "duration": 61,
        "start_time": "2023-02-18T14:02:08.698Z"
      },
      {
        "duration": 5323,
        "start_time": "2023-02-18T14:02:08.761Z"
      },
      {
        "duration": 11,
        "start_time": "2023-02-18T14:02:14.086Z"
      },
      {
        "duration": 11,
        "start_time": "2023-02-18T14:02:14.098Z"
      },
      {
        "duration": 342,
        "start_time": "2023-02-18T14:02:14.110Z"
      },
      {
        "duration": 0,
        "start_time": "2023-02-18T14:02:14.455Z"
      },
      {
        "duration": 0,
        "start_time": "2023-02-18T14:02:14.456Z"
      },
      {
        "duration": 0,
        "start_time": "2023-02-18T14:02:14.458Z"
      },
      {
        "duration": 1,
        "start_time": "2023-02-18T14:02:14.458Z"
      },
      {
        "duration": 0,
        "start_time": "2023-02-18T14:02:14.460Z"
      },
      {
        "duration": 0,
        "start_time": "2023-02-18T14:02:14.461Z"
      },
      {
        "duration": 41,
        "start_time": "2023-02-18T14:11:03.675Z"
      },
      {
        "duration": 33,
        "start_time": "2023-02-18T14:11:39.326Z"
      },
      {
        "duration": 4969,
        "start_time": "2023-02-18T14:11:41.136Z"
      },
      {
        "duration": 7,
        "start_time": "2023-02-18T14:13:51.968Z"
      },
      {
        "duration": 5105,
        "start_time": "2023-02-18T14:13:52.937Z"
      },
      {
        "duration": 32,
        "start_time": "2023-02-18T14:13:58.044Z"
      },
      {
        "duration": 30,
        "start_time": "2023-02-18T14:14:29.897Z"
      },
      {
        "duration": 5049,
        "start_time": "2023-02-18T14:14:52.203Z"
      },
      {
        "duration": 6,
        "start_time": "2023-02-18T14:14:57.757Z"
      },
      {
        "duration": 23,
        "start_time": "2023-02-18T14:14:59.041Z"
      },
      {
        "duration": 7,
        "start_time": "2023-02-18T14:15:00.964Z"
      },
      {
        "duration": 4738,
        "start_time": "2023-02-18T14:15:01.774Z"
      },
      {
        "duration": 29,
        "start_time": "2023-02-18T14:15:08.295Z"
      },
      {
        "duration": 9,
        "start_time": "2023-02-18T14:15:15.875Z"
      },
      {
        "duration": 10,
        "start_time": "2023-02-18T14:15:19.874Z"
      },
      {
        "duration": 80,
        "start_time": "2023-02-18T14:15:21.675Z"
      },
      {
        "duration": 34,
        "start_time": "2023-02-18T14:19:30.935Z"
      },
      {
        "duration": 33,
        "start_time": "2023-02-18T14:19:52.664Z"
      },
      {
        "duration": 9,
        "start_time": "2023-02-18T14:19:56.265Z"
      },
      {
        "duration": 35,
        "start_time": "2023-02-18T14:19:56.976Z"
      },
      {
        "duration": 4,
        "start_time": "2023-02-18T14:21:48.299Z"
      },
      {
        "duration": 28,
        "start_time": "2023-02-18T14:21:48.306Z"
      },
      {
        "duration": 11,
        "start_time": "2023-02-18T14:21:48.336Z"
      },
      {
        "duration": 41,
        "start_time": "2023-02-18T14:21:48.349Z"
      },
      {
        "duration": 7,
        "start_time": "2023-02-18T14:21:48.392Z"
      },
      {
        "duration": 6,
        "start_time": "2023-02-18T14:21:48.400Z"
      },
      {
        "duration": 10,
        "start_time": "2023-02-18T14:21:48.407Z"
      },
      {
        "duration": 9,
        "start_time": "2023-02-18T14:21:48.419Z"
      },
      {
        "duration": 46,
        "start_time": "2023-02-18T14:21:48.430Z"
      },
      {
        "duration": 6,
        "start_time": "2023-02-18T14:21:48.480Z"
      },
      {
        "duration": 31,
        "start_time": "2023-02-18T14:21:48.487Z"
      },
      {
        "duration": 0,
        "start_time": "2023-02-18T14:21:48.519Z"
      },
      {
        "duration": 0,
        "start_time": "2023-02-18T14:21:48.521Z"
      },
      {
        "duration": 0,
        "start_time": "2023-02-18T14:21:48.522Z"
      },
      {
        "duration": 0,
        "start_time": "2023-02-18T14:21:48.523Z"
      },
      {
        "duration": 0,
        "start_time": "2023-02-18T14:21:48.524Z"
      },
      {
        "duration": 0,
        "start_time": "2023-02-18T14:21:48.525Z"
      },
      {
        "duration": 0,
        "start_time": "2023-02-18T14:21:48.526Z"
      },
      {
        "duration": 0,
        "start_time": "2023-02-18T14:21:48.554Z"
      },
      {
        "duration": 0,
        "start_time": "2023-02-18T14:21:48.556Z"
      },
      {
        "duration": 0,
        "start_time": "2023-02-18T14:21:48.559Z"
      },
      {
        "duration": 7,
        "start_time": "2023-02-18T14:22:32.063Z"
      },
      {
        "duration": 3,
        "start_time": "2023-02-18T14:22:32.563Z"
      },
      {
        "duration": 30,
        "start_time": "2023-02-18T14:22:33.576Z"
      },
      {
        "duration": 7,
        "start_time": "2023-02-18T14:22:35.895Z"
      },
      {
        "duration": 38,
        "start_time": "2023-02-18T14:22:36.738Z"
      },
      {
        "duration": 31,
        "start_time": "2023-02-18T14:23:54.121Z"
      },
      {
        "duration": 6,
        "start_time": "2023-02-18T14:23:57.118Z"
      },
      {
        "duration": 33,
        "start_time": "2023-02-18T14:23:57.374Z"
      },
      {
        "duration": 4,
        "start_time": "2023-02-18T14:28:14.410Z"
      },
      {
        "duration": 3,
        "start_time": "2023-02-18T14:28:14.878Z"
      },
      {
        "duration": 4,
        "start_time": "2023-02-18T14:28:15.974Z"
      },
      {
        "duration": 6,
        "start_time": "2023-02-18T14:28:17.754Z"
      },
      {
        "duration": 2594,
        "start_time": "2023-02-18T14:28:18.618Z"
      },
      {
        "duration": 2517,
        "start_time": "2023-02-18T14:28:56.340Z"
      },
      {
        "duration": 2455,
        "start_time": "2023-02-18T14:29:09.034Z"
      },
      {
        "duration": 2529,
        "start_time": "2023-02-18T14:29:18.977Z"
      },
      {
        "duration": 24,
        "start_time": "2023-02-18T14:29:36.418Z"
      },
      {
        "duration": 6,
        "start_time": "2023-02-18T14:30:11.117Z"
      },
      {
        "duration": 2,
        "start_time": "2023-02-18T14:30:12.263Z"
      },
      {
        "duration": 6,
        "start_time": "2023-02-18T14:30:21.875Z"
      },
      {
        "duration": 2365,
        "start_time": "2023-02-18T14:30:22.875Z"
      },
      {
        "duration": 24,
        "start_time": "2023-02-18T14:30:26.963Z"
      },
      {
        "duration": 8,
        "start_time": "2023-02-18T14:30:33.954Z"
      },
      {
        "duration": 5,
        "start_time": "2023-02-18T14:31:20.284Z"
      },
      {
        "duration": 25,
        "start_time": "2023-02-18T14:31:21.634Z"
      },
      {
        "duration": 3,
        "start_time": "2023-02-18T14:31:23.793Z"
      },
      {
        "duration": 2513,
        "start_time": "2023-02-18T14:31:24.554Z"
      },
      {
        "duration": 26,
        "start_time": "2023-02-18T14:31:28.033Z"
      },
      {
        "duration": 10,
        "start_time": "2023-02-18T14:31:30.919Z"
      },
      {
        "duration": 2816,
        "start_time": "2023-02-18T14:32:26.577Z"
      },
      {
        "duration": 6,
        "start_time": "2023-02-18T14:33:00.176Z"
      },
      {
        "duration": 3,
        "start_time": "2023-02-18T14:33:02.074Z"
      },
      {
        "duration": 2665,
        "start_time": "2023-02-18T14:33:02.533Z"
      },
      {
        "duration": 4,
        "start_time": "2023-02-18T14:35:32.522Z"
      },
      {
        "duration": 2,
        "start_time": "2023-02-18T14:35:33.604Z"
      },
      {
        "duration": 5,
        "start_time": "2023-02-18T14:35:34.551Z"
      },
      {
        "duration": 9,
        "start_time": "2023-02-18T14:35:36.273Z"
      },
      {
        "duration": 2598,
        "start_time": "2023-02-18T14:35:38.026Z"
      },
      {
        "duration": 26,
        "start_time": "2023-02-18T14:35:45.122Z"
      },
      {
        "duration": 2467,
        "start_time": "2023-02-18T14:39:13.760Z"
      },
      {
        "duration": 102,
        "start_time": "2023-02-18T14:47:42.629Z"
      },
      {
        "duration": 84,
        "start_time": "2023-02-18T14:50:22.033Z"
      },
      {
        "duration": 8,
        "start_time": "2023-02-18T14:50:47.299Z"
      },
      {
        "duration": 87,
        "start_time": "2023-02-18T14:50:47.800Z"
      },
      {
        "duration": 2762,
        "start_time": "2023-02-18T14:51:04.492Z"
      },
      {
        "duration": 2407,
        "start_time": "2023-02-18T14:51:12.773Z"
      },
      {
        "duration": 2556,
        "start_time": "2023-02-18T14:51:28.532Z"
      },
      {
        "duration": 2694,
        "start_time": "2023-02-18T14:51:36.991Z"
      },
      {
        "duration": 2651,
        "start_time": "2023-02-18T15:04:05.252Z"
      },
      {
        "duration": 23017,
        "start_time": "2023-02-18T15:12:34.053Z"
      },
      {
        "duration": 2635,
        "start_time": "2023-02-18T15:14:24.760Z"
      },
      {
        "duration": 2570,
        "start_time": "2023-02-18T15:15:18.925Z"
      },
      {
        "duration": 2774,
        "start_time": "2023-02-18T15:21:04.080Z"
      },
      {
        "duration": 2767,
        "start_time": "2023-02-18T15:21:14.034Z"
      },
      {
        "duration": 2828,
        "start_time": "2023-02-18T15:21:22.434Z"
      },
      {
        "duration": 2861,
        "start_time": "2023-02-18T15:21:32.576Z"
      },
      {
        "duration": 2568,
        "start_time": "2023-02-18T15:21:39.429Z"
      },
      {
        "duration": 47,
        "start_time": "2023-02-19T05:22:09.330Z"
      },
      {
        "duration": 1084,
        "start_time": "2023-02-19T05:22:26.005Z"
      },
      {
        "duration": 131,
        "start_time": "2023-02-19T05:22:27.091Z"
      },
      {
        "duration": 17,
        "start_time": "2023-02-19T05:22:27.223Z"
      },
      {
        "duration": 36,
        "start_time": "2023-02-19T05:22:27.241Z"
      },
      {
        "duration": 7,
        "start_time": "2023-02-19T05:22:27.278Z"
      },
      {
        "duration": 25,
        "start_time": "2023-02-19T05:22:27.287Z"
      },
      {
        "duration": 29,
        "start_time": "2023-02-19T05:22:27.313Z"
      },
      {
        "duration": 22,
        "start_time": "2023-02-19T05:22:27.343Z"
      },
      {
        "duration": 12,
        "start_time": "2023-02-19T05:22:27.367Z"
      },
      {
        "duration": 22,
        "start_time": "2023-02-19T05:22:27.380Z"
      },
      {
        "duration": 4357,
        "start_time": "2023-02-19T05:22:27.404Z"
      },
      {
        "duration": 0,
        "start_time": "2023-02-19T05:22:31.763Z"
      },
      {
        "duration": 0,
        "start_time": "2023-02-19T05:22:31.764Z"
      },
      {
        "duration": 0,
        "start_time": "2023-02-19T05:22:31.765Z"
      },
      {
        "duration": 0,
        "start_time": "2023-02-19T05:22:31.766Z"
      },
      {
        "duration": 0,
        "start_time": "2023-02-19T05:22:31.767Z"
      },
      {
        "duration": 0,
        "start_time": "2023-02-19T05:22:31.768Z"
      },
      {
        "duration": 0,
        "start_time": "2023-02-19T05:22:31.769Z"
      },
      {
        "duration": 0,
        "start_time": "2023-02-19T05:22:31.770Z"
      },
      {
        "duration": 0,
        "start_time": "2023-02-19T05:22:31.771Z"
      },
      {
        "duration": 0,
        "start_time": "2023-02-19T05:22:31.772Z"
      },
      {
        "duration": 4441,
        "start_time": "2023-02-19T05:23:20.279Z"
      },
      {
        "duration": 27,
        "start_time": "2023-02-19T05:23:24.722Z"
      },
      {
        "duration": 4299,
        "start_time": "2023-02-19T05:23:54.111Z"
      },
      {
        "duration": 2,
        "start_time": "2023-02-19T05:45:43.062Z"
      },
      {
        "duration": 9,
        "start_time": "2023-02-19T05:45:43.567Z"
      },
      {
        "duration": 7,
        "start_time": "2023-02-19T05:45:44.991Z"
      },
      {
        "duration": 30,
        "start_time": "2023-02-19T05:45:47.211Z"
      },
      {
        "duration": 3,
        "start_time": "2023-02-19T05:47:18.269Z"
      },
      {
        "duration": 3,
        "start_time": "2023-02-19T05:47:19.082Z"
      },
      {
        "duration": 28,
        "start_time": "2023-02-19T05:47:20.385Z"
      },
      {
        "duration": 2,
        "start_time": "2023-02-19T05:47:31.599Z"
      },
      {
        "duration": 2312,
        "start_time": "2023-02-19T05:47:31.915Z"
      },
      {
        "duration": 2279,
        "start_time": "2023-02-19T05:48:03.352Z"
      },
      {
        "duration": 18,
        "start_time": "2023-02-19T05:48:27.012Z"
      },
      {
        "duration": 10,
        "start_time": "2023-02-19T05:51:26.934Z"
      },
      {
        "duration": 30,
        "start_time": "2023-02-19T05:54:25.628Z"
      },
      {
        "duration": 3,
        "start_time": "2023-02-19T05:54:26.105Z"
      },
      {
        "duration": 2442,
        "start_time": "2023-02-19T05:54:26.556Z"
      },
      {
        "duration": 2497,
        "start_time": "2023-02-19T05:54:34.533Z"
      },
      {
        "duration": 2337,
        "start_time": "2023-02-19T05:54:37.032Z"
      },
      {
        "duration": 2344,
        "start_time": "2023-02-19T05:55:15.232Z"
      },
      {
        "duration": 2444,
        "start_time": "2023-02-19T05:55:25.914Z"
      },
      {
        "duration": 43,
        "start_time": "2023-02-19T05:56:00.180Z"
      },
      {
        "duration": 2438,
        "start_time": "2023-02-19T05:56:20.379Z"
      },
      {
        "duration": 57,
        "start_time": "2023-02-19T05:56:54.601Z"
      },
      {
        "duration": 31,
        "start_time": "2023-02-19T05:57:03.173Z"
      },
      {
        "duration": 3,
        "start_time": "2023-02-19T05:58:25.116Z"
      },
      {
        "duration": 32,
        "start_time": "2023-02-19T05:58:26.333Z"
      },
      {
        "duration": 2,
        "start_time": "2023-02-19T05:58:28.192Z"
      },
      {
        "duration": 2271,
        "start_time": "2023-02-19T05:58:32.332Z"
      },
      {
        "duration": 22,
        "start_time": "2023-02-19T05:59:03.952Z"
      },
      {
        "duration": 11,
        "start_time": "2023-02-19T05:59:07.331Z"
      },
      {
        "duration": 23,
        "start_time": "2023-02-19T06:07:23.512Z"
      },
      {
        "duration": 22,
        "start_time": "2023-02-19T06:07:29.933Z"
      },
      {
        "duration": 23,
        "start_time": "2023-02-19T06:07:34.335Z"
      },
      {
        "duration": 26,
        "start_time": "2023-02-19T06:07:52.172Z"
      },
      {
        "duration": 16,
        "start_time": "2023-02-19T06:08:51.213Z"
      },
      {
        "duration": 8,
        "start_time": "2023-02-19T06:12:06.245Z"
      },
      {
        "duration": 4,
        "start_time": "2023-02-19T06:12:21.110Z"
      },
      {
        "duration": 9,
        "start_time": "2023-02-19T06:12:22.092Z"
      },
      {
        "duration": 5,
        "start_time": "2023-02-19T06:12:40.544Z"
      },
      {
        "duration": 5,
        "start_time": "2023-02-19T06:12:41.421Z"
      },
      {
        "duration": 9,
        "start_time": "2023-02-19T06:12:42.070Z"
      },
      {
        "duration": 10,
        "start_time": "2023-02-19T06:13:29.016Z"
      },
      {
        "duration": 2630,
        "start_time": "2023-02-19T06:15:01.784Z"
      },
      {
        "duration": 2609,
        "start_time": "2023-02-19T06:16:31.160Z"
      },
      {
        "duration": 2762,
        "start_time": "2023-02-19T06:18:23.272Z"
      },
      {
        "duration": 2801,
        "start_time": "2023-02-19T06:18:45.091Z"
      },
      {
        "duration": 9,
        "start_time": "2023-02-19T06:21:05.320Z"
      },
      {
        "duration": 10,
        "start_time": "2023-02-19T06:21:25.034Z"
      },
      {
        "duration": 27,
        "start_time": "2023-02-19T06:21:54.341Z"
      },
      {
        "duration": 950,
        "start_time": "2023-02-19T06:23:05.541Z"
      },
      {
        "duration": 922,
        "start_time": "2023-02-19T06:23:33.072Z"
      },
      {
        "duration": 5,
        "start_time": "2023-02-19T06:24:54.288Z"
      },
      {
        "duration": 6,
        "start_time": "2023-02-19T06:25:01.245Z"
      },
      {
        "duration": 5,
        "start_time": "2023-02-19T06:25:25.993Z"
      },
      {
        "duration": 29,
        "start_time": "2023-02-19T06:28:35.852Z"
      },
      {
        "duration": 27,
        "start_time": "2023-02-19T06:28:44.139Z"
      },
      {
        "duration": 3,
        "start_time": "2023-02-19T06:31:42.111Z"
      },
      {
        "duration": 10,
        "start_time": "2023-02-19T06:31:42.627Z"
      },
      {
        "duration": 11,
        "start_time": "2023-02-19T06:32:44.434Z"
      },
      {
        "duration": 4,
        "start_time": "2023-02-19T06:32:52.617Z"
      },
      {
        "duration": 11,
        "start_time": "2023-02-19T06:32:53.623Z"
      },
      {
        "duration": 4,
        "start_time": "2023-02-19T06:32:59.112Z"
      },
      {
        "duration": 10,
        "start_time": "2023-02-19T06:33:00.252Z"
      },
      {
        "duration": 4,
        "start_time": "2023-02-19T06:33:05.789Z"
      },
      {
        "duration": 13,
        "start_time": "2023-02-19T06:33:06.335Z"
      },
      {
        "duration": 5,
        "start_time": "2023-02-19T06:33:15.711Z"
      },
      {
        "duration": 3,
        "start_time": "2023-02-19T06:33:23.631Z"
      },
      {
        "duration": 5,
        "start_time": "2023-02-19T06:33:24.478Z"
      },
      {
        "duration": 10,
        "start_time": "2023-02-19T06:33:37.931Z"
      },
      {
        "duration": 46,
        "start_time": "2023-02-19T06:33:44.952Z"
      },
      {
        "duration": 5,
        "start_time": "2023-02-19T06:33:52.452Z"
      },
      {
        "duration": 5,
        "start_time": "2023-02-19T06:34:15.571Z"
      },
      {
        "duration": 5,
        "start_time": "2023-02-19T06:34:16.131Z"
      },
      {
        "duration": 23,
        "start_time": "2023-02-19T06:34:18.792Z"
      },
      {
        "duration": 4,
        "start_time": "2023-02-19T06:37:01.195Z"
      },
      {
        "duration": 30,
        "start_time": "2023-02-19T06:37:02.992Z"
      },
      {
        "duration": 16,
        "start_time": "2023-02-19T06:37:38.633Z"
      },
      {
        "duration": 16,
        "start_time": "2023-02-19T06:41:03.071Z"
      },
      {
        "duration": 10,
        "start_time": "2023-02-19T06:44:27.747Z"
      },
      {
        "duration": 4,
        "start_time": "2023-02-19T06:44:43.211Z"
      },
      {
        "duration": 10,
        "start_time": "2023-02-19T06:45:00.045Z"
      },
      {
        "duration": 17,
        "start_time": "2023-02-19T06:45:48.536Z"
      },
      {
        "duration": 15,
        "start_time": "2023-02-19T06:46:36.892Z"
      },
      {
        "duration": 9,
        "start_time": "2023-02-19T06:47:27.671Z"
      },
      {
        "duration": 5,
        "start_time": "2023-02-19T06:47:35.211Z"
      },
      {
        "duration": 6,
        "start_time": "2023-02-19T06:47:37.591Z"
      },
      {
        "duration": 4,
        "start_time": "2023-02-19T06:47:38.891Z"
      },
      {
        "duration": 5,
        "start_time": "2023-02-19T06:47:40.443Z"
      },
      {
        "duration": 5,
        "start_time": "2023-02-19T06:47:41.157Z"
      },
      {
        "duration": 47,
        "start_time": "2023-02-19T06:47:42.179Z"
      },
      {
        "duration": 1066,
        "start_time": "2023-02-19T06:48:08.233Z"
      },
      {
        "duration": 30,
        "start_time": "2023-02-19T06:48:09.301Z"
      },
      {
        "duration": 16,
        "start_time": "2023-02-19T06:48:09.334Z"
      },
      {
        "duration": 53,
        "start_time": "2023-02-19T06:48:09.352Z"
      },
      {
        "duration": 6,
        "start_time": "2023-02-19T06:48:09.406Z"
      },
      {
        "duration": 28,
        "start_time": "2023-02-19T06:48:09.414Z"
      },
      {
        "duration": 45,
        "start_time": "2023-02-19T06:48:09.443Z"
      },
      {
        "duration": 25,
        "start_time": "2023-02-19T06:48:09.490Z"
      },
      {
        "duration": 26,
        "start_time": "2023-02-19T06:48:09.516Z"
      },
      {
        "duration": 47,
        "start_time": "2023-02-19T06:48:09.543Z"
      },
      {
        "duration": 28,
        "start_time": "2023-02-19T06:48:09.592Z"
      },
      {
        "duration": 51,
        "start_time": "2023-02-19T06:48:09.621Z"
      },
      {
        "duration": 0,
        "start_time": "2023-02-19T06:48:09.673Z"
      },
      {
        "duration": 0,
        "start_time": "2023-02-19T06:48:09.675Z"
      },
      {
        "duration": 0,
        "start_time": "2023-02-19T06:48:09.676Z"
      },
      {
        "duration": 0,
        "start_time": "2023-02-19T06:48:09.676Z"
      },
      {
        "duration": 0,
        "start_time": "2023-02-19T06:48:09.677Z"
      },
      {
        "duration": 0,
        "start_time": "2023-02-19T06:48:09.678Z"
      },
      {
        "duration": 0,
        "start_time": "2023-02-19T06:48:09.679Z"
      },
      {
        "duration": 0,
        "start_time": "2023-02-19T06:48:09.680Z"
      },
      {
        "duration": 0,
        "start_time": "2023-02-19T06:48:09.681Z"
      },
      {
        "duration": 0,
        "start_time": "2023-02-19T06:48:09.682Z"
      },
      {
        "duration": 0,
        "start_time": "2023-02-19T06:48:09.683Z"
      },
      {
        "duration": 0,
        "start_time": "2023-02-19T06:48:09.684Z"
      },
      {
        "duration": 2525,
        "start_time": "2023-02-19T06:49:53.652Z"
      },
      {
        "duration": 2233,
        "start_time": "2023-02-19T06:50:20.574Z"
      },
      {
        "duration": 9,
        "start_time": "2023-02-19T06:56:54.728Z"
      },
      {
        "duration": 8,
        "start_time": "2023-02-19T06:57:46.474Z"
      },
      {
        "duration": 6,
        "start_time": "2023-02-19T06:57:47.712Z"
      },
      {
        "duration": 47,
        "start_time": "2023-02-19T06:57:48.800Z"
      },
      {
        "duration": 99,
        "start_time": "2023-02-19T06:58:08.795Z"
      },
      {
        "duration": 30,
        "start_time": "2023-02-19T06:58:09.250Z"
      },
      {
        "duration": 12,
        "start_time": "2023-02-19T06:58:09.419Z"
      },
      {
        "duration": 29,
        "start_time": "2023-02-19T06:58:09.590Z"
      },
      {
        "duration": 6,
        "start_time": "2023-02-19T06:58:09.751Z"
      },
      {
        "duration": 4,
        "start_time": "2023-02-19T06:58:10.090Z"
      },
      {
        "duration": 5,
        "start_time": "2023-02-19T06:58:11.970Z"
      },
      {
        "duration": 6,
        "start_time": "2023-02-19T06:58:13.570Z"
      },
      {
        "duration": 7,
        "start_time": "2023-02-19T06:58:15.331Z"
      },
      {
        "duration": 7,
        "start_time": "2023-02-19T06:58:15.871Z"
      },
      {
        "duration": 44,
        "start_time": "2023-02-19T06:58:16.711Z"
      },
      {
        "duration": 7,
        "start_time": "2023-02-19T06:58:40.942Z"
      },
      {
        "duration": 8,
        "start_time": "2023-02-19T06:58:41.371Z"
      },
      {
        "duration": 54,
        "start_time": "2023-02-19T06:58:42.071Z"
      },
      {
        "duration": 40,
        "start_time": "2023-02-19T06:59:05.890Z"
      },
      {
        "duration": 18,
        "start_time": "2023-02-19T06:59:40.048Z"
      },
      {
        "duration": 14,
        "start_time": "2023-02-19T07:01:18.910Z"
      },
      {
        "duration": 5,
        "start_time": "2023-02-19T07:01:55.938Z"
      },
      {
        "duration": 3,
        "start_time": "2023-02-19T07:01:56.540Z"
      },
      {
        "duration": 15,
        "start_time": "2023-02-19T07:01:57.390Z"
      },
      {
        "duration": 3,
        "start_time": "2023-02-19T07:02:11.418Z"
      },
      {
        "duration": 5,
        "start_time": "2023-02-19T07:02:11.930Z"
      },
      {
        "duration": 3,
        "start_time": "2023-02-19T07:02:12.551Z"
      },
      {
        "duration": 16,
        "start_time": "2023-02-19T07:02:13.334Z"
      },
      {
        "duration": 12,
        "start_time": "2023-02-19T07:11:53.222Z"
      },
      {
        "duration": 10,
        "start_time": "2023-02-19T07:12:18.553Z"
      },
      {
        "duration": 3,
        "start_time": "2023-02-19T07:15:57.230Z"
      },
      {
        "duration": 7,
        "start_time": "2023-02-19T07:15:57.811Z"
      },
      {
        "duration": 2,
        "start_time": "2023-02-19T07:16:18.578Z"
      },
      {
        "duration": 5,
        "start_time": "2023-02-19T07:16:18.830Z"
      },
      {
        "duration": 521,
        "start_time": "2023-02-19T07:16:24.345Z"
      },
      {
        "duration": 0,
        "start_time": "2023-02-19T07:16:24.867Z"
      },
      {
        "duration": 3,
        "start_time": "2023-02-19T07:16:25.710Z"
      },
      {
        "duration": 5,
        "start_time": "2023-02-19T07:16:26.799Z"
      },
      {
        "duration": 584,
        "start_time": "2023-02-19T07:16:41.491Z"
      },
      {
        "duration": 4,
        "start_time": "2023-02-19T07:16:56.974Z"
      },
      {
        "duration": 567,
        "start_time": "2023-02-19T07:17:00.350Z"
      },
      {
        "duration": 4,
        "start_time": "2023-02-19T07:17:05.415Z"
      },
      {
        "duration": 30,
        "start_time": "2023-02-19T07:17:05.903Z"
      },
      {
        "duration": 14,
        "start_time": "2023-02-19T07:17:06.410Z"
      },
      {
        "duration": 29,
        "start_time": "2023-02-19T07:17:07.050Z"
      },
      {
        "duration": 5,
        "start_time": "2023-02-19T07:17:07.731Z"
      },
      {
        "duration": 4,
        "start_time": "2023-02-19T07:17:09.331Z"
      },
      {
        "duration": 6,
        "start_time": "2023-02-19T07:17:11.259Z"
      },
      {
        "duration": 7,
        "start_time": "2023-02-19T07:17:12.692Z"
      },
      {
        "duration": 2,
        "start_time": "2023-02-19T07:17:15.306Z"
      },
      {
        "duration": 9,
        "start_time": "2023-02-19T07:17:15.671Z"
      },
      {
        "duration": 3,
        "start_time": "2023-02-19T07:19:38.911Z"
      },
      {
        "duration": 9,
        "start_time": "2023-02-19T07:19:39.447Z"
      },
      {
        "duration": 4,
        "start_time": "2023-02-19T07:46:01.475Z"
      },
      {
        "duration": 5,
        "start_time": "2023-02-19T07:46:23.269Z"
      },
      {
        "duration": 5,
        "start_time": "2023-02-19T07:46:58.546Z"
      },
      {
        "duration": 6,
        "start_time": "2023-02-19T07:47:55.049Z"
      },
      {
        "duration": 9,
        "start_time": "2023-02-19T07:48:10.698Z"
      },
      {
        "duration": 4,
        "start_time": "2023-02-19T07:48:25.189Z"
      },
      {
        "duration": 30,
        "start_time": "2023-02-19T07:48:25.511Z"
      },
      {
        "duration": 11,
        "start_time": "2023-02-19T07:48:25.857Z"
      },
      {
        "duration": 29,
        "start_time": "2023-02-19T07:48:26.181Z"
      },
      {
        "duration": 5,
        "start_time": "2023-02-19T07:48:27.034Z"
      },
      {
        "duration": 4,
        "start_time": "2023-02-19T07:48:28.037Z"
      },
      {
        "duration": 5,
        "start_time": "2023-02-19T07:48:32.012Z"
      },
      {
        "duration": 5,
        "start_time": "2023-02-19T07:48:33.130Z"
      },
      {
        "duration": 9,
        "start_time": "2023-02-19T07:48:35.549Z"
      },
      {
        "duration": 4,
        "start_time": "2023-02-19T07:48:37.842Z"
      },
      {
        "duration": 5,
        "start_time": "2023-02-19T07:48:39.009Z"
      },
      {
        "duration": 14,
        "start_time": "2023-02-19T07:48:52.469Z"
      },
      {
        "duration": 24,
        "start_time": "2023-02-19T07:50:07.934Z"
      },
      {
        "duration": 5,
        "start_time": "2023-02-19T08:23:08.754Z"
      },
      {
        "duration": 4,
        "start_time": "2023-02-19T08:23:59.832Z"
      },
      {
        "duration": 14,
        "start_time": "2023-02-19T08:24:11.753Z"
      },
      {
        "duration": 770,
        "start_time": "2023-02-19T08:24:56.153Z"
      },
      {
        "duration": 6,
        "start_time": "2023-02-19T08:25:00.073Z"
      },
      {
        "duration": 12,
        "start_time": "2023-02-19T08:25:20.048Z"
      },
      {
        "duration": 12,
        "start_time": "2023-02-19T08:25:48.552Z"
      },
      {
        "duration": 13,
        "start_time": "2023-02-19T08:25:50.413Z"
      },
      {
        "duration": 3,
        "start_time": "2023-02-19T08:25:59.712Z"
      },
      {
        "duration": 32,
        "start_time": "2023-02-19T08:25:59.719Z"
      },
      {
        "duration": 12,
        "start_time": "2023-02-19T08:25:59.753Z"
      },
      {
        "duration": 29,
        "start_time": "2023-02-19T08:25:59.767Z"
      },
      {
        "duration": 6,
        "start_time": "2023-02-19T08:25:59.799Z"
      },
      {
        "duration": 5,
        "start_time": "2023-02-19T08:25:59.806Z"
      },
      {
        "duration": 6,
        "start_time": "2023-02-19T08:25:59.813Z"
      },
      {
        "duration": 13,
        "start_time": "2023-02-19T08:25:59.820Z"
      },
      {
        "duration": 11,
        "start_time": "2023-02-19T08:25:59.834Z"
      },
      {
        "duration": 7,
        "start_time": "2023-02-19T08:25:59.846Z"
      },
      {
        "duration": 42,
        "start_time": "2023-02-19T08:25:59.856Z"
      },
      {
        "duration": 20,
        "start_time": "2023-02-19T08:25:59.900Z"
      },
      {
        "duration": 13,
        "start_time": "2023-02-19T08:25:59.922Z"
      },
      {
        "duration": 6,
        "start_time": "2023-02-19T08:25:59.936Z"
      },
      {
        "duration": 5,
        "start_time": "2023-02-19T08:25:59.944Z"
      },
      {
        "duration": 16,
        "start_time": "2023-02-19T08:25:59.951Z"
      },
      {
        "duration": 0,
        "start_time": "2023-02-19T08:25:59.969Z"
      },
      {
        "duration": 0,
        "start_time": "2023-02-19T08:25:59.970Z"
      },
      {
        "duration": 0,
        "start_time": "2023-02-19T08:25:59.971Z"
      },
      {
        "duration": 0,
        "start_time": "2023-02-19T08:25:59.972Z"
      },
      {
        "duration": 0,
        "start_time": "2023-02-19T08:25:59.974Z"
      },
      {
        "duration": 0,
        "start_time": "2023-02-19T08:25:59.991Z"
      },
      {
        "duration": 0,
        "start_time": "2023-02-19T08:25:59.992Z"
      },
      {
        "duration": 0,
        "start_time": "2023-02-19T08:25:59.993Z"
      },
      {
        "duration": 0,
        "start_time": "2023-02-19T08:25:59.994Z"
      },
      {
        "duration": 0,
        "start_time": "2023-02-19T08:25:59.995Z"
      },
      {
        "duration": 0,
        "start_time": "2023-02-19T08:25:59.996Z"
      },
      {
        "duration": 0,
        "start_time": "2023-02-19T08:25:59.997Z"
      },
      {
        "duration": 9,
        "start_time": "2023-02-19T08:26:24.132Z"
      },
      {
        "duration": 7,
        "start_time": "2023-02-19T08:26:26.389Z"
      },
      {
        "duration": 7,
        "start_time": "2023-02-19T08:29:53.372Z"
      },
      {
        "duration": 4,
        "start_time": "2023-02-19T08:30:41.172Z"
      },
      {
        "duration": 29,
        "start_time": "2023-02-19T08:30:41.718Z"
      },
      {
        "duration": 7,
        "start_time": "2023-02-19T08:30:42.303Z"
      },
      {
        "duration": 4,
        "start_time": "2023-02-19T08:31:00.210Z"
      },
      {
        "duration": 31,
        "start_time": "2023-02-19T08:31:00.414Z"
      },
      {
        "duration": 11,
        "start_time": "2023-02-19T08:31:01.712Z"
      },
      {
        "duration": 26,
        "start_time": "2023-02-19T08:31:02.612Z"
      },
      {
        "duration": 6,
        "start_time": "2023-02-19T08:31:06.775Z"
      },
      {
        "duration": 4,
        "start_time": "2023-02-19T08:31:10.979Z"
      },
      {
        "duration": 6,
        "start_time": "2023-02-19T08:31:11.853Z"
      },
      {
        "duration": 6,
        "start_time": "2023-02-19T08:31:19.721Z"
      },
      {
        "duration": 4,
        "start_time": "2023-02-19T08:31:20.953Z"
      },
      {
        "duration": 8,
        "start_time": "2023-02-19T08:31:21.794Z"
      },
      {
        "duration": 6,
        "start_time": "2023-02-19T08:31:28.992Z"
      },
      {
        "duration": 7,
        "start_time": "2023-02-19T08:31:33.623Z"
      },
      {
        "duration": 13,
        "start_time": "2023-02-19T08:36:32.133Z"
      },
      {
        "duration": 349,
        "start_time": "2023-02-19T08:36:44.359Z"
      },
      {
        "duration": 31,
        "start_time": "2023-02-19T08:36:44.710Z"
      },
      {
        "duration": 12,
        "start_time": "2023-02-19T08:36:44.907Z"
      },
      {
        "duration": 34,
        "start_time": "2023-02-19T08:36:45.156Z"
      },
      {
        "duration": 6,
        "start_time": "2023-02-19T08:36:45.331Z"
      },
      {
        "duration": 6,
        "start_time": "2023-02-19T08:36:46.851Z"
      },
      {
        "duration": 5,
        "start_time": "2023-02-19T08:36:47.121Z"
      },
      {
        "duration": 400,
        "start_time": "2023-02-19T08:36:48.029Z"
      },
      {
        "duration": 6,
        "start_time": "2023-02-19T08:39:24.664Z"
      },
      {
        "duration": 7,
        "start_time": "2023-02-19T08:39:25.880Z"
      },
      {
        "duration": 11,
        "start_time": "2023-02-19T08:39:28.491Z"
      },
      {
        "duration": 12,
        "start_time": "2023-02-19T08:49:19.855Z"
      },
      {
        "duration": 4,
        "start_time": "2023-02-19T08:49:23.967Z"
      },
      {
        "duration": 48,
        "start_time": "2023-02-19T08:49:23.973Z"
      },
      {
        "duration": 12,
        "start_time": "2023-02-19T08:49:24.023Z"
      },
      {
        "duration": 110,
        "start_time": "2023-02-19T08:49:24.037Z"
      },
      {
        "duration": 5,
        "start_time": "2023-02-19T08:49:24.149Z"
      },
      {
        "duration": 5,
        "start_time": "2023-02-19T08:49:24.155Z"
      },
      {
        "duration": 6,
        "start_time": "2023-02-19T08:49:24.161Z"
      },
      {
        "duration": 381,
        "start_time": "2023-02-19T08:49:24.168Z"
      },
      {
        "duration": 4,
        "start_time": "2023-02-19T08:49:24.551Z"
      },
      {
        "duration": 14,
        "start_time": "2023-02-19T08:49:24.557Z"
      },
      {
        "duration": 14,
        "start_time": "2023-02-19T08:49:24.573Z"
      },
      {
        "duration": 20,
        "start_time": "2023-02-19T08:49:24.590Z"
      },
      {
        "duration": 14,
        "start_time": "2023-02-19T08:49:24.612Z"
      },
      {
        "duration": 7,
        "start_time": "2023-02-19T08:49:24.628Z"
      },
      {
        "duration": 13,
        "start_time": "2023-02-19T08:49:24.636Z"
      },
      {
        "duration": 36,
        "start_time": "2023-02-19T08:49:24.651Z"
      },
      {
        "duration": 0,
        "start_time": "2023-02-19T08:49:24.689Z"
      },
      {
        "duration": 0,
        "start_time": "2023-02-19T08:49:24.690Z"
      },
      {
        "duration": 0,
        "start_time": "2023-02-19T08:49:24.695Z"
      },
      {
        "duration": 0,
        "start_time": "2023-02-19T08:49:24.703Z"
      },
      {
        "duration": 0,
        "start_time": "2023-02-19T08:49:24.705Z"
      },
      {
        "duration": 0,
        "start_time": "2023-02-19T08:49:24.706Z"
      },
      {
        "duration": 0,
        "start_time": "2023-02-19T08:49:24.708Z"
      },
      {
        "duration": 0,
        "start_time": "2023-02-19T08:49:24.710Z"
      },
      {
        "duration": 0,
        "start_time": "2023-02-19T08:49:24.711Z"
      },
      {
        "duration": 0,
        "start_time": "2023-02-19T08:49:24.712Z"
      },
      {
        "duration": 0,
        "start_time": "2023-02-19T08:49:24.714Z"
      },
      {
        "duration": 0,
        "start_time": "2023-02-19T08:49:24.716Z"
      },
      {
        "duration": 55,
        "start_time": "2023-02-19T08:50:26.188Z"
      },
      {
        "duration": 46,
        "start_time": "2023-02-19T08:50:33.569Z"
      },
      {
        "duration": 2,
        "start_time": "2023-02-19T08:53:02.055Z"
      },
      {
        "duration": 3,
        "start_time": "2023-02-19T08:53:02.771Z"
      },
      {
        "duration": 4,
        "start_time": "2023-02-19T08:53:11.754Z"
      },
      {
        "duration": 4,
        "start_time": "2023-02-19T08:53:12.931Z"
      },
      {
        "duration": 5,
        "start_time": "2023-02-19T08:53:13.587Z"
      },
      {
        "duration": 15,
        "start_time": "2023-02-19T08:53:14.405Z"
      },
      {
        "duration": 5,
        "start_time": "2023-02-19T08:57:01.690Z"
      },
      {
        "duration": 38,
        "start_time": "2023-02-19T08:57:01.696Z"
      },
      {
        "duration": 11,
        "start_time": "2023-02-19T08:57:01.735Z"
      },
      {
        "duration": 41,
        "start_time": "2023-02-19T08:57:01.748Z"
      },
      {
        "duration": 5,
        "start_time": "2023-02-19T08:57:01.790Z"
      },
      {
        "duration": 7,
        "start_time": "2023-02-19T08:57:01.797Z"
      },
      {
        "duration": 9,
        "start_time": "2023-02-19T08:57:01.806Z"
      },
      {
        "duration": 333,
        "start_time": "2023-02-19T08:57:01.816Z"
      },
      {
        "duration": 3,
        "start_time": "2023-02-19T08:57:02.152Z"
      },
      {
        "duration": 18,
        "start_time": "2023-02-19T08:57:02.157Z"
      },
      {
        "duration": 14,
        "start_time": "2023-02-19T08:57:02.176Z"
      },
      {
        "duration": 5,
        "start_time": "2023-02-19T08:57:02.192Z"
      },
      {
        "duration": 9,
        "start_time": "2023-02-19T08:57:02.198Z"
      },
      {
        "duration": 19,
        "start_time": "2023-02-19T08:57:02.208Z"
      },
      {
        "duration": 20,
        "start_time": "2023-02-19T08:57:02.228Z"
      },
      {
        "duration": 0,
        "start_time": "2023-02-19T08:57:02.250Z"
      },
      {
        "duration": 1,
        "start_time": "2023-02-19T08:57:02.251Z"
      },
      {
        "duration": 0,
        "start_time": "2023-02-19T08:57:02.252Z"
      },
      {
        "duration": 0,
        "start_time": "2023-02-19T08:57:02.253Z"
      },
      {
        "duration": 0,
        "start_time": "2023-02-19T08:57:02.254Z"
      },
      {
        "duration": 0,
        "start_time": "2023-02-19T08:57:02.255Z"
      },
      {
        "duration": 0,
        "start_time": "2023-02-19T08:57:02.257Z"
      },
      {
        "duration": 0,
        "start_time": "2023-02-19T08:57:02.258Z"
      },
      {
        "duration": 0,
        "start_time": "2023-02-19T08:57:02.259Z"
      },
      {
        "duration": 0,
        "start_time": "2023-02-19T08:57:02.260Z"
      },
      {
        "duration": 0,
        "start_time": "2023-02-19T08:57:02.261Z"
      },
      {
        "duration": 0,
        "start_time": "2023-02-19T08:57:02.262Z"
      },
      {
        "duration": 0,
        "start_time": "2023-02-19T08:57:02.263Z"
      },
      {
        "duration": 18,
        "start_time": "2023-02-19T08:57:43.195Z"
      },
      {
        "duration": 71,
        "start_time": "2023-02-19T08:57:56.250Z"
      },
      {
        "duration": 17,
        "start_time": "2023-02-19T08:58:31.777Z"
      },
      {
        "duration": 20,
        "start_time": "2023-02-19T08:58:51.708Z"
      },
      {
        "duration": 4,
        "start_time": "2023-02-19T08:58:54.992Z"
      },
      {
        "duration": 5,
        "start_time": "2023-02-19T08:58:55.591Z"
      },
      {
        "duration": 17,
        "start_time": "2023-02-19T08:58:56.091Z"
      },
      {
        "duration": 17,
        "start_time": "2023-02-19T09:00:07.661Z"
      },
      {
        "duration": 4,
        "start_time": "2023-02-19T09:00:11.929Z"
      },
      {
        "duration": 6,
        "start_time": "2023-02-19T09:00:12.297Z"
      },
      {
        "duration": 18,
        "start_time": "2023-02-19T09:00:12.770Z"
      },
      {
        "duration": 6,
        "start_time": "2023-02-19T09:00:56.299Z"
      },
      {
        "duration": 40,
        "start_time": "2023-02-19T09:00:56.307Z"
      },
      {
        "duration": 14,
        "start_time": "2023-02-19T09:00:56.349Z"
      },
      {
        "duration": 38,
        "start_time": "2023-02-19T09:00:56.365Z"
      },
      {
        "duration": 7,
        "start_time": "2023-02-19T09:00:56.406Z"
      },
      {
        "duration": 13,
        "start_time": "2023-02-19T09:00:56.414Z"
      },
      {
        "duration": 11,
        "start_time": "2023-02-19T09:00:56.429Z"
      },
      {
        "duration": 415,
        "start_time": "2023-02-19T09:00:56.442Z"
      },
      {
        "duration": 4,
        "start_time": "2023-02-19T09:00:56.858Z"
      },
      {
        "duration": 11,
        "start_time": "2023-02-19T09:00:56.863Z"
      },
      {
        "duration": 6,
        "start_time": "2023-02-19T09:00:56.875Z"
      },
      {
        "duration": 11,
        "start_time": "2023-02-19T09:00:56.882Z"
      },
      {
        "duration": 7,
        "start_time": "2023-02-19T09:00:56.895Z"
      },
      {
        "duration": 6,
        "start_time": "2023-02-19T09:00:56.905Z"
      },
      {
        "duration": 19,
        "start_time": "2023-02-19T09:00:56.913Z"
      },
      {
        "duration": 0,
        "start_time": "2023-02-19T09:00:56.934Z"
      },
      {
        "duration": 0,
        "start_time": "2023-02-19T09:00:56.935Z"
      },
      {
        "duration": 0,
        "start_time": "2023-02-19T09:00:56.936Z"
      },
      {
        "duration": 0,
        "start_time": "2023-02-19T09:00:56.938Z"
      },
      {
        "duration": 0,
        "start_time": "2023-02-19T09:00:56.939Z"
      },
      {
        "duration": 0,
        "start_time": "2023-02-19T09:00:56.940Z"
      },
      {
        "duration": 0,
        "start_time": "2023-02-19T09:00:56.941Z"
      },
      {
        "duration": 0,
        "start_time": "2023-02-19T09:00:56.942Z"
      },
      {
        "duration": 0,
        "start_time": "2023-02-19T09:00:56.943Z"
      },
      {
        "duration": 0,
        "start_time": "2023-02-19T09:00:56.945Z"
      },
      {
        "duration": 0,
        "start_time": "2023-02-19T09:00:56.946Z"
      },
      {
        "duration": 0,
        "start_time": "2023-02-19T09:00:56.947Z"
      },
      {
        "duration": 0,
        "start_time": "2023-02-19T09:00:56.948Z"
      },
      {
        "duration": 21,
        "start_time": "2023-02-19T09:01:10.336Z"
      },
      {
        "duration": 18,
        "start_time": "2023-02-19T09:01:25.027Z"
      },
      {
        "duration": 6,
        "start_time": "2023-02-19T09:01:28.264Z"
      },
      {
        "duration": 17,
        "start_time": "2023-02-19T09:01:28.951Z"
      },
      {
        "duration": 1276,
        "start_time": "2023-02-19T09:02:37.540Z"
      },
      {
        "duration": 30,
        "start_time": "2023-02-19T09:02:38.818Z"
      },
      {
        "duration": 14,
        "start_time": "2023-02-19T09:02:38.850Z"
      },
      {
        "duration": 29,
        "start_time": "2023-02-19T09:02:38.867Z"
      },
      {
        "duration": 6,
        "start_time": "2023-02-19T09:02:38.897Z"
      },
      {
        "duration": 5,
        "start_time": "2023-02-19T09:02:38.904Z"
      },
      {
        "duration": 6,
        "start_time": "2023-02-19T09:02:38.910Z"
      },
      {
        "duration": 359,
        "start_time": "2023-02-19T09:02:38.918Z"
      },
      {
        "duration": 2,
        "start_time": "2023-02-19T09:02:39.279Z"
      },
      {
        "duration": 15,
        "start_time": "2023-02-19T09:02:39.283Z"
      },
      {
        "duration": 9,
        "start_time": "2023-02-19T09:02:39.300Z"
      },
      {
        "duration": 5,
        "start_time": "2023-02-19T09:02:39.311Z"
      },
      {
        "duration": 8,
        "start_time": "2023-02-19T09:02:39.318Z"
      },
      {
        "duration": 9,
        "start_time": "2023-02-19T09:02:39.328Z"
      },
      {
        "duration": 117,
        "start_time": "2023-02-19T09:02:39.338Z"
      },
      {
        "duration": 0,
        "start_time": "2023-02-19T09:02:39.456Z"
      },
      {
        "duration": 0,
        "start_time": "2023-02-19T09:02:39.457Z"
      },
      {
        "duration": 0,
        "start_time": "2023-02-19T09:02:39.458Z"
      },
      {
        "duration": 0,
        "start_time": "2023-02-19T09:02:39.459Z"
      },
      {
        "duration": 0,
        "start_time": "2023-02-19T09:02:39.460Z"
      },
      {
        "duration": 0,
        "start_time": "2023-02-19T09:02:39.461Z"
      },
      {
        "duration": 0,
        "start_time": "2023-02-19T09:02:39.462Z"
      },
      {
        "duration": 0,
        "start_time": "2023-02-19T09:02:39.463Z"
      },
      {
        "duration": 0,
        "start_time": "2023-02-19T09:02:39.464Z"
      },
      {
        "duration": 0,
        "start_time": "2023-02-19T09:02:39.465Z"
      },
      {
        "duration": 0,
        "start_time": "2023-02-19T09:02:39.465Z"
      },
      {
        "duration": 0,
        "start_time": "2023-02-19T09:02:39.467Z"
      },
      {
        "duration": 0,
        "start_time": "2023-02-19T09:02:39.468Z"
      },
      {
        "duration": 51,
        "start_time": "2023-02-19T09:03:40.884Z"
      },
      {
        "duration": 57,
        "start_time": "2023-02-19T09:03:51.949Z"
      },
      {
        "duration": 9,
        "start_time": "2023-02-19T09:04:02.369Z"
      },
      {
        "duration": 9,
        "start_time": "2023-02-19T09:04:56.626Z"
      },
      {
        "duration": 4,
        "start_time": "2023-02-19T09:04:59.477Z"
      },
      {
        "duration": 7,
        "start_time": "2023-02-19T09:04:59.668Z"
      },
      {
        "duration": 10,
        "start_time": "2023-02-19T09:04:59.960Z"
      },
      {
        "duration": 4,
        "start_time": "2023-02-19T09:05:08.047Z"
      },
      {
        "duration": 33,
        "start_time": "2023-02-19T09:05:08.053Z"
      },
      {
        "duration": 11,
        "start_time": "2023-02-19T09:05:08.088Z"
      },
      {
        "duration": 28,
        "start_time": "2023-02-19T09:05:08.101Z"
      },
      {
        "duration": 5,
        "start_time": "2023-02-19T09:05:08.131Z"
      },
      {
        "duration": 6,
        "start_time": "2023-02-19T09:05:08.137Z"
      },
      {
        "duration": 6,
        "start_time": "2023-02-19T09:05:08.144Z"
      },
      {
        "duration": 386,
        "start_time": "2023-02-19T09:05:08.151Z"
      },
      {
        "duration": 3,
        "start_time": "2023-02-19T09:05:08.539Z"
      },
      {
        "duration": 12,
        "start_time": "2023-02-19T09:05:08.543Z"
      },
      {
        "duration": 4,
        "start_time": "2023-02-19T09:05:08.556Z"
      },
      {
        "duration": 5,
        "start_time": "2023-02-19T09:05:08.562Z"
      },
      {
        "duration": 6,
        "start_time": "2023-02-19T09:05:08.568Z"
      },
      {
        "duration": 19,
        "start_time": "2023-02-19T09:05:08.576Z"
      },
      {
        "duration": 9,
        "start_time": "2023-02-19T09:05:08.596Z"
      },
      {
        "duration": 0,
        "start_time": "2023-02-19T09:05:08.607Z"
      },
      {
        "duration": 0,
        "start_time": "2023-02-19T09:05:08.608Z"
      },
      {
        "duration": 0,
        "start_time": "2023-02-19T09:05:08.609Z"
      },
      {
        "duration": 0,
        "start_time": "2023-02-19T09:05:08.610Z"
      },
      {
        "duration": 0,
        "start_time": "2023-02-19T09:05:08.611Z"
      },
      {
        "duration": 0,
        "start_time": "2023-02-19T09:05:08.612Z"
      },
      {
        "duration": 0,
        "start_time": "2023-02-19T09:05:08.613Z"
      },
      {
        "duration": 0,
        "start_time": "2023-02-19T09:05:08.614Z"
      },
      {
        "duration": 0,
        "start_time": "2023-02-19T09:05:08.615Z"
      },
      {
        "duration": 0,
        "start_time": "2023-02-19T09:05:08.616Z"
      },
      {
        "duration": 0,
        "start_time": "2023-02-19T09:05:08.617Z"
      },
      {
        "duration": 0,
        "start_time": "2023-02-19T09:05:08.618Z"
      },
      {
        "duration": 0,
        "start_time": "2023-02-19T09:05:08.619Z"
      },
      {
        "duration": 6,
        "start_time": "2023-02-19T09:05:25.578Z"
      },
      {
        "duration": 5,
        "start_time": "2023-02-19T09:06:34.935Z"
      },
      {
        "duration": 6,
        "start_time": "2023-02-19T09:06:35.415Z"
      },
      {
        "duration": 7,
        "start_time": "2023-02-19T09:06:36.010Z"
      },
      {
        "duration": 30,
        "start_time": "2023-02-19T09:06:37.181Z"
      },
      {
        "duration": 2,
        "start_time": "2023-02-19T09:06:44.492Z"
      },
      {
        "duration": 107,
        "start_time": "2023-02-19T09:06:44.993Z"
      },
      {
        "duration": 16,
        "start_time": "2023-02-19T09:09:35.097Z"
      },
      {
        "duration": 11,
        "start_time": "2023-02-19T09:10:14.398Z"
      },
      {
        "duration": 17,
        "start_time": "2023-02-19T09:10:15.131Z"
      },
      {
        "duration": 16,
        "start_time": "2023-02-19T09:12:36.952Z"
      },
      {
        "duration": 17,
        "start_time": "2023-02-19T09:13:00.114Z"
      },
      {
        "duration": 16,
        "start_time": "2023-02-19T09:13:39.740Z"
      },
      {
        "duration": 10,
        "start_time": "2023-02-19T09:14:06.670Z"
      },
      {
        "duration": 22,
        "start_time": "2023-02-19T09:14:26.365Z"
      },
      {
        "duration": 3,
        "start_time": "2023-02-19T09:18:14.388Z"
      },
      {
        "duration": 6,
        "start_time": "2023-02-19T09:18:14.751Z"
      },
      {
        "duration": 5,
        "start_time": "2023-02-19T09:18:15.292Z"
      },
      {
        "duration": 16,
        "start_time": "2023-02-19T09:18:15.929Z"
      },
      {
        "duration": 2,
        "start_time": "2023-02-19T09:18:19.612Z"
      },
      {
        "duration": 34,
        "start_time": "2023-02-19T09:18:19.839Z"
      },
      {
        "duration": 16,
        "start_time": "2023-02-19T09:18:21.090Z"
      },
      {
        "duration": 10,
        "start_time": "2023-02-19T09:18:22.699Z"
      },
      {
        "duration": 4,
        "start_time": "2023-02-19T09:22:27.739Z"
      },
      {
        "duration": 30,
        "start_time": "2023-02-19T09:22:27.969Z"
      },
      {
        "duration": 10,
        "start_time": "2023-02-19T09:22:31.191Z"
      },
      {
        "duration": 28,
        "start_time": "2023-02-19T09:22:31.420Z"
      },
      {
        "duration": 6,
        "start_time": "2023-02-19T09:22:31.611Z"
      },
      {
        "duration": 5,
        "start_time": "2023-02-19T09:22:31.913Z"
      },
      {
        "duration": 5,
        "start_time": "2023-02-19T09:22:32.058Z"
      },
      {
        "duration": 343,
        "start_time": "2023-02-19T09:22:32.215Z"
      },
      {
        "duration": 2,
        "start_time": "2023-02-19T09:22:32.562Z"
      },
      {
        "duration": 9,
        "start_time": "2023-02-19T09:22:33.228Z"
      },
      {
        "duration": 3,
        "start_time": "2023-02-19T09:22:33.945Z"
      },
      {
        "duration": 2,
        "start_time": "2023-02-19T09:22:34.433Z"
      },
      {
        "duration": 4,
        "start_time": "2023-02-19T09:22:34.897Z"
      },
      {
        "duration": 6,
        "start_time": "2023-02-19T09:22:35.111Z"
      },
      {
        "duration": 6,
        "start_time": "2023-02-19T09:22:36.089Z"
      },
      {
        "duration": 16,
        "start_time": "2023-02-19T09:22:36.772Z"
      },
      {
        "duration": 33,
        "start_time": "2023-02-19T09:22:42.409Z"
      },
      {
        "duration": 10,
        "start_time": "2023-02-19T09:22:44.218Z"
      },
      {
        "duration": 57,
        "start_time": "2023-02-19T09:26:55.639Z"
      },
      {
        "duration": 5,
        "start_time": "2023-02-19T09:27:37.631Z"
      },
      {
        "duration": 5,
        "start_time": "2023-02-19T09:27:55.990Z"
      },
      {
        "duration": 5,
        "start_time": "2023-02-19T09:28:20.431Z"
      },
      {
        "duration": 5,
        "start_time": "2023-02-19T09:28:27.929Z"
      },
      {
        "duration": 17,
        "start_time": "2023-02-19T09:29:18.011Z"
      },
      {
        "duration": 5,
        "start_time": "2023-02-19T09:32:24.929Z"
      },
      {
        "duration": 36,
        "start_time": "2023-02-19T09:32:24.935Z"
      },
      {
        "duration": 12,
        "start_time": "2023-02-19T09:32:24.974Z"
      },
      {
        "duration": 56,
        "start_time": "2023-02-19T09:32:24.988Z"
      },
      {
        "duration": 7,
        "start_time": "2023-02-19T09:32:25.046Z"
      },
      {
        "duration": 10,
        "start_time": "2023-02-19T09:32:25.055Z"
      },
      {
        "duration": 12,
        "start_time": "2023-02-19T09:32:25.067Z"
      },
      {
        "duration": 447,
        "start_time": "2023-02-19T09:32:25.081Z"
      },
      {
        "duration": 2,
        "start_time": "2023-02-19T09:32:25.530Z"
      },
      {
        "duration": 17,
        "start_time": "2023-02-19T09:32:25.534Z"
      },
      {
        "duration": 19,
        "start_time": "2023-02-19T09:32:25.554Z"
      },
      {
        "duration": 12,
        "start_time": "2023-02-19T09:32:25.575Z"
      },
      {
        "duration": 30,
        "start_time": "2023-02-19T09:32:25.588Z"
      },
      {
        "duration": 8,
        "start_time": "2023-02-19T09:32:25.620Z"
      },
      {
        "duration": 6,
        "start_time": "2023-02-19T09:32:25.629Z"
      },
      {
        "duration": 19,
        "start_time": "2023-02-19T09:32:25.636Z"
      },
      {
        "duration": 0,
        "start_time": "2023-02-19T09:32:25.656Z"
      },
      {
        "duration": 1,
        "start_time": "2023-02-19T09:32:25.657Z"
      },
      {
        "duration": 0,
        "start_time": "2023-02-19T09:32:25.659Z"
      },
      {
        "duration": 0,
        "start_time": "2023-02-19T09:32:25.662Z"
      },
      {
        "duration": 0,
        "start_time": "2023-02-19T09:32:25.664Z"
      },
      {
        "duration": 0,
        "start_time": "2023-02-19T09:32:25.665Z"
      },
      {
        "duration": 0,
        "start_time": "2023-02-19T09:32:25.666Z"
      },
      {
        "duration": 0,
        "start_time": "2023-02-19T09:32:25.668Z"
      },
      {
        "duration": 0,
        "start_time": "2023-02-19T09:32:25.669Z"
      },
      {
        "duration": 0,
        "start_time": "2023-02-19T09:32:25.670Z"
      },
      {
        "duration": 1327,
        "start_time": "2023-02-19T09:32:32.543Z"
      },
      {
        "duration": 33,
        "start_time": "2023-02-19T09:32:33.872Z"
      },
      {
        "duration": 14,
        "start_time": "2023-02-19T09:32:33.907Z"
      },
      {
        "duration": 29,
        "start_time": "2023-02-19T09:32:33.923Z"
      },
      {
        "duration": 5,
        "start_time": "2023-02-19T09:32:33.954Z"
      },
      {
        "duration": 7,
        "start_time": "2023-02-19T09:32:33.960Z"
      },
      {
        "duration": 24,
        "start_time": "2023-02-19T09:32:33.969Z"
      },
      {
        "duration": 369,
        "start_time": "2023-02-19T09:32:33.996Z"
      },
      {
        "duration": 3,
        "start_time": "2023-02-19T09:32:34.366Z"
      },
      {
        "duration": 20,
        "start_time": "2023-02-19T09:32:34.371Z"
      },
      {
        "duration": 4,
        "start_time": "2023-02-19T09:32:34.392Z"
      },
      {
        "duration": 17,
        "start_time": "2023-02-19T09:32:34.398Z"
      },
      {
        "duration": 6,
        "start_time": "2023-02-19T09:32:34.417Z"
      },
      {
        "duration": 10,
        "start_time": "2023-02-19T09:32:34.424Z"
      },
      {
        "duration": 5,
        "start_time": "2023-02-19T09:32:34.436Z"
      },
      {
        "duration": 136,
        "start_time": "2023-02-19T09:32:34.442Z"
      },
      {
        "duration": 0,
        "start_time": "2023-02-19T09:32:34.580Z"
      },
      {
        "duration": 0,
        "start_time": "2023-02-19T09:32:34.581Z"
      },
      {
        "duration": 0,
        "start_time": "2023-02-19T09:32:34.582Z"
      },
      {
        "duration": 0,
        "start_time": "2023-02-19T09:32:34.599Z"
      },
      {
        "duration": 0,
        "start_time": "2023-02-19T09:32:34.600Z"
      },
      {
        "duration": 0,
        "start_time": "2023-02-19T09:32:34.601Z"
      },
      {
        "duration": 0,
        "start_time": "2023-02-19T09:32:34.602Z"
      },
      {
        "duration": 0,
        "start_time": "2023-02-19T09:32:34.604Z"
      },
      {
        "duration": 0,
        "start_time": "2023-02-19T09:32:34.605Z"
      },
      {
        "duration": 0,
        "start_time": "2023-02-19T09:32:34.606Z"
      },
      {
        "duration": 48,
        "start_time": "2023-02-19T09:35:09.818Z"
      },
      {
        "duration": 35,
        "start_time": "2023-02-19T09:35:13.433Z"
      },
      {
        "duration": 16,
        "start_time": "2023-02-19T09:35:19.392Z"
      },
      {
        "duration": 34,
        "start_time": "2023-02-19T09:35:34.949Z"
      },
      {
        "duration": 21,
        "start_time": "2023-02-19T09:35:41.090Z"
      },
      {
        "duration": 4,
        "start_time": "2023-02-19T09:38:03.172Z"
      },
      {
        "duration": 6,
        "start_time": "2023-02-19T09:38:03.510Z"
      },
      {
        "duration": 5,
        "start_time": "2023-02-19T09:38:04.052Z"
      },
      {
        "duration": 39,
        "start_time": "2023-02-19T09:38:05.093Z"
      },
      {
        "duration": 33,
        "start_time": "2023-02-19T09:38:30.051Z"
      },
      {
        "duration": 36,
        "start_time": "2023-02-19T09:39:30.833Z"
      },
      {
        "duration": 43,
        "start_time": "2023-02-19T09:39:35.547Z"
      },
      {
        "duration": 29,
        "start_time": "2023-02-19T09:40:02.212Z"
      },
      {
        "duration": 26,
        "start_time": "2023-02-19T09:40:07.351Z"
      },
      {
        "duration": 35,
        "start_time": "2023-02-19T09:40:12.133Z"
      },
      {
        "duration": 38,
        "start_time": "2023-02-19T09:40:17.531Z"
      },
      {
        "duration": 52,
        "start_time": "2023-02-19T09:40:22.852Z"
      },
      {
        "duration": 43,
        "start_time": "2023-02-19T09:40:29.451Z"
      },
      {
        "duration": 67,
        "start_time": "2023-02-19T09:40:35.392Z"
      },
      {
        "duration": 44,
        "start_time": "2023-02-19T09:41:04.969Z"
      },
      {
        "duration": 19,
        "start_time": "2023-02-19T09:43:05.736Z"
      },
      {
        "duration": 35,
        "start_time": "2023-02-19T09:43:09.936Z"
      },
      {
        "duration": 21,
        "start_time": "2023-02-19T09:43:20.501Z"
      },
      {
        "duration": 2,
        "start_time": "2023-02-19T09:44:14.051Z"
      },
      {
        "duration": 35,
        "start_time": "2023-02-19T09:44:15.217Z"
      },
      {
        "duration": 33,
        "start_time": "2023-02-19T09:45:41.619Z"
      },
      {
        "duration": 4,
        "start_time": "2023-02-19T09:46:25.954Z"
      },
      {
        "duration": 34,
        "start_time": "2023-02-19T09:46:25.959Z"
      },
      {
        "duration": 14,
        "start_time": "2023-02-19T09:46:25.996Z"
      },
      {
        "duration": 34,
        "start_time": "2023-02-19T09:46:26.011Z"
      },
      {
        "duration": 6,
        "start_time": "2023-02-19T09:46:26.047Z"
      },
      {
        "duration": 32,
        "start_time": "2023-02-19T09:46:26.054Z"
      },
      {
        "duration": 29,
        "start_time": "2023-02-19T09:46:26.087Z"
      },
      {
        "duration": 380,
        "start_time": "2023-02-19T09:46:26.118Z"
      },
      {
        "duration": 4,
        "start_time": "2023-02-19T09:46:26.500Z"
      },
      {
        "duration": 24,
        "start_time": "2023-02-19T09:46:26.506Z"
      },
      {
        "duration": 14,
        "start_time": "2023-02-19T09:46:26.532Z"
      },
      {
        "duration": 10,
        "start_time": "2023-02-19T09:46:26.547Z"
      },
      {
        "duration": 7,
        "start_time": "2023-02-19T09:46:26.559Z"
      },
      {
        "duration": 36,
        "start_time": "2023-02-19T09:46:26.569Z"
      },
      {
        "duration": 61,
        "start_time": "2023-02-19T09:46:26.607Z"
      },
      {
        "duration": 20,
        "start_time": "2023-02-19T09:46:26.670Z"
      },
      {
        "duration": 0,
        "start_time": "2023-02-19T09:46:26.692Z"
      },
      {
        "duration": 0,
        "start_time": "2023-02-19T09:46:26.694Z"
      },
      {
        "duration": 1548,
        "start_time": "2023-02-19T09:48:55.392Z"
      },
      {
        "duration": 31,
        "start_time": "2023-02-19T09:48:56.941Z"
      },
      {
        "duration": 15,
        "start_time": "2023-02-19T09:48:56.973Z"
      },
      {
        "duration": 49,
        "start_time": "2023-02-19T09:48:56.989Z"
      },
      {
        "duration": 5,
        "start_time": "2023-02-19T09:48:57.040Z"
      },
      {
        "duration": 5,
        "start_time": "2023-02-19T09:48:57.047Z"
      },
      {
        "duration": 6,
        "start_time": "2023-02-19T09:48:57.053Z"
      },
      {
        "duration": 401,
        "start_time": "2023-02-19T09:48:57.061Z"
      },
      {
        "duration": 3,
        "start_time": "2023-02-19T09:48:57.464Z"
      },
      {
        "duration": 14,
        "start_time": "2023-02-19T09:48:57.468Z"
      },
      {
        "duration": 5,
        "start_time": "2023-02-19T09:48:57.492Z"
      },
      {
        "duration": 17,
        "start_time": "2023-02-19T09:48:57.499Z"
      },
      {
        "duration": 5,
        "start_time": "2023-02-19T09:48:57.517Z"
      },
      {
        "duration": 3,
        "start_time": "2023-02-19T09:48:57.524Z"
      },
      {
        "duration": 32,
        "start_time": "2023-02-19T09:48:57.529Z"
      },
      {
        "duration": 151,
        "start_time": "2023-02-19T09:48:57.562Z"
      },
      {
        "duration": 0,
        "start_time": "2023-02-19T09:48:57.714Z"
      },
      {
        "duration": 0,
        "start_time": "2023-02-19T09:48:57.716Z"
      },
      {
        "duration": 29,
        "start_time": "2023-02-19T09:51:44.272Z"
      },
      {
        "duration": 30,
        "start_time": "2023-02-19T09:51:50.012Z"
      },
      {
        "duration": 18,
        "start_time": "2023-02-19T09:51:53.811Z"
      },
      {
        "duration": 30,
        "start_time": "2023-02-19T09:54:27.191Z"
      },
      {
        "duration": 17,
        "start_time": "2023-02-19T09:55:34.052Z"
      },
      {
        "duration": 17,
        "start_time": "2023-02-19T09:55:49.871Z"
      },
      {
        "duration": 3,
        "start_time": "2023-02-19T09:56:27.091Z"
      },
      {
        "duration": 4636,
        "start_time": "2023-02-19T09:56:27.852Z"
      },
      {
        "duration": 32,
        "start_time": "2023-02-19T09:57:05.094Z"
      },
      {
        "duration": 17,
        "start_time": "2023-02-19T09:57:10.820Z"
      },
      {
        "duration": 3,
        "start_time": "2023-02-19T09:57:27.552Z"
      },
      {
        "duration": 23,
        "start_time": "2023-02-19T09:57:28.194Z"
      },
      {
        "duration": 30,
        "start_time": "2023-02-19T09:58:14.332Z"
      },
      {
        "duration": 16,
        "start_time": "2023-02-19T09:58:59.072Z"
      },
      {
        "duration": 4,
        "start_time": "2023-02-19T10:02:15.871Z"
      },
      {
        "duration": 55,
        "start_time": "2023-02-19T10:02:57.975Z"
      },
      {
        "duration": 32,
        "start_time": "2023-02-19T10:03:13.832Z"
      },
      {
        "duration": 3,
        "start_time": "2023-02-19T10:05:24.712Z"
      },
      {
        "duration": 33,
        "start_time": "2023-02-19T10:05:24.932Z"
      },
      {
        "duration": 32,
        "start_time": "2023-02-19T10:06:22.853Z"
      },
      {
        "duration": 1257,
        "start_time": "2023-02-19T10:06:30.252Z"
      },
      {
        "duration": 31,
        "start_time": "2023-02-19T10:06:31.511Z"
      },
      {
        "duration": 14,
        "start_time": "2023-02-19T10:06:31.543Z"
      },
      {
        "duration": 29,
        "start_time": "2023-02-19T10:06:31.558Z"
      },
      {
        "duration": 5,
        "start_time": "2023-02-19T10:06:31.588Z"
      },
      {
        "duration": 6,
        "start_time": "2023-02-19T10:06:31.594Z"
      },
      {
        "duration": 6,
        "start_time": "2023-02-19T10:06:31.602Z"
      },
      {
        "duration": 390,
        "start_time": "2023-02-19T10:06:31.609Z"
      },
      {
        "duration": 3,
        "start_time": "2023-02-19T10:06:32.001Z"
      },
      {
        "duration": 25,
        "start_time": "2023-02-19T10:06:32.006Z"
      },
      {
        "duration": 29,
        "start_time": "2023-02-19T10:06:32.032Z"
      },
      {
        "duration": 20,
        "start_time": "2023-02-19T10:06:32.063Z"
      },
      {
        "duration": 10,
        "start_time": "2023-02-19T10:06:32.084Z"
      },
      {
        "duration": 16,
        "start_time": "2023-02-19T10:06:32.096Z"
      },
      {
        "duration": 40,
        "start_time": "2023-02-19T10:06:32.113Z"
      },
      {
        "duration": 17,
        "start_time": "2023-02-19T10:06:32.155Z"
      },
      {
        "duration": 184,
        "start_time": "2023-02-19T10:06:32.174Z"
      },
      {
        "duration": 0,
        "start_time": "2023-02-19T10:06:32.360Z"
      },
      {
        "duration": 4,
        "start_time": "2023-02-19T10:07:48.913Z"
      },
      {
        "duration": 35,
        "start_time": "2023-02-19T10:07:49.815Z"
      },
      {
        "duration": 3,
        "start_time": "2023-02-19T10:08:15.333Z"
      },
      {
        "duration": 32,
        "start_time": "2023-02-19T10:08:15.993Z"
      },
      {
        "duration": 3,
        "start_time": "2023-02-19T10:08:36.493Z"
      },
      {
        "duration": 31,
        "start_time": "2023-02-19T10:08:37.109Z"
      },
      {
        "duration": 3,
        "start_time": "2023-02-19T10:09:09.562Z"
      },
      {
        "duration": 34,
        "start_time": "2023-02-19T10:09:10.173Z"
      },
      {
        "duration": 2,
        "start_time": "2023-02-19T10:09:58.912Z"
      },
      {
        "duration": 32,
        "start_time": "2023-02-19T10:09:59.513Z"
      },
      {
        "duration": 4,
        "start_time": "2023-02-19T10:10:01.812Z"
      },
      {
        "duration": 43,
        "start_time": "2023-02-19T10:10:01.818Z"
      },
      {
        "duration": 12,
        "start_time": "2023-02-19T10:10:01.863Z"
      },
      {
        "duration": 33,
        "start_time": "2023-02-19T10:10:01.876Z"
      },
      {
        "duration": 5,
        "start_time": "2023-02-19T10:10:01.911Z"
      },
      {
        "duration": 4,
        "start_time": "2023-02-19T10:10:01.917Z"
      },
      {
        "duration": 15,
        "start_time": "2023-02-19T10:10:01.923Z"
      },
      {
        "duration": 382,
        "start_time": "2023-02-19T10:10:01.939Z"
      },
      {
        "duration": 2,
        "start_time": "2023-02-19T10:10:02.323Z"
      },
      {
        "duration": 12,
        "start_time": "2023-02-19T10:10:02.326Z"
      },
      {
        "duration": 6,
        "start_time": "2023-02-19T10:10:02.340Z"
      },
      {
        "duration": 11,
        "start_time": "2023-02-19T10:10:02.347Z"
      },
      {
        "duration": 4,
        "start_time": "2023-02-19T10:10:02.360Z"
      },
      {
        "duration": 4,
        "start_time": "2023-02-19T10:10:02.365Z"
      },
      {
        "duration": 48,
        "start_time": "2023-02-19T10:10:02.370Z"
      },
      {
        "duration": 3,
        "start_time": "2023-02-19T10:10:02.420Z"
      },
      {
        "duration": 114,
        "start_time": "2023-02-19T10:10:02.424Z"
      },
      {
        "duration": 0,
        "start_time": "2023-02-19T10:10:02.539Z"
      },
      {
        "duration": 34,
        "start_time": "2023-02-19T10:11:30.113Z"
      },
      {
        "duration": 4691,
        "start_time": "2023-02-19T10:12:28.885Z"
      },
      {
        "duration": 3633,
        "start_time": "2023-02-19T10:12:50.972Z"
      },
      {
        "duration": 6364,
        "start_time": "2023-02-19T10:13:02.412Z"
      },
      {
        "duration": 6748,
        "start_time": "2023-02-19T10:13:24.415Z"
      },
      {
        "duration": 17,
        "start_time": "2023-02-19T10:14:23.642Z"
      },
      {
        "duration": 10,
        "start_time": "2023-02-19T10:14:44.532Z"
      },
      {
        "duration": 16,
        "start_time": "2023-02-19T10:14:45.260Z"
      },
      {
        "duration": 4,
        "start_time": "2023-02-19T10:14:48.072Z"
      },
      {
        "duration": 33,
        "start_time": "2023-02-19T10:14:48.077Z"
      },
      {
        "duration": 11,
        "start_time": "2023-02-19T10:14:48.112Z"
      },
      {
        "duration": 31,
        "start_time": "2023-02-19T10:14:48.124Z"
      },
      {
        "duration": 5,
        "start_time": "2023-02-19T10:14:48.157Z"
      },
      {
        "duration": 7,
        "start_time": "2023-02-19T10:14:48.164Z"
      },
      {
        "duration": 20,
        "start_time": "2023-02-19T10:14:48.172Z"
      },
      {
        "duration": 365,
        "start_time": "2023-02-19T10:14:48.194Z"
      },
      {
        "duration": 2,
        "start_time": "2023-02-19T10:14:48.561Z"
      },
      {
        "duration": 13,
        "start_time": "2023-02-19T10:14:48.564Z"
      },
      {
        "duration": 13,
        "start_time": "2023-02-19T10:14:48.579Z"
      },
      {
        "duration": 11,
        "start_time": "2023-02-19T10:14:48.594Z"
      },
      {
        "duration": 5,
        "start_time": "2023-02-19T10:14:48.607Z"
      },
      {
        "duration": 5,
        "start_time": "2023-02-19T10:14:48.613Z"
      },
      {
        "duration": 38,
        "start_time": "2023-02-19T10:14:48.620Z"
      },
      {
        "duration": 3,
        "start_time": "2023-02-19T10:14:48.659Z"
      },
      {
        "duration": 6527,
        "start_time": "2023-02-19T10:14:48.664Z"
      },
      {
        "duration": 9,
        "start_time": "2023-02-19T10:14:55.193Z"
      },
      {
        "duration": 0,
        "start_time": "2023-02-19T10:14:55.203Z"
      },
      {
        "duration": 3,
        "start_time": "2023-02-19T10:15:26.572Z"
      },
      {
        "duration": 15,
        "start_time": "2023-02-19T10:15:27.933Z"
      },
      {
        "duration": 17,
        "start_time": "2023-02-19T10:16:01.380Z"
      },
      {
        "duration": 17,
        "start_time": "2023-02-19T10:16:18.340Z"
      },
      {
        "duration": 3,
        "start_time": "2023-02-19T10:17:21.356Z"
      },
      {
        "duration": 16,
        "start_time": "2023-02-19T10:17:28.056Z"
      },
      {
        "duration": 10,
        "start_time": "2023-02-19T10:19:49.131Z"
      },
      {
        "duration": 483,
        "start_time": "2023-02-19T10:19:57.012Z"
      },
      {
        "duration": 380,
        "start_time": "2023-02-19T10:20:09.513Z"
      },
      {
        "duration": 488,
        "start_time": "2023-02-19T10:20:21.911Z"
      },
      {
        "duration": 367,
        "start_time": "2023-02-19T10:22:12.432Z"
      },
      {
        "duration": 387,
        "start_time": "2023-02-19T10:23:12.112Z"
      },
      {
        "duration": 32,
        "start_time": "2023-02-19T10:23:20.858Z"
      },
      {
        "duration": 33,
        "start_time": "2023-02-19T10:25:16.072Z"
      },
      {
        "duration": 4,
        "start_time": "2023-02-19T10:30:19.871Z"
      },
      {
        "duration": 35,
        "start_time": "2023-02-19T10:30:19.877Z"
      },
      {
        "duration": 10,
        "start_time": "2023-02-19T10:30:19.914Z"
      },
      {
        "duration": 28,
        "start_time": "2023-02-19T10:30:19.926Z"
      },
      {
        "duration": 4,
        "start_time": "2023-02-19T10:30:19.956Z"
      },
      {
        "duration": 5,
        "start_time": "2023-02-19T10:30:19.961Z"
      },
      {
        "duration": 6,
        "start_time": "2023-02-19T10:30:19.968Z"
      },
      {
        "duration": 359,
        "start_time": "2023-02-19T10:30:19.976Z"
      },
      {
        "duration": 4,
        "start_time": "2023-02-19T10:30:20.336Z"
      },
      {
        "duration": 19,
        "start_time": "2023-02-19T10:30:20.341Z"
      },
      {
        "duration": 5,
        "start_time": "2023-02-19T10:30:20.363Z"
      },
      {
        "duration": 8,
        "start_time": "2023-02-19T10:30:20.370Z"
      },
      {
        "duration": 14,
        "start_time": "2023-02-19T10:30:20.379Z"
      },
      {
        "duration": 3,
        "start_time": "2023-02-19T10:30:20.394Z"
      },
      {
        "duration": 33,
        "start_time": "2023-02-19T10:30:20.398Z"
      },
      {
        "duration": 3,
        "start_time": "2023-02-19T10:30:20.432Z"
      },
      {
        "duration": 31,
        "start_time": "2023-02-19T10:30:20.436Z"
      },
      {
        "duration": 0,
        "start_time": "2023-02-19T10:30:20.469Z"
      },
      {
        "duration": 0,
        "start_time": "2023-02-19T10:30:20.470Z"
      },
      {
        "duration": 19,
        "start_time": "2023-02-19T10:30:33.091Z"
      },
      {
        "duration": 31,
        "start_time": "2023-02-19T10:42:32.099Z"
      },
      {
        "duration": 58,
        "start_time": "2023-02-19T10:43:21.431Z"
      },
      {
        "duration": 30,
        "start_time": "2023-02-19T10:43:36.031Z"
      },
      {
        "duration": 30,
        "start_time": "2023-02-19T10:43:48.231Z"
      },
      {
        "duration": 49,
        "start_time": "2023-02-19T10:44:46.972Z"
      },
      {
        "duration": 5,
        "start_time": "2023-02-19T10:44:55.003Z"
      },
      {
        "duration": 43,
        "start_time": "2023-02-19T10:44:55.010Z"
      },
      {
        "duration": 12,
        "start_time": "2023-02-19T10:44:55.055Z"
      },
      {
        "duration": 31,
        "start_time": "2023-02-19T10:44:55.069Z"
      },
      {
        "duration": 5,
        "start_time": "2023-02-19T10:44:55.102Z"
      },
      {
        "duration": 4,
        "start_time": "2023-02-19T10:44:55.109Z"
      },
      {
        "duration": 6,
        "start_time": "2023-02-19T10:44:55.115Z"
      },
      {
        "duration": 350,
        "start_time": "2023-02-19T10:44:55.122Z"
      },
      {
        "duration": 4,
        "start_time": "2023-02-19T10:44:55.474Z"
      },
      {
        "duration": 19,
        "start_time": "2023-02-19T10:44:55.479Z"
      },
      {
        "duration": 5,
        "start_time": "2023-02-19T10:44:55.500Z"
      },
      {
        "duration": 8,
        "start_time": "2023-02-19T10:44:55.506Z"
      },
      {
        "duration": 5,
        "start_time": "2023-02-19T10:44:55.515Z"
      },
      {
        "duration": 9,
        "start_time": "2023-02-19T10:44:55.521Z"
      },
      {
        "duration": 38,
        "start_time": "2023-02-19T10:44:55.531Z"
      },
      {
        "duration": 3,
        "start_time": "2023-02-19T10:44:55.571Z"
      },
      {
        "duration": 34,
        "start_time": "2023-02-19T10:44:55.591Z"
      },
      {
        "duration": 0,
        "start_time": "2023-02-19T10:44:55.626Z"
      },
      {
        "duration": 0,
        "start_time": "2023-02-19T10:44:55.628Z"
      },
      {
        "duration": 4,
        "start_time": "2023-02-19T10:45:18.252Z"
      },
      {
        "duration": 36,
        "start_time": "2023-02-19T10:45:18.257Z"
      },
      {
        "duration": 11,
        "start_time": "2023-02-19T10:45:18.294Z"
      },
      {
        "duration": 29,
        "start_time": "2023-02-19T10:45:18.306Z"
      },
      {
        "duration": 5,
        "start_time": "2023-02-19T10:45:18.337Z"
      },
      {
        "duration": 6,
        "start_time": "2023-02-19T10:45:18.344Z"
      },
      {
        "duration": 5,
        "start_time": "2023-02-19T10:45:18.352Z"
      },
      {
        "duration": 390,
        "start_time": "2023-02-19T10:45:18.358Z"
      },
      {
        "duration": 4,
        "start_time": "2023-02-19T10:45:18.750Z"
      },
      {
        "duration": 12,
        "start_time": "2023-02-19T10:45:18.755Z"
      },
      {
        "duration": 4,
        "start_time": "2023-02-19T10:45:18.769Z"
      },
      {
        "duration": 18,
        "start_time": "2023-02-19T10:45:18.774Z"
      },
      {
        "duration": 2,
        "start_time": "2023-02-19T10:45:18.793Z"
      },
      {
        "duration": 4,
        "start_time": "2023-02-19T10:45:18.798Z"
      },
      {
        "duration": 30,
        "start_time": "2023-02-19T10:45:18.803Z"
      },
      {
        "duration": 3,
        "start_time": "2023-02-19T10:45:18.834Z"
      },
      {
        "duration": 53,
        "start_time": "2023-02-19T10:45:18.838Z"
      },
      {
        "duration": 0,
        "start_time": "2023-02-19T10:45:18.893Z"
      },
      {
        "duration": 0,
        "start_time": "2023-02-19T10:45:18.894Z"
      },
      {
        "duration": 3,
        "start_time": "2023-02-19T10:47:47.651Z"
      },
      {
        "duration": 9,
        "start_time": "2023-02-19T10:47:48.170Z"
      },
      {
        "duration": 5,
        "start_time": "2023-02-19T10:47:50.919Z"
      },
      {
        "duration": 35,
        "start_time": "2023-02-19T10:47:50.926Z"
      },
      {
        "duration": 15,
        "start_time": "2023-02-19T10:47:50.963Z"
      },
      {
        "duration": 40,
        "start_time": "2023-02-19T10:47:50.980Z"
      },
      {
        "duration": 7,
        "start_time": "2023-02-19T10:47:51.023Z"
      },
      {
        "duration": 7,
        "start_time": "2023-02-19T10:47:51.032Z"
      },
      {
        "duration": 14,
        "start_time": "2023-02-19T10:47:51.040Z"
      },
      {
        "duration": 388,
        "start_time": "2023-02-19T10:47:51.057Z"
      },
      {
        "duration": 2,
        "start_time": "2023-02-19T10:47:51.447Z"
      },
      {
        "duration": 15,
        "start_time": "2023-02-19T10:47:51.451Z"
      },
      {
        "duration": 6,
        "start_time": "2023-02-19T10:47:51.468Z"
      },
      {
        "duration": 16,
        "start_time": "2023-02-19T10:47:51.475Z"
      },
      {
        "duration": 3,
        "start_time": "2023-02-19T10:47:51.493Z"
      },
      {
        "duration": 3,
        "start_time": "2023-02-19T10:47:51.499Z"
      },
      {
        "duration": 32,
        "start_time": "2023-02-19T10:47:51.504Z"
      },
      {
        "duration": 3,
        "start_time": "2023-02-19T10:47:51.537Z"
      },
      {
        "duration": 56,
        "start_time": "2023-02-19T10:47:51.542Z"
      },
      {
        "duration": 0,
        "start_time": "2023-02-19T10:47:51.600Z"
      },
      {
        "duration": 0,
        "start_time": "2023-02-19T10:47:51.601Z"
      },
      {
        "duration": 33,
        "start_time": "2023-02-19T10:51:40.151Z"
      },
      {
        "duration": 19,
        "start_time": "2023-02-19T10:53:13.490Z"
      },
      {
        "duration": 21,
        "start_time": "2023-02-19T10:53:40.031Z"
      },
      {
        "duration": 26,
        "start_time": "2023-02-19T11:04:06.325Z"
      },
      {
        "duration": 33,
        "start_time": "2023-02-19T11:04:09.010Z"
      },
      {
        "duration": 18,
        "start_time": "2023-02-19T11:04:10.611Z"
      },
      {
        "duration": 32,
        "start_time": "2023-02-19T11:07:13.691Z"
      },
      {
        "duration": 20,
        "start_time": "2023-02-19T11:07:16.161Z"
      },
      {
        "duration": 4,
        "start_time": "2023-02-19T11:07:29.445Z"
      },
      {
        "duration": 9,
        "start_time": "2023-02-19T11:07:29.826Z"
      },
      {
        "duration": 6,
        "start_time": "2023-02-19T11:07:30.330Z"
      },
      {
        "duration": 3,
        "start_time": "2023-02-19T11:07:32.678Z"
      },
      {
        "duration": 4,
        "start_time": "2023-02-19T11:07:41.130Z"
      },
      {
        "duration": 35,
        "start_time": "2023-02-19T11:07:41.137Z"
      },
      {
        "duration": 13,
        "start_time": "2023-02-19T11:07:41.175Z"
      },
      {
        "duration": 33,
        "start_time": "2023-02-19T11:07:41.189Z"
      },
      {
        "duration": 5,
        "start_time": "2023-02-19T11:07:41.224Z"
      },
      {
        "duration": 6,
        "start_time": "2023-02-19T11:07:41.230Z"
      },
      {
        "duration": 10,
        "start_time": "2023-02-19T11:07:41.237Z"
      },
      {
        "duration": 387,
        "start_time": "2023-02-19T11:07:41.248Z"
      },
      {
        "duration": 2,
        "start_time": "2023-02-19T11:07:41.637Z"
      },
      {
        "duration": 32,
        "start_time": "2023-02-19T11:07:41.641Z"
      },
      {
        "duration": 25,
        "start_time": "2023-02-19T11:07:41.675Z"
      },
      {
        "duration": 8,
        "start_time": "2023-02-19T11:07:41.702Z"
      },
      {
        "duration": 6,
        "start_time": "2023-02-19T11:07:41.712Z"
      },
      {
        "duration": 38,
        "start_time": "2023-02-19T11:07:41.720Z"
      },
      {
        "duration": 33,
        "start_time": "2023-02-19T11:07:41.759Z"
      },
      {
        "duration": 0,
        "start_time": "2023-02-19T11:07:41.794Z"
      },
      {
        "duration": 0,
        "start_time": "2023-02-19T11:07:41.795Z"
      },
      {
        "duration": 4,
        "start_time": "2023-02-19T11:08:16.090Z"
      },
      {
        "duration": 7,
        "start_time": "2023-02-19T11:08:16.431Z"
      },
      {
        "duration": 6,
        "start_time": "2023-02-19T11:08:16.931Z"
      },
      {
        "duration": 19,
        "start_time": "2023-02-19T11:08:17.571Z"
      },
      {
        "duration": 365,
        "start_time": "2023-02-19T11:08:21.131Z"
      },
      {
        "duration": 18,
        "start_time": "2023-02-19T11:09:15.331Z"
      },
      {
        "duration": 3,
        "start_time": "2023-02-19T11:09:19.888Z"
      },
      {
        "duration": 7,
        "start_time": "2023-02-19T11:09:20.150Z"
      },
      {
        "duration": 7,
        "start_time": "2023-02-19T11:09:20.430Z"
      },
      {
        "duration": 20,
        "start_time": "2023-02-19T11:09:21.072Z"
      },
      {
        "duration": 248,
        "start_time": "2023-02-19T11:13:36.872Z"
      },
      {
        "duration": 175,
        "start_time": "2023-02-19T11:14:57.690Z"
      },
      {
        "duration": 182,
        "start_time": "2023-02-19T11:15:41.592Z"
      },
      {
        "duration": 221,
        "start_time": "2023-02-19T11:16:24.552Z"
      },
      {
        "duration": 1387,
        "start_time": "2023-02-19T11:16:30.944Z"
      },
      {
        "duration": 33,
        "start_time": "2023-02-19T11:16:32.332Z"
      },
      {
        "duration": 18,
        "start_time": "2023-02-19T11:16:32.367Z"
      },
      {
        "duration": 35,
        "start_time": "2023-02-19T11:16:32.387Z"
      },
      {
        "duration": 7,
        "start_time": "2023-02-19T11:16:32.424Z"
      },
      {
        "duration": 7,
        "start_time": "2023-02-19T11:16:32.432Z"
      },
      {
        "duration": 10,
        "start_time": "2023-02-19T11:16:32.440Z"
      },
      {
        "duration": 435,
        "start_time": "2023-02-19T11:16:32.452Z"
      },
      {
        "duration": 14,
        "start_time": "2023-02-19T11:16:32.889Z"
      },
      {
        "duration": 14,
        "start_time": "2023-02-19T11:16:32.907Z"
      },
      {
        "duration": 6,
        "start_time": "2023-02-19T11:16:32.922Z"
      },
      {
        "duration": 8,
        "start_time": "2023-02-19T11:16:32.929Z"
      },
      {
        "duration": 9,
        "start_time": "2023-02-19T11:16:32.939Z"
      },
      {
        "duration": 31,
        "start_time": "2023-02-19T11:16:32.950Z"
      },
      {
        "duration": 304,
        "start_time": "2023-02-19T11:16:32.983Z"
      },
      {
        "duration": 0,
        "start_time": "2023-02-19T11:16:33.288Z"
      },
      {
        "duration": 0,
        "start_time": "2023-02-19T11:16:33.295Z"
      },
      {
        "duration": 168,
        "start_time": "2023-02-19T11:17:10.850Z"
      },
      {
        "duration": 1461,
        "start_time": "2023-02-19T11:17:34.451Z"
      },
      {
        "duration": 31,
        "start_time": "2023-02-19T11:17:35.915Z"
      },
      {
        "duration": 15,
        "start_time": "2023-02-19T11:17:35.948Z"
      },
      {
        "duration": 42,
        "start_time": "2023-02-19T11:17:35.964Z"
      },
      {
        "duration": 6,
        "start_time": "2023-02-19T11:17:36.010Z"
      },
      {
        "duration": 5,
        "start_time": "2023-02-19T11:17:36.017Z"
      },
      {
        "duration": 7,
        "start_time": "2023-02-19T11:17:36.024Z"
      },
      {
        "duration": 393,
        "start_time": "2023-02-19T11:17:36.033Z"
      },
      {
        "duration": 2,
        "start_time": "2023-02-19T11:17:36.428Z"
      },
      {
        "duration": 17,
        "start_time": "2023-02-19T11:17:36.431Z"
      },
      {
        "duration": 5,
        "start_time": "2023-02-19T11:17:36.450Z"
      },
      {
        "duration": 6,
        "start_time": "2023-02-19T11:17:36.457Z"
      },
      {
        "duration": 6,
        "start_time": "2023-02-19T11:17:36.465Z"
      },
      {
        "duration": 50,
        "start_time": "2023-02-19T11:17:36.474Z"
      },
      {
        "duration": 352,
        "start_time": "2023-02-19T11:17:36.526Z"
      },
      {
        "duration": 0,
        "start_time": "2023-02-19T11:17:36.880Z"
      },
      {
        "duration": 0,
        "start_time": "2023-02-19T11:17:36.881Z"
      },
      {
        "duration": 43,
        "start_time": "2023-02-19T11:17:56.670Z"
      },
      {
        "duration": 206,
        "start_time": "2023-02-19T11:18:06.370Z"
      },
      {
        "duration": 20,
        "start_time": "2023-02-19T11:18:50.515Z"
      },
      {
        "duration": 598,
        "start_time": "2023-02-19T11:18:58.610Z"
      },
      {
        "duration": 23,
        "start_time": "2023-02-19T11:19:58.148Z"
      },
      {
        "duration": 5,
        "start_time": "2023-02-19T11:20:05.195Z"
      },
      {
        "duration": 46,
        "start_time": "2023-02-19T11:20:05.202Z"
      },
      {
        "duration": 11,
        "start_time": "2023-02-19T11:20:05.250Z"
      },
      {
        "duration": 54,
        "start_time": "2023-02-19T11:20:05.263Z"
      },
      {
        "duration": 6,
        "start_time": "2023-02-19T11:20:05.319Z"
      },
      {
        "duration": 8,
        "start_time": "2023-02-19T11:20:05.327Z"
      },
      {
        "duration": 25,
        "start_time": "2023-02-19T11:20:05.336Z"
      },
      {
        "duration": 383,
        "start_time": "2023-02-19T11:20:05.362Z"
      },
      {
        "duration": 2,
        "start_time": "2023-02-19T11:20:05.747Z"
      },
      {
        "duration": 23,
        "start_time": "2023-02-19T11:20:05.751Z"
      },
      {
        "duration": 29,
        "start_time": "2023-02-19T11:20:05.776Z"
      },
      {
        "duration": 17,
        "start_time": "2023-02-19T11:20:05.807Z"
      },
      {
        "duration": 24,
        "start_time": "2023-02-19T11:20:05.825Z"
      },
      {
        "duration": 54,
        "start_time": "2023-02-19T11:20:05.851Z"
      },
      {
        "duration": 99,
        "start_time": "2023-02-19T11:20:05.907Z"
      },
      {
        "duration": 0,
        "start_time": "2023-02-19T11:20:06.008Z"
      },
      {
        "duration": 0,
        "start_time": "2023-02-19T11:20:06.010Z"
      },
      {
        "duration": 18,
        "start_time": "2023-02-19T11:21:01.653Z"
      },
      {
        "duration": 40,
        "start_time": "2023-02-19T11:21:14.852Z"
      },
      {
        "duration": 24,
        "start_time": "2023-02-19T11:21:16.411Z"
      },
      {
        "duration": 26,
        "start_time": "2023-02-19T11:21:35.410Z"
      },
      {
        "duration": 841,
        "start_time": "2023-02-19T11:21:36.252Z"
      },
      {
        "duration": 13,
        "start_time": "2023-02-19T11:26:30.189Z"
      },
      {
        "duration": 3,
        "start_time": "2023-02-19T11:26:49.473Z"
      },
      {
        "duration": 5,
        "start_time": "2023-02-19T11:26:55.109Z"
      },
      {
        "duration": 5,
        "start_time": "2023-02-19T11:27:10.109Z"
      },
      {
        "duration": 336,
        "start_time": "2023-02-19T11:30:43.959Z"
      },
      {
        "duration": 1305,
        "start_time": "2023-02-19T11:30:50.390Z"
      },
      {
        "duration": 342,
        "start_time": "2023-02-19T11:30:56.450Z"
      },
      {
        "duration": 194,
        "start_time": "2023-02-19T11:31:04.311Z"
      },
      {
        "duration": 15,
        "start_time": "2023-02-19T11:31:16.809Z"
      },
      {
        "duration": 344,
        "start_time": "2023-02-19T11:31:37.450Z"
      },
      {
        "duration": 482,
        "start_time": "2023-02-19T11:31:56.210Z"
      },
      {
        "duration": 898,
        "start_time": "2023-02-19T11:32:09.699Z"
      },
      {
        "duration": 1288,
        "start_time": "2023-02-19T11:32:43.030Z"
      },
      {
        "duration": 30,
        "start_time": "2023-02-19T11:32:44.320Z"
      },
      {
        "duration": 15,
        "start_time": "2023-02-19T11:32:44.352Z"
      },
      {
        "duration": 28,
        "start_time": "2023-02-19T11:32:44.368Z"
      },
      {
        "duration": 5,
        "start_time": "2023-02-19T11:32:44.398Z"
      },
      {
        "duration": 7,
        "start_time": "2023-02-19T11:32:44.404Z"
      },
      {
        "duration": 8,
        "start_time": "2023-02-19T11:32:44.413Z"
      },
      {
        "duration": 326,
        "start_time": "2023-02-19T11:32:44.422Z"
      },
      {
        "duration": 3,
        "start_time": "2023-02-19T11:32:44.750Z"
      },
      {
        "duration": 12,
        "start_time": "2023-02-19T11:32:44.755Z"
      },
      {
        "duration": 6,
        "start_time": "2023-02-19T11:32:44.768Z"
      },
      {
        "duration": 18,
        "start_time": "2023-02-19T11:32:44.776Z"
      },
      {
        "duration": 5,
        "start_time": "2023-02-19T11:32:44.796Z"
      },
      {
        "duration": 30,
        "start_time": "2023-02-19T11:32:44.803Z"
      },
      {
        "duration": 133,
        "start_time": "2023-02-19T11:32:44.834Z"
      },
      {
        "duration": 0,
        "start_time": "2023-02-19T11:32:44.969Z"
      },
      {
        "duration": 0,
        "start_time": "2023-02-19T11:32:44.970Z"
      },
      {
        "duration": 0,
        "start_time": "2023-02-19T11:32:44.971Z"
      },
      {
        "duration": 0,
        "start_time": "2023-02-19T11:32:44.972Z"
      },
      {
        "duration": 20,
        "start_time": "2023-02-19T11:32:52.358Z"
      },
      {
        "duration": 16,
        "start_time": "2023-02-19T11:32:55.390Z"
      },
      {
        "duration": 3,
        "start_time": "2023-02-19T11:33:17.569Z"
      },
      {
        "duration": 9,
        "start_time": "2023-02-19T11:33:18.349Z"
      },
      {
        "duration": 1332,
        "start_time": "2023-02-19T11:33:24.431Z"
      },
      {
        "duration": 32,
        "start_time": "2023-02-19T11:33:25.765Z"
      },
      {
        "duration": 14,
        "start_time": "2023-02-19T11:33:25.799Z"
      },
      {
        "duration": 30,
        "start_time": "2023-02-19T11:33:25.815Z"
      },
      {
        "duration": 6,
        "start_time": "2023-02-19T11:33:25.847Z"
      },
      {
        "duration": 12,
        "start_time": "2023-02-19T11:33:25.854Z"
      },
      {
        "duration": 24,
        "start_time": "2023-02-19T11:33:25.868Z"
      },
      {
        "duration": 366,
        "start_time": "2023-02-19T11:33:25.894Z"
      },
      {
        "duration": 4,
        "start_time": "2023-02-19T11:33:26.262Z"
      },
      {
        "duration": 28,
        "start_time": "2023-02-19T11:33:26.267Z"
      },
      {
        "duration": 10,
        "start_time": "2023-02-19T11:33:26.297Z"
      },
      {
        "duration": 8,
        "start_time": "2023-02-19T11:33:26.308Z"
      },
      {
        "duration": 8,
        "start_time": "2023-02-19T11:33:26.318Z"
      },
      {
        "duration": 45,
        "start_time": "2023-02-19T11:33:26.329Z"
      },
      {
        "duration": 219,
        "start_time": "2023-02-19T11:33:26.376Z"
      },
      {
        "duration": 0,
        "start_time": "2023-02-19T11:33:26.597Z"
      },
      {
        "duration": 0,
        "start_time": "2023-02-19T11:33:26.599Z"
      },
      {
        "duration": 0,
        "start_time": "2023-02-19T11:33:26.601Z"
      },
      {
        "duration": 0,
        "start_time": "2023-02-19T11:33:26.602Z"
      },
      {
        "duration": 18,
        "start_time": "2023-02-19T11:33:51.650Z"
      },
      {
        "duration": 7,
        "start_time": "2023-02-19T11:34:05.811Z"
      },
      {
        "duration": 5,
        "start_time": "2023-02-19T11:34:06.759Z"
      },
      {
        "duration": 16,
        "start_time": "2023-02-19T11:34:21.750Z"
      },
      {
        "duration": 17,
        "start_time": "2023-02-19T11:34:26.870Z"
      },
      {
        "duration": 699,
        "start_time": "2023-02-19T11:34:38.491Z"
      },
      {
        "duration": 480,
        "start_time": "2023-02-19T11:34:52.611Z"
      },
      {
        "duration": 335,
        "start_time": "2023-02-19T11:35:29.357Z"
      },
      {
        "duration": 11,
        "start_time": "2023-02-19T11:35:46.032Z"
      },
      {
        "duration": 12,
        "start_time": "2023-02-19T11:36:00.992Z"
      },
      {
        "duration": 12,
        "start_time": "2023-02-19T11:36:10.412Z"
      },
      {
        "duration": 19,
        "start_time": "2023-02-19T11:36:20.857Z"
      },
      {
        "duration": 18,
        "start_time": "2023-02-19T11:36:37.491Z"
      },
      {
        "duration": 220,
        "start_time": "2023-02-19T11:37:26.373Z"
      },
      {
        "duration": 18,
        "start_time": "2023-02-19T11:37:35.951Z"
      },
      {
        "duration": 348,
        "start_time": "2023-02-19T11:37:42.243Z"
      },
      {
        "duration": 1299,
        "start_time": "2023-02-19T11:37:54.930Z"
      },
      {
        "duration": 31,
        "start_time": "2023-02-19T11:37:56.231Z"
      },
      {
        "duration": 15,
        "start_time": "2023-02-19T11:37:56.264Z"
      },
      {
        "duration": 38,
        "start_time": "2023-02-19T11:37:56.281Z"
      },
      {
        "duration": 7,
        "start_time": "2023-02-19T11:37:56.320Z"
      },
      {
        "duration": 6,
        "start_time": "2023-02-19T11:37:56.329Z"
      },
      {
        "duration": 13,
        "start_time": "2023-02-19T11:37:56.337Z"
      },
      {
        "duration": 417,
        "start_time": "2023-02-19T11:37:56.352Z"
      },
      {
        "duration": 3,
        "start_time": "2023-02-19T11:37:56.770Z"
      },
      {
        "duration": 19,
        "start_time": "2023-02-19T11:37:56.775Z"
      },
      {
        "duration": 5,
        "start_time": "2023-02-19T11:37:56.796Z"
      },
      {
        "duration": 11,
        "start_time": "2023-02-19T11:37:56.803Z"
      },
      {
        "duration": 6,
        "start_time": "2023-02-19T11:37:56.815Z"
      },
      {
        "duration": 30,
        "start_time": "2023-02-19T11:37:56.823Z"
      },
      {
        "duration": 131,
        "start_time": "2023-02-19T11:37:56.855Z"
      },
      {
        "duration": 0,
        "start_time": "2023-02-19T11:37:56.987Z"
      },
      {
        "duration": 0,
        "start_time": "2023-02-19T11:37:56.992Z"
      },
      {
        "duration": 0,
        "start_time": "2023-02-19T11:37:56.993Z"
      },
      {
        "duration": 356,
        "start_time": "2023-02-19T11:38:08.346Z"
      },
      {
        "duration": 5,
        "start_time": "2023-02-19T11:38:14.491Z"
      },
      {
        "duration": 6,
        "start_time": "2023-02-19T11:38:16.391Z"
      },
      {
        "duration": 5,
        "start_time": "2023-02-19T11:46:18.791Z"
      },
      {
        "duration": 43,
        "start_time": "2023-02-19T11:46:18.798Z"
      },
      {
        "duration": 12,
        "start_time": "2023-02-19T11:46:18.843Z"
      },
      {
        "duration": 45,
        "start_time": "2023-02-19T11:46:18.857Z"
      },
      {
        "duration": 6,
        "start_time": "2023-02-19T11:46:18.905Z"
      },
      {
        "duration": 5,
        "start_time": "2023-02-19T11:46:18.912Z"
      },
      {
        "duration": 9,
        "start_time": "2023-02-19T11:46:18.919Z"
      },
      {
        "duration": 412,
        "start_time": "2023-02-19T11:46:18.930Z"
      },
      {
        "duration": 2,
        "start_time": "2023-02-19T11:46:19.344Z"
      },
      {
        "duration": 15,
        "start_time": "2023-02-19T11:46:19.348Z"
      },
      {
        "duration": 26,
        "start_time": "2023-02-19T11:46:19.365Z"
      },
      {
        "duration": 11,
        "start_time": "2023-02-19T11:46:19.393Z"
      },
      {
        "duration": 8,
        "start_time": "2023-02-19T11:46:19.406Z"
      },
      {
        "duration": 59,
        "start_time": "2023-02-19T11:46:19.417Z"
      },
      {
        "duration": 23,
        "start_time": "2023-02-19T11:46:19.478Z"
      },
      {
        "duration": 0,
        "start_time": "2023-02-19T11:46:19.503Z"
      },
      {
        "duration": 1472,
        "start_time": "2023-02-19T11:53:15.491Z"
      },
      {
        "duration": 34,
        "start_time": "2023-02-19T11:53:16.965Z"
      },
      {
        "duration": 24,
        "start_time": "2023-02-19T11:53:17.001Z"
      },
      {
        "duration": 45,
        "start_time": "2023-02-19T11:53:17.027Z"
      },
      {
        "duration": 19,
        "start_time": "2023-02-19T11:53:17.075Z"
      },
      {
        "duration": 39,
        "start_time": "2023-02-19T11:53:17.096Z"
      },
      {
        "duration": 7,
        "start_time": "2023-02-19T11:53:17.137Z"
      },
      {
        "duration": 390,
        "start_time": "2023-02-19T11:53:17.146Z"
      },
      {
        "duration": 2,
        "start_time": "2023-02-19T11:53:17.538Z"
      },
      {
        "duration": 12,
        "start_time": "2023-02-19T11:53:17.542Z"
      },
      {
        "duration": 7,
        "start_time": "2023-02-19T11:53:17.555Z"
      },
      {
        "duration": 10,
        "start_time": "2023-02-19T11:53:17.564Z"
      },
      {
        "duration": 18,
        "start_time": "2023-02-19T11:53:17.576Z"
      },
      {
        "duration": 33,
        "start_time": "2023-02-19T11:53:17.597Z"
      },
      {
        "duration": 138,
        "start_time": "2023-02-19T11:53:17.632Z"
      },
      {
        "duration": 0,
        "start_time": "2023-02-19T11:53:17.772Z"
      },
      {
        "duration": 221,
        "start_time": "2023-02-19T11:53:22.879Z"
      },
      {
        "duration": 9,
        "start_time": "2023-02-19T12:04:03.652Z"
      },
      {
        "duration": 10,
        "start_time": "2023-02-19T12:06:34.880Z"
      },
      {
        "duration": 9,
        "start_time": "2023-02-19T12:07:00.217Z"
      },
      {
        "duration": 638,
        "start_time": "2023-02-19T12:07:14.156Z"
      },
      {
        "duration": 13,
        "start_time": "2023-02-19T12:07:16.511Z"
      },
      {
        "duration": 12,
        "start_time": "2023-02-19T12:07:22.269Z"
      },
      {
        "duration": 9,
        "start_time": "2023-02-19T12:07:30.699Z"
      },
      {
        "duration": 11,
        "start_time": "2023-02-19T12:08:13.548Z"
      },
      {
        "duration": 9,
        "start_time": "2023-02-19T12:08:24.846Z"
      },
      {
        "duration": 29,
        "start_time": "2023-02-19T12:13:20.033Z"
      },
      {
        "duration": 40,
        "start_time": "2023-02-19T12:13:47.172Z"
      },
      {
        "duration": 36,
        "start_time": "2023-02-19T12:13:55.580Z"
      },
      {
        "duration": 32,
        "start_time": "2023-02-19T12:14:04.212Z"
      },
      {
        "duration": 36,
        "start_time": "2023-02-19T12:14:17.579Z"
      },
      {
        "duration": 33,
        "start_time": "2023-02-19T12:16:01.274Z"
      },
      {
        "duration": 20,
        "start_time": "2023-02-19T12:16:03.232Z"
      },
      {
        "duration": 31,
        "start_time": "2023-02-19T12:16:12.752Z"
      },
      {
        "duration": 23,
        "start_time": "2023-02-19T12:21:26.954Z"
      },
      {
        "duration": 19,
        "start_time": "2023-02-19T12:21:40.462Z"
      },
      {
        "duration": 1434,
        "start_time": "2023-02-19T12:22:32.613Z"
      },
      {
        "duration": 31,
        "start_time": "2023-02-19T12:22:34.048Z"
      },
      {
        "duration": 32,
        "start_time": "2023-02-19T12:22:34.082Z"
      },
      {
        "duration": 40,
        "start_time": "2023-02-19T12:22:34.117Z"
      },
      {
        "duration": 6,
        "start_time": "2023-02-19T12:22:34.158Z"
      },
      {
        "duration": 4,
        "start_time": "2023-02-19T12:22:34.166Z"
      },
      {
        "duration": 19,
        "start_time": "2023-02-19T12:22:34.172Z"
      },
      {
        "duration": 412,
        "start_time": "2023-02-19T12:22:34.194Z"
      },
      {
        "duration": 3,
        "start_time": "2023-02-19T12:22:34.608Z"
      },
      {
        "duration": 29,
        "start_time": "2023-02-19T12:22:34.615Z"
      },
      {
        "duration": 20,
        "start_time": "2023-02-19T12:22:34.646Z"
      },
      {
        "duration": 10,
        "start_time": "2023-02-19T12:22:34.668Z"
      },
      {
        "duration": 11,
        "start_time": "2023-02-19T12:22:34.681Z"
      },
      {
        "duration": 64,
        "start_time": "2023-02-19T12:22:34.694Z"
      },
      {
        "duration": 143,
        "start_time": "2023-02-19T12:22:34.760Z"
      },
      {
        "duration": 0,
        "start_time": "2023-02-19T12:22:34.913Z"
      },
      {
        "duration": 0,
        "start_time": "2023-02-19T12:22:34.915Z"
      },
      {
        "duration": 0,
        "start_time": "2023-02-19T12:22:34.916Z"
      },
      {
        "duration": 605,
        "start_time": "2023-02-19T12:22:41.393Z"
      },
      {
        "duration": 9,
        "start_time": "2023-02-19T12:22:44.253Z"
      },
      {
        "duration": 9,
        "start_time": "2023-02-19T12:22:45.332Z"
      },
      {
        "duration": 22,
        "start_time": "2023-02-19T12:30:58.751Z"
      },
      {
        "duration": 1544,
        "start_time": "2023-02-19T12:31:05.584Z"
      },
      {
        "duration": 29,
        "start_time": "2023-02-19T12:31:07.130Z"
      },
      {
        "duration": 15,
        "start_time": "2023-02-19T12:31:07.161Z"
      },
      {
        "duration": 40,
        "start_time": "2023-02-19T12:31:07.178Z"
      },
      {
        "duration": 7,
        "start_time": "2023-02-19T12:31:07.221Z"
      },
      {
        "duration": 8,
        "start_time": "2023-02-19T12:31:07.230Z"
      },
      {
        "duration": 6,
        "start_time": "2023-02-19T12:31:07.240Z"
      },
      {
        "duration": 434,
        "start_time": "2023-02-19T12:31:07.249Z"
      },
      {
        "duration": 3,
        "start_time": "2023-02-19T12:31:07.685Z"
      },
      {
        "duration": 35,
        "start_time": "2023-02-19T12:31:07.692Z"
      },
      {
        "duration": 8,
        "start_time": "2023-02-19T12:31:07.728Z"
      },
      {
        "duration": 12,
        "start_time": "2023-02-19T12:31:07.738Z"
      },
      {
        "duration": 7,
        "start_time": "2023-02-19T12:31:07.752Z"
      },
      {
        "duration": 43,
        "start_time": "2023-02-19T12:31:07.762Z"
      },
      {
        "duration": 154,
        "start_time": "2023-02-19T12:31:07.807Z"
      },
      {
        "duration": 0,
        "start_time": "2023-02-19T12:31:07.963Z"
      },
      {
        "duration": 0,
        "start_time": "2023-02-19T12:31:07.964Z"
      },
      {
        "duration": 0,
        "start_time": "2023-02-19T12:31:07.966Z"
      },
      {
        "duration": 1540,
        "start_time": "2023-02-20T06:26:36.822Z"
      },
      {
        "duration": 132,
        "start_time": "2023-02-20T06:26:38.364Z"
      },
      {
        "duration": 15,
        "start_time": "2023-02-20T06:26:38.497Z"
      },
      {
        "duration": 70,
        "start_time": "2023-02-20T06:26:38.514Z"
      },
      {
        "duration": 5,
        "start_time": "2023-02-20T06:26:38.585Z"
      },
      {
        "duration": 34,
        "start_time": "2023-02-20T06:26:38.591Z"
      },
      {
        "duration": 28,
        "start_time": "2023-02-20T06:26:38.627Z"
      },
      {
        "duration": 411,
        "start_time": "2023-02-20T06:26:38.656Z"
      },
      {
        "duration": 3,
        "start_time": "2023-02-20T06:26:39.069Z"
      },
      {
        "duration": 34,
        "start_time": "2023-02-20T06:26:39.074Z"
      },
      {
        "duration": 63,
        "start_time": "2023-02-20T06:26:39.111Z"
      },
      {
        "duration": 39,
        "start_time": "2023-02-20T06:26:39.176Z"
      },
      {
        "duration": 22,
        "start_time": "2023-02-20T06:26:39.216Z"
      },
      {
        "duration": 51,
        "start_time": "2023-02-20T06:26:39.239Z"
      },
      {
        "duration": 123,
        "start_time": "2023-02-20T06:26:39.291Z"
      },
      {
        "duration": 0,
        "start_time": "2023-02-20T06:26:39.416Z"
      },
      {
        "duration": 0,
        "start_time": "2023-02-20T06:26:39.417Z"
      },
      {
        "duration": 0,
        "start_time": "2023-02-20T06:26:39.418Z"
      },
      {
        "duration": 36,
        "start_time": "2023-02-20T06:26:57.496Z"
      },
      {
        "duration": 33,
        "start_time": "2023-02-20T06:27:10.497Z"
      },
      {
        "duration": 39,
        "start_time": "2023-02-20T06:27:19.001Z"
      },
      {
        "duration": 7,
        "start_time": "2023-02-20T06:27:24.408Z"
      },
      {
        "duration": 7,
        "start_time": "2023-02-20T06:27:24.928Z"
      },
      {
        "duration": 33,
        "start_time": "2023-02-20T06:27:26.522Z"
      },
      {
        "duration": 36,
        "start_time": "2023-02-20T06:27:37.100Z"
      },
      {
        "duration": 33,
        "start_time": "2023-02-20T06:27:41.638Z"
      },
      {
        "duration": 368,
        "start_time": "2023-02-20T06:28:59.002Z"
      },
      {
        "duration": 1554,
        "start_time": "2023-02-20T06:35:18.343Z"
      },
      {
        "duration": 31,
        "start_time": "2023-02-20T06:35:19.899Z"
      },
      {
        "duration": 15,
        "start_time": "2023-02-20T06:35:19.932Z"
      },
      {
        "duration": 31,
        "start_time": "2023-02-20T06:35:19.949Z"
      },
      {
        "duration": 5,
        "start_time": "2023-02-20T06:35:19.982Z"
      },
      {
        "duration": 9,
        "start_time": "2023-02-20T06:35:19.989Z"
      },
      {
        "duration": 22,
        "start_time": "2023-02-20T06:35:19.999Z"
      },
      {
        "duration": 405,
        "start_time": "2023-02-20T06:35:20.022Z"
      },
      {
        "duration": 2,
        "start_time": "2023-02-20T06:35:20.430Z"
      },
      {
        "duration": 32,
        "start_time": "2023-02-20T06:35:20.435Z"
      },
      {
        "duration": 10,
        "start_time": "2023-02-20T06:35:20.469Z"
      },
      {
        "duration": 9,
        "start_time": "2023-02-20T06:35:20.481Z"
      },
      {
        "duration": 5,
        "start_time": "2023-02-20T06:35:20.492Z"
      },
      {
        "duration": 35,
        "start_time": "2023-02-20T06:35:20.499Z"
      },
      {
        "duration": 147,
        "start_time": "2023-02-20T06:35:20.536Z"
      },
      {
        "duration": 0,
        "start_time": "2023-02-20T06:35:20.685Z"
      },
      {
        "duration": 0,
        "start_time": "2023-02-20T06:35:20.686Z"
      },
      {
        "duration": 0,
        "start_time": "2023-02-20T06:35:20.687Z"
      },
      {
        "duration": 1474,
        "start_time": "2023-02-20T06:37:34.688Z"
      },
      {
        "duration": 31,
        "start_time": "2023-02-20T06:37:36.164Z"
      },
      {
        "duration": 16,
        "start_time": "2023-02-20T06:37:36.197Z"
      },
      {
        "duration": 31,
        "start_time": "2023-02-20T06:37:36.216Z"
      },
      {
        "duration": 6,
        "start_time": "2023-02-20T06:37:36.249Z"
      },
      {
        "duration": 12,
        "start_time": "2023-02-20T06:37:36.257Z"
      },
      {
        "duration": 7,
        "start_time": "2023-02-20T06:37:36.271Z"
      },
      {
        "duration": 372,
        "start_time": "2023-02-20T06:37:36.280Z"
      },
      {
        "duration": 2,
        "start_time": "2023-02-20T06:37:36.654Z"
      },
      {
        "duration": 10,
        "start_time": "2023-02-20T06:37:36.666Z"
      },
      {
        "duration": 7,
        "start_time": "2023-02-20T06:37:36.678Z"
      },
      {
        "duration": 8,
        "start_time": "2023-02-20T06:37:36.687Z"
      },
      {
        "duration": 6,
        "start_time": "2023-02-20T06:37:36.697Z"
      },
      {
        "duration": 164,
        "start_time": "2023-02-20T06:37:36.705Z"
      },
      {
        "duration": 0,
        "start_time": "2023-02-20T06:37:36.871Z"
      },
      {
        "duration": 0,
        "start_time": "2023-02-20T06:37:36.872Z"
      },
      {
        "duration": 0,
        "start_time": "2023-02-20T06:37:36.873Z"
      },
      {
        "duration": 0,
        "start_time": "2023-02-20T06:37:36.874Z"
      },
      {
        "duration": 1278,
        "start_time": "2023-02-20T06:38:08.417Z"
      },
      {
        "duration": 30,
        "start_time": "2023-02-20T06:38:09.697Z"
      },
      {
        "duration": 14,
        "start_time": "2023-02-20T06:38:09.729Z"
      },
      {
        "duration": 36,
        "start_time": "2023-02-20T06:38:09.745Z"
      },
      {
        "duration": 6,
        "start_time": "2023-02-20T06:38:09.782Z"
      },
      {
        "duration": 7,
        "start_time": "2023-02-20T06:38:09.790Z"
      },
      {
        "duration": 10,
        "start_time": "2023-02-20T06:38:09.799Z"
      },
      {
        "duration": 405,
        "start_time": "2023-02-20T06:38:09.810Z"
      },
      {
        "duration": 3,
        "start_time": "2023-02-20T06:38:10.217Z"
      },
      {
        "duration": 14,
        "start_time": "2023-02-20T06:38:10.222Z"
      },
      {
        "duration": 7,
        "start_time": "2023-02-20T06:38:10.237Z"
      },
      {
        "duration": 9,
        "start_time": "2023-02-20T06:38:10.245Z"
      },
      {
        "duration": 15,
        "start_time": "2023-02-20T06:38:10.255Z"
      },
      {
        "duration": 34,
        "start_time": "2023-02-20T06:38:10.272Z"
      },
      {
        "duration": 146,
        "start_time": "2023-02-20T06:38:10.308Z"
      },
      {
        "duration": 0,
        "start_time": "2023-02-20T06:38:10.456Z"
      },
      {
        "duration": 0,
        "start_time": "2023-02-20T06:38:10.457Z"
      },
      {
        "duration": 0,
        "start_time": "2023-02-20T06:38:10.458Z"
      },
      {
        "duration": 1312,
        "start_time": "2023-02-20T06:38:48.090Z"
      },
      {
        "duration": 30,
        "start_time": "2023-02-20T06:38:49.404Z"
      },
      {
        "duration": 15,
        "start_time": "2023-02-20T06:38:49.436Z"
      },
      {
        "duration": 29,
        "start_time": "2023-02-20T06:38:49.453Z"
      },
      {
        "duration": 5,
        "start_time": "2023-02-20T06:38:49.484Z"
      },
      {
        "duration": 18,
        "start_time": "2023-02-20T06:38:49.490Z"
      },
      {
        "duration": 12,
        "start_time": "2023-02-20T06:38:49.509Z"
      },
      {
        "duration": 384,
        "start_time": "2023-02-20T06:38:49.522Z"
      },
      {
        "duration": 3,
        "start_time": "2023-02-20T06:38:49.908Z"
      },
      {
        "duration": 11,
        "start_time": "2023-02-20T06:38:49.913Z"
      },
      {
        "duration": 11,
        "start_time": "2023-02-20T06:38:49.926Z"
      },
      {
        "duration": 7,
        "start_time": "2023-02-20T06:38:49.938Z"
      },
      {
        "duration": 6,
        "start_time": "2023-02-20T06:38:49.947Z"
      },
      {
        "duration": 33,
        "start_time": "2023-02-20T06:38:49.966Z"
      },
      {
        "duration": 126,
        "start_time": "2023-02-20T06:38:50.000Z"
      },
      {
        "duration": 0,
        "start_time": "2023-02-20T06:38:50.128Z"
      },
      {
        "duration": 0,
        "start_time": "2023-02-20T06:38:50.129Z"
      },
      {
        "duration": 0,
        "start_time": "2023-02-20T06:38:50.130Z"
      },
      {
        "duration": 376,
        "start_time": "2023-02-20T06:39:40.795Z"
      },
      {
        "duration": 13,
        "start_time": "2023-02-20T06:45:52.807Z"
      },
      {
        "duration": 1504,
        "start_time": "2023-02-20T06:49:40.347Z"
      },
      {
        "duration": 51,
        "start_time": "2023-02-20T06:49:41.853Z"
      },
      {
        "duration": 16,
        "start_time": "2023-02-20T06:49:41.906Z"
      },
      {
        "duration": 30,
        "start_time": "2023-02-20T06:49:41.924Z"
      },
      {
        "duration": 5,
        "start_time": "2023-02-20T06:49:41.956Z"
      },
      {
        "duration": 37,
        "start_time": "2023-02-20T06:49:41.962Z"
      },
      {
        "duration": 19,
        "start_time": "2023-02-20T06:49:42.000Z"
      },
      {
        "duration": 432,
        "start_time": "2023-02-20T06:49:42.020Z"
      },
      {
        "duration": 3,
        "start_time": "2023-02-20T06:49:42.454Z"
      },
      {
        "duration": 16,
        "start_time": "2023-02-20T06:49:42.468Z"
      },
      {
        "duration": 10,
        "start_time": "2023-02-20T06:49:42.486Z"
      },
      {
        "duration": 10,
        "start_time": "2023-02-20T06:49:42.498Z"
      },
      {
        "duration": 7,
        "start_time": "2023-02-20T06:49:42.509Z"
      },
      {
        "duration": 55,
        "start_time": "2023-02-20T06:49:42.518Z"
      },
      {
        "duration": 155,
        "start_time": "2023-02-20T06:49:42.576Z"
      },
      {
        "duration": 0,
        "start_time": "2023-02-20T06:49:42.733Z"
      },
      {
        "duration": 0,
        "start_time": "2023-02-20T06:49:42.734Z"
      },
      {
        "duration": 0,
        "start_time": "2023-02-20T06:49:42.736Z"
      },
      {
        "duration": 7,
        "start_time": "2023-02-20T06:51:56.288Z"
      },
      {
        "duration": 1638,
        "start_time": "2023-02-20T06:52:01.097Z"
      },
      {
        "duration": 31,
        "start_time": "2023-02-20T06:52:02.736Z"
      },
      {
        "duration": 34,
        "start_time": "2023-02-20T06:52:02.770Z"
      },
      {
        "duration": 71,
        "start_time": "2023-02-20T06:52:02.806Z"
      },
      {
        "duration": 8,
        "start_time": "2023-02-20T06:52:02.879Z"
      },
      {
        "duration": 47,
        "start_time": "2023-02-20T06:52:02.889Z"
      },
      {
        "duration": 17,
        "start_time": "2023-02-20T06:52:02.938Z"
      },
      {
        "duration": 444,
        "start_time": "2023-02-20T06:52:02.957Z"
      },
      {
        "duration": 3,
        "start_time": "2023-02-20T06:52:03.403Z"
      },
      {
        "duration": 36,
        "start_time": "2023-02-20T06:52:03.409Z"
      },
      {
        "duration": 14,
        "start_time": "2023-02-20T06:52:03.447Z"
      },
      {
        "duration": 41,
        "start_time": "2023-02-20T06:52:03.463Z"
      },
      {
        "duration": 29,
        "start_time": "2023-02-20T06:52:03.506Z"
      },
      {
        "duration": 94,
        "start_time": "2023-02-20T06:52:03.537Z"
      },
      {
        "duration": 140,
        "start_time": "2023-02-20T06:52:03.633Z"
      },
      {
        "duration": 0,
        "start_time": "2023-02-20T06:52:03.776Z"
      },
      {
        "duration": 0,
        "start_time": "2023-02-20T06:52:03.778Z"
      },
      {
        "duration": 0,
        "start_time": "2023-02-20T06:52:03.779Z"
      },
      {
        "duration": 1381,
        "start_time": "2023-02-20T06:52:58.439Z"
      },
      {
        "duration": 32,
        "start_time": "2023-02-20T06:52:59.822Z"
      },
      {
        "duration": 17,
        "start_time": "2023-02-20T06:52:59.856Z"
      },
      {
        "duration": 30,
        "start_time": "2023-02-20T06:52:59.875Z"
      },
      {
        "duration": 6,
        "start_time": "2023-02-20T06:52:59.907Z"
      },
      {
        "duration": 4,
        "start_time": "2023-02-20T06:52:59.915Z"
      },
      {
        "duration": 8,
        "start_time": "2023-02-20T06:52:59.921Z"
      },
      {
        "duration": 452,
        "start_time": "2023-02-20T06:52:59.931Z"
      },
      {
        "duration": 3,
        "start_time": "2023-02-20T06:53:00.385Z"
      },
      {
        "duration": 18,
        "start_time": "2023-02-20T06:53:00.392Z"
      },
      {
        "duration": 34,
        "start_time": "2023-02-20T06:53:00.413Z"
      },
      {
        "duration": 32,
        "start_time": "2023-02-20T06:53:00.449Z"
      },
      {
        "duration": 29,
        "start_time": "2023-02-20T06:53:00.484Z"
      },
      {
        "duration": 87,
        "start_time": "2023-02-20T06:53:00.515Z"
      },
      {
        "duration": 2301,
        "start_time": "2023-02-20T06:53:40.181Z"
      },
      {
        "duration": 246,
        "start_time": "2023-02-20T06:53:42.491Z"
      },
      {
        "duration": 0,
        "start_time": "2023-02-20T06:53:42.739Z"
      },
      {
        "duration": 0,
        "start_time": "2023-02-20T06:53:42.740Z"
      },
      {
        "duration": 36303,
        "start_time": "2023-02-20T06:54:03.449Z"
      },
      {
        "duration": 36362,
        "start_time": "2023-02-20T06:55:05.306Z"
      },
      {
        "duration": 42614,
        "start_time": "2023-02-20T06:56:32.867Z"
      },
      {
        "duration": 41592,
        "start_time": "2023-02-20T06:57:31.803Z"
      },
      {
        "duration": 1617,
        "start_time": "2023-02-20T07:01:57.264Z"
      },
      {
        "duration": 33,
        "start_time": "2023-02-20T07:01:58.883Z"
      },
      {
        "duration": 22,
        "start_time": "2023-02-20T07:01:58.918Z"
      },
      {
        "duration": 48,
        "start_time": "2023-02-20T07:01:58.943Z"
      },
      {
        "duration": 6,
        "start_time": "2023-02-20T07:01:58.993Z"
      },
      {
        "duration": 8,
        "start_time": "2023-02-20T07:01:59.001Z"
      },
      {
        "duration": 12,
        "start_time": "2023-02-20T07:01:59.010Z"
      },
      {
        "duration": 415,
        "start_time": "2023-02-20T07:01:59.023Z"
      },
      {
        "duration": 2,
        "start_time": "2023-02-20T07:01:59.440Z"
      },
      {
        "duration": 13,
        "start_time": "2023-02-20T07:01:59.445Z"
      },
      {
        "duration": 32,
        "start_time": "2023-02-20T07:01:59.467Z"
      },
      {
        "duration": 9,
        "start_time": "2023-02-20T07:01:59.501Z"
      },
      {
        "duration": 8,
        "start_time": "2023-02-20T07:01:59.512Z"
      },
      {
        "duration": 37,
        "start_time": "2023-02-20T07:01:59.522Z"
      },
      {
        "duration": 41896,
        "start_time": "2023-02-20T07:01:59.561Z"
      },
      {
        "duration": 243,
        "start_time": "2023-02-20T07:02:41.459Z"
      },
      {
        "duration": 246,
        "start_time": "2023-02-20T07:02:41.768Z"
      },
      {
        "duration": 0,
        "start_time": "2023-02-20T07:02:42.017Z"
      },
      {
        "duration": 5,
        "start_time": "2023-02-20T07:04:53.887Z"
      },
      {
        "duration": 50,
        "start_time": "2023-02-20T07:05:34.904Z"
      },
      {
        "duration": 43,
        "start_time": "2023-02-20T07:06:39.361Z"
      },
      {
        "duration": 38,
        "start_time": "2023-02-20T07:06:43.904Z"
      },
      {
        "duration": 41832,
        "start_time": "2023-02-20T07:06:48.520Z"
      },
      {
        "duration": 1297,
        "start_time": "2023-02-20T07:07:54.886Z"
      },
      {
        "duration": 202,
        "start_time": "2023-02-20T07:08:26.377Z"
      },
      {
        "duration": 5,
        "start_time": "2023-02-20T07:08:28.722Z"
      },
      {
        "duration": 188,
        "start_time": "2023-02-20T07:08:39.322Z"
      },
      {
        "duration": 5,
        "start_time": "2023-02-20T07:08:39.790Z"
      },
      {
        "duration": 281,
        "start_time": "2023-02-20T07:08:54.225Z"
      },
      {
        "duration": 5,
        "start_time": "2023-02-20T07:08:56.995Z"
      },
      {
        "duration": 282,
        "start_time": "2023-02-20T07:09:12.721Z"
      },
      {
        "duration": 4,
        "start_time": "2023-02-20T07:09:14.291Z"
      },
      {
        "duration": 5,
        "start_time": "2023-02-20T07:09:34.838Z"
      },
      {
        "duration": 12,
        "start_time": "2023-02-20T07:09:35.220Z"
      },
      {
        "duration": 11,
        "start_time": "2023-02-20T07:09:35.621Z"
      },
      {
        "duration": 34,
        "start_time": "2023-02-20T07:09:37.425Z"
      },
      {
        "duration": 40002,
        "start_time": "2023-02-20T07:09:43.013Z"
      },
      {
        "duration": 1807,
        "start_time": "2023-02-20T07:10:23.017Z"
      },
      {
        "duration": 70,
        "start_time": "2023-02-20T07:10:24.832Z"
      },
      {
        "duration": 1589,
        "start_time": "2023-02-20T07:14:00.189Z"
      },
      {
        "duration": 34,
        "start_time": "2023-02-20T07:14:01.780Z"
      },
      {
        "duration": 18,
        "start_time": "2023-02-20T07:14:01.816Z"
      },
      {
        "duration": 55,
        "start_time": "2023-02-20T07:14:01.836Z"
      },
      {
        "duration": 17,
        "start_time": "2023-02-20T07:14:01.894Z"
      },
      {
        "duration": 20,
        "start_time": "2023-02-20T07:14:01.913Z"
      },
      {
        "duration": 8,
        "start_time": "2023-02-20T07:14:01.935Z"
      },
      {
        "duration": 437,
        "start_time": "2023-02-20T07:14:01.945Z"
      },
      {
        "duration": 2,
        "start_time": "2023-02-20T07:14:02.384Z"
      },
      {
        "duration": 48,
        "start_time": "2023-02-20T07:14:02.388Z"
      },
      {
        "duration": 12,
        "start_time": "2023-02-20T07:14:02.438Z"
      },
      {
        "duration": 13,
        "start_time": "2023-02-20T07:14:02.452Z"
      },
      {
        "duration": 29,
        "start_time": "2023-02-20T07:14:02.467Z"
      },
      {
        "duration": 50,
        "start_time": "2023-02-20T07:14:02.500Z"
      },
      {
        "duration": 32681,
        "start_time": "2023-02-20T07:14:02.552Z"
      },
      {
        "duration": 1063,
        "start_time": "2023-02-20T07:14:35.236Z"
      },
      {
        "duration": 13,
        "start_time": "2023-02-20T07:14:36.366Z"
      },
      {
        "duration": 269,
        "start_time": "2023-02-20T07:14:36.385Z"
      },
      {
        "duration": 0,
        "start_time": "2023-02-20T07:14:36.656Z"
      },
      {
        "duration": 56,
        "start_time": "2023-02-20T07:19:41.097Z"
      },
      {
        "duration": 36,
        "start_time": "2023-02-20T07:20:06.502Z"
      },
      {
        "duration": 721,
        "start_time": "2023-02-20T07:20:18.271Z"
      },
      {
        "duration": 71,
        "start_time": "2023-02-20T07:21:00.963Z"
      },
      {
        "duration": 14,
        "start_time": "2023-02-20T07:21:09.088Z"
      },
      {
        "duration": 733,
        "start_time": "2023-02-20T07:21:14.901Z"
      },
      {
        "duration": 135,
        "start_time": "2023-02-20T07:21:55.502Z"
      },
      {
        "duration": 30,
        "start_time": "2023-02-20T07:21:58.384Z"
      },
      {
        "duration": 132,
        "start_time": "2023-02-20T07:22:00.884Z"
      },
      {
        "duration": 154,
        "start_time": "2023-02-20T07:22:42.384Z"
      },
      {
        "duration": 23937,
        "start_time": "2023-02-20T07:22:50.424Z"
      },
      {
        "duration": 23353,
        "start_time": "2023-02-20T07:23:38.306Z"
      },
      {
        "duration": 59,
        "start_time": "2023-02-20T07:24:45.478Z"
      },
      {
        "duration": 249,
        "start_time": "2023-02-20T07:24:53.425Z"
      },
      {
        "duration": 67,
        "start_time": "2023-02-20T07:25:03.820Z"
      },
      {
        "duration": 254,
        "start_time": "2023-02-20T07:25:08.796Z"
      },
      {
        "duration": 240,
        "start_time": "2023-02-20T07:25:31.115Z"
      },
      {
        "duration": 258,
        "start_time": "2023-02-20T07:25:39.330Z"
      },
      {
        "duration": 287,
        "start_time": "2023-02-20T07:27:04.855Z"
      },
      {
        "duration": 1513,
        "start_time": "2023-02-20T07:27:22.541Z"
      },
      {
        "duration": 43,
        "start_time": "2023-02-20T07:27:24.055Z"
      },
      {
        "duration": 18,
        "start_time": "2023-02-20T07:27:24.100Z"
      },
      {
        "duration": 32,
        "start_time": "2023-02-20T07:27:24.120Z"
      },
      {
        "duration": 6,
        "start_time": "2023-02-20T07:27:24.154Z"
      },
      {
        "duration": 30,
        "start_time": "2023-02-20T07:27:24.162Z"
      },
      {
        "duration": 6,
        "start_time": "2023-02-20T07:27:24.194Z"
      },
      {
        "duration": 393,
        "start_time": "2023-02-20T07:27:24.202Z"
      },
      {
        "duration": 2,
        "start_time": "2023-02-20T07:27:24.597Z"
      },
      {
        "duration": 13,
        "start_time": "2023-02-20T07:27:24.601Z"
      },
      {
        "duration": 6,
        "start_time": "2023-02-20T07:27:24.616Z"
      },
      {
        "duration": 9,
        "start_time": "2023-02-20T07:27:24.623Z"
      },
      {
        "duration": 5,
        "start_time": "2023-02-20T07:27:24.634Z"
      },
      {
        "duration": 47,
        "start_time": "2023-02-20T07:27:24.667Z"
      },
      {
        "duration": 258,
        "start_time": "2023-02-20T07:27:24.716Z"
      },
      {
        "duration": 32599,
        "start_time": "2023-02-20T07:27:24.977Z"
      },
      {
        "duration": 8473,
        "start_time": "2023-02-20T07:27:57.578Z"
      },
      {
        "duration": 436,
        "start_time": "2023-02-20T07:28:06.053Z"
      },
      {
        "duration": 82,
        "start_time": "2023-02-20T07:28:06.492Z"
      },
      {
        "duration": 220,
        "start_time": "2023-02-20T07:28:06.582Z"
      },
      {
        "duration": 0,
        "start_time": "2023-02-20T07:28:06.804Z"
      },
      {
        "duration": 1595,
        "start_time": "2023-02-20T07:33:37.109Z"
      },
      {
        "duration": 33,
        "start_time": "2023-02-20T07:33:38.707Z"
      },
      {
        "duration": 38,
        "start_time": "2023-02-20T07:33:38.743Z"
      },
      {
        "duration": 47,
        "start_time": "2023-02-20T07:33:38.784Z"
      },
      {
        "duration": 6,
        "start_time": "2023-02-20T07:33:38.833Z"
      },
      {
        "duration": 12,
        "start_time": "2023-02-20T07:33:38.841Z"
      },
      {
        "duration": 8,
        "start_time": "2023-02-20T07:33:38.854Z"
      },
      {
        "duration": 399,
        "start_time": "2023-02-20T07:33:38.864Z"
      },
      {
        "duration": 5,
        "start_time": "2023-02-20T07:33:39.265Z"
      },
      {
        "duration": 46,
        "start_time": "2023-02-20T07:33:39.272Z"
      },
      {
        "duration": 9,
        "start_time": "2023-02-20T07:33:39.320Z"
      },
      {
        "duration": 11,
        "start_time": "2023-02-20T07:33:39.331Z"
      },
      {
        "duration": 10,
        "start_time": "2023-02-20T07:33:39.344Z"
      },
      {
        "duration": 48,
        "start_time": "2023-02-20T07:33:39.357Z"
      },
      {
        "duration": 243,
        "start_time": "2023-02-20T07:33:39.407Z"
      },
      {
        "duration": 45436,
        "start_time": "2023-02-20T07:33:39.652Z"
      },
      {
        "duration": 8432,
        "start_time": "2023-02-20T07:34:25.091Z"
      },
      {
        "duration": 780,
        "start_time": "2023-02-20T07:34:33.524Z"
      },
      {
        "duration": 62,
        "start_time": "2023-02-20T07:34:34.311Z"
      },
      {
        "duration": 284,
        "start_time": "2023-02-20T07:34:34.375Z"
      },
      {
        "duration": 0,
        "start_time": "2023-02-20T07:34:34.662Z"
      },
      {
        "duration": 9310,
        "start_time": "2023-02-20T07:34:55.106Z"
      },
      {
        "duration": 665,
        "start_time": "2023-02-20T07:35:07.111Z"
      },
      {
        "duration": 4,
        "start_time": "2023-02-20T07:35:08.502Z"
      },
      {
        "duration": 54557,
        "start_time": "2023-02-20T07:35:11.748Z"
      },
      {
        "duration": 8813,
        "start_time": "2023-02-20T07:36:06.307Z"
      },
      {
        "duration": 1153,
        "start_time": "2023-02-20T07:36:15.122Z"
      },
      {
        "duration": 81,
        "start_time": "2023-02-20T07:36:16.285Z"
      },
      {
        "duration": 8533,
        "start_time": "2023-02-20T07:36:58.143Z"
      },
      {
        "duration": 8580,
        "start_time": "2023-02-20T07:37:12.622Z"
      },
      {
        "duration": 4572,
        "start_time": "2023-02-20T07:38:33.607Z"
      },
      {
        "duration": 83017,
        "start_time": "2023-02-20T07:38:53.616Z"
      },
      {
        "duration": 5197,
        "start_time": "2023-02-20T07:40:16.636Z"
      },
      {
        "duration": 3039,
        "start_time": "2023-02-20T07:40:21.834Z"
      },
      {
        "duration": 7,
        "start_time": "2023-02-20T07:40:24.879Z"
      },
      {
        "duration": 996,
        "start_time": "2023-02-20T07:40:33.491Z"
      },
      {
        "duration": 5,
        "start_time": "2023-02-20T07:40:34.660Z"
      },
      {
        "duration": 52,
        "start_time": "2023-02-20T07:43:38.765Z"
      },
      {
        "duration": 39,
        "start_time": "2023-02-20T07:44:14.748Z"
      },
      {
        "duration": 50,
        "start_time": "2023-02-20T07:46:34.788Z"
      },
      {
        "duration": 42849,
        "start_time": "2023-02-20T07:47:45.816Z"
      },
      {
        "duration": 193,
        "start_time": "2023-02-20T07:48:28.667Z"
      },
      {
        "duration": 0,
        "start_time": "2023-02-20T07:48:28.862Z"
      },
      {
        "duration": 69,
        "start_time": "2023-02-20T07:48:38.820Z"
      },
      {
        "duration": 1307,
        "start_time": "2023-02-20T07:48:50.733Z"
      },
      {
        "duration": 5,
        "start_time": "2023-02-20T07:48:56.546Z"
      },
      {
        "duration": 4409,
        "start_time": "2023-02-20T07:49:59.708Z"
      },
      {
        "duration": 4714,
        "start_time": "2023-02-20T07:50:11.549Z"
      },
      {
        "duration": 4741,
        "start_time": "2023-02-20T07:50:32.114Z"
      },
      {
        "duration": 406,
        "start_time": "2023-02-20T07:51:00.269Z"
      },
      {
        "duration": 8,
        "start_time": "2023-02-20T07:51:04.932Z"
      },
      {
        "duration": 9147,
        "start_time": "2023-02-20T07:51:20.016Z"
      },
      {
        "duration": 3282,
        "start_time": "2023-02-20T07:51:47.015Z"
      },
      {
        "duration": 4634,
        "start_time": "2023-02-20T07:51:57.624Z"
      },
      {
        "duration": 1783,
        "start_time": "2023-02-20T07:52:14.995Z"
      },
      {
        "duration": 1270,
        "start_time": "2023-02-20T07:52:25.104Z"
      },
      {
        "duration": 1748,
        "start_time": "2023-02-20T07:52:41.912Z"
      },
      {
        "duration": 4679,
        "start_time": "2023-02-20T07:52:50.993Z"
      },
      {
        "duration": 4671,
        "start_time": "2023-02-20T07:53:10.691Z"
      },
      {
        "duration": 1725,
        "start_time": "2023-02-20T07:53:23.316Z"
      },
      {
        "duration": 1691,
        "start_time": "2023-02-20T07:53:35.353Z"
      },
      {
        "duration": 2225,
        "start_time": "2023-02-20T07:53:44.723Z"
      },
      {
        "duration": 1638,
        "start_time": "2023-02-20T07:53:57.497Z"
      },
      {
        "duration": 4173,
        "start_time": "2023-02-20T07:54:07.646Z"
      },
      {
        "duration": 4172,
        "start_time": "2023-02-20T07:54:25.454Z"
      },
      {
        "duration": 900,
        "start_time": "2023-02-20T07:54:46.808Z"
      },
      {
        "duration": 8,
        "start_time": "2023-02-20T07:54:50.270Z"
      },
      {
        "duration": 1589,
        "start_time": "2023-02-20T07:57:56.863Z"
      },
      {
        "duration": 60,
        "start_time": "2023-02-20T07:57:58.454Z"
      },
      {
        "duration": 15,
        "start_time": "2023-02-20T07:57:58.516Z"
      },
      {
        "duration": 51,
        "start_time": "2023-02-20T07:57:58.534Z"
      },
      {
        "duration": 11,
        "start_time": "2023-02-20T07:57:58.587Z"
      },
      {
        "duration": 25,
        "start_time": "2023-02-20T07:57:58.600Z"
      },
      {
        "duration": 18,
        "start_time": "2023-02-20T07:57:58.627Z"
      },
      {
        "duration": 423,
        "start_time": "2023-02-20T07:57:58.647Z"
      },
      {
        "duration": 5,
        "start_time": "2023-02-20T07:57:59.072Z"
      },
      {
        "duration": 41,
        "start_time": "2023-02-20T07:57:59.081Z"
      },
      {
        "duration": 14,
        "start_time": "2023-02-20T07:57:59.124Z"
      },
      {
        "duration": 15,
        "start_time": "2023-02-20T07:57:59.140Z"
      },
      {
        "duration": 11,
        "start_time": "2023-02-20T07:57:59.156Z"
      },
      {
        "duration": 63,
        "start_time": "2023-02-20T07:57:59.169Z"
      },
      {
        "duration": 3712,
        "start_time": "2023-02-20T07:57:59.234Z"
      },
      {
        "duration": 42,
        "start_time": "2023-02-20T07:58:02.948Z"
      },
      {
        "duration": 42,
        "start_time": "2023-02-20T07:58:02.993Z"
      },
      {
        "duration": 161,
        "start_time": "2023-02-20T07:58:03.037Z"
      },
      {
        "duration": 0,
        "start_time": "2023-02-20T07:58:03.200Z"
      },
      {
        "duration": 4,
        "start_time": "2023-02-20T07:59:16.696Z"
      },
      {
        "duration": 3,
        "start_time": "2023-02-20T07:59:47.502Z"
      },
      {
        "duration": 4,
        "start_time": "2023-02-20T08:00:07.433Z"
      },
      {
        "duration": 4,
        "start_time": "2023-02-20T08:00:49.905Z"
      },
      {
        "duration": 4,
        "start_time": "2023-02-20T08:02:15.656Z"
      },
      {
        "duration": 3,
        "start_time": "2023-02-20T08:02:17.999Z"
      },
      {
        "duration": 43,
        "start_time": "2023-02-20T08:02:48.762Z"
      },
      {
        "duration": 3796,
        "start_time": "2023-02-20T08:02:51.825Z"
      },
      {
        "duration": 21,
        "start_time": "2023-02-20T08:02:55.623Z"
      },
      {
        "duration": 4,
        "start_time": "2023-02-20T08:02:59.404Z"
      },
      {
        "duration": 137,
        "start_time": "2023-02-20T08:13:33.960Z"
      },
      {
        "duration": 121,
        "start_time": "2023-02-20T08:14:13.028Z"
      },
      {
        "duration": 24,
        "start_time": "2023-02-20T08:14:50.126Z"
      },
      {
        "duration": 129,
        "start_time": "2023-02-20T08:15:13.721Z"
      },
      {
        "duration": 29,
        "start_time": "2023-02-20T08:17:00.961Z"
      },
      {
        "duration": 19,
        "start_time": "2023-02-20T08:17:05.943Z"
      },
      {
        "duration": 28,
        "start_time": "2023-02-20T08:17:11.357Z"
      },
      {
        "duration": 24,
        "start_time": "2023-02-20T08:17:26.413Z"
      },
      {
        "duration": 27,
        "start_time": "2023-02-20T08:17:36.917Z"
      },
      {
        "duration": 114,
        "start_time": "2023-02-20T08:17:52.512Z"
      },
      {
        "duration": 1535,
        "start_time": "2023-02-20T08:19:29.198Z"
      },
      {
        "duration": 32,
        "start_time": "2023-02-20T08:19:30.736Z"
      },
      {
        "duration": 47,
        "start_time": "2023-02-20T08:19:30.770Z"
      },
      {
        "duration": 60,
        "start_time": "2023-02-20T08:19:30.818Z"
      },
      {
        "duration": 33,
        "start_time": "2023-02-20T08:19:30.882Z"
      },
      {
        "duration": 27,
        "start_time": "2023-02-20T08:19:30.917Z"
      },
      {
        "duration": 55,
        "start_time": "2023-02-20T08:19:30.946Z"
      },
      {
        "duration": 445,
        "start_time": "2023-02-20T08:19:31.004Z"
      },
      {
        "duration": 3,
        "start_time": "2023-02-20T08:19:31.451Z"
      },
      {
        "duration": 24,
        "start_time": "2023-02-20T08:19:31.456Z"
      },
      {
        "duration": 30,
        "start_time": "2023-02-20T08:19:31.481Z"
      },
      {
        "duration": 7,
        "start_time": "2023-02-20T08:19:31.512Z"
      },
      {
        "duration": 8,
        "start_time": "2023-02-20T08:19:31.521Z"
      },
      {
        "duration": 10,
        "start_time": "2023-02-20T08:19:31.532Z"
      },
      {
        "duration": 10,
        "start_time": "2023-02-20T08:19:31.544Z"
      },
      {
        "duration": 51,
        "start_time": "2023-02-20T08:19:31.556Z"
      },
      {
        "duration": 3978,
        "start_time": "2023-02-20T08:19:31.609Z"
      },
      {
        "duration": 39,
        "start_time": "2023-02-20T08:19:35.588Z"
      },
      {
        "duration": 11,
        "start_time": "2023-02-20T08:19:35.631Z"
      },
      {
        "duration": 171,
        "start_time": "2023-02-20T08:19:35.644Z"
      },
      {
        "duration": 7,
        "start_time": "2023-02-20T08:23:43.961Z"
      },
      {
        "duration": 7,
        "start_time": "2023-02-20T08:24:18.061Z"
      },
      {
        "duration": 5,
        "start_time": "2023-02-20T08:28:53.816Z"
      },
      {
        "duration": 5,
        "start_time": "2023-02-20T08:34:16.257Z"
      },
      {
        "duration": 3384,
        "start_time": "2023-02-20T08:36:10.867Z"
      },
      {
        "duration": 1855,
        "start_time": "2023-02-20T08:36:47.414Z"
      },
      {
        "duration": 47,
        "start_time": "2023-02-20T08:36:49.272Z"
      },
      {
        "duration": 96,
        "start_time": "2023-02-20T08:36:49.321Z"
      },
      {
        "duration": 64,
        "start_time": "2023-02-20T08:36:49.420Z"
      },
      {
        "duration": 61,
        "start_time": "2023-02-20T08:36:49.486Z"
      },
      {
        "duration": 63,
        "start_time": "2023-02-20T08:36:49.549Z"
      },
      {
        "duration": 65,
        "start_time": "2023-02-20T08:36:49.615Z"
      },
      {
        "duration": 450,
        "start_time": "2023-02-20T08:36:49.683Z"
      },
      {
        "duration": 5,
        "start_time": "2023-02-20T08:36:50.135Z"
      },
      {
        "duration": 122,
        "start_time": "2023-02-20T08:36:50.144Z"
      },
      {
        "duration": 83,
        "start_time": "2023-02-20T08:36:50.268Z"
      },
      {
        "duration": 53,
        "start_time": "2023-02-20T08:36:50.352Z"
      },
      {
        "duration": 19,
        "start_time": "2023-02-20T08:36:50.407Z"
      },
      {
        "duration": 18,
        "start_time": "2023-02-20T08:36:50.429Z"
      },
      {
        "duration": 14,
        "start_time": "2023-02-20T08:36:50.449Z"
      },
      {
        "duration": 93,
        "start_time": "2023-02-20T08:36:50.465Z"
      },
      {
        "duration": 30051,
        "start_time": "2023-02-20T08:36:50.560Z"
      },
      {
        "duration": 18,
        "start_time": "2023-02-20T08:37:20.613Z"
      },
      {
        "duration": 4,
        "start_time": "2023-02-20T08:37:20.633Z"
      },
      {
        "duration": 141,
        "start_time": "2023-02-20T08:37:20.639Z"
      },
      {
        "duration": 6,
        "start_time": "2023-02-20T08:37:20.783Z"
      },
      {
        "duration": 1902,
        "start_time": "2023-02-20T15:00:16.153Z"
      },
      {
        "duration": 67,
        "start_time": "2023-02-20T15:00:18.057Z"
      },
      {
        "duration": 17,
        "start_time": "2023-02-20T15:00:18.125Z"
      },
      {
        "duration": 31,
        "start_time": "2023-02-20T15:00:18.143Z"
      },
      {
        "duration": 6,
        "start_time": "2023-02-20T15:00:18.176Z"
      },
      {
        "duration": 7,
        "start_time": "2023-02-20T15:00:18.184Z"
      },
      {
        "duration": 7,
        "start_time": "2023-02-20T15:00:18.193Z"
      },
      {
        "duration": 453,
        "start_time": "2023-02-20T15:00:18.202Z"
      },
      {
        "duration": 3,
        "start_time": "2023-02-20T15:00:18.657Z"
      },
      {
        "duration": 13,
        "start_time": "2023-02-20T15:00:18.661Z"
      },
      {
        "duration": 6,
        "start_time": "2023-02-20T15:00:18.675Z"
      },
      {
        "duration": 7,
        "start_time": "2023-02-20T15:00:18.683Z"
      },
      {
        "duration": 4,
        "start_time": "2023-02-20T15:00:18.692Z"
      },
      {
        "duration": 16,
        "start_time": "2023-02-20T15:00:18.699Z"
      },
      {
        "duration": 10,
        "start_time": "2023-02-20T15:00:18.716Z"
      },
      {
        "duration": 44,
        "start_time": "2023-02-20T15:00:18.728Z"
      },
      {
        "duration": 27190,
        "start_time": "2023-02-20T15:00:18.773Z"
      },
      {
        "duration": 30,
        "start_time": "2023-02-20T15:00:45.965Z"
      },
      {
        "duration": 3,
        "start_time": "2023-02-20T15:00:45.997Z"
      },
      {
        "duration": 194,
        "start_time": "2023-02-20T15:00:46.002Z"
      },
      {
        "duration": 112,
        "start_time": "2023-02-20T15:23:30.250Z"
      },
      {
        "duration": 1463,
        "start_time": "2023-02-20T15:24:24.104Z"
      },
      {
        "duration": 126,
        "start_time": "2023-02-20T15:24:25.569Z"
      },
      {
        "duration": 17,
        "start_time": "2023-02-20T15:24:25.697Z"
      },
      {
        "duration": 29,
        "start_time": "2023-02-20T15:24:25.716Z"
      },
      {
        "duration": 4,
        "start_time": "2023-02-20T15:24:25.747Z"
      },
      {
        "duration": 6,
        "start_time": "2023-02-20T15:24:25.753Z"
      },
      {
        "duration": 8,
        "start_time": "2023-02-20T15:24:25.761Z"
      },
      {
        "duration": 388,
        "start_time": "2023-02-20T15:24:25.770Z"
      },
      {
        "duration": 3,
        "start_time": "2023-02-20T15:24:26.160Z"
      },
      {
        "duration": 19,
        "start_time": "2023-02-20T15:24:26.164Z"
      },
      {
        "duration": 5,
        "start_time": "2023-02-20T15:24:26.184Z"
      },
      {
        "duration": 10,
        "start_time": "2023-02-20T15:24:26.191Z"
      },
      {
        "duration": 5,
        "start_time": "2023-02-20T15:24:26.203Z"
      },
      {
        "duration": 3,
        "start_time": "2023-02-20T15:24:26.210Z"
      },
      {
        "duration": 12,
        "start_time": "2023-02-20T15:24:26.215Z"
      },
      {
        "duration": 38,
        "start_time": "2023-02-20T15:24:26.229Z"
      },
      {
        "duration": 30150,
        "start_time": "2023-02-20T15:24:26.268Z"
      },
      {
        "duration": 444,
        "start_time": "2023-02-20T15:24:56.419Z"
      },
      {
        "duration": 95,
        "start_time": "2023-02-20T15:24:56.866Z"
      },
      {
        "duration": 119,
        "start_time": "2023-02-20T15:24:56.963Z"
      },
      {
        "duration": 4,
        "start_time": "2023-02-20T15:24:57.085Z"
      },
      {
        "duration": 33,
        "start_time": "2023-02-20T15:25:03.082Z"
      },
      {
        "duration": 30299,
        "start_time": "2023-02-20T15:25:15.583Z"
      },
      {
        "duration": 440,
        "start_time": "2023-02-20T15:26:45.823Z"
      },
      {
        "duration": 30496,
        "start_time": "2023-02-20T15:26:53.472Z"
      },
      {
        "duration": 30,
        "start_time": "2023-02-20T15:27:23.969Z"
      },
      {
        "duration": 1309,
        "start_time": "2023-02-20T15:27:36.891Z"
      },
      {
        "duration": 30,
        "start_time": "2023-02-20T15:27:38.202Z"
      },
      {
        "duration": 18,
        "start_time": "2023-02-20T15:27:38.234Z"
      },
      {
        "duration": 29,
        "start_time": "2023-02-20T15:27:38.254Z"
      },
      {
        "duration": 5,
        "start_time": "2023-02-20T15:27:38.285Z"
      },
      {
        "duration": 6,
        "start_time": "2023-02-20T15:27:38.291Z"
      },
      {
        "duration": 12,
        "start_time": "2023-02-20T15:27:38.299Z"
      },
      {
        "duration": 375,
        "start_time": "2023-02-20T15:27:38.312Z"
      },
      {
        "duration": 3,
        "start_time": "2023-02-20T15:27:38.688Z"
      },
      {
        "duration": 11,
        "start_time": "2023-02-20T15:27:38.694Z"
      },
      {
        "duration": 7,
        "start_time": "2023-02-20T15:27:38.707Z"
      },
      {
        "duration": 16,
        "start_time": "2023-02-20T15:27:38.716Z"
      },
      {
        "duration": 5,
        "start_time": "2023-02-20T15:27:38.733Z"
      },
      {
        "duration": 22,
        "start_time": "2023-02-20T15:27:38.740Z"
      },
      {
        "duration": 4,
        "start_time": "2023-02-20T15:27:38.764Z"
      },
      {
        "duration": 37,
        "start_time": "2023-02-20T15:27:38.769Z"
      },
      {
        "duration": 33688,
        "start_time": "2023-02-20T15:27:38.808Z"
      },
      {
        "duration": 373,
        "start_time": "2023-02-20T15:28:12.498Z"
      },
      {
        "duration": 92,
        "start_time": "2023-02-20T15:28:12.873Z"
      },
      {
        "duration": 203,
        "start_time": "2023-02-20T15:28:12.968Z"
      },
      {
        "duration": 6,
        "start_time": "2023-02-20T15:28:13.173Z"
      },
      {
        "duration": 3952,
        "start_time": "2023-02-20T15:31:30.396Z"
      },
      {
        "duration": 5,
        "start_time": "2023-02-20T15:33:37.430Z"
      },
      {
        "duration": 3973,
        "start_time": "2023-02-20T15:33:58.021Z"
      },
      {
        "duration": 3890,
        "start_time": "2023-02-20T15:34:17.323Z"
      },
      {
        "duration": 111,
        "start_time": "2023-02-20T15:42:03.222Z"
      },
      {
        "duration": 4022,
        "start_time": "2023-02-20T15:42:14.949Z"
      },
      {
        "duration": 3971,
        "start_time": "2023-02-20T15:42:25.448Z"
      },
      {
        "duration": 1344,
        "start_time": "2023-02-20T15:42:55.369Z"
      },
      {
        "duration": 30,
        "start_time": "2023-02-20T15:42:56.715Z"
      },
      {
        "duration": 17,
        "start_time": "2023-02-20T15:42:56.746Z"
      },
      {
        "duration": 54,
        "start_time": "2023-02-20T15:42:56.765Z"
      },
      {
        "duration": 10,
        "start_time": "2023-02-20T15:42:56.821Z"
      },
      {
        "duration": 38,
        "start_time": "2023-02-20T15:42:56.833Z"
      },
      {
        "duration": 41,
        "start_time": "2023-02-20T15:42:56.872Z"
      },
      {
        "duration": 494,
        "start_time": "2023-02-20T15:42:56.916Z"
      },
      {
        "duration": 0,
        "start_time": "2023-02-20T15:42:57.412Z"
      },
      {
        "duration": 0,
        "start_time": "2023-02-20T15:42:57.413Z"
      },
      {
        "duration": 0,
        "start_time": "2023-02-20T15:42:57.415Z"
      },
      {
        "duration": 0,
        "start_time": "2023-02-20T15:42:57.416Z"
      },
      {
        "duration": 0,
        "start_time": "2023-02-20T15:42:57.417Z"
      },
      {
        "duration": 0,
        "start_time": "2023-02-20T15:42:57.419Z"
      },
      {
        "duration": 0,
        "start_time": "2023-02-20T15:42:57.420Z"
      },
      {
        "duration": 0,
        "start_time": "2023-02-20T15:42:57.422Z"
      },
      {
        "duration": 0,
        "start_time": "2023-02-20T15:42:57.423Z"
      },
      {
        "duration": 0,
        "start_time": "2023-02-20T15:42:57.425Z"
      },
      {
        "duration": 0,
        "start_time": "2023-02-20T15:42:57.427Z"
      },
      {
        "duration": 0,
        "start_time": "2023-02-20T15:42:57.428Z"
      },
      {
        "duration": 0,
        "start_time": "2023-02-20T15:42:57.430Z"
      },
      {
        "duration": 1335,
        "start_time": "2023-02-20T15:44:21.579Z"
      },
      {
        "duration": 33,
        "start_time": "2023-02-20T15:44:22.915Z"
      },
      {
        "duration": 16,
        "start_time": "2023-02-20T15:44:22.949Z"
      },
      {
        "duration": 28,
        "start_time": "2023-02-20T15:44:22.966Z"
      },
      {
        "duration": 6,
        "start_time": "2023-02-20T15:44:22.995Z"
      },
      {
        "duration": 6,
        "start_time": "2023-02-20T15:44:23.002Z"
      },
      {
        "duration": 11,
        "start_time": "2023-02-20T15:44:23.009Z"
      },
      {
        "duration": 378,
        "start_time": "2023-02-20T15:44:23.021Z"
      },
      {
        "duration": 2,
        "start_time": "2023-02-20T15:44:23.401Z"
      },
      {
        "duration": 11,
        "start_time": "2023-02-20T15:44:23.405Z"
      },
      {
        "duration": 11,
        "start_time": "2023-02-20T15:44:23.418Z"
      },
      {
        "duration": 10,
        "start_time": "2023-02-20T15:44:23.431Z"
      },
      {
        "duration": 10,
        "start_time": "2023-02-20T15:44:23.442Z"
      },
      {
        "duration": 9,
        "start_time": "2023-02-20T15:44:23.454Z"
      },
      {
        "duration": 8,
        "start_time": "2023-02-20T15:44:23.464Z"
      },
      {
        "duration": 39,
        "start_time": "2023-02-20T15:44:23.473Z"
      },
      {
        "duration": 3854,
        "start_time": "2023-02-20T15:44:23.513Z"
      },
      {
        "duration": 109,
        "start_time": "2023-02-20T15:44:27.369Z"
      },
      {
        "duration": 0,
        "start_time": "2023-02-20T15:44:27.479Z"
      },
      {
        "duration": 0,
        "start_time": "2023-02-20T15:44:27.481Z"
      },
      {
        "duration": 0,
        "start_time": "2023-02-20T15:44:27.482Z"
      },
      {
        "duration": 1292,
        "start_time": "2023-02-20T15:45:13.167Z"
      },
      {
        "duration": 29,
        "start_time": "2023-02-20T15:45:14.461Z"
      },
      {
        "duration": 16,
        "start_time": "2023-02-20T15:45:14.492Z"
      },
      {
        "duration": 38,
        "start_time": "2023-02-20T15:45:14.510Z"
      },
      {
        "duration": 5,
        "start_time": "2023-02-20T15:45:14.549Z"
      },
      {
        "duration": 10,
        "start_time": "2023-02-20T15:45:14.555Z"
      },
      {
        "duration": 8,
        "start_time": "2023-02-20T15:45:14.567Z"
      },
      {
        "duration": 103,
        "start_time": "2023-02-20T15:45:14.576Z"
      },
      {
        "duration": 0,
        "start_time": "2023-02-20T15:45:14.682Z"
      },
      {
        "duration": 0,
        "start_time": "2023-02-20T15:45:14.684Z"
      },
      {
        "duration": 0,
        "start_time": "2023-02-20T15:45:14.685Z"
      },
      {
        "duration": 0,
        "start_time": "2023-02-20T15:45:14.690Z"
      },
      {
        "duration": 0,
        "start_time": "2023-02-20T15:45:14.691Z"
      },
      {
        "duration": 0,
        "start_time": "2023-02-20T15:45:14.692Z"
      },
      {
        "duration": 0,
        "start_time": "2023-02-20T15:45:14.692Z"
      },
      {
        "duration": 0,
        "start_time": "2023-02-20T15:45:14.693Z"
      },
      {
        "duration": 0,
        "start_time": "2023-02-20T15:45:14.694Z"
      },
      {
        "duration": 0,
        "start_time": "2023-02-20T15:45:14.694Z"
      },
      {
        "duration": 0,
        "start_time": "2023-02-20T15:45:14.695Z"
      },
      {
        "duration": 0,
        "start_time": "2023-02-20T15:45:14.696Z"
      },
      {
        "duration": 0,
        "start_time": "2023-02-20T15:45:14.696Z"
      },
      {
        "duration": 1412,
        "start_time": "2023-02-20T15:45:44.066Z"
      },
      {
        "duration": 36,
        "start_time": "2023-02-20T15:45:45.479Z"
      },
      {
        "duration": 15,
        "start_time": "2023-02-20T15:45:45.516Z"
      },
      {
        "duration": 35,
        "start_time": "2023-02-20T15:45:45.532Z"
      },
      {
        "duration": 5,
        "start_time": "2023-02-20T15:45:45.568Z"
      },
      {
        "duration": 7,
        "start_time": "2023-02-20T15:45:45.575Z"
      },
      {
        "duration": 11,
        "start_time": "2023-02-20T15:45:45.584Z"
      },
      {
        "duration": 365,
        "start_time": "2023-02-20T15:45:45.596Z"
      },
      {
        "duration": 3,
        "start_time": "2023-02-20T15:45:45.962Z"
      },
      {
        "duration": 16,
        "start_time": "2023-02-20T15:45:45.967Z"
      },
      {
        "duration": 15,
        "start_time": "2023-02-20T15:45:45.985Z"
      },
      {
        "duration": 8,
        "start_time": "2023-02-20T15:45:46.001Z"
      },
      {
        "duration": 9,
        "start_time": "2023-02-20T15:45:46.010Z"
      },
      {
        "duration": 5,
        "start_time": "2023-02-20T15:45:46.021Z"
      },
      {
        "duration": 6,
        "start_time": "2023-02-20T15:45:46.028Z"
      },
      {
        "duration": 41,
        "start_time": "2023-02-20T15:45:46.035Z"
      },
      {
        "duration": 3950,
        "start_time": "2023-02-20T15:45:46.077Z"
      },
      {
        "duration": 434,
        "start_time": "2023-02-20T15:45:50.029Z"
      },
      {
        "duration": 95,
        "start_time": "2023-02-20T15:45:50.467Z"
      },
      {
        "duration": 123,
        "start_time": "2023-02-20T15:45:50.563Z"
      },
      {
        "duration": 5,
        "start_time": "2023-02-20T15:45:50.687Z"
      },
      {
        "duration": 1420,
        "start_time": "2023-02-20T15:46:23.972Z"
      },
      {
        "duration": 30,
        "start_time": "2023-02-20T15:46:25.393Z"
      },
      {
        "duration": 13,
        "start_time": "2023-02-20T15:46:25.425Z"
      },
      {
        "duration": 31,
        "start_time": "2023-02-20T15:46:25.440Z"
      },
      {
        "duration": 5,
        "start_time": "2023-02-20T15:46:25.473Z"
      },
      {
        "duration": 10,
        "start_time": "2023-02-20T15:46:25.479Z"
      },
      {
        "duration": 21,
        "start_time": "2023-02-20T15:46:25.491Z"
      },
      {
        "duration": 359,
        "start_time": "2023-02-20T15:46:25.514Z"
      },
      {
        "duration": 2,
        "start_time": "2023-02-20T15:46:25.874Z"
      },
      {
        "duration": 24,
        "start_time": "2023-02-20T15:46:25.878Z"
      },
      {
        "duration": 15,
        "start_time": "2023-02-20T15:46:25.903Z"
      },
      {
        "duration": 11,
        "start_time": "2023-02-20T15:46:25.919Z"
      },
      {
        "duration": 6,
        "start_time": "2023-02-20T15:46:25.932Z"
      },
      {
        "duration": 8,
        "start_time": "2023-02-20T15:46:25.939Z"
      },
      {
        "duration": 8,
        "start_time": "2023-02-20T15:46:25.949Z"
      },
      {
        "duration": 43,
        "start_time": "2023-02-20T15:46:25.959Z"
      },
      {
        "duration": 4016,
        "start_time": "2023-02-20T15:46:26.004Z"
      },
      {
        "duration": 441,
        "start_time": "2023-02-20T15:46:30.022Z"
      },
      {
        "duration": 95,
        "start_time": "2023-02-20T15:46:30.466Z"
      },
      {
        "duration": 130,
        "start_time": "2023-02-20T15:46:30.563Z"
      },
      {
        "duration": 5,
        "start_time": "2023-02-20T15:46:30.695Z"
      },
      {
        "duration": 1393,
        "start_time": "2023-02-20T15:48:13.596Z"
      },
      {
        "duration": 31,
        "start_time": "2023-02-20T15:48:14.991Z"
      },
      {
        "duration": 15,
        "start_time": "2023-02-20T15:48:15.024Z"
      },
      {
        "duration": 32,
        "start_time": "2023-02-20T15:48:15.041Z"
      },
      {
        "duration": 5,
        "start_time": "2023-02-20T15:48:15.075Z"
      },
      {
        "duration": 4,
        "start_time": "2023-02-20T15:48:15.081Z"
      },
      {
        "duration": 7,
        "start_time": "2023-02-20T15:48:15.086Z"
      },
      {
        "duration": 369,
        "start_time": "2023-02-20T15:48:15.095Z"
      },
      {
        "duration": 3,
        "start_time": "2023-02-20T15:48:15.466Z"
      },
      {
        "duration": 17,
        "start_time": "2023-02-20T15:48:15.471Z"
      },
      {
        "duration": 6,
        "start_time": "2023-02-20T15:48:15.489Z"
      },
      {
        "duration": 9,
        "start_time": "2023-02-20T15:48:15.496Z"
      },
      {
        "duration": 7,
        "start_time": "2023-02-20T15:48:15.506Z"
      },
      {
        "duration": 7,
        "start_time": "2023-02-20T15:48:15.515Z"
      },
      {
        "duration": 12,
        "start_time": "2023-02-20T15:48:15.524Z"
      },
      {
        "duration": 43,
        "start_time": "2023-02-20T15:48:15.537Z"
      },
      {
        "duration": 4114,
        "start_time": "2023-02-20T15:48:15.582Z"
      },
      {
        "duration": 465,
        "start_time": "2023-02-20T15:48:19.698Z"
      },
      {
        "duration": 4,
        "start_time": "2023-02-20T15:48:20.165Z"
      },
      {
        "duration": 208,
        "start_time": "2023-02-20T15:48:20.171Z"
      },
      {
        "duration": 4,
        "start_time": "2023-02-20T15:48:20.381Z"
      },
      {
        "duration": 1331,
        "start_time": "2023-02-20T15:48:46.976Z"
      },
      {
        "duration": 30,
        "start_time": "2023-02-20T15:48:48.308Z"
      },
      {
        "duration": 14,
        "start_time": "2023-02-20T15:48:48.340Z"
      },
      {
        "duration": 32,
        "start_time": "2023-02-20T15:48:48.355Z"
      },
      {
        "duration": 4,
        "start_time": "2023-02-20T15:48:48.389Z"
      },
      {
        "duration": 6,
        "start_time": "2023-02-20T15:48:48.395Z"
      },
      {
        "duration": 7,
        "start_time": "2023-02-20T15:48:48.403Z"
      },
      {
        "duration": 385,
        "start_time": "2023-02-20T15:48:48.411Z"
      },
      {
        "duration": 2,
        "start_time": "2023-02-20T15:48:48.798Z"
      },
      {
        "duration": 14,
        "start_time": "2023-02-20T15:48:48.802Z"
      },
      {
        "duration": 5,
        "start_time": "2023-02-20T15:48:48.817Z"
      },
      {
        "duration": 9,
        "start_time": "2023-02-20T15:48:48.824Z"
      },
      {
        "duration": 9,
        "start_time": "2023-02-20T15:48:48.835Z"
      },
      {
        "duration": 17,
        "start_time": "2023-02-20T15:48:48.845Z"
      },
      {
        "duration": 3,
        "start_time": "2023-02-20T15:48:48.863Z"
      },
      {
        "duration": 37,
        "start_time": "2023-02-20T15:48:48.868Z"
      },
      {
        "duration": 3848,
        "start_time": "2023-02-20T15:48:48.907Z"
      },
      {
        "duration": 310,
        "start_time": "2023-02-20T15:48:52.760Z"
      },
      {
        "duration": 94,
        "start_time": "2023-02-20T15:48:53.072Z"
      },
      {
        "duration": 216,
        "start_time": "2023-02-20T15:48:53.168Z"
      },
      {
        "duration": 5,
        "start_time": "2023-02-20T15:48:53.386Z"
      },
      {
        "duration": 2,
        "start_time": "2023-02-20T15:49:33.221Z"
      },
      {
        "duration": 1366,
        "start_time": "2023-02-20T15:50:19.566Z"
      },
      {
        "duration": 30,
        "start_time": "2023-02-20T15:50:20.933Z"
      },
      {
        "duration": 14,
        "start_time": "2023-02-20T15:50:20.965Z"
      },
      {
        "duration": 34,
        "start_time": "2023-02-20T15:50:20.981Z"
      },
      {
        "duration": 5,
        "start_time": "2023-02-20T15:50:21.017Z"
      },
      {
        "duration": 9,
        "start_time": "2023-02-20T15:50:21.024Z"
      },
      {
        "duration": 30,
        "start_time": "2023-02-20T15:50:21.035Z"
      },
      {
        "duration": 361,
        "start_time": "2023-02-20T15:50:21.066Z"
      },
      {
        "duration": 3,
        "start_time": "2023-02-20T15:50:21.429Z"
      },
      {
        "duration": 11,
        "start_time": "2023-02-20T15:50:21.434Z"
      },
      {
        "duration": 9,
        "start_time": "2023-02-20T15:50:21.446Z"
      },
      {
        "duration": 11,
        "start_time": "2023-02-20T15:50:21.456Z"
      },
      {
        "duration": 14,
        "start_time": "2023-02-20T15:50:21.469Z"
      },
      {
        "duration": 13,
        "start_time": "2023-02-20T15:50:21.485Z"
      },
      {
        "duration": 9,
        "start_time": "2023-02-20T15:50:21.500Z"
      },
      {
        "duration": 35,
        "start_time": "2023-02-20T15:50:21.511Z"
      },
      {
        "duration": 4075,
        "start_time": "2023-02-20T15:50:21.548Z"
      },
      {
        "duration": 445,
        "start_time": "2023-02-20T15:50:25.625Z"
      },
      {
        "duration": 95,
        "start_time": "2023-02-20T15:50:26.072Z"
      },
      {
        "duration": 202,
        "start_time": "2023-02-20T15:50:26.175Z"
      },
      {
        "duration": 5,
        "start_time": "2023-02-20T15:50:26.379Z"
      },
      {
        "duration": 50,
        "start_time": "2023-02-20T15:52:40.403Z"
      },
      {
        "duration": 103,
        "start_time": "2023-02-20T15:52:57.086Z"
      },
      {
        "duration": 11,
        "start_time": "2023-02-20T15:53:20.098Z"
      },
      {
        "duration": 3924,
        "start_time": "2023-02-20T15:53:31.861Z"
      },
      {
        "duration": 10761,
        "start_time": "2023-02-20T15:53:44.391Z"
      },
      {
        "duration": 1622,
        "start_time": "2023-02-20T15:54:04.468Z"
      },
      {
        "duration": 1605,
        "start_time": "2023-02-20T15:59:23.664Z"
      },
      {
        "duration": 5,
        "start_time": "2023-02-20T16:00:27.001Z"
      },
      {
        "duration": 5,
        "start_time": "2023-02-20T16:00:43.139Z"
      },
      {
        "duration": 1539,
        "start_time": "2023-02-20T16:00:54.952Z"
      },
      {
        "duration": 13390,
        "start_time": "2023-02-20T16:01:06.834Z"
      },
      {
        "duration": 777,
        "start_time": "2023-02-20T16:02:04.561Z"
      },
      {
        "duration": 1606,
        "start_time": "2023-02-20T16:02:13.104Z"
      },
      {
        "duration": 2216,
        "start_time": "2023-02-20T16:02:20.888Z"
      },
      {
        "duration": 1776,
        "start_time": "2023-02-20T16:02:31.817Z"
      },
      {
        "duration": 1594,
        "start_time": "2023-02-20T16:02:41.552Z"
      },
      {
        "duration": 695,
        "start_time": "2023-02-20T16:02:48.530Z"
      },
      {
        "duration": 1366,
        "start_time": "2023-02-20T16:02:57.546Z"
      },
      {
        "duration": 677,
        "start_time": "2023-02-20T16:03:07.265Z"
      },
      {
        "duration": 5,
        "start_time": "2023-02-20T16:03:13.289Z"
      },
      {
        "duration": 243,
        "start_time": "2023-02-20T16:03:19.025Z"
      },
      {
        "duration": 33,
        "start_time": "2023-02-20T16:03:28.929Z"
      },
      {
        "duration": 2849,
        "start_time": "2023-02-20T16:03:39.720Z"
      },
      {
        "duration": 714,
        "start_time": "2023-02-20T16:03:50.266Z"
      },
      {
        "duration": 1781,
        "start_time": "2023-02-20T16:03:59.386Z"
      },
      {
        "duration": 1787,
        "start_time": "2023-02-20T16:04:06.538Z"
      },
      {
        "duration": 11,
        "start_time": "2023-02-20T16:05:37.236Z"
      },
      {
        "duration": 36,
        "start_time": "2023-02-20T16:05:59.418Z"
      },
      {
        "duration": 36130,
        "start_time": "2023-02-20T16:06:47.948Z"
      },
      {
        "duration": 3113,
        "start_time": "2023-02-20T16:08:17.212Z"
      },
      {
        "duration": 8416,
        "start_time": "2023-02-20T16:08:35.836Z"
      },
      {
        "duration": 3340,
        "start_time": "2023-02-20T16:08:58.700Z"
      },
      {
        "duration": 4442,
        "start_time": "2023-02-20T16:11:39.948Z"
      },
      {
        "duration": 4360,
        "start_time": "2023-02-20T16:11:56.564Z"
      },
      {
        "duration": 6121,
        "start_time": "2023-02-20T16:12:14.459Z"
      },
      {
        "duration": 12698,
        "start_time": "2023-02-20T16:13:03.356Z"
      },
      {
        "duration": 36722,
        "start_time": "2023-02-20T16:13:48.576Z"
      },
      {
        "duration": 6341,
        "start_time": "2023-02-20T16:15:48.214Z"
      },
      {
        "duration": 6424,
        "start_time": "2023-02-20T16:16:22.008Z"
      },
      {
        "duration": 2620,
        "start_time": "2023-02-20T16:17:02.191Z"
      },
      {
        "duration": 19402,
        "start_time": "2023-02-20T16:17:12.774Z"
      },
      {
        "duration": 29,
        "start_time": "2023-02-20T16:17:32.179Z"
      },
      {
        "duration": 5026,
        "start_time": "2023-02-20T16:17:54.611Z"
      },
      {
        "duration": 5333,
        "start_time": "2023-02-20T16:18:12.276Z"
      },
      {
        "duration": 3648,
        "start_time": "2023-02-20T16:18:26.693Z"
      },
      {
        "duration": 1414,
        "start_time": "2023-02-20T16:19:01.279Z"
      },
      {
        "duration": 32,
        "start_time": "2023-02-20T16:19:02.696Z"
      },
      {
        "duration": 15,
        "start_time": "2023-02-20T16:19:02.729Z"
      },
      {
        "duration": 32,
        "start_time": "2023-02-20T16:19:02.746Z"
      },
      {
        "duration": 5,
        "start_time": "2023-02-20T16:19:02.780Z"
      },
      {
        "duration": 12,
        "start_time": "2023-02-20T16:19:02.786Z"
      },
      {
        "duration": 9,
        "start_time": "2023-02-20T16:19:02.799Z"
      },
      {
        "duration": 411,
        "start_time": "2023-02-20T16:19:02.810Z"
      },
      {
        "duration": 2,
        "start_time": "2023-02-20T16:19:03.223Z"
      },
      {
        "duration": 8,
        "start_time": "2023-02-20T16:19:03.227Z"
      },
      {
        "duration": 9,
        "start_time": "2023-02-20T16:19:03.236Z"
      },
      {
        "duration": 24,
        "start_time": "2023-02-20T16:19:03.246Z"
      },
      {
        "duration": 23,
        "start_time": "2023-02-20T16:19:03.272Z"
      },
      {
        "duration": 9,
        "start_time": "2023-02-20T16:19:03.297Z"
      },
      {
        "duration": 24,
        "start_time": "2023-02-20T16:19:03.308Z"
      },
      {
        "duration": 47,
        "start_time": "2023-02-20T16:19:03.334Z"
      },
      {
        "duration": 3529,
        "start_time": "2023-02-20T16:19:03.383Z"
      },
      {
        "duration": 648,
        "start_time": "2023-02-20T16:19:06.914Z"
      },
      {
        "duration": 10,
        "start_time": "2023-02-20T16:19:07.565Z"
      },
      {
        "duration": 214,
        "start_time": "2023-02-20T16:19:07.583Z"
      },
      {
        "duration": 4,
        "start_time": "2023-02-20T16:19:07.799Z"
      },
      {
        "duration": 128,
        "start_time": "2023-02-20T16:20:26.275Z"
      },
      {
        "duration": 201,
        "start_time": "2023-02-20T16:21:00.433Z"
      },
      {
        "duration": 194,
        "start_time": "2023-02-20T16:21:09.362Z"
      },
      {
        "duration": 12308,
        "start_time": "2023-02-20T16:22:07.906Z"
      },
      {
        "duration": 32609,
        "start_time": "2023-02-20T16:22:31.200Z"
      },
      {
        "duration": 685,
        "start_time": "2023-02-20T16:23:08.578Z"
      },
      {
        "duration": 7,
        "start_time": "2023-02-20T16:23:09.265Z"
      },
      {
        "duration": 225,
        "start_time": "2023-02-20T16:23:11.624Z"
      },
      {
        "duration": 4636,
        "start_time": "2023-02-20T16:24:04.253Z"
      },
      {
        "duration": 10589,
        "start_time": "2023-02-20T16:24:17.330Z"
      },
      {
        "duration": 7035,
        "start_time": "2023-02-20T16:24:37.744Z"
      },
      {
        "duration": 1109,
        "start_time": "2023-02-20T16:24:49.154Z"
      },
      {
        "duration": 11,
        "start_time": "2023-02-20T16:24:50.269Z"
      },
      {
        "duration": 376,
        "start_time": "2023-02-20T16:24:55.152Z"
      },
      {
        "duration": 1414,
        "start_time": "2023-02-20T16:25:09.713Z"
      },
      {
        "duration": 870,
        "start_time": "2023-02-20T16:25:41.792Z"
      },
      {
        "duration": 474,
        "start_time": "2023-02-20T16:25:47.697Z"
      },
      {
        "duration": 92,
        "start_time": "2023-02-20T16:25:48.174Z"
      },
      {
        "duration": 275,
        "start_time": "2023-02-20T16:25:50.111Z"
      },
      {
        "duration": 292,
        "start_time": "2023-02-20T16:26:01.828Z"
      },
      {
        "duration": 1349,
        "start_time": "2023-02-20T16:26:08.699Z"
      },
      {
        "duration": 39,
        "start_time": "2023-02-20T16:26:10.050Z"
      },
      {
        "duration": 18,
        "start_time": "2023-02-20T16:26:10.091Z"
      },
      {
        "duration": 30,
        "start_time": "2023-02-20T16:26:10.112Z"
      },
      {
        "duration": 5,
        "start_time": "2023-02-20T16:26:10.143Z"
      },
      {
        "duration": 4,
        "start_time": "2023-02-20T16:26:10.149Z"
      },
      {
        "duration": 25,
        "start_time": "2023-02-20T16:26:10.155Z"
      },
      {
        "duration": 358,
        "start_time": "2023-02-20T16:26:10.182Z"
      },
      {
        "duration": 2,
        "start_time": "2023-02-20T16:26:10.542Z"
      },
      {
        "duration": 15,
        "start_time": "2023-02-20T16:26:10.561Z"
      },
      {
        "duration": 8,
        "start_time": "2023-02-20T16:26:10.578Z"
      },
      {
        "duration": 8,
        "start_time": "2023-02-20T16:26:10.588Z"
      },
      {
        "duration": 5,
        "start_time": "2023-02-20T16:26:10.597Z"
      },
      {
        "duration": 8,
        "start_time": "2023-02-20T16:26:10.603Z"
      },
      {
        "duration": 6,
        "start_time": "2023-02-20T16:26:10.612Z"
      },
      {
        "duration": 35,
        "start_time": "2023-02-20T16:26:10.620Z"
      },
      {
        "duration": 580,
        "start_time": "2023-02-20T16:26:10.661Z"
      },
      {
        "duration": 729,
        "start_time": "2023-02-20T16:26:11.242Z"
      },
      {
        "duration": 90,
        "start_time": "2023-02-20T16:26:11.974Z"
      },
      {
        "duration": 198,
        "start_time": "2023-02-20T16:26:12.066Z"
      },
      {
        "duration": 6,
        "start_time": "2023-02-20T16:26:12.266Z"
      },
      {
        "duration": 2458,
        "start_time": "2023-02-20T16:27:52.173Z"
      },
      {
        "duration": 966,
        "start_time": "2023-02-20T16:28:06.021Z"
      },
      {
        "duration": 1044,
        "start_time": "2023-02-20T16:28:16.814Z"
      },
      {
        "duration": 61,
        "start_time": "2023-02-20T16:29:09.950Z"
      },
      {
        "duration": 3,
        "start_time": "2023-02-20T16:29:16.512Z"
      },
      {
        "duration": 34,
        "start_time": "2023-02-20T16:29:20.589Z"
      },
      {
        "duration": 5,
        "start_time": "2023-02-20T16:29:31.042Z"
      },
      {
        "duration": 975,
        "start_time": "2023-02-20T16:30:18.874Z"
      },
      {
        "duration": 798,
        "start_time": "2023-02-20T16:32:25.954Z"
      },
      {
        "duration": 803,
        "start_time": "2023-02-20T16:32:43.830Z"
      },
      {
        "duration": 7,
        "start_time": "2023-02-20T16:35:50.808Z"
      },
      {
        "duration": 159,
        "start_time": "2023-02-20T16:35:58.168Z"
      },
      {
        "duration": 1031,
        "start_time": "2023-02-20T16:36:04.687Z"
      },
      {
        "duration": 3333,
        "start_time": "2023-02-20T16:36:12.686Z"
      },
      {
        "duration": 3176,
        "start_time": "2023-02-20T16:36:46.360Z"
      },
      {
        "duration": 2502,
        "start_time": "2023-02-20T16:36:58.153Z"
      },
      {
        "duration": 988,
        "start_time": "2023-02-20T16:37:13.457Z"
      },
      {
        "duration": 1049,
        "start_time": "2023-02-20T16:37:18.192Z"
      },
      {
        "duration": 999,
        "start_time": "2023-02-20T16:37:30.504Z"
      },
      {
        "duration": 828,
        "start_time": "2023-02-20T16:37:41.376Z"
      },
      {
        "duration": 807,
        "start_time": "2023-02-20T16:37:50.263Z"
      },
      {
        "duration": 1402,
        "start_time": "2023-02-20T16:37:58.159Z"
      },
      {
        "duration": 31,
        "start_time": "2023-02-20T16:37:59.563Z"
      },
      {
        "duration": 15,
        "start_time": "2023-02-20T16:37:59.596Z"
      },
      {
        "duration": 31,
        "start_time": "2023-02-20T16:37:59.613Z"
      },
      {
        "duration": 5,
        "start_time": "2023-02-20T16:37:59.646Z"
      },
      {
        "duration": 11,
        "start_time": "2023-02-20T16:37:59.653Z"
      },
      {
        "duration": 12,
        "start_time": "2023-02-20T16:37:59.666Z"
      },
      {
        "duration": 370,
        "start_time": "2023-02-20T16:37:59.679Z"
      },
      {
        "duration": 3,
        "start_time": "2023-02-20T16:38:00.050Z"
      },
      {
        "duration": 30,
        "start_time": "2023-02-20T16:38:00.055Z"
      },
      {
        "duration": 21,
        "start_time": "2023-02-20T16:38:00.087Z"
      },
      {
        "duration": 23,
        "start_time": "2023-02-20T16:38:00.110Z"
      },
      {
        "duration": 16,
        "start_time": "2023-02-20T16:38:00.135Z"
      },
      {
        "duration": 34,
        "start_time": "2023-02-20T16:38:00.154Z"
      },
      {
        "duration": 23,
        "start_time": "2023-02-20T16:38:00.190Z"
      },
      {
        "duration": 64,
        "start_time": "2023-02-20T16:38:00.215Z"
      },
      {
        "duration": 2735,
        "start_time": "2023-02-20T16:38:00.281Z"
      },
      {
        "duration": 444,
        "start_time": "2023-02-20T16:38:03.018Z"
      },
      {
        "duration": 5,
        "start_time": "2023-02-20T16:38:03.465Z"
      },
      {
        "duration": 790,
        "start_time": "2023-02-20T16:38:03.472Z"
      },
      {
        "duration": 5,
        "start_time": "2023-02-20T16:38:04.264Z"
      },
      {
        "duration": 868,
        "start_time": "2023-02-20T16:38:25.128Z"
      },
      {
        "duration": 690,
        "start_time": "2023-02-20T16:38:45.864Z"
      },
      {
        "duration": 862,
        "start_time": "2023-02-20T16:38:56.702Z"
      },
      {
        "duration": 729,
        "start_time": "2023-02-20T16:39:02.385Z"
      },
      {
        "duration": 3339,
        "start_time": "2023-02-20T16:39:16.616Z"
      },
      {
        "duration": 298,
        "start_time": "2023-02-20T16:39:21.770Z"
      },
      {
        "duration": 5,
        "start_time": "2023-02-20T16:39:22.320Z"
      },
      {
        "duration": 685,
        "start_time": "2023-02-20T16:39:25.889Z"
      },
      {
        "duration": 2592,
        "start_time": "2023-02-20T16:39:40.081Z"
      },
      {
        "duration": 18252,
        "start_time": "2023-02-20T16:40:08.691Z"
      },
      {
        "duration": 2494,
        "start_time": "2023-02-20T16:40:33.546Z"
      },
      {
        "duration": 356,
        "start_time": "2023-02-20T16:40:40.513Z"
      },
      {
        "duration": 5,
        "start_time": "2023-02-20T16:40:40.962Z"
      },
      {
        "duration": 708,
        "start_time": "2023-02-20T16:40:45.804Z"
      },
      {
        "duration": 877,
        "start_time": "2023-02-20T16:41:05.705Z"
      },
      {
        "duration": 43,
        "start_time": "2023-02-20T16:41:21.236Z"
      },
      {
        "duration": 1377,
        "start_time": "2023-02-20T16:41:30.350Z"
      },
      {
        "duration": 32,
        "start_time": "2023-02-20T16:41:31.729Z"
      },
      {
        "duration": 23,
        "start_time": "2023-02-20T16:41:31.762Z"
      },
      {
        "duration": 41,
        "start_time": "2023-02-20T16:41:31.787Z"
      },
      {
        "duration": 5,
        "start_time": "2023-02-20T16:41:31.829Z"
      },
      {
        "duration": 13,
        "start_time": "2023-02-20T16:41:31.835Z"
      },
      {
        "duration": 22,
        "start_time": "2023-02-20T16:41:31.850Z"
      },
      {
        "duration": 388,
        "start_time": "2023-02-20T16:41:31.874Z"
      },
      {
        "duration": 3,
        "start_time": "2023-02-20T16:41:32.263Z"
      },
      {
        "duration": 13,
        "start_time": "2023-02-20T16:41:32.268Z"
      },
      {
        "duration": 14,
        "start_time": "2023-02-20T16:41:32.283Z"
      },
      {
        "duration": 33,
        "start_time": "2023-02-20T16:41:32.298Z"
      },
      {
        "duration": 19,
        "start_time": "2023-02-20T16:41:32.333Z"
      },
      {
        "duration": 25,
        "start_time": "2023-02-20T16:41:32.354Z"
      },
      {
        "duration": 6,
        "start_time": "2023-02-20T16:41:32.381Z"
      },
      {
        "duration": 48,
        "start_time": "2023-02-20T16:41:32.389Z"
      },
      {
        "duration": 2326,
        "start_time": "2023-02-20T16:41:32.438Z"
      },
      {
        "duration": 298,
        "start_time": "2023-02-20T16:41:34.765Z"
      },
      {
        "duration": 5,
        "start_time": "2023-02-20T16:41:35.065Z"
      },
      {
        "duration": 249,
        "start_time": "2023-02-20T16:41:35.071Z"
      },
      {
        "duration": 5,
        "start_time": "2023-02-20T16:41:35.321Z"
      },
      {
        "duration": 47,
        "start_time": "2023-02-20T16:42:01.524Z"
      },
      {
        "duration": 107,
        "start_time": "2023-02-20T16:42:26.965Z"
      },
      {
        "duration": 3733,
        "start_time": "2023-02-20T16:42:40.079Z"
      },
      {
        "duration": 2291,
        "start_time": "2023-02-20T16:42:51.516Z"
      },
      {
        "duration": 1376,
        "start_time": "2023-02-20T16:43:04.172Z"
      },
      {
        "duration": 18129,
        "start_time": "2023-02-20T16:43:14.116Z"
      },
      {
        "duration": 1319,
        "start_time": "2023-02-20T16:43:46.808Z"
      },
      {
        "duration": 30,
        "start_time": "2023-02-20T16:43:48.129Z"
      },
      {
        "duration": 17,
        "start_time": "2023-02-20T16:43:48.161Z"
      },
      {
        "duration": 38,
        "start_time": "2023-02-20T16:43:48.181Z"
      },
      {
        "duration": 5,
        "start_time": "2023-02-20T16:43:48.221Z"
      },
      {
        "duration": 35,
        "start_time": "2023-02-20T16:43:48.227Z"
      },
      {
        "duration": 6,
        "start_time": "2023-02-20T16:43:48.264Z"
      },
      {
        "duration": 369,
        "start_time": "2023-02-20T16:43:48.272Z"
      },
      {
        "duration": 3,
        "start_time": "2023-02-20T16:43:48.642Z"
      },
      {
        "duration": 14,
        "start_time": "2023-02-20T16:43:48.647Z"
      },
      {
        "duration": 6,
        "start_time": "2023-02-20T16:43:48.663Z"
      },
      {
        "duration": 16,
        "start_time": "2023-02-20T16:43:48.671Z"
      },
      {
        "duration": 9,
        "start_time": "2023-02-20T16:43:48.688Z"
      },
      {
        "duration": 6,
        "start_time": "2023-02-20T16:43:48.698Z"
      },
      {
        "duration": 5,
        "start_time": "2023-02-20T16:43:48.705Z"
      },
      {
        "duration": 49,
        "start_time": "2023-02-20T16:43:48.712Z"
      },
      {
        "duration": 2276,
        "start_time": "2023-02-20T16:43:48.763Z"
      },
      {
        "duration": 323,
        "start_time": "2023-02-20T16:43:51.040Z"
      },
      {
        "duration": 5,
        "start_time": "2023-02-20T16:43:51.366Z"
      },
      {
        "duration": 196,
        "start_time": "2023-02-20T16:43:51.373Z"
      },
      {
        "duration": 5,
        "start_time": "2023-02-20T16:43:51.571Z"
      },
      {
        "duration": 165,
        "start_time": "2023-02-20T16:46:03.687Z"
      },
      {
        "duration": 100,
        "start_time": "2023-02-20T16:49:26.234Z"
      },
      {
        "duration": 156,
        "start_time": "2023-02-20T16:49:33.089Z"
      },
      {
        "duration": 61,
        "start_time": "2023-02-20T16:49:39.011Z"
      },
      {
        "duration": 62,
        "start_time": "2023-02-20T16:49:42.661Z"
      },
      {
        "duration": 159,
        "start_time": "2023-02-20T16:49:50.770Z"
      },
      {
        "duration": 168,
        "start_time": "2023-02-20T16:49:57.826Z"
      },
      {
        "duration": 2272,
        "start_time": "2023-02-20T16:51:27.038Z"
      },
      {
        "duration": 500,
        "start_time": "2023-02-20T16:51:39.063Z"
      },
      {
        "duration": 3,
        "start_time": "2023-02-20T16:51:40.887Z"
      },
      {
        "duration": 158,
        "start_time": "2023-02-20T16:51:51.307Z"
      },
      {
        "duration": 1379,
        "start_time": "2023-02-20T16:51:57.931Z"
      },
      {
        "duration": 32,
        "start_time": "2023-02-20T16:51:59.312Z"
      },
      {
        "duration": 15,
        "start_time": "2023-02-20T16:51:59.345Z"
      },
      {
        "duration": 31,
        "start_time": "2023-02-20T16:51:59.362Z"
      },
      {
        "duration": 5,
        "start_time": "2023-02-20T16:51:59.395Z"
      },
      {
        "duration": 6,
        "start_time": "2023-02-20T16:51:59.401Z"
      },
      {
        "duration": 7,
        "start_time": "2023-02-20T16:51:59.409Z"
      },
      {
        "duration": 396,
        "start_time": "2023-02-20T16:51:59.417Z"
      },
      {
        "duration": 3,
        "start_time": "2023-02-20T16:51:59.815Z"
      },
      {
        "duration": 3,
        "start_time": "2023-02-20T16:51:59.821Z"
      },
      {
        "duration": 7,
        "start_time": "2023-02-20T16:51:59.826Z"
      },
      {
        "duration": 8,
        "start_time": "2023-02-20T16:51:59.835Z"
      },
      {
        "duration": 19,
        "start_time": "2023-02-20T16:51:59.845Z"
      },
      {
        "duration": 8,
        "start_time": "2023-02-20T16:51:59.865Z"
      },
      {
        "duration": 7,
        "start_time": "2023-02-20T16:51:59.875Z"
      },
      {
        "duration": 34,
        "start_time": "2023-02-20T16:51:59.883Z"
      },
      {
        "duration": 2369,
        "start_time": "2023-02-20T16:51:59.919Z"
      },
      {
        "duration": 972,
        "start_time": "2023-02-20T16:52:02.290Z"
      },
      {
        "duration": 99,
        "start_time": "2023-02-20T16:52:03.265Z"
      },
      {
        "duration": 208,
        "start_time": "2023-02-20T16:52:03.366Z"
      },
      {
        "duration": 6,
        "start_time": "2023-02-20T16:52:03.577Z"
      },
      {
        "duration": 118,
        "start_time": "2023-02-20T16:52:18.134Z"
      },
      {
        "duration": 1352,
        "start_time": "2023-02-20T16:53:31.011Z"
      },
      {
        "duration": 30,
        "start_time": "2023-02-20T16:53:32.364Z"
      },
      {
        "duration": 14,
        "start_time": "2023-02-20T16:53:32.396Z"
      },
      {
        "duration": 28,
        "start_time": "2023-02-20T16:53:32.412Z"
      },
      {
        "duration": 6,
        "start_time": "2023-02-20T16:53:32.441Z"
      },
      {
        "duration": 16,
        "start_time": "2023-02-20T16:53:32.449Z"
      },
      {
        "duration": 19,
        "start_time": "2023-02-20T16:53:32.467Z"
      },
      {
        "duration": 374,
        "start_time": "2023-02-20T16:53:32.489Z"
      },
      {
        "duration": 2,
        "start_time": "2023-02-20T16:53:32.864Z"
      },
      {
        "duration": 9,
        "start_time": "2023-02-20T16:53:32.870Z"
      },
      {
        "duration": 8,
        "start_time": "2023-02-20T16:53:32.880Z"
      },
      {
        "duration": 18,
        "start_time": "2023-02-20T16:53:32.889Z"
      },
      {
        "duration": 34,
        "start_time": "2023-02-20T16:53:32.909Z"
      },
      {
        "duration": 10,
        "start_time": "2023-02-20T16:53:32.944Z"
      },
      {
        "duration": 8,
        "start_time": "2023-02-20T16:53:32.955Z"
      },
      {
        "duration": 33,
        "start_time": "2023-02-20T16:53:32.965Z"
      },
      {
        "duration": 2294,
        "start_time": "2023-02-20T16:53:33.000Z"
      },
      {
        "duration": 274,
        "start_time": "2023-02-20T16:53:35.297Z"
      },
      {
        "duration": 90,
        "start_time": "2023-02-20T16:53:35.572Z"
      },
      {
        "duration": 216,
        "start_time": "2023-02-20T16:53:35.665Z"
      },
      {
        "duration": 5,
        "start_time": "2023-02-20T16:53:35.882Z"
      },
      {
        "duration": 107,
        "start_time": "2023-02-20T16:53:47.408Z"
      },
      {
        "duration": 362,
        "start_time": "2023-02-20T16:54:04.307Z"
      },
      {
        "duration": 2370,
        "start_time": "2023-02-20T16:54:10.374Z"
      },
      {
        "duration": 2353,
        "start_time": "2023-02-20T16:54:19.325Z"
      },
      {
        "duration": 33,
        "start_time": "2023-02-20T16:54:28.658Z"
      },
      {
        "duration": 6792,
        "start_time": "2023-02-20T16:54:38.411Z"
      },
      {
        "duration": 6127,
        "start_time": "2023-02-20T16:54:45.449Z"
      },
      {
        "duration": 2425,
        "start_time": "2023-02-20T16:56:26.439Z"
      },
      {
        "duration": 129,
        "start_time": "2023-02-20T16:56:42.920Z"
      },
      {
        "duration": 109,
        "start_time": "2023-02-20T16:56:53.042Z"
      },
      {
        "duration": 1435,
        "start_time": "2023-02-20T16:57:13.631Z"
      },
      {
        "duration": 31,
        "start_time": "2023-02-20T16:57:15.068Z"
      },
      {
        "duration": 16,
        "start_time": "2023-02-20T16:57:15.101Z"
      },
      {
        "duration": 30,
        "start_time": "2023-02-20T16:57:15.120Z"
      },
      {
        "duration": 10,
        "start_time": "2023-02-20T16:57:15.152Z"
      },
      {
        "duration": 5,
        "start_time": "2023-02-20T16:57:15.164Z"
      },
      {
        "duration": 12,
        "start_time": "2023-02-20T16:57:15.171Z"
      },
      {
        "duration": 365,
        "start_time": "2023-02-20T16:57:15.184Z"
      },
      {
        "duration": 3,
        "start_time": "2023-02-20T16:57:15.550Z"
      },
      {
        "duration": 10,
        "start_time": "2023-02-20T16:57:15.562Z"
      },
      {
        "duration": 10,
        "start_time": "2023-02-20T16:57:15.573Z"
      },
      {
        "duration": 18,
        "start_time": "2023-02-20T16:57:15.585Z"
      },
      {
        "duration": 11,
        "start_time": "2023-02-20T16:57:15.605Z"
      },
      {
        "duration": 7,
        "start_time": "2023-02-20T16:57:15.617Z"
      },
      {
        "duration": 6,
        "start_time": "2023-02-20T16:57:15.626Z"
      },
      {
        "duration": 54,
        "start_time": "2023-02-20T16:57:15.634Z"
      },
      {
        "duration": 2395,
        "start_time": "2023-02-20T16:57:15.690Z"
      },
      {
        "duration": 278,
        "start_time": "2023-02-20T16:57:18.087Z"
      },
      {
        "duration": 5,
        "start_time": "2023-02-20T16:57:18.368Z"
      },
      {
        "duration": 213,
        "start_time": "2023-02-20T16:57:18.375Z"
      },
      {
        "duration": 6,
        "start_time": "2023-02-20T16:57:18.589Z"
      },
      {
        "duration": 1381,
        "start_time": "2023-02-20T16:57:31.856Z"
      },
      {
        "duration": 30,
        "start_time": "2023-02-20T16:57:33.238Z"
      },
      {
        "duration": 15,
        "start_time": "2023-02-20T16:57:33.269Z"
      },
      {
        "duration": 31,
        "start_time": "2023-02-20T16:57:33.286Z"
      },
      {
        "duration": 6,
        "start_time": "2023-02-20T16:57:33.319Z"
      },
      {
        "duration": 4,
        "start_time": "2023-02-20T16:57:33.327Z"
      },
      {
        "duration": 32,
        "start_time": "2023-02-20T16:57:33.333Z"
      },
      {
        "duration": 380,
        "start_time": "2023-02-20T16:57:33.367Z"
      },
      {
        "duration": 13,
        "start_time": "2023-02-20T16:57:33.748Z"
      },
      {
        "duration": 2,
        "start_time": "2023-02-20T16:57:33.764Z"
      },
      {
        "duration": 7,
        "start_time": "2023-02-20T16:57:33.767Z"
      },
      {
        "duration": 11,
        "start_time": "2023-02-20T16:57:33.775Z"
      },
      {
        "duration": 8,
        "start_time": "2023-02-20T16:57:33.787Z"
      },
      {
        "duration": 10,
        "start_time": "2023-02-20T16:57:33.797Z"
      },
      {
        "duration": 11,
        "start_time": "2023-02-20T16:57:33.808Z"
      },
      {
        "duration": 34,
        "start_time": "2023-02-20T16:57:33.820Z"
      },
      {
        "duration": 2327,
        "start_time": "2023-02-20T16:57:33.856Z"
      },
      {
        "duration": 483,
        "start_time": "2023-02-20T16:57:36.184Z"
      },
      {
        "duration": 4,
        "start_time": "2023-02-20T16:57:36.669Z"
      },
      {
        "duration": 115,
        "start_time": "2023-02-20T16:57:36.762Z"
      },
      {
        "duration": 5,
        "start_time": "2023-02-20T16:57:36.879Z"
      },
      {
        "duration": 126,
        "start_time": "2023-02-20T16:57:44.725Z"
      },
      {
        "duration": 116,
        "start_time": "2023-02-20T16:57:49.911Z"
      },
      {
        "duration": 2314,
        "start_time": "2023-02-20T16:58:07.943Z"
      },
      {
        "duration": 357,
        "start_time": "2023-02-20T16:58:13.007Z"
      },
      {
        "duration": 89,
        "start_time": "2023-02-20T16:58:13.374Z"
      },
      {
        "duration": 122,
        "start_time": "2023-02-20T16:58:17.354Z"
      },
      {
        "duration": 111,
        "start_time": "2023-02-20T16:58:44.979Z"
      },
      {
        "duration": 2363,
        "start_time": "2023-02-20T17:00:06.929Z"
      },
      {
        "duration": 1440,
        "start_time": "2023-02-20T17:00:38.062Z"
      },
      {
        "duration": 30,
        "start_time": "2023-02-20T17:00:39.504Z"
      },
      {
        "duration": 18,
        "start_time": "2023-02-20T17:00:39.536Z"
      },
      {
        "duration": 37,
        "start_time": "2023-02-20T17:00:39.556Z"
      },
      {
        "duration": 6,
        "start_time": "2023-02-20T17:00:39.595Z"
      },
      {
        "duration": 17,
        "start_time": "2023-02-20T17:00:39.602Z"
      },
      {
        "duration": 8,
        "start_time": "2023-02-20T17:00:39.621Z"
      },
      {
        "duration": 417,
        "start_time": "2023-02-20T17:00:39.631Z"
      },
      {
        "duration": 3,
        "start_time": "2023-02-20T17:00:40.050Z"
      },
      {
        "duration": 10,
        "start_time": "2023-02-20T17:00:40.063Z"
      },
      {
        "duration": 11,
        "start_time": "2023-02-20T17:00:40.075Z"
      },
      {
        "duration": 14,
        "start_time": "2023-02-20T17:00:40.088Z"
      },
      {
        "duration": 7,
        "start_time": "2023-02-20T17:00:40.104Z"
      },
      {
        "duration": 6,
        "start_time": "2023-02-20T17:00:40.112Z"
      },
      {
        "duration": 7,
        "start_time": "2023-02-20T17:00:40.120Z"
      },
      {
        "duration": 40,
        "start_time": "2023-02-20T17:00:40.128Z"
      },
      {
        "duration": 2558,
        "start_time": "2023-02-20T17:00:40.170Z"
      },
      {
        "duration": 437,
        "start_time": "2023-02-20T17:00:42.730Z"
      },
      {
        "duration": 92,
        "start_time": "2023-02-20T17:00:43.169Z"
      },
      {
        "duration": 180,
        "start_time": "2023-02-20T17:00:43.263Z"
      },
      {
        "duration": 5,
        "start_time": "2023-02-20T17:00:43.445Z"
      },
      {
        "duration": 157,
        "start_time": "2023-02-20T17:01:42.738Z"
      },
      {
        "duration": 1431,
        "start_time": "2023-02-20T17:01:54.187Z"
      },
      {
        "duration": 29,
        "start_time": "2023-02-20T17:01:55.620Z"
      },
      {
        "duration": 15,
        "start_time": "2023-02-20T17:01:55.651Z"
      },
      {
        "duration": 30,
        "start_time": "2023-02-20T17:01:55.668Z"
      },
      {
        "duration": 5,
        "start_time": "2023-02-20T17:01:55.700Z"
      },
      {
        "duration": 8,
        "start_time": "2023-02-20T17:01:55.706Z"
      },
      {
        "duration": 8,
        "start_time": "2023-02-20T17:01:55.715Z"
      },
      {
        "duration": 421,
        "start_time": "2023-02-20T17:01:55.724Z"
      },
      {
        "duration": 3,
        "start_time": "2023-02-20T17:01:56.146Z"
      },
      {
        "duration": 13,
        "start_time": "2023-02-20T17:01:56.151Z"
      },
      {
        "duration": 13,
        "start_time": "2023-02-20T17:01:56.166Z"
      },
      {
        "duration": 15,
        "start_time": "2023-02-20T17:01:56.180Z"
      },
      {
        "duration": 10,
        "start_time": "2023-02-20T17:01:56.196Z"
      },
      {
        "duration": 8,
        "start_time": "2023-02-20T17:01:56.207Z"
      },
      {
        "duration": 6,
        "start_time": "2023-02-20T17:01:56.216Z"
      },
      {
        "duration": 40,
        "start_time": "2023-02-20T17:01:56.224Z"
      },
      {
        "duration": 2424,
        "start_time": "2023-02-20T17:01:56.266Z"
      },
      {
        "duration": 276,
        "start_time": "2023-02-20T17:01:58.692Z"
      },
      {
        "duration": 4,
        "start_time": "2023-02-20T17:01:58.971Z"
      },
      {
        "duration": 276,
        "start_time": "2023-02-20T17:01:59.062Z"
      },
      {
        "duration": 6,
        "start_time": "2023-02-20T17:01:59.340Z"
      },
      {
        "duration": 2498,
        "start_time": "2023-02-20T17:02:37.746Z"
      },
      {
        "duration": 1373,
        "start_time": "2023-02-20T17:02:48.340Z"
      },
      {
        "duration": 29,
        "start_time": "2023-02-20T17:02:49.715Z"
      },
      {
        "duration": 16,
        "start_time": "2023-02-20T17:02:49.745Z"
      },
      {
        "duration": 32,
        "start_time": "2023-02-20T17:02:49.763Z"
      },
      {
        "duration": 6,
        "start_time": "2023-02-20T17:02:49.797Z"
      },
      {
        "duration": 6,
        "start_time": "2023-02-20T17:02:49.805Z"
      },
      {
        "duration": 14,
        "start_time": "2023-02-20T17:02:49.813Z"
      },
      {
        "duration": 410,
        "start_time": "2023-02-20T17:02:49.828Z"
      },
      {
        "duration": 3,
        "start_time": "2023-02-20T17:02:50.240Z"
      },
      {
        "duration": 6,
        "start_time": "2023-02-20T17:02:50.245Z"
      },
      {
        "duration": 13,
        "start_time": "2023-02-20T17:02:50.253Z"
      },
      {
        "duration": 10,
        "start_time": "2023-02-20T17:02:50.268Z"
      },
      {
        "duration": 7,
        "start_time": "2023-02-20T17:02:50.280Z"
      },
      {
        "duration": 7,
        "start_time": "2023-02-20T17:02:50.288Z"
      },
      {
        "duration": 6,
        "start_time": "2023-02-20T17:02:50.296Z"
      },
      {
        "duration": 34,
        "start_time": "2023-02-20T17:02:50.304Z"
      },
      {
        "duration": 2510,
        "start_time": "2023-02-20T17:02:50.339Z"
      },
      {
        "duration": 1011,
        "start_time": "2023-02-20T17:02:52.851Z"
      },
      {
        "duration": 5,
        "start_time": "2023-02-20T17:02:53.864Z"
      },
      {
        "duration": 146,
        "start_time": "2023-02-20T17:02:53.871Z"
      },
      {
        "duration": 5,
        "start_time": "2023-02-20T17:02:54.019Z"
      },
      {
        "duration": 2455,
        "start_time": "2023-02-20T17:03:21.444Z"
      },
      {
        "duration": 2468,
        "start_time": "2023-02-20T17:03:42.022Z"
      },
      {
        "duration": 3182,
        "start_time": "2023-02-20T17:04:17.995Z"
      },
      {
        "duration": 2056,
        "start_time": "2023-02-20T17:04:35.531Z"
      },
      {
        "duration": 5861,
        "start_time": "2023-02-20T17:04:43.380Z"
      },
      {
        "duration": 3483,
        "start_time": "2023-02-20T17:05:14.839Z"
      },
      {
        "duration": 6916,
        "start_time": "2023-02-20T17:05:24.116Z"
      },
      {
        "duration": 7,
        "start_time": "2023-02-20T17:05:36.911Z"
      },
      {
        "duration": 18285,
        "start_time": "2023-02-20T17:05:44.437Z"
      },
      {
        "duration": 3501,
        "start_time": "2023-02-20T17:06:23.077Z"
      },
      {
        "duration": 306,
        "start_time": "2023-02-20T17:06:30.261Z"
      },
      {
        "duration": 93,
        "start_time": "2023-02-20T17:06:30.570Z"
      },
      {
        "duration": 80,
        "start_time": "2023-02-20T17:06:33.429Z"
      },
      {
        "duration": 936,
        "start_time": "2023-02-20T17:11:06.957Z"
      },
      {
        "duration": 4702,
        "start_time": "2023-02-20T17:11:25.674Z"
      },
      {
        "duration": 3422,
        "start_time": "2023-02-20T17:11:37.329Z"
      },
      {
        "duration": 4670,
        "start_time": "2023-02-20T17:11:50.472Z"
      },
      {
        "duration": 605,
        "start_time": "2023-02-20T17:12:00.385Z"
      },
      {
        "duration": 384,
        "start_time": "2023-02-20T17:12:25.450Z"
      },
      {
        "duration": 251,
        "start_time": "2023-02-20T17:12:32.010Z"
      },
      {
        "duration": 5032,
        "start_time": "2023-02-20T17:12:38.087Z"
      },
      {
        "duration": 675,
        "start_time": "2023-02-20T17:12:45.891Z"
      },
      {
        "duration": 91,
        "start_time": "2023-02-20T17:12:46.570Z"
      },
      {
        "duration": 129,
        "start_time": "2023-02-20T17:12:49.309Z"
      },
      {
        "duration": 6,
        "start_time": "2023-02-20T17:12:51.583Z"
      },
      {
        "duration": 1322,
        "start_time": "2023-02-20T17:12:58.509Z"
      },
      {
        "duration": 30,
        "start_time": "2023-02-20T17:12:59.832Z"
      },
      {
        "duration": 17,
        "start_time": "2023-02-20T17:12:59.863Z"
      },
      {
        "duration": 35,
        "start_time": "2023-02-20T17:12:59.882Z"
      },
      {
        "duration": 7,
        "start_time": "2023-02-20T17:12:59.919Z"
      },
      {
        "duration": 37,
        "start_time": "2023-02-20T17:12:59.928Z"
      },
      {
        "duration": 7,
        "start_time": "2023-02-20T17:12:59.967Z"
      },
      {
        "duration": 389,
        "start_time": "2023-02-20T17:12:59.976Z"
      },
      {
        "duration": 3,
        "start_time": "2023-02-20T17:13:00.368Z"
      },
      {
        "duration": 17,
        "start_time": "2023-02-20T17:13:00.373Z"
      },
      {
        "duration": 36,
        "start_time": "2023-02-20T17:13:00.392Z"
      },
      {
        "duration": 52,
        "start_time": "2023-02-20T17:13:00.430Z"
      },
      {
        "duration": 38,
        "start_time": "2023-02-20T17:13:00.484Z"
      },
      {
        "duration": 39,
        "start_time": "2023-02-20T17:13:00.524Z"
      },
      {
        "duration": 49,
        "start_time": "2023-02-20T17:13:00.566Z"
      },
      {
        "duration": 62,
        "start_time": "2023-02-20T17:13:00.617Z"
      },
      {
        "duration": 4950,
        "start_time": "2023-02-20T17:13:00.681Z"
      },
      {
        "duration": 729,
        "start_time": "2023-02-20T17:13:05.633Z"
      },
      {
        "duration": 10,
        "start_time": "2023-02-20T17:13:06.365Z"
      },
      {
        "duration": 188,
        "start_time": "2023-02-20T17:13:06.462Z"
      },
      {
        "duration": 10,
        "start_time": "2023-02-20T17:13:06.652Z"
      },
      {
        "duration": 182,
        "start_time": "2023-02-20T17:13:19.763Z"
      },
      {
        "duration": 250,
        "start_time": "2023-02-20T17:15:18.084Z"
      },
      {
        "duration": 146,
        "start_time": "2023-02-20T17:15:55.249Z"
      },
      {
        "duration": 1430,
        "start_time": "2023-02-20T17:16:00.769Z"
      },
      {
        "duration": 33,
        "start_time": "2023-02-20T17:16:02.202Z"
      },
      {
        "duration": 19,
        "start_time": "2023-02-20T17:16:02.237Z"
      },
      {
        "duration": 41,
        "start_time": "2023-02-20T17:16:02.257Z"
      },
      {
        "duration": 6,
        "start_time": "2023-02-20T17:16:02.299Z"
      },
      {
        "duration": 9,
        "start_time": "2023-02-20T17:16:02.306Z"
      },
      {
        "duration": 8,
        "start_time": "2023-02-20T17:16:02.317Z"
      },
      {
        "duration": 414,
        "start_time": "2023-02-20T17:16:02.327Z"
      },
      {
        "duration": 3,
        "start_time": "2023-02-20T17:16:02.742Z"
      },
      {
        "duration": 15,
        "start_time": "2023-02-20T17:16:02.747Z"
      },
      {
        "duration": 10,
        "start_time": "2023-02-20T17:16:02.763Z"
      },
      {
        "duration": 25,
        "start_time": "2023-02-20T17:16:02.774Z"
      },
      {
        "duration": 16,
        "start_time": "2023-02-20T17:16:02.801Z"
      },
      {
        "duration": 28,
        "start_time": "2023-02-20T17:16:02.818Z"
      },
      {
        "duration": 12,
        "start_time": "2023-02-20T17:16:02.848Z"
      },
      {
        "duration": 37,
        "start_time": "2023-02-20T17:16:02.862Z"
      },
      {
        "duration": 4903,
        "start_time": "2023-02-20T17:16:02.901Z"
      },
      {
        "duration": 269,
        "start_time": "2023-02-20T17:16:07.805Z"
      },
      {
        "duration": 95,
        "start_time": "2023-02-20T17:16:08.076Z"
      },
      {
        "duration": 224,
        "start_time": "2023-02-20T17:16:08.179Z"
      },
      {
        "duration": 6,
        "start_time": "2023-02-20T17:16:08.405Z"
      },
      {
        "duration": 128,
        "start_time": "2023-02-20T17:17:35.788Z"
      },
      {
        "duration": 568,
        "start_time": "2023-02-20T17:17:47.833Z"
      },
      {
        "duration": 343,
        "start_time": "2023-02-20T17:17:49.829Z"
      },
      {
        "duration": 90,
        "start_time": "2023-02-20T17:17:50.175Z"
      },
      {
        "duration": 123,
        "start_time": "2023-02-20T17:17:51.890Z"
      },
      {
        "duration": 1355,
        "start_time": "2023-02-20T17:17:57.371Z"
      },
      {
        "duration": 30,
        "start_time": "2023-02-20T17:17:58.728Z"
      },
      {
        "duration": 16,
        "start_time": "2023-02-20T17:17:58.759Z"
      },
      {
        "duration": 32,
        "start_time": "2023-02-20T17:17:58.777Z"
      },
      {
        "duration": 4,
        "start_time": "2023-02-20T17:17:58.811Z"
      },
      {
        "duration": 10,
        "start_time": "2023-02-20T17:17:58.817Z"
      },
      {
        "duration": 37,
        "start_time": "2023-02-20T17:17:58.828Z"
      },
      {
        "duration": 349,
        "start_time": "2023-02-20T17:17:58.866Z"
      },
      {
        "duration": 2,
        "start_time": "2023-02-20T17:17:59.217Z"
      },
      {
        "duration": 7,
        "start_time": "2023-02-20T17:17:59.221Z"
      },
      {
        "duration": 5,
        "start_time": "2023-02-20T17:17:59.230Z"
      },
      {
        "duration": 8,
        "start_time": "2023-02-20T17:17:59.237Z"
      },
      {
        "duration": 18,
        "start_time": "2023-02-20T17:17:59.247Z"
      },
      {
        "duration": 6,
        "start_time": "2023-02-20T17:17:59.266Z"
      },
      {
        "duration": 6,
        "start_time": "2023-02-20T17:17:59.274Z"
      },
      {
        "duration": 32,
        "start_time": "2023-02-20T17:17:59.282Z"
      },
      {
        "duration": 561,
        "start_time": "2023-02-20T17:17:59.315Z"
      },
      {
        "duration": 391,
        "start_time": "2023-02-20T17:17:59.877Z"
      },
      {
        "duration": 91,
        "start_time": "2023-02-20T17:18:00.271Z"
      },
      {
        "duration": 252,
        "start_time": "2023-02-20T17:18:00.365Z"
      },
      {
        "duration": 6,
        "start_time": "2023-02-20T17:18:00.618Z"
      },
      {
        "duration": 9342,
        "start_time": "2023-02-20T17:18:56.227Z"
      },
      {
        "duration": 1396,
        "start_time": "2023-02-20T17:19:11.232Z"
      },
      {
        "duration": 33,
        "start_time": "2023-02-20T17:19:12.630Z"
      },
      {
        "duration": 18,
        "start_time": "2023-02-20T17:19:12.665Z"
      },
      {
        "duration": 37,
        "start_time": "2023-02-20T17:19:12.685Z"
      },
      {
        "duration": 5,
        "start_time": "2023-02-20T17:19:12.725Z"
      },
      {
        "duration": 10,
        "start_time": "2023-02-20T17:19:12.731Z"
      },
      {
        "duration": 5,
        "start_time": "2023-02-20T17:19:12.762Z"
      },
      {
        "duration": 359,
        "start_time": "2023-02-20T17:19:12.768Z"
      },
      {
        "duration": 2,
        "start_time": "2023-02-20T17:19:13.129Z"
      },
      {
        "duration": 7,
        "start_time": "2023-02-20T17:19:13.132Z"
      },
      {
        "duration": 8,
        "start_time": "2023-02-20T17:19:13.140Z"
      },
      {
        "duration": 12,
        "start_time": "2023-02-20T17:19:13.149Z"
      },
      {
        "duration": 8,
        "start_time": "2023-02-20T17:19:13.163Z"
      },
      {
        "duration": 9,
        "start_time": "2023-02-20T17:19:13.173Z"
      },
      {
        "duration": 11,
        "start_time": "2023-02-20T17:19:13.183Z"
      },
      {
        "duration": 39,
        "start_time": "2023-02-20T17:19:13.196Z"
      },
      {
        "duration": 9492,
        "start_time": "2023-02-20T17:19:13.237Z"
      },
      {
        "duration": 332,
        "start_time": "2023-02-20T17:19:22.731Z"
      },
      {
        "duration": 9,
        "start_time": "2023-02-20T17:19:23.064Z"
      },
      {
        "duration": 118,
        "start_time": "2023-02-20T17:19:23.161Z"
      },
      {
        "duration": 6,
        "start_time": "2023-02-20T17:19:23.281Z"
      },
      {
        "duration": 48812,
        "start_time": "2023-02-20T17:21:31.047Z"
      },
      {
        "duration": 2486,
        "start_time": "2023-02-20T17:22:53.946Z"
      },
      {
        "duration": 2199,
        "start_time": "2023-02-20T17:23:16.563Z"
      },
      {
        "duration": 437,
        "start_time": "2023-02-20T17:26:04.632Z"
      },
      {
        "duration": 268,
        "start_time": "2023-02-20T17:26:13.003Z"
      },
      {
        "duration": 1409,
        "start_time": "2023-02-20T17:26:19.355Z"
      },
      {
        "duration": 29,
        "start_time": "2023-02-20T17:26:20.767Z"
      },
      {
        "duration": 14,
        "start_time": "2023-02-20T17:26:20.798Z"
      },
      {
        "duration": 37,
        "start_time": "2023-02-20T17:26:20.814Z"
      },
      {
        "duration": 6,
        "start_time": "2023-02-20T17:26:20.852Z"
      },
      {
        "duration": 13,
        "start_time": "2023-02-20T17:26:20.859Z"
      },
      {
        "duration": 9,
        "start_time": "2023-02-20T17:26:20.874Z"
      },
      {
        "duration": 364,
        "start_time": "2023-02-20T17:26:20.884Z"
      },
      {
        "duration": 3,
        "start_time": "2023-02-20T17:26:21.249Z"
      },
      {
        "duration": 15,
        "start_time": "2023-02-20T17:26:21.254Z"
      },
      {
        "duration": 9,
        "start_time": "2023-02-20T17:26:21.270Z"
      },
      {
        "duration": 18,
        "start_time": "2023-02-20T17:26:21.281Z"
      },
      {
        "duration": 9,
        "start_time": "2023-02-20T17:26:21.301Z"
      },
      {
        "duration": 6,
        "start_time": "2023-02-20T17:26:21.311Z"
      },
      {
        "duration": 6,
        "start_time": "2023-02-20T17:26:21.319Z"
      },
      {
        "duration": 39,
        "start_time": "2023-02-20T17:26:21.327Z"
      },
      {
        "duration": 170971,
        "start_time": "2023-02-20T17:26:21.367Z"
      },
      {
        "duration": 622,
        "start_time": "2023-02-20T17:29:12.340Z"
      },
      {
        "duration": 5,
        "start_time": "2023-02-20T17:29:12.965Z"
      },
      {
        "duration": 310,
        "start_time": "2023-02-20T17:29:12.972Z"
      },
      {
        "duration": 6,
        "start_time": "2023-02-20T17:29:13.284Z"
      },
      {
        "duration": 121,
        "start_time": "2023-02-20T17:32:39.247Z"
      },
      {
        "duration": 11,
        "start_time": "2023-02-20T17:32:52.319Z"
      },
      {
        "duration": 60,
        "start_time": "2023-02-20T17:33:00.820Z"
      },
      {
        "duration": 48953,
        "start_time": "2023-02-20T17:33:07.665Z"
      },
      {
        "duration": 54,
        "start_time": "2023-02-20T17:34:33.052Z"
      },
      {
        "duration": 47550,
        "start_time": "2023-02-20T17:34:53.435Z"
      },
      {
        "duration": 0,
        "start_time": "2023-02-20T17:35:40.988Z"
      },
      {
        "duration": 47137,
        "start_time": "2023-02-20T17:35:49.477Z"
      },
      {
        "duration": 45,
        "start_time": "2023-02-20T17:36:36.616Z"
      },
      {
        "duration": 47,
        "start_time": "2023-02-20T17:36:44.821Z"
      },
      {
        "duration": 49,
        "start_time": "2023-02-20T17:37:01.129Z"
      },
      {
        "duration": 2430,
        "start_time": "2023-02-20T17:37:14.622Z"
      },
      {
        "duration": 7688,
        "start_time": "2023-02-20T17:37:23.844Z"
      },
      {
        "duration": 7324,
        "start_time": "2023-02-20T17:38:25.822Z"
      },
      {
        "duration": 237,
        "start_time": "2023-02-20T17:38:39.677Z"
      },
      {
        "duration": 7467,
        "start_time": "2023-02-20T17:38:46.671Z"
      },
      {
        "duration": 7233,
        "start_time": "2023-02-20T17:39:20.901Z"
      },
      {
        "duration": 9428,
        "start_time": "2023-02-20T17:39:36.926Z"
      },
      {
        "duration": 2327,
        "start_time": "2023-02-20T17:39:53.998Z"
      },
      {
        "duration": 11076,
        "start_time": "2023-02-20T17:40:26.200Z"
      },
      {
        "duration": 3236,
        "start_time": "2023-02-20T17:41:21.859Z"
      },
      {
        "duration": 2273,
        "start_time": "2023-02-20T17:41:35.993Z"
      },
      {
        "duration": 7208,
        "start_time": "2023-02-20T17:41:44.135Z"
      },
      {
        "duration": 10980,
        "start_time": "2023-02-20T17:42:01.031Z"
      },
      {
        "duration": 366,
        "start_time": "2023-02-20T17:42:13.425Z"
      },
      {
        "duration": 239,
        "start_time": "2023-02-20T17:42:19.040Z"
      },
      {
        "duration": 7261,
        "start_time": "2023-02-20T17:42:23.152Z"
      },
      {
        "duration": 248,
        "start_time": "2023-02-20T17:42:30.415Z"
      },
      {
        "duration": 1428,
        "start_time": "2023-02-20T17:43:11.203Z"
      },
      {
        "duration": 31,
        "start_time": "2023-02-20T17:43:12.633Z"
      },
      {
        "duration": 21,
        "start_time": "2023-02-20T17:43:12.669Z"
      },
      {
        "duration": 42,
        "start_time": "2023-02-20T17:43:12.693Z"
      },
      {
        "duration": 29,
        "start_time": "2023-02-20T17:43:12.737Z"
      },
      {
        "duration": 14,
        "start_time": "2023-02-20T17:43:12.768Z"
      },
      {
        "duration": 13,
        "start_time": "2023-02-20T17:43:12.784Z"
      },
      {
        "duration": 472,
        "start_time": "2023-02-20T17:43:12.799Z"
      },
      {
        "duration": 3,
        "start_time": "2023-02-20T17:43:13.273Z"
      },
      {
        "duration": 15,
        "start_time": "2023-02-20T17:43:13.280Z"
      },
      {
        "duration": 18,
        "start_time": "2023-02-20T17:43:13.298Z"
      },
      {
        "duration": 12,
        "start_time": "2023-02-20T17:43:13.318Z"
      },
      {
        "duration": 12,
        "start_time": "2023-02-20T17:43:13.331Z"
      },
      {
        "duration": 7,
        "start_time": "2023-02-20T17:43:13.345Z"
      },
      {
        "duration": 14,
        "start_time": "2023-02-20T17:43:13.354Z"
      },
      {
        "duration": 38,
        "start_time": "2023-02-20T17:43:13.370Z"
      },
      {
        "duration": 47324,
        "start_time": "2023-02-20T17:43:13.410Z"
      },
      {
        "duration": 10922,
        "start_time": "2023-02-20T17:44:00.735Z"
      },
      {
        "duration": 405,
        "start_time": "2023-02-20T17:44:11.658Z"
      },
      {
        "duration": 99,
        "start_time": "2023-02-20T17:44:12.065Z"
      },
      {
        "duration": 2638,
        "start_time": "2023-02-20T17:44:12.165Z"
      },
      {
        "duration": 234,
        "start_time": "2023-02-20T17:44:14.806Z"
      },
      {
        "duration": 7,
        "start_time": "2023-02-20T17:44:15.041Z"
      },
      {
        "duration": 2675,
        "start_time": "2023-02-20T17:45:01.587Z"
      },
      {
        "duration": 198,
        "start_time": "2023-02-20T17:45:04.264Z"
      },
      {
        "duration": 2771,
        "start_time": "2023-02-20T17:45:34.013Z"
      },
      {
        "duration": 196,
        "start_time": "2023-02-20T17:45:39.461Z"
      },
      {
        "duration": 34079,
        "start_time": "2023-02-20T17:47:07.572Z"
      },
      {
        "duration": 3787,
        "start_time": "2023-02-20T17:47:52.747Z"
      },
      {
        "duration": 232,
        "start_time": "2023-02-20T17:47:56.536Z"
      },
      {
        "duration": 90,
        "start_time": "2023-02-20T17:47:56.773Z"
      },
      {
        "duration": 2789,
        "start_time": "2023-02-20T17:47:56.867Z"
      },
      {
        "duration": 186,
        "start_time": "2023-02-20T17:47:59.658Z"
      },
      {
        "duration": 4232,
        "start_time": "2023-02-20T17:48:00.653Z"
      },
      {
        "duration": 3683,
        "start_time": "2023-02-20T17:48:04.887Z"
      },
      {
        "duration": 292,
        "start_time": "2023-02-20T17:48:08.572Z"
      },
      {
        "duration": 6,
        "start_time": "2023-02-20T17:48:08.867Z"
      },
      {
        "duration": 2600,
        "start_time": "2023-02-20T17:48:11.525Z"
      },
      {
        "duration": 200,
        "start_time": "2023-02-20T17:48:14.127Z"
      },
      {
        "duration": 1336,
        "start_time": "2023-02-20T17:49:01.007Z"
      },
      {
        "duration": 29,
        "start_time": "2023-02-20T17:49:02.347Z"
      },
      {
        "duration": 19,
        "start_time": "2023-02-20T17:49:02.378Z"
      },
      {
        "duration": 35,
        "start_time": "2023-02-20T17:49:02.399Z"
      },
      {
        "duration": 6,
        "start_time": "2023-02-20T17:49:02.435Z"
      },
      {
        "duration": 20,
        "start_time": "2023-02-20T17:49:02.443Z"
      },
      {
        "duration": 9,
        "start_time": "2023-02-20T17:49:02.464Z"
      },
      {
        "duration": 362,
        "start_time": "2023-02-20T17:49:02.474Z"
      },
      {
        "duration": 2,
        "start_time": "2023-02-20T17:49:02.839Z"
      },
      {
        "duration": 12,
        "start_time": "2023-02-20T17:49:02.842Z"
      },
      {
        "duration": 8,
        "start_time": "2023-02-20T17:49:02.856Z"
      },
      {
        "duration": 14,
        "start_time": "2023-02-20T17:49:02.865Z"
      },
      {
        "duration": 14,
        "start_time": "2023-02-20T17:49:02.881Z"
      },
      {
        "duration": 7,
        "start_time": "2023-02-20T17:49:02.896Z"
      },
      {
        "duration": 6,
        "start_time": "2023-02-20T17:49:02.904Z"
      },
      {
        "duration": 34,
        "start_time": "2023-02-20T17:49:02.911Z"
      },
      {
        "duration": 4215,
        "start_time": "2023-02-20T17:49:02.947Z"
      },
      {
        "duration": 3713,
        "start_time": "2023-02-20T17:49:07.163Z"
      },
      {
        "duration": 291,
        "start_time": "2023-02-20T17:49:10.877Z"
      },
      {
        "duration": 5,
        "start_time": "2023-02-20T17:49:11.171Z"
      },
      {
        "duration": 2678,
        "start_time": "2023-02-20T17:49:11.266Z"
      },
      {
        "duration": 190,
        "start_time": "2023-02-20T17:49:13.948Z"
      },
      {
        "duration": 5,
        "start_time": "2023-02-20T17:49:14.140Z"
      },
      {
        "duration": 1398,
        "start_time": "2023-02-20T17:49:46.127Z"
      },
      {
        "duration": 31,
        "start_time": "2023-02-20T17:49:47.526Z"
      },
      {
        "duration": 16,
        "start_time": "2023-02-20T17:49:47.558Z"
      },
      {
        "duration": 29,
        "start_time": "2023-02-20T17:49:47.577Z"
      },
      {
        "duration": 5,
        "start_time": "2023-02-20T17:49:47.607Z"
      },
      {
        "duration": 5,
        "start_time": "2023-02-20T17:49:47.615Z"
      },
      {
        "duration": 9,
        "start_time": "2023-02-20T17:49:47.621Z"
      },
      {
        "duration": 397,
        "start_time": "2023-02-20T17:49:47.631Z"
      },
      {
        "duration": 2,
        "start_time": "2023-02-20T17:49:48.030Z"
      },
      {
        "duration": 4,
        "start_time": "2023-02-20T17:49:48.034Z"
      },
      {
        "duration": 6,
        "start_time": "2023-02-20T17:49:48.040Z"
      },
      {
        "duration": 20,
        "start_time": "2023-02-20T17:49:48.048Z"
      },
      {
        "duration": 8,
        "start_time": "2023-02-20T17:49:48.070Z"
      },
      {
        "duration": 7,
        "start_time": "2023-02-20T17:49:48.079Z"
      },
      {
        "duration": 6,
        "start_time": "2023-02-20T17:49:48.087Z"
      },
      {
        "duration": 37,
        "start_time": "2023-02-20T17:49:48.094Z"
      },
      {
        "duration": 4085,
        "start_time": "2023-02-20T17:49:48.133Z"
      },
      {
        "duration": 3718,
        "start_time": "2023-02-20T17:49:52.219Z"
      },
      {
        "duration": 234,
        "start_time": "2023-02-20T17:49:55.939Z"
      },
      {
        "duration": 88,
        "start_time": "2023-02-20T17:49:56.175Z"
      },
      {
        "duration": 2739,
        "start_time": "2023-02-20T17:49:56.267Z"
      },
      {
        "duration": 210,
        "start_time": "2023-02-20T17:49:59.008Z"
      },
      {
        "duration": 5,
        "start_time": "2023-02-20T17:49:59.219Z"
      },
      {
        "duration": 1355,
        "start_time": "2023-02-20T17:54:53.233Z"
      },
      {
        "duration": 37,
        "start_time": "2023-02-20T17:54:54.590Z"
      },
      {
        "duration": 21,
        "start_time": "2023-02-20T17:54:54.629Z"
      },
      {
        "duration": 41,
        "start_time": "2023-02-20T17:54:54.652Z"
      },
      {
        "duration": 7,
        "start_time": "2023-02-20T17:54:54.695Z"
      },
      {
        "duration": 14,
        "start_time": "2023-02-20T17:54:54.704Z"
      },
      {
        "duration": 14,
        "start_time": "2023-02-20T17:54:54.720Z"
      },
      {
        "duration": 384,
        "start_time": "2023-02-20T17:54:54.736Z"
      },
      {
        "duration": 2,
        "start_time": "2023-02-20T17:54:55.122Z"
      },
      {
        "duration": 14,
        "start_time": "2023-02-20T17:54:55.126Z"
      },
      {
        "duration": 7,
        "start_time": "2023-02-20T17:54:55.141Z"
      },
      {
        "duration": 8,
        "start_time": "2023-02-20T17:54:55.150Z"
      },
      {
        "duration": 7,
        "start_time": "2023-02-20T17:54:55.159Z"
      },
      {
        "duration": 6,
        "start_time": "2023-02-20T17:54:55.167Z"
      },
      {
        "duration": 9,
        "start_time": "2023-02-20T17:54:55.174Z"
      },
      {
        "duration": 31,
        "start_time": "2023-02-20T17:54:55.184Z"
      },
      {
        "duration": 4036,
        "start_time": "2023-02-20T17:54:55.216Z"
      },
      {
        "duration": 3824,
        "start_time": "2023-02-20T17:54:59.254Z"
      },
      {
        "duration": 288,
        "start_time": "2023-02-20T17:55:03.080Z"
      },
      {
        "duration": 93,
        "start_time": "2023-02-20T17:55:03.370Z"
      },
      {
        "duration": 2704,
        "start_time": "2023-02-20T17:55:03.466Z"
      },
      {
        "duration": 190,
        "start_time": "2023-02-20T17:55:06.171Z"
      },
      {
        "duration": 6,
        "start_time": "2023-02-20T17:55:06.363Z"
      },
      {
        "duration": 1350,
        "start_time": "2023-02-20T18:03:07.447Z"
      },
      {
        "duration": 28,
        "start_time": "2023-02-20T18:03:08.798Z"
      },
      {
        "duration": 13,
        "start_time": "2023-02-20T18:03:08.828Z"
      },
      {
        "duration": 28,
        "start_time": "2023-02-20T18:03:08.843Z"
      },
      {
        "duration": 4,
        "start_time": "2023-02-20T18:03:08.873Z"
      },
      {
        "duration": 6,
        "start_time": "2023-02-20T18:03:08.879Z"
      },
      {
        "duration": 8,
        "start_time": "2023-02-20T18:03:08.886Z"
      },
      {
        "duration": 363,
        "start_time": "2023-02-20T18:03:08.895Z"
      },
      {
        "duration": 2,
        "start_time": "2023-02-20T18:03:09.261Z"
      },
      {
        "duration": 5,
        "start_time": "2023-02-20T18:03:09.266Z"
      },
      {
        "duration": 11,
        "start_time": "2023-02-20T18:03:09.273Z"
      },
      {
        "duration": 17,
        "start_time": "2023-02-20T18:03:09.286Z"
      },
      {
        "duration": 5,
        "start_time": "2023-02-20T18:03:09.305Z"
      },
      {
        "duration": 7,
        "start_time": "2023-02-20T18:03:09.312Z"
      },
      {
        "duration": 8,
        "start_time": "2023-02-20T18:03:09.320Z"
      },
      {
        "duration": 37,
        "start_time": "2023-02-20T18:03:09.330Z"
      },
      {
        "duration": 4077,
        "start_time": "2023-02-20T18:03:09.369Z"
      },
      {
        "duration": 417,
        "start_time": "2023-02-20T18:03:13.447Z"
      },
      {
        "duration": 5,
        "start_time": "2023-02-20T18:03:13.866Z"
      },
      {
        "duration": 2724,
        "start_time": "2023-02-20T18:03:13.962Z"
      },
      {
        "duration": 206,
        "start_time": "2023-02-20T18:03:16.688Z"
      },
      {
        "duration": 5,
        "start_time": "2023-02-20T18:03:16.896Z"
      },
      {
        "duration": 276,
        "start_time": "2023-02-20T18:06:06.153Z"
      },
      {
        "duration": 1431,
        "start_time": "2023-02-20T18:06:15.861Z"
      },
      {
        "duration": 29,
        "start_time": "2023-02-20T18:06:17.294Z"
      },
      {
        "duration": 16,
        "start_time": "2023-02-20T18:06:17.325Z"
      },
      {
        "duration": 32,
        "start_time": "2023-02-20T18:06:17.343Z"
      },
      {
        "duration": 6,
        "start_time": "2023-02-20T18:06:17.377Z"
      },
      {
        "duration": 19,
        "start_time": "2023-02-20T18:06:17.385Z"
      },
      {
        "duration": 19,
        "start_time": "2023-02-20T18:06:17.405Z"
      },
      {
        "duration": 414,
        "start_time": "2023-02-20T18:06:17.427Z"
      },
      {
        "duration": 3,
        "start_time": "2023-02-20T18:06:17.843Z"
      },
      {
        "duration": 13,
        "start_time": "2023-02-20T18:06:17.849Z"
      },
      {
        "duration": 11,
        "start_time": "2023-02-20T18:06:17.863Z"
      },
      {
        "duration": 16,
        "start_time": "2023-02-20T18:06:17.876Z"
      },
      {
        "duration": 16,
        "start_time": "2023-02-20T18:06:17.893Z"
      },
      {
        "duration": 10,
        "start_time": "2023-02-20T18:06:17.910Z"
      },
      {
        "duration": 10,
        "start_time": "2023-02-20T18:06:17.921Z"
      },
      {
        "duration": 47,
        "start_time": "2023-02-20T18:06:17.932Z"
      },
      {
        "duration": 4022,
        "start_time": "2023-02-20T18:06:17.980Z"
      },
      {
        "duration": 465,
        "start_time": "2023-02-20T18:06:22.004Z"
      },
      {
        "duration": 4,
        "start_time": "2023-02-20T18:06:22.567Z"
      },
      {
        "duration": 2729,
        "start_time": "2023-02-20T18:06:22.573Z"
      },
      {
        "duration": 192,
        "start_time": "2023-02-20T18:06:25.304Z"
      },
      {
        "duration": 5,
        "start_time": "2023-02-20T18:06:25.498Z"
      },
      {
        "duration": 4,
        "start_time": "2023-02-20T18:08:23.000Z"
      },
      {
        "duration": 1399,
        "start_time": "2023-02-20T18:09:10.857Z"
      },
      {
        "duration": 33,
        "start_time": "2023-02-20T18:09:12.258Z"
      },
      {
        "duration": 15,
        "start_time": "2023-02-20T18:09:12.292Z"
      },
      {
        "duration": 31,
        "start_time": "2023-02-20T18:09:12.309Z"
      },
      {
        "duration": 6,
        "start_time": "2023-02-20T18:09:12.341Z"
      },
      {
        "duration": 14,
        "start_time": "2023-02-20T18:09:12.348Z"
      },
      {
        "duration": 5,
        "start_time": "2023-02-20T18:09:12.367Z"
      },
      {
        "duration": 367,
        "start_time": "2023-02-20T18:09:12.379Z"
      },
      {
        "duration": 3,
        "start_time": "2023-02-20T18:09:12.747Z"
      },
      {
        "duration": 10,
        "start_time": "2023-02-20T18:09:12.765Z"
      },
      {
        "duration": 17,
        "start_time": "2023-02-20T18:09:12.776Z"
      },
      {
        "duration": 13,
        "start_time": "2023-02-20T18:09:12.794Z"
      },
      {
        "duration": 9,
        "start_time": "2023-02-20T18:09:12.809Z"
      },
      {
        "duration": 5,
        "start_time": "2023-02-20T18:09:12.819Z"
      },
      {
        "duration": 6,
        "start_time": "2023-02-20T18:09:12.825Z"
      },
      {
        "duration": 35,
        "start_time": "2023-02-20T18:09:12.832Z"
      },
      {
        "duration": 4504,
        "start_time": "2023-02-20T18:09:12.870Z"
      },
      {
        "duration": 1295,
        "start_time": "2023-02-20T18:09:17.378Z"
      },
      {
        "duration": 10,
        "start_time": "2023-02-20T18:09:18.675Z"
      },
      {
        "duration": 2789,
        "start_time": "2023-02-20T18:09:18.689Z"
      },
      {
        "duration": 198,
        "start_time": "2023-02-20T18:09:21.480Z"
      },
      {
        "duration": 5,
        "start_time": "2023-02-20T18:09:21.680Z"
      },
      {
        "duration": 80,
        "start_time": "2023-03-18T14:11:17.902Z"
      },
      {
        "duration": 44,
        "start_time": "2023-03-18T14:11:27.333Z"
      },
      {
        "duration": 5,
        "start_time": "2023-03-18T14:11:34.531Z"
      },
      {
        "duration": 6,
        "start_time": "2023-03-18T14:11:35.051Z"
      },
      {
        "duration": 1362,
        "start_time": "2023-03-18T14:11:37.634Z"
      },
      {
        "duration": 74,
        "start_time": "2023-03-18T14:11:38.998Z"
      },
      {
        "duration": 16,
        "start_time": "2023-03-18T14:11:39.551Z"
      },
      {
        "duration": 33,
        "start_time": "2023-03-18T14:11:40.253Z"
      },
      {
        "duration": 5,
        "start_time": "2023-03-18T14:11:40.899Z"
      },
      {
        "duration": 5,
        "start_time": "2023-03-18T14:11:42.150Z"
      },
      {
        "duration": 5,
        "start_time": "2023-03-18T14:11:42.752Z"
      },
      {
        "duration": 384,
        "start_time": "2023-03-18T14:11:45.951Z"
      }
    ],
    "kernelspec": {
      "display_name": "Python 3 (ipykernel)",
      "language": "python",
      "name": "python3"
    },
    "language_info": {
      "codemirror_mode": {
        "name": "ipython",
        "version": 3
      },
      "file_extension": ".py",
      "mimetype": "text/x-python",
      "name": "python",
      "nbconvert_exporter": "python",
      "pygments_lexer": "ipython3",
      "version": "3.9.5"
    },
    "toc": {
      "base_numbering": 1,
      "nav_menu": {},
      "number_sections": true,
      "sideBar": true,
      "skip_h1_title": true,
      "title_cell": "Table of Contents",
      "title_sidebar": "Contents",
      "toc_cell": false,
      "toc_position": {},
      "toc_section_display": true,
      "toc_window_display": false
    },
    "colab": {
      "provenance": [],
      "include_colab_link": true
    }
  },
  "nbformat": 4,
  "nbformat_minor": 0
}
