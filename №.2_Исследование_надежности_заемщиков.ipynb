{
  "cells": [
    {
      "cell_type": "markdown",
      "metadata": {
        "id": "view-in-github",
        "colab_type": "text"
      },
      "source": [
        "<a href=\"https://colab.research.google.com/github/svfrolov/YP-project/blob/main/%E2%84%961_%D0%98%D1%81%D1%81%D0%BB%D0%B5%D0%B4%D0%BE%D0%B2%D0%B0%D0%BD%D0%B8%D0%B5_%D0%BD%D0%B0%D0%B4%D0%B5%D0%B6%D0%BD%D0%BE%D1%81%D1%82%D0%B8_%D0%B7%D0%B0%D0%B5%D0%BC%D1%89%D0%B8%D0%BA%D0%BE%D0%B2.ipynb\" target=\"_parent\"><img src=\"https://colab.research.google.com/assets/colab-badge.svg\" alt=\"Open In Colab\"/></a>"
      ]
    },
    {
      "cell_type": "markdown",
      "source": [
        "# Исследование надёжности заёмщиков\n",
        "\n",
        "Заказчик — кредитный отдел банка. Нужно разобраться, влияет ли семейное положение и количество детей клиента на факт погашения кредита в срок. Входные данные от банка — статистика о платёжеспособности клиентов.\n",
        "\n",
        "Результаты исследования будут учтены при построении модели кредитного скоринга — специальной системы, которая оценивает способность потенциального заёмщика вернуть кредит банку.\n",
        "\n",
        "## Данные имеют следующие столбцы\n",
        "* children — количество детей в семье\n",
        "* days_employed — общий трудовой стаж в днях\n",
        "* dob_years — возраст клиента в годах\n",
        "* education — уровень образования клиента\n",
        "* education_id — идентификатор уровня образования\n",
        "* family_status — семейное положение\n",
        "* family_status_id — идентификатор семейного положения\n",
        "* gender — пол клиента\n",
        "* income_type — тип занятости\n",
        "* debt — имел ли задолженность по возврату кредитов\n",
        "* total_income — ежемесячный доход\n",
        "* purpose — цель получения кредита\n",
        "\n",
        "## План работы над проектом\n",
        "1. Провести анализ пропусков, изменения данных и повторения значений.\n",
        "2. Определить, какие некорректные строки требуется сохранить, а какие можно удалить.\n",
        "3. Заполнить значения в пропущенных ячейках таблицы\n",
        "4. Удалить дубликаты.\n",
        "5. Вывести категории для проведения гипотез.\n",
        "6. Составить выводы по каждому вопросу.\n",
        "7. Составить общий вывод."
      ],
      "metadata": {
        "id": "6tEoQwsQ5u7V"
      },
      "id": "6tEoQwsQ5u7V"
    },
    {
      "cell_type": "markdown",
      "id": "0bacc21f",
      "metadata": {
        "deletable": false,
        "editable": false,
        "id": "0bacc21f"
      },
      "source": [
        "## Шаг 1. Откроем файл с данными и изучим общую информацию."
      ]
    },
    {
      "cell_type": "markdown",
      "source": [
        "Подключаем библиотеки"
      ],
      "metadata": {
        "id": "C-kxB62w6M0y"
      },
      "id": "C-kxB62w6M0y"
    },
    {
      "cell_type": "code",
      "execution_count": 5,
      "id": "2d6cbe61",
      "metadata": {
        "deletable": false,
        "id": "2d6cbe61"
      },
      "outputs": [],
      "source": [
        "import pandas as pd\n",
        "data = pd.read_csv('https://drive.google.com/file/d/1mMBFG6Pe5LMRf-JVBq6zzEpnOGC4Q1em/view?usp=share_link')\n",
        "try:\n",
        "    data = pd.read_csv('/datasets/data.csv')\n",
        "except:\n",
        "    data = pd.read_csv('https://code.s3.yandex.net/datasets/data.csv')"
      ]
    },
    {
      "cell_type": "markdown",
      "id": "963e46d7",
      "metadata": {
        "deletable": false,
        "editable": false,
        "id": "963e46d7"
      },
      "source": [
        "Выведим первые 20 строчек датафрейма `data` на экран."
      ]
    },
    {
      "cell_type": "code",
      "execution_count": 6,
      "id": "7ce9bacb",
      "metadata": {
        "deletable": false,
        "id": "7ce9bacb",
        "outputId": "2b762618-4e44-4242-8ad9-42cdae1a8da8",
        "colab": {
          "base_uri": "https://localhost:8080/",
          "height": 677
        }
      },
      "outputs": [
        {
          "output_type": "execute_result",
          "data": {
            "text/plain": [
              "    children  days_employed  dob_years            education  education_id  \\\n",
              "0          1   -8437.673028         42               высшее             0   \n",
              "1          1   -4024.803754         36              среднее             1   \n",
              "2          0   -5623.422610         33              Среднее             1   \n",
              "3          3   -4124.747207         32              среднее             1   \n",
              "4          0  340266.072047         53              среднее             1   \n",
              "5          0    -926.185831         27               высшее             0   \n",
              "6          0   -2879.202052         43               высшее             0   \n",
              "7          0    -152.779569         50              СРЕДНЕЕ             1   \n",
              "8          2   -6929.865299         35               ВЫСШЕЕ             0   \n",
              "9          0   -2188.756445         41              среднее             1   \n",
              "10         2   -4171.483647         36               высшее             0   \n",
              "11         0    -792.701887         40              среднее             1   \n",
              "12         0            NaN         65              среднее             1   \n",
              "13         0   -1846.641941         54  неоконченное высшее             2   \n",
              "14         0   -1844.956182         56               высшее             0   \n",
              "15         1    -972.364419         26              среднее             1   \n",
              "16         0   -1719.934226         35              среднее             1   \n",
              "17         0   -2369.999720         33               высшее             0   \n",
              "18         0  400281.136913         53              среднее             1   \n",
              "19         0  -10038.818549         48              СРЕДНЕЕ             1   \n",
              "\n",
              "       family_status  family_status_id gender income_type  debt  \\\n",
              "0    женат / замужем                 0      F   сотрудник     0   \n",
              "1    женат / замужем                 0      F   сотрудник     0   \n",
              "2    женат / замужем                 0      M   сотрудник     0   \n",
              "3    женат / замужем                 0      M   сотрудник     0   \n",
              "4   гражданский брак                 1      F   пенсионер     0   \n",
              "5   гражданский брак                 1      M   компаньон     0   \n",
              "6    женат / замужем                 0      F   компаньон     0   \n",
              "7    женат / замужем                 0      M   сотрудник     0   \n",
              "8   гражданский брак                 1      F   сотрудник     0   \n",
              "9    женат / замужем                 0      M   сотрудник     0   \n",
              "10   женат / замужем                 0      M   компаньон     0   \n",
              "11   женат / замужем                 0      F   сотрудник     0   \n",
              "12  гражданский брак                 1      M   пенсионер     0   \n",
              "13   женат / замужем                 0      F   сотрудник     0   \n",
              "14  гражданский брак                 1      F   компаньон     1   \n",
              "15   женат / замужем                 0      F   сотрудник     0   \n",
              "16   женат / замужем                 0      F   сотрудник     0   \n",
              "17  гражданский брак                 1      M   сотрудник     0   \n",
              "18    вдовец / вдова                 2      F   пенсионер     0   \n",
              "19         в разводе                 3      F   сотрудник     0   \n",
              "\n",
              "     total_income                                 purpose  \n",
              "0   253875.639453                           покупка жилья  \n",
              "1   112080.014102                 приобретение автомобиля  \n",
              "2   145885.952297                           покупка жилья  \n",
              "3   267628.550329              дополнительное образование  \n",
              "4   158616.077870                         сыграть свадьбу  \n",
              "5   255763.565419                           покупка жилья  \n",
              "6   240525.971920                       операции с жильем  \n",
              "7   135823.934197                             образование  \n",
              "8    95856.832424                   на проведение свадьбы  \n",
              "9   144425.938277                 покупка жилья для семьи  \n",
              "10  113943.491460                    покупка недвижимости  \n",
              "11   77069.234271       покупка коммерческой недвижимости  \n",
              "12            NaN                         сыграть свадьбу  \n",
              "13  130458.228857                 приобретение автомобиля  \n",
              "14  165127.911772              покупка жилой недвижимости  \n",
              "15  116820.904450  строительство собственной недвижимости  \n",
              "16  289202.704229                            недвижимость  \n",
              "17   90410.586745              строительство недвижимости  \n",
              "18   56823.777243      на покупку подержанного автомобиля  \n",
              "19  242831.107982            на покупку своего автомобиля  "
            ],
            "text/html": [
              "\n",
              "  <div id=\"df-58800e51-1e52-4480-9674-97176fc9b29d\">\n",
              "    <div class=\"colab-df-container\">\n",
              "      <div>\n",
              "<style scoped>\n",
              "    .dataframe tbody tr th:only-of-type {\n",
              "        vertical-align: middle;\n",
              "    }\n",
              "\n",
              "    .dataframe tbody tr th {\n",
              "        vertical-align: top;\n",
              "    }\n",
              "\n",
              "    .dataframe thead th {\n",
              "        text-align: right;\n",
              "    }\n",
              "</style>\n",
              "<table border=\"1\" class=\"dataframe\">\n",
              "  <thead>\n",
              "    <tr style=\"text-align: right;\">\n",
              "      <th></th>\n",
              "      <th>children</th>\n",
              "      <th>days_employed</th>\n",
              "      <th>dob_years</th>\n",
              "      <th>education</th>\n",
              "      <th>education_id</th>\n",
              "      <th>family_status</th>\n",
              "      <th>family_status_id</th>\n",
              "      <th>gender</th>\n",
              "      <th>income_type</th>\n",
              "      <th>debt</th>\n",
              "      <th>total_income</th>\n",
              "      <th>purpose</th>\n",
              "    </tr>\n",
              "  </thead>\n",
              "  <tbody>\n",
              "    <tr>\n",
              "      <th>0</th>\n",
              "      <td>1</td>\n",
              "      <td>-8437.673028</td>\n",
              "      <td>42</td>\n",
              "      <td>высшее</td>\n",
              "      <td>0</td>\n",
              "      <td>женат / замужем</td>\n",
              "      <td>0</td>\n",
              "      <td>F</td>\n",
              "      <td>сотрудник</td>\n",
              "      <td>0</td>\n",
              "      <td>253875.639453</td>\n",
              "      <td>покупка жилья</td>\n",
              "    </tr>\n",
              "    <tr>\n",
              "      <th>1</th>\n",
              "      <td>1</td>\n",
              "      <td>-4024.803754</td>\n",
              "      <td>36</td>\n",
              "      <td>среднее</td>\n",
              "      <td>1</td>\n",
              "      <td>женат / замужем</td>\n",
              "      <td>0</td>\n",
              "      <td>F</td>\n",
              "      <td>сотрудник</td>\n",
              "      <td>0</td>\n",
              "      <td>112080.014102</td>\n",
              "      <td>приобретение автомобиля</td>\n",
              "    </tr>\n",
              "    <tr>\n",
              "      <th>2</th>\n",
              "      <td>0</td>\n",
              "      <td>-5623.422610</td>\n",
              "      <td>33</td>\n",
              "      <td>Среднее</td>\n",
              "      <td>1</td>\n",
              "      <td>женат / замужем</td>\n",
              "      <td>0</td>\n",
              "      <td>M</td>\n",
              "      <td>сотрудник</td>\n",
              "      <td>0</td>\n",
              "      <td>145885.952297</td>\n",
              "      <td>покупка жилья</td>\n",
              "    </tr>\n",
              "    <tr>\n",
              "      <th>3</th>\n",
              "      <td>3</td>\n",
              "      <td>-4124.747207</td>\n",
              "      <td>32</td>\n",
              "      <td>среднее</td>\n",
              "      <td>1</td>\n",
              "      <td>женат / замужем</td>\n",
              "      <td>0</td>\n",
              "      <td>M</td>\n",
              "      <td>сотрудник</td>\n",
              "      <td>0</td>\n",
              "      <td>267628.550329</td>\n",
              "      <td>дополнительное образование</td>\n",
              "    </tr>\n",
              "    <tr>\n",
              "      <th>4</th>\n",
              "      <td>0</td>\n",
              "      <td>340266.072047</td>\n",
              "      <td>53</td>\n",
              "      <td>среднее</td>\n",
              "      <td>1</td>\n",
              "      <td>гражданский брак</td>\n",
              "      <td>1</td>\n",
              "      <td>F</td>\n",
              "      <td>пенсионер</td>\n",
              "      <td>0</td>\n",
              "      <td>158616.077870</td>\n",
              "      <td>сыграть свадьбу</td>\n",
              "    </tr>\n",
              "    <tr>\n",
              "      <th>5</th>\n",
              "      <td>0</td>\n",
              "      <td>-926.185831</td>\n",
              "      <td>27</td>\n",
              "      <td>высшее</td>\n",
              "      <td>0</td>\n",
              "      <td>гражданский брак</td>\n",
              "      <td>1</td>\n",
              "      <td>M</td>\n",
              "      <td>компаньон</td>\n",
              "      <td>0</td>\n",
              "      <td>255763.565419</td>\n",
              "      <td>покупка жилья</td>\n",
              "    </tr>\n",
              "    <tr>\n",
              "      <th>6</th>\n",
              "      <td>0</td>\n",
              "      <td>-2879.202052</td>\n",
              "      <td>43</td>\n",
              "      <td>высшее</td>\n",
              "      <td>0</td>\n",
              "      <td>женат / замужем</td>\n",
              "      <td>0</td>\n",
              "      <td>F</td>\n",
              "      <td>компаньон</td>\n",
              "      <td>0</td>\n",
              "      <td>240525.971920</td>\n",
              "      <td>операции с жильем</td>\n",
              "    </tr>\n",
              "    <tr>\n",
              "      <th>7</th>\n",
              "      <td>0</td>\n",
              "      <td>-152.779569</td>\n",
              "      <td>50</td>\n",
              "      <td>СРЕДНЕЕ</td>\n",
              "      <td>1</td>\n",
              "      <td>женат / замужем</td>\n",
              "      <td>0</td>\n",
              "      <td>M</td>\n",
              "      <td>сотрудник</td>\n",
              "      <td>0</td>\n",
              "      <td>135823.934197</td>\n",
              "      <td>образование</td>\n",
              "    </tr>\n",
              "    <tr>\n",
              "      <th>8</th>\n",
              "      <td>2</td>\n",
              "      <td>-6929.865299</td>\n",
              "      <td>35</td>\n",
              "      <td>ВЫСШЕЕ</td>\n",
              "      <td>0</td>\n",
              "      <td>гражданский брак</td>\n",
              "      <td>1</td>\n",
              "      <td>F</td>\n",
              "      <td>сотрудник</td>\n",
              "      <td>0</td>\n",
              "      <td>95856.832424</td>\n",
              "      <td>на проведение свадьбы</td>\n",
              "    </tr>\n",
              "    <tr>\n",
              "      <th>9</th>\n",
              "      <td>0</td>\n",
              "      <td>-2188.756445</td>\n",
              "      <td>41</td>\n",
              "      <td>среднее</td>\n",
              "      <td>1</td>\n",
              "      <td>женат / замужем</td>\n",
              "      <td>0</td>\n",
              "      <td>M</td>\n",
              "      <td>сотрудник</td>\n",
              "      <td>0</td>\n",
              "      <td>144425.938277</td>\n",
              "      <td>покупка жилья для семьи</td>\n",
              "    </tr>\n",
              "    <tr>\n",
              "      <th>10</th>\n",
              "      <td>2</td>\n",
              "      <td>-4171.483647</td>\n",
              "      <td>36</td>\n",
              "      <td>высшее</td>\n",
              "      <td>0</td>\n",
              "      <td>женат / замужем</td>\n",
              "      <td>0</td>\n",
              "      <td>M</td>\n",
              "      <td>компаньон</td>\n",
              "      <td>0</td>\n",
              "      <td>113943.491460</td>\n",
              "      <td>покупка недвижимости</td>\n",
              "    </tr>\n",
              "    <tr>\n",
              "      <th>11</th>\n",
              "      <td>0</td>\n",
              "      <td>-792.701887</td>\n",
              "      <td>40</td>\n",
              "      <td>среднее</td>\n",
              "      <td>1</td>\n",
              "      <td>женат / замужем</td>\n",
              "      <td>0</td>\n",
              "      <td>F</td>\n",
              "      <td>сотрудник</td>\n",
              "      <td>0</td>\n",
              "      <td>77069.234271</td>\n",
              "      <td>покупка коммерческой недвижимости</td>\n",
              "    </tr>\n",
              "    <tr>\n",
              "      <th>12</th>\n",
              "      <td>0</td>\n",
              "      <td>NaN</td>\n",
              "      <td>65</td>\n",
              "      <td>среднее</td>\n",
              "      <td>1</td>\n",
              "      <td>гражданский брак</td>\n",
              "      <td>1</td>\n",
              "      <td>M</td>\n",
              "      <td>пенсионер</td>\n",
              "      <td>0</td>\n",
              "      <td>NaN</td>\n",
              "      <td>сыграть свадьбу</td>\n",
              "    </tr>\n",
              "    <tr>\n",
              "      <th>13</th>\n",
              "      <td>0</td>\n",
              "      <td>-1846.641941</td>\n",
              "      <td>54</td>\n",
              "      <td>неоконченное высшее</td>\n",
              "      <td>2</td>\n",
              "      <td>женат / замужем</td>\n",
              "      <td>0</td>\n",
              "      <td>F</td>\n",
              "      <td>сотрудник</td>\n",
              "      <td>0</td>\n",
              "      <td>130458.228857</td>\n",
              "      <td>приобретение автомобиля</td>\n",
              "    </tr>\n",
              "    <tr>\n",
              "      <th>14</th>\n",
              "      <td>0</td>\n",
              "      <td>-1844.956182</td>\n",
              "      <td>56</td>\n",
              "      <td>высшее</td>\n",
              "      <td>0</td>\n",
              "      <td>гражданский брак</td>\n",
              "      <td>1</td>\n",
              "      <td>F</td>\n",
              "      <td>компаньон</td>\n",
              "      <td>1</td>\n",
              "      <td>165127.911772</td>\n",
              "      <td>покупка жилой недвижимости</td>\n",
              "    </tr>\n",
              "    <tr>\n",
              "      <th>15</th>\n",
              "      <td>1</td>\n",
              "      <td>-972.364419</td>\n",
              "      <td>26</td>\n",
              "      <td>среднее</td>\n",
              "      <td>1</td>\n",
              "      <td>женат / замужем</td>\n",
              "      <td>0</td>\n",
              "      <td>F</td>\n",
              "      <td>сотрудник</td>\n",
              "      <td>0</td>\n",
              "      <td>116820.904450</td>\n",
              "      <td>строительство собственной недвижимости</td>\n",
              "    </tr>\n",
              "    <tr>\n",
              "      <th>16</th>\n",
              "      <td>0</td>\n",
              "      <td>-1719.934226</td>\n",
              "      <td>35</td>\n",
              "      <td>среднее</td>\n",
              "      <td>1</td>\n",
              "      <td>женат / замужем</td>\n",
              "      <td>0</td>\n",
              "      <td>F</td>\n",
              "      <td>сотрудник</td>\n",
              "      <td>0</td>\n",
              "      <td>289202.704229</td>\n",
              "      <td>недвижимость</td>\n",
              "    </tr>\n",
              "    <tr>\n",
              "      <th>17</th>\n",
              "      <td>0</td>\n",
              "      <td>-2369.999720</td>\n",
              "      <td>33</td>\n",
              "      <td>высшее</td>\n",
              "      <td>0</td>\n",
              "      <td>гражданский брак</td>\n",
              "      <td>1</td>\n",
              "      <td>M</td>\n",
              "      <td>сотрудник</td>\n",
              "      <td>0</td>\n",
              "      <td>90410.586745</td>\n",
              "      <td>строительство недвижимости</td>\n",
              "    </tr>\n",
              "    <tr>\n",
              "      <th>18</th>\n",
              "      <td>0</td>\n",
              "      <td>400281.136913</td>\n",
              "      <td>53</td>\n",
              "      <td>среднее</td>\n",
              "      <td>1</td>\n",
              "      <td>вдовец / вдова</td>\n",
              "      <td>2</td>\n",
              "      <td>F</td>\n",
              "      <td>пенсионер</td>\n",
              "      <td>0</td>\n",
              "      <td>56823.777243</td>\n",
              "      <td>на покупку подержанного автомобиля</td>\n",
              "    </tr>\n",
              "    <tr>\n",
              "      <th>19</th>\n",
              "      <td>0</td>\n",
              "      <td>-10038.818549</td>\n",
              "      <td>48</td>\n",
              "      <td>СРЕДНЕЕ</td>\n",
              "      <td>1</td>\n",
              "      <td>в разводе</td>\n",
              "      <td>3</td>\n",
              "      <td>F</td>\n",
              "      <td>сотрудник</td>\n",
              "      <td>0</td>\n",
              "      <td>242831.107982</td>\n",
              "      <td>на покупку своего автомобиля</td>\n",
              "    </tr>\n",
              "  </tbody>\n",
              "</table>\n",
              "</div>\n",
              "      <button class=\"colab-df-convert\" onclick=\"convertToInteractive('df-58800e51-1e52-4480-9674-97176fc9b29d')\"\n",
              "              title=\"Convert this dataframe to an interactive table.\"\n",
              "              style=\"display:none;\">\n",
              "        \n",
              "  <svg xmlns=\"http://www.w3.org/2000/svg\" height=\"24px\"viewBox=\"0 0 24 24\"\n",
              "       width=\"24px\">\n",
              "    <path d=\"M0 0h24v24H0V0z\" fill=\"none\"/>\n",
              "    <path d=\"M18.56 5.44l.94 2.06.94-2.06 2.06-.94-2.06-.94-.94-2.06-.94 2.06-2.06.94zm-11 1L8.5 8.5l.94-2.06 2.06-.94-2.06-.94L8.5 2.5l-.94 2.06-2.06.94zm10 10l.94 2.06.94-2.06 2.06-.94-2.06-.94-.94-2.06-.94 2.06-2.06.94z\"/><path d=\"M17.41 7.96l-1.37-1.37c-.4-.4-.92-.59-1.43-.59-.52 0-1.04.2-1.43.59L10.3 9.45l-7.72 7.72c-.78.78-.78 2.05 0 2.83L4 21.41c.39.39.9.59 1.41.59.51 0 1.02-.2 1.41-.59l7.78-7.78 2.81-2.81c.8-.78.8-2.07 0-2.86zM5.41 20L4 18.59l7.72-7.72 1.47 1.35L5.41 20z\"/>\n",
              "  </svg>\n",
              "      </button>\n",
              "      \n",
              "  <style>\n",
              "    .colab-df-container {\n",
              "      display:flex;\n",
              "      flex-wrap:wrap;\n",
              "      gap: 12px;\n",
              "    }\n",
              "\n",
              "    .colab-df-convert {\n",
              "      background-color: #E8F0FE;\n",
              "      border: none;\n",
              "      border-radius: 50%;\n",
              "      cursor: pointer;\n",
              "      display: none;\n",
              "      fill: #1967D2;\n",
              "      height: 32px;\n",
              "      padding: 0 0 0 0;\n",
              "      width: 32px;\n",
              "    }\n",
              "\n",
              "    .colab-df-convert:hover {\n",
              "      background-color: #E2EBFA;\n",
              "      box-shadow: 0px 1px 2px rgba(60, 64, 67, 0.3), 0px 1px 3px 1px rgba(60, 64, 67, 0.15);\n",
              "      fill: #174EA6;\n",
              "    }\n",
              "\n",
              "    [theme=dark] .colab-df-convert {\n",
              "      background-color: #3B4455;\n",
              "      fill: #D2E3FC;\n",
              "    }\n",
              "\n",
              "    [theme=dark] .colab-df-convert:hover {\n",
              "      background-color: #434B5C;\n",
              "      box-shadow: 0px 1px 3px 1px rgba(0, 0, 0, 0.15);\n",
              "      filter: drop-shadow(0px 1px 2px rgba(0, 0, 0, 0.3));\n",
              "      fill: #FFFFFF;\n",
              "    }\n",
              "  </style>\n",
              "\n",
              "      <script>\n",
              "        const buttonEl =\n",
              "          document.querySelector('#df-58800e51-1e52-4480-9674-97176fc9b29d button.colab-df-convert');\n",
              "        buttonEl.style.display =\n",
              "          google.colab.kernel.accessAllowed ? 'block' : 'none';\n",
              "\n",
              "        async function convertToInteractive(key) {\n",
              "          const element = document.querySelector('#df-58800e51-1e52-4480-9674-97176fc9b29d');\n",
              "          const dataTable =\n",
              "            await google.colab.kernel.invokeFunction('convertToInteractive',\n",
              "                                                     [key], {});\n",
              "          if (!dataTable) return;\n",
              "\n",
              "          const docLinkHtml = 'Like what you see? Visit the ' +\n",
              "            '<a target=\"_blank\" href=https://colab.research.google.com/notebooks/data_table.ipynb>data table notebook</a>'\n",
              "            + ' to learn more about interactive tables.';\n",
              "          element.innerHTML = '';\n",
              "          dataTable['output_type'] = 'display_data';\n",
              "          await google.colab.output.renderOutput(dataTable, element);\n",
              "          const docLink = document.createElement('div');\n",
              "          docLink.innerHTML = docLinkHtml;\n",
              "          element.appendChild(docLink);\n",
              "        }\n",
              "      </script>\n",
              "    </div>\n",
              "  </div>\n",
              "  "
            ]
          },
          "metadata": {},
          "execution_count": 6
        }
      ],
      "source": [
        "data.head(20)"
      ]
    },
    {
      "cell_type": "markdown",
      "id": "015ca51e",
      "metadata": {
        "deletable": false,
        "editable": false,
        "id": "015ca51e"
      },
      "source": [
        "Выведем основную информацию о датафрейме с помощью метода `info()`."
      ]
    },
    {
      "cell_type": "code",
      "execution_count": null,
      "id": "f183a042",
      "metadata": {
        "deletable": false,
        "id": "f183a042",
        "outputId": "15376089-8dad-46c9-b520-c05248d43158",
        "scrolled": true
      },
      "outputs": [
        {
          "name": "stdout",
          "output_type": "stream",
          "text": [
            "<class 'pandas.core.frame.DataFrame'>\n",
            "RangeIndex: 21525 entries, 0 to 21524\n",
            "Data columns (total 12 columns):\n",
            " #   Column            Non-Null Count  Dtype  \n",
            "---  ------            --------------  -----  \n",
            " 0   children          21525 non-null  int64  \n",
            " 1   days_employed     19351 non-null  float64\n",
            " 2   dob_years         21525 non-null  int64  \n",
            " 3   education         21525 non-null  object \n",
            " 4   education_id      21525 non-null  int64  \n",
            " 5   family_status     21525 non-null  object \n",
            " 6   family_status_id  21525 non-null  int64  \n",
            " 7   gender            21525 non-null  object \n",
            " 8   income_type       21525 non-null  object \n",
            " 9   debt              21525 non-null  int64  \n",
            " 10  total_income      19351 non-null  float64\n",
            " 11  purpose           21525 non-null  object \n",
            "dtypes: float64(2), int64(5), object(5)\n",
            "memory usage: 2.0+ MB\n"
          ]
        }
      ],
      "source": [
        "data.info()"
      ]
    },
    {
      "cell_type": "markdown",
      "id": "d2c29cb4",
      "metadata": {
        "deletable": false,
        "editable": false,
        "id": "d2c29cb4"
      },
      "source": [
        "## Предобработка данных"
      ]
    },
    {
      "cell_type": "markdown",
      "id": "81fa0a1c",
      "metadata": {
        "deletable": false,
        "editable": false,
        "id": "81fa0a1c"
      },
      "source": [
        "### Удаление пропусков"
      ]
    },
    {
      "cell_type": "markdown",
      "id": "bcebcb37",
      "metadata": {
        "deletable": false,
        "editable": false,
        "id": "bcebcb37"
      },
      "source": [
        "Выведите количество пропущенных значений для каждого столбца. Используйте комбинацию двух методов."
      ]
    },
    {
      "cell_type": "code",
      "execution_count": null,
      "id": "534c163b",
      "metadata": {
        "deletable": false,
        "id": "534c163b",
        "outputId": "81f4d817-781c-465c-ed15-91ce4446810d"
      },
      "outputs": [
        {
          "data": {
            "text/plain": [
              "children               0\n",
              "days_employed       2174\n",
              "dob_years              0\n",
              "education              0\n",
              "education_id           0\n",
              "family_status          0\n",
              "family_status_id       0\n",
              "gender                 0\n",
              "income_type            0\n",
              "debt                   0\n",
              "total_income        2174\n",
              "purpose                0\n",
              "dtype: int64"
            ]
          },
          "execution_count": 5,
          "metadata": {},
          "output_type": "execute_result"
        }
      ],
      "source": [
        "data.isna().sum()"
      ]
    },
    {
      "cell_type": "markdown",
      "id": "6d6db77a",
      "metadata": {
        "deletable": false,
        "editable": false,
        "id": "6d6db77a"
      },
      "source": [
        "заполним медианным доходом среди всех записей с тем же типом."
      ]
    },
    {
      "cell_type": "code",
      "execution_count": null,
      "id": "3a56292e",
      "metadata": {
        "deletable": false,
        "id": "3a56292e"
      },
      "outputs": [],
      "source": [
        "for t in data['income_type'].unique():\n",
        "    data.loc[(data['income_type'] == t) & (data['total_income'].isna()), 'total_income'] = \\\n",
        "    data.loc[(data['income_type'] == t), 'total_income'].median()"
      ]
    },
    {
      "cell_type": "markdown",
      "id": "72f5d08e",
      "metadata": {
        "deletable": false,
        "editable": false,
        "id": "72f5d08e"
      },
      "source": [
        "### Обработка аномальных значений"
      ]
    },
    {
      "cell_type": "markdown",
      "id": "104143aa",
      "metadata": {
        "deletable": false,
        "editable": false,
        "id": "104143aa"
      },
      "source": [
        "Обработаем значения в этом столбце: заменим все отрицательные значения положительными с помощью метода `abs()`."
      ]
    },
    {
      "cell_type": "code",
      "execution_count": null,
      "id": "d59a8912",
      "metadata": {
        "deletable": false,
        "id": "d59a8912"
      },
      "outputs": [],
      "source": [
        "data['days_employed'] = data['days_employed'].abs()"
      ]
    },
    {
      "cell_type": "markdown",
      "id": "da5cc27b",
      "metadata": {
        "deletable": false,
        "editable": false,
        "id": "da5cc27b"
      },
      "source": [
        "Для каждого типа занятости выведем медианное значение трудового стажа `days_employed` в днях."
      ]
    },
    {
      "cell_type": "code",
      "execution_count": null,
      "id": "43618a0e",
      "metadata": {
        "deletable": false,
        "id": "43618a0e",
        "outputId": "801ef80e-522b-4668-f34e-565af7432bcf"
      },
      "outputs": [
        {
          "data": {
            "text/plain": [
              "income_type\n",
              "безработный        366413.652744\n",
              "в декрете            3296.759962\n",
              "госслужащий          2689.368353\n",
              "компаньон            1547.382223\n",
              "пенсионер          365213.306266\n",
              "предприниматель       520.848083\n",
              "сотрудник            1574.202821\n",
              "студент               578.751554\n",
              "Name: days_employed, dtype: float64"
            ]
          },
          "execution_count": 8,
          "metadata": {},
          "output_type": "execute_result"
        }
      ],
      "source": [
        "data.groupby('income_type')['days_employed'].agg('median')"
      ]
    },
    {
      "cell_type": "markdown",
      "id": "d38500f1",
      "metadata": {
        "deletable": false,
        "editable": false,
        "id": "d38500f1"
      },
      "source": [
        "У двух типов (безработные и пенсионеры) получатся аномально большие значения. Исправить такие значения сложно, поэтому оставьте их как есть. Тем более этот столбец не понадобится вам для исследования."
      ]
    },
    {
      "cell_type": "markdown",
      "id": "30df4fb1",
      "metadata": {
        "deletable": false,
        "editable": false,
        "id": "30df4fb1"
      },
      "source": [
        "Выведем перечень уникальных значений столбца `children`."
      ]
    },
    {
      "cell_type": "code",
      "execution_count": null,
      "id": "10d94547",
      "metadata": {
        "deletable": false,
        "id": "10d94547",
        "outputId": "6975b15c-7f95-4697-d16d-a0c79b657b03"
      },
      "outputs": [
        {
          "data": {
            "text/plain": [
              "array([ 1,  0,  3,  2, -1,  4, 20,  5])"
            ]
          },
          "execution_count": 9,
          "metadata": {},
          "output_type": "execute_result"
        }
      ],
      "source": [
        "data['children'].unique()"
      ]
    },
    {
      "cell_type": "markdown",
      "id": "ee31f38f",
      "metadata": {
        "deletable": false,
        "editable": false,
        "id": "ee31f38f"
      },
      "source": [
        "В столбце `children` есть два аномальных значения. Удалим строки, в которых встречаются такие аномальные значения из датафрейма `data`."
      ]
    },
    {
      "cell_type": "code",
      "execution_count": null,
      "id": "58142a30",
      "metadata": {
        "deletable": false,
        "id": "58142a30"
      },
      "outputs": [],
      "source": [
        "data = data[(data['children'] != -1) & (data['children'] != 20)]"
      ]
    },
    {
      "cell_type": "markdown",
      "id": "8b460e0d",
      "metadata": {
        "deletable": false,
        "editable": false,
        "id": "8b460e0d"
      },
      "source": [
        "Ещё раз выведите перечень уникальных значений столбца `children`, чтобы убедиться, что артефакты удалены."
      ]
    },
    {
      "cell_type": "code",
      "execution_count": null,
      "id": "d5526b3a",
      "metadata": {
        "deletable": false,
        "id": "d5526b3a",
        "outputId": "b2097101-d49d-44d9-901b-32a65c9463d1"
      },
      "outputs": [
        {
          "data": {
            "text/plain": [
              "array([1, 0, 3, 2, 4, 5])"
            ]
          },
          "execution_count": 11,
          "metadata": {},
          "output_type": "execute_result"
        }
      ],
      "source": [
        "data['children'].unique()"
      ]
    },
    {
      "cell_type": "markdown",
      "id": "f869858c",
      "metadata": {
        "deletable": false,
        "editable": false,
        "id": "f869858c"
      },
      "source": [
        "### Удаление пропусков (продолжение)"
      ]
    },
    {
      "cell_type": "markdown",
      "id": "40c41187",
      "metadata": {
        "deletable": false,
        "editable": false,
        "id": "40c41187"
      },
      "source": [
        "Заполним пропуски в столбце `days_employed` медианными значениями по каждому типу занятости `income_type`.**"
      ]
    },
    {
      "cell_type": "code",
      "execution_count": null,
      "id": "ec8126dc",
      "metadata": {
        "deletable": false,
        "id": "ec8126dc"
      },
      "outputs": [],
      "source": [
        "for t in data['income_type'].unique():\n",
        "    data.loc[(data['income_type'] == t) & (data['days_employed'].isna()), 'days_employed'] = \\\n",
        "    data.loc[(data['income_type'] == t), 'days_employed'].median()"
      ]
    },
    {
      "cell_type": "markdown",
      "id": "66196300",
      "metadata": {
        "deletable": false,
        "editable": false,
        "id": "66196300"
      },
      "source": [
        "Убедимся, что все пропуски заполнены."
      ]
    },
    {
      "cell_type": "code",
      "execution_count": null,
      "id": "e73cc93d",
      "metadata": {
        "deletable": false,
        "id": "e73cc93d",
        "outputId": "8da1e4e1-358e-4e87-98c9-f261bce0a7b2"
      },
      "outputs": [
        {
          "data": {
            "text/plain": [
              "children            0\n",
              "days_employed       0\n",
              "dob_years           0\n",
              "education           0\n",
              "education_id        0\n",
              "family_status       0\n",
              "family_status_id    0\n",
              "gender              0\n",
              "income_type         0\n",
              "debt                0\n",
              "total_income        0\n",
              "purpose             0\n",
              "dtype: int64"
            ]
          },
          "execution_count": 13,
          "metadata": {},
          "output_type": "execute_result"
        }
      ],
      "source": [
        "data.isna().sum()"
      ]
    },
    {
      "cell_type": "markdown",
      "id": "ce99eb25",
      "metadata": {
        "deletable": false,
        "editable": false,
        "id": "ce99eb25"
      },
      "source": [
        "### Изменение типов данных"
      ]
    },
    {
      "cell_type": "markdown",
      "id": "e8db6050",
      "metadata": {
        "deletable": false,
        "editable": false,
        "id": "e8db6050"
      },
      "source": [
        "Заменим вещественный тип данных в столбце `total_income` на целочисленный с помощью метода `astype()`."
      ]
    },
    {
      "cell_type": "code",
      "execution_count": null,
      "id": "8bb3db80",
      "metadata": {
        "deletable": false,
        "id": "8bb3db80"
      },
      "outputs": [],
      "source": [
        "data['total_income'] = data['total_income'].astype(int)"
      ]
    },
    {
      "cell_type": "markdown",
      "id": "51a61f13",
      "metadata": {
        "deletable": false,
        "editable": false,
        "id": "51a61f13"
      },
      "source": [
        "### Обработка дубликатов"
      ]
    },
    {
      "cell_type": "markdown",
      "id": "faf486c3",
      "metadata": {
        "deletable": false,
        "editable": false,
        "id": "faf486c3"
      },
      "source": [
        "Обработаем неявные дубликаты в столбце `education`. В этом столбце есть одни и те же значения, но записанные по-разному: с использованием заглавных и строчных букв. Приведем их к нижнему регистру. Проверим остальные столбцы."
      ]
    },
    {
      "cell_type": "code",
      "execution_count": null,
      "id": "0c2b6317",
      "metadata": {
        "deletable": false,
        "id": "0c2b6317"
      },
      "outputs": [],
      "source": [
        "data['education'] = data['education'].str.lower()"
      ]
    },
    {
      "cell_type": "markdown",
      "id": "5f26fd5a",
      "metadata": {
        "deletable": false,
        "editable": false,
        "id": "5f26fd5a"
      },
      "source": [
        "Выведем на экран количество строк-дубликатов в данных. Если такие строки присутствуют, удалим их."
      ]
    },
    {
      "cell_type": "code",
      "execution_count": null,
      "id": "21f0e76e",
      "metadata": {
        "deletable": false,
        "id": "21f0e76e",
        "outputId": "9684deba-1934-42d1-99e1-cda61740f822"
      },
      "outputs": [
        {
          "data": {
            "text/plain": [
              "71"
            ]
          },
          "execution_count": 16,
          "metadata": {},
          "output_type": "execute_result"
        }
      ],
      "source": [
        "data.duplicated().sum()"
      ]
    },
    {
      "cell_type": "code",
      "execution_count": null,
      "id": "42465da1",
      "metadata": {
        "deletable": false,
        "id": "42465da1"
      },
      "outputs": [],
      "source": [
        "data = data.drop_duplicates()"
      ]
    },
    {
      "cell_type": "markdown",
      "id": "b88d853b",
      "metadata": {
        "deletable": false,
        "editable": false,
        "id": "b88d853b"
      },
      "source": [
        "### Категоризация данных"
      ]
    },
    {
      "cell_type": "markdown",
      "id": "64cd2283",
      "metadata": {
        "deletable": false,
        "editable": false,
        "id": "64cd2283"
      },
      "source": [
        "На основании диапазонов, указанных ниже, создадим в датафрейме `data` столбец `total_income_category` с категориями:\n",
        "\n",
        "- 0–30000 — `'E'`;\n",
        "- 30001–50000 — `'D'`;\n",
        "- 50001–200000 — `'C'`;\n",
        "- 200001–1000000 — `'B'`;\n",
        "- 1000001 и выше — `'A'`.\n",
        "\n",
        "\n",
        "Кредитополучателю с доходом 25000 нужно назначить категорию `'E'`, а клиенту, получающему 235000, — `'B'`. Используем собственную функцию с именем `categorize_income()` и метод `apply()`."
      ]
    },
    {
      "cell_type": "code",
      "execution_count": null,
      "id": "a6ad1ec6",
      "metadata": {
        "deletable": false,
        "id": "a6ad1ec6"
      },
      "outputs": [],
      "source": [
        "def categorize_income(income):\n",
        "    try:\n",
        "        if 0 <= income <= 30000:\n",
        "            return 'E'\n",
        "        elif 30001 <= income <= 50000:\n",
        "            return 'D'\n",
        "        elif 50001 <= income <= 200000:\n",
        "            return 'C'\n",
        "        elif 200001 <= income <= 1000000:\n",
        "            return 'B'\n",
        "        elif income >= 1000001:\n",
        "            return 'A'\n",
        "    except:\n",
        "        pass"
      ]
    },
    {
      "cell_type": "code",
      "execution_count": null,
      "id": "5e8da0f8",
      "metadata": {
        "deletable": false,
        "id": "5e8da0f8"
      },
      "outputs": [],
      "source": [
        "data['total_income_category'] = data['total_income'].apply(categorize_income)"
      ]
    },
    {
      "cell_type": "markdown",
      "id": "60dbbe9d",
      "metadata": {
        "deletable": false,
        "editable": false,
        "id": "60dbbe9d"
      },
      "source": [
        "Выведем на экран перечень уникальных целей взятия кредита из столбца `purpose`."
      ]
    },
    {
      "cell_type": "code",
      "execution_count": null,
      "id": "935d77f9",
      "metadata": {
        "deletable": false,
        "id": "935d77f9",
        "outputId": "673c12d9-7d7e-4ae0-9812-c622c89dd244"
      },
      "outputs": [
        {
          "data": {
            "text/plain": [
              "array(['покупка жилья', 'приобретение автомобиля',\n",
              "       'дополнительное образование', 'сыграть свадьбу',\n",
              "       'операции с жильем', 'образование', 'на проведение свадьбы',\n",
              "       'покупка жилья для семьи', 'покупка недвижимости',\n",
              "       'покупка коммерческой недвижимости', 'покупка жилой недвижимости',\n",
              "       'строительство собственной недвижимости', 'недвижимость',\n",
              "       'строительство недвижимости', 'на покупку подержанного автомобиля',\n",
              "       'на покупку своего автомобиля',\n",
              "       'операции с коммерческой недвижимостью',\n",
              "       'строительство жилой недвижимости', 'жилье',\n",
              "       'операции со своей недвижимостью', 'автомобили',\n",
              "       'заняться образованием', 'сделка с подержанным автомобилем',\n",
              "       'получение образования', 'автомобиль', 'свадьба',\n",
              "       'получение дополнительного образования', 'покупка своего жилья',\n",
              "       'операции с недвижимостью', 'получение высшего образования',\n",
              "       'свой автомобиль', 'сделка с автомобилем',\n",
              "       'профильное образование', 'высшее образование',\n",
              "       'покупка жилья для сдачи', 'на покупку автомобиля', 'ремонт жилью',\n",
              "       'заняться высшим образованием'], dtype=object)"
            ]
          },
          "execution_count": 20,
          "metadata": {},
          "output_type": "execute_result"
        }
      ],
      "source": [
        "data['purpose'].unique()"
      ]
    },
    {
      "cell_type": "markdown",
      "id": "f28b2afd",
      "metadata": {
        "deletable": false,
        "editable": false,
        "id": "f28b2afd"
      },
      "source": [
        "Создадим функцию, которая на основании данных из столбца `purpose` сформирует новый столбец `purpose_category`, в который войдут следующие категории:**\n",
        "\n",
        "- `'операции с автомобилем'`,\n",
        "- `'операции с недвижимостью'`,\n",
        "- `'проведение свадьбы'`,\n",
        "- `'получение образования'`.\n",
        "\n",
        "**Например, если в столбце `purpose` находится подстрока `'на покупку автомобиля'`, то в столбце `purpose_category` должна появиться строка `'операции с автомобилем'`.**\n",
        "\n",
        "**Используем собственную функцию с именем `categorize_purpose()` и метод `apply()`. Изучим данные в столбце `purpose` и определим, какие подстроки помогут нам правильно определить категорию.**"
      ]
    },
    {
      "cell_type": "code",
      "execution_count": null,
      "id": "f1b15b85",
      "metadata": {
        "deletable": false,
        "id": "f1b15b85"
      },
      "outputs": [],
      "source": [
        "def categorize_purpose(row):\n",
        "    try:\n",
        "        if 'автом' in row:\n",
        "            return 'операции с автомобилем'\n",
        "        elif 'жил' in row or 'недвиж' in row:\n",
        "            return 'операции с недвижимостью'\n",
        "        elif 'свад' in row:\n",
        "            return 'проведение свадьбы'\n",
        "        elif 'образов' in row:\n",
        "            return 'получение образования'\n",
        "    except:\n",
        "        return 'нет категории'"
      ]
    },
    {
      "cell_type": "code",
      "execution_count": null,
      "id": "a1f3f9c3",
      "metadata": {
        "deletable": false,
        "id": "a1f3f9c3"
      },
      "outputs": [],
      "source": [
        "data['purpose_category'] = data['purpose'].apply(categorize_purpose)"
      ]
    },
    {
      "cell_type": "code",
      "execution_count": null,
      "id": "13d83ac9",
      "metadata": {
        "id": "13d83ac9",
        "outputId": "78d124ec-e793-4f54-bb62-958471dca201"
      },
      "outputs": [
        {
          "data": {
            "text/html": [
              "<div>\n",
              "<style scoped>\n",
              "    .dataframe tbody tr th:only-of-type {\n",
              "        vertical-align: middle;\n",
              "    }\n",
              "\n",
              "    .dataframe tbody tr th {\n",
              "        vertical-align: top;\n",
              "    }\n",
              "\n",
              "    .dataframe thead th {\n",
              "        text-align: right;\n",
              "    }\n",
              "</style>\n",
              "<table border=\"1\" class=\"dataframe\">\n",
              "  <thead>\n",
              "    <tr style=\"text-align: right;\">\n",
              "      <th></th>\n",
              "      <th>children</th>\n",
              "      <th>days_employed</th>\n",
              "      <th>dob_years</th>\n",
              "      <th>education</th>\n",
              "      <th>education_id</th>\n",
              "      <th>family_status</th>\n",
              "      <th>family_status_id</th>\n",
              "      <th>gender</th>\n",
              "      <th>income_type</th>\n",
              "      <th>debt</th>\n",
              "      <th>total_income</th>\n",
              "      <th>purpose</th>\n",
              "      <th>total_income_category</th>\n",
              "      <th>purpose_category</th>\n",
              "    </tr>\n",
              "  </thead>\n",
              "  <tbody>\n",
              "    <tr>\n",
              "      <th>0</th>\n",
              "      <td>1</td>\n",
              "      <td>8437.673028</td>\n",
              "      <td>42</td>\n",
              "      <td>высшее</td>\n",
              "      <td>0</td>\n",
              "      <td>женат / замужем</td>\n",
              "      <td>0</td>\n",
              "      <td>F</td>\n",
              "      <td>сотрудник</td>\n",
              "      <td>0</td>\n",
              "      <td>253875</td>\n",
              "      <td>покупка жилья</td>\n",
              "      <td>B</td>\n",
              "      <td>операции с недвижимостью</td>\n",
              "    </tr>\n",
              "    <tr>\n",
              "      <th>1</th>\n",
              "      <td>1</td>\n",
              "      <td>4024.803754</td>\n",
              "      <td>36</td>\n",
              "      <td>среднее</td>\n",
              "      <td>1</td>\n",
              "      <td>женат / замужем</td>\n",
              "      <td>0</td>\n",
              "      <td>F</td>\n",
              "      <td>сотрудник</td>\n",
              "      <td>0</td>\n",
              "      <td>112080</td>\n",
              "      <td>приобретение автомобиля</td>\n",
              "      <td>C</td>\n",
              "      <td>операции с автомобилем</td>\n",
              "    </tr>\n",
              "    <tr>\n",
              "      <th>2</th>\n",
              "      <td>0</td>\n",
              "      <td>5623.422610</td>\n",
              "      <td>33</td>\n",
              "      <td>среднее</td>\n",
              "      <td>1</td>\n",
              "      <td>женат / замужем</td>\n",
              "      <td>0</td>\n",
              "      <td>M</td>\n",
              "      <td>сотрудник</td>\n",
              "      <td>0</td>\n",
              "      <td>145885</td>\n",
              "      <td>покупка жилья</td>\n",
              "      <td>C</td>\n",
              "      <td>операции с недвижимостью</td>\n",
              "    </tr>\n",
              "    <tr>\n",
              "      <th>3</th>\n",
              "      <td>3</td>\n",
              "      <td>4124.747207</td>\n",
              "      <td>32</td>\n",
              "      <td>среднее</td>\n",
              "      <td>1</td>\n",
              "      <td>женат / замужем</td>\n",
              "      <td>0</td>\n",
              "      <td>M</td>\n",
              "      <td>сотрудник</td>\n",
              "      <td>0</td>\n",
              "      <td>267628</td>\n",
              "      <td>дополнительное образование</td>\n",
              "      <td>B</td>\n",
              "      <td>получение образования</td>\n",
              "    </tr>\n",
              "    <tr>\n",
              "      <th>4</th>\n",
              "      <td>0</td>\n",
              "      <td>340266.072047</td>\n",
              "      <td>53</td>\n",
              "      <td>среднее</td>\n",
              "      <td>1</td>\n",
              "      <td>гражданский брак</td>\n",
              "      <td>1</td>\n",
              "      <td>F</td>\n",
              "      <td>пенсионер</td>\n",
              "      <td>0</td>\n",
              "      <td>158616</td>\n",
              "      <td>сыграть свадьбу</td>\n",
              "      <td>C</td>\n",
              "      <td>проведение свадьбы</td>\n",
              "    </tr>\n",
              "    <tr>\n",
              "      <th>5</th>\n",
              "      <td>0</td>\n",
              "      <td>926.185831</td>\n",
              "      <td>27</td>\n",
              "      <td>высшее</td>\n",
              "      <td>0</td>\n",
              "      <td>гражданский брак</td>\n",
              "      <td>1</td>\n",
              "      <td>M</td>\n",
              "      <td>компаньон</td>\n",
              "      <td>0</td>\n",
              "      <td>255763</td>\n",
              "      <td>покупка жилья</td>\n",
              "      <td>B</td>\n",
              "      <td>операции с недвижимостью</td>\n",
              "    </tr>\n",
              "    <tr>\n",
              "      <th>6</th>\n",
              "      <td>0</td>\n",
              "      <td>2879.202052</td>\n",
              "      <td>43</td>\n",
              "      <td>высшее</td>\n",
              "      <td>0</td>\n",
              "      <td>женат / замужем</td>\n",
              "      <td>0</td>\n",
              "      <td>F</td>\n",
              "      <td>компаньон</td>\n",
              "      <td>0</td>\n",
              "      <td>240525</td>\n",
              "      <td>операции с жильем</td>\n",
              "      <td>B</td>\n",
              "      <td>операции с недвижимостью</td>\n",
              "    </tr>\n",
              "    <tr>\n",
              "      <th>7</th>\n",
              "      <td>0</td>\n",
              "      <td>152.779569</td>\n",
              "      <td>50</td>\n",
              "      <td>среднее</td>\n",
              "      <td>1</td>\n",
              "      <td>женат / замужем</td>\n",
              "      <td>0</td>\n",
              "      <td>M</td>\n",
              "      <td>сотрудник</td>\n",
              "      <td>0</td>\n",
              "      <td>135823</td>\n",
              "      <td>образование</td>\n",
              "      <td>C</td>\n",
              "      <td>получение образования</td>\n",
              "    </tr>\n",
              "    <tr>\n",
              "      <th>8</th>\n",
              "      <td>2</td>\n",
              "      <td>6929.865299</td>\n",
              "      <td>35</td>\n",
              "      <td>высшее</td>\n",
              "      <td>0</td>\n",
              "      <td>гражданский брак</td>\n",
              "      <td>1</td>\n",
              "      <td>F</td>\n",
              "      <td>сотрудник</td>\n",
              "      <td>0</td>\n",
              "      <td>95856</td>\n",
              "      <td>на проведение свадьбы</td>\n",
              "      <td>C</td>\n",
              "      <td>проведение свадьбы</td>\n",
              "    </tr>\n",
              "    <tr>\n",
              "      <th>9</th>\n",
              "      <td>0</td>\n",
              "      <td>2188.756445</td>\n",
              "      <td>41</td>\n",
              "      <td>среднее</td>\n",
              "      <td>1</td>\n",
              "      <td>женат / замужем</td>\n",
              "      <td>0</td>\n",
              "      <td>M</td>\n",
              "      <td>сотрудник</td>\n",
              "      <td>0</td>\n",
              "      <td>144425</td>\n",
              "      <td>покупка жилья для семьи</td>\n",
              "      <td>C</td>\n",
              "      <td>операции с недвижимостью</td>\n",
              "    </tr>\n",
              "  </tbody>\n",
              "</table>\n",
              "</div>"
            ],
            "text/plain": [
              "   children  days_employed  dob_years education  education_id  \\\n",
              "0         1    8437.673028         42    высшее             0   \n",
              "1         1    4024.803754         36   среднее             1   \n",
              "2         0    5623.422610         33   среднее             1   \n",
              "3         3    4124.747207         32   среднее             1   \n",
              "4         0  340266.072047         53   среднее             1   \n",
              "5         0     926.185831         27    высшее             0   \n",
              "6         0    2879.202052         43    высшее             0   \n",
              "7         0     152.779569         50   среднее             1   \n",
              "8         2    6929.865299         35    высшее             0   \n",
              "9         0    2188.756445         41   среднее             1   \n",
              "\n",
              "      family_status  family_status_id gender income_type  debt  total_income  \\\n",
              "0   женат / замужем                 0      F   сотрудник     0        253875   \n",
              "1   женат / замужем                 0      F   сотрудник     0        112080   \n",
              "2   женат / замужем                 0      M   сотрудник     0        145885   \n",
              "3   женат / замужем                 0      M   сотрудник     0        267628   \n",
              "4  гражданский брак                 1      F   пенсионер     0        158616   \n",
              "5  гражданский брак                 1      M   компаньон     0        255763   \n",
              "6   женат / замужем                 0      F   компаньон     0        240525   \n",
              "7   женат / замужем                 0      M   сотрудник     0        135823   \n",
              "8  гражданский брак                 1      F   сотрудник     0         95856   \n",
              "9   женат / замужем                 0      M   сотрудник     0        144425   \n",
              "\n",
              "                      purpose total_income_category          purpose_category  \n",
              "0               покупка жилья                     B  операции с недвижимостью  \n",
              "1     приобретение автомобиля                     C    операции с автомобилем  \n",
              "2               покупка жилья                     C  операции с недвижимостью  \n",
              "3  дополнительное образование                     B     получение образования  \n",
              "4             сыграть свадьбу                     C        проведение свадьбы  \n",
              "5               покупка жилья                     B  операции с недвижимостью  \n",
              "6           операции с жильем                     B  операции с недвижимостью  \n",
              "7                 образование                     C     получение образования  \n",
              "8       на проведение свадьбы                     C        проведение свадьбы  \n",
              "9     покупка жилья для семьи                     C  операции с недвижимостью  "
            ]
          },
          "execution_count": 23,
          "metadata": {},
          "output_type": "execute_result"
        }
      ],
      "source": [
        "data.head(10)"
      ]
    },
    {
      "cell_type": "markdown",
      "id": "221d838a",
      "metadata": {
        "id": "221d838a"
      },
      "source": [
        "Данные очистили и разделили по категориям"
      ]
    },
    {
      "cell_type": "markdown",
      "id": "49fa46cc",
      "metadata": {
        "deletable": false,
        "editable": false,
        "id": "49fa46cc"
      },
      "source": [
        "### Шаг 3. Исследуем данные и ответим на вопросы"
      ]
    },
    {
      "cell_type": "markdown",
      "id": "c65642d3",
      "metadata": {
        "deletable": false,
        "editable": false,
        "id": "c65642d3"
      },
      "source": [
        "#### 3.1 Есть ли зависимость между количеством детей и возвратом кредита в срок?"
      ]
    },
    {
      "cell_type": "code",
      "execution_count": null,
      "id": "35db1a7a",
      "metadata": {
        "deletable": false,
        "id": "35db1a7a",
        "outputId": "2f5b74df-9bf7-4975-88d2-f36b3db30b29"
      },
      "outputs": [
        {
          "name": "stdout",
          "output_type": "stream",
          "text": [
            "Просрочки и невозвраты составляют: 1732\n"
          ]
        }
      ],
      "source": [
        "# Ваш код будет здесь. Вы можете создавать новые ячейки.\n",
        "debt_s1 = data[(data['debt'] == 1)].count()\n",
        "print('Просрочки и невозвраты составляют:', debt_s1['debt'])"
      ]
    },
    {
      "cell_type": "markdown",
      "id": "84eae317",
      "metadata": {
        "id": "84eae317"
      },
      "source": [
        "##### Выделим категории с детьми по их количеству в семье и сумме"
      ]
    },
    {
      "cell_type": "code",
      "execution_count": null,
      "id": "637639f1",
      "metadata": {
        "scrolled": false,
        "id": "637639f1",
        "outputId": "7ae5ed79-1c0c-4ab1-d005-606dff4b2ef3"
      },
      "outputs": [
        {
          "data": {
            "text/html": [
              "<div>\n",
              "<style scoped>\n",
              "    .dataframe tbody tr th:only-of-type {\n",
              "        vertical-align: middle;\n",
              "    }\n",
              "\n",
              "    .dataframe tbody tr th {\n",
              "        vertical-align: top;\n",
              "    }\n",
              "\n",
              "    .dataframe thead tr th {\n",
              "        text-align: left;\n",
              "    }\n",
              "\n",
              "    .dataframe thead tr:last-of-type th {\n",
              "        text-align: right;\n",
              "    }\n",
              "</style>\n",
              "<table border=\"1\" class=\"dataframe\">\n",
              "  <thead>\n",
              "    <tr>\n",
              "      <th></th>\n",
              "      <th></th>\n",
              "      <th colspan=\"6\" halign=\"left\">debt</th>\n",
              "    </tr>\n",
              "    <tr>\n",
              "      <th></th>\n",
              "      <th>children</th>\n",
              "      <th>0</th>\n",
              "      <th>1</th>\n",
              "      <th>2</th>\n",
              "      <th>3</th>\n",
              "      <th>4</th>\n",
              "      <th>5</th>\n",
              "    </tr>\n",
              "    <tr>\n",
              "      <th>family_status_id</th>\n",
              "      <th>family_status</th>\n",
              "      <th></th>\n",
              "      <th></th>\n",
              "      <th></th>\n",
              "      <th></th>\n",
              "      <th></th>\n",
              "      <th></th>\n",
              "    </tr>\n",
              "  </thead>\n",
              "  <tbody>\n",
              "    <tr>\n",
              "      <th>0</th>\n",
              "      <th>женат / замужем</th>\n",
              "      <td>516.0</td>\n",
              "      <td>246.0</td>\n",
              "      <td>145.0</td>\n",
              "      <td>17.0</td>\n",
              "      <td>3.0</td>\n",
              "      <td>0.0</td>\n",
              "    </tr>\n",
              "    <tr>\n",
              "      <th>1</th>\n",
              "      <th>гражданский брак</th>\n",
              "      <td>229.0</td>\n",
              "      <td>118.0</td>\n",
              "      <td>30.0</td>\n",
              "      <td>8.0</td>\n",
              "      <td>0.0</td>\n",
              "      <td>0.0</td>\n",
              "    </tr>\n",
              "    <tr>\n",
              "      <th>2</th>\n",
              "      <th>вдовец / вдова</th>\n",
              "      <td>53.0</td>\n",
              "      <td>7.0</td>\n",
              "      <td>3.0</td>\n",
              "      <td>0.0</td>\n",
              "      <td>0.0</td>\n",
              "      <td>NaN</td>\n",
              "    </tr>\n",
              "    <tr>\n",
              "      <th>3</th>\n",
              "      <th>в разводе</th>\n",
              "      <td>55.0</td>\n",
              "      <td>21.0</td>\n",
              "      <td>7.0</td>\n",
              "      <td>1.0</td>\n",
              "      <td>0.0</td>\n",
              "      <td>NaN</td>\n",
              "    </tr>\n",
              "    <tr>\n",
              "      <th>4</th>\n",
              "      <th>Не женат / не замужем</th>\n",
              "      <td>210.0</td>\n",
              "      <td>52.0</td>\n",
              "      <td>9.0</td>\n",
              "      <td>1.0</td>\n",
              "      <td>1.0</td>\n",
              "      <td>NaN</td>\n",
              "    </tr>\n",
              "  </tbody>\n",
              "</table>\n",
              "</div>"
            ],
            "text/plain": [
              "                                         debt                              \n",
              "children                                    0      1      2     3    4    5\n",
              "family_status_id family_status                                             \n",
              "0                женат / замужем        516.0  246.0  145.0  17.0  3.0  0.0\n",
              "1                гражданский брак       229.0  118.0   30.0   8.0  0.0  0.0\n",
              "2                вдовец / вдова          53.0    7.0    3.0   0.0  0.0  NaN\n",
              "3                в разводе               55.0   21.0    7.0   1.0  0.0  NaN\n",
              "4                Не женат / не замужем  210.0   52.0    9.0   1.0  1.0  NaN"
            ]
          },
          "execution_count": 25,
          "metadata": {},
          "output_type": "execute_result"
        }
      ],
      "source": [
        "data_pivot2 = pd.pivot_table(data, index=['family_status_id', 'family_status'], \\\n",
        "                             columns='children', values=['debt'], aggfunc='sum')\n",
        "data_pivot2"
      ]
    },
    {
      "cell_type": "markdown",
      "id": "cca7de09",
      "metadata": {
        "id": "cca7de09"
      },
      "source": [
        "##### Выясним доли просрочек?"
      ]
    },
    {
      "cell_type": "code",
      "execution_count": null,
      "id": "0f4b8d4c",
      "metadata": {
        "id": "0f4b8d4c",
        "outputId": "761868f2-2ab9-4836-d169-e47c58bd3783"
      },
      "outputs": [
        {
          "data": {
            "text/html": [
              "<div>\n",
              "<style scoped>\n",
              "    .dataframe tbody tr th:only-of-type {\n",
              "        vertical-align: middle;\n",
              "    }\n",
              "\n",
              "    .dataframe tbody tr th {\n",
              "        vertical-align: top;\n",
              "    }\n",
              "\n",
              "    .dataframe thead tr th {\n",
              "        text-align: left;\n",
              "    }\n",
              "\n",
              "    .dataframe thead tr:last-of-type th {\n",
              "        text-align: right;\n",
              "    }\n",
              "</style>\n",
              "<table border=\"1\" class=\"dataframe\">\n",
              "  <thead>\n",
              "    <tr>\n",
              "      <th></th>\n",
              "      <th colspan=\"3\" halign=\"left\">debt</th>\n",
              "    </tr>\n",
              "    <tr>\n",
              "      <th></th>\n",
              "      <th>sum</th>\n",
              "      <th>count</th>\n",
              "      <th>- - - %</th>\n",
              "    </tr>\n",
              "    <tr>\n",
              "      <th>children</th>\n",
              "      <th></th>\n",
              "      <th></th>\n",
              "      <th></th>\n",
              "    </tr>\n",
              "  </thead>\n",
              "  <tbody>\n",
              "    <tr>\n",
              "      <th>0</th>\n",
              "      <td>1063</td>\n",
              "      <td>14091</td>\n",
              "      <td>7.543822</td>\n",
              "    </tr>\n",
              "    <tr>\n",
              "      <th>1</th>\n",
              "      <td>444</td>\n",
              "      <td>4808</td>\n",
              "      <td>9.234609</td>\n",
              "    </tr>\n",
              "    <tr>\n",
              "      <th>2</th>\n",
              "      <td>194</td>\n",
              "      <td>2052</td>\n",
              "      <td>9.454191</td>\n",
              "    </tr>\n",
              "    <tr>\n",
              "      <th>3</th>\n",
              "      <td>27</td>\n",
              "      <td>330</td>\n",
              "      <td>8.181818</td>\n",
              "    </tr>\n",
              "    <tr>\n",
              "      <th>4</th>\n",
              "      <td>4</td>\n",
              "      <td>41</td>\n",
              "      <td>9.756098</td>\n",
              "    </tr>\n",
              "    <tr>\n",
              "      <th>5</th>\n",
              "      <td>0</td>\n",
              "      <td>9</td>\n",
              "      <td>0.000000</td>\n",
              "    </tr>\n",
              "  </tbody>\n",
              "</table>\n",
              "</div>"
            ],
            "text/plain": [
              "          debt                 \n",
              "           sum  count   - - - %\n",
              "children                       \n",
              "0         1063  14091  7.543822\n",
              "1          444   4808  9.234609\n",
              "2          194   2052  9.454191\n",
              "3           27    330  8.181818\n",
              "4            4     41  9.756098\n",
              "5            0      9  0.000000"
            ]
          },
          "execution_count": 26,
          "metadata": {},
          "output_type": "execute_result"
        }
      ],
      "source": [
        "def doli_debt(column_list):\n",
        "    smotr_table = data.groupby(column_list).agg({'debt':['sum', 'count']})\n",
        "    smotr_table[('debt', '- - - %')] = smotr_table[('debt', 'sum')] / smotr_table[('debt', 'count')]*100\n",
        "    return smotr_table\n",
        "\n",
        "doli_debt(['children'])"
      ]
    },
    {
      "cell_type": "code",
      "execution_count": null,
      "id": "38b76531",
      "metadata": {
        "id": "38b76531",
        "outputId": "286fd9a3-6523-4f26-ac18-30eea8898683"
      },
      "outputs": [
        {
          "data": {
            "text/plain": [
              "children\n",
              "0    7.543822\n",
              "1    9.234609\n",
              "2    9.454191\n",
              "3    8.181818\n",
              "4    9.756098\n",
              "5    0.000000\n",
              "Name: debt, dtype: float64"
            ]
          },
          "execution_count": 34,
          "metadata": {},
          "output_type": "execute_result"
        }
      ],
      "source": [
        "data.groupby('children')['debt'].mean()*100"
      ]
    },
    {
      "cell_type": "markdown",
      "id": "f2bc51ba",
      "metadata": {
        "deletable": false,
        "id": "f2bc51ba"
      },
      "source": [
        "**Вывод:** \n",
        "в целом данные показывают, что при наличии детей от 1 до 4 просрочки присутствуют практически в равной степени, немного ниже в группе вообще без детей. А вот при наличии 5-ти детей просрочки отсутствуют вовсе. Если сравнивать группы без детей, а она в сумме больше всех остальных вместе взятых, с группой с детьми, то вероятность просрочек будет ниже в семьях без детей. Группа из 5-ти детей маленькая, но самая ответственная, учитывая данный момент, опираться на результат просрочек в такой маленькой выборке сложно. Но факт остается фактом, самые ответственные в группе из 5ти детей.  "
      ]
    },
    {
      "cell_type": "markdown",
      "id": "141d8396",
      "metadata": {
        "deletable": false,
        "editable": false,
        "id": "141d8396"
      },
      "source": [
        "#### 3.2 Есть ли зависимость между семейным положением и возвратом кредита в срок?"
      ]
    },
    {
      "cell_type": "code",
      "execution_count": null,
      "id": "03a22644",
      "metadata": {
        "deletable": false,
        "id": "03a22644",
        "outputId": "1fcf53d4-4219-4ce5-e6c7-a9be51834e76"
      },
      "outputs": [
        {
          "data": {
            "text/html": [
              "<div>\n",
              "<style scoped>\n",
              "    .dataframe tbody tr th:only-of-type {\n",
              "        vertical-align: middle;\n",
              "    }\n",
              "\n",
              "    .dataframe tbody tr th {\n",
              "        vertical-align: top;\n",
              "    }\n",
              "\n",
              "    .dataframe thead th {\n",
              "        text-align: right;\n",
              "    }\n",
              "</style>\n",
              "<table border=\"1\" class=\"dataframe\">\n",
              "  <thead>\n",
              "    <tr style=\"text-align: right;\">\n",
              "      <th></th>\n",
              "      <th>debt</th>\n",
              "    </tr>\n",
              "    <tr>\n",
              "      <th>family_status</th>\n",
              "      <th></th>\n",
              "    </tr>\n",
              "  </thead>\n",
              "  <tbody>\n",
              "    <tr>\n",
              "      <th>вдовец / вдова</th>\n",
              "      <td>951</td>\n",
              "    </tr>\n",
              "    <tr>\n",
              "      <th>в разводе</th>\n",
              "      <td>1189</td>\n",
              "    </tr>\n",
              "    <tr>\n",
              "      <th>Не женат / не замужем</th>\n",
              "      <td>2796</td>\n",
              "    </tr>\n",
              "    <tr>\n",
              "      <th>гражданский брак</th>\n",
              "      <td>4134</td>\n",
              "    </tr>\n",
              "    <tr>\n",
              "      <th>женат / замужем</th>\n",
              "      <td>12261</td>\n",
              "    </tr>\n",
              "  </tbody>\n",
              "</table>\n",
              "</div>"
            ],
            "text/plain": [
              "                        debt\n",
              "family_status               \n",
              "вдовец / вдова           951\n",
              "в разводе               1189\n",
              "Не женат / не замужем   2796\n",
              "гражданский брак        4134\n",
              "женат / замужем        12261"
            ]
          },
          "execution_count": 41,
          "metadata": {},
          "output_type": "execute_result"
        }
      ],
      "source": [
        "# Ваш код будет здесь. Вы можете создавать новые ячейки.\n",
        "data_pivot2 = pd.pivot_table(data, index=['family_status'], \\\n",
        "                             values=['debt'], aggfunc='count')\n",
        "data_pivot2.sort_values('debt')"
      ]
    },
    {
      "cell_type": "code",
      "execution_count": null,
      "id": "293558fd",
      "metadata": {
        "id": "293558fd",
        "outputId": "088bc616-e15b-4084-fbf9-81b9c14e0667"
      },
      "outputs": [
        {
          "data": {
            "text/plain": [
              "family_status\n",
              "Не женат / не замужем    9.763948\n",
              "в разводе                7.064760\n",
              "вдовец / вдова           6.624606\n",
              "гражданский брак         9.313014\n",
              "женат / замужем          7.560558\n",
              "Name: debt, dtype: float64"
            ]
          },
          "execution_count": 40,
          "metadata": {},
          "output_type": "execute_result"
        }
      ],
      "source": [
        "data.groupby('family_status')['debt'].mean()*100"
      ]
    },
    {
      "cell_type": "code",
      "execution_count": null,
      "id": "4849f5a9",
      "metadata": {
        "id": "4849f5a9",
        "outputId": "985e8e23-895b-4464-f559-30f26590437f"
      },
      "outputs": [
        {
          "data": {
            "text/html": [
              "<div>\n",
              "<style scoped>\n",
              "    .dataframe tbody tr th:only-of-type {\n",
              "        vertical-align: middle;\n",
              "    }\n",
              "\n",
              "    .dataframe tbody tr th {\n",
              "        vertical-align: top;\n",
              "    }\n",
              "\n",
              "    .dataframe thead tr th {\n",
              "        text-align: left;\n",
              "    }\n",
              "\n",
              "    .dataframe thead tr:last-of-type th {\n",
              "        text-align: right;\n",
              "    }\n",
              "</style>\n",
              "<table border=\"1\" class=\"dataframe\">\n",
              "  <thead>\n",
              "    <tr>\n",
              "      <th></th>\n",
              "      <th colspan=\"3\" halign=\"left\">debt</th>\n",
              "    </tr>\n",
              "    <tr>\n",
              "      <th></th>\n",
              "      <th>sum</th>\n",
              "      <th>count</th>\n",
              "      <th>- - - %</th>\n",
              "    </tr>\n",
              "    <tr>\n",
              "      <th>family_status</th>\n",
              "      <th></th>\n",
              "      <th></th>\n",
              "      <th></th>\n",
              "    </tr>\n",
              "  </thead>\n",
              "  <tbody>\n",
              "    <tr>\n",
              "      <th>Не женат / не замужем</th>\n",
              "      <td>273</td>\n",
              "      <td>2796</td>\n",
              "      <td>9.763948</td>\n",
              "    </tr>\n",
              "    <tr>\n",
              "      <th>в разводе</th>\n",
              "      <td>84</td>\n",
              "      <td>1189</td>\n",
              "      <td>7.064760</td>\n",
              "    </tr>\n",
              "    <tr>\n",
              "      <th>вдовец / вдова</th>\n",
              "      <td>63</td>\n",
              "      <td>951</td>\n",
              "      <td>6.624606</td>\n",
              "    </tr>\n",
              "    <tr>\n",
              "      <th>гражданский брак</th>\n",
              "      <td>385</td>\n",
              "      <td>4134</td>\n",
              "      <td>9.313014</td>\n",
              "    </tr>\n",
              "    <tr>\n",
              "      <th>женат / замужем</th>\n",
              "      <td>927</td>\n",
              "      <td>12261</td>\n",
              "      <td>7.560558</td>\n",
              "    </tr>\n",
              "  </tbody>\n",
              "</table>\n",
              "</div>"
            ],
            "text/plain": [
              "                      debt                 \n",
              "                       sum  count   - - - %\n",
              "family_status                              \n",
              "Не женат / не замужем  273   2796  9.763948\n",
              "в разводе               84   1189  7.064760\n",
              "вдовец / вдова          63    951  6.624606\n",
              "гражданский брак       385   4134  9.313014\n",
              "женат / замужем        927  12261  7.560558"
            ]
          },
          "execution_count": 43,
          "metadata": {},
          "output_type": "execute_result"
        }
      ],
      "source": [
        "doli_debt(['family_status'])"
      ]
    },
    {
      "cell_type": "markdown",
      "id": "0ca0d39a",
      "metadata": {
        "deletable": false,
        "id": "0ca0d39a"
      },
      "source": [
        "**Вывод:** Просрочек больше у тех, кто состоит в отношениях, одиночки более дисциплинированы\n",
        "\n",
        "**Исправил Вывод№2** Группа **не замужем и гражданский брак** достаточно крупные, но в них самые высокие просрочки **~9.5%**  **В группах - вразводе и вдова**, в два раза меньше количество, но и самые низкие просрочки порядка**6-7%**\n",
        "**Семейные пары** - это самая многочисленная группа, больше всех вместе взятых и % просрочек один из самых нихких **~7,5%!** Семейные более ответственно подходят к возврату кредитов."
      ]
    },
    {
      "cell_type": "markdown",
      "id": "e5653107",
      "metadata": {
        "deletable": false,
        "editable": false,
        "id": "e5653107"
      },
      "source": [
        "#### 3.3 Есть ли зависимость между уровнем дохода и возвратом кредита в срок?"
      ]
    },
    {
      "cell_type": "code",
      "execution_count": null,
      "id": "38e67442",
      "metadata": {
        "deletable": false,
        "id": "38e67442",
        "outputId": "3de226e2-0ffe-4106-9b39-a0c5ab35cb2a"
      },
      "outputs": [
        {
          "data": {
            "text/html": [
              "<div>\n",
              "<style scoped>\n",
              "    .dataframe tbody tr th:only-of-type {\n",
              "        vertical-align: middle;\n",
              "    }\n",
              "\n",
              "    .dataframe tbody tr th {\n",
              "        vertical-align: top;\n",
              "    }\n",
              "\n",
              "    .dataframe thead tr th {\n",
              "        text-align: left;\n",
              "    }\n",
              "\n",
              "    .dataframe thead tr:last-of-type th {\n",
              "        text-align: right;\n",
              "    }\n",
              "</style>\n",
              "<table border=\"1\" class=\"dataframe\">\n",
              "  <thead>\n",
              "    <tr>\n",
              "      <th></th>\n",
              "      <th colspan=\"3\" halign=\"left\">debt</th>\n",
              "    </tr>\n",
              "    <tr>\n",
              "      <th></th>\n",
              "      <th>sum</th>\n",
              "      <th>count</th>\n",
              "      <th>- - - %</th>\n",
              "    </tr>\n",
              "    <tr>\n",
              "      <th>total_income_category</th>\n",
              "      <th></th>\n",
              "      <th></th>\n",
              "      <th></th>\n",
              "    </tr>\n",
              "  </thead>\n",
              "  <tbody>\n",
              "    <tr>\n",
              "      <th>A</th>\n",
              "      <td>2</td>\n",
              "      <td>25</td>\n",
              "      <td>8.000000</td>\n",
              "    </tr>\n",
              "    <tr>\n",
              "      <th>B</th>\n",
              "      <td>354</td>\n",
              "      <td>5014</td>\n",
              "      <td>7.060231</td>\n",
              "    </tr>\n",
              "    <tr>\n",
              "      <th>C</th>\n",
              "      <td>1353</td>\n",
              "      <td>15921</td>\n",
              "      <td>8.498210</td>\n",
              "    </tr>\n",
              "    <tr>\n",
              "      <th>D</th>\n",
              "      <td>21</td>\n",
              "      <td>349</td>\n",
              "      <td>6.017192</td>\n",
              "    </tr>\n",
              "    <tr>\n",
              "      <th>E</th>\n",
              "      <td>2</td>\n",
              "      <td>22</td>\n",
              "      <td>9.090909</td>\n",
              "    </tr>\n",
              "  </tbody>\n",
              "</table>\n",
              "</div>"
            ],
            "text/plain": [
              "                       debt                 \n",
              "                        sum  count   - - - %\n",
              "total_income_category                       \n",
              "A                         2     25  8.000000\n",
              "B                       354   5014  7.060231\n",
              "C                      1353  15921  8.498210\n",
              "D                        21    349  6.017192\n",
              "E                         2     22  9.090909"
            ]
          },
          "execution_count": 29,
          "metadata": {},
          "output_type": "execute_result"
        }
      ],
      "source": [
        "# Ваш код будет здесь. Вы можете создавать новые ячейки.\n",
        "\n",
        "doli_debt(['total_income_category'])"
      ]
    },
    {
      "cell_type": "markdown",
      "id": "f5d4570e",
      "metadata": {
        "deletable": false,
        "id": "f5d4570e"
      },
      "source": [
        "**Вывод:** Группы с малым и большими доходами **А и E** слишком малы, да и процент просрочек выше - 8-9%. Более ответственно подходят к возврату группы категории **В и D** 7-6% соответственно, хотя количество клиентов в данных группах не слишком велико. **Группа С** самая большая и просрочки в ней составляют 8,5%, что не больше чем в остальных группах! В целом доход не сильно влияет на просрочки, скорее даже всех бошльше просрочек у богатых."
      ]
    },
    {
      "cell_type": "markdown",
      "id": "1c336702",
      "metadata": {
        "deletable": false,
        "editable": false,
        "id": "1c336702"
      },
      "source": [
        "#### 3.4 Как разные цели кредита влияют на его возврат в срок?"
      ]
    },
    {
      "cell_type": "code",
      "execution_count": null,
      "id": "6ad6beef",
      "metadata": {
        "deletable": false,
        "id": "6ad6beef",
        "outputId": "b315efcd-9514-4e88-aa64-84c7c94dcacf"
      },
      "outputs": [
        {
          "data": {
            "text/html": [
              "<div>\n",
              "<style scoped>\n",
              "    .dataframe tbody tr th:only-of-type {\n",
              "        vertical-align: middle;\n",
              "    }\n",
              "\n",
              "    .dataframe tbody tr th {\n",
              "        vertical-align: top;\n",
              "    }\n",
              "\n",
              "    .dataframe thead tr th {\n",
              "        text-align: left;\n",
              "    }\n",
              "\n",
              "    .dataframe thead tr:last-of-type th {\n",
              "        text-align: right;\n",
              "    }\n",
              "</style>\n",
              "<table border=\"1\" class=\"dataframe\">\n",
              "  <thead>\n",
              "    <tr>\n",
              "      <th></th>\n",
              "      <th colspan=\"3\" halign=\"left\">debt</th>\n",
              "    </tr>\n",
              "    <tr>\n",
              "      <th></th>\n",
              "      <th>sum</th>\n",
              "      <th>count</th>\n",
              "      <th>- - - %</th>\n",
              "    </tr>\n",
              "    <tr>\n",
              "      <th>purpose_category</th>\n",
              "      <th></th>\n",
              "      <th></th>\n",
              "      <th></th>\n",
              "    </tr>\n",
              "  </thead>\n",
              "  <tbody>\n",
              "    <tr>\n",
              "      <th>операции с автомобилем</th>\n",
              "      <td>400</td>\n",
              "      <td>4279</td>\n",
              "      <td>9.347978</td>\n",
              "    </tr>\n",
              "    <tr>\n",
              "      <th>операции с недвижимостью</th>\n",
              "      <td>780</td>\n",
              "      <td>10751</td>\n",
              "      <td>7.255139</td>\n",
              "    </tr>\n",
              "    <tr>\n",
              "      <th>получение образования</th>\n",
              "      <td>369</td>\n",
              "      <td>3988</td>\n",
              "      <td>9.252758</td>\n",
              "    </tr>\n",
              "    <tr>\n",
              "      <th>проведение свадьбы</th>\n",
              "      <td>183</td>\n",
              "      <td>2313</td>\n",
              "      <td>7.911803</td>\n",
              "    </tr>\n",
              "  </tbody>\n",
              "</table>\n",
              "</div>"
            ],
            "text/plain": [
              "                         debt                 \n",
              "                          sum  count   - - - %\n",
              "purpose_category                              \n",
              "операции с автомобилем    400   4279  9.347978\n",
              "операции с недвижимостью  780  10751  7.255139\n",
              "получение образования     369   3988  9.252758\n",
              "проведение свадьбы        183   2313  7.911803"
            ]
          },
          "execution_count": 30,
          "metadata": {},
          "output_type": "execute_result"
        }
      ],
      "source": [
        "# Ваш код будет здесь. Вы можете создавать новые ячейки.\n",
        "doli_debt(['purpose_category'])"
      ]
    },
    {
      "cell_type": "markdown",
      "id": "b2d9af78",
      "metadata": {
        "deletable": false,
        "id": "b2d9af78"
      },
      "source": [
        "**Вывод:** В целом - Всех меньше просрочек 183 в категории **проведение свадьбы** **7.9%**, но она самая малочисленная. Всех больше просрочек в категории **операции с недвижимостью** 780, но она самая большая и процент просрочек ниже остальных категорий **7,2%!** Также большие категории **операции с авто и образование**, но там процент просрочек выше чем в недвижимости **~9.3%**"
      ]
    },
    {
      "cell_type": "markdown",
      "id": "abc574b4",
      "metadata": {
        "deletable": false,
        "editable": false,
        "id": "abc574b4"
      },
      "source": [
        "#### 3.5 Приведем возможные причины появления пропусков в исходных данных."
      ]
    },
    {
      "cell_type": "markdown",
      "id": "345d3a03",
      "metadata": {
        "deletable": false,
        "id": "345d3a03"
      },
      "source": [
        "Пропуски обнаружены в **days_employed и total_income** Вероятно пропуски произошли по вине человека при заполнении, а то что касается дохода, то вероятно его могли намеренно не указывать. Интересная деталь, что пропусков одинаковое количество в обеих категориях **2174**, вероятно они не были указаны."
      ]
    },
    {
      "cell_type": "markdown",
      "id": "8a387f84",
      "metadata": {
        "id": "8a387f84"
      },
      "source": [
        "\n",
        "\n",
        "**Вероятно пропуски произошли по вине человека при заполнении, а то что касается дохода, то вероятно его могли намеренно не указывать** - - но в таком случае заемщик не получил бы кредит! А он его получил по факту, так как соответствующие строки находятся в одной из таблиц данных нашего банка.\n",
        "\n",
        "---\n",
        "Действительно, в наших данных пропуски в столбцах \"трудовой стаж\" и \"ежемесячный доход\" абсолютно идентичны. Количество строк с отсутствующими данными в обоих указанных столбцах совпадает и равно 2174. Маловероятно, что специалисты по выдаче кредитов, заполнив все без исключения ячейки других столбцов по каждому кредитополучателю, оставляли незаполненными именно два показателя, и сделали это ровно 2174 раза в каждом столбце. Даже не проводя проверку, во всех ли случаях незаполненные ячейки находятся в одной и то же строке с высокой долей вероятности можно утверждать, что произошла техническая ошибка при формировании таблицы с исходными данными (либо некий сбой во время выгрузки данных на анализ, либо при объединении данных в единый файл, который также должен был передаваться на анализ, либо эти данные не собирались). \n",
        "\n",
        "На пользу основной версии об «объединении», как причине проблем с данными работает вот ещё какой аргумент: пропуски в столбцах 'total_income' и 'days_employed' соответствуют значениям 'пенсионер', 'госслужащий', 'компаньон', 'сотрудник' и 'предприниматель' в столбце 'income_type'. Однако в 'income_type' также присутствуют значения ‘студент’, ‘безработный’ и ‘в декрете’, в которых пропусков нет вообще. На основании этого можно предположить, что исходная таблица была объединена с другим датасетом, содержавшим сведения о категориях 'пенсионер', 'госслужащий', 'компаньон', 'сотрудник' и 'предприниматель', но без сведений о доходе и трудовом стаже. В результате при объединении таблиц столбцы 'total_income' и 'days_employed' были заполнены значением NaN."
      ]
    },
    {
      "cell_type": "markdown",
      "id": "b342588b",
      "metadata": {
        "deletable": false,
        "editable": false,
        "id": "b342588b"
      },
      "source": [
        "#### 3.6 Объясним, почему заполнить пропуски медианным значением — лучшее решение для количественных переменных."
      ]
    },
    {
      "cell_type": "markdown",
      "id": "5a9bebf9",
      "metadata": {
        "id": "5a9bebf9"
      },
      "source": [
        "В случае, если в данных наблюдаются \"выбросы\", то даже небольшое их количество может сильно \"перетягивать\" среднее значение в большую или меньшую сторону. Медиана зачастую даёт более правдивую картину. В общем случае, в реальных \"живых\" проектах я рекомендую в каждом случае смотреть на то, как распределены данные."
      ]
    },
    {
      "cell_type": "markdown",
      "id": "fb1f1326",
      "metadata": {
        "deletable": false,
        "editable": false,
        "id": "fb1f1326"
      },
      "source": [
        "### Шаг 4: общий вывод."
      ]
    },
    {
      "cell_type": "markdown",
      "id": "6e2e5dcb",
      "metadata": {
        "deletable": false,
        "id": "6e2e5dcb"
      },
      "source": [
        "Провели работу по очистке данных, удалили пропуски, обработали аномалии и дубликаты, добавили категории для удобства анализа. В целом выявили определённые закономерности по просрочкам в разных категориях.\n",
        "\n",
        "**Проанализированы данные** В результате мы удалили пропуски и заполнили их медианными значениями. Удалили дубликаты.\n",
        "\n",
        "**Общий вывод следующий:**\n",
        "Наличие детей в равной степени одинаково влияет на возврат кредита, просрочка порядка **~9%**\n",
        "Семьи без детей достаточно большая группа да и процент просрочек ниже **7,5%**\n",
        "Исключением явилась небольшая группа из **5** детей, просрочек нет вообще **0%**, но в связи с малочисленностью опираться на данную выборку сложно\n",
        "\n",
        "Группа **не замужем и гражданский брак** достаточно крупные, но в них самые высокие просрочки **~9.5%** \n",
        "В группах - **вразводе и вдова**, в два раза меньше количество, но и самые низкие просрочки порядка **6-7%** \n",
        "**Семейные пары** - это самая многочисленная группа, больше всех вместе взятых и **%** просрочек один из самых нихких **~7,5%**\n",
        "\n",
        "**Семейные более ответственно подходят к возврату кредитов.**\n",
        "\n",
        "Группы с малыми доходами сравнительно небольшие, верноятно не могут обеспечить стабильный фин поток и не берут кредиты **8%**\n",
        "Группы большими доходами не слишком видимо нуждаются в кредитах, потому и слишком малы, но процент просрочек выше **9%**. \n",
        "Более ответственно подходят к возврату группы категории В и D 7-6% соответственно, хотя количество клиентов в данных группах не слишком велико. Группа С самая большая и просрочки в ней составляют 8,5%, что не больше чем в остальных группах! \n",
        "**В целом доход не сильно влияет на просрочки, скорее даже всех бошльше просрочек у богатых.**\n",
        "\n",
        "В **категориях автомоБили, оБразование, недвиЖимость**, самая Большая группа это недвижимость просрочек в данной групе меньше всех **7,2%** автомобили и образование**9,5%** свадьбы **7,9*%**, но это самая малочисленная группа\n",
        "\n",
        "**В целом по группах процент просрочек относительно схожий, предпологаю, что на просрочку оказывает влияние в первую очередь семейное положение, затем наличие детей, следом доход - если он позволяет взять кредит и на четвертом месте цель.**"
      ]
    }
  ],
  "metadata": {
    "ExecuteTimeLog": [
      {
        "duration": 514,
        "start_time": "2022-12-20T14:59:06.951Z"
      },
      {
        "duration": 120,
        "start_time": "2022-12-20T14:59:12.491Z"
      },
      {
        "duration": 123,
        "start_time": "2022-12-20T14:59:14.775Z"
      },
      {
        "duration": 23,
        "start_time": "2022-12-20T14:59:36.585Z"
      },
      {
        "duration": 15,
        "start_time": "2022-12-20T14:59:45.626Z"
      },
      {
        "duration": 13,
        "start_time": "2022-12-20T14:59:58.128Z"
      },
      {
        "duration": 46,
        "start_time": "2022-12-20T15:00:08.757Z"
      },
      {
        "duration": 4,
        "start_time": "2022-12-20T15:00:11.324Z"
      },
      {
        "duration": 7,
        "start_time": "2022-12-20T15:00:27.401Z"
      },
      {
        "duration": 5,
        "start_time": "2022-12-20T15:00:29.981Z"
      },
      {
        "duration": 8,
        "start_time": "2022-12-20T15:00:31.524Z"
      },
      {
        "duration": 5,
        "start_time": "2022-12-20T15:00:32.953Z"
      },
      {
        "duration": 33,
        "start_time": "2022-12-20T15:00:45.020Z"
      },
      {
        "duration": 10,
        "start_time": "2022-12-20T15:00:46.689Z"
      },
      {
        "duration": 4,
        "start_time": "2022-12-20T15:00:50.397Z"
      },
      {
        "duration": 12,
        "start_time": "2022-12-20T15:00:52.390Z"
      },
      {
        "duration": 18,
        "start_time": "2022-12-20T15:00:53.438Z"
      },
      {
        "duration": 25,
        "start_time": "2022-12-20T15:00:53.740Z"
      },
      {
        "duration": 3,
        "start_time": "2022-12-20T15:00:55.719Z"
      },
      {
        "duration": 14,
        "start_time": "2022-12-20T15:00:56.454Z"
      },
      {
        "duration": 7,
        "start_time": "2022-12-20T15:00:57.973Z"
      },
      {
        "duration": 4,
        "start_time": "2022-12-20T15:00:59.504Z"
      },
      {
        "duration": 9,
        "start_time": "2022-12-20T15:01:00.072Z"
      },
      {
        "duration": 2,
        "start_time": "2022-12-20T15:01:01.613Z"
      },
      {
        "duration": 2,
        "start_time": "2022-12-20T15:01:03.532Z"
      },
      {
        "duration": 3,
        "start_time": "2022-12-20T15:01:04.696Z"
      },
      {
        "duration": 2,
        "start_time": "2022-12-20T15:01:07.788Z"
      },
      {
        "duration": 631,
        "start_time": "2022-12-24T09:59:37.574Z"
      },
      {
        "duration": 36,
        "start_time": "2022-12-24T09:59:38.208Z"
      },
      {
        "duration": 87,
        "start_time": "2022-12-24T09:59:38.246Z"
      },
      {
        "duration": 31,
        "start_time": "2022-12-24T09:59:38.336Z"
      },
      {
        "duration": 78,
        "start_time": "2022-12-24T09:59:38.369Z"
      },
      {
        "duration": 4,
        "start_time": "2022-12-24T09:59:38.449Z"
      },
      {
        "duration": 44,
        "start_time": "2022-12-24T09:59:38.455Z"
      },
      {
        "duration": 21,
        "start_time": "2022-12-24T09:59:38.502Z"
      },
      {
        "duration": 34,
        "start_time": "2022-12-24T09:59:38.525Z"
      },
      {
        "duration": 22,
        "start_time": "2022-12-24T09:59:38.564Z"
      },
      {
        "duration": 83,
        "start_time": "2022-12-24T09:59:38.589Z"
      },
      {
        "duration": 18,
        "start_time": "2022-12-24T09:59:38.674Z"
      },
      {
        "duration": 42,
        "start_time": "2022-12-24T09:59:38.694Z"
      },
      {
        "duration": 62,
        "start_time": "2022-12-24T09:59:38.739Z"
      },
      {
        "duration": 43,
        "start_time": "2022-12-24T09:59:38.803Z"
      },
      {
        "duration": 43,
        "start_time": "2022-12-24T09:59:38.849Z"
      },
      {
        "duration": 15,
        "start_time": "2022-12-24T09:59:38.894Z"
      },
      {
        "duration": 41,
        "start_time": "2022-12-24T09:59:38.911Z"
      },
      {
        "duration": 64,
        "start_time": "2022-12-24T09:59:38.956Z"
      },
      {
        "duration": 32,
        "start_time": "2022-12-24T09:59:39.023Z"
      },
      {
        "duration": 71,
        "start_time": "2022-12-24T09:59:39.057Z"
      },
      {
        "duration": 61,
        "start_time": "2022-12-24T09:59:39.132Z"
      },
      {
        "duration": 39,
        "start_time": "2022-12-24T09:59:39.195Z"
      },
      {
        "duration": 52,
        "start_time": "2022-12-24T09:59:39.238Z"
      },
      {
        "duration": 50,
        "start_time": "2022-12-24T09:59:39.292Z"
      },
      {
        "duration": 4,
        "start_time": "2022-12-24T10:08:58.035Z"
      },
      {
        "duration": 39,
        "start_time": "2022-12-24T10:47:45.975Z"
      },
      {
        "duration": 25,
        "start_time": "2022-12-24T10:48:20.142Z"
      },
      {
        "duration": 10,
        "start_time": "2022-12-24T10:48:37.583Z"
      },
      {
        "duration": 1524,
        "start_time": "2022-12-24T10:49:19.315Z"
      },
      {
        "duration": 9,
        "start_time": "2022-12-24T10:49:36.715Z"
      },
      {
        "duration": 11,
        "start_time": "2022-12-24T10:54:14.775Z"
      },
      {
        "duration": 8,
        "start_time": "2022-12-24T10:54:30.780Z"
      },
      {
        "duration": 108,
        "start_time": "2022-12-24T11:07:28.505Z"
      },
      {
        "duration": 6,
        "start_time": "2022-12-24T11:07:36.401Z"
      },
      {
        "duration": 6,
        "start_time": "2022-12-24T11:09:00.214Z"
      },
      {
        "duration": 5,
        "start_time": "2022-12-24T11:09:45.297Z"
      },
      {
        "duration": 16,
        "start_time": "2022-12-24T11:10:22.418Z"
      },
      {
        "duration": 19,
        "start_time": "2022-12-24T11:10:29.908Z"
      },
      {
        "duration": 16,
        "start_time": "2022-12-24T11:10:43.006Z"
      },
      {
        "duration": 15,
        "start_time": "2022-12-24T11:16:18.398Z"
      },
      {
        "duration": 4,
        "start_time": "2022-12-24T11:16:24.207Z"
      },
      {
        "duration": 1546,
        "start_time": "2022-12-24T11:16:24.689Z"
      },
      {
        "duration": 16,
        "start_time": "2022-12-24T11:16:30.026Z"
      },
      {
        "duration": 7,
        "start_time": "2022-12-24T11:16:59.489Z"
      },
      {
        "duration": 13,
        "start_time": "2022-12-24T11:17:06.807Z"
      },
      {
        "duration": 16,
        "start_time": "2022-12-24T11:17:22.107Z"
      },
      {
        "duration": 6,
        "start_time": "2022-12-24T11:17:35.805Z"
      },
      {
        "duration": 20,
        "start_time": "2022-12-24T11:17:44.873Z"
      },
      {
        "duration": 31,
        "start_time": "2022-12-24T11:18:08.447Z"
      },
      {
        "duration": 18,
        "start_time": "2022-12-24T11:18:14.195Z"
      },
      {
        "duration": 24,
        "start_time": "2022-12-24T11:20:10.847Z"
      },
      {
        "duration": 18,
        "start_time": "2022-12-24T11:20:20.017Z"
      },
      {
        "duration": 26,
        "start_time": "2022-12-24T11:20:30.668Z"
      },
      {
        "duration": 10,
        "start_time": "2022-12-24T11:20:36.070Z"
      },
      {
        "duration": 4,
        "start_time": "2022-12-24T11:21:48.898Z"
      },
      {
        "duration": 1579,
        "start_time": "2022-12-24T11:21:54.376Z"
      },
      {
        "duration": 153,
        "start_time": "2022-12-24T11:22:29.448Z"
      },
      {
        "duration": 27,
        "start_time": "2022-12-24T11:22:29.604Z"
      },
      {
        "duration": 38,
        "start_time": "2022-12-24T11:22:29.633Z"
      },
      {
        "duration": 26,
        "start_time": "2022-12-24T11:22:29.674Z"
      },
      {
        "duration": 48,
        "start_time": "2022-12-24T11:22:29.702Z"
      },
      {
        "duration": 4,
        "start_time": "2022-12-24T11:22:29.752Z"
      },
      {
        "duration": 44,
        "start_time": "2022-12-24T11:22:29.763Z"
      },
      {
        "duration": 6,
        "start_time": "2022-12-24T11:22:29.809Z"
      },
      {
        "duration": 14,
        "start_time": "2022-12-24T11:22:29.817Z"
      },
      {
        "duration": 10,
        "start_time": "2022-12-24T11:22:29.833Z"
      },
      {
        "duration": 67,
        "start_time": "2022-12-24T11:22:29.846Z"
      },
      {
        "duration": 16,
        "start_time": "2022-12-24T11:22:29.915Z"
      },
      {
        "duration": 9,
        "start_time": "2022-12-24T11:22:29.933Z"
      },
      {
        "duration": 42,
        "start_time": "2022-12-24T11:22:29.946Z"
      },
      {
        "duration": 37,
        "start_time": "2022-12-24T11:22:29.989Z"
      },
      {
        "duration": 24,
        "start_time": "2022-12-24T11:22:30.029Z"
      },
      {
        "duration": 33,
        "start_time": "2022-12-24T11:22:30.054Z"
      },
      {
        "duration": 43,
        "start_time": "2022-12-24T11:22:30.089Z"
      },
      {
        "duration": 31,
        "start_time": "2022-12-24T11:22:30.134Z"
      },
      {
        "duration": 29,
        "start_time": "2022-12-24T11:22:30.173Z"
      },
      {
        "duration": 32,
        "start_time": "2022-12-24T11:22:30.204Z"
      },
      {
        "duration": 54,
        "start_time": "2022-12-24T11:22:30.240Z"
      },
      {
        "duration": 14,
        "start_time": "2022-12-24T11:22:30.296Z"
      },
      {
        "duration": 35,
        "start_time": "2022-12-24T11:22:30.313Z"
      },
      {
        "duration": 50,
        "start_time": "2022-12-24T11:22:30.352Z"
      },
      {
        "duration": 11,
        "start_time": "2022-12-24T11:22:49.192Z"
      },
      {
        "duration": 8,
        "start_time": "2022-12-24T11:23:14.880Z"
      },
      {
        "duration": 7,
        "start_time": "2022-12-24T11:24:23.079Z"
      },
      {
        "duration": 8,
        "start_time": "2022-12-24T11:24:55.916Z"
      },
      {
        "duration": 10,
        "start_time": "2022-12-24T11:25:22.299Z"
      },
      {
        "duration": 14,
        "start_time": "2022-12-24T11:26:30.764Z"
      },
      {
        "duration": 5,
        "start_time": "2022-12-24T11:27:31.783Z"
      },
      {
        "duration": 13,
        "start_time": "2022-12-24T11:27:45.949Z"
      },
      {
        "duration": 6,
        "start_time": "2022-12-24T11:27:55.792Z"
      },
      {
        "duration": 5,
        "start_time": "2022-12-24T11:28:09.076Z"
      },
      {
        "duration": 3166,
        "start_time": "2022-12-24T11:30:18.122Z"
      },
      {
        "duration": 2768,
        "start_time": "2022-12-24T11:30:36.629Z"
      },
      {
        "duration": 3413,
        "start_time": "2022-12-24T11:33:09.690Z"
      },
      {
        "duration": 3151,
        "start_time": "2022-12-24T11:33:48.248Z"
      },
      {
        "duration": 3001,
        "start_time": "2022-12-24T11:34:23.111Z"
      },
      {
        "duration": 8,
        "start_time": "2022-12-24T11:35:58.190Z"
      },
      {
        "duration": 3054,
        "start_time": "2022-12-24T11:36:13.261Z"
      },
      {
        "duration": 2966,
        "start_time": "2022-12-24T11:36:25.969Z"
      },
      {
        "duration": 11,
        "start_time": "2022-12-24T11:48:08.041Z"
      },
      {
        "duration": 8,
        "start_time": "2022-12-24T11:48:35.881Z"
      },
      {
        "duration": 8,
        "start_time": "2022-12-24T11:49:17.618Z"
      },
      {
        "duration": 8,
        "start_time": "2022-12-24T11:49:31.089Z"
      },
      {
        "duration": 9,
        "start_time": "2022-12-24T11:49:50.883Z"
      },
      {
        "duration": 9,
        "start_time": "2022-12-24T11:50:18.330Z"
      },
      {
        "duration": 9,
        "start_time": "2022-12-24T11:50:27.131Z"
      },
      {
        "duration": 10,
        "start_time": "2022-12-24T11:50:32.232Z"
      },
      {
        "duration": 13,
        "start_time": "2022-12-24T11:50:41.474Z"
      },
      {
        "duration": 7,
        "start_time": "2022-12-24T11:56:07.797Z"
      },
      {
        "duration": 6,
        "start_time": "2022-12-24T11:56:56.268Z"
      },
      {
        "duration": 8,
        "start_time": "2022-12-24T11:57:10.369Z"
      },
      {
        "duration": 6,
        "start_time": "2022-12-24T11:57:40.284Z"
      },
      {
        "duration": 8,
        "start_time": "2022-12-24T11:57:52.351Z"
      },
      {
        "duration": 8,
        "start_time": "2022-12-24T11:58:01.291Z"
      },
      {
        "duration": 6,
        "start_time": "2022-12-24T11:58:10.435Z"
      },
      {
        "duration": 3,
        "start_time": "2022-12-24T12:58:21.081Z"
      },
      {
        "duration": 9,
        "start_time": "2022-12-24T12:58:31.512Z"
      },
      {
        "duration": 88,
        "start_time": "2022-12-24T12:58:33.809Z"
      },
      {
        "duration": 78,
        "start_time": "2022-12-24T12:58:46.880Z"
      },
      {
        "duration": 76,
        "start_time": "2022-12-24T12:58:54.884Z"
      },
      {
        "duration": 77,
        "start_time": "2022-12-24T13:01:10.219Z"
      },
      {
        "duration": 83,
        "start_time": "2022-12-24T13:01:17.800Z"
      },
      {
        "duration": 72,
        "start_time": "2022-12-24T13:01:24.112Z"
      },
      {
        "duration": 33,
        "start_time": "2022-12-24T13:05:37.543Z"
      },
      {
        "duration": 32,
        "start_time": "2022-12-24T13:06:24.642Z"
      },
      {
        "duration": 4,
        "start_time": "2022-12-24T13:08:14.141Z"
      },
      {
        "duration": 88,
        "start_time": "2022-12-24T13:08:25.130Z"
      },
      {
        "duration": 80,
        "start_time": "2022-12-24T13:09:15.987Z"
      },
      {
        "duration": 83,
        "start_time": "2022-12-24T13:09:23.317Z"
      },
      {
        "duration": 64,
        "start_time": "2022-12-24T13:11:16.347Z"
      },
      {
        "duration": 19,
        "start_time": "2022-12-24T13:33:00.708Z"
      },
      {
        "duration": 8,
        "start_time": "2022-12-24T13:33:08.978Z"
      },
      {
        "duration": 85,
        "start_time": "2022-12-24T13:34:38.572Z"
      },
      {
        "duration": 9,
        "start_time": "2022-12-24T13:51:16.425Z"
      },
      {
        "duration": 9,
        "start_time": "2022-12-24T13:51:23.808Z"
      },
      {
        "duration": 49,
        "start_time": "2022-12-24T13:51:31.059Z"
      },
      {
        "duration": 13,
        "start_time": "2022-12-24T13:51:44.378Z"
      },
      {
        "duration": 16,
        "start_time": "2022-12-24T13:52:20.349Z"
      },
      {
        "duration": 16,
        "start_time": "2022-12-24T13:52:30.611Z"
      },
      {
        "duration": 17,
        "start_time": "2022-12-24T13:53:37.269Z"
      },
      {
        "duration": 16,
        "start_time": "2022-12-24T13:53:51.101Z"
      },
      {
        "duration": 30,
        "start_time": "2022-12-24T13:53:57.342Z"
      },
      {
        "duration": 19,
        "start_time": "2022-12-24T13:54:37.166Z"
      },
      {
        "duration": 13,
        "start_time": "2022-12-24T13:54:44.403Z"
      },
      {
        "duration": 15,
        "start_time": "2022-12-24T13:55:07.618Z"
      },
      {
        "duration": 10,
        "start_time": "2022-12-24T13:56:04.718Z"
      },
      {
        "duration": 10,
        "start_time": "2022-12-24T13:56:21.831Z"
      },
      {
        "duration": 9,
        "start_time": "2022-12-24T13:56:28.128Z"
      },
      {
        "duration": 78,
        "start_time": "2022-12-24T13:56:46.068Z"
      },
      {
        "duration": 15,
        "start_time": "2022-12-24T13:56:55.261Z"
      },
      {
        "duration": 11,
        "start_time": "2022-12-24T13:57:02.378Z"
      },
      {
        "duration": 1348,
        "start_time": "2022-12-24T13:59:40.789Z"
      },
      {
        "duration": 6,
        "start_time": "2022-12-24T13:59:53.984Z"
      },
      {
        "duration": 793,
        "start_time": "2022-12-24T14:00:10.147Z"
      },
      {
        "duration": 8,
        "start_time": "2022-12-24T14:00:19.508Z"
      },
      {
        "duration": 9,
        "start_time": "2022-12-24T14:00:48.678Z"
      },
      {
        "duration": 7,
        "start_time": "2022-12-24T14:00:55.773Z"
      },
      {
        "duration": 7,
        "start_time": "2022-12-24T14:01:02.619Z"
      },
      {
        "duration": 8,
        "start_time": "2022-12-24T14:01:16.757Z"
      },
      {
        "duration": 9,
        "start_time": "2022-12-24T14:02:19.198Z"
      },
      {
        "duration": 8,
        "start_time": "2022-12-24T14:02:27.332Z"
      },
      {
        "duration": 10,
        "start_time": "2022-12-24T14:03:01.663Z"
      },
      {
        "duration": 7,
        "start_time": "2022-12-24T14:03:32.418Z"
      },
      {
        "duration": 8,
        "start_time": "2022-12-24T14:03:39.498Z"
      },
      {
        "duration": 8,
        "start_time": "2022-12-24T14:04:21.768Z"
      },
      {
        "duration": 8,
        "start_time": "2022-12-24T14:04:32.700Z"
      },
      {
        "duration": 756,
        "start_time": "2022-12-24T14:08:46.808Z"
      },
      {
        "duration": 14,
        "start_time": "2022-12-24T14:14:54.554Z"
      },
      {
        "duration": 13,
        "start_time": "2022-12-24T14:15:11.660Z"
      },
      {
        "duration": 11,
        "start_time": "2022-12-24T14:16:04.663Z"
      },
      {
        "duration": 349,
        "start_time": "2022-12-24T14:16:25.266Z"
      },
      {
        "duration": 1183,
        "start_time": "2022-12-24T14:16:55.963Z"
      },
      {
        "duration": 68,
        "start_time": "2022-12-24T14:17:08.499Z"
      },
      {
        "duration": 14,
        "start_time": "2022-12-24T14:17:15.160Z"
      },
      {
        "duration": 297,
        "start_time": "2022-12-24T14:17:23.453Z"
      },
      {
        "duration": 323,
        "start_time": "2022-12-24T14:17:51.832Z"
      },
      {
        "duration": 10,
        "start_time": "2022-12-24T14:17:57.237Z"
      },
      {
        "duration": 20,
        "start_time": "2022-12-24T14:19:35.924Z"
      },
      {
        "duration": 17,
        "start_time": "2022-12-24T14:20:13.837Z"
      },
      {
        "duration": 20,
        "start_time": "2022-12-24T14:20:57.809Z"
      },
      {
        "duration": 18,
        "start_time": "2022-12-24T14:21:09.621Z"
      },
      {
        "duration": 13,
        "start_time": "2022-12-24T14:23:38.015Z"
      },
      {
        "duration": 20,
        "start_time": "2022-12-24T14:24:48.550Z"
      },
      {
        "duration": 16,
        "start_time": "2022-12-24T14:24:54.094Z"
      },
      {
        "duration": 11,
        "start_time": "2022-12-24T14:25:00.387Z"
      },
      {
        "duration": 26,
        "start_time": "2022-12-24T14:25:15.139Z"
      },
      {
        "duration": 9,
        "start_time": "2022-12-24T14:25:21.406Z"
      },
      {
        "duration": 16,
        "start_time": "2022-12-24T14:25:23.273Z"
      },
      {
        "duration": 300,
        "start_time": "2022-12-24T14:25:52.713Z"
      },
      {
        "duration": 13,
        "start_time": "2022-12-24T14:26:04.394Z"
      },
      {
        "duration": 9,
        "start_time": "2022-12-24T14:26:41.304Z"
      },
      {
        "duration": 13,
        "start_time": "2022-12-24T14:26:45.647Z"
      },
      {
        "duration": 305,
        "start_time": "2022-12-24T14:26:45.876Z"
      },
      {
        "duration": 11,
        "start_time": "2022-12-24T14:26:47.301Z"
      },
      {
        "duration": 17,
        "start_time": "2022-12-24T14:26:48.474Z"
      },
      {
        "duration": 317,
        "start_time": "2022-12-24T14:26:48.798Z"
      },
      {
        "duration": 13,
        "start_time": "2022-12-24T14:26:50.495Z"
      },
      {
        "duration": 1214,
        "start_time": "2022-12-24T14:27:34.067Z"
      },
      {
        "duration": 1288,
        "start_time": "2022-12-24T14:28:16.646Z"
      },
      {
        "duration": 305,
        "start_time": "2022-12-24T14:28:23.168Z"
      },
      {
        "duration": 138,
        "start_time": "2022-12-24T14:28:31.579Z"
      },
      {
        "duration": 18,
        "start_time": "2022-12-24T14:28:31.719Z"
      },
      {
        "duration": 47,
        "start_time": "2022-12-24T14:28:31.751Z"
      },
      {
        "duration": 29,
        "start_time": "2022-12-24T14:28:31.800Z"
      },
      {
        "duration": 76,
        "start_time": "2022-12-24T14:28:31.831Z"
      },
      {
        "duration": 5,
        "start_time": "2022-12-24T14:28:31.909Z"
      },
      {
        "duration": 47,
        "start_time": "2022-12-24T14:28:31.915Z"
      },
      {
        "duration": 39,
        "start_time": "2022-12-24T14:28:31.964Z"
      },
      {
        "duration": 27,
        "start_time": "2022-12-24T14:28:32.005Z"
      },
      {
        "duration": 53,
        "start_time": "2022-12-24T14:28:32.035Z"
      },
      {
        "duration": 84,
        "start_time": "2022-12-24T14:28:32.090Z"
      },
      {
        "duration": 16,
        "start_time": "2022-12-24T14:28:32.176Z"
      },
      {
        "duration": 32,
        "start_time": "2022-12-24T14:28:32.194Z"
      },
      {
        "duration": 57,
        "start_time": "2022-12-24T14:28:32.228Z"
      },
      {
        "duration": 50,
        "start_time": "2022-12-24T14:28:32.287Z"
      },
      {
        "duration": 34,
        "start_time": "2022-12-24T14:28:32.339Z"
      },
      {
        "duration": 17,
        "start_time": "2022-12-24T14:28:32.375Z"
      },
      {
        "duration": 30,
        "start_time": "2022-12-24T14:28:32.393Z"
      },
      {
        "duration": 49,
        "start_time": "2022-12-24T14:28:32.425Z"
      },
      {
        "duration": 6,
        "start_time": "2022-12-24T14:28:32.500Z"
      },
      {
        "duration": 53,
        "start_time": "2022-12-24T14:28:32.509Z"
      },
      {
        "duration": 58,
        "start_time": "2022-12-24T14:28:32.564Z"
      },
      {
        "duration": 327,
        "start_time": "2022-12-24T14:28:32.624Z"
      },
      {
        "duration": 16,
        "start_time": "2022-12-24T14:28:32.955Z"
      },
      {
        "duration": 44,
        "start_time": "2022-12-24T14:28:32.973Z"
      },
      {
        "duration": 353,
        "start_time": "2022-12-24T14:28:33.019Z"
      },
      {
        "duration": 15,
        "start_time": "2022-12-24T14:28:33.374Z"
      },
      {
        "duration": 47,
        "start_time": "2022-12-26T05:52:30.946Z"
      },
      {
        "duration": 738,
        "start_time": "2022-12-26T06:17:08.087Z"
      },
      {
        "duration": 23,
        "start_time": "2022-12-26T06:17:08.827Z"
      },
      {
        "duration": 14,
        "start_time": "2022-12-26T06:17:08.851Z"
      },
      {
        "duration": 9,
        "start_time": "2022-12-26T06:17:08.867Z"
      },
      {
        "duration": 54,
        "start_time": "2022-12-26T06:17:08.877Z"
      },
      {
        "duration": 3,
        "start_time": "2022-12-26T06:17:08.932Z"
      },
      {
        "duration": 10,
        "start_time": "2022-12-26T06:17:08.937Z"
      },
      {
        "duration": 4,
        "start_time": "2022-12-26T06:17:08.948Z"
      },
      {
        "duration": 7,
        "start_time": "2022-12-26T06:17:08.953Z"
      },
      {
        "duration": 3,
        "start_time": "2022-12-26T06:17:08.964Z"
      },
      {
        "duration": 55,
        "start_time": "2022-12-26T06:17:08.968Z"
      },
      {
        "duration": 10,
        "start_time": "2022-12-26T06:17:09.025Z"
      },
      {
        "duration": 4,
        "start_time": "2022-12-26T06:17:09.036Z"
      },
      {
        "duration": 14,
        "start_time": "2022-12-26T06:17:09.041Z"
      },
      {
        "duration": 18,
        "start_time": "2022-12-26T06:17:09.056Z"
      },
      {
        "duration": 40,
        "start_time": "2022-12-26T06:17:09.076Z"
      },
      {
        "duration": 3,
        "start_time": "2022-12-26T06:17:09.118Z"
      },
      {
        "duration": 14,
        "start_time": "2022-12-26T06:17:09.123Z"
      },
      {
        "duration": 6,
        "start_time": "2022-12-26T06:17:09.138Z"
      },
      {
        "duration": 4,
        "start_time": "2022-12-26T06:17:09.145Z"
      },
      {
        "duration": 15,
        "start_time": "2022-12-26T06:17:09.150Z"
      },
      {
        "duration": 10,
        "start_time": "2022-12-26T06:17:09.167Z"
      },
      {
        "duration": 8,
        "start_time": "2022-12-26T06:17:09.178Z"
      },
      {
        "duration": 51,
        "start_time": "2022-12-26T06:17:09.187Z"
      },
      {
        "duration": 0,
        "start_time": "2022-12-26T06:17:09.239Z"
      },
      {
        "duration": 0,
        "start_time": "2022-12-26T06:17:09.241Z"
      },
      {
        "duration": 0,
        "start_time": "2022-12-26T06:17:09.242Z"
      },
      {
        "duration": 0,
        "start_time": "2022-12-26T06:17:09.243Z"
      },
      {
        "duration": 8,
        "start_time": "2022-12-26T07:46:05.933Z"
      },
      {
        "duration": 8,
        "start_time": "2022-12-26T07:48:25.579Z"
      },
      {
        "duration": 3,
        "start_time": "2022-12-26T07:49:22.747Z"
      },
      {
        "duration": 34,
        "start_time": "2022-12-26T07:53:52.927Z"
      },
      {
        "duration": 21,
        "start_time": "2022-12-26T07:54:25.296Z"
      },
      {
        "duration": 9,
        "start_time": "2022-12-26T07:55:09.456Z"
      },
      {
        "duration": 15,
        "start_time": "2022-12-26T07:56:03.810Z"
      },
      {
        "duration": 16,
        "start_time": "2022-12-26T07:56:11.805Z"
      },
      {
        "duration": 9,
        "start_time": "2022-12-26T07:56:36.023Z"
      },
      {
        "duration": 9,
        "start_time": "2022-12-26T07:56:37.004Z"
      },
      {
        "duration": 20,
        "start_time": "2022-12-26T07:56:46.195Z"
      },
      {
        "duration": 19,
        "start_time": "2022-12-26T07:56:57.365Z"
      },
      {
        "duration": 4,
        "start_time": "2022-12-26T07:57:20.074Z"
      },
      {
        "duration": 6,
        "start_time": "2022-12-26T07:57:33.800Z"
      },
      {
        "duration": 5,
        "start_time": "2022-12-26T07:57:51.333Z"
      },
      {
        "duration": 5,
        "start_time": "2022-12-26T07:57:58.378Z"
      },
      {
        "duration": 51,
        "start_time": "2022-12-26T07:58:05.794Z"
      },
      {
        "duration": 62,
        "start_time": "2022-12-26T08:01:07.791Z"
      },
      {
        "duration": 9,
        "start_time": "2022-12-26T08:01:43.436Z"
      },
      {
        "duration": 10,
        "start_time": "2022-12-26T08:01:52.832Z"
      },
      {
        "duration": 5,
        "start_time": "2022-12-26T08:03:30.299Z"
      },
      {
        "duration": 5,
        "start_time": "2022-12-26T08:03:34.282Z"
      },
      {
        "duration": 4,
        "start_time": "2022-12-26T08:04:08.651Z"
      },
      {
        "duration": 4,
        "start_time": "2022-12-26T08:04:22.647Z"
      },
      {
        "duration": 4,
        "start_time": "2022-12-26T08:04:57.358Z"
      },
      {
        "duration": 9,
        "start_time": "2022-12-26T08:05:09.350Z"
      },
      {
        "duration": 4,
        "start_time": "2022-12-26T08:05:27.153Z"
      },
      {
        "duration": 4,
        "start_time": "2022-12-26T08:05:38.069Z"
      },
      {
        "duration": 4,
        "start_time": "2022-12-26T08:05:44.020Z"
      },
      {
        "duration": 3,
        "start_time": "2022-12-26T08:05:51.608Z"
      },
      {
        "duration": 49,
        "start_time": "2022-12-26T08:09:18.018Z"
      },
      {
        "duration": 14,
        "start_time": "2022-12-26T08:09:36.936Z"
      },
      {
        "duration": 8,
        "start_time": "2022-12-26T08:09:49.251Z"
      },
      {
        "duration": 21,
        "start_time": "2022-12-26T08:10:47.491Z"
      },
      {
        "duration": 9,
        "start_time": "2022-12-26T08:11:04.591Z"
      },
      {
        "duration": 14,
        "start_time": "2022-12-26T08:11:31.750Z"
      },
      {
        "duration": 8,
        "start_time": "2022-12-26T08:12:00.175Z"
      },
      {
        "duration": 5,
        "start_time": "2022-12-26T08:13:37.514Z"
      },
      {
        "duration": 83,
        "start_time": "2022-12-26T08:14:30.726Z"
      },
      {
        "duration": 4,
        "start_time": "2022-12-26T08:14:40.482Z"
      },
      {
        "duration": 4,
        "start_time": "2022-12-26T08:19:24.994Z"
      },
      {
        "duration": 11,
        "start_time": "2022-12-26T08:21:51.746Z"
      },
      {
        "duration": 15,
        "start_time": "2022-12-26T08:21:52.670Z"
      },
      {
        "duration": 5,
        "start_time": "2022-12-26T08:21:55.024Z"
      },
      {
        "duration": 4,
        "start_time": "2022-12-26T08:21:55.942Z"
      },
      {
        "duration": 4,
        "start_time": "2022-12-26T08:25:06.950Z"
      },
      {
        "duration": 4,
        "start_time": "2022-12-26T08:25:14.446Z"
      },
      {
        "duration": 49,
        "start_time": "2022-12-26T08:25:19.945Z"
      },
      {
        "duration": 4,
        "start_time": "2022-12-26T08:25:32.120Z"
      },
      {
        "duration": 3,
        "start_time": "2022-12-26T08:25:54.396Z"
      },
      {
        "duration": 54,
        "start_time": "2022-12-26T08:26:00.520Z"
      },
      {
        "duration": 4,
        "start_time": "2022-12-26T08:26:12.768Z"
      },
      {
        "duration": 3,
        "start_time": "2022-12-26T08:26:29.185Z"
      },
      {
        "duration": 4,
        "start_time": "2022-12-26T08:26:38.984Z"
      },
      {
        "duration": 109,
        "start_time": "2022-12-26T08:28:11.208Z"
      },
      {
        "duration": 15,
        "start_time": "2022-12-26T08:28:11.319Z"
      },
      {
        "duration": 15,
        "start_time": "2022-12-26T08:28:11.336Z"
      },
      {
        "duration": 10,
        "start_time": "2022-12-26T08:28:11.353Z"
      },
      {
        "duration": 63,
        "start_time": "2022-12-26T08:28:11.365Z"
      },
      {
        "duration": 4,
        "start_time": "2022-12-26T08:28:11.430Z"
      },
      {
        "duration": 10,
        "start_time": "2022-12-26T08:28:11.435Z"
      },
      {
        "duration": 4,
        "start_time": "2022-12-26T08:28:11.447Z"
      },
      {
        "duration": 6,
        "start_time": "2022-12-26T08:28:11.453Z"
      },
      {
        "duration": 4,
        "start_time": "2022-12-26T08:28:11.462Z"
      },
      {
        "duration": 68,
        "start_time": "2022-12-26T08:28:11.468Z"
      },
      {
        "duration": 10,
        "start_time": "2022-12-26T08:28:11.537Z"
      },
      {
        "duration": 4,
        "start_time": "2022-12-26T08:28:11.549Z"
      },
      {
        "duration": 16,
        "start_time": "2022-12-26T08:28:11.555Z"
      },
      {
        "duration": 20,
        "start_time": "2022-12-26T08:28:11.573Z"
      },
      {
        "duration": 18,
        "start_time": "2022-12-26T08:28:11.615Z"
      },
      {
        "duration": 3,
        "start_time": "2022-12-26T08:28:11.634Z"
      },
      {
        "duration": 12,
        "start_time": "2022-12-26T08:28:11.639Z"
      },
      {
        "duration": 9,
        "start_time": "2022-12-26T08:28:11.652Z"
      },
      {
        "duration": 3,
        "start_time": "2022-12-26T08:28:11.662Z"
      },
      {
        "duration": 11,
        "start_time": "2022-12-26T08:28:11.667Z"
      },
      {
        "duration": 35,
        "start_time": "2022-12-26T08:28:11.681Z"
      },
      {
        "duration": 14,
        "start_time": "2022-12-26T08:28:11.718Z"
      },
      {
        "duration": 4,
        "start_time": "2022-12-26T08:28:11.735Z"
      },
      {
        "duration": 6,
        "start_time": "2022-12-26T08:28:11.741Z"
      },
      {
        "duration": 13,
        "start_time": "2022-12-26T08:28:11.748Z"
      },
      {
        "duration": 13,
        "start_time": "2022-12-26T08:28:11.763Z"
      },
      {
        "duration": 39,
        "start_time": "2022-12-26T08:28:11.777Z"
      },
      {
        "duration": 0,
        "start_time": "2022-12-26T08:28:11.817Z"
      },
      {
        "duration": 4,
        "start_time": "2022-12-26T08:28:40.658Z"
      },
      {
        "duration": 10,
        "start_time": "2022-12-26T08:37:29.168Z"
      },
      {
        "duration": 8,
        "start_time": "2022-12-26T08:44:52.362Z"
      },
      {
        "duration": 5,
        "start_time": "2022-12-26T08:46:29.859Z"
      },
      {
        "duration": 10,
        "start_time": "2022-12-26T08:47:00.326Z"
      },
      {
        "duration": 8,
        "start_time": "2022-12-26T08:48:41.558Z"
      },
      {
        "duration": 5,
        "start_time": "2022-12-26T08:48:49.036Z"
      },
      {
        "duration": 6,
        "start_time": "2022-12-26T08:49:14.977Z"
      },
      {
        "duration": 6,
        "start_time": "2022-12-26T08:50:06.972Z"
      },
      {
        "duration": 24,
        "start_time": "2022-12-26T08:52:16.600Z"
      },
      {
        "duration": 16,
        "start_time": "2022-12-26T08:52:47.128Z"
      },
      {
        "duration": 119,
        "start_time": "2022-12-26T08:53:01.821Z"
      },
      {
        "duration": 16,
        "start_time": "2022-12-26T08:53:01.942Z"
      },
      {
        "duration": 20,
        "start_time": "2022-12-26T08:53:01.959Z"
      },
      {
        "duration": 13,
        "start_time": "2022-12-26T08:53:01.980Z"
      },
      {
        "duration": 55,
        "start_time": "2022-12-26T08:53:01.994Z"
      },
      {
        "duration": 3,
        "start_time": "2022-12-26T08:53:02.051Z"
      },
      {
        "duration": 14,
        "start_time": "2022-12-26T08:53:02.055Z"
      },
      {
        "duration": 7,
        "start_time": "2022-12-26T08:53:02.071Z"
      },
      {
        "duration": 37,
        "start_time": "2022-12-26T08:53:02.080Z"
      },
      {
        "duration": 5,
        "start_time": "2022-12-26T08:53:02.119Z"
      },
      {
        "duration": 44,
        "start_time": "2022-12-26T08:53:02.125Z"
      },
      {
        "duration": 10,
        "start_time": "2022-12-26T08:53:02.171Z"
      },
      {
        "duration": 8,
        "start_time": "2022-12-26T08:53:02.182Z"
      },
      {
        "duration": 32,
        "start_time": "2022-12-26T08:53:02.192Z"
      },
      {
        "duration": 21,
        "start_time": "2022-12-26T08:53:02.225Z"
      },
      {
        "duration": 20,
        "start_time": "2022-12-26T08:53:02.247Z"
      },
      {
        "duration": 4,
        "start_time": "2022-12-26T08:53:02.268Z"
      },
      {
        "duration": 18,
        "start_time": "2022-12-26T08:53:02.274Z"
      },
      {
        "duration": 23,
        "start_time": "2022-12-26T08:53:02.293Z"
      },
      {
        "duration": 3,
        "start_time": "2022-12-26T08:53:02.318Z"
      },
      {
        "duration": 12,
        "start_time": "2022-12-26T08:53:02.323Z"
      },
      {
        "duration": 5,
        "start_time": "2022-12-26T08:53:02.336Z"
      },
      {
        "duration": 8,
        "start_time": "2022-12-26T08:53:02.342Z"
      },
      {
        "duration": 16,
        "start_time": "2022-12-26T08:53:02.352Z"
      },
      {
        "duration": 14,
        "start_time": "2022-12-26T08:53:02.369Z"
      },
      {
        "duration": 45,
        "start_time": "2022-12-26T08:53:02.385Z"
      },
      {
        "duration": 5,
        "start_time": "2022-12-26T08:53:02.432Z"
      },
      {
        "duration": 8,
        "start_time": "2022-12-26T08:53:02.441Z"
      },
      {
        "duration": 21,
        "start_time": "2022-12-26T08:53:02.450Z"
      },
      {
        "duration": 0,
        "start_time": "2022-12-26T08:53:02.473Z"
      },
      {
        "duration": 0,
        "start_time": "2022-12-26T08:53:02.475Z"
      },
      {
        "duration": 0,
        "start_time": "2022-12-26T08:53:02.476Z"
      },
      {
        "duration": 0,
        "start_time": "2022-12-26T08:53:02.478Z"
      },
      {
        "duration": 5,
        "start_time": "2022-12-26T08:56:13.167Z"
      },
      {
        "duration": 8,
        "start_time": "2022-12-26T08:56:44.356Z"
      },
      {
        "duration": 4,
        "start_time": "2022-12-26T08:58:20.273Z"
      },
      {
        "duration": 3,
        "start_time": "2022-12-26T08:59:14.790Z"
      },
      {
        "duration": 5,
        "start_time": "2022-12-26T08:59:19.046Z"
      },
      {
        "duration": 3,
        "start_time": "2022-12-26T08:59:23.787Z"
      },
      {
        "duration": 4,
        "start_time": "2022-12-26T08:59:34.997Z"
      },
      {
        "duration": 4,
        "start_time": "2022-12-26T08:59:47.627Z"
      },
      {
        "duration": 8,
        "start_time": "2022-12-26T09:00:01.992Z"
      },
      {
        "duration": 7,
        "start_time": "2022-12-26T09:00:12.210Z"
      },
      {
        "duration": 4,
        "start_time": "2022-12-26T09:00:18.502Z"
      },
      {
        "duration": 7,
        "start_time": "2022-12-26T09:00:29.192Z"
      },
      {
        "duration": 3,
        "start_time": "2022-12-26T09:00:34.783Z"
      },
      {
        "duration": 110,
        "start_time": "2022-12-26T09:00:38.513Z"
      },
      {
        "duration": 621,
        "start_time": "2022-12-26T09:00:38.625Z"
      },
      {
        "duration": 20,
        "start_time": "2022-12-26T09:00:39.248Z"
      },
      {
        "duration": 10,
        "start_time": "2022-12-26T09:00:39.271Z"
      },
      {
        "duration": 36,
        "start_time": "2022-12-26T09:00:39.283Z"
      },
      {
        "duration": 3,
        "start_time": "2022-12-26T09:00:39.321Z"
      },
      {
        "duration": 13,
        "start_time": "2022-12-26T09:00:39.326Z"
      },
      {
        "duration": 6,
        "start_time": "2022-12-26T09:00:39.341Z"
      },
      {
        "duration": 9,
        "start_time": "2022-12-26T09:00:39.349Z"
      },
      {
        "duration": 6,
        "start_time": "2022-12-26T09:00:39.361Z"
      },
      {
        "duration": 47,
        "start_time": "2022-12-26T09:00:39.368Z"
      },
      {
        "duration": 11,
        "start_time": "2022-12-26T09:00:39.417Z"
      },
      {
        "duration": 4,
        "start_time": "2022-12-26T09:00:39.430Z"
      },
      {
        "duration": 17,
        "start_time": "2022-12-26T09:00:39.435Z"
      },
      {
        "duration": 18,
        "start_time": "2022-12-26T09:00:39.454Z"
      },
      {
        "duration": 16,
        "start_time": "2022-12-26T09:00:39.473Z"
      },
      {
        "duration": 25,
        "start_time": "2022-12-26T09:00:39.491Z"
      },
      {
        "duration": 17,
        "start_time": "2022-12-26T09:00:39.518Z"
      },
      {
        "duration": 7,
        "start_time": "2022-12-26T09:00:39.537Z"
      },
      {
        "duration": 7,
        "start_time": "2022-12-26T09:00:39.545Z"
      },
      {
        "duration": 16,
        "start_time": "2022-12-26T09:00:39.553Z"
      },
      {
        "duration": 4,
        "start_time": "2022-12-26T09:00:39.571Z"
      },
      {
        "duration": 8,
        "start_time": "2022-12-26T09:00:39.577Z"
      },
      {
        "duration": 8,
        "start_time": "2022-12-26T09:00:39.587Z"
      },
      {
        "duration": 28,
        "start_time": "2022-12-26T09:00:39.596Z"
      },
      {
        "duration": 13,
        "start_time": "2022-12-26T09:00:39.626Z"
      },
      {
        "duration": 4,
        "start_time": "2022-12-26T09:00:39.641Z"
      },
      {
        "duration": 6,
        "start_time": "2022-12-26T09:00:39.648Z"
      },
      {
        "duration": 12,
        "start_time": "2022-12-26T09:00:39.655Z"
      },
      {
        "duration": 0,
        "start_time": "2022-12-26T09:00:39.668Z"
      },
      {
        "duration": 0,
        "start_time": "2022-12-26T09:00:39.669Z"
      },
      {
        "duration": 0,
        "start_time": "2022-12-26T09:00:39.671Z"
      },
      {
        "duration": 0,
        "start_time": "2022-12-26T09:00:39.672Z"
      },
      {
        "duration": 9,
        "start_time": "2022-12-26T09:03:03.629Z"
      },
      {
        "duration": 3,
        "start_time": "2022-12-26T09:03:34.898Z"
      },
      {
        "duration": 8,
        "start_time": "2022-12-26T09:03:35.966Z"
      },
      {
        "duration": 4,
        "start_time": "2022-12-26T09:03:58.249Z"
      },
      {
        "duration": 4,
        "start_time": "2022-12-26T09:04:15.181Z"
      },
      {
        "duration": 5,
        "start_time": "2022-12-26T09:04:52.278Z"
      },
      {
        "duration": 119,
        "start_time": "2022-12-26T09:04:58.393Z"
      },
      {
        "duration": 15,
        "start_time": "2022-12-26T09:04:58.516Z"
      },
      {
        "duration": 15,
        "start_time": "2022-12-26T09:04:58.533Z"
      },
      {
        "duration": 10,
        "start_time": "2022-12-26T09:04:58.550Z"
      },
      {
        "duration": 61,
        "start_time": "2022-12-26T09:04:58.561Z"
      },
      {
        "duration": 3,
        "start_time": "2022-12-26T09:04:58.624Z"
      },
      {
        "duration": 11,
        "start_time": "2022-12-26T09:04:58.629Z"
      },
      {
        "duration": 4,
        "start_time": "2022-12-26T09:04:58.642Z"
      },
      {
        "duration": 5,
        "start_time": "2022-12-26T09:04:58.648Z"
      },
      {
        "duration": 5,
        "start_time": "2022-12-26T09:04:58.655Z"
      },
      {
        "duration": 69,
        "start_time": "2022-12-26T09:04:58.661Z"
      },
      {
        "duration": 9,
        "start_time": "2022-12-26T09:04:58.732Z"
      },
      {
        "duration": 5,
        "start_time": "2022-12-26T09:04:58.743Z"
      },
      {
        "duration": 13,
        "start_time": "2022-12-26T09:04:58.749Z"
      },
      {
        "duration": 19,
        "start_time": "2022-12-26T09:04:58.764Z"
      },
      {
        "duration": 43,
        "start_time": "2022-12-26T09:04:58.784Z"
      },
      {
        "duration": 3,
        "start_time": "2022-12-26T09:04:58.829Z"
      },
      {
        "duration": 16,
        "start_time": "2022-12-26T09:04:58.834Z"
      },
      {
        "duration": 5,
        "start_time": "2022-12-26T09:04:58.852Z"
      },
      {
        "duration": 8,
        "start_time": "2022-12-26T09:04:58.858Z"
      },
      {
        "duration": 25,
        "start_time": "2022-12-26T09:04:58.868Z"
      },
      {
        "duration": 12,
        "start_time": "2022-12-26T09:04:58.894Z"
      },
      {
        "duration": 24,
        "start_time": "2022-12-26T09:04:58.907Z"
      },
      {
        "duration": 10,
        "start_time": "2022-12-26T09:04:58.934Z"
      },
      {
        "duration": 9,
        "start_time": "2022-12-26T09:04:58.946Z"
      },
      {
        "duration": 13,
        "start_time": "2022-12-26T09:04:58.957Z"
      },
      {
        "duration": 4,
        "start_time": "2022-12-26T09:04:58.971Z"
      },
      {
        "duration": 13,
        "start_time": "2022-12-26T09:04:58.977Z"
      },
      {
        "duration": 0,
        "start_time": "2022-12-26T09:04:58.992Z"
      },
      {
        "duration": 0,
        "start_time": "2022-12-26T09:04:58.993Z"
      },
      {
        "duration": 0,
        "start_time": "2022-12-26T09:04:58.994Z"
      },
      {
        "duration": 1,
        "start_time": "2022-12-26T09:04:59.016Z"
      },
      {
        "duration": 8,
        "start_time": "2022-12-26T09:12:18.668Z"
      },
      {
        "duration": 9,
        "start_time": "2022-12-26T09:12:19.681Z"
      },
      {
        "duration": 115,
        "start_time": "2022-12-26T09:12:40.722Z"
      },
      {
        "duration": 15,
        "start_time": "2022-12-26T09:12:40.839Z"
      },
      {
        "duration": 16,
        "start_time": "2022-12-26T09:12:40.855Z"
      },
      {
        "duration": 10,
        "start_time": "2022-12-26T09:12:40.874Z"
      },
      {
        "duration": 64,
        "start_time": "2022-12-26T09:12:40.885Z"
      },
      {
        "duration": 3,
        "start_time": "2022-12-26T09:12:40.950Z"
      },
      {
        "duration": 9,
        "start_time": "2022-12-26T09:12:40.955Z"
      },
      {
        "duration": 3,
        "start_time": "2022-12-26T09:12:40.966Z"
      },
      {
        "duration": 6,
        "start_time": "2022-12-26T09:12:40.970Z"
      },
      {
        "duration": 36,
        "start_time": "2022-12-26T09:12:40.980Z"
      },
      {
        "duration": 33,
        "start_time": "2022-12-26T09:12:41.017Z"
      },
      {
        "duration": 9,
        "start_time": "2022-12-26T09:12:41.052Z"
      },
      {
        "duration": 4,
        "start_time": "2022-12-26T09:12:41.063Z"
      },
      {
        "duration": 10,
        "start_time": "2022-12-26T09:12:41.068Z"
      },
      {
        "duration": 44,
        "start_time": "2022-12-26T09:12:41.080Z"
      },
      {
        "duration": 16,
        "start_time": "2022-12-26T09:12:41.125Z"
      },
      {
        "duration": 3,
        "start_time": "2022-12-26T09:12:41.143Z"
      },
      {
        "duration": 19,
        "start_time": "2022-12-26T09:12:41.148Z"
      },
      {
        "duration": 6,
        "start_time": "2022-12-26T09:12:41.168Z"
      },
      {
        "duration": 3,
        "start_time": "2022-12-26T09:12:41.175Z"
      },
      {
        "duration": 11,
        "start_time": "2022-12-26T09:12:41.180Z"
      },
      {
        "duration": 25,
        "start_time": "2022-12-26T09:12:41.192Z"
      },
      {
        "duration": 11,
        "start_time": "2022-12-26T09:12:41.219Z"
      },
      {
        "duration": 9,
        "start_time": "2022-12-26T09:12:41.231Z"
      },
      {
        "duration": 10,
        "start_time": "2022-12-26T09:12:41.242Z"
      },
      {
        "duration": 13,
        "start_time": "2022-12-26T09:12:41.253Z"
      },
      {
        "duration": 4,
        "start_time": "2022-12-26T09:12:41.268Z"
      },
      {
        "duration": 17,
        "start_time": "2022-12-26T09:12:41.275Z"
      },
      {
        "duration": 0,
        "start_time": "2022-12-26T09:12:41.293Z"
      },
      {
        "duration": 0,
        "start_time": "2022-12-26T09:12:41.315Z"
      },
      {
        "duration": 0,
        "start_time": "2022-12-26T09:12:41.317Z"
      },
      {
        "duration": 0,
        "start_time": "2022-12-26T09:12:41.318Z"
      },
      {
        "duration": 8,
        "start_time": "2022-12-26T09:25:42.376Z"
      },
      {
        "duration": 9,
        "start_time": "2022-12-26T09:27:32.056Z"
      },
      {
        "duration": 5,
        "start_time": "2022-12-26T09:27:45.712Z"
      },
      {
        "duration": 119,
        "start_time": "2022-12-26T09:27:56.080Z"
      },
      {
        "duration": 21,
        "start_time": "2022-12-26T09:27:56.201Z"
      },
      {
        "duration": 56,
        "start_time": "2022-12-26T09:27:56.224Z"
      },
      {
        "duration": 14,
        "start_time": "2022-12-26T09:27:56.283Z"
      },
      {
        "duration": 51,
        "start_time": "2022-12-26T09:27:56.298Z"
      },
      {
        "duration": 4,
        "start_time": "2022-12-26T09:27:56.351Z"
      },
      {
        "duration": 18,
        "start_time": "2022-12-26T09:27:56.357Z"
      },
      {
        "duration": 15,
        "start_time": "2022-12-26T09:27:56.377Z"
      },
      {
        "duration": 22,
        "start_time": "2022-12-26T09:27:56.394Z"
      },
      {
        "duration": 6,
        "start_time": "2022-12-26T09:27:56.420Z"
      },
      {
        "duration": 46,
        "start_time": "2022-12-26T09:27:56.428Z"
      },
      {
        "duration": 11,
        "start_time": "2022-12-26T09:27:56.475Z"
      },
      {
        "duration": 28,
        "start_time": "2022-12-26T09:27:56.487Z"
      },
      {
        "duration": 11,
        "start_time": "2022-12-26T09:27:56.517Z"
      },
      {
        "duration": 20,
        "start_time": "2022-12-26T09:27:56.529Z"
      },
      {
        "duration": 16,
        "start_time": "2022-12-26T09:27:56.551Z"
      },
      {
        "duration": 4,
        "start_time": "2022-12-26T09:27:56.569Z"
      },
      {
        "duration": 27,
        "start_time": "2022-12-26T09:27:56.574Z"
      },
      {
        "duration": 18,
        "start_time": "2022-12-26T09:27:56.602Z"
      },
      {
        "duration": 19,
        "start_time": "2022-12-26T09:27:56.622Z"
      },
      {
        "duration": 11,
        "start_time": "2022-12-26T09:27:56.642Z"
      },
      {
        "duration": 5,
        "start_time": "2022-12-26T09:27:56.655Z"
      },
      {
        "duration": 6,
        "start_time": "2022-12-26T09:27:56.661Z"
      },
      {
        "duration": 14,
        "start_time": "2022-12-26T09:27:56.669Z"
      },
      {
        "duration": 13,
        "start_time": "2022-12-26T09:27:56.685Z"
      },
      {
        "duration": 23,
        "start_time": "2022-12-26T09:27:56.700Z"
      },
      {
        "duration": 4,
        "start_time": "2022-12-26T09:27:56.725Z"
      },
      {
        "duration": 10,
        "start_time": "2022-12-26T09:27:56.734Z"
      },
      {
        "duration": 0,
        "start_time": "2022-12-26T09:27:56.745Z"
      },
      {
        "duration": 0,
        "start_time": "2022-12-26T09:27:56.746Z"
      },
      {
        "duration": 0,
        "start_time": "2022-12-26T09:27:56.747Z"
      },
      {
        "duration": 0,
        "start_time": "2022-12-26T09:27:56.748Z"
      },
      {
        "duration": 4,
        "start_time": "2022-12-26T09:28:24.184Z"
      },
      {
        "duration": 4,
        "start_time": "2022-12-26T09:29:00.055Z"
      },
      {
        "duration": 4,
        "start_time": "2022-12-26T09:29:28.002Z"
      },
      {
        "duration": 6,
        "start_time": "2022-12-26T09:29:47.722Z"
      },
      {
        "duration": 5,
        "start_time": "2022-12-26T09:30:32.018Z"
      },
      {
        "duration": 5,
        "start_time": "2022-12-26T09:30:43.604Z"
      },
      {
        "duration": 60,
        "start_time": "2022-12-26T09:31:41.493Z"
      },
      {
        "duration": 5,
        "start_time": "2022-12-26T09:31:49.815Z"
      },
      {
        "duration": 5,
        "start_time": "2022-12-26T09:32:09.631Z"
      },
      {
        "duration": 5,
        "start_time": "2022-12-26T09:33:52.018Z"
      },
      {
        "duration": 5,
        "start_time": "2022-12-26T09:34:35.707Z"
      },
      {
        "duration": 10,
        "start_time": "2022-12-26T09:35:09.314Z"
      },
      {
        "duration": 9,
        "start_time": "2022-12-26T09:35:37.299Z"
      },
      {
        "duration": 8,
        "start_time": "2022-12-26T09:37:22.801Z"
      },
      {
        "duration": 9,
        "start_time": "2022-12-26T09:38:32.408Z"
      },
      {
        "duration": 58,
        "start_time": "2022-12-26T09:38:41.166Z"
      },
      {
        "duration": 4,
        "start_time": "2022-12-26T09:38:47.064Z"
      },
      {
        "duration": 4,
        "start_time": "2022-12-26T09:38:48.002Z"
      },
      {
        "duration": 5,
        "start_time": "2022-12-26T09:38:48.546Z"
      },
      {
        "duration": 48,
        "start_time": "2022-12-26T09:38:49.224Z"
      },
      {
        "duration": 12,
        "start_time": "2022-12-26T09:38:55.176Z"
      },
      {
        "duration": 8,
        "start_time": "2022-12-26T09:39:09.377Z"
      },
      {
        "duration": 10,
        "start_time": "2022-12-26T09:39:24.118Z"
      },
      {
        "duration": 9,
        "start_time": "2022-12-26T09:41:24.953Z"
      },
      {
        "duration": 16,
        "start_time": "2022-12-26T09:41:35.052Z"
      },
      {
        "duration": 16,
        "start_time": "2022-12-26T09:42:56.288Z"
      },
      {
        "duration": 128,
        "start_time": "2022-12-26T09:45:29.228Z"
      },
      {
        "duration": 52,
        "start_time": "2022-12-26T09:45:48.695Z"
      },
      {
        "duration": 10,
        "start_time": "2022-12-26T09:45:54.632Z"
      },
      {
        "duration": 9,
        "start_time": "2022-12-26T09:46:09.673Z"
      },
      {
        "duration": 12,
        "start_time": "2022-12-26T09:47:14.019Z"
      },
      {
        "duration": 5,
        "start_time": "2022-12-26T09:47:22.708Z"
      },
      {
        "duration": 5,
        "start_time": "2022-12-26T09:48:09.530Z"
      },
      {
        "duration": 5,
        "start_time": "2022-12-26T09:48:25.713Z"
      },
      {
        "duration": 5,
        "start_time": "2022-12-26T09:48:31.861Z"
      },
      {
        "duration": 12,
        "start_time": "2022-12-26T09:49:18.038Z"
      },
      {
        "duration": 12,
        "start_time": "2022-12-26T09:54:31.124Z"
      },
      {
        "duration": 9,
        "start_time": "2022-12-26T09:54:42.722Z"
      },
      {
        "duration": 10,
        "start_time": "2022-12-26T09:58:56.686Z"
      },
      {
        "duration": 8,
        "start_time": "2022-12-26T10:03:28.710Z"
      },
      {
        "duration": 9,
        "start_time": "2022-12-26T10:03:38.180Z"
      },
      {
        "duration": 10,
        "start_time": "2022-12-26T10:10:04.158Z"
      },
      {
        "duration": 14,
        "start_time": "2022-12-26T10:11:04.285Z"
      },
      {
        "duration": 48,
        "start_time": "2022-12-26T10:11:15.830Z"
      },
      {
        "duration": 61,
        "start_time": "2022-12-26T10:14:35.999Z"
      },
      {
        "duration": 16,
        "start_time": "2022-12-26T10:14:53.671Z"
      },
      {
        "duration": 16,
        "start_time": "2022-12-26T10:16:21.285Z"
      },
      {
        "duration": 16,
        "start_time": "2022-12-26T10:19:58.092Z"
      },
      {
        "duration": 16,
        "start_time": "2022-12-26T10:22:13.695Z"
      },
      {
        "duration": 17,
        "start_time": "2022-12-26T10:22:22.293Z"
      },
      {
        "duration": 17,
        "start_time": "2022-12-26T10:22:55.146Z"
      },
      {
        "duration": 17,
        "start_time": "2022-12-26T10:23:48.077Z"
      },
      {
        "duration": 15,
        "start_time": "2022-12-26T10:24:18.248Z"
      },
      {
        "duration": 17,
        "start_time": "2022-12-26T10:24:38.736Z"
      },
      {
        "duration": 18,
        "start_time": "2022-12-26T10:24:52.914Z"
      },
      {
        "duration": 6,
        "start_time": "2022-12-26T10:25:07.111Z"
      },
      {
        "duration": 5,
        "start_time": "2022-12-26T10:25:13.272Z"
      },
      {
        "duration": 7,
        "start_time": "2022-12-26T10:25:19.652Z"
      },
      {
        "duration": 6,
        "start_time": "2022-12-26T10:25:29.215Z"
      },
      {
        "duration": 6,
        "start_time": "2022-12-26T10:25:42.534Z"
      },
      {
        "duration": 18,
        "start_time": "2022-12-26T10:25:50.703Z"
      },
      {
        "duration": 6,
        "start_time": "2022-12-26T10:26:10.607Z"
      },
      {
        "duration": 9,
        "start_time": "2022-12-26T10:26:17.847Z"
      },
      {
        "duration": 17,
        "start_time": "2022-12-26T10:26:37.084Z"
      },
      {
        "duration": 10,
        "start_time": "2022-12-26T10:27:35.250Z"
      },
      {
        "duration": 7,
        "start_time": "2022-12-26T10:27:43.037Z"
      },
      {
        "duration": 10,
        "start_time": "2022-12-26T10:28:03.648Z"
      },
      {
        "duration": 13,
        "start_time": "2022-12-26T10:28:26.904Z"
      },
      {
        "duration": 6,
        "start_time": "2022-12-26T10:28:33.274Z"
      },
      {
        "duration": 7,
        "start_time": "2022-12-26T10:28:39.460Z"
      },
      {
        "duration": 7,
        "start_time": "2022-12-26T10:28:46.166Z"
      },
      {
        "duration": 6,
        "start_time": "2022-12-26T10:29:08.347Z"
      },
      {
        "duration": 7,
        "start_time": "2022-12-26T10:29:20.187Z"
      },
      {
        "duration": 13,
        "start_time": "2022-12-26T10:29:27.983Z"
      },
      {
        "duration": 4,
        "start_time": "2022-12-26T10:29:54.213Z"
      },
      {
        "duration": 3,
        "start_time": "2022-12-26T10:30:02.736Z"
      },
      {
        "duration": 10,
        "start_time": "2022-12-26T10:30:14.358Z"
      },
      {
        "duration": 15,
        "start_time": "2022-12-26T10:30:52.714Z"
      },
      {
        "duration": 16,
        "start_time": "2022-12-26T10:31:35.550Z"
      },
      {
        "duration": 8,
        "start_time": "2022-12-26T10:31:41.961Z"
      },
      {
        "duration": 17,
        "start_time": "2022-12-26T10:32:09.694Z"
      },
      {
        "duration": 17,
        "start_time": "2022-12-26T10:32:24.759Z"
      },
      {
        "duration": 14,
        "start_time": "2022-12-26T10:34:37.054Z"
      },
      {
        "duration": 7,
        "start_time": "2022-12-26T10:34:43.944Z"
      },
      {
        "duration": 17,
        "start_time": "2022-12-26T10:35:28.943Z"
      },
      {
        "duration": 16,
        "start_time": "2022-12-26T10:36:41.738Z"
      },
      {
        "duration": 18,
        "start_time": "2022-12-26T10:37:47.703Z"
      },
      {
        "duration": 45,
        "start_time": "2022-12-26T10:38:12.971Z"
      },
      {
        "duration": 149,
        "start_time": "2022-12-26T10:39:14.925Z"
      },
      {
        "duration": 19,
        "start_time": "2022-12-26T10:39:15.077Z"
      },
      {
        "duration": 40,
        "start_time": "2022-12-26T10:39:15.098Z"
      },
      {
        "duration": 27,
        "start_time": "2022-12-26T10:39:15.141Z"
      },
      {
        "duration": 46,
        "start_time": "2022-12-26T10:39:15.170Z"
      },
      {
        "duration": 4,
        "start_time": "2022-12-26T10:39:15.218Z"
      },
      {
        "duration": 28,
        "start_time": "2022-12-26T10:39:15.224Z"
      },
      {
        "duration": 13,
        "start_time": "2022-12-26T10:39:15.255Z"
      },
      {
        "duration": 13,
        "start_time": "2022-12-26T10:39:15.270Z"
      },
      {
        "duration": 12,
        "start_time": "2022-12-26T10:39:15.287Z"
      },
      {
        "duration": 56,
        "start_time": "2022-12-26T10:39:15.301Z"
      },
      {
        "duration": 13,
        "start_time": "2022-12-26T10:39:15.359Z"
      },
      {
        "duration": 5,
        "start_time": "2022-12-26T10:39:15.374Z"
      },
      {
        "duration": 39,
        "start_time": "2022-12-26T10:39:15.381Z"
      },
      {
        "duration": 31,
        "start_time": "2022-12-26T10:39:15.421Z"
      },
      {
        "duration": 21,
        "start_time": "2022-12-26T10:39:15.453Z"
      },
      {
        "duration": 4,
        "start_time": "2022-12-26T10:39:15.476Z"
      },
      {
        "duration": 21,
        "start_time": "2022-12-26T10:39:15.481Z"
      },
      {
        "duration": 6,
        "start_time": "2022-12-26T10:39:15.516Z"
      },
      {
        "duration": 10,
        "start_time": "2022-12-26T10:39:15.524Z"
      },
      {
        "duration": 17,
        "start_time": "2022-12-26T10:39:15.535Z"
      },
      {
        "duration": 14,
        "start_time": "2022-12-26T10:39:15.553Z"
      },
      {
        "duration": 8,
        "start_time": "2022-12-26T10:39:15.570Z"
      },
      {
        "duration": 16,
        "start_time": "2022-12-26T10:39:15.580Z"
      },
      {
        "duration": 11,
        "start_time": "2022-12-26T10:39:15.616Z"
      },
      {
        "duration": 13,
        "start_time": "2022-12-26T10:39:15.628Z"
      },
      {
        "duration": 15,
        "start_time": "2022-12-26T10:39:15.643Z"
      },
      {
        "duration": 4,
        "start_time": "2022-12-26T10:39:15.660Z"
      },
      {
        "duration": 64,
        "start_time": "2022-12-26T10:39:15.666Z"
      },
      {
        "duration": 14,
        "start_time": "2022-12-26T10:39:15.732Z"
      },
      {
        "duration": 13,
        "start_time": "2022-12-26T10:39:15.748Z"
      },
      {
        "duration": 12,
        "start_time": "2022-12-26T10:39:15.763Z"
      },
      {
        "duration": 39,
        "start_time": "2022-12-26T10:39:15.777Z"
      },
      {
        "duration": 8,
        "start_time": "2022-12-26T10:39:15.818Z"
      },
      {
        "duration": 0,
        "start_time": "2022-12-26T10:39:15.828Z"
      },
      {
        "duration": 7,
        "start_time": "2022-12-26T10:40:35.731Z"
      },
      {
        "duration": 4,
        "start_time": "2022-12-26T10:41:53.565Z"
      },
      {
        "duration": 6,
        "start_time": "2022-12-26T10:42:03.949Z"
      },
      {
        "duration": 121,
        "start_time": "2022-12-26T10:42:44.880Z"
      },
      {
        "duration": 23,
        "start_time": "2022-12-26T10:42:45.003Z"
      },
      {
        "duration": 17,
        "start_time": "2022-12-26T10:42:45.028Z"
      },
      {
        "duration": 10,
        "start_time": "2022-12-26T10:42:45.048Z"
      },
      {
        "duration": 65,
        "start_time": "2022-12-26T10:42:45.060Z"
      },
      {
        "duration": 4,
        "start_time": "2022-12-26T10:42:45.127Z"
      },
      {
        "duration": 10,
        "start_time": "2022-12-26T10:42:45.133Z"
      },
      {
        "duration": 4,
        "start_time": "2022-12-26T10:42:45.145Z"
      },
      {
        "duration": 8,
        "start_time": "2022-12-26T10:42:45.150Z"
      },
      {
        "duration": 10,
        "start_time": "2022-12-26T10:42:45.160Z"
      },
      {
        "duration": 61,
        "start_time": "2022-12-26T10:42:45.172Z"
      },
      {
        "duration": 11,
        "start_time": "2022-12-26T10:42:45.235Z"
      },
      {
        "duration": 6,
        "start_time": "2022-12-26T10:42:45.248Z"
      },
      {
        "duration": 16,
        "start_time": "2022-12-26T10:42:45.256Z"
      },
      {
        "duration": 21,
        "start_time": "2022-12-26T10:42:45.274Z"
      },
      {
        "duration": 20,
        "start_time": "2022-12-26T10:42:45.316Z"
      },
      {
        "duration": 4,
        "start_time": "2022-12-26T10:42:45.338Z"
      },
      {
        "duration": 20,
        "start_time": "2022-12-26T10:42:45.344Z"
      },
      {
        "duration": 8,
        "start_time": "2022-12-26T10:42:45.365Z"
      },
      {
        "duration": 5,
        "start_time": "2022-12-26T10:42:45.375Z"
      },
      {
        "duration": 36,
        "start_time": "2022-12-26T10:42:45.381Z"
      },
      {
        "duration": 15,
        "start_time": "2022-12-26T10:42:45.419Z"
      },
      {
        "duration": 9,
        "start_time": "2022-12-26T10:42:45.435Z"
      },
      {
        "duration": 7,
        "start_time": "2022-12-26T10:42:45.446Z"
      },
      {
        "duration": 10,
        "start_time": "2022-12-26T10:42:45.456Z"
      },
      {
        "duration": 11,
        "start_time": "2022-12-26T10:42:45.468Z"
      },
      {
        "duration": 49,
        "start_time": "2022-12-26T10:42:45.480Z"
      },
      {
        "duration": 4,
        "start_time": "2022-12-26T10:42:45.531Z"
      },
      {
        "duration": 22,
        "start_time": "2022-12-26T10:42:45.536Z"
      },
      {
        "duration": 14,
        "start_time": "2022-12-26T10:42:45.560Z"
      },
      {
        "duration": 51,
        "start_time": "2022-12-26T10:42:45.575Z"
      },
      {
        "duration": 0,
        "start_time": "2022-12-26T10:42:45.628Z"
      },
      {
        "duration": 0,
        "start_time": "2022-12-26T10:42:45.629Z"
      },
      {
        "duration": 0,
        "start_time": "2022-12-26T10:42:45.631Z"
      },
      {
        "duration": 0,
        "start_time": "2022-12-26T10:42:45.632Z"
      },
      {
        "duration": 129,
        "start_time": "2022-12-26T10:43:01.501Z"
      },
      {
        "duration": 16,
        "start_time": "2022-12-26T10:43:01.632Z"
      },
      {
        "duration": 36,
        "start_time": "2022-12-26T10:43:01.650Z"
      },
      {
        "duration": 10,
        "start_time": "2022-12-26T10:43:01.688Z"
      },
      {
        "duration": 40,
        "start_time": "2022-12-26T10:43:01.699Z"
      },
      {
        "duration": 4,
        "start_time": "2022-12-26T10:43:01.740Z"
      },
      {
        "duration": 20,
        "start_time": "2022-12-26T10:43:01.745Z"
      },
      {
        "duration": 14,
        "start_time": "2022-12-26T10:43:01.767Z"
      },
      {
        "duration": 13,
        "start_time": "2022-12-26T10:43:01.782Z"
      },
      {
        "duration": 10,
        "start_time": "2022-12-26T10:43:01.798Z"
      },
      {
        "duration": 43,
        "start_time": "2022-12-26T10:43:01.810Z"
      },
      {
        "duration": 10,
        "start_time": "2022-12-26T10:43:01.855Z"
      },
      {
        "duration": 30,
        "start_time": "2022-12-26T10:43:01.866Z"
      },
      {
        "duration": 12,
        "start_time": "2022-12-26T10:43:01.898Z"
      },
      {
        "duration": 27,
        "start_time": "2022-12-26T10:43:01.912Z"
      },
      {
        "duration": 18,
        "start_time": "2022-12-26T10:43:01.940Z"
      },
      {
        "duration": 4,
        "start_time": "2022-12-26T10:43:01.959Z"
      },
      {
        "duration": 18,
        "start_time": "2022-12-26T10:43:01.964Z"
      },
      {
        "duration": 8,
        "start_time": "2022-12-26T10:43:01.984Z"
      },
      {
        "duration": 4,
        "start_time": "2022-12-26T10:43:01.994Z"
      },
      {
        "duration": 34,
        "start_time": "2022-12-26T10:43:01.999Z"
      },
      {
        "duration": 17,
        "start_time": "2022-12-26T10:43:02.035Z"
      },
      {
        "duration": 12,
        "start_time": "2022-12-26T10:43:02.053Z"
      },
      {
        "duration": 17,
        "start_time": "2022-12-26T10:43:02.067Z"
      },
      {
        "duration": 21,
        "start_time": "2022-12-26T10:43:02.086Z"
      },
      {
        "duration": 14,
        "start_time": "2022-12-26T10:43:02.109Z"
      },
      {
        "duration": 18,
        "start_time": "2022-12-26T10:43:02.125Z"
      },
      {
        "duration": 5,
        "start_time": "2022-12-26T10:43:02.147Z"
      },
      {
        "duration": 23,
        "start_time": "2022-12-26T10:43:02.154Z"
      },
      {
        "duration": 14,
        "start_time": "2022-12-26T10:43:02.179Z"
      },
      {
        "duration": 10,
        "start_time": "2022-12-26T10:43:02.215Z"
      },
      {
        "duration": 13,
        "start_time": "2022-12-26T10:43:02.227Z"
      },
      {
        "duration": 7,
        "start_time": "2022-12-26T10:43:02.241Z"
      },
      {
        "duration": 0,
        "start_time": "2022-12-26T10:43:02.250Z"
      },
      {
        "duration": 13,
        "start_time": "2022-12-26T10:49:16.485Z"
      },
      {
        "duration": 13,
        "start_time": "2022-12-26T10:49:27.070Z"
      },
      {
        "duration": 13,
        "start_time": "2022-12-26T10:51:21.588Z"
      },
      {
        "duration": 9,
        "start_time": "2022-12-26T10:51:26.984Z"
      },
      {
        "duration": 12,
        "start_time": "2022-12-26T10:51:51.739Z"
      },
      {
        "duration": 13,
        "start_time": "2022-12-26T10:52:10.772Z"
      },
      {
        "duration": 62,
        "start_time": "2022-12-26T10:52:20.976Z"
      },
      {
        "duration": 11,
        "start_time": "2022-12-26T10:52:39.693Z"
      },
      {
        "duration": 11,
        "start_time": "2022-12-26T10:52:59.880Z"
      },
      {
        "duration": 11,
        "start_time": "2022-12-26T10:54:08.083Z"
      },
      {
        "duration": 11,
        "start_time": "2022-12-26T10:54:39.539Z"
      },
      {
        "duration": 12,
        "start_time": "2022-12-26T10:55:24.183Z"
      },
      {
        "duration": 13,
        "start_time": "2022-12-26T10:55:44.308Z"
      },
      {
        "duration": 12,
        "start_time": "2022-12-26T10:55:50.784Z"
      },
      {
        "duration": 14,
        "start_time": "2022-12-26T10:56:49.216Z"
      },
      {
        "duration": 16,
        "start_time": "2022-12-26T10:57:28.366Z"
      },
      {
        "duration": 14,
        "start_time": "2022-12-26T10:57:53.947Z"
      },
      {
        "duration": 14,
        "start_time": "2022-12-26T10:58:18.242Z"
      },
      {
        "duration": 11,
        "start_time": "2022-12-26T10:58:29.483Z"
      },
      {
        "duration": 16,
        "start_time": "2022-12-26T10:58:55.883Z"
      },
      {
        "duration": 21,
        "start_time": "2022-12-26T10:59:43.209Z"
      },
      {
        "duration": 18,
        "start_time": "2022-12-26T10:59:49.299Z"
      },
      {
        "duration": 114,
        "start_time": "2022-12-26T11:00:19.438Z"
      },
      {
        "duration": 14,
        "start_time": "2022-12-26T11:00:19.554Z"
      },
      {
        "duration": 21,
        "start_time": "2022-12-26T11:00:19.569Z"
      },
      {
        "duration": 27,
        "start_time": "2022-12-26T11:00:19.592Z"
      },
      {
        "duration": 35,
        "start_time": "2022-12-26T11:00:19.622Z"
      },
      {
        "duration": 4,
        "start_time": "2022-12-26T11:00:19.659Z"
      },
      {
        "duration": 13,
        "start_time": "2022-12-26T11:00:19.664Z"
      },
      {
        "duration": 4,
        "start_time": "2022-12-26T11:00:19.679Z"
      },
      {
        "duration": 35,
        "start_time": "2022-12-26T11:00:19.685Z"
      },
      {
        "duration": 6,
        "start_time": "2022-12-26T11:00:19.722Z"
      },
      {
        "duration": 38,
        "start_time": "2022-12-26T11:00:19.729Z"
      },
      {
        "duration": 12,
        "start_time": "2022-12-26T11:00:19.769Z"
      },
      {
        "duration": 17,
        "start_time": "2022-12-26T11:00:19.782Z"
      },
      {
        "duration": 27,
        "start_time": "2022-12-26T11:00:19.801Z"
      },
      {
        "duration": 24,
        "start_time": "2022-12-26T11:00:19.829Z"
      },
      {
        "duration": 21,
        "start_time": "2022-12-26T11:00:19.854Z"
      },
      {
        "duration": 4,
        "start_time": "2022-12-26T11:00:19.877Z"
      },
      {
        "duration": 34,
        "start_time": "2022-12-26T11:00:19.882Z"
      },
      {
        "duration": 6,
        "start_time": "2022-12-26T11:00:19.917Z"
      },
      {
        "duration": 3,
        "start_time": "2022-12-26T11:00:19.925Z"
      },
      {
        "duration": 12,
        "start_time": "2022-12-26T11:00:19.930Z"
      },
      {
        "duration": 13,
        "start_time": "2022-12-26T11:00:19.944Z"
      },
      {
        "duration": 6,
        "start_time": "2022-12-26T11:00:19.959Z"
      },
      {
        "duration": 7,
        "start_time": "2022-12-26T11:00:19.966Z"
      },
      {
        "duration": 43,
        "start_time": "2022-12-26T11:00:19.975Z"
      },
      {
        "duration": 14,
        "start_time": "2022-12-26T11:00:20.020Z"
      },
      {
        "duration": 5,
        "start_time": "2022-12-26T11:00:20.036Z"
      },
      {
        "duration": 22,
        "start_time": "2022-12-26T11:00:20.043Z"
      },
      {
        "duration": 12,
        "start_time": "2022-12-26T11:00:20.067Z"
      },
      {
        "duration": 37,
        "start_time": "2022-12-26T11:00:20.081Z"
      },
      {
        "duration": 15,
        "start_time": "2022-12-26T11:00:20.122Z"
      },
      {
        "duration": 16,
        "start_time": "2022-12-26T11:00:20.139Z"
      },
      {
        "duration": 9,
        "start_time": "2022-12-26T11:00:20.157Z"
      },
      {
        "duration": 0,
        "start_time": "2022-12-26T11:00:20.167Z"
      },
      {
        "duration": 11,
        "start_time": "2022-12-26T11:00:51.149Z"
      },
      {
        "duration": 27,
        "start_time": "2022-12-26T11:00:56.253Z"
      },
      {
        "duration": 18,
        "start_time": "2022-12-26T11:02:08.413Z"
      },
      {
        "duration": 16,
        "start_time": "2022-12-26T11:04:55.879Z"
      },
      {
        "duration": 17,
        "start_time": "2022-12-26T11:04:59.160Z"
      },
      {
        "duration": 16,
        "start_time": "2022-12-26T11:05:03.787Z"
      },
      {
        "duration": 122,
        "start_time": "2022-12-26T11:08:12.150Z"
      },
      {
        "duration": 17,
        "start_time": "2022-12-26T11:08:12.274Z"
      },
      {
        "duration": 31,
        "start_time": "2022-12-26T11:08:12.292Z"
      },
      {
        "duration": 13,
        "start_time": "2022-12-26T11:08:12.325Z"
      },
      {
        "duration": 36,
        "start_time": "2022-12-26T11:08:12.339Z"
      },
      {
        "duration": 3,
        "start_time": "2022-12-26T11:08:12.377Z"
      },
      {
        "duration": 11,
        "start_time": "2022-12-26T11:08:12.382Z"
      },
      {
        "duration": 7,
        "start_time": "2022-12-26T11:08:12.416Z"
      },
      {
        "duration": 9,
        "start_time": "2022-12-26T11:08:12.425Z"
      },
      {
        "duration": 7,
        "start_time": "2022-12-26T11:08:12.436Z"
      },
      {
        "duration": 42,
        "start_time": "2022-12-26T11:08:12.445Z"
      },
      {
        "duration": 32,
        "start_time": "2022-12-26T11:08:12.489Z"
      },
      {
        "duration": 4,
        "start_time": "2022-12-26T11:08:12.524Z"
      },
      {
        "duration": 18,
        "start_time": "2022-12-26T11:08:12.530Z"
      },
      {
        "duration": 25,
        "start_time": "2022-12-26T11:08:12.550Z"
      },
      {
        "duration": 44,
        "start_time": "2022-12-26T11:08:12.577Z"
      },
      {
        "duration": 5,
        "start_time": "2022-12-26T11:08:12.623Z"
      },
      {
        "duration": 19,
        "start_time": "2022-12-26T11:08:12.629Z"
      },
      {
        "duration": 15,
        "start_time": "2022-12-26T11:08:12.650Z"
      },
      {
        "duration": 4,
        "start_time": "2022-12-26T11:08:12.667Z"
      },
      {
        "duration": 14,
        "start_time": "2022-12-26T11:08:12.672Z"
      },
      {
        "duration": 31,
        "start_time": "2022-12-26T11:08:12.688Z"
      },
      {
        "duration": 8,
        "start_time": "2022-12-26T11:08:12.721Z"
      },
      {
        "duration": 6,
        "start_time": "2022-12-26T11:08:12.731Z"
      },
      {
        "duration": 22,
        "start_time": "2022-12-26T11:08:12.739Z"
      },
      {
        "duration": 7,
        "start_time": "2022-12-26T11:08:12.762Z"
      },
      {
        "duration": 17,
        "start_time": "2022-12-26T11:08:12.771Z"
      },
      {
        "duration": 4,
        "start_time": "2022-12-26T11:08:12.816Z"
      },
      {
        "duration": 17,
        "start_time": "2022-12-26T11:08:12.822Z"
      },
      {
        "duration": 22,
        "start_time": "2022-12-26T11:08:12.840Z"
      },
      {
        "duration": 9,
        "start_time": "2022-12-26T11:08:12.863Z"
      },
      {
        "duration": 6,
        "start_time": "2022-12-26T11:08:12.873Z"
      },
      {
        "duration": 37,
        "start_time": "2022-12-26T11:08:12.880Z"
      },
      {
        "duration": 8,
        "start_time": "2022-12-26T11:08:12.919Z"
      },
      {
        "duration": 0,
        "start_time": "2022-12-26T11:08:12.929Z"
      },
      {
        "duration": 18,
        "start_time": "2022-12-26T11:13:14.098Z"
      },
      {
        "duration": 19,
        "start_time": "2022-12-26T11:19:20.952Z"
      },
      {
        "duration": 110,
        "start_time": "2022-12-26T11:19:45.876Z"
      },
      {
        "duration": 14,
        "start_time": "2022-12-26T11:19:45.988Z"
      },
      {
        "duration": 13,
        "start_time": "2022-12-26T11:19:46.016Z"
      },
      {
        "duration": 9,
        "start_time": "2022-12-26T11:19:46.031Z"
      },
      {
        "duration": 36,
        "start_time": "2022-12-26T11:19:46.041Z"
      },
      {
        "duration": 3,
        "start_time": "2022-12-26T11:19:46.078Z"
      },
      {
        "duration": 34,
        "start_time": "2022-12-26T11:19:46.082Z"
      },
      {
        "duration": 4,
        "start_time": "2022-12-26T11:19:46.117Z"
      },
      {
        "duration": 8,
        "start_time": "2022-12-26T11:19:46.122Z"
      },
      {
        "duration": 6,
        "start_time": "2022-12-26T11:19:46.132Z"
      },
      {
        "duration": 45,
        "start_time": "2022-12-26T11:19:46.139Z"
      },
      {
        "duration": 9,
        "start_time": "2022-12-26T11:19:46.186Z"
      },
      {
        "duration": 18,
        "start_time": "2022-12-26T11:19:46.197Z"
      },
      {
        "duration": 14,
        "start_time": "2022-12-26T11:19:46.217Z"
      },
      {
        "duration": 35,
        "start_time": "2022-12-26T11:19:46.233Z"
      },
      {
        "duration": 23,
        "start_time": "2022-12-26T11:19:46.270Z"
      },
      {
        "duration": 19,
        "start_time": "2022-12-26T11:19:46.297Z"
      },
      {
        "duration": 12,
        "start_time": "2022-12-26T11:19:46.319Z"
      },
      {
        "duration": 19,
        "start_time": "2022-12-26T11:19:46.332Z"
      },
      {
        "duration": 10,
        "start_time": "2022-12-26T11:19:46.352Z"
      },
      {
        "duration": 31,
        "start_time": "2022-12-26T11:19:46.364Z"
      },
      {
        "duration": 32,
        "start_time": "2022-12-26T11:19:46.397Z"
      },
      {
        "duration": 18,
        "start_time": "2022-12-26T11:19:46.431Z"
      },
      {
        "duration": 9,
        "start_time": "2022-12-26T11:19:46.451Z"
      },
      {
        "duration": 19,
        "start_time": "2022-12-26T11:19:46.461Z"
      },
      {
        "duration": 7,
        "start_time": "2022-12-26T11:19:46.481Z"
      },
      {
        "duration": 27,
        "start_time": "2022-12-26T11:19:46.489Z"
      },
      {
        "duration": 4,
        "start_time": "2022-12-26T11:19:46.518Z"
      },
      {
        "duration": 15,
        "start_time": "2022-12-26T11:19:46.524Z"
      },
      {
        "duration": 18,
        "start_time": "2022-12-26T11:19:46.541Z"
      },
      {
        "duration": 18,
        "start_time": "2022-12-26T11:19:46.560Z"
      },
      {
        "duration": 48,
        "start_time": "2022-12-26T11:19:46.579Z"
      },
      {
        "duration": 18,
        "start_time": "2022-12-26T11:19:46.628Z"
      },
      {
        "duration": 6,
        "start_time": "2022-12-26T11:19:46.648Z"
      },
      {
        "duration": 0,
        "start_time": "2022-12-26T11:19:46.656Z"
      },
      {
        "duration": 18,
        "start_time": "2022-12-26T11:20:28.028Z"
      },
      {
        "duration": 9,
        "start_time": "2022-12-26T11:21:16.858Z"
      },
      {
        "duration": 18,
        "start_time": "2022-12-26T11:22:04.081Z"
      },
      {
        "duration": 15,
        "start_time": "2022-12-26T11:24:34.765Z"
      },
      {
        "duration": 23,
        "start_time": "2022-12-26T11:24:54.364Z"
      },
      {
        "duration": 18,
        "start_time": "2022-12-26T11:25:40.007Z"
      },
      {
        "duration": 17,
        "start_time": "2022-12-26T11:25:59.878Z"
      },
      {
        "duration": 19,
        "start_time": "2022-12-26T11:26:31.122Z"
      },
      {
        "duration": 17,
        "start_time": "2022-12-26T11:26:36.571Z"
      },
      {
        "duration": 19,
        "start_time": "2022-12-26T11:27:21.480Z"
      },
      {
        "duration": 21,
        "start_time": "2022-12-26T11:28:25.510Z"
      },
      {
        "duration": 20,
        "start_time": "2022-12-26T11:28:39.976Z"
      },
      {
        "duration": 14,
        "start_time": "2022-12-26T11:36:07.605Z"
      },
      {
        "duration": 46,
        "start_time": "2022-12-26T11:39:09.768Z"
      },
      {
        "duration": 21,
        "start_time": "2022-12-26T11:39:28.268Z"
      },
      {
        "duration": 19,
        "start_time": "2022-12-26T11:40:49.564Z"
      },
      {
        "duration": 21,
        "start_time": "2022-12-26T11:40:57.783Z"
      },
      {
        "duration": 21,
        "start_time": "2022-12-26T11:41:17.956Z"
      },
      {
        "duration": 19,
        "start_time": "2022-12-26T11:41:35.204Z"
      },
      {
        "duration": 21,
        "start_time": "2022-12-26T11:41:54.085Z"
      },
      {
        "duration": 15,
        "start_time": "2022-12-26T11:55:59.355Z"
      },
      {
        "duration": 12,
        "start_time": "2022-12-26T11:57:57.611Z"
      },
      {
        "duration": 15,
        "start_time": "2022-12-26T11:58:28.378Z"
      },
      {
        "duration": 15,
        "start_time": "2022-12-26T11:58:43.091Z"
      },
      {
        "duration": 13,
        "start_time": "2022-12-26T11:58:55.352Z"
      },
      {
        "duration": 14,
        "start_time": "2022-12-26T11:59:15.264Z"
      },
      {
        "duration": 13,
        "start_time": "2022-12-26T12:01:10.742Z"
      },
      {
        "duration": 14,
        "start_time": "2022-12-26T12:01:23.693Z"
      },
      {
        "duration": 7,
        "start_time": "2022-12-26T12:12:47.472Z"
      },
      {
        "duration": 15,
        "start_time": "2022-12-26T12:14:26.965Z"
      },
      {
        "duration": 20,
        "start_time": "2022-12-26T12:14:31.699Z"
      },
      {
        "duration": 117,
        "start_time": "2022-12-26T12:14:57.680Z"
      },
      {
        "duration": 21,
        "start_time": "2022-12-26T12:14:57.799Z"
      },
      {
        "duration": 18,
        "start_time": "2022-12-26T12:14:57.822Z"
      },
      {
        "duration": 12,
        "start_time": "2022-12-26T12:14:57.842Z"
      },
      {
        "duration": 61,
        "start_time": "2022-12-26T12:14:57.855Z"
      },
      {
        "duration": 4,
        "start_time": "2022-12-26T12:14:57.918Z"
      },
      {
        "duration": 12,
        "start_time": "2022-12-26T12:14:57.923Z"
      },
      {
        "duration": 5,
        "start_time": "2022-12-26T12:14:57.936Z"
      },
      {
        "duration": 11,
        "start_time": "2022-12-26T12:14:57.943Z"
      },
      {
        "duration": 6,
        "start_time": "2022-12-26T12:14:57.958Z"
      },
      {
        "duration": 68,
        "start_time": "2022-12-26T12:14:57.966Z"
      },
      {
        "duration": 11,
        "start_time": "2022-12-26T12:14:58.035Z"
      },
      {
        "duration": 5,
        "start_time": "2022-12-26T12:14:58.048Z"
      },
      {
        "duration": 18,
        "start_time": "2022-12-26T12:14:58.054Z"
      },
      {
        "duration": 42,
        "start_time": "2022-12-26T12:14:58.074Z"
      },
      {
        "duration": 19,
        "start_time": "2022-12-26T12:14:58.118Z"
      },
      {
        "duration": 3,
        "start_time": "2022-12-26T12:14:58.139Z"
      },
      {
        "duration": 12,
        "start_time": "2022-12-26T12:14:58.143Z"
      },
      {
        "duration": 5,
        "start_time": "2022-12-26T12:14:58.157Z"
      },
      {
        "duration": 21,
        "start_time": "2022-12-26T12:14:58.164Z"
      },
      {
        "duration": 29,
        "start_time": "2022-12-26T12:14:58.187Z"
      },
      {
        "duration": 19,
        "start_time": "2022-12-26T12:14:58.219Z"
      },
      {
        "duration": 6,
        "start_time": "2022-12-26T12:14:58.240Z"
      },
      {
        "duration": 25,
        "start_time": "2022-12-26T12:14:58.247Z"
      },
      {
        "duration": 9,
        "start_time": "2022-12-26T12:14:58.274Z"
      },
      {
        "duration": 7,
        "start_time": "2022-12-26T12:14:58.317Z"
      },
      {
        "duration": 0,
        "start_time": "2022-12-26T12:14:58.326Z"
      },
      {
        "duration": 0,
        "start_time": "2022-12-26T12:14:58.328Z"
      },
      {
        "duration": 0,
        "start_time": "2022-12-26T12:14:58.329Z"
      },
      {
        "duration": 0,
        "start_time": "2022-12-26T12:14:58.331Z"
      },
      {
        "duration": 18,
        "start_time": "2022-12-26T12:14:58.362Z"
      },
      {
        "duration": 34,
        "start_time": "2022-12-26T12:14:58.383Z"
      },
      {
        "duration": 22,
        "start_time": "2022-12-26T12:14:58.419Z"
      },
      {
        "duration": 22,
        "start_time": "2022-12-26T12:14:58.443Z"
      },
      {
        "duration": 4,
        "start_time": "2022-12-26T12:17:16.271Z"
      },
      {
        "duration": 8,
        "start_time": "2022-12-26T12:17:25.054Z"
      },
      {
        "duration": 7,
        "start_time": "2022-12-26T12:17:26.098Z"
      },
      {
        "duration": 5,
        "start_time": "2022-12-26T12:17:37.273Z"
      },
      {
        "duration": 5,
        "start_time": "2022-12-26T12:18:01.154Z"
      },
      {
        "duration": 4,
        "start_time": "2022-12-26T12:18:27.129Z"
      },
      {
        "duration": 5,
        "start_time": "2022-12-26T12:18:36.083Z"
      },
      {
        "duration": 8,
        "start_time": "2022-12-26T12:19:14.943Z"
      },
      {
        "duration": 8,
        "start_time": "2022-12-26T12:19:18.580Z"
      },
      {
        "duration": 4,
        "start_time": "2022-12-26T12:19:23.566Z"
      },
      {
        "duration": 5,
        "start_time": "2022-12-26T12:19:48.046Z"
      },
      {
        "duration": 5,
        "start_time": "2022-12-26T12:20:12.554Z"
      },
      {
        "duration": 23,
        "start_time": "2022-12-26T12:20:45.762Z"
      },
      {
        "duration": 27,
        "start_time": "2022-12-26T12:20:48.694Z"
      },
      {
        "duration": 15,
        "start_time": "2022-12-26T12:45:15.152Z"
      },
      {
        "duration": 14,
        "start_time": "2022-12-26T12:45:20.077Z"
      },
      {
        "duration": 27,
        "start_time": "2022-12-26T12:45:28.102Z"
      },
      {
        "duration": 14,
        "start_time": "2022-12-26T12:45:31.779Z"
      },
      {
        "duration": 14,
        "start_time": "2022-12-26T12:45:44.377Z"
      },
      {
        "duration": 18,
        "start_time": "2022-12-26T12:45:49.651Z"
      },
      {
        "duration": 13,
        "start_time": "2022-12-26T12:49:56.135Z"
      },
      {
        "duration": 18,
        "start_time": "2022-12-26T12:50:26.089Z"
      },
      {
        "duration": 21,
        "start_time": "2022-12-26T12:50:54.751Z"
      },
      {
        "duration": 18,
        "start_time": "2022-12-26T12:51:04.551Z"
      },
      {
        "duration": 16,
        "start_time": "2022-12-26T12:52:00.887Z"
      },
      {
        "duration": 13,
        "start_time": "2022-12-26T12:52:33.469Z"
      },
      {
        "duration": 19,
        "start_time": "2022-12-26T12:52:34.055Z"
      },
      {
        "duration": 16,
        "start_time": "2022-12-26T12:52:35.269Z"
      },
      {
        "duration": 5,
        "start_time": "2022-12-26T12:54:07.663Z"
      },
      {
        "duration": 800,
        "start_time": "2022-12-26T12:56:01.577Z"
      },
      {
        "duration": 16,
        "start_time": "2022-12-26T12:56:53.059Z"
      },
      {
        "duration": 19,
        "start_time": "2022-12-26T12:57:14.402Z"
      },
      {
        "duration": 18,
        "start_time": "2022-12-26T12:58:05.484Z"
      },
      {
        "duration": 17,
        "start_time": "2022-12-26T12:58:06.148Z"
      },
      {
        "duration": 20,
        "start_time": "2022-12-26T12:58:31.766Z"
      },
      {
        "duration": 19,
        "start_time": "2022-12-26T12:58:39.655Z"
      },
      {
        "duration": 16,
        "start_time": "2022-12-26T12:58:50.665Z"
      },
      {
        "duration": 20,
        "start_time": "2022-12-26T12:59:07.266Z"
      },
      {
        "duration": 15,
        "start_time": "2022-12-26T12:59:49.581Z"
      },
      {
        "duration": 17,
        "start_time": "2022-12-26T12:59:54.367Z"
      },
      {
        "duration": 19,
        "start_time": "2022-12-26T13:00:52.166Z"
      },
      {
        "duration": 14,
        "start_time": "2022-12-26T13:01:21.263Z"
      },
      {
        "duration": 20,
        "start_time": "2022-12-26T13:07:57.856Z"
      },
      {
        "duration": 18,
        "start_time": "2022-12-26T13:08:19.988Z"
      },
      {
        "duration": 18,
        "start_time": "2022-12-26T13:08:28.873Z"
      },
      {
        "duration": 578,
        "start_time": "2022-12-26T13:09:27.812Z"
      },
      {
        "duration": 681,
        "start_time": "2022-12-26T13:09:50.655Z"
      },
      {
        "duration": 17,
        "start_time": "2022-12-26T13:09:56.002Z"
      },
      {
        "duration": 794,
        "start_time": "2022-12-26T13:11:28.891Z"
      },
      {
        "duration": 19,
        "start_time": "2022-12-26T13:11:53.443Z"
      },
      {
        "duration": 16,
        "start_time": "2022-12-26T13:12:07.123Z"
      },
      {
        "duration": 750,
        "start_time": "2022-12-26T13:12:21.608Z"
      },
      {
        "duration": 16,
        "start_time": "2022-12-26T13:12:39.492Z"
      },
      {
        "duration": 922,
        "start_time": "2022-12-26T13:14:14.384Z"
      },
      {
        "duration": 17,
        "start_time": "2022-12-26T13:14:22.267Z"
      },
      {
        "duration": 16,
        "start_time": "2022-12-26T13:14:45.552Z"
      },
      {
        "duration": 640,
        "start_time": "2022-12-26T13:23:02.976Z"
      },
      {
        "duration": 834,
        "start_time": "2022-12-26T13:23:16.275Z"
      },
      {
        "duration": 923,
        "start_time": "2022-12-26T13:23:40.689Z"
      },
      {
        "duration": 0,
        "start_time": "2022-12-26T13:23:41.614Z"
      },
      {
        "duration": 19,
        "start_time": "2022-12-26T13:24:00.873Z"
      },
      {
        "duration": 20,
        "start_time": "2022-12-26T13:25:45.375Z"
      },
      {
        "duration": 588,
        "start_time": "2022-12-26T13:26:40.222Z"
      },
      {
        "duration": 20,
        "start_time": "2022-12-26T13:27:10.672Z"
      },
      {
        "duration": 23,
        "start_time": "2022-12-26T13:27:10.695Z"
      },
      {
        "duration": 18,
        "start_time": "2022-12-26T13:28:50.663Z"
      },
      {
        "duration": 20,
        "start_time": "2022-12-26T13:29:07.964Z"
      },
      {
        "duration": 19,
        "start_time": "2022-12-26T13:30:10.772Z"
      },
      {
        "duration": 15,
        "start_time": "2022-12-26T13:30:34.347Z"
      },
      {
        "duration": 15,
        "start_time": "2022-12-26T13:30:56.721Z"
      },
      {
        "duration": 14,
        "start_time": "2022-12-26T13:31:09.914Z"
      },
      {
        "duration": 56,
        "start_time": "2022-12-26T13:32:24.248Z"
      },
      {
        "duration": 48,
        "start_time": "2022-12-26T13:32:37.577Z"
      },
      {
        "duration": 17,
        "start_time": "2022-12-26T13:32:59.766Z"
      },
      {
        "duration": 19,
        "start_time": "2022-12-26T13:33:07.492Z"
      },
      {
        "duration": 30,
        "start_time": "2022-12-26T13:33:30.871Z"
      },
      {
        "duration": 32,
        "start_time": "2022-12-26T13:33:56.771Z"
      },
      {
        "duration": 26,
        "start_time": "2022-12-26T13:43:36.074Z"
      },
      {
        "duration": 20,
        "start_time": "2022-12-26T13:43:48.103Z"
      },
      {
        "duration": 14,
        "start_time": "2022-12-26T13:45:30.914Z"
      },
      {
        "duration": 24,
        "start_time": "2022-12-26T13:45:48.169Z"
      },
      {
        "duration": 24,
        "start_time": "2022-12-26T13:46:18.964Z"
      },
      {
        "duration": 32,
        "start_time": "2022-12-26T13:46:27.715Z"
      },
      {
        "duration": 26,
        "start_time": "2022-12-26T13:46:28.632Z"
      },
      {
        "duration": 28,
        "start_time": "2022-12-26T13:47:00.127Z"
      },
      {
        "duration": 30,
        "start_time": "2022-12-26T13:47:06.164Z"
      },
      {
        "duration": 25,
        "start_time": "2022-12-26T13:47:16.468Z"
      },
      {
        "duration": 974,
        "start_time": "2022-12-26T14:13:20.010Z"
      },
      {
        "duration": 578,
        "start_time": "2022-12-26T14:13:26.888Z"
      },
      {
        "duration": 15,
        "start_time": "2022-12-26T14:13:32.692Z"
      },
      {
        "duration": 58,
        "start_time": "2022-12-26T14:21:04.453Z"
      },
      {
        "duration": 91,
        "start_time": "2022-12-26T14:21:19.624Z"
      },
      {
        "duration": 14,
        "start_time": "2022-12-26T14:22:03.128Z"
      },
      {
        "duration": 12,
        "start_time": "2022-12-26T14:22:09.803Z"
      },
      {
        "duration": 48,
        "start_time": "2022-12-26T14:22:27.060Z"
      },
      {
        "duration": 18,
        "start_time": "2022-12-26T14:23:04.985Z"
      },
      {
        "duration": 31,
        "start_time": "2022-12-26T14:23:13.691Z"
      },
      {
        "duration": 42,
        "start_time": "2022-12-26T14:24:43.232Z"
      },
      {
        "duration": 18,
        "start_time": "2022-12-26T14:24:58.528Z"
      },
      {
        "duration": 17,
        "start_time": "2022-12-26T14:25:22.263Z"
      },
      {
        "duration": 18,
        "start_time": "2022-12-26T14:25:54.526Z"
      },
      {
        "duration": 69,
        "start_time": "2022-12-26T14:26:06.924Z"
      },
      {
        "duration": 16,
        "start_time": "2022-12-26T14:26:17.067Z"
      },
      {
        "duration": 28,
        "start_time": "2022-12-26T14:26:25.659Z"
      },
      {
        "duration": 16,
        "start_time": "2022-12-26T14:26:31.915Z"
      },
      {
        "duration": 17,
        "start_time": "2022-12-26T14:26:36.737Z"
      },
      {
        "duration": 19,
        "start_time": "2022-12-26T14:26:46.280Z"
      },
      {
        "duration": 16,
        "start_time": "2022-12-26T14:27:36.983Z"
      },
      {
        "duration": 19,
        "start_time": "2022-12-26T14:35:22.216Z"
      },
      {
        "duration": 27,
        "start_time": "2022-12-26T14:35:40.289Z"
      },
      {
        "duration": 37,
        "start_time": "2022-12-26T14:36:11.722Z"
      },
      {
        "duration": 13,
        "start_time": "2022-12-26T14:36:37.803Z"
      },
      {
        "duration": 20,
        "start_time": "2022-12-26T14:37:34.530Z"
      },
      {
        "duration": 15,
        "start_time": "2022-12-26T14:39:08.344Z"
      },
      {
        "duration": 25,
        "start_time": "2022-12-26T14:39:14.959Z"
      },
      {
        "duration": 20,
        "start_time": "2022-12-26T14:40:40.653Z"
      },
      {
        "duration": 27,
        "start_time": "2022-12-26T14:43:02.334Z"
      },
      {
        "duration": 26,
        "start_time": "2022-12-26T14:43:26.421Z"
      },
      {
        "duration": 1084,
        "start_time": "2022-12-26T14:48:06.873Z"
      },
      {
        "duration": 15,
        "start_time": "2022-12-26T18:03:56.476Z"
      },
      {
        "duration": 16,
        "start_time": "2022-12-26T18:04:18.715Z"
      },
      {
        "duration": 18,
        "start_time": "2022-12-26T18:04:44.368Z"
      },
      {
        "duration": 26,
        "start_time": "2022-12-26T18:04:58.265Z"
      },
      {
        "duration": 17,
        "start_time": "2022-12-26T18:05:54.284Z"
      },
      {
        "duration": 17,
        "start_time": "2022-12-26T18:06:03.841Z"
      },
      {
        "duration": 17,
        "start_time": "2022-12-26T18:06:09.935Z"
      },
      {
        "duration": 16,
        "start_time": "2022-12-26T18:08:26.629Z"
      },
      {
        "duration": 21,
        "start_time": "2022-12-26T18:08:38.371Z"
      },
      {
        "duration": 21,
        "start_time": "2022-12-26T18:08:47.780Z"
      },
      {
        "duration": 17,
        "start_time": "2022-12-26T18:09:12.279Z"
      },
      {
        "duration": 15,
        "start_time": "2022-12-26T18:09:21.388Z"
      },
      {
        "duration": 14,
        "start_time": "2022-12-26T18:11:04.844Z"
      },
      {
        "duration": 17,
        "start_time": "2022-12-26T18:17:29.003Z"
      },
      {
        "duration": 19,
        "start_time": "2022-12-26T18:17:39.434Z"
      },
      {
        "duration": 19,
        "start_time": "2022-12-26T18:17:49.398Z"
      },
      {
        "duration": 17,
        "start_time": "2022-12-26T18:18:00.394Z"
      },
      {
        "duration": 10,
        "start_time": "2022-12-26T18:21:08.970Z"
      },
      {
        "duration": 4,
        "start_time": "2022-12-26T18:21:17.654Z"
      },
      {
        "duration": 11,
        "start_time": "2022-12-26T18:21:30.084Z"
      },
      {
        "duration": 12,
        "start_time": "2022-12-26T18:22:28.492Z"
      },
      {
        "duration": 11,
        "start_time": "2022-12-26T18:22:33.460Z"
      },
      {
        "duration": 9,
        "start_time": "2022-12-26T18:23:04.973Z"
      },
      {
        "duration": 9,
        "start_time": "2022-12-26T18:23:09.959Z"
      },
      {
        "duration": 14,
        "start_time": "2022-12-26T18:23:18.596Z"
      },
      {
        "duration": 8,
        "start_time": "2022-12-26T18:23:32.361Z"
      },
      {
        "duration": 50,
        "start_time": "2022-12-26T18:25:18.458Z"
      },
      {
        "duration": 60,
        "start_time": "2022-12-26T18:25:29.431Z"
      },
      {
        "duration": 54,
        "start_time": "2022-12-26T18:25:47.630Z"
      },
      {
        "duration": 8,
        "start_time": "2022-12-26T18:26:12.594Z"
      },
      {
        "duration": 8,
        "start_time": "2022-12-26T18:26:32.231Z"
      },
      {
        "duration": 692,
        "start_time": "2022-12-26T18:26:42.359Z"
      },
      {
        "duration": 729,
        "start_time": "2022-12-26T18:27:05.796Z"
      },
      {
        "duration": 772,
        "start_time": "2022-12-26T18:28:27.596Z"
      },
      {
        "duration": 739,
        "start_time": "2022-12-26T18:29:19.592Z"
      },
      {
        "duration": 676,
        "start_time": "2022-12-26T18:29:32.670Z"
      },
      {
        "duration": 813,
        "start_time": "2022-12-26T18:29:50.597Z"
      },
      {
        "duration": 698,
        "start_time": "2022-12-26T18:31:26.896Z"
      },
      {
        "duration": 714,
        "start_time": "2022-12-26T18:32:01.033Z"
      },
      {
        "duration": 727,
        "start_time": "2022-12-26T18:33:14.081Z"
      },
      {
        "duration": 18,
        "start_time": "2022-12-26T18:34:09.731Z"
      },
      {
        "duration": 15,
        "start_time": "2022-12-26T18:34:23.298Z"
      },
      {
        "duration": 16,
        "start_time": "2022-12-26T18:34:41.441Z"
      },
      {
        "duration": 712,
        "start_time": "2022-12-26T18:35:07.271Z"
      },
      {
        "duration": 14,
        "start_time": "2022-12-26T18:35:40.789Z"
      },
      {
        "duration": 16,
        "start_time": "2022-12-26T18:35:50.969Z"
      },
      {
        "duration": 18,
        "start_time": "2022-12-26T18:36:05.290Z"
      },
      {
        "duration": 16,
        "start_time": "2022-12-26T18:36:13.855Z"
      },
      {
        "duration": 12,
        "start_time": "2022-12-26T18:38:11.956Z"
      },
      {
        "duration": 23,
        "start_time": "2022-12-26T18:39:00.136Z"
      },
      {
        "duration": 21,
        "start_time": "2022-12-26T18:40:01.532Z"
      },
      {
        "duration": 24,
        "start_time": "2022-12-26T18:41:08.785Z"
      },
      {
        "duration": 23,
        "start_time": "2022-12-26T18:41:21.085Z"
      },
      {
        "duration": 21,
        "start_time": "2022-12-26T18:41:31.764Z"
      },
      {
        "duration": 22,
        "start_time": "2022-12-26T18:42:22.654Z"
      },
      {
        "duration": 21,
        "start_time": "2022-12-26T18:42:47.201Z"
      },
      {
        "duration": 24,
        "start_time": "2022-12-26T18:43:31.142Z"
      },
      {
        "duration": 20,
        "start_time": "2022-12-26T18:44:09.917Z"
      },
      {
        "duration": 38,
        "start_time": "2022-12-26T18:44:58.626Z"
      },
      {
        "duration": 24,
        "start_time": "2022-12-26T18:46:12.875Z"
      },
      {
        "duration": 15,
        "start_time": "2022-12-26T18:50:12.526Z"
      },
      {
        "duration": 7,
        "start_time": "2022-12-26T18:50:20.566Z"
      },
      {
        "duration": 762,
        "start_time": "2022-12-26T18:52:19.780Z"
      },
      {
        "duration": 8,
        "start_time": "2022-12-26T18:52:25.987Z"
      },
      {
        "duration": 8,
        "start_time": "2022-12-26T18:53:37.843Z"
      },
      {
        "duration": 5,
        "start_time": "2022-12-26T18:54:25.366Z"
      },
      {
        "duration": 8,
        "start_time": "2022-12-26T18:54:38.025Z"
      },
      {
        "duration": 5,
        "start_time": "2022-12-26T18:55:10.775Z"
      },
      {
        "duration": 21,
        "start_time": "2022-12-26T18:58:17.669Z"
      },
      {
        "duration": 21,
        "start_time": "2022-12-26T18:59:37.635Z"
      },
      {
        "duration": 18,
        "start_time": "2022-12-26T19:00:06.788Z"
      },
      {
        "duration": 773,
        "start_time": "2022-12-26T19:01:35.675Z"
      },
      {
        "duration": 16,
        "start_time": "2022-12-26T19:01:45.279Z"
      },
      {
        "duration": 711,
        "start_time": "2022-12-26T19:01:59.184Z"
      },
      {
        "duration": 15,
        "start_time": "2022-12-26T19:02:25.220Z"
      },
      {
        "duration": 17,
        "start_time": "2022-12-26T19:02:54.263Z"
      },
      {
        "duration": 17,
        "start_time": "2022-12-26T19:03:21.048Z"
      },
      {
        "duration": 34,
        "start_time": "2022-12-26T19:03:32.114Z"
      },
      {
        "duration": 17,
        "start_time": "2022-12-26T19:05:55.934Z"
      },
      {
        "duration": 17,
        "start_time": "2022-12-26T19:06:02.152Z"
      },
      {
        "duration": 722,
        "start_time": "2023-01-14T05:21:15.300Z"
      },
      {
        "duration": 22,
        "start_time": "2023-01-14T05:21:16.024Z"
      },
      {
        "duration": 37,
        "start_time": "2023-01-14T05:21:16.048Z"
      },
      {
        "duration": 12,
        "start_time": "2023-01-14T05:21:16.087Z"
      },
      {
        "duration": 57,
        "start_time": "2023-01-14T05:21:16.100Z"
      },
      {
        "duration": 3,
        "start_time": "2023-01-14T05:21:16.159Z"
      },
      {
        "duration": 26,
        "start_time": "2023-01-14T05:21:16.164Z"
      },
      {
        "duration": 23,
        "start_time": "2023-01-14T05:21:16.192Z"
      },
      {
        "duration": 42,
        "start_time": "2023-01-14T05:21:16.217Z"
      },
      {
        "duration": 20,
        "start_time": "2023-01-14T05:21:16.263Z"
      },
      {
        "duration": 54,
        "start_time": "2023-01-14T05:21:16.285Z"
      },
      {
        "duration": 8,
        "start_time": "2023-01-14T05:21:16.341Z"
      },
      {
        "duration": 24,
        "start_time": "2023-01-14T05:21:16.351Z"
      },
      {
        "duration": 25,
        "start_time": "2023-01-14T05:21:16.376Z"
      },
      {
        "duration": 42,
        "start_time": "2023-01-14T05:21:16.403Z"
      },
      {
        "duration": 25,
        "start_time": "2023-01-14T05:21:16.447Z"
      },
      {
        "duration": 12,
        "start_time": "2023-01-14T05:21:16.474Z"
      },
      {
        "duration": 28,
        "start_time": "2023-01-14T05:21:16.487Z"
      },
      {
        "duration": 12,
        "start_time": "2023-01-14T05:21:16.516Z"
      },
      {
        "duration": 28,
        "start_time": "2023-01-14T05:21:16.529Z"
      },
      {
        "duration": 30,
        "start_time": "2023-01-14T05:21:16.559Z"
      },
      {
        "duration": 34,
        "start_time": "2023-01-14T05:21:16.591Z"
      },
      {
        "duration": 28,
        "start_time": "2023-01-14T05:21:16.626Z"
      },
      {
        "duration": 27,
        "start_time": "2023-01-14T05:21:16.655Z"
      },
      {
        "duration": 19,
        "start_time": "2023-01-14T05:21:16.684Z"
      },
      {
        "duration": 14,
        "start_time": "2023-01-14T05:21:16.705Z"
      },
      {
        "duration": 26,
        "start_time": "2023-01-14T05:21:16.720Z"
      },
      {
        "duration": 20,
        "start_time": "2023-01-14T05:21:16.749Z"
      },
      {
        "duration": 32,
        "start_time": "2023-01-14T05:21:16.771Z"
      },
      {
        "duration": 47,
        "start_time": "2023-01-14T05:21:16.805Z"
      },
      {
        "duration": 16,
        "start_time": "2023-01-14T05:21:16.854Z"
      },
      {
        "duration": 22,
        "start_time": "2023-01-14T05:21:16.872Z"
      },
      {
        "duration": 20,
        "start_time": "2023-01-14T05:21:16.896Z"
      },
      {
        "duration": 861,
        "start_time": "2023-01-14T05:21:16.918Z"
      },
      {
        "duration": 0,
        "start_time": "2023-01-14T05:21:17.780Z"
      },
      {
        "duration": 0,
        "start_time": "2023-01-14T05:21:17.781Z"
      },
      {
        "duration": 31,
        "start_time": "2023-01-14T06:12:15.820Z"
      },
      {
        "duration": 23,
        "start_time": "2023-01-14T06:12:26.901Z"
      },
      {
        "duration": 23,
        "start_time": "2023-01-14T06:12:32.941Z"
      },
      {
        "duration": 24,
        "start_time": "2023-01-14T06:12:39.140Z"
      },
      {
        "duration": 108,
        "start_time": "2023-01-14T06:17:42.581Z"
      },
      {
        "duration": 17,
        "start_time": "2023-01-14T06:18:09.536Z"
      },
      {
        "duration": 46,
        "start_time": "2023-01-14T06:18:54.646Z"
      },
      {
        "duration": 17,
        "start_time": "2023-01-14T06:19:09.805Z"
      },
      {
        "duration": 35,
        "start_time": "2023-01-14T06:19:20.303Z"
      },
      {
        "duration": 17,
        "start_time": "2023-01-14T06:20:13.038Z"
      },
      {
        "duration": 24,
        "start_time": "2023-01-14T06:20:51.114Z"
      },
      {
        "duration": 38,
        "start_time": "2023-01-14T06:21:10.749Z"
      },
      {
        "duration": 24,
        "start_time": "2023-01-14T06:21:21.298Z"
      },
      {
        "duration": 21,
        "start_time": "2023-01-14T06:44:32.446Z"
      },
      {
        "duration": 35,
        "start_time": "2023-01-14T06:44:40.801Z"
      },
      {
        "duration": 13,
        "start_time": "2023-01-14T06:45:09.430Z"
      },
      {
        "duration": 7,
        "start_time": "2023-01-14T06:46:09.243Z"
      },
      {
        "duration": 8,
        "start_time": "2023-01-14T06:46:24.546Z"
      },
      {
        "duration": 8,
        "start_time": "2023-01-14T06:46:54.531Z"
      },
      {
        "duration": 5,
        "start_time": "2023-01-14T06:47:13.400Z"
      },
      {
        "duration": 28,
        "start_time": "2023-01-14T06:50:47.383Z"
      },
      {
        "duration": 26,
        "start_time": "2023-01-14T06:51:09.501Z"
      },
      {
        "duration": 31,
        "start_time": "2023-01-14T06:52:48.885Z"
      },
      {
        "duration": 26,
        "start_time": "2023-01-14T06:53:47.420Z"
      },
      {
        "duration": 10,
        "start_time": "2023-01-14T06:54:29.574Z"
      },
      {
        "duration": 35,
        "start_time": "2023-01-14T06:54:37.360Z"
      },
      {
        "duration": 29,
        "start_time": "2023-01-14T06:55:35.397Z"
      },
      {
        "duration": 27,
        "start_time": "2023-01-14T07:01:46.529Z"
      },
      {
        "duration": 35,
        "start_time": "2023-01-14T07:02:27.225Z"
      },
      {
        "duration": 24,
        "start_time": "2023-01-14T07:03:54.979Z"
      },
      {
        "duration": 38,
        "start_time": "2023-01-14T07:05:25.505Z"
      },
      {
        "duration": 5,
        "start_time": "2023-01-14T07:05:55.228Z"
      },
      {
        "duration": 7,
        "start_time": "2023-01-14T07:06:06.560Z"
      },
      {
        "duration": 120,
        "start_time": "2023-01-14T07:06:16.176Z"
      },
      {
        "duration": 16,
        "start_time": "2023-01-14T07:06:16.298Z"
      },
      {
        "duration": 28,
        "start_time": "2023-01-14T07:06:16.315Z"
      },
      {
        "duration": 17,
        "start_time": "2023-01-14T07:06:16.345Z"
      },
      {
        "duration": 58,
        "start_time": "2023-01-14T07:06:16.363Z"
      },
      {
        "duration": 4,
        "start_time": "2023-01-14T07:06:16.422Z"
      },
      {
        "duration": 29,
        "start_time": "2023-01-14T07:06:16.427Z"
      },
      {
        "duration": 25,
        "start_time": "2023-01-14T07:06:16.458Z"
      },
      {
        "duration": 25,
        "start_time": "2023-01-14T07:06:16.485Z"
      },
      {
        "duration": 20,
        "start_time": "2023-01-14T07:06:16.513Z"
      },
      {
        "duration": 49,
        "start_time": "2023-01-14T07:06:16.534Z"
      },
      {
        "duration": 9,
        "start_time": "2023-01-14T07:06:16.586Z"
      },
      {
        "duration": 28,
        "start_time": "2023-01-14T07:06:16.597Z"
      },
      {
        "duration": 32,
        "start_time": "2023-01-14T07:06:16.627Z"
      },
      {
        "duration": 43,
        "start_time": "2023-01-14T07:06:16.661Z"
      },
      {
        "duration": 20,
        "start_time": "2023-01-14T07:06:16.706Z"
      },
      {
        "duration": 16,
        "start_time": "2023-01-14T07:06:16.728Z"
      },
      {
        "duration": 31,
        "start_time": "2023-01-14T07:06:16.746Z"
      },
      {
        "duration": 30,
        "start_time": "2023-01-14T07:06:16.778Z"
      },
      {
        "duration": 24,
        "start_time": "2023-01-14T07:06:16.810Z"
      },
      {
        "duration": 51,
        "start_time": "2023-01-14T07:06:16.836Z"
      },
      {
        "duration": 34,
        "start_time": "2023-01-14T07:06:16.889Z"
      },
      {
        "duration": 51,
        "start_time": "2023-01-14T07:06:16.925Z"
      },
      {
        "duration": 9,
        "start_time": "2023-01-14T07:06:16.978Z"
      },
      {
        "duration": 40,
        "start_time": "2023-01-14T07:06:16.989Z"
      },
      {
        "duration": 44,
        "start_time": "2023-01-14T07:06:17.031Z"
      },
      {
        "duration": 33,
        "start_time": "2023-01-14T07:06:17.077Z"
      },
      {
        "duration": 18,
        "start_time": "2023-01-14T07:06:17.114Z"
      },
      {
        "duration": 48,
        "start_time": "2023-01-14T07:06:17.133Z"
      },
      {
        "duration": 31,
        "start_time": "2023-01-14T07:06:17.183Z"
      },
      {
        "duration": 1437,
        "start_time": "2023-01-14T07:06:17.216Z"
      },
      {
        "duration": 0,
        "start_time": "2023-01-14T07:06:18.655Z"
      },
      {
        "duration": 0,
        "start_time": "2023-01-14T07:06:18.656Z"
      },
      {
        "duration": 14,
        "start_time": "2023-01-14T07:15:54.276Z"
      },
      {
        "duration": 139,
        "start_time": "2023-01-14T07:17:31.641Z"
      },
      {
        "duration": 18,
        "start_time": "2023-01-14T07:17:41.933Z"
      },
      {
        "duration": 15,
        "start_time": "2023-01-14T07:18:40.163Z"
      },
      {
        "duration": 18,
        "start_time": "2023-01-14T07:19:40.745Z"
      },
      {
        "duration": 18,
        "start_time": "2023-01-14T07:19:55.827Z"
      },
      {
        "duration": 16,
        "start_time": "2023-01-14T07:23:19.700Z"
      },
      {
        "duration": 14,
        "start_time": "2023-01-14T07:23:29.245Z"
      },
      {
        "duration": 19,
        "start_time": "2023-01-14T07:23:39.101Z"
      },
      {
        "duration": 11,
        "start_time": "2023-01-14T07:25:57.183Z"
      },
      {
        "duration": 12,
        "start_time": "2023-01-14T07:27:00.761Z"
      },
      {
        "duration": 137,
        "start_time": "2023-01-14T07:29:08.202Z"
      },
      {
        "duration": 19,
        "start_time": "2023-01-14T07:29:13.899Z"
      },
      {
        "duration": 29,
        "start_time": "2023-01-14T07:30:20.634Z"
      },
      {
        "duration": 27,
        "start_time": "2023-01-14T07:30:37.190Z"
      },
      {
        "duration": 19,
        "start_time": "2023-01-14T07:30:42.503Z"
      },
      {
        "duration": 18,
        "start_time": "2023-01-14T07:31:09.901Z"
      },
      {
        "duration": 27,
        "start_time": "2023-01-14T07:32:55.087Z"
      },
      {
        "duration": 17,
        "start_time": "2023-01-14T07:33:25.180Z"
      },
      {
        "duration": 15,
        "start_time": "2023-01-14T07:33:41.709Z"
      },
      {
        "duration": 14,
        "start_time": "2023-01-14T07:33:52.613Z"
      },
      {
        "duration": 17,
        "start_time": "2023-01-14T07:34:12.769Z"
      },
      {
        "duration": 15,
        "start_time": "2023-01-14T07:34:33.633Z"
      },
      {
        "duration": 15,
        "start_time": "2023-01-14T07:34:59.703Z"
      },
      {
        "duration": 20,
        "start_time": "2023-01-14T07:35:55.835Z"
      },
      {
        "duration": 14,
        "start_time": "2023-01-14T07:36:03.101Z"
      },
      {
        "duration": 19,
        "start_time": "2023-01-14T07:38:31.862Z"
      },
      {
        "duration": 25,
        "start_time": "2023-01-14T07:41:58.248Z"
      },
      {
        "duration": 14,
        "start_time": "2023-01-14T07:42:25.117Z"
      },
      {
        "duration": 22,
        "start_time": "2023-01-14T07:43:00.371Z"
      },
      {
        "duration": 19,
        "start_time": "2023-01-14T07:46:30.778Z"
      },
      {
        "duration": 15,
        "start_time": "2023-01-14T07:47:32.639Z"
      },
      {
        "duration": 23,
        "start_time": "2023-01-14T07:47:48.581Z"
      },
      {
        "duration": 16,
        "start_time": "2023-01-14T07:48:21.475Z"
      },
      {
        "duration": 53,
        "start_time": "2023-01-14T07:49:18.878Z"
      },
      {
        "duration": 14,
        "start_time": "2023-01-14T07:49:38.777Z"
      },
      {
        "duration": 14,
        "start_time": "2023-01-14T07:50:22.109Z"
      },
      {
        "duration": 21,
        "start_time": "2023-01-14T07:52:32.513Z"
      },
      {
        "duration": 29,
        "start_time": "2023-01-14T07:54:47.986Z"
      },
      {
        "duration": 17,
        "start_time": "2023-01-14T07:54:49.145Z"
      },
      {
        "duration": 16,
        "start_time": "2023-01-14T07:54:54.288Z"
      },
      {
        "duration": 22,
        "start_time": "2023-01-14T07:55:01.881Z"
      },
      {
        "duration": 20,
        "start_time": "2023-01-14T07:55:26.237Z"
      },
      {
        "duration": 149,
        "start_time": "2023-01-14T07:55:35.952Z"
      },
      {
        "duration": 19,
        "start_time": "2023-01-14T07:55:44.282Z"
      },
      {
        "duration": 32,
        "start_time": "2023-01-14T07:56:27.838Z"
      },
      {
        "duration": 21,
        "start_time": "2023-01-14T07:56:34.324Z"
      },
      {
        "duration": 30,
        "start_time": "2023-01-14T07:56:43.598Z"
      },
      {
        "duration": 21,
        "start_time": "2023-01-14T07:56:52.004Z"
      },
      {
        "duration": 569,
        "start_time": "2023-01-14T07:57:41.965Z"
      },
      {
        "duration": 18,
        "start_time": "2023-01-14T07:57:44.574Z"
      },
      {
        "duration": 543,
        "start_time": "2023-01-14T07:58:10.387Z"
      },
      {
        "duration": 22,
        "start_time": "2023-01-14T07:58:16.957Z"
      },
      {
        "duration": 14,
        "start_time": "2023-01-14T08:00:45.355Z"
      },
      {
        "duration": 16,
        "start_time": "2023-01-14T08:01:51.448Z"
      },
      {
        "duration": 16,
        "start_time": "2023-01-14T08:02:04.744Z"
      },
      {
        "duration": 16,
        "start_time": "2023-01-14T08:02:52.522Z"
      },
      {
        "duration": 17,
        "start_time": "2023-01-14T08:04:19.143Z"
      },
      {
        "duration": 14,
        "start_time": "2023-01-14T08:04:33.368Z"
      },
      {
        "duration": 18,
        "start_time": "2023-01-14T08:07:00.259Z"
      },
      {
        "duration": 135,
        "start_time": "2023-01-14T08:18:28.277Z"
      },
      {
        "duration": 31,
        "start_time": "2023-01-14T08:18:28.415Z"
      },
      {
        "duration": 35,
        "start_time": "2023-01-14T08:18:28.449Z"
      },
      {
        "duration": 53,
        "start_time": "2023-01-14T08:18:28.486Z"
      },
      {
        "duration": 66,
        "start_time": "2023-01-14T08:18:28.542Z"
      },
      {
        "duration": 5,
        "start_time": "2023-01-14T08:18:28.610Z"
      },
      {
        "duration": 14,
        "start_time": "2023-01-14T08:18:28.616Z"
      },
      {
        "duration": 13,
        "start_time": "2023-01-14T08:18:28.633Z"
      },
      {
        "duration": 8,
        "start_time": "2023-01-14T08:18:28.648Z"
      },
      {
        "duration": 9,
        "start_time": "2023-01-14T08:18:28.657Z"
      },
      {
        "duration": 57,
        "start_time": "2023-01-14T08:18:28.668Z"
      },
      {
        "duration": 14,
        "start_time": "2023-01-14T08:18:28.727Z"
      },
      {
        "duration": 3,
        "start_time": "2023-01-14T08:18:28.743Z"
      },
      {
        "duration": 30,
        "start_time": "2023-01-14T08:18:28.748Z"
      },
      {
        "duration": 22,
        "start_time": "2023-01-14T08:18:28.780Z"
      },
      {
        "duration": 19,
        "start_time": "2023-01-14T08:18:28.805Z"
      },
      {
        "duration": 205,
        "start_time": "2023-01-14T08:18:28.826Z"
      },
      {
        "duration": 22,
        "start_time": "2023-01-14T08:18:29.034Z"
      },
      {
        "duration": 8,
        "start_time": "2023-01-14T08:18:29.057Z"
      },
      {
        "duration": 4,
        "start_time": "2023-01-14T08:18:29.067Z"
      },
      {
        "duration": 11,
        "start_time": "2023-01-14T08:18:29.073Z"
      },
      {
        "duration": 16,
        "start_time": "2023-01-14T08:18:29.085Z"
      },
      {
        "duration": 10,
        "start_time": "2023-01-14T08:18:29.104Z"
      },
      {
        "duration": 26,
        "start_time": "2023-01-14T08:18:29.116Z"
      },
      {
        "duration": 41,
        "start_time": "2023-01-14T08:18:29.143Z"
      },
      {
        "duration": 15,
        "start_time": "2023-01-14T08:18:29.186Z"
      },
      {
        "duration": 13,
        "start_time": "2023-01-14T08:18:29.203Z"
      },
      {
        "duration": 14,
        "start_time": "2023-01-14T08:18:29.217Z"
      },
      {
        "duration": 739,
        "start_time": "2023-01-14T09:22:18.867Z"
      },
      {
        "duration": 31,
        "start_time": "2023-01-14T09:22:19.608Z"
      },
      {
        "duration": 20,
        "start_time": "2023-01-14T09:22:19.641Z"
      },
      {
        "duration": 13,
        "start_time": "2023-01-14T09:22:19.664Z"
      },
      {
        "duration": 59,
        "start_time": "2023-01-14T09:22:19.679Z"
      },
      {
        "duration": 3,
        "start_time": "2023-01-14T09:22:19.741Z"
      },
      {
        "duration": 16,
        "start_time": "2023-01-14T09:22:19.745Z"
      },
      {
        "duration": 6,
        "start_time": "2023-01-14T09:22:19.763Z"
      },
      {
        "duration": 8,
        "start_time": "2023-01-14T09:22:19.770Z"
      },
      {
        "duration": 4,
        "start_time": "2023-01-14T09:22:19.781Z"
      },
      {
        "duration": 52,
        "start_time": "2023-01-14T09:22:19.787Z"
      },
      {
        "duration": 24,
        "start_time": "2023-01-14T09:22:19.840Z"
      },
      {
        "duration": 11,
        "start_time": "2023-01-14T09:22:19.866Z"
      },
      {
        "duration": 18,
        "start_time": "2023-01-14T09:22:19.879Z"
      },
      {
        "duration": 27,
        "start_time": "2023-01-14T09:22:19.899Z"
      },
      {
        "duration": 26,
        "start_time": "2023-01-14T09:22:19.928Z"
      },
      {
        "duration": 18,
        "start_time": "2023-01-14T09:22:19.955Z"
      },
      {
        "duration": 15,
        "start_time": "2023-01-14T09:22:19.975Z"
      },
      {
        "duration": 19,
        "start_time": "2023-01-14T09:22:19.992Z"
      },
      {
        "duration": 23,
        "start_time": "2023-01-14T09:22:20.013Z"
      },
      {
        "duration": 14,
        "start_time": "2023-01-14T09:22:20.038Z"
      },
      {
        "duration": 23,
        "start_time": "2023-01-14T09:22:20.054Z"
      },
      {
        "duration": 15,
        "start_time": "2023-01-14T09:22:20.079Z"
      },
      {
        "duration": 28,
        "start_time": "2023-01-14T09:22:20.096Z"
      },
      {
        "duration": 22,
        "start_time": "2023-01-14T09:22:20.127Z"
      },
      {
        "duration": 13,
        "start_time": "2023-01-14T09:22:20.151Z"
      },
      {
        "duration": 12,
        "start_time": "2023-01-14T09:22:20.165Z"
      },
      {
        "duration": 13,
        "start_time": "2023-01-14T09:22:20.180Z"
      },
      {
        "duration": 45,
        "start_time": "2023-01-14T10:08:06.443Z"
      },
      {
        "duration": 787,
        "start_time": "2023-01-14T10:08:20.956Z"
      },
      {
        "duration": 23,
        "start_time": "2023-01-14T10:08:21.744Z"
      },
      {
        "duration": 17,
        "start_time": "2023-01-14T10:08:21.769Z"
      },
      {
        "duration": 9,
        "start_time": "2023-01-14T10:08:21.787Z"
      },
      {
        "duration": 63,
        "start_time": "2023-01-14T10:08:21.798Z"
      },
      {
        "duration": 3,
        "start_time": "2023-01-14T10:08:21.863Z"
      },
      {
        "duration": 12,
        "start_time": "2023-01-14T10:08:21.867Z"
      },
      {
        "duration": 4,
        "start_time": "2023-01-14T10:08:21.881Z"
      },
      {
        "duration": 10,
        "start_time": "2023-01-14T10:08:21.887Z"
      },
      {
        "duration": 25,
        "start_time": "2023-01-14T10:08:21.899Z"
      },
      {
        "duration": 38,
        "start_time": "2023-01-14T10:08:21.929Z"
      },
      {
        "duration": 9,
        "start_time": "2023-01-14T10:08:21.968Z"
      },
      {
        "duration": 8,
        "start_time": "2023-01-14T10:08:21.979Z"
      },
      {
        "duration": 36,
        "start_time": "2023-01-14T10:08:21.989Z"
      },
      {
        "duration": 23,
        "start_time": "2023-01-14T10:08:22.030Z"
      },
      {
        "duration": 16,
        "start_time": "2023-01-14T10:08:22.056Z"
      },
      {
        "duration": 4,
        "start_time": "2023-01-14T10:08:22.074Z"
      },
      {
        "duration": 15,
        "start_time": "2023-01-14T10:08:22.079Z"
      },
      {
        "duration": 11,
        "start_time": "2023-01-14T10:08:22.095Z"
      },
      {
        "duration": 28,
        "start_time": "2023-01-14T10:08:22.108Z"
      },
      {
        "duration": 13,
        "start_time": "2023-01-14T10:08:22.138Z"
      },
      {
        "duration": 17,
        "start_time": "2023-01-14T10:08:22.152Z"
      },
      {
        "duration": 14,
        "start_time": "2023-01-14T10:08:22.171Z"
      },
      {
        "duration": 36,
        "start_time": "2023-01-14T10:08:22.187Z"
      },
      {
        "duration": 22,
        "start_time": "2023-01-14T10:08:22.225Z"
      },
      {
        "duration": 6,
        "start_time": "2023-01-14T10:08:22.249Z"
      },
      {
        "duration": 27,
        "start_time": "2023-01-14T10:08:22.257Z"
      },
      {
        "duration": 14,
        "start_time": "2023-01-14T10:08:22.286Z"
      },
      {
        "duration": 44,
        "start_time": "2023-01-14T10:08:22.301Z"
      },
      {
        "duration": 827,
        "start_time": "2023-01-14T10:10:54.044Z"
      },
      {
        "duration": 9,
        "start_time": "2023-01-14T10:12:06.911Z"
      },
      {
        "duration": 61,
        "start_time": "2023-01-14T10:12:14.655Z"
      },
      {
        "duration": 7,
        "start_time": "2023-01-14T10:12:19.435Z"
      },
      {
        "duration": 71,
        "start_time": "2023-01-14T10:15:14.314Z"
      },
      {
        "duration": 11,
        "start_time": "2023-01-14T10:27:02.165Z"
      },
      {
        "duration": 569,
        "start_time": "2023-01-14T10:28:05.469Z"
      },
      {
        "duration": 39,
        "start_time": "2023-01-14T10:28:28.011Z"
      },
      {
        "duration": 553,
        "start_time": "2023-01-14T10:28:36.439Z"
      },
      {
        "duration": 11,
        "start_time": "2023-01-14T10:29:37.855Z"
      },
      {
        "duration": 22,
        "start_time": "2023-01-14T10:30:52.724Z"
      },
      {
        "duration": 27,
        "start_time": "2023-01-14T10:31:23.818Z"
      },
      {
        "duration": 13,
        "start_time": "2023-01-14T10:31:37.065Z"
      }
    ],
    "colab": {
      "provenance": [],
      "include_colab_link": true
    },
    "kernelspec": {
      "display_name": "Python 3 (ipykernel)",
      "language": "python",
      "name": "python3"
    },
    "language_info": {
      "codemirror_mode": {
        "name": "ipython",
        "version": 3
      },
      "file_extension": ".py",
      "mimetype": "text/x-python",
      "name": "python",
      "nbconvert_exporter": "python",
      "pygments_lexer": "ipython3",
      "version": "3.9.5"
    },
    "toc": {
      "base_numbering": 1,
      "nav_menu": {},
      "number_sections": true,
      "sideBar": true,
      "skip_h1_title": true,
      "title_cell": "Table of Contents",
      "title_sidebar": "Contents",
      "toc_cell": false,
      "toc_position": {},
      "toc_section_display": true,
      "toc_window_display": true
    }
  },
  "nbformat": 4,
  "nbformat_minor": 5
}
