{
  "cells": [
    {
      "cell_type": "markdown",
      "metadata": {
        "id": "view-in-github",
        "colab_type": "text"
      },
      "source": [
        "<a href=\"https://colab.research.google.com/github/svfrolov/YP-project/blob/main/%E2%84%9612_%D0%9F%D1%80%D0%BE%D0%B3%D0%BD%D0%BE%D0%B7%D0%B8%D1%80%D0%BE%D0%B2%D0%B0%D0%BD%D0%B8%D0%B5_%D0%B7%D0%B0%D0%BA%D0%B0%D0%B7%D0%BE%D0%B2_%D1%82%D0%B0%D0%BA%D1%81%D0%B8.ipynb\" target=\"_parent\"><img src=\"https://colab.research.google.com/assets/colab-badge.svg\" alt=\"Open In Colab\"/></a>"
      ]
    },
    {
      "cell_type": "markdown",
      "metadata": {
        "id": "3eLA40fo3gWb"
      },
      "source": [
        "<h1>Содержание<span class=\"tocSkip\"></span></h1>\n",
        "<div class=\"toc\"><ul class=\"toc-item\"><li><ul class=\"toc-item\"><li><ul class=\"toc-item\"><li><span><a href=\"#Подготовка\" data-toc-modified-id=\"Подготовка-1\"><span class=\"toc-item-num\">1&nbsp;&nbsp;</span>Подготовка</a></span></li><li><span><a href=\"#Анализ\" data-toc-modified-id=\"Анализ-2\"><span class=\"toc-item-num\">2&nbsp;&nbsp;</span>Анализ</a></span></li><li><span><a href=\"#Обучение\" data-toc-modified-id=\"Обучение-3\"><span class=\"toc-item-num\">3&nbsp;&nbsp;</span>Обучение</a></span></li><li><span><a href=\"#Тестирование\" data-toc-modified-id=\"Тестирование-4\"><span class=\"toc-item-num\">4&nbsp;&nbsp;</span>Тестирование</a></span></li><li><span><a href=\"#Вывод:\" data-toc-modified-id=\"Вывод:-5\"><span class=\"toc-item-num\">5&nbsp;&nbsp;</span>Вывод:</a></span></li><li><span><a href=\"#Чек-лист-проверки\" data-toc-modified-id=\"Чек-лист-проверки-6\"><span class=\"toc-item-num\">6&nbsp;&nbsp;</span>Чек-лист проверки</a></span></li></ul></div>"
      ]
    },
    {
      "cell_type": "markdown",
      "metadata": {
        "id": "_PZ1xvz93gWg"
      },
      "source": [
        "#  Прогнозирование заказов такси"
      ]
    },
    {
      "cell_type": "markdown",
      "metadata": {
        "id": "TvLKPWbx3gWh"
      },
      "source": [
        "Компания «Чётенькое такси» собрала исторические данные о заказах такси в аэропортах. Чтобы привлекать больше водителей в период пиковой нагрузки, нужно спрогнозировать количество заказов такси на следующий час. Постройте модель для такого предсказания.\n",
        "\n",
        "Значение метрики *RMSE* на тестовой выборке должно быть не больше 48.\n",
        "\n",
        "Вам нужно:\n",
        "\n",
        "1. Загрузить данные и выполнить их ресемплирование по одному часу.\n",
        "2. Проанализировать данные.\n",
        "3. Обучить разные модели с различными гиперпараметрами. Сделать тестовую выборку размером 10% от исходных данных.\n",
        "4. Проверить данные на тестовой выборке и сделать выводы.\n",
        "\n",
        "\n",
        "Данные лежат в файле `taxi.csv`. Количество заказов находится в столбце `num_orders` (от англ. *number of orders*, «число заказов»)."
      ]
    },
    {
      "cell_type": "markdown",
      "metadata": {
        "id": "AXBOZTZB3gWh"
      },
      "source": [
        "<h2>Описание проекта<span class=\"tocSkip\"></span></h2\n",
        "    >\n",
        "\n",
        "* Компания «Чётенькое такси» собрала исторические данные о заказах такси в аэропортах. Чтобы привлекать больше водителей в период пиковой нагрузки, нужно спрогнозировать количество заказов такси на следующий час. Постройте модель для такого предсказания.\n",
        "* Значение метрики RMSE на тестовой выборке должно быть не больше 48.\n",
        "\n",
        "<h2>Инструкция по выполнению проекта<span class=\"tocSkip\"></span></h2>\n",
        "\n",
        "* Загрузите данные и выполните их ресемплирование по одному часу.\n",
        "* Проанализируйте данные.\n",
        "* Обучите разные модели с различными гиперпараметрами. Сделайте тестовую выборку размером 10% от исходных данных.\n",
        "* Проверьте данные на тестовой выборке и сделайте выводы.\n",
        "\n",
        "<h2>Описание данных<span class=\"tocSkip\"></span></h2>\n",
        "\n",
        "* Данные лежат в файле /datasets/taxi.csv. Скачать датасет. \n",
        "* Количество заказов находится в столбце 'num_orders' (от англ. number of orders, «число заказов»)."
      ]
    },
    {
      "cell_type": "markdown",
      "metadata": {
        "id": "rSXJZo5E3gWi"
      },
      "source": [
        "## Подготовка"
      ]
    },
    {
      "cell_type": "code",
      "execution_count": null,
      "metadata": {
        "id": "YSwBuHiL3gWj"
      },
      "outputs": [],
      "source": [
        "import pandas as pd; pd.set_option('display.max_columns', None)\n",
        "import pandas as pd\n",
        "import numpy as np\n",
        "import matplotlib.pyplot as plt\n",
        "from statsmodels.tsa.seasonal import seasonal_decompose\n",
        "from sklearn.model_selection import train_test_split\n",
        "from sklearn.linear_model import LinearRegression\n",
        "from sklearn.tree import DecisionTreeRegressor\n",
        "from sklearn.ensemble import GradientBoostingRegressor\n",
        "from sklearn.metrics import mean_squared_error\n",
        "from sklearn.model_selection import TimeSeriesSplit, cross_val_score"
      ]
    },
    {
      "cell_type": "markdown",
      "metadata": {
        "id": "4WymaFlL3gWl"
      },
      "source": [
        "## Анализ"
      ]
    },
    {
      "cell_type": "code",
      "execution_count": null,
      "metadata": {
        "id": "iFwWr1vW3gWl"
      },
      "outputs": [],
      "source": [
        "data = pd.read_csv('/datasets/taxi.csv')\n",
        "data['datetime'] = pd.to_datetime(data['datetime'])\n",
        "data = data.set_index('datetime')\n",
        "data = data.resample('1H').sum()\n",
        "decomposed = seasonal_decompose(data)"
      ]
    },
    {
      "cell_type": "code",
      "execution_count": null,
      "metadata": {
        "id": "MhVpI3Jz3gWm"
      },
      "outputs": [],
      "source": [
        "def general_info(data):\n",
        "            \n",
        "    print(\"Количество дублирующихся строк в датафрейме: {}\".format(data.duplicated().sum()))\n",
        "    print()\n",
        "\n",
        "    print(\"Общее количество пропущенных значений:\")\n",
        "    display(data.isnull().sum())\n",
        "    print()\n",
        "   \n",
        "    print(\"Общая информация о датафрейме:\")\n",
        "    display(data.info())\n",
        "    print()    \n",
        "    \n",
        "    print(\"корреляционная матрица:\")\n",
        "    display(data.corr())\n",
        "    print()    \n",
        "    \n",
        "    print(\"Статистические характеристики датафрейма:\")\n",
        "    display(data.describe())\n",
        "    print()\n",
        "    \n",
        "    print(\"Первые 5 строк датафрейма:\")\n",
        "    display(data.head())"
      ]
    },
    {
      "cell_type": "code",
      "execution_count": null,
      "metadata": {
        "scrolled": false,
        "id": "ULxm1Y3W3gWm",
        "outputId": "40489969-3691-4124-aefc-12451ee45d95"
      },
      "outputs": [
        {
          "name": "stdout",
          "output_type": "stream",
          "text": [
            "Количество дублирующихся строк в датафрейме: 4165\n",
            "\n",
            "Общее количество пропущенных значений:\n"
          ]
        },
        {
          "data": {
            "text/plain": [
              "num_orders    0\n",
              "dtype: int64"
            ]
          },
          "metadata": {},
          "output_type": "display_data"
        },
        {
          "name": "stdout",
          "output_type": "stream",
          "text": [
            "\n",
            "Общая информация о датафрейме:\n",
            "<class 'pandas.core.frame.DataFrame'>\n",
            "DatetimeIndex: 4416 entries, 2018-03-01 00:00:00 to 2018-08-31 23:00:00\n",
            "Freq: H\n",
            "Data columns (total 1 columns):\n",
            " #   Column      Non-Null Count  Dtype\n",
            "---  ------      --------------  -----\n",
            " 0   num_orders  4416 non-null   int64\n",
            "dtypes: int64(1)\n",
            "memory usage: 69.0 KB\n"
          ]
        },
        {
          "data": {
            "text/plain": [
              "None"
            ]
          },
          "metadata": {},
          "output_type": "display_data"
        },
        {
          "name": "stdout",
          "output_type": "stream",
          "text": [
            "\n",
            "корреляционная матрица:\n"
          ]
        },
        {
          "data": {
            "text/html": [
              "<div>\n",
              "<style scoped>\n",
              "    .dataframe tbody tr th:only-of-type {\n",
              "        vertical-align: middle;\n",
              "    }\n",
              "\n",
              "    .dataframe tbody tr th {\n",
              "        vertical-align: top;\n",
              "    }\n",
              "\n",
              "    .dataframe thead th {\n",
              "        text-align: right;\n",
              "    }\n",
              "</style>\n",
              "<table border=\"1\" class=\"dataframe\">\n",
              "  <thead>\n",
              "    <tr style=\"text-align: right;\">\n",
              "      <th></th>\n",
              "      <th>num_orders</th>\n",
              "    </tr>\n",
              "  </thead>\n",
              "  <tbody>\n",
              "    <tr>\n",
              "      <th>num_orders</th>\n",
              "      <td>1.0</td>\n",
              "    </tr>\n",
              "  </tbody>\n",
              "</table>\n",
              "</div>"
            ],
            "text/plain": [
              "            num_orders\n",
              "num_orders         1.0"
            ]
          },
          "metadata": {},
          "output_type": "display_data"
        },
        {
          "name": "stdout",
          "output_type": "stream",
          "text": [
            "\n",
            "Статистические характеристики датафрейма:\n"
          ]
        },
        {
          "data": {
            "text/html": [
              "<div>\n",
              "<style scoped>\n",
              "    .dataframe tbody tr th:only-of-type {\n",
              "        vertical-align: middle;\n",
              "    }\n",
              "\n",
              "    .dataframe tbody tr th {\n",
              "        vertical-align: top;\n",
              "    }\n",
              "\n",
              "    .dataframe thead th {\n",
              "        text-align: right;\n",
              "    }\n",
              "</style>\n",
              "<table border=\"1\" class=\"dataframe\">\n",
              "  <thead>\n",
              "    <tr style=\"text-align: right;\">\n",
              "      <th></th>\n",
              "      <th>num_orders</th>\n",
              "    </tr>\n",
              "  </thead>\n",
              "  <tbody>\n",
              "    <tr>\n",
              "      <th>count</th>\n",
              "      <td>4416.000000</td>\n",
              "    </tr>\n",
              "    <tr>\n",
              "      <th>mean</th>\n",
              "      <td>84.422781</td>\n",
              "    </tr>\n",
              "    <tr>\n",
              "      <th>std</th>\n",
              "      <td>45.023853</td>\n",
              "    </tr>\n",
              "    <tr>\n",
              "      <th>min</th>\n",
              "      <td>0.000000</td>\n",
              "    </tr>\n",
              "    <tr>\n",
              "      <th>25%</th>\n",
              "      <td>54.000000</td>\n",
              "    </tr>\n",
              "    <tr>\n",
              "      <th>50%</th>\n",
              "      <td>78.000000</td>\n",
              "    </tr>\n",
              "    <tr>\n",
              "      <th>75%</th>\n",
              "      <td>107.000000</td>\n",
              "    </tr>\n",
              "    <tr>\n",
              "      <th>max</th>\n",
              "      <td>462.000000</td>\n",
              "    </tr>\n",
              "  </tbody>\n",
              "</table>\n",
              "</div>"
            ],
            "text/plain": [
              "        num_orders\n",
              "count  4416.000000\n",
              "mean     84.422781\n",
              "std      45.023853\n",
              "min       0.000000\n",
              "25%      54.000000\n",
              "50%      78.000000\n",
              "75%     107.000000\n",
              "max     462.000000"
            ]
          },
          "metadata": {},
          "output_type": "display_data"
        },
        {
          "name": "stdout",
          "output_type": "stream",
          "text": [
            "\n",
            "Первые 5 строк датафрейма:\n"
          ]
        },
        {
          "data": {
            "text/html": [
              "<div>\n",
              "<style scoped>\n",
              "    .dataframe tbody tr th:only-of-type {\n",
              "        vertical-align: middle;\n",
              "    }\n",
              "\n",
              "    .dataframe tbody tr th {\n",
              "        vertical-align: top;\n",
              "    }\n",
              "\n",
              "    .dataframe thead th {\n",
              "        text-align: right;\n",
              "    }\n",
              "</style>\n",
              "<table border=\"1\" class=\"dataframe\">\n",
              "  <thead>\n",
              "    <tr style=\"text-align: right;\">\n",
              "      <th></th>\n",
              "      <th>num_orders</th>\n",
              "    </tr>\n",
              "    <tr>\n",
              "      <th>datetime</th>\n",
              "      <th></th>\n",
              "    </tr>\n",
              "  </thead>\n",
              "  <tbody>\n",
              "    <tr>\n",
              "      <th>2018-03-01 00:00:00</th>\n",
              "      <td>124</td>\n",
              "    </tr>\n",
              "    <tr>\n",
              "      <th>2018-03-01 01:00:00</th>\n",
              "      <td>85</td>\n",
              "    </tr>\n",
              "    <tr>\n",
              "      <th>2018-03-01 02:00:00</th>\n",
              "      <td>71</td>\n",
              "    </tr>\n",
              "    <tr>\n",
              "      <th>2018-03-01 03:00:00</th>\n",
              "      <td>66</td>\n",
              "    </tr>\n",
              "    <tr>\n",
              "      <th>2018-03-01 04:00:00</th>\n",
              "      <td>43</td>\n",
              "    </tr>\n",
              "  </tbody>\n",
              "</table>\n",
              "</div>"
            ],
            "text/plain": [
              "                     num_orders\n",
              "datetime                       \n",
              "2018-03-01 00:00:00         124\n",
              "2018-03-01 01:00:00          85\n",
              "2018-03-01 02:00:00          71\n",
              "2018-03-01 03:00:00          66\n",
              "2018-03-01 04:00:00          43"
            ]
          },
          "metadata": {},
          "output_type": "display_data"
        },
        {
          "name": "stdout",
          "output_type": "stream",
          "text": [
            "\n"
          ]
        }
      ],
      "source": [
        "general_info(data)"
      ]
    },
    {
      "cell_type": "code",
      "execution_count": null,
      "metadata": {
        "id": "du-ccfnk3gWo",
        "outputId": "4474f708-483b-43ee-8a77-c20ed98ae0b5"
      },
      "outputs": [
        {
          "data": {
            "image/png": "[encoded data removed]",
            "text/plain": [
              "<Figure size 864x1008 with 3 Axes>"
            ]
          },
          "metadata": {
            "needs_background": "light"
          },
          "output_type": "display_data"
        }
      ],
      "source": [
        "plt.figure(figsize=(12, 14))\n",
        "plt.subplot(311)\n",
        "decomposed.trend.plot(ax=plt.gca())\n",
        "plt.title('График тренда', fontsize=22)\n",
        "plt.subplot(312)\n",
        "decomposed.seasonal['2018-08-01':'2018-08-02'].plot(ax=plt.gca())\n",
        "plt.title('График сезонности за сутки', fontsize=22)\n",
        "plt.subplot(313)\n",
        "decomposed.seasonal['2018-08-01':'2018-08-07'].plot(ax=plt.gca())\n",
        "plt.title('График сезонности за неделю', fontsize=22); \n",
        "plt.tight_layout()"
      ]
    },
    {
      "cell_type": "markdown",
      "metadata": {
        "id": "bDIx343M3gWp"
      },
      "source": [
        "1. На первом графике \"График тренда\" мы видим общий рост количества заказов в течение всего периода времени, указанного на графике. Это может указывать на то, что бизнес развивается и растет.\n",
        "\n",
        "2. На втором и третьем графике \"График сезонности\" мы видим повторяющийся цикл увеличения и уменьшения заказов с постоянным интервалом времени. Это может указывать на то, что у бизнеса есть сезонность, возможно, что спрос на его товары или услуги повышается в определенные периоды времени, например, перед праздниками или в выходные дни.\n",
        "  * По графику \"Сезонность за сутки\" мы можем отметить пиковые активности. Минимальное число заказов приходится на 6 утра, максимальное на 12 ночи. Также высокое число заказов в вечернее время (4-5 часов вечера).\n",
        "  * По графику \"Сезонность за неделю\" мы видим, что картина числа заказов не изменяется в зависимости от того будни это или выходные."
      ]
    },
    {
      "cell_type": "markdown",
      "metadata": {
        "id": "vkNZT_yd3gWp"
      },
      "source": [
        "## Обучение"
      ]
    },
    {
      "cell_type": "code",
      "execution_count": null,
      "metadata": {
        "id": "ksB8JKT13gWq"
      },
      "outputs": [],
      "source": [
        "def make_features(data, max_lag, rolling_mean_size):\n",
        "    data['hour'] = data.index.hour\n",
        "    data['dayofweek'] = data.index.dayofweek\n",
        "    data['rolling_mean'] = data['num_orders'].shift().rolling(rolling_mean_size).mean()\n",
        "    for lag in range(1, max_lag + 1):\n",
        "        data['lag_{}'.format(lag)] = data['num_orders'].shift(lag)"
      ]
    },
    {
      "cell_type": "code",
      "execution_count": null,
      "metadata": {
        "id": "Ul-Q2An63gWq"
      },
      "outputs": [],
      "source": [
        "make_features(data, 24, 24)\n",
        "train_size = int(0.9 * len(data))\n",
        "train_data, test_data = data.iloc[:train_size], data.iloc[train_size:]"
      ]
    },
    {
      "cell_type": "code",
      "execution_count": null,
      "metadata": {
        "id": "IvbqglQF3gWq"
      },
      "outputs": [],
      "source": [
        "make_features(data, 24, 24)\n",
        "train_size = int(0.9 * len(data))\n",
        "train_data, test_data = data.iloc[:train_size], data.iloc[train_size:]\n",
        "X_train, y_train = train_data.drop('num_orders', axis=1), train_data['num_orders']\n",
        "X_test, y_test = test_data.drop('num_orders', axis=1), test_data['num_orders']"
      ]
    },
    {
      "cell_type": "code",
      "execution_count": null,
      "metadata": {
        "id": "wg2i8bsK3gWr",
        "outputId": "4f6e133d-7c43-4326-9ade-15b6d787ea09"
      },
      "outputs": [
        {
          "name": "stdout",
          "output_type": "stream",
          "text": [
            "hour             0\n",
            "dayofweek        0\n",
            "rolling_mean    24\n",
            "lag_1            1\n",
            "lag_2            2\n",
            "lag_3            3\n",
            "lag_4            4\n",
            "lag_5            5\n",
            "lag_6            6\n",
            "lag_7            7\n",
            "lag_8            8\n",
            "lag_9            9\n",
            "lag_10          10\n",
            "lag_11          11\n",
            "lag_12          12\n",
            "lag_13          13\n",
            "lag_14          14\n",
            "lag_15          15\n",
            "lag_16          16\n",
            "lag_17          17\n",
            "lag_18          18\n",
            "lag_19          19\n",
            "lag_20          20\n",
            "lag_21          21\n",
            "lag_22          22\n",
            "lag_23          23\n",
            "lag_24          24\n",
            "dtype: int64\n"
          ]
        }
      ],
      "source": [
        "print(X_train.isnull().sum())"
      ]
    },
    {
      "cell_type": "code",
      "execution_count": null,
      "metadata": {
        "id": "i2HcELSh3gWr"
      },
      "outputs": [],
      "source": [
        "X_train = X_train.fillna(X_train.mean())"
      ]
    },
    {
      "cell_type": "code",
      "execution_count": null,
      "metadata": {
        "id": "cyD2PKNo3gWs",
        "outputId": "aaafc172-c04b-4fc9-abca-54d131596b9a"
      },
      "outputs": [
        {
          "data": {
            "text/plain": [
              "LinearRegression()"
            ]
          },
          "execution_count": 11,
          "metadata": {},
          "output_type": "execute_result"
        }
      ],
      "source": [
        "# Обучаем линейную регрессию\n",
        "model_lr = LinearRegression()\n",
        "model_lr.fit(X_train, y_train)"
      ]
    },
    {
      "cell_type": "code",
      "execution_count": null,
      "metadata": {
        "id": "cfvpbpQq3gWs"
      },
      "outputs": [],
      "source": [
        "# Обучаем решающее дерево с подбором гиперпараметра\n",
        "best_rmse_dt = float('inf')\n",
        "for max_depth in range(1, 10):\n",
        "    tscv = TimeSeriesSplit(n_splits=5)\n",
        "    model_dt = DecisionTreeRegressor(random_state=12345, max_depth=max_depth)\n",
        "    scores = cross_val_score(model_dt, X_train, y_train, cv=tscv, scoring='neg_mean_squared_error')\n",
        "    mean_rmse = (-scores.mean())**0.5\n",
        "    model_dt.fit(X_train, y_train)\n",
        "    if mean_rmse < best_rmse_dt:\n",
        "        best_rmse_dt = mean_rmse\n",
        "        best_model_dt = model_dt"
      ]
    },
    {
      "cell_type": "code",
      "execution_count": null,
      "metadata": {
        "id": "00NJMwLk3gWt"
      },
      "outputs": [],
      "source": [
        "# Обучаем градиентный бустинг с подбором гиперпараметров\n",
        "best_rmse_gb = float('inf')\n",
        "for n_estimators in range(10, 80, 10):\n",
        "    for learning_rate in [0.01, 0.1, 1]:\n",
        "        tscv = TimeSeriesSplit(n_splits=5)\n",
        "        model_gb = GradientBoostingRegressor(random_state=12345, n_estimators=n_estimators, learning_rate=learning_rate)    \n",
        "        scores = cross_val_score(model_gb, X_train, y_train, cv=tscv, scoring='neg_mean_squared_error')\n",
        "        mean_rmse_gb = (-scores.mean())**0.5\n",
        "        model_gb.fit(X_train, y_train)\n",
        "        if mean_rmse_gb < best_rmse_gb:\n",
        "            best_rmse_gb = mean_rmse_gb\n",
        "            best_model_gb = model_gb"
      ]
    },
    {
      "cell_type": "code",
      "execution_count": null,
      "metadata": {
        "id": "6ImyRUD33gWt",
        "outputId": "639ee08a-50be-476d-9a0b-84bc23995458"
      },
      "outputs": [
        {
          "name": "stdout",
          "output_type": "stream",
          "text": [
            "RMSE линейной регрессии: 25.84754358096562\n",
            "RMSE решающего дерева: 30.263439001321856\n",
            "RMSE градиентного бустинга: 25.626111235911544\n"
          ]
        }
      ],
      "source": [
        "print('RMSE линейной регрессии:', mean_squared_error(y_train, model_lr.predict(X_train))**0.5)\n",
        "print('RMSE решающего дерева:', best_rmse_dt)\n",
        "print('RMSE градиентного бустинга:', best_rmse_gb)"
      ]
    },
    {
      "cell_type": "markdown",
      "metadata": {
        "id": "abg1kF7v3gWu"
      },
      "source": [
        "**Судя по значению RMSE, лучше всего проявила модель градиентного бустинга: RMSE=25.62**"
      ]
    },
    {
      "cell_type": "markdown",
      "metadata": {
        "id": "w_C6A6mh3gWu"
      },
      "source": [
        "## Тестирование"
      ]
    },
    {
      "cell_type": "code",
      "execution_count": null,
      "metadata": {
        "id": "CYux7NTZ3gWu",
        "outputId": "9c925be5-21e5-4875-ee44-76166ec76775"
      },
      "outputs": [
        {
          "name": "stdout",
          "output_type": "stream",
          "text": [
            "hour            0\n",
            "dayofweek       0\n",
            "rolling_mean    0\n",
            "lag_1           0\n",
            "lag_2           0\n",
            "lag_3           0\n",
            "lag_4           0\n",
            "lag_5           0\n",
            "lag_6           0\n",
            "lag_7           0\n",
            "lag_8           0\n",
            "lag_9           0\n",
            "lag_10          0\n",
            "lag_11          0\n",
            "lag_12          0\n",
            "lag_13          0\n",
            "lag_14          0\n",
            "lag_15          0\n",
            "lag_16          0\n",
            "lag_17          0\n",
            "lag_18          0\n",
            "lag_19          0\n",
            "lag_20          0\n",
            "lag_21          0\n",
            "lag_22          0\n",
            "lag_23          0\n",
            "lag_24          0\n",
            "dtype: int64\n"
          ]
        }
      ],
      "source": [
        "print(X_test.isnull().sum())\n",
        "X_test = X_test.fillna(X_test.mean())"
      ]
    },
    {
      "cell_type": "code",
      "execution_count": null,
      "metadata": {
        "id": "LcY-IZNe3gWv",
        "outputId": "8d02b48f-7ff5-424a-a222-25b412f95139"
      },
      "outputs": [
        {
          "name": "stdout",
          "output_type": "stream",
          "text": [
            "RMSE градиентного бустинга на тестовой выборке: 44.326131286285275\n"
          ]
        }
      ],
      "source": [
        "print('RMSE градиентного бустинга на тестовой выборке:', mean_squared_error(y_test, best_model_gb.predict(X_test))**0.5)"
      ]
    },
    {
      "cell_type": "code",
      "execution_count": null,
      "metadata": {
        "id": "0y6ac41k3gWv",
        "outputId": "70f0c649-ddb3-4710-fe67-aff6c5a109dc"
      },
      "outputs": [
        {
          "data": {
            "image/png": "[encoded data removed]",
            "text/plain": [
              "<Figure size 1440x864 with 1 Axes>"
            ]
          },
          "metadata": {
            "needs_background": "light"
          },
          "output_type": "display_data"
        },
        {
          "data": {
            "image/png": "[encoded data removed]",
            "text/plain": [
              "<Figure size 1440x864 with 1 Axes>"
            ]
          },
          "metadata": {
            "needs_background": "light"
          },
          "output_type": "display_data"
        }
      ],
      "source": [
        "# Графики для обучающих данных\n",
        "plt.figure(figsize=(20,12))\n",
        "plt.plot(train_data.index, train_data['num_orders'], label='Actual')\n",
        "plt.plot(train_data.index, best_model_dt.predict(X_train), label='DecisionTree')\n",
        "plt.plot(train_data.index, best_model_gb.predict(X_train), label='GradientBoost')\n",
        "plt.title('Обучающие данные', fontsize=22)\n",
        "plt.xlabel('Дата и время', fontsize=22)\n",
        "plt.ylabel('Количество заказов', fontsize=22)\n",
        "plt.legend(loc=2, prop={'size': 22})\n",
        "plt.show()\n",
        "\n",
        "# Графики для тестовых данных\n",
        "plt.figure(figsize=(20,12))\n",
        "plt.plot(test_data.index, test_data['num_orders'], label='Actual')\n",
        "plt.plot(test_data.index, best_model_dt.predict(X_test), label='DecisionTree')\n",
        "plt.plot(test_data.index, best_model_gb.predict(X_test), label='GradientBoost')\n",
        "plt.title('Тестовые данные', fontsize=22)\n",
        "plt.xlabel('Дата и время', fontsize=22)\n",
        "plt.ylabel('Количество заказов', fontsize=22)\n",
        "plt.legend(loc=2, prop={'size': 22})\n",
        "plt.show()"
      ]
    },
    {
      "cell_type": "markdown",
      "metadata": {
        "id": "0qYN3G2h3gWw"
      },
      "source": [
        "## Вывод:\n",
        "\n",
        "1. Загрузите данные и выполните их ресемплирование по одному часу.\n",
        "2. Проанализируйте данные. \n",
        "* На первом графике \"График тренда\" мы видим общий рост количества заказов в течение всего периода времени, указанного на графике. Это может указывать на то, что бизнес развивается и растет.\n",
        "* На втором графике \"График сезонности\" мы видим повторяющийся цикл увеличения и уменьшения заказов с постоянным интервалом времени. Это может указывать на то, что у бизнеса есть сезонность, возможно, что спрос на его товары или услуги повышается в определенные периоды времени, например, перед праздниками или в выходные дни.\n",
        "  * По графику \"Сезонность за сутки\" мы можем отметить пиковые активности. Минимальное число заказов приходится на 6 утра, максимальное на 12 ночи. Также высокое число заказов в вечернее время (4-5 часов вечера).\n",
        "  * По графику \"Сезонность за неделю\" мы видим, что картина числа заказов не изменяется в зависимости от того будни это или выходные.\n",
        "\n",
        "3. Обучите разные модели с различными гиперпараметрами. Сделайте тестовую выборку размером 10% от исходных данных.\n",
        "4. Проверьте данные на тестовой выборке и сделайте выводы."
      ]
    }
  ],
  "metadata": {
    "ExecuteTimeLog": [
      {
        "duration": 1967,
        "start_time": "2023-05-09T12:37:00.483Z"
      },
      {
        "duration": 184,
        "start_time": "2023-05-09T12:37:02.452Z"
      },
      {
        "duration": 5,
        "start_time": "2023-05-09T12:37:25.257Z"
      },
      {
        "duration": 74,
        "start_time": "2023-05-09T12:37:47.808Z"
      },
      {
        "duration": 393,
        "start_time": "2023-05-09T12:38:24.842Z"
      },
      {
        "duration": 5,
        "start_time": "2023-05-09T12:39:16.858Z"
      },
      {
        "duration": 24,
        "start_time": "2023-05-09T12:39:16.864Z"
      },
      {
        "duration": 4,
        "start_time": "2023-05-09T12:39:16.889Z"
      },
      {
        "duration": 77,
        "start_time": "2023-05-09T12:39:16.895Z"
      },
      {
        "duration": 5,
        "start_time": "2023-05-09T12:46:18.964Z"
      },
      {
        "duration": 9,
        "start_time": "2023-05-09T12:46:26.082Z"
      },
      {
        "duration": 47,
        "start_time": "2023-05-09T12:46:26.338Z"
      },
      {
        "duration": 5,
        "start_time": "2023-05-09T12:46:27.048Z"
      },
      {
        "duration": 202,
        "start_time": "2023-05-09T12:46:27.702Z"
      },
      {
        "duration": 7,
        "start_time": "2023-05-09T12:46:55.372Z"
      },
      {
        "duration": 69,
        "start_time": "2023-05-09T12:46:57.600Z"
      },
      {
        "duration": 46,
        "start_time": "2023-05-09T12:48:36.590Z"
      },
      {
        "duration": 6,
        "start_time": "2023-05-09T12:48:37.056Z"
      },
      {
        "duration": 5,
        "start_time": "2023-05-09T12:49:03.966Z"
      },
      {
        "duration": 365,
        "start_time": "2023-05-09T12:49:04.034Z"
      },
      {
        "duration": 49,
        "start_time": "2023-05-09T12:49:31.844Z"
      },
      {
        "duration": 5,
        "start_time": "2023-05-09T12:49:32.101Z"
      },
      {
        "duration": 336,
        "start_time": "2023-05-09T12:49:32.532Z"
      },
      {
        "duration": 328,
        "start_time": "2023-05-09T12:50:21.436Z"
      },
      {
        "duration": 10,
        "start_time": "2023-05-09T12:51:27.033Z"
      },
      {
        "duration": 414,
        "start_time": "2023-05-09T12:51:27.269Z"
      },
      {
        "duration": 8,
        "start_time": "2023-05-09T12:52:04.545Z"
      },
      {
        "duration": 354,
        "start_time": "2023-05-09T12:52:05.334Z"
      },
      {
        "duration": 8,
        "start_time": "2023-05-09T12:52:21.836Z"
      },
      {
        "duration": 390,
        "start_time": "2023-05-09T12:52:29.183Z"
      },
      {
        "duration": 9,
        "start_time": "2023-05-09T12:52:44.108Z"
      },
      {
        "duration": 304,
        "start_time": "2023-05-09T12:52:44.330Z"
      },
      {
        "duration": 41,
        "start_time": "2023-05-09T12:55:15.555Z"
      },
      {
        "duration": 8,
        "start_time": "2023-05-09T12:55:15.629Z"
      },
      {
        "duration": 371,
        "start_time": "2023-05-09T12:55:16.172Z"
      },
      {
        "duration": 6,
        "start_time": "2023-05-09T12:56:38.630Z"
      },
      {
        "duration": 360,
        "start_time": "2023-05-09T12:56:38.675Z"
      },
      {
        "duration": 1792,
        "start_time": "2023-05-09T12:58:24.249Z"
      },
      {
        "duration": 42,
        "start_time": "2023-05-09T12:58:26.045Z"
      },
      {
        "duration": 8,
        "start_time": "2023-05-09T12:58:26.088Z"
      },
      {
        "duration": 356,
        "start_time": "2023-05-09T12:58:26.098Z"
      },
      {
        "duration": 7,
        "start_time": "2023-05-09T12:58:51.171Z"
      },
      {
        "duration": 5,
        "start_time": "2023-05-09T12:59:01.892Z"
      },
      {
        "duration": 5,
        "start_time": "2023-05-09T12:59:05.974Z"
      },
      {
        "duration": 312,
        "start_time": "2023-05-09T12:59:06.207Z"
      },
      {
        "duration": 6,
        "start_time": "2023-05-09T12:59:15.106Z"
      },
      {
        "duration": 7,
        "start_time": "2023-05-09T12:59:18.945Z"
      },
      {
        "duration": 368,
        "start_time": "2023-05-09T12:59:19.272Z"
      },
      {
        "duration": 2116,
        "start_time": "2023-05-09T13:02:00.052Z"
      },
      {
        "duration": 60,
        "start_time": "2023-05-09T13:02:02.171Z"
      },
      {
        "duration": 17,
        "start_time": "2023-05-09T13:02:02.239Z"
      },
      {
        "duration": 411,
        "start_time": "2023-05-09T13:02:02.259Z"
      },
      {
        "duration": 315,
        "start_time": "2023-05-09T13:02:26.958Z"
      },
      {
        "duration": 17,
        "start_time": "2023-05-09T13:11:14.434Z"
      },
      {
        "duration": 1787,
        "start_time": "2023-05-09T13:11:44.006Z"
      },
      {
        "duration": 47,
        "start_time": "2023-05-09T13:11:45.795Z"
      },
      {
        "duration": 5,
        "start_time": "2023-05-09T13:11:45.844Z"
      },
      {
        "duration": 357,
        "start_time": "2023-05-09T13:11:45.852Z"
      },
      {
        "duration": 328,
        "start_time": "2023-05-09T13:11:46.220Z"
      },
      {
        "duration": 163,
        "start_time": "2023-05-09T13:13:08.566Z"
      },
      {
        "duration": 5,
        "start_time": "2023-05-09T13:13:54.839Z"
      },
      {
        "duration": 6,
        "start_time": "2023-05-09T13:16:08.936Z"
      },
      {
        "duration": 24,
        "start_time": "2023-05-09T13:16:09.801Z"
      },
      {
        "duration": 1673,
        "start_time": "2023-05-09T13:16:17.498Z"
      },
      {
        "duration": 46,
        "start_time": "2023-05-09T13:16:19.173Z"
      },
      {
        "duration": 6,
        "start_time": "2023-05-09T13:16:19.221Z"
      },
      {
        "duration": 375,
        "start_time": "2023-05-09T13:16:19.229Z"
      },
      {
        "duration": 259,
        "start_time": "2023-05-09T13:16:19.611Z"
      },
      {
        "duration": 4,
        "start_time": "2023-05-09T13:16:19.872Z"
      },
      {
        "duration": 200,
        "start_time": "2023-05-09T13:16:19.878Z"
      },
      {
        "duration": 0,
        "start_time": "2023-05-09T13:16:20.079Z"
      },
      {
        "duration": 1,
        "start_time": "2023-05-09T13:16:20.082Z"
      },
      {
        "duration": 0,
        "start_time": "2023-05-09T13:16:20.084Z"
      },
      {
        "duration": 0,
        "start_time": "2023-05-09T13:16:20.085Z"
      },
      {
        "duration": 0,
        "start_time": "2023-05-09T13:16:20.086Z"
      },
      {
        "duration": 0,
        "start_time": "2023-05-09T13:16:20.088Z"
      },
      {
        "duration": 15,
        "start_time": "2023-05-09T13:17:57.780Z"
      },
      {
        "duration": 1807,
        "start_time": "2023-05-09T13:22:00.428Z"
      },
      {
        "duration": 44,
        "start_time": "2023-05-09T13:22:02.238Z"
      },
      {
        "duration": 6,
        "start_time": "2023-05-09T13:22:02.284Z"
      },
      {
        "duration": 695,
        "start_time": "2023-05-09T13:22:02.292Z"
      },
      {
        "duration": 255,
        "start_time": "2023-05-09T13:22:02.991Z"
      },
      {
        "duration": 5,
        "start_time": "2023-05-09T13:22:03.249Z"
      },
      {
        "duration": 194,
        "start_time": "2023-05-09T13:22:03.256Z"
      },
      {
        "duration": 0,
        "start_time": "2023-05-09T13:22:03.452Z"
      },
      {
        "duration": 0,
        "start_time": "2023-05-09T13:22:03.454Z"
      },
      {
        "duration": 0,
        "start_time": "2023-05-09T13:22:03.455Z"
      },
      {
        "duration": 0,
        "start_time": "2023-05-09T13:22:03.456Z"
      },
      {
        "duration": 0,
        "start_time": "2023-05-09T13:22:03.457Z"
      },
      {
        "duration": 0,
        "start_time": "2023-05-09T13:22:03.458Z"
      },
      {
        "duration": 60,
        "start_time": "2023-05-09T13:25:59.176Z"
      },
      {
        "duration": 6,
        "start_time": "2023-05-09T13:25:59.897Z"
      },
      {
        "duration": 851,
        "start_time": "2023-05-09T13:26:01.076Z"
      },
      {
        "duration": 283,
        "start_time": "2023-05-09T13:26:03.463Z"
      },
      {
        "duration": 167,
        "start_time": "2023-05-09T13:26:14.393Z"
      },
      {
        "duration": 5,
        "start_time": "2023-05-09T13:26:19.487Z"
      },
      {
        "duration": 53,
        "start_time": "2023-05-09T13:26:20.310Z"
      },
      {
        "duration": 8,
        "start_time": "2023-05-09T13:26:21.408Z"
      },
      {
        "duration": 22,
        "start_time": "2023-05-09T13:26:22.349Z"
      },
      {
        "duration": 24,
        "start_time": "2023-05-09T13:26:23.557Z"
      },
      {
        "duration": 5,
        "start_time": "2023-05-09T13:26:58.428Z"
      },
      {
        "duration": 26,
        "start_time": "2023-05-09T13:26:59.065Z"
      },
      {
        "duration": 19,
        "start_time": "2023-05-09T13:27:18.630Z"
      },
      {
        "duration": 5,
        "start_time": "2023-05-09T13:27:18.700Z"
      },
      {
        "duration": 21,
        "start_time": "2023-05-09T13:27:39.825Z"
      },
      {
        "duration": 23,
        "start_time": "2023-05-09T13:27:39.886Z"
      },
      {
        "duration": 25,
        "start_time": "2023-05-09T13:28:12.136Z"
      },
      {
        "duration": 12,
        "start_time": "2023-05-09T13:29:00.344Z"
      },
      {
        "duration": 33,
        "start_time": "2023-05-09T13:29:00.416Z"
      },
      {
        "duration": 19,
        "start_time": "2023-05-09T13:29:04.184Z"
      },
      {
        "duration": 12,
        "start_time": "2023-05-09T13:29:04.990Z"
      },
      {
        "duration": 26,
        "start_time": "2023-05-09T13:29:05.963Z"
      },
      {
        "duration": 28,
        "start_time": "2023-05-09T13:29:37.436Z"
      },
      {
        "duration": 22,
        "start_time": "2023-05-09T13:29:38.658Z"
      },
      {
        "duration": 23,
        "start_time": "2023-05-09T13:29:38.740Z"
      },
      {
        "duration": 20,
        "start_time": "2023-05-09T13:29:50.647Z"
      },
      {
        "duration": 1308,
        "start_time": "2023-05-09T13:30:06.393Z"
      },
      {
        "duration": 59,
        "start_time": "2023-05-09T13:30:07.702Z"
      },
      {
        "duration": 5,
        "start_time": "2023-05-09T13:30:07.763Z"
      },
      {
        "duration": 1134,
        "start_time": "2023-05-09T13:30:07.770Z"
      },
      {
        "duration": 317,
        "start_time": "2023-05-09T13:30:08.906Z"
      },
      {
        "duration": 4,
        "start_time": "2023-05-09T13:30:09.229Z"
      },
      {
        "duration": 49,
        "start_time": "2023-05-09T13:30:09.236Z"
      },
      {
        "duration": 63,
        "start_time": "2023-05-09T13:30:09.288Z"
      },
      {
        "duration": 161,
        "start_time": "2023-05-09T13:30:09.353Z"
      },
      {
        "duration": 0,
        "start_time": "2023-05-09T13:30:09.517Z"
      },
      {
        "duration": 0,
        "start_time": "2023-05-09T13:30:09.519Z"
      },
      {
        "duration": 0,
        "start_time": "2023-05-09T13:30:09.520Z"
      },
      {
        "duration": 3143,
        "start_time": "2023-05-09T13:30:36.946Z"
      },
      {
        "duration": 2497,
        "start_time": "2023-05-09T13:30:48.696Z"
      },
      {
        "duration": 1524,
        "start_time": "2023-05-09T13:30:58.711Z"
      },
      {
        "duration": 65,
        "start_time": "2023-05-09T13:31:00.237Z"
      },
      {
        "duration": 18,
        "start_time": "2023-05-09T13:31:00.305Z"
      },
      {
        "duration": 1301,
        "start_time": "2023-05-09T13:31:00.325Z"
      },
      {
        "duration": 258,
        "start_time": "2023-05-09T13:31:01.629Z"
      },
      {
        "duration": 4,
        "start_time": "2023-05-09T13:31:01.889Z"
      },
      {
        "duration": 76,
        "start_time": "2023-05-09T13:31:01.912Z"
      },
      {
        "duration": 59,
        "start_time": "2023-05-09T13:31:01.990Z"
      },
      {
        "duration": 188,
        "start_time": "2023-05-09T13:31:02.051Z"
      },
      {
        "duration": 0,
        "start_time": "2023-05-09T13:31:02.242Z"
      },
      {
        "duration": 0,
        "start_time": "2023-05-09T13:31:02.244Z"
      },
      {
        "duration": 0,
        "start_time": "2023-05-09T13:31:02.246Z"
      },
      {
        "duration": 3077,
        "start_time": "2023-05-09T13:31:11.708Z"
      },
      {
        "duration": 3257,
        "start_time": "2023-05-09T13:31:27.046Z"
      },
      {
        "duration": 1370,
        "start_time": "2023-05-09T13:31:37.904Z"
      },
      {
        "duration": 67,
        "start_time": "2023-05-09T13:31:39.277Z"
      },
      {
        "duration": 8,
        "start_time": "2023-05-09T13:31:39.346Z"
      },
      {
        "duration": 1360,
        "start_time": "2023-05-09T13:31:39.357Z"
      },
      {
        "duration": 329,
        "start_time": "2023-05-09T13:31:40.723Z"
      },
      {
        "duration": 4,
        "start_time": "2023-05-09T13:31:41.053Z"
      },
      {
        "duration": 35,
        "start_time": "2023-05-09T13:31:41.059Z"
      },
      {
        "duration": 61,
        "start_time": "2023-05-09T13:31:41.096Z"
      },
      {
        "duration": 170,
        "start_time": "2023-05-09T13:31:41.159Z"
      },
      {
        "duration": 0,
        "start_time": "2023-05-09T13:31:41.332Z"
      },
      {
        "duration": 0,
        "start_time": "2023-05-09T13:31:41.333Z"
      },
      {
        "duration": 0,
        "start_time": "2023-05-09T13:31:41.335Z"
      },
      {
        "duration": 1235,
        "start_time": "2023-05-09T13:32:09.942Z"
      },
      {
        "duration": 62,
        "start_time": "2023-05-09T13:32:11.179Z"
      },
      {
        "duration": 5,
        "start_time": "2023-05-09T13:32:11.244Z"
      },
      {
        "duration": 1201,
        "start_time": "2023-05-09T13:32:11.252Z"
      },
      {
        "duration": 268,
        "start_time": "2023-05-09T13:32:12.455Z"
      },
      {
        "duration": 18,
        "start_time": "2023-05-09T13:32:12.725Z"
      },
      {
        "duration": 27,
        "start_time": "2023-05-09T13:32:12.745Z"
      },
      {
        "duration": 42,
        "start_time": "2023-05-09T13:32:12.774Z"
      },
      {
        "duration": 182,
        "start_time": "2023-05-09T13:32:12.818Z"
      },
      {
        "duration": 0,
        "start_time": "2023-05-09T13:32:13.002Z"
      },
      {
        "duration": 0,
        "start_time": "2023-05-09T13:32:13.004Z"
      },
      {
        "duration": 0,
        "start_time": "2023-05-09T13:32:13.006Z"
      },
      {
        "duration": 7,
        "start_time": "2023-05-09T13:48:12.149Z"
      },
      {
        "duration": 5,
        "start_time": "2023-05-09T13:48:12.204Z"
      },
      {
        "duration": 6,
        "start_time": "2023-05-09T13:48:29.760Z"
      },
      {
        "duration": 22,
        "start_time": "2023-05-09T13:48:29.834Z"
      },
      {
        "duration": 15,
        "start_time": "2023-05-09T13:48:55.032Z"
      },
      {
        "duration": 23,
        "start_time": "2023-05-09T13:48:55.982Z"
      },
      {
        "duration": 878,
        "start_time": "2023-05-09T13:49:01.860Z"
      },
      {
        "duration": 1330,
        "start_time": "2023-05-09T13:51:13.543Z"
      },
      {
        "duration": 68,
        "start_time": "2023-05-09T13:51:14.875Z"
      },
      {
        "duration": 7,
        "start_time": "2023-05-09T13:51:14.946Z"
      },
      {
        "duration": 1175,
        "start_time": "2023-05-09T13:51:14.956Z"
      },
      {
        "duration": 259,
        "start_time": "2023-05-09T13:51:16.134Z"
      },
      {
        "duration": 158,
        "start_time": "2023-05-09T13:51:16.395Z"
      },
      {
        "duration": 0,
        "start_time": "2023-05-09T13:51:16.555Z"
      },
      {
        "duration": 0,
        "start_time": "2023-05-09T13:51:16.556Z"
      },
      {
        "duration": 0,
        "start_time": "2023-05-09T13:51:16.558Z"
      },
      {
        "duration": 0,
        "start_time": "2023-05-09T13:51:16.559Z"
      },
      {
        "duration": 0,
        "start_time": "2023-05-09T13:51:16.560Z"
      },
      {
        "duration": 0,
        "start_time": "2023-05-09T13:51:16.561Z"
      },
      {
        "duration": 0,
        "start_time": "2023-05-09T13:51:16.563Z"
      },
      {
        "duration": 0,
        "start_time": "2023-05-09T13:51:16.564Z"
      },
      {
        "duration": 0,
        "start_time": "2023-05-09T13:51:16.565Z"
      },
      {
        "duration": 1296,
        "start_time": "2023-05-09T13:51:46.338Z"
      },
      {
        "duration": 50,
        "start_time": "2023-05-09T13:51:47.638Z"
      },
      {
        "duration": 5,
        "start_time": "2023-05-09T13:51:47.689Z"
      },
      {
        "duration": 1228,
        "start_time": "2023-05-09T13:51:47.696Z"
      },
      {
        "duration": 328,
        "start_time": "2023-05-09T13:51:48.928Z"
      },
      {
        "duration": 6,
        "start_time": "2023-05-09T13:51:49.258Z"
      },
      {
        "duration": 48,
        "start_time": "2023-05-09T13:51:49.266Z"
      },
      {
        "duration": 45,
        "start_time": "2023-05-09T13:51:49.316Z"
      },
      {
        "duration": 8,
        "start_time": "2023-05-09T13:51:49.364Z"
      },
      {
        "duration": 38,
        "start_time": "2023-05-09T13:51:49.374Z"
      },
      {
        "duration": 100,
        "start_time": "2023-05-09T13:51:49.415Z"
      },
      {
        "duration": 1023,
        "start_time": "2023-05-09T13:51:49.517Z"
      },
      {
        "duration": 342639,
        "start_time": "2023-05-09T13:51:50.542Z"
      },
      {
        "duration": 10,
        "start_time": "2023-05-09T13:57:33.184Z"
      },
      {
        "duration": 1172,
        "start_time": "2023-05-09T14:04:46.601Z"
      },
      {
        "duration": 57,
        "start_time": "2023-05-09T14:04:47.776Z"
      },
      {
        "duration": 6,
        "start_time": "2023-05-09T14:04:47.835Z"
      },
      {
        "duration": 1074,
        "start_time": "2023-05-09T14:04:47.844Z"
      },
      {
        "duration": 322,
        "start_time": "2023-05-09T14:04:48.920Z"
      },
      {
        "duration": 4,
        "start_time": "2023-05-09T14:04:49.244Z"
      },
      {
        "duration": 43,
        "start_time": "2023-05-09T14:04:49.250Z"
      },
      {
        "duration": 42,
        "start_time": "2023-05-09T14:04:49.294Z"
      },
      {
        "duration": 6,
        "start_time": "2023-05-09T14:04:49.338Z"
      },
      {
        "duration": 23,
        "start_time": "2023-05-09T14:04:49.347Z"
      },
      {
        "duration": 749,
        "start_time": "2023-05-09T14:04:49.372Z"
      },
      {
        "duration": 1012,
        "start_time": "2023-05-09T14:04:50.123Z"
      },
      {
        "duration": 345026,
        "start_time": "2023-05-09T14:04:51.137Z"
      },
      {
        "duration": 52,
        "start_time": "2023-05-09T14:10:36.165Z"
      },
      {
        "duration": 110,
        "start_time": "2023-05-09T14:10:36.222Z"
      },
      {
        "duration": 193,
        "start_time": "2023-05-09T14:10:36.333Z"
      },
      {
        "duration": 170,
        "start_time": "2023-05-14T07:46:09.272Z"
      },
      {
        "duration": 1100,
        "start_time": "2023-05-14T07:46:37.950Z"
      },
      {
        "duration": 51,
        "start_time": "2023-05-14T07:46:39.052Z"
      },
      {
        "duration": 4,
        "start_time": "2023-05-14T07:46:39.110Z"
      },
      {
        "duration": 1051,
        "start_time": "2023-05-14T07:46:39.116Z"
      },
      {
        "duration": 214,
        "start_time": "2023-05-14T07:46:40.170Z"
      },
      {
        "duration": 10,
        "start_time": "2023-05-14T07:46:40.386Z"
      },
      {
        "duration": 31,
        "start_time": "2023-05-14T07:46:40.399Z"
      },
      {
        "duration": 28,
        "start_time": "2023-05-14T07:46:40.431Z"
      },
      {
        "duration": 6,
        "start_time": "2023-05-14T07:46:40.460Z"
      },
      {
        "duration": 38,
        "start_time": "2023-05-14T07:46:40.467Z"
      },
      {
        "duration": 91,
        "start_time": "2023-05-14T07:46:40.506Z"
      },
      {
        "duration": 822,
        "start_time": "2023-05-14T07:46:40.599Z"
      },
      {
        "duration": 291342,
        "start_time": "2023-05-14T07:46:41.422Z"
      },
      {
        "duration": 48,
        "start_time": "2023-05-14T07:51:32.766Z"
      },
      {
        "duration": 20,
        "start_time": "2023-05-14T07:51:32.905Z"
      },
      {
        "duration": 92,
        "start_time": "2023-05-14T07:51:32.927Z"
      },
      {
        "duration": 1079,
        "start_time": "2023-05-14T07:59:16.348Z"
      },
      {
        "duration": 49,
        "start_time": "2023-05-14T07:59:17.429Z"
      },
      {
        "duration": 4,
        "start_time": "2023-05-14T07:59:17.479Z"
      },
      {
        "duration": 886,
        "start_time": "2023-05-14T07:59:17.485Z"
      },
      {
        "duration": 242,
        "start_time": "2023-05-14T07:59:18.373Z"
      },
      {
        "duration": 6,
        "start_time": "2023-05-14T07:59:18.616Z"
      },
      {
        "duration": 39,
        "start_time": "2023-05-14T07:59:18.623Z"
      },
      {
        "duration": 35,
        "start_time": "2023-05-14T07:59:18.664Z"
      },
      {
        "duration": 12,
        "start_time": "2023-05-14T07:59:18.703Z"
      },
      {
        "duration": 28,
        "start_time": "2023-05-14T07:59:18.717Z"
      },
      {
        "duration": 54,
        "start_time": "2023-05-14T07:59:18.747Z"
      },
      {
        "duration": 822,
        "start_time": "2023-05-14T07:59:18.803Z"
      },
      {
        "duration": 294334,
        "start_time": "2023-05-14T07:59:19.626Z"
      },
      {
        "duration": 34,
        "start_time": "2023-05-14T08:04:13.962Z"
      },
      {
        "duration": 123,
        "start_time": "2023-05-14T08:04:13.998Z"
      },
      {
        "duration": 183,
        "start_time": "2023-05-14T08:04:14.122Z"
      },
      {
        "duration": 3,
        "start_time": "2023-05-14T08:07:26.288Z"
      },
      {
        "duration": 6,
        "start_time": "2023-05-14T08:07:27.900Z"
      },
      {
        "duration": 19,
        "start_time": "2023-05-14T08:07:28.421Z"
      },
      {
        "duration": 3,
        "start_time": "2023-05-14T08:09:57.106Z"
      },
      {
        "duration": 17,
        "start_time": "2023-05-14T08:09:58.113Z"
      },
      {
        "duration": 25,
        "start_time": "2023-05-14T08:09:58.812Z"
      },
      {
        "duration": 6,
        "start_time": "2023-05-14T08:09:59.653Z"
      },
      {
        "duration": 1314,
        "start_time": "2023-05-14T08:12:14.092Z"
      },
      {
        "duration": 59,
        "start_time": "2023-05-14T08:12:15.408Z"
      },
      {
        "duration": 11,
        "start_time": "2023-05-14T08:12:15.468Z"
      },
      {
        "duration": 5,
        "start_time": "2023-05-14T08:12:15.480Z"
      },
      {
        "duration": 547,
        "start_time": "2023-05-14T08:12:15.487Z"
      },
      {
        "duration": 151,
        "start_time": "2023-05-14T08:12:16.035Z"
      },
      {
        "duration": 8,
        "start_time": "2023-05-14T08:12:16.187Z"
      },
      {
        "duration": 37,
        "start_time": "2023-05-14T08:12:16.196Z"
      },
      {
        "duration": 14,
        "start_time": "2023-05-14T08:12:16.235Z"
      },
      {
        "duration": 5,
        "start_time": "2023-05-14T08:12:16.251Z"
      },
      {
        "duration": 11,
        "start_time": "2023-05-14T08:12:16.257Z"
      },
      {
        "duration": 43,
        "start_time": "2023-05-14T08:12:16.270Z"
      },
      {
        "duration": 449,
        "start_time": "2023-05-14T08:12:16.314Z"
      },
      {
        "duration": 98115,
        "start_time": "2023-05-14T08:12:16.765Z"
      },
      {
        "duration": 115,
        "start_time": "2023-05-14T08:13:54.882Z"
      },
      {
        "duration": 103,
        "start_time": "2023-05-14T08:13:54.999Z"
      },
      {
        "duration": 105,
        "start_time": "2023-05-14T08:13:55.103Z"
      },
      {
        "duration": 4,
        "start_time": "2023-05-14T08:30:25.242Z"
      },
      {
        "duration": 54,
        "start_time": "2023-05-14T08:30:30.092Z"
      },
      {
        "duration": 8,
        "start_time": "2023-05-14T08:30:30.557Z"
      },
      {
        "duration": 5,
        "start_time": "2023-05-14T08:30:31.243Z"
      },
      {
        "duration": 353,
        "start_time": "2023-05-14T08:30:32.091Z"
      },
      {
        "duration": 6,
        "start_time": "2023-05-14T08:30:37.896Z"
      },
      {
        "duration": 21,
        "start_time": "2023-05-14T08:30:39.744Z"
      },
      {
        "duration": 27,
        "start_time": "2023-05-14T08:30:40.397Z"
      },
      {
        "duration": 7,
        "start_time": "2023-05-14T08:30:43.118Z"
      },
      {
        "duration": 24,
        "start_time": "2023-05-14T08:30:48.192Z"
      },
      {
        "duration": 25,
        "start_time": "2023-05-14T08:30:48.729Z"
      },
      {
        "duration": 3,
        "start_time": "2023-05-14T08:35:22.322Z"
      },
      {
        "duration": 14,
        "start_time": "2023-05-14T08:35:23.257Z"
      },
      {
        "duration": 86,
        "start_time": "2023-05-14T08:35:23.817Z"
      },
      {
        "duration": 7,
        "start_time": "2023-05-14T08:35:24.493Z"
      },
      {
        "duration": 8,
        "start_time": "2023-05-14T08:35:26.765Z"
      },
      {
        "duration": 18,
        "start_time": "2023-05-14T08:35:27.299Z"
      },
      {
        "duration": 3,
        "start_time": "2023-05-14T08:35:27.990Z"
      },
      {
        "duration": 111,
        "start_time": "2023-05-14T08:35:28.937Z"
      },
      {
        "duration": 1220,
        "start_time": "2023-05-14T08:36:12.743Z"
      },
      {
        "duration": 146962,
        "start_time": "2023-05-14T08:36:57.064Z"
      },
      {
        "duration": 9,
        "start_time": "2023-05-14T08:39:24.028Z"
      },
      {
        "duration": 8,
        "start_time": "2023-05-14T08:40:10.759Z"
      },
      {
        "duration": 8,
        "start_time": "2023-05-14T08:40:18.738Z"
      },
      {
        "duration": 9,
        "start_time": "2023-05-14T08:41:00.057Z"
      },
      {
        "duration": 16,
        "start_time": "2023-05-14T08:41:33.639Z"
      },
      {
        "duration": 8,
        "start_time": "2023-05-14T08:41:39.334Z"
      },
      {
        "duration": 1112,
        "start_time": "2023-05-14T08:44:51.306Z"
      },
      {
        "duration": 55,
        "start_time": "2023-05-14T08:44:52.420Z"
      },
      {
        "duration": 8,
        "start_time": "2023-05-14T08:44:52.477Z"
      },
      {
        "duration": 4,
        "start_time": "2023-05-14T08:44:52.487Z"
      },
      {
        "duration": 525,
        "start_time": "2023-05-14T08:44:52.492Z"
      },
      {
        "duration": 151,
        "start_time": "2023-05-14T08:44:53.019Z"
      },
      {
        "duration": 4,
        "start_time": "2023-05-14T08:44:53.172Z"
      },
      {
        "duration": 59,
        "start_time": "2023-05-14T08:44:53.178Z"
      },
      {
        "duration": 15,
        "start_time": "2023-05-14T08:44:53.238Z"
      },
      {
        "duration": 22,
        "start_time": "2023-05-14T08:44:53.256Z"
      },
      {
        "duration": 49,
        "start_time": "2023-05-14T08:44:53.280Z"
      },
      {
        "duration": 37,
        "start_time": "2023-05-14T08:44:53.331Z"
      },
      {
        "duration": 144,
        "start_time": "2023-05-14T08:44:53.370Z"
      },
      {
        "duration": 190,
        "start_time": "2023-05-14T08:44:53.516Z"
      },
      {
        "duration": 0,
        "start_time": "2023-05-14T08:44:53.708Z"
      },
      {
        "duration": 0,
        "start_time": "2023-05-14T08:44:53.709Z"
      },
      {
        "duration": 0,
        "start_time": "2023-05-14T08:44:53.710Z"
      },
      {
        "duration": 0,
        "start_time": "2023-05-14T08:44:53.711Z"
      },
      {
        "duration": 1058,
        "start_time": "2023-05-14T08:46:25.708Z"
      },
      {
        "duration": 100802,
        "start_time": "2023-05-14T08:46:30.714Z"
      },
      {
        "duration": 7,
        "start_time": "2023-05-14T08:48:11.517Z"
      },
      {
        "duration": 1203,
        "start_time": "2023-05-14T08:49:04.411Z"
      },
      {
        "duration": 58,
        "start_time": "2023-05-14T08:49:05.617Z"
      },
      {
        "duration": 13,
        "start_time": "2023-05-14T08:49:05.677Z"
      },
      {
        "duration": 5,
        "start_time": "2023-05-14T08:49:05.691Z"
      },
      {
        "duration": 604,
        "start_time": "2023-05-14T08:49:05.699Z"
      },
      {
        "duration": 165,
        "start_time": "2023-05-14T08:49:06.304Z"
      },
      {
        "duration": 4,
        "start_time": "2023-05-14T08:49:06.471Z"
      },
      {
        "duration": 45,
        "start_time": "2023-05-14T08:49:06.477Z"
      },
      {
        "duration": 17,
        "start_time": "2023-05-14T08:49:06.524Z"
      },
      {
        "duration": 28,
        "start_time": "2023-05-14T08:49:06.542Z"
      },
      {
        "duration": 10,
        "start_time": "2023-05-14T08:49:06.572Z"
      },
      {
        "duration": 44,
        "start_time": "2023-05-14T08:49:06.584Z"
      },
      {
        "duration": 8,
        "start_time": "2023-05-14T08:49:06.696Z"
      },
      {
        "duration": 1235,
        "start_time": "2023-05-14T08:49:06.707Z"
      },
      {
        "duration": 100465,
        "start_time": "2023-05-14T08:49:07.944Z"
      },
      {
        "duration": 96,
        "start_time": "2023-05-14T08:50:48.410Z"
      },
      {
        "duration": 112,
        "start_time": "2023-05-14T08:50:48.512Z"
      },
      {
        "duration": 9,
        "start_time": "2023-05-14T08:50:48.626Z"
      },
      {
        "duration": 5,
        "start_time": "2023-05-14T09:42:59.035Z"
      },
      {
        "duration": 307,
        "start_time": "2023-05-14T09:42:59.760Z"
      },
      {
        "duration": 6,
        "start_time": "2023-05-14T09:43:35.070Z"
      },
      {
        "duration": 1581,
        "start_time": "2023-05-14T09:43:35.352Z"
      },
      {
        "duration": 4,
        "start_time": "2023-05-14T09:43:43.732Z"
      },
      {
        "duration": 51,
        "start_time": "2023-05-14T09:43:45.250Z"
      },
      {
        "duration": 8,
        "start_time": "2023-05-14T09:43:45.754Z"
      },
      {
        "duration": 5,
        "start_time": "2023-05-14T09:43:46.362Z"
      },
      {
        "duration": 275,
        "start_time": "2023-05-14T09:43:47.156Z"
      },
      {
        "duration": 8,
        "start_time": "2023-05-14T09:45:09.625Z"
      },
      {
        "duration": 51,
        "start_time": "2023-05-14T09:45:10.646Z"
      },
      {
        "duration": 4,
        "start_time": "2023-05-14T09:45:20.572Z"
      },
      {
        "duration": 58,
        "start_time": "2023-05-14T09:45:21.802Z"
      },
      {
        "duration": 8,
        "start_time": "2023-05-14T09:45:22.255Z"
      },
      {
        "duration": 5,
        "start_time": "2023-05-14T09:45:22.859Z"
      },
      {
        "duration": 43,
        "start_time": "2023-05-14T09:45:23.554Z"
      },
      {
        "duration": 4,
        "start_time": "2023-05-14T09:45:50.400Z"
      },
      {
        "duration": 48,
        "start_time": "2023-05-14T09:45:51.955Z"
      },
      {
        "duration": 10,
        "start_time": "2023-05-14T09:45:52.396Z"
      },
      {
        "duration": 4,
        "start_time": "2023-05-14T09:45:53.032Z"
      },
      {
        "duration": 264,
        "start_time": "2023-05-14T09:45:53.762Z"
      },
      {
        "duration": 24,
        "start_time": "2023-05-14T09:47:56.266Z"
      },
      {
        "duration": 4,
        "start_time": "2023-05-14T09:49:01.580Z"
      },
      {
        "duration": 49,
        "start_time": "2023-05-14T09:49:03.358Z"
      },
      {
        "duration": 7,
        "start_time": "2023-05-14T09:49:04.019Z"
      },
      {
        "duration": 5,
        "start_time": "2023-05-14T09:49:04.961Z"
      },
      {
        "duration": 274,
        "start_time": "2023-05-14T09:49:05.954Z"
      },
      {
        "duration": 142,
        "start_time": "2023-05-14T09:49:07.019Z"
      },
      {
        "duration": 528,
        "start_time": "2023-05-14T09:49:11.203Z"
      },
      {
        "duration": 4,
        "start_time": "2023-05-14T09:51:09.097Z"
      },
      {
        "duration": 47,
        "start_time": "2023-05-14T09:51:09.990Z"
      },
      {
        "duration": 6,
        "start_time": "2023-05-14T09:51:10.974Z"
      },
      {
        "duration": 5,
        "start_time": "2023-05-14T09:51:11.459Z"
      },
      {
        "duration": 410,
        "start_time": "2023-05-14T09:51:12.393Z"
      },
      {
        "duration": 4,
        "start_time": "2023-05-14T09:51:55.822Z"
      },
      {
        "duration": 379,
        "start_time": "2023-05-14T09:51:56.601Z"
      },
      {
        "duration": 5,
        "start_time": "2023-05-14T09:52:15.913Z"
      },
      {
        "duration": 400,
        "start_time": "2023-05-14T09:52:16.558Z"
      },
      {
        "duration": 4,
        "start_time": "2023-05-14T09:52:43.893Z"
      },
      {
        "duration": 48,
        "start_time": "2023-05-14T09:52:45.092Z"
      },
      {
        "duration": 9,
        "start_time": "2023-05-14T09:52:45.568Z"
      },
      {
        "duration": 7,
        "start_time": "2023-05-14T09:52:46.125Z"
      },
      {
        "duration": 445,
        "start_time": "2023-05-14T09:52:47.520Z"
      },
      {
        "duration": 2,
        "start_time": "2023-05-14T10:01:25.796Z"
      },
      {
        "duration": 151,
        "start_time": "2023-05-14T10:04:34.801Z"
      },
      {
        "duration": 329,
        "start_time": "2023-05-14T10:05:10.211Z"
      },
      {
        "duration": 499,
        "start_time": "2023-05-14T10:11:50.586Z"
      },
      {
        "duration": 656,
        "start_time": "2023-05-14T10:12:45.740Z"
      },
      {
        "duration": 789,
        "start_time": "2023-05-14T10:12:59.490Z"
      },
      {
        "duration": 676,
        "start_time": "2023-05-14T10:15:46.860Z"
      },
      {
        "duration": 657,
        "start_time": "2023-05-14T10:18:50.652Z"
      },
      {
        "duration": 661,
        "start_time": "2023-05-14T10:19:00.600Z"
      },
      {
        "duration": 711,
        "start_time": "2023-05-14T10:19:13.493Z"
      },
      {
        "duration": 650,
        "start_time": "2023-05-14T10:19:19.817Z"
      },
      {
        "duration": 659,
        "start_time": "2023-05-14T10:19:27.454Z"
      },
      {
        "duration": 1104,
        "start_time": "2023-05-14T10:19:32.652Z"
      },
      {
        "duration": 59,
        "start_time": "2023-05-14T10:19:54.944Z"
      },
      {
        "duration": 793,
        "start_time": "2023-05-14T10:20:05.781Z"
      },
      {
        "duration": 746,
        "start_time": "2023-05-14T10:20:18.250Z"
      },
      {
        "duration": 748,
        "start_time": "2023-05-14T10:20:26.946Z"
      },
      {
        "duration": 332,
        "start_time": "2023-05-14T10:22:11.249Z"
      },
      {
        "duration": 688,
        "start_time": "2023-05-14T10:22:47.748Z"
      },
      {
        "duration": 5,
        "start_time": "2023-05-14T10:26:55.594Z"
      },
      {
        "duration": 53,
        "start_time": "2023-05-14T10:26:56.711Z"
      },
      {
        "duration": 7,
        "start_time": "2023-05-14T10:26:57.158Z"
      },
      {
        "duration": 8,
        "start_time": "2023-05-14T10:26:57.909Z"
      },
      {
        "duration": 1017,
        "start_time": "2023-05-14T10:27:01.237Z"
      },
      {
        "duration": 5,
        "start_time": "2023-05-14T10:27:43.652Z"
      },
      {
        "duration": 466,
        "start_time": "2023-05-14T10:27:44.169Z"
      },
      {
        "duration": 5,
        "start_time": "2023-05-14T10:28:00.587Z"
      },
      {
        "duration": 504,
        "start_time": "2023-05-14T10:28:00.794Z"
      },
      {
        "duration": 6,
        "start_time": "2023-05-14T10:28:30.339Z"
      },
      {
        "duration": 480,
        "start_time": "2023-05-14T10:28:30.650Z"
      },
      {
        "duration": 405,
        "start_time": "2023-05-14T10:30:05.238Z"
      },
      {
        "duration": 638,
        "start_time": "2023-05-14T10:30:33.589Z"
      },
      {
        "duration": 672,
        "start_time": "2023-05-14T10:30:44.782Z"
      },
      {
        "duration": 634,
        "start_time": "2023-05-14T10:30:56.901Z"
      },
      {
        "duration": 772,
        "start_time": "2023-05-14T10:31:33.744Z"
      },
      {
        "duration": 6,
        "start_time": "2023-05-14T10:34:35.289Z"
      },
      {
        "duration": 389,
        "start_time": "2023-05-14T10:35:32.022Z"
      },
      {
        "duration": 483,
        "start_time": "2023-05-14T10:35:48.989Z"
      },
      {
        "duration": 667,
        "start_time": "2023-05-14T10:36:03.610Z"
      },
      {
        "duration": 2998,
        "start_time": "2023-05-14T10:36:14.335Z"
      },
      {
        "duration": 2239,
        "start_time": "2023-05-14T10:36:27.893Z"
      },
      {
        "duration": 6,
        "start_time": "2023-05-14T10:36:52.982Z"
      },
      {
        "duration": 10,
        "start_time": "2023-05-14T10:37:13.247Z"
      },
      {
        "duration": 4,
        "start_time": "2023-05-14T10:37:20.886Z"
      },
      {
        "duration": 44,
        "start_time": "2023-05-14T10:37:22.110Z"
      },
      {
        "duration": 7,
        "start_time": "2023-05-14T10:37:22.549Z"
      },
      {
        "duration": 5,
        "start_time": "2023-05-14T10:37:23.382Z"
      },
      {
        "duration": 555,
        "start_time": "2023-05-14T10:37:24.940Z"
      },
      {
        "duration": 6,
        "start_time": "2023-05-14T10:37:51.352Z"
      },
      {
        "duration": 400,
        "start_time": "2023-05-14T10:37:53.938Z"
      },
      {
        "duration": 100,
        "start_time": "2023-05-14T10:38:25.435Z"
      },
      {
        "duration": 7,
        "start_time": "2023-05-14T10:38:43.618Z"
      },
      {
        "duration": 548,
        "start_time": "2023-05-14T10:38:44.585Z"
      },
      {
        "duration": 7,
        "start_time": "2023-05-14T10:39:01.651Z"
      },
      {
        "duration": 1322,
        "start_time": "2023-05-14T10:39:18.148Z"
      },
      {
        "duration": 49,
        "start_time": "2023-05-14T10:39:19.472Z"
      },
      {
        "duration": 11,
        "start_time": "2023-05-14T10:39:19.523Z"
      },
      {
        "duration": 9,
        "start_time": "2023-05-14T10:39:19.535Z"
      },
      {
        "duration": 162,
        "start_time": "2023-05-14T10:39:19.547Z"
      },
      {
        "duration": 0,
        "start_time": "2023-05-14T10:39:19.710Z"
      },
      {
        "duration": 0,
        "start_time": "2023-05-14T10:39:19.711Z"
      },
      {
        "duration": 0,
        "start_time": "2023-05-14T10:39:19.712Z"
      },
      {
        "duration": 0,
        "start_time": "2023-05-14T10:39:19.713Z"
      },
      {
        "duration": 0,
        "start_time": "2023-05-14T10:39:19.714Z"
      },
      {
        "duration": 0,
        "start_time": "2023-05-14T10:39:19.715Z"
      },
      {
        "duration": 0,
        "start_time": "2023-05-14T10:39:19.716Z"
      },
      {
        "duration": 0,
        "start_time": "2023-05-14T10:39:19.717Z"
      },
      {
        "duration": 0,
        "start_time": "2023-05-14T10:39:19.718Z"
      },
      {
        "duration": 0,
        "start_time": "2023-05-14T10:39:19.719Z"
      },
      {
        "duration": 0,
        "start_time": "2023-05-14T10:39:19.720Z"
      },
      {
        "duration": 0,
        "start_time": "2023-05-14T10:39:19.720Z"
      },
      {
        "duration": 0,
        "start_time": "2023-05-14T10:39:19.722Z"
      },
      {
        "duration": 1253,
        "start_time": "2023-05-14T10:40:17.537Z"
      },
      {
        "duration": 48,
        "start_time": "2023-05-14T10:40:18.792Z"
      },
      {
        "duration": 8,
        "start_time": "2023-05-14T10:40:18.841Z"
      },
      {
        "duration": 5,
        "start_time": "2023-05-14T10:40:18.850Z"
      },
      {
        "duration": 144,
        "start_time": "2023-05-14T10:40:18.857Z"
      },
      {
        "duration": 0,
        "start_time": "2023-05-14T10:40:19.004Z"
      },
      {
        "duration": 0,
        "start_time": "2023-05-14T10:40:19.004Z"
      },
      {
        "duration": 0,
        "start_time": "2023-05-14T10:40:19.005Z"
      },
      {
        "duration": 0,
        "start_time": "2023-05-14T10:40:19.006Z"
      },
      {
        "duration": 0,
        "start_time": "2023-05-14T10:40:19.008Z"
      },
      {
        "duration": 0,
        "start_time": "2023-05-14T10:40:19.009Z"
      },
      {
        "duration": 0,
        "start_time": "2023-05-14T10:40:19.010Z"
      },
      {
        "duration": 0,
        "start_time": "2023-05-14T10:40:19.010Z"
      },
      {
        "duration": 0,
        "start_time": "2023-05-14T10:40:19.011Z"
      },
      {
        "duration": 0,
        "start_time": "2023-05-14T10:40:19.012Z"
      },
      {
        "duration": 0,
        "start_time": "2023-05-14T10:40:19.013Z"
      },
      {
        "duration": 0,
        "start_time": "2023-05-14T10:40:19.014Z"
      },
      {
        "duration": 0,
        "start_time": "2023-05-14T10:40:19.015Z"
      },
      {
        "duration": 5,
        "start_time": "2023-05-14T10:40:52.381Z"
      },
      {
        "duration": 37,
        "start_time": "2023-05-14T10:40:53.097Z"
      },
      {
        "duration": 4,
        "start_time": "2023-05-14T10:42:19.588Z"
      },
      {
        "duration": 268,
        "start_time": "2023-05-14T10:42:22.784Z"
      },
      {
        "duration": 6,
        "start_time": "2023-05-14T10:42:32.844Z"
      },
      {
        "duration": 37,
        "start_time": "2023-05-14T10:42:37.421Z"
      },
      {
        "duration": 3,
        "start_time": "2023-05-14T10:42:51.633Z"
      },
      {
        "duration": 45,
        "start_time": "2023-05-14T10:42:53.348Z"
      },
      {
        "duration": 7,
        "start_time": "2023-05-14T10:42:53.917Z"
      },
      {
        "duration": 5,
        "start_time": "2023-05-14T10:42:54.797Z"
      },
      {
        "duration": 37,
        "start_time": "2023-05-14T10:42:55.849Z"
      },
      {
        "duration": 485,
        "start_time": "2023-05-14T10:46:14.848Z"
      },
      {
        "duration": 3,
        "start_time": "2023-05-14T10:47:20.092Z"
      },
      {
        "duration": 47,
        "start_time": "2023-05-14T10:47:21.773Z"
      },
      {
        "duration": 7,
        "start_time": "2023-05-14T10:47:22.856Z"
      },
      {
        "duration": 6,
        "start_time": "2023-05-14T10:47:23.392Z"
      },
      {
        "duration": 5,
        "start_time": "2023-05-14T10:47:24.150Z"
      },
      {
        "duration": 314,
        "start_time": "2023-05-14T10:47:24.844Z"
      },
      {
        "duration": 1417,
        "start_time": "2023-05-14T10:49:46.355Z"
      },
      {
        "duration": 70,
        "start_time": "2023-05-14T10:49:47.774Z"
      },
      {
        "duration": 7,
        "start_time": "2023-05-14T10:49:47.846Z"
      },
      {
        "duration": 508,
        "start_time": "2023-05-14T10:49:47.856Z"
      },
      {
        "duration": 4,
        "start_time": "2023-05-14T10:49:48.366Z"
      },
      {
        "duration": 36,
        "start_time": "2023-05-14T10:49:48.371Z"
      },
      {
        "duration": 20,
        "start_time": "2023-05-14T10:49:48.408Z"
      },
      {
        "duration": 7,
        "start_time": "2023-05-14T10:49:48.431Z"
      },
      {
        "duration": 15,
        "start_time": "2023-05-14T10:49:48.440Z"
      },
      {
        "duration": 42,
        "start_time": "2023-05-14T10:49:48.457Z"
      },
      {
        "duration": 1124,
        "start_time": "2023-05-14T10:49:48.501Z"
      },
      {
        "duration": 95520,
        "start_time": "2023-05-14T10:49:49.627Z"
      },
      {
        "duration": 6,
        "start_time": "2023-05-14T10:51:25.149Z"
      },
      {
        "duration": 14,
        "start_time": "2023-05-14T10:51:25.195Z"
      },
      {
        "duration": 10,
        "start_time": "2023-05-14T10:51:25.296Z"
      },
      {
        "duration": 720,
        "start_time": "2023-05-14T10:51:25.308Z"
      },
      {
        "duration": 6,
        "start_time": "2023-05-14T10:52:06.561Z"
      },
      {
        "duration": 1688,
        "start_time": "2023-05-14T10:52:08.849Z"
      },
      {
        "duration": 1388,
        "start_time": "2023-05-14T10:52:59.881Z"
      },
      {
        "duration": 57,
        "start_time": "2023-05-14T10:53:01.271Z"
      },
      {
        "duration": 6,
        "start_time": "2023-05-14T10:53:01.329Z"
      },
      {
        "duration": 516,
        "start_time": "2023-05-14T10:53:01.336Z"
      },
      {
        "duration": 4,
        "start_time": "2023-05-14T10:53:01.854Z"
      },
      {
        "duration": 78,
        "start_time": "2023-05-14T10:53:01.860Z"
      },
      {
        "duration": 30,
        "start_time": "2023-05-14T10:53:01.939Z"
      },
      {
        "duration": 28,
        "start_time": "2023-05-14T10:53:01.971Z"
      },
      {
        "duration": 46,
        "start_time": "2023-05-14T10:53:02.001Z"
      },
      {
        "duration": 35,
        "start_time": "2023-05-14T10:53:02.049Z"
      },
      {
        "duration": 1303,
        "start_time": "2023-05-14T10:53:02.087Z"
      },
      {
        "duration": 94855,
        "start_time": "2023-05-14T10:53:03.392Z"
      },
      {
        "duration": 48,
        "start_time": "2023-05-14T10:54:38.248Z"
      },
      {
        "duration": 104,
        "start_time": "2023-05-14T10:54:38.301Z"
      },
      {
        "duration": 6,
        "start_time": "2023-05-14T10:54:38.407Z"
      },
      {
        "duration": 758,
        "start_time": "2023-05-14T10:54:38.415Z"
      },
      {
        "duration": 0,
        "start_time": "2023-05-14T10:54:39.254Z"
      },
      {
        "duration": 6,
        "start_time": "2023-05-14T10:55:09.505Z"
      },
      {
        "duration": 1663,
        "start_time": "2023-05-14T10:55:10.015Z"
      },
      {
        "duration": 1333,
        "start_time": "2023-05-14T10:55:23.844Z"
      },
      {
        "duration": 56,
        "start_time": "2023-05-14T10:55:25.179Z"
      },
      {
        "duration": 5,
        "start_time": "2023-05-14T10:55:25.237Z"
      },
      {
        "duration": 524,
        "start_time": "2023-05-14T10:55:25.244Z"
      },
      {
        "duration": 4,
        "start_time": "2023-05-14T10:55:25.770Z"
      },
      {
        "duration": 32,
        "start_time": "2023-05-14T10:55:25.775Z"
      },
      {
        "duration": 13,
        "start_time": "2023-05-14T10:55:25.809Z"
      },
      {
        "duration": 4,
        "start_time": "2023-05-14T10:55:25.824Z"
      },
      {
        "duration": 14,
        "start_time": "2023-05-14T10:55:25.830Z"
      },
      {
        "duration": 52,
        "start_time": "2023-05-14T10:55:25.846Z"
      },
      {
        "duration": 1150,
        "start_time": "2023-05-14T10:55:25.900Z"
      },
      {
        "duration": 22888,
        "start_time": "2023-05-14T10:55:27.051Z"
      },
      {
        "duration": 0,
        "start_time": "2023-05-14T10:55:49.941Z"
      },
      {
        "duration": 0,
        "start_time": "2023-05-14T10:55:49.942Z"
      },
      {
        "duration": 1,
        "start_time": "2023-05-14T10:55:49.943Z"
      },
      {
        "duration": 0,
        "start_time": "2023-05-14T10:55:49.945Z"
      },
      {
        "duration": 1314,
        "start_time": "2023-05-14T10:55:56.889Z"
      },
      {
        "duration": 58,
        "start_time": "2023-05-14T10:55:58.205Z"
      },
      {
        "duration": 5,
        "start_time": "2023-05-14T10:55:58.264Z"
      },
      {
        "duration": 562,
        "start_time": "2023-05-14T10:55:58.271Z"
      },
      {
        "duration": 5,
        "start_time": "2023-05-14T10:55:58.835Z"
      },
      {
        "duration": 29,
        "start_time": "2023-05-14T10:55:58.841Z"
      },
      {
        "duration": 32,
        "start_time": "2023-05-14T10:55:58.871Z"
      },
      {
        "duration": 7,
        "start_time": "2023-05-14T10:55:58.905Z"
      },
      {
        "duration": 19,
        "start_time": "2023-05-14T10:55:58.914Z"
      },
      {
        "duration": 69,
        "start_time": "2023-05-14T10:55:58.934Z"
      },
      {
        "duration": 1178,
        "start_time": "2023-05-14T10:55:59.005Z"
      },
      {
        "duration": 95432,
        "start_time": "2023-05-14T10:56:00.186Z"
      },
      {
        "duration": 81,
        "start_time": "2023-05-14T10:57:35.620Z"
      },
      {
        "duration": 112,
        "start_time": "2023-05-14T10:57:35.706Z"
      },
      {
        "duration": 7,
        "start_time": "2023-05-14T10:57:35.820Z"
      },
      {
        "duration": 755,
        "start_time": "2023-05-14T10:57:35.829Z"
      },
      {
        "duration": 11,
        "start_time": "2023-05-14T11:17:46.294Z"
      },
      {
        "duration": 1374,
        "start_time": "2023-05-14T11:18:05.836Z"
      },
      {
        "duration": 73,
        "start_time": "2023-05-14T11:18:07.212Z"
      },
      {
        "duration": 9,
        "start_time": "2023-05-14T11:18:07.287Z"
      },
      {
        "duration": 648,
        "start_time": "2023-05-14T11:18:07.297Z"
      },
      {
        "duration": 5,
        "start_time": "2023-05-14T11:18:07.948Z"
      },
      {
        "duration": 43,
        "start_time": "2023-05-14T11:18:07.955Z"
      },
      {
        "duration": 15,
        "start_time": "2023-05-14T11:18:08.000Z"
      },
      {
        "duration": 6,
        "start_time": "2023-05-14T11:18:08.017Z"
      },
      {
        "duration": 13,
        "start_time": "2023-05-14T11:18:08.025Z"
      },
      {
        "duration": 156,
        "start_time": "2023-05-14T11:18:08.040Z"
      },
      {
        "duration": 1291,
        "start_time": "2023-05-14T11:18:08.198Z"
      },
      {
        "duration": 98554,
        "start_time": "2023-05-14T11:18:09.491Z"
      },
      {
        "duration": 52,
        "start_time": "2023-05-14T11:19:48.047Z"
      },
      {
        "duration": 113,
        "start_time": "2023-05-14T11:19:48.106Z"
      },
      {
        "duration": 88,
        "start_time": "2023-05-14T11:19:48.221Z"
      },
      {
        "duration": 962,
        "start_time": "2023-05-14T11:19:48.312Z"
      },
      {
        "duration": 7,
        "start_time": "2023-05-14T11:21:43.905Z"
      },
      {
        "duration": 22,
        "start_time": "2023-05-14T11:21:51.334Z"
      },
      {
        "duration": 1386,
        "start_time": "2023-05-14T11:25:30.118Z"
      },
      {
        "duration": 64,
        "start_time": "2023-05-14T11:25:31.508Z"
      },
      {
        "duration": 8,
        "start_time": "2023-05-14T11:25:31.574Z"
      },
      {
        "duration": 666,
        "start_time": "2023-05-14T11:25:31.584Z"
      },
      {
        "duration": 4,
        "start_time": "2023-05-14T11:25:32.253Z"
      },
      {
        "duration": 61,
        "start_time": "2023-05-14T11:25:32.259Z"
      },
      {
        "duration": 25,
        "start_time": "2023-05-14T11:25:32.322Z"
      },
      {
        "duration": 6,
        "start_time": "2023-05-14T11:25:32.349Z"
      },
      {
        "duration": 22,
        "start_time": "2023-05-14T11:25:32.357Z"
      },
      {
        "duration": 26,
        "start_time": "2023-05-14T11:25:32.382Z"
      },
      {
        "duration": 1331,
        "start_time": "2023-05-14T11:25:32.411Z"
      },
      {
        "duration": 103392,
        "start_time": "2023-05-14T11:25:33.744Z"
      },
      {
        "duration": 8,
        "start_time": "2023-05-14T11:27:17.137Z"
      },
      {
        "duration": 181,
        "start_time": "2023-05-14T11:27:17.147Z"
      },
      {
        "duration": 28,
        "start_time": "2023-05-14T11:27:17.330Z"
      },
      {
        "duration": 854,
        "start_time": "2023-05-14T11:27:17.359Z"
      },
      {
        "duration": 775,
        "start_time": "2023-05-14T11:30:36.652Z"
      },
      {
        "duration": 1537,
        "start_time": "2023-05-15T04:12:59.403Z"
      },
      {
        "duration": 313,
        "start_time": "2023-05-15T04:13:01.032Z"
      },
      {
        "duration": 6,
        "start_time": "2023-05-15T04:13:01.583Z"
      },
      {
        "duration": 462,
        "start_time": "2023-05-15T04:13:01.679Z"
      },
      {
        "duration": 3,
        "start_time": "2023-05-15T04:14:39.217Z"
      },
      {
        "duration": 22,
        "start_time": "2023-05-15T04:14:40.177Z"
      },
      {
        "duration": 16,
        "start_time": "2023-05-15T04:14:40.655Z"
      },
      {
        "duration": 5,
        "start_time": "2023-05-15T04:14:41.350Z"
      },
      {
        "duration": 3,
        "start_time": "2023-05-15T04:19:06.304Z"
      },
      {
        "duration": 11,
        "start_time": "2023-05-15T04:19:06.830Z"
      },
      {
        "duration": 14,
        "start_time": "2023-05-15T04:19:07.300Z"
      },
      {
        "duration": 5,
        "start_time": "2023-05-15T04:19:08.015Z"
      },
      {
        "duration": 9,
        "start_time": "2023-05-15T04:19:11.390Z"
      },
      {
        "duration": 14,
        "start_time": "2023-05-15T04:19:14.493Z"
      },
      {
        "duration": 70,
        "start_time": "2023-05-15T04:19:26.462Z"
      },
      {
        "duration": 109,
        "start_time": "2023-05-15T04:19:43.063Z"
      },
      {
        "duration": 401,
        "start_time": "2023-05-15T04:20:04.978Z"
      },
      {
        "duration": 320614,
        "start_time": "2023-05-15T04:20:18.736Z"
      },
      {
        "duration": 111,
        "start_time": "2023-05-15T04:25:39.352Z"
      },
      {
        "duration": 369,
        "start_time": "2023-05-15T04:26:29.572Z"
      },
      {
        "duration": 4,
        "start_time": "2023-05-15T04:27:43.542Z"
      },
      {
        "duration": 54,
        "start_time": "2023-05-15T04:27:44.965Z"
      },
      {
        "duration": 6,
        "start_time": "2023-05-15T04:27:45.775Z"
      },
      {
        "duration": 425,
        "start_time": "2023-05-15T04:27:46.785Z"
      },
      {
        "duration": 393,
        "start_time": "2023-05-15T04:29:20.821Z"
      },
      {
        "duration": 443,
        "start_time": "2023-05-15T04:29:36.845Z"
      },
      {
        "duration": 439,
        "start_time": "2023-05-15T04:29:57.248Z"
      },
      {
        "duration": 5,
        "start_time": "2023-05-15T04:31:10.861Z"
      },
      {
        "duration": 4,
        "start_time": "2023-05-15T04:31:16.655Z"
      },
      {
        "duration": 50,
        "start_time": "2023-05-15T04:31:18.567Z"
      },
      {
        "duration": 5,
        "start_time": "2023-05-15T04:31:20.411Z"
      },
      {
        "duration": 27,
        "start_time": "2023-05-15T04:31:21.514Z"
      },
      {
        "duration": 313,
        "start_time": "2023-05-15T04:36:58.808Z"
      },
      {
        "duration": 1902,
        "start_time": "2023-05-15T04:38:26.858Z"
      },
      {
        "duration": 49,
        "start_time": "2023-05-15T04:38:51.132Z"
      },
      {
        "duration": 1333,
        "start_time": "2023-05-15T04:39:01.897Z"
      },
      {
        "duration": 227,
        "start_time": "2023-05-15T04:39:03.232Z"
      },
      {
        "duration": 4,
        "start_time": "2023-05-15T04:39:03.460Z"
      },
      {
        "duration": 31,
        "start_time": "2023-05-15T04:39:03.712Z"
      },
      {
        "duration": 7046,
        "start_time": "2023-05-15T04:39:08.805Z"
      },
      {
        "duration": 294,
        "start_time": "2023-05-15T04:39:32.033Z"
      },
      {
        "duration": 81,
        "start_time": "2023-05-15T04:40:56.246Z"
      },
      {
        "duration": 456,
        "start_time": "2023-05-15T04:40:56.988Z"
      },
      {
        "duration": 5,
        "start_time": "2023-05-15T04:41:22.549Z"
      },
      {
        "duration": 317,
        "start_time": "2023-05-15T04:41:23.205Z"
      },
      {
        "duration": 3,
        "start_time": "2023-05-15T04:42:26.381Z"
      },
      {
        "duration": 46,
        "start_time": "2023-05-15T04:42:28.322Z"
      },
      {
        "duration": 4,
        "start_time": "2023-05-15T04:42:28.979Z"
      },
      {
        "duration": 33,
        "start_time": "2023-05-15T04:42:29.783Z"
      },
      {
        "duration": 307,
        "start_time": "2023-05-15T04:42:33.513Z"
      },
      {
        "duration": 1378,
        "start_time": "2023-05-15T04:47:29.913Z"
      },
      {
        "duration": 56,
        "start_time": "2023-05-15T04:47:31.746Z"
      },
      {
        "duration": 6,
        "start_time": "2023-05-15T04:47:32.533Z"
      },
      {
        "duration": 478,
        "start_time": "2023-05-15T04:47:33.421Z"
      },
      {
        "duration": 368,
        "start_time": "2023-05-15T04:47:42.120Z"
      },
      {
        "duration": 6,
        "start_time": "2023-05-15T04:47:45.825Z"
      },
      {
        "duration": 22,
        "start_time": "2023-05-15T04:47:47.629Z"
      },
      {
        "duration": 17,
        "start_time": "2023-05-15T04:47:48.281Z"
      },
      {
        "duration": 5,
        "start_time": "2023-05-15T04:47:48.554Z"
      },
      {
        "duration": 10,
        "start_time": "2023-05-15T04:47:51.618Z"
      },
      {
        "duration": 13,
        "start_time": "2023-05-15T04:47:52.437Z"
      },
      {
        "duration": 1035,
        "start_time": "2023-05-15T04:47:53.624Z"
      },
      {
        "duration": 2,
        "start_time": "2023-05-15T04:47:56.390Z"
      },
      {
        "duration": 42294,
        "start_time": "2023-05-15T04:47:57.798Z"
      },
      {
        "duration": 9,
        "start_time": "2023-05-15T04:48:40.093Z"
      },
      {
        "duration": 155,
        "start_time": "2023-05-15T04:48:40.103Z"
      },
      {
        "duration": 8,
        "start_time": "2023-05-15T04:48:40.260Z"
      },
      {
        "duration": 687,
        "start_time": "2023-05-15T04:48:40.269Z"
      },
      {
        "duration": 5,
        "start_time": "2023-05-15T05:00:54.224Z"
      },
      {
        "duration": 151,
        "start_time": "2023-05-15T05:00:56.241Z"
      },
      {
        "duration": 10,
        "start_time": "2023-05-15T05:01:34.000Z"
      },
      {
        "duration": 4,
        "start_time": "2023-05-15T05:01:56.172Z"
      },
      {
        "duration": 48,
        "start_time": "2023-05-15T05:01:57.892Z"
      },
      {
        "duration": 622,
        "start_time": "2023-05-15T05:16:12.486Z"
      },
      {
        "duration": 904,
        "start_time": "2023-05-15T05:17:54.390Z"
      },
      {
        "duration": 4,
        "start_time": "2023-05-15T05:19:05.532Z"
      },
      {
        "duration": 57,
        "start_time": "2023-05-15T05:19:08.181Z"
      },
      {
        "duration": 5,
        "start_time": "2023-05-15T05:19:08.904Z"
      },
      {
        "duration": 317,
        "start_time": "2023-05-15T05:19:11.115Z"
      },
      {
        "duration": 4,
        "start_time": "2023-05-15T05:19:45.754Z"
      },
      {
        "duration": 33,
        "start_time": "2023-05-15T05:19:46.559Z"
      },
      {
        "duration": 793,
        "start_time": "2023-05-15T05:20:17.123Z"
      },
      {
        "duration": 885,
        "start_time": "2023-05-15T05:20:38.901Z"
      },
      {
        "duration": 1030,
        "start_time": "2023-05-15T05:25:16.812Z"
      },
      {
        "duration": 1089,
        "start_time": "2023-05-15T05:26:32.073Z"
      },
      {
        "duration": 873,
        "start_time": "2023-05-15T05:28:35.386Z"
      },
      {
        "duration": 1100,
        "start_time": "2023-05-15T05:34:33.894Z"
      },
      {
        "duration": 918,
        "start_time": "2023-05-15T05:35:00.069Z"
      },
      {
        "duration": 1105,
        "start_time": "2023-05-15T05:35:43.602Z"
      },
      {
        "duration": 640,
        "start_time": "2023-05-15T05:36:23.920Z"
      },
      {
        "duration": 332,
        "start_time": "2023-05-15T05:36:42.751Z"
      },
      {
        "duration": 20,
        "start_time": "2023-05-15T05:37:02.204Z"
      },
      {
        "duration": 17,
        "start_time": "2023-05-15T05:37:20.578Z"
      },
      {
        "duration": 665,
        "start_time": "2023-05-15T05:37:26.180Z"
      },
      {
        "duration": 571,
        "start_time": "2023-05-15T05:37:38.611Z"
      },
      {
        "duration": 838,
        "start_time": "2023-05-15T05:40:24.168Z"
      },
      {
        "duration": 740,
        "start_time": "2023-05-15T05:40:54.346Z"
      },
      {
        "duration": 732,
        "start_time": "2023-05-15T05:41:06.601Z"
      },
      {
        "duration": 5,
        "start_time": "2023-05-15T05:41:23.554Z"
      },
      {
        "duration": 353,
        "start_time": "2023-05-15T05:41:23.947Z"
      },
      {
        "duration": 920,
        "start_time": "2023-05-15T05:41:43.868Z"
      },
      {
        "duration": 738,
        "start_time": "2023-05-15T05:42:08.464Z"
      },
      {
        "duration": 829,
        "start_time": "2023-05-15T05:42:35.851Z"
      },
      {
        "duration": 693,
        "start_time": "2023-05-15T05:43:18.498Z"
      },
      {
        "duration": 722,
        "start_time": "2023-05-15T05:43:47.888Z"
      },
      {
        "duration": 11,
        "start_time": "2023-05-15T05:47:26.660Z"
      },
      {
        "duration": 1327,
        "start_time": "2023-05-15T05:47:50.057Z"
      },
      {
        "duration": 54,
        "start_time": "2023-05-15T05:47:51.385Z"
      },
      {
        "duration": 6,
        "start_time": "2023-05-15T05:47:51.440Z"
      },
      {
        "duration": 274,
        "start_time": "2023-05-15T05:47:51.448Z"
      },
      {
        "duration": 232,
        "start_time": "2023-05-15T05:47:51.723Z"
      },
      {
        "duration": 0,
        "start_time": "2023-05-15T05:47:51.958Z"
      },
      {
        "duration": 0,
        "start_time": "2023-05-15T05:47:51.959Z"
      },
      {
        "duration": 0,
        "start_time": "2023-05-15T05:47:51.961Z"
      },
      {
        "duration": 0,
        "start_time": "2023-05-15T05:47:51.962Z"
      },
      {
        "duration": 0,
        "start_time": "2023-05-15T05:47:51.963Z"
      },
      {
        "duration": 0,
        "start_time": "2023-05-15T05:47:51.965Z"
      },
      {
        "duration": 0,
        "start_time": "2023-05-15T05:47:51.966Z"
      },
      {
        "duration": 0,
        "start_time": "2023-05-15T05:47:51.968Z"
      },
      {
        "duration": 0,
        "start_time": "2023-05-15T05:47:51.969Z"
      },
      {
        "duration": 0,
        "start_time": "2023-05-15T05:47:51.971Z"
      },
      {
        "duration": 0,
        "start_time": "2023-05-15T05:47:51.972Z"
      },
      {
        "duration": 0,
        "start_time": "2023-05-15T05:47:51.973Z"
      },
      {
        "duration": 0,
        "start_time": "2023-05-15T05:47:51.975Z"
      },
      {
        "duration": 154,
        "start_time": "2023-05-15T05:48:28.225Z"
      },
      {
        "duration": 193,
        "start_time": "2023-05-15T05:49:22.457Z"
      },
      {
        "duration": 810,
        "start_time": "2023-05-15T05:49:59.515Z"
      },
      {
        "duration": 474,
        "start_time": "2023-05-15T05:50:18.059Z"
      },
      {
        "duration": 539,
        "start_time": "2023-05-15T05:50:28.105Z"
      },
      {
        "duration": 1315,
        "start_time": "2023-05-15T05:51:04.855Z"
      },
      {
        "duration": 55,
        "start_time": "2023-05-15T05:51:06.172Z"
      },
      {
        "duration": 4,
        "start_time": "2023-05-15T05:51:06.229Z"
      },
      {
        "duration": 283,
        "start_time": "2023-05-15T05:51:06.234Z"
      },
      {
        "duration": 2,
        "start_time": "2023-05-15T05:51:06.519Z"
      },
      {
        "duration": 609,
        "start_time": "2023-05-15T05:51:06.523Z"
      },
      {
        "duration": 4,
        "start_time": "2023-05-15T05:51:07.134Z"
      },
      {
        "duration": 21,
        "start_time": "2023-05-15T05:51:07.140Z"
      },
      {
        "duration": 14,
        "start_time": "2023-05-15T05:51:07.163Z"
      },
      {
        "duration": 5,
        "start_time": "2023-05-15T05:51:07.179Z"
      },
      {
        "duration": 9,
        "start_time": "2023-05-15T05:51:07.186Z"
      },
      {
        "duration": 11,
        "start_time": "2023-05-15T05:51:07.196Z"
      },
      {
        "duration": 1082,
        "start_time": "2023-05-15T05:51:07.253Z"
      },
      {
        "duration": 2,
        "start_time": "2023-05-15T05:51:08.337Z"
      },
      {
        "duration": 83980,
        "start_time": "2023-05-15T05:51:08.341Z"
      },
      {
        "duration": 29,
        "start_time": "2023-05-15T05:52:32.322Z"
      },
      {
        "duration": 104,
        "start_time": "2023-05-15T05:52:32.354Z"
      },
      {
        "duration": 7,
        "start_time": "2023-05-15T05:52:32.460Z"
      },
      {
        "duration": 773,
        "start_time": "2023-05-15T05:52:32.469Z"
      },
      {
        "duration": 120,
        "start_time": "2023-05-15T05:52:33.244Z"
      },
      {
        "duration": 13,
        "start_time": "2023-05-15T05:52:49.889Z"
      },
      {
        "duration": 12,
        "start_time": "2023-05-15T05:53:07.159Z"
      },
      {
        "duration": 4,
        "start_time": "2023-05-15T05:54:18.362Z"
      },
      {
        "duration": 43,
        "start_time": "2023-05-15T05:54:23.728Z"
      },
      {
        "duration": 5,
        "start_time": "2023-05-15T05:54:23.855Z"
      },
      {
        "duration": 262,
        "start_time": "2023-05-15T05:54:25.228Z"
      },
      {
        "duration": 3,
        "start_time": "2023-05-15T05:54:29.916Z"
      },
      {
        "duration": 817,
        "start_time": "2023-05-15T05:54:31.003Z"
      },
      {
        "duration": 1268,
        "start_time": "2023-05-15T05:55:12.809Z"
      },
      {
        "duration": 56,
        "start_time": "2023-05-15T05:55:14.080Z"
      },
      {
        "duration": 4,
        "start_time": "2023-05-15T05:55:14.139Z"
      },
      {
        "duration": 288,
        "start_time": "2023-05-15T05:55:14.146Z"
      },
      {
        "duration": 2,
        "start_time": "2023-05-15T05:55:14.436Z"
      },
      {
        "duration": 909,
        "start_time": "2023-05-15T05:55:14.439Z"
      },
      {
        "duration": 4,
        "start_time": "2023-05-15T05:55:15.350Z"
      },
      {
        "duration": 20,
        "start_time": "2023-05-15T05:55:15.356Z"
      },
      {
        "duration": 15,
        "start_time": "2023-05-15T05:55:15.378Z"
      },
      {
        "duration": 5,
        "start_time": "2023-05-15T05:55:15.396Z"
      },
      {
        "duration": 10,
        "start_time": "2023-05-15T05:55:15.402Z"
      },
      {
        "duration": 42,
        "start_time": "2023-05-15T05:55:15.413Z"
      },
      {
        "duration": 1156,
        "start_time": "2023-05-15T05:55:15.457Z"
      },
      {
        "duration": 3,
        "start_time": "2023-05-15T05:55:16.614Z"
      },
      {
        "duration": 4759,
        "start_time": "2023-05-15T05:55:16.619Z"
      },
      {
        "duration": 7,
        "start_time": "2023-05-15T05:55:21.379Z"
      },
      {
        "duration": 74,
        "start_time": "2023-05-15T05:55:21.389Z"
      },
      {
        "duration": 87,
        "start_time": "2023-05-15T05:55:21.465Z"
      },
      {
        "duration": 757,
        "start_time": "2023-05-15T05:55:21.553Z"
      },
      {
        "duration": 1302,
        "start_time": "2023-05-15T05:55:44.700Z"
      },
      {
        "duration": 51,
        "start_time": "2023-05-15T05:55:46.004Z"
      },
      {
        "duration": 5,
        "start_time": "2023-05-15T05:55:46.057Z"
      },
      {
        "duration": 293,
        "start_time": "2023-05-15T05:55:46.064Z"
      },
      {
        "duration": 2,
        "start_time": "2023-05-15T05:55:46.359Z"
      },
      {
        "duration": 938,
        "start_time": "2023-05-15T05:55:46.362Z"
      },
      {
        "duration": 4,
        "start_time": "2023-05-15T05:55:47.301Z"
      },
      {
        "duration": 25,
        "start_time": "2023-05-15T05:55:47.307Z"
      },
      {
        "duration": 14,
        "start_time": "2023-05-15T05:55:47.334Z"
      },
      {
        "duration": 5,
        "start_time": "2023-05-15T05:55:47.351Z"
      },
      {
        "duration": 15,
        "start_time": "2023-05-15T05:55:47.357Z"
      },
      {
        "duration": 14,
        "start_time": "2023-05-15T05:55:47.374Z"
      },
      {
        "duration": 1205,
        "start_time": "2023-05-15T05:55:47.389Z"
      },
      {
        "duration": 2,
        "start_time": "2023-05-15T05:55:48.596Z"
      },
      {
        "duration": 4839,
        "start_time": "2023-05-15T05:55:48.599Z"
      },
      {
        "duration": 15,
        "start_time": "2023-05-15T05:55:53.439Z"
      },
      {
        "duration": 199,
        "start_time": "2023-05-15T05:55:53.456Z"
      },
      {
        "duration": 6,
        "start_time": "2023-05-15T05:55:53.656Z"
      },
      {
        "duration": 810,
        "start_time": "2023-05-15T05:55:53.664Z"
      },
      {
        "duration": 106,
        "start_time": "2023-05-15T05:56:54.757Z"
      },
      {
        "duration": 14,
        "start_time": "2023-05-15T05:57:42.520Z"
      },
      {
        "duration": 13,
        "start_time": "2023-05-15T05:57:48.325Z"
      },
      {
        "duration": 5,
        "start_time": "2023-05-15T05:58:01.916Z"
      },
      {
        "duration": 45,
        "start_time": "2023-05-15T05:58:02.585Z"
      },
      {
        "duration": 5,
        "start_time": "2023-05-15T05:58:02.883Z"
      },
      {
        "duration": 236,
        "start_time": "2023-05-15T05:58:03.509Z"
      },
      {
        "duration": 3,
        "start_time": "2023-05-15T05:58:07.738Z"
      },
      {
        "duration": 879,
        "start_time": "2023-05-15T05:58:08.420Z"
      },
      {
        "duration": 3,
        "start_time": "2023-05-15T05:59:19.257Z"
      },
      {
        "duration": 46,
        "start_time": "2023-05-15T05:59:19.763Z"
      },
      {
        "duration": 4,
        "start_time": "2023-05-15T05:59:19.908Z"
      },
      {
        "duration": 334,
        "start_time": "2023-05-15T05:59:20.068Z"
      },
      {
        "duration": 2,
        "start_time": "2023-05-15T05:59:23.117Z"
      },
      {
        "duration": 635,
        "start_time": "2023-05-15T05:59:24.277Z"
      },
      {
        "duration": 1508,
        "start_time": "2023-05-15T06:00:36.767Z"
      },
      {
        "duration": 52,
        "start_time": "2023-05-15T06:00:38.279Z"
      },
      {
        "duration": 4,
        "start_time": "2023-05-15T06:00:38.333Z"
      },
      {
        "duration": 286,
        "start_time": "2023-05-15T06:00:38.339Z"
      },
      {
        "duration": 2,
        "start_time": "2023-05-15T06:00:38.627Z"
      },
      {
        "duration": 797,
        "start_time": "2023-05-15T06:00:38.631Z"
      },
      {
        "duration": 5,
        "start_time": "2023-05-15T06:00:39.430Z"
      },
      {
        "duration": 23,
        "start_time": "2023-05-15T06:00:39.437Z"
      },
      {
        "duration": 15,
        "start_time": "2023-05-15T06:00:39.462Z"
      },
      {
        "duration": 5,
        "start_time": "2023-05-15T06:00:39.480Z"
      },
      {
        "duration": 11,
        "start_time": "2023-05-15T06:00:39.487Z"
      },
      {
        "duration": 56,
        "start_time": "2023-05-15T06:00:39.500Z"
      },
      {
        "duration": 1204,
        "start_time": "2023-05-15T06:00:39.558Z"
      },
      {
        "duration": 3,
        "start_time": "2023-05-15T06:00:40.764Z"
      },
      {
        "duration": 5145,
        "start_time": "2023-05-15T06:00:40.769Z"
      },
      {
        "duration": 39,
        "start_time": "2023-05-15T06:00:45.917Z"
      },
      {
        "duration": 104,
        "start_time": "2023-05-15T06:00:45.959Z"
      },
      {
        "duration": 8,
        "start_time": "2023-05-15T06:00:46.065Z"
      },
      {
        "duration": 824,
        "start_time": "2023-05-15T06:00:46.076Z"
      },
      {
        "duration": 1376,
        "start_time": "2023-05-15T06:01:26.457Z"
      },
      {
        "duration": 55,
        "start_time": "2023-05-15T06:01:27.835Z"
      },
      {
        "duration": 6,
        "start_time": "2023-05-15T06:01:27.891Z"
      },
      {
        "duration": 324,
        "start_time": "2023-05-15T06:01:27.901Z"
      },
      {
        "duration": 3,
        "start_time": "2023-05-15T06:01:28.227Z"
      },
      {
        "duration": 856,
        "start_time": "2023-05-15T06:01:28.232Z"
      },
      {
        "duration": 3,
        "start_time": "2023-05-15T06:01:29.090Z"
      },
      {
        "duration": 28,
        "start_time": "2023-05-15T06:01:29.095Z"
      },
      {
        "duration": 15,
        "start_time": "2023-05-15T06:01:29.125Z"
      },
      {
        "duration": 6,
        "start_time": "2023-05-15T06:01:29.143Z"
      },
      {
        "duration": 26,
        "start_time": "2023-05-15T06:01:29.150Z"
      },
      {
        "duration": 14,
        "start_time": "2023-05-15T06:01:29.177Z"
      },
      {
        "duration": 1195,
        "start_time": "2023-05-15T06:01:29.192Z"
      },
      {
        "duration": 3,
        "start_time": "2023-05-15T06:01:30.389Z"
      },
      {
        "duration": 4895,
        "start_time": "2023-05-15T06:01:30.393Z"
      },
      {
        "duration": 63,
        "start_time": "2023-05-15T06:01:35.290Z"
      },
      {
        "duration": 104,
        "start_time": "2023-05-15T06:01:35.356Z"
      },
      {
        "duration": 6,
        "start_time": "2023-05-15T06:01:35.462Z"
      },
      {
        "duration": 755,
        "start_time": "2023-05-15T06:01:35.470Z"
      },
      {
        "duration": 4,
        "start_time": "2023-05-15T06:04:22.056Z"
      },
      {
        "duration": 68,
        "start_time": "2023-05-15T06:04:23.315Z"
      },
      {
        "duration": 5,
        "start_time": "2023-05-15T06:04:23.769Z"
      },
      {
        "duration": 368,
        "start_time": "2023-05-15T06:04:24.664Z"
      },
      {
        "duration": 6,
        "start_time": "2023-05-15T06:04:59.577Z"
      },
      {
        "duration": 40,
        "start_time": "2023-05-15T06:05:00.094Z"
      },
      {
        "duration": 1461,
        "start_time": "2023-05-15T06:05:19.855Z"
      },
      {
        "duration": 59,
        "start_time": "2023-05-15T06:05:21.319Z"
      },
      {
        "duration": 5,
        "start_time": "2023-05-15T06:05:21.380Z"
      },
      {
        "duration": 47,
        "start_time": "2023-05-15T06:05:21.388Z"
      },
      {
        "duration": 3,
        "start_time": "2023-05-15T06:05:21.451Z"
      },
      {
        "duration": 768,
        "start_time": "2023-05-15T06:05:21.456Z"
      },
      {
        "duration": 5,
        "start_time": "2023-05-15T06:05:22.226Z"
      },
      {
        "duration": 46,
        "start_time": "2023-05-15T06:05:22.233Z"
      },
      {
        "duration": 17,
        "start_time": "2023-05-15T06:05:22.281Z"
      },
      {
        "duration": 6,
        "start_time": "2023-05-15T06:05:22.301Z"
      },
      {
        "duration": 24,
        "start_time": "2023-05-15T06:05:22.308Z"
      },
      {
        "duration": 21,
        "start_time": "2023-05-15T06:05:22.334Z"
      },
      {
        "duration": 1248,
        "start_time": "2023-05-15T06:05:22.360Z"
      },
      {
        "duration": 3,
        "start_time": "2023-05-15T06:05:23.610Z"
      },
      {
        "duration": 5120,
        "start_time": "2023-05-15T06:05:23.614Z"
      },
      {
        "duration": 23,
        "start_time": "2023-05-15T06:05:28.736Z"
      },
      {
        "duration": 189,
        "start_time": "2023-05-15T06:05:28.761Z"
      },
      {
        "duration": 8,
        "start_time": "2023-05-15T06:05:28.952Z"
      },
      {
        "duration": 876,
        "start_time": "2023-05-15T06:05:28.962Z"
      },
      {
        "duration": 1707,
        "start_time": "2023-05-15T06:09:22.961Z"
      },
      {
        "duration": 59,
        "start_time": "2023-05-15T06:09:24.670Z"
      },
      {
        "duration": 4,
        "start_time": "2023-05-15T06:09:24.731Z"
      },
      {
        "duration": 46,
        "start_time": "2023-05-15T06:09:24.738Z"
      },
      {
        "duration": 734,
        "start_time": "2023-05-15T06:09:24.786Z"
      },
      {
        "duration": 4,
        "start_time": "2023-05-15T06:09:25.521Z"
      },
      {
        "duration": 25,
        "start_time": "2023-05-15T06:09:25.526Z"
      },
      {
        "duration": 15,
        "start_time": "2023-05-15T06:09:25.553Z"
      },
      {
        "duration": 5,
        "start_time": "2023-05-15T06:09:25.569Z"
      },
      {
        "duration": 8,
        "start_time": "2023-05-15T06:09:25.577Z"
      },
      {
        "duration": 11,
        "start_time": "2023-05-15T06:09:25.587Z"
      },
      {
        "duration": 1105,
        "start_time": "2023-05-15T06:09:25.652Z"
      },
      {
        "duration": 3,
        "start_time": "2023-05-15T06:09:26.759Z"
      },
      {
        "duration": 327437,
        "start_time": "2023-05-15T06:09:26.764Z"
      },
      {
        "duration": 59,
        "start_time": "2023-05-15T06:14:54.203Z"
      },
      {
        "duration": 241,
        "start_time": "2023-05-15T06:14:54.265Z"
      },
      {
        "duration": 9,
        "start_time": "2023-05-15T06:14:54.509Z"
      },
      {
        "duration": 758,
        "start_time": "2023-05-15T06:14:54.520Z"
      },
      {
        "duration": 1289,
        "start_time": "2023-05-15T06:19:04.969Z"
      },
      {
        "duration": 55,
        "start_time": "2023-05-15T06:19:06.260Z"
      },
      {
        "duration": 4,
        "start_time": "2023-05-15T06:19:06.317Z"
      },
      {
        "duration": 33,
        "start_time": "2023-05-15T06:19:06.323Z"
      },
      {
        "duration": 733,
        "start_time": "2023-05-15T06:19:06.358Z"
      },
      {
        "duration": 4,
        "start_time": "2023-05-15T06:19:07.093Z"
      },
      {
        "duration": 24,
        "start_time": "2023-05-15T06:19:07.098Z"
      },
      {
        "duration": 14,
        "start_time": "2023-05-15T06:19:07.123Z"
      },
      {
        "duration": 5,
        "start_time": "2023-05-15T06:19:07.138Z"
      },
      {
        "duration": 16,
        "start_time": "2023-05-15T06:19:07.145Z"
      },
      {
        "duration": 16,
        "start_time": "2023-05-15T06:19:07.162Z"
      },
      {
        "duration": 1189,
        "start_time": "2023-05-15T06:19:07.179Z"
      },
      {
        "duration": 3,
        "start_time": "2023-05-15T06:19:08.369Z"
      },
      {
        "duration": 43711,
        "start_time": "2023-05-15T06:19:08.373Z"
      },
      {
        "duration": 7,
        "start_time": "2023-05-15T06:19:52.085Z"
      },
      {
        "duration": 159,
        "start_time": "2023-05-15T06:19:52.094Z"
      },
      {
        "duration": 17,
        "start_time": "2023-05-15T06:19:52.255Z"
      },
      {
        "duration": 804,
        "start_time": "2023-05-15T06:19:52.274Z"
      },
      {
        "duration": 8,
        "start_time": "2023-05-15T06:20:50.553Z"
      },
      {
        "duration": 1377,
        "start_time": "2023-05-16T05:15:24.597Z"
      },
      {
        "duration": 156,
        "start_time": "2023-05-16T05:15:25.976Z"
      },
      {
        "duration": 5,
        "start_time": "2023-05-16T05:15:26.133Z"
      },
      {
        "duration": 35,
        "start_time": "2023-05-16T05:15:26.140Z"
      },
      {
        "duration": 738,
        "start_time": "2023-05-16T05:15:26.177Z"
      },
      {
        "duration": 3,
        "start_time": "2023-05-16T05:15:26.917Z"
      },
      {
        "duration": 29,
        "start_time": "2023-05-16T05:15:26.922Z"
      },
      {
        "duration": 16,
        "start_time": "2023-05-16T05:15:26.952Z"
      },
      {
        "duration": 5,
        "start_time": "2023-05-16T05:15:26.969Z"
      },
      {
        "duration": 10,
        "start_time": "2023-05-16T05:15:26.976Z"
      },
      {
        "duration": 12,
        "start_time": "2023-05-16T05:15:26.988Z"
      },
      {
        "duration": 1123,
        "start_time": "2023-05-16T05:15:27.051Z"
      },
      {
        "duration": 3,
        "start_time": "2023-05-16T05:15:28.175Z"
      },
      {
        "duration": 42898,
        "start_time": "2023-05-16T05:15:28.179Z"
      },
      {
        "duration": 7,
        "start_time": "2023-05-16T05:16:11.078Z"
      },
      {
        "duration": 164,
        "start_time": "2023-05-16T05:16:11.086Z"
      },
      {
        "duration": 7,
        "start_time": "2023-05-16T05:16:11.252Z"
      },
      {
        "duration": 795,
        "start_time": "2023-05-16T05:16:11.260Z"
      },
      {
        "duration": 1330,
        "start_time": "2023-05-16T05:17:26.524Z"
      },
      {
        "duration": 54,
        "start_time": "2023-05-16T05:17:27.856Z"
      },
      {
        "duration": 4,
        "start_time": "2023-05-16T05:17:27.912Z"
      },
      {
        "duration": 39,
        "start_time": "2023-05-16T05:17:27.918Z"
      },
      {
        "duration": 693,
        "start_time": "2023-05-16T05:17:27.958Z"
      },
      {
        "duration": 3,
        "start_time": "2023-05-16T05:17:28.653Z"
      },
      {
        "duration": 33,
        "start_time": "2023-05-16T05:17:28.658Z"
      },
      {
        "duration": 16,
        "start_time": "2023-05-16T05:17:28.693Z"
      },
      {
        "duration": 6,
        "start_time": "2023-05-16T05:17:28.711Z"
      },
      {
        "duration": 10,
        "start_time": "2023-05-16T05:17:28.720Z"
      },
      {
        "duration": 12,
        "start_time": "2023-05-16T05:17:28.749Z"
      },
      {
        "duration": 1149,
        "start_time": "2023-05-16T05:17:28.763Z"
      },
      {
        "duration": 2,
        "start_time": "2023-05-16T05:17:29.914Z"
      },
      {
        "duration": 42580,
        "start_time": "2023-05-16T05:17:29.917Z"
      },
      {
        "duration": 11,
        "start_time": "2023-05-16T05:18:12.498Z"
      },
      {
        "duration": 100,
        "start_time": "2023-05-16T05:18:12.555Z"
      },
      {
        "duration": 6,
        "start_time": "2023-05-16T05:18:12.657Z"
      },
      {
        "duration": 788,
        "start_time": "2023-05-16T05:18:12.664Z"
      },
      {
        "duration": 1475,
        "start_time": "2023-05-25T07:39:59.896Z"
      },
      {
        "duration": 178,
        "start_time": "2023-05-25T07:40:01.373Z"
      },
      {
        "duration": 6,
        "start_time": "2023-05-25T07:40:01.552Z"
      },
      {
        "duration": 90,
        "start_time": "2023-05-25T07:40:01.560Z"
      },
      {
        "duration": 810,
        "start_time": "2023-05-25T07:40:01.652Z"
      },
      {
        "duration": 6,
        "start_time": "2023-05-25T07:40:02.464Z"
      },
      {
        "duration": 130,
        "start_time": "2023-05-25T07:40:02.472Z"
      },
      {
        "duration": 17,
        "start_time": "2023-05-25T07:40:02.605Z"
      },
      {
        "duration": 11,
        "start_time": "2023-05-25T07:40:02.624Z"
      },
      {
        "duration": 22,
        "start_time": "2023-05-25T07:40:02.637Z"
      },
      {
        "duration": 25,
        "start_time": "2023-05-25T07:40:02.660Z"
      },
      {
        "duration": 1333,
        "start_time": "2023-05-25T07:40:02.686Z"
      },
      {
        "duration": 7,
        "start_time": "2023-05-25T07:40:04.020Z"
      },
      {
        "duration": 47821,
        "start_time": "2023-05-25T07:40:04.032Z"
      },
      {
        "duration": 10,
        "start_time": "2023-05-25T07:40:51.855Z"
      },
      {
        "duration": 175,
        "start_time": "2023-05-25T07:40:51.875Z"
      },
      {
        "duration": 9,
        "start_time": "2023-05-25T07:40:52.052Z"
      },
      {
        "duration": 888,
        "start_time": "2023-05-25T07:40:52.063Z"
      }
    ],
    "kernelspec": {
      "display_name": "Python 3 (ipykernel)",
      "language": "python",
      "name": "python3"
    },
    "language_info": {
      "codemirror_mode": {
        "name": "ipython",
        "version": 3
      },
      "file_extension": ".py",
      "mimetype": "text/x-python",
      "name": "python",
      "nbconvert_exporter": "python",
      "pygments_lexer": "ipython3",
      "version": "3.9.5"
    },
    "toc": {
      "base_numbering": 1,
      "nav_menu": {},
      "number_sections": true,
      "sideBar": true,
      "skip_h1_title": true,
      "title_cell": "Содержание",
      "title_sidebar": "Contents",
      "toc_cell": true,
      "toc_position": {},
      "toc_section_display": true,
      "toc_window_display": false
    },
    "colab": {
      "provenance": [],
      "include_colab_link": true
    }
  },
  "nbformat": 4,
  "nbformat_minor": 0
}
