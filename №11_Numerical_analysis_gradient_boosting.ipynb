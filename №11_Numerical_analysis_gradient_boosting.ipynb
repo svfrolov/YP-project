{
  "cells": [
    {
      "cell_type": "markdown",
      "metadata": {
        "id": "view-in-github",
        "colab_type": "text"
      },
      "source": [
        "<a href=\"https://colab.research.google.com/github/svfrolov/YP-project/blob/main/%E2%84%9611_%D0%9E%D0%BF%D1%80%D0%B5%D0%B4%D0%B5%D0%BB%D0%B5%D0%BD%D0%B8%D0%B5_%D1%81%D1%82%D0%BE%D0%B8%D0%BC%D0%BE%D1%81%D1%82%D0%B8_%D0%B0%D0%B2%D1%82%D0%BE%D0%BC%D0%BE%D0%B1%D0%B8%D0%BB%D0%B5%D0%B9.ipynb\" target=\"_parent\"><img src=\"https://colab.research.google.com/assets/colab-badge.svg\" alt=\"Open In Colab\"/></a>"
      ]
    },
    {
      "cell_type": "markdown",
      "metadata": {
        "id": "NLvdJ20X1ABh"
      },
      "source": [
        "# Определение стоимости автомобилей"
      ]
    },
    {
      "cell_type": "markdown",
      "metadata": {
        "id": "N-DSr2Xj1ABn"
      },
      "source": [
        "Сервис по продаже автомобилей с пробегом «Не бит, не крашен» разрабатывает приложение для привлечения новых клиентов. В нём можно быстро узнать рыночную стоимость своего автомобиля. В вашем распоряжении исторические данные: технические характеристики, комплектации и цены автомобилей. Вам нужно построить модель для определения стоимости. \n",
        "\n",
        "**Заказчику важны:**\n",
        "\n",
        "- качество предсказания;\n",
        "- скорость предсказания;\n",
        "- время обучения."
      ]
    },
    {
      "cell_type": "markdown",
      "metadata": {
        "id": "Ees7AN_b1ABp"
      },
      "source": [
        "# Основные шаги:\n",
        "\n",
        "* Загрузим данные, путь к файлу: /datasets/autos.csv.\n",
        "* Изучим данные. Заполним пропущенные значения и обработаем аномалии в столбцах. Если среди признаков имеются неинформативные, удалим их.\n",
        "* Подготовим выборки для обучения моделей.\n",
        "* Обучим разные модели, одна из которых — LightGBM, как минимум одна — не бустинг. Для каждой модели попробуем разные гиперпараметры.\n",
        "* Проанализируем время обучения, время предсказания и качество моделей.\n",
        "* Опираясь на критерии заказчика, выберем лучшую модель, проверим её качество на тестовой выборке.\n"
      ]
    },
    {
      "cell_type": "markdown",
      "metadata": {
        "id": "fXRNW-2Y1ABq"
      },
      "source": [
        "# Описание данных:\n",
        "\n",
        "**Признаки**\n",
        "1.  **DateCrawled — дата скачивания анкеты из базы**\n",
        "2.  VehicleType — тип автомобильного кузова\n",
        "3.  RegistrationYear — год регистрации автомобиля\n",
        "4.  Gearbox — тип коробки передач\n",
        "5.  Power — мощность (л. с.)\n",
        "6.  Model — модель автомобиля\n",
        "7.  Kilometer — пробег (км)\n",
        "8.  **RegistrationMonth — месяц регистрации автомобиля**\n",
        "9.  FuelType — тип топлива\n",
        "10. Brand — марка автомобиля\n",
        "11. Repaired — была машина в ремонте или нет\n",
        "12. **DateCreated — дата создания анкеты**\n",
        "14. **NumberOfPictures — количество фотографий автомобиля**\n",
        "15. **PostalCode — почтовый индекс владельца анкеты (пользователя)**\n",
        "\n",
        "**Целевой признак**\n",
        "- Price — цена (евро)"
      ]
    },
    {
      "cell_type": "markdown",
      "metadata": {
        "id": "ZP3qqTyY1ABq"
      },
      "source": [
        "# Примечания:\n",
        "\n",
        "* Для оценки качества моделей применим метрику RMSE. Значение метрики RMSE должно быть меньше 2500.\n",
        "* Используем библиотеку LightGBM и её средствами построим модели градиентного бустинга.\n",
        "* Время выполнения ячейки кода Jupyter Notebook можно получить специальной командой. Найдем её.\n",
        "* Модель градиентного бустинга может долго обучаться, поэтому изменим у неё только два-три параметра.\n",
        "\n",
        "**Если перестанет работать Jupyter Notebook, удалим лишние переменные оператором del.**\n",
        "\n",
        "\n",
        "del features_train"
      ]
    },
    {
      "cell_type": "markdown",
      "metadata": {
        "id": "th52Rfgm1ABr"
      },
      "source": [
        "## Подготовка данных"
      ]
    },
    {
      "cell_type": "code",
      "execution_count": null,
      "metadata": {
        "id": "qwoWwHnW1ABr"
      },
      "outputs": [],
      "source": [
        "import pandas as pd; pd.set_option('display.max_columns', None)\n",
        "import matplotlib.pyplot as plt\n",
        "\n",
        "import seaborn as sn\n",
        "import seaborn as sns\n",
        "import numpy as np\n",
        "\n",
        "from sklearn.model_selection import GridSearchCV\n",
        "from sklearn.preprocessing import StandardScaler\n",
        "from sklearn.model_selection import cross_val_score\n",
        "from sklearn.model_selection import train_test_split, RandomizedSearchCV\n",
        "from sklearn.preprocessing import StandardScaler, OrdinalEncoder, OneHotEncoder\n",
        "from sklearn.metrics import mean_squared_error\n",
        "\n",
        "from sklearn.linear_model import LinearRegression\n",
        "from lightgbm import LGBMRegressor\n",
        "from sklearn.tree import DecisionTreeRegressor\n",
        "\n",
        "import time\n",
        "from datetime import datetime"
      ]
    },
    {
      "cell_type": "code",
      "execution_count": null,
      "metadata": {
        "id": "QKZ1xmWI1ABt"
      },
      "outputs": [],
      "source": [
        "data = pd.read_csv('/datasets/autos.csv')"
      ]
    },
    {
      "cell_type": "markdown",
      "metadata": {
        "id": "T2jVzd-e1ABu"
      },
      "source": [
        "### Проанализируем признаки"
      ]
    },
    {
      "cell_type": "code",
      "execution_count": null,
      "metadata": {
        "id": "Il5QSHsO1ABu"
      },
      "outputs": [],
      "source": [
        "def general_info(data):\n",
        "    print(\"Общее количество пропущенных значений:\")\n",
        "    display(data.isnull().sum())\n",
        "    print()\n",
        "    \n",
        "    print(\"Общая информация о датафрейме:\")\n",
        "    display(data.info())\n",
        "    print()    \n",
        "    \n",
        "    print(\"корреляционная матрица:\")\n",
        "    display(data.corr())\n",
        "    print()    \n",
        "    \n",
        "    print(\"Статистические характеристики датафрейма:\")\n",
        "    display(data.describe())\n",
        "    print()\n",
        "    \n",
        "    print(\"Первые 5 строк датафрейма:\")\n",
        "    display(data.head())\n",
        "    print()\n",
        "    \n",
        "    print(\"Количество дублирующихся строк в датафрейме: {}\".format(data.duplicated().sum()))"
      ]
    },
    {
      "cell_type": "code",
      "execution_count": null,
      "metadata": {
        "scrolled": false,
        "id": "EmvQ9ULV1ABv",
        "outputId": "dac07032-fd4b-46bf-9cfa-6a12d00864d8"
      },
      "outputs": [
        {
          "name": "stdout",
          "output_type": "stream",
          "text": [
            "Общее количество пропущенных значений:\n"
          ]
        },
        {
          "data": {
            "text/plain": [
              "DateCrawled              0\n",
              "Price                    0\n",
              "VehicleType          37490\n",
              "RegistrationYear         0\n",
              "Gearbox              19833\n",
              "Power                    0\n",
              "Model                19705\n",
              "Kilometer                0\n",
              "RegistrationMonth        0\n",
              "FuelType             32895\n",
              "Brand                    0\n",
              "Repaired             71154\n",
              "DateCreated              0\n",
              "NumberOfPictures         0\n",
              "PostalCode               0\n",
              "LastSeen                 0\n",
              "dtype: int64"
            ]
          },
          "metadata": {},
          "output_type": "display_data"
        },
        {
          "name": "stdout",
          "output_type": "stream",
          "text": [
            "\n",
            "Общая информация о датафрейме:\n",
            "<class 'pandas.core.frame.DataFrame'>\n",
            "RangeIndex: 354369 entries, 0 to 354368\n",
            "Data columns (total 16 columns):\n",
            " #   Column             Non-Null Count   Dtype \n",
            "---  ------             --------------   ----- \n",
            " 0   DateCrawled        354369 non-null  object\n",
            " 1   Price              354369 non-null  int64 \n",
            " 2   VehicleType        316879 non-null  object\n",
            " 3   RegistrationYear   354369 non-null  int64 \n",
            " 4   Gearbox            334536 non-null  object\n",
            " 5   Power              354369 non-null  int64 \n",
            " 6   Model              334664 non-null  object\n",
            " 7   Kilometer          354369 non-null  int64 \n",
            " 8   RegistrationMonth  354369 non-null  int64 \n",
            " 9   FuelType           321474 non-null  object\n",
            " 10  Brand              354369 non-null  object\n",
            " 11  Repaired           283215 non-null  object\n",
            " 12  DateCreated        354369 non-null  object\n",
            " 13  NumberOfPictures   354369 non-null  int64 \n",
            " 14  PostalCode         354369 non-null  int64 \n",
            " 15  LastSeen           354369 non-null  object\n",
            "dtypes: int64(7), object(9)\n",
            "memory usage: 43.3+ MB\n"
          ]
        },
        {
          "data": {
            "text/plain": [
              "None"
            ]
          },
          "metadata": {},
          "output_type": "display_data"
        },
        {
          "name": "stdout",
          "output_type": "stream",
          "text": [
            "\n",
            "корреляционная матрица:\n"
          ]
        },
        {
          "data": {
            "text/html": [
              "<div>\n",
              "<style scoped>\n",
              "    .dataframe tbody tr th:only-of-type {\n",
              "        vertical-align: middle;\n",
              "    }\n",
              "\n",
              "    .dataframe tbody tr th {\n",
              "        vertical-align: top;\n",
              "    }\n",
              "\n",
              "    .dataframe thead th {\n",
              "        text-align: right;\n",
              "    }\n",
              "</style>\n",
              "<table border=\"1\" class=\"dataframe\">\n",
              "  <thead>\n",
              "    <tr style=\"text-align: right;\">\n",
              "      <th></th>\n",
              "      <th>Price</th>\n",
              "      <th>RegistrationYear</th>\n",
              "      <th>Power</th>\n",
              "      <th>Kilometer</th>\n",
              "      <th>RegistrationMonth</th>\n",
              "      <th>NumberOfPictures</th>\n",
              "      <th>PostalCode</th>\n",
              "    </tr>\n",
              "  </thead>\n",
              "  <tbody>\n",
              "    <tr>\n",
              "      <th>Price</th>\n",
              "      <td>1.000000</td>\n",
              "      <td>0.026916</td>\n",
              "      <td>0.158872</td>\n",
              "      <td>-0.333199</td>\n",
              "      <td>0.110581</td>\n",
              "      <td>NaN</td>\n",
              "      <td>0.076055</td>\n",
              "    </tr>\n",
              "    <tr>\n",
              "      <th>RegistrationYear</th>\n",
              "      <td>0.026916</td>\n",
              "      <td>1.000000</td>\n",
              "      <td>-0.000828</td>\n",
              "      <td>-0.053447</td>\n",
              "      <td>-0.011619</td>\n",
              "      <td>NaN</td>\n",
              "      <td>-0.003459</td>\n",
              "    </tr>\n",
              "    <tr>\n",
              "      <th>Power</th>\n",
              "      <td>0.158872</td>\n",
              "      <td>-0.000828</td>\n",
              "      <td>1.000000</td>\n",
              "      <td>0.024002</td>\n",
              "      <td>0.043380</td>\n",
              "      <td>NaN</td>\n",
              "      <td>0.021665</td>\n",
              "    </tr>\n",
              "    <tr>\n",
              "      <th>Kilometer</th>\n",
              "      <td>-0.333199</td>\n",
              "      <td>-0.053447</td>\n",
              "      <td>0.024002</td>\n",
              "      <td>1.000000</td>\n",
              "      <td>0.009571</td>\n",
              "      <td>NaN</td>\n",
              "      <td>-0.007698</td>\n",
              "    </tr>\n",
              "    <tr>\n",
              "      <th>RegistrationMonth</th>\n",
              "      <td>0.110581</td>\n",
              "      <td>-0.011619</td>\n",
              "      <td>0.043380</td>\n",
              "      <td>0.009571</td>\n",
              "      <td>1.000000</td>\n",
              "      <td>NaN</td>\n",
              "      <td>0.013995</td>\n",
              "    </tr>\n",
              "    <tr>\n",
              "      <th>NumberOfPictures</th>\n",
              "      <td>NaN</td>\n",
              "      <td>NaN</td>\n",
              "      <td>NaN</td>\n",
              "      <td>NaN</td>\n",
              "      <td>NaN</td>\n",
              "      <td>NaN</td>\n",
              "      <td>NaN</td>\n",
              "    </tr>\n",
              "    <tr>\n",
              "      <th>PostalCode</th>\n",
              "      <td>0.076055</td>\n",
              "      <td>-0.003459</td>\n",
              "      <td>0.021665</td>\n",
              "      <td>-0.007698</td>\n",
              "      <td>0.013995</td>\n",
              "      <td>NaN</td>\n",
              "      <td>1.000000</td>\n",
              "    </tr>\n",
              "  </tbody>\n",
              "</table>\n",
              "</div>"
            ],
            "text/plain": [
              "                      Price  RegistrationYear     Power  Kilometer  \\\n",
              "Price              1.000000          0.026916  0.158872  -0.333199   \n",
              "RegistrationYear   0.026916          1.000000 -0.000828  -0.053447   \n",
              "Power              0.158872         -0.000828  1.000000   0.024002   \n",
              "Kilometer         -0.333199         -0.053447  0.024002   1.000000   \n",
              "RegistrationMonth  0.110581         -0.011619  0.043380   0.009571   \n",
              "NumberOfPictures        NaN               NaN       NaN        NaN   \n",
              "PostalCode         0.076055         -0.003459  0.021665  -0.007698   \n",
              "\n",
              "                   RegistrationMonth  NumberOfPictures  PostalCode  \n",
              "Price                       0.110581               NaN    0.076055  \n",
              "RegistrationYear           -0.011619               NaN   -0.003459  \n",
              "Power                       0.043380               NaN    0.021665  \n",
              "Kilometer                   0.009571               NaN   -0.007698  \n",
              "RegistrationMonth           1.000000               NaN    0.013995  \n",
              "NumberOfPictures                 NaN               NaN         NaN  \n",
              "PostalCode                  0.013995               NaN    1.000000  "
            ]
          },
          "metadata": {},
          "output_type": "display_data"
        },
        {
          "name": "stdout",
          "output_type": "stream",
          "text": [
            "\n",
            "Статистические характеристики датафрейма:\n"
          ]
        },
        {
          "data": {
            "text/html": [
              "<div>\n",
              "<style scoped>\n",
              "    .dataframe tbody tr th:only-of-type {\n",
              "        vertical-align: middle;\n",
              "    }\n",
              "\n",
              "    .dataframe tbody tr th {\n",
              "        vertical-align: top;\n",
              "    }\n",
              "\n",
              "    .dataframe thead th {\n",
              "        text-align: right;\n",
              "    }\n",
              "</style>\n",
              "<table border=\"1\" class=\"dataframe\">\n",
              "  <thead>\n",
              "    <tr style=\"text-align: right;\">\n",
              "      <th></th>\n",
              "      <th>Price</th>\n",
              "      <th>RegistrationYear</th>\n",
              "      <th>Power</th>\n",
              "      <th>Kilometer</th>\n",
              "      <th>RegistrationMonth</th>\n",
              "      <th>NumberOfPictures</th>\n",
              "      <th>PostalCode</th>\n",
              "    </tr>\n",
              "  </thead>\n",
              "  <tbody>\n",
              "    <tr>\n",
              "      <th>count</th>\n",
              "      <td>354369.000000</td>\n",
              "      <td>354369.000000</td>\n",
              "      <td>354369.000000</td>\n",
              "      <td>354369.000000</td>\n",
              "      <td>354369.000000</td>\n",
              "      <td>354369.0</td>\n",
              "      <td>354369.000000</td>\n",
              "    </tr>\n",
              "    <tr>\n",
              "      <th>mean</th>\n",
              "      <td>4416.656776</td>\n",
              "      <td>2004.234448</td>\n",
              "      <td>110.094337</td>\n",
              "      <td>128211.172535</td>\n",
              "      <td>5.714645</td>\n",
              "      <td>0.0</td>\n",
              "      <td>50508.689087</td>\n",
              "    </tr>\n",
              "    <tr>\n",
              "      <th>std</th>\n",
              "      <td>4514.158514</td>\n",
              "      <td>90.227958</td>\n",
              "      <td>189.850405</td>\n",
              "      <td>37905.341530</td>\n",
              "      <td>3.726421</td>\n",
              "      <td>0.0</td>\n",
              "      <td>25783.096248</td>\n",
              "    </tr>\n",
              "    <tr>\n",
              "      <th>min</th>\n",
              "      <td>0.000000</td>\n",
              "      <td>1000.000000</td>\n",
              "      <td>0.000000</td>\n",
              "      <td>5000.000000</td>\n",
              "      <td>0.000000</td>\n",
              "      <td>0.0</td>\n",
              "      <td>1067.000000</td>\n",
              "    </tr>\n",
              "    <tr>\n",
              "      <th>25%</th>\n",
              "      <td>1050.000000</td>\n",
              "      <td>1999.000000</td>\n",
              "      <td>69.000000</td>\n",
              "      <td>125000.000000</td>\n",
              "      <td>3.000000</td>\n",
              "      <td>0.0</td>\n",
              "      <td>30165.000000</td>\n",
              "    </tr>\n",
              "    <tr>\n",
              "      <th>50%</th>\n",
              "      <td>2700.000000</td>\n",
              "      <td>2003.000000</td>\n",
              "      <td>105.000000</td>\n",
              "      <td>150000.000000</td>\n",
              "      <td>6.000000</td>\n",
              "      <td>0.0</td>\n",
              "      <td>49413.000000</td>\n",
              "    </tr>\n",
              "    <tr>\n",
              "      <th>75%</th>\n",
              "      <td>6400.000000</td>\n",
              "      <td>2008.000000</td>\n",
              "      <td>143.000000</td>\n",
              "      <td>150000.000000</td>\n",
              "      <td>9.000000</td>\n",
              "      <td>0.0</td>\n",
              "      <td>71083.000000</td>\n",
              "    </tr>\n",
              "    <tr>\n",
              "      <th>max</th>\n",
              "      <td>20000.000000</td>\n",
              "      <td>9999.000000</td>\n",
              "      <td>20000.000000</td>\n",
              "      <td>150000.000000</td>\n",
              "      <td>12.000000</td>\n",
              "      <td>0.0</td>\n",
              "      <td>99998.000000</td>\n",
              "    </tr>\n",
              "  </tbody>\n",
              "</table>\n",
              "</div>"
            ],
            "text/plain": [
              "               Price  RegistrationYear          Power      Kilometer  \\\n",
              "count  354369.000000     354369.000000  354369.000000  354369.000000   \n",
              "mean     4416.656776       2004.234448     110.094337  128211.172535   \n",
              "std      4514.158514         90.227958     189.850405   37905.341530   \n",
              "min         0.000000       1000.000000       0.000000    5000.000000   \n",
              "25%      1050.000000       1999.000000      69.000000  125000.000000   \n",
              "50%      2700.000000       2003.000000     105.000000  150000.000000   \n",
              "75%      6400.000000       2008.000000     143.000000  150000.000000   \n",
              "max     20000.000000       9999.000000   20000.000000  150000.000000   \n",
              "\n",
              "       RegistrationMonth  NumberOfPictures     PostalCode  \n",
              "count      354369.000000          354369.0  354369.000000  \n",
              "mean            5.714645               0.0   50508.689087  \n",
              "std             3.726421               0.0   25783.096248  \n",
              "min             0.000000               0.0    1067.000000  \n",
              "25%             3.000000               0.0   30165.000000  \n",
              "50%             6.000000               0.0   49413.000000  \n",
              "75%             9.000000               0.0   71083.000000  \n",
              "max            12.000000               0.0   99998.000000  "
            ]
          },
          "metadata": {},
          "output_type": "display_data"
        },
        {
          "name": "stdout",
          "output_type": "stream",
          "text": [
            "\n",
            "Первые 5 строк датафрейма:\n"
          ]
        },
        {
          "data": {
            "text/html": [
              "<div>\n",
              "<style scoped>\n",
              "    .dataframe tbody tr th:only-of-type {\n",
              "        vertical-align: middle;\n",
              "    }\n",
              "\n",
              "    .dataframe tbody tr th {\n",
              "        vertical-align: top;\n",
              "    }\n",
              "\n",
              "    .dataframe thead th {\n",
              "        text-align: right;\n",
              "    }\n",
              "</style>\n",
              "<table border=\"1\" class=\"dataframe\">\n",
              "  <thead>\n",
              "    <tr style=\"text-align: right;\">\n",
              "      <th></th>\n",
              "      <th>DateCrawled</th>\n",
              "      <th>Price</th>\n",
              "      <th>VehicleType</th>\n",
              "      <th>RegistrationYear</th>\n",
              "      <th>Gearbox</th>\n",
              "      <th>Power</th>\n",
              "      <th>Model</th>\n",
              "      <th>Kilometer</th>\n",
              "      <th>RegistrationMonth</th>\n",
              "      <th>FuelType</th>\n",
              "      <th>Brand</th>\n",
              "      <th>Repaired</th>\n",
              "      <th>DateCreated</th>\n",
              "      <th>NumberOfPictures</th>\n",
              "      <th>PostalCode</th>\n",
              "      <th>LastSeen</th>\n",
              "    </tr>\n",
              "  </thead>\n",
              "  <tbody>\n",
              "    <tr>\n",
              "      <th>0</th>\n",
              "      <td>2016-03-24 11:52:17</td>\n",
              "      <td>480</td>\n",
              "      <td>NaN</td>\n",
              "      <td>1993</td>\n",
              "      <td>manual</td>\n",
              "      <td>0</td>\n",
              "      <td>golf</td>\n",
              "      <td>150000</td>\n",
              "      <td>0</td>\n",
              "      <td>petrol</td>\n",
              "      <td>volkswagen</td>\n",
              "      <td>NaN</td>\n",
              "      <td>2016-03-24 00:00:00</td>\n",
              "      <td>0</td>\n",
              "      <td>70435</td>\n",
              "      <td>2016-04-07 03:16:57</td>\n",
              "    </tr>\n",
              "    <tr>\n",
              "      <th>1</th>\n",
              "      <td>2016-03-24 10:58:45</td>\n",
              "      <td>18300</td>\n",
              "      <td>coupe</td>\n",
              "      <td>2011</td>\n",
              "      <td>manual</td>\n",
              "      <td>190</td>\n",
              "      <td>NaN</td>\n",
              "      <td>125000</td>\n",
              "      <td>5</td>\n",
              "      <td>gasoline</td>\n",
              "      <td>audi</td>\n",
              "      <td>yes</td>\n",
              "      <td>2016-03-24 00:00:00</td>\n",
              "      <td>0</td>\n",
              "      <td>66954</td>\n",
              "      <td>2016-04-07 01:46:50</td>\n",
              "    </tr>\n",
              "    <tr>\n",
              "      <th>2</th>\n",
              "      <td>2016-03-14 12:52:21</td>\n",
              "      <td>9800</td>\n",
              "      <td>suv</td>\n",
              "      <td>2004</td>\n",
              "      <td>auto</td>\n",
              "      <td>163</td>\n",
              "      <td>grand</td>\n",
              "      <td>125000</td>\n",
              "      <td>8</td>\n",
              "      <td>gasoline</td>\n",
              "      <td>jeep</td>\n",
              "      <td>NaN</td>\n",
              "      <td>2016-03-14 00:00:00</td>\n",
              "      <td>0</td>\n",
              "      <td>90480</td>\n",
              "      <td>2016-04-05 12:47:46</td>\n",
              "    </tr>\n",
              "    <tr>\n",
              "      <th>3</th>\n",
              "      <td>2016-03-17 16:54:04</td>\n",
              "      <td>1500</td>\n",
              "      <td>small</td>\n",
              "      <td>2001</td>\n",
              "      <td>manual</td>\n",
              "      <td>75</td>\n",
              "      <td>golf</td>\n",
              "      <td>150000</td>\n",
              "      <td>6</td>\n",
              "      <td>petrol</td>\n",
              "      <td>volkswagen</td>\n",
              "      <td>no</td>\n",
              "      <td>2016-03-17 00:00:00</td>\n",
              "      <td>0</td>\n",
              "      <td>91074</td>\n",
              "      <td>2016-03-17 17:40:17</td>\n",
              "    </tr>\n",
              "    <tr>\n",
              "      <th>4</th>\n",
              "      <td>2016-03-31 17:25:20</td>\n",
              "      <td>3600</td>\n",
              "      <td>small</td>\n",
              "      <td>2008</td>\n",
              "      <td>manual</td>\n",
              "      <td>69</td>\n",
              "      <td>fabia</td>\n",
              "      <td>90000</td>\n",
              "      <td>7</td>\n",
              "      <td>gasoline</td>\n",
              "      <td>skoda</td>\n",
              "      <td>no</td>\n",
              "      <td>2016-03-31 00:00:00</td>\n",
              "      <td>0</td>\n",
              "      <td>60437</td>\n",
              "      <td>2016-04-06 10:17:21</td>\n",
              "    </tr>\n",
              "  </tbody>\n",
              "</table>\n",
              "</div>"
            ],
            "text/plain": [
              "           DateCrawled  Price VehicleType  RegistrationYear Gearbox  Power  \\\n",
              "0  2016-03-24 11:52:17    480         NaN              1993  manual      0   \n",
              "1  2016-03-24 10:58:45  18300       coupe              2011  manual    190   \n",
              "2  2016-03-14 12:52:21   9800         suv              2004    auto    163   \n",
              "3  2016-03-17 16:54:04   1500       small              2001  manual     75   \n",
              "4  2016-03-31 17:25:20   3600       small              2008  manual     69   \n",
              "\n",
              "   Model  Kilometer  RegistrationMonth  FuelType       Brand Repaired  \\\n",
              "0   golf     150000                  0    petrol  volkswagen      NaN   \n",
              "1    NaN     125000                  5  gasoline        audi      yes   \n",
              "2  grand     125000                  8  gasoline        jeep      NaN   \n",
              "3   golf     150000                  6    petrol  volkswagen       no   \n",
              "4  fabia      90000                  7  gasoline       skoda       no   \n",
              "\n",
              "           DateCreated  NumberOfPictures  PostalCode             LastSeen  \n",
              "0  2016-03-24 00:00:00                 0       70435  2016-04-07 03:16:57  \n",
              "1  2016-03-24 00:00:00                 0       66954  2016-04-07 01:46:50  \n",
              "2  2016-03-14 00:00:00                 0       90480  2016-04-05 12:47:46  \n",
              "3  2016-03-17 00:00:00                 0       91074  2016-03-17 17:40:17  \n",
              "4  2016-03-31 00:00:00                 0       60437  2016-04-06 10:17:21  "
            ]
          },
          "metadata": {},
          "output_type": "display_data"
        },
        {
          "name": "stdout",
          "output_type": "stream",
          "text": [
            "\n",
            "Количество дублирующихся строк в датафрейме: 4\n"
          ]
        }
      ],
      "source": [
        "general_info(data)"
      ]
    },
    {
      "cell_type": "markdown",
      "metadata": {
        "id": "3C--mZ-j1ABw"
      },
      "source": [
        "### Последние созданные анкеты"
      ]
    },
    {
      "cell_type": "code",
      "execution_count": null,
      "metadata": {
        "id": "JNbCYpwU1ABx",
        "outputId": "54b6c866-2bf4-41c7-be74-b944f2b549fe"
      },
      "outputs": [
        {
          "name": "stdout",
          "output_type": "stream",
          "text": [
            "323825    2016-04-07 00:00:00\n",
            "238423    2016-04-07 00:00:00\n",
            "218464    2016-04-07 00:00:00\n",
            "8823      2016-04-07 00:00:00\n",
            "136456    2016-04-07 00:00:00\n",
            "Name: DateCreated, dtype: object\n"
          ]
        }
      ],
      "source": [
        "sorted_data = data.sort_values(by='DateCreated', ascending=False)\n",
        "print(sorted_data['DateCreated'].head())"
      ]
    },
    {
      "cell_type": "markdown",
      "metadata": {
        "id": "seCJWDpM1ABx"
      },
      "source": [
        "### Удалим ненужные для работы данные\n",
        "\n",
        "**Данные признаки не оказывают влияния на рыночную стоимость, поэтому далим их**\n",
        "\n",
        "- *DateCrawled — дата скачивания анкеты из базы*\n",
        "\n",
        "- *RegistrationMonth — месяц регистрации автомобиля*\n",
        "\n",
        "- *DateCreated — дата создания анкеты*\n",
        "\n",
        "- *NumberOfPictures — количество фотографий автомобиля*\n",
        "\n",
        "- *PostalCode — почтовый индекс владельца анкеты (пользователя)*"
      ]
    },
    {
      "cell_type": "code",
      "execution_count": null,
      "metadata": {
        "id": "TdD_9FwB1ABy",
        "outputId": "d612f8dc-1821-463d-ebca-0e0ca4f49a3e"
      },
      "outputs": [
        {
          "name": "stdout",
          "output_type": "stream",
          "text": [
            "Кол-во строк перед удалением (354369, 16) 354369\n",
            "Кол-во строк после удаления (354369, 10) 354369\n"
          ]
        }
      ],
      "source": [
        "print(\"Кол-во строк перед удалением\", data.shape, len(data))\n",
        "data = data.drop(['DateCrawled', 'RegistrationMonth', 'DateCreated', 'LastSeen', 'NumberOfPictures', 'PostalCode'], axis=1)\n",
        "print(\"Кол-во строк после удаления\", data.shape, len(data))"
      ]
    },
    {
      "cell_type": "code",
      "execution_count": null,
      "metadata": {
        "id": "imPaN75k1ABy",
        "outputId": "d0454066-c4c9-4d83-9774-a1d175ffc420"
      },
      "outputs": [
        {
          "data": {
            "image/png": "[encoded data removed]",
            "text/plain": [
              "<Figure size 1080x720 with 2 Axes>"
            ]
          },
          "metadata": {
            "needs_background": "light"
          },
          "output_type": "display_data"
        }
      ],
      "source": [
        "cr = data.corr()\n",
        "plt.figure(figsize=(15,10))\n",
        "sns.heatmap(cr, annot = True, cmap=\"YlGnBu\", square=False)\n",
        "\n",
        "plt.title('Корреляция признаков', fontsize = 20)\n",
        "plt.xlabel('Признаки', fontsize = 20)\n",
        "plt.ylabel('Признаки', fontsize = 20)\n",
        "plt.show()"
      ]
    },
    {
      "cell_type": "code",
      "execution_count": null,
      "metadata": {
        "id": "aEjE_GNj1ABz",
        "outputId": "e5f0511c-41e6-430f-cc51-3bb36fef5fac"
      },
      "outputs": [
        {
          "name": "stdout",
          "output_type": "stream",
          "text": [
            "['volkswagen' 'audi' 'jeep' 'skoda' 'bmw' 'peugeot' 'ford' 'mazda'\n",
            " 'nissan' 'renault' 'mercedes_benz' 'opel' 'seat' 'citroen' 'honda' 'fiat'\n",
            " 'mini' 'smart' 'hyundai' 'sonstige_autos' 'alfa_romeo' 'subaru' 'volvo'\n",
            " 'mitsubishi' 'kia' 'suzuki' 'lancia' 'toyota' 'chevrolet' 'dacia'\n",
            " 'daihatsu' 'trabant' 'saab' 'chrysler' 'jaguar' 'daewoo' 'porsche'\n",
            " 'rover' 'land_rover' 'lada']\n"
          ]
        }
      ],
      "source": [
        "print(data['Brand'].unique())"
      ]
    },
    {
      "cell_type": "markdown",
      "metadata": {
        "id": "cnx6tG7-1ABz"
      },
      "source": [
        "'sonstige_autos' - другие авто (такого бренда нет) - собирательное название разных редких моделей\n",
        "\n",
        "**Удалим этот \"Брэнд\"**"
      ]
    },
    {
      "cell_type": "code",
      "execution_count": null,
      "metadata": {
        "id": "IgeOXzoh1AB0",
        "outputId": "b70ed8c5-eb92-4720-b19c-ae4642fd5e71"
      },
      "outputs": [
        {
          "name": "stdout",
          "output_type": "stream",
          "text": [
            "Кол-во строк перед удалением (354369, 10) 354369\n",
            "Кол-во строк после удаления (350995, 10) 350995\n"
          ]
        }
      ],
      "source": [
        "print(\"Кол-во строк перед удалением\", data.shape, len(data))\n",
        "data = data[data['Brand'] != 'sonstige_autos']\n",
        "print(\"Кол-во строк после удаления\", data.shape, len(data))"
      ]
    },
    {
      "cell_type": "code",
      "execution_count": null,
      "metadata": {
        "id": "a9NJ1oaU1AB0",
        "outputId": "7e93fd9e-f82f-46a6-f4ba-847f48b257a7"
      },
      "outputs": [
        {
          "data": {
            "image/png": "[encoded data removed]",
            "text/plain": [
              "<Figure size 1080x1440 with 4 Axes>"
            ]
          },
          "metadata": {
            "needs_background": "light"
          },
          "output_type": "display_data"
        }
      ],
      "source": [
        "data.hist(figsize=(15, 20));"
      ]
    },
    {
      "cell_type": "markdown",
      "metadata": {
        "id": "GFNMsQGC1AB1"
      },
      "source": [
        "### Избавимся от пропусков"
      ]
    },
    {
      "cell_type": "code",
      "execution_count": null,
      "metadata": {
        "scrolled": true,
        "id": "P-O2EVpO1AB1",
        "outputId": "e71892a4-2617-4d3c-8124-bd4552d0f79a"
      },
      "outputs": [
        {
          "data": {
            "text/plain": [
              "Price                   0\n",
              "VehicleType         36449\n",
              "RegistrationYear        0\n",
              "Gearbox             18730\n",
              "Power                   0\n",
              "Model               16331\n",
              "Kilometer               0\n",
              "FuelType            31791\n",
              "Brand                   0\n",
              "Repaired            69831\n",
              "dtype: int64"
            ]
          },
          "execution_count": 11,
          "metadata": {},
          "output_type": "execute_result"
        }
      ],
      "source": [
        "data.isnull().sum()"
      ]
    },
    {
      "cell_type": "markdown",
      "metadata": {
        "id": "sy7UtiI51AB2"
      },
      "source": [
        "*Нет возможности корректно заполнить прропуски в столбце* **'Model'**\n",
        "\n",
        "**Удалим пропуски.** \n",
        "\n",
        "*(Ни марка авто, ни год выпуска, ни топливо не дают возможности понять какая модель и по ним заполнить пропуски)*"
      ]
    },
    {
      "cell_type": "code",
      "execution_count": null,
      "metadata": {
        "id": "Ay5QB1sF1AB2",
        "outputId": "2c4c65b7-469f-41b0-e7ec-0e6b8d9ab0ea"
      },
      "outputs": [
        {
          "name": "stdout",
          "output_type": "stream",
          "text": [
            "Кол-во строк перед удалением (350995, 10) 350995\n",
            "Кол-во строк после удаления (334664, 10) 334664\n"
          ]
        }
      ],
      "source": [
        "print(\"Кол-во строк перед удалением\", data.shape, len(data))\n",
        "data = data.dropna(subset=['Model'])\n",
        "print(\"Кол-во строк после удаления\", data.shape, len(data))"
      ]
    },
    {
      "cell_type": "markdown",
      "metadata": {
        "id": "hO695KvM1AB3"
      },
      "source": [
        "**Заполним мощность по модели** \n",
        "\n",
        "*В коментариях все пишут, что удалять ошибка, потому по модели заполняем. Хотя это и некорректно, лучше было бы удалить для точности предсказания рыночной цены. У одной и тойже модели может быть разная мощность.*"
      ]
    },
    {
      "cell_type": "code",
      "execution_count": null,
      "metadata": {
        "id": "gHIFwoyS1AB3",
        "outputId": "7aff9bd3-aa42-44e9-a78c-d07e7a7f1e69"
      },
      "outputs": [
        {
          "name": "stdout",
          "output_type": "stream",
          "text": [
            "Количество строк, где Power = 0: 33931\n"
          ]
        }
      ],
      "source": [
        "zero_power_rows = data.loc[data['Power'] == 0]\n",
        "print('Количество строк, где Power = 0:', zero_power_rows.shape[0])"
      ]
    },
    {
      "cell_type": "code",
      "execution_count": null,
      "metadata": {
        "id": "7dNSUiae1AB4"
      },
      "outputs": [],
      "source": [
        "data['Power'] = data.groupby('Model')['Power'].fillna(method='ffill')"
      ]
    },
    {
      "cell_type": "code",
      "execution_count": null,
      "metadata": {
        "id": "TE-lY5td1AB4",
        "outputId": "7dc5b5b6-cd50-401c-cab8-ab1e04e060c2"
      },
      "outputs": [
        {
          "data": {
            "text/plain": [
              "Price                   0\n",
              "VehicleType         30662\n",
              "RegistrationYear        0\n",
              "Gearbox             15702\n",
              "Power                   0\n",
              "Model                   0\n",
              "Kilometer               0\n",
              "FuelType            25732\n",
              "Brand                   0\n",
              "Repaired            62100\n",
              "dtype: int64"
            ]
          },
          "execution_count": 15,
          "metadata": {},
          "output_type": "execute_result"
        }
      ],
      "source": [
        "data.isnull().sum()"
      ]
    },
    {
      "cell_type": "markdown",
      "metadata": {
        "id": "fdF5-xsH1AB5"
      },
      "source": [
        "**Заполним по модели** *(как правилоо модель дает представление о типе кузова авто)*"
      ]
    },
    {
      "cell_type": "code",
      "execution_count": null,
      "metadata": {
        "id": "8Arn8Md81AB5"
      },
      "outputs": [],
      "source": [
        "data['VehicleType'] = data.groupby('Model')['VehicleType'].apply(lambda x: x.fillna(x.mode()[0]) \n",
        "                                                           if x.dtype == \"O\" else x.fillna(x.median()))"
      ]
    },
    {
      "cell_type": "code",
      "execution_count": null,
      "metadata": {
        "id": "YOt08LoQ1AB5",
        "outputId": "e821810f-25a7-4034-b35a-0e3b61b5234e"
      },
      "outputs": [
        {
          "data": {
            "text/plain": [
              "Price                   0\n",
              "VehicleType             0\n",
              "RegistrationYear        0\n",
              "Gearbox             15702\n",
              "Power                   0\n",
              "Model                   0\n",
              "Kilometer               0\n",
              "FuelType            25732\n",
              "Brand                   0\n",
              "Repaired            62100\n",
              "dtype: int64"
            ]
          },
          "execution_count": 17,
          "metadata": {},
          "output_type": "execute_result"
        }
      ],
      "source": [
        "data.isnull().sum()"
      ]
    },
    {
      "cell_type": "code",
      "execution_count": null,
      "metadata": {
        "id": "ackWtCDe1AB6",
        "outputId": "8456f11f-de20-4f3d-8c61-ca89f2dcff18"
      },
      "outputs": [
        {
          "name": "stdout",
          "output_type": "stream",
          "text": [
            "['petrol' 'gasoline' nan 'lpg' 'other' 'hybrid' 'cng' 'electric']\n"
          ]
        }
      ],
      "source": [
        "print(data['FuelType'].unique())"
      ]
    },
    {
      "cell_type": "markdown",
      "metadata": {
        "id": "-jgNAEiA1AB6"
      },
      "source": [
        "*Нет возможности корректно заполнить прропуски в столбце* **'FuelType'** \n",
        "\n",
        "**Удалим пропуски.** \n",
        "\n",
        "*(Ни одни из столбцов не дает уверенности, что та или иная модель использует именно это топливо, потому мы не можем заполнить корректно по другим столбцам данный столбец 'FuelType')*"
      ]
    },
    {
      "cell_type": "code",
      "execution_count": null,
      "metadata": {
        "id": "gxlpl39s1AB7",
        "outputId": "06a460d6-67c7-42ee-c2b0-257505e2f9c0"
      },
      "outputs": [
        {
          "name": "stdout",
          "output_type": "stream",
          "text": [
            "Кол-во строк перед удалением (334664, 10) 334664\n",
            "Кол-во строк после удаления (308932, 10) 308932\n"
          ]
        }
      ],
      "source": [
        "print(\"Кол-во строк перед удалением\", data.shape, len(data))\n",
        "data = data.dropna(subset=['FuelType'])\n",
        "print(\"Кол-во строк после удаления\", data.shape, len(data))"
      ]
    },
    {
      "cell_type": "code",
      "execution_count": null,
      "metadata": {
        "id": "I_FW47E81AB7",
        "outputId": "f41f1214-09d7-4bc6-ecb2-15f7ebfc64ab"
      },
      "outputs": [
        {
          "data": {
            "text/plain": [
              "Price                   0\n",
              "VehicleType             0\n",
              "RegistrationYear        0\n",
              "Gearbox              9704\n",
              "Power                   0\n",
              "Model                   0\n",
              "Kilometer               0\n",
              "FuelType                0\n",
              "Brand                   0\n",
              "Repaired            49876\n",
              "dtype: int64"
            ]
          },
          "execution_count": 20,
          "metadata": {},
          "output_type": "execute_result"
        }
      ],
      "source": [
        "data.isnull().sum()"
      ]
    },
    {
      "cell_type": "markdown",
      "metadata": {
        "id": "c-eNPzzq1AB8"
      },
      "source": [
        "*Нет возможности корректно заполнить прропуски в столбце **'Gearbox'**\n",
        "\n",
        "**Удалим пропуски.**\n",
        "\n",
        "*(Ни одни из столбцов не дает уверенности, что та или иная модель использует именно эту КПП, потому мы не можем заполнить корректно по другим столбцам данный столбец 'Gearbox')*\n",
        "\n",
        "**На одной и тойже модели может быть разная КПП. Например Ниссан Альмера - есть как с автоматом, так и механникой**"
      ]
    },
    {
      "cell_type": "code",
      "execution_count": null,
      "metadata": {
        "id": "9WhbEmUx1AB8",
        "outputId": "fa6bdf25-3253-4654-e77d-6ff0ea8af9d2"
      },
      "outputs": [
        {
          "name": "stdout",
          "output_type": "stream",
          "text": [
            "Кол-во строк перед удалением (308932, 10) 308932\n",
            "Кол-во строк после удаления (299228, 10) 299228\n"
          ]
        }
      ],
      "source": [
        "print(\"Кол-во строк перед удалением\", data.shape, len(data))\n",
        "data = data.dropna(subset=['Gearbox'])\n",
        "print(\"Кол-во строк после удаления\", data.shape, len(data))"
      ]
    },
    {
      "cell_type": "code",
      "execution_count": null,
      "metadata": {
        "id": "V4PX1eJG1AB9",
        "outputId": "a7319c8e-7725-46ee-ee01-d6a21422ac18"
      },
      "outputs": [
        {
          "data": {
            "text/plain": [
              "Price                   0\n",
              "VehicleType             0\n",
              "RegistrationYear        0\n",
              "Gearbox                 0\n",
              "Power                   0\n",
              "Model                   0\n",
              "Kilometer               0\n",
              "FuelType                0\n",
              "Brand                   0\n",
              "Repaired            45322\n",
              "dtype: int64"
            ]
          },
          "execution_count": 22,
          "metadata": {},
          "output_type": "execute_result"
        }
      ],
      "source": [
        "data.isnull().sum()"
      ]
    },
    {
      "cell_type": "markdown",
      "metadata": {
        "id": "SYh7kVRH1AB9"
      },
      "source": [
        "*Нет возможности корректно заполнить прропуски в столбце **'Repaired'**\n",
        "\n",
        "**Удалим пропуски.**\n",
        "\n",
        "*(Ни одни из столбцов не дает уверенности, что та или иная модель подверглась ремонту, коссвенно столбец 'Price', но очень приблизительно)*"
      ]
    },
    {
      "cell_type": "code",
      "execution_count": null,
      "metadata": {
        "id": "L6SJO9xn1ACH",
        "outputId": "bfeab76a-855e-49bd-a332-4e40d063d23b"
      },
      "outputs": [
        {
          "name": "stdout",
          "output_type": "stream",
          "text": [
            "Кол-во строк перед удалением (299228, 10) 299228\n",
            "Кол-во строк после удаления (253906, 10) 253906\n"
          ]
        }
      ],
      "source": [
        "print(\"Кол-во строк перед удалением\", data.shape, len(data))\n",
        "data = data.dropna(subset=['Repaired'])\n",
        "print(\"Кол-во строк после удаления\", data.shape, len(data))"
      ]
    },
    {
      "cell_type": "code",
      "execution_count": null,
      "metadata": {
        "id": "UGqTM-6M1ACI",
        "outputId": "27cb3897-98bb-445e-ba97-698ab4afab8d"
      },
      "outputs": [
        {
          "data": {
            "text/plain": [
              "Price               0\n",
              "VehicleType         0\n",
              "RegistrationYear    0\n",
              "Gearbox             0\n",
              "Power               0\n",
              "Model               0\n",
              "Kilometer           0\n",
              "FuelType            0\n",
              "Brand               0\n",
              "Repaired            0\n",
              "dtype: int64"
            ]
          },
          "execution_count": 25,
          "metadata": {},
          "output_type": "execute_result"
        }
      ],
      "source": [
        "data.isnull().sum()"
      ]
    },
    {
      "cell_type": "markdown",
      "metadata": {
        "id": "A1k-bf1i1ACI"
      },
      "source": [
        "**От пропусков избавились**"
      ]
    },
    {
      "cell_type": "markdown",
      "metadata": {
        "id": "1qsTfB7S1ACJ"
      },
      "source": [
        "### Price"
      ]
    },
    {
      "cell_type": "markdown",
      "metadata": {
        "id": "un9fn6vY1ACJ"
      },
      "source": [
        "*Отсекаем стоимость автомобилей менее 300 Еврро, не рыночная цена или это не автомобиль, а металлолом. Из личной практики - удалось подобрать автомобиль живую \"копейку\" 1986г. за 400 Еврро.*\n",
        "\n",
        "https://frolovavto.ru/"
      ]
    },
    {
      "cell_type": "code",
      "execution_count": null,
      "metadata": {
        "id": "_Gphz0Z01ACK",
        "outputId": "255e7bcc-8d9c-483b-e24c-ca674a90fd56"
      },
      "outputs": [
        {
          "name": "stdout",
          "output_type": "stream",
          "text": [
            "Кол-во строк перед удалением (253906, 10) 253906\n",
            "Кол-во строк после удаления (249004, 10) 249004\n"
          ]
        }
      ],
      "source": [
        "print(\"Кол-во строк перед удалением\", data.shape, len(data))\n",
        "data = data[(data['Price'] > 100) & (data['Price'] < 30000)]\n",
        "print(\"Кол-во строк после удаления\", data.shape, len(data))"
      ]
    },
    {
      "cell_type": "code",
      "execution_count": null,
      "metadata": {
        "id": "-MUQiElQ1ACK",
        "outputId": "41d0b508-9913-4742-8f02-5f5892a6c137"
      },
      "outputs": [
        {
          "data": {
            "image/png": "[encoded data removed]",
            "text/plain": [
              "<Figure size 1440x504 with 3 Axes>"
            ]
          },
          "metadata": {
            "needs_background": "light"
          },
          "output_type": "display_data"
        }
      ],
      "source": [
        "condition1 = (0 <= data['Price']) & (data['Price'] < 10000)\n",
        "condition2 = (10000 <= data['Price']) & (data['Price'] < 15000)\n",
        "condition3 = (15000 <= data['Price']) & (data['Price'] < 21000)\n",
        "\n",
        "values1 = data[condition1]['Price']\n",
        "values2 = data[condition2]['Price']\n",
        "values3 = data[condition3]['Price']\n",
        "\n",
        "fig, axs = plt.subplots(nrows=1, ncols=3, figsize=(20, 7))\n",
        "\n",
        "axs[0].hist(values1, color='red')\n",
        "axs[0].grid(True)\n",
        "axs[0].set_xlabel('Цена')\n",
        "axs[0].set_ylabel('Количество')\n",
        "axs[0].set_title('Цена 300-10000')\n",
        "\n",
        "axs[1].hist(values2, color='green')\n",
        "axs[1].grid(True)\n",
        "axs[1].set_xlabel('Цена')\n",
        "axs[1].set_ylabel('Количество')\n",
        "axs[1].set_title('Цена 10000-15000')\n",
        "\n",
        "axs[2].hist(values3, color='yellow')\n",
        "axs[2].grid(True)\n",
        "axs[2].set_xlabel('Цена')\n",
        "axs[2].set_ylabel('Количество')\n",
        "axs[2].set_title('Цена 15000-21000');"
      ]
    },
    {
      "cell_type": "code",
      "execution_count": null,
      "metadata": {
        "id": "jKd846ng1ACL",
        "outputId": "df388f0d-7c2e-434b-d14b-34f62dcee0e9"
      },
      "outputs": [
        {
          "name": "stdout",
          "output_type": "stream",
          "text": [
            "Количество строк: (300;10000 Евро) - 210337\n",
            "Количество строк: (10000;15000 Евро) - 24978\n",
            "Количество строк: (15000;21000 Евро) - 13689\n"
          ]
        }
      ],
      "source": [
        "print('Количество строк: (300;10000 Евро) -',(condition1).sum())\n",
        "print('Количество строк: (10000;15000 Евро) -',(condition2).sum())\n",
        "print('Количество строк: (15000;21000 Евро) -',(condition3).sum())"
      ]
    },
    {
      "cell_type": "markdown",
      "metadata": {
        "id": "ZONzQNU71ACM"
      },
      "source": [
        "### Power"
      ]
    },
    {
      "cell_type": "code",
      "execution_count": null,
      "metadata": {
        "id": "CfAsDrNC1ACN",
        "outputId": "1860d136-8fca-4503-a10a-5e9fd6ce6431"
      },
      "outputs": [
        {
          "data": {
            "image/png": "[encoded data removed]",
            "text/plain": [
              "<Figure size 1080x360 with 1 Axes>"
            ]
          },
          "metadata": {
            "needs_background": "light"
          },
          "output_type": "display_data"
        }
      ],
      "source": [
        "data['Power'].hist(bins=50, range=(0, 20000), figsize =(15, 5));"
      ]
    },
    {
      "cell_type": "markdown",
      "metadata": {
        "id": "5LVYkgE31ACN"
      },
      "source": [
        "\"*Много ли автомобилей у которых мощность 1000 и более лошадиных сил? Не много. В качестве примера легендарный автомобиль марки Bugatti Veyron мощностью в 1001 л.с. или другой известный и мощный автомобиль, модель Super Sport мощностью в 1200 л.с. Но это все автомобили, которые изначально создавались именно для того чтобы покорять например, будущие мировые рекорды скорости*\"\n",
        "\n",
        "*Напротив, Объем двигателя ГАЗ 69 составляет 2.1 л. Мощность двигателей ГАЗ 69 55 л.с. остановил производство в 1956г. Мощность двигателей Лада 2101 от 59 до 64 л.с. Выпуск модели 2101 закончился в 1983 году, а модификация 21013 выпускалась еще 5 лет, до 1988 года.*\n",
        "\n",
        "**Ограничим Мощность двигателей 59-650Л л. с., и год выпуска автомобилей 1986-2016 (т.к. из собственной практики подбора автомобиля для клиента, подобрали живую копейку 1988, то что позже раритет и цена формируется по другому алгоритму. Окончание 2016, так как последние созданные анкеты в 2016 году п.1.2)**\n",
        "\n",
        "https://frolovavto.ru/"
      ]
    },
    {
      "cell_type": "code",
      "execution_count": null,
      "metadata": {
        "id": "UVXshvuO1ACO",
        "outputId": "44d85d8e-a3a0-4a9a-d2ad-5c168c72a569"
      },
      "outputs": [
        {
          "name": "stdout",
          "output_type": "stream",
          "text": [
            "Кол-во строк перед удалением (249004, 10) 249004\n",
            "Кол-во строк после удаления (223189, 10) 223189\n"
          ]
        }
      ],
      "source": [
        "print(\"Кол-во строк перед удалением\", data.shape, len(data))\n",
        "data = data.drop(data[(data['Power'] < 59) | (data['Power'] > 650)].index)\n",
        "print(\"Кол-во строк после удаления\", data.shape, len(data))"
      ]
    },
    {
      "cell_type": "code",
      "execution_count": null,
      "metadata": {
        "id": "69OTW3Zq1ACP",
        "outputId": "a7d8cad1-64c3-4c75-fa68-5dcaa8c4217a"
      },
      "outputs": [
        {
          "data": {
            "image/png": "[encoded data removed]",
            "text/plain": [
              "<Figure size 1080x360 with 1 Axes>"
            ]
          },
          "metadata": {
            "needs_background": "light"
          },
          "output_type": "display_data"
        }
      ],
      "source": [
        "data['Power'].hist(bins=50, range=(59, 650), figsize =(15, 5));"
      ]
    },
    {
      "cell_type": "code",
      "execution_count": null,
      "metadata": {
        "id": "6iBh5x-x1ACP",
        "outputId": "902568a5-c07a-4f91-af8b-44e9a755bf7f"
      },
      "outputs": [
        {
          "data": {
            "image/png": "[encoded data removed]",
            "text/plain": [
              "<Figure size 1440x504 with 4 Axes>"
            ]
          },
          "metadata": {
            "needs_background": "light"
          },
          "output_type": "display_data"
        }
      ],
      "source": [
        "condition_p1 = (59 <= data['Power']) & (data['Power'] < 200)\n",
        "condition_p2 = (200 <= data['Power']) & (data['Power'] < 350)\n",
        "condition_p3 = (350 <= data['Power']) & (data['Power'] < 400)\n",
        "condition_p4 = (400 <= data['Power']) & (data['Power'] < 650)\n",
        "\n",
        "values1 = data[condition_p1]['Power']\n",
        "values2 = data[condition_p2]['Power']\n",
        "values3 = data[condition_p3]['Power']\n",
        "values4 = data[condition_p4]['Power']\n",
        "\n",
        "fig, axs = plt.subplots(nrows=1, ncols=4, figsize=(20, 7))\n",
        "\n",
        "axs[0].hist(values1, color='blue')\n",
        "axs[0].grid(True)\n",
        "axs[0].set_xlabel('Мощность')\n",
        "axs[0].set_ylabel('Количество ')\n",
        "axs[0].set_title('Мощность 59-100 Л.С.')\n",
        "\n",
        "axs[1].hist(values2, color='red')\n",
        "axs[1].grid(True)\n",
        "axs[1].set_xlabel('Мощность')\n",
        "axs[1].set_ylabel('Количество')\n",
        "axs[1].set_title('Мощность 100-300 Л.С.')\n",
        "\n",
        "axs[2].hist(values3, color='green')\n",
        "axs[2].grid(True)\n",
        "axs[2].set_xlabel('Мощность')\n",
        "axs[2].set_ylabel('Количество')\n",
        "axs[2].set_title('Мощность 300-400 Л.С.')\n",
        "\n",
        "axs[3].hist(values4, color='yellow')\n",
        "axs[3].grid(True)\n",
        "axs[3].set_xlabel('Мощность')\n",
        "axs[3].set_ylabel('Количество')\n",
        "axs[3].set_title('Мощность 400-650 Л.С.');"
      ]
    },
    {
      "cell_type": "markdown",
      "metadata": {
        "id": "akjT_vNa1ACQ"
      },
      "source": [
        "### RegistrationYear"
      ]
    },
    {
      "cell_type": "markdown",
      "metadata": {
        "id": "5eUM149J1ACR"
      },
      "source": [
        "**Ограничим год выпуска автомобилей 1986-2016. Из собственной практики подбора автомобиля для клиента, подобрали живую копейку 1988, то что позже раритет и цена формируется по другому алгоритму. Окончание 2016, так как последние созданные анкеты в 2016 году п.1.2** \n",
        "\n",
        "https://frolovavto.ru/"
      ]
    },
    {
      "cell_type": "code",
      "execution_count": null,
      "metadata": {
        "id": "X5ARb17u1ACR",
        "outputId": "ec8f3e48-6094-49f1-eccb-4b73ff742607"
      },
      "outputs": [
        {
          "name": "stdout",
          "output_type": "stream",
          "text": [
            "Кол-во строк перед удалением (223189, 10) 223189\n",
            "Кол-во строк после удаления (218446, 10) 218446\n"
          ]
        }
      ],
      "source": [
        "print(\"Кол-во строк перед удалением\", data.shape, len(data))\n",
        "data = data.drop(data[(data['RegistrationYear'] < 1986) | (data['RegistrationYear'] > 2016)].index)\n",
        "print(\"Кол-во строк после удаления\", data.shape, len(data))"
      ]
    },
    {
      "cell_type": "code",
      "execution_count": null,
      "metadata": {
        "id": "I9xJlsdM1ACS",
        "outputId": "67cef994-996f-4b0a-f42a-9bff7ad09487"
      },
      "outputs": [
        {
          "data": {
            "image/png": "[encoded data removed]",
            "text/plain": [
              "<Figure size 1080x360 with 1 Axes>"
            ]
          },
          "metadata": {
            "needs_background": "light"
          },
          "output_type": "display_data"
        }
      ],
      "source": [
        "data['RegistrationYear'].hist(bins=50, range=(1986, 2016), figsize =(15, 5));"
      ]
    },
    {
      "cell_type": "code",
      "execution_count": null,
      "metadata": {
        "id": "KVS-aA721ACS",
        "outputId": "49969edf-153a-48b1-bd59-dc7d8d15253c"
      },
      "outputs": [
        {
          "data": {
            "image/png": "[encoded data removed]",
            "text/plain": [
              "<Figure size 1440x504 with 3 Axes>"
            ]
          },
          "metadata": {
            "needs_background": "light"
          },
          "output_type": "display_data"
        }
      ],
      "source": [
        "condition_r1 = (1986 <= data['RegistrationYear']) & (data['RegistrationYear'] < 2000)\n",
        "condition_r2 = (2000 <= data['RegistrationYear']) & (data['RegistrationYear'] < 2010)\n",
        "condition_r3 = (2010 <= data['RegistrationYear']) & (data['RegistrationYear'] < 2016)\n",
        "\n",
        "values1 = data[condition_r1]['RegistrationYear']\n",
        "values2 = data[condition_r2]['RegistrationYear']\n",
        "values3 = data[condition_r3]['RegistrationYear']\n",
        "\n",
        "fig, axs = plt.subplots(nrows=1, ncols=3, figsize=(20, 7))\n",
        "\n",
        "axs[0].hist(values1, color='red')\n",
        "axs[0].grid(True)\n",
        "axs[0].set_xlabel('Год регистрации')\n",
        "axs[0].set_ylabel('Количество')\n",
        "axs[0].set_title('Год регистрации 1986-2000')\n",
        "\n",
        "axs[1].hist(values2, color='green')\n",
        "axs[1].grid(True)\n",
        "axs[1].set_xlabel('Год регистрации')\n",
        "axs[1].set_ylabel('Количество')\n",
        "axs[1].set_title('Год регистрации 2000-2010')\n",
        "\n",
        "axs[2].hist(values3, color='yellow')\n",
        "axs[2].grid(True)\n",
        "axs[2].set_xlabel('Год регистрации')\n",
        "axs[2].set_ylabel('Количество')\n",
        "axs[2].set_title('Год регистрации 2010-2016');"
      ]
    },
    {
      "cell_type": "code",
      "execution_count": null,
      "metadata": {
        "id": "6MlK6pai1ACT",
        "outputId": "e45bf80d-d8ce-4efb-954b-29472168cfa3"
      },
      "outputs": [
        {
          "name": "stdout",
          "output_type": "stream",
          "text": [
            "Общее количество пропущенных значений:\n"
          ]
        },
        {
          "data": {
            "text/plain": [
              "Price               0\n",
              "VehicleType         0\n",
              "RegistrationYear    0\n",
              "Gearbox             0\n",
              "Power               0\n",
              "Model               0\n",
              "Kilometer           0\n",
              "FuelType            0\n",
              "Brand               0\n",
              "Repaired            0\n",
              "dtype: int64"
            ]
          },
          "metadata": {},
          "output_type": "display_data"
        },
        {
          "name": "stdout",
          "output_type": "stream",
          "text": [
            "\n",
            "Общая информация о датафрейме:\n",
            "<class 'pandas.core.frame.DataFrame'>\n",
            "Int64Index: 218446 entries, 3 to 354367\n",
            "Data columns (total 10 columns):\n",
            " #   Column            Non-Null Count   Dtype \n",
            "---  ------            --------------   ----- \n",
            " 0   Price             218446 non-null  int64 \n",
            " 1   VehicleType       218446 non-null  object\n",
            " 2   RegistrationYear  218446 non-null  int64 \n",
            " 3   Gearbox           218446 non-null  object\n",
            " 4   Power             218446 non-null  int64 \n",
            " 5   Model             218446 non-null  object\n",
            " 6   Kilometer         218446 non-null  int64 \n",
            " 7   FuelType          218446 non-null  object\n",
            " 8   Brand             218446 non-null  object\n",
            " 9   Repaired          218446 non-null  object\n",
            "dtypes: int64(4), object(6)\n",
            "memory usage: 18.3+ MB\n"
          ]
        },
        {
          "data": {
            "text/plain": [
              "None"
            ]
          },
          "metadata": {},
          "output_type": "display_data"
        },
        {
          "name": "stdout",
          "output_type": "stream",
          "text": [
            "\n",
            "корреляционная матрица:\n"
          ]
        },
        {
          "data": {
            "text/html": [
              "<div>\n",
              "<style scoped>\n",
              "    .dataframe tbody tr th:only-of-type {\n",
              "        vertical-align: middle;\n",
              "    }\n",
              "\n",
              "    .dataframe tbody tr th {\n",
              "        vertical-align: top;\n",
              "    }\n",
              "\n",
              "    .dataframe thead th {\n",
              "        text-align: right;\n",
              "    }\n",
              "</style>\n",
              "<table border=\"1\" class=\"dataframe\">\n",
              "  <thead>\n",
              "    <tr style=\"text-align: right;\">\n",
              "      <th></th>\n",
              "      <th>Price</th>\n",
              "      <th>RegistrationYear</th>\n",
              "      <th>Power</th>\n",
              "      <th>Kilometer</th>\n",
              "    </tr>\n",
              "  </thead>\n",
              "  <tbody>\n",
              "    <tr>\n",
              "      <th>Price</th>\n",
              "      <td>1.000000</td>\n",
              "      <td>0.640826</td>\n",
              "      <td>0.479656</td>\n",
              "      <td>-0.422873</td>\n",
              "    </tr>\n",
              "    <tr>\n",
              "      <th>RegistrationYear</th>\n",
              "      <td>0.640826</td>\n",
              "      <td>1.000000</td>\n",
              "      <td>0.087501</td>\n",
              "      <td>-0.470056</td>\n",
              "    </tr>\n",
              "    <tr>\n",
              "      <th>Power</th>\n",
              "      <td>0.479656</td>\n",
              "      <td>0.087501</td>\n",
              "      <td>1.000000</td>\n",
              "      <td>0.124945</td>\n",
              "    </tr>\n",
              "    <tr>\n",
              "      <th>Kilometer</th>\n",
              "      <td>-0.422873</td>\n",
              "      <td>-0.470056</td>\n",
              "      <td>0.124945</td>\n",
              "      <td>1.000000</td>\n",
              "    </tr>\n",
              "  </tbody>\n",
              "</table>\n",
              "</div>"
            ],
            "text/plain": [
              "                     Price  RegistrationYear     Power  Kilometer\n",
              "Price             1.000000          0.640826  0.479656  -0.422873\n",
              "RegistrationYear  0.640826          1.000000  0.087501  -0.470056\n",
              "Power             0.479656          0.087501  1.000000   0.124945\n",
              "Kilometer        -0.422873         -0.470056  0.124945   1.000000"
            ]
          },
          "metadata": {},
          "output_type": "display_data"
        },
        {
          "name": "stdout",
          "output_type": "stream",
          "text": [
            "\n",
            "Статистические характеристики датафрейма:\n"
          ]
        },
        {
          "data": {
            "text/html": [
              "<div>\n",
              "<style scoped>\n",
              "    .dataframe tbody tr th:only-of-type {\n",
              "        vertical-align: middle;\n",
              "    }\n",
              "\n",
              "    .dataframe tbody tr th {\n",
              "        vertical-align: top;\n",
              "    }\n",
              "\n",
              "    .dataframe thead th {\n",
              "        text-align: right;\n",
              "    }\n",
              "</style>\n",
              "<table border=\"1\" class=\"dataframe\">\n",
              "  <thead>\n",
              "    <tr style=\"text-align: right;\">\n",
              "      <th></th>\n",
              "      <th>Price</th>\n",
              "      <th>RegistrationYear</th>\n",
              "      <th>Power</th>\n",
              "      <th>Kilometer</th>\n",
              "    </tr>\n",
              "  </thead>\n",
              "  <tbody>\n",
              "    <tr>\n",
              "      <th>count</th>\n",
              "      <td>218446.000000</td>\n",
              "      <td>218446.000000</td>\n",
              "      <td>218446.000000</td>\n",
              "      <td>218446.000000</td>\n",
              "    </tr>\n",
              "    <tr>\n",
              "      <th>mean</th>\n",
              "      <td>5507.714328</td>\n",
              "      <td>2003.711022</td>\n",
              "      <td>127.636478</td>\n",
              "      <td>127236.365051</td>\n",
              "    </tr>\n",
              "    <tr>\n",
              "      <th>std</th>\n",
              "      <td>4749.026823</td>\n",
              "      <td>5.442403</td>\n",
              "      <td>51.919258</td>\n",
              "      <td>37036.505488</td>\n",
              "    </tr>\n",
              "    <tr>\n",
              "      <th>min</th>\n",
              "      <td>101.000000</td>\n",
              "      <td>1986.000000</td>\n",
              "      <td>59.000000</td>\n",
              "      <td>5000.000000</td>\n",
              "    </tr>\n",
              "    <tr>\n",
              "      <th>25%</th>\n",
              "      <td>1750.000000</td>\n",
              "      <td>2000.000000</td>\n",
              "      <td>90.000000</td>\n",
              "      <td>125000.000000</td>\n",
              "    </tr>\n",
              "    <tr>\n",
              "      <th>50%</th>\n",
              "      <td>3950.000000</td>\n",
              "      <td>2004.000000</td>\n",
              "      <td>116.000000</td>\n",
              "      <td>150000.000000</td>\n",
              "    </tr>\n",
              "    <tr>\n",
              "      <th>75%</th>\n",
              "      <td>7990.000000</td>\n",
              "      <td>2008.000000</td>\n",
              "      <td>150.000000</td>\n",
              "      <td>150000.000000</td>\n",
              "    </tr>\n",
              "    <tr>\n",
              "      <th>max</th>\n",
              "      <td>20000.000000</td>\n",
              "      <td>2016.000000</td>\n",
              "      <td>645.000000</td>\n",
              "      <td>150000.000000</td>\n",
              "    </tr>\n",
              "  </tbody>\n",
              "</table>\n",
              "</div>"
            ],
            "text/plain": [
              "               Price  RegistrationYear          Power      Kilometer\n",
              "count  218446.000000     218446.000000  218446.000000  218446.000000\n",
              "mean     5507.714328       2003.711022     127.636478  127236.365051\n",
              "std      4749.026823          5.442403      51.919258   37036.505488\n",
              "min       101.000000       1986.000000      59.000000    5000.000000\n",
              "25%      1750.000000       2000.000000      90.000000  125000.000000\n",
              "50%      3950.000000       2004.000000     116.000000  150000.000000\n",
              "75%      7990.000000       2008.000000     150.000000  150000.000000\n",
              "max     20000.000000       2016.000000     645.000000  150000.000000"
            ]
          },
          "metadata": {},
          "output_type": "display_data"
        },
        {
          "name": "stdout",
          "output_type": "stream",
          "text": [
            "\n",
            "Первые 5 строк датафрейма:\n"
          ]
        },
        {
          "data": {
            "text/html": [
              "<div>\n",
              "<style scoped>\n",
              "    .dataframe tbody tr th:only-of-type {\n",
              "        vertical-align: middle;\n",
              "    }\n",
              "\n",
              "    .dataframe tbody tr th {\n",
              "        vertical-align: top;\n",
              "    }\n",
              "\n",
              "    .dataframe thead th {\n",
              "        text-align: right;\n",
              "    }\n",
              "</style>\n",
              "<table border=\"1\" class=\"dataframe\">\n",
              "  <thead>\n",
              "    <tr style=\"text-align: right;\">\n",
              "      <th></th>\n",
              "      <th>Price</th>\n",
              "      <th>VehicleType</th>\n",
              "      <th>RegistrationYear</th>\n",
              "      <th>Gearbox</th>\n",
              "      <th>Power</th>\n",
              "      <th>Model</th>\n",
              "      <th>Kilometer</th>\n",
              "      <th>FuelType</th>\n",
              "      <th>Brand</th>\n",
              "      <th>Repaired</th>\n",
              "    </tr>\n",
              "  </thead>\n",
              "  <tbody>\n",
              "    <tr>\n",
              "      <th>3</th>\n",
              "      <td>1500</td>\n",
              "      <td>small</td>\n",
              "      <td>2001</td>\n",
              "      <td>manual</td>\n",
              "      <td>75</td>\n",
              "      <td>golf</td>\n",
              "      <td>150000</td>\n",
              "      <td>petrol</td>\n",
              "      <td>volkswagen</td>\n",
              "      <td>no</td>\n",
              "    </tr>\n",
              "    <tr>\n",
              "      <th>4</th>\n",
              "      <td>3600</td>\n",
              "      <td>small</td>\n",
              "      <td>2008</td>\n",
              "      <td>manual</td>\n",
              "      <td>69</td>\n",
              "      <td>fabia</td>\n",
              "      <td>90000</td>\n",
              "      <td>gasoline</td>\n",
              "      <td>skoda</td>\n",
              "      <td>no</td>\n",
              "    </tr>\n",
              "    <tr>\n",
              "      <th>5</th>\n",
              "      <td>650</td>\n",
              "      <td>sedan</td>\n",
              "      <td>1995</td>\n",
              "      <td>manual</td>\n",
              "      <td>102</td>\n",
              "      <td>3er</td>\n",
              "      <td>150000</td>\n",
              "      <td>petrol</td>\n",
              "      <td>bmw</td>\n",
              "      <td>yes</td>\n",
              "    </tr>\n",
              "    <tr>\n",
              "      <th>6</th>\n",
              "      <td>2200</td>\n",
              "      <td>convertible</td>\n",
              "      <td>2004</td>\n",
              "      <td>manual</td>\n",
              "      <td>109</td>\n",
              "      <td>2_reihe</td>\n",
              "      <td>150000</td>\n",
              "      <td>petrol</td>\n",
              "      <td>peugeot</td>\n",
              "      <td>no</td>\n",
              "    </tr>\n",
              "    <tr>\n",
              "      <th>10</th>\n",
              "      <td>2000</td>\n",
              "      <td>sedan</td>\n",
              "      <td>2004</td>\n",
              "      <td>manual</td>\n",
              "      <td>105</td>\n",
              "      <td>3_reihe</td>\n",
              "      <td>150000</td>\n",
              "      <td>petrol</td>\n",
              "      <td>mazda</td>\n",
              "      <td>no</td>\n",
              "    </tr>\n",
              "  </tbody>\n",
              "</table>\n",
              "</div>"
            ],
            "text/plain": [
              "    Price  VehicleType  RegistrationYear Gearbox  Power    Model  Kilometer  \\\n",
              "3    1500        small              2001  manual     75     golf     150000   \n",
              "4    3600        small              2008  manual     69    fabia      90000   \n",
              "5     650        sedan              1995  manual    102      3er     150000   \n",
              "6    2200  convertible              2004  manual    109  2_reihe     150000   \n",
              "10   2000        sedan              2004  manual    105  3_reihe     150000   \n",
              "\n",
              "    FuelType       Brand Repaired  \n",
              "3     petrol  volkswagen       no  \n",
              "4   gasoline       skoda       no  \n",
              "5     petrol         bmw      yes  \n",
              "6     petrol     peugeot       no  \n",
              "10    petrol       mazda       no  "
            ]
          },
          "metadata": {},
          "output_type": "display_data"
        },
        {
          "name": "stdout",
          "output_type": "stream",
          "text": [
            "\n",
            "Количество дублирующихся строк в датафрейме: 31783\n"
          ]
        }
      ],
      "source": [
        "general_info(data)"
      ]
    },
    {
      "cell_type": "markdown",
      "metadata": {
        "id": "OBc7C2KR1ACU"
      },
      "source": [
        "**Вывод:**\n",
        "1. Загрузили данные\n",
        "2. Проанализировали и удалили ненужные столбцы\n",
        "3. Пришли к выводу, что авто старше 1986 и после 2016 не актуальны для работы, до 1986 раритет, после 2016 неактуальны т.к., загружены в 2016\n",
        "4. Заполнили или удалили пустые значения"
      ]
    },
    {
      "cell_type": "markdown",
      "metadata": {
        "id": "pRdiryyP1ACU"
      },
      "source": [
        "## Обучение моделей"
      ]
    },
    {
      "cell_type": "markdown",
      "metadata": {
        "id": "76MG0wfa1ACV"
      },
      "source": [
        "**Значение метрики RMSE должно быть меньше 2500.**"
      ]
    },
    {
      "cell_type": "code",
      "execution_count": null,
      "metadata": {
        "id": "dWiVbVxY1ACW"
      },
      "outputs": [],
      "source": [
        "features = data.drop('Price', axis=1)\n",
        "target = data['Price']"
      ]
    },
    {
      "cell_type": "code",
      "execution_count": null,
      "metadata": {
        "id": "ttdfjybS1ACX"
      },
      "outputs": [],
      "source": [
        "features_train, features_test, target_train, target_test = train_test_split(features, target, \n",
        "                                                                            test_size=0.4, \n",
        "                                                                            random_state=42)\n",
        "\n",
        "features_test, features_valid, target_test, target_valid = train_test_split(features_test, target_test, \n",
        "                                                                            test_size=0.5, \n",
        "                                                                            random_state=42)"
      ]
    },
    {
      "cell_type": "code",
      "execution_count": null,
      "metadata": {
        "id": "AV8BR4uv1ACX"
      },
      "outputs": [],
      "source": [
        "# прямое кодирование (для линейных моделей)\n",
        "features_train_ohe = pd.get_dummies(features_train, drop_first=True)\n",
        "features_valid_ohe = pd.get_dummies(features_valid, drop_first=True)\n",
        "features_test_ohe = pd.get_dummies(features_test, drop_first=True)\n",
        "# после прямого кодирования кол-во признаков в выборках будет отличаться\n",
        "# поэтому стоит удалить лишние признаки в каждой выборке\n",
        "\n",
        "# Найдем общие признаки между обучающей, валидационной и тестовой выборками\n",
        "common_columns = set(features_train_ohe.columns) & set(features_valid_ohe.columns) & set(features_test_ohe.columns)\n",
        "\n",
        "# Оставим в каждой выборке только общие признаки\n",
        "features_train_ohe = features_train_ohe[list(common_columns)]\n",
        "features_valid_ohe = features_valid_ohe[list(common_columns)]\n",
        "features_test_ohe = features_test_ohe[list(common_columns)]"
      ]
    },
    {
      "cell_type": "code",
      "execution_count": null,
      "metadata": {
        "id": "c0bxJFqm1ACY"
      },
      "outputs": [],
      "source": [
        "# масштабирование для ord выборки не потребуется\n",
        "scaler = StandardScaler()\n",
        "numeric = ['RegistrationYear', 'Power', 'Kilometer']\n",
        "scaler.fit(features_train_ohe[numeric])\n",
        "features_train_ohe[numeric] = scaler.transform(features_train_ohe[numeric])\n",
        "features_valid_ohe[numeric] = scaler.transform(features_valid_ohe[numeric])\n",
        "features_test_ohe[numeric] = scaler.transform(features_test_ohe[numeric])"
      ]
    },
    {
      "cell_type": "code",
      "execution_count": null,
      "metadata": {
        "id": "oHkNvGR71ACZ"
      },
      "outputs": [],
      "source": [
        "# порядковое кодирование (для \"деревянных моделей\")\n",
        "encoder = OrdinalEncoder(handle_unknown='use_encoded_value', unknown_value=9999)\n",
        "cat_columns = ['VehicleType', 'Gearbox', 'Model', 'FuelType', 'Brand', 'Repaired']\n",
        "encoder.fit(features_train[cat_columns])\n",
        "\n",
        "features_train_ord = features_train.copy()\n",
        "features_valid_ord = features_valid.copy()\n",
        "features_test_ord = features_test.copy()\n",
        "\n",
        "features_train_ord[cat_columns] = encoder.transform(features_train_ord[cat_columns])\n",
        "features_valid_ord[cat_columns] = encoder.transform(features_valid_ord[cat_columns])\n",
        "features_test_ord[cat_columns] = encoder.transform(features_test_ord[cat_columns])"
      ]
    },
    {
      "cell_type": "markdown",
      "metadata": {
        "id": "xOFUIgaD1ACZ"
      },
      "source": [
        "### LinearRegression"
      ]
    },
    {
      "cell_type": "code",
      "execution_count": null,
      "metadata": {
        "id": "AIoWx95f1ACa"
      },
      "outputs": [],
      "source": [
        "start = time.monotonic()\n",
        "model_lr = LinearRegression()\n",
        "model_lr.fit(features_train_ohe, target_train)\n",
        "predictions_lr = model_lr.predict(features_test_ohe)\n",
        "rmse_lr = mean_squared_error(target_test, predictions_lr) ** 0.5\n",
        "end = time.monotonic()\n",
        "time_lr = end - start"
      ]
    },
    {
      "cell_type": "code",
      "execution_count": null,
      "metadata": {
        "id": "Q6uth6_L1ACa",
        "outputId": "3ec99075-a840-4535-b4e0-24f75c2d2f2f"
      },
      "outputs": [
        {
          "name": "stdout",
          "output_type": "stream",
          "text": [
            "RMSE линейной регрессии: 2343.010826574845\n",
            "Время обучения линейной регрессии: 10.745443236082792\n"
          ]
        }
      ],
      "source": [
        "print('RMSE линейной регрессии:', rmse_lr)\n",
        "print('Время обучения линейной регрессии:', time_lr)"
      ]
    },
    {
      "cell_type": "markdown",
      "metadata": {
        "id": "VurQ9-cV1ACb"
      },
      "source": [
        "### DecisionTreeRegressor"
      ]
    },
    {
      "cell_type": "code",
      "execution_count": null,
      "metadata": {
        "scrolled": true,
        "id": "YpaPoaT01ACb"
      },
      "outputs": [],
      "source": [
        "tree = DecisionTreeRegressor(random_state=42)\n",
        "\n",
        "hyperparameters = {'max_depth': [10, 15],\n",
        "                   'min_samples_split': [2, 5, 10],\n",
        "                   'min_samples_leaf': [1, 2, 4]}\n",
        "\n",
        "start = time.monotonic()\n",
        "\n",
        "tree_random = RandomizedSearchCV(estimator = tree, \n",
        "                                 param_distributions = hyperparameters, \n",
        "                                 n_iter = 10, \n",
        "                                 random_state=42)\n",
        "\n",
        "tree_random.fit(features_train_ord, target_train)\n",
        "end = time.monotonic()\n",
        "time_tree = end - start\n",
        "\n",
        "tree = DecisionTreeRegressor(max_depth=tree_random.best_params_['max_depth'],\n",
        "                             min_samples_split=tree_random.best_params_['min_samples_split'],\n",
        "                             min_samples_leaf=tree_random.best_params_['min_samples_leaf'],\n",
        "                             random_state=42)\n",
        "\n",
        "tree.fit(features_train_ord, target_train)\n",
        "predictions_tree = tree.predict(features_test_ord)\n",
        "rmse_tree = mean_squared_error(target_test, predictions_tree) ** 0.5"
      ]
    },
    {
      "cell_type": "code",
      "execution_count": null,
      "metadata": {
        "id": "3-3lvFqu1ACc",
        "outputId": "6d56222f-854a-457a-e9ac-9ca0f9ffad92"
      },
      "outputs": [
        {
          "name": "stdout",
          "output_type": "stream",
          "text": [
            "Наилучшие гиперпараметры: {'min_samples_split': 5, 'min_samples_leaf': 4, 'max_depth': 15}\n",
            "RMSE дерева решений: 1786.1340057387758\n",
            "Время обучения дерева решений: 10.348070319741964\n"
          ]
        }
      ],
      "source": [
        "print('Наилучшие гиперпараметры:', tree_random.best_params_)\n",
        "print('RMSE дерева решений:', rmse_tree)\n",
        "print('Время обучения дерева решений:', time_tree)"
      ]
    },
    {
      "cell_type": "markdown",
      "metadata": {
        "id": "GBnaopNB1ACc"
      },
      "source": [
        "### LGBMRegressor"
      ]
    },
    {
      "cell_type": "code",
      "execution_count": null,
      "metadata": {
        "scrolled": true,
        "id": "azRfhvfp1ACd",
        "outputId": "65189f1f-0683-4231-ff45-32839e198d38"
      },
      "outputs": [
        {
          "name": "stdout",
          "output_type": "stream",
          "text": [
            "Fitting 3 folds for each of 4 candidates, totalling 12 fits\n",
            "[CV] END .........................max_depth=5, num_leaves=40; total time=   2.6s\n",
            "[CV] END .........................max_depth=5, num_leaves=40; total time=   2.5s\n",
            "[CV] END .........................max_depth=5, num_leaves=40; total time=   2.3s\n",
            "[CV] END .........................max_depth=5, num_leaves=50; total time=   2.7s\n",
            "[CV] END .........................max_depth=5, num_leaves=50; total time=   2.3s\n",
            "[CV] END .........................max_depth=5, num_leaves=50; total time=   2.3s\n",
            "[CV] END ........................max_depth=10, num_leaves=40; total time= 1.7min\n",
            "[CV] END ........................max_depth=10, num_leaves=40; total time=   4.2s\n",
            "[CV] END ........................max_depth=10, num_leaves=40; total time=   3.2s\n",
            "[CV] END ........................max_depth=10, num_leaves=50; total time=   4.0s\n",
            "[CV] END ........................max_depth=10, num_leaves=50; total time=   3.6s\n",
            "[CV] END ........................max_depth=10, num_leaves=50; total time=   3.6s\n"
          ]
        }
      ],
      "source": [
        "lgbm = LGBMRegressor(learning_rate=0.1, random_state=42)\n",
        "\n",
        "hyperparameters = {'num_leaves': [40, 50], \n",
        "                   'max_depth': [5, 10]}\n",
        "\n",
        "lgbm_gs = GridSearchCV(estimator=lgbm, \n",
        "                       param_grid=hyperparameters, \n",
        "                       cv=3, \n",
        "                       verbose=2)\n",
        "\n",
        "start = time.monotonic()\n",
        "lgbm_gs.fit(features_train_ord, target_train)\n",
        "end = time.monotonic()\n",
        "\n",
        "lgbm_gs_time = end - start\n",
        "\n",
        "lgbm = LGBMRegressor(num_leaves=lgbm_gs.best_params_['num_leaves'], \n",
        "                     max_depth=lgbm_gs.best_params_['max_depth'], \n",
        "                     learning_rate=0.1, \n",
        "                     random_state=42)\n",
        "\n",
        "lgbm.fit(features_train_ord, target_train)\n",
        "\n",
        "target_predicted_lgbm_gs = lgbm.predict(features_test_ord)\n",
        "\n",
        "rmse_lgbm_gs = mean_squared_error(target_test, target_predicted_lgbm_gs) ** 0.5\n"
      ]
    },
    {
      "cell_type": "code",
      "execution_count": null,
      "metadata": {
        "scrolled": true,
        "id": "xVGs4In01ACd",
        "outputId": "4f27c17e-f1af-4250-f26a-13b1f62eacf2"
      },
      "outputs": [
        {
          "name": "stdout",
          "output_type": "stream",
          "text": [
            "Наилучшие гиперпараметры: {'max_depth': 10, 'num_leaves': 50}\n",
            "RMSE LGBMRegressor (с оптимальными гиперпараметрами): 1633.6547244917356\n",
            "Время обучения LGBMRegressor (с оптимальными гиперпараметрами): 137.60208565369248\n"
          ]
        }
      ],
      "source": [
        "print('Наилучшие гиперпараметры:', lgbm_gs.best_params_)\n",
        "print('RMSE LGBMRegressor (с оптимальными гиперпараметрами):', rmse_lgbm_gs)\n",
        "print('Время обучения LGBMRegressor (с оптимальными гиперпараметрами):', lgbm_gs_time)"
      ]
    },
    {
      "cell_type": "code",
      "execution_count": null,
      "metadata": {
        "id": "BA4WC6je1ACe",
        "outputId": "53f86144-2956-4a71-f0c2-76936cdce89a"
      },
      "outputs": [
        {
          "name": "stdout",
          "output_type": "stream",
          "text": [
            "                     Model         RMSE        Time\n",
            "0        Linear Regression  2343.010827   10.745443\n",
            "1  Decision Tree Regressor  1786.134006   10.348070\n",
            "2            LGBMRegressor  1633.654724  137.602086\n"
          ]
        }
      ],
      "source": [
        "results = pd.DataFrame({'Model': ['Linear Regression', 'Decision Tree Regressor', 'LGBMRegressor'],\n",
        "                        'RMSE': [rmse_lr, rmse_tree, rmse_lgbm_gs],\n",
        "                        'Time': [time_lr, time_tree, lgbm_gs_time]})\n",
        "print(results)"
      ]
    },
    {
      "cell_type": "markdown",
      "metadata": {
        "id": "Qy8vA9211ACf"
      },
      "source": [
        "**Вывод:**\n",
        "\n",
        "*Исходя из таблицы, можно сделать вывод, что меньше всех ошибается LGBMRegressor и эту модель можно выбрать в качестве финальной для прогнозирования. Также заметим, что время обучения у Linear Regression самое быстрое, но также этот алгоритм показал наихудший результат по точности.*"
      ]
    },
    {
      "cell_type": "markdown",
      "metadata": {
        "id": "V2YWXvwL1ACf"
      },
      "source": [
        "Из таблицы видно, что LGBMRegressor с подобранными оптимальными гиперпараметрами показал лучшие результаты в точности и занял второе место по времени обучения. Хотя и решающее дерево с подобранными гиперпараметрами также показало улучшенную точность по сравнению с базовой моделью, но осталось значительно уступает LGBMRegressor.\n",
        "Линейная регрессия же быстро обучается, но показала значительно более плохой результат по точности по сравнению с другими моделями.\n",
        "\n",
        "В итоге, мы можем с уверенностью выбрать LGBMRegressor как наиболее точную модель для прогнозирования цен на автомобили, основываясь на проведенном анализе и подборе оптимальных гиперпараметров."
      ]
    },
    {
      "cell_type": "markdown",
      "metadata": {
        "id": "x0WmdSyO1ACf"
      },
      "source": [
        "## Анализ моделей"
      ]
    },
    {
      "cell_type": "markdown",
      "metadata": {
        "id": "KaRb9XB61ACg"
      },
      "source": [
        "### Decision Tree Regressor"
      ]
    },
    {
      "cell_type": "code",
      "execution_count": null,
      "metadata": {
        "id": "Yx7j9CVr1ACh",
        "outputId": "83ca46a2-0e43-4982-ed3e-2125a4eaf17a"
      },
      "outputs": [
        {
          "name": "stdout",
          "output_type": "stream",
          "text": [
            "RMSE Decision Tree Regressor (CV): 1931.2725149742366\n",
            "Время обучения Decision Tree Regressor (тренировочная выборка): 0.35154953226447105\n",
            "Время предсказания модели: 0.01722470298409462 секунд\n"
          ]
        }
      ],
      "source": [
        "tree = DecisionTreeRegressor(random_state=42)\n",
        "\n",
        "cv_score = cross_val_score(tree, features_train_ord, target_train, cv=5, scoring='neg_mean_squared_error')\n",
        "rmse_cv = (-cv_score.mean())**0.5\n",
        "\n",
        "start = time.monotonic()\n",
        "tree.fit(features_train_ord, target_train)\n",
        "end = time.monotonic()\n",
        "tree_time = end - start\n",
        "\n",
        "start = time.monotonic()\n",
        "predictions_tree = tree.predict(features_test_ord)\n",
        "end = time.monotonic()\n",
        "tree_predict_time = end - start\n",
        "\n",
        "print('RMSE Decision Tree Regressor (CV):', rmse_cv)\n",
        "print('Время обучения Decision Tree Regressor (тренировочная выборка):', tree_time)\n",
        "print('Время предсказания модели:', tree_predict_time, 'секунд')"
      ]
    },
    {
      "cell_type": "markdown",
      "metadata": {
        "id": "grNAUDg71ACh"
      },
      "source": []
    },
    {
      "cell_type": "markdown",
      "metadata": {
        "id": "ielqc5ZS1ACi"
      },
      "source": [
        "### LGBMRegressor"
      ]
    },
    {
      "cell_type": "code",
      "execution_count": null,
      "metadata": {
        "id": "e1wmfddn1ACi",
        "outputId": "31cf2d45-46c8-4137-a0eb-1f521264012d"
      },
      "outputs": [
        {
          "name": "stdout",
          "output_type": "stream",
          "text": [
            "RMSE LGBMRegressor (CV): 1665.9800724729437\n",
            "Время обучения LGBMRegressor (тренировочная выборка): 4.3999170288443565\n",
            "Время предсказания модели: 0.3966100662946701 секунд\n"
          ]
        }
      ],
      "source": [
        "lgbm = LGBMRegressor(learning_rate=0.1, num_leaves=30, random_state=42)\n",
        "\n",
        "cv_score_lgbm = cross_val_score(\n",
        "    lgbm, features_train_ord, target_train, cv=5, scoring='neg_mean_squared_error')\n",
        "rmse_cv_lgbm = (-cv_score_lgbm.mean())**0.5\n",
        "\n",
        "start_lgbm = time.monotonic()\n",
        "lgbm.fit(features_train_ord, target_train)\n",
        "end_lgbm = time.monotonic()\n",
        "lgbm_time = end_lgbm - start_lgbm\n",
        "\n",
        "start = time.monotonic()\n",
        "predictions_lgbm = lgbm.predict(features_test_ord)\n",
        "end = time.monotonic()\n",
        "lgbm_predict_time = end - start\n",
        "\n",
        "print('RMSE LGBMRegressor (CV):', rmse_cv_lgbm)\n",
        "print('Время обучения LGBMRegressor (тренировочная выборка):', lgbm_time)\n",
        "print('Время предсказания модели:', lgbm_predict_time, 'секунд')"
      ]
    },
    {
      "cell_type": "markdown",
      "metadata": {
        "id": "yyf0-Abu1ACj"
      },
      "source": [
        "###  вывод результатов"
      ]
    },
    {
      "cell_type": "code",
      "execution_count": null,
      "metadata": {
        "scrolled": true,
        "id": "veBKoaQ61ACj",
        "outputId": "87462e50-e37b-46af-fbe8-6ae68ff1875f"
      },
      "outputs": [
        {
          "name": "stdout",
          "output_type": "stream",
          "text": [
            "                     Model         RMSE      Time\n",
            "0  Decision Tree Regressor  1931.272515  0.351550\n",
            "1            LGBMRegressor  1665.980072  4.399917\n"
          ]
        }
      ],
      "source": [
        "results = pd.DataFrame({'Model': ['Decision Tree Regressor', 'LGBMRegressor'],\n",
        "                        'RMSE': [rmse_cv, rmse_cv_lgbm],\n",
        "                        'Time': [tree_time, lgbm_time]})\n",
        "print(results)"
      ]
    },
    {
      "cell_type": "markdown",
      "metadata": {
        "id": "ER3XUXjQ1ACk"
      },
      "source": [
        "|         Model         |       RMSE        |       Time        |\n",
        "|----------------------|------------------|------------------|\n",
        "| Decision Tree Regressor|   1824.926786    |    4.693238      |\n",
        "|       LGBMRegressor   |   1648.769948    |    5.908945      |"
      ]
    },
    {
      "cell_type": "markdown",
      "metadata": {
        "id": "r1LmrplT1ACk"
      },
      "source": [
        "Подбором гиперпараметров удалось добиться значительного уменьшения скорости обучения моделей, при этом незначительно потеряв в качестве"
      ]
    },
    {
      "cell_type": "markdown",
      "metadata": {
        "id": "0jA2yEBb1ACl"
      },
      "source": [
        "## Тестирование лучшей модели"
      ]
    },
    {
      "cell_type": "code",
      "execution_count": null,
      "metadata": {
        "id": "3mvW_s1O1ACm",
        "outputId": "8463b1bd-d5ab-4c96-b065-9c6d9ff6d08d"
      },
      "outputs": [
        {
          "name": "stdout",
          "output_type": "stream",
          "text": [
            "RMSE на тестовой выборке для LGBMRegressor: 1672.260382971781\n"
          ]
        }
      ],
      "source": [
        "# рассчитываем метрику RMSE на тестовой выборке для LGBMRegressor\n",
        "rmse_test_lgbm = mean_squared_error(target_test, lgbm.predict(features_test_ord))**0.5\n",
        "print('RMSE на тестовой выборке для LGBMRegressor:', rmse_test_lgbm)"
      ]
    },
    {
      "cell_type": "markdown",
      "metadata": {
        "id": "ll9etLUM1ACn"
      },
      "source": [
        "**Вывод:**\n",
        "\n",
        "1. Изучили данные. Заполнили пропущенные значения и обработали аномалии. Удалили данные, которые не влияют на результат.\n",
        "\n",
        "\n",
        "2. Подготовили выборки для обучения моделей.\n",
        "\n",
        "\n",
        "3. Обучили разные модели, одна из которых — LightGBM и одна — не бустинг. Для каждой модели использовали разные гиперпараметры.\n",
        "\n",
        "\n",
        "4. Проанализировали время обучения, время предсказания и качество моделей.\n",
        "\n",
        "\n",
        "5. Выбрали лучшую модель\n",
        "\n",
        "\n",
        "6. Добились значения метрики RMSE меньше 2500."
      ]
    }
  ],
  "metadata": {
    "ExecuteTimeLog": [
      {
        "duration": 49,
        "start_time": "2023-05-02T05:49:32.711Z"
      },
      {
        "duration": 417,
        "start_time": "2023-05-02T06:22:28.926Z"
      },
      {
        "duration": 3098,
        "start_time": "2023-05-02T06:22:29.548Z"
      },
      {
        "duration": 19,
        "start_time": "2023-05-02T06:22:52.338Z"
      },
      {
        "duration": 43,
        "start_time": "2023-05-02T06:23:17.531Z"
      },
      {
        "duration": 20,
        "start_time": "2023-05-02T06:23:23.580Z"
      },
      {
        "duration": 9,
        "start_time": "2023-05-02T06:23:29.978Z"
      },
      {
        "duration": 21,
        "start_time": "2023-05-02T06:23:38.723Z"
      },
      {
        "duration": 228,
        "start_time": "2023-05-02T06:23:39.819Z"
      },
      {
        "duration": 9,
        "start_time": "2023-05-02T06:23:55.709Z"
      },
      {
        "duration": 3,
        "start_time": "2023-05-02T06:24:10.136Z"
      },
      {
        "duration": 897,
        "start_time": "2023-05-02T06:24:10.649Z"
      },
      {
        "duration": 7,
        "start_time": "2023-05-02T06:24:11.549Z"
      },
      {
        "duration": 14,
        "start_time": "2023-05-02T06:24:11.995Z"
      },
      {
        "duration": 8,
        "start_time": "2023-05-02T06:24:17.813Z"
      },
      {
        "duration": 902,
        "start_time": "2023-05-02T06:24:28.503Z"
      },
      {
        "duration": 166,
        "start_time": "2023-05-02T06:24:29.408Z"
      },
      {
        "duration": 16,
        "start_time": "2023-05-02T06:24:30.922Z"
      },
      {
        "duration": 164,
        "start_time": "2023-05-02T06:24:31.677Z"
      },
      {
        "duration": 1919,
        "start_time": "2023-05-02T06:30:06.005Z"
      },
      {
        "duration": 445,
        "start_time": "2023-05-02T06:32:26.479Z"
      },
      {
        "duration": 994,
        "start_time": "2023-05-02T06:32:26.925Z"
      },
      {
        "duration": 207,
        "start_time": "2023-05-02T06:32:27.922Z"
      },
      {
        "duration": 24,
        "start_time": "2023-05-02T06:32:28.132Z"
      },
      {
        "duration": 200,
        "start_time": "2023-05-02T06:32:28.158Z"
      },
      {
        "duration": 1544,
        "start_time": "2023-05-02T06:32:28.362Z"
      },
      {
        "duration": 110,
        "start_time": "2023-05-02T06:34:48.476Z"
      },
      {
        "duration": 43,
        "start_time": "2023-05-02T06:42:51.874Z"
      },
      {
        "duration": 572,
        "start_time": "2023-05-02T06:45:04.406Z"
      },
      {
        "duration": 638,
        "start_time": "2023-05-02T06:45:21.953Z"
      },
      {
        "duration": 543,
        "start_time": "2023-05-02T06:45:27.429Z"
      },
      {
        "duration": 6,
        "start_time": "2023-05-02T06:50:30.389Z"
      },
      {
        "duration": 8,
        "start_time": "2023-05-02T06:50:49.525Z"
      },
      {
        "duration": 12,
        "start_time": "2023-05-02T06:51:09.711Z"
      },
      {
        "duration": 5,
        "start_time": "2023-05-02T06:51:18.606Z"
      },
      {
        "duration": 14,
        "start_time": "2023-05-02T06:51:28.292Z"
      },
      {
        "duration": 116,
        "start_time": "2023-05-02T06:51:46.240Z"
      },
      {
        "duration": 11,
        "start_time": "2023-05-02T06:51:59.110Z"
      },
      {
        "duration": 4,
        "start_time": "2023-05-02T06:51:59.852Z"
      },
      {
        "duration": 940,
        "start_time": "2023-05-02T06:52:20.630Z"
      },
      {
        "duration": 3,
        "start_time": "2023-05-02T07:01:02.512Z"
      },
      {
        "duration": 995,
        "start_time": "2023-05-02T07:01:02.949Z"
      },
      {
        "duration": 3,
        "start_time": "2023-05-02T07:01:03.946Z"
      },
      {
        "duration": 1101,
        "start_time": "2023-05-02T07:01:05.432Z"
      },
      {
        "duration": 432,
        "start_time": "2023-05-02T07:21:42.513Z"
      },
      {
        "duration": 998,
        "start_time": "2023-05-02T07:21:42.947Z"
      },
      {
        "duration": 6,
        "start_time": "2023-05-02T07:21:43.948Z"
      },
      {
        "duration": 1291,
        "start_time": "2023-05-02T07:21:43.957Z"
      },
      {
        "duration": 1577,
        "start_time": "2023-05-02T07:21:45.251Z"
      },
      {
        "duration": 36,
        "start_time": "2023-05-02T07:21:46.830Z"
      },
      {
        "duration": 51,
        "start_time": "2023-05-02T07:21:46.868Z"
      },
      {
        "duration": 23,
        "start_time": "2023-05-02T07:21:46.920Z"
      },
      {
        "duration": 135,
        "start_time": "2023-05-02T07:39:17.919Z"
      },
      {
        "duration": 104,
        "start_time": "2023-05-02T07:43:30.036Z"
      },
      {
        "duration": 10,
        "start_time": "2023-05-02T07:43:39.427Z"
      },
      {
        "duration": 13,
        "start_time": "2023-05-02T07:43:48.135Z"
      },
      {
        "duration": 10,
        "start_time": "2023-05-02T07:44:34.754Z"
      },
      {
        "duration": 3,
        "start_time": "2023-05-02T07:44:41.336Z"
      },
      {
        "duration": 985,
        "start_time": "2023-05-02T07:44:41.543Z"
      },
      {
        "duration": 100,
        "start_time": "2023-05-02T07:44:42.531Z"
      },
      {
        "duration": 1065,
        "start_time": "2023-05-02T07:44:42.633Z"
      },
      {
        "duration": 1182,
        "start_time": "2023-05-02T07:44:43.708Z"
      },
      {
        "duration": 9,
        "start_time": "2023-05-02T07:44:46.229Z"
      },
      {
        "duration": 25,
        "start_time": "2023-05-02T07:47:47.243Z"
      },
      {
        "duration": 22,
        "start_time": "2023-05-02T07:48:22.099Z"
      },
      {
        "duration": 403,
        "start_time": "2023-05-02T07:49:02.238Z"
      },
      {
        "duration": 967,
        "start_time": "2023-05-02T07:49:02.644Z"
      },
      {
        "duration": 6,
        "start_time": "2023-05-02T07:49:03.613Z"
      },
      {
        "duration": 1149,
        "start_time": "2023-05-02T07:49:03.622Z"
      },
      {
        "duration": 1551,
        "start_time": "2023-05-02T07:49:04.773Z"
      },
      {
        "duration": 28,
        "start_time": "2023-05-02T07:49:06.326Z"
      },
      {
        "duration": 34,
        "start_time": "2023-05-02T07:49:06.355Z"
      },
      {
        "duration": 88,
        "start_time": "2023-05-02T07:49:06.401Z"
      },
      {
        "duration": 106,
        "start_time": "2023-05-02T07:49:06.491Z"
      },
      {
        "duration": 29,
        "start_time": "2023-05-02T07:49:06.599Z"
      },
      {
        "duration": 15,
        "start_time": "2023-05-02T07:49:06.630Z"
      },
      {
        "duration": 22,
        "start_time": "2023-05-02T07:49:43.918Z"
      },
      {
        "duration": 15,
        "start_time": "2023-05-02T07:49:44.914Z"
      },
      {
        "duration": 118,
        "start_time": "2023-05-02T07:50:23.009Z"
      },
      {
        "duration": 431,
        "start_time": "2023-05-02T07:50:36.719Z"
      },
      {
        "duration": 1027,
        "start_time": "2023-05-02T07:50:37.152Z"
      },
      {
        "duration": 17,
        "start_time": "2023-05-02T07:50:38.180Z"
      },
      {
        "duration": 1325,
        "start_time": "2023-05-02T07:50:38.199Z"
      },
      {
        "duration": 1679,
        "start_time": "2023-05-02T07:50:39.528Z"
      },
      {
        "duration": 45,
        "start_time": "2023-05-02T07:50:41.209Z"
      },
      {
        "duration": 81,
        "start_time": "2023-05-02T07:50:41.256Z"
      },
      {
        "duration": 41,
        "start_time": "2023-05-02T07:50:41.339Z"
      },
      {
        "duration": 67,
        "start_time": "2023-05-02T07:50:41.386Z"
      },
      {
        "duration": 5,
        "start_time": "2023-05-02T07:50:41.455Z"
      },
      {
        "duration": 9,
        "start_time": "2023-05-02T07:50:41.462Z"
      },
      {
        "duration": 409,
        "start_time": "2023-05-02T07:51:37.942Z"
      },
      {
        "duration": 444,
        "start_time": "2023-05-02T07:52:30.122Z"
      },
      {
        "duration": 1008,
        "start_time": "2023-05-02T07:52:30.569Z"
      },
      {
        "duration": 9,
        "start_time": "2023-05-02T07:52:31.578Z"
      },
      {
        "duration": 1175,
        "start_time": "2023-05-02T07:52:31.597Z"
      },
      {
        "duration": 1491,
        "start_time": "2023-05-02T07:52:32.774Z"
      },
      {
        "duration": 63,
        "start_time": "2023-05-02T07:52:34.268Z"
      },
      {
        "duration": 3,
        "start_time": "2023-05-02T07:52:34.333Z"
      },
      {
        "duration": 16,
        "start_time": "2023-05-02T07:52:34.338Z"
      },
      {
        "duration": 54,
        "start_time": "2023-05-02T07:52:34.356Z"
      },
      {
        "duration": 5,
        "start_time": "2023-05-02T07:52:34.413Z"
      },
      {
        "duration": 421,
        "start_time": "2023-05-02T07:52:34.420Z"
      },
      {
        "duration": 648,
        "start_time": "2023-05-02T08:09:16.759Z"
      },
      {
        "duration": 452,
        "start_time": "2023-05-02T08:13:09.398Z"
      },
      {
        "duration": 911,
        "start_time": "2023-05-02T08:13:09.853Z"
      },
      {
        "duration": 5,
        "start_time": "2023-05-02T08:13:10.766Z"
      },
      {
        "duration": 952,
        "start_time": "2023-05-02T08:13:10.773Z"
      },
      {
        "duration": 35,
        "start_time": "2023-05-02T08:13:11.727Z"
      },
      {
        "duration": 2,
        "start_time": "2023-05-02T08:13:11.764Z"
      },
      {
        "duration": 33,
        "start_time": "2023-05-02T08:13:11.767Z"
      },
      {
        "duration": 26,
        "start_time": "2023-05-02T08:13:11.802Z"
      },
      {
        "duration": 908,
        "start_time": "2023-05-02T08:13:11.830Z"
      },
      {
        "duration": 3,
        "start_time": "2023-05-02T08:13:12.740Z"
      },
      {
        "duration": 355,
        "start_time": "2023-05-02T08:13:12.745Z"
      },
      {
        "duration": 5,
        "start_time": "2023-05-02T08:38:24.099Z"
      },
      {
        "duration": 660,
        "start_time": "2023-05-02T08:38:25.855Z"
      },
      {
        "duration": 5,
        "start_time": "2023-05-02T08:38:54.373Z"
      },
      {
        "duration": 3,
        "start_time": "2023-05-02T08:56:15.309Z"
      },
      {
        "duration": 884,
        "start_time": "2023-05-02T08:56:15.620Z"
      },
      {
        "duration": 52,
        "start_time": "2023-05-02T08:56:16.581Z"
      },
      {
        "duration": 11,
        "start_time": "2023-05-02T08:56:23.083Z"
      },
      {
        "duration": 761,
        "start_time": "2023-05-02T08:56:24.412Z"
      },
      {
        "duration": 37,
        "start_time": "2023-05-02T08:56:26.193Z"
      },
      {
        "duration": 687,
        "start_time": "2023-05-02T08:56:27.021Z"
      },
      {
        "duration": 248,
        "start_time": "2023-05-02T11:39:20.274Z"
      },
      {
        "duration": 78,
        "start_time": "2023-05-02T11:43:15.421Z"
      },
      {
        "duration": 3,
        "start_time": "2023-05-02T11:43:44.914Z"
      },
      {
        "duration": 15,
        "start_time": "2023-05-02T11:43:49.798Z"
      },
      {
        "duration": 492,
        "start_time": "2023-05-02T11:44:13.861Z"
      },
      {
        "duration": 918,
        "start_time": "2023-05-02T11:44:14.885Z"
      },
      {
        "duration": 1552,
        "start_time": "2023-05-02T11:44:20.661Z"
      },
      {
        "duration": 1734,
        "start_time": "2023-05-02T11:45:44.215Z"
      },
      {
        "duration": 58,
        "start_time": "2023-05-02T11:46:03.790Z"
      },
      {
        "duration": 1559,
        "start_time": "2023-05-02T11:46:17.510Z"
      },
      {
        "duration": 1559,
        "start_time": "2023-05-02T11:46:32.816Z"
      },
      {
        "duration": 232,
        "start_time": "2023-05-02T11:47:30.716Z"
      },
      {
        "duration": 229,
        "start_time": "2023-05-02T11:47:53.327Z"
      },
      {
        "duration": 229,
        "start_time": "2023-05-02T11:48:03.927Z"
      },
      {
        "duration": 217,
        "start_time": "2023-05-02T11:48:22.010Z"
      },
      {
        "duration": 212,
        "start_time": "2023-05-02T11:48:31.143Z"
      },
      {
        "duration": 315,
        "start_time": "2023-05-02T11:48:53.911Z"
      },
      {
        "duration": 54,
        "start_time": "2023-05-02T11:49:18.200Z"
      },
      {
        "duration": 329,
        "start_time": "2023-05-02T11:49:21.548Z"
      },
      {
        "duration": 232,
        "start_time": "2023-05-02T11:49:33.328Z"
      },
      {
        "duration": 228,
        "start_time": "2023-05-02T11:49:43.610Z"
      },
      {
        "duration": 224,
        "start_time": "2023-05-02T11:50:08.548Z"
      },
      {
        "duration": 226,
        "start_time": "2023-05-02T11:50:31.211Z"
      },
      {
        "duration": 260,
        "start_time": "2023-05-02T11:51:24.295Z"
      },
      {
        "duration": 216,
        "start_time": "2023-05-02T11:51:54.747Z"
      },
      {
        "duration": 195,
        "start_time": "2023-05-02T11:52:28.422Z"
      },
      {
        "duration": 242,
        "start_time": "2023-05-02T11:52:48.705Z"
      },
      {
        "duration": 183,
        "start_time": "2023-05-02T11:52:57.632Z"
      },
      {
        "duration": 385,
        "start_time": "2023-05-02T11:54:33.919Z"
      },
      {
        "duration": 232,
        "start_time": "2023-05-02T11:55:09.349Z"
      },
      {
        "duration": 224,
        "start_time": "2023-05-02T11:55:11.414Z"
      },
      {
        "duration": 1181,
        "start_time": "2023-05-02T12:02:45.338Z"
      },
      {
        "duration": 894,
        "start_time": "2023-05-02T12:02:46.521Z"
      },
      {
        "duration": 44,
        "start_time": "2023-05-02T12:02:47.417Z"
      },
      {
        "duration": 8,
        "start_time": "2023-05-02T12:02:47.464Z"
      },
      {
        "duration": 756,
        "start_time": "2023-05-02T12:02:47.474Z"
      },
      {
        "duration": 22,
        "start_time": "2023-05-02T12:02:48.231Z"
      },
      {
        "duration": 645,
        "start_time": "2023-05-02T12:02:48.254Z"
      },
      {
        "duration": 215,
        "start_time": "2023-05-02T12:02:48.907Z"
      },
      {
        "duration": 203,
        "start_time": "2023-05-02T12:02:49.124Z"
      },
      {
        "duration": 239,
        "start_time": "2023-05-02T12:02:49.330Z"
      },
      {
        "duration": 238,
        "start_time": "2023-05-02T12:02:49.570Z"
      },
      {
        "duration": 5,
        "start_time": "2023-05-02T12:02:49.814Z"
      },
      {
        "duration": 492,
        "start_time": "2023-05-02T12:02:49.820Z"
      },
      {
        "duration": 1348,
        "start_time": "2023-05-02T12:21:05.155Z"
      },
      {
        "duration": 917,
        "start_time": "2023-05-02T12:21:06.510Z"
      },
      {
        "duration": 56,
        "start_time": "2023-05-02T12:21:07.428Z"
      },
      {
        "duration": 53,
        "start_time": "2023-05-02T12:21:07.490Z"
      },
      {
        "duration": 741,
        "start_time": "2023-05-02T12:21:07.545Z"
      },
      {
        "duration": 38,
        "start_time": "2023-05-02T12:21:08.294Z"
      },
      {
        "duration": 618,
        "start_time": "2023-05-02T12:21:08.333Z"
      },
      {
        "duration": 236,
        "start_time": "2023-05-02T12:21:08.952Z"
      },
      {
        "duration": 223,
        "start_time": "2023-05-02T12:21:09.190Z"
      },
      {
        "duration": 239,
        "start_time": "2023-05-02T12:21:09.421Z"
      },
      {
        "duration": 274,
        "start_time": "2023-05-02T12:21:09.662Z"
      },
      {
        "duration": 4,
        "start_time": "2023-05-02T12:21:09.938Z"
      },
      {
        "duration": 474,
        "start_time": "2023-05-02T12:21:09.943Z"
      },
      {
        "duration": 1100,
        "start_time": "2023-05-02T12:58:02.341Z"
      },
      {
        "duration": 868,
        "start_time": "2023-05-02T12:58:03.443Z"
      },
      {
        "duration": 44,
        "start_time": "2023-05-02T12:58:04.313Z"
      },
      {
        "duration": 54,
        "start_time": "2023-05-02T12:58:04.359Z"
      },
      {
        "duration": 659,
        "start_time": "2023-05-02T12:58:04.415Z"
      },
      {
        "duration": 36,
        "start_time": "2023-05-02T12:58:05.083Z"
      },
      {
        "duration": 691,
        "start_time": "2023-05-02T12:58:05.120Z"
      },
      {
        "duration": 214,
        "start_time": "2023-05-02T12:58:05.814Z"
      },
      {
        "duration": 203,
        "start_time": "2023-05-02T12:58:06.030Z"
      },
      {
        "duration": 214,
        "start_time": "2023-05-02T12:58:06.234Z"
      },
      {
        "duration": 211,
        "start_time": "2023-05-02T12:58:06.449Z"
      },
      {
        "duration": 2,
        "start_time": "2023-05-02T12:58:06.662Z"
      },
      {
        "duration": 402,
        "start_time": "2023-05-02T12:58:06.665Z"
      },
      {
        "duration": 3,
        "start_time": "2023-05-02T13:02:51.069Z"
      },
      {
        "duration": 250,
        "start_time": "2023-05-02T13:04:53.767Z"
      },
      {
        "duration": 320,
        "start_time": "2023-05-02T13:05:05.513Z"
      },
      {
        "duration": 259,
        "start_time": "2023-05-02T13:05:40.614Z"
      },
      {
        "duration": 202,
        "start_time": "2023-05-02T13:05:48.714Z"
      },
      {
        "duration": 237,
        "start_time": "2023-05-02T13:06:17.173Z"
      },
      {
        "duration": 194,
        "start_time": "2023-05-02T13:06:25.526Z"
      },
      {
        "duration": 186,
        "start_time": "2023-05-02T13:06:51.569Z"
      },
      {
        "duration": 228,
        "start_time": "2023-05-02T13:07:12.129Z"
      },
      {
        "duration": 193,
        "start_time": "2023-05-02T13:07:12.601Z"
      },
      {
        "duration": 195,
        "start_time": "2023-05-02T13:07:13.223Z"
      },
      {
        "duration": 195,
        "start_time": "2023-05-02T13:07:13.868Z"
      },
      {
        "duration": 315,
        "start_time": "2023-05-02T13:07:16.008Z"
      },
      {
        "duration": 1668,
        "start_time": "2023-05-02T13:08:46.022Z"
      },
      {
        "duration": 1460,
        "start_time": "2023-05-02T13:09:05.310Z"
      },
      {
        "duration": 1462,
        "start_time": "2023-05-02T13:09:11.568Z"
      },
      {
        "duration": 1795,
        "start_time": "2023-05-02T13:09:34.921Z"
      },
      {
        "duration": 1879,
        "start_time": "2023-05-02T13:09:44.538Z"
      },
      {
        "duration": 1591,
        "start_time": "2023-05-02T13:09:56.812Z"
      },
      {
        "duration": 1628,
        "start_time": "2023-05-02T13:10:13.174Z"
      },
      {
        "duration": 1636,
        "start_time": "2023-05-02T13:10:24.204Z"
      },
      {
        "duration": 1630,
        "start_time": "2023-05-02T13:10:32.176Z"
      },
      {
        "duration": 239,
        "start_time": "2023-05-02T13:12:22.563Z"
      },
      {
        "duration": 230,
        "start_time": "2023-05-02T13:12:32.119Z"
      },
      {
        "duration": 207,
        "start_time": "2023-05-02T13:12:38.312Z"
      },
      {
        "duration": 337,
        "start_time": "2023-05-02T13:12:53.262Z"
      },
      {
        "duration": 220,
        "start_time": "2023-05-02T13:13:01.507Z"
      },
      {
        "duration": 176,
        "start_time": "2023-05-02T13:13:11.313Z"
      },
      {
        "duration": 180,
        "start_time": "2023-05-02T13:13:20.618Z"
      },
      {
        "duration": 189,
        "start_time": "2023-05-02T13:13:28.415Z"
      },
      {
        "duration": 216,
        "start_time": "2023-05-02T13:14:36.911Z"
      },
      {
        "duration": 206,
        "start_time": "2023-05-02T13:14:37.541Z"
      },
      {
        "duration": 218,
        "start_time": "2023-05-02T13:14:38.237Z"
      },
      {
        "duration": 212,
        "start_time": "2023-05-02T13:14:52.048Z"
      },
      {
        "duration": 220,
        "start_time": "2023-05-02T13:15:00.776Z"
      },
      {
        "duration": 297,
        "start_time": "2023-05-02T13:15:05.631Z"
      },
      {
        "duration": 1435,
        "start_time": "2023-05-02T13:15:10.235Z"
      },
      {
        "duration": 220,
        "start_time": "2023-05-02T13:15:17.957Z"
      },
      {
        "duration": 590,
        "start_time": "2023-05-02T13:15:21.654Z"
      },
      {
        "duration": 648,
        "start_time": "2023-05-02T13:15:28.009Z"
      },
      {
        "duration": 272,
        "start_time": "2023-05-02T13:15:36.786Z"
      },
      {
        "duration": 204,
        "start_time": "2023-05-02T13:15:43.551Z"
      },
      {
        "duration": 298,
        "start_time": "2023-05-02T13:15:48.651Z"
      },
      {
        "duration": 4,
        "start_time": "2023-05-02T14:31:04.609Z"
      },
      {
        "duration": 73,
        "start_time": "2023-05-02T14:31:35.456Z"
      },
      {
        "duration": 4,
        "start_time": "2023-05-02T14:31:48.156Z"
      },
      {
        "duration": 115,
        "start_time": "2023-05-02T14:31:53.897Z"
      },
      {
        "duration": 6,
        "start_time": "2023-05-02T14:33:06.426Z"
      },
      {
        "duration": 14,
        "start_time": "2023-05-02T14:33:19.055Z"
      },
      {
        "duration": 22,
        "start_time": "2023-05-02T14:34:42.080Z"
      },
      {
        "duration": 12,
        "start_time": "2023-05-02T14:34:54.211Z"
      },
      {
        "duration": 256,
        "start_time": "2023-05-02T14:34:56.865Z"
      },
      {
        "duration": 15,
        "start_time": "2023-05-02T14:34:57.406Z"
      },
      {
        "duration": 6,
        "start_time": "2023-05-02T14:35:54.502Z"
      },
      {
        "duration": 1187,
        "start_time": "2023-05-02T14:36:03.620Z"
      },
      {
        "duration": 922,
        "start_time": "2023-05-02T14:36:04.809Z"
      },
      {
        "duration": 68,
        "start_time": "2023-05-02T14:36:05.733Z"
      },
      {
        "duration": 25,
        "start_time": "2023-05-02T14:36:05.803Z"
      },
      {
        "duration": 692,
        "start_time": "2023-05-02T14:36:05.831Z"
      },
      {
        "duration": 25,
        "start_time": "2023-05-02T14:36:06.525Z"
      },
      {
        "duration": 696,
        "start_time": "2023-05-02T14:36:06.551Z"
      },
      {
        "duration": 240,
        "start_time": "2023-05-02T14:36:07.248Z"
      },
      {
        "duration": 196,
        "start_time": "2023-05-02T14:36:07.490Z"
      },
      {
        "duration": 13,
        "start_time": "2023-05-02T14:36:07.688Z"
      },
      {
        "duration": 217,
        "start_time": "2023-05-02T14:36:07.704Z"
      },
      {
        "duration": 215,
        "start_time": "2023-05-02T14:36:07.923Z"
      },
      {
        "duration": 361,
        "start_time": "2023-05-02T14:36:08.140Z"
      },
      {
        "duration": 434,
        "start_time": "2023-05-02T14:36:08.506Z"
      },
      {
        "duration": 417,
        "start_time": "2023-05-02T14:36:08.942Z"
      },
      {
        "duration": 2,
        "start_time": "2023-05-02T14:36:09.363Z"
      },
      {
        "duration": 378,
        "start_time": "2023-05-02T14:36:09.367Z"
      },
      {
        "duration": 54,
        "start_time": "2023-05-03T06:26:41.889Z"
      },
      {
        "duration": 1378,
        "start_time": "2023-05-03T06:26:51.307Z"
      },
      {
        "duration": 1054,
        "start_time": "2023-05-03T06:26:52.687Z"
      },
      {
        "duration": 6,
        "start_time": "2023-05-03T06:26:53.743Z"
      },
      {
        "duration": 976,
        "start_time": "2023-05-03T06:26:53.752Z"
      },
      {
        "duration": 47,
        "start_time": "2023-05-03T06:26:54.730Z"
      },
      {
        "duration": 26,
        "start_time": "2023-05-03T06:26:54.791Z"
      },
      {
        "duration": 694,
        "start_time": "2023-05-03T06:26:54.819Z"
      },
      {
        "duration": 250,
        "start_time": "2023-05-03T06:26:55.515Z"
      },
      {
        "duration": 209,
        "start_time": "2023-05-03T06:26:55.767Z"
      },
      {
        "duration": 12,
        "start_time": "2023-05-03T06:26:55.980Z"
      },
      {
        "duration": 211,
        "start_time": "2023-05-03T06:26:55.994Z"
      },
      {
        "duration": 191,
        "start_time": "2023-05-03T06:26:56.207Z"
      },
      {
        "duration": 348,
        "start_time": "2023-05-03T06:26:56.400Z"
      },
      {
        "duration": 406,
        "start_time": "2023-05-03T06:26:56.750Z"
      },
      {
        "duration": 487,
        "start_time": "2023-05-03T06:26:57.158Z"
      },
      {
        "duration": 2,
        "start_time": "2023-05-03T06:26:57.647Z"
      },
      {
        "duration": 237,
        "start_time": "2023-05-03T06:26:57.651Z"
      },
      {
        "duration": 374,
        "start_time": "2023-05-03T06:30:27.539Z"
      },
      {
        "duration": 3,
        "start_time": "2023-05-03T06:41:39.960Z"
      },
      {
        "duration": 5,
        "start_time": "2023-05-03T06:42:14.496Z"
      },
      {
        "duration": 100,
        "start_time": "2023-05-03T06:42:19.944Z"
      },
      {
        "duration": 5,
        "start_time": "2023-05-03T06:42:25.752Z"
      },
      {
        "duration": 1202,
        "start_time": "2023-05-03T06:42:38.481Z"
      },
      {
        "duration": 779,
        "start_time": "2023-05-03T06:42:39.685Z"
      },
      {
        "duration": 6,
        "start_time": "2023-05-03T06:42:40.466Z"
      },
      {
        "duration": 861,
        "start_time": "2023-05-03T06:42:40.475Z"
      },
      {
        "duration": 42,
        "start_time": "2023-05-03T06:42:41.338Z"
      },
      {
        "duration": 428,
        "start_time": "2023-05-03T06:42:41.382Z"
      },
      {
        "duration": 21,
        "start_time": "2023-05-03T06:42:41.812Z"
      },
      {
        "duration": 591,
        "start_time": "2023-05-03T06:42:41.835Z"
      },
      {
        "duration": 223,
        "start_time": "2023-05-03T06:42:42.427Z"
      },
      {
        "duration": 198,
        "start_time": "2023-05-03T06:42:42.652Z"
      },
      {
        "duration": 7,
        "start_time": "2023-05-03T06:42:42.852Z"
      },
      {
        "duration": 230,
        "start_time": "2023-05-03T06:42:42.861Z"
      },
      {
        "duration": 209,
        "start_time": "2023-05-03T06:42:43.093Z"
      },
      {
        "duration": 340,
        "start_time": "2023-05-03T06:42:43.304Z"
      },
      {
        "duration": 398,
        "start_time": "2023-05-03T06:42:43.645Z"
      },
      {
        "duration": 388,
        "start_time": "2023-05-03T06:42:44.045Z"
      },
      {
        "duration": 3,
        "start_time": "2023-05-03T06:42:44.434Z"
      },
      {
        "duration": 12,
        "start_time": "2023-05-03T06:42:44.438Z"
      },
      {
        "duration": 6,
        "start_time": "2023-05-03T06:44:17.645Z"
      },
      {
        "duration": 7,
        "start_time": "2023-05-03T06:44:24.830Z"
      },
      {
        "duration": 6,
        "start_time": "2023-05-03T06:44:40.243Z"
      },
      {
        "duration": 6,
        "start_time": "2023-05-03T06:46:12.669Z"
      },
      {
        "duration": 5,
        "start_time": "2023-05-03T06:46:20.920Z"
      },
      {
        "duration": 6,
        "start_time": "2023-05-03T06:46:30.422Z"
      },
      {
        "duration": 6,
        "start_time": "2023-05-03T06:46:37.046Z"
      },
      {
        "duration": 5,
        "start_time": "2023-05-03T06:46:53.542Z"
      },
      {
        "duration": 6,
        "start_time": "2023-05-03T06:47:02.921Z"
      },
      {
        "duration": 6,
        "start_time": "2023-05-03T06:48:55.343Z"
      },
      {
        "duration": 5,
        "start_time": "2023-05-03T06:48:55.709Z"
      },
      {
        "duration": 6,
        "start_time": "2023-05-03T06:48:56.160Z"
      },
      {
        "duration": 5,
        "start_time": "2023-05-03T06:48:56.574Z"
      },
      {
        "duration": 6,
        "start_time": "2023-05-03T06:48:57.127Z"
      },
      {
        "duration": 6,
        "start_time": "2023-05-03T06:49:25.738Z"
      },
      {
        "duration": 6,
        "start_time": "2023-05-03T06:49:42.241Z"
      },
      {
        "duration": 1240,
        "start_time": "2023-05-03T06:54:42.773Z"
      },
      {
        "duration": 785,
        "start_time": "2023-05-03T06:54:44.015Z"
      },
      {
        "duration": 5,
        "start_time": "2023-05-03T06:54:44.802Z"
      },
      {
        "duration": 869,
        "start_time": "2023-05-03T06:54:44.809Z"
      },
      {
        "duration": 41,
        "start_time": "2023-05-03T06:54:45.680Z"
      },
      {
        "duration": 458,
        "start_time": "2023-05-03T06:54:45.723Z"
      },
      {
        "duration": 26,
        "start_time": "2023-05-03T06:54:46.184Z"
      },
      {
        "duration": 636,
        "start_time": "2023-05-03T06:54:46.212Z"
      },
      {
        "duration": 7,
        "start_time": "2023-05-03T06:54:46.850Z"
      },
      {
        "duration": 9,
        "start_time": "2023-05-03T06:54:46.859Z"
      },
      {
        "duration": 24,
        "start_time": "2023-05-03T06:54:46.869Z"
      },
      {
        "duration": 6,
        "start_time": "2023-05-03T06:54:46.895Z"
      },
      {
        "duration": 6,
        "start_time": "2023-05-03T06:54:46.903Z"
      },
      {
        "duration": 232,
        "start_time": "2023-05-03T06:54:46.911Z"
      },
      {
        "duration": 188,
        "start_time": "2023-05-03T06:54:47.145Z"
      },
      {
        "duration": 6,
        "start_time": "2023-05-03T06:54:47.335Z"
      },
      {
        "duration": 6,
        "start_time": "2023-05-03T06:54:47.343Z"
      },
      {
        "duration": 220,
        "start_time": "2023-05-03T06:54:47.351Z"
      },
      {
        "duration": 191,
        "start_time": "2023-05-03T06:54:47.573Z"
      },
      {
        "duration": 335,
        "start_time": "2023-05-03T06:54:47.766Z"
      },
      {
        "duration": 430,
        "start_time": "2023-05-03T06:54:48.108Z"
      },
      {
        "duration": 388,
        "start_time": "2023-05-03T06:54:48.541Z"
      },
      {
        "duration": 3,
        "start_time": "2023-05-03T06:54:48.931Z"
      },
      {
        "duration": 7,
        "start_time": "2023-05-03T06:54:48.936Z"
      },
      {
        "duration": 6,
        "start_time": "2023-05-03T06:57:24.452Z"
      },
      {
        "duration": 6,
        "start_time": "2023-05-03T06:57:25.405Z"
      },
      {
        "duration": 6,
        "start_time": "2023-05-03T07:01:16.553Z"
      },
      {
        "duration": 6,
        "start_time": "2023-05-03T07:01:39.624Z"
      },
      {
        "duration": 6,
        "start_time": "2023-05-03T07:02:24.043Z"
      },
      {
        "duration": 6,
        "start_time": "2023-05-03T07:02:31.721Z"
      },
      {
        "duration": 5,
        "start_time": "2023-05-03T07:02:38.333Z"
      },
      {
        "duration": 6,
        "start_time": "2023-05-03T07:02:45.233Z"
      },
      {
        "duration": 6,
        "start_time": "2023-05-03T07:02:54.820Z"
      },
      {
        "duration": 6,
        "start_time": "2023-05-03T07:03:16.758Z"
      },
      {
        "duration": 6,
        "start_time": "2023-05-03T07:03:23.250Z"
      },
      {
        "duration": 6,
        "start_time": "2023-05-03T07:03:27.033Z"
      },
      {
        "duration": 204,
        "start_time": "2023-05-03T07:08:58.687Z"
      },
      {
        "duration": 200,
        "start_time": "2023-05-03T07:09:14.425Z"
      },
      {
        "duration": 212,
        "start_time": "2023-05-03T07:09:25.517Z"
      },
      {
        "duration": 6,
        "start_time": "2023-05-03T07:10:13.369Z"
      },
      {
        "duration": 5,
        "start_time": "2023-05-03T07:10:21.070Z"
      },
      {
        "duration": 5,
        "start_time": "2023-05-03T07:10:33.430Z"
      },
      {
        "duration": 6,
        "start_time": "2023-05-03T07:10:41.464Z"
      },
      {
        "duration": 6,
        "start_time": "2023-05-03T07:10:46.437Z"
      },
      {
        "duration": 6,
        "start_time": "2023-05-03T07:11:10.141Z"
      },
      {
        "duration": 286,
        "start_time": "2023-05-03T07:11:28.858Z"
      },
      {
        "duration": 226,
        "start_time": "2023-05-03T07:11:40.041Z"
      },
      {
        "duration": 144,
        "start_time": "2023-05-03T07:11:45.861Z"
      },
      {
        "duration": 119,
        "start_time": "2023-05-03T07:11:52.859Z"
      },
      {
        "duration": 125,
        "start_time": "2023-05-03T07:12:00.025Z"
      },
      {
        "duration": 140,
        "start_time": "2023-05-03T07:12:04.608Z"
      },
      {
        "duration": 138,
        "start_time": "2023-05-03T07:12:09.141Z"
      },
      {
        "duration": 1184,
        "start_time": "2023-05-03T07:18:28.510Z"
      },
      {
        "duration": 786,
        "start_time": "2023-05-03T07:18:29.697Z"
      },
      {
        "duration": 9,
        "start_time": "2023-05-03T07:18:30.485Z"
      },
      {
        "duration": 930,
        "start_time": "2023-05-03T07:18:30.496Z"
      },
      {
        "duration": 45,
        "start_time": "2023-05-03T07:18:31.428Z"
      },
      {
        "duration": 470,
        "start_time": "2023-05-03T07:18:31.474Z"
      },
      {
        "duration": 23,
        "start_time": "2023-05-03T07:18:31.945Z"
      },
      {
        "duration": 644,
        "start_time": "2023-05-03T07:18:31.970Z"
      },
      {
        "duration": 8,
        "start_time": "2023-05-03T07:18:32.615Z"
      },
      {
        "duration": 17,
        "start_time": "2023-05-03T07:18:32.625Z"
      },
      {
        "duration": 21,
        "start_time": "2023-05-03T07:18:32.644Z"
      },
      {
        "duration": 22,
        "start_time": "2023-05-03T07:18:32.667Z"
      },
      {
        "duration": 14,
        "start_time": "2023-05-03T07:18:32.691Z"
      },
      {
        "duration": 246,
        "start_time": "2023-05-03T07:18:32.707Z"
      },
      {
        "duration": 6,
        "start_time": "2023-05-03T07:18:32.954Z"
      },
      {
        "duration": 152,
        "start_time": "2023-05-03T07:18:32.961Z"
      },
      {
        "duration": 5,
        "start_time": "2023-05-03T07:18:33.115Z"
      },
      {
        "duration": 220,
        "start_time": "2023-05-03T07:18:33.122Z"
      },
      {
        "duration": 185,
        "start_time": "2023-05-03T07:18:33.344Z"
      },
      {
        "duration": 6,
        "start_time": "2023-05-03T07:18:33.532Z"
      },
      {
        "duration": 12,
        "start_time": "2023-05-03T07:18:33.540Z"
      },
      {
        "duration": 302,
        "start_time": "2023-05-03T07:18:33.554Z"
      },
      {
        "duration": 199,
        "start_time": "2023-05-03T07:18:33.858Z"
      },
      {
        "duration": 251,
        "start_time": "2023-05-03T07:18:34.058Z"
      },
      {
        "duration": 436,
        "start_time": "2023-05-03T07:18:34.311Z"
      },
      {
        "duration": 399,
        "start_time": "2023-05-03T07:18:34.749Z"
      },
      {
        "duration": 2,
        "start_time": "2023-05-03T07:18:35.150Z"
      },
      {
        "duration": 3,
        "start_time": "2023-05-03T07:18:35.155Z"
      },
      {
        "duration": 72,
        "start_time": "2023-05-04T06:24:53.287Z"
      },
      {
        "duration": 1300,
        "start_time": "2023-05-04T06:25:01.295Z"
      },
      {
        "duration": 1107,
        "start_time": "2023-05-04T06:25:02.597Z"
      },
      {
        "duration": 4,
        "start_time": "2023-05-04T06:25:03.706Z"
      },
      {
        "duration": 939,
        "start_time": "2023-05-04T06:25:03.713Z"
      },
      {
        "duration": 32,
        "start_time": "2023-05-04T06:25:04.656Z"
      },
      {
        "duration": 405,
        "start_time": "2023-05-04T06:25:04.690Z"
      },
      {
        "duration": 33,
        "start_time": "2023-05-04T06:25:05.097Z"
      },
      {
        "duration": 584,
        "start_time": "2023-05-04T06:25:05.132Z"
      },
      {
        "duration": 6,
        "start_time": "2023-05-04T06:25:05.718Z"
      },
      {
        "duration": 33,
        "start_time": "2023-05-04T06:25:05.727Z"
      },
      {
        "duration": 9,
        "start_time": "2023-05-04T06:25:05.762Z"
      },
      {
        "duration": 17,
        "start_time": "2023-05-04T06:25:05.772Z"
      },
      {
        "duration": 35,
        "start_time": "2023-05-04T06:25:05.791Z"
      },
      {
        "duration": 216,
        "start_time": "2023-05-04T06:25:05.828Z"
      },
      {
        "duration": 12,
        "start_time": "2023-05-04T06:25:06.046Z"
      },
      {
        "duration": 152,
        "start_time": "2023-05-04T06:25:06.060Z"
      },
      {
        "duration": 6,
        "start_time": "2023-05-04T06:25:06.214Z"
      },
      {
        "duration": 210,
        "start_time": "2023-05-04T06:25:06.221Z"
      },
      {
        "duration": 186,
        "start_time": "2023-05-04T06:25:06.433Z"
      },
      {
        "duration": 6,
        "start_time": "2023-05-04T06:25:06.621Z"
      },
      {
        "duration": 12,
        "start_time": "2023-05-04T06:25:06.628Z"
      },
      {
        "duration": 289,
        "start_time": "2023-05-04T06:25:06.642Z"
      },
      {
        "duration": 198,
        "start_time": "2023-05-04T06:25:06.933Z"
      },
      {
        "duration": 246,
        "start_time": "2023-05-04T06:25:07.133Z"
      },
      {
        "duration": 383,
        "start_time": "2023-05-04T06:25:07.381Z"
      },
      {
        "duration": 360,
        "start_time": "2023-05-04T06:25:07.766Z"
      },
      {
        "duration": 107,
        "start_time": "2023-05-04T06:25:08.127Z"
      },
      {
        "duration": 0,
        "start_time": "2023-05-04T06:25:08.236Z"
      },
      {
        "duration": 0,
        "start_time": "2023-05-04T06:25:08.238Z"
      },
      {
        "duration": 19,
        "start_time": "2023-05-04T06:25:48.463Z"
      },
      {
        "duration": 232,
        "start_time": "2023-05-04T06:25:56.793Z"
      },
      {
        "duration": 411,
        "start_time": "2023-05-04T06:29:15.799Z"
      },
      {
        "duration": 277,
        "start_time": "2023-05-04T06:29:30.112Z"
      },
      {
        "duration": 289,
        "start_time": "2023-05-04T06:30:26.305Z"
      },
      {
        "duration": 302,
        "start_time": "2023-05-04T06:30:36.356Z"
      },
      {
        "duration": 314,
        "start_time": "2023-05-04T06:31:16.519Z"
      },
      {
        "duration": 594,
        "start_time": "2023-05-04T06:31:25.725Z"
      },
      {
        "duration": 450,
        "start_time": "2023-05-04T06:31:32.205Z"
      },
      {
        "duration": 377,
        "start_time": "2023-05-04T06:34:48.872Z"
      },
      {
        "duration": 486,
        "start_time": "2023-05-04T06:35:12.630Z"
      },
      {
        "duration": 449,
        "start_time": "2023-05-04T06:36:56.609Z"
      },
      {
        "duration": 501,
        "start_time": "2023-05-04T06:37:34.010Z"
      },
      {
        "duration": 454,
        "start_time": "2023-05-04T06:37:50.606Z"
      },
      {
        "duration": 458,
        "start_time": "2023-05-04T06:37:51.467Z"
      },
      {
        "duration": 324,
        "start_time": "2023-05-04T06:38:44.915Z"
      },
      {
        "duration": 446,
        "start_time": "2023-05-04T06:38:49.282Z"
      },
      {
        "duration": 591,
        "start_time": "2023-05-04T06:39:03.775Z"
      },
      {
        "duration": 717,
        "start_time": "2023-05-04T06:39:12.546Z"
      },
      {
        "duration": 585,
        "start_time": "2023-05-04T06:42:51.690Z"
      },
      {
        "duration": 652,
        "start_time": "2023-05-04T06:44:26.097Z"
      },
      {
        "duration": 8,
        "start_time": "2023-05-04T06:47:41.073Z"
      },
      {
        "duration": 7,
        "start_time": "2023-05-04T06:47:48.776Z"
      },
      {
        "duration": 5,
        "start_time": "2023-05-04T06:48:06.411Z"
      },
      {
        "duration": 84,
        "start_time": "2023-05-04T06:49:04.488Z"
      },
      {
        "duration": 7,
        "start_time": "2023-05-04T06:49:22.939Z"
      },
      {
        "duration": 11,
        "start_time": "2023-05-04T06:49:44.179Z"
      },
      {
        "duration": 5,
        "start_time": "2023-05-04T06:50:53.031Z"
      },
      {
        "duration": 6,
        "start_time": "2023-05-04T06:51:45.731Z"
      },
      {
        "duration": 600,
        "start_time": "2023-05-04T06:52:25.352Z"
      },
      {
        "duration": 9,
        "start_time": "2023-05-04T06:52:50.658Z"
      },
      {
        "duration": 219,
        "start_time": "2023-05-04T06:56:11.202Z"
      },
      {
        "duration": 720,
        "start_time": "2023-05-04T06:57:26.244Z"
      },
      {
        "duration": 11,
        "start_time": "2023-05-04T06:57:41.449Z"
      },
      {
        "duration": 688,
        "start_time": "2023-05-04T06:58:26.426Z"
      },
      {
        "duration": 7,
        "start_time": "2023-05-04T06:58:32.042Z"
      },
      {
        "duration": 641,
        "start_time": "2023-05-04T06:58:32.191Z"
      },
      {
        "duration": 601,
        "start_time": "2023-05-04T06:58:37.835Z"
      },
      {
        "duration": 10,
        "start_time": "2023-05-04T06:58:39.660Z"
      },
      {
        "duration": 812,
        "start_time": "2023-05-04T06:59:27.057Z"
      },
      {
        "duration": 11,
        "start_time": "2023-05-04T07:00:16.865Z"
      },
      {
        "duration": 597,
        "start_time": "2023-05-04T07:01:23.120Z"
      },
      {
        "duration": 11,
        "start_time": "2023-05-04T07:01:23.886Z"
      },
      {
        "duration": 641,
        "start_time": "2023-05-04T07:02:12.520Z"
      },
      {
        "duration": 9,
        "start_time": "2023-05-04T07:02:14.456Z"
      },
      {
        "duration": 602,
        "start_time": "2023-05-04T07:03:06.424Z"
      },
      {
        "duration": 7,
        "start_time": "2023-05-04T07:03:07.028Z"
      },
      {
        "duration": 7,
        "start_time": "2023-05-04T07:03:20.079Z"
      },
      {
        "duration": 704,
        "start_time": "2023-05-04T07:04:29.091Z"
      },
      {
        "duration": 770,
        "start_time": "2023-05-04T07:04:55.412Z"
      },
      {
        "duration": 661,
        "start_time": "2023-05-04T07:05:45.329Z"
      },
      {
        "duration": 702,
        "start_time": "2023-05-04T07:06:18.211Z"
      },
      {
        "duration": 253,
        "start_time": "2023-05-04T07:07:48.514Z"
      },
      {
        "duration": 279,
        "start_time": "2023-05-04T07:08:20.107Z"
      },
      {
        "duration": 299,
        "start_time": "2023-05-04T07:08:29.652Z"
      },
      {
        "duration": 202,
        "start_time": "2023-05-04T07:08:41.517Z"
      },
      {
        "duration": 195,
        "start_time": "2023-05-04T07:08:48.016Z"
      },
      {
        "duration": 223,
        "start_time": "2023-05-04T07:08:53.914Z"
      },
      {
        "duration": 185,
        "start_time": "2023-05-04T07:09:20.982Z"
      },
      {
        "duration": 967,
        "start_time": "2023-05-04T07:09:30.494Z"
      },
      {
        "duration": 174,
        "start_time": "2023-05-04T07:09:49.150Z"
      },
      {
        "duration": 262,
        "start_time": "2023-05-04T07:13:07.425Z"
      },
      {
        "duration": 5,
        "start_time": "2023-05-04T07:15:03.095Z"
      },
      {
        "duration": 6,
        "start_time": "2023-05-04T07:15:37.935Z"
      },
      {
        "duration": 3,
        "start_time": "2023-05-04T07:16:37.822Z"
      },
      {
        "duration": 610,
        "start_time": "2023-05-04T07:17:01.133Z"
      },
      {
        "duration": 6,
        "start_time": "2023-05-04T07:17:02.679Z"
      },
      {
        "duration": 3,
        "start_time": "2023-05-04T07:17:03.685Z"
      },
      {
        "duration": 3,
        "start_time": "2023-05-04T07:17:16.644Z"
      },
      {
        "duration": 5,
        "start_time": "2023-05-04T07:18:43.950Z"
      },
      {
        "duration": 280,
        "start_time": "2023-05-04T07:20:32.229Z"
      },
      {
        "duration": 214,
        "start_time": "2023-05-04T07:21:43.076Z"
      },
      {
        "duration": 4,
        "start_time": "2023-05-04T07:23:47.954Z"
      },
      {
        "duration": 1073,
        "start_time": "2023-05-04T07:24:17.682Z"
      },
      {
        "duration": 874,
        "start_time": "2023-05-04T07:24:18.757Z"
      },
      {
        "duration": 4,
        "start_time": "2023-05-04T07:24:19.633Z"
      },
      {
        "duration": 857,
        "start_time": "2023-05-04T07:24:19.639Z"
      },
      {
        "duration": 38,
        "start_time": "2023-05-04T07:24:20.498Z"
      },
      {
        "duration": 428,
        "start_time": "2023-05-04T07:24:20.538Z"
      },
      {
        "duration": 22,
        "start_time": "2023-05-04T07:24:20.967Z"
      },
      {
        "duration": 587,
        "start_time": "2023-05-04T07:24:20.991Z"
      },
      {
        "duration": 529,
        "start_time": "2023-05-04T07:24:21.580Z"
      },
      {
        "duration": 6,
        "start_time": "2023-05-04T07:24:22.112Z"
      },
      {
        "duration": 120,
        "start_time": "2023-05-04T07:24:22.120Z"
      },
      {
        "duration": 0,
        "start_time": "2023-05-04T07:24:22.242Z"
      },
      {
        "duration": 0,
        "start_time": "2023-05-04T07:24:22.244Z"
      },
      {
        "duration": 0,
        "start_time": "2023-05-04T07:24:22.245Z"
      },
      {
        "duration": 0,
        "start_time": "2023-05-04T07:24:22.256Z"
      },
      {
        "duration": 0,
        "start_time": "2023-05-04T07:24:22.258Z"
      },
      {
        "duration": 0,
        "start_time": "2023-05-04T07:24:22.259Z"
      },
      {
        "duration": 0,
        "start_time": "2023-05-04T07:24:22.261Z"
      },
      {
        "duration": 0,
        "start_time": "2023-05-04T07:24:22.263Z"
      },
      {
        "duration": 0,
        "start_time": "2023-05-04T07:24:22.265Z"
      },
      {
        "duration": 0,
        "start_time": "2023-05-04T07:24:22.266Z"
      },
      {
        "duration": 401,
        "start_time": "2023-05-04T07:24:45.441Z"
      },
      {
        "duration": 623,
        "start_time": "2023-05-04T07:24:53.281Z"
      },
      {
        "duration": 77,
        "start_time": "2023-05-04T07:25:06.245Z"
      },
      {
        "duration": 646,
        "start_time": "2023-05-04T07:27:33.922Z"
      },
      {
        "duration": 548,
        "start_time": "2023-05-04T07:27:46.086Z"
      },
      {
        "duration": 542,
        "start_time": "2023-05-04T07:28:05.502Z"
      },
      {
        "duration": 10,
        "start_time": "2023-05-04T07:29:14.530Z"
      },
      {
        "duration": 7,
        "start_time": "2023-05-04T07:29:21.285Z"
      },
      {
        "duration": 456,
        "start_time": "2023-05-04T07:32:09.104Z"
      },
      {
        "duration": 553,
        "start_time": "2023-05-04T07:33:11.948Z"
      },
      {
        "duration": 1157,
        "start_time": "2023-05-04T07:33:21.024Z"
      },
      {
        "duration": 796,
        "start_time": "2023-05-04T07:33:22.183Z"
      },
      {
        "duration": 5,
        "start_time": "2023-05-04T07:33:22.980Z"
      },
      {
        "duration": 945,
        "start_time": "2023-05-04T07:33:22.987Z"
      },
      {
        "duration": 718,
        "start_time": "2023-05-04T07:33:23.934Z"
      },
      {
        "duration": 44,
        "start_time": "2023-05-04T07:33:24.654Z"
      },
      {
        "duration": 417,
        "start_time": "2023-05-04T07:33:24.699Z"
      },
      {
        "duration": 447,
        "start_time": "2023-05-04T07:33:25.118Z"
      },
      {
        "duration": 22,
        "start_time": "2023-05-04T07:33:25.567Z"
      },
      {
        "duration": 579,
        "start_time": "2023-05-04T07:33:25.591Z"
      },
      {
        "duration": 626,
        "start_time": "2023-05-04T07:33:26.172Z"
      },
      {
        "duration": 6,
        "start_time": "2023-05-04T07:33:26.800Z"
      },
      {
        "duration": 28,
        "start_time": "2023-05-04T07:33:26.807Z"
      },
      {
        "duration": 322,
        "start_time": "2023-05-04T07:33:26.837Z"
      },
      {
        "duration": 598,
        "start_time": "2023-05-04T07:33:27.161Z"
      },
      {
        "duration": 7,
        "start_time": "2023-05-04T07:33:27.761Z"
      },
      {
        "duration": 242,
        "start_time": "2023-05-04T07:33:27.770Z"
      },
      {
        "duration": 239,
        "start_time": "2023-05-04T07:33:28.014Z"
      },
      {
        "duration": 270,
        "start_time": "2023-05-04T07:33:28.255Z"
      },
      {
        "duration": 524,
        "start_time": "2023-05-04T07:33:28.527Z"
      },
      {
        "duration": 424,
        "start_time": "2023-05-04T07:33:29.055Z"
      },
      {
        "duration": 3,
        "start_time": "2023-05-04T07:33:29.481Z"
      },
      {
        "duration": 16,
        "start_time": "2023-05-04T07:33:29.485Z"
      },
      {
        "duration": 377,
        "start_time": "2023-05-04T07:34:35.346Z"
      },
      {
        "duration": 214,
        "start_time": "2023-05-04T07:38:30.278Z"
      },
      {
        "duration": 214,
        "start_time": "2023-05-04T07:38:37.579Z"
      },
      {
        "duration": 229,
        "start_time": "2023-05-04T07:49:20.160Z"
      },
      {
        "duration": 576,
        "start_time": "2023-05-04T07:50:19.344Z"
      },
      {
        "duration": 727,
        "start_time": "2023-05-04T07:52:02.846Z"
      },
      {
        "duration": 688,
        "start_time": "2023-05-04T07:56:03.311Z"
      },
      {
        "duration": 749,
        "start_time": "2023-05-04T07:56:23.715Z"
      },
      {
        "duration": 845,
        "start_time": "2023-05-04T07:56:50.212Z"
      },
      {
        "duration": 767,
        "start_time": "2023-05-04T07:56:57.727Z"
      },
      {
        "duration": 783,
        "start_time": "2023-05-04T07:57:25.849Z"
      },
      {
        "duration": 750,
        "start_time": "2023-05-04T07:57:40.570Z"
      },
      {
        "duration": 909,
        "start_time": "2023-05-04T07:57:48.876Z"
      },
      {
        "duration": 753,
        "start_time": "2023-05-04T07:58:02.612Z"
      },
      {
        "duration": 1272,
        "start_time": "2023-05-04T08:02:44.057Z"
      },
      {
        "duration": 1214,
        "start_time": "2023-05-04T08:02:58.753Z"
      },
      {
        "duration": 853,
        "start_time": "2023-05-04T08:02:59.969Z"
      },
      {
        "duration": 5,
        "start_time": "2023-05-04T08:03:00.824Z"
      },
      {
        "duration": 987,
        "start_time": "2023-05-04T08:03:00.832Z"
      },
      {
        "duration": 52,
        "start_time": "2023-05-04T08:03:01.821Z"
      },
      {
        "duration": 96,
        "start_time": "2023-05-04T08:03:01.874Z"
      },
      {
        "duration": 483,
        "start_time": "2023-05-04T08:03:01.972Z"
      },
      {
        "duration": 370,
        "start_time": "2023-05-04T08:03:02.457Z"
      },
      {
        "duration": 28,
        "start_time": "2023-05-04T08:03:02.828Z"
      },
      {
        "duration": 584,
        "start_time": "2023-05-04T08:03:02.858Z"
      },
      {
        "duration": 614,
        "start_time": "2023-05-04T08:03:03.444Z"
      },
      {
        "duration": 7,
        "start_time": "2023-05-04T08:03:04.061Z"
      },
      {
        "duration": 9,
        "start_time": "2023-05-04T08:03:04.070Z"
      },
      {
        "duration": 9,
        "start_time": "2023-05-04T08:03:04.081Z"
      },
      {
        "duration": 252,
        "start_time": "2023-05-04T08:03:04.092Z"
      },
      {
        "duration": 287,
        "start_time": "2023-05-04T08:03:04.345Z"
      },
      {
        "duration": 736,
        "start_time": "2023-05-04T08:03:04.634Z"
      },
      {
        "duration": 215,
        "start_time": "2023-05-04T08:03:05.372Z"
      },
      {
        "duration": 615,
        "start_time": "2023-05-04T08:03:05.589Z"
      },
      {
        "duration": 3,
        "start_time": "2023-05-04T08:03:06.205Z"
      },
      {
        "duration": 12,
        "start_time": "2023-05-04T08:03:06.210Z"
      },
      {
        "duration": 110,
        "start_time": "2023-05-04T08:05:40.368Z"
      },
      {
        "duration": 4,
        "start_time": "2023-05-04T08:05:46.479Z"
      },
      {
        "duration": 747,
        "start_time": "2023-05-04T08:05:46.646Z"
      },
      {
        "duration": 4,
        "start_time": "2023-05-04T08:05:47.395Z"
      },
      {
        "duration": 851,
        "start_time": "2023-05-04T08:05:48.050Z"
      },
      {
        "duration": 40,
        "start_time": "2023-05-04T08:05:50.686Z"
      },
      {
        "duration": 326,
        "start_time": "2023-05-04T08:05:51.812Z"
      },
      {
        "duration": 94,
        "start_time": "2023-05-04T08:06:18.336Z"
      },
      {
        "duration": 372,
        "start_time": "2023-05-04T08:06:22.489Z"
      },
      {
        "duration": 377,
        "start_time": "2023-05-04T08:06:48.149Z"
      },
      {
        "duration": 427,
        "start_time": "2023-05-04T08:07:01.937Z"
      },
      {
        "duration": 346,
        "start_time": "2023-05-04T08:07:21.092Z"
      },
      {
        "duration": 469,
        "start_time": "2023-05-04T08:09:02.119Z"
      },
      {
        "duration": 212,
        "start_time": "2023-05-04T08:10:41.849Z"
      },
      {
        "duration": 859,
        "start_time": "2023-05-04T08:10:51.081Z"
      },
      {
        "duration": 152,
        "start_time": "2023-05-04T08:10:59.147Z"
      },
      {
        "duration": 176,
        "start_time": "2023-05-04T08:11:09.378Z"
      },
      {
        "duration": 328,
        "start_time": "2023-05-04T08:11:15.837Z"
      },
      {
        "duration": 206,
        "start_time": "2023-05-04T08:11:21.432Z"
      },
      {
        "duration": 190,
        "start_time": "2023-05-04T08:11:35.586Z"
      },
      {
        "duration": 196,
        "start_time": "2023-05-04T08:11:43.154Z"
      },
      {
        "duration": 195,
        "start_time": "2023-05-04T08:11:50.580Z"
      },
      {
        "duration": 328,
        "start_time": "2023-05-04T08:11:56.018Z"
      },
      {
        "duration": 292,
        "start_time": "2023-05-04T08:12:01.714Z"
      },
      {
        "duration": 263,
        "start_time": "2023-05-04T08:12:07.524Z"
      },
      {
        "duration": 1814,
        "start_time": "2023-05-04T08:12:14.467Z"
      },
      {
        "duration": 267,
        "start_time": "2023-05-04T08:12:24.826Z"
      },
      {
        "duration": 153,
        "start_time": "2023-05-04T08:12:31.588Z"
      },
      {
        "duration": 208,
        "start_time": "2023-05-04T08:12:41.619Z"
      },
      {
        "duration": 367,
        "start_time": "2023-05-04T08:12:45.340Z"
      },
      {
        "duration": 967,
        "start_time": "2023-05-04T08:14:19.534Z"
      },
      {
        "duration": 778,
        "start_time": "2023-05-04T08:14:27.398Z"
      },
      {
        "duration": 225,
        "start_time": "2023-05-04T08:17:46.988Z"
      },
      {
        "duration": 86,
        "start_time": "2023-05-04T08:23:03.086Z"
      },
      {
        "duration": 703,
        "start_time": "2023-05-04T08:23:09.121Z"
      },
      {
        "duration": 13,
        "start_time": "2023-05-04T08:25:00.427Z"
      },
      {
        "duration": 138,
        "start_time": "2023-05-04T08:25:53.952Z"
      },
      {
        "duration": 23,
        "start_time": "2023-05-04T08:26:10.084Z"
      },
      {
        "duration": 174,
        "start_time": "2023-05-04T08:26:22.274Z"
      },
      {
        "duration": 79,
        "start_time": "2023-05-04T08:26:41.321Z"
      },
      {
        "duration": 305,
        "start_time": "2023-05-04T08:26:42.432Z"
      },
      {
        "duration": 15,
        "start_time": "2023-05-04T08:26:54.333Z"
      },
      {
        "duration": 171,
        "start_time": "2023-05-04T08:26:54.350Z"
      },
      {
        "duration": 1062,
        "start_time": "2023-05-04T08:27:04.411Z"
      },
      {
        "duration": 792,
        "start_time": "2023-05-04T08:27:05.475Z"
      },
      {
        "duration": 4,
        "start_time": "2023-05-04T08:27:06.269Z"
      },
      {
        "duration": 845,
        "start_time": "2023-05-04T08:27:06.275Z"
      },
      {
        "duration": 337,
        "start_time": "2023-05-04T08:27:07.121Z"
      },
      {
        "duration": 32,
        "start_time": "2023-05-04T08:27:07.459Z"
      },
      {
        "duration": 416,
        "start_time": "2023-05-04T08:27:07.492Z"
      },
      {
        "duration": 398,
        "start_time": "2023-05-04T08:27:07.910Z"
      },
      {
        "duration": 19,
        "start_time": "2023-05-04T08:27:08.310Z"
      },
      {
        "duration": 592,
        "start_time": "2023-05-04T08:27:08.332Z"
      },
      {
        "duration": 52,
        "start_time": "2023-05-04T08:27:08.926Z"
      },
      {
        "duration": 596,
        "start_time": "2023-05-04T08:27:08.979Z"
      },
      {
        "duration": 6,
        "start_time": "2023-05-04T08:27:09.576Z"
      },
      {
        "duration": 219,
        "start_time": "2023-05-04T08:27:09.583Z"
      },
      {
        "duration": 42,
        "start_time": "2023-05-04T08:27:09.803Z"
      },
      {
        "duration": 287,
        "start_time": "2023-05-04T08:27:09.847Z"
      },
      {
        "duration": 578,
        "start_time": "2023-05-04T08:27:10.135Z"
      },
      {
        "duration": 212,
        "start_time": "2023-05-04T08:27:10.714Z"
      },
      {
        "duration": 611,
        "start_time": "2023-05-04T08:27:10.927Z"
      },
      {
        "duration": 3,
        "start_time": "2023-05-04T08:27:11.539Z"
      },
      {
        "duration": 13,
        "start_time": "2023-05-04T08:27:11.543Z"
      },
      {
        "duration": 71,
        "start_time": "2023-05-04T08:27:57.822Z"
      },
      {
        "duration": 220,
        "start_time": "2023-05-04T08:28:01.234Z"
      },
      {
        "duration": 232,
        "start_time": "2023-05-04T08:28:14.073Z"
      },
      {
        "duration": 747,
        "start_time": "2023-05-04T08:28:14.949Z"
      },
      {
        "duration": 510,
        "start_time": "2023-05-04T08:28:47.598Z"
      },
      {
        "duration": 522,
        "start_time": "2023-05-04T08:29:08.497Z"
      },
      {
        "duration": 532,
        "start_time": "2023-05-04T08:29:17.791Z"
      },
      {
        "duration": 683,
        "start_time": "2023-05-04T08:30:01.860Z"
      },
      {
        "duration": 574,
        "start_time": "2023-05-04T08:30:14.351Z"
      },
      {
        "duration": 38,
        "start_time": "2023-05-04T08:32:33.851Z"
      },
      {
        "duration": 204,
        "start_time": "2023-05-04T08:32:35.629Z"
      },
      {
        "duration": 211,
        "start_time": "2023-05-04T08:32:49.202Z"
      },
      {
        "duration": 56,
        "start_time": "2023-05-04T08:32:59.094Z"
      },
      {
        "duration": 245,
        "start_time": "2023-05-04T08:33:00.772Z"
      },
      {
        "duration": 789,
        "start_time": "2023-05-04T08:33:07.488Z"
      },
      {
        "duration": 241,
        "start_time": "2023-05-04T08:33:15.403Z"
      },
      {
        "duration": 232,
        "start_time": "2023-05-04T08:33:27.255Z"
      },
      {
        "duration": 234,
        "start_time": "2023-05-04T08:33:32.253Z"
      },
      {
        "duration": 1068,
        "start_time": "2023-05-04T08:33:47.311Z"
      },
      {
        "duration": 886,
        "start_time": "2023-05-04T08:33:48.381Z"
      },
      {
        "duration": 5,
        "start_time": "2023-05-04T08:33:49.268Z"
      },
      {
        "duration": 890,
        "start_time": "2023-05-04T08:33:49.275Z"
      },
      {
        "duration": 332,
        "start_time": "2023-05-04T08:33:50.167Z"
      },
      {
        "duration": 37,
        "start_time": "2023-05-04T08:33:50.501Z"
      },
      {
        "duration": 425,
        "start_time": "2023-05-04T08:33:50.540Z"
      },
      {
        "duration": 382,
        "start_time": "2023-05-04T08:33:50.967Z"
      },
      {
        "duration": 23,
        "start_time": "2023-05-04T08:33:51.351Z"
      },
      {
        "duration": 584,
        "start_time": "2023-05-04T08:33:51.376Z"
      },
      {
        "duration": 39,
        "start_time": "2023-05-04T08:33:51.962Z"
      },
      {
        "duration": 657,
        "start_time": "2023-05-04T08:33:52.003Z"
      },
      {
        "duration": 6,
        "start_time": "2023-05-04T08:33:52.662Z"
      },
      {
        "duration": 228,
        "start_time": "2023-05-04T08:33:52.670Z"
      },
      {
        "duration": 43,
        "start_time": "2023-05-04T08:33:52.900Z"
      },
      {
        "duration": 272,
        "start_time": "2023-05-04T08:33:52.955Z"
      },
      {
        "duration": 518,
        "start_time": "2023-05-04T08:33:53.229Z"
      },
      {
        "duration": 56,
        "start_time": "2023-05-04T08:33:53.749Z"
      },
      {
        "duration": 276,
        "start_time": "2023-05-04T08:33:53.807Z"
      },
      {
        "duration": 718,
        "start_time": "2023-05-04T08:33:54.085Z"
      },
      {
        "duration": 2,
        "start_time": "2023-05-04T08:33:54.806Z"
      },
      {
        "duration": 5,
        "start_time": "2023-05-04T08:33:54.810Z"
      },
      {
        "duration": 69,
        "start_time": "2023-05-04T08:34:15.279Z"
      },
      {
        "duration": 222,
        "start_time": "2023-05-04T08:34:17.115Z"
      },
      {
        "duration": 534,
        "start_time": "2023-05-04T08:34:22.476Z"
      },
      {
        "duration": 315,
        "start_time": "2023-05-04T08:34:52.508Z"
      },
      {
        "duration": 1196,
        "start_time": "2023-05-04T08:36:06.509Z"
      },
      {
        "duration": 802,
        "start_time": "2023-05-04T08:36:07.707Z"
      },
      {
        "duration": 4,
        "start_time": "2023-05-04T08:36:08.511Z"
      },
      {
        "duration": 881,
        "start_time": "2023-05-04T08:36:08.517Z"
      },
      {
        "duration": 405,
        "start_time": "2023-05-04T08:36:09.400Z"
      },
      {
        "duration": 49,
        "start_time": "2023-05-04T08:36:09.807Z"
      },
      {
        "duration": 449,
        "start_time": "2023-05-04T08:36:09.858Z"
      },
      {
        "duration": 408,
        "start_time": "2023-05-04T08:36:10.309Z"
      },
      {
        "duration": 23,
        "start_time": "2023-05-04T08:36:10.719Z"
      },
      {
        "duration": 596,
        "start_time": "2023-05-04T08:36:10.756Z"
      },
      {
        "duration": 42,
        "start_time": "2023-05-04T08:36:11.356Z"
      },
      {
        "duration": 695,
        "start_time": "2023-05-04T08:36:11.399Z"
      },
      {
        "duration": 7,
        "start_time": "2023-05-04T08:36:12.097Z"
      },
      {
        "duration": 291,
        "start_time": "2023-05-04T08:36:12.106Z"
      },
      {
        "duration": 59,
        "start_time": "2023-05-04T08:36:12.400Z"
      },
      {
        "duration": 337,
        "start_time": "2023-05-04T08:36:12.461Z"
      },
      {
        "duration": 659,
        "start_time": "2023-05-04T08:36:12.800Z"
      },
      {
        "duration": 55,
        "start_time": "2023-05-04T08:36:13.461Z"
      },
      {
        "duration": 255,
        "start_time": "2023-05-04T08:36:13.517Z"
      },
      {
        "duration": 824,
        "start_time": "2023-05-04T08:36:13.775Z"
      },
      {
        "duration": 154,
        "start_time": "2023-05-04T08:38:10.140Z"
      },
      {
        "duration": 109,
        "start_time": "2023-05-04T08:41:22.370Z"
      },
      {
        "duration": 15,
        "start_time": "2023-05-04T08:41:39.281Z"
      },
      {
        "duration": 1211,
        "start_time": "2023-05-04T08:41:48.242Z"
      },
      {
        "duration": 808,
        "start_time": "2023-05-04T08:41:49.454Z"
      },
      {
        "duration": 4,
        "start_time": "2023-05-04T08:41:50.264Z"
      },
      {
        "duration": 860,
        "start_time": "2023-05-04T08:41:50.269Z"
      },
      {
        "duration": 385,
        "start_time": "2023-05-04T08:41:51.131Z"
      },
      {
        "duration": 53,
        "start_time": "2023-05-04T08:41:51.518Z"
      },
      {
        "duration": 471,
        "start_time": "2023-05-04T08:41:51.572Z"
      },
      {
        "duration": 397,
        "start_time": "2023-05-04T08:41:52.045Z"
      },
      {
        "duration": 26,
        "start_time": "2023-05-04T08:41:52.444Z"
      },
      {
        "duration": 597,
        "start_time": "2023-05-04T08:41:52.473Z"
      },
      {
        "duration": 43,
        "start_time": "2023-05-04T08:41:53.072Z"
      },
      {
        "duration": 656,
        "start_time": "2023-05-04T08:41:53.117Z"
      },
      {
        "duration": 6,
        "start_time": "2023-05-04T08:41:53.775Z"
      },
      {
        "duration": 268,
        "start_time": "2023-05-04T08:41:53.783Z"
      },
      {
        "duration": 50,
        "start_time": "2023-05-04T08:41:54.055Z"
      },
      {
        "duration": 306,
        "start_time": "2023-05-04T08:41:54.107Z"
      },
      {
        "duration": 544,
        "start_time": "2023-05-04T08:41:54.415Z"
      },
      {
        "duration": 49,
        "start_time": "2023-05-04T08:41:54.961Z"
      },
      {
        "duration": 225,
        "start_time": "2023-05-04T08:41:55.011Z"
      },
      {
        "duration": 681,
        "start_time": "2023-05-04T08:41:55.238Z"
      },
      {
        "duration": 108,
        "start_time": "2023-05-04T08:42:06.970Z"
      },
      {
        "duration": 1162,
        "start_time": "2023-05-04T08:42:16.006Z"
      },
      {
        "duration": 818,
        "start_time": "2023-05-04T08:42:17.170Z"
      },
      {
        "duration": 4,
        "start_time": "2023-05-04T08:42:17.990Z"
      },
      {
        "duration": 897,
        "start_time": "2023-05-04T08:42:17.997Z"
      },
      {
        "duration": 352,
        "start_time": "2023-05-04T08:42:18.895Z"
      },
      {
        "duration": 43,
        "start_time": "2023-05-04T08:42:19.249Z"
      },
      {
        "duration": 434,
        "start_time": "2023-05-04T08:42:19.294Z"
      },
      {
        "duration": 397,
        "start_time": "2023-05-04T08:42:19.730Z"
      },
      {
        "duration": 31,
        "start_time": "2023-05-04T08:42:20.130Z"
      },
      {
        "duration": 587,
        "start_time": "2023-05-04T08:42:20.164Z"
      },
      {
        "duration": 43,
        "start_time": "2023-05-04T08:42:20.752Z"
      },
      {
        "duration": 636,
        "start_time": "2023-05-04T08:42:20.797Z"
      },
      {
        "duration": 5,
        "start_time": "2023-05-04T08:42:21.435Z"
      },
      {
        "duration": 221,
        "start_time": "2023-05-04T08:42:21.442Z"
      },
      {
        "duration": 43,
        "start_time": "2023-05-04T08:42:21.665Z"
      },
      {
        "duration": 281,
        "start_time": "2023-05-04T08:42:21.710Z"
      },
      {
        "duration": 586,
        "start_time": "2023-05-04T08:42:21.993Z"
      },
      {
        "duration": 53,
        "start_time": "2023-05-04T08:42:22.581Z"
      },
      {
        "duration": 222,
        "start_time": "2023-05-04T08:42:22.637Z"
      },
      {
        "duration": 684,
        "start_time": "2023-05-04T08:42:22.861Z"
      },
      {
        "duration": 540,
        "start_time": "2023-05-04T08:44:27.390Z"
      },
      {
        "duration": 585,
        "start_time": "2023-05-04T08:44:35.183Z"
      },
      {
        "duration": 49,
        "start_time": "2023-05-04T08:45:03.316Z"
      },
      {
        "duration": 420,
        "start_time": "2023-05-04T08:45:04.080Z"
      },
      {
        "duration": 636,
        "start_time": "2023-05-04T08:45:29.255Z"
      },
      {
        "duration": 656,
        "start_time": "2023-05-04T08:45:48.349Z"
      },
      {
        "duration": 518,
        "start_time": "2023-05-04T08:46:59.216Z"
      },
      {
        "duration": 623,
        "start_time": "2023-05-04T08:47:39.400Z"
      },
      {
        "duration": 416,
        "start_time": "2023-05-04T08:47:44.289Z"
      },
      {
        "duration": 6,
        "start_time": "2023-05-04T08:47:52.394Z"
      },
      {
        "duration": 5,
        "start_time": "2023-05-04T08:48:23.753Z"
      },
      {
        "duration": 254,
        "start_time": "2023-05-04T08:48:33.940Z"
      },
      {
        "duration": 36,
        "start_time": "2023-05-04T08:48:47.156Z"
      },
      {
        "duration": 210,
        "start_time": "2023-05-04T08:48:56.181Z"
      },
      {
        "duration": 554,
        "start_time": "2023-05-04T08:48:59.435Z"
      },
      {
        "duration": 37,
        "start_time": "2023-05-04T08:49:04.763Z"
      },
      {
        "duration": 1160,
        "start_time": "2023-05-04T08:49:20.320Z"
      },
      {
        "duration": 836,
        "start_time": "2023-05-04T08:49:21.482Z"
      },
      {
        "duration": 4,
        "start_time": "2023-05-04T08:49:22.319Z"
      },
      {
        "duration": 883,
        "start_time": "2023-05-04T08:49:22.325Z"
      },
      {
        "duration": 385,
        "start_time": "2023-05-04T08:49:23.210Z"
      },
      {
        "duration": 38,
        "start_time": "2023-05-04T08:49:23.597Z"
      },
      {
        "duration": 442,
        "start_time": "2023-05-04T08:49:23.636Z"
      },
      {
        "duration": 26,
        "start_time": "2023-05-04T08:49:24.080Z"
      },
      {
        "duration": 641,
        "start_time": "2023-05-04T08:49:24.108Z"
      },
      {
        "duration": 46,
        "start_time": "2023-05-04T08:49:24.751Z"
      },
      {
        "duration": 442,
        "start_time": "2023-05-04T08:49:24.799Z"
      },
      {
        "duration": 13,
        "start_time": "2023-05-04T08:49:25.243Z"
      },
      {
        "duration": 235,
        "start_time": "2023-05-04T08:49:25.258Z"
      },
      {
        "duration": 49,
        "start_time": "2023-05-04T08:49:25.495Z"
      },
      {
        "duration": 214,
        "start_time": "2023-05-04T08:49:25.546Z"
      },
      {
        "duration": 652,
        "start_time": "2023-05-04T08:49:25.762Z"
      },
      {
        "duration": 62,
        "start_time": "2023-05-04T08:49:26.415Z"
      },
      {
        "duration": 229,
        "start_time": "2023-05-04T08:49:26.479Z"
      },
      {
        "duration": 738,
        "start_time": "2023-05-04T08:49:26.710Z"
      },
      {
        "duration": 209,
        "start_time": "2023-05-04T08:49:49.985Z"
      },
      {
        "duration": 67,
        "start_time": "2023-05-04T08:50:01.580Z"
      },
      {
        "duration": 207,
        "start_time": "2023-05-04T08:50:02.868Z"
      },
      {
        "duration": 1148,
        "start_time": "2023-05-04T08:50:21.715Z"
      },
      {
        "duration": 833,
        "start_time": "2023-05-04T08:50:22.865Z"
      },
      {
        "duration": 4,
        "start_time": "2023-05-04T08:50:23.700Z"
      },
      {
        "duration": 932,
        "start_time": "2023-05-04T08:50:23.706Z"
      },
      {
        "duration": 350,
        "start_time": "2023-05-04T08:50:24.640Z"
      },
      {
        "duration": 37,
        "start_time": "2023-05-04T08:50:24.992Z"
      },
      {
        "duration": 430,
        "start_time": "2023-05-04T08:50:25.031Z"
      },
      {
        "duration": 26,
        "start_time": "2023-05-04T08:50:25.463Z"
      },
      {
        "duration": 585,
        "start_time": "2023-05-04T08:50:25.490Z"
      },
      {
        "duration": 44,
        "start_time": "2023-05-04T08:50:26.078Z"
      },
      {
        "duration": 442,
        "start_time": "2023-05-04T08:50:26.123Z"
      },
      {
        "duration": 6,
        "start_time": "2023-05-04T08:50:26.566Z"
      },
      {
        "duration": 237,
        "start_time": "2023-05-04T08:50:26.574Z"
      },
      {
        "duration": 64,
        "start_time": "2023-05-04T08:50:26.813Z"
      },
      {
        "duration": 237,
        "start_time": "2023-05-04T08:50:26.879Z"
      },
      {
        "duration": 692,
        "start_time": "2023-05-04T08:50:27.118Z"
      },
      {
        "duration": 62,
        "start_time": "2023-05-04T08:50:27.813Z"
      },
      {
        "duration": 255,
        "start_time": "2023-05-04T08:50:27.877Z"
      },
      {
        "duration": 728,
        "start_time": "2023-05-04T08:50:28.134Z"
      },
      {
        "duration": 44,
        "start_time": "2023-05-04T08:50:41.720Z"
      },
      {
        "duration": 211,
        "start_time": "2023-05-04T08:50:43.174Z"
      },
      {
        "duration": 1250,
        "start_time": "2023-05-04T08:50:49.283Z"
      },
      {
        "duration": 797,
        "start_time": "2023-05-04T08:50:50.535Z"
      },
      {
        "duration": 5,
        "start_time": "2023-05-04T08:50:51.333Z"
      },
      {
        "duration": 901,
        "start_time": "2023-05-04T08:50:51.339Z"
      },
      {
        "duration": 362,
        "start_time": "2023-05-04T08:50:52.242Z"
      },
      {
        "duration": 51,
        "start_time": "2023-05-04T08:50:52.606Z"
      },
      {
        "duration": 373,
        "start_time": "2023-05-04T08:50:52.659Z"
      },
      {
        "duration": 28,
        "start_time": "2023-05-04T08:50:53.034Z"
      },
      {
        "duration": 586,
        "start_time": "2023-05-04T08:50:53.064Z"
      },
      {
        "duration": 48,
        "start_time": "2023-05-04T08:50:53.652Z"
      },
      {
        "duration": 493,
        "start_time": "2023-05-04T08:50:53.702Z"
      },
      {
        "duration": 5,
        "start_time": "2023-05-04T08:50:54.196Z"
      },
      {
        "duration": 220,
        "start_time": "2023-05-04T08:50:54.203Z"
      },
      {
        "duration": 55,
        "start_time": "2023-05-04T08:50:54.425Z"
      },
      {
        "duration": 215,
        "start_time": "2023-05-04T08:50:54.482Z"
      },
      {
        "duration": 599,
        "start_time": "2023-05-04T08:50:54.699Z"
      },
      {
        "duration": 59,
        "start_time": "2023-05-04T08:50:55.300Z"
      },
      {
        "duration": 230,
        "start_time": "2023-05-04T08:50:55.361Z"
      },
      {
        "duration": 660,
        "start_time": "2023-05-04T08:50:55.592Z"
      },
      {
        "duration": 3,
        "start_time": "2023-05-04T08:53:55.890Z"
      },
      {
        "duration": 358,
        "start_time": "2023-05-04T08:54:21.656Z"
      },
      {
        "duration": 5,
        "start_time": "2023-05-04T08:55:50.253Z"
      },
      {
        "duration": 67,
        "start_time": "2023-05-04T08:55:54.814Z"
      },
      {
        "duration": 57,
        "start_time": "2023-05-04T08:57:43.013Z"
      },
      {
        "duration": 72,
        "start_time": "2023-05-04T08:57:50.019Z"
      },
      {
        "duration": 5,
        "start_time": "2023-05-04T08:58:40.483Z"
      },
      {
        "duration": 6,
        "start_time": "2023-05-04T08:59:13.606Z"
      },
      {
        "duration": 29,
        "start_time": "2023-05-04T09:40:51.307Z"
      },
      {
        "duration": 72,
        "start_time": "2023-05-04T09:40:56.253Z"
      },
      {
        "duration": 114,
        "start_time": "2023-05-04T09:41:14.816Z"
      },
      {
        "duration": 38,
        "start_time": "2023-05-04T09:45:14.281Z"
      },
      {
        "duration": 75,
        "start_time": "2023-05-04T09:45:15.122Z"
      },
      {
        "duration": 18,
        "start_time": "2023-05-04T09:46:14.595Z"
      },
      {
        "duration": 285,
        "start_time": "2023-05-04T09:48:24.453Z"
      },
      {
        "duration": 225,
        "start_time": "2023-05-04T09:48:38.027Z"
      },
      {
        "duration": 63,
        "start_time": "2023-05-04T09:48:48.217Z"
      },
      {
        "duration": 53,
        "start_time": "2023-05-04T09:52:51.093Z"
      },
      {
        "duration": 33,
        "start_time": "2023-05-04T09:57:01.016Z"
      },
      {
        "duration": 58,
        "start_time": "2023-05-04T09:57:02.991Z"
      },
      {
        "duration": 219,
        "start_time": "2023-05-04T09:58:06.274Z"
      },
      {
        "duration": 54,
        "start_time": "2023-05-04T09:58:11.423Z"
      },
      {
        "duration": 230,
        "start_time": "2023-05-04T09:58:35.128Z"
      },
      {
        "duration": 55,
        "start_time": "2023-05-04T09:58:40.795Z"
      },
      {
        "duration": 35,
        "start_time": "2023-05-04T10:01:15.297Z"
      },
      {
        "duration": 72,
        "start_time": "2023-05-04T10:01:16.543Z"
      },
      {
        "duration": 23,
        "start_time": "2023-05-04T10:07:10.232Z"
      },
      {
        "duration": 16,
        "start_time": "2023-05-04T10:07:18.055Z"
      },
      {
        "duration": 52,
        "start_time": "2023-05-04T10:07:18.622Z"
      },
      {
        "duration": 1230,
        "start_time": "2023-05-04T10:07:26.816Z"
      },
      {
        "duration": 954,
        "start_time": "2023-05-04T10:07:28.048Z"
      },
      {
        "duration": 5,
        "start_time": "2023-05-04T10:07:29.004Z"
      },
      {
        "duration": 977,
        "start_time": "2023-05-04T10:07:29.011Z"
      },
      {
        "duration": 362,
        "start_time": "2023-05-04T10:07:29.990Z"
      },
      {
        "duration": 37,
        "start_time": "2023-05-04T10:07:30.355Z"
      },
      {
        "duration": 452,
        "start_time": "2023-05-04T10:07:30.394Z"
      },
      {
        "duration": 27,
        "start_time": "2023-05-04T10:07:30.848Z"
      },
      {
        "duration": 654,
        "start_time": "2023-05-04T10:07:30.877Z"
      },
      {
        "duration": 53,
        "start_time": "2023-05-04T10:07:31.534Z"
      },
      {
        "duration": 454,
        "start_time": "2023-05-04T10:07:31.589Z"
      },
      {
        "duration": 13,
        "start_time": "2023-05-04T10:07:32.045Z"
      },
      {
        "duration": 286,
        "start_time": "2023-05-04T10:07:32.060Z"
      },
      {
        "duration": 60,
        "start_time": "2023-05-04T10:07:32.348Z"
      },
      {
        "duration": 236,
        "start_time": "2023-05-04T10:07:32.410Z"
      },
      {
        "duration": 696,
        "start_time": "2023-05-04T10:07:32.648Z"
      },
      {
        "duration": 60,
        "start_time": "2023-05-04T10:07:33.346Z"
      },
      {
        "duration": 242,
        "start_time": "2023-05-04T10:07:33.408Z"
      },
      {
        "duration": 723,
        "start_time": "2023-05-04T10:07:33.652Z"
      },
      {
        "duration": 58,
        "start_time": "2023-05-04T10:07:34.377Z"
      },
      {
        "duration": 49,
        "start_time": "2023-05-04T10:07:34.437Z"
      },
      {
        "duration": 54,
        "start_time": "2023-05-04T10:07:34.488Z"
      },
      {
        "duration": 17,
        "start_time": "2023-05-04T10:07:34.556Z"
      },
      {
        "duration": 40,
        "start_time": "2023-05-04T10:07:34.574Z"
      },
      {
        "duration": 67,
        "start_time": "2023-05-04T10:07:34.616Z"
      },
      {
        "duration": 2,
        "start_time": "2023-05-04T10:07:34.685Z"
      },
      {
        "duration": 37,
        "start_time": "2023-05-04T10:07:34.689Z"
      },
      {
        "duration": 61,
        "start_time": "2023-05-04T10:07:34.729Z"
      },
      {
        "duration": 19,
        "start_time": "2023-05-04T10:07:34.791Z"
      },
      {
        "duration": 63,
        "start_time": "2023-05-04T10:07:34.811Z"
      },
      {
        "duration": 240,
        "start_time": "2023-05-04T10:08:50.245Z"
      },
      {
        "duration": 52,
        "start_time": "2023-05-04T10:08:56.962Z"
      },
      {
        "duration": 1176,
        "start_time": "2023-05-04T10:09:04.577Z"
      },
      {
        "duration": 807,
        "start_time": "2023-05-04T10:09:05.755Z"
      },
      {
        "duration": 5,
        "start_time": "2023-05-04T10:09:06.563Z"
      },
      {
        "duration": 866,
        "start_time": "2023-05-04T10:09:06.569Z"
      },
      {
        "duration": 380,
        "start_time": "2023-05-04T10:09:07.437Z"
      },
      {
        "duration": 56,
        "start_time": "2023-05-04T10:09:07.819Z"
      },
      {
        "duration": 422,
        "start_time": "2023-05-04T10:09:07.877Z"
      },
      {
        "duration": 22,
        "start_time": "2023-05-04T10:09:08.301Z"
      },
      {
        "duration": 569,
        "start_time": "2023-05-04T10:09:08.325Z"
      },
      {
        "duration": 46,
        "start_time": "2023-05-04T10:09:08.896Z"
      },
      {
        "duration": 429,
        "start_time": "2023-05-04T10:09:08.955Z"
      },
      {
        "duration": 6,
        "start_time": "2023-05-04T10:09:09.385Z"
      },
      {
        "duration": 236,
        "start_time": "2023-05-04T10:09:09.393Z"
      },
      {
        "duration": 62,
        "start_time": "2023-05-04T10:09:09.631Z"
      },
      {
        "duration": 224,
        "start_time": "2023-05-04T10:09:09.694Z"
      },
      {
        "duration": 595,
        "start_time": "2023-05-04T10:09:09.920Z"
      },
      {
        "duration": 55,
        "start_time": "2023-05-04T10:09:10.517Z"
      },
      {
        "duration": 211,
        "start_time": "2023-05-04T10:09:10.574Z"
      },
      {
        "duration": 630,
        "start_time": "2023-05-04T10:09:10.787Z"
      },
      {
        "duration": 59,
        "start_time": "2023-05-04T10:09:11.419Z"
      },
      {
        "duration": 258,
        "start_time": "2023-05-04T10:09:11.480Z"
      },
      {
        "duration": 57,
        "start_time": "2023-05-04T10:09:11.740Z"
      },
      {
        "duration": 35,
        "start_time": "2023-05-04T10:09:11.798Z"
      },
      {
        "duration": 64,
        "start_time": "2023-05-04T10:09:11.835Z"
      },
      {
        "duration": 18,
        "start_time": "2023-05-04T10:09:11.901Z"
      },
      {
        "duration": 46,
        "start_time": "2023-05-04T10:09:11.921Z"
      },
      {
        "duration": 56,
        "start_time": "2023-05-04T10:09:11.969Z"
      },
      {
        "duration": 47,
        "start_time": "2023-05-04T10:09:12.029Z"
      },
      {
        "duration": 63,
        "start_time": "2023-05-04T10:09:12.078Z"
      },
      {
        "duration": 19,
        "start_time": "2023-05-04T10:09:12.155Z"
      },
      {
        "duration": 89,
        "start_time": "2023-05-04T10:09:12.176Z"
      },
      {
        "duration": 226,
        "start_time": "2023-05-04T10:10:07.972Z"
      },
      {
        "duration": 50,
        "start_time": "2023-05-04T10:10:08.870Z"
      },
      {
        "duration": 1230,
        "start_time": "2023-05-04T10:10:15.164Z"
      },
      {
        "duration": 904,
        "start_time": "2023-05-04T10:10:16.397Z"
      },
      {
        "duration": 4,
        "start_time": "2023-05-04T10:10:17.304Z"
      },
      {
        "duration": 927,
        "start_time": "2023-05-04T10:10:17.311Z"
      },
      {
        "duration": 373,
        "start_time": "2023-05-04T10:10:18.239Z"
      },
      {
        "duration": 44,
        "start_time": "2023-05-04T10:10:18.614Z"
      },
      {
        "duration": 463,
        "start_time": "2023-05-04T10:10:18.660Z"
      },
      {
        "duration": 21,
        "start_time": "2023-05-04T10:10:19.125Z"
      },
      {
        "duration": 622,
        "start_time": "2023-05-04T10:10:19.156Z"
      },
      {
        "duration": 51,
        "start_time": "2023-05-04T10:10:19.782Z"
      },
      {
        "duration": 489,
        "start_time": "2023-05-04T10:10:19.835Z"
      },
      {
        "duration": 6,
        "start_time": "2023-05-04T10:10:20.326Z"
      },
      {
        "duration": 228,
        "start_time": "2023-05-04T10:10:20.334Z"
      },
      {
        "duration": 59,
        "start_time": "2023-05-04T10:10:20.564Z"
      },
      {
        "duration": 266,
        "start_time": "2023-05-04T10:10:20.625Z"
      },
      {
        "duration": 704,
        "start_time": "2023-05-04T10:10:20.893Z"
      },
      {
        "duration": 68,
        "start_time": "2023-05-04T10:10:21.599Z"
      },
      {
        "duration": 265,
        "start_time": "2023-05-04T10:10:21.669Z"
      },
      {
        "duration": 743,
        "start_time": "2023-05-04T10:10:21.936Z"
      },
      {
        "duration": 77,
        "start_time": "2023-05-04T10:10:22.681Z"
      },
      {
        "duration": 43,
        "start_time": "2023-05-04T10:10:22.760Z"
      },
      {
        "duration": 80,
        "start_time": "2023-05-04T10:10:22.805Z"
      },
      {
        "duration": 259,
        "start_time": "2023-05-04T10:10:22.886Z"
      },
      {
        "duration": 61,
        "start_time": "2023-05-04T10:10:23.147Z"
      },
      {
        "duration": 42,
        "start_time": "2023-05-04T10:10:23.209Z"
      },
      {
        "duration": 66,
        "start_time": "2023-05-04T10:10:23.253Z"
      },
      {
        "duration": 56,
        "start_time": "2023-05-04T10:10:23.321Z"
      },
      {
        "duration": 60,
        "start_time": "2023-05-04T10:10:23.382Z"
      },
      {
        "duration": 63,
        "start_time": "2023-05-04T10:10:23.444Z"
      },
      {
        "duration": 40,
        "start_time": "2023-05-04T10:10:23.509Z"
      },
      {
        "duration": 75,
        "start_time": "2023-05-04T10:10:23.551Z"
      },
      {
        "duration": 51,
        "start_time": "2023-05-04T10:11:11.300Z"
      },
      {
        "duration": 1200,
        "start_time": "2023-05-04T10:13:51.849Z"
      },
      {
        "duration": 844,
        "start_time": "2023-05-04T10:13:53.051Z"
      },
      {
        "duration": 5,
        "start_time": "2023-05-04T10:13:53.897Z"
      },
      {
        "duration": 1039,
        "start_time": "2023-05-04T10:13:53.904Z"
      },
      {
        "duration": 380,
        "start_time": "2023-05-04T10:13:54.944Z"
      },
      {
        "duration": 47,
        "start_time": "2023-05-04T10:13:55.325Z"
      },
      {
        "duration": 460,
        "start_time": "2023-05-04T10:13:55.374Z"
      },
      {
        "duration": 31,
        "start_time": "2023-05-04T10:13:55.836Z"
      },
      {
        "duration": 608,
        "start_time": "2023-05-04T10:13:55.869Z"
      },
      {
        "duration": 45,
        "start_time": "2023-05-04T10:13:56.481Z"
      },
      {
        "duration": 456,
        "start_time": "2023-05-04T10:13:56.528Z"
      },
      {
        "duration": 5,
        "start_time": "2023-05-04T10:13:56.986Z"
      },
      {
        "duration": 247,
        "start_time": "2023-05-04T10:13:56.993Z"
      },
      {
        "duration": 60,
        "start_time": "2023-05-04T10:13:57.242Z"
      },
      {
        "duration": 243,
        "start_time": "2023-05-04T10:13:57.303Z"
      },
      {
        "duration": 675,
        "start_time": "2023-05-04T10:13:57.548Z"
      },
      {
        "duration": 65,
        "start_time": "2023-05-04T10:13:58.225Z"
      },
      {
        "duration": 239,
        "start_time": "2023-05-04T10:13:58.291Z"
      },
      {
        "duration": 684,
        "start_time": "2023-05-04T10:13:58.532Z"
      },
      {
        "duration": 86,
        "start_time": "2023-05-04T10:13:59.218Z"
      },
      {
        "duration": 62,
        "start_time": "2023-05-04T10:13:59.306Z"
      },
      {
        "duration": 73,
        "start_time": "2023-05-04T10:13:59.369Z"
      },
      {
        "duration": 278,
        "start_time": "2023-05-04T10:13:59.445Z"
      },
      {
        "duration": 71,
        "start_time": "2023-05-04T10:13:59.725Z"
      },
      {
        "duration": 17,
        "start_time": "2023-05-04T10:13:59.797Z"
      },
      {
        "duration": 52,
        "start_time": "2023-05-04T10:13:59.816Z"
      },
      {
        "duration": 56,
        "start_time": "2023-05-04T10:13:59.870Z"
      },
      {
        "duration": 47,
        "start_time": "2023-05-04T10:13:59.929Z"
      },
      {
        "duration": 52,
        "start_time": "2023-05-04T10:13:59.978Z"
      },
      {
        "duration": 8,
        "start_time": "2023-05-04T10:14:00.032Z"
      },
      {
        "duration": 95,
        "start_time": "2023-05-04T10:14:00.042Z"
      },
      {
        "duration": 55,
        "start_time": "2023-05-04T10:14:22.776Z"
      },
      {
        "duration": 940,
        "start_time": "2023-05-04T10:17:39.490Z"
      },
      {
        "duration": 35183,
        "start_time": "2023-05-04T10:21:25.517Z"
      },
      {
        "duration": 52,
        "start_time": "2023-05-04T10:24:27.649Z"
      },
      {
        "duration": 57,
        "start_time": "2023-05-04T10:24:28.214Z"
      },
      {
        "duration": 51,
        "start_time": "2023-05-04T10:24:29.896Z"
      },
      {
        "duration": 3,
        "start_time": "2023-05-04T10:24:50.478Z"
      },
      {
        "duration": 1266,
        "start_time": "2023-05-04T10:25:22.575Z"
      },
      {
        "duration": 1011,
        "start_time": "2023-05-04T10:25:23.843Z"
      },
      {
        "duration": 9,
        "start_time": "2023-05-04T10:25:24.856Z"
      },
      {
        "duration": 970,
        "start_time": "2023-05-04T10:25:24.870Z"
      },
      {
        "duration": 406,
        "start_time": "2023-05-04T10:25:25.842Z"
      },
      {
        "duration": 41,
        "start_time": "2023-05-04T10:25:26.250Z"
      },
      {
        "duration": 492,
        "start_time": "2023-05-04T10:25:26.294Z"
      },
      {
        "duration": 29,
        "start_time": "2023-05-04T10:25:26.788Z"
      },
      {
        "duration": 870,
        "start_time": "2023-05-04T10:25:26.820Z"
      },
      {
        "duration": 71,
        "start_time": "2023-05-04T10:25:27.695Z"
      },
      {
        "duration": 576,
        "start_time": "2023-05-04T10:25:27.769Z"
      },
      {
        "duration": 10,
        "start_time": "2023-05-04T10:25:28.347Z"
      },
      {
        "duration": 295,
        "start_time": "2023-05-04T10:25:28.359Z"
      },
      {
        "duration": 51,
        "start_time": "2023-05-04T10:25:28.657Z"
      },
      {
        "duration": 321,
        "start_time": "2023-05-04T10:25:28.710Z"
      },
      {
        "duration": 777,
        "start_time": "2023-05-04T10:25:29.033Z"
      },
      {
        "duration": 80,
        "start_time": "2023-05-04T10:25:29.811Z"
      },
      {
        "duration": 284,
        "start_time": "2023-05-04T10:25:29.893Z"
      },
      {
        "duration": 755,
        "start_time": "2023-05-04T10:25:30.179Z"
      },
      {
        "duration": 98,
        "start_time": "2023-05-04T10:25:30.936Z"
      },
      {
        "duration": 99,
        "start_time": "2023-05-04T10:25:31.036Z"
      },
      {
        "duration": 94,
        "start_time": "2023-05-04T10:25:31.138Z"
      },
      {
        "duration": 312,
        "start_time": "2023-05-04T10:25:31.234Z"
      },
      {
        "duration": 69,
        "start_time": "2023-05-04T10:25:31.548Z"
      },
      {
        "duration": 51,
        "start_time": "2023-05-04T10:25:31.619Z"
      },
      {
        "duration": 76,
        "start_time": "2023-05-04T10:25:31.672Z"
      },
      {
        "duration": 81,
        "start_time": "2023-05-04T10:25:31.750Z"
      },
      {
        "duration": 72,
        "start_time": "2023-05-04T10:25:31.834Z"
      },
      {
        "duration": 87,
        "start_time": "2023-05-04T10:25:31.909Z"
      },
      {
        "duration": 35,
        "start_time": "2023-05-04T10:25:31.998Z"
      },
      {
        "duration": 76,
        "start_time": "2023-05-04T10:25:32.035Z"
      },
      {
        "duration": 94,
        "start_time": "2023-05-04T10:25:32.113Z"
      },
      {
        "duration": 134,
        "start_time": "2023-05-04T10:25:32.209Z"
      },
      {
        "duration": 866,
        "start_time": "2023-05-04T10:29:15.451Z"
      },
      {
        "duration": 913,
        "start_time": "2023-05-04T10:30:09.279Z"
      },
      {
        "duration": 762,
        "start_time": "2023-05-04T10:30:50.435Z"
      },
      {
        "duration": 789,
        "start_time": "2023-05-04T10:32:10.152Z"
      },
      {
        "duration": 1280,
        "start_time": "2023-05-04T10:42:22.723Z"
      },
      {
        "duration": 984,
        "start_time": "2023-05-04T10:42:24.006Z"
      },
      {
        "duration": 5,
        "start_time": "2023-05-04T10:42:24.992Z"
      },
      {
        "duration": 1014,
        "start_time": "2023-05-04T10:42:24.999Z"
      },
      {
        "duration": 450,
        "start_time": "2023-05-04T10:42:26.014Z"
      },
      {
        "duration": 49,
        "start_time": "2023-05-04T10:42:26.466Z"
      },
      {
        "duration": 534,
        "start_time": "2023-05-04T10:42:26.518Z"
      },
      {
        "duration": 33,
        "start_time": "2023-05-04T10:42:27.054Z"
      },
      {
        "duration": 781,
        "start_time": "2023-05-04T10:42:27.089Z"
      },
      {
        "duration": 95,
        "start_time": "2023-05-04T10:42:27.875Z"
      },
      {
        "duration": 65,
        "start_time": "2023-05-04T10:42:27.974Z"
      },
      {
        "duration": 85,
        "start_time": "2023-05-04T10:42:28.042Z"
      },
      {
        "duration": 355,
        "start_time": "2023-05-04T10:42:28.129Z"
      },
      {
        "duration": 84,
        "start_time": "2023-05-04T10:42:28.486Z"
      },
      {
        "duration": 29,
        "start_time": "2023-05-04T10:42:28.572Z"
      },
      {
        "duration": 56,
        "start_time": "2023-05-04T10:42:28.603Z"
      },
      {
        "duration": 107,
        "start_time": "2023-05-04T10:42:28.661Z"
      },
      {
        "duration": 38,
        "start_time": "2023-05-04T10:42:28.770Z"
      },
      {
        "duration": 85,
        "start_time": "2023-05-04T10:42:28.810Z"
      },
      {
        "duration": 3,
        "start_time": "2023-05-04T10:42:28.897Z"
      },
      {
        "duration": 68,
        "start_time": "2023-05-04T10:42:28.903Z"
      },
      {
        "duration": 54,
        "start_time": "2023-05-04T10:42:28.973Z"
      },
      {
        "duration": 63,
        "start_time": "2023-05-04T10:42:29.029Z"
      },
      {
        "duration": 528,
        "start_time": "2023-05-04T10:42:29.095Z"
      },
      {
        "duration": 6,
        "start_time": "2023-05-04T10:42:29.624Z"
      },
      {
        "duration": 258,
        "start_time": "2023-05-04T10:42:29.632Z"
      },
      {
        "duration": 76,
        "start_time": "2023-05-04T10:42:29.892Z"
      },
      {
        "duration": 307,
        "start_time": "2023-05-04T10:42:29.973Z"
      },
      {
        "duration": 819,
        "start_time": "2023-05-04T10:42:30.282Z"
      },
      {
        "duration": 63,
        "start_time": "2023-05-04T10:42:31.102Z"
      },
      {
        "duration": 242,
        "start_time": "2023-05-04T10:42:31.167Z"
      },
      {
        "duration": 654,
        "start_time": "2023-05-04T10:42:31.411Z"
      },
      {
        "duration": 122,
        "start_time": "2023-05-04T10:44:12.351Z"
      },
      {
        "duration": 432,
        "start_time": "2023-05-04T10:44:13.083Z"
      },
      {
        "duration": 7,
        "start_time": "2023-05-04T10:44:20.538Z"
      },
      {
        "duration": 459,
        "start_time": "2023-05-04T10:44:21.018Z"
      },
      {
        "duration": 6,
        "start_time": "2023-05-04T10:44:29.715Z"
      },
      {
        "duration": 193,
        "start_time": "2023-05-04T10:44:31.779Z"
      },
      {
        "duration": 6,
        "start_time": "2023-05-04T10:44:33.245Z"
      },
      {
        "duration": 183,
        "start_time": "2023-05-04T10:44:33.706Z"
      },
      {
        "duration": 1216,
        "start_time": "2023-05-04T10:44:38.857Z"
      },
      {
        "duration": 810,
        "start_time": "2023-05-04T10:44:40.075Z"
      },
      {
        "duration": 4,
        "start_time": "2023-05-04T10:44:40.887Z"
      },
      {
        "duration": 922,
        "start_time": "2023-05-04T10:44:40.893Z"
      },
      {
        "duration": 465,
        "start_time": "2023-05-04T10:44:41.816Z"
      },
      {
        "duration": 47,
        "start_time": "2023-05-04T10:44:42.283Z"
      },
      {
        "duration": 429,
        "start_time": "2023-05-04T10:44:42.333Z"
      },
      {
        "duration": 30,
        "start_time": "2023-05-04T10:44:42.765Z"
      },
      {
        "duration": 649,
        "start_time": "2023-05-04T10:44:42.798Z"
      },
      {
        "duration": 77,
        "start_time": "2023-05-04T10:44:43.455Z"
      },
      {
        "duration": 59,
        "start_time": "2023-05-04T10:44:43.534Z"
      },
      {
        "duration": 66,
        "start_time": "2023-05-04T10:44:43.594Z"
      },
      {
        "duration": 264,
        "start_time": "2023-05-04T10:44:43.661Z"
      },
      {
        "duration": 114,
        "start_time": "2023-05-04T10:44:43.928Z"
      },
      {
        "duration": 43,
        "start_time": "2023-05-04T10:44:44.049Z"
      },
      {
        "duration": 55,
        "start_time": "2023-05-04T10:44:44.096Z"
      },
      {
        "duration": 84,
        "start_time": "2023-05-04T10:44:44.160Z"
      },
      {
        "duration": 49,
        "start_time": "2023-05-04T10:44:44.246Z"
      },
      {
        "duration": 62,
        "start_time": "2023-05-04T10:44:44.297Z"
      },
      {
        "duration": 2,
        "start_time": "2023-05-04T10:44:44.361Z"
      },
      {
        "duration": 44,
        "start_time": "2023-05-04T10:44:44.365Z"
      },
      {
        "duration": 64,
        "start_time": "2023-05-04T10:44:44.411Z"
      },
      {
        "duration": 48,
        "start_time": "2023-05-04T10:44:44.478Z"
      },
      {
        "duration": 531,
        "start_time": "2023-05-04T10:44:44.528Z"
      },
      {
        "duration": 7,
        "start_time": "2023-05-04T10:44:45.062Z"
      },
      {
        "duration": 277,
        "start_time": "2023-05-04T10:44:45.071Z"
      },
      {
        "duration": 39,
        "start_time": "2023-05-04T10:44:45.349Z"
      },
      {
        "duration": 295,
        "start_time": "2023-05-04T10:44:45.391Z"
      },
      {
        "duration": 773,
        "start_time": "2023-05-04T10:44:45.688Z"
      },
      {
        "duration": 40,
        "start_time": "2023-05-04T10:44:46.463Z"
      },
      {
        "duration": 263,
        "start_time": "2023-05-04T10:44:46.505Z"
      },
      {
        "duration": 597,
        "start_time": "2023-05-04T10:44:46.770Z"
      },
      {
        "duration": 502,
        "start_time": "2023-05-04T10:45:13.200Z"
      },
      {
        "duration": 566,
        "start_time": "2023-05-04T10:47:21.948Z"
      },
      {
        "duration": 7,
        "start_time": "2023-05-04T10:47:28.777Z"
      },
      {
        "duration": 212,
        "start_time": "2023-05-04T10:47:29.871Z"
      },
      {
        "duration": 63,
        "start_time": "2023-05-04T10:47:31.511Z"
      },
      {
        "duration": 211,
        "start_time": "2023-05-04T10:47:32.275Z"
      },
      {
        "duration": 686,
        "start_time": "2023-05-04T10:47:33.922Z"
      },
      {
        "duration": 547,
        "start_time": "2023-05-04T10:48:09.438Z"
      },
      {
        "duration": 47,
        "start_time": "2023-05-04T10:50:42.348Z"
      },
      {
        "duration": 413,
        "start_time": "2023-05-04T10:50:43.417Z"
      },
      {
        "duration": 45,
        "start_time": "2023-05-04T10:51:37.119Z"
      },
      {
        "duration": 317,
        "start_time": "2023-05-04T10:51:37.872Z"
      },
      {
        "duration": 610,
        "start_time": "2023-05-04T10:51:40.216Z"
      },
      {
        "duration": 700,
        "start_time": "2023-05-04T10:52:47.167Z"
      },
      {
        "duration": 710,
        "start_time": "2023-05-04T10:52:55.275Z"
      },
      {
        "duration": 618,
        "start_time": "2023-05-04T10:53:05.820Z"
      },
      {
        "duration": 537,
        "start_time": "2023-05-04T10:53:22.786Z"
      },
      {
        "duration": 577,
        "start_time": "2023-05-04T10:53:26.775Z"
      },
      {
        "duration": 551,
        "start_time": "2023-05-04T10:53:36.485Z"
      },
      {
        "duration": 720,
        "start_time": "2023-05-04T10:53:41.251Z"
      },
      {
        "duration": 46,
        "start_time": "2023-05-04T10:55:01.388Z"
      },
      {
        "duration": 241,
        "start_time": "2023-05-04T10:55:01.999Z"
      },
      {
        "duration": 627,
        "start_time": "2023-05-04T10:55:03.599Z"
      },
      {
        "duration": 561,
        "start_time": "2023-05-04T10:55:46.756Z"
      },
      {
        "duration": 622,
        "start_time": "2023-05-04T10:55:54.326Z"
      },
      {
        "duration": 801,
        "start_time": "2023-05-04T10:56:10.927Z"
      },
      {
        "duration": 702,
        "start_time": "2023-05-04T10:56:20.410Z"
      },
      {
        "duration": 2734,
        "start_time": "2023-05-04T10:56:29.786Z"
      },
      {
        "duration": 672,
        "start_time": "2023-05-04T10:56:37.625Z"
      },
      {
        "duration": 39,
        "start_time": "2023-05-04T10:57:04.414Z"
      },
      {
        "duration": 525,
        "start_time": "2023-05-04T10:57:13.310Z"
      },
      {
        "duration": 822,
        "start_time": "2023-05-04T10:57:35.410Z"
      },
      {
        "duration": 550,
        "start_time": "2023-05-04T10:57:42.749Z"
      },
      {
        "duration": 559,
        "start_time": "2023-05-04T10:57:49.935Z"
      },
      {
        "duration": 458,
        "start_time": "2023-05-04T10:58:18.041Z"
      },
      {
        "duration": 558,
        "start_time": "2023-05-04T10:58:42.512Z"
      },
      {
        "duration": 478,
        "start_time": "2023-05-04T10:59:24.341Z"
      },
      {
        "duration": 1184,
        "start_time": "2023-05-04T10:59:45.709Z"
      },
      {
        "duration": 894,
        "start_time": "2023-05-04T10:59:46.895Z"
      },
      {
        "duration": 4,
        "start_time": "2023-05-04T10:59:47.790Z"
      },
      {
        "duration": 975,
        "start_time": "2023-05-04T10:59:47.796Z"
      },
      {
        "duration": 417,
        "start_time": "2023-05-04T10:59:48.773Z"
      },
      {
        "duration": 36,
        "start_time": "2023-05-04T10:59:49.191Z"
      },
      {
        "duration": 411,
        "start_time": "2023-05-04T10:59:49.229Z"
      },
      {
        "duration": 30,
        "start_time": "2023-05-04T10:59:49.641Z"
      },
      {
        "duration": 624,
        "start_time": "2023-05-04T10:59:49.673Z"
      },
      {
        "duration": 72,
        "start_time": "2023-05-04T10:59:50.299Z"
      },
      {
        "duration": 46,
        "start_time": "2023-05-04T10:59:50.373Z"
      },
      {
        "duration": 83,
        "start_time": "2023-05-04T10:59:50.421Z"
      },
      {
        "duration": 269,
        "start_time": "2023-05-04T10:59:50.506Z"
      },
      {
        "duration": 65,
        "start_time": "2023-05-04T10:59:50.778Z"
      },
      {
        "duration": 40,
        "start_time": "2023-05-04T10:59:50.845Z"
      },
      {
        "duration": 66,
        "start_time": "2023-05-04T10:59:50.887Z"
      },
      {
        "duration": 97,
        "start_time": "2023-05-04T10:59:50.955Z"
      },
      {
        "duration": 67,
        "start_time": "2023-05-04T10:59:51.054Z"
      },
      {
        "duration": 84,
        "start_time": "2023-05-04T10:59:51.123Z"
      },
      {
        "duration": 50,
        "start_time": "2023-05-04T10:59:51.209Z"
      },
      {
        "duration": 55,
        "start_time": "2023-05-04T10:59:51.260Z"
      },
      {
        "duration": 64,
        "start_time": "2023-05-04T10:59:51.316Z"
      },
      {
        "duration": 68,
        "start_time": "2023-05-04T10:59:51.384Z"
      },
      {
        "duration": 462,
        "start_time": "2023-05-04T10:59:51.462Z"
      },
      {
        "duration": 6,
        "start_time": "2023-05-04T10:59:51.926Z"
      },
      {
        "duration": 250,
        "start_time": "2023-05-04T10:59:51.934Z"
      },
      {
        "duration": 50,
        "start_time": "2023-05-04T10:59:52.187Z"
      },
      {
        "duration": 294,
        "start_time": "2023-05-04T10:59:52.239Z"
      },
      {
        "duration": 654,
        "start_time": "2023-05-04T10:59:52.535Z"
      },
      {
        "duration": 35,
        "start_time": "2023-05-04T10:59:53.193Z"
      },
      {
        "duration": 242,
        "start_time": "2023-05-04T10:59:53.230Z"
      },
      {
        "duration": 133,
        "start_time": "2023-05-04T10:59:53.473Z"
      },
      {
        "duration": 470,
        "start_time": "2023-05-04T11:01:42.948Z"
      },
      {
        "duration": 433,
        "start_time": "2023-05-04T11:02:47.954Z"
      },
      {
        "duration": 471,
        "start_time": "2023-05-04T11:03:24.496Z"
      },
      {
        "duration": 61,
        "start_time": "2023-05-04T11:03:48.855Z"
      },
      {
        "duration": 274,
        "start_time": "2023-05-04T11:09:48.178Z"
      },
      {
        "duration": 106,
        "start_time": "2023-05-04T11:11:18.985Z"
      },
      {
        "duration": 65,
        "start_time": "2023-05-04T11:13:27.032Z"
      },
      {
        "duration": 17,
        "start_time": "2023-05-04T11:13:50.810Z"
      },
      {
        "duration": 11,
        "start_time": "2023-05-04T11:14:06.509Z"
      },
      {
        "duration": 9,
        "start_time": "2023-05-04T11:14:49.729Z"
      },
      {
        "duration": 184,
        "start_time": "2023-05-04T11:16:18.250Z"
      },
      {
        "duration": 14,
        "start_time": "2023-05-04T11:17:22.243Z"
      },
      {
        "duration": 934,
        "start_time": "2023-05-04T11:17:22.259Z"
      },
      {
        "duration": 6,
        "start_time": "2023-05-04T11:17:23.195Z"
      },
      {
        "duration": 1103,
        "start_time": "2023-05-04T11:17:23.205Z"
      },
      {
        "duration": 457,
        "start_time": "2023-05-04T11:17:24.311Z"
      },
      {
        "duration": 33,
        "start_time": "2023-05-04T11:17:24.769Z"
      },
      {
        "duration": 419,
        "start_time": "2023-05-04T11:17:24.804Z"
      },
      {
        "duration": 39,
        "start_time": "2023-05-04T11:17:25.225Z"
      },
      {
        "duration": 650,
        "start_time": "2023-05-04T11:17:25.271Z"
      },
      {
        "duration": 77,
        "start_time": "2023-05-04T11:17:25.923Z"
      },
      {
        "duration": 43,
        "start_time": "2023-05-04T11:17:26.002Z"
      },
      {
        "duration": 75,
        "start_time": "2023-05-04T11:17:26.055Z"
      },
      {
        "duration": 388,
        "start_time": "2023-05-04T11:17:26.132Z"
      },
      {
        "duration": 78,
        "start_time": "2023-05-04T11:17:26.522Z"
      },
      {
        "duration": 21,
        "start_time": "2023-05-04T11:17:26.602Z"
      },
      {
        "duration": 61,
        "start_time": "2023-05-04T11:17:26.625Z"
      },
      {
        "duration": 83,
        "start_time": "2023-05-04T11:17:26.688Z"
      },
      {
        "duration": 35,
        "start_time": "2023-05-04T11:17:26.773Z"
      },
      {
        "duration": 73,
        "start_time": "2023-05-04T11:17:26.810Z"
      },
      {
        "duration": 24,
        "start_time": "2023-05-04T11:17:26.885Z"
      },
      {
        "duration": 63,
        "start_time": "2023-05-04T11:17:26.911Z"
      },
      {
        "duration": 55,
        "start_time": "2023-05-04T11:17:26.976Z"
      },
      {
        "duration": 67,
        "start_time": "2023-05-04T11:17:27.033Z"
      },
      {
        "duration": 524,
        "start_time": "2023-05-04T11:17:27.102Z"
      },
      {
        "duration": 5,
        "start_time": "2023-05-04T11:17:27.628Z"
      },
      {
        "duration": 253,
        "start_time": "2023-05-04T11:17:27.635Z"
      },
      {
        "duration": 78,
        "start_time": "2023-05-04T11:17:27.890Z"
      },
      {
        "duration": 231,
        "start_time": "2023-05-04T11:17:27.973Z"
      },
      {
        "duration": 742,
        "start_time": "2023-05-04T11:17:28.206Z"
      },
      {
        "duration": 43,
        "start_time": "2023-05-04T11:17:28.956Z"
      },
      {
        "duration": 256,
        "start_time": "2023-05-04T11:17:29.001Z"
      },
      {
        "duration": 539,
        "start_time": "2023-05-04T11:17:29.265Z"
      },
      {
        "duration": 62,
        "start_time": "2023-05-04T11:17:29.806Z"
      },
      {
        "duration": 575,
        "start_time": "2023-05-04T11:23:48.474Z"
      },
      {
        "duration": 28,
        "start_time": "2023-05-04T11:32:59.309Z"
      },
      {
        "duration": 1246,
        "start_time": "2023-05-04T11:33:10.237Z"
      },
      {
        "duration": 966,
        "start_time": "2023-05-04T11:33:11.485Z"
      },
      {
        "duration": 12,
        "start_time": "2023-05-04T11:33:12.453Z"
      },
      {
        "duration": 1035,
        "start_time": "2023-05-04T11:33:12.470Z"
      },
      {
        "duration": 403,
        "start_time": "2023-05-04T11:33:13.507Z"
      },
      {
        "duration": 66,
        "start_time": "2023-05-04T11:33:13.912Z"
      },
      {
        "duration": 514,
        "start_time": "2023-05-04T11:33:13.980Z"
      },
      {
        "duration": 25,
        "start_time": "2023-05-04T11:33:14.496Z"
      },
      {
        "duration": 67,
        "start_time": "2023-05-04T11:33:14.523Z"
      },
      {
        "duration": 658,
        "start_time": "2023-05-04T11:33:14.593Z"
      },
      {
        "duration": 77,
        "start_time": "2023-05-04T11:33:15.253Z"
      },
      {
        "duration": 67,
        "start_time": "2023-05-04T11:33:15.332Z"
      },
      {
        "duration": 124,
        "start_time": "2023-05-04T11:33:15.402Z"
      },
      {
        "duration": 303,
        "start_time": "2023-05-04T11:33:15.529Z"
      },
      {
        "duration": 83,
        "start_time": "2023-05-04T11:33:15.834Z"
      },
      {
        "duration": 30,
        "start_time": "2023-05-04T11:33:15.919Z"
      },
      {
        "duration": 80,
        "start_time": "2023-05-04T11:33:15.951Z"
      },
      {
        "duration": 80,
        "start_time": "2023-05-04T11:33:16.033Z"
      },
      {
        "duration": 77,
        "start_time": "2023-05-04T11:33:16.115Z"
      },
      {
        "duration": 67,
        "start_time": "2023-05-04T11:33:16.194Z"
      },
      {
        "duration": 10,
        "start_time": "2023-05-04T11:33:16.263Z"
      },
      {
        "duration": 61,
        "start_time": "2023-05-04T11:33:16.275Z"
      },
      {
        "duration": 62,
        "start_time": "2023-05-04T11:33:16.338Z"
      },
      {
        "duration": 58,
        "start_time": "2023-05-04T11:33:16.402Z"
      },
      {
        "duration": 453,
        "start_time": "2023-05-04T11:33:16.464Z"
      },
      {
        "duration": 5,
        "start_time": "2023-05-04T11:33:16.918Z"
      },
      {
        "duration": 212,
        "start_time": "2023-05-04T11:33:16.925Z"
      },
      {
        "duration": 56,
        "start_time": "2023-05-04T11:33:17.140Z"
      },
      {
        "duration": 325,
        "start_time": "2023-05-04T11:33:17.198Z"
      },
      {
        "duration": 634,
        "start_time": "2023-05-04T11:33:17.525Z"
      },
      {
        "duration": 43,
        "start_time": "2023-05-04T11:33:18.162Z"
      },
      {
        "duration": 224,
        "start_time": "2023-05-04T11:33:18.206Z"
      },
      {
        "duration": 443,
        "start_time": "2023-05-04T11:33:18.432Z"
      },
      {
        "duration": 50,
        "start_time": "2023-05-04T11:33:18.876Z"
      },
      {
        "duration": 285,
        "start_time": "2023-05-04T11:34:54.473Z"
      },
      {
        "duration": 199,
        "start_time": "2023-05-04T11:35:11.035Z"
      },
      {
        "duration": 219,
        "start_time": "2023-05-04T11:35:25.686Z"
      },
      {
        "duration": 1149,
        "start_time": "2023-05-04T11:39:08.078Z"
      },
      {
        "duration": 846,
        "start_time": "2023-05-04T11:39:09.229Z"
      },
      {
        "duration": 6,
        "start_time": "2023-05-04T11:39:10.076Z"
      },
      {
        "duration": 954,
        "start_time": "2023-05-04T11:39:10.084Z"
      },
      {
        "duration": 407,
        "start_time": "2023-05-04T11:39:11.040Z"
      },
      {
        "duration": 46,
        "start_time": "2023-05-04T11:39:11.451Z"
      },
      {
        "duration": 442,
        "start_time": "2023-05-04T11:39:11.499Z"
      },
      {
        "duration": 30,
        "start_time": "2023-05-04T11:39:11.943Z"
      },
      {
        "duration": 41,
        "start_time": "2023-05-04T11:39:11.975Z"
      },
      {
        "duration": 756,
        "start_time": "2023-05-04T11:39:12.019Z"
      },
      {
        "duration": 80,
        "start_time": "2023-05-04T11:39:12.777Z"
      },
      {
        "duration": 70,
        "start_time": "2023-05-04T11:39:12.865Z"
      },
      {
        "duration": 106,
        "start_time": "2023-05-04T11:39:12.938Z"
      },
      {
        "duration": 307,
        "start_time": "2023-05-04T11:39:13.065Z"
      },
      {
        "duration": 92,
        "start_time": "2023-05-04T11:39:13.378Z"
      },
      {
        "duration": 32,
        "start_time": "2023-05-04T11:39:13.479Z"
      },
      {
        "duration": 62,
        "start_time": "2023-05-04T11:39:13.513Z"
      },
      {
        "duration": 67,
        "start_time": "2023-05-04T11:39:13.578Z"
      },
      {
        "duration": 43,
        "start_time": "2023-05-04T11:39:13.658Z"
      },
      {
        "duration": 78,
        "start_time": "2023-05-04T11:39:13.703Z"
      },
      {
        "duration": 10,
        "start_time": "2023-05-04T11:39:13.783Z"
      },
      {
        "duration": 40,
        "start_time": "2023-05-04T11:39:13.795Z"
      },
      {
        "duration": 87,
        "start_time": "2023-05-04T11:39:13.837Z"
      },
      {
        "duration": 68,
        "start_time": "2023-05-04T11:39:13.926Z"
      },
      {
        "duration": 585,
        "start_time": "2023-05-04T11:39:13.996Z"
      },
      {
        "duration": 6,
        "start_time": "2023-05-04T11:39:14.583Z"
      },
      {
        "duration": 254,
        "start_time": "2023-05-04T11:39:14.590Z"
      },
      {
        "duration": 72,
        "start_time": "2023-05-04T11:39:14.848Z"
      },
      {
        "duration": 329,
        "start_time": "2023-05-04T11:39:14.922Z"
      },
      {
        "duration": 764,
        "start_time": "2023-05-04T11:39:15.255Z"
      },
      {
        "duration": 58,
        "start_time": "2023-05-04T11:39:16.021Z"
      },
      {
        "duration": 295,
        "start_time": "2023-05-04T11:39:16.082Z"
      },
      {
        "duration": 506,
        "start_time": "2023-05-04T11:39:16.380Z"
      },
      {
        "duration": 49,
        "start_time": "2023-05-04T11:39:16.889Z"
      },
      {
        "duration": 11,
        "start_time": "2023-05-04T11:43:56.816Z"
      },
      {
        "duration": 106,
        "start_time": "2023-05-04T11:44:07.951Z"
      },
      {
        "duration": 14,
        "start_time": "2023-05-04T11:44:28.254Z"
      },
      {
        "duration": 471,
        "start_time": "2023-05-04T11:45:59.956Z"
      },
      {
        "duration": 1013,
        "start_time": "2023-05-04T11:46:01.107Z"
      },
      {
        "duration": 875,
        "start_time": "2023-05-04T11:46:04.423Z"
      },
      {
        "duration": 7,
        "start_time": "2023-05-04T11:46:05.300Z"
      },
      {
        "duration": 979,
        "start_time": "2023-05-04T11:46:05.309Z"
      },
      {
        "duration": 467,
        "start_time": "2023-05-04T11:46:06.292Z"
      },
      {
        "duration": 40,
        "start_time": "2023-05-04T11:46:06.760Z"
      },
      {
        "duration": 460,
        "start_time": "2023-05-04T11:46:06.802Z"
      },
      {
        "duration": 34,
        "start_time": "2023-05-04T11:46:07.273Z"
      },
      {
        "duration": 42,
        "start_time": "2023-05-04T11:46:07.310Z"
      },
      {
        "duration": 650,
        "start_time": "2023-05-04T11:46:07.353Z"
      },
      {
        "duration": 88,
        "start_time": "2023-05-04T11:46:08.005Z"
      },
      {
        "duration": 39,
        "start_time": "2023-05-04T11:46:08.096Z"
      },
      {
        "duration": 87,
        "start_time": "2023-05-04T11:46:08.137Z"
      },
      {
        "duration": 279,
        "start_time": "2023-05-04T11:46:08.226Z"
      },
      {
        "duration": 82,
        "start_time": "2023-05-04T11:46:08.507Z"
      },
      {
        "duration": 22,
        "start_time": "2023-05-04T11:46:08.591Z"
      },
      {
        "duration": 36,
        "start_time": "2023-05-04T11:46:08.798Z"
      },
      {
        "duration": 77,
        "start_time": "2023-05-04T11:46:08.997Z"
      },
      {
        "duration": 45,
        "start_time": "2023-05-04T11:46:09.446Z"
      },
      {
        "duration": 106,
        "start_time": "2023-05-04T11:46:09.707Z"
      },
      {
        "duration": 3,
        "start_time": "2023-05-04T11:46:10.298Z"
      },
      {
        "duration": 49,
        "start_time": "2023-05-04T11:46:10.459Z"
      },
      {
        "duration": 66,
        "start_time": "2023-05-04T11:46:11.668Z"
      },
      {
        "duration": 57,
        "start_time": "2023-05-04T11:46:12.447Z"
      },
      {
        "duration": 532,
        "start_time": "2023-05-04T11:46:12.677Z"
      },
      {
        "duration": 6,
        "start_time": "2023-05-04T11:46:13.218Z"
      },
      {
        "duration": 242,
        "start_time": "2023-05-04T11:46:13.591Z"
      },
      {
        "duration": 55,
        "start_time": "2023-05-04T11:46:14.447Z"
      },
      {
        "duration": 225,
        "start_time": "2023-05-04T11:46:14.608Z"
      },
      {
        "duration": 915,
        "start_time": "2023-05-04T11:46:14.836Z"
      },
      {
        "duration": 42,
        "start_time": "2023-05-04T11:46:15.786Z"
      },
      {
        "duration": 267,
        "start_time": "2023-05-04T11:46:15.932Z"
      },
      {
        "duration": 500,
        "start_time": "2023-05-04T11:46:16.898Z"
      },
      {
        "duration": 46,
        "start_time": "2023-05-04T11:46:17.603Z"
      },
      {
        "duration": 13,
        "start_time": "2023-05-04T11:46:19.928Z"
      },
      {
        "duration": 52,
        "start_time": "2023-05-04T11:46:20.742Z"
      },
      {
        "duration": 3,
        "start_time": "2023-05-04T11:46:56.846Z"
      },
      {
        "duration": 64,
        "start_time": "2023-05-04T11:46:57.682Z"
      },
      {
        "duration": 18,
        "start_time": "2023-05-04T11:47:15.942Z"
      },
      {
        "duration": 58,
        "start_time": "2023-05-04T11:47:16.423Z"
      },
      {
        "duration": 3,
        "start_time": "2023-05-04T11:47:16.943Z"
      },
      {
        "duration": 50,
        "start_time": "2023-05-04T11:47:17.687Z"
      },
      {
        "duration": 13,
        "start_time": "2023-05-04T11:47:47.809Z"
      },
      {
        "duration": 1504,
        "start_time": "2023-05-04T11:50:50.613Z"
      },
      {
        "duration": 1068,
        "start_time": "2023-05-04T11:50:52.119Z"
      },
      {
        "duration": 5,
        "start_time": "2023-05-04T11:50:53.191Z"
      },
      {
        "duration": 1034,
        "start_time": "2023-05-04T11:50:53.198Z"
      },
      {
        "duration": 451,
        "start_time": "2023-05-04T11:50:54.236Z"
      },
      {
        "duration": 39,
        "start_time": "2023-05-04T11:50:54.689Z"
      },
      {
        "duration": 430,
        "start_time": "2023-05-04T11:50:54.730Z"
      },
      {
        "duration": 31,
        "start_time": "2023-05-04T11:50:55.169Z"
      },
      {
        "duration": 42,
        "start_time": "2023-05-04T11:50:55.204Z"
      },
      {
        "duration": 740,
        "start_time": "2023-05-04T11:50:55.248Z"
      },
      {
        "duration": 72,
        "start_time": "2023-05-04T11:50:55.990Z"
      },
      {
        "duration": 64,
        "start_time": "2023-05-04T11:50:56.066Z"
      },
      {
        "duration": 81,
        "start_time": "2023-05-04T11:50:56.132Z"
      },
      {
        "duration": 266,
        "start_time": "2023-05-04T11:50:56.216Z"
      },
      {
        "duration": 62,
        "start_time": "2023-05-04T11:50:56.484Z"
      },
      {
        "duration": 35,
        "start_time": "2023-05-04T11:50:56.548Z"
      },
      {
        "duration": 38,
        "start_time": "2023-05-04T11:50:56.590Z"
      },
      {
        "duration": 85,
        "start_time": "2023-05-04T11:50:56.629Z"
      },
      {
        "duration": 46,
        "start_time": "2023-05-04T11:50:56.716Z"
      },
      {
        "duration": 66,
        "start_time": "2023-05-04T11:50:56.766Z"
      },
      {
        "duration": 8,
        "start_time": "2023-05-04T11:50:56.834Z"
      },
      {
        "duration": 46,
        "start_time": "2023-05-04T11:50:56.844Z"
      },
      {
        "duration": 50,
        "start_time": "2023-05-04T11:50:56.891Z"
      },
      {
        "duration": 58,
        "start_time": "2023-05-04T11:50:56.942Z"
      },
      {
        "duration": 511,
        "start_time": "2023-05-04T11:50:57.001Z"
      },
      {
        "duration": 6,
        "start_time": "2023-05-04T11:50:57.514Z"
      },
      {
        "duration": 274,
        "start_time": "2023-05-04T11:50:57.522Z"
      },
      {
        "duration": 44,
        "start_time": "2023-05-04T11:50:57.798Z"
      },
      {
        "duration": 259,
        "start_time": "2023-05-04T11:50:57.843Z"
      },
      {
        "duration": 731,
        "start_time": "2023-05-04T11:50:58.105Z"
      },
      {
        "duration": 63,
        "start_time": "2023-05-04T11:50:58.838Z"
      },
      {
        "duration": 267,
        "start_time": "2023-05-04T11:50:58.903Z"
      },
      {
        "duration": 640,
        "start_time": "2023-05-04T11:50:59.174Z"
      },
      {
        "duration": 58,
        "start_time": "2023-05-04T11:50:59.815Z"
      },
      {
        "duration": 12,
        "start_time": "2023-05-04T11:50:59.881Z"
      },
      {
        "duration": 57,
        "start_time": "2023-05-04T11:50:59.895Z"
      },
      {
        "duration": 5,
        "start_time": "2023-05-04T11:50:59.954Z"
      },
      {
        "duration": 212,
        "start_time": "2023-05-04T11:50:59.960Z"
      },
      {
        "duration": 0,
        "start_time": "2023-05-04T11:51:00.175Z"
      },
      {
        "duration": 511,
        "start_time": "2023-05-04T11:52:47.099Z"
      },
      {
        "duration": 20,
        "start_time": "2023-05-04T11:52:47.772Z"
      },
      {
        "duration": 73,
        "start_time": "2023-05-04T11:52:48.896Z"
      },
      {
        "duration": 3,
        "start_time": "2023-05-04T11:52:49.534Z"
      },
      {
        "duration": 52,
        "start_time": "2023-05-04T11:52:50.594Z"
      },
      {
        "duration": 1700,
        "start_time": "2023-05-04T11:53:04.800Z"
      },
      {
        "duration": 994,
        "start_time": "2023-05-04T11:53:06.502Z"
      },
      {
        "duration": 5,
        "start_time": "2023-05-04T11:53:07.498Z"
      },
      {
        "duration": 1048,
        "start_time": "2023-05-04T11:53:07.505Z"
      },
      {
        "duration": 539,
        "start_time": "2023-05-04T11:53:08.568Z"
      },
      {
        "duration": 49,
        "start_time": "2023-05-04T11:53:09.109Z"
      },
      {
        "duration": 407,
        "start_time": "2023-05-04T11:53:09.161Z"
      },
      {
        "duration": 27,
        "start_time": "2023-05-04T11:53:09.570Z"
      },
      {
        "duration": 74,
        "start_time": "2023-05-04T11:53:09.599Z"
      },
      {
        "duration": 732,
        "start_time": "2023-05-04T11:53:09.682Z"
      },
      {
        "duration": 81,
        "start_time": "2023-05-04T11:53:10.415Z"
      },
      {
        "duration": 107,
        "start_time": "2023-05-04T11:53:10.497Z"
      },
      {
        "duration": 125,
        "start_time": "2023-05-04T11:53:10.606Z"
      },
      {
        "duration": 287,
        "start_time": "2023-05-04T11:53:10.733Z"
      },
      {
        "duration": 81,
        "start_time": "2023-05-04T11:53:11.022Z"
      },
      {
        "duration": 30,
        "start_time": "2023-05-04T11:53:11.105Z"
      },
      {
        "duration": 60,
        "start_time": "2023-05-04T11:53:11.137Z"
      },
      {
        "duration": 72,
        "start_time": "2023-05-04T11:53:11.199Z"
      },
      {
        "duration": 44,
        "start_time": "2023-05-04T11:53:11.281Z"
      },
      {
        "duration": 107,
        "start_time": "2023-05-04T11:53:11.327Z"
      },
      {
        "duration": 3,
        "start_time": "2023-05-04T11:53:11.436Z"
      },
      {
        "duration": 76,
        "start_time": "2023-05-04T11:53:11.441Z"
      },
      {
        "duration": 65,
        "start_time": "2023-05-04T11:53:11.519Z"
      },
      {
        "duration": 59,
        "start_time": "2023-05-04T11:53:11.586Z"
      },
      {
        "duration": 484,
        "start_time": "2023-05-04T11:53:11.647Z"
      },
      {
        "duration": 10,
        "start_time": "2023-05-04T11:53:12.134Z"
      },
      {
        "duration": 334,
        "start_time": "2023-05-04T11:53:12.166Z"
      },
      {
        "duration": 68,
        "start_time": "2023-05-04T11:53:12.505Z"
      },
      {
        "duration": 264,
        "start_time": "2023-05-04T11:53:12.575Z"
      },
      {
        "duration": 817,
        "start_time": "2023-05-04T11:53:12.842Z"
      },
      {
        "duration": 47,
        "start_time": "2023-05-04T11:53:13.663Z"
      },
      {
        "duration": 283,
        "start_time": "2023-05-04T11:53:13.712Z"
      },
      {
        "duration": 683,
        "start_time": "2023-05-04T11:53:13.997Z"
      },
      {
        "duration": 76,
        "start_time": "2023-05-04T11:53:14.683Z"
      },
      {
        "duration": 580,
        "start_time": "2023-05-04T11:53:14.761Z"
      },
      {
        "duration": 20,
        "start_time": "2023-05-04T11:53:15.343Z"
      },
      {
        "duration": 63,
        "start_time": "2023-05-04T11:53:15.368Z"
      },
      {
        "duration": 3,
        "start_time": "2023-05-04T11:53:15.434Z"
      },
      {
        "duration": 197,
        "start_time": "2023-05-04T11:53:15.440Z"
      },
      {
        "duration": 0,
        "start_time": "2023-05-04T11:53:15.638Z"
      },
      {
        "duration": 359,
        "start_time": "2023-05-04T11:53:57.725Z"
      },
      {
        "duration": 136,
        "start_time": "2023-05-04T11:55:41.518Z"
      },
      {
        "duration": 207,
        "start_time": "2023-05-04T11:55:52.801Z"
      },
      {
        "duration": 3,
        "start_time": "2023-05-04T11:55:55.621Z"
      },
      {
        "duration": 46755,
        "start_time": "2023-05-04T11:56:37.513Z"
      },
      {
        "duration": 13,
        "start_time": "2023-05-04T11:57:42.113Z"
      },
      {
        "duration": 5,
        "start_time": "2023-05-04T12:00:46.308Z"
      },
      {
        "duration": 863,
        "start_time": "2023-05-04T12:00:47.734Z"
      },
      {
        "duration": 2420283,
        "start_time": "2023-05-04T12:00:56.415Z"
      },
      {
        "duration": 4,
        "start_time": "2023-05-04T12:41:41.103Z"
      },
      {
        "duration": 15,
        "start_time": "2023-05-04T12:42:00.860Z"
      },
      {
        "duration": 6,
        "start_time": "2023-05-04T12:42:27.055Z"
      },
      {
        "duration": 914,
        "start_time": "2023-05-04T12:42:27.917Z"
      },
      {
        "duration": 1585,
        "start_time": "2023-05-04T12:42:33.934Z"
      },
      {
        "duration": 879,
        "start_time": "2023-05-04T12:42:35.521Z"
      },
      {
        "duration": 5,
        "start_time": "2023-05-04T12:42:36.402Z"
      },
      {
        "duration": 951,
        "start_time": "2023-05-04T12:42:36.409Z"
      },
      {
        "duration": 419,
        "start_time": "2023-05-04T12:42:37.361Z"
      },
      {
        "duration": 37,
        "start_time": "2023-05-04T12:42:37.781Z"
      },
      {
        "duration": 426,
        "start_time": "2023-05-04T12:42:37.820Z"
      },
      {
        "duration": 42,
        "start_time": "2023-05-04T12:42:38.248Z"
      },
      {
        "duration": 46,
        "start_time": "2023-05-04T12:42:38.294Z"
      },
      {
        "duration": 746,
        "start_time": "2023-05-04T12:42:38.343Z"
      },
      {
        "duration": 88,
        "start_time": "2023-05-04T12:42:39.091Z"
      },
      {
        "duration": 45,
        "start_time": "2023-05-04T12:42:39.181Z"
      },
      {
        "duration": 10,
        "start_time": "2023-05-04T12:42:39.228Z"
      },
      {
        "duration": 135,
        "start_time": "2023-05-04T12:42:39.255Z"
      },
      {
        "duration": 83,
        "start_time": "2023-05-04T12:42:39.392Z"
      },
      {
        "duration": 252,
        "start_time": "2023-05-04T12:42:39.477Z"
      },
      {
        "duration": 77,
        "start_time": "2023-05-04T12:42:39.731Z"
      },
      {
        "duration": 19,
        "start_time": "2023-05-04T12:42:39.810Z"
      },
      {
        "duration": 66,
        "start_time": "2023-05-04T12:42:39.831Z"
      },
      {
        "duration": 78,
        "start_time": "2023-05-04T12:42:39.899Z"
      },
      {
        "duration": 38,
        "start_time": "2023-05-04T12:42:39.979Z"
      },
      {
        "duration": 99,
        "start_time": "2023-05-04T12:42:40.020Z"
      },
      {
        "duration": 3,
        "start_time": "2023-05-04T12:42:40.121Z"
      },
      {
        "duration": 55,
        "start_time": "2023-05-04T12:42:40.125Z"
      },
      {
        "duration": 60,
        "start_time": "2023-05-04T12:42:40.182Z"
      },
      {
        "duration": 52,
        "start_time": "2023-05-04T12:42:40.244Z"
      },
      {
        "duration": 482,
        "start_time": "2023-05-04T12:42:40.298Z"
      },
      {
        "duration": 5,
        "start_time": "2023-05-04T12:42:40.785Z"
      },
      {
        "duration": 225,
        "start_time": "2023-05-04T12:42:40.792Z"
      },
      {
        "duration": 77,
        "start_time": "2023-05-04T12:42:41.019Z"
      },
      {
        "duration": 220,
        "start_time": "2023-05-04T12:42:41.098Z"
      },
      {
        "duration": 683,
        "start_time": "2023-05-04T12:42:41.321Z"
      },
      {
        "duration": 59,
        "start_time": "2023-05-04T12:42:42.006Z"
      },
      {
        "duration": 236,
        "start_time": "2023-05-04T12:42:42.074Z"
      },
      {
        "duration": 577,
        "start_time": "2023-05-04T12:42:42.312Z"
      },
      {
        "duration": 285,
        "start_time": "2023-05-04T12:42:42.891Z"
      },
      {
        "duration": 471,
        "start_time": "2023-05-04T12:42:43.178Z"
      },
      {
        "duration": 134,
        "start_time": "2023-05-04T12:42:43.651Z"
      },
      {
        "duration": 218,
        "start_time": "2023-05-04T12:42:43.786Z"
      },
      {
        "duration": 35664,
        "start_time": "2023-05-04T12:42:44.006Z"
      },
      {
        "duration": 10,
        "start_time": "2023-05-04T12:43:19.673Z"
      },
      {
        "duration": 511256,
        "start_time": "2023-05-04T12:43:19.686Z"
      },
      {
        "duration": 22,
        "start_time": "2023-05-04T12:55:42.245Z"
      },
      {
        "duration": 11,
        "start_time": "2023-05-04T12:56:11.108Z"
      },
      {
        "duration": 458,
        "start_time": "2023-05-04T12:56:24.252Z"
      },
      {
        "duration": 269,
        "start_time": "2023-05-04T12:56:45.164Z"
      },
      {
        "duration": 35035,
        "start_time": "2023-05-04T12:57:05.651Z"
      },
      {
        "duration": 18,
        "start_time": "2023-05-04T12:57:54.011Z"
      },
      {
        "duration": 5,
        "start_time": "2023-05-04T12:58:40.629Z"
      },
      {
        "duration": 798,
        "start_time": "2023-05-04T12:58:41.242Z"
      },
      {
        "duration": 4,
        "start_time": "2023-05-04T12:58:42.883Z"
      },
      {
        "duration": 959,
        "start_time": "2023-05-04T12:58:43.893Z"
      },
      {
        "duration": 7,
        "start_time": "2023-05-04T12:58:57.235Z"
      },
      {
        "duration": 730591,
        "start_time": "2023-05-04T12:59:09.175Z"
      },
      {
        "duration": 5,
        "start_time": "2023-05-04T13:12:22.179Z"
      },
      {
        "duration": 4,
        "start_time": "2023-05-04T13:12:45.970Z"
      },
      {
        "duration": 310182,
        "start_time": "2023-05-04T13:14:38.293Z"
      },
      {
        "duration": 0,
        "start_time": "2023-05-04T13:19:48.477Z"
      },
      {
        "duration": 0,
        "start_time": "2023-05-04T13:19:48.478Z"
      },
      {
        "duration": 3,
        "start_time": "2023-05-04T13:19:50.409Z"
      },
      {
        "duration": 18673,
        "start_time": "2023-05-04T13:19:51.193Z"
      },
      {
        "duration": 0,
        "start_time": "2023-05-04T13:20:09.871Z"
      },
      {
        "duration": 0,
        "start_time": "2023-05-04T13:20:09.872Z"
      },
      {
        "duration": 0,
        "start_time": "2023-05-04T13:20:09.875Z"
      },
      {
        "duration": 13461,
        "start_time": "2023-05-04T13:20:25.421Z"
      },
      {
        "duration": 0,
        "start_time": "2023-05-04T13:20:38.884Z"
      },
      {
        "duration": 0,
        "start_time": "2023-05-04T13:20:38.885Z"
      },
      {
        "duration": 1819,
        "start_time": "2023-05-04T15:19:26.269Z"
      },
      {
        "duration": 1112,
        "start_time": "2023-05-04T15:19:28.090Z"
      },
      {
        "duration": 5,
        "start_time": "2023-05-04T15:19:29.204Z"
      },
      {
        "duration": 925,
        "start_time": "2023-05-04T15:19:29.211Z"
      },
      {
        "duration": 376,
        "start_time": "2023-05-04T15:19:30.139Z"
      },
      {
        "duration": 41,
        "start_time": "2023-05-04T15:19:30.517Z"
      },
      {
        "duration": 470,
        "start_time": "2023-05-04T15:19:30.560Z"
      },
      {
        "duration": 29,
        "start_time": "2023-05-04T15:19:31.032Z"
      },
      {
        "duration": 161,
        "start_time": "2023-05-04T15:19:31.063Z"
      },
      {
        "duration": 665,
        "start_time": "2023-05-04T15:19:31.227Z"
      },
      {
        "duration": 70,
        "start_time": "2023-05-04T15:19:31.893Z"
      },
      {
        "duration": 58,
        "start_time": "2023-05-04T15:19:31.965Z"
      },
      {
        "duration": 10,
        "start_time": "2023-05-04T15:19:32.024Z"
      },
      {
        "duration": 145,
        "start_time": "2023-05-04T15:19:32.035Z"
      },
      {
        "duration": 79,
        "start_time": "2023-05-04T15:19:32.182Z"
      },
      {
        "duration": 227,
        "start_time": "2023-05-04T15:19:32.263Z"
      },
      {
        "duration": 64,
        "start_time": "2023-05-04T15:19:32.492Z"
      },
      {
        "duration": 31,
        "start_time": "2023-05-04T15:19:32.558Z"
      },
      {
        "duration": 74,
        "start_time": "2023-05-04T15:19:32.590Z"
      },
      {
        "duration": 61,
        "start_time": "2023-05-04T15:19:32.666Z"
      },
      {
        "duration": 43,
        "start_time": "2023-05-04T15:19:32.729Z"
      },
      {
        "duration": 60,
        "start_time": "2023-05-04T15:19:32.774Z"
      },
      {
        "duration": 27,
        "start_time": "2023-05-04T15:19:32.836Z"
      },
      {
        "duration": 50,
        "start_time": "2023-05-04T15:19:32.865Z"
      },
      {
        "duration": 56,
        "start_time": "2023-05-04T15:19:32.917Z"
      },
      {
        "duration": 50,
        "start_time": "2023-05-04T15:19:32.975Z"
      },
      {
        "duration": 449,
        "start_time": "2023-05-04T15:19:33.027Z"
      },
      {
        "duration": 5,
        "start_time": "2023-05-04T15:19:33.480Z"
      },
      {
        "duration": 213,
        "start_time": "2023-05-04T15:19:33.486Z"
      },
      {
        "duration": 41,
        "start_time": "2023-05-04T15:19:33.701Z"
      },
      {
        "duration": 218,
        "start_time": "2023-05-04T15:19:33.755Z"
      },
      {
        "duration": 690,
        "start_time": "2023-05-04T15:19:33.974Z"
      },
      {
        "duration": 43,
        "start_time": "2023-05-04T15:19:34.666Z"
      },
      {
        "duration": 223,
        "start_time": "2023-05-04T15:19:34.712Z"
      },
      {
        "duration": 515,
        "start_time": "2023-05-04T15:19:34.937Z"
      },
      {
        "duration": 251,
        "start_time": "2023-05-04T15:19:35.455Z"
      },
      {
        "duration": 10,
        "start_time": "2023-05-04T15:19:35.708Z"
      },
      {
        "duration": 433,
        "start_time": "2023-05-04T15:19:35.719Z"
      },
      {
        "duration": 240,
        "start_time": "2023-05-04T15:19:36.154Z"
      },
      {
        "duration": 13306,
        "start_time": "2023-05-04T15:19:36.396Z"
      },
      {
        "duration": 5,
        "start_time": "2023-05-04T15:19:49.758Z"
      },
      {
        "duration": 442123,
        "start_time": "2023-05-04T15:19:49.765Z"
      },
      {
        "duration": 0,
        "start_time": "2023-05-04T15:27:11.889Z"
      },
      {
        "duration": 0,
        "start_time": "2023-05-04T15:27:11.893Z"
      },
      {
        "duration": 0,
        "start_time": "2023-05-04T15:27:11.894Z"
      },
      {
        "duration": 0,
        "start_time": "2023-05-04T15:27:11.895Z"
      },
      {
        "duration": 0,
        "start_time": "2023-05-04T15:27:11.896Z"
      },
      {
        "duration": 9,
        "start_time": "2023-05-04T15:27:30.837Z"
      },
      {
        "duration": 78842,
        "start_time": "2023-05-04T15:27:37.849Z"
      },
      {
        "duration": 4,
        "start_time": "2023-05-04T15:28:56.693Z"
      },
      {
        "duration": 10,
        "start_time": "2023-05-04T15:28:56.699Z"
      },
      {
        "duration": 77,
        "start_time": "2023-05-04T15:29:28.367Z"
      },
      {
        "duration": 110,
        "start_time": "2023-05-04T15:29:40.369Z"
      },
      {
        "duration": 14,
        "start_time": "2023-05-04T15:32:13.125Z"
      },
      {
        "duration": 14,
        "start_time": "2023-05-04T15:34:19.529Z"
      },
      {
        "duration": 12,
        "start_time": "2023-05-04T15:35:56.264Z"
      },
      {
        "duration": 4,
        "start_time": "2023-05-04T15:37:05.863Z"
      },
      {
        "duration": 792,
        "start_time": "2023-05-04T15:37:06.450Z"
      },
      {
        "duration": 446786,
        "start_time": "2023-05-04T15:37:11.399Z"
      },
      {
        "duration": 0,
        "start_time": "2023-05-04T15:44:38.187Z"
      },
      {
        "duration": 19876,
        "start_time": "2023-05-04T15:45:01.609Z"
      },
      {
        "duration": 0,
        "start_time": "2023-05-04T15:45:21.487Z"
      },
      {
        "duration": 25085,
        "start_time": "2023-05-04T15:45:23.380Z"
      },
      {
        "duration": 39476,
        "start_time": "2023-05-04T15:45:50.403Z"
      },
      {
        "duration": 0,
        "start_time": "2023-05-04T15:46:29.881Z"
      },
      {
        "duration": 1458,
        "start_time": "2023-05-04T15:46:35.792Z"
      },
      {
        "duration": 830,
        "start_time": "2023-05-04T15:46:37.252Z"
      },
      {
        "duration": 5,
        "start_time": "2023-05-04T15:46:38.083Z"
      },
      {
        "duration": 928,
        "start_time": "2023-05-04T15:46:38.091Z"
      },
      {
        "duration": 335,
        "start_time": "2023-05-04T15:46:39.021Z"
      },
      {
        "duration": 32,
        "start_time": "2023-05-04T15:46:39.358Z"
      },
      {
        "duration": 425,
        "start_time": "2023-05-04T15:46:39.392Z"
      },
      {
        "duration": 24,
        "start_time": "2023-05-04T15:46:39.818Z"
      },
      {
        "duration": 39,
        "start_time": "2023-05-04T15:46:39.856Z"
      },
      {
        "duration": 687,
        "start_time": "2023-05-04T15:46:39.898Z"
      },
      {
        "duration": 74,
        "start_time": "2023-05-04T15:46:40.586Z"
      },
      {
        "duration": 45,
        "start_time": "2023-05-04T15:46:40.662Z"
      },
      {
        "duration": 10,
        "start_time": "2023-05-04T15:46:40.708Z"
      },
      {
        "duration": 171,
        "start_time": "2023-05-04T15:46:40.720Z"
      },
      {
        "duration": 71,
        "start_time": "2023-05-04T15:46:40.893Z"
      },
      {
        "duration": 233,
        "start_time": "2023-05-04T15:46:40.966Z"
      },
      {
        "duration": 64,
        "start_time": "2023-05-04T15:46:41.200Z"
      },
      {
        "duration": 46,
        "start_time": "2023-05-04T15:46:41.266Z"
      },
      {
        "duration": 62,
        "start_time": "2023-05-04T15:46:41.314Z"
      },
      {
        "duration": 85,
        "start_time": "2023-05-04T15:46:41.378Z"
      },
      {
        "duration": 33,
        "start_time": "2023-05-04T15:46:41.465Z"
      },
      {
        "duration": 69,
        "start_time": "2023-05-04T15:46:41.499Z"
      },
      {
        "duration": 11,
        "start_time": "2023-05-04T15:46:41.569Z"
      },
      {
        "duration": 42,
        "start_time": "2023-05-04T15:46:41.582Z"
      },
      {
        "duration": 57,
        "start_time": "2023-05-04T15:46:41.626Z"
      },
      {
        "duration": 24,
        "start_time": "2023-05-04T15:46:41.685Z"
      },
      {
        "duration": 463,
        "start_time": "2023-05-04T15:46:41.711Z"
      },
      {
        "duration": 10,
        "start_time": "2023-05-04T15:46:42.178Z"
      },
      {
        "duration": 248,
        "start_time": "2023-05-04T15:46:42.190Z"
      },
      {
        "duration": 48,
        "start_time": "2023-05-04T15:46:42.440Z"
      },
      {
        "duration": 208,
        "start_time": "2023-05-04T15:46:42.490Z"
      },
      {
        "duration": 619,
        "start_time": "2023-05-04T15:46:42.700Z"
      },
      {
        "duration": 48,
        "start_time": "2023-05-04T15:46:43.321Z"
      },
      {
        "duration": 254,
        "start_time": "2023-05-04T15:46:43.370Z"
      },
      {
        "duration": 658,
        "start_time": "2023-05-04T15:46:43.626Z"
      },
      {
        "duration": 320,
        "start_time": "2023-05-04T15:46:44.286Z"
      },
      {
        "duration": 12,
        "start_time": "2023-05-04T15:46:44.608Z"
      },
      {
        "duration": 512,
        "start_time": "2023-05-04T15:46:44.622Z"
      },
      {
        "duration": 258,
        "start_time": "2023-05-04T15:46:45.135Z"
      },
      {
        "duration": 23661,
        "start_time": "2023-05-04T15:46:45.395Z"
      },
      {
        "duration": 4,
        "start_time": "2023-05-04T15:47:09.058Z"
      },
      {
        "duration": 130214,
        "start_time": "2023-05-04T15:47:09.064Z"
      },
      {
        "duration": 3,
        "start_time": "2023-05-04T15:49:19.280Z"
      },
      {
        "duration": 20610,
        "start_time": "2023-05-04T15:49:19.286Z"
      },
      {
        "duration": 0,
        "start_time": "2023-05-04T15:49:39.897Z"
      },
      {
        "duration": 0,
        "start_time": "2023-05-04T15:49:39.899Z"
      },
      {
        "duration": 162690,
        "start_time": "2023-05-04T15:50:25.580Z"
      },
      {
        "duration": 0,
        "start_time": "2023-05-04T15:53:08.271Z"
      },
      {
        "duration": 6906,
        "start_time": "2023-05-04T15:56:18.378Z"
      },
      {
        "duration": 71,
        "start_time": "2023-05-04T15:56:25.287Z"
      },
      {
        "duration": 1443,
        "start_time": "2023-05-04T15:57:57.144Z"
      },
      {
        "duration": 818,
        "start_time": "2023-05-04T15:57:58.589Z"
      },
      {
        "duration": 6,
        "start_time": "2023-05-04T15:57:59.409Z"
      },
      {
        "duration": 886,
        "start_time": "2023-05-04T15:57:59.417Z"
      },
      {
        "duration": 346,
        "start_time": "2023-05-04T15:58:00.305Z"
      },
      {
        "duration": 33,
        "start_time": "2023-05-04T15:58:00.653Z"
      },
      {
        "duration": 448,
        "start_time": "2023-05-04T15:58:00.688Z"
      },
      {
        "duration": 29,
        "start_time": "2023-05-04T15:58:01.138Z"
      },
      {
        "duration": 90,
        "start_time": "2023-05-04T15:58:01.168Z"
      },
      {
        "duration": 686,
        "start_time": "2023-05-04T15:58:01.261Z"
      },
      {
        "duration": 65,
        "start_time": "2023-05-04T15:58:01.949Z"
      },
      {
        "duration": 88,
        "start_time": "2023-05-04T15:58:02.016Z"
      },
      {
        "duration": 52,
        "start_time": "2023-05-04T15:58:02.106Z"
      },
      {
        "duration": 157,
        "start_time": "2023-05-04T15:58:02.160Z"
      },
      {
        "duration": 70,
        "start_time": "2023-05-04T15:58:02.318Z"
      },
      {
        "duration": 238,
        "start_time": "2023-05-04T15:58:02.390Z"
      },
      {
        "duration": 63,
        "start_time": "2023-05-04T15:58:02.630Z"
      },
      {
        "duration": 33,
        "start_time": "2023-05-04T15:58:02.695Z"
      },
      {
        "duration": 61,
        "start_time": "2023-05-04T15:58:02.730Z"
      },
      {
        "duration": 56,
        "start_time": "2023-05-04T15:58:02.793Z"
      },
      {
        "duration": 38,
        "start_time": "2023-05-04T15:58:02.856Z"
      },
      {
        "duration": 79,
        "start_time": "2023-05-04T15:58:02.896Z"
      },
      {
        "duration": 2,
        "start_time": "2023-05-04T15:58:02.977Z"
      },
      {
        "duration": 42,
        "start_time": "2023-05-04T15:58:02.980Z"
      },
      {
        "duration": 61,
        "start_time": "2023-05-04T15:58:03.024Z"
      },
      {
        "duration": 21,
        "start_time": "2023-05-04T15:58:03.087Z"
      },
      {
        "duration": 436,
        "start_time": "2023-05-04T15:58:03.110Z"
      },
      {
        "duration": 10,
        "start_time": "2023-05-04T15:58:03.549Z"
      },
      {
        "duration": 213,
        "start_time": "2023-05-04T15:58:03.560Z"
      },
      {
        "duration": 41,
        "start_time": "2023-05-04T15:58:03.775Z"
      },
      {
        "duration": 256,
        "start_time": "2023-05-04T15:58:03.818Z"
      },
      {
        "duration": 622,
        "start_time": "2023-05-04T15:58:04.076Z"
      },
      {
        "duration": 39,
        "start_time": "2023-05-04T15:58:04.700Z"
      },
      {
        "duration": 228,
        "start_time": "2023-05-04T15:58:04.741Z"
      },
      {
        "duration": 580,
        "start_time": "2023-05-04T15:58:04.971Z"
      },
      {
        "duration": 283,
        "start_time": "2023-05-04T15:58:05.556Z"
      },
      {
        "duration": 21,
        "start_time": "2023-05-04T15:58:05.841Z"
      },
      {
        "duration": 459,
        "start_time": "2023-05-04T15:58:05.864Z"
      },
      {
        "duration": 250,
        "start_time": "2023-05-04T15:58:06.325Z"
      },
      {
        "duration": 14480,
        "start_time": "2023-05-04T15:58:06.577Z"
      },
      {
        "duration": 4,
        "start_time": "2023-05-04T15:58:21.059Z"
      },
      {
        "duration": 124276,
        "start_time": "2023-05-04T15:58:21.069Z"
      },
      {
        "duration": 4,
        "start_time": "2023-05-04T16:00:25.347Z"
      },
      {
        "duration": 168949,
        "start_time": "2023-05-04T16:00:25.353Z"
      },
      {
        "duration": 0,
        "start_time": "2023-05-04T16:03:14.304Z"
      },
      {
        "duration": 0,
        "start_time": "2023-05-04T16:03:14.305Z"
      },
      {
        "duration": 0,
        "start_time": "2023-05-04T16:03:14.307Z"
      },
      {
        "duration": 58758,
        "start_time": "2023-05-04T16:03:16.307Z"
      },
      {
        "duration": 3,
        "start_time": "2023-05-04T16:04:15.068Z"
      },
      {
        "duration": 10,
        "start_time": "2023-05-04T16:05:23.101Z"
      },
      {
        "duration": 13,
        "start_time": "2023-05-04T16:05:32.176Z"
      },
      {
        "duration": 9,
        "start_time": "2023-05-04T16:05:52.848Z"
      },
      {
        "duration": 15,
        "start_time": "2023-05-04T16:07:04.534Z"
      },
      {
        "duration": 12,
        "start_time": "2023-05-04T16:09:21.940Z"
      },
      {
        "duration": 4,
        "start_time": "2023-05-04T16:09:46.086Z"
      },
      {
        "duration": 738,
        "start_time": "2023-05-04T16:09:46.588Z"
      },
      {
        "duration": 140584,
        "start_time": "2023-05-04T16:09:53.192Z"
      },
      {
        "duration": 4,
        "start_time": "2023-05-04T16:12:13.778Z"
      },
      {
        "duration": 78,
        "start_time": "2023-05-04T16:12:13.784Z"
      },
      {
        "duration": 8,
        "start_time": "2023-05-04T16:12:33.972Z"
      },
      {
        "duration": 1452,
        "start_time": "2023-05-04T16:13:36.620Z"
      },
      {
        "duration": 831,
        "start_time": "2023-05-04T16:13:38.074Z"
      },
      {
        "duration": 4,
        "start_time": "2023-05-04T16:13:38.907Z"
      },
      {
        "duration": 846,
        "start_time": "2023-05-04T16:13:38.913Z"
      },
      {
        "duration": 346,
        "start_time": "2023-05-04T16:13:39.761Z"
      },
      {
        "duration": 47,
        "start_time": "2023-05-04T16:13:40.109Z"
      },
      {
        "duration": 374,
        "start_time": "2023-05-04T16:13:40.158Z"
      },
      {
        "duration": 27,
        "start_time": "2023-05-04T16:13:40.534Z"
      },
      {
        "duration": 41,
        "start_time": "2023-05-04T16:13:40.563Z"
      },
      {
        "duration": 658,
        "start_time": "2023-05-04T16:13:40.607Z"
      },
      {
        "duration": 63,
        "start_time": "2023-05-04T16:13:41.267Z"
      },
      {
        "duration": 62,
        "start_time": "2023-05-04T16:13:41.331Z"
      },
      {
        "duration": 13,
        "start_time": "2023-05-04T16:13:41.395Z"
      },
      {
        "duration": 126,
        "start_time": "2023-05-04T16:13:41.410Z"
      },
      {
        "duration": 60,
        "start_time": "2023-05-04T16:13:41.538Z"
      },
      {
        "duration": 235,
        "start_time": "2023-05-04T16:13:41.600Z"
      },
      {
        "duration": 59,
        "start_time": "2023-05-04T16:13:41.836Z"
      },
      {
        "duration": 18,
        "start_time": "2023-05-04T16:13:41.897Z"
      },
      {
        "duration": 58,
        "start_time": "2023-05-04T16:13:41.917Z"
      },
      {
        "duration": 59,
        "start_time": "2023-05-04T16:13:41.977Z"
      },
      {
        "duration": 49,
        "start_time": "2023-05-04T16:13:42.038Z"
      },
      {
        "duration": 54,
        "start_time": "2023-05-04T16:13:42.089Z"
      },
      {
        "duration": 2,
        "start_time": "2023-05-04T16:13:42.163Z"
      },
      {
        "duration": 39,
        "start_time": "2023-05-04T16:13:42.166Z"
      },
      {
        "duration": 59,
        "start_time": "2023-05-04T16:13:42.207Z"
      },
      {
        "duration": 21,
        "start_time": "2023-05-04T16:13:42.268Z"
      },
      {
        "duration": 417,
        "start_time": "2023-05-04T16:13:42.291Z"
      },
      {
        "duration": 4,
        "start_time": "2023-05-04T16:13:42.711Z"
      },
      {
        "duration": 204,
        "start_time": "2023-05-04T16:13:42.717Z"
      },
      {
        "duration": 48,
        "start_time": "2023-05-04T16:13:42.923Z"
      },
      {
        "duration": 189,
        "start_time": "2023-05-04T16:13:42.973Z"
      },
      {
        "duration": 591,
        "start_time": "2023-05-04T16:13:43.164Z"
      },
      {
        "duration": 36,
        "start_time": "2023-05-04T16:13:43.757Z"
      },
      {
        "duration": 261,
        "start_time": "2023-05-04T16:13:43.795Z"
      },
      {
        "duration": 511,
        "start_time": "2023-05-04T16:13:44.058Z"
      },
      {
        "duration": 254,
        "start_time": "2023-05-04T16:13:44.571Z"
      },
      {
        "duration": 11,
        "start_time": "2023-05-04T16:13:44.827Z"
      },
      {
        "duration": 432,
        "start_time": "2023-05-04T16:13:44.855Z"
      },
      {
        "duration": 246,
        "start_time": "2023-05-04T16:13:45.289Z"
      },
      {
        "duration": 13332,
        "start_time": "2023-05-04T16:13:45.536Z"
      },
      {
        "duration": 4,
        "start_time": "2023-05-04T16:13:58.956Z"
      },
      {
        "duration": 124710,
        "start_time": "2023-05-04T16:13:59.055Z"
      },
      {
        "duration": 5,
        "start_time": "2023-05-04T16:16:03.767Z"
      },
      {
        "duration": 307082,
        "start_time": "2023-05-04T16:16:03.774Z"
      },
      {
        "duration": 0,
        "start_time": "2023-05-04T16:21:10.977Z"
      },
      {
        "duration": 0,
        "start_time": "2023-05-04T16:21:10.978Z"
      },
      {
        "duration": 5,
        "start_time": "2023-05-04T16:21:15.081Z"
      },
      {
        "duration": 9,
        "start_time": "2023-05-04T16:21:18.330Z"
      },
      {
        "duration": 6,
        "start_time": "2023-05-04T16:21:39.107Z"
      },
      {
        "duration": 5765,
        "start_time": "2023-05-04T16:27:49.001Z"
      },
      {
        "duration": 4947,
        "start_time": "2023-05-04T16:30:02.449Z"
      },
      {
        "duration": 6,
        "start_time": "2023-05-04T16:30:34.236Z"
      },
      {
        "duration": 12,
        "start_time": "2023-05-04T16:32:16.558Z"
      },
      {
        "duration": 5211,
        "start_time": "2023-05-04T16:32:25.151Z"
      },
      {
        "duration": 127996,
        "start_time": "2023-05-04T16:32:30.364Z"
      },
      {
        "duration": 0,
        "start_time": "2023-05-04T16:34:38.362Z"
      },
      {
        "duration": 62706,
        "start_time": "2023-05-04T16:34:39.865Z"
      },
      {
        "duration": 0,
        "start_time": "2023-05-04T16:35:42.573Z"
      },
      {
        "duration": 4874,
        "start_time": "2023-05-04T16:35:49.991Z"
      },
      {
        "duration": 91915,
        "start_time": "2023-05-04T16:35:54.866Z"
      },
      {
        "duration": 7,
        "start_time": "2023-05-04T16:37:26.783Z"
      },
      {
        "duration": 1489,
        "start_time": "2023-05-04T16:46:52.583Z"
      },
      {
        "duration": 823,
        "start_time": "2023-05-04T16:46:54.074Z"
      },
      {
        "duration": 4,
        "start_time": "2023-05-04T16:46:54.899Z"
      },
      {
        "duration": 943,
        "start_time": "2023-05-04T16:46:54.905Z"
      },
      {
        "duration": 364,
        "start_time": "2023-05-04T16:46:55.850Z"
      },
      {
        "duration": 49,
        "start_time": "2023-05-04T16:46:56.215Z"
      },
      {
        "duration": 392,
        "start_time": "2023-05-04T16:46:56.266Z"
      },
      {
        "duration": 21,
        "start_time": "2023-05-04T16:46:56.659Z"
      },
      {
        "duration": 55,
        "start_time": "2023-05-04T16:46:56.682Z"
      },
      {
        "duration": 633,
        "start_time": "2023-05-04T16:46:56.740Z"
      },
      {
        "duration": 63,
        "start_time": "2023-05-04T16:46:57.374Z"
      },
      {
        "duration": 54,
        "start_time": "2023-05-04T16:46:57.438Z"
      },
      {
        "duration": 10,
        "start_time": "2023-05-04T16:46:57.494Z"
      },
      {
        "duration": 142,
        "start_time": "2023-05-04T16:46:57.506Z"
      },
      {
        "duration": 72,
        "start_time": "2023-05-04T16:46:57.650Z"
      },
      {
        "duration": 271,
        "start_time": "2023-05-04T16:46:57.724Z"
      },
      {
        "duration": 78,
        "start_time": "2023-05-04T16:46:57.997Z"
      },
      {
        "duration": 19,
        "start_time": "2023-05-04T16:46:58.077Z"
      },
      {
        "duration": 59,
        "start_time": "2023-05-04T16:46:58.098Z"
      },
      {
        "duration": 61,
        "start_time": "2023-05-04T16:46:58.159Z"
      },
      {
        "duration": 55,
        "start_time": "2023-05-04T16:46:58.222Z"
      },
      {
        "duration": 59,
        "start_time": "2023-05-04T16:46:58.278Z"
      },
      {
        "duration": 3,
        "start_time": "2023-05-04T16:46:58.339Z"
      },
      {
        "duration": 34,
        "start_time": "2023-05-04T16:46:58.357Z"
      },
      {
        "duration": 65,
        "start_time": "2023-05-04T16:46:58.393Z"
      },
      {
        "duration": 21,
        "start_time": "2023-05-04T16:46:58.459Z"
      },
      {
        "duration": 477,
        "start_time": "2023-05-04T16:46:58.482Z"
      },
      {
        "duration": 5,
        "start_time": "2023-05-04T16:46:58.963Z"
      },
      {
        "duration": 217,
        "start_time": "2023-05-04T16:46:58.970Z"
      },
      {
        "duration": 44,
        "start_time": "2023-05-04T16:46:59.189Z"
      },
      {
        "duration": 215,
        "start_time": "2023-05-04T16:46:59.235Z"
      },
      {
        "duration": 681,
        "start_time": "2023-05-04T16:46:59.456Z"
      },
      {
        "duration": 45,
        "start_time": "2023-05-04T16:47:00.139Z"
      },
      {
        "duration": 254,
        "start_time": "2023-05-04T16:47:00.186Z"
      },
      {
        "duration": 570,
        "start_time": "2023-05-04T16:47:00.443Z"
      },
      {
        "duration": 277,
        "start_time": "2023-05-04T16:47:01.015Z"
      },
      {
        "duration": 11,
        "start_time": "2023-05-04T16:47:01.294Z"
      },
      {
        "duration": 520,
        "start_time": "2023-05-04T16:47:01.308Z"
      },
      {
        "duration": 244,
        "start_time": "2023-05-04T16:47:01.830Z"
      },
      {
        "duration": 18680,
        "start_time": "2023-05-04T16:47:02.076Z"
      },
      {
        "duration": 4,
        "start_time": "2023-05-04T16:47:20.758Z"
      },
      {
        "duration": 125376,
        "start_time": "2023-05-04T16:47:20.764Z"
      },
      {
        "duration": 5,
        "start_time": "2023-05-04T16:49:26.142Z"
      },
      {
        "duration": 317313,
        "start_time": "2023-05-04T16:49:26.156Z"
      },
      {
        "duration": 4,
        "start_time": "2023-05-04T16:54:43.471Z"
      },
      {
        "duration": 9,
        "start_time": "2023-05-04T16:54:43.477Z"
      },
      {
        "duration": 4971,
        "start_time": "2023-05-04T16:54:43.487Z"
      },
      {
        "duration": 0,
        "start_time": "2023-05-04T16:54:48.460Z"
      },
      {
        "duration": 0,
        "start_time": "2023-05-04T16:54:48.461Z"
      },
      {
        "duration": 4747,
        "start_time": "2023-05-04T16:55:16.508Z"
      },
      {
        "duration": 7146,
        "start_time": "2023-05-04T16:55:33.223Z"
      },
      {
        "duration": 7,
        "start_time": "2023-05-04T16:55:40.371Z"
      },
      {
        "duration": 15,
        "start_time": "2023-05-05T12:26:32.163Z"
      },
      {
        "duration": 645,
        "start_time": "2023-05-05T12:26:33.497Z"
      },
      {
        "duration": 350,
        "start_time": "2023-05-05T12:26:37.004Z"
      },
      {
        "duration": 257,
        "start_time": "2023-05-05T12:26:38.220Z"
      },
      {
        "duration": 198,
        "start_time": "2023-05-05T12:26:40.580Z"
      },
      {
        "duration": 4,
        "start_time": "2023-05-05T12:30:49.138Z"
      },
      {
        "duration": 821,
        "start_time": "2023-05-05T12:30:49.386Z"
      },
      {
        "duration": 4,
        "start_time": "2023-05-05T12:30:50.209Z"
      },
      {
        "duration": 926,
        "start_time": "2023-05-05T12:30:50.217Z"
      },
      {
        "duration": 456,
        "start_time": "2023-05-05T12:30:51.145Z"
      },
      {
        "duration": 34,
        "start_time": "2023-05-05T12:30:51.603Z"
      },
      {
        "duration": 448,
        "start_time": "2023-05-05T12:30:51.640Z"
      },
      {
        "duration": 33,
        "start_time": "2023-05-05T12:30:52.090Z"
      },
      {
        "duration": 78,
        "start_time": "2023-05-05T12:30:52.125Z"
      },
      {
        "duration": 722,
        "start_time": "2023-05-05T12:30:52.206Z"
      },
      {
        "duration": 93,
        "start_time": "2023-05-05T12:30:52.931Z"
      },
      {
        "duration": 80,
        "start_time": "2023-05-05T12:30:53.025Z"
      },
      {
        "duration": 10,
        "start_time": "2023-05-05T12:30:53.444Z"
      },
      {
        "duration": 130,
        "start_time": "2023-05-05T12:30:53.645Z"
      },
      {
        "duration": 87,
        "start_time": "2023-05-05T12:30:53.821Z"
      },
      {
        "duration": 257,
        "start_time": "2023-05-05T12:30:54.408Z"
      },
      {
        "duration": 98,
        "start_time": "2023-05-05T12:30:54.668Z"
      },
      {
        "duration": 22,
        "start_time": "2023-05-05T12:30:54.768Z"
      },
      {
        "duration": 43,
        "start_time": "2023-05-05T12:30:55.317Z"
      },
      {
        "duration": 80,
        "start_time": "2023-05-05T12:30:55.497Z"
      },
      {
        "duration": 40,
        "start_time": "2023-05-05T12:30:55.886Z"
      },
      {
        "duration": 79,
        "start_time": "2023-05-05T12:30:56.110Z"
      },
      {
        "duration": 4,
        "start_time": "2023-05-05T12:30:56.485Z"
      },
      {
        "duration": 36,
        "start_time": "2023-05-05T12:30:56.695Z"
      },
      {
        "duration": 67,
        "start_time": "2023-05-05T12:30:57.475Z"
      },
      {
        "duration": 33,
        "start_time": "2023-05-05T12:30:59.454Z"
      },
      {
        "duration": 456,
        "start_time": "2023-05-05T12:30:59.715Z"
      },
      {
        "duration": 6,
        "start_time": "2023-05-05T12:31:00.173Z"
      },
      {
        "duration": 231,
        "start_time": "2023-05-05T12:31:00.516Z"
      },
      {
        "duration": 50,
        "start_time": "2023-05-05T12:31:00.892Z"
      },
      {
        "duration": 221,
        "start_time": "2023-05-05T12:31:01.056Z"
      },
      {
        "duration": 913,
        "start_time": "2023-05-05T12:31:01.279Z"
      },
      {
        "duration": 36,
        "start_time": "2023-05-05T12:31:03.636Z"
      },
      {
        "duration": 226,
        "start_time": "2023-05-05T12:31:03.818Z"
      },
      {
        "duration": 477,
        "start_time": "2023-05-05T12:31:04.692Z"
      },
      {
        "duration": 305,
        "start_time": "2023-05-05T12:31:06.429Z"
      },
      {
        "duration": 14,
        "start_time": "2023-05-05T12:31:09.375Z"
      },
      {
        "duration": 423,
        "start_time": "2023-05-05T12:31:09.916Z"
      },
      {
        "duration": 3,
        "start_time": "2023-05-05T12:31:16.635Z"
      },
      {
        "duration": 243,
        "start_time": "2023-05-05T12:31:17.215Z"
      },
      {
        "duration": 146,
        "start_time": "2023-05-05T12:31:17.914Z"
      },
      {
        "duration": 175,
        "start_time": "2023-05-05T12:31:21.643Z"
      },
      {
        "duration": 113,
        "start_time": "2023-05-05T12:32:04.204Z"
      },
      {
        "duration": 179,
        "start_time": "2023-05-05T12:32:05.836Z"
      },
      {
        "duration": 15776,
        "start_time": "2023-05-05T12:33:08.552Z"
      },
      {
        "duration": 19,
        "start_time": "2023-05-05T12:33:24.419Z"
      },
      {
        "duration": 5,
        "start_time": "2023-05-05T12:33:54.876Z"
      },
      {
        "duration": 808,
        "start_time": "2023-05-05T12:33:56.748Z"
      },
      {
        "duration": 4,
        "start_time": "2023-05-05T12:33:57.558Z"
      },
      {
        "duration": 934,
        "start_time": "2023-05-05T12:33:57.564Z"
      },
      {
        "duration": 452,
        "start_time": "2023-05-05T12:33:58.500Z"
      },
      {
        "duration": 27,
        "start_time": "2023-05-05T12:33:58.954Z"
      },
      {
        "duration": 419,
        "start_time": "2023-05-05T12:33:58.983Z"
      },
      {
        "duration": 32,
        "start_time": "2023-05-05T12:33:59.404Z"
      },
      {
        "duration": 42,
        "start_time": "2023-05-05T12:33:59.438Z"
      },
      {
        "duration": 638,
        "start_time": "2023-05-05T12:33:59.482Z"
      },
      {
        "duration": 121,
        "start_time": "2023-05-05T12:34:00.122Z"
      },
      {
        "duration": 68,
        "start_time": "2023-05-05T12:34:00.245Z"
      },
      {
        "duration": 16,
        "start_time": "2023-05-05T12:34:00.445Z"
      },
      {
        "duration": 133,
        "start_time": "2023-05-05T12:34:00.576Z"
      },
      {
        "duration": 85,
        "start_time": "2023-05-05T12:34:00.745Z"
      },
      {
        "duration": 282,
        "start_time": "2023-05-05T12:34:01.214Z"
      },
      {
        "duration": 93,
        "start_time": "2023-05-05T12:34:01.499Z"
      },
      {
        "duration": 88,
        "start_time": "2023-05-05T12:34:01.594Z"
      },
      {
        "duration": 42,
        "start_time": "2023-05-05T12:34:02.059Z"
      },
      {
        "duration": 80,
        "start_time": "2023-05-05T12:34:02.190Z"
      },
      {
        "duration": 61,
        "start_time": "2023-05-05T12:34:02.509Z"
      },
      {
        "duration": 74,
        "start_time": "2023-05-05T12:34:02.685Z"
      },
      {
        "duration": 3,
        "start_time": "2023-05-05T12:34:03.019Z"
      },
      {
        "duration": 37,
        "start_time": "2023-05-05T12:34:03.156Z"
      },
      {
        "duration": 61,
        "start_time": "2023-05-05T12:34:03.328Z"
      },
      {
        "duration": 20,
        "start_time": "2023-05-05T12:34:04.103Z"
      },
      {
        "duration": 587,
        "start_time": "2023-05-05T12:34:04.275Z"
      },
      {
        "duration": 6,
        "start_time": "2023-05-05T12:34:04.864Z"
      },
      {
        "duration": 227,
        "start_time": "2023-05-05T12:34:04.924Z"
      },
      {
        "duration": 53,
        "start_time": "2023-05-05T12:34:05.291Z"
      },
      {
        "duration": 211,
        "start_time": "2023-05-05T12:34:05.488Z"
      },
      {
        "duration": 691,
        "start_time": "2023-05-05T12:34:05.710Z"
      },
      {
        "duration": 39,
        "start_time": "2023-05-05T12:34:06.528Z"
      },
      {
        "duration": 239,
        "start_time": "2023-05-05T12:34:06.712Z"
      },
      {
        "duration": 479,
        "start_time": "2023-05-05T12:34:06.954Z"
      },
      {
        "duration": 334,
        "start_time": "2023-05-05T12:34:07.437Z"
      },
      {
        "duration": 14,
        "start_time": "2023-05-05T12:34:09.260Z"
      },
      {
        "duration": 429,
        "start_time": "2023-05-05T12:34:09.423Z"
      },
      {
        "duration": 4,
        "start_time": "2023-05-05T12:34:10.668Z"
      },
      {
        "duration": 251,
        "start_time": "2023-05-05T12:34:11.228Z"
      },
      {
        "duration": 162,
        "start_time": "2023-05-05T12:34:12.437Z"
      },
      {
        "duration": 151,
        "start_time": "2023-05-05T12:34:12.612Z"
      },
      {
        "duration": 106,
        "start_time": "2023-05-05T12:34:13.732Z"
      },
      {
        "duration": 184,
        "start_time": "2023-05-05T12:34:14.501Z"
      },
      {
        "duration": 380577,
        "start_time": "2023-05-05T12:35:14.660Z"
      },
      {
        "duration": 0,
        "start_time": "2023-05-05T12:41:35.240Z"
      },
      {
        "duration": 0,
        "start_time": "2023-05-05T12:41:35.241Z"
      },
      {
        "duration": 15914,
        "start_time": "2023-05-05T12:42:10.814Z"
      },
      {
        "duration": 4,
        "start_time": "2023-05-05T12:42:26.819Z"
      },
      {
        "duration": 97,
        "start_time": "2023-05-05T12:42:26.826Z"
      },
      {
        "duration": 93,
        "start_time": "2023-05-05T12:42:26.926Z"
      },
      {
        "duration": 16218,
        "start_time": "2023-05-05T12:43:05.310Z"
      },
      {
        "duration": 186,
        "start_time": "2023-05-05T12:43:21.532Z"
      },
      {
        "duration": 16754,
        "start_time": "2023-05-05T12:43:52.175Z"
      },
      {
        "duration": 94,
        "start_time": "2023-05-05T12:44:08.933Z"
      },
      {
        "duration": 99294,
        "start_time": "2023-05-05T12:47:11.519Z"
      },
      {
        "duration": 5,
        "start_time": "2023-05-05T12:48:50.815Z"
      },
      {
        "duration": 21,
        "start_time": "2023-05-05T12:49:10.514Z"
      },
      {
        "duration": 15,
        "start_time": "2023-05-05T12:53:54.689Z"
      },
      {
        "duration": 1691,
        "start_time": "2023-05-05T12:56:18.833Z"
      },
      {
        "duration": 1016,
        "start_time": "2023-05-05T12:56:20.526Z"
      },
      {
        "duration": 5,
        "start_time": "2023-05-05T12:56:21.544Z"
      },
      {
        "duration": 1164,
        "start_time": "2023-05-05T12:56:21.551Z"
      },
      {
        "duration": 522,
        "start_time": "2023-05-05T12:56:22.721Z"
      },
      {
        "duration": 42,
        "start_time": "2023-05-05T12:56:23.245Z"
      },
      {
        "duration": 503,
        "start_time": "2023-05-05T12:56:23.290Z"
      },
      {
        "duration": 29,
        "start_time": "2023-05-05T12:56:23.795Z"
      },
      {
        "duration": 49,
        "start_time": "2023-05-05T12:56:23.832Z"
      },
      {
        "duration": 887,
        "start_time": "2023-05-05T12:56:23.883Z"
      },
      {
        "duration": 112,
        "start_time": "2023-05-05T12:56:24.773Z"
      },
      {
        "duration": 94,
        "start_time": "2023-05-05T12:56:24.887Z"
      },
      {
        "duration": 11,
        "start_time": "2023-05-05T12:56:24.983Z"
      },
      {
        "duration": 217,
        "start_time": "2023-05-05T12:56:24.998Z"
      },
      {
        "duration": 121,
        "start_time": "2023-05-05T12:56:25.218Z"
      },
      {
        "duration": 349,
        "start_time": "2023-05-05T12:56:25.342Z"
      },
      {
        "duration": 103,
        "start_time": "2023-05-05T12:56:25.694Z"
      },
      {
        "duration": 41,
        "start_time": "2023-05-05T12:56:25.799Z"
      },
      {
        "duration": 57,
        "start_time": "2023-05-05T12:56:25.841Z"
      },
      {
        "duration": 107,
        "start_time": "2023-05-05T12:56:25.901Z"
      },
      {
        "duration": 87,
        "start_time": "2023-05-05T12:56:26.017Z"
      },
      {
        "duration": 119,
        "start_time": "2023-05-05T12:56:26.107Z"
      },
      {
        "duration": 29,
        "start_time": "2023-05-05T12:56:26.228Z"
      },
      {
        "duration": 81,
        "start_time": "2023-05-05T12:56:26.260Z"
      },
      {
        "duration": 124,
        "start_time": "2023-05-05T12:56:26.343Z"
      },
      {
        "duration": 29,
        "start_time": "2023-05-05T12:56:26.469Z"
      },
      {
        "duration": 593,
        "start_time": "2023-05-05T12:56:26.500Z"
      },
      {
        "duration": 6,
        "start_time": "2023-05-05T12:56:27.095Z"
      },
      {
        "duration": 304,
        "start_time": "2023-05-05T12:56:27.103Z"
      },
      {
        "duration": 60,
        "start_time": "2023-05-05T12:56:27.409Z"
      },
      {
        "duration": 242,
        "start_time": "2023-05-05T12:56:27.470Z"
      },
      {
        "duration": 774,
        "start_time": "2023-05-05T12:56:27.717Z"
      },
      {
        "duration": 60,
        "start_time": "2023-05-05T12:56:28.493Z"
      },
      {
        "duration": 243,
        "start_time": "2023-05-05T12:56:28.556Z"
      },
      {
        "duration": 617,
        "start_time": "2023-05-05T12:56:28.801Z"
      },
      {
        "duration": 333,
        "start_time": "2023-05-05T12:56:29.423Z"
      },
      {
        "duration": 12,
        "start_time": "2023-05-05T12:56:29.758Z"
      },
      {
        "duration": 488,
        "start_time": "2023-05-05T12:56:29.772Z"
      },
      {
        "duration": 3,
        "start_time": "2023-05-05T12:56:30.261Z"
      },
      {
        "duration": 320,
        "start_time": "2023-05-05T12:56:30.266Z"
      },
      {
        "duration": 178,
        "start_time": "2023-05-05T12:56:30.590Z"
      },
      {
        "duration": 203,
        "start_time": "2023-05-05T12:56:30.770Z"
      },
      {
        "duration": 139,
        "start_time": "2023-05-05T12:56:30.976Z"
      },
      {
        "duration": 191,
        "start_time": "2023-05-05T12:56:31.118Z"
      },
      {
        "duration": 34533,
        "start_time": "2023-05-05T12:56:31.311Z"
      },
      {
        "duration": 7,
        "start_time": "2023-05-05T12:57:05.922Z"
      },
      {
        "duration": 227,
        "start_time": "2023-05-05T12:57:05.932Z"
      },
      {
        "duration": 0,
        "start_time": "2023-05-05T12:57:06.161Z"
      },
      {
        "duration": 0,
        "start_time": "2023-05-05T12:57:06.162Z"
      },
      {
        "duration": 0,
        "start_time": "2023-05-05T12:57:06.163Z"
      },
      {
        "duration": 1,
        "start_time": "2023-05-05T12:57:06.164Z"
      },
      {
        "duration": 0,
        "start_time": "2023-05-05T12:57:06.167Z"
      },
      {
        "duration": 0,
        "start_time": "2023-05-05T12:57:06.168Z"
      },
      {
        "duration": 0,
        "start_time": "2023-05-05T12:57:06.169Z"
      },
      {
        "duration": 0,
        "start_time": "2023-05-05T12:57:06.170Z"
      },
      {
        "duration": 10,
        "start_time": "2023-05-05T12:57:15.831Z"
      },
      {
        "duration": 3,
        "start_time": "2023-05-05T12:57:23.776Z"
      },
      {
        "duration": 16,
        "start_time": "2023-05-05T12:58:04.876Z"
      },
      {
        "duration": 2030,
        "start_time": "2023-05-05T12:59:31.529Z"
      },
      {
        "duration": 944,
        "start_time": "2023-05-05T12:59:33.561Z"
      },
      {
        "duration": 14,
        "start_time": "2023-05-05T12:59:34.507Z"
      },
      {
        "duration": 1080,
        "start_time": "2023-05-05T12:59:34.527Z"
      },
      {
        "duration": 473,
        "start_time": "2023-05-05T12:59:35.608Z"
      },
      {
        "duration": 50,
        "start_time": "2023-05-05T12:59:36.083Z"
      },
      {
        "duration": 505,
        "start_time": "2023-05-05T12:59:36.137Z"
      },
      {
        "duration": 26,
        "start_time": "2023-05-05T12:59:36.645Z"
      },
      {
        "duration": 72,
        "start_time": "2023-05-05T12:59:36.673Z"
      },
      {
        "duration": 790,
        "start_time": "2023-05-05T12:59:36.748Z"
      },
      {
        "duration": 106,
        "start_time": "2023-05-05T12:59:37.541Z"
      },
      {
        "duration": 72,
        "start_time": "2023-05-05T12:59:37.650Z"
      },
      {
        "duration": 16,
        "start_time": "2023-05-05T12:59:37.725Z"
      },
      {
        "duration": 169,
        "start_time": "2023-05-05T12:59:37.743Z"
      },
      {
        "duration": 123,
        "start_time": "2023-05-05T12:59:37.914Z"
      },
      {
        "duration": 308,
        "start_time": "2023-05-05T12:59:38.040Z"
      },
      {
        "duration": 107,
        "start_time": "2023-05-05T12:59:38.350Z"
      },
      {
        "duration": 65,
        "start_time": "2023-05-05T12:59:38.459Z"
      },
      {
        "duration": 81,
        "start_time": "2023-05-05T12:59:38.529Z"
      },
      {
        "duration": 107,
        "start_time": "2023-05-05T12:59:38.613Z"
      },
      {
        "duration": 70,
        "start_time": "2023-05-05T12:59:38.722Z"
      },
      {
        "duration": 94,
        "start_time": "2023-05-05T12:59:38.794Z"
      },
      {
        "duration": 22,
        "start_time": "2023-05-05T12:59:38.890Z"
      },
      {
        "duration": 87,
        "start_time": "2023-05-05T12:59:38.913Z"
      },
      {
        "duration": 75,
        "start_time": "2023-05-05T12:59:39.002Z"
      },
      {
        "duration": 33,
        "start_time": "2023-05-05T12:59:39.079Z"
      },
      {
        "duration": 555,
        "start_time": "2023-05-05T12:59:39.114Z"
      },
      {
        "duration": 5,
        "start_time": "2023-05-05T12:59:39.674Z"
      },
      {
        "duration": 252,
        "start_time": "2023-05-05T12:59:39.681Z"
      },
      {
        "duration": 56,
        "start_time": "2023-05-05T12:59:39.935Z"
      },
      {
        "duration": 233,
        "start_time": "2023-05-05T12:59:39.993Z"
      },
      {
        "duration": 715,
        "start_time": "2023-05-05T12:59:40.235Z"
      },
      {
        "duration": 42,
        "start_time": "2023-05-05T12:59:40.952Z"
      },
      {
        "duration": 253,
        "start_time": "2023-05-05T12:59:40.995Z"
      },
      {
        "duration": 597,
        "start_time": "2023-05-05T12:59:41.250Z"
      },
      {
        "duration": 359,
        "start_time": "2023-05-05T12:59:41.850Z"
      },
      {
        "duration": 17,
        "start_time": "2023-05-05T12:59:42.217Z"
      },
      {
        "duration": 562,
        "start_time": "2023-05-05T12:59:42.237Z"
      },
      {
        "duration": 4,
        "start_time": "2023-05-05T12:59:42.801Z"
      },
      {
        "duration": 266,
        "start_time": "2023-05-05T12:59:42.820Z"
      },
      {
        "duration": 173,
        "start_time": "2023-05-05T12:59:43.088Z"
      },
      {
        "duration": 203,
        "start_time": "2023-05-05T12:59:43.264Z"
      },
      {
        "duration": 169,
        "start_time": "2023-05-05T12:59:43.470Z"
      },
      {
        "duration": 205,
        "start_time": "2023-05-05T12:59:43.641Z"
      },
      {
        "duration": 27890,
        "start_time": "2023-05-05T12:59:43.848Z"
      },
      {
        "duration": 9,
        "start_time": "2023-05-05T13:00:11.821Z"
      },
      {
        "duration": 179,
        "start_time": "2023-05-05T13:00:11.832Z"
      },
      {
        "duration": 0,
        "start_time": "2023-05-05T13:00:12.013Z"
      },
      {
        "duration": 0,
        "start_time": "2023-05-05T13:00:12.017Z"
      },
      {
        "duration": 0,
        "start_time": "2023-05-05T13:00:12.018Z"
      },
      {
        "duration": 0,
        "start_time": "2023-05-05T13:00:12.022Z"
      },
      {
        "duration": 0,
        "start_time": "2023-05-05T13:00:12.024Z"
      },
      {
        "duration": 0,
        "start_time": "2023-05-05T13:00:12.026Z"
      },
      {
        "duration": 0,
        "start_time": "2023-05-05T13:00:12.031Z"
      },
      {
        "duration": 0,
        "start_time": "2023-05-05T13:00:12.034Z"
      },
      {
        "duration": 18,
        "start_time": "2023-05-05T13:00:37.940Z"
      },
      {
        "duration": 31,
        "start_time": "2023-05-05T13:00:51.507Z"
      },
      {
        "duration": 21,
        "start_time": "2023-05-05T13:01:05.719Z"
      },
      {
        "duration": 14,
        "start_time": "2023-05-05T13:01:24.190Z"
      },
      {
        "duration": 16,
        "start_time": "2023-05-05T13:01:36.071Z"
      },
      {
        "duration": 22,
        "start_time": "2023-05-05T13:01:53.408Z"
      },
      {
        "duration": 24,
        "start_time": "2023-05-05T13:02:06.668Z"
      },
      {
        "duration": 16,
        "start_time": "2023-05-05T13:02:19.748Z"
      },
      {
        "duration": 15,
        "start_time": "2023-05-05T13:02:28.746Z"
      },
      {
        "duration": 10,
        "start_time": "2023-05-05T13:03:55.005Z"
      },
      {
        "duration": 22,
        "start_time": "2023-05-05T13:05:18.336Z"
      },
      {
        "duration": 14,
        "start_time": "2023-05-05T13:06:14.562Z"
      },
      {
        "duration": 483,
        "start_time": "2023-05-05T13:06:14.993Z"
      },
      {
        "duration": 3,
        "start_time": "2023-05-05T13:06:17.005Z"
      },
      {
        "duration": 268,
        "start_time": "2023-05-05T13:06:18.143Z"
      },
      {
        "duration": 207,
        "start_time": "2023-05-05T13:06:18.742Z"
      },
      {
        "duration": 25,
        "start_time": "2023-05-05T13:06:19.833Z"
      },
      {
        "duration": 23,
        "start_time": "2023-05-05T13:08:00.942Z"
      },
      {
        "duration": 7,
        "start_time": "2023-05-05T13:08:01.114Z"
      },
      {
        "duration": 15,
        "start_time": "2023-05-05T13:08:08.580Z"
      },
      {
        "duration": 505,
        "start_time": "2023-05-05T13:08:08.798Z"
      },
      {
        "duration": 3,
        "start_time": "2023-05-05T13:08:09.973Z"
      },
      {
        "duration": 342,
        "start_time": "2023-05-05T13:08:10.493Z"
      },
      {
        "duration": 220,
        "start_time": "2023-05-05T13:08:10.840Z"
      },
      {
        "duration": 199,
        "start_time": "2023-05-05T13:08:11.063Z"
      },
      {
        "duration": 186,
        "start_time": "2023-05-05T13:08:11.267Z"
      },
      {
        "duration": 201,
        "start_time": "2023-05-05T13:08:11.483Z"
      },
      {
        "duration": 45159,
        "start_time": "2023-05-05T13:08:12.897Z"
      },
      {
        "duration": 7,
        "start_time": "2023-05-05T13:08:58.063Z"
      },
      {
        "duration": 101,
        "start_time": "2023-05-05T13:08:58.118Z"
      },
      {
        "duration": 0,
        "start_time": "2023-05-05T13:08:58.233Z"
      },
      {
        "duration": 59,
        "start_time": "2023-05-05T13:09:03.218Z"
      },
      {
        "duration": 4,
        "start_time": "2023-05-05T13:09:37.279Z"
      },
      {
        "duration": 3,
        "start_time": "2023-05-05T13:09:42.578Z"
      },
      {
        "duration": 3,
        "start_time": "2023-05-05T13:09:58.261Z"
      },
      {
        "duration": 105927,
        "start_time": "2023-05-05T13:10:38.936Z"
      },
      {
        "duration": 7,
        "start_time": "2023-05-05T13:12:24.865Z"
      },
      {
        "duration": 3,
        "start_time": "2023-05-05T13:26:39.057Z"
      },
      {
        "duration": 2,
        "start_time": "2023-05-05T13:26:39.305Z"
      },
      {
        "duration": 3,
        "start_time": "2023-05-05T13:26:39.643Z"
      },
      {
        "duration": 127,
        "start_time": "2023-05-05T13:26:40.361Z"
      },
      {
        "duration": 4,
        "start_time": "2023-05-05T13:26:52.698Z"
      },
      {
        "duration": 4,
        "start_time": "2023-05-05T13:28:48.967Z"
      },
      {
        "duration": 72,
        "start_time": "2023-05-05T13:28:51.034Z"
      },
      {
        "duration": 29,
        "start_time": "2023-05-05T13:28:51.639Z"
      },
      {
        "duration": 3,
        "start_time": "2023-05-05T13:29:11.459Z"
      },
      {
        "duration": 21,
        "start_time": "2023-05-05T13:29:13.659Z"
      },
      {
        "duration": 16,
        "start_time": "2023-05-05T13:29:18.846Z"
      },
      {
        "duration": 509,
        "start_time": "2023-05-05T13:29:19.106Z"
      },
      {
        "duration": 389,
        "start_time": "2023-05-05T13:29:20.782Z"
      },
      {
        "duration": 2,
        "start_time": "2023-05-05T13:29:23.160Z"
      },
      {
        "duration": 3,
        "start_time": "2023-05-05T13:29:23.345Z"
      },
      {
        "duration": 8,
        "start_time": "2023-05-05T13:29:23.529Z"
      },
      {
        "duration": 3,
        "start_time": "2023-05-05T13:29:23.742Z"
      },
      {
        "duration": 3,
        "start_time": "2023-05-05T13:29:23.954Z"
      },
      {
        "duration": 40830,
        "start_time": "2023-05-05T13:29:25.200Z"
      },
      {
        "duration": 64,
        "start_time": "2023-05-05T13:30:06.054Z"
      },
      {
        "duration": 44,
        "start_time": "2023-05-05T13:30:06.123Z"
      },
      {
        "duration": 17,
        "start_time": "2023-05-05T13:30:06.170Z"
      },
      {
        "duration": 32,
        "start_time": "2023-05-05T13:30:06.189Z"
      },
      {
        "duration": 46,
        "start_time": "2023-05-05T13:30:12.057Z"
      },
      {
        "duration": 9,
        "start_time": "2023-05-05T13:31:03.543Z"
      },
      {
        "duration": 1750,
        "start_time": "2023-05-05T13:32:04.396Z"
      },
      {
        "duration": 976,
        "start_time": "2023-05-05T13:32:06.148Z"
      },
      {
        "duration": 10,
        "start_time": "2023-05-05T13:32:07.129Z"
      },
      {
        "duration": 1088,
        "start_time": "2023-05-05T13:32:07.142Z"
      },
      {
        "duration": 450,
        "start_time": "2023-05-05T13:32:08.234Z"
      },
      {
        "duration": 45,
        "start_time": "2023-05-05T13:32:08.686Z"
      },
      {
        "duration": 522,
        "start_time": "2023-05-05T13:32:08.734Z"
      },
      {
        "duration": 31,
        "start_time": "2023-05-05T13:32:09.258Z"
      },
      {
        "duration": 85,
        "start_time": "2023-05-05T13:32:09.292Z"
      },
      {
        "duration": 755,
        "start_time": "2023-05-05T13:32:09.381Z"
      },
      {
        "duration": 116,
        "start_time": "2023-05-05T13:32:10.139Z"
      },
      {
        "duration": 66,
        "start_time": "2023-05-05T13:32:10.257Z"
      },
      {
        "duration": 13,
        "start_time": "2023-05-05T13:32:10.325Z"
      },
      {
        "duration": 165,
        "start_time": "2023-05-05T13:32:10.342Z"
      },
      {
        "duration": 98,
        "start_time": "2023-05-05T13:32:10.509Z"
      },
      {
        "duration": 302,
        "start_time": "2023-05-05T13:32:10.619Z"
      },
      {
        "duration": 97,
        "start_time": "2023-05-05T13:32:10.923Z"
      },
      {
        "duration": 39,
        "start_time": "2023-05-05T13:32:11.024Z"
      },
      {
        "duration": 50,
        "start_time": "2023-05-05T13:32:11.065Z"
      },
      {
        "duration": 108,
        "start_time": "2023-05-05T13:32:11.117Z"
      },
      {
        "duration": 43,
        "start_time": "2023-05-05T13:32:11.227Z"
      },
      {
        "duration": 92,
        "start_time": "2023-05-05T13:32:11.271Z"
      },
      {
        "duration": 8,
        "start_time": "2023-05-05T13:32:11.365Z"
      },
      {
        "duration": 68,
        "start_time": "2023-05-05T13:32:11.375Z"
      },
      {
        "duration": 80,
        "start_time": "2023-05-05T13:32:11.446Z"
      },
      {
        "duration": 23,
        "start_time": "2023-05-05T13:32:11.530Z"
      },
      {
        "duration": 542,
        "start_time": "2023-05-05T13:32:11.554Z"
      },
      {
        "duration": 9,
        "start_time": "2023-05-05T13:32:12.100Z"
      },
      {
        "duration": 247,
        "start_time": "2023-05-05T13:32:12.110Z"
      },
      {
        "duration": 65,
        "start_time": "2023-05-05T13:32:12.359Z"
      },
      {
        "duration": 284,
        "start_time": "2023-05-05T13:32:12.429Z"
      },
      {
        "duration": 814,
        "start_time": "2023-05-05T13:32:12.717Z"
      },
      {
        "duration": 38,
        "start_time": "2023-05-05T13:32:13.535Z"
      },
      {
        "duration": 256,
        "start_time": "2023-05-05T13:32:13.577Z"
      },
      {
        "duration": 598,
        "start_time": "2023-05-05T13:32:13.839Z"
      },
      {
        "duration": 359,
        "start_time": "2023-05-05T13:32:14.439Z"
      },
      {
        "duration": 22,
        "start_time": "2023-05-05T13:32:14.799Z"
      },
      {
        "duration": 469,
        "start_time": "2023-05-05T13:32:14.833Z"
      },
      {
        "duration": 279,
        "start_time": "2023-05-05T13:32:15.304Z"
      },
      {
        "duration": 3,
        "start_time": "2023-05-05T13:32:15.585Z"
      },
      {
        "duration": 13,
        "start_time": "2023-05-05T13:32:15.591Z"
      },
      {
        "duration": 28,
        "start_time": "2023-05-05T13:32:15.606Z"
      },
      {
        "duration": 23,
        "start_time": "2023-05-05T13:32:15.636Z"
      },
      {
        "duration": 7,
        "start_time": "2023-05-05T13:32:15.661Z"
      },
      {
        "duration": 41356,
        "start_time": "2023-05-05T13:32:15.669Z"
      },
      {
        "duration": 4,
        "start_time": "2023-05-05T13:32:57.027Z"
      },
      {
        "duration": 120,
        "start_time": "2023-05-05T13:32:57.033Z"
      },
      {
        "duration": 30,
        "start_time": "2023-05-05T13:32:57.155Z"
      },
      {
        "duration": 154002,
        "start_time": "2023-05-05T13:32:57.188Z"
      },
      {
        "duration": 8,
        "start_time": "2023-05-05T13:35:31.193Z"
      },
      {
        "duration": 211,
        "start_time": "2023-05-05T13:35:31.203Z"
      },
      {
        "duration": 0,
        "start_time": "2023-05-05T13:35:31.417Z"
      },
      {
        "duration": 0,
        "start_time": "2023-05-05T13:35:31.419Z"
      },
      {
        "duration": 0,
        "start_time": "2023-05-05T13:35:31.420Z"
      },
      {
        "duration": 0,
        "start_time": "2023-05-05T13:35:31.421Z"
      },
      {
        "duration": 0,
        "start_time": "2023-05-05T13:35:31.424Z"
      },
      {
        "duration": 2303829,
        "start_time": "2023-05-05T13:37:01.047Z"
      },
      {
        "duration": 0,
        "start_time": "2023-05-05T14:15:24.878Z"
      },
      {
        "duration": 0,
        "start_time": "2023-05-05T14:15:24.880Z"
      },
      {
        "duration": 1649,
        "start_time": "2023-05-05T14:21:08.215Z"
      },
      {
        "duration": 909,
        "start_time": "2023-05-05T14:21:09.866Z"
      },
      {
        "duration": 6,
        "start_time": "2023-05-05T14:21:10.777Z"
      },
      {
        "duration": 1018,
        "start_time": "2023-05-05T14:21:10.786Z"
      },
      {
        "duration": 475,
        "start_time": "2023-05-05T14:21:11.806Z"
      },
      {
        "duration": 45,
        "start_time": "2023-05-05T14:21:12.283Z"
      },
      {
        "duration": 474,
        "start_time": "2023-05-05T14:21:12.330Z"
      },
      {
        "duration": 36,
        "start_time": "2023-05-05T14:21:12.805Z"
      },
      {
        "duration": 45,
        "start_time": "2023-05-05T14:21:12.843Z"
      },
      {
        "duration": 745,
        "start_time": "2023-05-05T14:21:12.892Z"
      },
      {
        "duration": 99,
        "start_time": "2023-05-05T14:21:13.638Z"
      },
      {
        "duration": 49,
        "start_time": "2023-05-05T14:21:13.739Z"
      },
      {
        "duration": 41,
        "start_time": "2023-05-05T14:21:13.790Z"
      },
      {
        "duration": 131,
        "start_time": "2023-05-05T14:21:13.833Z"
      },
      {
        "duration": 98,
        "start_time": "2023-05-05T14:21:13.965Z"
      },
      {
        "duration": 285,
        "start_time": "2023-05-05T14:21:14.064Z"
      },
      {
        "duration": 92,
        "start_time": "2023-05-05T14:21:14.351Z"
      },
      {
        "duration": 23,
        "start_time": "2023-05-05T14:21:14.445Z"
      },
      {
        "duration": 63,
        "start_time": "2023-05-05T14:21:14.469Z"
      },
      {
        "duration": 88,
        "start_time": "2023-05-05T14:21:14.534Z"
      },
      {
        "duration": 42,
        "start_time": "2023-05-05T14:21:14.623Z"
      },
      {
        "duration": 94,
        "start_time": "2023-05-05T14:21:14.667Z"
      },
      {
        "duration": 19,
        "start_time": "2023-05-05T14:21:14.763Z"
      },
      {
        "duration": 71,
        "start_time": "2023-05-05T14:21:14.784Z"
      },
      {
        "duration": 76,
        "start_time": "2023-05-05T14:21:14.857Z"
      },
      {
        "duration": 29,
        "start_time": "2023-05-05T14:21:14.935Z"
      },
      {
        "duration": 470,
        "start_time": "2023-05-05T14:21:14.966Z"
      },
      {
        "duration": 6,
        "start_time": "2023-05-05T14:21:15.440Z"
      },
      {
        "duration": 238,
        "start_time": "2023-05-05T14:21:15.447Z"
      },
      {
        "duration": 60,
        "start_time": "2023-05-05T14:21:15.687Z"
      },
      {
        "duration": 211,
        "start_time": "2023-05-05T14:21:15.749Z"
      },
      {
        "duration": 743,
        "start_time": "2023-05-05T14:21:15.961Z"
      },
      {
        "duration": 50,
        "start_time": "2023-05-05T14:21:16.706Z"
      },
      {
        "duration": 243,
        "start_time": "2023-05-05T14:21:16.757Z"
      },
      {
        "duration": 576,
        "start_time": "2023-05-05T14:21:17.002Z"
      },
      {
        "duration": 324,
        "start_time": "2023-05-05T14:21:17.580Z"
      },
      {
        "duration": 29,
        "start_time": "2023-05-05T14:21:17.906Z"
      },
      {
        "duration": 441,
        "start_time": "2023-05-05T14:21:17.936Z"
      },
      {
        "duration": 271,
        "start_time": "2023-05-05T14:21:18.379Z"
      },
      {
        "duration": 3,
        "start_time": "2023-05-05T14:21:18.652Z"
      },
      {
        "duration": 14,
        "start_time": "2023-05-05T14:21:18.657Z"
      },
      {
        "duration": 15,
        "start_time": "2023-05-05T14:21:18.672Z"
      },
      {
        "duration": 46,
        "start_time": "2023-05-05T14:21:18.688Z"
      },
      {
        "duration": 26,
        "start_time": "2023-05-05T14:21:18.736Z"
      },
      {
        "duration": 29259,
        "start_time": "2023-05-05T14:21:18.764Z"
      },
      {
        "duration": 10,
        "start_time": "2023-05-05T14:21:48.025Z"
      },
      {
        "duration": 22,
        "start_time": "2023-05-05T14:21:48.117Z"
      },
      {
        "duration": 24,
        "start_time": "2023-05-05T14:21:48.140Z"
      },
      {
        "duration": 130634,
        "start_time": "2023-05-05T14:21:48.166Z"
      },
      {
        "duration": 4,
        "start_time": "2023-05-05T14:23:58.802Z"
      },
      {
        "duration": 447927,
        "start_time": "2023-05-05T14:23:58.818Z"
      },
      {
        "duration": 5,
        "start_time": "2023-05-05T14:31:26.747Z"
      },
      {
        "duration": 76,
        "start_time": "2023-05-05T14:31:26.754Z"
      },
      {
        "duration": 4815,
        "start_time": "2023-05-05T14:31:26.832Z"
      },
      {
        "duration": 6493,
        "start_time": "2023-05-05T14:31:31.649Z"
      },
      {
        "duration": 8,
        "start_time": "2023-05-05T14:31:38.143Z"
      },
      {
        "duration": 18950,
        "start_time": "2023-05-05T15:30:38.330Z"
      },
      {
        "duration": 23607,
        "start_time": "2023-05-05T15:30:57.282Z"
      },
      {
        "duration": 6,
        "start_time": "2023-05-05T15:31:44.797Z"
      },
      {
        "duration": 2,
        "start_time": "2023-05-05T15:32:06.920Z"
      },
      {
        "duration": 3,
        "start_time": "2023-05-05T15:32:07.361Z"
      },
      {
        "duration": 6,
        "start_time": "2023-05-05T15:32:11.231Z"
      },
      {
        "duration": 81308,
        "start_time": "2023-05-05T15:34:13.721Z"
      },
      {
        "duration": 84,
        "start_time": "2023-05-05T15:35:35.039Z"
      },
      {
        "duration": 161932,
        "start_time": "2023-05-05T15:47:25.017Z"
      },
      {
        "duration": 0,
        "start_time": "2023-05-05T15:50:06.951Z"
      },
      {
        "duration": 0,
        "start_time": "2023-05-05T15:50:06.951Z"
      },
      {
        "duration": 6,
        "start_time": "2023-05-05T15:51:23.983Z"
      },
      {
        "duration": 10,
        "start_time": "2023-05-05T15:51:50.381Z"
      },
      {
        "duration": 685,
        "start_time": "2023-05-05T15:52:52.635Z"
      },
      {
        "duration": 1453,
        "start_time": "2023-05-05T15:57:10.273Z"
      },
      {
        "duration": 950,
        "start_time": "2023-05-05T15:57:11.728Z"
      },
      {
        "duration": 7,
        "start_time": "2023-05-05T15:57:12.679Z"
      },
      {
        "duration": 1052,
        "start_time": "2023-05-05T15:57:12.688Z"
      },
      {
        "duration": 422,
        "start_time": "2023-05-05T15:57:13.742Z"
      },
      {
        "duration": 38,
        "start_time": "2023-05-05T15:57:14.166Z"
      },
      {
        "duration": 411,
        "start_time": "2023-05-05T15:57:14.206Z"
      },
      {
        "duration": 25,
        "start_time": "2023-05-05T15:57:14.619Z"
      },
      {
        "duration": 47,
        "start_time": "2023-05-05T15:57:14.645Z"
      },
      {
        "duration": 696,
        "start_time": "2023-05-05T15:57:14.695Z"
      },
      {
        "duration": 88,
        "start_time": "2023-05-05T15:57:15.393Z"
      },
      {
        "duration": 59,
        "start_time": "2023-05-05T15:57:15.483Z"
      },
      {
        "duration": 10,
        "start_time": "2023-05-05T15:57:15.544Z"
      },
      {
        "duration": 132,
        "start_time": "2023-05-05T15:57:15.556Z"
      },
      {
        "duration": 80,
        "start_time": "2023-05-05T15:57:15.691Z"
      },
      {
        "duration": 249,
        "start_time": "2023-05-05T15:57:15.772Z"
      },
      {
        "duration": 84,
        "start_time": "2023-05-05T15:57:16.023Z"
      },
      {
        "duration": 21,
        "start_time": "2023-05-05T15:57:16.117Z"
      },
      {
        "duration": 44,
        "start_time": "2023-05-05T15:57:16.139Z"
      },
      {
        "duration": 91,
        "start_time": "2023-05-05T15:57:16.185Z"
      },
      {
        "duration": 57,
        "start_time": "2023-05-05T15:57:16.278Z"
      },
      {
        "duration": 80,
        "start_time": "2023-05-05T15:57:16.337Z"
      },
      {
        "duration": 2,
        "start_time": "2023-05-05T15:57:16.419Z"
      },
      {
        "duration": 44,
        "start_time": "2023-05-05T15:57:16.423Z"
      },
      {
        "duration": 71,
        "start_time": "2023-05-05T15:57:16.469Z"
      },
      {
        "duration": 23,
        "start_time": "2023-05-05T15:57:16.542Z"
      },
      {
        "duration": 476,
        "start_time": "2023-05-05T15:57:16.566Z"
      },
      {
        "duration": 6,
        "start_time": "2023-05-05T15:57:17.046Z"
      },
      {
        "duration": 248,
        "start_time": "2023-05-05T15:57:17.054Z"
      },
      {
        "duration": 47,
        "start_time": "2023-05-05T15:57:17.305Z"
      },
      {
        "duration": 214,
        "start_time": "2023-05-05T15:57:17.353Z"
      },
      {
        "duration": 634,
        "start_time": "2023-05-05T15:57:17.569Z"
      },
      {
        "duration": 40,
        "start_time": "2023-05-05T15:57:18.205Z"
      },
      {
        "duration": 225,
        "start_time": "2023-05-05T15:57:18.247Z"
      },
      {
        "duration": 581,
        "start_time": "2023-05-05T15:57:18.474Z"
      },
      {
        "duration": 301,
        "start_time": "2023-05-05T15:57:19.057Z"
      },
      {
        "duration": 11,
        "start_time": "2023-05-05T15:57:19.360Z"
      },
      {
        "duration": 497,
        "start_time": "2023-05-05T15:57:19.372Z"
      },
      {
        "duration": 257,
        "start_time": "2023-05-05T15:57:19.871Z"
      },
      {
        "duration": 2,
        "start_time": "2023-05-05T15:57:20.132Z"
      },
      {
        "duration": 28,
        "start_time": "2023-05-05T15:57:20.136Z"
      },
      {
        "duration": 30,
        "start_time": "2023-05-05T15:57:20.166Z"
      },
      {
        "duration": 19,
        "start_time": "2023-05-05T15:57:20.198Z"
      },
      {
        "duration": 22,
        "start_time": "2023-05-05T15:57:20.219Z"
      },
      {
        "duration": 13876,
        "start_time": "2023-05-05T15:57:20.243Z"
      },
      {
        "duration": 95,
        "start_time": "2023-05-05T15:57:34.124Z"
      },
      {
        "duration": 43,
        "start_time": "2023-05-05T15:57:34.221Z"
      },
      {
        "duration": 53,
        "start_time": "2023-05-05T15:57:34.266Z"
      },
      {
        "duration": 138424,
        "start_time": "2023-05-05T15:57:34.321Z"
      },
      {
        "duration": 4,
        "start_time": "2023-05-05T15:59:52.747Z"
      },
      {
        "duration": 121277,
        "start_time": "2023-05-05T15:59:52.753Z"
      },
      {
        "duration": 4,
        "start_time": "2023-05-05T16:01:54.032Z"
      },
      {
        "duration": 10,
        "start_time": "2023-05-05T16:01:54.038Z"
      },
      {
        "duration": 70,
        "start_time": "2023-05-05T16:01:54.049Z"
      },
      {
        "duration": 8,
        "start_time": "2023-05-05T16:01:54.120Z"
      },
      {
        "duration": 23144,
        "start_time": "2023-05-05T16:01:54.130Z"
      },
      {
        "duration": 37951,
        "start_time": "2023-05-05T16:02:17.276Z"
      },
      {
        "duration": 6,
        "start_time": "2023-05-05T16:02:55.229Z"
      },
      {
        "duration": 615,
        "start_time": "2023-05-05T16:02:55.319Z"
      },
      {
        "duration": 2647,
        "start_time": "2023-05-05T19:10:20.002Z"
      },
      {
        "duration": 3239,
        "start_time": "2023-05-05T19:10:22.651Z"
      },
      {
        "duration": 5,
        "start_time": "2023-05-05T19:10:25.891Z"
      },
      {
        "duration": 849,
        "start_time": "2023-05-05T19:10:25.898Z"
      },
      {
        "duration": 316,
        "start_time": "2023-05-05T19:10:26.750Z"
      },
      {
        "duration": 39,
        "start_time": "2023-05-05T19:10:27.072Z"
      },
      {
        "duration": 450,
        "start_time": "2023-05-05T19:10:27.112Z"
      },
      {
        "duration": 30,
        "start_time": "2023-05-05T19:10:27.563Z"
      },
      {
        "duration": 40,
        "start_time": "2023-05-05T19:10:27.595Z"
      },
      {
        "duration": 676,
        "start_time": "2023-05-05T19:10:27.637Z"
      },
      {
        "duration": 87,
        "start_time": "2023-05-05T19:10:28.315Z"
      },
      {
        "duration": 46,
        "start_time": "2023-05-05T19:10:28.403Z"
      },
      {
        "duration": 42,
        "start_time": "2023-05-05T19:10:28.451Z"
      },
      {
        "duration": 163,
        "start_time": "2023-05-05T19:10:28.498Z"
      },
      {
        "duration": 104,
        "start_time": "2023-05-05T19:10:28.663Z"
      },
      {
        "duration": 248,
        "start_time": "2023-05-05T19:10:28.769Z"
      },
      {
        "duration": 94,
        "start_time": "2023-05-05T19:10:29.019Z"
      },
      {
        "duration": 21,
        "start_time": "2023-05-05T19:10:29.114Z"
      },
      {
        "duration": 60,
        "start_time": "2023-05-05T19:10:29.137Z"
      },
      {
        "duration": 86,
        "start_time": "2023-05-05T19:10:29.199Z"
      },
      {
        "duration": 36,
        "start_time": "2023-05-05T19:10:29.291Z"
      },
      {
        "duration": 74,
        "start_time": "2023-05-05T19:10:29.329Z"
      },
      {
        "duration": 2,
        "start_time": "2023-05-05T19:10:29.405Z"
      },
      {
        "duration": 39,
        "start_time": "2023-05-05T19:10:29.410Z"
      },
      {
        "duration": 77,
        "start_time": "2023-05-05T19:10:29.451Z"
      },
      {
        "duration": 24,
        "start_time": "2023-05-05T19:10:29.530Z"
      },
      {
        "duration": 465,
        "start_time": "2023-05-05T19:10:29.556Z"
      },
      {
        "duration": 7,
        "start_time": "2023-05-05T19:10:30.023Z"
      },
      {
        "duration": 333,
        "start_time": "2023-05-05T19:10:30.032Z"
      },
      {
        "duration": 54,
        "start_time": "2023-05-05T19:10:30.367Z"
      },
      {
        "duration": 262,
        "start_time": "2023-05-05T19:10:30.423Z"
      },
      {
        "duration": 735,
        "start_time": "2023-05-05T19:10:30.693Z"
      },
      {
        "duration": 31,
        "start_time": "2023-05-05T19:10:31.429Z"
      },
      {
        "duration": 231,
        "start_time": "2023-05-05T19:10:31.461Z"
      },
      {
        "duration": 539,
        "start_time": "2023-05-05T19:10:31.694Z"
      },
      {
        "duration": 281,
        "start_time": "2023-05-05T19:10:32.234Z"
      },
      {
        "duration": 11,
        "start_time": "2023-05-05T19:10:32.516Z"
      },
      {
        "duration": 57,
        "start_time": "2023-05-05T19:12:15.252Z"
      },
      {
        "duration": 416,
        "start_time": "2023-05-05T19:13:13.524Z"
      },
      {
        "duration": 471,
        "start_time": "2023-05-05T19:13:49.218Z"
      },
      {
        "duration": 89,
        "start_time": "2023-05-05T19:14:44.762Z"
      },
      {
        "duration": 124,
        "start_time": "2023-05-05T19:14:48.638Z"
      },
      {
        "duration": 2298,
        "start_time": "2023-05-05T19:15:56.049Z"
      },
      {
        "duration": 776,
        "start_time": "2023-05-05T19:15:58.348Z"
      },
      {
        "duration": 8,
        "start_time": "2023-05-05T19:15:59.126Z"
      },
      {
        "duration": 975,
        "start_time": "2023-05-05T19:15:59.136Z"
      },
      {
        "duration": 372,
        "start_time": "2023-05-05T19:16:00.113Z"
      },
      {
        "duration": 37,
        "start_time": "2023-05-05T19:16:00.487Z"
      },
      {
        "duration": 443,
        "start_time": "2023-05-05T19:16:00.525Z"
      },
      {
        "duration": 35,
        "start_time": "2023-05-05T19:16:00.972Z"
      },
      {
        "duration": 80,
        "start_time": "2023-05-05T19:16:01.009Z"
      },
      {
        "duration": 614,
        "start_time": "2023-05-05T19:16:01.095Z"
      },
      {
        "duration": 69,
        "start_time": "2023-05-05T19:16:01.711Z"
      },
      {
        "duration": 134,
        "start_time": "2023-05-05T19:16:01.791Z"
      },
      {
        "duration": 10,
        "start_time": "2023-05-05T19:16:01.928Z"
      },
      {
        "duration": 148,
        "start_time": "2023-05-05T19:16:01.942Z"
      },
      {
        "duration": 69,
        "start_time": "2023-05-05T19:16:02.091Z"
      },
      {
        "duration": 243,
        "start_time": "2023-05-05T19:16:02.162Z"
      },
      {
        "duration": 74,
        "start_time": "2023-05-05T19:16:02.407Z"
      },
      {
        "duration": 46,
        "start_time": "2023-05-05T19:16:02.482Z"
      },
      {
        "duration": 57,
        "start_time": "2023-05-05T19:16:02.530Z"
      },
      {
        "duration": 63,
        "start_time": "2023-05-05T19:16:02.589Z"
      },
      {
        "duration": 52,
        "start_time": "2023-05-05T19:16:02.654Z"
      },
      {
        "duration": 121,
        "start_time": "2023-05-05T19:16:02.708Z"
      },
      {
        "duration": 9,
        "start_time": "2023-05-05T19:16:02.831Z"
      },
      {
        "duration": 89,
        "start_time": "2023-05-05T19:16:02.843Z"
      },
      {
        "duration": 73,
        "start_time": "2023-05-05T19:16:02.934Z"
      },
      {
        "duration": 44,
        "start_time": "2023-05-05T19:16:03.011Z"
      },
      {
        "duration": 455,
        "start_time": "2023-05-05T19:16:03.057Z"
      },
      {
        "duration": 5,
        "start_time": "2023-05-05T19:16:03.513Z"
      },
      {
        "duration": 210,
        "start_time": "2023-05-05T19:16:03.519Z"
      },
      {
        "duration": 50,
        "start_time": "2023-05-05T19:16:03.731Z"
      },
      {
        "duration": 181,
        "start_time": "2023-05-05T19:16:03.790Z"
      },
      {
        "duration": 560,
        "start_time": "2023-05-05T19:16:03.972Z"
      },
      {
        "duration": 56,
        "start_time": "2023-05-05T19:16:04.533Z"
      },
      {
        "duration": 198,
        "start_time": "2023-05-05T19:16:04.591Z"
      },
      {
        "duration": 494,
        "start_time": "2023-05-05T19:16:04.791Z"
      },
      {
        "duration": 270,
        "start_time": "2023-05-05T19:16:05.287Z"
      },
      {
        "duration": 18,
        "start_time": "2023-05-05T19:16:05.572Z"
      },
      {
        "duration": 95,
        "start_time": "2023-05-05T19:16:05.592Z"
      },
      {
        "duration": 407,
        "start_time": "2023-05-05T19:16:05.690Z"
      },
      {
        "duration": 106,
        "start_time": "2023-05-05T19:16:06.108Z"
      },
      {
        "duration": 490,
        "start_time": "2023-05-05T19:16:06.218Z"
      },
      {
        "duration": 1649,
        "start_time": "2023-05-06T07:21:49.912Z"
      },
      {
        "duration": 3075,
        "start_time": "2023-05-06T07:21:51.562Z"
      },
      {
        "duration": 6,
        "start_time": "2023-05-06T07:21:54.639Z"
      },
      {
        "duration": 850,
        "start_time": "2023-05-06T07:21:54.647Z"
      },
      {
        "duration": 317,
        "start_time": "2023-05-06T07:21:55.498Z"
      },
      {
        "duration": 36,
        "start_time": "2023-05-06T07:21:55.817Z"
      },
      {
        "duration": 497,
        "start_time": "2023-05-06T07:21:55.854Z"
      },
      {
        "duration": 33,
        "start_time": "2023-05-06T07:21:56.353Z"
      },
      {
        "duration": 82,
        "start_time": "2023-05-06T07:21:56.388Z"
      },
      {
        "duration": 595,
        "start_time": "2023-05-06T07:21:56.475Z"
      },
      {
        "duration": 72,
        "start_time": "2023-05-06T07:21:57.078Z"
      },
      {
        "duration": 73,
        "start_time": "2023-05-06T07:21:57.151Z"
      },
      {
        "duration": 9,
        "start_time": "2023-05-06T07:21:57.225Z"
      },
      {
        "duration": 120,
        "start_time": "2023-05-06T07:21:57.236Z"
      },
      {
        "duration": 70,
        "start_time": "2023-05-06T07:21:57.358Z"
      },
      {
        "duration": 297,
        "start_time": "2023-05-06T07:21:57.430Z"
      },
      {
        "duration": 88,
        "start_time": "2023-05-06T07:21:57.729Z"
      },
      {
        "duration": 51,
        "start_time": "2023-05-06T07:21:57.818Z"
      },
      {
        "duration": 60,
        "start_time": "2023-05-06T07:21:57.871Z"
      },
      {
        "duration": 66,
        "start_time": "2023-05-06T07:21:57.933Z"
      },
      {
        "duration": 35,
        "start_time": "2023-05-06T07:21:58.000Z"
      },
      {
        "duration": 71,
        "start_time": "2023-05-06T07:21:58.037Z"
      },
      {
        "duration": 18,
        "start_time": "2023-05-06T07:21:58.109Z"
      },
      {
        "duration": 49,
        "start_time": "2023-05-06T07:21:58.128Z"
      },
      {
        "duration": 73,
        "start_time": "2023-05-06T07:21:58.185Z"
      },
      {
        "duration": 32,
        "start_time": "2023-05-06T07:21:58.259Z"
      },
      {
        "duration": 399,
        "start_time": "2023-05-06T07:21:58.293Z"
      },
      {
        "duration": 4,
        "start_time": "2023-05-06T07:21:58.696Z"
      },
      {
        "duration": 193,
        "start_time": "2023-05-06T07:21:58.702Z"
      },
      {
        "duration": 43,
        "start_time": "2023-05-06T07:21:58.897Z"
      },
      {
        "duration": 192,
        "start_time": "2023-05-06T07:21:58.941Z"
      },
      {
        "duration": 554,
        "start_time": "2023-05-06T07:21:59.135Z"
      },
      {
        "duration": 31,
        "start_time": "2023-05-06T07:21:59.691Z"
      },
      {
        "duration": 199,
        "start_time": "2023-05-06T07:21:59.723Z"
      },
      {
        "duration": 506,
        "start_time": "2023-05-06T07:21:59.924Z"
      },
      {
        "duration": 332,
        "start_time": "2023-05-06T07:22:00.432Z"
      },
      {
        "duration": 24,
        "start_time": "2023-05-06T07:22:00.766Z"
      },
      {
        "duration": 193,
        "start_time": "2023-05-06T07:22:00.792Z"
      },
      {
        "duration": 451,
        "start_time": "2023-05-06T07:22:00.987Z"
      },
      {
        "duration": 111,
        "start_time": "2023-05-06T07:22:01.439Z"
      },
      {
        "duration": 495,
        "start_time": "2023-05-06T07:22:01.552Z"
      },
      {
        "duration": 28400,
        "start_time": "2023-05-06T07:22:02.049Z"
      },
      {
        "duration": 0,
        "start_time": "2023-05-06T07:22:30.451Z"
      },
      {
        "duration": 0,
        "start_time": "2023-05-06T07:22:30.451Z"
      },
      {
        "duration": 0,
        "start_time": "2023-05-06T07:22:30.452Z"
      },
      {
        "duration": 0,
        "start_time": "2023-05-06T07:22:30.454Z"
      },
      {
        "duration": 0,
        "start_time": "2023-05-06T07:22:30.455Z"
      },
      {
        "duration": 0,
        "start_time": "2023-05-06T07:22:30.456Z"
      },
      {
        "duration": 0,
        "start_time": "2023-05-06T07:22:30.457Z"
      },
      {
        "duration": 0,
        "start_time": "2023-05-06T07:22:30.472Z"
      },
      {
        "duration": 0,
        "start_time": "2023-05-06T07:22:30.476Z"
      },
      {
        "duration": 0,
        "start_time": "2023-05-06T07:22:30.476Z"
      },
      {
        "duration": 0,
        "start_time": "2023-05-06T07:22:30.477Z"
      },
      {
        "duration": 0,
        "start_time": "2023-05-06T07:22:30.477Z"
      },
      {
        "duration": 0,
        "start_time": "2023-05-06T07:22:30.478Z"
      },
      {
        "duration": 37156,
        "start_time": "2023-05-06T07:36:20.728Z"
      },
      {
        "duration": 4,
        "start_time": "2023-05-06T07:59:20.019Z"
      },
      {
        "duration": 38162,
        "start_time": "2023-05-06T08:02:58.239Z"
      },
      {
        "duration": 54,
        "start_time": "2023-05-06T08:03:36.427Z"
      },
      {
        "duration": 47,
        "start_time": "2023-05-06T08:03:36.489Z"
      },
      {
        "duration": 3580,
        "start_time": "2023-05-06T08:03:36.539Z"
      },
      {
        "duration": 0,
        "start_time": "2023-05-06T08:03:40.120Z"
      },
      {
        "duration": 0,
        "start_time": "2023-05-06T08:03:40.121Z"
      },
      {
        "duration": 0,
        "start_time": "2023-05-06T08:03:40.122Z"
      },
      {
        "duration": 0,
        "start_time": "2023-05-06T08:03:40.123Z"
      },
      {
        "duration": 271,
        "start_time": "2023-05-06T08:03:48.145Z"
      },
      {
        "duration": 16,
        "start_time": "2023-05-06T08:03:50.202Z"
      },
      {
        "duration": 1317,
        "start_time": "2023-05-06T08:04:39.843Z"
      },
      {
        "duration": 795,
        "start_time": "2023-05-06T08:04:41.162Z"
      },
      {
        "duration": 6,
        "start_time": "2023-05-06T08:04:41.958Z"
      },
      {
        "duration": 849,
        "start_time": "2023-05-06T08:04:41.965Z"
      },
      {
        "duration": 343,
        "start_time": "2023-05-06T08:04:42.816Z"
      },
      {
        "duration": 43,
        "start_time": "2023-05-06T08:04:43.161Z"
      },
      {
        "duration": 430,
        "start_time": "2023-05-06T08:04:43.206Z"
      },
      {
        "duration": 22,
        "start_time": "2023-05-06T08:04:43.638Z"
      },
      {
        "duration": 68,
        "start_time": "2023-05-06T08:04:43.662Z"
      },
      {
        "duration": 736,
        "start_time": "2023-05-06T08:04:43.732Z"
      },
      {
        "duration": 83,
        "start_time": "2023-05-06T08:04:44.470Z"
      },
      {
        "duration": 83,
        "start_time": "2023-05-06T08:04:44.555Z"
      },
      {
        "duration": 8,
        "start_time": "2023-05-06T08:04:44.640Z"
      },
      {
        "duration": 110,
        "start_time": "2023-05-06T08:04:44.651Z"
      },
      {
        "duration": 85,
        "start_time": "2023-05-06T08:04:44.763Z"
      },
      {
        "duration": 259,
        "start_time": "2023-05-06T08:04:44.850Z"
      },
      {
        "duration": 97,
        "start_time": "2023-05-06T08:04:45.120Z"
      },
      {
        "duration": 22,
        "start_time": "2023-05-06T08:04:45.223Z"
      },
      {
        "duration": 84,
        "start_time": "2023-05-06T08:04:45.247Z"
      },
      {
        "duration": 109,
        "start_time": "2023-05-06T08:04:45.333Z"
      },
      {
        "duration": 64,
        "start_time": "2023-05-06T08:04:45.444Z"
      },
      {
        "duration": 96,
        "start_time": "2023-05-06T08:04:45.513Z"
      },
      {
        "duration": 12,
        "start_time": "2023-05-06T08:04:45.622Z"
      },
      {
        "duration": 72,
        "start_time": "2023-05-06T08:04:45.636Z"
      },
      {
        "duration": 119,
        "start_time": "2023-05-06T08:04:45.710Z"
      },
      {
        "duration": 36,
        "start_time": "2023-05-06T08:04:45.834Z"
      },
      {
        "duration": 503,
        "start_time": "2023-05-06T08:04:45.873Z"
      },
      {
        "duration": 6,
        "start_time": "2023-05-06T08:04:46.378Z"
      },
      {
        "duration": 276,
        "start_time": "2023-05-06T08:04:46.385Z"
      },
      {
        "duration": 56,
        "start_time": "2023-05-06T08:04:46.664Z"
      },
      {
        "duration": 232,
        "start_time": "2023-05-06T08:04:46.723Z"
      },
      {
        "duration": 676,
        "start_time": "2023-05-06T08:04:46.956Z"
      },
      {
        "duration": 63,
        "start_time": "2023-05-06T08:04:47.634Z"
      },
      {
        "duration": 248,
        "start_time": "2023-05-06T08:04:47.707Z"
      },
      {
        "duration": 500,
        "start_time": "2023-05-06T08:04:47.956Z"
      },
      {
        "duration": 326,
        "start_time": "2023-05-06T08:04:48.458Z"
      },
      {
        "duration": 17,
        "start_time": "2023-05-06T08:04:48.796Z"
      },
      {
        "duration": 50,
        "start_time": "2023-05-06T08:04:48.815Z"
      },
      {
        "duration": 442,
        "start_time": "2023-05-06T08:04:48.866Z"
      },
      {
        "duration": 135,
        "start_time": "2023-05-06T08:04:49.310Z"
      },
      {
        "duration": 639,
        "start_time": "2023-05-06T08:04:49.450Z"
      },
      {
        "duration": 43881,
        "start_time": "2023-05-06T08:04:50.109Z"
      },
      {
        "duration": 13,
        "start_time": "2023-05-06T08:05:33.996Z"
      },
      {
        "duration": 104,
        "start_time": "2023-05-06T08:05:34.015Z"
      },
      {
        "duration": 3677,
        "start_time": "2023-05-06T08:05:34.121Z"
      },
      {
        "duration": 0,
        "start_time": "2023-05-06T08:05:37.800Z"
      },
      {
        "duration": 0,
        "start_time": "2023-05-06T08:05:37.800Z"
      },
      {
        "duration": 0,
        "start_time": "2023-05-06T08:05:37.801Z"
      },
      {
        "duration": 0,
        "start_time": "2023-05-06T08:05:37.806Z"
      },
      {
        "duration": 0,
        "start_time": "2023-05-06T08:05:37.806Z"
      },
      {
        "duration": 0,
        "start_time": "2023-05-06T08:05:37.807Z"
      },
      {
        "duration": 0,
        "start_time": "2023-05-06T08:05:37.808Z"
      },
      {
        "duration": 0,
        "start_time": "2023-05-06T08:05:37.808Z"
      },
      {
        "duration": 0,
        "start_time": "2023-05-06T08:05:37.809Z"
      },
      {
        "duration": 0,
        "start_time": "2023-05-06T08:05:37.810Z"
      },
      {
        "duration": 3016,
        "start_time": "2023-05-06T08:07:38.594Z"
      },
      {
        "duration": 24,
        "start_time": "2023-05-06T08:09:43.918Z"
      },
      {
        "duration": 3132,
        "start_time": "2023-05-06T08:15:27.940Z"
      },
      {
        "duration": 181,
        "start_time": "2023-05-06T08:15:58.417Z"
      },
      {
        "duration": 9,
        "start_time": "2023-05-06T08:16:00.495Z"
      },
      {
        "duration": 218,
        "start_time": "2023-05-06T08:16:29.323Z"
      },
      {
        "duration": 10,
        "start_time": "2023-05-06T08:16:31.543Z"
      },
      {
        "duration": 19263,
        "start_time": "2023-05-06T09:59:21.122Z"
      },
      {
        "duration": 47,
        "start_time": "2023-05-06T09:59:40.410Z"
      },
      {
        "duration": 158,
        "start_time": "2023-05-06T09:59:40.471Z"
      },
      {
        "duration": 5586,
        "start_time": "2023-05-06T09:59:40.631Z"
      },
      {
        "duration": 38,
        "start_time": "2023-05-06T09:59:52.771Z"
      },
      {
        "duration": 6043,
        "start_time": "2023-05-06T09:59:53.026Z"
      },
      {
        "duration": 20011,
        "start_time": "2023-05-06T10:00:20.726Z"
      },
      {
        "duration": 9,
        "start_time": "2023-05-06T10:00:40.746Z"
      },
      {
        "duration": 137,
        "start_time": "2023-05-06T10:00:40.760Z"
      },
      {
        "duration": 5077,
        "start_time": "2023-05-06T10:00:59.527Z"
      },
      {
        "duration": 4869,
        "start_time": "2023-05-06T10:01:47.484Z"
      },
      {
        "duration": 6536,
        "start_time": "2023-05-06T10:02:12.445Z"
      },
      {
        "duration": 2099,
        "start_time": "2023-05-06T10:02:28.414Z"
      },
      {
        "duration": 4992,
        "start_time": "2023-05-06T10:06:44.574Z"
      },
      {
        "duration": 41,
        "start_time": "2023-05-06T10:11:29.264Z"
      },
      {
        "duration": 115,
        "start_time": "2023-05-06T10:15:06.519Z"
      },
      {
        "duration": 1207,
        "start_time": "2023-05-06T10:16:38.112Z"
      },
      {
        "duration": 4022,
        "start_time": "2023-05-06T10:17:25.419Z"
      },
      {
        "duration": 280,
        "start_time": "2023-05-06T10:18:05.322Z"
      },
      {
        "duration": 14,
        "start_time": "2023-05-06T10:18:07.216Z"
      },
      {
        "duration": 3046,
        "start_time": "2023-05-06T17:48:40.217Z"
      },
      {
        "duration": 4406,
        "start_time": "2023-05-06T17:48:43.267Z"
      },
      {
        "duration": 12,
        "start_time": "2023-05-06T17:48:47.688Z"
      },
      {
        "duration": 1139,
        "start_time": "2023-05-06T17:48:47.707Z"
      },
      {
        "duration": 518,
        "start_time": "2023-05-06T17:48:48.851Z"
      },
      {
        "duration": 40,
        "start_time": "2023-05-06T17:48:49.374Z"
      },
      {
        "duration": 499,
        "start_time": "2023-05-06T17:48:49.415Z"
      },
      {
        "duration": 43,
        "start_time": "2023-05-06T17:48:49.915Z"
      },
      {
        "duration": 102,
        "start_time": "2023-05-06T17:48:49.970Z"
      },
      {
        "duration": 795,
        "start_time": "2023-05-06T17:48:50.078Z"
      },
      {
        "duration": 133,
        "start_time": "2023-05-06T17:48:50.874Z"
      },
      {
        "duration": 65,
        "start_time": "2023-05-06T17:48:51.010Z"
      },
      {
        "duration": 35,
        "start_time": "2023-05-06T17:48:51.086Z"
      },
      {
        "duration": 146,
        "start_time": "2023-05-06T17:48:51.123Z"
      },
      {
        "duration": 138,
        "start_time": "2023-05-06T17:48:51.270Z"
      },
      {
        "duration": 285,
        "start_time": "2023-05-06T17:48:51.409Z"
      },
      {
        "duration": 125,
        "start_time": "2023-05-06T17:48:51.699Z"
      },
      {
        "duration": 33,
        "start_time": "2023-05-06T17:48:51.826Z"
      },
      {
        "duration": 85,
        "start_time": "2023-05-06T17:48:51.861Z"
      },
      {
        "duration": 117,
        "start_time": "2023-05-06T17:48:51.951Z"
      },
      {
        "duration": 52,
        "start_time": "2023-05-06T17:48:52.073Z"
      },
      {
        "duration": 111,
        "start_time": "2023-05-06T17:48:52.126Z"
      },
      {
        "duration": 57,
        "start_time": "2023-05-06T17:48:52.238Z"
      },
      {
        "duration": 51,
        "start_time": "2023-05-06T17:48:52.296Z"
      },
      {
        "duration": 145,
        "start_time": "2023-05-06T17:48:52.349Z"
      },
      {
        "duration": 49,
        "start_time": "2023-05-06T17:48:54.261Z"
      },
      {
        "duration": 649,
        "start_time": "2023-05-06T17:48:54.597Z"
      },
      {
        "duration": 16,
        "start_time": "2023-05-06T17:48:55.253Z"
      },
      {
        "duration": 248,
        "start_time": "2023-05-06T17:48:57.063Z"
      },
      {
        "duration": 45,
        "start_time": "2023-05-06T17:48:57.381Z"
      },
      {
        "duration": 253,
        "start_time": "2023-05-06T17:48:57.543Z"
      },
      {
        "duration": 735,
        "start_time": "2023-05-06T17:48:57.803Z"
      },
      {
        "duration": 44,
        "start_time": "2023-05-06T17:48:59.178Z"
      },
      {
        "duration": 240,
        "start_time": "2023-05-06T17:48:59.372Z"
      },
      {
        "duration": 637,
        "start_time": "2023-05-06T17:48:59.614Z"
      },
      {
        "duration": 405,
        "start_time": "2023-05-06T17:49:00.253Z"
      },
      {
        "duration": 16,
        "start_time": "2023-05-06T17:49:05.986Z"
      },
      {
        "duration": 88,
        "start_time": "2023-05-06T17:49:07.055Z"
      },
      {
        "duration": 536,
        "start_time": "2023-05-06T17:49:07.518Z"
      },
      {
        "duration": 130,
        "start_time": "2023-05-06T17:49:09.063Z"
      },
      {
        "duration": 674,
        "start_time": "2023-05-06T17:49:10.559Z"
      },
      {
        "duration": 4524,
        "start_time": "2023-05-06T17:51:10.005Z"
      },
      {
        "duration": 14,
        "start_time": "2023-05-06T17:51:34.603Z"
      },
      {
        "duration": 2829,
        "start_time": "2023-05-06T17:52:49.512Z"
      },
      {
        "duration": 1091,
        "start_time": "2023-05-06T17:52:52.349Z"
      },
      {
        "duration": 6,
        "start_time": "2023-05-06T17:52:53.445Z"
      },
      {
        "duration": 1239,
        "start_time": "2023-05-06T17:52:53.453Z"
      },
      {
        "duration": 561,
        "start_time": "2023-05-06T17:52:54.697Z"
      },
      {
        "duration": 48,
        "start_time": "2023-05-06T17:52:55.271Z"
      },
      {
        "duration": 498,
        "start_time": "2023-05-06T17:52:55.321Z"
      },
      {
        "duration": 49,
        "start_time": "2023-05-06T17:52:55.821Z"
      },
      {
        "duration": 90,
        "start_time": "2023-05-06T17:52:55.872Z"
      },
      {
        "duration": 877,
        "start_time": "2023-05-06T17:52:55.965Z"
      },
      {
        "duration": 153,
        "start_time": "2023-05-06T17:52:56.843Z"
      },
      {
        "duration": 72,
        "start_time": "2023-05-06T17:52:56.998Z"
      },
      {
        "duration": 11,
        "start_time": "2023-05-06T17:52:57.072Z"
      },
      {
        "duration": 137,
        "start_time": "2023-05-06T17:52:57.085Z"
      },
      {
        "duration": 138,
        "start_time": "2023-05-06T17:52:57.224Z"
      },
      {
        "duration": 324,
        "start_time": "2023-05-06T17:52:57.364Z"
      },
      {
        "duration": 112,
        "start_time": "2023-05-06T17:52:57.692Z"
      },
      {
        "duration": 18,
        "start_time": "2023-05-06T17:52:57.806Z"
      },
      {
        "duration": 96,
        "start_time": "2023-05-06T17:52:57.826Z"
      },
      {
        "duration": 108,
        "start_time": "2023-05-06T17:52:57.923Z"
      },
      {
        "duration": 63,
        "start_time": "2023-05-06T17:52:58.032Z"
      },
      {
        "duration": 106,
        "start_time": "2023-05-06T17:52:58.096Z"
      },
      {
        "duration": 4,
        "start_time": "2023-05-06T17:52:58.203Z"
      },
      {
        "duration": 70,
        "start_time": "2023-05-06T17:52:58.208Z"
      },
      {
        "duration": 81,
        "start_time": "2023-05-06T17:52:58.280Z"
      },
      {
        "duration": 47,
        "start_time": "2023-05-06T17:52:58.370Z"
      },
      {
        "duration": 515,
        "start_time": "2023-05-06T17:52:58.419Z"
      },
      {
        "duration": 18,
        "start_time": "2023-05-06T17:52:58.950Z"
      },
      {
        "duration": 246,
        "start_time": "2023-05-06T17:52:58.975Z"
      },
      {
        "duration": 63,
        "start_time": "2023-05-06T17:52:59.234Z"
      },
      {
        "duration": 356,
        "start_time": "2023-05-06T17:52:59.299Z"
      },
      {
        "duration": 695,
        "start_time": "2023-05-06T17:52:59.657Z"
      },
      {
        "duration": 50,
        "start_time": "2023-05-06T17:53:00.353Z"
      },
      {
        "duration": 248,
        "start_time": "2023-05-06T17:53:00.405Z"
      },
      {
        "duration": 617,
        "start_time": "2023-05-06T17:53:00.664Z"
      },
      {
        "duration": 341,
        "start_time": "2023-05-06T17:53:01.285Z"
      },
      {
        "duration": 22,
        "start_time": "2023-05-06T17:53:01.628Z"
      },
      {
        "duration": 120,
        "start_time": "2023-05-06T17:53:01.652Z"
      },
      {
        "duration": 520,
        "start_time": "2023-05-06T17:53:01.775Z"
      },
      {
        "duration": 129,
        "start_time": "2023-05-06T17:53:02.298Z"
      },
      {
        "duration": 725,
        "start_time": "2023-05-06T17:53:02.429Z"
      },
      {
        "duration": 20,
        "start_time": "2023-05-06T17:53:03.155Z"
      },
      {
        "duration": 49,
        "start_time": "2023-05-07T06:40:41.259Z"
      },
      {
        "duration": 7,
        "start_time": "2023-05-07T06:43:15.755Z"
      },
      {
        "duration": 1640,
        "start_time": "2023-05-07T06:52:11.600Z"
      },
      {
        "duration": 1085,
        "start_time": "2023-05-07T06:52:13.242Z"
      },
      {
        "duration": 4,
        "start_time": "2023-05-07T06:52:14.328Z"
      },
      {
        "duration": 865,
        "start_time": "2023-05-07T06:52:14.335Z"
      },
      {
        "duration": 324,
        "start_time": "2023-05-07T06:52:15.201Z"
      },
      {
        "duration": 32,
        "start_time": "2023-05-07T06:52:15.527Z"
      },
      {
        "duration": 445,
        "start_time": "2023-05-07T06:52:15.561Z"
      },
      {
        "duration": 23,
        "start_time": "2023-05-07T06:52:16.007Z"
      },
      {
        "duration": 60,
        "start_time": "2023-05-07T06:52:16.033Z"
      },
      {
        "duration": 689,
        "start_time": "2023-05-07T06:52:16.094Z"
      },
      {
        "duration": 71,
        "start_time": "2023-05-07T06:52:16.784Z"
      },
      {
        "duration": 55,
        "start_time": "2023-05-07T06:52:16.857Z"
      },
      {
        "duration": 10,
        "start_time": "2023-05-07T06:52:16.914Z"
      },
      {
        "duration": 113,
        "start_time": "2023-05-07T06:52:17.107Z"
      },
      {
        "duration": 78,
        "start_time": "2023-05-07T06:52:17.323Z"
      },
      {
        "duration": 219,
        "start_time": "2023-05-07T06:52:18.119Z"
      },
      {
        "duration": 64,
        "start_time": "2023-05-07T06:52:18.370Z"
      },
      {
        "duration": 18,
        "start_time": "2023-05-07T06:52:18.629Z"
      },
      {
        "duration": 35,
        "start_time": "2023-05-07T06:52:19.384Z"
      },
      {
        "duration": 54,
        "start_time": "2023-05-07T06:52:19.651Z"
      },
      {
        "duration": 35,
        "start_time": "2023-05-07T06:52:20.119Z"
      },
      {
        "duration": 54,
        "start_time": "2023-05-07T06:52:20.363Z"
      },
      {
        "duration": 3,
        "start_time": "2023-05-07T06:52:20.841Z"
      },
      {
        "duration": 33,
        "start_time": "2023-05-07T06:52:21.189Z"
      },
      {
        "duration": 50,
        "start_time": "2023-05-07T06:52:21.473Z"
      },
      {
        "duration": 21,
        "start_time": "2023-05-07T06:52:24.010Z"
      },
      {
        "duration": 457,
        "start_time": "2023-05-07T06:52:24.295Z"
      },
      {
        "duration": 5,
        "start_time": "2023-05-07T06:52:25.356Z"
      },
      {
        "duration": 193,
        "start_time": "2023-05-07T06:52:26.699Z"
      },
      {
        "duration": 44,
        "start_time": "2023-05-07T06:52:27.995Z"
      },
      {
        "duration": 195,
        "start_time": "2023-05-07T06:52:28.444Z"
      },
      {
        "duration": 607,
        "start_time": "2023-05-07T06:52:29.213Z"
      },
      {
        "duration": 44,
        "start_time": "2023-05-07T06:52:31.627Z"
      },
      {
        "duration": 218,
        "start_time": "2023-05-07T06:52:32.060Z"
      },
      {
        "duration": 522,
        "start_time": "2023-05-07T06:52:33.438Z"
      },
      {
        "duration": 283,
        "start_time": "2023-05-07T06:52:36.321Z"
      },
      {
        "duration": 12,
        "start_time": "2023-05-07T06:52:39.435Z"
      },
      {
        "duration": 65,
        "start_time": "2023-05-07T06:52:39.795Z"
      },
      {
        "duration": 522,
        "start_time": "2023-05-07T06:52:40.091Z"
      },
      {
        "duration": 104,
        "start_time": "2023-05-07T06:52:40.675Z"
      },
      {
        "duration": 585,
        "start_time": "2023-05-07T06:52:41.501Z"
      },
      {
        "duration": 9525,
        "start_time": "2023-05-07T06:53:36.867Z"
      },
      {
        "duration": 4,
        "start_time": "2023-05-07T06:53:46.395Z"
      },
      {
        "duration": 10370,
        "start_time": "2023-05-07T06:56:07.401Z"
      },
      {
        "duration": 4,
        "start_time": "2023-05-07T06:56:17.773Z"
      },
      {
        "duration": 306816,
        "start_time": "2023-05-07T07:02:46.037Z"
      },
      {
        "duration": 0,
        "start_time": "2023-05-07T07:07:52.854Z"
      },
      {
        "duration": 0,
        "start_time": "2023-05-07T07:07:52.856Z"
      },
      {
        "duration": 1517,
        "start_time": "2023-05-07T07:07:59.559Z"
      },
      {
        "duration": 846,
        "start_time": "2023-05-07T07:08:01.077Z"
      },
      {
        "duration": 6,
        "start_time": "2023-05-07T07:08:01.925Z"
      },
      {
        "duration": 959,
        "start_time": "2023-05-07T07:08:01.934Z"
      },
      {
        "duration": 367,
        "start_time": "2023-05-07T07:08:02.895Z"
      },
      {
        "duration": 47,
        "start_time": "2023-05-07T07:08:03.264Z"
      },
      {
        "duration": 420,
        "start_time": "2023-05-07T07:08:03.313Z"
      },
      {
        "duration": 22,
        "start_time": "2023-05-07T07:08:03.735Z"
      },
      {
        "duration": 57,
        "start_time": "2023-05-07T07:08:03.759Z"
      },
      {
        "duration": 678,
        "start_time": "2023-05-07T07:08:03.819Z"
      },
      {
        "duration": 71,
        "start_time": "2023-05-07T07:08:04.499Z"
      },
      {
        "duration": 65,
        "start_time": "2023-05-07T07:08:04.572Z"
      },
      {
        "duration": 10,
        "start_time": "2023-05-07T07:08:04.638Z"
      },
      {
        "duration": 135,
        "start_time": "2023-05-07T07:08:04.650Z"
      },
      {
        "duration": 79,
        "start_time": "2023-05-07T07:08:04.787Z"
      },
      {
        "duration": 246,
        "start_time": "2023-05-07T07:08:04.868Z"
      },
      {
        "duration": 62,
        "start_time": "2023-05-07T07:08:05.116Z"
      },
      {
        "duration": 26,
        "start_time": "2023-05-07T07:08:05.180Z"
      },
      {
        "duration": 37,
        "start_time": "2023-05-07T07:08:05.208Z"
      },
      {
        "duration": 75,
        "start_time": "2023-05-07T07:08:05.247Z"
      },
      {
        "duration": 34,
        "start_time": "2023-05-07T07:08:05.323Z"
      },
      {
        "duration": 76,
        "start_time": "2023-05-07T07:08:05.359Z"
      },
      {
        "duration": 2,
        "start_time": "2023-05-07T07:08:05.437Z"
      },
      {
        "duration": 50,
        "start_time": "2023-05-07T07:08:05.441Z"
      },
      {
        "duration": 49,
        "start_time": "2023-05-07T07:08:05.494Z"
      },
      {
        "duration": 34,
        "start_time": "2023-05-07T07:08:05.545Z"
      },
      {
        "duration": 437,
        "start_time": "2023-05-07T07:08:05.580Z"
      },
      {
        "duration": 5,
        "start_time": "2023-05-07T07:08:06.022Z"
      },
      {
        "duration": 216,
        "start_time": "2023-05-07T07:08:06.029Z"
      },
      {
        "duration": 50,
        "start_time": "2023-05-07T07:08:06.246Z"
      },
      {
        "duration": 208,
        "start_time": "2023-05-07T07:08:06.298Z"
      },
      {
        "duration": 606,
        "start_time": "2023-05-07T07:08:06.507Z"
      },
      {
        "duration": 36,
        "start_time": "2023-05-07T07:08:07.115Z"
      },
      {
        "duration": 277,
        "start_time": "2023-05-07T07:08:07.154Z"
      },
      {
        "duration": 559,
        "start_time": "2023-05-07T07:08:07.434Z"
      },
      {
        "duration": 284,
        "start_time": "2023-05-07T07:08:07.994Z"
      },
      {
        "duration": 19,
        "start_time": "2023-05-07T07:08:08.280Z"
      },
      {
        "duration": 68,
        "start_time": "2023-05-07T07:08:08.301Z"
      },
      {
        "duration": 516,
        "start_time": "2023-05-07T07:08:08.371Z"
      },
      {
        "duration": 112,
        "start_time": "2023-05-07T07:08:08.888Z"
      },
      {
        "duration": 590,
        "start_time": "2023-05-07T07:08:09.002Z"
      },
      {
        "duration": 12604,
        "start_time": "2023-05-07T07:08:09.593Z"
      },
      {
        "duration": 4,
        "start_time": "2023-05-07T07:08:22.199Z"
      },
      {
        "duration": 3,
        "start_time": "2023-05-07T07:08:22.293Z"
      },
      {
        "duration": 11025,
        "start_time": "2023-05-07T07:08:22.298Z"
      },
      {
        "duration": 4,
        "start_time": "2023-05-07T07:08:33.324Z"
      },
      {
        "duration": 873648,
        "start_time": "2023-05-07T07:08:33.330Z"
      },
      {
        "duration": 0,
        "start_time": "2023-05-07T07:23:06.980Z"
      },
      {
        "duration": 0,
        "start_time": "2023-05-07T07:23:06.981Z"
      },
      {
        "duration": 0,
        "start_time": "2023-05-07T07:23:06.982Z"
      },
      {
        "duration": 0,
        "start_time": "2023-05-07T07:23:06.991Z"
      },
      {
        "duration": 0,
        "start_time": "2023-05-07T07:23:06.992Z"
      },
      {
        "duration": 0,
        "start_time": "2023-05-07T07:23:06.993Z"
      },
      {
        "duration": 0,
        "start_time": "2023-05-07T07:23:06.995Z"
      },
      {
        "duration": 0,
        "start_time": "2023-05-07T07:23:06.996Z"
      },
      {
        "duration": 38305,
        "start_time": "2023-05-07T07:23:09.709Z"
      },
      {
        "duration": 0,
        "start_time": "2023-05-07T07:23:48.016Z"
      },
      {
        "duration": 0,
        "start_time": "2023-05-07T07:23:48.018Z"
      },
      {
        "duration": 0,
        "start_time": "2023-05-07T07:23:48.019Z"
      },
      {
        "duration": 0,
        "start_time": "2023-05-07T07:23:48.021Z"
      },
      {
        "duration": 0,
        "start_time": "2023-05-07T07:23:48.023Z"
      },
      {
        "duration": 0,
        "start_time": "2023-05-07T07:23:48.024Z"
      },
      {
        "duration": 0,
        "start_time": "2023-05-07T07:23:48.026Z"
      },
      {
        "duration": 0,
        "start_time": "2023-05-07T07:23:48.027Z"
      },
      {
        "duration": 690935,
        "start_time": "2023-05-07T07:23:50.288Z"
      },
      {
        "duration": 0,
        "start_time": "2023-05-07T07:35:21.225Z"
      },
      {
        "duration": 0,
        "start_time": "2023-05-07T07:35:21.226Z"
      },
      {
        "duration": 0,
        "start_time": "2023-05-07T07:35:21.227Z"
      },
      {
        "duration": 0,
        "start_time": "2023-05-07T07:35:21.229Z"
      },
      {
        "duration": 0,
        "start_time": "2023-05-07T07:35:21.231Z"
      },
      {
        "duration": 0,
        "start_time": "2023-05-07T07:35:21.232Z"
      },
      {
        "duration": 0,
        "start_time": "2023-05-07T07:35:21.233Z"
      },
      {
        "duration": 0,
        "start_time": "2023-05-07T07:35:21.234Z"
      },
      {
        "duration": 146443,
        "start_time": "2023-05-07T07:35:23.285Z"
      },
      {
        "duration": 0,
        "start_time": "2023-05-07T07:37:49.730Z"
      },
      {
        "duration": 0,
        "start_time": "2023-05-07T07:37:49.792Z"
      },
      {
        "duration": 0,
        "start_time": "2023-05-07T07:37:49.793Z"
      },
      {
        "duration": 0,
        "start_time": "2023-05-07T07:37:49.794Z"
      },
      {
        "duration": 0,
        "start_time": "2023-05-07T07:37:49.794Z"
      },
      {
        "duration": 0,
        "start_time": "2023-05-07T07:37:49.795Z"
      },
      {
        "duration": 0,
        "start_time": "2023-05-07T07:37:49.796Z"
      },
      {
        "duration": 0,
        "start_time": "2023-05-07T07:37:49.797Z"
      },
      {
        "duration": 2031,
        "start_time": "2023-05-07T07:37:54.877Z"
      },
      {
        "duration": 1484,
        "start_time": "2023-05-25T06:43:28.967Z"
      },
      {
        "duration": 817,
        "start_time": "2023-05-25T06:43:30.453Z"
      },
      {
        "duration": 5,
        "start_time": "2023-05-25T06:43:31.272Z"
      },
      {
        "duration": 889,
        "start_time": "2023-05-25T06:43:31.279Z"
      },
      {
        "duration": 326,
        "start_time": "2023-05-25T06:43:32.171Z"
      },
      {
        "duration": 35,
        "start_time": "2023-05-25T06:43:32.499Z"
      },
      {
        "duration": 393,
        "start_time": "2023-05-25T06:43:32.551Z"
      },
      {
        "duration": 26,
        "start_time": "2023-05-25T06:43:32.945Z"
      },
      {
        "duration": 43,
        "start_time": "2023-05-25T06:43:32.973Z"
      },
      {
        "duration": 654,
        "start_time": "2023-05-25T06:43:33.017Z"
      },
      {
        "duration": 78,
        "start_time": "2023-05-25T06:43:33.673Z"
      },
      {
        "duration": 41,
        "start_time": "2023-05-25T06:43:33.752Z"
      },
      {
        "duration": 9,
        "start_time": "2023-05-25T06:43:33.794Z"
      },
      {
        "duration": 134,
        "start_time": "2023-05-25T06:43:33.806Z"
      },
      {
        "duration": 67,
        "start_time": "2023-05-25T06:43:33.941Z"
      },
      {
        "duration": 283,
        "start_time": "2023-05-25T06:43:34.010Z"
      },
      {
        "duration": 64,
        "start_time": "2023-05-25T06:43:34.295Z"
      },
      {
        "duration": 16,
        "start_time": "2023-05-25T06:43:34.361Z"
      },
      {
        "duration": 37,
        "start_time": "2023-05-25T06:43:34.378Z"
      },
      {
        "duration": 84,
        "start_time": "2023-05-25T06:43:34.416Z"
      },
      {
        "duration": 48,
        "start_time": "2023-05-25T06:43:34.502Z"
      },
      {
        "duration": 58,
        "start_time": "2023-05-25T06:43:34.552Z"
      },
      {
        "duration": 57,
        "start_time": "2023-05-25T06:43:34.611Z"
      },
      {
        "duration": 46,
        "start_time": "2023-05-25T06:43:34.670Z"
      },
      {
        "duration": 87,
        "start_time": "2023-05-25T06:43:34.718Z"
      },
      {
        "duration": 19,
        "start_time": "2023-05-25T06:43:34.807Z"
      },
      {
        "duration": 418,
        "start_time": "2023-05-25T06:43:34.827Z"
      },
      {
        "duration": 6,
        "start_time": "2023-05-25T06:43:35.249Z"
      },
      {
        "duration": 213,
        "start_time": "2023-05-25T06:43:35.256Z"
      },
      {
        "duration": 43,
        "start_time": "2023-05-25T06:43:35.471Z"
      },
      {
        "duration": 211,
        "start_time": "2023-05-25T06:43:35.515Z"
      },
      {
        "duration": 615,
        "start_time": "2023-05-25T06:43:35.728Z"
      },
      {
        "duration": 40,
        "start_time": "2023-05-25T06:43:36.345Z"
      },
      {
        "duration": 219,
        "start_time": "2023-05-25T06:43:36.387Z"
      },
      {
        "duration": 510,
        "start_time": "2023-05-25T06:43:36.608Z"
      },
      {
        "duration": 273,
        "start_time": "2023-05-25T06:43:37.120Z"
      },
      {
        "duration": 12,
        "start_time": "2023-05-25T06:43:37.395Z"
      },
      {
        "duration": 88,
        "start_time": "2023-05-25T06:43:37.409Z"
      },
      {
        "duration": 513,
        "start_time": "2023-05-25T06:43:37.499Z"
      },
      {
        "duration": 97,
        "start_time": "2023-05-25T06:43:38.014Z"
      },
      {
        "duration": 560,
        "start_time": "2023-05-25T06:43:38.116Z"
      },
      {
        "duration": 9786,
        "start_time": "2023-05-25T06:43:38.678Z"
      },
      {
        "duration": 4,
        "start_time": "2023-05-25T06:43:48.551Z"
      },
      {
        "duration": 6,
        "start_time": "2023-05-25T06:43:48.557Z"
      },
      {
        "duration": 10453,
        "start_time": "2023-05-25T06:43:48.565Z"
      },
      {
        "duration": 4,
        "start_time": "2023-05-25T06:43:59.020Z"
      },
      {
        "duration": 49341,
        "start_time": "2023-05-25T06:43:59.025Z"
      },
      {
        "duration": 3,
        "start_time": "2023-05-25T06:44:48.368Z"
      },
      {
        "duration": 13,
        "start_time": "2023-05-25T06:44:48.373Z"
      },
      {
        "duration": 66,
        "start_time": "2023-05-25T06:44:48.387Z"
      },
      {
        "duration": 6,
        "start_time": "2023-05-25T06:44:48.454Z"
      },
      {
        "duration": 1871,
        "start_time": "2023-05-25T06:44:48.462Z"
      },
      {
        "duration": 17917,
        "start_time": "2023-05-25T06:44:50.334Z"
      },
      {
        "duration": 7,
        "start_time": "2023-05-25T06:45:08.252Z"
      },
      {
        "duration": 148,
        "start_time": "2023-05-25T06:45:08.261Z"
      },
      {
        "duration": 10,
        "start_time": "2023-05-25T07:02:01.650Z"
      },
      {
        "duration": 15,
        "start_time": "2023-05-25T07:02:16.237Z"
      },
      {
        "duration": 289,
        "start_time": "2023-05-25T07:03:13.911Z"
      },
      {
        "duration": 22,
        "start_time": "2023-05-25T07:04:01.272Z"
      },
      {
        "duration": 13,
        "start_time": "2023-05-25T07:08:39.480Z"
      },
      {
        "duration": 359,
        "start_time": "2023-05-25T07:09:46.991Z"
      },
      {
        "duration": 10,
        "start_time": "2023-05-25T07:09:59.976Z"
      },
      {
        "duration": 12,
        "start_time": "2023-05-25T07:10:06.493Z"
      },
      {
        "duration": 308,
        "start_time": "2023-05-25T07:10:15.767Z"
      },
      {
        "duration": 1422,
        "start_time": "2023-05-25T07:19:28.811Z"
      },
      {
        "duration": 775,
        "start_time": "2023-05-25T07:19:30.235Z"
      },
      {
        "duration": 6,
        "start_time": "2023-05-25T07:19:31.012Z"
      },
      {
        "duration": 916,
        "start_time": "2023-05-25T07:19:31.020Z"
      },
      {
        "duration": 347,
        "start_time": "2023-05-25T07:19:31.939Z"
      },
      {
        "duration": 38,
        "start_time": "2023-05-25T07:19:32.288Z"
      },
      {
        "duration": 401,
        "start_time": "2023-05-25T07:19:32.328Z"
      },
      {
        "duration": 31,
        "start_time": "2023-05-25T07:19:32.732Z"
      },
      {
        "duration": 44,
        "start_time": "2023-05-25T07:19:32.764Z"
      },
      {
        "duration": 676,
        "start_time": "2023-05-25T07:19:32.810Z"
      },
      {
        "duration": 71,
        "start_time": "2023-05-25T07:19:33.487Z"
      },
      {
        "duration": 42,
        "start_time": "2023-05-25T07:19:33.559Z"
      },
      {
        "duration": 8,
        "start_time": "2023-05-25T07:19:33.603Z"
      },
      {
        "duration": 137,
        "start_time": "2023-05-25T07:19:33.614Z"
      },
      {
        "duration": 65,
        "start_time": "2023-05-25T07:19:33.753Z"
      },
      {
        "duration": 238,
        "start_time": "2023-05-25T07:19:33.820Z"
      },
      {
        "duration": 76,
        "start_time": "2023-05-25T07:19:34.061Z"
      },
      {
        "duration": 23,
        "start_time": "2023-05-25T07:19:34.150Z"
      },
      {
        "duration": 42,
        "start_time": "2023-05-25T07:19:34.176Z"
      },
      {
        "duration": 78,
        "start_time": "2023-05-25T07:19:34.219Z"
      },
      {
        "duration": 45,
        "start_time": "2023-05-25T07:19:34.299Z"
      },
      {
        "duration": 57,
        "start_time": "2023-05-25T07:19:34.349Z"
      },
      {
        "duration": 40,
        "start_time": "2023-05-25T07:19:34.408Z"
      },
      {
        "duration": 39,
        "start_time": "2023-05-25T07:19:34.450Z"
      },
      {
        "duration": 45,
        "start_time": "2023-05-25T07:19:34.491Z"
      },
      {
        "duration": 32,
        "start_time": "2023-05-25T07:19:34.537Z"
      },
      {
        "duration": 434,
        "start_time": "2023-05-25T07:19:34.570Z"
      },
      {
        "duration": 5,
        "start_time": "2023-05-25T07:19:35.005Z"
      },
      {
        "duration": 203,
        "start_time": "2023-05-25T07:19:35.012Z"
      },
      {
        "duration": 47,
        "start_time": "2023-05-25T07:19:35.216Z"
      },
      {
        "duration": 192,
        "start_time": "2023-05-25T07:19:35.264Z"
      },
      {
        "duration": 625,
        "start_time": "2023-05-25T07:19:35.458Z"
      },
      {
        "duration": 38,
        "start_time": "2023-05-25T07:19:36.084Z"
      },
      {
        "duration": 215,
        "start_time": "2023-05-25T07:19:36.124Z"
      },
      {
        "duration": 511,
        "start_time": "2023-05-25T07:19:36.341Z"
      },
      {
        "duration": 271,
        "start_time": "2023-05-25T07:19:36.853Z"
      },
      {
        "duration": 10,
        "start_time": "2023-05-25T07:19:37.126Z"
      },
      {
        "duration": 64,
        "start_time": "2023-05-25T07:19:37.149Z"
      },
      {
        "duration": 488,
        "start_time": "2023-05-25T07:19:37.214Z"
      },
      {
        "duration": 98,
        "start_time": "2023-05-25T07:19:37.704Z"
      },
      {
        "duration": 597,
        "start_time": "2023-05-25T07:19:37.806Z"
      },
      {
        "duration": 10748,
        "start_time": "2023-05-25T07:19:38.405Z"
      },
      {
        "duration": 5,
        "start_time": "2023-05-25T07:19:49.155Z"
      },
      {
        "duration": 6,
        "start_time": "2023-05-25T07:19:49.250Z"
      },
      {
        "duration": 10667,
        "start_time": "2023-05-25T07:19:49.258Z"
      },
      {
        "duration": 4,
        "start_time": "2023-05-25T07:19:59.927Z"
      },
      {
        "duration": 141727,
        "start_time": "2023-05-25T07:19:59.933Z"
      },
      {
        "duration": 4,
        "start_time": "2023-05-25T07:22:21.662Z"
      },
      {
        "duration": 9,
        "start_time": "2023-05-25T07:22:21.668Z"
      },
      {
        "duration": 8,
        "start_time": "2023-05-25T07:22:21.679Z"
      },
      {
        "duration": 17,
        "start_time": "2023-05-25T07:22:21.689Z"
      },
      {
        "duration": 1972,
        "start_time": "2023-05-25T07:22:21.708Z"
      },
      {
        "duration": 20474,
        "start_time": "2023-05-25T07:22:23.681Z"
      },
      {
        "duration": 8,
        "start_time": "2023-05-25T07:22:44.157Z"
      },
      {
        "duration": 393,
        "start_time": "2023-05-25T07:22:44.167Z"
      }
    ],
    "kernelspec": {
      "display_name": "Python 3 (ipykernel)",
      "language": "python",
      "name": "python3"
    },
    "language_info": {
      "codemirror_mode": {
        "name": "ipython",
        "version": 3
      },
      "file_extension": ".py",
      "mimetype": "text/x-python",
      "name": "python",
      "nbconvert_exporter": "python",
      "pygments_lexer": "ipython3",
      "version": "3.9.5"
    },
    "toc": {
      "base_numbering": 1,
      "nav_menu": {},
      "number_sections": true,
      "sideBar": true,
      "skip_h1_title": true,
      "title_cell": "Table of Contents",
      "title_sidebar": "Contents",
      "toc_cell": false,
      "toc_position": {},
      "toc_section_display": true,
      "toc_window_display": false
    },
    "colab": {
      "provenance": [],
      "include_colab_link": true
    }
  },
  "nbformat": 4,
  "nbformat_minor": 0
}
