{
  "cells": [
    {
      "cell_type": "markdown",
      "metadata": {
        "id": "view-in-github",
        "colab_type": "text"
      },
      "source": [
        "<a href=\"https://colab.research.google.com/github/svfrolov/YP-project/blob/main/%E2%84%9610_%D0%97%D0%B0%D1%89%D0%B8%D1%82%D0%B0_%D0%BF%D0%B5%D1%80%D1%81%D0%BE%D0%BD%D0%B0%D0%BB%D1%8C%D0%BD%D1%8B%D1%85_%D0%B4%D0%B0%D0%BD%D0%BD%D1%8B%D1%85_%D0%BA%D0%BB%D0%B8%D0%B5%D0%BD%D1%82%D0%BE%D0%B2.ipynb\" target=\"_parent\"><img src=\"https://colab.research.google.com/assets/colab-badge.svg\" alt=\"Open In Colab\"/></a>"
      ]
    },
    {
      "cell_type": "markdown",
      "metadata": {
        "toc": true,
        "id": "1_NMoic_eJxy"
      },
      "source": [
        "<h1>Содержание<span class=\"tocSkip\"></span></h1>\n",
        "<div class=\"toc\"><ul class=\"toc-item\"><li><span><a href=\"#Загрузка-данных\" data-toc-modified-id=\"Загрузка-данных-1\"><span class=\"toc-item-num\">1&nbsp;&nbsp;</span>Загрузка данных</a></span></li><li><span><a href=\"#Умножение-матриц\" data-toc-modified-id=\"Умножение-матриц-2\"><span class=\"toc-item-num\">2&nbsp;&nbsp;</span>Умножение матриц</a></span></li><li><span><a href=\"#Алгоритм-преобразования\" data-toc-modified-id=\"Алгоритм-преобразования-3\"><span class=\"toc-item-num\">3&nbsp;&nbsp;</span>Алгоритм преобразования</a></span></li><li><span><a href=\"#Проверка-алгоритма\" data-toc-modified-id=\"Проверка-алгоритма-4\"><span class=\"toc-item-num\">4&nbsp;&nbsp;</span>Проверка алгоритма</a></span></li><li><span><a href=\"#Чек-лист-проверки\" data-toc-modified-id=\"Чек-лист-проверки-5\"><span class=\"toc-item-num\">5&nbsp;&nbsp;</span>Чек-лист проверки</a></span></li></ul></div>"
      ]
    },
    {
      "cell_type": "markdown",
      "metadata": {
        "id": "LXW7-aI6eJx5"
      },
      "source": [
        "# Защита персональных данных клиентов"
      ]
    },
    {
      "cell_type": "markdown",
      "metadata": {
        "id": "S9n4lKH0eJx6"
      },
      "source": [
        "# Описание проекта"
      ]
    },
    {
      "cell_type": "markdown",
      "metadata": {
        "id": "KHRov3k8eJx7"
      },
      "source": [
        "Вам нужно защитить данные клиентов страховой компании «Хоть потоп». Разработайте такой метод преобразования данных, чтобы по ним было сложно восстановить персональную информацию. Обоснуйте корректность его работы.\n",
        "\n",
        "Нужно защитить данные, чтобы при преобразовании качество моделей машинного обучения не ухудшилось. Подбирать наилучшую модель не требуется."
      ]
    },
    {
      "cell_type": "markdown",
      "metadata": {
        "id": "ko6EHiggeJx8"
      },
      "source": [
        "# Инструкция по выполнению проекта:"
      ]
    },
    {
      "cell_type": "markdown",
      "metadata": {
        "id": "7O5FMfT4eJx8"
      },
      "source": [
        "1. Загрузите и изучите данные.\n",
        "\n",
        "\n",
        "2. Ответьте на вопрос и обоснуйте решение.\n",
        "\n",
        "\n",
        "* Признаки умножают на обратимую матрицу. Изменится ли качество линейной регрессии? (Её можно обучить заново.)\n",
        "\n",
        "  * a. `Изменится.` Приведите примеры матриц.\n",
        "  * b. `Не изменится.` Укажите, как связаны параметры линейной регрессии в исходной задаче и в преобразованной.\n",
        "\n",
        "\n",
        "3. Предложите алгоритм преобразования данных для решения задачи. Обоснуйте, почему качество линейной регрессии не поменяется.\n",
        "\n",
        "\n",
        "4.  Запрограммируйте этот алгоритм, применив матричные операции. Проверьте, что качество линейной регрессии из sklearn не отличается до и после преобразования. `Примените метрику R2.`"
      ]
    },
    {
      "cell_type": "markdown",
      "metadata": {
        "id": "85h8IXareJx9"
      },
      "source": [
        "# Описание данных"
      ]
    },
    {
      "cell_type": "markdown",
      "metadata": {
        "id": "8CvfEFOseJx-"
      },
      "source": [
        "* Набор данных находится в файле `/datasets/insurance.csv.`\n",
        "\n",
        "\n",
        "* Признаки: пол, возраст и зарплата застрахованного, количество членов его семьи.\n",
        "\n",
        "\n",
        "* `Целевой признак:` количество страховых выплат клиенту за последние 5 лет."
      ]
    },
    {
      "cell_type": "markdown",
      "metadata": {
        "id": "AHkdQDAceJx_"
      },
      "source": [
        "## Загрузка данных"
      ]
    },
    {
      "cell_type": "code",
      "execution_count": null,
      "metadata": {
        "id": "V-RgCH9VeJyB"
      },
      "outputs": [],
      "source": [
        "import pandas as pd\n",
        "import pandas as np\n",
        "import matplotlib.pyplot as plt\n",
        "import seaborn as sns\n",
        "from sklearn.metrics import r2_score\n",
        "from sklearn.model_selection import train_test_split\n",
        "from sklearn.linear_model import LinearRegression"
      ]
    },
    {
      "cell_type": "code",
      "execution_count": null,
      "metadata": {
        "id": "FkISxybPeJyE"
      },
      "outputs": [],
      "source": [
        "try:\n",
        "    df = pd.read_csv('C:/Users/fs//Desktop/Проект.2/insurance.csv') \n",
        "except:\n",
        "    df = pd.read_csv('/datasets/insurance.csv')"
      ]
    },
    {
      "cell_type": "code",
      "execution_count": null,
      "metadata": {
        "id": "j49HnXeZeJyE",
        "outputId": "62947f91-2269-444d-a805-51e2e44979be"
      },
      "outputs": [
        {
          "data": {
            "text/html": [
              "<div>\n",
              "<style scoped>\n",
              "    .dataframe tbody tr th:only-of-type {\n",
              "        vertical-align: middle;\n",
              "    }\n",
              "\n",
              "    .dataframe tbody tr th {\n",
              "        vertical-align: top;\n",
              "    }\n",
              "\n",
              "    .dataframe thead th {\n",
              "        text-align: right;\n",
              "    }\n",
              "</style>\n",
              "<table border=\"1\" class=\"dataframe\">\n",
              "  <thead>\n",
              "    <tr style=\"text-align: right;\">\n",
              "      <th></th>\n",
              "      <th>Пол</th>\n",
              "      <th>Возраст</th>\n",
              "      <th>Зарплата</th>\n",
              "      <th>Члены семьи</th>\n",
              "      <th>Страховые выплаты</th>\n",
              "    </tr>\n",
              "  </thead>\n",
              "  <tbody>\n",
              "    <tr>\n",
              "      <th>0</th>\n",
              "      <td>1</td>\n",
              "      <td>41.0</td>\n",
              "      <td>49600.0</td>\n",
              "      <td>1</td>\n",
              "      <td>0</td>\n",
              "    </tr>\n",
              "    <tr>\n",
              "      <th>1</th>\n",
              "      <td>0</td>\n",
              "      <td>46.0</td>\n",
              "      <td>38000.0</td>\n",
              "      <td>1</td>\n",
              "      <td>1</td>\n",
              "    </tr>\n",
              "    <tr>\n",
              "      <th>2</th>\n",
              "      <td>0</td>\n",
              "      <td>29.0</td>\n",
              "      <td>21000.0</td>\n",
              "      <td>0</td>\n",
              "      <td>0</td>\n",
              "    </tr>\n",
              "    <tr>\n",
              "      <th>3</th>\n",
              "      <td>0</td>\n",
              "      <td>21.0</td>\n",
              "      <td>41700.0</td>\n",
              "      <td>2</td>\n",
              "      <td>0</td>\n",
              "    </tr>\n",
              "    <tr>\n",
              "      <th>4</th>\n",
              "      <td>1</td>\n",
              "      <td>28.0</td>\n",
              "      <td>26100.0</td>\n",
              "      <td>0</td>\n",
              "      <td>0</td>\n",
              "    </tr>\n",
              "  </tbody>\n",
              "</table>\n",
              "</div>"
            ],
            "text/plain": [
              "   Пол  Возраст  Зарплата  Члены семьи  Страховые выплаты\n",
              "0    1     41.0   49600.0            1                  0\n",
              "1    0     46.0   38000.0            1                  1\n",
              "2    0     29.0   21000.0            0                  0\n",
              "3    0     21.0   41700.0            2                  0\n",
              "4    1     28.0   26100.0            0                  0"
            ]
          },
          "execution_count": 3,
          "metadata": {},
          "output_type": "execute_result"
        }
      ],
      "source": [
        "df.head()"
      ]
    },
    {
      "cell_type": "code",
      "execution_count": null,
      "metadata": {
        "id": "8Kn18LVmeJyG",
        "outputId": "a53dfeb6-deea-49ff-9358-313b597ee400"
      },
      "outputs": [
        {
          "name": "stdout",
          "output_type": "stream",
          "text": [
            "Дублкаты -  153\n"
          ]
        }
      ],
      "source": [
        "print('Дублкаты - ', df.duplicated().sum())"
      ]
    },
    {
      "cell_type": "markdown",
      "metadata": {
        "id": "MWESLUwWeJyH"
      },
      "source": [
        "дубликаты не должны повлиять, не удаляем"
      ]
    },
    {
      "cell_type": "markdown",
      "metadata": {
        "id": "D-EcWdKCeJyH"
      },
      "source": [
        "Пропуски в данных отсутствуют\n"
      ]
    },
    {
      "cell_type": "code",
      "execution_count": null,
      "metadata": {
        "id": "vkDmEFSFeJyI",
        "outputId": "cd0045fa-107b-4bc4-942f-2df6a4aebb24"
      },
      "outputs": [
        {
          "data": {
            "image/png": "[encoded data removed]",
            "text/plain": [
              "<Figure size 1440x1008 with 2 Axes>"
            ]
          },
          "metadata": {
            "needs_background": "light"
          },
          "output_type": "display_data"
        }
      ],
      "source": [
        "cr = df.corr()\n",
        "plt.figure(figsize=(20,14))\n",
        "sns.heatmap(cr, annot = True, cmap=\"YlGnBu\", square=False)\n",
        "\n",
        "plt.title('Корреляция признаков', fontsize = 20)\n",
        "plt.xlabel('Признаки', fontsize = 20)\n",
        "plt.ylabel('Признаки', fontsize = 20)\n",
        "plt.show()"
      ]
    },
    {
      "cell_type": "code",
      "execution_count": null,
      "metadata": {
        "id": "_k6SuaBLeJyJ",
        "outputId": "ed4f2073-ed05-400e-e810-b9d2b8a2dfd5"
      },
      "outputs": [
        {
          "data": {
            "image/png": "[encoded data removed]",
            "text/plain": [
              "<Figure size 1080x1440 with 6 Axes>"
            ]
          },
          "metadata": {
            "needs_background": "light"
          },
          "output_type": "display_data"
        }
      ],
      "source": [
        "df.hist(figsize=(15, 20));"
      ]
    },
    {
      "cell_type": "markdown",
      "metadata": {
        "id": "kjwLl50teJyJ"
      },
      "source": [
        "Вывод:\n",
        "\n",
        "Проблем, которые могут повлиять на дальнейшие расчеты не выявлено.\n",
        "Данные оставляем в таком виде"
      ]
    },
    {
      "cell_type": "markdown",
      "metadata": {
        "id": "NEn-VyMaeJyK"
      },
      "source": [
        "## Умножение матриц"
      ]
    },
    {
      "cell_type": "markdown",
      "metadata": {
        "id": "lrULT2fteJyK"
      },
      "source": [
        "В этом задании вы можете записывать формулы в *Jupyter Notebook.*\n",
        "\n",
        "Чтобы записать формулу внутри текста, окружите её символами доллара \\\\$; если снаружи —  двойными символами \\\\$\\\\$. Эти формулы записываются на языке вёрстки *LaTeX.* \n",
        "\n",
        "Для примера мы записали формулы линейной регрессии. Можете их скопировать и отредактировать, чтобы решить задачу.\n",
        "\n",
        "Работать в *LaTeX* необязательно."
      ]
    },
    {
      "cell_type": "markdown",
      "metadata": {
        "id": "VK8RRk_veJyL"
      },
      "source": [
        "Обозначения:\n",
        "\n",
        "- $X$ — матрица признаков (нулевой столбец состоит из единиц)\n",
        "\n",
        "- $y$ — вектор целевого признака\n",
        "\n",
        "- $P$ — матрица, на которую умножаются признаки\n",
        "\n",
        "- $w$ — вектор весов линейной регрессии (нулевой элемент равен сдвигу)"
      ]
    },
    {
      "cell_type": "markdown",
      "metadata": {
        "id": "7jQ44M3GeJyM"
      },
      "source": [
        "Предсказания:\n",
        "\n",
        "$$\n",
        "a = Xw\n",
        "$$\n",
        "\n",
        "Задача обучения:\n",
        "\n",
        "$$\n",
        "w = \\arg\\min_w MSE(Xw, y)\n",
        "$$\n",
        "\n",
        "Формула обучения:\n",
        "\n",
        "$$\n",
        "w = (X^T X)^{-1} X^T y\n",
        "$$"
      ]
    },
    {
      "cell_type": "markdown",
      "metadata": {
        "id": "7DVEaA2ieJyM"
      },
      "source": [
        "**Признаки умножают на обратимую матрицу. Изменится ли качество линейной регрессии? (Её можно обучить заново.)**\n",
        "\n",
        "**Ответ:** - Не изменится\n",
        "\n",
        "**Обоснование:** \n",
        "\n",
        "**Тфк как формула предсказания линейной регрессии**\n",
        "$$\n",
        "a = Xw\n",
        "$$\n",
        "\n",
        "**То для модели на преобразованных признаках**\n",
        "**Где \"Р\" случайная обратимая матрица**\n",
        "\n",
        "$$\n",
        "a`= X`w`=(XP)w`\n",
        "$$\n",
        "\n",
        "**Необходимо доказать**\n",
        "\n",
        "$$\n",
        "a = a`\n",
        "$$\n",
        "\n",
        "**В формулу обучения** \n",
        "$$\n",
        "w = (X^T X)^{-1} X^T y\n",
        "$$\n",
        "\n",
        "**Запишем для**\n",
        "\n",
        "$$\n",
        "w`\n",
        "$$\n",
        "\n",
        "\n",
        "**Вместо \"Х\" подставим \"ХР\"**\n",
        "\n",
        "$$\n",
        "w` = ((XP)^T(XP))^{-1}(XP)^Ty\n",
        "$$\n",
        "\n",
        "$$\n",
        "w` = (XP^TXP)^{-1}XP^Ty\n",
        "$$\n",
        "\n",
        "$$\n",
        "w` = (P^T(X^TX)P)^{-1}P^TX^Ty\n",
        "$$\n",
        "\n",
        "$$\n",
        "w` = (P^TX^TXP)^{-1}P^TX^Ty\n",
        "$$\n",
        "\n",
        "**При умножении матрицы на обратную получим единичную E**\n",
        "\n",
        "$$\n",
        "(P^T)^{-1}P^T = E\n",
        "$$\n",
        "\n",
        "$$\n",
        "w` = (X^TX)^{-1}EP^{-1}X^Ty\n",
        "$$\n",
        "\n",
        "**При умножении любой матрицы на единичную, получится та же самая:**\n",
        "\n",
        "$$\n",
        "w` = (X^TX)^{-1}P^{-1}X^Ty\n",
        "$$\n",
        "\n",
        "**Получается:**\n",
        "\n",
        "$$\n",
        "w` = P^{-1}w\n",
        "$$\n",
        "\n",
        "**т.к. из условия**\n",
        "\n",
        "$$\n",
        "w = (X^T X)^{-1} X^T y\n",
        "$$\n",
        "\n",
        "**Подставляем найденное** $$\"w`\"$$ \n",
        "\n",
        "**в формулу для** $$\"a`\"$$\n",
        "\n",
        "$$\n",
        "a` = X(P^{-1}w)\n",
        "$$\n",
        "\n",
        "$$\n",
        "a` = XP(P^{-1}w)\n",
        "$$\n",
        "\n",
        "**Сократим** \n",
        "$$P$$ и $$P^{-1}\n",
        "$$\n",
        "\n",
        "$$\n",
        "a` = X`w`\n",
        "$$\n",
        "\n",
        "$$\n",
        "a = a`\n",
        "$$\n",
        "\n",
        "**Ч.Т.Д.**\n",
        "\n",
        "**Вывод:**\n",
        "\n",
        "**Это и требовалось доказать** \n",
        "\n",
        "**Качество линейной регресси не изменится**"
      ]
    },
    {
      "cell_type": "markdown",
      "metadata": {
        "id": "EGPzDFPteJyN"
      },
      "source": [
        "## Алгоритм преобразования"
      ]
    },
    {
      "cell_type": "markdown",
      "metadata": {
        "id": "rXEd8uvceJyN"
      },
      "source": [
        "**Алгоритм**\n",
        "\n",
        "**Умножим матрицу признаков на обратимую ей, в которой случные величины**"
      ]
    },
    {
      "cell_type": "markdown",
      "metadata": {
        "id": "ph8ClS9_eJyN"
      },
      "source": [
        "**Обоснование**"
      ]
    },
    {
      "cell_type": "code",
      "execution_count": null,
      "metadata": {
        "id": "h4ghZmX9eJyO"
      },
      "outputs": [],
      "source": [
        "features = df.drop(['Страховые выплаты'], axis=1)\n",
        "target = df['Страховые выплаты']"
      ]
    },
    {
      "cell_type": "code",
      "execution_count": null,
      "metadata": {
        "id": "B_O3igwLeJyO"
      },
      "outputs": [],
      "source": [
        "import numpy as np\n",
        "r_matr = np.random.normal(size=(4, 4))"
      ]
    },
    {
      "cell_type": "markdown",
      "metadata": {
        "id": "2-uFCL0ZeJyP"
      },
      "source": [
        "созали рандомную"
      ]
    },
    {
      "cell_type": "code",
      "execution_count": null,
      "metadata": {
        "id": "re_aoZ2xeJyP",
        "outputId": "bc28cdc4-72b3-4814-a355-c609c2b35b20"
      },
      "outputs": [
        {
          "name": "stdout",
          "output_type": "stream",
          "text": [
            "\n",
            "Обратная матрица к заданной существует\n"
          ]
        }
      ],
      "source": [
        "try:\n",
        "    inv_matrix = np.linalg.inv(r_matr)\n",
        "    print('\\nОбратная матрица к заданной существует')\n",
        "except:\n",
        "    print('\\nОбратная матрица к заданной не существует')"
      ]
    },
    {
      "cell_type": "markdown",
      "metadata": {
        "id": "2ywDKpVQeJyQ"
      },
      "source": [
        "**Исходные параметры**\n",
        "\n",
        "$$\n",
        "a = Xw\n",
        "$$\n",
        "\n",
        "$$\n",
        "w = (X^TX)^{-1}X^Ty\n",
        "$$"
      ]
    },
    {
      "cell_type": "code",
      "execution_count": null,
      "metadata": {
        "id": "G3pB_fCteJyQ"
      },
      "outputs": [],
      "source": [
        "w = np.linalg.inv(features.T.dot(features)).dot(features.T).dot(target)\n",
        "a = features @ w"
      ]
    },
    {
      "cell_type": "markdown",
      "metadata": {
        "id": "EgQJTHM_eJyR"
      },
      "source": [
        "**Новые параметры**"
      ]
    },
    {
      "cell_type": "code",
      "execution_count": null,
      "metadata": {
        "id": "zZ-tjWw7eJyR"
      },
      "outputs": [],
      "source": [
        "features_u = features @ r_matr\n",
        "w2 = np.linalg.inv(features_u.T.dot(features_u)).dot(features_u.T).dot(target)\n",
        "a2 = features_u @ w2"
      ]
    },
    {
      "cell_type": "code",
      "execution_count": null,
      "metadata": {
        "id": "bQFTliK_eJyU"
      },
      "outputs": [],
      "source": [
        "variance = a - a2"
      ]
    },
    {
      "cell_type": "code",
      "execution_count": null,
      "metadata": {
        "id": "CbqmNSkQeJyV",
        "outputId": "47781bf1-98ad-4435-e162-ffc0673a8b2b"
      },
      "outputs": [
        {
          "data": {
            "text/plain": [
              "-0.010823619323548174"
            ]
          },
          "execution_count": 13,
          "metadata": {},
          "output_type": "execute_result"
        }
      ],
      "source": [
        "variance.sum()"
      ]
    },
    {
      "cell_type": "markdown",
      "metadata": {
        "id": "KHRNnoRheJyW"
      },
      "source": [
        "**Разницы нет**"
      ]
    },
    {
      "cell_type": "markdown",
      "metadata": {
        "id": "obzi7YVHeJyX"
      },
      "source": [
        "**Вывод:**\n",
        "\n",
        "**При использовании исходных и новых параметров разницы минимально. Качество предсказаний не ухудшится**"
      ]
    },
    {
      "cell_type": "markdown",
      "metadata": {
        "id": "6hRz6DOTeJyY"
      },
      "source": [
        "## Проверка алгоритма"
      ]
    },
    {
      "cell_type": "code",
      "execution_count": null,
      "metadata": {
        "id": "kVkK6uIVeJyi"
      },
      "outputs": [],
      "source": [
        "class ConstantRegression:\n",
        "    def model_fit(self, features, target):\n",
        "        self.model = LinearRegression()\n",
        "        self.model.fit(features, target)\n",
        "        \n",
        "    def predict_result(self, features):\n",
        "        result = self.model.predict(features)\n",
        "        return result\n",
        "        \n",
        "    def get_r2_score(self, target, predict):\n",
        "        r2 = r2_score(target, predict)\n",
        "        return r2  "
      ]
    },
    {
      "cell_type": "markdown",
      "metadata": {
        "id": "K0KCzWM9eJyj"
      },
      "source": [
        "**Для исходных параметров**"
      ]
    },
    {
      "cell_type": "code",
      "execution_count": null,
      "metadata": {
        "id": "iw3LA6S7eJyj"
      },
      "outputs": [],
      "source": [
        "model1 = ConstantRegression()\n",
        "model1.model_fit(features, target)\n",
        "predict_features_t = model1.predict_result(features)\n",
        "r2_features_t = model1.get_r2_score(target, predict_features_t)"
      ]
    },
    {
      "cell_type": "markdown",
      "metadata": {
        "id": "j4o3gajceJyk"
      },
      "source": [
        "**Умножим на обратимую матрицу**"
      ]
    },
    {
      "cell_type": "code",
      "execution_count": null,
      "metadata": {
        "id": "yaW2TWmaeJyk"
      },
      "outputs": [],
      "source": [
        "model2 = ConstantRegression()\n",
        "model2.model_fit(features_u, target)\n",
        "predict_features_u = model2.predict_result(features_u)\n",
        "r2_features_u = model2.get_r2_score(target, predict_features_u)"
      ]
    },
    {
      "cell_type": "code",
      "execution_count": null,
      "metadata": {
        "id": "nE7OvxrxeJyl",
        "outputId": "889b692d-b753-42b2-b6a1-a6f13035b44f"
      },
      "outputs": [
        {
          "name": "stdout",
          "output_type": "stream",
          "text": [
            "r2 исходные   - 0.4249455028666801\n",
            "r2 х обр матр - 0.42494550286664756\n"
          ]
        }
      ],
      "source": [
        "print('r2 исходные   -', r2_features_t)\n",
        "print('r2 х обр матр -', r2_features_u)"
      ]
    },
    {
      "cell_type": "markdown",
      "metadata": {
        "id": "VBr5ExMzeJyn"
      },
      "source": [
        "**Разница не существенна**"
      ]
    },
    {
      "cell_type": "markdown",
      "metadata": {
        "id": "FaRCEwgQeJyo"
      },
      "source": [
        "**Вывод:**\n",
        "\n",
        "**При умножении на обратимую матрицу качество не меняется**"
      ]
    },
    {
      "cell_type": "markdown",
      "metadata": {
        "id": "Fh4uQhuBeJyp"
      },
      "source": [
        "**Итоговый вывод**\n",
        "\n",
        "***В ходе работы было проделано:***\n",
        "\n",
        "* Загружены и изучены данные. Проблем, которые могут повлиять на дальнейшие расчеты не выявлено. Выявлены дубликаты, но они не повлияли на работу.\n",
        "\n",
        "\n",
        "* Качество линейной регресии не изменилось от использования исодной матрицы, умноженную на обратимую.\n",
        "\n",
        "\n",
        "* Создали алгоритм преобразования данных.\n",
        "\n",
        "\n",
        "* Исследован преобразование данных и проверели метрику R2 для данных.\n",
        "\n",
        "\n",
        "* По результатам использования матричных операций можно увидеть, что данные очень просто зашифровать от распознования, имея правильную матрицу."
      ]
    }
  ],
  "metadata": {
    "ExecuteTimeLog": [
      {
        "duration": 392,
        "start_time": "2023-04-30T05:12:35.973Z"
      },
      {
        "duration": 121,
        "start_time": "2023-04-30T05:12:37.196Z"
      },
      {
        "duration": 57,
        "start_time": "2023-04-30T05:13:09.321Z"
      },
      {
        "duration": 26,
        "start_time": "2023-04-30T05:13:21.883Z"
      },
      {
        "duration": 9,
        "start_time": "2023-04-30T05:13:54.007Z"
      },
      {
        "duration": 963,
        "start_time": "2023-04-30T05:15:32.508Z"
      },
      {
        "duration": 10,
        "start_time": "2023-04-30T05:20:31.993Z"
      },
      {
        "duration": 24,
        "start_time": "2023-04-30T05:21:14.700Z"
      },
      {
        "duration": 3,
        "start_time": "2023-04-30T05:22:00.229Z"
      },
      {
        "duration": 111,
        "start_time": "2023-04-30T05:22:00.463Z"
      },
      {
        "duration": 9,
        "start_time": "2023-04-30T05:22:01.023Z"
      },
      {
        "duration": 83,
        "start_time": "2023-04-30T05:22:01.585Z"
      },
      {
        "duration": 515,
        "start_time": "2023-04-30T05:22:30.973Z"
      },
      {
        "duration": 74,
        "start_time": "2023-04-30T05:22:31.490Z"
      },
      {
        "duration": 12,
        "start_time": "2023-04-30T05:22:31.565Z"
      },
      {
        "duration": 432,
        "start_time": "2023-04-30T05:22:31.716Z"
      },
      {
        "duration": 429,
        "start_time": "2023-04-30T05:23:32.876Z"
      },
      {
        "duration": 750,
        "start_time": "2023-04-30T05:24:06.815Z"
      },
      {
        "duration": 1126,
        "start_time": "2023-04-30T05:25:42.923Z"
      },
      {
        "duration": 62,
        "start_time": "2023-04-30T05:25:44.051Z"
      },
      {
        "duration": 13,
        "start_time": "2023-04-30T05:25:44.116Z"
      },
      {
        "duration": 535,
        "start_time": "2023-04-30T05:25:44.132Z"
      },
      {
        "duration": 638,
        "start_time": "2023-04-30T05:25:44.669Z"
      },
      {
        "duration": 404,
        "start_time": "2023-04-30T05:26:55.483Z"
      },
      {
        "duration": 389,
        "start_time": "2023-04-30T05:27:05.423Z"
      },
      {
        "duration": 411,
        "start_time": "2023-04-30T05:27:27.933Z"
      },
      {
        "duration": 1120,
        "start_time": "2023-04-30T05:37:13.387Z"
      },
      {
        "duration": 64,
        "start_time": "2023-04-30T05:37:14.509Z"
      },
      {
        "duration": 12,
        "start_time": "2023-04-30T05:37:14.574Z"
      },
      {
        "duration": 435,
        "start_time": "2023-04-30T05:37:14.589Z"
      },
      {
        "duration": 585,
        "start_time": "2023-04-30T05:37:15.027Z"
      },
      {
        "duration": 8,
        "start_time": "2023-04-30T07:34:34.958Z"
      },
      {
        "duration": 1268,
        "start_time": "2023-04-30T07:39:00.763Z"
      },
      {
        "duration": 66,
        "start_time": "2023-04-30T07:39:02.034Z"
      },
      {
        "duration": 16,
        "start_time": "2023-04-30T07:39:02.102Z"
      },
      {
        "duration": 31,
        "start_time": "2023-04-30T07:39:02.120Z"
      },
      {
        "duration": 557,
        "start_time": "2023-04-30T07:39:02.154Z"
      },
      {
        "duration": 690,
        "start_time": "2023-04-30T07:39:02.713Z"
      },
      {
        "duration": 1110,
        "start_time": "2023-04-30T08:46:49.895Z"
      },
      {
        "duration": 66,
        "start_time": "2023-04-30T08:46:51.008Z"
      },
      {
        "duration": 14,
        "start_time": "2023-04-30T08:46:51.076Z"
      },
      {
        "duration": 6,
        "start_time": "2023-04-30T08:46:51.092Z"
      },
      {
        "duration": 460,
        "start_time": "2023-04-30T08:46:51.100Z"
      },
      {
        "duration": 661,
        "start_time": "2023-04-30T08:46:51.562Z"
      },
      {
        "duration": 7,
        "start_time": "2023-04-30T09:43:08.894Z"
      },
      {
        "duration": 104,
        "start_time": "2023-04-30T09:43:09.516Z"
      },
      {
        "duration": 331,
        "start_time": "2023-04-30T09:43:55.439Z"
      },
      {
        "duration": 1566,
        "start_time": "2023-04-30T09:44:00.503Z"
      },
      {
        "duration": 81,
        "start_time": "2023-04-30T09:44:02.071Z"
      },
      {
        "duration": 15,
        "start_time": "2023-04-30T09:44:02.154Z"
      },
      {
        "duration": 44,
        "start_time": "2023-04-30T09:44:02.170Z"
      },
      {
        "duration": 513,
        "start_time": "2023-04-30T09:44:02.217Z"
      },
      {
        "duration": 707,
        "start_time": "2023-04-30T09:44:02.732Z"
      },
      {
        "duration": 4,
        "start_time": "2023-04-30T09:44:03.441Z"
      },
      {
        "duration": 181,
        "start_time": "2023-04-30T09:44:03.447Z"
      },
      {
        "duration": 13,
        "start_time": "2023-04-30T09:45:15.133Z"
      },
      {
        "duration": 15,
        "start_time": "2023-04-30T09:45:53.492Z"
      },
      {
        "duration": 11,
        "start_time": "2023-04-30T09:48:38.118Z"
      },
      {
        "duration": 20,
        "start_time": "2023-04-30T09:50:30.920Z"
      },
      {
        "duration": 11,
        "start_time": "2023-04-30T09:51:09.838Z"
      },
      {
        "duration": 11,
        "start_time": "2023-04-30T09:52:06.030Z"
      },
      {
        "duration": 1519,
        "start_time": "2023-04-30T09:52:17.964Z"
      },
      {
        "duration": 68,
        "start_time": "2023-04-30T09:52:19.485Z"
      },
      {
        "duration": 13,
        "start_time": "2023-04-30T09:52:19.555Z"
      },
      {
        "duration": 6,
        "start_time": "2023-04-30T09:52:19.570Z"
      },
      {
        "duration": 511,
        "start_time": "2023-04-30T09:52:19.579Z"
      },
      {
        "duration": 691,
        "start_time": "2023-04-30T09:52:20.098Z"
      },
      {
        "duration": 16,
        "start_time": "2023-04-30T09:52:20.794Z"
      },
      {
        "duration": 125,
        "start_time": "2023-04-30T09:52:20.812Z"
      },
      {
        "duration": 11,
        "start_time": "2023-04-30T09:53:00.210Z"
      },
      {
        "duration": 7,
        "start_time": "2023-04-30T09:53:06.802Z"
      },
      {
        "duration": 1438,
        "start_time": "2023-04-30T09:53:17.012Z"
      },
      {
        "duration": 75,
        "start_time": "2023-04-30T09:53:18.452Z"
      },
      {
        "duration": 14,
        "start_time": "2023-04-30T09:53:18.528Z"
      },
      {
        "duration": 6,
        "start_time": "2023-04-30T09:53:18.544Z"
      },
      {
        "duration": 513,
        "start_time": "2023-04-30T09:53:18.552Z"
      },
      {
        "duration": 680,
        "start_time": "2023-04-30T09:53:19.067Z"
      },
      {
        "duration": 4,
        "start_time": "2023-04-30T09:53:19.748Z"
      },
      {
        "duration": 6,
        "start_time": "2023-04-30T09:53:19.754Z"
      },
      {
        "duration": 15,
        "start_time": "2023-04-30T09:53:55.928Z"
      },
      {
        "duration": 128,
        "start_time": "2023-04-30T09:54:29.414Z"
      },
      {
        "duration": 13,
        "start_time": "2023-04-30T09:54:58.821Z"
      },
      {
        "duration": 4,
        "start_time": "2023-04-30T09:55:59.381Z"
      },
      {
        "duration": 5,
        "start_time": "2023-04-30T09:56:09.563Z"
      },
      {
        "duration": 5,
        "start_time": "2023-04-30T09:56:18.701Z"
      },
      {
        "duration": 4,
        "start_time": "2023-04-30T09:56:19.124Z"
      },
      {
        "duration": 16,
        "start_time": "2023-04-30T09:56:20.043Z"
      },
      {
        "duration": 6,
        "start_time": "2023-04-30T09:56:20.473Z"
      },
      {
        "duration": 3,
        "start_time": "2023-04-30T09:56:20.963Z"
      },
      {
        "duration": 5,
        "start_time": "2023-04-30T09:56:21.412Z"
      },
      {
        "duration": 4,
        "start_time": "2023-04-30T09:56:24.702Z"
      },
      {
        "duration": 3,
        "start_time": "2023-04-30T09:56:24.899Z"
      },
      {
        "duration": 8,
        "start_time": "2023-04-30T09:56:25.302Z"
      },
      {
        "duration": 5,
        "start_time": "2023-04-30T09:56:25.506Z"
      },
      {
        "duration": 3,
        "start_time": "2023-04-30T09:56:25.725Z"
      },
      {
        "duration": 5,
        "start_time": "2023-04-30T09:56:25.954Z"
      },
      {
        "duration": 4,
        "start_time": "2023-04-30T09:57:08.363Z"
      },
      {
        "duration": 3,
        "start_time": "2023-04-30T09:57:12.023Z"
      },
      {
        "duration": 3,
        "start_time": "2023-04-30T09:57:12.313Z"
      },
      {
        "duration": 4,
        "start_time": "2023-04-30T09:57:12.923Z"
      },
      {
        "duration": 8,
        "start_time": "2023-04-30T09:57:13.508Z"
      },
      {
        "duration": 8,
        "start_time": "2023-04-30T09:57:13.911Z"
      },
      {
        "duration": 3,
        "start_time": "2023-04-30T09:57:14.411Z"
      },
      {
        "duration": 4,
        "start_time": "2023-04-30T09:57:14.972Z"
      },
      {
        "duration": 5,
        "start_time": "2023-04-30T09:57:19.522Z"
      },
      {
        "duration": 4,
        "start_time": "2023-04-30T09:57:21.958Z"
      },
      {
        "duration": 9,
        "start_time": "2023-04-30T09:57:22.099Z"
      },
      {
        "duration": 7,
        "start_time": "2023-04-30T09:57:22.295Z"
      },
      {
        "duration": 91,
        "start_time": "2023-04-30T09:57:22.405Z"
      },
      {
        "duration": 5,
        "start_time": "2023-04-30T09:57:22.587Z"
      },
      {
        "duration": 1455,
        "start_time": "2023-04-30T09:57:28.427Z"
      },
      {
        "duration": 67,
        "start_time": "2023-04-30T09:57:29.884Z"
      },
      {
        "duration": 16,
        "start_time": "2023-04-30T09:57:29.954Z"
      },
      {
        "duration": 7,
        "start_time": "2023-04-30T09:57:29.973Z"
      },
      {
        "duration": 505,
        "start_time": "2023-04-30T09:57:29.982Z"
      },
      {
        "duration": 665,
        "start_time": "2023-04-30T09:57:30.488Z"
      },
      {
        "duration": 4,
        "start_time": "2023-04-30T09:57:31.155Z"
      },
      {
        "duration": 39,
        "start_time": "2023-04-30T09:57:31.161Z"
      },
      {
        "duration": 42,
        "start_time": "2023-04-30T09:57:31.201Z"
      },
      {
        "duration": 59,
        "start_time": "2023-04-30T09:57:31.245Z"
      },
      {
        "duration": 195,
        "start_time": "2023-04-30T09:57:31.305Z"
      },
      {
        "duration": 193,
        "start_time": "2023-04-30T09:57:31.502Z"
      },
      {
        "duration": 5,
        "start_time": "2023-04-30T09:57:31.697Z"
      },
      {
        "duration": 1497,
        "start_time": "2023-04-30T10:01:58.821Z"
      },
      {
        "duration": 70,
        "start_time": "2023-04-30T10:02:00.321Z"
      },
      {
        "duration": 19,
        "start_time": "2023-04-30T10:02:00.392Z"
      },
      {
        "duration": 33,
        "start_time": "2023-04-30T10:02:00.416Z"
      },
      {
        "duration": 524,
        "start_time": "2023-04-30T10:02:00.452Z"
      },
      {
        "duration": 711,
        "start_time": "2023-04-30T10:02:00.978Z"
      },
      {
        "duration": 6,
        "start_time": "2023-04-30T10:02:01.695Z"
      },
      {
        "duration": 21,
        "start_time": "2023-04-30T10:02:01.703Z"
      },
      {
        "duration": 28,
        "start_time": "2023-04-30T10:02:01.726Z"
      },
      {
        "duration": 59,
        "start_time": "2023-04-30T10:02:01.756Z"
      },
      {
        "duration": 87,
        "start_time": "2023-04-30T10:02:01.820Z"
      },
      {
        "duration": 10,
        "start_time": "2023-04-30T10:02:01.913Z"
      },
      {
        "duration": 11,
        "start_time": "2023-04-30T10:02:01.998Z"
      },
      {
        "duration": 5,
        "start_time": "2023-04-30T10:04:09.393Z"
      },
      {
        "duration": 130,
        "start_time": "2023-04-30T10:08:09.623Z"
      },
      {
        "duration": 4,
        "start_time": "2023-04-30T10:08:23.822Z"
      },
      {
        "duration": 24,
        "start_time": "2023-04-30T10:08:24.232Z"
      },
      {
        "duration": 13,
        "start_time": "2023-04-30T10:08:32.792Z"
      },
      {
        "duration": 14,
        "start_time": "2023-04-30T10:09:06.562Z"
      },
      {
        "duration": 9,
        "start_time": "2023-04-30T10:09:07.844Z"
      },
      {
        "duration": 4,
        "start_time": "2023-04-30T10:10:07.015Z"
      },
      {
        "duration": 18,
        "start_time": "2023-04-30T10:10:07.513Z"
      },
      {
        "duration": 9,
        "start_time": "2023-04-30T10:10:08.533Z"
      },
      {
        "duration": 18,
        "start_time": "2023-04-30T10:10:37.437Z"
      },
      {
        "duration": 11,
        "start_time": "2023-04-30T10:10:47.363Z"
      },
      {
        "duration": 9,
        "start_time": "2023-04-30T10:11:13.312Z"
      },
      {
        "duration": 4,
        "start_time": "2023-04-30T10:11:37.452Z"
      },
      {
        "duration": 10,
        "start_time": "2023-04-30T10:11:38.207Z"
      },
      {
        "duration": 11,
        "start_time": "2023-04-30T10:11:39.329Z"
      },
      {
        "duration": 16,
        "start_time": "2023-04-30T10:12:34.001Z"
      },
      {
        "duration": 144,
        "start_time": "2023-04-30T10:12:58.050Z"
      },
      {
        "duration": 9,
        "start_time": "2023-04-30T10:15:16.443Z"
      },
      {
        "duration": 11,
        "start_time": "2023-04-30T10:15:22.510Z"
      },
      {
        "duration": 3,
        "start_time": "2023-04-30T10:15:23.072Z"
      },
      {
        "duration": 5,
        "start_time": "2023-04-30T10:15:23.555Z"
      },
      {
        "duration": 3,
        "start_time": "2023-04-30T10:15:24.810Z"
      },
      {
        "duration": 10,
        "start_time": "2023-04-30T10:15:25.608Z"
      },
      {
        "duration": 16,
        "start_time": "2023-04-30T10:15:26.244Z"
      },
      {
        "duration": 17,
        "start_time": "2023-04-30T10:15:55.116Z"
      },
      {
        "duration": 11,
        "start_time": "2023-04-30T10:16:28.505Z"
      },
      {
        "duration": 3,
        "start_time": "2023-04-30T10:17:04.887Z"
      },
      {
        "duration": 111,
        "start_time": "2023-04-30T10:18:27.012Z"
      },
      {
        "duration": 3,
        "start_time": "2023-04-30T10:18:39.321Z"
      },
      {
        "duration": 1333,
        "start_time": "2023-04-30T10:24:06.460Z"
      },
      {
        "duration": 64,
        "start_time": "2023-04-30T10:24:07.795Z"
      },
      {
        "duration": 16,
        "start_time": "2023-04-30T10:24:07.861Z"
      },
      {
        "duration": 6,
        "start_time": "2023-04-30T10:24:07.879Z"
      },
      {
        "duration": 428,
        "start_time": "2023-04-30T10:24:07.886Z"
      },
      {
        "duration": 618,
        "start_time": "2023-04-30T10:24:08.316Z"
      },
      {
        "duration": 4,
        "start_time": "2023-04-30T10:24:08.936Z"
      },
      {
        "duration": 4,
        "start_time": "2023-04-30T10:24:08.942Z"
      },
      {
        "duration": 4,
        "start_time": "2023-04-30T10:24:08.948Z"
      },
      {
        "duration": 47,
        "start_time": "2023-04-30T10:24:08.955Z"
      },
      {
        "duration": 92,
        "start_time": "2023-04-30T10:24:09.004Z"
      },
      {
        "duration": 6,
        "start_time": "2023-04-30T10:24:09.098Z"
      },
      {
        "duration": 89,
        "start_time": "2023-04-30T10:24:09.106Z"
      },
      {
        "duration": 4,
        "start_time": "2023-04-30T10:24:09.197Z"
      },
      {
        "duration": 203,
        "start_time": "2023-04-30T10:24:09.202Z"
      },
      {
        "duration": 90,
        "start_time": "2023-04-30T10:24:09.414Z"
      },
      {
        "duration": 90,
        "start_time": "2023-04-30T10:24:09.507Z"
      },
      {
        "duration": 5,
        "start_time": "2023-04-30T10:25:32.244Z"
      },
      {
        "duration": 3,
        "start_time": "2023-04-30T10:25:32.429Z"
      },
      {
        "duration": 4,
        "start_time": "2023-04-30T10:25:33.053Z"
      },
      {
        "duration": 17,
        "start_time": "2023-04-30T10:25:33.363Z"
      },
      {
        "duration": 6,
        "start_time": "2023-04-30T10:25:33.912Z"
      },
      {
        "duration": 4,
        "start_time": "2023-04-30T10:25:34.423Z"
      },
      {
        "duration": 4,
        "start_time": "2023-04-30T10:25:34.915Z"
      },
      {
        "duration": 5,
        "start_time": "2023-04-30T10:25:38.143Z"
      },
      {
        "duration": 3,
        "start_time": "2023-04-30T10:25:38.328Z"
      },
      {
        "duration": 4,
        "start_time": "2023-04-30T10:25:38.611Z"
      },
      {
        "duration": 9,
        "start_time": "2023-04-30T10:25:38.923Z"
      },
      {
        "duration": 14,
        "start_time": "2023-04-30T10:25:39.274Z"
      },
      {
        "duration": 4,
        "start_time": "2023-04-30T10:25:39.449Z"
      },
      {
        "duration": 5,
        "start_time": "2023-04-30T10:25:39.671Z"
      },
      {
        "duration": 1477,
        "start_time": "2023-04-30T10:25:53.062Z"
      },
      {
        "duration": 77,
        "start_time": "2023-04-30T10:25:54.541Z"
      },
      {
        "duration": 13,
        "start_time": "2023-04-30T10:25:54.620Z"
      },
      {
        "duration": 17,
        "start_time": "2023-04-30T10:25:54.635Z"
      },
      {
        "duration": 473,
        "start_time": "2023-04-30T10:25:54.654Z"
      },
      {
        "duration": 646,
        "start_time": "2023-04-30T10:25:55.129Z"
      },
      {
        "duration": 4,
        "start_time": "2023-04-30T10:25:55.776Z"
      },
      {
        "duration": 5,
        "start_time": "2023-04-30T10:25:55.781Z"
      },
      {
        "duration": 17,
        "start_time": "2023-04-30T10:25:55.797Z"
      },
      {
        "duration": 79,
        "start_time": "2023-04-30T10:25:55.819Z"
      },
      {
        "duration": 93,
        "start_time": "2023-04-30T10:25:55.902Z"
      },
      {
        "duration": 7,
        "start_time": "2023-04-30T10:25:55.997Z"
      },
      {
        "duration": 6,
        "start_time": "2023-04-30T10:25:56.006Z"
      },
      {
        "duration": 81,
        "start_time": "2023-04-30T10:25:56.013Z"
      },
      {
        "duration": 105,
        "start_time": "2023-04-30T10:25:56.096Z"
      },
      {
        "duration": 10,
        "start_time": "2023-04-30T10:25:56.203Z"
      },
      {
        "duration": 5,
        "start_time": "2023-04-30T10:25:56.215Z"
      },
      {
        "duration": 2952,
        "start_time": "2023-05-01T04:50:30.424Z"
      },
      {
        "duration": 84,
        "start_time": "2023-05-01T04:50:33.378Z"
      },
      {
        "duration": 12,
        "start_time": "2023-05-01T04:50:33.464Z"
      },
      {
        "duration": 6,
        "start_time": "2023-05-01T04:50:33.478Z"
      },
      {
        "duration": 467,
        "start_time": "2023-05-01T04:50:33.485Z"
      },
      {
        "duration": 696,
        "start_time": "2023-05-01T04:50:33.953Z"
      },
      {
        "duration": 4,
        "start_time": "2023-05-01T04:50:34.650Z"
      },
      {
        "duration": 5,
        "start_time": "2023-05-01T04:50:34.656Z"
      },
      {
        "duration": 5,
        "start_time": "2023-05-01T04:50:34.663Z"
      },
      {
        "duration": 8,
        "start_time": "2023-05-01T04:50:34.692Z"
      },
      {
        "duration": 104,
        "start_time": "2023-05-01T04:50:34.702Z"
      },
      {
        "duration": 96,
        "start_time": "2023-05-01T04:50:34.807Z"
      },
      {
        "duration": 5,
        "start_time": "2023-05-01T04:50:34.993Z"
      },
      {
        "duration": 6,
        "start_time": "2023-05-01T04:50:34.999Z"
      },
      {
        "duration": 106,
        "start_time": "2023-05-01T04:50:35.007Z"
      },
      {
        "duration": 80,
        "start_time": "2023-05-01T04:50:35.115Z"
      },
      {
        "duration": 5,
        "start_time": "2023-05-01T04:50:35.196Z"
      },
      {
        "duration": 1515,
        "start_time": "2023-05-01T05:23:55.143Z"
      },
      {
        "duration": 124,
        "start_time": "2023-05-01T05:23:56.660Z"
      },
      {
        "duration": 13,
        "start_time": "2023-05-01T05:23:56.786Z"
      },
      {
        "duration": 6,
        "start_time": "2023-05-01T05:23:56.801Z"
      },
      {
        "duration": 511,
        "start_time": "2023-05-01T05:23:56.809Z"
      },
      {
        "duration": 668,
        "start_time": "2023-05-01T05:23:57.322Z"
      },
      {
        "duration": 4,
        "start_time": "2023-05-01T05:23:57.993Z"
      },
      {
        "duration": 6,
        "start_time": "2023-05-01T05:23:57.998Z"
      },
      {
        "duration": 4,
        "start_time": "2023-05-01T05:23:58.006Z"
      },
      {
        "duration": 84,
        "start_time": "2023-05-01T05:23:58.012Z"
      },
      {
        "duration": 7,
        "start_time": "2023-05-01T05:23:58.098Z"
      },
      {
        "duration": 5,
        "start_time": "2023-05-01T05:23:58.199Z"
      },
      {
        "duration": 91,
        "start_time": "2023-05-01T05:23:58.206Z"
      },
      {
        "duration": 6,
        "start_time": "2023-05-01T05:23:58.299Z"
      },
      {
        "duration": 109,
        "start_time": "2023-05-01T05:23:58.307Z"
      },
      {
        "duration": 76,
        "start_time": "2023-05-01T05:23:58.419Z"
      },
      {
        "duration": 4,
        "start_time": "2023-05-01T05:23:58.497Z"
      }
    ],
    "kernelspec": {
      "display_name": "Python 3 (ipykernel)",
      "language": "python",
      "name": "python3"
    },
    "language_info": {
      "codemirror_mode": {
        "name": "ipython",
        "version": 3
      },
      "file_extension": ".py",
      "mimetype": "text/x-python",
      "name": "python",
      "nbconvert_exporter": "python",
      "pygments_lexer": "ipython3",
      "version": "3.9.5"
    },
    "toc": {
      "base_numbering": 1,
      "nav_menu": {},
      "number_sections": true,
      "sideBar": true,
      "skip_h1_title": true,
      "title_cell": "Содержание",
      "title_sidebar": "Contents",
      "toc_cell": true,
      "toc_position": {},
      "toc_section_display": true,
      "toc_window_display": false
    },
    "colab": {
      "provenance": [],
      "include_colab_link": true
    }
  },
  "nbformat": 4,
  "nbformat_minor": 0
}
