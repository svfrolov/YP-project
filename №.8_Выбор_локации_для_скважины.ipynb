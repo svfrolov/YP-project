{
  "cells": [
    {
      "cell_type": "markdown",
      "metadata": {
        "id": "view-in-github",
        "colab_type": "text"
      },
      "source": [
        "<a href=\"https://colab.research.google.com/github/svfrolov/YP-project/blob/main/%E2%84%968_%D0%92%D1%8B%D0%B1%D0%BE%D1%80_%D0%BB%D0%BE%D0%BA%D0%B0%D1%86%D0%B8%D0%B8_%D0%B4%D0%BB%D1%8F_%D1%81%D0%BA%D0%B2%D0%B0%D0%B6%D0%B8%D0%BD%D1%8B.ipynb\" target=\"_parent\"><img src=\"https://colab.research.google.com/assets/colab-badge.svg\" alt=\"Open In Colab\"/></a>"
      ]
    },
    {
      "cell_type": "markdown",
      "metadata": {
        "id": "_k9XOare_slW"
      },
      "source": [
        "# Выбор локации для скважины"
      ]
    },
    {
      "cell_type": "markdown",
      "metadata": {
        "id": "_m3qVNTK_slb"
      },
      "source": [
        "Допустим, вы работаете в добывающей компании «ГлавРосГосНефть». Нужно решить, где бурить новую скважину.\n",
        "\n",
        "Вам предоставлены пробы нефти в трёх регионах: в каждом 10 000 месторождений, где измерили качество нефти и объём её запасов. Постройте модель машинного обучения, которая поможет определить регион, где добыча принесёт наибольшую прибыль. Проанализируйте возможную прибыль и риски техникой *Bootstrap.*\n",
        "\n",
        "Шаги для выбора локации:\n",
        "\n",
        "- В избранном регионе ищут месторождения, для каждого определяют значения признаков;\n",
        "- Строят модель и оценивают объём запасов;\n",
        "- Выбирают месторождения с самым высокими оценками значений. Количество месторождений зависит от бюджета компании и стоимости разработки одной скважины;\n",
        "- Прибыль равна суммарной прибыли отобранных месторождений."
      ]
    },
    {
      "cell_type": "markdown",
      "metadata": {
        "id": "iGq6-4ec_sld"
      },
      "source": [
        "# Инструкция по выполнению проекта"
      ]
    },
    {
      "cell_type": "markdown",
      "metadata": {
        "id": "VNtRpNxb_sld"
      },
      "source": [
        "1.0. **Загрузите и подготовьте данные. Поясните порядок действий.**\n",
        "\n",
        "\n",
        "2.0. **Обучите и проверьте модель для каждого региона:**\n",
        " \n",
        " 2.1. Разбейте данные на обучающую и валидационную выборки в соотношении 75:25.\n",
        " \n",
        " \n",
        " 2.2. Обучите модель и сделайте предсказания на валидационной выборке.\n",
        " \n",
        " \n",
        " 2.3. Сохраните предсказания и правильные ответы на валидационной выборке.\n",
        " \n",
        " \n",
        " 2.4. Напечатайте на экране средний запас предсказанного сырья и RMSE модели.\n",
        " \n",
        " \n",
        " 2.5. Проанализируйте результаты.\n",
        "\n",
        "\n",
        "**Подготовьтесь к расчёту прибыли:**\n",
        "\n",
        "\n",
        " 3.1. Все ключевые значения для расчётов сохраните в отдельных переменных.\n",
        "\n",
        "\n",
        " 3.2. Рассчитайте достаточный объём сырья для безубыточной разработки новой скважины. Сравните полученный объём сырья со средним запасом в каждом регионе. \n",
        "\n",
        "\n",
        " 3.3. Напишите выводы по этапу подготовки расчёта прибыли.\n",
        "Напишите функцию для расчёта прибыли по выбранным скважинам и предсказаниям модели:\n",
        "\n",
        "\n",
        " 4.1. Выберите скважины с максимальными значениями предсказаний. \n",
        "\n",
        "\n",
        " 4.2. Просуммируйте целевое значение объёма сырья, соответствующее этим предсказаниям.\n",
        "\n",
        "\n",
        " 4.3. Рассчитайте прибыль для полученного объёма сырья.\n",
        "\n",
        "\n",
        "**Посчитайте риски и прибыль для каждого региона:**\n",
        "\n",
        "\n",
        " 5.1. Примените технику Bootstrap с 1000 выборок, чтобы найти распределение прибыли.\n",
        "\n",
        "\n",
        " 5.2. Найдите среднюю прибыль, 95%-й доверительный интервал и риск убытков. Убыток — это отрицательная прибыль.\n",
        "\n",
        "\n",
        " 5.3. Напишите выводы: предложите регион для разработки скважин и обоснуйте выбор."
      ]
    },
    {
      "cell_type": "markdown",
      "metadata": {
        "id": "Bp64EfO8_slf"
      },
      "source": [
        "# Описание данных"
      ]
    },
    {
      "cell_type": "markdown",
      "metadata": {
        "id": "yTQ0efyD_slf"
      },
      "source": [
        "Данные геологоразведки трёх регионов находятся в файлах: \n",
        "* `/datasets/geo_data_0.csv.`\n",
        "* `/datasets/geo_data_1.csv.`\n",
        "* `/datasets/geo_data_2.csv.`\n",
        "\n",
        "id — уникальный идентификатор скважины;\n",
        "\n",
        "\n",
        "f0, f1, f2 — три признака точек (неважно, что они означают, но сами признаки значимы);\n",
        "\n",
        "\n",
        "product — объём запасов в скважине (тыс. баррелей)."
      ]
    },
    {
      "cell_type": "markdown",
      "metadata": {
        "id": "cXlEcjIA_slg"
      },
      "source": [
        "# Условия задачи:"
      ]
    },
    {
      "cell_type": "markdown",
      "metadata": {
        "id": "jb3cIZQX_slg"
      },
      "source": [
        "* Для обучения модели подходит только линейная регрессия (остальные — недостаточно предсказуемые).\n",
        "\n",
        "\n",
        "* При разведке региона исследуют 500 точек, из которых с помощью машинного обучения выбирают 200 лучших для разработки.\n",
        "\n",
        "\n",
        "* Бюджет на разработку скважин в регионе — 10 млрд рублей.\n",
        "\n",
        "\n",
        "* При нынешних ценах один баррель сырья приносит 450 рублей дохода. Доход с каждой единицы продукта составляет 450 тыс. рублей, поскольку объём указан в тысячах баррелей.\n",
        "\n",
        "\n",
        "* После оценки рисков нужно оставить лишь те регионы, в которых вероятность убытков меньше 2.5%. Среди них выбирают регион с наибольшей средней прибылью.\n",
        "\n",
        "\n",
        "* Данные синтетические: детали контрактов и характеристики месторождений не разглашаются."
      ]
    },
    {
      "cell_type": "markdown",
      "metadata": {
        "id": "vq3xMtir_slh"
      },
      "source": [
        "## Загрузка и подготовка данных"
      ]
    },
    {
      "cell_type": "code",
      "execution_count": null,
      "metadata": {
        "id": "4HjCtBf__slh"
      },
      "outputs": [],
      "source": [
        "import pandas as pd\n",
        "import numpy as np\n",
        "import seaborn as sns\n",
        "import scipy.stats as st\n",
        "from sklearn.model_selection import train_test_split\n",
        "\n",
        "from sklearn.utils import shuffle\n",
        "from sklearn.metrics import mean_squared_error\n",
        "from sklearn.metrics import mean_absolute_error\n",
        "\n",
        "from sklearn.preprocessing import StandardScaler\n",
        "from scipy import stats\n",
        "\n",
        "import matplotlib.pyplot as plt\n",
        "from sklearn.linear_model import LinearRegression\n",
        "RANDOM_SEED = 54"
      ]
    },
    {
      "cell_type": "code",
      "execution_count": null,
      "metadata": {
        "id": "_QlfTvHg_slk",
        "outputId": "874d44f4-0c0c-49c9-f59e-0f9ba6588ad5"
      },
      "outputs": [
        {
          "name": "stdout",
          "output_type": "stream",
          "text": [
            "<class 'pandas.core.frame.DataFrame'>\n",
            "RangeIndex: 100000 entries, 0 to 99999\n",
            "Data columns (total 5 columns):\n",
            " #   Column   Non-Null Count   Dtype  \n",
            "---  ------   --------------   -----  \n",
            " 0   id       100000 non-null  object \n",
            " 1   f0       100000 non-null  float64\n",
            " 2   f1       100000 non-null  float64\n",
            " 3   f2       100000 non-null  float64\n",
            " 4   product  100000 non-null  float64\n",
            "dtypes: float64(4), object(1)\n",
            "memory usage: 3.8+ MB\n",
            "\n",
            "Дубликаты: 0\n"
          ]
        }
      ],
      "source": [
        "geo_data_0 = pd.read_csv('/datasets/geo_data_0.csv')\n",
        "\n",
        "geo_data_0.info()\n",
        "print()\n",
        "print(\"Дубликаты:\", geo_data_0.duplicated().sum())"
      ]
    },
    {
      "cell_type": "code",
      "execution_count": null,
      "metadata": {
        "id": "II9dgTsX_sll",
        "outputId": "0c4e3c6d-7d2c-4396-b147-1228d9289f98"
      },
      "outputs": [
        {
          "data": {
            "text/html": [
              "<div>\n",
              "<style scoped>\n",
              "    .dataframe tbody tr th:only-of-type {\n",
              "        vertical-align: middle;\n",
              "    }\n",
              "\n",
              "    .dataframe tbody tr th {\n",
              "        vertical-align: top;\n",
              "    }\n",
              "\n",
              "    .dataframe thead th {\n",
              "        text-align: right;\n",
              "    }\n",
              "</style>\n",
              "<table border=\"1\" class=\"dataframe\">\n",
              "  <thead>\n",
              "    <tr style=\"text-align: right;\">\n",
              "      <th></th>\n",
              "      <th>id</th>\n",
              "      <th>f0</th>\n",
              "      <th>f1</th>\n",
              "      <th>f2</th>\n",
              "      <th>product</th>\n",
              "    </tr>\n",
              "  </thead>\n",
              "  <tbody>\n",
              "    <tr>\n",
              "      <th>0</th>\n",
              "      <td>txEyH</td>\n",
              "      <td>0.705745</td>\n",
              "      <td>-0.497823</td>\n",
              "      <td>1.221170</td>\n",
              "      <td>105.280062</td>\n",
              "    </tr>\n",
              "    <tr>\n",
              "      <th>1</th>\n",
              "      <td>2acmU</td>\n",
              "      <td>1.334711</td>\n",
              "      <td>-0.340164</td>\n",
              "      <td>4.365080</td>\n",
              "      <td>73.037750</td>\n",
              "    </tr>\n",
              "    <tr>\n",
              "      <th>2</th>\n",
              "      <td>409Wp</td>\n",
              "      <td>1.022732</td>\n",
              "      <td>0.151990</td>\n",
              "      <td>1.419926</td>\n",
              "      <td>85.265647</td>\n",
              "    </tr>\n",
              "    <tr>\n",
              "      <th>3</th>\n",
              "      <td>iJLyR</td>\n",
              "      <td>-0.032172</td>\n",
              "      <td>0.139033</td>\n",
              "      <td>2.978566</td>\n",
              "      <td>168.620776</td>\n",
              "    </tr>\n",
              "    <tr>\n",
              "      <th>4</th>\n",
              "      <td>Xdl7t</td>\n",
              "      <td>1.988431</td>\n",
              "      <td>0.155413</td>\n",
              "      <td>4.751769</td>\n",
              "      <td>154.036647</td>\n",
              "    </tr>\n",
              "  </tbody>\n",
              "</table>\n",
              "</div>"
            ],
            "text/plain": [
              "      id        f0        f1        f2     product\n",
              "0  txEyH  0.705745 -0.497823  1.221170  105.280062\n",
              "1  2acmU  1.334711 -0.340164  4.365080   73.037750\n",
              "2  409Wp  1.022732  0.151990  1.419926   85.265647\n",
              "3  iJLyR -0.032172  0.139033  2.978566  168.620776\n",
              "4  Xdl7t  1.988431  0.155413  4.751769  154.036647"
            ]
          },
          "execution_count": 3,
          "metadata": {},
          "output_type": "execute_result"
        }
      ],
      "source": [
        "geo_data_0.head()"
      ]
    },
    {
      "cell_type": "code",
      "execution_count": null,
      "metadata": {
        "id": "GMMbqYru_slm",
        "outputId": "bc46f5ef-1c73-40e2-c283-3afc801d4432"
      },
      "outputs": [
        {
          "data": {
            "text/html": [
              "<div>\n",
              "<style scoped>\n",
              "    .dataframe tbody tr th:only-of-type {\n",
              "        vertical-align: middle;\n",
              "    }\n",
              "\n",
              "    .dataframe tbody tr th {\n",
              "        vertical-align: top;\n",
              "    }\n",
              "\n",
              "    .dataframe thead th {\n",
              "        text-align: right;\n",
              "    }\n",
              "</style>\n",
              "<table border=\"1\" class=\"dataframe\">\n",
              "  <thead>\n",
              "    <tr style=\"text-align: right;\">\n",
              "      <th></th>\n",
              "      <th>f0</th>\n",
              "      <th>f1</th>\n",
              "      <th>f2</th>\n",
              "      <th>product</th>\n",
              "    </tr>\n",
              "  </thead>\n",
              "  <tbody>\n",
              "    <tr>\n",
              "      <th>count</th>\n",
              "      <td>100000.000000</td>\n",
              "      <td>100000.000000</td>\n",
              "      <td>100000.000000</td>\n",
              "      <td>100000.000000</td>\n",
              "    </tr>\n",
              "    <tr>\n",
              "      <th>mean</th>\n",
              "      <td>0.500419</td>\n",
              "      <td>0.250143</td>\n",
              "      <td>2.502647</td>\n",
              "      <td>92.500000</td>\n",
              "    </tr>\n",
              "    <tr>\n",
              "      <th>std</th>\n",
              "      <td>0.871832</td>\n",
              "      <td>0.504433</td>\n",
              "      <td>3.248248</td>\n",
              "      <td>44.288691</td>\n",
              "    </tr>\n",
              "    <tr>\n",
              "      <th>min</th>\n",
              "      <td>-1.408605</td>\n",
              "      <td>-0.848218</td>\n",
              "      <td>-12.088328</td>\n",
              "      <td>0.000000</td>\n",
              "    </tr>\n",
              "    <tr>\n",
              "      <th>25%</th>\n",
              "      <td>-0.072580</td>\n",
              "      <td>-0.200881</td>\n",
              "      <td>0.287748</td>\n",
              "      <td>56.497507</td>\n",
              "    </tr>\n",
              "    <tr>\n",
              "      <th>50%</th>\n",
              "      <td>0.502360</td>\n",
              "      <td>0.250252</td>\n",
              "      <td>2.515969</td>\n",
              "      <td>91.849972</td>\n",
              "    </tr>\n",
              "    <tr>\n",
              "      <th>75%</th>\n",
              "      <td>1.073581</td>\n",
              "      <td>0.700646</td>\n",
              "      <td>4.715088</td>\n",
              "      <td>128.564089</td>\n",
              "    </tr>\n",
              "    <tr>\n",
              "      <th>max</th>\n",
              "      <td>2.362331</td>\n",
              "      <td>1.343769</td>\n",
              "      <td>16.003790</td>\n",
              "      <td>185.364347</td>\n",
              "    </tr>\n",
              "  </tbody>\n",
              "</table>\n",
              "</div>"
            ],
            "text/plain": [
              "                  f0             f1             f2        product\n",
              "count  100000.000000  100000.000000  100000.000000  100000.000000\n",
              "mean        0.500419       0.250143       2.502647      92.500000\n",
              "std         0.871832       0.504433       3.248248      44.288691\n",
              "min        -1.408605      -0.848218     -12.088328       0.000000\n",
              "25%        -0.072580      -0.200881       0.287748      56.497507\n",
              "50%         0.502360       0.250252       2.515969      91.849972\n",
              "75%         1.073581       0.700646       4.715088     128.564089\n",
              "max         2.362331       1.343769      16.003790     185.364347"
            ]
          },
          "execution_count": 4,
          "metadata": {},
          "output_type": "execute_result"
        }
      ],
      "source": [
        "geo_data_0.describe()"
      ]
    },
    {
      "cell_type": "code",
      "execution_count": null,
      "metadata": {
        "scrolled": false,
        "id": "hVzLzSM-_slm",
        "outputId": "46eb3d25-4087-4ace-bd44-69f9032f0168"
      },
      "outputs": [
        {
          "data": {
            "image/png": "[encoded data removed]",
            "text/plain": [
              "<Figure size 1080x1440 with 4 Axes>"
            ]
          },
          "metadata": {
            "needs_background": "light"
          },
          "output_type": "display_data"
        }
      ],
      "source": [
        "geo_data_0.hist(figsize=(15, 20));"
      ]
    },
    {
      "cell_type": "code",
      "execution_count": null,
      "metadata": {
        "id": "zLMNDVDg_sln",
        "outputId": "05bc56bb-79c5-46ef-f2d2-5d1c0dd2703f"
      },
      "outputs": [
        {
          "name": "stdout",
          "output_type": "stream",
          "text": [
            "<class 'pandas.core.frame.DataFrame'>\n",
            "RangeIndex: 100000 entries, 0 to 99999\n",
            "Data columns (total 5 columns):\n",
            " #   Column   Non-Null Count   Dtype  \n",
            "---  ------   --------------   -----  \n",
            " 0   id       100000 non-null  object \n",
            " 1   f0       100000 non-null  float64\n",
            " 2   f1       100000 non-null  float64\n",
            " 3   f2       100000 non-null  float64\n",
            " 4   product  100000 non-null  float64\n",
            "dtypes: float64(4), object(1)\n",
            "memory usage: 3.8+ MB\n",
            "\n",
            "Дубликаты: 0\n"
          ]
        }
      ],
      "source": [
        "geo_data_1 = pd.read_csv('/datasets/geo_data_1.csv')\n",
        "\n",
        "geo_data_1.info()\n",
        "print()\n",
        "print(\"Дубликаты:\", geo_data_0.duplicated().sum())"
      ]
    },
    {
      "cell_type": "code",
      "execution_count": null,
      "metadata": {
        "id": "Dju2lbAJ_sln",
        "outputId": "f9b7c331-3f39-48cb-c4da-4cf8e76e18d8"
      },
      "outputs": [
        {
          "data": {
            "text/html": [
              "<div>\n",
              "<style scoped>\n",
              "    .dataframe tbody tr th:only-of-type {\n",
              "        vertical-align: middle;\n",
              "    }\n",
              "\n",
              "    .dataframe tbody tr th {\n",
              "        vertical-align: top;\n",
              "    }\n",
              "\n",
              "    .dataframe thead th {\n",
              "        text-align: right;\n",
              "    }\n",
              "</style>\n",
              "<table border=\"1\" class=\"dataframe\">\n",
              "  <thead>\n",
              "    <tr style=\"text-align: right;\">\n",
              "      <th></th>\n",
              "      <th>id</th>\n",
              "      <th>f0</th>\n",
              "      <th>f1</th>\n",
              "      <th>f2</th>\n",
              "      <th>product</th>\n",
              "    </tr>\n",
              "  </thead>\n",
              "  <tbody>\n",
              "    <tr>\n",
              "      <th>0</th>\n",
              "      <td>kBEdx</td>\n",
              "      <td>-15.001348</td>\n",
              "      <td>-8.276000</td>\n",
              "      <td>-0.005876</td>\n",
              "      <td>3.179103</td>\n",
              "    </tr>\n",
              "    <tr>\n",
              "      <th>1</th>\n",
              "      <td>62mP7</td>\n",
              "      <td>14.272088</td>\n",
              "      <td>-3.475083</td>\n",
              "      <td>0.999183</td>\n",
              "      <td>26.953261</td>\n",
              "    </tr>\n",
              "    <tr>\n",
              "      <th>2</th>\n",
              "      <td>vyE1P</td>\n",
              "      <td>6.263187</td>\n",
              "      <td>-5.948386</td>\n",
              "      <td>5.001160</td>\n",
              "      <td>134.766305</td>\n",
              "    </tr>\n",
              "    <tr>\n",
              "      <th>3</th>\n",
              "      <td>KcrkZ</td>\n",
              "      <td>-13.081196</td>\n",
              "      <td>-11.506057</td>\n",
              "      <td>4.999415</td>\n",
              "      <td>137.945408</td>\n",
              "    </tr>\n",
              "    <tr>\n",
              "      <th>4</th>\n",
              "      <td>AHL4O</td>\n",
              "      <td>12.702195</td>\n",
              "      <td>-8.147433</td>\n",
              "      <td>5.004363</td>\n",
              "      <td>134.766305</td>\n",
              "    </tr>\n",
              "  </tbody>\n",
              "</table>\n",
              "</div>"
            ],
            "text/plain": [
              "      id         f0         f1        f2     product\n",
              "0  kBEdx -15.001348  -8.276000 -0.005876    3.179103\n",
              "1  62mP7  14.272088  -3.475083  0.999183   26.953261\n",
              "2  vyE1P   6.263187  -5.948386  5.001160  134.766305\n",
              "3  KcrkZ -13.081196 -11.506057  4.999415  137.945408\n",
              "4  AHL4O  12.702195  -8.147433  5.004363  134.766305"
            ]
          },
          "execution_count": 7,
          "metadata": {},
          "output_type": "execute_result"
        }
      ],
      "source": [
        "geo_data_1.head()"
      ]
    },
    {
      "cell_type": "code",
      "execution_count": null,
      "metadata": {
        "id": "EWDfvaB5_slo",
        "outputId": "f2f694fb-385a-40c1-91cb-68d30ceca25f"
      },
      "outputs": [
        {
          "data": {
            "text/html": [
              "<div>\n",
              "<style scoped>\n",
              "    .dataframe tbody tr th:only-of-type {\n",
              "        vertical-align: middle;\n",
              "    }\n",
              "\n",
              "    .dataframe tbody tr th {\n",
              "        vertical-align: top;\n",
              "    }\n",
              "\n",
              "    .dataframe thead th {\n",
              "        text-align: right;\n",
              "    }\n",
              "</style>\n",
              "<table border=\"1\" class=\"dataframe\">\n",
              "  <thead>\n",
              "    <tr style=\"text-align: right;\">\n",
              "      <th></th>\n",
              "      <th>f0</th>\n",
              "      <th>f1</th>\n",
              "      <th>f2</th>\n",
              "      <th>product</th>\n",
              "    </tr>\n",
              "  </thead>\n",
              "  <tbody>\n",
              "    <tr>\n",
              "      <th>count</th>\n",
              "      <td>100000.000000</td>\n",
              "      <td>100000.000000</td>\n",
              "      <td>100000.000000</td>\n",
              "      <td>100000.000000</td>\n",
              "    </tr>\n",
              "    <tr>\n",
              "      <th>mean</th>\n",
              "      <td>1.141296</td>\n",
              "      <td>-4.796579</td>\n",
              "      <td>2.494541</td>\n",
              "      <td>68.825000</td>\n",
              "    </tr>\n",
              "    <tr>\n",
              "      <th>std</th>\n",
              "      <td>8.965932</td>\n",
              "      <td>5.119872</td>\n",
              "      <td>1.703572</td>\n",
              "      <td>45.944423</td>\n",
              "    </tr>\n",
              "    <tr>\n",
              "      <th>min</th>\n",
              "      <td>-31.609576</td>\n",
              "      <td>-26.358598</td>\n",
              "      <td>-0.018144</td>\n",
              "      <td>0.000000</td>\n",
              "    </tr>\n",
              "    <tr>\n",
              "      <th>25%</th>\n",
              "      <td>-6.298551</td>\n",
              "      <td>-8.267985</td>\n",
              "      <td>1.000021</td>\n",
              "      <td>26.953261</td>\n",
              "    </tr>\n",
              "    <tr>\n",
              "      <th>50%</th>\n",
              "      <td>1.153055</td>\n",
              "      <td>-4.813172</td>\n",
              "      <td>2.011479</td>\n",
              "      <td>57.085625</td>\n",
              "    </tr>\n",
              "    <tr>\n",
              "      <th>75%</th>\n",
              "      <td>8.621015</td>\n",
              "      <td>-1.332816</td>\n",
              "      <td>3.999904</td>\n",
              "      <td>107.813044</td>\n",
              "    </tr>\n",
              "    <tr>\n",
              "      <th>max</th>\n",
              "      <td>29.421755</td>\n",
              "      <td>18.734063</td>\n",
              "      <td>5.019721</td>\n",
              "      <td>137.945408</td>\n",
              "    </tr>\n",
              "  </tbody>\n",
              "</table>\n",
              "</div>"
            ],
            "text/plain": [
              "                  f0             f1             f2        product\n",
              "count  100000.000000  100000.000000  100000.000000  100000.000000\n",
              "mean        1.141296      -4.796579       2.494541      68.825000\n",
              "std         8.965932       5.119872       1.703572      45.944423\n",
              "min       -31.609576     -26.358598      -0.018144       0.000000\n",
              "25%        -6.298551      -8.267985       1.000021      26.953261\n",
              "50%         1.153055      -4.813172       2.011479      57.085625\n",
              "75%         8.621015      -1.332816       3.999904     107.813044\n",
              "max        29.421755      18.734063       5.019721     137.945408"
            ]
          },
          "execution_count": 8,
          "metadata": {},
          "output_type": "execute_result"
        }
      ],
      "source": [
        "geo_data_1.describe()"
      ]
    },
    {
      "cell_type": "code",
      "execution_count": null,
      "metadata": {
        "id": "0HDjIKZ2_slo",
        "outputId": "ef3d95a7-6672-4db1-9e4f-55fe08f1219b"
      },
      "outputs": [
        {
          "data": {
            "image/png": "[encoded data removed]",
            "text/plain": [
              "<Figure size 1080x1440 with 4 Axes>"
            ]
          },
          "metadata": {
            "needs_background": "light"
          },
          "output_type": "display_data"
        }
      ],
      "source": [
        "geo_data_1.hist(figsize=(15, 20));"
      ]
    },
    {
      "cell_type": "code",
      "execution_count": null,
      "metadata": {
        "id": "3EyiAwJn_slp",
        "outputId": "bc932a69-468e-4cbc-dfb9-95ee762caf93"
      },
      "outputs": [
        {
          "name": "stdout",
          "output_type": "stream",
          "text": [
            "<class 'pandas.core.frame.DataFrame'>\n",
            "RangeIndex: 100000 entries, 0 to 99999\n",
            "Data columns (total 5 columns):\n",
            " #   Column   Non-Null Count   Dtype  \n",
            "---  ------   --------------   -----  \n",
            " 0   id       100000 non-null  object \n",
            " 1   f0       100000 non-null  float64\n",
            " 2   f1       100000 non-null  float64\n",
            " 3   f2       100000 non-null  float64\n",
            " 4   product  100000 non-null  float64\n",
            "dtypes: float64(4), object(1)\n",
            "memory usage: 3.8+ MB\n",
            "\n",
            "Дубликаты: 0\n"
          ]
        }
      ],
      "source": [
        "geo_data_2 = pd.read_csv('/datasets/geo_data_2.csv')\n",
        "\n",
        "geo_data_2.info()\n",
        "print()\n",
        "print(\"Дубликаты:\", geo_data_0.duplicated().sum())"
      ]
    },
    {
      "cell_type": "code",
      "execution_count": null,
      "metadata": {
        "id": "NpQng6H-_slq",
        "outputId": "3e9189e5-8fd8-4c62-a0b3-a5673f93eb27"
      },
      "outputs": [
        {
          "data": {
            "text/html": [
              "<div>\n",
              "<style scoped>\n",
              "    .dataframe tbody tr th:only-of-type {\n",
              "        vertical-align: middle;\n",
              "    }\n",
              "\n",
              "    .dataframe tbody tr th {\n",
              "        vertical-align: top;\n",
              "    }\n",
              "\n",
              "    .dataframe thead th {\n",
              "        text-align: right;\n",
              "    }\n",
              "</style>\n",
              "<table border=\"1\" class=\"dataframe\">\n",
              "  <thead>\n",
              "    <tr style=\"text-align: right;\">\n",
              "      <th></th>\n",
              "      <th>id</th>\n",
              "      <th>f0</th>\n",
              "      <th>f1</th>\n",
              "      <th>f2</th>\n",
              "      <th>product</th>\n",
              "    </tr>\n",
              "  </thead>\n",
              "  <tbody>\n",
              "    <tr>\n",
              "      <th>0</th>\n",
              "      <td>fwXo0</td>\n",
              "      <td>-1.146987</td>\n",
              "      <td>0.963328</td>\n",
              "      <td>-0.828965</td>\n",
              "      <td>27.758673</td>\n",
              "    </tr>\n",
              "    <tr>\n",
              "      <th>1</th>\n",
              "      <td>WJtFt</td>\n",
              "      <td>0.262778</td>\n",
              "      <td>0.269839</td>\n",
              "      <td>-2.530187</td>\n",
              "      <td>56.069697</td>\n",
              "    </tr>\n",
              "    <tr>\n",
              "      <th>2</th>\n",
              "      <td>ovLUW</td>\n",
              "      <td>0.194587</td>\n",
              "      <td>0.289035</td>\n",
              "      <td>-5.586433</td>\n",
              "      <td>62.871910</td>\n",
              "    </tr>\n",
              "    <tr>\n",
              "      <th>3</th>\n",
              "      <td>q6cA6</td>\n",
              "      <td>2.236060</td>\n",
              "      <td>-0.553760</td>\n",
              "      <td>0.930038</td>\n",
              "      <td>114.572842</td>\n",
              "    </tr>\n",
              "    <tr>\n",
              "      <th>4</th>\n",
              "      <td>WPMUX</td>\n",
              "      <td>-0.515993</td>\n",
              "      <td>1.716266</td>\n",
              "      <td>5.899011</td>\n",
              "      <td>149.600746</td>\n",
              "    </tr>\n",
              "  </tbody>\n",
              "</table>\n",
              "</div>"
            ],
            "text/plain": [
              "      id        f0        f1        f2     product\n",
              "0  fwXo0 -1.146987  0.963328 -0.828965   27.758673\n",
              "1  WJtFt  0.262778  0.269839 -2.530187   56.069697\n",
              "2  ovLUW  0.194587  0.289035 -5.586433   62.871910\n",
              "3  q6cA6  2.236060 -0.553760  0.930038  114.572842\n",
              "4  WPMUX -0.515993  1.716266  5.899011  149.600746"
            ]
          },
          "execution_count": 11,
          "metadata": {},
          "output_type": "execute_result"
        }
      ],
      "source": [
        "geo_data_2.head()"
      ]
    },
    {
      "cell_type": "code",
      "execution_count": null,
      "metadata": {
        "id": "MG02sRZO_slq",
        "outputId": "335fc629-aafc-4dc7-a14c-618a97bcc9b9"
      },
      "outputs": [
        {
          "data": {
            "text/html": [
              "<div>\n",
              "<style scoped>\n",
              "    .dataframe tbody tr th:only-of-type {\n",
              "        vertical-align: middle;\n",
              "    }\n",
              "\n",
              "    .dataframe tbody tr th {\n",
              "        vertical-align: top;\n",
              "    }\n",
              "\n",
              "    .dataframe thead th {\n",
              "        text-align: right;\n",
              "    }\n",
              "</style>\n",
              "<table border=\"1\" class=\"dataframe\">\n",
              "  <thead>\n",
              "    <tr style=\"text-align: right;\">\n",
              "      <th></th>\n",
              "      <th>f0</th>\n",
              "      <th>f1</th>\n",
              "      <th>f2</th>\n",
              "      <th>product</th>\n",
              "    </tr>\n",
              "  </thead>\n",
              "  <tbody>\n",
              "    <tr>\n",
              "      <th>count</th>\n",
              "      <td>100000.000000</td>\n",
              "      <td>100000.000000</td>\n",
              "      <td>100000.000000</td>\n",
              "      <td>100000.000000</td>\n",
              "    </tr>\n",
              "    <tr>\n",
              "      <th>mean</th>\n",
              "      <td>0.002023</td>\n",
              "      <td>-0.002081</td>\n",
              "      <td>2.495128</td>\n",
              "      <td>95.000000</td>\n",
              "    </tr>\n",
              "    <tr>\n",
              "      <th>std</th>\n",
              "      <td>1.732045</td>\n",
              "      <td>1.730417</td>\n",
              "      <td>3.473445</td>\n",
              "      <td>44.749921</td>\n",
              "    </tr>\n",
              "    <tr>\n",
              "      <th>min</th>\n",
              "      <td>-8.760004</td>\n",
              "      <td>-7.084020</td>\n",
              "      <td>-11.970335</td>\n",
              "      <td>0.000000</td>\n",
              "    </tr>\n",
              "    <tr>\n",
              "      <th>25%</th>\n",
              "      <td>-1.162288</td>\n",
              "      <td>-1.174820</td>\n",
              "      <td>0.130359</td>\n",
              "      <td>59.450441</td>\n",
              "    </tr>\n",
              "    <tr>\n",
              "      <th>50%</th>\n",
              "      <td>0.009424</td>\n",
              "      <td>-0.009482</td>\n",
              "      <td>2.484236</td>\n",
              "      <td>94.925613</td>\n",
              "    </tr>\n",
              "    <tr>\n",
              "      <th>75%</th>\n",
              "      <td>1.158535</td>\n",
              "      <td>1.163678</td>\n",
              "      <td>4.858794</td>\n",
              "      <td>130.595027</td>\n",
              "    </tr>\n",
              "    <tr>\n",
              "      <th>max</th>\n",
              "      <td>7.238262</td>\n",
              "      <td>7.844801</td>\n",
              "      <td>16.739402</td>\n",
              "      <td>190.029838</td>\n",
              "    </tr>\n",
              "  </tbody>\n",
              "</table>\n",
              "</div>"
            ],
            "text/plain": [
              "                  f0             f1             f2        product\n",
              "count  100000.000000  100000.000000  100000.000000  100000.000000\n",
              "mean        0.002023      -0.002081       2.495128      95.000000\n",
              "std         1.732045       1.730417       3.473445      44.749921\n",
              "min        -8.760004      -7.084020     -11.970335       0.000000\n",
              "25%        -1.162288      -1.174820       0.130359      59.450441\n",
              "50%         0.009424      -0.009482       2.484236      94.925613\n",
              "75%         1.158535       1.163678       4.858794     130.595027\n",
              "max         7.238262       7.844801      16.739402     190.029838"
            ]
          },
          "execution_count": 12,
          "metadata": {},
          "output_type": "execute_result"
        }
      ],
      "source": [
        "geo_data_2.describe()"
      ]
    },
    {
      "cell_type": "code",
      "execution_count": null,
      "metadata": {
        "id": "Jx4s8LVd_slr",
        "outputId": "65c077ef-e347-4c5c-ff79-7ae4043bdf7d"
      },
      "outputs": [
        {
          "data": {
            "image/png": "[encoded data removed]",
            "text/plain": [
              "<Figure size 1080x1440 with 4 Axes>"
            ]
          },
          "metadata": {
            "needs_background": "light"
          },
          "output_type": "display_data"
        }
      ],
      "source": [
        "geo_data_2.hist(figsize=(15, 20));"
      ]
    },
    {
      "cell_type": "code",
      "execution_count": null,
      "metadata": {
        "id": "GkutRmBj_slr",
        "outputId": "4680ac18-beb9-4ee4-99d1-0043f07fefb8"
      },
      "outputs": [
        {
          "data": {
            "image/png": "[encoded data removed]",
            "text/plain": [
              "<Figure size 1008x576 with 2 Axes>"
            ]
          },
          "metadata": {
            "needs_background": "light"
          },
          "output_type": "display_data"
        }
      ],
      "source": [
        "matr_0 = geo_data_0.corr()\n",
        "plt.figure(figsize=(14,8))\n",
        "sns.heatmap(matr_0, annot = True, cmap=\"YlGnBu\", square=False)\n",
        "\n",
        "plt.title('Матрица корреляций признаков', fontsize = 20)\n",
        "plt.xlabel('Признаки', fontsize = 14)\n",
        "plt.ylabel('Признаки', fontsize = 14)\n",
        "plt.show()"
      ]
    },
    {
      "cell_type": "code",
      "execution_count": null,
      "metadata": {
        "id": "SpKQpnow_sls",
        "outputId": "91a3a43a-69c4-4562-9645-128c43225fb2"
      },
      "outputs": [
        {
          "data": {
            "image/png": "[encoded data removed]",
            "text/plain": [
              "<Figure size 1008x576 with 2 Axes>"
            ]
          },
          "metadata": {
            "needs_background": "light"
          },
          "output_type": "display_data"
        }
      ],
      "source": [
        "matr_1 = geo_data_1.corr()\n",
        "plt.figure(figsize=(14,8))\n",
        "sns.heatmap(matr_1, annot = True, cmap=\"YlGnBu\", square=False)\n",
        "\n",
        "plt.title('Матрица корреляций признаков', fontsize = 20)\n",
        "plt.xlabel('Признаки', fontsize = 14)\n",
        "plt.ylabel('Признаки', fontsize = 14)\n",
        "plt.show()"
      ]
    },
    {
      "cell_type": "code",
      "execution_count": null,
      "metadata": {
        "id": "Ix5NsD06_sls",
        "outputId": "5de1e9b1-58be-4713-c3b3-82b57a7f747e"
      },
      "outputs": [
        {
          "data": {
            "image/png": "[encoded data removed]",
            "text/plain": [
              "<Figure size 1008x576 with 2 Axes>"
            ]
          },
          "metadata": {
            "needs_background": "light"
          },
          "output_type": "display_data"
        }
      ],
      "source": [
        "matr_2 = geo_data_2.corr()\n",
        "plt.figure(figsize=(14,8))\n",
        "sns.heatmap(matr_2, annot = True, cmap=\"YlGnBu\", square=False)\n",
        "\n",
        "plt.title('Матрица корреляций признаков', fontsize = 20)\n",
        "plt.xlabel('Признаки', fontsize = 14)\n",
        "plt.ylabel('Признаки', fontsize = 14)\n",
        "plt.show()"
      ]
    },
    {
      "cell_type": "markdown",
      "metadata": {
        "id": "EXkxN-Hc_slt"
      },
      "source": [
        "Явная корреляция есть только во втором варианте"
      ]
    },
    {
      "cell_type": "markdown",
      "metadata": {
        "id": "7Evp_ZeY_slt"
      },
      "source": [
        "Данные полные. Готовы к работе. Удалим id, существенно не влияет."
      ]
    },
    {
      "cell_type": "code",
      "execution_count": null,
      "metadata": {
        "id": "ZzDb6qU__slu"
      },
      "outputs": [],
      "source": [
        "geo_data_0 = geo_data_0.drop(['id'], axis=1)\n",
        "geo_data_1 = geo_data_1.drop(['id'], axis=1)\n",
        "geo_data_2 = geo_data_2.drop(['id'], axis=1)"
      ]
    },
    {
      "cell_type": "code",
      "execution_count": null,
      "metadata": {
        "id": "p_8u2zkS_slu"
      },
      "outputs": [],
      "source": [
        "def hist_n(seria, bins, xlim_max, ylim_max):\n",
        "    plt.figure(figsize=[14,8])\n",
        "\n",
        "    plt.hist(seria, bins=bins)\n",
        "\n",
        "    plt.xlim([0,xlim_max])\n",
        "    plt.ylim([0,ylim_max])\n",
        "\n",
        "    plt.xlabel(\"Нефти на скважину,  тыс.барелей\")\n",
        "    plt.ylabel(\"Количество скважин\")\n",
        "\n",
        "    plt.title(\"Гистограмма распределения по объему скважин\")\n",
        "    plt.show()"
      ]
    },
    {
      "cell_type": "code",
      "execution_count": null,
      "metadata": {
        "id": "b_iBRdZh_slu",
        "outputId": "4b0b7243-cecf-4e1a-9489-897cc91adb3c"
      },
      "outputs": [
        {
          "data": {
            "image/png": "[encoded data removed]",
            "text/plain": [
              "<Figure size 1008x576 with 1 Axes>"
            ]
          },
          "metadata": {
            "needs_background": "light"
          },
          "output_type": "display_data"
        }
      ],
      "source": [
        "hist_n(geo_data_0['product'], 50, 150, 10000)"
      ]
    },
    {
      "cell_type": "code",
      "execution_count": null,
      "metadata": {
        "id": "M3wKSKx4_slv",
        "outputId": "3019796b-b2b5-4651-88ca-bb0e40cf82a0"
      },
      "outputs": [
        {
          "data": {
            "image/png": "[encoded data removed]",
            "text/plain": [
              "<Figure size 1008x576 with 1 Axes>"
            ]
          },
          "metadata": {
            "needs_background": "light"
          },
          "output_type": "display_data"
        }
      ],
      "source": [
        "hist_n(geo_data_1['product'], 50, 150, 10000)"
      ]
    },
    {
      "cell_type": "code",
      "execution_count": null,
      "metadata": {
        "id": "dVjf6lmH_slv",
        "outputId": "6a93a059-c06e-4fd9-a58b-bbbab21dd401"
      },
      "outputs": [
        {
          "data": {
            "image/png": "[encoded data removed]",
            "text/plain": [
              "<Figure size 1008x576 with 1 Axes>"
            ]
          },
          "metadata": {
            "needs_background": "light"
          },
          "output_type": "display_data"
        }
      ],
      "source": [
        "hist_n(geo_data_2['product'], 50, 150, 10000)"
      ]
    },
    {
      "cell_type": "markdown",
      "metadata": {
        "id": "TymXxlSN_slw"
      },
      "source": [
        "В первом и третьем варианте нормальное распределениею Во втором странное распределение."
      ]
    },
    {
      "cell_type": "markdown",
      "metadata": {
        "id": "2IulVxzz_slw"
      },
      "source": [
        "## Обучение и проверка модели"
      ]
    },
    {
      "cell_type": "code",
      "execution_count": null,
      "metadata": {
        "id": "pa7tLYpO_slw",
        "outputId": "d9775ef2-4106-46d6-a6c8-69e0f02f0158"
      },
      "outputs": [
        {
          "name": "stdout",
          "output_type": "stream",
          "text": [
            "(75000,) (25000,)\n"
          ]
        }
      ],
      "source": [
        "features_0 = geo_data_0.drop(['product'], axis = 1)\n",
        "target_0 = geo_data_0['product']\n",
        "\n",
        "features_train_0, features_valid_0, target_train_0, target_valid_0 = train_test_split(\n",
        "    features_0, target_0, test_size = 0.25, random_state = 12345)\n",
        "\n",
        "print(target_train_0.shape, target_valid_0.shape)"
      ]
    },
    {
      "cell_type": "code",
      "execution_count": null,
      "metadata": {
        "id": "u7hzx40G_slx",
        "outputId": "cae6c2e9-9c09-40f5-9611-5093660bbb03"
      },
      "outputs": [
        {
          "name": "stdout",
          "output_type": "stream",
          "text": [
            "(75000,) (25000,)\n"
          ]
        }
      ],
      "source": [
        "features_1 = geo_data_1.drop(['product'], axis = 1)\n",
        "target_1 = geo_data_1['product']\n",
        "\n",
        "features_train_1, features_valid_1, target_train_1, target_valid_1 = train_test_split(\n",
        "    features_1, target_1, test_size = 0.25, random_state = 12345)\n",
        "\n",
        "print(target_train_1.shape, target_valid_1.shape)"
      ]
    },
    {
      "cell_type": "code",
      "execution_count": null,
      "metadata": {
        "id": "AqEXtfNj_slx",
        "outputId": "2fd9dda2-376d-4f9b-f584-151262ca1c43"
      },
      "outputs": [
        {
          "name": "stdout",
          "output_type": "stream",
          "text": [
            "(75000,) (25000,)\n"
          ]
        }
      ],
      "source": [
        "features_2 = geo_data_2.drop(['product'], axis = 1)\n",
        "target_2 = geo_data_2['product']\n",
        "\n",
        "features_train_2, features_valid_2, target_train_2, target_valid_2 = train_test_split(\n",
        "    features_2, target_2, test_size = 0.25, random_state = 12345)\n",
        "\n",
        "print(target_train_2.shape, target_valid_2.shape)"
      ]
    },
    {
      "cell_type": "markdown",
      "metadata": {
        "id": "N8dkyNGS_sly"
      },
      "source": [
        "Объявили переменные и разбили данные"
      ]
    },
    {
      "cell_type": "code",
      "execution_count": null,
      "metadata": {
        "scrolled": true,
        "id": "-UVv3yhE_sly",
        "outputId": "0c42a3b9-a79f-4f9e-a49c-cbd6439af4b4"
      },
      "outputs": [
        {
          "name": "stdout",
          "output_type": "stream",
          "text": [
            "\n",
            "RMSE №1 37.5794217150813\n",
            "Cреднее количество нефти 92.59256778438035\n",
            "\n",
            "RMSE №2 0.893099286775617\n",
            "Cреднее количество нефти 68.728546895446\n",
            "\n",
            "RMSE №3 40.02970873393434\n",
            "Cреднее количество нефти 94.96504596800489\n"
          ]
        }
      ],
      "source": [
        "train_features_m = [features_train_0, features_train_1, features_train_2]\n",
        "train_targets_m = [target_train_0, target_train_1, target_train_2]\n",
        "\n",
        "valid_features_m = [features_valid_0, features_valid_1, features_valid_2]\n",
        "valid_targets_m = [target_valid_0, target_valid_1, target_valid_2]\n",
        "\n",
        "predictions_m = []\n",
        "\n",
        "for numer_geo in range(len(train_features_m)):\n",
        "    model = LinearRegression()\n",
        "    model.fit(train_features_m[numer_geo], train_targets_m[numer_geo])\n",
        "    predictions = model.predict(valid_features_m[numer_geo])\n",
        "    predictions_m.append(pd.Series(predictions))\n",
        "    print()\n",
        "    print('RMSE №' + str(numer_geo + 1), mean_squared_error(valid_targets_m[numer_geo], predictions) ** 0.5)\n",
        "    print('Cреднее количество нефти', predictions.mean())"
      ]
    },
    {
      "cell_type": "markdown",
      "metadata": {
        "id": "l1N5On0X_smG"
      },
      "source": [
        "## Подготовка к расчёту прибыли"
      ]
    },
    {
      "cell_type": "code",
      "execution_count": null,
      "metadata": {
        "id": "bQB5U9dt_smG"
      },
      "outputs": [],
      "source": [
        "budget = 10 ** 10\n",
        "best_toch = 200\n",
        "stoim_bar = 450000"
      ]
    },
    {
      "cell_type": "code",
      "execution_count": null,
      "metadata": {
        "id": "Ng8tOMYK_smH",
        "outputId": "3f0e0bff-d020-4d77-b8a3-e891a7a2b303"
      },
      "outputs": [
        {
          "name": "stdout",
          "output_type": "stream",
          "text": [
            "Одна скважина должна добывать -  112 тыс.бар. \n",
            "\n"
          ]
        }
      ],
      "source": [
        "rec_volume = budget / stoim_bar / best_toch\n",
        "print('Одна скважина должна добывать - ', round(rec_volume + 1), 'тыс.бар. \\n')"
      ]
    },
    {
      "cell_type": "code",
      "execution_count": null,
      "metadata": {
        "id": "h3PVb0uO_smH",
        "outputId": "416f497a-18b7-4431-bf87-bcd8f8d5099a"
      },
      "outputs": [
        {
          "name": "stdout",
          "output_type": "stream",
          "text": [
            "10000000000\n",
            "\n",
            "добывает первый вариант -  93 тыс.бар\n",
            "\n",
            "добывает второй вариант -  69 тыс.бар\n",
            "\n",
            "добывает третий вариант -  95 тыс.бар\n"
          ]
        }
      ],
      "source": [
        "print(budget)\n",
        "print()\n",
        "print('добывает первый вариант - ', round(geo_data_0['product'].mean()), 'тыс.бар')\n",
        "print()\n",
        "print('добывает второй вариант - ', round(geo_data_1['product'].mean()), 'тыс.бар')\n",
        "print()\n",
        "print('добывает третий вариант - ', round(geo_data_2['product'].mean()), 'тыс.бар')"
      ]
    },
    {
      "cell_type": "markdown",
      "metadata": {
        "id": "AVBbcllR_smI"
      },
      "source": [
        "При необходимом количестве 112 тыс.бар, ни один из вариантов столько не добывает."
      ]
    },
    {
      "cell_type": "markdown",
      "metadata": {
        "id": "veK5lboh_smI"
      },
      "source": [
        "## Расчёт прибыли и рисков "
      ]
    },
    {
      "cell_type": "code",
      "execution_count": null,
      "metadata": {
        "scrolled": false,
        "id": "s3xPTfv3_smJ",
        "outputId": "f064c1f3-7f4e-40c1-def0-a245c5cbe07b"
      },
      "outputs": [
        {
          "name": "stdout",
          "output_type": "stream",
          "text": [
            "Вариант №1 прибыль -  3.3208260431398506\n",
            "Вариант №2 прибыль -  2.4150866966815108\n",
            "Вариант №3 прибыль -  2.7103499635998327\n"
          ]
        }
      ],
      "source": [
        "def doch(target, probabilities, count):\n",
        "    sort = probabilities.sort_values(ascending=False)\n",
        "    selected = target[sort.index][:count].sum()\n",
        "    vib = selected * stoim_bar\n",
        "    return (vib - budget) / 10 ** 9\n",
        "\n",
        "for i in range(3):\n",
        "    print('Вариант №' +  str(i + 1), 'прибыль - ', doch(valid_targets_m[i].reset_index(drop=True), predictions_m[i], 200))"
      ]
    },
    {
      "cell_type": "markdown",
      "metadata": {
        "id": "nR4O6xMd_smJ"
      },
      "source": [
        "Вариант №1 самый прибыльный"
      ]
    },
    {
      "cell_type": "markdown",
      "metadata": {
        "id": "LkEoqIGf_smK"
      },
      "source": [
        "### Bootstrap\n",
        "\n",
        "https://practicum.yandex.ru/trainer/data-scientist/lesson/81ee4ea9-958e-4df2-abbd-2b50916f6b3c/task/fea9c8ba-a234-4565-95f8-d81a7b2f8da7/?hideTheory=1"
      ]
    },
    {
      "cell_type": "code",
      "execution_count": null,
      "metadata": {
        "id": "3cJ7y9Yc_smK",
        "outputId": "21e102f2-7cdc-4fbf-c61a-9ea3473999ed"
      },
      "outputs": [
        {
          "name": "stdout",
          "output_type": "stream",
          "text": [
            "Данные по варианту №1\n",
            "95%-й доверительный интервал: (-0.10209009483793655 : 0.9479763533583688)\n",
            "Средняя прибыль: 0.42593852691059236\n",
            "Риск убытка: 6.0  \n",
            "\n",
            "Данные по варианту №2\n",
            "95%-й доверительный интервал: (0.12812323143308443 : 0.9536129820669085)\n",
            "Средняя прибыль: 0.5182594936973248\n",
            "Риск убытка: 0.30000000000000004  \n",
            "\n",
            "Данные по варианту №3\n",
            "95%-й доверительный интервал: (-0.11585260916001143 : 0.9896299398445739)\n",
            "Средняя прибыль: 0.4201940053440501\n",
            "Риск убытка: 6.2  \n",
            "\n"
          ]
        }
      ],
      "source": [
        "values = [[],[],[]]\n",
        "state = np.random.RandomState(12345)\n",
        "\n",
        "for i in range(3):\n",
        "    for ind in range(1000):\n",
        "        target_sample = valid_targets_m[i].reset_index(drop=True).sample(n = 500, replace = True, random_state=state)\n",
        "        probs_subsample = predictions_m[i][target_sample.index]\n",
        "        \n",
        "        values[i].append(doch(target_sample, probs_subsample, 200))\n",
        "        \n",
        "    values[i] = pd.Series(values[i])\n",
        "    print('Данные по варианту №' +  str(i + 1))\n",
        "    print('95%-й доверительный интервал: (' + str(values[i].quantile(0.025)) + ' : ' + str(values[i].quantile(0.975)) + ')')\n",
        "    print('Средняя прибыль:', values[i].mean())\n",
        "    print('Риск убытка:', stats.percentileofscore(values[i], 0), ' \\n')"
      ]
    },
    {
      "cell_type": "markdown",
      "metadata": {
        "id": "sxmB9Qas_smL"
      },
      "source": [
        "Первый и третий вариант исключаем, слишком большие риски. Принимае оставшийся второй вариант."
      ]
    },
    {
      "cell_type": "markdown",
      "metadata": {
        "id": "MTRASmQr_smL"
      },
      "source": [
        "**Вывод:**\n",
        "1. Загрузили и подготовили данные\n",
        "\n",
        "2. Обучили модель для 3 вариантов\n",
        "\n",
        "3. Составили расчёт прибыли\n",
        "\n",
        "4. Посчитали прибыль и риски\n",
        "\n",
        "**Второй вариант вышел одним из лучших**"
      ]
    },
    {
      "cell_type": "markdown",
      "metadata": {
        "id": "fD8PSVan_smM"
      },
      "source": [
        "## Чек-лист готовности проекта"
      ]
    },
    {
      "cell_type": "markdown",
      "metadata": {
        "id": "r-PdM8BN_smM"
      },
      "source": [
        "Поставьте 'x' в выполненных пунктах. Далее нажмите Shift+Enter."
      ]
    },
    {
      "cell_type": "markdown",
      "metadata": {
        "id": "SZvNUdpO_smN"
      },
      "source": [
        "- [x]  Jupyter Notebook открыт\n",
        "- [x]  Весь код выполняется без ошибок\n",
        "- [x]  Ячейки с кодом расположены в порядке исполнения\n",
        "- [x]  Выполнен шаг 1: данные подготовлены\n",
        "- [x]  Выполнен шаг 2: модели обучены и проверены\n",
        "    - [x]  Данные корректно разбиты на обучающую и валидационную выборки\n",
        "    - [x]  Модели обучены, предсказания сделаны\n",
        "    - [x]  Предсказания и правильные ответы на валидационной выборке сохранены\n",
        "    - [x]  На экране напечатаны результаты\n",
        "    - [x]  Сделаны выводы\n",
        "- [x]  Выполнен шаг 3: проведена подготовка к расчёту прибыли\n",
        "    - [x]  Для всех ключевых значений созданы константы Python\n",
        "    - [x]  Посчитано минимальное среднее количество продукта в месторождениях региона, достаточное для разработки\n",
        "    - [x]  По предыдущему пункту сделаны выводы\n",
        "    - [x]  Написана функция расчёта прибыли\n",
        "- [x]  Выполнен шаг 4: посчитаны риски и прибыль\n",
        "    - [x]  Проведена процедура *Bootstrap*\n",
        "    - [x]  Все параметры бутстрепа соответствуют условию\n",
        "    - [x]  Найдены все нужные величины\n",
        "    - [x]  Предложен регион для разработки месторождения\n",
        "    - [x]  Выбор региона обоснован"
      ]
    }
  ],
  "metadata": {
    "ExecuteTimeLog": [
      {
        "duration": 1416,
        "start_time": "2023-03-23T09:40:23.892Z"
      },
      {
        "duration": 603,
        "start_time": "2023-03-23T09:40:25.310Z"
      },
      {
        "duration": 135,
        "start_time": "2023-03-23T09:40:34.125Z"
      },
      {
        "duration": 13,
        "start_time": "2023-03-23T09:40:44.929Z"
      },
      {
        "duration": 34,
        "start_time": "2023-03-23T09:41:11.287Z"
      },
      {
        "duration": 155,
        "start_time": "2023-03-23T09:41:33.339Z"
      },
      {
        "duration": 580,
        "start_time": "2023-03-23T09:42:15.391Z"
      },
      {
        "duration": 537,
        "start_time": "2023-03-23T09:42:16.083Z"
      },
      {
        "duration": 1291,
        "start_time": "2023-03-23T09:43:35.133Z"
      },
      {
        "duration": 145,
        "start_time": "2023-03-23T09:43:36.426Z"
      },
      {
        "duration": 11,
        "start_time": "2023-03-23T09:43:36.573Z"
      },
      {
        "duration": 34,
        "start_time": "2023-03-23T09:43:36.586Z"
      },
      {
        "duration": 121,
        "start_time": "2023-03-23T09:43:36.622Z"
      },
      {
        "duration": 8,
        "start_time": "2023-03-23T09:43:36.744Z"
      },
      {
        "duration": 34,
        "start_time": "2023-03-23T09:43:36.754Z"
      },
      {
        "duration": 139,
        "start_time": "2023-03-23T09:43:36.790Z"
      },
      {
        "duration": 16,
        "start_time": "2023-03-23T09:43:36.930Z"
      },
      {
        "duration": 48,
        "start_time": "2023-03-23T09:43:36.948Z"
      },
      {
        "duration": 516,
        "start_time": "2023-03-23T09:43:52.134Z"
      },
      {
        "duration": 487,
        "start_time": "2023-03-23T09:44:11.719Z"
      },
      {
        "duration": 566,
        "start_time": "2023-03-23T09:44:31.186Z"
      },
      {
        "duration": 133,
        "start_time": "2023-03-23T09:49:07.149Z"
      },
      {
        "duration": 31,
        "start_time": "2023-03-23T09:49:17.487Z"
      },
      {
        "duration": 18,
        "start_time": "2023-03-23T09:50:23.530Z"
      },
      {
        "duration": 17,
        "start_time": "2023-03-23T09:51:01.242Z"
      },
      {
        "duration": 60,
        "start_time": "2023-03-23T09:52:08.516Z"
      },
      {
        "duration": 319,
        "start_time": "2023-03-23T09:52:19.445Z"
      },
      {
        "duration": 345,
        "start_time": "2023-03-23T09:52:22.716Z"
      },
      {
        "duration": 303,
        "start_time": "2023-03-23T09:52:25.326Z"
      },
      {
        "duration": 406,
        "start_time": "2023-03-23T09:52:38.231Z"
      },
      {
        "duration": 1324,
        "start_time": "2023-03-23T09:55:18.042Z"
      },
      {
        "duration": 137,
        "start_time": "2023-03-23T09:55:19.368Z"
      },
      {
        "duration": 11,
        "start_time": "2023-03-23T09:55:19.507Z"
      },
      {
        "duration": 46,
        "start_time": "2023-03-23T09:55:19.520Z"
      },
      {
        "duration": 519,
        "start_time": "2023-03-23T09:55:19.567Z"
      },
      {
        "duration": 123,
        "start_time": "2023-03-23T09:55:20.087Z"
      },
      {
        "duration": 9,
        "start_time": "2023-03-23T09:55:20.212Z"
      },
      {
        "duration": 44,
        "start_time": "2023-03-23T09:55:20.222Z"
      },
      {
        "duration": 489,
        "start_time": "2023-03-23T09:55:20.267Z"
      },
      {
        "duration": 127,
        "start_time": "2023-03-23T09:55:20.758Z"
      },
      {
        "duration": 8,
        "start_time": "2023-03-23T09:55:20.886Z"
      },
      {
        "duration": 34,
        "start_time": "2023-03-23T09:55:20.895Z"
      },
      {
        "duration": 551,
        "start_time": "2023-03-23T09:55:20.940Z"
      },
      {
        "duration": 334,
        "start_time": "2023-03-23T09:55:21.493Z"
      },
      {
        "duration": 340,
        "start_time": "2023-03-23T09:55:21.828Z"
      },
      {
        "duration": 302,
        "start_time": "2023-03-23T09:55:22.169Z"
      },
      {
        "duration": 317,
        "start_time": "2023-03-23T09:55:22.472Z"
      },
      {
        "duration": 532,
        "start_time": "2023-03-23T10:01:14.026Z"
      },
      {
        "duration": 166,
        "start_time": "2023-03-23T10:02:31.622Z"
      },
      {
        "duration": 161,
        "start_time": "2023-03-23T10:02:50.787Z"
      },
      {
        "duration": 1362,
        "start_time": "2023-03-23T10:03:59.124Z"
      },
      {
        "duration": 177,
        "start_time": "2023-03-23T10:04:00.488Z"
      },
      {
        "duration": 14,
        "start_time": "2023-03-23T10:04:00.666Z"
      },
      {
        "duration": 71,
        "start_time": "2023-03-23T10:04:00.682Z"
      },
      {
        "duration": 513,
        "start_time": "2023-03-23T10:04:00.755Z"
      },
      {
        "duration": 156,
        "start_time": "2023-03-23T10:04:01.270Z"
      },
      {
        "duration": 12,
        "start_time": "2023-03-23T10:04:01.428Z"
      },
      {
        "duration": 58,
        "start_time": "2023-03-23T10:04:01.441Z"
      },
      {
        "duration": 485,
        "start_time": "2023-03-23T10:04:01.500Z"
      },
      {
        "duration": 167,
        "start_time": "2023-03-23T10:04:01.988Z"
      },
      {
        "duration": 9,
        "start_time": "2023-03-23T10:04:02.156Z"
      },
      {
        "duration": 50,
        "start_time": "2023-03-23T10:04:02.166Z"
      },
      {
        "duration": 558,
        "start_time": "2023-03-23T10:04:02.217Z"
      },
      {
        "duration": 338,
        "start_time": "2023-03-23T10:04:02.777Z"
      },
      {
        "duration": 338,
        "start_time": "2023-03-23T10:04:03.116Z"
      },
      {
        "duration": 308,
        "start_time": "2023-03-23T10:04:03.455Z"
      },
      {
        "duration": 8,
        "start_time": "2023-03-23T10:06:34.166Z"
      },
      {
        "duration": 4,
        "start_time": "2023-03-23T10:33:48.155Z"
      },
      {
        "duration": 128,
        "start_time": "2023-03-23T10:34:02.051Z"
      },
      {
        "duration": 4,
        "start_time": "2023-03-23T10:34:10.004Z"
      },
      {
        "duration": 10,
        "start_time": "2023-03-23T10:34:10.567Z"
      },
      {
        "duration": 1525,
        "start_time": "2023-03-23T10:34:30.834Z"
      },
      {
        "duration": 216,
        "start_time": "2023-03-23T10:34:32.362Z"
      },
      {
        "duration": 18,
        "start_time": "2023-03-23T10:34:32.580Z"
      },
      {
        "duration": 57,
        "start_time": "2023-03-23T10:34:32.600Z"
      },
      {
        "duration": 515,
        "start_time": "2023-03-23T10:34:32.658Z"
      },
      {
        "duration": 166,
        "start_time": "2023-03-23T10:34:33.175Z"
      },
      {
        "duration": 11,
        "start_time": "2023-03-23T10:34:33.349Z"
      },
      {
        "duration": 52,
        "start_time": "2023-03-23T10:34:33.361Z"
      },
      {
        "duration": 498,
        "start_time": "2023-03-23T10:34:33.415Z"
      },
      {
        "duration": 188,
        "start_time": "2023-03-23T10:34:33.916Z"
      },
      {
        "duration": 9,
        "start_time": "2023-03-23T10:34:34.106Z"
      },
      {
        "duration": 47,
        "start_time": "2023-03-23T10:34:34.116Z"
      },
      {
        "duration": 605,
        "start_time": "2023-03-23T10:34:34.165Z"
      },
      {
        "duration": 346,
        "start_time": "2023-03-23T10:34:34.772Z"
      },
      {
        "duration": 349,
        "start_time": "2023-03-23T10:34:35.120Z"
      },
      {
        "duration": 340,
        "start_time": "2023-03-23T10:34:35.471Z"
      },
      {
        "duration": 2,
        "start_time": "2023-03-23T10:34:35.813Z"
      },
      {
        "duration": 14,
        "start_time": "2023-03-23T10:34:35.817Z"
      },
      {
        "duration": 127,
        "start_time": "2023-03-23T10:34:35.833Z"
      },
      {
        "duration": 12,
        "start_time": "2023-03-23T10:35:07.067Z"
      },
      {
        "duration": 9,
        "start_time": "2023-03-23T10:35:18.068Z"
      },
      {
        "duration": 4,
        "start_time": "2023-03-23T10:35:54.854Z"
      },
      {
        "duration": 197,
        "start_time": "2023-03-23T10:35:55.487Z"
      },
      {
        "duration": 9,
        "start_time": "2023-03-23T10:35:55.854Z"
      },
      {
        "duration": 38,
        "start_time": "2023-03-23T10:35:56.035Z"
      },
      {
        "duration": 549,
        "start_time": "2023-03-23T10:35:56.221Z"
      },
      {
        "duration": 214,
        "start_time": "2023-03-23T10:35:56.772Z"
      },
      {
        "duration": 10,
        "start_time": "2023-03-23T10:35:56.988Z"
      },
      {
        "duration": 52,
        "start_time": "2023-03-23T10:35:57.000Z"
      },
      {
        "duration": 516,
        "start_time": "2023-03-23T10:35:57.259Z"
      },
      {
        "duration": 155,
        "start_time": "2023-03-23T10:35:57.777Z"
      },
      {
        "duration": 13,
        "start_time": "2023-03-23T10:35:57.940Z"
      },
      {
        "duration": 32,
        "start_time": "2023-03-23T10:35:57.956Z"
      },
      {
        "duration": 597,
        "start_time": "2023-03-23T10:35:58.066Z"
      },
      {
        "duration": 325,
        "start_time": "2023-03-23T10:35:58.665Z"
      },
      {
        "duration": 370,
        "start_time": "2023-03-23T10:35:58.992Z"
      },
      {
        "duration": 327,
        "start_time": "2023-03-23T10:35:59.363Z"
      },
      {
        "duration": 2,
        "start_time": "2023-03-23T10:35:59.692Z"
      },
      {
        "duration": 3,
        "start_time": "2023-03-23T10:36:00.708Z"
      },
      {
        "duration": 9,
        "start_time": "2023-03-23T10:36:00.898Z"
      },
      {
        "duration": 72,
        "start_time": "2023-03-23T10:36:23.955Z"
      },
      {
        "duration": 4,
        "start_time": "2023-03-23T10:37:15.384Z"
      },
      {
        "duration": 9,
        "start_time": "2023-03-23T10:37:16.679Z"
      },
      {
        "duration": 4,
        "start_time": "2023-03-23T10:37:33.044Z"
      },
      {
        "duration": 9,
        "start_time": "2023-03-23T10:55:12.808Z"
      },
      {
        "duration": 15,
        "start_time": "2023-03-23T10:57:19.913Z"
      },
      {
        "duration": 23,
        "start_time": "2023-03-23T10:57:22.207Z"
      },
      {
        "duration": 21,
        "start_time": "2023-03-23T10:57:23.398Z"
      },
      {
        "duration": 3,
        "start_time": "2023-03-23T11:02:14.016Z"
      },
      {
        "duration": 10,
        "start_time": "2023-03-23T11:02:14.646Z"
      },
      {
        "duration": 33,
        "start_time": "2023-03-23T11:02:49.941Z"
      },
      {
        "duration": 16,
        "start_time": "2023-03-23T11:03:07.366Z"
      },
      {
        "duration": 19,
        "start_time": "2023-03-23T11:03:08.406Z"
      },
      {
        "duration": 17,
        "start_time": "2023-03-23T11:03:09.665Z"
      },
      {
        "duration": 6,
        "start_time": "2023-03-23T11:03:11.013Z"
      },
      {
        "duration": 39,
        "start_time": "2023-03-23T11:03:13.512Z"
      },
      {
        "duration": 3,
        "start_time": "2023-03-23T11:03:58.794Z"
      },
      {
        "duration": 18,
        "start_time": "2023-03-23T11:04:06.771Z"
      },
      {
        "duration": 16,
        "start_time": "2023-03-23T11:04:07.084Z"
      },
      {
        "duration": 16,
        "start_time": "2023-03-23T11:04:07.385Z"
      },
      {
        "duration": 5,
        "start_time": "2023-03-23T11:04:07.736Z"
      },
      {
        "duration": 27,
        "start_time": "2023-03-23T11:04:08.492Z"
      },
      {
        "duration": 1390,
        "start_time": "2023-03-23T11:04:59.321Z"
      },
      {
        "duration": 179,
        "start_time": "2023-03-23T11:05:00.712Z"
      },
      {
        "duration": 13,
        "start_time": "2023-03-23T11:05:00.892Z"
      },
      {
        "duration": 49,
        "start_time": "2023-03-23T11:05:00.906Z"
      },
      {
        "duration": 518,
        "start_time": "2023-03-23T11:05:00.957Z"
      },
      {
        "duration": 168,
        "start_time": "2023-03-23T11:05:01.477Z"
      },
      {
        "duration": 9,
        "start_time": "2023-03-23T11:05:01.646Z"
      },
      {
        "duration": 51,
        "start_time": "2023-03-23T11:05:01.656Z"
      },
      {
        "duration": 471,
        "start_time": "2023-03-23T11:05:01.708Z"
      },
      {
        "duration": 165,
        "start_time": "2023-03-23T11:05:02.180Z"
      },
      {
        "duration": 8,
        "start_time": "2023-03-23T11:05:02.347Z"
      },
      {
        "duration": 66,
        "start_time": "2023-03-23T11:05:02.356Z"
      },
      {
        "duration": 556,
        "start_time": "2023-03-23T11:05:02.423Z"
      },
      {
        "duration": 346,
        "start_time": "2023-03-23T11:05:02.981Z"
      },
      {
        "duration": 342,
        "start_time": "2023-03-23T11:05:03.328Z"
      },
      {
        "duration": 334,
        "start_time": "2023-03-23T11:05:03.672Z"
      },
      {
        "duration": 16,
        "start_time": "2023-03-23T11:05:04.007Z"
      },
      {
        "duration": 28,
        "start_time": "2023-03-23T11:05:04.024Z"
      },
      {
        "duration": 19,
        "start_time": "2023-03-23T11:05:04.053Z"
      },
      {
        "duration": 3,
        "start_time": "2023-03-23T11:05:04.074Z"
      },
      {
        "duration": 150,
        "start_time": "2023-03-23T11:05:04.078Z"
      },
      {
        "duration": 29,
        "start_time": "2023-03-23T11:05:32.618Z"
      },
      {
        "duration": 10,
        "start_time": "2023-03-23T11:08:04.550Z"
      },
      {
        "duration": 28,
        "start_time": "2023-03-23T11:08:34.085Z"
      },
      {
        "duration": 4,
        "start_time": "2023-03-23T11:09:10.987Z"
      },
      {
        "duration": 173,
        "start_time": "2023-03-23T11:09:11.435Z"
      },
      {
        "duration": 9,
        "start_time": "2023-03-23T11:09:11.633Z"
      },
      {
        "duration": 35,
        "start_time": "2023-03-23T11:09:11.770Z"
      },
      {
        "duration": 519,
        "start_time": "2023-03-23T11:09:11.924Z"
      },
      {
        "duration": 159,
        "start_time": "2023-03-23T11:09:12.445Z"
      },
      {
        "duration": 9,
        "start_time": "2023-03-23T11:09:12.605Z"
      },
      {
        "duration": 48,
        "start_time": "2023-03-23T11:09:12.615Z"
      },
      {
        "duration": 504,
        "start_time": "2023-03-23T11:09:12.665Z"
      },
      {
        "duration": 171,
        "start_time": "2023-03-23T11:09:13.170Z"
      },
      {
        "duration": 9,
        "start_time": "2023-03-23T11:09:13.342Z"
      },
      {
        "duration": 33,
        "start_time": "2023-03-23T11:09:13.352Z"
      },
      {
        "duration": 594,
        "start_time": "2023-03-23T11:09:13.387Z"
      },
      {
        "duration": 360,
        "start_time": "2023-03-23T11:09:13.983Z"
      },
      {
        "duration": 337,
        "start_time": "2023-03-23T11:09:14.345Z"
      },
      {
        "duration": 345,
        "start_time": "2023-03-23T11:09:14.684Z"
      },
      {
        "duration": 20,
        "start_time": "2023-03-23T11:09:15.031Z"
      },
      {
        "duration": 19,
        "start_time": "2023-03-23T11:09:15.053Z"
      },
      {
        "duration": 17,
        "start_time": "2023-03-23T11:09:15.304Z"
      },
      {
        "duration": 30,
        "start_time": "2023-03-23T11:09:19.320Z"
      },
      {
        "duration": 29,
        "start_time": "2023-03-23T11:10:28.538Z"
      },
      {
        "duration": 8,
        "start_time": "2023-03-23T11:13:17.320Z"
      },
      {
        "duration": 13,
        "start_time": "2023-03-23T11:13:18.778Z"
      },
      {
        "duration": 14,
        "start_time": "2023-03-23T11:13:20.288Z"
      },
      {
        "duration": 13,
        "start_time": "2023-03-23T11:13:21.625Z"
      },
      {
        "duration": 85,
        "start_time": "2023-03-23T11:13:23.365Z"
      },
      {
        "duration": 98,
        "start_time": "2023-03-23T11:13:47.248Z"
      },
      {
        "duration": 117,
        "start_time": "2023-03-23T11:14:23.528Z"
      },
      {
        "duration": 69,
        "start_time": "2023-03-23T11:17:29.777Z"
      },
      {
        "duration": 109,
        "start_time": "2023-03-23T11:18:33.736Z"
      },
      {
        "duration": 119,
        "start_time": "2023-03-23T11:19:03.825Z"
      },
      {
        "duration": 193,
        "start_time": "2023-03-23T11:19:29.655Z"
      },
      {
        "duration": 112,
        "start_time": "2023-03-23T11:20:03.436Z"
      },
      {
        "duration": 29,
        "start_time": "2023-03-23T11:20:46.924Z"
      },
      {
        "duration": 65,
        "start_time": "2023-03-23T11:21:29.582Z"
      },
      {
        "duration": 16,
        "start_time": "2023-03-23T11:24:28.020Z"
      },
      {
        "duration": 116,
        "start_time": "2023-03-23T11:24:54.228Z"
      },
      {
        "duration": 1307,
        "start_time": "2023-03-23T11:28:57.950Z"
      },
      {
        "duration": 171,
        "start_time": "2023-03-23T11:28:59.258Z"
      },
      {
        "duration": 14,
        "start_time": "2023-03-23T11:28:59.430Z"
      },
      {
        "duration": 33,
        "start_time": "2023-03-23T11:28:59.445Z"
      },
      {
        "duration": 528,
        "start_time": "2023-03-23T11:28:59.479Z"
      },
      {
        "duration": 163,
        "start_time": "2023-03-23T11:29:00.008Z"
      },
      {
        "duration": 8,
        "start_time": "2023-03-23T11:29:00.173Z"
      },
      {
        "duration": 64,
        "start_time": "2023-03-23T11:29:00.182Z"
      },
      {
        "duration": 489,
        "start_time": "2023-03-23T11:29:00.247Z"
      },
      {
        "duration": 171,
        "start_time": "2023-03-23T11:29:00.739Z"
      },
      {
        "duration": 8,
        "start_time": "2023-03-23T11:29:00.912Z"
      },
      {
        "duration": 61,
        "start_time": "2023-03-23T11:29:00.921Z"
      },
      {
        "duration": 561,
        "start_time": "2023-03-23T11:29:00.984Z"
      },
      {
        "duration": 341,
        "start_time": "2023-03-23T11:29:01.547Z"
      },
      {
        "duration": 362,
        "start_time": "2023-03-23T11:29:01.889Z"
      },
      {
        "duration": 329,
        "start_time": "2023-03-23T11:29:02.252Z"
      },
      {
        "duration": 9,
        "start_time": "2023-03-23T11:29:02.583Z"
      },
      {
        "duration": 16,
        "start_time": "2023-03-23T11:29:02.593Z"
      },
      {
        "duration": 30,
        "start_time": "2023-03-23T11:29:02.610Z"
      },
      {
        "duration": 16,
        "start_time": "2023-03-23T11:29:02.642Z"
      },
      {
        "duration": 183,
        "start_time": "2023-03-23T11:29:02.660Z"
      },
      {
        "duration": 41,
        "start_time": "2023-03-23T11:29:28.406Z"
      },
      {
        "duration": 46,
        "start_time": "2023-03-23T11:29:55.701Z"
      },
      {
        "duration": 124,
        "start_time": "2023-03-23T11:36:50.829Z"
      },
      {
        "duration": 3,
        "start_time": "2023-03-23T11:36:51.388Z"
      },
      {
        "duration": 1345,
        "start_time": "2023-03-23T11:36:57.336Z"
      },
      {
        "duration": 187,
        "start_time": "2023-03-23T11:36:58.683Z"
      },
      {
        "duration": 12,
        "start_time": "2023-03-23T11:36:58.871Z"
      },
      {
        "duration": 34,
        "start_time": "2023-03-23T11:36:58.885Z"
      },
      {
        "duration": 573,
        "start_time": "2023-03-23T11:36:58.920Z"
      },
      {
        "duration": 161,
        "start_time": "2023-03-23T11:36:59.495Z"
      },
      {
        "duration": 9,
        "start_time": "2023-03-23T11:36:59.658Z"
      },
      {
        "duration": 36,
        "start_time": "2023-03-23T11:36:59.668Z"
      },
      {
        "duration": 512,
        "start_time": "2023-03-23T11:36:59.705Z"
      },
      {
        "duration": 185,
        "start_time": "2023-03-23T11:37:00.221Z"
      },
      {
        "duration": 9,
        "start_time": "2023-03-23T11:37:00.407Z"
      },
      {
        "duration": 63,
        "start_time": "2023-03-23T11:37:00.417Z"
      },
      {
        "duration": 594,
        "start_time": "2023-03-23T11:37:00.482Z"
      },
      {
        "duration": 366,
        "start_time": "2023-03-23T11:37:01.077Z"
      },
      {
        "duration": 339,
        "start_time": "2023-03-23T11:37:01.444Z"
      },
      {
        "duration": 349,
        "start_time": "2023-03-23T11:37:01.785Z"
      },
      {
        "duration": 10,
        "start_time": "2023-03-23T11:37:02.136Z"
      },
      {
        "duration": 27,
        "start_time": "2023-03-23T11:37:02.148Z"
      },
      {
        "duration": 37,
        "start_time": "2023-03-23T11:37:02.177Z"
      },
      {
        "duration": 39,
        "start_time": "2023-03-23T11:37:02.216Z"
      },
      {
        "duration": 25,
        "start_time": "2023-03-23T11:37:02.257Z"
      },
      {
        "duration": 265,
        "start_time": "2023-03-23T11:37:02.283Z"
      },
      {
        "duration": 399,
        "start_time": "2023-03-23T11:38:06.577Z"
      },
      {
        "duration": 435,
        "start_time": "2023-03-23T11:38:08.564Z"
      },
      {
        "duration": 363,
        "start_time": "2023-03-23T11:38:09.768Z"
      },
      {
        "duration": 200,
        "start_time": "2023-03-23T11:42:41.529Z"
      },
      {
        "duration": 200,
        "start_time": "2023-03-23T11:42:48.146Z"
      },
      {
        "duration": 206,
        "start_time": "2023-03-23T11:42:53.334Z"
      },
      {
        "duration": 198,
        "start_time": "2023-03-23T11:43:12.362Z"
      },
      {
        "duration": 194,
        "start_time": "2023-03-23T11:43:18.122Z"
      },
      {
        "duration": 194,
        "start_time": "2023-03-23T11:43:24.721Z"
      },
      {
        "duration": 203,
        "start_time": "2023-03-23T11:43:30.381Z"
      },
      {
        "duration": 297,
        "start_time": "2023-03-23T11:43:35.817Z"
      },
      {
        "duration": 189,
        "start_time": "2023-03-23T11:43:41.929Z"
      },
      {
        "duration": 1365,
        "start_time": "2023-03-23T11:43:54.408Z"
      },
      {
        "duration": 175,
        "start_time": "2023-03-23T11:43:55.775Z"
      },
      {
        "duration": 12,
        "start_time": "2023-03-23T11:43:55.952Z"
      },
      {
        "duration": 35,
        "start_time": "2023-03-23T11:43:55.966Z"
      },
      {
        "duration": 564,
        "start_time": "2023-03-23T11:43:56.004Z"
      },
      {
        "duration": 183,
        "start_time": "2023-03-23T11:43:56.570Z"
      },
      {
        "duration": 12,
        "start_time": "2023-03-23T11:43:56.755Z"
      },
      {
        "duration": 54,
        "start_time": "2023-03-23T11:43:56.768Z"
      },
      {
        "duration": 503,
        "start_time": "2023-03-23T11:43:56.824Z"
      },
      {
        "duration": 168,
        "start_time": "2023-03-23T11:43:57.329Z"
      },
      {
        "duration": 8,
        "start_time": "2023-03-23T11:43:57.498Z"
      },
      {
        "duration": 40,
        "start_time": "2023-03-23T11:43:57.508Z"
      },
      {
        "duration": 562,
        "start_time": "2023-03-23T11:43:57.549Z"
      },
      {
        "duration": 354,
        "start_time": "2023-03-23T11:43:58.113Z"
      },
      {
        "duration": 306,
        "start_time": "2023-03-23T11:43:58.469Z"
      },
      {
        "duration": 317,
        "start_time": "2023-03-23T11:43:58.776Z"
      },
      {
        "duration": 8,
        "start_time": "2023-03-23T11:43:59.094Z"
      },
      {
        "duration": 7,
        "start_time": "2023-03-23T11:43:59.103Z"
      },
      {
        "duration": 207,
        "start_time": "2023-03-23T11:43:59.111Z"
      },
      {
        "duration": 205,
        "start_time": "2023-03-23T11:43:59.319Z"
      },
      {
        "duration": 203,
        "start_time": "2023-03-23T11:43:59.525Z"
      },
      {
        "duration": 20,
        "start_time": "2023-03-23T11:43:59.729Z"
      },
      {
        "duration": 15,
        "start_time": "2023-03-23T11:43:59.750Z"
      },
      {
        "duration": 14,
        "start_time": "2023-03-23T11:43:59.767Z"
      },
      {
        "duration": 160,
        "start_time": "2023-03-23T11:43:59.783Z"
      },
      {
        "duration": 3,
        "start_time": "2023-03-23T12:06:41.822Z"
      },
      {
        "duration": 127,
        "start_time": "2023-03-23T12:06:42.348Z"
      },
      {
        "duration": 11,
        "start_time": "2023-03-23T12:06:56.803Z"
      },
      {
        "duration": 4,
        "start_time": "2023-03-23T12:07:36.863Z"
      },
      {
        "duration": 325,
        "start_time": "2023-03-23T12:07:59.097Z"
      },
      {
        "duration": 84,
        "start_time": "2023-03-23T12:08:22.472Z"
      },
      {
        "duration": 4,
        "start_time": "2023-03-23T12:08:29.601Z"
      },
      {
        "duration": 5,
        "start_time": "2023-03-23T12:11:45.429Z"
      },
      {
        "duration": 6,
        "start_time": "2023-03-23T12:11:51.230Z"
      },
      {
        "duration": 6,
        "start_time": "2023-03-23T12:12:10.268Z"
      },
      {
        "duration": 11,
        "start_time": "2023-03-23T12:13:14.549Z"
      },
      {
        "duration": 1340,
        "start_time": "2023-03-23T12:14:32.611Z"
      },
      {
        "duration": 178,
        "start_time": "2023-03-23T12:14:33.953Z"
      },
      {
        "duration": 16,
        "start_time": "2023-03-23T12:14:34.133Z"
      },
      {
        "duration": 36,
        "start_time": "2023-03-23T12:14:34.150Z"
      },
      {
        "duration": 532,
        "start_time": "2023-03-23T12:14:34.188Z"
      },
      {
        "duration": 162,
        "start_time": "2023-03-23T12:14:34.721Z"
      },
      {
        "duration": 8,
        "start_time": "2023-03-23T12:14:34.885Z"
      },
      {
        "duration": 32,
        "start_time": "2023-03-23T12:14:34.894Z"
      },
      {
        "duration": 508,
        "start_time": "2023-03-23T12:14:34.928Z"
      },
      {
        "duration": 171,
        "start_time": "2023-03-23T12:14:35.437Z"
      },
      {
        "duration": 8,
        "start_time": "2023-03-23T12:14:35.610Z"
      },
      {
        "duration": 42,
        "start_time": "2023-03-23T12:14:35.619Z"
      },
      {
        "duration": 538,
        "start_time": "2023-03-23T12:14:35.662Z"
      },
      {
        "duration": 365,
        "start_time": "2023-03-23T12:14:36.202Z"
      },
      {
        "duration": 367,
        "start_time": "2023-03-23T12:14:36.568Z"
      },
      {
        "duration": 318,
        "start_time": "2023-03-23T12:14:36.940Z"
      },
      {
        "duration": 7,
        "start_time": "2023-03-23T12:14:37.260Z"
      },
      {
        "duration": 4,
        "start_time": "2023-03-23T12:14:37.269Z"
      },
      {
        "duration": 207,
        "start_time": "2023-03-23T12:14:37.274Z"
      },
      {
        "duration": 208,
        "start_time": "2023-03-23T12:14:37.483Z"
      },
      {
        "duration": 200,
        "start_time": "2023-03-23T12:14:37.693Z"
      },
      {
        "duration": 13,
        "start_time": "2023-03-23T12:14:37.895Z"
      },
      {
        "duration": 31,
        "start_time": "2023-03-23T12:14:37.909Z"
      },
      {
        "duration": 15,
        "start_time": "2023-03-23T12:14:37.942Z"
      },
      {
        "duration": 281,
        "start_time": "2023-03-23T12:14:37.959Z"
      },
      {
        "duration": 3,
        "start_time": "2023-03-23T12:14:38.242Z"
      },
      {
        "duration": 5,
        "start_time": "2023-03-23T12:14:38.246Z"
      },
      {
        "duration": 6,
        "start_time": "2023-03-23T12:14:38.253Z"
      },
      {
        "duration": 19,
        "start_time": "2023-03-23T12:29:55.328Z"
      },
      {
        "duration": 70,
        "start_time": "2023-03-23T12:30:09.844Z"
      },
      {
        "duration": 117,
        "start_time": "2023-03-23T12:30:19.772Z"
      },
      {
        "duration": 18,
        "start_time": "2023-03-23T12:30:32.125Z"
      },
      {
        "duration": 74,
        "start_time": "2023-03-23T12:32:38.273Z"
      },
      {
        "duration": 10,
        "start_time": "2023-03-23T12:33:13.766Z"
      },
      {
        "duration": 18,
        "start_time": "2023-03-23T12:33:28.685Z"
      },
      {
        "duration": 18,
        "start_time": "2023-03-23T12:34:53.201Z"
      },
      {
        "duration": 22,
        "start_time": "2023-03-23T12:35:31.216Z"
      },
      {
        "duration": 22,
        "start_time": "2023-03-23T12:35:40.319Z"
      },
      {
        "duration": 22,
        "start_time": "2023-03-23T12:36:47.794Z"
      },
      {
        "duration": 18,
        "start_time": "2023-03-23T12:37:46.081Z"
      },
      {
        "duration": 20,
        "start_time": "2023-03-23T12:38:00.099Z"
      },
      {
        "duration": 1516,
        "start_time": "2023-03-23T12:38:14.990Z"
      },
      {
        "duration": 222,
        "start_time": "2023-03-23T12:38:16.509Z"
      },
      {
        "duration": 24,
        "start_time": "2023-03-23T12:38:16.732Z"
      },
      {
        "duration": 61,
        "start_time": "2023-03-23T12:38:16.758Z"
      },
      {
        "duration": 682,
        "start_time": "2023-03-23T12:38:16.821Z"
      },
      {
        "duration": 183,
        "start_time": "2023-03-23T12:38:17.505Z"
      },
      {
        "duration": 9,
        "start_time": "2023-03-23T12:38:17.689Z"
      },
      {
        "duration": 47,
        "start_time": "2023-03-23T12:38:17.699Z"
      },
      {
        "duration": 553,
        "start_time": "2023-03-23T12:38:17.748Z"
      },
      {
        "duration": 193,
        "start_time": "2023-03-23T12:38:18.304Z"
      },
      {
        "duration": 12,
        "start_time": "2023-03-23T12:38:18.499Z"
      },
      {
        "duration": 154,
        "start_time": "2023-03-23T12:38:18.513Z"
      },
      {
        "duration": 628,
        "start_time": "2023-03-23T12:38:18.670Z"
      },
      {
        "duration": 425,
        "start_time": "2023-03-23T12:38:19.300Z"
      },
      {
        "duration": 371,
        "start_time": "2023-03-23T12:38:19.727Z"
      },
      {
        "duration": 386,
        "start_time": "2023-03-23T12:38:20.099Z"
      },
      {
        "duration": 8,
        "start_time": "2023-03-23T12:38:20.486Z"
      },
      {
        "duration": 4,
        "start_time": "2023-03-23T12:38:20.496Z"
      },
      {
        "duration": 250,
        "start_time": "2023-03-23T12:38:20.502Z"
      },
      {
        "duration": 229,
        "start_time": "2023-03-23T12:38:20.754Z"
      },
      {
        "duration": 234,
        "start_time": "2023-03-23T12:38:20.985Z"
      },
      {
        "duration": 27,
        "start_time": "2023-03-23T12:38:21.220Z"
      },
      {
        "duration": 24,
        "start_time": "2023-03-23T12:38:21.248Z"
      },
      {
        "duration": 29,
        "start_time": "2023-03-23T12:38:21.274Z"
      },
      {
        "duration": 152,
        "start_time": "2023-03-23T12:38:21.305Z"
      },
      {
        "duration": 9,
        "start_time": "2023-03-23T12:38:21.460Z"
      },
      {
        "duration": 73,
        "start_time": "2023-03-23T12:38:21.471Z"
      },
      {
        "duration": 14,
        "start_time": "2023-03-23T12:38:21.552Z"
      },
      {
        "duration": 23,
        "start_time": "2023-03-23T12:38:21.568Z"
      },
      {
        "duration": 20,
        "start_time": "2023-03-23T12:38:21.593Z"
      },
      {
        "duration": 4941,
        "start_time": "2023-03-23T12:50:12.246Z"
      },
      {
        "duration": 4887,
        "start_time": "2023-03-23T12:52:43.273Z"
      },
      {
        "duration": 4739,
        "start_time": "2023-03-23T12:53:20.965Z"
      },
      {
        "duration": 4853,
        "start_time": "2023-03-23T12:54:01.294Z"
      },
      {
        "duration": 121,
        "start_time": "2023-03-23T12:56:55.606Z"
      },
      {
        "duration": 4958,
        "start_time": "2023-03-23T12:57:36.183Z"
      },
      {
        "duration": 4807,
        "start_time": "2023-03-23T12:57:59.171Z"
      },
      {
        "duration": 74,
        "start_time": "2023-03-23T13:08:57.627Z"
      },
      {
        "duration": 75,
        "start_time": "2023-03-23T13:09:25.839Z"
      },
      {
        "duration": 5,
        "start_time": "2023-03-23T13:10:01.846Z"
      },
      {
        "duration": 15,
        "start_time": "2023-03-23T13:22:18.255Z"
      },
      {
        "duration": 1345,
        "start_time": "2023-03-23T13:22:29.249Z"
      },
      {
        "duration": 214,
        "start_time": "2023-03-23T13:22:30.596Z"
      },
      {
        "duration": 14,
        "start_time": "2023-03-23T13:22:30.811Z"
      },
      {
        "duration": 66,
        "start_time": "2023-03-23T13:22:30.826Z"
      },
      {
        "duration": 607,
        "start_time": "2023-03-23T13:22:30.895Z"
      },
      {
        "duration": 182,
        "start_time": "2023-03-23T13:22:31.503Z"
      },
      {
        "duration": 9,
        "start_time": "2023-03-23T13:22:31.686Z"
      },
      {
        "duration": 50,
        "start_time": "2023-03-23T13:22:31.696Z"
      },
      {
        "duration": 558,
        "start_time": "2023-03-23T13:22:31.748Z"
      },
      {
        "duration": 188,
        "start_time": "2023-03-23T13:22:32.308Z"
      },
      {
        "duration": 11,
        "start_time": "2023-03-23T13:22:32.498Z"
      },
      {
        "duration": 55,
        "start_time": "2023-03-23T13:22:32.511Z"
      },
      {
        "duration": 596,
        "start_time": "2023-03-23T13:22:32.568Z"
      },
      {
        "duration": 331,
        "start_time": "2023-03-23T13:22:33.168Z"
      },
      {
        "duration": 352,
        "start_time": "2023-03-23T13:22:33.501Z"
      },
      {
        "duration": 329,
        "start_time": "2023-03-23T13:22:33.854Z"
      },
      {
        "duration": 9,
        "start_time": "2023-03-23T13:22:34.184Z"
      },
      {
        "duration": 4,
        "start_time": "2023-03-23T13:22:34.195Z"
      },
      {
        "duration": 224,
        "start_time": "2023-03-23T13:22:34.201Z"
      },
      {
        "duration": 225,
        "start_time": "2023-03-23T13:22:34.426Z"
      },
      {
        "duration": 208,
        "start_time": "2023-03-23T13:22:34.652Z"
      },
      {
        "duration": 16,
        "start_time": "2023-03-23T13:22:34.862Z"
      },
      {
        "duration": 15,
        "start_time": "2023-03-23T13:22:34.879Z"
      },
      {
        "duration": 14,
        "start_time": "2023-03-23T13:22:34.896Z"
      },
      {
        "duration": 137,
        "start_time": "2023-03-23T13:22:34.911Z"
      },
      {
        "duration": 3,
        "start_time": "2023-03-23T13:22:35.050Z"
      },
      {
        "duration": 9,
        "start_time": "2023-03-23T13:22:35.054Z"
      },
      {
        "duration": 175,
        "start_time": "2023-03-23T13:22:35.065Z"
      },
      {
        "duration": 28,
        "start_time": "2023-03-23T13:22:35.242Z"
      },
      {
        "duration": 20,
        "start_time": "2023-03-23T13:22:35.272Z"
      },
      {
        "duration": 174,
        "start_time": "2023-03-23T13:22:35.294Z"
      },
      {
        "duration": 4192,
        "start_time": "2023-03-23T13:24:27.114Z"
      },
      {
        "duration": 3706,
        "start_time": "2023-03-23T13:24:47.373Z"
      },
      {
        "duration": 3707,
        "start_time": "2023-03-23T13:25:29.312Z"
      },
      {
        "duration": 3556,
        "start_time": "2023-03-23T13:27:10.045Z"
      },
      {
        "duration": 3859,
        "start_time": "2023-03-23T13:28:43.968Z"
      },
      {
        "duration": 3904,
        "start_time": "2023-03-23T13:29:10.244Z"
      },
      {
        "duration": 3831,
        "start_time": "2023-03-23T13:29:28.175Z"
      },
      {
        "duration": 99,
        "start_time": "2023-03-23T13:30:08.951Z"
      },
      {
        "duration": 4056,
        "start_time": "2023-03-23T13:30:15.727Z"
      },
      {
        "duration": 3969,
        "start_time": "2023-03-23T13:30:34.253Z"
      },
      {
        "duration": 3856,
        "start_time": "2023-03-23T13:30:56.331Z"
      },
      {
        "duration": 3811,
        "start_time": "2023-03-23T13:31:08.588Z"
      },
      {
        "duration": 3730,
        "start_time": "2023-03-23T13:31:39.327Z"
      },
      {
        "duration": 23,
        "start_time": "2023-03-23T13:36:51.822Z"
      },
      {
        "duration": 25,
        "start_time": "2023-03-23T13:37:00.391Z"
      },
      {
        "duration": 27,
        "start_time": "2023-03-23T13:37:47.326Z"
      },
      {
        "duration": 1418,
        "start_time": "2023-03-23T13:40:43.802Z"
      },
      {
        "duration": 179,
        "start_time": "2023-03-23T13:40:45.222Z"
      },
      {
        "duration": 11,
        "start_time": "2023-03-23T13:40:45.403Z"
      },
      {
        "duration": 41,
        "start_time": "2023-03-23T13:40:45.416Z"
      },
      {
        "duration": 523,
        "start_time": "2023-03-23T13:40:45.459Z"
      },
      {
        "duration": 180,
        "start_time": "2023-03-23T13:40:45.983Z"
      },
      {
        "duration": 9,
        "start_time": "2023-03-23T13:40:46.165Z"
      },
      {
        "duration": 40,
        "start_time": "2023-03-23T13:40:46.175Z"
      },
      {
        "duration": 531,
        "start_time": "2023-03-23T13:40:46.217Z"
      },
      {
        "duration": 173,
        "start_time": "2023-03-23T13:40:46.750Z"
      },
      {
        "duration": 16,
        "start_time": "2023-03-23T13:40:46.925Z"
      },
      {
        "duration": 36,
        "start_time": "2023-03-23T13:40:46.942Z"
      },
      {
        "duration": 583,
        "start_time": "2023-03-23T13:40:46.979Z"
      },
      {
        "duration": 391,
        "start_time": "2023-03-23T13:40:47.566Z"
      },
      {
        "duration": 320,
        "start_time": "2023-03-23T13:40:47.958Z"
      },
      {
        "duration": 374,
        "start_time": "2023-03-23T13:40:48.280Z"
      },
      {
        "duration": 8,
        "start_time": "2023-03-23T13:40:48.656Z"
      },
      {
        "duration": 9,
        "start_time": "2023-03-23T13:40:48.665Z"
      },
      {
        "duration": 207,
        "start_time": "2023-03-23T13:40:48.675Z"
      },
      {
        "duration": 211,
        "start_time": "2023-03-23T13:40:48.884Z"
      },
      {
        "duration": 204,
        "start_time": "2023-03-23T13:40:49.096Z"
      },
      {
        "duration": 13,
        "start_time": "2023-03-23T13:40:49.302Z"
      },
      {
        "duration": 29,
        "start_time": "2023-03-23T13:40:49.317Z"
      },
      {
        "duration": 14,
        "start_time": "2023-03-23T13:40:49.347Z"
      },
      {
        "duration": 91,
        "start_time": "2023-03-23T13:40:49.363Z"
      },
      {
        "duration": 3,
        "start_time": "2023-03-23T13:40:49.541Z"
      },
      {
        "duration": 8,
        "start_time": "2023-03-23T13:40:49.546Z"
      },
      {
        "duration": 106,
        "start_time": "2023-03-23T13:40:49.555Z"
      },
      {
        "duration": 23,
        "start_time": "2023-03-23T13:40:49.662Z"
      },
      {
        "duration": 3753,
        "start_time": "2023-03-23T13:40:49.687Z"
      },
      {
        "duration": 1686,
        "start_time": "2023-03-23T13:43:21.932Z"
      },
      {
        "duration": 247,
        "start_time": "2023-03-23T13:43:23.623Z"
      },
      {
        "duration": 14,
        "start_time": "2023-03-23T13:43:23.871Z"
      },
      {
        "duration": 63,
        "start_time": "2023-03-23T13:43:23.887Z"
      },
      {
        "duration": 545,
        "start_time": "2023-03-23T13:43:23.952Z"
      },
      {
        "duration": 182,
        "start_time": "2023-03-23T13:43:24.499Z"
      },
      {
        "duration": 13,
        "start_time": "2023-03-23T13:43:24.683Z"
      },
      {
        "duration": 56,
        "start_time": "2023-03-23T13:43:24.698Z"
      },
      {
        "duration": 586,
        "start_time": "2023-03-23T13:43:24.757Z"
      },
      {
        "duration": 173,
        "start_time": "2023-03-23T13:43:25.346Z"
      },
      {
        "duration": 10,
        "start_time": "2023-03-23T13:43:25.523Z"
      },
      {
        "duration": 118,
        "start_time": "2023-03-23T13:43:25.535Z"
      },
      {
        "duration": 531,
        "start_time": "2023-03-23T13:43:25.654Z"
      },
      {
        "duration": 401,
        "start_time": "2023-03-23T13:43:26.188Z"
      },
      {
        "duration": 367,
        "start_time": "2023-03-23T13:43:26.591Z"
      },
      {
        "duration": 335,
        "start_time": "2023-03-23T13:43:26.960Z"
      },
      {
        "duration": 10,
        "start_time": "2023-03-23T13:43:27.298Z"
      },
      {
        "duration": 9,
        "start_time": "2023-03-23T13:43:27.311Z"
      },
      {
        "duration": 224,
        "start_time": "2023-03-23T13:43:27.321Z"
      },
      {
        "duration": 267,
        "start_time": "2023-03-23T13:43:27.547Z"
      },
      {
        "duration": 321,
        "start_time": "2023-03-23T13:43:27.816Z"
      },
      {
        "duration": 17,
        "start_time": "2023-03-23T13:43:28.140Z"
      },
      {
        "duration": 28,
        "start_time": "2023-03-23T13:43:28.159Z"
      },
      {
        "duration": 19,
        "start_time": "2023-03-23T13:43:28.190Z"
      },
      {
        "duration": 232,
        "start_time": "2023-03-23T13:43:28.210Z"
      },
      {
        "duration": 8,
        "start_time": "2023-03-23T13:43:28.444Z"
      },
      {
        "duration": 7,
        "start_time": "2023-03-23T13:43:28.454Z"
      },
      {
        "duration": 80,
        "start_time": "2023-03-23T13:43:28.465Z"
      },
      {
        "duration": 32,
        "start_time": "2023-03-23T13:43:28.550Z"
      },
      {
        "duration": 4007,
        "start_time": "2023-03-23T13:43:28.584Z"
      },
      {
        "duration": 3015,
        "start_time": "2023-03-24T07:34:57.577Z"
      },
      {
        "duration": 509,
        "start_time": "2023-03-24T07:35:00.595Z"
      },
      {
        "duration": 21,
        "start_time": "2023-03-24T07:35:01.107Z"
      },
      {
        "duration": 156,
        "start_time": "2023-03-24T07:35:01.131Z"
      },
      {
        "duration": 914,
        "start_time": "2023-03-24T07:35:01.295Z"
      },
      {
        "duration": 348,
        "start_time": "2023-03-24T07:35:02.211Z"
      },
      {
        "duration": 17,
        "start_time": "2023-03-24T07:35:02.561Z"
      },
      {
        "duration": 103,
        "start_time": "2023-03-24T07:35:02.580Z"
      },
      {
        "duration": 698,
        "start_time": "2023-03-24T07:35:02.685Z"
      },
      {
        "duration": 391,
        "start_time": "2023-03-24T07:35:03.385Z"
      },
      {
        "duration": 15,
        "start_time": "2023-03-24T07:35:03.779Z"
      },
      {
        "duration": 123,
        "start_time": "2023-03-24T07:35:03.797Z"
      },
      {
        "duration": 891,
        "start_time": "2023-03-24T07:35:03.923Z"
      },
      {
        "duration": 491,
        "start_time": "2023-03-24T07:35:04.826Z"
      },
      {
        "duration": 486,
        "start_time": "2023-03-24T07:35:05.319Z"
      },
      {
        "duration": 475,
        "start_time": "2023-03-24T07:35:05.808Z"
      },
      {
        "duration": 14,
        "start_time": "2023-03-24T07:35:06.285Z"
      },
      {
        "duration": 22,
        "start_time": "2023-03-24T07:35:06.302Z"
      },
      {
        "duration": 342,
        "start_time": "2023-03-24T07:35:06.327Z"
      },
      {
        "duration": 306,
        "start_time": "2023-03-24T07:35:06.672Z"
      },
      {
        "duration": 312,
        "start_time": "2023-03-24T07:35:06.981Z"
      },
      {
        "duration": 27,
        "start_time": "2023-03-24T07:35:07.296Z"
      },
      {
        "duration": 30,
        "start_time": "2023-03-24T07:35:07.346Z"
      },
      {
        "duration": 34,
        "start_time": "2023-03-24T07:35:07.379Z"
      },
      {
        "duration": 345,
        "start_time": "2023-03-24T07:35:07.415Z"
      },
      {
        "duration": 2,
        "start_time": "2023-03-24T07:35:07.768Z"
      },
      {
        "duration": 70,
        "start_time": "2023-03-24T07:35:07.772Z"
      },
      {
        "duration": 107,
        "start_time": "2023-03-24T07:35:07.851Z"
      },
      {
        "duration": 36,
        "start_time": "2023-03-24T07:35:07.965Z"
      },
      {
        "duration": 5532,
        "start_time": "2023-03-24T07:35:08.004Z"
      }
    ],
    "kernelspec": {
      "display_name": "Python 3 (ipykernel)",
      "language": "python",
      "name": "python3"
    },
    "language_info": {
      "codemirror_mode": {
        "name": "ipython",
        "version": 3
      },
      "file_extension": ".py",
      "mimetype": "text/x-python",
      "name": "python",
      "nbconvert_exporter": "python",
      "pygments_lexer": "ipython3",
      "version": "3.9.5"
    },
    "toc": {
      "base_numbering": 1,
      "nav_menu": {},
      "number_sections": true,
      "sideBar": true,
      "skip_h1_title": true,
      "title_cell": "Table of Contents",
      "title_sidebar": "Contents",
      "toc_cell": false,
      "toc_position": {},
      "toc_section_display": true,
      "toc_window_display": true
    },
    "colab": {
      "provenance": [],
      "include_colab_link": true
    }
  },
  "nbformat": 4,
  "nbformat_minor": 0
}
