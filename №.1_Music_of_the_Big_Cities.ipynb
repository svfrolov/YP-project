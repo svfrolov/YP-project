{
  "cells": [
    {
      "cell_type": "markdown",
      "metadata": {
        "id": "view-in-github",
        "colab_type": "text"
      },
      "source": [
        "<a href=\"https://colab.research.google.com/github/svfrolov/YP-project/blob/main/%E2%84%961_%D0%9C%D1%83%D0%B7%D1%8B%D0%BA%D0%B0_%D0%B1%D0%BE%D0%BB%D1%8C%D1%88%D0%B8%D1%85_%D0%B3%D0%BE%D1%80%D0%BE%D0%B4%D0%BE%D0%B2.ipynb\" target=\"_parent\"><img src=\"https://colab.research.google.com/assets/colab-badge.svg\" alt=\"Open In Colab\"/></a>"
      ]
    },
    {
      "cell_type": "markdown",
      "metadata": {
        "deletable": false,
        "editable": false,
        "id": "E0vqbgi9ay0H"
      },
      "source": [
        "# Яндекс Музыка"
      ]
    },
    {
      "cell_type": "markdown",
      "metadata": {
        "deletable": false,
        "editable": false,
        "id": "VUC88oWjTJw2"
      },
      "source": [
        "Сравнение Москвы и Петербурга окружено мифами. Например:\n",
        " * Москва — мегаполис, подчинённый жёсткому ритму рабочей недели;\n",
        " * Петербург — культурная столица, со своими вкусами.\n",
        "\n",
        "На данных Яндекс Музыки вы сравните поведение пользователей двух столиц.\n",
        "\n",
        "**Цель исследования** — проверить три гипотезы:\n",
        "1. Активность пользователей зависит от дня недели. Причём в Москве и Петербурге это проявляется по-разному.\n",
        "2. В понедельник утром в Москве преобладают одни жанры, а в Петербурге — другие. Так же и вечером пятницы преобладают разные жанры — в зависимости от города. \n",
        "3. Москва и Петербург предпочитают разные жанры музыки. В Москве чаще слушают поп-музыку, в Петербурге — русский рэп.\n",
        "\n",
        "**Ход исследования**\n",
        "\n",
        "Данные о поведении пользователей в файле `yandex_music_project.csv`. О качестве данных ничего не известно. Поэтому перед проверкой гипотез понадобится обзор данных. \n",
        "\n",
        "Проверим данные на ошибки и оценим их влияние на исследование. Затем, на этапе предобработки найдём возможность исправить самые критичные ошибки данных.\n",
        " \n",
        "Таким образом, исследование пройдёт в три этапа:\n",
        " 1. Обзор данных.\n",
        " 2. Предобработка данных.\n",
        " 3. Проверка гипотез.\n",
        "\n"
      ]
    },
    {
      "cell_type": "markdown",
      "metadata": {
        "deletable": false,
        "editable": false,
        "id": "Ml1hmfXC_Zcs"
      },
      "source": [
        "## Обзор данных\n",
        "\n",
        "Составим первое представление о данных Яндекс Музыки.\n",
        "\n",
        "\n"
      ]
    },
    {
      "cell_type": "code",
      "execution_count": null,
      "metadata": {
        "deletable": false,
        "id": "AXN7PHPN_Zcs"
      },
      "outputs": [],
      "source": [
        "import pandas as pd # импорт библиотеки pandas"
      ]
    },
    {
      "cell_type": "code",
      "execution_count": null,
      "metadata": {
        "deletable": false,
        "id": "fFVu7vqh_Zct"
      },
      "outputs": [],
      "source": [
        "df = pd.read_csv('/datasets/yandex_music_project.csv') # чтение файла с данными и сохранение в df"
      ]
    },
    {
      "cell_type": "code",
      "execution_count": null,
      "metadata": {
        "deletable": false,
        "id": "oWTVX3gW_Zct",
        "outputId": "f85b9eb9-13ce-49fa-c020-f7b9fd98809b"
      },
      "outputs": [
        {
          "data": {
            "text/html": [
              "<div>\n",
              "<style scoped>\n",
              "    .dataframe tbody tr th:only-of-type {\n",
              "        vertical-align: middle;\n",
              "    }\n",
              "\n",
              "    .dataframe tbody tr th {\n",
              "        vertical-align: top;\n",
              "    }\n",
              "\n",
              "    .dataframe thead th {\n",
              "        text-align: right;\n",
              "    }\n",
              "</style>\n",
              "<table border=\"1\" class=\"dataframe\">\n",
              "  <thead>\n",
              "    <tr style=\"text-align: right;\">\n",
              "      <th></th>\n",
              "      <th>userID</th>\n",
              "      <th>Track</th>\n",
              "      <th>artist</th>\n",
              "      <th>genre</th>\n",
              "      <th>City</th>\n",
              "      <th>time</th>\n",
              "      <th>Day</th>\n",
              "    </tr>\n",
              "  </thead>\n",
              "  <tbody>\n",
              "    <tr>\n",
              "      <th>0</th>\n",
              "      <td>FFB692EC</td>\n",
              "      <td>Kamigata To Boots</td>\n",
              "      <td>The Mass Missile</td>\n",
              "      <td>rock</td>\n",
              "      <td>Saint-Petersburg</td>\n",
              "      <td>20:28:33</td>\n",
              "      <td>Wednesday</td>\n",
              "    </tr>\n",
              "    <tr>\n",
              "      <th>1</th>\n",
              "      <td>55204538</td>\n",
              "      <td>Delayed Because of Accident</td>\n",
              "      <td>Andreas Rönnberg</td>\n",
              "      <td>rock</td>\n",
              "      <td>Moscow</td>\n",
              "      <td>14:07:09</td>\n",
              "      <td>Friday</td>\n",
              "    </tr>\n",
              "    <tr>\n",
              "      <th>2</th>\n",
              "      <td>20EC38</td>\n",
              "      <td>Funiculì funiculà</td>\n",
              "      <td>Mario Lanza</td>\n",
              "      <td>pop</td>\n",
              "      <td>Saint-Petersburg</td>\n",
              "      <td>20:58:07</td>\n",
              "      <td>Wednesday</td>\n",
              "    </tr>\n",
              "    <tr>\n",
              "      <th>3</th>\n",
              "      <td>A3DD03C9</td>\n",
              "      <td>Dragons in the Sunset</td>\n",
              "      <td>Fire + Ice</td>\n",
              "      <td>folk</td>\n",
              "      <td>Saint-Petersburg</td>\n",
              "      <td>08:37:09</td>\n",
              "      <td>Monday</td>\n",
              "    </tr>\n",
              "    <tr>\n",
              "      <th>4</th>\n",
              "      <td>E2DC1FAE</td>\n",
              "      <td>Soul People</td>\n",
              "      <td>Space Echo</td>\n",
              "      <td>dance</td>\n",
              "      <td>Moscow</td>\n",
              "      <td>08:34:34</td>\n",
              "      <td>Monday</td>\n",
              "    </tr>\n",
              "    <tr>\n",
              "      <th>5</th>\n",
              "      <td>842029A1</td>\n",
              "      <td>Преданная</td>\n",
              "      <td>IMPERVTOR</td>\n",
              "      <td>rusrap</td>\n",
              "      <td>Saint-Petersburg</td>\n",
              "      <td>13:09:41</td>\n",
              "      <td>Friday</td>\n",
              "    </tr>\n",
              "    <tr>\n",
              "      <th>6</th>\n",
              "      <td>4CB90AA5</td>\n",
              "      <td>True</td>\n",
              "      <td>Roman Messer</td>\n",
              "      <td>dance</td>\n",
              "      <td>Moscow</td>\n",
              "      <td>13:00:07</td>\n",
              "      <td>Wednesday</td>\n",
              "    </tr>\n",
              "    <tr>\n",
              "      <th>7</th>\n",
              "      <td>F03E1C1F</td>\n",
              "      <td>Feeling This Way</td>\n",
              "      <td>Polina Griffith</td>\n",
              "      <td>dance</td>\n",
              "      <td>Moscow</td>\n",
              "      <td>20:47:49</td>\n",
              "      <td>Wednesday</td>\n",
              "    </tr>\n",
              "    <tr>\n",
              "      <th>8</th>\n",
              "      <td>8FA1D3BE</td>\n",
              "      <td>И вновь продолжается бой</td>\n",
              "      <td>NaN</td>\n",
              "      <td>ruspop</td>\n",
              "      <td>Moscow</td>\n",
              "      <td>09:17:40</td>\n",
              "      <td>Friday</td>\n",
              "    </tr>\n",
              "    <tr>\n",
              "      <th>9</th>\n",
              "      <td>E772D5C0</td>\n",
              "      <td>Pessimist</td>\n",
              "      <td>NaN</td>\n",
              "      <td>dance</td>\n",
              "      <td>Saint-Petersburg</td>\n",
              "      <td>21:20:49</td>\n",
              "      <td>Wednesday</td>\n",
              "    </tr>\n",
              "  </tbody>\n",
              "</table>\n",
              "</div>"
            ],
            "text/plain": [
              "     userID                        Track            artist   genre  \\\n",
              "0  FFB692EC            Kamigata To Boots  The Mass Missile    rock   \n",
              "1  55204538  Delayed Because of Accident  Andreas Rönnberg    rock   \n",
              "2    20EC38            Funiculì funiculà       Mario Lanza     pop   \n",
              "3  A3DD03C9        Dragons in the Sunset        Fire + Ice    folk   \n",
              "4  E2DC1FAE                  Soul People        Space Echo   dance   \n",
              "5  842029A1                    Преданная         IMPERVTOR  rusrap   \n",
              "6  4CB90AA5                         True      Roman Messer   dance   \n",
              "7  F03E1C1F             Feeling This Way   Polina Griffith   dance   \n",
              "8  8FA1D3BE     И вновь продолжается бой               NaN  ruspop   \n",
              "9  E772D5C0                    Pessimist               NaN   dance   \n",
              "\n",
              "             City        time        Day  \n",
              "0  Saint-Petersburg  20:28:33  Wednesday  \n",
              "1            Moscow  14:07:09     Friday  \n",
              "2  Saint-Petersburg  20:58:07  Wednesday  \n",
              "3  Saint-Petersburg  08:37:09     Monday  \n",
              "4            Moscow  08:34:34     Monday  \n",
              "5  Saint-Petersburg  13:09:41     Friday  \n",
              "6            Moscow  13:00:07  Wednesday  \n",
              "7            Moscow  20:47:49  Wednesday  \n",
              "8            Moscow  09:17:40     Friday  \n",
              "9  Saint-Petersburg  21:20:49  Wednesday  "
            ]
          },
          "execution_count": 294,
          "metadata": {},
          "output_type": "execute_result"
        }
      ],
      "source": [
        "df.head(10) # получение первых 10 строк таблицы df"
      ]
    },
    {
      "cell_type": "code",
      "execution_count": null,
      "metadata": {
        "deletable": false,
        "id": "DSf2kIb-_Zct",
        "outputId": "4878b0ca-5f1b-49d5-abb1-85a559f41276"
      },
      "outputs": [
        {
          "name": "stdout",
          "output_type": "stream",
          "text": [
            "<class 'pandas.core.frame.DataFrame'>\n",
            "RangeIndex: 65079 entries, 0 to 65078\n",
            "Data columns (total 7 columns):\n",
            " #   Column    Non-Null Count  Dtype \n",
            "---  ------    --------------  ----- \n",
            " 0     userID  65079 non-null  object\n",
            " 1   Track     63848 non-null  object\n",
            " 2   artist    57876 non-null  object\n",
            " 3   genre     63881 non-null  object\n",
            " 4     City    65079 non-null  object\n",
            " 5   time      65079 non-null  object\n",
            " 6   Day       65079 non-null  object\n",
            "dtypes: object(7)\n",
            "memory usage: 3.5+ MB\n"
          ]
        }
      ],
      "source": [
        "df.info() # получение общей информации о данных в таблице df"
      ]
    },
    {
      "cell_type": "markdown",
      "metadata": {
        "deletable": false,
        "editable": false,
        "id": "TaQ2Iwbr_Zct"
      },
      "source": [
        "В таблице семь столбцов. Тип данных во всех столбцах — `object`.\n",
        "\n",
        "Согласно документации к данным:\n",
        "* `userID` — идентификатор пользователя;\n",
        "* `Track` — название трека;  \n",
        "* `artist` — имя исполнителя;\n",
        "* `genre` — название жанра;\n",
        "* `City` — город пользователя;\n",
        "* `time` — время начала прослушивания;\n",
        "* `Day` — день недели.\n",
        "\n",
        "Количество значений в столбцах различается. Значит, в данных есть пропущенные значения."
      ]
    },
    {
      "cell_type": "markdown",
      "metadata": {
        "deletable": false,
        "editable": false,
        "id": "MCB6-dXG_Zct"
      },
      "source": [
        "**Выводы**\n",
        "\n",
        "В каждой строке таблицы — данные о прослушанном треке. Часть колонок описывает саму композицию: название, исполнителя и жанр. Остальные данные рассказывают о пользователе: из какого он города, когда он слушал музыку. \n",
        "\n",
        "Предварительно можно утверждать, что данных достаточно для проверки гипотез. Но встречаются пропуски в данных, а в названиях колонок — расхождения с хорошим стилем.\n",
        "\n",
        "Чтобы двигаться дальше, нужно устранить проблемы в данных."
      ]
    },
    {
      "cell_type": "markdown",
      "metadata": {
        "deletable": false,
        "editable": false,
        "id": "SjYF6Ub9_Zct"
      },
      "source": [
        "## Предобработка данных\n",
        "Исправим стиль в заголовках столбцов, исключим пропуски. Затем проверим данные на дубликаты."
      ]
    },
    {
      "cell_type": "code",
      "execution_count": null,
      "metadata": {
        "deletable": false,
        "id": "oKOTdF_Q_Zct",
        "outputId": "2261e78a-be99-4e10-c944-d3fc8616e521"
      },
      "outputs": [
        {
          "data": {
            "text/plain": [
              "Index(['  userID', 'Track', 'artist', 'genre', '  City  ', 'time', 'Day'], dtype='object')"
            ]
          },
          "execution_count": 297,
          "metadata": {},
          "output_type": "execute_result"
        }
      ],
      "source": [
        "df.columns # перечень названий столбцов таблицы df"
      ]
    },
    {
      "cell_type": "markdown",
      "metadata": {
        "deletable": false,
        "editable": false,
        "id": "zj5534cv_Zct",
        "tags": [
          "start_task"
        ]
      },
      "source": [
        "Приведите названия в соответствие с хорошим стилем:\n",
        "* несколько слов в названии запишем в «змеином_регистре»,\n",
        "* все символы сделаем строчными,\n",
        "* устраним пробелы.\n",
        "\n",
        "Для этого переименуем колонки так:\n",
        "* `'  userID'` → `'user_id'`;\n",
        "* `'Track'` → `'track'`;\n",
        "* `'  City  '` → `'city'`;\n",
        "* `'Day'` → `'day'`."
      ]
    },
    {
      "cell_type": "code",
      "execution_count": null,
      "metadata": {
        "deletable": false,
        "id": "ISlFqs5y_Zct"
      },
      "outputs": [],
      "source": [
        "df = df.rename(columns={'  userID':'user_id', 'Track':'track', '  City  ':'city',  'Day':'day'}) # переименование столбцов"
      ]
    },
    {
      "cell_type": "code",
      "execution_count": null,
      "metadata": {
        "deletable": false,
        "id": "d4NOAmTW_Zct",
        "outputId": "0baa3c62-1c4f-4942-921a-8be4a0ca29d9"
      },
      "outputs": [
        {
          "data": {
            "text/plain": [
              "Index(['user_id', 'track', 'artist', 'genre', 'city', 'time', 'day'], dtype='object')"
            ]
          },
          "execution_count": 299,
          "metadata": {},
          "output_type": "execute_result"
        }
      ],
      "source": [
        "df.columns # проверка результатов - перечень названий столбцов"
      ]
    },
    {
      "cell_type": "code",
      "execution_count": null,
      "metadata": {
        "deletable": false,
        "id": "RskX29qr_Zct",
        "outputId": "2525f067-5ce4-4960-a3ac-bd4e959cb56f"
      },
      "outputs": [
        {
          "data": {
            "text/plain": [
              "user_id       0\n",
              "track      1231\n",
              "artist     7203\n",
              "genre      1198\n",
              "city          0\n",
              "time          0\n",
              "day           0\n",
              "dtype: int64"
            ]
          },
          "execution_count": 300,
          "metadata": {},
          "output_type": "execute_result"
        }
      ],
      "source": [
        "df.isna().sum() # подсчёт пропусков"
      ]
    },
    {
      "cell_type": "markdown",
      "metadata": {
        "deletable": false,
        "editable": false,
        "id": "qubhgnlO_Zct"
      },
      "source": [
        "Не все пропущенные значения влияют на исследование. Так в `track` и `artist` пропуски не важны для вашей работы. Достаточно заменить их явными обозначениями.\n",
        "\n",
        "Но пропуски в `genre` могут помешать сравнению музыкальных вкусов в Москве и Санкт-Петербурге. На практике было бы правильно установить причину пропусков и восстановить данные. Такой возможности нет в учебном проекте. Придётся:\n",
        "* заполнить и эти пропуски явными обозначениями;\n",
        "* оценить, насколько они повредят расчётам. "
      ]
    },
    {
      "cell_type": "code",
      "execution_count": null,
      "metadata": {
        "deletable": false,
        "id": "KplB5qWs_Zct"
      },
      "outputs": [],
      "source": [
        "columns_to_replace = ['track', 'artist', 'genre'] # список со столбцами, в которых нужно заменить значения\n",
        "\n",
        "for column in columns_to_replace:\n",
        "    df[column] = df[column].fillna('unknown') # перебор названий столбцов в цикле и замена пропущенных значений на 'unknown'"
      ]
    },
    {
      "cell_type": "code",
      "execution_count": null,
      "metadata": {
        "deletable": false,
        "id": "Tq4nYRX4_Zct",
        "outputId": "31f5c1de-38e7-41bb-f18f-fc6b0f6aa7dd"
      },
      "outputs": [
        {
          "data": {
            "text/plain": [
              "user_id    0\n",
              "track      0\n",
              "artist     0\n",
              "genre      0\n",
              "city       0\n",
              "time       0\n",
              "day        0\n",
              "dtype: int64"
            ]
          },
          "execution_count": 302,
          "metadata": {},
          "output_type": "execute_result"
        }
      ],
      "source": [
        "df.isna().sum() # подсчёт пропусков"
      ]
    },
    {
      "cell_type": "code",
      "execution_count": null,
      "metadata": {
        "deletable": false,
        "id": "36eES_S0_Zct",
        "outputId": "f36e3b70-b569-4c39-b2a2-68de0fadd307"
      },
      "outputs": [
        {
          "data": {
            "text/plain": [
              "3826"
            ]
          },
          "execution_count": 303,
          "metadata": {},
          "output_type": "execute_result"
        }
      ],
      "source": [
        "df.duplicated().sum() # подсчёт явных дубликатов"
      ]
    },
    {
      "cell_type": "code",
      "execution_count": null,
      "metadata": {
        "deletable": false,
        "id": "exFHq6tt_Zct"
      },
      "outputs": [],
      "source": [
        "df = df.drop_duplicates() # удаление явных дубликатов"
      ]
    },
    {
      "cell_type": "code",
      "execution_count": null,
      "metadata": {
        "deletable": false,
        "id": "-8PuNWQ0_Zct",
        "outputId": "f0edfd17-86e6-4efa-915e-7356da0890f5"
      },
      "outputs": [
        {
          "data": {
            "text/plain": [
              "0"
            ]
          },
          "execution_count": 305,
          "metadata": {},
          "output_type": "execute_result"
        }
      ],
      "source": [
        "df.duplicated().sum() # проверка на отсутствие дубликатов"
      ]
    },
    {
      "cell_type": "markdown",
      "metadata": {
        "deletable": false,
        "editable": false,
        "id": "QlFBsxAr_Zct"
      },
      "source": [
        "Теперь избавимся от неявных дубликатов в колонке `genre`. Например, название одного и того же жанра может быть записано немного по-разному. Такие ошибки тоже повлияют на результат исследования."
      ]
    },
    {
      "cell_type": "markdown",
      "metadata": {
        "deletable": false,
        "editable": false,
        "id": "eSjWwsOh_Zct",
        "tags": [
          "start_task"
        ]
      },
      "source": [
        "Выведем на экран список уникальных названий жанров, отсортированный в алфавитном порядке. Для этого:\n",
        "1. извлечем нужный столбец датафрейма; \n",
        "2. применим к нему метод сортировки;\n",
        "3. для отсортированного столбца вызовем метод, который вернёт уникальные значения из столбца."
      ]
    },
    {
      "cell_type": "code",
      "execution_count": null,
      "metadata": {
        "deletable": false,
        "id": "JIUcqzZN_Zct",
        "outputId": "f62b4540-86a2-4377-e3bd-a4564d28d98b"
      },
      "outputs": [
        {
          "data": {
            "text/plain": [
              "array(['acid', 'acoustic', 'action', 'adult', 'africa', 'afrikaans',\n",
              "       'alternative', 'alternativepunk', 'ambient', 'americana',\n",
              "       'animated', 'anime', 'arabesk', 'arabic', 'arena',\n",
              "       'argentinetango', 'art', 'audiobook', 'author', 'avantgarde',\n",
              "       'axé', 'baile', 'balkan', 'beats', 'bigroom', 'black', 'bluegrass',\n",
              "       'blues', 'bollywood', 'bossa', 'brazilian', 'breakbeat', 'breaks',\n",
              "       'broadway', 'cantautori', 'cantopop', 'canzone', 'caribbean',\n",
              "       'caucasian', 'celtic', 'chamber', 'chanson', 'children', 'chill',\n",
              "       'chinese', 'choral', 'christian', 'christmas', 'classical',\n",
              "       'classicmetal', 'club', 'colombian', 'comedy', 'conjazz',\n",
              "       'contemporary', 'country', 'cuban', 'dance', 'dancehall',\n",
              "       'dancepop', 'dark', 'death', 'deep', 'deutschrock', 'deutschspr',\n",
              "       'dirty', 'disco', 'dnb', 'documentary', 'downbeat', 'downtempo',\n",
              "       'drum', 'dub', 'dubstep', 'eastern', 'easy', 'electronic',\n",
              "       'electropop', 'emo', 'entehno', 'epicmetal', 'estrada', 'ethnic',\n",
              "       'eurofolk', 'european', 'experimental', 'extrememetal', 'fado',\n",
              "       'fairytail', 'film', 'fitness', 'flamenco', 'folk', 'folklore',\n",
              "       'folkmetal', 'folkrock', 'folktronica', 'forró', 'frankreich',\n",
              "       'französisch', 'french', 'funk', 'future', 'gangsta', 'garage',\n",
              "       'german', 'ghazal', 'gitarre', 'glitch', 'gospel', 'gothic',\n",
              "       'grime', 'grunge', 'gypsy', 'handsup', \"hard'n'heavy\", 'hardcore',\n",
              "       'hardstyle', 'hardtechno', 'hip', 'hip-hop', 'hiphop',\n",
              "       'historisch', 'holiday', 'hop', 'horror', 'house', 'hymn', 'idm',\n",
              "       'independent', 'indian', 'indie', 'indipop', 'industrial',\n",
              "       'inspirational', 'instrumental', 'international', 'irish', 'jam',\n",
              "       'japanese', 'jazz', 'jewish', 'jpop', 'jungle', 'k-pop',\n",
              "       'karadeniz', 'karaoke', 'kayokyoku', 'korean', 'laiko', 'latin',\n",
              "       'latino', 'leftfield', 'local', 'lounge', 'loungeelectronic',\n",
              "       'lovers', 'malaysian', 'mandopop', 'marschmusik', 'meditative',\n",
              "       'mediterranean', 'melodic', 'metal', 'metalcore', 'mexican',\n",
              "       'middle', 'minimal', 'miscellaneous', 'modern', 'mood', 'mpb',\n",
              "       'muslim', 'native', 'neoklassik', 'neue', 'new', 'newage',\n",
              "       'newwave', 'nu', 'nujazz', 'numetal', 'oceania', 'old', 'opera',\n",
              "       'orchestral', 'other', 'piano', 'podcasts', 'pop', 'popdance',\n",
              "       'popelectronic', 'popeurodance', 'poprussian', 'post',\n",
              "       'posthardcore', 'postrock', 'power', 'progmetal', 'progressive',\n",
              "       'psychedelic', 'punjabi', 'punk', 'quebecois', 'ragga', 'ram',\n",
              "       'rancheras', 'rap', 'rave', 'reggae', 'reggaeton', 'regional',\n",
              "       'relax', 'religious', 'retro', 'rhythm', 'rnb', 'rnr', 'rock',\n",
              "       'rockabilly', 'rockalternative', 'rockindie', 'rockother',\n",
              "       'romance', 'roots', 'ruspop', 'rusrap', 'rusrock', 'russian',\n",
              "       'salsa', 'samba', 'scenic', 'schlager', 'self', 'sertanejo',\n",
              "       'shanson', 'shoegazing', 'showtunes', 'singer', 'ska', 'skarock',\n",
              "       'slow', 'smooth', 'soft', 'soul', 'soulful', 'sound', 'soundtrack',\n",
              "       'southern', 'specialty', 'speech', 'spiritual', 'sport',\n",
              "       'stonerrock', 'surf', 'swing', 'synthpop', 'synthrock',\n",
              "       'sängerportrait', 'tango', 'tanzorchester', 'taraftar', 'tatar',\n",
              "       'tech', 'techno', 'teen', 'thrash', 'top', 'traditional',\n",
              "       'tradjazz', 'trance', 'tribal', 'trip', 'triphop', 'tropical',\n",
              "       'türk', 'türkçe', 'ukrrock', 'unknown', 'urban', 'uzbek',\n",
              "       'variété', 'vi', 'videogame', 'vocal', 'western', 'world',\n",
              "       'worldbeat', 'ïîï', 'электроника'], dtype=object)"
            ]
          },
          "execution_count": 306,
          "metadata": {},
          "output_type": "execute_result"
        }
      ],
      "source": [
        "df['genre'].sort_values().unique() # Просмотр уникальных названий жанров"
      ]
    },
    {
      "cell_type": "markdown",
      "metadata": {
        "deletable": false,
        "editable": false,
        "id": "qej-Qmuo_Zct",
        "tags": [
          "start_task"
        ]
      },
      "source": [
        "Просмотрим список и найдём неявные дубликаты названия `hiphop`. Это могут быть названия с ошибками или альтернативные названия того же жанра.\n",
        "\n",
        "Увидим следующие неявные дубликаты:\n",
        "* *hip*,\n",
        "* *hop*,\n",
        "* *hip-hop*.\n",
        "\n",
        "Чтобы очистить от них таблицу использум метод `replace()` с двумя аргументами: списком строк-дубликатов (включащий *hip*, *hop* и *hip-hop*) и строкой с правильным значением. Нобходимо исправить колонку `genre` в таблице `df`: заменить каждое значение из списка дубликатов на верное. Вместо `hip`, `hop` и `hip-hop` в таблице должно быть значение `hiphop`:"
      ]
    },
    {
      "cell_type": "code",
      "execution_count": null,
      "metadata": {
        "deletable": false,
        "id": "ErNDkmns_Zct"
      },
      "outputs": [],
      "source": [
        "df['genre'] = df['genre'].replace(['hip', 'hop', 'hip-hop'], 'hiphop') # Устранение неявных дубликатов"
      ]
    },
    {
      "cell_type": "markdown",
      "metadata": {
        "deletable": false,
        "editable": false,
        "id": "zQKF16_RG15m",
        "tags": [
          "start_task"
        ]
      },
      "source": [
        "Проверим, что заменили неправильные названия:\n",
        "\n",
        "*   hip,\n",
        "*   hop,\n",
        "*   hip-hop.\n",
        "\n",
        "Выведем отсортированный список уникальных значений столбца `genre`:"
      ]
    },
    {
      "cell_type": "code",
      "execution_count": null,
      "metadata": {
        "deletable": false,
        "id": "wvixALnFG15m",
        "outputId": "2f978530-9e13-49fb-f26b-312dc0033891"
      },
      "outputs": [
        {
          "data": {
            "text/plain": [
              "array(['acid', 'acoustic', 'action', 'adult', 'africa', 'afrikaans',\n",
              "       'alternative', 'alternativepunk', 'ambient', 'americana',\n",
              "       'animated', 'anime', 'arabesk', 'arabic', 'arena',\n",
              "       'argentinetango', 'art', 'audiobook', 'author', 'avantgarde',\n",
              "       'axé', 'baile', 'balkan', 'beats', 'bigroom', 'black', 'bluegrass',\n",
              "       'blues', 'bollywood', 'bossa', 'brazilian', 'breakbeat', 'breaks',\n",
              "       'broadway', 'cantautori', 'cantopop', 'canzone', 'caribbean',\n",
              "       'caucasian', 'celtic', 'chamber', 'chanson', 'children', 'chill',\n",
              "       'chinese', 'choral', 'christian', 'christmas', 'classical',\n",
              "       'classicmetal', 'club', 'colombian', 'comedy', 'conjazz',\n",
              "       'contemporary', 'country', 'cuban', 'dance', 'dancehall',\n",
              "       'dancepop', 'dark', 'death', 'deep', 'deutschrock', 'deutschspr',\n",
              "       'dirty', 'disco', 'dnb', 'documentary', 'downbeat', 'downtempo',\n",
              "       'drum', 'dub', 'dubstep', 'eastern', 'easy', 'electronic',\n",
              "       'electropop', 'emo', 'entehno', 'epicmetal', 'estrada', 'ethnic',\n",
              "       'eurofolk', 'european', 'experimental', 'extrememetal', 'fado',\n",
              "       'fairytail', 'film', 'fitness', 'flamenco', 'folk', 'folklore',\n",
              "       'folkmetal', 'folkrock', 'folktronica', 'forró', 'frankreich',\n",
              "       'französisch', 'french', 'funk', 'future', 'gangsta', 'garage',\n",
              "       'german', 'ghazal', 'gitarre', 'glitch', 'gospel', 'gothic',\n",
              "       'grime', 'grunge', 'gypsy', 'handsup', \"hard'n'heavy\", 'hardcore',\n",
              "       'hardstyle', 'hardtechno', 'hiphop', 'historisch', 'holiday',\n",
              "       'horror', 'house', 'hymn', 'idm', 'independent', 'indian', 'indie',\n",
              "       'indipop', 'industrial', 'inspirational', 'instrumental',\n",
              "       'international', 'irish', 'jam', 'japanese', 'jazz', 'jewish',\n",
              "       'jpop', 'jungle', 'k-pop', 'karadeniz', 'karaoke', 'kayokyoku',\n",
              "       'korean', 'laiko', 'latin', 'latino', 'leftfield', 'local',\n",
              "       'lounge', 'loungeelectronic', 'lovers', 'malaysian', 'mandopop',\n",
              "       'marschmusik', 'meditative', 'mediterranean', 'melodic', 'metal',\n",
              "       'metalcore', 'mexican', 'middle', 'minimal', 'miscellaneous',\n",
              "       'modern', 'mood', 'mpb', 'muslim', 'native', 'neoklassik', 'neue',\n",
              "       'new', 'newage', 'newwave', 'nu', 'nujazz', 'numetal', 'oceania',\n",
              "       'old', 'opera', 'orchestral', 'other', 'piano', 'podcasts', 'pop',\n",
              "       'popdance', 'popelectronic', 'popeurodance', 'poprussian', 'post',\n",
              "       'posthardcore', 'postrock', 'power', 'progmetal', 'progressive',\n",
              "       'psychedelic', 'punjabi', 'punk', 'quebecois', 'ragga', 'ram',\n",
              "       'rancheras', 'rap', 'rave', 'reggae', 'reggaeton', 'regional',\n",
              "       'relax', 'religious', 'retro', 'rhythm', 'rnb', 'rnr', 'rock',\n",
              "       'rockabilly', 'rockalternative', 'rockindie', 'rockother',\n",
              "       'romance', 'roots', 'ruspop', 'rusrap', 'rusrock', 'russian',\n",
              "       'salsa', 'samba', 'scenic', 'schlager', 'self', 'sertanejo',\n",
              "       'shanson', 'shoegazing', 'showtunes', 'singer', 'ska', 'skarock',\n",
              "       'slow', 'smooth', 'soft', 'soul', 'soulful', 'sound', 'soundtrack',\n",
              "       'southern', 'specialty', 'speech', 'spiritual', 'sport',\n",
              "       'stonerrock', 'surf', 'swing', 'synthpop', 'synthrock',\n",
              "       'sängerportrait', 'tango', 'tanzorchester', 'taraftar', 'tatar',\n",
              "       'tech', 'techno', 'teen', 'thrash', 'top', 'traditional',\n",
              "       'tradjazz', 'trance', 'tribal', 'trip', 'triphop', 'tropical',\n",
              "       'türk', 'türkçe', 'ukrrock', 'unknown', 'urban', 'uzbek',\n",
              "       'variété', 'vi', 'videogame', 'vocal', 'western', 'world',\n",
              "       'worldbeat', 'ïîï', 'электроника'], dtype=object)"
            ]
          },
          "execution_count": 308,
          "metadata": {},
          "output_type": "execute_result"
        }
      ],
      "source": [
        "df['genre'].sort_values().unique() # Проверка на неявные дубликаты"
      ]
    },
    {
      "cell_type": "markdown",
      "metadata": {
        "deletable": false,
        "editable": false,
        "id": "jz6a9-7HQUDd"
      },
      "source": [
        "**Выводы**\n",
        "\n",
        "В процессе предобработки обнаружил три проблемы в данных:\n",
        "\n",
        "- нарушения в стиле заголовков,\n",
        "- пропущенные значения,\n",
        "- дубликаты — явные и неявные.\n",
        "\n",
        "Исправил заголовки, чтобы упростить работу с таблицей. Без дубликатов исследование станет более точным.\n",
        "\n",
        "Пропущенные значения заменил на `'unknown'`. Ещё предстоит увидеть, не повредят ли исследованию пропуски в колонке `genre`.\n",
        "\n",
        "Теперь можно перейти к проверке гипотез. "
      ]
    },
    {
      "cell_type": "markdown",
      "metadata": {
        "deletable": false,
        "editable": false,
        "id": "WttZHXH0SqKk"
      },
      "source": [
        "## Проверка гипотез"
      ]
    },
    {
      "cell_type": "markdown",
      "metadata": {
        "deletable": false,
        "editable": false,
        "id": "Im936VVi_Zcu"
      },
      "source": [
        "### Сравнение поведения пользователей двух столиц"
      ]
    },
    {
      "cell_type": "markdown",
      "metadata": {
        "deletable": false,
        "editable": false,
        "id": "nwt_MuaL_Zcu"
      },
      "source": [
        "Первая гипотеза утверждает, что пользователи по-разному слушают музыку в Москве и Санкт-Петербурге. Проверим это предположение по данным о трёх днях недели — понедельнике, среде и пятнице. Для этого:\n",
        "\n",
        "* Разделю пользователей Москвы и Санкт-Петербурга.\n",
        "* Сравню, сколько треков послушала каждая группа пользователей в понедельник, среду и пятницу.\n"
      ]
    },
    {
      "cell_type": "markdown",
      "metadata": {
        "deletable": false,
        "editable": false,
        "id": "8Dw_YMmT_Zcu",
        "tags": [
          "start_task"
        ]
      },
      "source": [
        "Сначала выполню каждый из расчётов по отдельности. \n",
        "\n",
        "Оценю активность пользователей в каждом городе. Сгруппирую данные по городу и посчитаю прослушивания в каждой группе.\n",
        "\n"
      ]
    },
    {
      "cell_type": "code",
      "execution_count": null,
      "metadata": {
        "deletable": false,
        "id": "0_Qs96oh_Zcu",
        "outputId": "14fe0fce-f659-4ab3-b611-69b22b8cfbab"
      },
      "outputs": [
        {
          "data": {
            "text/plain": [
              "city\n",
              "Moscow              42741\n",
              "Saint-Petersburg    18512\n",
              "Name: time, dtype: int64"
            ]
          },
          "execution_count": 309,
          "metadata": {},
          "output_type": "execute_result"
        }
      ],
      "source": [
        "df.groupby('city')['time'].count() # Подсчёт прослушиваний в каждом городе"
      ]
    },
    {
      "cell_type": "markdown",
      "metadata": {
        "deletable": false,
        "editable": false,
        "id": "dzli3w8o_Zcu",
        "tags": [
          "start_task"
        ]
      },
      "source": [
        "В Москве прослушиваний больше, чем в Петербурге. Из этого не следует, что московские пользователи чаще слушают музыку. Просто самих пользователей в Москве больше.\n",
        "\n",
        "Теперь сгруппирую данные по дню недели и посчитаю прослушивания в понедельник, среду и пятницу. Учту, что в данных есть информация о прослушиваниях только за эти дни.\n"
      ]
    },
    {
      "cell_type": "code",
      "execution_count": null,
      "metadata": {
        "deletable": false,
        "id": "uZMKjiJz_Zcu",
        "outputId": "3b67bddf-6f62-4fcb-fe23-a24f7c88fdf1"
      },
      "outputs": [
        {
          "data": {
            "text/plain": [
              "day\n",
              "Friday       21840\n",
              "Monday       21354\n",
              "Wednesday    18059\n",
              "Name: time, dtype: int64"
            ]
          },
          "execution_count": 310,
          "metadata": {},
          "output_type": "execute_result"
        }
      ],
      "source": [
        "df.groupby('day')['time'].count() # Подсчёт прослушиваний в каждый из трёх дней"
      ]
    },
    {
      "cell_type": "markdown",
      "metadata": {
        "deletable": false,
        "editable": false,
        "id": "cC2tNrlL_Zcu"
      },
      "source": [
        "В среднем пользователи из двух городов менее активны по средам. Но картина может измениться, если рассмотреть каждый город в отдельности."
      ]
    },
    {
      "cell_type": "markdown",
      "metadata": {
        "deletable": false,
        "editable": false,
        "id": "POzs8bGa_Zcu",
        "tags": [
          "start_task"
        ]
      },
      "source": [
        "Напишу функцию, которая объединит два эти расчёта.\n",
        "\n",
        "Создаю функцию `number_tracks()`, которая посчитает прослушивания для заданного дня и города. Ей понадобятся два параметра:\n",
        "* день недели,\n",
        "* название города.\n",
        "\n",
        "В функции сохраню в переменную строки исходной таблицы, у которых значение:\n",
        "  * в колонке `day` равно параметру `day`,\n",
        "  * в колонке `city` равно параметру `city`.\n",
        "\n",
        "Для этого применю последовательную фильтрацию с логической индексацией.\n",
        "\n",
        "Затем посчитайтаю значения в столбце `user_id` получившейся таблицы. Результат сохраню в новую переменную. Верну эту переменную из функции."
      ]
    },
    {
      "cell_type": "code",
      "execution_count": null,
      "metadata": {
        "deletable": false,
        "id": "Nz3GdQB1_Zcu"
      },
      "outputs": [],
      "source": [
        " def number_tracks(day, city):\n",
        "    track_list = df[(df['day'] == day) & (df[\"city\"]== city)]\n",
        "    track_list_count = track_list['user_id'].count()\n",
        "    return(track_list_count)\n"
      ]
    },
    {
      "cell_type": "markdown",
      "metadata": {
        "deletable": false,
        "editable": false,
        "id": "ytf7xFrFJQ2r",
        "tags": [
          "start_task"
        ]
      },
      "source": [
        "Вызову `number_tracks()` шесть раз, меняя значение параметров — так, чтобы получить данные для каждого города в каждый из трёх дней."
      ]
    },
    {
      "cell_type": "code",
      "execution_count": null,
      "metadata": {
        "deletable": false,
        "id": "rJcRATNQ_Zcu",
        "outputId": "52473add-1054-422a-da92-2859e61b9e9a"
      },
      "outputs": [
        {
          "name": "stdout",
          "output_type": "stream",
          "text": [
            "15740\n"
          ]
        }
      ],
      "source": [
        "print(number_tracks('Monday', 'Moscow')) # количество прослушиваний в Москве по понедельникам"
      ]
    },
    {
      "cell_type": "code",
      "execution_count": null,
      "metadata": {
        "deletable": false,
        "id": "hq_ncZ5T_Zcu",
        "outputId": "c588f980-bd45-4f3f-944a-1d1e4da68239"
      },
      "outputs": [
        {
          "name": "stdout",
          "output_type": "stream",
          "text": [
            "5614\n"
          ]
        }
      ],
      "source": [
        "print(number_tracks('Monday', 'Saint-Petersburg')) # количество прослушиваний в Санкт-Петербурге по понедельникам"
      ]
    },
    {
      "cell_type": "code",
      "execution_count": null,
      "metadata": {
        "deletable": false,
        "id": "_NTy2VPU_Zcu",
        "outputId": "7a43bada-0cd2-4a04-ac75-43137c621616"
      },
      "outputs": [
        {
          "name": "stdout",
          "output_type": "stream",
          "text": [
            "11056\n"
          ]
        }
      ],
      "source": [
        "print(number_tracks('Wednesday', 'Moscow')) # количество прослушиваний в Москве по средам"
      ]
    },
    {
      "cell_type": "code",
      "execution_count": null,
      "metadata": {
        "deletable": false,
        "id": "j2y3TAwo_Zcu",
        "outputId": "afed4538-3a67-4d6f-b702-08633ad5d587"
      },
      "outputs": [
        {
          "name": "stdout",
          "output_type": "stream",
          "text": [
            "7003\n"
          ]
        }
      ],
      "source": [
        "print(number_tracks('Wednesday', 'Saint-Petersburg')) # количество прослушиваний в Санкт-Петербурге по средам"
      ]
    },
    {
      "cell_type": "code",
      "execution_count": null,
      "metadata": {
        "deletable": false,
        "id": "vYDw5u_K_Zcu",
        "outputId": "f04612d5-39f6-4b9e-eb4b-0db0e241c7e9"
      },
      "outputs": [
        {
          "name": "stdout",
          "output_type": "stream",
          "text": [
            "15945\n"
          ]
        }
      ],
      "source": [
        "print(number_tracks('Friday', 'Moscow')) # количество прослушиваний в Москве по пятницам"
      ]
    },
    {
      "cell_type": "code",
      "execution_count": null,
      "metadata": {
        "deletable": false,
        "id": "8_yzFtW3_Zcu",
        "outputId": "4ea9676c-454b-4f1c-abd8-e89480b2bf49"
      },
      "outputs": [
        {
          "name": "stdout",
          "output_type": "stream",
          "text": [
            "5895\n"
          ]
        }
      ],
      "source": [
        "print(number_tracks('Friday', 'Saint-Petersburg')) # количество прослушиваний в Санкт-Петербурге по пятницам"
      ]
    },
    {
      "cell_type": "markdown",
      "metadata": {
        "deletable": false,
        "editable": false,
        "id": "7QXffbO-_Zcu",
        "tags": [
          "start_task"
        ]
      },
      "source": [
        "Создаю `pd.DataFrame` таблицу, где\n",
        "* названия колонок — `['city', 'monday', 'wednesday', 'friday']`;\n",
        "* данные — результаты, которые вы получили с помощью `number_tracks`."
      ]
    },
    {
      "cell_type": "code",
      "execution_count": null,
      "metadata": {
        "deletable": false,
        "id": "APAcLpOr_Zcu",
        "outputId": "7804a795-1422-4380-8cac-66bf1ab7aff8"
      },
      "outputs": [
        {
          "data": {
            "text/html": [
              "<div>\n",
              "<style scoped>\n",
              "    .dataframe tbody tr th:only-of-type {\n",
              "        vertical-align: middle;\n",
              "    }\n",
              "\n",
              "    .dataframe tbody tr th {\n",
              "        vertical-align: top;\n",
              "    }\n",
              "\n",
              "    .dataframe thead th {\n",
              "        text-align: right;\n",
              "    }\n",
              "</style>\n",
              "<table border=\"1\" class=\"dataframe\">\n",
              "  <thead>\n",
              "    <tr style=\"text-align: right;\">\n",
              "      <th></th>\n",
              "      <th>city</th>\n",
              "      <th>monday</th>\n",
              "      <th>wednesday</th>\n",
              "      <th>friday</th>\n",
              "    </tr>\n",
              "  </thead>\n",
              "  <tbody>\n",
              "    <tr>\n",
              "      <th>0</th>\n",
              "      <td>Москва</td>\n",
              "      <td>Monday</td>\n",
              "      <td>Wednesday</td>\n",
              "      <td>Friday</td>\n",
              "    </tr>\n",
              "    <tr>\n",
              "      <th>1</th>\n",
              "      <td>Санкт-Петербург</td>\n",
              "      <td>Monday</td>\n",
              "      <td>Wednesday</td>\n",
              "      <td>Friday</td>\n",
              "    </tr>\n",
              "  </tbody>\n",
              "</table>\n",
              "</div>"
            ],
            "text/plain": [
              "              city  monday  wednesday  friday\n",
              "0           Москва  Monday  Wednesday  Friday\n",
              "1  Санкт-Петербург  Monday  Wednesday  Friday"
            ]
          },
          "execution_count": 329,
          "metadata": {},
          "output_type": "execute_result"
        }
      ],
      "source": [
        "info = pd.DataFrame(data=[['Москва', 'Monday', 'Wednesday', 'Friday'], ['Санкт-Петербург', 'Monday', 'Wednesday', 'Friday']], columns=['city', 'monday', 'wednesday', 'friday'])\n",
        "info\n",
        "# Таблица с результатами"
      ]
    },
    {
      "cell_type": "markdown",
      "metadata": {
        "deletable": false,
        "editable": false,
        "id": "-EgPIHYu_Zcu"
      },
      "source": [
        "**Выводы**\n",
        "\n",
        "Данные показывают разницу поведения пользователей:\n",
        "\n",
        "- В Москве пик прослушиваний приходится на понедельник и пятницу, а в среду заметен спад.\n",
        "- В Петербурге, наоборот, больше слушают музыку по средам. Активность в понедельник и пятницу здесь почти в равной мере уступает среде.\n",
        "\n",
        "Значит, данные говорят в пользу первой гипотезы."
      ]
    },
    {
      "cell_type": "markdown",
      "metadata": {
        "deletable": false,
        "editable": false,
        "id": "atZAxtq4_Zcu"
      },
      "source": [
        "### Музыка в начале и в конце недели"
      ]
    },
    {
      "cell_type": "markdown",
      "metadata": {
        "deletable": false,
        "editable": false,
        "id": "eXrQqXFH_Zcu"
      },
      "source": [
        "Согласно второй гипотезе, утром в понедельник в Москве преобладают одни жанры, а в Петербурге — другие. Так же и вечером пятницы преобладают разные жанры — в зависимости от города."
      ]
    },
    {
      "cell_type": "markdown",
      "metadata": {
        "deletable": false,
        "editable": false,
        "id": "S8UcW6Hw_Zcu",
        "tags": [
          "start_task"
        ]
      },
      "source": [
        "Сохраню таблицы с данными в две переменные:\n",
        "* по Москве — в `moscow_general`;\n",
        "* по Санкт-Петербургу — в `spb_general`."
      ]
    },
    {
      "cell_type": "code",
      "execution_count": null,
      "metadata": {
        "deletable": false,
        "id": "qeaFfM_P_Zcu"
      },
      "outputs": [],
      "source": [
        "moscow_general = df[df['city'] == 'Moscow']\n",
        "# получение таблицы moscow_general из тех строк таблицы df, \n",
        "# для которых значение в столбце 'city' равно 'Moscow'\n"
      ]
    },
    {
      "cell_type": "code",
      "execution_count": null,
      "metadata": {
        "deletable": false,
        "id": "ORaVRKto_Zcu"
      },
      "outputs": [],
      "source": [
        "spb_general = df[df['city'] == 'Saint-Petersburg']\n",
        "# получение таблицы spb_general из тех строк таблицы df,\n",
        "# для которых значение в столбце 'city' равно 'Saint-Petersburg'\n"
      ]
    },
    {
      "cell_type": "markdown",
      "metadata": {
        "deletable": false,
        "editable": false,
        "id": "MEJV-CX2_Zcu",
        "tags": [
          "start_task"
        ]
      },
      "source": [
        "Создаю функцию `genre_weekday()` с четырьмя параметрами:\n",
        "* таблица (датафрейм) с данными,\n",
        "* день недели,\n",
        "* начальная временная метка в формате 'hh:mm', \n",
        "* последняя временная метка в формате 'hh:mm'.\n",
        "\n",
        "Функция должна вернуть информацию о топ-10 жанров тех треков, которые прослушивали в указанный день, в промежутке между двумя отметками времени."
      ]
    },
    {
      "cell_type": "code",
      "execution_count": null,
      "metadata": {
        "deletable": false,
        "id": "laJT9BYl_Zcu"
      },
      "outputs": [],
      "source": [
        "# Объявляю функцию genre_weekday() с параметрами table, day, time1, time2,\n",
        "# которая возвращает информацию о самых популярных жанрах в указанный день в\n",
        "# заданное время:\n",
        "# 1) в переменную genre_df сохраняются те строки переданного датафрейма table, для\n",
        "#    которых одновременно:\n",
        "#    - значение в столбце day равно значению аргумента day\n",
        "#    - значение в столбце time больше значения аргумента time1\n",
        "#    - значение в столбце time меньше значения аргумента time2\n",
        "#    Использую последовательную фильтрацию с помощью логической индексации.\n",
        "# 2) сгруппируем датафрейм genre_df по столбцу genre, возьмем один из его\n",
        "#    столбцов и посчитаем методом count() количество записей для каждого из\n",
        "#    присутствующих жанров, получившийся Series запишем в переменную\n",
        "#    genre_df_count\n",
        "# 3) отсортирую genre_df_count по убыванию встречаемости и сохраню\n",
        "#    в переменную genre_df_sorted\n",
        "# 4) верну Series из 10 первых значений genre_df_sorted, это будут топ-10\n",
        "#    популярных жанров (в указанный день, в заданное время)\n",
        "\n",
        "def genre_weekday(df, day, time1, time2):\n",
        "    # последовательная фильтрация\n",
        "    # оставляем в genre_df только те строки df, у которых день равен day\n",
        "    genre_df = df[df['day'] == day] # ваш код здесь\n",
        "    # оставляем в genre_df только те строки genre_df, у которых время меньше time2\n",
        "    genre_df = genre_df[genre_df['time'] < time2] # ваш код здесь\n",
        "    # оставляем в genre_df только те строки genre_df, у которых время больше time1\n",
        "    genre_df = genre_df[genre_df['time'] > time1] # ваш код здесь\n",
        "    # сгруппируем отфильтрованный датафрейм по столбцу с названиями жанров, возьмём столбец genre и посчитаем кол-во строк для каждого жанра методом count()\n",
        "    genre_df_grouped = genre_df.groupby('genre')['genre'].count() # ваш код здесь\n",
        "    # отсортируем результат по убыванию (чтобы в начале Series оказались самые популярные жанры)\n",
        "    genre_df_sorted = genre_df_grouped.sort_values(ascending=False) # ваш код здесь\n",
        "    # вернём Series с 10 самыми популярными жанрами в указанный отрезок времени заданного дня\n",
        "    return genre_df_sorted[:10]"
      ]
    },
    {
      "cell_type": "markdown",
      "metadata": {
        "deletable": false,
        "editable": false,
        "id": "la2s2_PF_Zcu",
        "tags": [
          "start_task"
        ]
      },
      "source": [
        "Cравню результаты функции `genre_weekday()` для Москвы и Санкт-Петербурга в понедельник утром (с 7:00 до 11:00) и в пятницу вечером (с 17:00 до 23:00):"
      ]
    },
    {
      "cell_type": "code",
      "execution_count": null,
      "metadata": {
        "deletable": false,
        "id": "yz7itPUQ_Zcu",
        "outputId": "668835bd-b49c-4f9e-9c27-b6d973db0290"
      },
      "outputs": [
        {
          "data": {
            "text/plain": [
              "genre\n",
              "pop            781\n",
              "dance          549\n",
              "electronic     480\n",
              "rock           474\n",
              "hiphop         286\n",
              "ruspop         186\n",
              "world          181\n",
              "rusrap         175\n",
              "alternative    164\n",
              "unknown        161\n",
              "Name: genre, dtype: int64"
            ]
          },
          "execution_count": 370,
          "metadata": {},
          "output_type": "execute_result"
        }
      ],
      "source": [
        "genre_weekday(moscow_general, 'Monday', '07:00', '11:00')\n",
        "# вызов функции для утра понедельника в Москве (вместо df — таблица moscow_general)\n",
        "# объекты, хранящие время, являются строками и сравниваются как строки\n",
        "# пример вызова: genre_weekday(moscow_general, 'Monday', '07:00', '11:00')"
      ]
    },
    {
      "cell_type": "code",
      "execution_count": null,
      "metadata": {
        "deletable": false,
        "id": "kwUcHPdy_Zcu",
        "outputId": "9c8e1152-fd8a-4500-a89d-e12fd3a68f61"
      },
      "outputs": [
        {
          "data": {
            "text/plain": [
              "genre\n",
              "pop            218\n",
              "dance          182\n",
              "rock           162\n",
              "electronic     147\n",
              "hiphop          80\n",
              "ruspop          64\n",
              "alternative     58\n",
              "rusrap          55\n",
              "jazz            44\n",
              "classical       40\n",
              "Name: genre, dtype: int64"
            ]
          },
          "execution_count": 371,
          "metadata": {},
          "output_type": "execute_result"
        }
      ],
      "source": [
        "genre_weekday(spb_general, 'Monday', '07:00', '11:00')\n",
        "# вызов функции для утра понедельника в Петербурге (вместо df — таблица spb_general)"
      ]
    },
    {
      "cell_type": "code",
      "execution_count": null,
      "metadata": {
        "deletable": false,
        "id": "EzXVRE1o_Zcu",
        "outputId": "9aaa4e9d-1f28-4f5c-ebd6-005f781460f9"
      },
      "outputs": [
        {
          "data": {
            "text/plain": [
              "genre\n",
              "pop            713\n",
              "rock           517\n",
              "dance          495\n",
              "electronic     482\n",
              "hiphop         273\n",
              "world          208\n",
              "ruspop         170\n",
              "alternative    163\n",
              "classical      163\n",
              "rusrap         142\n",
              "Name: genre, dtype: int64"
            ]
          },
          "execution_count": 372,
          "metadata": {},
          "output_type": "execute_result"
        }
      ],
      "source": [
        "genre_weekday(moscow_general, 'Friday', '17:00', '23:00')\n",
        "# вызов функции для вечера пятницы в Москве"
      ]
    },
    {
      "cell_type": "code",
      "execution_count": null,
      "metadata": {
        "deletable": false,
        "id": "JZaEKu5v_Zcu",
        "outputId": "535ed664-0110-4ef2-aeaf-22e107564166"
      },
      "outputs": [
        {
          "data": {
            "text/plain": [
              "genre\n",
              "pop            256\n",
              "electronic     216\n",
              "rock           216\n",
              "dance          210\n",
              "hiphop          97\n",
              "alternative     63\n",
              "jazz            61\n",
              "classical       60\n",
              "rusrap          59\n",
              "world           54\n",
              "Name: genre, dtype: int64"
            ]
          },
          "execution_count": 373,
          "metadata": {},
          "output_type": "execute_result"
        }
      ],
      "source": [
        "genre_weekday(spb_general, 'Friday', '17:00', '23:00')\n",
        "# вызов функции для вечера пятницы в Петербурге"
      ]
    },
    {
      "cell_type": "markdown",
      "metadata": {
        "deletable": false,
        "editable": false,
        "id": "wrCe4MNX_Zcu"
      },
      "source": [
        "**Выводы**\n",
        "\n",
        "Если сравнить топ-10 жанров в понедельник утром, можно сделать такие выводы:\n",
        "\n",
        "1. В Москве и Петербурге слушают похожую музыку. Единственное отличие — в московский рейтинг вошёл жанр “world”, а в петербургский — джаз и классика.\n",
        "\n",
        "2. В Москве пропущенных значений оказалось так много, что значение `'unknown'` заняло десятое место среди самых популярных жанров. Значит, пропущенные значения занимают существенную долю в данных и угрожают достоверности исследования.\n",
        "\n",
        "Вечер пятницы не меняет эту картину. Некоторые жанры поднимаются немного выше, другие спускаются, но в целом топ-10 остаётся тем же самым.\n",
        "\n",
        "Таким образом, вторая гипотеза подтвердилась лишь частично:\n",
        "* Пользователи слушают похожую музыку в начале недели и в конце.\n",
        "* Разница между Москвой и Петербургом не слишком выражена. В Москве чаще слушают русскую популярную музыку, в Петербурге — джаз.\n",
        "\n",
        "Однако пропуски в данных ставят под сомнение этот результат. В Москве их так много, что рейтинг топ-10 мог бы выглядеть иначе, если бы не утерянные  данные о жанрах."
      ]
    },
    {
      "cell_type": "markdown",
      "metadata": {
        "deletable": false,
        "editable": false,
        "id": "JolODAqr_Zcu"
      },
      "source": [
        "### Жанровые предпочтения в Москве и Петербурге\n",
        "\n",
        "Гипотеза: Петербург — столица рэпа, музыку этого жанра там слушают чаще, чем в Москве.  А Москва — город контрастов, в котором, тем не менее, преобладает поп-музыка."
      ]
    },
    {
      "cell_type": "markdown",
      "metadata": {
        "deletable": false,
        "editable": false,
        "id": "DlegSvaT_Zcu",
        "tags": [
          "start_task"
        ]
      },
      "source": [
        "Сгруппирую таблицу `moscow_general` по жанру и посчитаю прослушивания треков каждого жанра методом `count()`. Затем отсортирую результат в порядке убывания и сохраню его в таблице `moscow_genres`."
      ]
    },
    {
      "cell_type": "code",
      "execution_count": null,
      "metadata": {
        "deletable": false,
        "id": "r19lIPke_Zcu"
      },
      "outputs": [],
      "source": [
        "moscow_genres = moscow_general.groupby('genre')['genre'].count().sort_values(ascending=False)\n",
        "# одной строкой: группировка таблицы moscow_general по столбцу 'genre', \n",
        "# подсчёт числа значений 'genre' в этой группировке методом count(), \n",
        "# сортировка получившегося Series в порядке убывания и сохранение в moscow_genres"
      ]
    },
    {
      "cell_type": "code",
      "execution_count": null,
      "metadata": {
        "deletable": false,
        "id": "WhCSooF8_Zcv",
        "outputId": "01e6b439-5140-4cc6-bbe3-57da5712c82f"
      },
      "outputs": [
        {
          "data": {
            "text/plain": [
              "genre\n",
              "pop            5892\n",
              "dance          4435\n",
              "rock           3965\n",
              "electronic     3786\n",
              "hiphop         2096\n",
              "classical      1616\n",
              "world          1432\n",
              "alternative    1379\n",
              "ruspop         1372\n",
              "rusrap         1161\n",
              "Name: genre, dtype: int64"
            ]
          },
          "execution_count": 375,
          "metadata": {},
          "output_type": "execute_result"
        }
      ],
      "source": [
        "moscow_genres.head(10)\n",
        "# просмотр первых 10 строк moscow_genres"
      ]
    },
    {
      "cell_type": "code",
      "execution_count": null,
      "metadata": {
        "deletable": false,
        "id": "gluLIpE7_Zcv"
      },
      "outputs": [],
      "source": [
        "spb_genres = spb_general.groupby('genre')['genre'].count().sort_values(ascending=False)\n",
        "# одной строкой: группировка таблицы spb_general по столбцу 'genre', \n",
        "# подсчёт числа значений 'genre' в этой группировке методом count(), \n",
        "# сортировка получившегося Series в порядке убывания и сохранение в spb_genres"
      ]
    },
    {
      "cell_type": "code",
      "execution_count": null,
      "metadata": {
        "deletable": false,
        "id": "uaGJHjVU_Zcv",
        "outputId": "58c95513-c98d-4109-98b3-d256e4ceda3b"
      },
      "outputs": [
        {
          "data": {
            "text/plain": [
              "genre\n",
              "pop            2431\n",
              "dance          1932\n",
              "rock           1879\n",
              "electronic     1736\n",
              "hiphop          960\n",
              "alternative     649\n",
              "classical       646\n",
              "rusrap          564\n",
              "ruspop          538\n",
              "world           515\n",
              "Name: genre, dtype: int64"
            ]
          },
          "execution_count": 377,
          "metadata": {},
          "output_type": "execute_result"
        }
      ],
      "source": [
        "spb_genres.head(10)\n",
        "# просмотр первых 10 строк spb_genres"
      ]
    },
    {
      "cell_type": "markdown",
      "metadata": {
        "deletable": false,
        "editable": false,
        "id": "RY51YJYu_Zcv"
      },
      "source": [
        "**Выводы**"
      ]
    },
    {
      "cell_type": "markdown",
      "metadata": {
        "deletable": false,
        "editable": false,
        "id": "nVhnJEm__Zcv"
      },
      "source": [
        "Гипотеза частично подтвердилась:\n",
        "* Поп-музыка — самый популярный жанр в Москве, как и предполагала гипотеза. Более того, в топ-10 жанров встречается близкий жанр — русская популярная музыка.\n",
        "* Вопреки ожиданиям, рэп одинаково популярен в Москве и Петербурге. \n"
      ]
    },
    {
      "cell_type": "markdown",
      "metadata": {
        "deletable": false,
        "editable": false,
        "id": "ykKQ0N65_Zcv"
      },
      "source": [
        "## Итоги исследования"
      ]
    },
    {
      "cell_type": "markdown",
      "metadata": {
        "deletable": false,
        "editable": false,
        "id": "tjUwbHb3_Zcv"
      },
      "source": [
        "Проверил три гипотезы и установил:\n",
        "\n",
        "1. День недели по-разному влияет на активность пользователей в Москве и Петербурге. \n",
        "\n",
        "Первая гипотеза полностью подтвердилась.\n",
        "\n",
        "2. Музыкальные предпочтения не сильно меняются в течение недели — будь то Москва или Петербург. Небольшие различия заметны в начале недели, по понедельникам:\n",
        "* в Москве слушают музыку жанра “world”,\n",
        "* в Петербурге — джаз и классику.\n",
        "\n",
        "Таким образом, вторая гипотеза подтвердилась лишь отчасти. Этот результат мог оказаться иным, если бы не пропуски в данных.\n",
        "\n",
        "3. Во вкусах пользователей Москвы и Петербурга больше общего чем различий. Вопреки ожиданиям, предпочтения жанров в Петербурге напоминают московские.\n",
        "\n",
        "Третья гипотеза не подтвердилась. Если различия в предпочтениях и существуют, на основной массе пользователей они незаметны.\n",
        "\n",
        "**На практике исследования содержат проверки статистических гипотез.**\n",
        "Из данных одного сервиса не всегда можно сделать вывод о всех жителях города.\n",
        "Проверки статистических гипотез покажут, насколько они достоверны, исходя из имеющихся данных. \n",
        "С методами проверок гипотез вы ещё познакомитесь в следующих темах."
      ]
    },
    {
      "cell_type": "code",
      "source": [],
      "metadata": {
        "id": "8Q6GasiMFtJG"
      },
      "execution_count": null,
      "outputs": []
    }
  ],
  "metadata": {
    "ExecuteTimeLog": [
      {
        "duration": 380,
        "start_time": "2022-12-10T18:25:16.891Z"
      },
      {
        "duration": 44,
        "start_time": "2022-12-10T18:33:22.652Z"
      },
      {
        "duration": 40,
        "start_time": "2022-12-10T18:33:40.789Z"
      },
      {
        "duration": 115,
        "start_time": "2022-12-10T18:41:52.962Z"
      },
      {
        "duration": 4,
        "start_time": "2022-12-10T18:48:41.813Z"
      },
      {
        "duration": 2,
        "start_time": "2022-12-10T18:48:46.507Z"
      },
      {
        "duration": 38,
        "start_time": "2022-12-10T18:48:57.355Z"
      },
      {
        "duration": 14,
        "start_time": "2022-12-10T18:50:04.846Z"
      },
      {
        "duration": 36,
        "start_time": "2022-12-10T18:50:22.548Z"
      },
      {
        "duration": 10,
        "start_time": "2022-12-10T18:54:01.762Z"
      },
      {
        "duration": 9,
        "start_time": "2022-12-10T18:54:27.681Z"
      },
      {
        "duration": 12,
        "start_time": "2022-12-10T18:58:14.783Z"
      },
      {
        "duration": 52,
        "start_time": "2022-12-10T19:00:38.540Z"
      },
      {
        "duration": 46,
        "start_time": "2022-12-10T19:01:02.999Z"
      },
      {
        "duration": 46,
        "start_time": "2022-12-10T19:07:59.182Z"
      },
      {
        "duration": 7,
        "start_time": "2022-12-10T19:08:03.139Z"
      },
      {
        "duration": 10,
        "start_time": "2022-12-10T19:08:39.688Z"
      },
      {
        "duration": 43,
        "start_time": "2022-12-10T19:09:05.687Z"
      },
      {
        "duration": 54,
        "start_time": "2022-12-11T05:13:41.717Z"
      },
      {
        "duration": 7,
        "start_time": "2022-12-11T05:14:34.277Z"
      },
      {
        "duration": 88,
        "start_time": "2022-12-11T05:32:39.830Z"
      },
      {
        "duration": 108,
        "start_time": "2022-12-11T05:33:10.183Z"
      },
      {
        "duration": 7,
        "start_time": "2022-12-11T05:42:43.171Z"
      },
      {
        "duration": 6,
        "start_time": "2022-12-11T05:43:02.771Z"
      },
      {
        "duration": 6,
        "start_time": "2022-12-11T05:43:12.471Z"
      },
      {
        "duration": 6,
        "start_time": "2022-12-11T05:43:23.817Z"
      },
      {
        "duration": 8,
        "start_time": "2022-12-11T05:43:39.819Z"
      },
      {
        "duration": 7,
        "start_time": "2022-12-11T05:43:57.884Z"
      },
      {
        "duration": 7,
        "start_time": "2022-12-11T06:14:05.708Z"
      },
      {
        "duration": 7,
        "start_time": "2022-12-11T07:30:11.378Z"
      },
      {
        "duration": 435,
        "start_time": "2022-12-11T07:30:17.696Z"
      },
      {
        "duration": 1002,
        "start_time": "2022-12-11T07:30:20.598Z"
      },
      {
        "duration": 25,
        "start_time": "2022-12-11T07:30:25.892Z"
      },
      {
        "duration": 33,
        "start_time": "2022-12-11T07:32:37.997Z"
      },
      {
        "duration": 85,
        "start_time": "2022-12-11T07:34:43.491Z"
      },
      {
        "duration": 3,
        "start_time": "2022-12-11T07:35:07.538Z"
      },
      {
        "duration": 5,
        "start_time": "2022-12-11T07:36:09.695Z"
      },
      {
        "duration": 13,
        "start_time": "2022-12-11T08:23:33.459Z"
      },
      {
        "duration": 2,
        "start_time": "2022-12-11T08:24:13.520Z"
      },
      {
        "duration": 22,
        "start_time": "2022-12-11T08:24:36.182Z"
      },
      {
        "duration": 81,
        "start_time": "2022-12-11T08:27:15.063Z"
      },
      {
        "duration": 26,
        "start_time": "2022-12-11T08:27:24.199Z"
      },
      {
        "duration": 58,
        "start_time": "2022-12-11T08:34:18.358Z"
      },
      {
        "duration": 1455,
        "start_time": "2022-12-11T08:36:55.445Z"
      },
      {
        "duration": 72,
        "start_time": "2022-12-11T08:39:03.565Z"
      },
      {
        "duration": 71,
        "start_time": "2022-12-11T08:40:59.496Z"
      },
      {
        "duration": 14,
        "start_time": "2022-12-11T08:41:11.960Z"
      },
      {
        "duration": 25,
        "start_time": "2022-12-11T08:41:24.825Z"
      },
      {
        "duration": 39,
        "start_time": "2022-12-11T08:41:58.606Z"
      },
      {
        "duration": 73,
        "start_time": "2022-12-11T08:42:45.024Z"
      },
      {
        "duration": 14,
        "start_time": "2022-12-11T08:45:11.561Z"
      },
      {
        "duration": 69,
        "start_time": "2022-12-11T08:45:46.504Z"
      },
      {
        "duration": 9,
        "start_time": "2022-12-11T08:45:50.657Z"
      },
      {
        "duration": 70,
        "start_time": "2022-12-11T08:49:39.033Z"
      },
      {
        "duration": 8,
        "start_time": "2022-12-11T08:50:30.298Z"
      },
      {
        "duration": 7,
        "start_time": "2022-12-11T08:51:31.737Z"
      },
      {
        "duration": 3,
        "start_time": "2022-12-11T08:51:40.097Z"
      },
      {
        "duration": 204,
        "start_time": "2022-12-11T08:51:41.576Z"
      },
      {
        "duration": 12,
        "start_time": "2022-12-11T08:51:45.008Z"
      },
      {
        "duration": 39,
        "start_time": "2022-12-11T08:51:47.598Z"
      },
      {
        "duration": 5,
        "start_time": "2022-12-11T08:51:51.635Z"
      },
      {
        "duration": 4,
        "start_time": "2022-12-11T08:51:55.617Z"
      },
      {
        "duration": 8,
        "start_time": "2022-12-11T08:51:58.928Z"
      },
      {
        "duration": 4,
        "start_time": "2022-12-11T08:52:00.711Z"
      },
      {
        "duration": 37,
        "start_time": "2022-12-11T08:52:03.757Z"
      },
      {
        "duration": 19,
        "start_time": "2022-12-11T08:52:07.837Z"
      },
      {
        "duration": 36,
        "start_time": "2022-12-11T08:52:10.677Z"
      },
      {
        "duration": 79,
        "start_time": "2022-12-11T08:52:16.898Z"
      },
      {
        "duration": 9,
        "start_time": "2022-12-11T08:52:20.418Z"
      },
      {
        "duration": 8,
        "start_time": "2022-12-11T08:52:52.078Z"
      },
      {
        "duration": 7,
        "start_time": "2022-12-11T08:53:06.117Z"
      },
      {
        "duration": 8,
        "start_time": "2022-12-11T08:54:12.812Z"
      },
      {
        "duration": 2,
        "start_time": "2022-12-11T08:54:21.697Z"
      },
      {
        "duration": 186,
        "start_time": "2022-12-11T08:54:22.076Z"
      },
      {
        "duration": 12,
        "start_time": "2022-12-11T08:54:22.436Z"
      },
      {
        "duration": 32,
        "start_time": "2022-12-11T08:54:22.774Z"
      },
      {
        "duration": 3,
        "start_time": "2022-12-11T08:54:24.023Z"
      },
      {
        "duration": 4,
        "start_time": "2022-12-11T08:54:28.437Z"
      },
      {
        "duration": 7,
        "start_time": "2022-12-11T08:54:30.257Z"
      },
      {
        "duration": 4,
        "start_time": "2022-12-11T08:54:31.892Z"
      },
      {
        "duration": 27,
        "start_time": "2022-12-11T08:54:34.101Z"
      },
      {
        "duration": 21,
        "start_time": "2022-12-11T08:54:36.957Z"
      },
      {
        "duration": 29,
        "start_time": "2022-12-11T08:54:38.438Z"
      },
      {
        "duration": 70,
        "start_time": "2022-12-11T08:54:43.447Z"
      },
      {
        "duration": 8,
        "start_time": "2022-12-11T08:54:51.356Z"
      },
      {
        "duration": 8,
        "start_time": "2022-12-11T08:55:08.343Z"
      },
      {
        "duration": 8,
        "start_time": "2022-12-11T08:55:16.356Z"
      },
      {
        "duration": 8,
        "start_time": "2022-12-11T08:55:31.423Z"
      },
      {
        "duration": 8,
        "start_time": "2022-12-11T08:56:10.953Z"
      },
      {
        "duration": 9,
        "start_time": "2022-12-11T08:56:29.518Z"
      },
      {
        "duration": 8,
        "start_time": "2022-12-11T08:57:57.678Z"
      },
      {
        "duration": 61,
        "start_time": "2022-12-11T08:58:11.248Z"
      },
      {
        "duration": 7,
        "start_time": "2022-12-11T08:58:15.373Z"
      },
      {
        "duration": 8,
        "start_time": "2022-12-11T08:58:30.959Z"
      },
      {
        "duration": 85,
        "start_time": "2022-12-11T08:58:45.596Z"
      },
      {
        "duration": 70,
        "start_time": "2022-12-11T08:59:32.603Z"
      },
      {
        "duration": 68,
        "start_time": "2022-12-11T08:59:39.436Z"
      },
      {
        "duration": 1155,
        "start_time": "2022-12-11T09:01:06.758Z"
      },
      {
        "duration": 1094,
        "start_time": "2022-12-11T09:01:17.977Z"
      },
      {
        "duration": 1128,
        "start_time": "2022-12-11T09:01:40.377Z"
      },
      {
        "duration": 9,
        "start_time": "2022-12-11T09:03:10.599Z"
      },
      {
        "duration": 52,
        "start_time": "2022-12-11T09:04:01.178Z"
      },
      {
        "duration": 71,
        "start_time": "2022-12-11T09:09:10.743Z"
      },
      {
        "duration": 13,
        "start_time": "2022-12-11T09:10:17.479Z"
      },
      {
        "duration": 10,
        "start_time": "2022-12-11T09:10:32.638Z"
      },
      {
        "duration": 11,
        "start_time": "2022-12-11T09:11:34.704Z"
      },
      {
        "duration": 9,
        "start_time": "2022-12-11T09:11:55.581Z"
      },
      {
        "duration": 9,
        "start_time": "2022-12-11T09:13:14.957Z"
      },
      {
        "duration": 13,
        "start_time": "2022-12-11T09:13:24.999Z"
      },
      {
        "duration": 14,
        "start_time": "2022-12-11T09:13:51.578Z"
      },
      {
        "duration": 76,
        "start_time": "2022-12-11T09:14:24.186Z"
      },
      {
        "duration": 52,
        "start_time": "2022-12-11T09:15:06.538Z"
      },
      {
        "duration": 19,
        "start_time": "2022-12-11T09:15:25.599Z"
      },
      {
        "duration": 19,
        "start_time": "2022-12-11T09:15:34.948Z"
      },
      {
        "duration": 3,
        "start_time": "2022-12-11T10:10:33.141Z"
      },
      {
        "duration": 207,
        "start_time": "2022-12-11T10:10:33.719Z"
      },
      {
        "duration": 16,
        "start_time": "2022-12-11T10:10:34.168Z"
      },
      {
        "duration": 36,
        "start_time": "2022-12-11T10:10:35.382Z"
      },
      {
        "duration": 9,
        "start_time": "2022-12-11T10:10:36.561Z"
      },
      {
        "duration": 5,
        "start_time": "2022-12-11T10:10:37.612Z"
      },
      {
        "duration": 15,
        "start_time": "2022-12-11T10:10:38.135Z"
      },
      {
        "duration": 6,
        "start_time": "2022-12-11T10:10:39.421Z"
      },
      {
        "duration": 46,
        "start_time": "2022-12-11T10:10:39.742Z"
      },
      {
        "duration": 28,
        "start_time": "2022-12-11T10:10:40.254Z"
      },
      {
        "duration": 38,
        "start_time": "2022-12-11T10:10:40.593Z"
      },
      {
        "duration": 96,
        "start_time": "2022-12-11T10:10:40.929Z"
      },
      {
        "duration": 82,
        "start_time": "2022-12-11T10:10:41.291Z"
      },
      {
        "duration": 78,
        "start_time": "2022-12-11T10:10:42.037Z"
      },
      {
        "duration": 57,
        "start_time": "2022-12-11T10:10:44.841Z"
      },
      {
        "duration": 14,
        "start_time": "2022-12-11T10:10:50.070Z"
      },
      {
        "duration": 66,
        "start_time": "2022-12-11T10:10:55.371Z"
      },
      {
        "duration": 16,
        "start_time": "2022-12-11T10:13:09.597Z"
      },
      {
        "duration": 5,
        "start_time": "2022-12-11T10:14:05.584Z"
      },
      {
        "duration": 13,
        "start_time": "2022-12-11T10:15:21.272Z"
      },
      {
        "duration": 11,
        "start_time": "2022-12-11T10:20:46.692Z"
      },
      {
        "duration": 17,
        "start_time": "2022-12-11T10:22:26.622Z"
      },
      {
        "duration": 14,
        "start_time": "2022-12-11T10:22:30.539Z"
      },
      {
        "duration": 20,
        "start_time": "2022-12-11T10:23:45.062Z"
      },
      {
        "duration": 4,
        "start_time": "2022-12-11T10:38:48.872Z"
      },
      {
        "duration": 7,
        "start_time": "2022-12-11T10:39:22.401Z"
      },
      {
        "duration": 4,
        "start_time": "2022-12-11T10:39:52.680Z"
      },
      {
        "duration": 5,
        "start_time": "2022-12-11T10:40:37.722Z"
      },
      {
        "duration": 4,
        "start_time": "2022-12-11T10:43:04.447Z"
      },
      {
        "duration": 5,
        "start_time": "2022-12-11T10:43:50.330Z"
      },
      {
        "duration": 6,
        "start_time": "2022-12-11T10:45:58.264Z"
      },
      {
        "duration": 5,
        "start_time": "2022-12-11T10:52:30.657Z"
      },
      {
        "duration": 5,
        "start_time": "2022-12-11T10:55:33.434Z"
      },
      {
        "duration": 8,
        "start_time": "2022-12-11T10:55:42.004Z"
      },
      {
        "duration": 11,
        "start_time": "2022-12-11T10:55:51.864Z"
      },
      {
        "duration": 8,
        "start_time": "2022-12-11T10:56:09.931Z"
      },
      {
        "duration": 3,
        "start_time": "2022-12-11T10:56:39.310Z"
      },
      {
        "duration": 75,
        "start_time": "2022-12-11T10:58:50.885Z"
      },
      {
        "duration": 5,
        "start_time": "2022-12-11T10:58:58.317Z"
      },
      {
        "duration": 111,
        "start_time": "2022-12-11T10:59:39.254Z"
      },
      {
        "duration": 5,
        "start_time": "2022-12-11T10:59:51.454Z"
      },
      {
        "duration": 67,
        "start_time": "2022-12-11T11:01:18.705Z"
      },
      {
        "duration": 4,
        "start_time": "2022-12-11T11:01:33.175Z"
      },
      {
        "duration": 7,
        "start_time": "2022-12-11T11:03:17.697Z"
      },
      {
        "duration": 79,
        "start_time": "2022-12-11T11:03:42.304Z"
      },
      {
        "duration": 3,
        "start_time": "2022-12-11T11:04:13.800Z"
      },
      {
        "duration": 215,
        "start_time": "2022-12-11T11:04:14.174Z"
      },
      {
        "duration": 11,
        "start_time": "2022-12-11T11:04:14.702Z"
      },
      {
        "duration": 39,
        "start_time": "2022-12-11T11:04:15.034Z"
      },
      {
        "duration": 10,
        "start_time": "2022-12-11T11:04:15.558Z"
      },
      {
        "duration": 6,
        "start_time": "2022-12-11T11:04:16.178Z"
      },
      {
        "duration": 10,
        "start_time": "2022-12-11T11:04:16.507Z"
      },
      {
        "duration": 6,
        "start_time": "2022-12-11T11:04:16.871Z"
      },
      {
        "duration": 33,
        "start_time": "2022-12-11T11:04:17.204Z"
      },
      {
        "duration": 28,
        "start_time": "2022-12-11T11:04:17.753Z"
      },
      {
        "duration": 33,
        "start_time": "2022-12-11T11:04:18.132Z"
      },
      {
        "duration": 84,
        "start_time": "2022-12-11T11:04:18.517Z"
      },
      {
        "duration": 84,
        "start_time": "2022-12-11T11:04:18.976Z"
      },
      {
        "duration": 98,
        "start_time": "2022-12-11T11:04:19.624Z"
      },
      {
        "duration": 74,
        "start_time": "2022-12-11T11:04:20.401Z"
      },
      {
        "duration": 16,
        "start_time": "2022-12-11T11:04:21.500Z"
      },
      {
        "duration": 43,
        "start_time": "2022-12-11T11:04:23.075Z"
      },
      {
        "duration": 18,
        "start_time": "2022-12-11T11:04:27.043Z"
      },
      {
        "duration": 13,
        "start_time": "2022-12-11T11:04:27.399Z"
      },
      {
        "duration": 4,
        "start_time": "2022-12-11T11:04:30.078Z"
      },
      {
        "duration": 80,
        "start_time": "2022-12-11T11:04:32.616Z"
      },
      {
        "duration": 78,
        "start_time": "2022-12-11T11:05:15.747Z"
      },
      {
        "duration": 66,
        "start_time": "2022-12-11T11:05:22.526Z"
      },
      {
        "duration": 71,
        "start_time": "2022-12-11T11:05:39.378Z"
      },
      {
        "duration": 7,
        "start_time": "2022-12-11T11:05:42.799Z"
      },
      {
        "duration": 9,
        "start_time": "2022-12-11T11:05:50.106Z"
      },
      {
        "duration": 7,
        "start_time": "2022-12-11T11:05:51.302Z"
      },
      {
        "duration": 7,
        "start_time": "2022-12-11T11:05:51.955Z"
      },
      {
        "duration": 8,
        "start_time": "2022-12-11T11:05:52.579Z"
      },
      {
        "duration": 77,
        "start_time": "2022-12-11T11:06:06.015Z"
      },
      {
        "duration": 18,
        "start_time": "2022-12-11T11:06:15.201Z"
      },
      {
        "duration": 77,
        "start_time": "2022-12-11T11:06:33.135Z"
      },
      {
        "duration": 19,
        "start_time": "2022-12-11T11:06:40.670Z"
      },
      {
        "duration": 12,
        "start_time": "2022-12-11T11:07:49.409Z"
      },
      {
        "duration": 13,
        "start_time": "2022-12-11T11:07:50.157Z"
      },
      {
        "duration": 17,
        "start_time": "2022-12-11T11:08:06.742Z"
      },
      {
        "duration": 15,
        "start_time": "2022-12-11T11:08:09.653Z"
      },
      {
        "duration": 13,
        "start_time": "2022-12-11T11:08:11.785Z"
      },
      {
        "duration": 5,
        "start_time": "2022-12-11T11:10:26.036Z"
      },
      {
        "duration": 13,
        "start_time": "2022-12-11T11:11:22.663Z"
      },
      {
        "duration": 13,
        "start_time": "2022-12-11T11:11:24.137Z"
      },
      {
        "duration": 14,
        "start_time": "2022-12-11T11:11:24.826Z"
      },
      {
        "duration": 27,
        "start_time": "2022-12-11T11:11:25.351Z"
      },
      {
        "duration": 18,
        "start_time": "2022-12-11T11:11:25.865Z"
      },
      {
        "duration": 14,
        "start_time": "2022-12-11T11:11:26.533Z"
      },
      {
        "duration": 12,
        "start_time": "2022-12-11T11:12:44.956Z"
      },
      {
        "duration": 4,
        "start_time": "2022-12-11T11:14:39.812Z"
      },
      {
        "duration": 232,
        "start_time": "2022-12-11T11:14:40.156Z"
      },
      {
        "duration": 29,
        "start_time": "2022-12-11T11:14:40.547Z"
      },
      {
        "duration": 52,
        "start_time": "2022-12-11T11:14:40.847Z"
      },
      {
        "duration": 6,
        "start_time": "2022-12-11T11:14:41.374Z"
      },
      {
        "duration": 5,
        "start_time": "2022-12-11T11:14:42.285Z"
      },
      {
        "duration": 11,
        "start_time": "2022-12-11T11:14:42.658Z"
      },
      {
        "duration": 5,
        "start_time": "2022-12-11T11:14:43.006Z"
      },
      {
        "duration": 32,
        "start_time": "2022-12-11T11:14:43.369Z"
      },
      {
        "duration": 32,
        "start_time": "2022-12-11T11:14:43.896Z"
      },
      {
        "duration": 46,
        "start_time": "2022-12-11T11:14:44.275Z"
      },
      {
        "duration": 75,
        "start_time": "2022-12-11T11:14:44.605Z"
      },
      {
        "duration": 77,
        "start_time": "2022-12-11T11:14:44.980Z"
      },
      {
        "duration": 72,
        "start_time": "2022-12-11T11:14:45.539Z"
      },
      {
        "duration": 44,
        "start_time": "2022-12-11T11:14:46.085Z"
      },
      {
        "duration": 12,
        "start_time": "2022-12-11T11:14:46.505Z"
      },
      {
        "duration": 49,
        "start_time": "2022-12-11T11:14:46.952Z"
      },
      {
        "duration": 13,
        "start_time": "2022-12-11T11:14:48.515Z"
      },
      {
        "duration": 21,
        "start_time": "2022-12-11T11:14:49.055Z"
      },
      {
        "duration": 5,
        "start_time": "2022-12-11T11:14:51.254Z"
      },
      {
        "duration": 13,
        "start_time": "2022-12-11T11:14:53.008Z"
      },
      {
        "duration": 12,
        "start_time": "2022-12-11T11:14:53.816Z"
      },
      {
        "duration": 13,
        "start_time": "2022-12-11T11:14:54.566Z"
      },
      {
        "duration": 12,
        "start_time": "2022-12-11T11:14:55.433Z"
      },
      {
        "duration": 12,
        "start_time": "2022-12-11T11:14:56.276Z"
      },
      {
        "duration": 14,
        "start_time": "2022-12-11T11:14:57.956Z"
      },
      {
        "duration": 12,
        "start_time": "2022-12-11T11:17:11.090Z"
      },
      {
        "duration": 12,
        "start_time": "2022-12-11T11:17:50.128Z"
      },
      {
        "duration": 3,
        "start_time": "2022-12-11T11:18:09.539Z"
      },
      {
        "duration": 8,
        "start_time": "2022-12-11T11:18:25.393Z"
      },
      {
        "duration": 13,
        "start_time": "2022-12-11T11:19:17.805Z"
      },
      {
        "duration": 4,
        "start_time": "2022-12-11T11:21:15.420Z"
      },
      {
        "duration": 8,
        "start_time": "2022-12-11T11:22:31.676Z"
      },
      {
        "duration": 12,
        "start_time": "2022-12-11T11:22:41.942Z"
      },
      {
        "duration": 3,
        "start_time": "2022-12-11T11:23:31.697Z"
      },
      {
        "duration": 19,
        "start_time": "2022-12-11T11:23:35.474Z"
      },
      {
        "duration": 22,
        "start_time": "2022-12-11T11:23:49.406Z"
      },
      {
        "duration": 18,
        "start_time": "2022-12-11T11:23:50.600Z"
      },
      {
        "duration": 23,
        "start_time": "2022-12-11T11:23:51.293Z"
      },
      {
        "duration": 16,
        "start_time": "2022-12-11T11:23:51.896Z"
      },
      {
        "duration": 19,
        "start_time": "2022-12-11T11:23:52.594Z"
      },
      {
        "duration": 15,
        "start_time": "2022-12-11T11:23:53.220Z"
      },
      {
        "duration": 2,
        "start_time": "2022-12-11T11:24:18.747Z"
      },
      {
        "duration": 220,
        "start_time": "2022-12-11T11:24:19.249Z"
      },
      {
        "duration": 14,
        "start_time": "2022-12-11T11:24:19.708Z"
      },
      {
        "duration": 31,
        "start_time": "2022-12-11T11:24:20.400Z"
      },
      {
        "duration": 4,
        "start_time": "2022-12-11T11:24:21.006Z"
      },
      {
        "duration": 3,
        "start_time": "2022-12-11T11:24:21.986Z"
      },
      {
        "duration": 6,
        "start_time": "2022-12-11T11:24:22.495Z"
      },
      {
        "duration": 5,
        "start_time": "2022-12-11T11:24:22.966Z"
      },
      {
        "duration": 32,
        "start_time": "2022-12-11T11:24:23.507Z"
      },
      {
        "duration": 31,
        "start_time": "2022-12-11T11:24:24.287Z"
      },
      {
        "duration": 44,
        "start_time": "2022-12-11T11:24:24.816Z"
      },
      {
        "duration": 100,
        "start_time": "2022-12-11T11:24:25.320Z"
      },
      {
        "duration": 82,
        "start_time": "2022-12-11T11:24:25.877Z"
      },
      {
        "duration": 61,
        "start_time": "2022-12-11T11:24:26.487Z"
      },
      {
        "duration": 55,
        "start_time": "2022-12-11T11:24:27.442Z"
      },
      {
        "duration": 30,
        "start_time": "2022-12-11T11:24:28.937Z"
      },
      {
        "duration": 44,
        "start_time": "2022-12-11T11:24:30.377Z"
      },
      {
        "duration": 13,
        "start_time": "2022-12-11T11:24:34.628Z"
      },
      {
        "duration": 20,
        "start_time": "2022-12-11T11:24:36.748Z"
      },
      {
        "duration": 4,
        "start_time": "2022-12-11T11:24:39.437Z"
      },
      {
        "duration": 17,
        "start_time": "2022-12-11T11:24:41.007Z"
      },
      {
        "duration": 18,
        "start_time": "2022-12-11T11:24:41.660Z"
      },
      {
        "duration": 17,
        "start_time": "2022-12-11T11:24:42.277Z"
      },
      {
        "duration": 14,
        "start_time": "2022-12-11T11:24:42.897Z"
      },
      {
        "duration": 20,
        "start_time": "2022-12-11T11:24:43.716Z"
      },
      {
        "duration": 15,
        "start_time": "2022-12-11T11:24:46.418Z"
      },
      {
        "duration": 25,
        "start_time": "2022-12-11T11:30:58.508Z"
      },
      {
        "duration": 16,
        "start_time": "2022-12-11T11:30:59.509Z"
      },
      {
        "duration": 24,
        "start_time": "2022-12-11T11:31:00.209Z"
      },
      {
        "duration": 3,
        "start_time": "2022-12-11T11:38:42.408Z"
      },
      {
        "duration": 199,
        "start_time": "2022-12-11T11:38:42.829Z"
      },
      {
        "duration": 12,
        "start_time": "2022-12-11T11:38:43.220Z"
      },
      {
        "duration": 48,
        "start_time": "2022-12-11T11:38:43.657Z"
      },
      {
        "duration": 4,
        "start_time": "2022-12-11T11:38:46.788Z"
      },
      {
        "duration": 4,
        "start_time": "2022-12-11T11:38:51.192Z"
      },
      {
        "duration": 13,
        "start_time": "2022-12-11T11:38:53.270Z"
      },
      {
        "duration": 5,
        "start_time": "2022-12-11T11:38:54.539Z"
      },
      {
        "duration": 32,
        "start_time": "2022-12-11T11:38:55.976Z"
      },
      {
        "duration": 32,
        "start_time": "2022-12-11T11:38:57.636Z"
      },
      {
        "duration": 48,
        "start_time": "2022-12-11T11:38:58.738Z"
      },
      {
        "duration": 89,
        "start_time": "2022-12-11T11:38:59.976Z"
      },
      {
        "duration": 91,
        "start_time": "2022-12-11T11:39:01.239Z"
      },
      {
        "duration": 99,
        "start_time": "2022-12-11T11:39:02.376Z"
      },
      {
        "duration": 56,
        "start_time": "2022-12-11T11:39:04.623Z"
      },
      {
        "duration": 13,
        "start_time": "2022-12-11T11:39:06.505Z"
      },
      {
        "duration": 78,
        "start_time": "2022-12-11T11:39:08.415Z"
      },
      {
        "duration": 14,
        "start_time": "2022-12-11T11:39:13.818Z"
      },
      {
        "duration": 22,
        "start_time": "2022-12-11T11:39:17.165Z"
      },
      {
        "duration": 5,
        "start_time": "2022-12-11T11:39:21.337Z"
      },
      {
        "duration": 17,
        "start_time": "2022-12-11T11:39:24.687Z"
      },
      {
        "duration": 15,
        "start_time": "2022-12-11T11:39:25.832Z"
      },
      {
        "duration": 19,
        "start_time": "2022-12-11T11:39:26.667Z"
      },
      {
        "duration": 18,
        "start_time": "2022-12-11T11:39:27.642Z"
      },
      {
        "duration": 25,
        "start_time": "2022-12-11T11:39:28.925Z"
      },
      {
        "duration": 23,
        "start_time": "2022-12-11T11:39:30.489Z"
      },
      {
        "duration": 5,
        "start_time": "2022-12-11T11:41:13.322Z"
      },
      {
        "duration": 26,
        "start_time": "2022-12-11T11:41:15.184Z"
      },
      {
        "duration": 16,
        "start_time": "2022-12-11T11:41:15.969Z"
      },
      {
        "duration": 25,
        "start_time": "2022-12-11T11:41:16.639Z"
      },
      {
        "duration": 23,
        "start_time": "2022-12-11T11:41:17.630Z"
      },
      {
        "duration": 26,
        "start_time": "2022-12-11T11:41:19.071Z"
      },
      {
        "duration": 17,
        "start_time": "2022-12-11T11:41:25.068Z"
      },
      {
        "duration": 3,
        "start_time": "2022-12-11T11:41:48.861Z"
      },
      {
        "duration": 213,
        "start_time": "2022-12-11T11:41:49.169Z"
      },
      {
        "duration": 13,
        "start_time": "2022-12-11T11:41:49.441Z"
      },
      {
        "duration": 44,
        "start_time": "2022-12-11T11:41:49.794Z"
      },
      {
        "duration": 5,
        "start_time": "2022-12-11T11:41:50.245Z"
      },
      {
        "duration": 5,
        "start_time": "2022-12-11T11:41:50.823Z"
      },
      {
        "duration": 17,
        "start_time": "2022-12-11T11:41:51.308Z"
      },
      {
        "duration": 5,
        "start_time": "2022-12-11T11:41:51.657Z"
      },
      {
        "duration": 46,
        "start_time": "2022-12-11T11:41:51.993Z"
      },
      {
        "duration": 22,
        "start_time": "2022-12-11T11:41:52.482Z"
      },
      {
        "duration": 26,
        "start_time": "2022-12-11T11:41:52.804Z"
      },
      {
        "duration": 70,
        "start_time": "2022-12-11T11:41:53.119Z"
      },
      {
        "duration": 89,
        "start_time": "2022-12-11T11:41:53.434Z"
      },
      {
        "duration": 78,
        "start_time": "2022-12-11T11:41:53.763Z"
      },
      {
        "duration": 46,
        "start_time": "2022-12-11T11:41:54.222Z"
      },
      {
        "duration": 12,
        "start_time": "2022-12-11T11:41:54.541Z"
      },
      {
        "duration": 73,
        "start_time": "2022-12-11T11:41:54.839Z"
      },
      {
        "duration": 19,
        "start_time": "2022-12-11T11:41:57.417Z"
      },
      {
        "duration": 19,
        "start_time": "2022-12-11T11:41:57.761Z"
      },
      {
        "duration": 6,
        "start_time": "2022-12-11T11:42:00.059Z"
      },
      {
        "duration": 24,
        "start_time": "2022-12-11T11:42:01.479Z"
      },
      {
        "duration": 22,
        "start_time": "2022-12-11T11:42:02.089Z"
      },
      {
        "duration": 24,
        "start_time": "2022-12-11T11:42:02.859Z"
      },
      {
        "duration": 20,
        "start_time": "2022-12-11T11:42:03.850Z"
      },
      {
        "duration": 18,
        "start_time": "2022-12-11T11:42:04.604Z"
      },
      {
        "duration": 18,
        "start_time": "2022-12-11T11:42:05.454Z"
      },
      {
        "duration": 4,
        "start_time": "2022-12-11T11:43:39.715Z"
      },
      {
        "duration": 17,
        "start_time": "2022-12-11T11:43:41.165Z"
      },
      {
        "duration": 22,
        "start_time": "2022-12-11T11:43:41.574Z"
      },
      {
        "duration": 18,
        "start_time": "2022-12-11T11:43:42.179Z"
      },
      {
        "duration": 15,
        "start_time": "2022-12-11T11:43:42.677Z"
      },
      {
        "duration": 17,
        "start_time": "2022-12-11T11:43:43.820Z"
      },
      {
        "duration": 15,
        "start_time": "2022-12-11T11:43:44.803Z"
      },
      {
        "duration": 11,
        "start_time": "2022-12-11T11:51:09.338Z"
      },
      {
        "duration": 1150,
        "start_time": "2022-12-11T11:55:20.774Z"
      },
      {
        "duration": 11,
        "start_time": "2022-12-11T11:55:35.205Z"
      },
      {
        "duration": 1271,
        "start_time": "2022-12-11T11:55:39.559Z"
      },
      {
        "duration": 9,
        "start_time": "2022-12-11T11:56:17.795Z"
      },
      {
        "duration": 4,
        "start_time": "2022-12-11T11:56:20.889Z"
      },
      {
        "duration": 4,
        "start_time": "2022-12-11T11:56:22.415Z"
      },
      {
        "duration": 17,
        "start_time": "2022-12-11T11:56:33.217Z"
      },
      {
        "duration": 10,
        "start_time": "2022-12-11T11:56:34.035Z"
      },
      {
        "duration": 22,
        "start_time": "2022-12-11T12:14:20.699Z"
      },
      {
        "duration": 21,
        "start_time": "2022-12-11T12:14:21.443Z"
      },
      {
        "duration": 15,
        "start_time": "2022-12-11T12:31:22.650Z"
      },
      {
        "duration": 23,
        "start_time": "2022-12-11T12:35:06.110Z"
      },
      {
        "duration": 6,
        "start_time": "2022-12-11T12:35:07.049Z"
      },
      {
        "duration": 1532,
        "start_time": "2022-12-11T12:35:07.576Z"
      },
      {
        "duration": 0,
        "start_time": "2022-12-11T12:35:09.110Z"
      },
      {
        "duration": 23,
        "start_time": "2022-12-11T12:35:25.111Z"
      },
      {
        "duration": 5,
        "start_time": "2022-12-11T12:35:25.970Z"
      },
      {
        "duration": 19,
        "start_time": "2022-12-11T12:35:34.669Z"
      },
      {
        "duration": 91,
        "start_time": "2022-12-11T12:35:35.425Z"
      },
      {
        "duration": 116,
        "start_time": "2022-12-11T12:35:44.802Z"
      },
      {
        "duration": 18,
        "start_time": "2022-12-11T12:36:42.410Z"
      },
      {
        "duration": 13,
        "start_time": "2022-12-11T12:36:43.033Z"
      },
      {
        "duration": 22,
        "start_time": "2022-12-11T12:36:43.614Z"
      },
      {
        "duration": 13,
        "start_time": "2022-12-11T12:36:44.590Z"
      },
      {
        "duration": 11,
        "start_time": "2022-12-11T12:41:42.161Z"
      },
      {
        "duration": 11,
        "start_time": "2022-12-11T12:42:09.821Z"
      },
      {
        "duration": 19,
        "start_time": "2022-12-11T12:42:18.150Z"
      },
      {
        "duration": 13,
        "start_time": "2022-12-11T12:42:18.733Z"
      },
      {
        "duration": 21,
        "start_time": "2022-12-11T12:42:20.614Z"
      },
      {
        "duration": 14,
        "start_time": "2022-12-11T12:42:21.177Z"
      },
      {
        "duration": 9,
        "start_time": "2022-12-11T12:42:24.102Z"
      },
      {
        "duration": 10,
        "start_time": "2022-12-11T12:42:51.911Z"
      },
      {
        "duration": 10,
        "start_time": "2022-12-11T12:44:38.327Z"
      },
      {
        "duration": 14,
        "start_time": "2022-12-11T12:44:49.112Z"
      },
      {
        "duration": 11,
        "start_time": "2022-12-11T12:44:49.252Z"
      },
      {
        "duration": 6,
        "start_time": "2022-12-11T12:44:49.574Z"
      },
      {
        "duration": 19,
        "start_time": "2022-12-11T12:44:50.840Z"
      },
      {
        "duration": 12,
        "start_time": "2022-12-11T12:44:51.342Z"
      },
      {
        "duration": 21,
        "start_time": "2022-12-11T12:44:51.840Z"
      },
      {
        "duration": 13,
        "start_time": "2022-12-11T12:44:52.361Z"
      },
      {
        "duration": 11,
        "start_time": "2022-12-11T12:44:55.521Z"
      },
      {
        "duration": 12,
        "start_time": "2022-12-11T12:45:59.199Z"
      },
      {
        "duration": 14,
        "start_time": "2022-12-11T12:48:39.478Z"
      },
      {
        "duration": 14,
        "start_time": "2022-12-11T12:48:39.646Z"
      },
      {
        "duration": 5,
        "start_time": "2022-12-11T12:48:40.138Z"
      },
      {
        "duration": 27,
        "start_time": "2022-12-11T12:48:40.481Z"
      },
      {
        "duration": 13,
        "start_time": "2022-12-11T12:48:40.952Z"
      },
      {
        "duration": 20,
        "start_time": "2022-12-11T12:48:41.141Z"
      },
      {
        "duration": 14,
        "start_time": "2022-12-11T12:48:41.771Z"
      },
      {
        "duration": 9,
        "start_time": "2022-12-11T12:48:44.727Z"
      },
      {
        "duration": 7,
        "start_time": "2022-12-11T12:49:34.721Z"
      },
      {
        "duration": 7,
        "start_time": "2022-12-11T12:50:28.490Z"
      },
      {
        "duration": 5,
        "start_time": "2022-12-11T12:51:40.212Z"
      },
      {
        "duration": 34,
        "start_time": "2023-05-19T11:14:07.169Z"
      }
    ],
    "colab": {
      "collapsed_sections": [
        "E0vqbgi9ay0H",
        "VUC88oWjTJw2"
      ],
      "provenance": [],
      "include_colab_link": true
    },
    "kernelspec": {
      "display_name": "Python 3 (ipykernel)",
      "language": "python",
      "name": "python3"
    },
    "language_info": {
      "codemirror_mode": {
        "name": "ipython",
        "version": 3
      },
      "file_extension": ".py",
      "mimetype": "text/x-python",
      "name": "python",
      "nbconvert_exporter": "python",
      "pygments_lexer": "ipython3",
      "version": "3.9.5"
    },
    "toc": {
      "base_numbering": 1,
      "nav_menu": {
        "height": "215px",
        "width": "403px"
      },
      "number_sections": true,
      "sideBar": true,
      "skip_h1_title": true,
      "title_cell": "Table of Contents",
      "title_sidebar": "Contents",
      "toc_cell": false,
      "toc_position": {
        "height": "calc(100% - 180px)",
        "left": "10px",
        "top": "150px",
        "width": "285.825px"
      },
      "toc_section_display": true,
      "toc_window_display": false
    }
  },
  "nbformat": 4,
  "nbformat_minor": 0
}
